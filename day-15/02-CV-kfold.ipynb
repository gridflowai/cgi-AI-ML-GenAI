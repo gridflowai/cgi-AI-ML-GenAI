{
 "cells": [
  {
   "cell_type": "markdown",
   "id": "b6fb0648-d26d-4a57-8c6d-461321c4e5d7",
   "metadata": {},
   "source": [
    "#### Implementing K-Fold Cross-Validation"
   ]
  },
  {
   "cell_type": "code",
   "execution_count": 9,
   "id": "ddefe936-0b4c-4163-bd49-454745ff5e92",
   "metadata": {},
   "outputs": [],
   "source": [
    "import numpy as np\n",
    "from sklearn.datasets import make_classification\n",
    "\n",
    "# Generate random data for classification\n",
    "X, y = make_classification(n_samples=1000, n_features=20, n_classes=2, random_state=42)\n"
   ]
  },
  {
   "cell_type": "code",
   "execution_count": 10,
   "id": "71a1f545-9125-4963-9f50-8e253d1ecce6",
   "metadata": {},
   "outputs": [],
   "source": [
    "from tensorflow.keras.models import Sequential\n",
    "from tensorflow.keras.layers import Dense\n",
    "\n",
    "def create_model():\n",
    "    model = Sequential()\n",
    "    model.add(Dense(64, input_dim=20, activation='relu'))\n",
    "    model.add(Dense(32, activation='relu'))\n",
    "    model.add(Dense(1, activation='sigmoid'))\n",
    "    model.compile(optimizer='adam', loss='binary_crossentropy', metrics=['accuracy'])\n",
    "    return model\n"
   ]
  },
  {
   "cell_type": "code",
   "execution_count": 11,
   "id": "056701bf-158f-46fb-a58b-6cf826019c89",
   "metadata": {},
   "outputs": [
    {
     "name": "stdout",
     "output_type": "stream",
     "text": [
      "Fold 1 - Validation Loss: 0.2516346871852875 - Validation Accuracy: 0.9100000262260437\n",
      "Fold 2 - Validation Loss: 0.2893587648868561 - Validation Accuracy: 0.9100000262260437\n",
      "Fold 3 - Validation Loss: 0.33385586738586426 - Validation Accuracy: 0.8700000047683716\n",
      "Fold 4 - Validation Loss: 0.42287304997444153 - Validation Accuracy: 0.8199999928474426\n",
      "Fold 5 - Validation Loss: 0.4053663909435272 - Validation Accuracy: 0.8399999737739563\n",
      "Mean Accuracy: 0.8700000047683716\n",
      "Standard Deviation of Accuracy: 0.03633182209850581\n"
     ]
    }
   ],
   "source": [
    "from sklearn.model_selection import KFold\n",
    "\n",
    "# K-Fold Cross-Validation\n",
    "kf = KFold(n_splits=5)\n",
    "fold_no = 1\n",
    "accuracies = []\n",
    "\n",
    "for train_index, val_index in kf.split(X):\n",
    "    model = create_model()\n",
    "    X_train, X_val = X[train_index], X[val_index]\n",
    "    y_train, y_val = y[train_index], y[val_index]\n",
    "    \n",
    "    model.fit(X_train, y_train, epochs=10, batch_size=32, verbose=0)\n",
    "    scores = model.evaluate(X_val, y_val, verbose=0)\n",
    "    \n",
    "    print(f'Fold {fold_no} - Validation Loss: {scores[0]} - Validation Accuracy: {scores[1]}')\n",
    "    accuracies.append(scores[1])\n",
    "    fold_no += 1\n",
    "\n",
    "print(f'Mean Accuracy: {np.mean(accuracies)}')\n",
    "print(f'Standard Deviation of Accuracy: {np.std(accuracies)}')\n"
   ]
  },
  {
   "cell_type": "markdown",
   "id": "3d75ca14-859b-4411-b221-9dc9f2773550",
   "metadata": {},
   "source": [
    "#### Stratified K-Fold"
   ]
  },
  {
   "cell_type": "code",
   "execution_count": 13,
   "id": "37caec33-174f-41dd-afee-78df8635f3d8",
   "metadata": {},
   "outputs": [],
   "source": [
    "from sklearn.model_selection import StratifiedKFold"
   ]
  },
  {
   "cell_type": "code",
   "execution_count": 14,
   "id": "df3a8f8e-38e1-469a-ba7f-8f2d337e9cae",
   "metadata": {},
   "outputs": [
    {
     "name": "stdout",
     "output_type": "stream",
     "text": [
      "Fold 1 - Validation Loss: 0.262680321931839 - Validation Accuracy: 0.8799999952316284\n",
      "Fold 2 - Validation Loss: 0.2865836024284363 - Validation Accuracy: 0.8999999761581421\n",
      "Fold 3 - Validation Loss: 0.3578592538833618 - Validation Accuracy: 0.8700000047683716\n",
      "Fold 4 - Validation Loss: 0.37409430742263794 - Validation Accuracy: 0.824999988079071\n",
      "Fold 5 - Validation Loss: 0.40391048789024353 - Validation Accuracy: 0.8650000095367432\n",
      "Mean Accuracy: 0.8679999947547913\n",
      "Standard Deviation of Accuracy: 0.024617064596469673\n"
     ]
    }
   ],
   "source": [
    "# Stratified K-Fold Cross-Validation\n",
    "skf = StratifiedKFold(n_splits=5)\n",
    "fold_no = 1\n",
    "accuracies = []\n",
    "\n",
    "for train_index, val_index in skf.split(X, y):\n",
    "    model = create_model()\n",
    "    X_train, X_val = X[train_index], X[val_index]\n",
    "    y_train, y_val = y[train_index], y[val_index]\n",
    "    \n",
    "    model.fit(X_train, y_train, epochs=10, batch_size=32, verbose=0)\n",
    "    scores = model.evaluate(X_val, y_val, verbose=0)\n",
    "    \n",
    "    print(f'Fold {fold_no} - Validation Loss: {scores[0]} - Validation Accuracy: {scores[1]}')\n",
    "    accuracies.append(scores[1])\n",
    "    fold_no += 1\n",
    "\n",
    "print(f'Mean Accuracy: {np.mean(accuracies)}')\n",
    "print(f'Standard Deviation of Accuracy: {np.std(accuracies)}')"
   ]
  },
  {
   "cell_type": "markdown",
   "id": "00bfdf2b-6e48-4e8e-8bc8-086d295588f9",
   "metadata": {},
   "source": [
    "#### ShuffleSplit"
   ]
  },
  {
   "cell_type": "code",
   "execution_count": 16,
   "id": "9689dc6d-0c93-4c01-86c2-6e01cd549b7c",
   "metadata": {},
   "outputs": [],
   "source": [
    "from sklearn.model_selection import ShuffleSplit"
   ]
  },
  {
   "cell_type": "code",
   "execution_count": 17,
   "id": "426db94e-be3e-4457-b55a-1dbda0475ed9",
   "metadata": {},
   "outputs": [
    {
     "name": "stdout",
     "output_type": "stream",
     "text": [
      "Fold 1 - Validation Loss: 0.38954320549964905 - Validation Accuracy: 0.8433333039283752\n",
      "Fold 2 - Validation Loss: 0.2910842001438141 - Validation Accuracy: 0.8899999856948853\n",
      "Fold 3 - Validation Loss: 0.36425572633743286 - Validation Accuracy: 0.8366666436195374\n",
      "Fold 4 - Validation Loss: 0.36514753103256226 - Validation Accuracy: 0.8266666531562805\n",
      "Fold 5 - Validation Loss: 0.32823190093040466 - Validation Accuracy: 0.8799999952316284\n",
      "Mean Accuracy: 0.8553333163261414\n",
      "Standard Deviation of Accuracy: 0.02499778213411933\n"
     ]
    }
   ],
   "source": [
    "# Shuffle Split Cross-Validation\n",
    "shuffle_split = ShuffleSplit(n_splits=5, test_size=0.3, random_state=42)\n",
    "fold_no = 1\n",
    "accuracies = []\n",
    "\n",
    "for train_index, val_index in shuffle_split.split(X):\n",
    "    model = create_model()\n",
    "    X_train, X_val = X[train_index], X[val_index]\n",
    "    y_train, y_val = y[train_index], y[val_index]\n",
    "    \n",
    "    model.fit(X_train, y_train, epochs=10, batch_size=32, verbose=0)\n",
    "    scores = model.evaluate(X_val, y_val, verbose=0)\n",
    "    \n",
    "    print(f'Fold {fold_no} - Validation Loss: {scores[0]} - Validation Accuracy: {scores[1]}')\n",
    "    accuracies.append(scores[1])\n",
    "    fold_no += 1\n",
    "\n",
    "print(f'Mean Accuracy: {np.mean(accuracies)}')\n",
    "print(f'Standard Deviation of Accuracy: {np.std(accuracies)}')"
   ]
  },
  {
   "cell_type": "code",
   "execution_count": null,
   "id": "1db1a342-2fa7-4516-9d72-7110d98c3792",
   "metadata": {},
   "outputs": [],
   "source": []
  }
 ],
 "metadata": {
  "kernelspec": {
   "display_name": "Python 3 (ipykernel)",
   "language": "python",
   "name": "python3"
  },
  "language_info": {
   "codemirror_mode": {
    "name": "ipython",
    "version": 3
   },
   "file_extension": ".py",
   "mimetype": "text/x-python",
   "name": "python",
   "nbconvert_exporter": "python",
   "pygments_lexer": "ipython3",
   "version": "3.9.13"
  }
 },
 "nbformat": 4,
 "nbformat_minor": 5
}
