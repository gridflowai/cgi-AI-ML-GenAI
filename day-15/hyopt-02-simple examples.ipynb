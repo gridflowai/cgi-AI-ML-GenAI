{
 "cells": [
  {
   "cell_type": "markdown",
   "id": "32ecfb91-542e-4967-a923-5c07ceefcc7e",
   "metadata": {},
   "source": [
    "#### 1. Manual Tuning\n",
    "This is the simplest but most labor-intensive method. You manually change the hyperparameters and observe the results."
   ]
  },
  {
   "cell_type": "code",
   "execution_count": 1,
   "id": "1b0fd7b5-7c2b-4932-b4ea-3dad538749c7",
   "metadata": {},
   "outputs": [
    {
     "name": "stderr",
     "output_type": "stream",
     "text": [
      "D:\\Anaconda-16-FEB\\lib\\site-packages\\pandas\\core\\computation\\expressions.py:21: UserWarning: Pandas requires version '2.8.4' or newer of 'numexpr' (version '2.8.3' currently installed).\n",
      "  from pandas.core.computation.check import NUMEXPR_INSTALLED\n",
      "D:\\Anaconda-16-FEB\\lib\\site-packages\\pandas\\core\\arrays\\masked.py:60: UserWarning: Pandas requires version '1.3.6' or newer of 'bottleneck' (version '1.3.5' currently installed).\n",
      "  from pandas.core import (\n"
     ]
    }
   ],
   "source": [
    "from keras.models import Sequential\n",
    "from keras.layers import Dense, Dropout\n",
    "from keras.optimizers import Adam"
   ]
  },
  {
   "cell_type": "code",
   "execution_count": 2,
   "id": "bb531f96-6169-48cd-8fdf-e63335039f94",
   "metadata": {},
   "outputs": [],
   "source": [
    "# Create a simple model\n",
    "def create_model(learning_rate=0.001, dropout_rate=0.5):\n",
    "    model = Sequential()\n",
    "    model.add(Dense(64, input_shape=(input_dim,), activation='relu'))  # Replace `input_dim` with your input feature dimension\n",
    "    model.add(Dropout(dropout_rate))\n",
    "    model.add(Dense(32, activation='relu'))\n",
    "    model.add(Dropout(dropout_rate))\n",
    "    model.add(Dense(num_classes, activation='softmax'))  # Replace `num_classes` with the number of output classes\n",
    "    \n",
    "    optimizer = Adam(learning_rate=learning_rate)\n",
    "    model.compile(optimizer=optimizer, loss='sparse_categorical_crossentropy', metrics=['accuracy'])\n",
    "    return model"
   ]
  },
  {
   "cell_type": "code",
   "execution_count": null,
   "id": "6eafb298-5995-4362-8488-120e997ec39a",
   "metadata": {},
   "outputs": [],
   "source": [
    "# Example of training the model\n",
    "model = create_model(learning_rate=0.01, dropout_rate=0.3)\n",
    "model.fit(X_train, y_train, epochs=10, batch_size=32, validation_split=0.2)"
   ]
  },
  {
   "cell_type": "markdown",
   "id": "d86242aa-c67b-4cd4-86db-bd57fa61d6f1",
   "metadata": {},
   "source": [
    "#### 2. Grid Search with Keras Tuner\n",
    "Keras Tuner is a library specifically for hyperparameter tuning with Keras. It supports grid search, random search, and Bayesian optimization."
   ]
  },
  {
   "cell_type": "code",
   "execution_count": 3,
   "id": "23374cb3-688d-489c-829b-39795f1293ba",
   "metadata": {},
   "outputs": [
    {
     "name": "stdout",
     "output_type": "stream",
     "text": [
      "Collecting keras-tunerNote: you may need to restart the kernel to use updated packages.\n",
      "\n",
      "  Downloading keras_tuner-1.4.7-py3-none-any.whl (129 kB)\n",
      "     -------------------------------------- 129.1/129.1 kB 2.5 MB/s eta 0:00:00\n",
      "Requirement already satisfied: requests in c:\\users\\bhupe\\appdata\\roaming\\python\\python39\\site-packages (from keras-tuner) (2.31.0)\n",
      "Collecting kt-legacy\n",
      "  Downloading kt_legacy-1.0.5-py3-none-any.whl (9.6 kB)\n",
      "Requirement already satisfied: keras in c:\\users\\bhupe\\appdata\\roaming\\python\\python39\\site-packages (from keras-tuner) (2.12.0)\n",
      "Requirement already satisfied: packaging in d:\\anaconda-16-feb\\lib\\site-packages (from keras-tuner) (24.1)\n",
      "Requirement already satisfied: idna<4,>=2.5 in c:\\users\\bhupe\\appdata\\roaming\\python\\python39\\site-packages (from requests->keras-tuner) (3.4)\n",
      "Requirement already satisfied: urllib3<3,>=1.21.1 in d:\\anaconda-16-feb\\lib\\site-packages (from requests->keras-tuner) (1.26.19)\n",
      "Requirement already satisfied: certifi>=2017.4.17 in d:\\anaconda-16-feb\\lib\\site-packages (from requests->keras-tuner) (2024.7.4)\n",
      "Requirement already satisfied: charset-normalizer<4,>=2 in d:\\anaconda-16-feb\\lib\\site-packages (from requests->keras-tuner) (2.0.12)\n",
      "Installing collected packages: kt-legacy, keras-tuner\n",
      "Successfully installed keras-tuner-1.4.7 kt-legacy-1.0.5\n"
     ]
    },
    {
     "name": "stderr",
     "output_type": "stream",
     "text": [
      "WARNING: Ignoring invalid distribution -rotobuf (c:\\users\\bhupe\\appdata\\roaming\\python\\python39\\site-packages)\n",
      "WARNING: Ignoring invalid distribution -treamlit (d:\\anaconda-16-feb\\lib\\site-packages)\n",
      "WARNING: Ignoring invalid distribution - (d:\\anaconda-16-feb\\lib\\site-packages)\n",
      "WARNING: Ignoring invalid distribution -rotobuf (c:\\users\\bhupe\\appdata\\roaming\\python\\python39\\site-packages)\n",
      "WARNING: Ignoring invalid distribution -treamlit (d:\\anaconda-16-feb\\lib\\site-packages)\n",
      "WARNING: Ignoring invalid distribution - (d:\\anaconda-16-feb\\lib\\site-packages)\n",
      "WARNING: Ignoring invalid distribution -rotobuf (c:\\users\\bhupe\\appdata\\roaming\\python\\python39\\site-packages)\n",
      "WARNING: Ignoring invalid distribution -treamlit (d:\\anaconda-16-feb\\lib\\site-packages)\n",
      "WARNING: Ignoring invalid distribution - (d:\\anaconda-16-feb\\lib\\site-packages)\n",
      "WARNING: Ignoring invalid distribution -treamlit (d:\\anaconda-16-feb\\lib\\site-packages)\n",
      "WARNING: Ignoring invalid distribution -rotobuf (d:\\anaconda-16-feb\\lib\\site-packages)\n",
      "WARNING: Ignoring invalid distribution - (d:\\anaconda-16-feb\\lib\\site-packages)\n",
      "WARNING: Ignoring invalid distribution -treamlit (d:\\anaconda-16-feb\\lib\\site-packages)\n",
      "WARNING: Ignoring invalid distribution -rotobuf (d:\\anaconda-16-feb\\lib\\site-packages)\n",
      "WARNING: Ignoring invalid distribution - (d:\\anaconda-16-feb\\lib\\site-packages)\n",
      "WARNING: Ignoring invalid distribution -rotobuf (c:\\users\\bhupe\\appdata\\roaming\\python\\python39\\site-packages)\n",
      "WARNING: Ignoring invalid distribution -treamlit (d:\\anaconda-16-feb\\lib\\site-packages)\n",
      "WARNING: Ignoring invalid distribution - (d:\\anaconda-16-feb\\lib\\site-packages)\n",
      "WARNING: Ignoring invalid distribution -rotobuf (c:\\users\\bhupe\\appdata\\roaming\\python\\python39\\site-packages)\n",
      "WARNING: Ignoring invalid distribution -treamlit (d:\\anaconda-16-feb\\lib\\site-packages)\n",
      "WARNING: Ignoring invalid distribution - (d:\\anaconda-16-feb\\lib\\site-packages)\n",
      "WARNING: Ignoring invalid distribution -rotobuf (c:\\users\\bhupe\\appdata\\roaming\\python\\python39\\site-packages)\n",
      "WARNING: Ignoring invalid distribution -treamlit (d:\\anaconda-16-feb\\lib\\site-packages)\n",
      "WARNING: Ignoring invalid distribution - (d:\\anaconda-16-feb\\lib\\site-packages)\n"
     ]
    }
   ],
   "source": [
    "pip install keras-tuner\n"
   ]
  },
  {
   "cell_type": "code",
   "execution_count": 4,
   "id": "ef488d3b-ea78-4f0d-a47f-fd089cc828c6",
   "metadata": {},
   "outputs": [],
   "source": [
    "from keras.models import Sequential\n",
    "from keras.layers import Dense, Dropout\n",
    "from keras.optimizers import Adam\n",
    "from keras_tuner import RandomSearch"
   ]
  },
  {
   "cell_type": "code",
   "execution_count": 10,
   "id": "2f68d1e7-995b-423b-9f4b-4af60dea0114",
   "metadata": {},
   "outputs": [],
   "source": [
    "input_dim=14\n",
    "num_classes = 3"
   ]
  },
  {
   "cell_type": "code",
   "execution_count": 11,
   "id": "8970fddb-e973-41fa-a2b6-493444b20069",
   "metadata": {},
   "outputs": [],
   "source": [
    "# Define a model-building function\n",
    "def build_model(hp):\n",
    "    model = Sequential()\n",
    "    model.add(Dense(units=hp.Int('units', min_value=32, max_value=512, step=32),\n",
    "                    activation='relu', input_shape=(input_dim,)))  # Replace `input_dim` with your input feature dimension\n",
    "    model.add(Dropout(hp.Float('dropout', min_value=0.0, max_value=0.5, step=0.1)))\n",
    "    model.add(Dense(num_classes, activation='softmax'))  # Replace `num_classes` with the number of output classes\n",
    "    \n",
    "    model.compile(optimizer=Adam(hp.Float('learning_rate', min_value=1e-4, max_value=1e-2, sampling='log')),\n",
    "                  loss='sparse_categorical_crossentropy', metrics=['accuracy'])\n",
    "    return model"
   ]
  },
  {
   "cell_type": "code",
   "execution_count": 12,
   "id": "5d473f99-c7fb-4888-a0f3-f92ed986285f",
   "metadata": {},
   "outputs": [],
   "source": [
    "# Initialize the tuner\n",
    "tuner = RandomSearch(build_model, \n",
    "                     objective='val_accuracy', \n",
    "                     max_trials=5, \n",
    "                     executions_per_trial=3, \n",
    "                     directory='my_dir', \n",
    "                     project_name='my_project')\n"
   ]
  },
  {
   "cell_type": "code",
   "execution_count": null,
   "id": "3a3a542c-c7f8-4c95-a976-6538d44bf1dc",
   "metadata": {},
   "outputs": [],
   "source": [
    "# Search for the best hyperparameters\n",
    "tuner.search(X_train, y_train, epochs=10, validation_split=0.2)"
   ]
  },
  {
   "cell_type": "code",
   "execution_count": null,
   "id": "8cf4c901-2075-4bd8-b532-5ccb702aafc6",
   "metadata": {},
   "outputs": [],
   "source": [
    "# Get the best model and hyperparameters\n",
    "best_model = tuner.get_best_models(num_models=1)[0]\n",
    "best_hyperparameters = tuner.get_best_hyperparameters(num_trials=1)[0]"
   ]
  },
  {
   "cell_type": "markdown",
   "id": "6f0f88ea-bf81-490d-87db-40bc6465f5ad",
   "metadata": {},
   "source": [
    "#### Random search"
   ]
  },
  {
   "cell_type": "code",
   "execution_count": null,
   "id": "df78e376-9583-4872-9ef7-901e32fe38ca",
   "metadata": {},
   "outputs": [],
   "source": []
  },
  {
   "cell_type": "code",
   "execution_count": null,
   "id": "dbd9481c-69ea-456b-822a-0b8ea5fb582b",
   "metadata": {},
   "outputs": [],
   "source": []
  }
 ],
 "metadata": {
  "kernelspec": {
   "display_name": "Python 3 (ipykernel)",
   "language": "python",
   "name": "python3"
  },
  "language_info": {
   "codemirror_mode": {
    "name": "ipython",
    "version": 3
   },
   "file_extension": ".py",
   "mimetype": "text/x-python",
   "name": "python",
   "nbconvert_exporter": "python",
   "pygments_lexer": "ipython3",
   "version": "3.9.13"
  }
 },
 "nbformat": 4,
 "nbformat_minor": 5
}
