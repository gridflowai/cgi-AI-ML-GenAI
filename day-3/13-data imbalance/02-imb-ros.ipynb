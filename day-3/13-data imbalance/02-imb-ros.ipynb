{
 "cells": [
  {
   "cell_type": "code",
   "execution_count": 6,
   "id": "8f05c92c-3697-4ebf-b8ab-527f3687025d",
   "metadata": {
    "tags": []
   },
   "outputs": [],
   "source": [
    "#pip install -U imbalanced-learn"
   ]
  },
  {
   "cell_type": "code",
   "execution_count": 7,
   "id": "61da0e1e-0696-429e-b9a8-ee9d3be5d5b6",
   "metadata": {
    "tags": []
   },
   "outputs": [],
   "source": [
    "import numpy as np\n",
    "from imblearn.over_sampling import RandomOverSampler\n",
    "from collections import Counter"
   ]
  },
  {
   "cell_type": "code",
   "execution_count": 20,
   "id": "1c771ef7-242f-43cf-992b-e53f80f19f42",
   "metadata": {
    "tags": []
   },
   "outputs": [],
   "source": [
    "# Example data with imbalanced classes\n",
    "X = np.array([[1, 2],\n",
    "              [20, 30],\n",
    "              [30, 40],\n",
    "              [40, 50],\n",
    "              [50, 60]])\n",
    "y = np.array([0, 1, 1, 1, 1])"
   ]
  },
  {
   "cell_type": "code",
   "execution_count": 21,
   "id": "a3cac106-cf0e-44b0-829f-0c1a88f02b27",
   "metadata": {
    "tags": []
   },
   "outputs": [
    {
     "name": "stdout",
     "output_type": "stream",
     "text": [
      "Class distribution before oversampling: Counter({1: 4, 0: 1})\n"
     ]
    }
   ],
   "source": [
    "# Display class distribution before oversampling\n",
    "print(\"Class distribution before oversampling:\", Counter(y))"
   ]
  },
  {
   "cell_type": "code",
   "execution_count": 22,
   "id": "9044a3d2-c607-4b17-a25f-1d765446f6b6",
   "metadata": {
    "tags": []
   },
   "outputs": [],
   "source": [
    "# Instantiate the RandomOverSampler\n",
    "random_oversampler = RandomOverSampler(random_state=42)"
   ]
  },
  {
   "cell_type": "code",
   "execution_count": 23,
   "id": "05aad25d-f281-40aa-97db-089f1fde9f13",
   "metadata": {
    "tags": []
   },
   "outputs": [],
   "source": [
    "# Perform random oversampling\n",
    "X_resampled, y_resampled = random_oversampler.fit_resample(X, y)"
   ]
  },
  {
   "cell_type": "code",
   "execution_count": 24,
   "id": "de44a8a7-e118-43d6-8a06-165422c62152",
   "metadata": {
    "tags": []
   },
   "outputs": [
    {
     "name": "stdout",
     "output_type": "stream",
     "text": [
      "Class distribution after oversampling: Counter({0: 4, 1: 4})\n"
     ]
    }
   ],
   "source": [
    "# Display class distribution after oversampling\n",
    "print(\"Class distribution after oversampling:\", Counter(y_resampled))"
   ]
  },
  {
   "cell_type": "code",
   "execution_count": 26,
   "id": "0d0315f7-16e9-46bc-a62a-593ec8dd057e",
   "metadata": {
    "tags": []
   },
   "outputs": [
    {
     "data": {
      "text/plain": [
       "array([[ 1,  2],\n",
       "       [20, 30],\n",
       "       [30, 40],\n",
       "       [40, 50],\n",
       "       [50, 60],\n",
       "       [ 1,  2],\n",
       "       [ 1,  2],\n",
       "       [ 1,  2]])"
      ]
     },
     "execution_count": 26,
     "metadata": {},
     "output_type": "execute_result"
    }
   ],
   "source": [
    "X_resampled"
   ]
  },
  {
   "cell_type": "markdown",
   "id": "4c4cc44b-8f41-4055-8441-549120e8d1bc",
   "metadata": {},
   "source": [
    "EX 02"
   ]
  },
  {
   "cell_type": "code",
   "execution_count": 32,
   "id": "f75caf32-e014-4b43-ba3a-60be798e2cd7",
   "metadata": {
    "tags": []
   },
   "outputs": [
    {
     "name": "stdout",
     "output_type": "stream",
     "text": [
      "Original Data:\n",
      "[[ 8  5]\n",
      " [ 6  8]\n",
      " [ 4  9]\n",
      " [ 6  6]\n",
      " [18 13]\n",
      " [14 18]\n",
      " [14 14]\n",
      " [19 16]\n",
      " [15 19]\n",
      " [19 14]\n",
      " [17 16]\n",
      " [13 19]\n",
      " [15 17]\n",
      " [17 13]\n",
      " [19 15]\n",
      " [16 12]\n",
      " [15 13]\n",
      " [17 16]\n",
      " [15 12]\n",
      " [12 14]]\n",
      "\\Original Labels:\n",
      "[1 1 1 1 0 0 0 0 0 0 0 0 0 0 0 0 0 0 0 0]\n"
     ]
    }
   ],
   "source": [
    "# Set random seed for reproducibility\n",
    "np.random.seed(42)\n",
    "\n",
    "# Class 1: Values from a range of 2 to 9\n",
    "class_1_data = np.random.randint(2, 10, size=(4, 2))\n",
    "class_1_labels = np.ones(4, dtype=int)  # Class 1 label is 1\n",
    "\n",
    "# Class 2: Values from a range of 12 to 19\n",
    "class_2_data = np.random.randint(12, 20, size=(16, 2))\n",
    "class_2_labels = np.zeros(16, dtype=int)  # Class 2 label is 0\n",
    "\n",
    "# Combine data and labels for both classes\n",
    "X = np.vstack([class_1_data, class_2_data])\n",
    "y = np.concatenate([class_1_labels, class_2_labels])\n",
    "\n",
    "# Display the generated data and labels\n",
    "print(\"Original Data:\")\n",
    "print(X)\n",
    "print(\"\\Original Labels:\")\n",
    "print(y)"
   ]
  },
  {
   "cell_type": "code",
   "execution_count": 28,
   "id": "4c7ff652-dcd9-4a93-b333-cb7b94134b76",
   "metadata": {
    "tags": []
   },
   "outputs": [
    {
     "name": "stdout",
     "output_type": "stream",
     "text": [
      "Class distribution after oversampling: Counter({1: 16, 0: 16})\n"
     ]
    }
   ],
   "source": [
    "# Instantiate the RandomOverSampler\n",
    "random_oversampler = RandomOverSampler(random_state=42)\n",
    "\n",
    "# Perform random oversampling\n",
    "X_resampled, y_resampled = random_oversampler.fit_resample(X, y)\n",
    "\n",
    "# Display class distribution after oversampling\n",
    "print(\"Class distribution after oversampling:\", Counter(y_resampled))"
   ]
  },
  {
   "cell_type": "code",
   "execution_count": 31,
   "id": "a0e4cdf2-6c63-4868-9d83-03471b4f273c",
   "metadata": {
    "tags": []
   },
   "outputs": [
    {
     "name": "stdout",
     "output_type": "stream",
     "text": [
      "[[ 8  5]\n",
      " [ 6  8]\n",
      " [ 4  9]\n",
      " [ 6  6]\n",
      " [18 13]\n",
      " [14 18]\n",
      " [14 14]\n",
      " [19 16]\n",
      " [15 19]\n",
      " [19 14]\n",
      " [17 16]\n",
      " [13 19]\n",
      " [15 17]\n",
      " [17 13]\n",
      " [19 15]\n",
      " [16 12]\n",
      " [15 13]\n",
      " [17 16]\n",
      " [15 12]\n",
      " [12 14]\n",
      " [ 4  9]\n",
      " [ 6  6]\n",
      " [ 8  5]\n",
      " [ 4  9]\n",
      " [ 4  9]\n",
      " [ 6  6]\n",
      " [ 8  5]\n",
      " [ 8  5]\n",
      " [ 4  9]\n",
      " [ 6  8]\n",
      " [ 4  9]\n",
      " [ 4  9]]\n"
     ]
    }
   ],
   "source": [
    "print(X_resampled)"
   ]
  },
  {
   "cell_type": "code",
   "execution_count": null,
   "id": "7f8744e5-9de9-4862-a287-884484469a49",
   "metadata": {},
   "outputs": [],
   "source": []
  }
 ],
 "metadata": {
  "kernelspec": {
   "display_name": "Python 3 (ipykernel)",
   "language": "python",
   "name": "python3"
  },
  "language_info": {
   "codemirror_mode": {
    "name": "ipython",
    "version": 3
   },
   "file_extension": ".py",
   "mimetype": "text/x-python",
   "name": "python",
   "nbconvert_exporter": "python",
   "pygments_lexer": "ipython3",
   "version": "3.9.13"
  }
 },
 "nbformat": 4,
 "nbformat_minor": 5
}
