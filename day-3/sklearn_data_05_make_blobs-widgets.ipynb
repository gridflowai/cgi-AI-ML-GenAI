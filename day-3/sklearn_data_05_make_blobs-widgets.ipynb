{
 "cells": [
  {
   "cell_type": "markdown",
   "id": "55175f1a-d93a-4ace-b4d6-1d0d106aa161",
   "metadata": {},
   "source": [
    "------------------------\n",
    "#### sklearn.datasets.make_blobs\n",
    "------------------------\n",
    "- `make_blobs` is a function provided by the scikit-learn library in Python, specifically in the sklearn.datasets module. \n",
    "- It is used to generate synthetic datasets for clustering and classification tasks. \n",
    "- This function is particularly helpful for testing and prototyping machine learning algorithms."
   ]
  },
  {
   "cell_type": "markdown",
   "id": "c2bbbc33-8f0f-47ae-9160-66e3443ee698",
   "metadata": {},
   "source": [
    "#### Purpose:\n",
    "- The primary purpose of `make_blobs` is to generate synthetic datasets with clusters, making it easy to create simple datasets for practicing and testing machine learning algorithms, particularly clustering algorithms."
   ]
  },
  {
   "cell_type": "markdown",
   "id": "dbf893c5-30f8-4a36-8e45-8f522c12e705",
   "metadata": {},
   "source": [
    "#### Parameters:\n",
    "- `n_samples` (int): The total number of data points to generate.\n",
    "- `n_features` (int, optional, default=2): The number of features for each data point.\n",
    "- `centers` (int or array of shape [n_centers, n_features], optional, default=3): The number of clusters to generate or the fixed center locations.\n",
    "- `cluster_std` (float or sequence of floats, optional, default=1.0): The standard deviation of each cluster. If it's a float, the same value is applied to all clusters. If it's an array, it specifies the standard deviation for each cluster.\n",
    "- `center_box` (tuple, optional, default=(-10.0, 10.0)): The bounding box for the randomly generated cluster centers. By default, it is set between -10.0 and 10.0 for each feature.\n",
    "- `shuffle` (boolean, optional, default=True): Whether to shuffle the samples. If set to False, the samples are arranged in clusters.\n",
    "- `random_state` (int or RandomState, optional, default=None):\n",
    "\n",
    "Controls the random seed for reproducibility."
   ]
  },
  {
   "cell_type": "code",
   "execution_count": 51,
   "id": "acb9880b-c5ee-490b-93c4-318ceea25600",
   "metadata": {},
   "outputs": [],
   "source": [
    "from sklearn.datasets import make_blobs\n",
    "import matplotlib.pyplot as plt"
   ]
  },
  {
   "cell_type": "code",
   "execution_count": 52,
   "id": "99711983-3c2e-48d6-ba3e-07be0d246be0",
   "metadata": {},
   "outputs": [],
   "source": [
    "import numpy as np\n",
    "\n",
    "import ipywidgets as widgets\n",
    "from ipywidgets import interactive"
   ]
  },
  {
   "cell_type": "code",
   "execution_count": 53,
   "id": "c7a3280e-3ef9-431e-9c39-de97cb611383",
   "metadata": {},
   "outputs": [],
   "source": [
    "# Function to create blobs and plot\n",
    "def create_and_plot(n_samples, n_features, centers, cluster_std):\n",
    "    X, y = make_blobs(n_samples   = n_samples, \n",
    "                      n_features  = n_features, \n",
    "                      centers     = centers, \n",
    "                      cluster_std = cluster_std, \n",
    "                      random_state= 42)\n",
    "    \n",
    "    # Generate a unique color for each cluster\n",
    "    colors = [plt.cm.nipy_spectral(i / centers) for i in range(centers)]\n",
    "    \n",
    "    plt.figure(figsize=(12, 5))\n",
    "    \n",
    "     # Plot each cluster with its respective color\n",
    "    for i in range(centers):\n",
    "        plt.scatter(X[y == i, 0], X[y == i, 1], c=[colors[i]], edgecolors='k', label=f'Cluster {i + 1}')\n",
    "\n",
    "    #plt.scatter(X[:, 0], X[:, 1], c='blue', edgecolors='k')\n",
    "    plt.title(\"Generated Blobs\")\n",
    "    plt.xlabel(\"Feature 1\")\n",
    "    plt.ylabel(\"Feature 2\")\n",
    "    plt.show()"
   ]
  },
  {
   "cell_type": "code",
   "execution_count": 54,
   "id": "13ac82f0-bc26-4e15-b9b4-1ddb6285617c",
   "metadata": {},
   "outputs": [],
   "source": [
    "# Create sliders for each parameter\n",
    "n_samples_slider   = widgets.IntSlider(value=100,   min=100, max=10000, step=25, description='n_samples')\n",
    "n_features_slider  = widgets.IntSlider(value=2,     min=2, max=2, description='n_features')\n",
    "centers_slider     = widgets.IntSlider(value=2,     min=2, max=10, description='centers')\n",
    "cluster_std_slider = widgets.FloatSlider(value=1.0, min=0, max=10, step=0.25, description='cluster_std')"
   ]
  },
  {
   "cell_type": "code",
   "execution_count": 55,
   "id": "c12e8a1d-fd23-40f2-8f92-59a90663e3c8",
   "metadata": {},
   "outputs": [],
   "source": [
    "# Create interactive widget\n",
    "interactive_plot = interactive(create_and_plot, \n",
    "                               n_samples  = n_samples_slider, \n",
    "                               n_features = n_features_slider,\n",
    "                               centers    = centers_slider, \n",
    "                               cluster_std= cluster_std_slider)"
   ]
  },
  {
   "cell_type": "code",
   "execution_count": 56,
   "id": "8b8a873b-f730-4ecb-94b9-bf096cc6a9ab",
   "metadata": {},
   "outputs": [
    {
     "data": {
      "application/vnd.jupyter.widget-view+json": {
       "model_id": "b440c2de03134d7faf38f231800a5247",
       "version_major": 2,
       "version_minor": 0
      },
      "text/plain": [
       "interactive(children=(IntSlider(value=100, description='n_samples', max=10000, min=100, step=25), IntSlider(va…"
      ]
     },
     "metadata": {},
     "output_type": "display_data"
    }
   ],
   "source": [
    "# Display the interactive widget\n",
    "output = interactive_plot.children[-1]\n",
    "output.layout.height = '500px'\n",
    "interactive_plot"
   ]
  },
  {
   "cell_type": "code",
   "execution_count": 37,
   "id": "348b22cc-874f-4bd4-b15d-c5e5f5ebfcb7",
   "metadata": {},
   "outputs": [],
   "source": [
    "# Function to create blobs and return the dataset\n",
    "def generate_dataset(n_samples, n_features, centers, cluster_std):\n",
    "    X, y = make_blobs(n_samples=n_samples, n_features=n_features, centers=centers, cluster_std=cluster_std, random_state=42)\n",
    "    return X, y"
   ]
  },
  {
   "cell_type": "code",
   "execution_count": 38,
   "id": "0407bf56-6d15-4e2e-acfa-c3d4d14d9731",
   "metadata": {},
   "outputs": [],
   "source": [
    "# Create sliders for each parameter\n",
    "n_samples_slider   = widgets.IntSlider(value=100, min=100, max=10000, step=25, description='n_samples')\n",
    "n_features_slider  = widgets.IntSlider(value=2, min=1, max=10, description='n_features')\n",
    "centers_slider     = widgets.IntSlider(value=2, min=2, max=10, description='centers')\n",
    "cluster_std_slider = widgets.FloatSlider(value=1.0, min=0, max=10, step=0.25, description='cluster_std')"
   ]
  },
  {
   "cell_type": "code",
   "execution_count": 39,
   "id": "150d713c-e328-4efe-ae2c-0125e6d7498f",
   "metadata": {},
   "outputs": [],
   "source": [
    "# Create interactive widget\n",
    "interactive_dataset = interactive(generate_dataset, n_samples=n_samples_slider, n_features=n_features_slider,\n",
    "                                   centers=centers_slider, cluster_std=cluster_std_slider)"
   ]
  },
  {
   "cell_type": "code",
   "execution_count": 40,
   "id": "8d0ffae8-91ab-4369-8540-5e5223d85adb",
   "metadata": {},
   "outputs": [],
   "source": [
    "# Display the interactive widget\n",
    "output_dataset = interactive_dataset.children[-1]\n",
    "output_dataset.layout.height = '500px'\n",
    "data_widget    = widgets.Output()"
   ]
  },
  {
   "cell_type": "code",
   "execution_count": 46,
   "id": "731ee098-792c-432c-957a-9b19c0ce6a47",
   "metadata": {},
   "outputs": [],
   "source": [
    "\n",
    "# Numpy arrays to store X and y\n",
    "X_array = np.array([])\n",
    "y_array = np.array([])"
   ]
  },
  {
   "cell_type": "code",
   "execution_count": 47,
   "id": "597ed489-9930-4cee-9de2-d5e389ee3974",
   "metadata": {},
   "outputs": [],
   "source": [
    "# Function to update the data widget and store in numpy arrays\n",
    "def update_data_widget(change):\n",
    "    global X_array, y_array\n",
    "    with data_widget:\n",
    "        data_widget.clear_output()\n",
    "        X, y = generate_dataset(n_samples_slider.value, n_features_slider.value,\n",
    "                                centers_slider.value, cluster_std_slider.value)\n",
    "        print(\"Generated Dataset:\")\n",
    "        print(\"X (Features):\")\n",
    "        print(X)\n",
    "        print(\"\\ny (Labels):\")\n",
    "        print(y)\n",
    "        X_array, y_array = X, y"
   ]
  },
  {
   "cell_type": "code",
   "execution_count": 48,
   "id": "dca3a346-98bd-4f8e-bfd6-85c4b358a768",
   "metadata": {},
   "outputs": [],
   "source": [
    "# Attach the update function to slider changes\n",
    "n_samples_slider.observe(update_data_widget, 'value')\n",
    "n_features_slider.observe(update_data_widget, 'value')\n",
    "centers_slider.observe(update_data_widget, 'value')\n",
    "cluster_std_slider.observe(update_data_widget, 'value')"
   ]
  },
  {
   "cell_type": "code",
   "execution_count": 49,
   "id": "046ef240-9eeb-41c5-bd47-165dc3602740",
   "metadata": {},
   "outputs": [
    {
     "data": {
      "application/vnd.jupyter.widget-view+json": {
       "model_id": "c8d4e803d76a41f6a7cd9a056ec13f98",
       "version_major": 2,
       "version_minor": 0
      },
      "text/plain": [
       "VBox(children=(Output(outputs=({'name': 'stdout', 'text': 'Generated Dataset:\\nX (Features):\\n[[ 3.7688858  -6…"
      ]
     },
     "metadata": {},
     "output_type": "display_data"
    }
   ],
   "source": [
    "# Display the widgets\n",
    "widgets.VBox([data_widget, interactive_dataset])"
   ]
  },
  {
   "cell_type": "code",
   "execution_count": 50,
   "id": "158e775b-155d-496b-968b-37a260f333c0",
   "metadata": {},
   "outputs": [
    {
     "data": {
      "text/plain": [
       "(2575, 3)"
      ]
     },
     "execution_count": 50,
     "metadata": {},
     "output_type": "execute_result"
    }
   ],
   "source": [
    "X_array.shape"
   ]
  },
  {
   "cell_type": "code",
   "execution_count": null,
   "id": "1fad77d9-a135-4ab6-8d39-41f6facb12af",
   "metadata": {},
   "outputs": [],
   "source": []
  }
 ],
 "metadata": {
  "kernelspec": {
   "display_name": "Python 3 (ipykernel)",
   "language": "python",
   "name": "python3"
  },
  "language_info": {
   "codemirror_mode": {
    "name": "ipython",
    "version": 3
   },
   "file_extension": ".py",
   "mimetype": "text/x-python",
   "name": "python",
   "nbconvert_exporter": "python",
   "pygments_lexer": "ipython3",
   "version": "3.9.13"
  }
 },
 "nbformat": 4,
 "nbformat_minor": 5
}
