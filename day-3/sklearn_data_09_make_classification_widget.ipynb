{
 "cells": [
  {
   "cell_type": "code",
   "execution_count": 10,
   "id": "37a90937-4b89-4dd9-b5a0-d9dfde27ab12",
   "metadata": {},
   "outputs": [],
   "source": [
    "import numpy as np\n",
    "from sklearn.datasets import make_classification\n",
    "import ipywidgets as widgets\n",
    "from ipywidgets import interactive"
   ]
  },
  {
   "cell_type": "code",
   "execution_count": 11,
   "id": "2894a854-c832-48ce-8b09-1ac14d90a098",
   "metadata": {},
   "outputs": [],
   "source": [
    "# Function to create a classification dataset and return the features and labels\n",
    "def generate_classification_dataset(n_samples, n_features, n_informative, n_classes, random_state):\n",
    "    X, y = make_classification(n_samples=n_samples, n_features=n_features, n_informative=n_informative,\n",
    "                               n_classes=n_classes, random_state=random_state)\n",
    "    return X, y"
   ]
  },
  {
   "cell_type": "code",
   "execution_count": 12,
   "id": "a64f37c7-b81a-49c4-9bd7-9e63c61e5d6e",
   "metadata": {},
   "outputs": [],
   "source": [
    "# Create sliders for each parameter\n",
    "n_samples_slider     = widgets.IntSlider(value=100, min=100, max=10000, step=25, description='n_samples')\n",
    "n_features_slider    = widgets.IntSlider(value=20, min=1, max=50, description='n_features')\n",
    "n_informative_slider = widgets.IntSlider(value=2, min=1, max=10, description='n_informative')\n",
    "n_classes_slider     = widgets.IntSlider(value=2, min=2, max=5, description='n_classes')\n",
    "random_state_slider  = widgets.IntSlider(value=42, min=0, max=100, description='random_state')\n"
   ]
  },
  {
   "cell_type": "code",
   "execution_count": 13,
   "id": "c211ef9e-d136-4b29-b6da-ea70f11df20d",
   "metadata": {},
   "outputs": [],
   "source": [
    "# Create interactive widget\n",
    "interactive_classification = interactive(generate_classification_dataset, \n",
    "                                         n_samples=n_samples_slider,\n",
    "                                         n_features=n_features_slider, \n",
    "                                         n_informative=n_informative_slider,\n",
    "                                         n_classes=n_classes_slider, \n",
    "                                         random_state=random_state_slider)"
   ]
  },
  {
   "cell_type": "code",
   "execution_count": 14,
   "id": "02f7e231-ec18-4138-bfc2-114c7003c688",
   "metadata": {},
   "outputs": [],
   "source": [
    "# Display the interactive widget\n",
    "output_classification = interactive_classification.children[-1]\n",
    "output_classification.layout.height = '500px'\n",
    "data_widget_classification = widgets.Output()"
   ]
  },
  {
   "cell_type": "code",
   "execution_count": 15,
   "id": "05a8e48d-738e-43c3-80bd-dc458fc217fe",
   "metadata": {},
   "outputs": [],
   "source": [
    "# Numpy arrays to store X and y\n",
    "X_array_classification = np.array([])\n",
    "y_array_classification = np.array([])\n"
   ]
  },
  {
   "cell_type": "code",
   "execution_count": 16,
   "id": "e2fdba1e-c4f7-4fb4-bc81-a20a41d68c09",
   "metadata": {},
   "outputs": [],
   "source": [
    "# Function to update the data widget and store in numpy arrays\n",
    "def update_data_widget_classification(change):\n",
    "    global X_array_classification, y_array_classification\n",
    "    with data_widget_classification:\n",
    "        data_widget_classification.clear_output()\n",
    "        X, y = generate_classification_dataset(n_samples_slider.value, n_features_slider.value,\n",
    "                                               n_informative_slider.value, n_classes_slider.value,\n",
    "                                               random_state_slider.value)\n",
    "        print(\"Generated Classification Dataset:\")\n",
    "        print(\"X (Features):\")\n",
    "        print(X)\n",
    "        print(\"\\ny (Labels):\")\n",
    "        print(y)\n",
    "        X_array_classification, y_array_classification = X, y"
   ]
  },
  {
   "cell_type": "code",
   "execution_count": 17,
   "id": "8c8b7f38-4ddb-43ea-9741-438d58a3b340",
   "metadata": {},
   "outputs": [],
   "source": [
    "# Attach the update function to slider changes\n",
    "n_samples_slider.observe(update_data_widget_classification, 'value')\n",
    "n_features_slider.observe(update_data_widget_classification, 'value')\n",
    "n_informative_slider.observe(update_data_widget_classification, 'value')\n",
    "n_classes_slider.observe(update_data_widget_classification, 'value')\n",
    "random_state_slider.observe(update_data_widget_classification, 'value')"
   ]
  },
  {
   "cell_type": "code",
   "execution_count": 18,
   "id": "b3309b38-1850-4934-af9f-b129a7d85431",
   "metadata": {},
   "outputs": [
    {
     "data": {
      "application/vnd.jupyter.widget-view+json": {
       "model_id": "ee451143d21a47d18d4c713edb7353dd",
       "version_major": 2,
       "version_minor": 0
      },
      "text/plain": [
       "VBox(children=(Output(), interactive(children=(IntSlider(value=100, description='n_samples', max=10000, min=10…"
      ]
     },
     "metadata": {},
     "output_type": "display_data"
    }
   ],
   "source": [
    "# Display the widgets\n",
    "widgets.VBox([data_widget_classification, interactive_classification])"
   ]
  },
  {
   "cell_type": "code",
   "execution_count": null,
   "id": "2bb05d5f-8b87-4e06-a33c-26527a3fbd28",
   "metadata": {},
   "outputs": [],
   "source": []
  }
 ],
 "metadata": {
  "kernelspec": {
   "display_name": "Python 3 (ipykernel)",
   "language": "python",
   "name": "python3"
  },
  "language_info": {
   "codemirror_mode": {
    "name": "ipython",
    "version": 3
   },
   "file_extension": ".py",
   "mimetype": "text/x-python",
   "name": "python",
   "nbconvert_exporter": "python",
   "pygments_lexer": "ipython3",
   "version": "3.9.13"
  }
 },
 "nbformat": 4,
 "nbformat_minor": 5
}
