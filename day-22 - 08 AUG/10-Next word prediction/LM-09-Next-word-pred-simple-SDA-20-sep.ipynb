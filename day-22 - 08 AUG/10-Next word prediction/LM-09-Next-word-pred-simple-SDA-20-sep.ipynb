{
 "cells": [
  {
   "cell_type": "markdown",
   "id": "3cc447ad-6041-418a-80b9-e01dc748b1ed",
   "metadata": {},
   "source": [
    "#### Next word prediction - simple example"
   ]
  },
  {
   "cell_type": "code",
   "execution_count": 1,
   "id": "f6bc857e-bab1-4638-a1b0-a778919a470d",
   "metadata": {},
   "outputs": [],
   "source": [
    "from collections import defaultdict"
   ]
  },
  {
   "cell_type": "code",
   "execution_count": 17,
   "id": "0443aaa2-ecb4-427b-ab20-13908c872b8c",
   "metadata": {},
   "outputs": [],
   "source": [
    "corpus = \"the cat is red the cat is green the cat is blue the dog is brown\""
   ]
  },
  {
   "cell_type": "code",
   "execution_count": 18,
   "id": "408c348f-6123-4258-bd7e-1631966c18bd",
   "metadata": {},
   "outputs": [
    {
     "name": "stdout",
     "output_type": "stream",
     "text": [
      "['the', 'cat', 'is', 'red', 'the', 'cat', 'is', 'green', 'the', 'cat', 'is', 'blue', 'the', 'dog', 'is', 'brown']\n"
     ]
    }
   ],
   "source": [
    "tokens = corpus.split()\n",
    "print(tokens)"
   ]
  },
  {
   "cell_type": "markdown",
   "id": "3ca11a81-9452-433f-8f61-07411fe4c7e9",
   "metadata": {},
   "source": [
    "#### build token dictionary \n",
    "- word (w1) - list of words that follow the word, w1"
   ]
  },
  {
   "cell_type": "code",
   "execution_count": 19,
   "id": "20ee378d-5863-4e1d-8d47-f27717629b96",
   "metadata": {},
   "outputs": [
    {
     "data": {
      "text/plain": [
       "defaultdict(list, {})"
      ]
     },
     "execution_count": 19,
     "metadata": {},
     "output_type": "execute_result"
    }
   ],
   "source": [
    "token_dict    = defaultdict(list)\n",
    "token_dict"
   ]
  },
  {
   "cell_type": "code",
   "execution_count": 20,
   "id": "2dc80c80-8fe1-4a43-8100-b876ab6b5dc9",
   "metadata": {},
   "outputs": [
    {
     "data": {
      "text/plain": [
       "dict_items([])"
      ]
     },
     "execution_count": 20,
     "metadata": {},
     "output_type": "execute_result"
    }
   ],
   "source": [
    "token_dict.items()"
   ]
  },
  {
   "cell_type": "code",
   "execution_count": 21,
   "id": "8fd52494-402d-44c7-a66f-8fef121e2fcc",
   "metadata": {},
   "outputs": [],
   "source": [
    "previous_word = ''\n",
    "\n",
    "for each_word in tokens:\n",
    "    if previous_word != '':\n",
    "        token_dict[previous_word].append(each_word)\n",
    "        \n",
    "    previous_word = each_word"
   ]
  },
  {
   "cell_type": "code",
   "execution_count": 22,
   "id": "f585a271-5ff4-429e-a401-697756aa6df8",
   "metadata": {},
   "outputs": [
    {
     "data": {
      "text/plain": [
       "defaultdict(list,\n",
       "            {'the': ['cat', 'cat', 'cat', 'dog'],\n",
       "             'cat': ['is', 'is', 'is'],\n",
       "             'is': ['red', 'green', 'blue', 'brown'],\n",
       "             'red': ['the'],\n",
       "             'green': ['the'],\n",
       "             'blue': ['the'],\n",
       "             'dog': ['is']})"
      ]
     },
     "execution_count": 22,
     "metadata": {},
     "output_type": "execute_result"
    }
   ],
   "source": [
    "token_dict"
   ]
  },
  {
   "cell_type": "markdown",
   "id": "164b3cae-3fb5-4454-971d-ce3bb2261a17",
   "metadata": {},
   "source": [
    "#### compute the probabilities\n",
    "- of each possible word that follows a previous word"
   ]
  },
  {
   "cell_type": "code",
   "execution_count": 23,
   "id": "34afa9ba-3060-4f9f-8d1f-8f1826a559be",
   "metadata": {},
   "outputs": [
    {
     "data": {
      "text/plain": [
       "dict_keys(['the', 'cat', 'is', 'red', 'green', 'blue', 'dog'])"
      ]
     },
     "execution_count": 23,
     "metadata": {},
     "output_type": "execute_result"
    }
   ],
   "source": [
    "token_dict.keys()"
   ]
  },
  {
   "cell_type": "code",
   "execution_count": 24,
   "id": "6421c833-2b43-4b9d-9137-17077e141b11",
   "metadata": {},
   "outputs": [
    {
     "data": {
      "text/plain": [
       "['cat', 'cat', 'cat', 'dog']"
      ]
     },
     "execution_count": 24,
     "metadata": {},
     "output_type": "execute_result"
    }
   ],
   "source": [
    "token_dict['the']"
   ]
  },
  {
   "cell_type": "code",
   "execution_count": 26,
   "id": "d17fc304-1cf4-43f6-85ae-6fd3067393bf",
   "metadata": {},
   "outputs": [],
   "source": [
    "for each_key in token_dict.keys():\n",
    "    next_words = token_dict[each_key]\n",
    "    \n",
    "    # how many words actually follow the previous word, each_key (including duplicates)\n",
    "    nbr_words_for_key = len(next_words)\n",
    "    \n",
    "    # get the list of unique words from the next_words\n",
    "    unique_words = set(next_words)\n",
    "    \n",
    "    prob_tokens = {}\n",
    "    \n",
    "    # compute the probabilities of each of the unique word in the next_words list\n",
    "    for each_unique_word in unique_words:\n",
    "        prob_tokens[each_unique_word] = next_words.count(each_unique_word)/nbr_words_for_key\n",
    "    \n",
    "    token_dict[each_key] = prob_tokens"
   ]
  },
  {
   "cell_type": "code",
   "execution_count": 28,
   "id": "9d80ef04-0796-4b0b-82da-fed1da8093ce",
   "metadata": {},
   "outputs": [
    {
     "data": {
      "text/plain": [
       "defaultdict(list,\n",
       "            {'the': {'dog': 0.25, 'cat': 0.75},\n",
       "             'cat': {'is': 1.0},\n",
       "             'is': {'brown': 0.25, 'red': 0.25, 'blue': 0.25, 'green': 0.25},\n",
       "             'red': {'the': 1.0},\n",
       "             'green': {'the': 1.0},\n",
       "             'blue': {'the': 1.0},\n",
       "             'dog': {'is': 1.0}})"
      ]
     },
     "execution_count": 28,
     "metadata": {},
     "output_type": "execute_result"
    }
   ],
   "source": [
    "token_dict"
   ]
  },
  {
   "cell_type": "code",
   "execution_count": 29,
   "id": "8f9d97c2-96da-455a-a61d-ebc031f88afb",
   "metadata": {},
   "outputs": [],
   "source": [
    "import PyPDF4\n",
    "import re"
   ]
  },
  {
   "cell_type": "code",
   "execution_count": 30,
   "id": "9a01392a-80fa-4569-99fb-66ab39bef453",
   "metadata": {},
   "outputs": [],
   "source": [
    "pdf_file_location = r'D:\\MYLEARN\\2-ANALYTICS-DataScience\\01-TECH DOCS\\20 - Text - NLP\\Natural Language Processing with TensorFlow by Thushan Ganegedara (z-lib.org).pdf'"
   ]
  },
  {
   "cell_type": "code",
   "execution_count": 31,
   "id": "fab450a1-0d0d-49b2-bcd9-5fb008468bfd",
   "metadata": {},
   "outputs": [],
   "source": [
    "pdfFileObj = open(pdf_file_location, 'rb')"
   ]
  },
  {
   "cell_type": "code",
   "execution_count": 32,
   "id": "a3988a9f-c054-4fcd-9562-4d00468f32b2",
   "metadata": {},
   "outputs": [],
   "source": [
    "pdfReader = PyPDF4.PdfFileReader(pdfFileObj)"
   ]
  },
  {
   "cell_type": "code",
   "execution_count": 34,
   "id": "778ff93f-d502-49a0-bd25-37aee226e432",
   "metadata": {},
   "outputs": [
    {
     "data": {
      "text/plain": [
       "(472,\n",
       " False,\n",
       " {'/CreationDate': \"D:20180531132435+05'30'\",\n",
       "  '/Creator': 'Adobe InDesign CS6 (Windows)',\n",
       "  '/ModDate': \"D:20180531133030+05'30'\",\n",
       "  '/Producer': 'Adobe PDF Library 10.0.1',\n",
       "  '/Trapped': '/False'})"
      ]
     },
     "execution_count": 34,
     "metadata": {},
     "output_type": "execute_result"
    }
   ],
   "source": [
    "pdfReader.numPages, pdfReader.isEncrypted, pdfReader.getDocumentInfo()"
   ]
  },
  {
   "cell_type": "code",
   "execution_count": 35,
   "id": "fcc0c841-7aeb-477c-8d4c-a739c7e60858",
   "metadata": {},
   "outputs": [],
   "source": [
    "## loop thru all the pages\n",
    "cur_page = 0\n",
    "\n",
    "allText = \"\"\n",
    "\n",
    "while cur_page < pdfReader.numPages:\n",
    "    pageObj  = pdfReader.getPage(cur_page)\n",
    "    pageText = pageObj.extractText()\n",
    "    \n",
    "    cur_page += 1\n",
    "    \n",
    "    pattern  = r'[^a-zA-z\\s]'\n",
    "    pageText = re.sub(pattern, '', pageText)\n",
    "    \n",
    "    # remove extra newlines\n",
    "    pageText = re.sub(r'[\\r|\\n|\\r\\n]+', ' ', pageText)\n",
    "    \n",
    "    pageText = pageText.lower()\n",
    "    \n",
    "    allText = allText + pageText"
   ]
  },
  {
   "cell_type": "code",
   "execution_count": 36,
   "id": "f89c7e7d-36e0-4ea8-99c9-5e1bd1b3140c",
   "metadata": {},
   "outputs": [
    {
     "data": {
      "text/plain": [
       "628769"
      ]
     },
     "execution_count": 36,
     "metadata": {},
     "output_type": "execute_result"
    }
   ],
   "source": [
    "len(allText)"
   ]
  },
  {
   "cell_type": "code",
   "execution_count": 41,
   "id": "6f11b79e-fd95-40e1-a6f4-8fe4fe0d7433",
   "metadata": {},
   "outputs": [
    {
     "data": {
      "text/plain": [
       "'[    ] natural language processing  with tensorflow teach language to machines using pythons deep  learning library thushan ganegedara birmingham  mumbai natural language processing with tensorflow copyright   packt publishing all rights reserved no part of this book may be reproduced stored in a retrieval  system or transmitted in any form or by any means without the prior written  permission of the publisher except in the case of brief quotations embedded in  critical articles or reviews every effort has been made in the preparation of this book to ensure the accuracy  of the information presented however the information contained in this book is  sold without warranty either express or implied neither the author nor packt  publishing or its dealers and distributors will be held liable for any damages caused  or alleged to have been caused directly or indirectly by this book packt publishing has endeavored to provide trademark information about all of the  companies and products mentioned in this book by the appropriate use of capitals  however packt publishing cannot guarantee the accuracy of this information acquisition editor  frank pohlmann project editor  radhika atitkar content development editor  chris nelson technical editor  bhagyashree rai copy editor  tom jacob proofreader indexer  rekha nair graphics  tom scaria production coordinator  nilesh mohite first published may  production reference  published by packt publishing ltd livery place  livery street birmingham b pb uk isbn  wwwpacktpubcom maptio mapt is an online digital library that gives you full access to over  books and  videos as well as industry leading tools to help you plan your personal development  and advance your career for more information please visit our website why subscribe spend less time learning and more time coding with practical ebooks and  videos from over  industry professionals learn better with skill plans built especially for you get a free ebook or video every month mapt is fully searchable copy and paste print and bookmark content packtpubcom did you know that packt offers ebook versions of every book published with pdf  wwwpacktpub com   and as a print book customer you are entitled to a discount on the ebook copy  get in touch with us at   servicepacktpubcom   for more details at   wwwpacktpubcom  you can also read a collection of free technical articles sign  up for a range of free newsletters and receive exclusive discounts and offers on  packt books and ebooks contributors about the author thushan ganegedara  is currently a third year phd student at the university of  sydney australia he is specializing in machine learning and has a liking for deep  learning he lives dangerously and runs algorithms on untested data he also works  as the chief data scientist for assessthreat an australian startup he got his bsc  hons from the university of moratuwa sri lanka he frequently writes technical  articles and tutorials about machine learning additionally he also strives for a  healthy lifestyle by including swimming in his daily schedule i would like to thank my parents my siblings and my wife for the  faith they had in me and the support they have given also all my  teachers and my phd advisor for the guidance he provided me with about the reviewers motaz saad  holds a phd in computer science from the university of lorraine he  loves data and he likes to play with it he has over  years professional experience  in nlp computational linguistics data science and machine learning he currently  works as an assistant professor at the faculty of information technology iug dr joseph oconnor  is a data scientist with a deep passion for deep learning his  company deep learn analytics a ukbased data science consultancy works with  businesses to develop machine learning applications and infrastructure from concept    to deployment he was awarded a phd from university college london for his  work analyzing data on the minos highenergy physics experiment since then  he has developed ml products for a number of companies in the private sector  http deeplearnanalyticscom packt is searching for authors like you if youre interested in becoming an author for packt please visit  authorspacktpub com  and apply today we have worked with thousands of developers and tech  professionals just like you to help them share their insight with the global tech  we are recruiting an author for or submit your own idea [  i  ] table of contents preface   xi chapter  introduction to natural language processing   what is natural language processing   tasks of natural language processing   the traditional approach to natural language processing   understanding the traditional approach   example  generating football game summaries   drawbacks of the traditional approach   the deep learning approach to natural language processing   history of deep learning   the current state of deep learning and nlp   understanding a simple deep model  a fullyconnected'"
      ]
     },
     "execution_count": 41,
     "metadata": {},
     "output_type": "execute_result"
    }
   ],
   "source": [
    "allText[:5000]"
   ]
  },
  {
   "cell_type": "code",
   "execution_count": 42,
   "id": "3fa6acbb-9bb7-4524-9f5d-d15873d4a343",
   "metadata": {},
   "outputs": [],
   "source": [
    "tokens = allText.split()"
   ]
  },
  {
   "cell_type": "code",
   "execution_count": 43,
   "id": "ee8514d7-ee6f-48f2-a245-26399fa46e56",
   "metadata": {},
   "outputs": [
    {
     "data": {
      "text/plain": [
       "96717"
      ]
     },
     "execution_count": 43,
     "metadata": {},
     "output_type": "execute_result"
    }
   ],
   "source": [
    "len(tokens)"
   ]
  },
  {
   "cell_type": "code",
   "execution_count": 44,
   "id": "1953d059-f2ae-45b9-a7fd-114f5cf8d495",
   "metadata": {},
   "outputs": [],
   "source": [
    "previous_word = \"\"\n",
    "token_dict    = defaultdict(list)"
   ]
  },
  {
   "cell_type": "code",
   "execution_count": 45,
   "id": "b32f3a01-99ef-4a96-a111-e66c5373f4c9",
   "metadata": {},
   "outputs": [],
   "source": [
    "for current_word in tokens:\n",
    "    if previous_word != \"\":\n",
    "        token_dict[previous_word].append(current_word)\n",
    "        \n",
    "    previous_word = current_word"
   ]
  },
  {
   "cell_type": "markdown",
   "id": "f15321d5-c8e4-4c89-89ea-e0ad34de1c18",
   "metadata": {},
   "source": [
    "#### compute probabilities"
   ]
  },
  {
   "cell_type": "code",
   "execution_count": 47,
   "id": "e8d133da-2ed2-4eb4-a09c-e48036475ba0",
   "metadata": {},
   "outputs": [],
   "source": [
    "for key in token_dict.keys():\n",
    "    \n",
    "    next_words   = token_dict[key]\n",
    "    \n",
    "    unique_words = set(next_words) # removes duplicates\n",
    "    \n",
    "    nb_words     = len(next_words)\n",
    "    \n",
    "    probabilities_token = {}\n",
    "    \n",
    "    for unique_word in unique_words:\n",
    "        probabilities_token[unique_word] = float(next_words.count(unique_word)) / nb_words\n",
    "        \n",
    "    token_dict[key] = probabilities_token"
   ]
  },
  {
   "cell_type": "code",
   "execution_count": 48,
   "id": "abde16d1-b2c9-4eb5-9004-8b2e33a11d52",
   "metadata": {},
   "outputs": [
    {
     "name": "stdout",
     "output_type": "stream",
     "text": [
      "\n",
      " [ {'ix': 0.0020964360587002098, 'x': 0.0020964360587002098, ']]': 0.0020964360587002098, ']': 0.9433962264150944, 'i': 0.0020964360587002098, '[[]][[]]': 0.0041928721174004195, 'vi': 0.0020964360587002098, 'v': 0.0020964360587002098, 'xv': 0.0020964360587002098, 'w': 0.0020964360587002098, 'for': 0.0020964360587002098, 'iv': 0.0020964360587002098, 'xvi': 0.0020964360587002098, 'viii': 0.0020964360587002098, 'xviii': 0.0020964360587002098, 'xiii': 0.0020964360587002098, 'xvii': 0.0020964360587002098, 'ii': 0.0020964360587002098, 'xiv': 0.0020964360587002098, 'xi': 0.0020964360587002098, 'xii': 0.0020964360587002098, 'tfreduce_meantfnnsampled_softmax_loss': 0.0020964360587002098, 'iii': 0.0020964360587002098, ']]]]': 0.0020964360587002098, 'vii': 0.0020964360587002098, '[': 0.0041928721174004195}\n",
      "\n",
      " ] {'code': 0.002004008016032064, 'from': 0.002004008016032064, 'om': 0.002004008016032064, 'ipython': 0.002004008016032064, 'process': 0.002004008016032064, 'types': 0.002004008016032064, 'tensorflow': 0.004008016032064128, 'frag': 0.002004008016032064, 'implementing': 0.01002004008016032, 'joint': 0.002004008016032064, 'thereafter': 0.002004008016032064, 'mathematically': 0.002004008016032064, 'layer': 0.002004008016032064, 'enc_num_unrollings': 0.002004008016032064, 'backpropagation': 0.002004008016032064, 'mathematical': 0.002004008016032064, 'next': 0.022044088176352707, 'through': 0.002004008016032064, 'it': 0.008016032064128256, 'python': 0.004008016032064128, 'fifo': 0.002004008016032064, 'in': 0.02004008016032064, 'calculates': 0.002004008016032064, 'chapter': 0.012024048096192385, 'num_classesvocabulary_size': 0.002004008016032064, 'row': 0.002004008016032064, 'installing': 0.002004008016032064, 'well': 0.002004008016032064, 'convolution': 0.002004008016032064, 'although': 0.002004008016032064, 'def': 0.002004008016032064, 'tfmatmulc': 0.002004008016032064, 'linear': 0.002004008016032064, 'lstms': 0.002004008016032064, 'by': 0.006012024048096192, 'logexpexpexp': 0.002004008016032064, 'intuitively': 0.002004008016032064, 'appendix': 0.002004008016032064, 'batch_size': 0.004008016032064128, 'tensor': 0.002004008016032064, 'introducing': 0.002004008016032064, 'x_great_equal_y': 0.002004008016032064, 't': 0.002004008016032064, 'x_ksize': 0.002004008016032064, 'matplotlib': 0.002004008016032064, 'wordnet': 0.002004008016032064, 'concretely': 0.002004008016032064, 'printlabels': 0.002004008016032064, 'improving': 0.002004008016032064, 'our': 0.002004008016032064, 'function': 0.002004008016032064, 'skimming': 0.004008016032064128, 'input': 0.002004008016032064, 'pretrained': 0.004008016032064128, 'positive': 0.002004008016032064, 'emerging': 0.002004008016032064, 'fully': 0.002004008016032064, 'best': 0.002004008016032064, 'extracting': 0.002004008016032064, 'strides': 0.002004008016032064, 'mk': 0.002004008016032064, 'initializertfconstant_initializerpret_': 0.002004008016032064, 'gstep': 0.002004008016032064, 'index': 0.002004008016032064, 'hyponyms': 0.002004008016032064, 'table': 0.002004008016032064, 'long': 0.002004008016032064, 'example': 0.002004008016032064, 'transposed': 0.002004008016032064, 'get': 0.002004008016032064, 'size': 0.01002004008016032, 'filename': 0.002004008016032064, 'these': 0.002004008016032064, 'wordsense': 0.002004008016032064, 'continuous': 0.002004008016032064, 'reusing': 0.002004008016032064, 'structured': 0.002004008016032064, 'unrolling': 0.002004008016032064, 'machine': 0.004008016032064128, 'convolving': 0.004008016032064128, 'finally': 0.006012024048096192, 'prev_train_h': 0.002004008016032064, 'train_lossappendloss': 0.002004008016032064, 'if': 0.004008016032064128, 'first': 0.008016032064128256, '[]': 0.006012024048096192, 'with': 0.01002004008016032, 'where': 0.002004008016032064, 'nlp': 0.004008016032064128, 'calculating': 0.01002004008016032, 'functionality': 0.002004008016032064, 'when': 0.006012024048096192, 'word': 0.004008016032064128, 'tdistributed': 0.002004008016032064, 'manytomany': 0.002004008016032064, 'what': 0.004008016032064128, 'onehot': 0.004008016032064128, 'inference': 0.002004008016032064, 'natural': 0.002004008016032064, 'cafe': 0.002004008016032064, 'nmt': 0.002004008016032064, 'here': 0.02404809619238477, 'phrase': 0.002004008016032064, 'summary': 0.004008016032064128, 'batched_e_j': 0.002004008016032064, 'tf_gather': 0.002004008016032064, 'building': 0.002004008016032064, 'maintain': 0.002004008016032064, 'extensions': 0.002004008016032064, 'applications': 0.004008016032064128, 'evaluating': 0.002004008016032064, 'pieces': 0.002004008016032064, 'computing': 0.004008016032064128, 'preprocessing': 0.004008016032064128, 'inspecting': 0.002004008016032064, 'gradients': 0.002004008016032064, 'about': 0.004008016032064128, 'cooccurrence': 0.002004008016032064, 'observes': 0.002004008016032064, 'embeddings[dictionary[lword]]': 0.002004008016032064, 'tsne': 0.002004008016032064, 'learn': 0.002004008016032064, 'peephole': 0.002004008016032064, 'introduction': 0.004008016032064128, 'document': 0.002004008016032064, 'and': 0.006012024048096192, 'analyzing': 0.002004008016032064, '[': 0.012024048096192385, 'learning': 0.008016032064128256, 'number': 0.002004008016032064, 'often': 0.002004008016032064, 'having': 0.002004008016032064, 'layer_biases[layer_id]': 0.002004008016032064, 'decoder_cell': 0.002004008016032064, 'logexp[][': 0.002004008016032064, 'neural': 0.006012024048096192, 'captions': 0.002004008016032064, 'consider': 0.002004008016032064, 'sequencetosequence': 0.002004008016032064, 'diagonal': 0.002004008016032064, 'cap_text': 0.002004008016032064, 'x_eval': 0.002004008016032064, 'lets': 0.008016032064128256, 'segments': 0.002004008016032064, ']': 0.002004008016032064, 'though': 0.002004008016032064, 'reset': 0.002004008016032064, 'make': 0.004008016032064128, 'en': 0.002004008016032064, 'other': 0.002004008016032064, 'is': 0.002004008016032064, 'generally': 0.002004008016032064, 'cuda': 0.002004008016032064, 'say': 0.002004008016032064, 'understanding': 0.004008016032064128, 'categories': 0.002004008016032064, 'train_dataset': 0.002004008016032064, 'adaptation': 0.002004008016032064, 'phased': 0.002004008016032064, 'for': 0.012024048096192385, 'attention': 0.002004008016032064, 'language': 0.002004008016032064, 'inputs': 0.002004008016032064, 'precisely': 0.002004008016032064, 'dataset': 0.004008016032064128, 'softmax': 0.002004008016032064, 'third': 0.002004008016032064, 'variable': 0.002004008016032064, 'as': 0.014028056112224449, 'loss': 0.004008016032064128, 'wordvec': 0.002004008016032064, 'lstm': 0.002004008016032064, 'text': 0.004008016032064128, 'download': 0.002004008016032064, 'variables': 0.006012024048096192, 'candidate_sampler': 0.002004008016032064, 'else': 0.002004008016032064, 'the': 0.05811623246492986, 'also': 0.01002004008016032, 'perplexity': 0.004008016032064128, 'using': 0.006012024048096192, 'dialogue': 0.002004008016032064, 'preface': 0.002004008016032064, 'valid_dataset': 0.006012024048096192, 'z': 0.002004008016032064, 'drawbacks': 0.002004008016032064, 'output': 0.002004008016032064, 'inc_gstep': 0.004008016032064128, 'training': 0.008016032064128256, 'a': 0.01002004008016032, 'since': 0.002004008016032064, 'beam': 0.002004008016032064, 'one': 0.006012024048096192, 'stddev': 0.002004008016032064, 'remember': 0.002004008016032064, 'another': 0.004008016032064128, 'initializertfconstant_initializerpret_embeddings': 0.002004008016032064, 'filenames': 0.002004008016032064, 'now': 0.018036072144288578, 'exp[][': 0.004008016032064128, 'bleu': 0.002004008016032064, 'to': 0.006012024048096192, 'line_tokens': 0.002004008016032064, 'e_j': 0.002004008016032064, 'more': 0.002004008016032064, 'paddingsame': 0.002004008016032064, 'different': 0.002004008016032064, 'stacked_embedings': 0.002004008016032064, 'probability': 0.002004008016032064, 'figure': 0.03807615230460922, 'preloading': 0.004008016032064128, 'we': 0.03206412825651302, 'sampled_softmax_loss': 0.002004008016032064, 'generative': 0.002004008016032064, 'found_similar_word': 0.002004008016032064, 'state': 0.002004008016032064, 'caption': 0.004008016032064128, 'onetoone': 0.002004008016032064, 'stddevdtypetffloatnamew_ss': 0.002004008016032064, 'dtypetfint': 0.002004008016032064, 'generating': 0.002004008016032064, 'of': 0.004008016032064128, 'current': 0.002004008016032064, 'reference': 0.002004008016032064, 'visual': 0.002004008016032064, 'note': 0.002004008016032064, 'then': 0.026052104208416832, 'hierarchical': 0.002004008016032064, 'they': 0.002004008016032064, 'making': 0.004008016032064128, 'dtypetffloat': 0.002004008016032064, 'max': 0.002004008016032064, 'greedy': 0.002004008016032064, 'this': 0.018036072144288578, 'connected': 0.002004008016032064, 'there': 0.004008016032064128, 'ilsvrc': 0.002004008016032064, 'recurrent': 0.002004008016032064, 'teaching': 0.002004008016032064, 'implementation': 0.002004008016032064, 'rnndropoutwrapper': 0.002004008016032064, 'vectors': 0.002004008016032064, 'unk': 0.002004008016032064, 'leave': 0.002004008016032064, 'conditional': 0.002004008016032064, 'inferring': 0.002004008016032064, 'comparing': 0.002004008016032064, 'however': 0.01002004008016032, 'gave': 0.004008016032064128, 'gans': 0.002004008016032064, 'multiplication': 0.002004008016032064, 'examples': 0.002004008016032064, 'dilated': 0.002004008016032064, 'after': 0.012024048096192385, 'why': 0.002004008016032064, 'en_embeddings': 0.002004008016032064}\n",
      "\n",
      " natural {'way': 0.02040816326530612, 'in': 0.02040816326530612, 'bestmatching': 0.02040816326530612, 'nearest': 0.02040816326530612, 'logarithm': 0.02040816326530612, 'language': 0.8775510204081632, 'dimensionality': 0.02040816326530612}\n",
      "\n",
      " language {'often': 0.00625, 'corresponds': 0.00625, 'another': 0.0125, 'into': 0.00625, 'statistical': 0.00625, 'now': 0.00625, 'understand': 0.00625, 'feature': 0.00625, 'to': 0.0625, 'you': 0.00625, 'entity': 0.00625, 'acts': 0.00625, 'an': 0.00625, 'toolkit': 0.00625, 'python': 0.00625, 'neutral': 0.00625, 'finally': 0.00625, 'processing': 0.225, 'concisely': 0.00625, 'translation': 0.01875, 'such': 0.0125, 'in': 0.025, '[]': 0.00625, 'we': 0.00625, 'which': 0.00625, 'does': 0.00625, 'sentence': 0.0125, 'for': 0.06875, 'that': 0.00625, 'by': 0.0125, 'modeling': 0.05625, 'modelling': 0.0125, 'grounding': 0.0625, 'generation': 0.04375, 'structurebased': 0.00625, 'as': 0.025, '[': 0.00625, 'then': 0.00625, 'google': 0.00625, 'sentences': 0.0125, 'words': 0.00625, 'bias': 0.0125, 'appreciation': 0.00625, 'this': 0.00625, 'source': 0.00625, 'phrases': 0.00625, 'the': 0.00625, 'can': 0.01875, 'dialogue': 0.00625, 'so': 0.00625, 's': 0.00625, 'a': 0.0125, 'would': 0.00625, 'compared': 0.00625, 'and': 0.0625, 'has': 0.00625}\n",
      "\n",
      " processing {'according': 0.01282051282051282, 'volume': 0.01282051282051282, 'tensorflow': 0.01282051282051282, 'to': 0.01282051282051282, 'two': 0.01282051282051282, 'them': 0.02564102564102564, 'irregularly': 0.01282051282051282, 'finally': 0.02564102564102564, 'i': 0.01282051282051282, 'spatial': 0.01282051282051282, 'has': 0.01282051282051282, 'history': 0.01282051282051282, 'in': 0.01282051282051282, 'with': 0.02564102564102564, 'chapter': 0.01282051282051282, 'we': 0.01282051282051282, 'nlp': 0.0641025641025641, 'where': 0.01282051282051282, 'understanding': 0.01282051282051282, 'advisory': 0.02564102564102564, 'differently': 0.01282051282051282, 'what': 0.01282051282051282, 'natural': 0.02564102564102564, 'systems': 0.07692307692307693, 'train_labels': 0.01282051282051282, 'embarks': 0.01282051282051282, 'images': 0.02564102564102564, 'multiple': 0.01282051282051282, 'data': 0.038461538461538464, 'pp': 0.038461538461538464, 'only': 0.01282051282051282, 'operation': 0.01282051282051282, 'text': 0.01282051282051282, 'raw': 0.01282051282051282, 'intext': 0.01282051282051282, 'source': 0.01282051282051282, 'the': 0.0641025641025641, 'mechanisms': 0.01282051282051282, 'library': 0.01282051282051282, 'units': 0.05128205128205128, 'textual': 0.01282051282051282, 'a': 0.08974358974358974, 'tasks': 0.01282051282051282, '[': 0.02564102564102564, 'depending': 0.01282051282051282}\n",
      "\n",
      " with {'thousands': 0.001349527665317139, 'phrasebased': 0.001349527665317139, 'code': 0.001349527665317139, 'padding': 0.004048582995951417, 'basic': 0.001349527665317139, 'unigram': 0.001349527665317139, 'm': 0.001349527665317139, 'tfvariable_scopelayer': 0.002699055330634278, 'tfcontrol_dependencies[tfassignprev_valid_s': 0.001349527665317139, 'tfvariable_scopescopeareusetrue': 0.002699055330634278, 'feedforward': 0.002699055330634278, 'tensorflow': 0.02834008097165992, 'visualizing': 0.001349527665317139, 'goals': 0.001349527665317139, 'deep': 0.001349527665317139, 'lstmwordvec': 0.001349527665317139, 'python': 0.004048582995951417, 'rows': 0.001349527665317139, 'it': 0.001349527665317139, 'such': 0.004048582995951417, 'human': 0.001349527665317139, 'in': 0.002699055330634278, 'us': 0.001349527665317139, 'tfvariable_scopelayerreusetrue': 0.002699055330634278, 'contextual': 0.001349527665317139, 'ensemble': 0.001349527665317139, 'hundreds': 0.001349527665317139, 'tfvariable_scopeadam': 0.002699055330634278, 'lstms': 0.005398110661268556, 'by': 0.001349527665317139, 'skill': 0.001349527665317139, 'length': 0.001349527665317139, 'good': 0.001349527665317139, 't': 0.001349527665317139, 'smaller': 0.001349527665317139, 'tfcontrol_dependencies[tfassignprev_valid_hnext_valid_': 0.001349527665317139, 'wordnet': 0.001349527665317139, 'our': 0.001349527665317139, 'small': 0.001349527665317139, 'context': 0.006747638326585695, 'input': 0.001349527665317139, 'tfsplit': 0.001349527665317139, 'sparse': 0.001349527665317139, 'special': 0.001349527665317139, 'pretrained': 0.008097165991902834, 'less': 0.004048582995951417, 'tfcontrol_dependencies[tfassignprev_test_hnext_test_': 0.001349527665317139, 'seqseq': 0.001349527665317139, 'pdf': 0.001349527665317139, 'fully': 0.001349527665317139, 'image': 0.004048582995951417, 'math': 0.001349527665317139, 'tfdevicecpu': 0.001349527665317139, 'strides': 0.001349527665317139, 'c': 0.001349527665317139, 'tf_inputs': 0.001349527665317139, 'unrolled': 0.004048582995951417, 'representing': 0.001349527665317139, 'be': 0.001349527665317139, 'bpttvanishing': 0.001349527665317139, 'standard': 0.006747638326585695, 'sequential': 0.001349527665317139, 'many': 0.002699055330634278, 'x': 0.002699055330634278, 'tfvariable_scopernn': 0.002699055330634278, 'relu': 0.002699055330634278, 'these': 0.001349527665317139, 'multilayer': 0.001349527665317139, 'clipping': 0.002699055330634278, 'scoping': 0.004048582995951417, 'tensorflowa': 0.001349527665317139, 'unrolling': 0.002699055330634278, 'arbitrary': 0.001349527665317139, 'noise': 0.001349527665317139, 'sequences': 0.001349527665317139, 'packt': 0.001349527665317139, 'eos': 0.001349527665317139, 'stride': 0.010796221322537112, 'ease': 0.001349527665317139, 'i': 0.001349527665317139, 'some': 0.008097165991902834, 'first': 0.001349527665317139, 'tfcontrol_dependencies[saved_test_outputassigntest_output': 0.001349527665317139, 'tfcontrol_dependencies[tfassignprev_test_snext_test_s': 0.001349527665317139, 'with': 0.001349527665317139, 'tfcontrol_dependencies[saved_valid_outputassignvalid_output': 0.001349527665317139, 'nlp': 0.001349527665317139, 'v': 0.002699055330634278, 'word': 0.014844804318488529, 'when': 0.001349527665317139, 'openospathjoinlog_dirmetadatatsv': 0.001349527665317139, 'tfvariable_scopecnn': 0.002699055330634278, 'richer': 0.001349527665317139, 'joyful': 0.001349527665317139, 'nmt': 0.001349527665317139, 'here': 0.001349527665317139, 'tfcontrol_dependencies[tfassignx': 0.001349527665317139, 'loops': 0.001349527665317139, 'actual': 0.002699055330634278, 'cbow': 0.002699055330634278, 'filter': 0.001349527665317139, 'traditional': 0.001349527665317139, 'grus': 0.001349527665317139, 'irregularities': 0.001349527665317139, 'practical': 0.001349527665317139, 'kmeans': 0.001349527665317139, 'keeping': 0.001349527665317139, 'hidden': 0.001349527665317139, 'both': 0.006747638326585695, 'scipy': 0.001349527665317139, 'bold': 0.001349527665317139, 'tfvariable_scopeembeddings': 0.001349527665317139, 'keras': 0.002699055330634278, 'him': 0.001349527665317139, 'following': 0.002699055330634278, 'about': 0.001349527665317139, 'zeros': 0.006747638326585695, 'implementations': 0.001349527665317139, 'peephole': 0.012145748987854251, 'otc': 0.001349527665317139, 'nonlinearity': 0.001349527665317139, 'french': 0.001349527665317139, 'heavier': 0.001349527665317139, 'and': 0.004048582995951417, 'policy': 0.004048582995951417, 'labels': 0.001349527665317139, 'large': 0.001349527665317139, 'fewer': 0.002699055330634278, 'subsampling': 0.001349527665317139, 'strategic': 0.001349527665317139, 'zero': 0.001349527665317139, 'multimodal': 0.001349527665317139, 'zipfilezipfileglovebzip': 0.002699055330634278, 'mean': 0.001349527665317139, 'neural': 0.002699055330634278, 'very': 0.001349527665317139, 'writing': 0.001349527665317139, 'hotel': 0.001349527665317139, 'tfcontrol_dependencies[saved_outputassignoutput': 0.005398110661268556, 'two': 0.001349527665317139, 'same': 0.001349527665317139, 'y': 0.001349527665317139, 'dense': 0.002699055330634278, 'other': 0.009446693657219974, 'humans': 0.002699055330634278, 'respect': 0.01349527665317139, 'unimpressive': 0.001349527665317139, 'cnn': 0.001349527665317139, 'gzipopenfname_img': 0.001349527665317139, 'n': 0.001349527665317139, 'attention': 0.01349527665317139, 'that': 0.001349527665317139, 'reinforcement': 0.002699055330634278, 'weights': 0.001349527665317139, 'few': 0.001349527665317139, 'side': 0.001349527665317139, 'dynamic': 0.001349527665317139, 'around': 0.001349527665317139, 'k': 0.001349527665317139, 'correct': 0.001349527665317139, 'others': 0.001349527665317139, 'every': 0.001349527665317139, 'sessionrunfeed_dictplaceholder': 0.001349527665317139, 'navely': 0.001349527665317139, 'billions': 0.001349527665317139, 'tfvariable_scopeoutput': 0.001349527665317139, 'wordvec': 0.004048582995951417, 'skipgram': 0.002699055330634278, 'text': 0.004048582995951417, 'edges': 0.001349527665317139, 'statement': 0.001349527665317139, 'tfvariable_scopescopea': 0.001349527665317139, 'probabilistic': 0.001349527665317139, 'numpy': 0.001349527665317139, 'dotted': 0.001349527665317139, 'their': 0.002699055330634278, 'the': 0.17813765182186234, 'reading': 0.001349527665317139, 'using': 0.004048582995951417, 'varying': 0.001349527665317139, 'regard': 0.001349527665317139, 'original': 0.001349527665317139, 'tfvariable_scopesgd': 0.002699055330634278, 'sessionrunminimize_op': 0.001349527665317139, 'not': 0.001349527665317139, 'z': 0.001349527665317139, 'gzipopenfname_lbl': 0.001349527665317139, 'tvembeddings': 0.001349527665317139, 'tfvariable_scopescopebreusetrue': 0.001349527665317139, 'a': 0.11605937921727395, 'beam': 0.006747638326585695, 'one': 0.004048582995951417, 'j': 0.002699055330634278, 'interesting': 0.001349527665317139, 'explicit': 0.002699055330634278, 'multiple': 0.001349527665317139, 'sentiment': 0.002699055330634278, 'tfcontrol_dependencies[tfassignprev_train_s': 0.001349527665317139, 'your': 0.001349527665317139, 'tfvariable_scopescopeb': 0.001349527665317139, 'peepholes': 0.02564102564102564, 'tfcontrol_dependencies[tfassignprev_train_houtput_h]': 0.001349527665317139, 'another': 0.001349527665317139, 'various': 0.005398110661268556, 'mt': 0.001349527665317139, 'bayesian': 0.001349527665317139, 'anaconda': 0.001349527665317139, 'openfilenamerencodingutf': 0.001349527665317139, 'bleu': 0.001349527665317139, 'to': 0.001349527665317139, 'more': 0.001349527665317139, 'different': 0.008097165991902834, 'tfvariable_scopescopereusetrue': 0.001349527665317139, 'tfvariable_scopescope': 0.001349527665317139, 'labeled': 0.001349527665317139, 'unigrambased': 0.002699055330634278, 'tfvariable_scopeoutputreusetrue': 0.001349527665317139, 'three': 0.002699055330634278, 'incorrect': 0.001349527665317139, 'which': 0.002699055330634278, 'we': 0.001349527665317139, 'better': 0.004048582995951417, 'w': 0.001349527665317139, 'layers': 0.001349527665317139, 'limited': 0.001349527665317139, 'computer': 0.004048582995951417, 'glovezipopenglovebdtxt': 0.002699055330634278, 'rnns': 0.004048582995951417, 'images': 0.001349527665317139, 'careful': 0.001349527665317139, 'data': 0.005398110661268556, 'visual': 0.004048582995951417, 'tfcontrol_dependencies[saved_sample_beam_output[vi]': 0.001349527665317139, 'then': 0.001349527665317139, 'only': 0.002699055330634278, 'all': 0.002699055330634278, 'words': 0.009446693657219974, 'central': 0.001349527665317139, 'time': 0.001349527665317139, 'tensorboard': 0.004048582995951417, 'either': 0.001349527665317139, 'this': 0.022941970310391364, 'tfglobal_variables_': 0.001349527665317139, 'tvembedding': 0.001349527665317139, 'much': 0.004048582995951417, 'several': 0.004048582995951417, 'recurrent': 0.005398110661268556, 'new': 0.004048582995951417, 'conventional': 0.001349527665317139, 'four': 0.002699055330634278, 'inferring': 0.001349527665317139, 'cnns': 0.005398110661268556, 'its': 0.002699055330634278, 'businesses': 0.001349527665317139, 'textual': 0.001349527665317139, 'each': 0.004048582995951417, 'vgg': 0.005398110661268556, 'longer': 0.002699055330634278, 'an': 0.021592442645074223, 'poolingsubsampling': 0.001349527665317139, 'clustering': 0.001349527665317139, 'logits': 0.001349527665317139}\n",
      "\n",
      " tensorflow {'binary': 0.0036231884057971015, 'code': 0.007246376811594203, 'basic': 0.0036231884057971015, 'known': 0.007246376811594203, 'tensorflow': 0.007246376811594203, 'implementing': 0.0036231884057971015, 'operations': 0.021739130434782608, 'librarythe': 0.0036231884057971015, 'such': 0.007246376811594203, 'in': 0.028985507246376812, 'chapter': 0.007246376811594203, 'installing': 0.0036231884057971015, 'underneath': 0.007246376811594203, 'execution': 0.0036231884057971015, 'by': 0.0036231884057971015, 'version': 0.0036231884057971015, 'functions': 0.0036231884057971015, 'input': 0.0036231884057971015, 'do': 0.0036231884057971015, 'introduces': 0.0036231884057971015, 'tensors': 0.007246376811594203, 'can': 0.007246376811594203, 'seqseq': 0.014492753623188406, 'indicates': 0.0036231884057971015, 'example': 0.0036231884057971015, 'x': 0.007246376811594203, 'https': 0.0036231884057971015, 'already': 0.0036231884057971015, 'continuous': 0.007246376811594203, 'numerical': 0.0036231884057971015, 'client': 0.06521739130434782, 'produced': 0.0036231884057971015, 'finally': 0.0036231884057971015, 'first': 0.007246376811594203, 'getting': 0.0036231884057971015, 'than': 0.0036231884057971015, 'with': 0.014492753623188406, 'does': 0.007246376811594203, 'allows': 0.0036231884057971015, 'what': 0.0036231884057971015, 'graph': 0.007246376811594203, 'here': 0.007246376811594203, 'summary': 0.007246376811594203, 'terminology': 0.0036231884057971015, 'builtin': 0.007246376811594203, 'api': 0.010869565217391304, 'copyright': 0.0036231884057971015, 'limitation': 0.0036231884057971015, 'about': 0.0036231884057971015, 'and': 0.007246376811594203, '[': 0.010869565217391304, 'or': 0.0036231884057971015, 'on': 0.0036231884057971015, 'two': 0.0036231884057971015, 'operates': 0.0036231884057971015, 'requires': 0.0036231884057971015, 'sigmoid': 0.0036231884057971015, 'is': 0.025362318840579712, 'executes': 0.014492753623188406, 'understanding': 0.007246376811594203, 'element': 0.0036231884057971015, 'for': 0.0036231884057971015, 'that': 0.014492753623188406, 'computes': 0.0036231884057971015, 'at': 0.0036231884057971015, 'unigrams': 0.0036231884057971015, 'architecture': 0.014492753623188406, 'variable': 0.025362318840579712, 'as': 0.043478260869565216, 'installed': 0.0036231884057971015, 'operation': 0.0036231884057971015, 'versions': 0.0036231884057971015, 'automatically': 0.0036231884057971015, 'variables': 0.05434782608695652, 'second': 0.0036231884057971015, 'also': 0.0036231884057971015, 'the': 0.007246376811594203, 'library': 0.021739130434782608, 'rnn': 0.06521739130434782, 'server': 0.0036231884057971015, 'framework': 0.007246376811594203, 'a': 0.0036231884057971015, 'one': 0.0036231884057971015, 'has': 0.010869565217391304, 'outputs': 0.0036231884057971015, 'will': 0.014492753623188406, 'now': 0.0036231884057971015, 'to': 0.025362318840579712, 'access': 0.0036231884057971015, 'because': 0.0036231884057971015, 'research': 0.007246376811594203, 'was': 0.0036231884057971015, 'placeholders': 0.007246376811594203, 'teach': 0.0036231884057971015, 'we': 0.014492753623188406, 'which': 0.0036231884057971015, 'unless': 0.0036231884057971015, 'encapsulates': 0.0036231884057971015, 'step': 0.0036231884057971015, 'elements': 0.0036231884057971015, 'follow': 0.0036231884057971015, 'clients': 0.0036231884057971015, 'then': 0.0036231884057971015, 'provides': 0.025362318840579712, 'behaves': 0.007246376811594203, 'this': 0.018115942028985508, 'there': 0.0036231884057971015, 'implementation': 0.018115942028985508, 'intializers': 0.0036231884057971015, 'inserts': 0.0036231884057971015, 'its': 0.0036231884057971015, 'however': 0.0036231884057971015, 'without': 0.0036231884057971015, 'default': 0.0036231884057971015, 'revisit': 0.0036231884057971015, 'an': 0.0036231884057971015, 'compared': 0.0036231884057971015, 'after': 0.0036231884057971015}\n",
      "\n",
      " teach {'language': 0.25, 'our': 0.25, 'several': 0.5}\n",
      "\n",
      " to {'process': 0.004073319755600814, 'vary': 0.0004073319755600815, 'understand': 0.02240325865580448, 'over': 0.0004073319755600815, 'hold': 0.0004073319755600815, 'apply': 0.0004073319755600815, 'predict': 0.006924643584521385, 'rely': 0.0004073319755600815, 'convolution': 0.000814663951120163, 'linear': 0.0004073319755600815, 'capture': 0.001629327902240326, 'although': 0.0004073319755600815, 'start': 0.000814663951120163, 'discriminate': 0.0004073319755600815, 'wrong': 0.0004073319755600815, 'skim': 0.0004073319755600815, 'formulate': 0.0004073319755600815, 'thank': 0.0004073319755600815, 'adddiscard': 0.0004073319755600815, 'gain': 0.002036659877800407, 'rich': 0.0004073319755600815, 'our': 0.002036659877800407, 'check': 0.002443991853360489, 'hoodie': 0.0004073319755600815, 'right': 0.0004073319755600815, 'fully': 0.0004073319755600815, 'design': 0.001629327902240326, 'simplify': 0.0012219959266802445, 'replace': 0.002036659877800407, 's': 0.0004073319755600815, 'c': 0.0004073319755600815, 'sicht': 0.0004073319755600815, 'be': 0.043177189409368634, 'circumvent': 0.0004073319755600815, 'older': 0.0004073319755600815, 'index': 0.000814663951120163, 'unseen': 0.0004073319755600815, 'explain': 0.0004073319755600815, 'compare': 0.000814663951120163, 'emphasize': 0.000814663951120163, 'casings': 0.0004073319755600815, 'generate': 0.012627291242362525, 'with': 0.0004073319755600815, 'alleviate': 0.0012219959266802445, 'wordbased': 0.0004073319755600815, 'find': 0.0004073319755600815, 'write': 0.003258655804480652, 'what': 0.0028513238289205704, 'activate': 0.0004073319755600815, 'advertise': 0.0004073319755600815, 'john': 0.0004073319755600815, 'interact': 0.0004073319755600815, 'map': 0.0004073319755600815, 'change': 0.0012219959266802445, 'worry': 0.002036659877800407, 'categorize': 0.0004073319755600815, 'creating': 0.0004073319755600815, 'preserve': 0.0004073319755600815, 'convolve': 0.000814663951120163, 'review': 0.0004073319755600815, 'takes': 0.0004073319755600815, 'give': 0.002036659877800407, 'learn': 0.026883910386965377, 'perceive': 0.0004073319755600815, 'document': 0.0012219959266802445, 'learning': 0.003258655804480652, 'evaluate': 0.004887983706720978, 'he': 0.0004073319755600815, 'deployment': 0.0004073319755600815, 'columns': 0.0004073319755600815, 'zero': 0.001629327902240326, 'take': 0.0012219959266802445, 'mean': 0.0004073319755600815, 'forgetremember': 0.0004073319755600815, 'italy': 0.0004073319755600815, 'consider': 0.000814663951120163, 'feature': 0.0004073319755600815, 'compute': 0.006517311608961304, 'two': 0.000814663951120163, 'people': 0.000814663951120163, 'detail': 0.0004073319755600815, 'ow': 0.000814663951120163, 'developed': 0.0004073319755600815, 'other': 0.001629327902240326, 'collect': 0.0004073319755600815, 'generally': 0.0004073319755600815, 'barrier': 0.0004073319755600815, 'suitcase': 0.0004073319755600815, 'say': 0.0004073319755600815, 'memorize': 0.0004073319755600815, 'handle': 0.000814663951120163, 'for': 0.0012219959266802445, 'successfully': 0.0004073319755600815, 'prevent': 0.0012219959266802445, 'nm': 0.0004073319755600815, 'stars': 0.0004073319755600815, 'been': 0.0004073319755600815, 'decide': 0.0004073319755600815, 'skipgram': 0.000814663951120163, 'probabilistic': 0.0004073319755600815, 'download': 0.0012219959266802445, 'minimize': 0.002443991853360489, 'calculate': 0.015885947046843176, 'place': 0.0004073319755600815, 'tfint': 0.0004073319755600815, 'their': 0.002036659877800407, 'the': 0.1470468431771894, 'determine': 0.001629327902240326, 'said': 0.000814663951120163, 'unit': 0.0004073319755600815, 'assign': 0.000814663951120163, 'not': 0.0004073319755600815, 'trigger': 0.0004073319755600815, 'cope': 0.0012219959266802445, 'since': 0.0004073319755600815, 'explore': 0.001629327902240326, 'properly': 0.0004073319755600815, 'treat': 0.0004073319755600815, 'results': 0.0004073319755600815, 'remember': 0.000814663951120163, 'another': 0.004073319755600814, 'realize': 0.0004073319755600815, 'propagate': 0.0012219959266802445, 'now': 0.0004073319755600815, 'sum': 0.0004073319755600815, 'tfnnconvd': 0.0004073319755600815, 'hhe': 0.000814663951120163, 'algorithms': 0.0004073319755600815, 'processing': 0.000814663951120163, 'probability': 0.0004073319755600815, 'three': 0.000814663951120163, 'reach': 0.000814663951120163, 'we': 0.0012219959266802445, 'unaware': 0.0004073319755600815, 'manually': 0.0004073319755600815, 'proper': 0.0004073319755600815, 'excel': 0.0004073319755600815, 'avoid': 0.004073319755600814, 'regular': 0.0004073319755600815, 'careful': 0.0004073319755600815, 'they': 0.000814663951120163, 'making': 0.0004073319755600815, 'view': 0.0004073319755600815, 'extract': 0.0028513238289205704, 'translate': 0.0012219959266802445, 'sport': 0.0004073319755600815, 'cnns': 0.0004073319755600815, 'solve': 0.008553971486761711, 'bring': 0.0004073319755600815, 'accomplish': 0.000814663951120163, 'longer': 0.0004073319755600815, 'maximize': 0.0036659877800407333, 'why': 0.0004073319755600815, 'known': 0.0004073319755600815, 'm': 0.000814663951120163, 'modify': 0.0004073319755600815, 'tensorflow': 0.0012219959266802445, 'annotate': 0.0004073319755600815, 'performing': 0.0004073319755600815, 'deep': 0.0004073319755600815, 'achieve': 0.005702647657841141, 'achieving': 0.000814663951120163, 'remain': 0.0004073319755600815, 'such': 0.0004073319755600815, 'always': 0.000814663951120163, 'update': 0.002443991853360489, 'lstms': 0.002443991853360489, 'hout': 0.0004073319755600815, 'query': 0.0004073319755600815, 'infer': 0.0012219959266802445, 'prefer': 0.0004073319755600815, 'repeat': 0.0004073319755600815, 'create': 0.0028513238289205704, 'filipino': 0.0004073319755600815, 'structure': 0.0004073319755600815, 'clusterclassify': 0.0004073319755600815, 'denote': 0.002036659877800407, 'shudder': 0.0004073319755600815, 'patches': 0.0004073319755600815, 'input': 0.0004073319755600815, 'sequence': 0.001629327902240326, 'date': 0.000814663951120163, 'complete': 0.000814663951120163, 'think': 0.0012219959266802445, '[john]': 0.0004073319755600815, 'jointly': 0.0004073319755600815, 'prepare': 0.001629327902240326, 'float': 0.0004073319755600815, 'put': 0.000814663951120163, 'analyze': 0.0004073319755600815, 'bianca': 0.0004073319755600815, 'squash': 0.0004073319755600815, 'quit': 0.0004073319755600815, 'fetch': 0.0004073319755600815, 'get': 0.010997963340122199, 'x': 0.0012219959266802445, 'https': 0.0004073319755600815, 'clean': 0.0004073319755600815, 'save': 0.0012219959266802445, 'correlate': 0.000814663951120163, 'numerical': 0.0004073319755600815, 'person': 0.0004073319755600815, 'topics': 0.0004073319755600815, 'detect': 0.001629327902240326, 'first': 0.0004073319755600815, '_______________': 0.0004073319755600815, '[]': 0.0004073319755600815, 'initialize': 0.002036659877800407, 'onehotencoded': 0.0004073319755600815, 'install': 0.002443991853360489, 'nlp': 0.0012219959266802445, 'word': 0.000814663951120163, '[num_unrollingsbatch_size': 0.0004073319755600815, 'stop': 0.002443991853360489, 'natural': 0.004073319755600814, 'nmt': 0.0004073319755600815, 'store': 0.003258655804480652, 'have': 0.011405295315682282, 'communicate': 0.002036659877800407, 'credit': 0.0004073319755600815, 'hidden': 0.0004073319755600815, 'match': 0.0028513238289205704, 'girls': 0.0004073319755600815, 'ct': 0.0004073319755600815, 'visually': 0.0012219959266802445, '[batch_size': 0.0004073319755600815, '[': 0.0004073319755600815, 'those': 0.000814663951120163, 'mary': 0.0004073319755600815, 'character': 0.0004073319755600815, 'tffloat': 0.000814663951120163, 'having': 0.000814663951120163, 'true': 0.0012219959266802445, 'advancesdetails': 0.0004073319755600815, 'deal': 0.0004073319755600815, 'old': 0.0004073319755600815, 'use': 0.017107942973523423, 'passing': 0.0004073319755600815, 'y': 0.0004073319755600815, 'reset': 0.000814663951120163, 'spatial': 0.0004073319755600815, 'though': 0.0004073319755600815, 'kernel': 0.0004073319755600815, 'reuse': 0.000814663951120163, 'classifycluster': 0.0012219959266802445, 'top': 0.0004073319755600815, 'devise': 0.0004073319755600815, 'ensure': 0.002036659877800407, 'n': 0.0012219959266802445, 'pay': 0.001629327902240326, 'introduce': 0.0004073319755600815, 'bottom': 0.0004073319755600815, 'exploit': 0.001629327902240326, 'as': 0.001629327902240326, 'tackle': 0.0004073319755600815, 'classifying': 0.0004073319755600815, 'wordvec': 0.001629327902240326, 'doping': 0.0004073319755600815, 'text': 0.000814663951120163, 'classify': 0.008146639511201629, 'contain': 0.0004073319755600815, 'her': 0.002036659877800407, 'recognize': 0.0012219959266802445, 'cell': 0.000814663951120163, 'computational': 0.0004073319755600815, 'complex': 0.0004073319755600815, 'incorporate': 0.0012219959266802445, 'remove': 0.000814663951120163, 'focus': 0.0004073319755600815, 'your': 0.0004073319755600815, 'measure': 0.0028513238289205704, 'outperform': 0.0004073319755600815, 'try': 0.0012219959266802445, 'tell': 0.0004073319755600815, 'you': 0.0012219959266802445, 'organize': 0.0004073319755600815, 'forcing': 0.0004073319755600815, 'an': 0.004073319755600814, 'display': 0.000814663951120163, 'segment_ids': 0.0004073319755600815, 'more': 0.003258655804480652, 'cry': 0.0004073319755600815, 'incorrect': 0.0004073319755600815, 'search': 0.0004073319755600815, 'figure': 0.001629327902240326, 'teach': 0.000814663951120163, 'ngram': 0.0004073319755600815, 'better': 0.004073319755600814, 'approximate': 0.0004073319755600815, 'step': 0.0004073319755600815, 'import': 0.0012219959266802445, 'rnns': 0.000814663951120163, 'help': 0.002036659877800407, 'elements': 0.0004073319755600815, 'great': 0.0004073319755600815, 'english': 0.004887983706720978, 'then': 0.001629327902240326, 'dropout': 0.0004073319755600815, 'max': 0.0004073319755600815, 'draw': 0.002036659877800407, 'day': 0.0004073319755600815, 'set': 0.0012219959266802445, 'so': 0.000814663951120163, 'its': 0.0004073319755600815, 'pick': 0.0004073319755600815, 'logits': 0.0004073319755600815, 'machines': 0.0004073319755600815, 'include': 0.0004073319755600815, 'converse': 0.0004073319755600815, 'discard': 0.001629327902240326, 'layer': 0.0004073319755600815, 'it': 0.002036659877800407, 'last': 0.0004073319755600815, 'us': 0.0004073319755600815, 'attend': 0.0004073319755600815, 'increment': 0.0004073319755600815, 'cluster': 0.002036659877800407, 'resolve': 0.000814663951120163, 't': 0.000814663951120163, 'target': 0.0004073319755600815, 'utilize': 0.0004073319755600815, 'assume': 0.000814663951120163, 'areas': 0.0004073319755600815, 'do': 0.008146639511201629, 'retrieve': 0.0012219959266802445, 'embed': 0.0004073319755600815, 'modern': 0.0004073319755600815, 'identify': 0.002036659877800407, 'respond': 0.0004073319755600815, 'tfnn': 0.0004073319755600815, 'form': 0.0036659877800407333, 'any': 0.0012219959266802445, 'standard': 0.0012219959266802445, 'lay': 0.0004073319755600815, 'experiment': 0.000814663951120163, 'quickly': 0.0004073319755600815, 'attentionbased': 0.000814663951120163, 'swap': 0.0004073319755600815, 'favor': 0.0004073319755600815, 'differentiating': 0.0004073319755600815, 'represent': 0.003258655804480652, 'skip': 0.0004073319755600815, 'arrive': 0.000814663951120163, 'clip': 0.0004073319755600815, 'proceed': 0.0004073319755600815, 'some': 0.002443991853360489, 'approach': 0.0004073319755600815, 'answer': 0.0012219959266802445, 'directly': 0.0004073319755600815, 'onehot': 0.000814663951120163, 'distributed': 0.0004073319755600815, 'previous': 0.0004073319755600815, 'visualize': 0.004480651731160896, 'actual': 0.0004073319755600815, 'debug': 0.0004073319755600815, 'individual': 0.000814663951120163, 'bigrams': 0.0004073319755600815, 'produce': 0.013034623217922607, 'island': 0.0004073319755600815, 'free': 0.0004073319755600815, 'computing': 0.000814663951120163, 'decay': 0.000814663951120163, 'adapt': 0.0004073319755600815, 'keras': 0.0012219959266802445, 'pickaxe': 0.0004073319755600815, 'schritte': 0.0004073319755600815, 'something': 0.0012219959266802445, 'run': 0.002036659877800407, 'documents': 0.0004073319755600815, 'attributes': 0.0004073319755600815, 'on': 0.0004073319755600815, 'multimodal': 0.0004073319755600815, 'very': 0.0004073319755600815, 'suggest': 0.0004073319755600815, 'transform': 0.0012219959266802445, 'timemajor': 0.0004073319755600815, 'ask': 0.0004073319755600815, 'sgd': 0.0004073319755600815, 'sample': 0.002036659877800407, 'play': 0.000814663951120163, 'variable': 0.0004073319755600815, 'german': 0.0004073319755600815, 'continue': 0.0004073319755600815, 'states': 0.0004073319755600815, 'fulfill': 0.0004073319755600815, 'exist': 0.0004073319755600815, 'meaning': 0.0004073319755600815, 'load': 0.0004073319755600815, 'become': 0.0004073319755600815, 'read': 0.0028513238289205704, 'ther': 0.001629327902240326, 'output': 0.007739307535641548, 'xx': 0.0004073319755600815, 'training': 0.000814663951120163, 'a': 0.03095723014256619, 'decrease': 0.0004073319755600815, 'one': 0.0012219959266802445, 'ht': 0.0004073319755600815, 'mt': 0.0004073319755600815, 'carry': 0.0012219959266802445, 'to': 0.0012219959266802445, 'test': 0.000814663951120163, 'access': 0.0004073319755600815, 'different': 0.0036659877800407333, 'log': 0.0012219959266802445, 'address': 0.000814663951120163, 'which': 0.0004073319755600815, 'unroll': 0.0004073319755600815, 'show': 0.000814663951120163, 'recreate': 0.0004073319755600815, 'construct': 0.0004073319755600815, 'reduce': 0.004887983706720978, 'war': 0.0004073319755600815, 'improve': 0.008553971486761711, 'buy': 0.0004073319755600815, 'aggregate': 0.0004073319755600815, 'define': 0.0004073319755600815, 'generating': 0.000814663951120163, 'follow': 0.000814663951120163, 'monitor': 0.0004073319755600815, 'increase': 0.002443991853360489, 'puppy': 0.0004073319755600815, 'ignore': 0.0012219959266802445, 'implement': 0.015478615071283095, 'connect': 0.000814663951120163, 'peard': 0.0004073319755600815, 'discern': 0.0004073319755600815, 'summarize': 0.0012219959266802445, 'this': 0.003258655804480652, 'several': 0.000814663951120163, 'correct': 0.0012219959266802445, 'control': 0.0004073319755600815, 'decoder': 0.0004073319755600815, 'adhere': 0.0004073319755600815, 'happen': 0.000814663951120163, 'bad': 0.0004073319755600815, 'come': 0.0004073319755600815, 'mask': 0.000814663951120163, 'build': 0.0028513238289205704, 'them': 0.002443991853360489, 'python': 0.0004073319755600815, 'c_i': 0.0004073319755600815, 'model': 0.0028513238289205704, 'human': 0.0004073319755600815, 'in': 0.001629327902240326, 'imagine': 0.0004073319755600815, 'approximately': 0.0004073319755600815, 'perform': 0.014663951120162933, 'investigate': 0.0004073319755600815, 'feed': 0.0028513238289205704, 'agents': 0.0004073319755600815, 'improving': 0.0004073319755600815, 'small': 0.0004073319755600815, 'tf_logits': 0.0004073319755600815, 'breaking': 0.0004073319755600815, 'explicitly': 0.0012219959266802445, 'see': 0.013441955193482688, 'school': 0.0004073319755600815, 'these': 0.000814663951120163, 'structured': 0.001629327902240326, 'between': 0.0004073319755600815, 'arbitrary': 0.0004073319755600815, 'add': 0.0028513238289205704, 'themselver': 0.0004073319755600815, 'compress': 0.0004073319755600815, 'sleep': 0.0004073319755600815, 'shoreline': 0.0004073319755600815, 'calculating': 0.001629327902240326, 'highly': 0.0004073319755600815, 'identity': 0.000814663951120163, 'discuss': 0.0004073319755600815, 'e': 0.000814663951120163, 'tensorflow_introductionipynb': 0.0004073319755600815, 'select': 0.0004073319755600815, 'cbow': 0.001629327902240326, 'observe': 0.000814663951120163, 'maintain': 0.001629327902240326, 'compromising': 0.0004073319755600815, 'subtle': 0.0004073319755600815, 'break': 0.002036659877800407, 'solving': 0.0012219959266802445, 'both': 0.001629327902240326, 'retain': 0.000814663951120163, 'refer': 0.0004073319755600815, 'mighty': 0.0004073319755600815, 'him': 0.000814663951120163, 'greater': 0.0004073319755600815, 'somether': 0.0004073319755600815, 'optimize': 0.002443991853360489, 'french': 0.000814663951120163, 'convert': 0.000814663951120163, 'believe': 0.0004073319755600815, 'surpass': 0.000814663951120163, 'train': 0.009775967413441956, 'and': 0.004073319755600814, 'himself': 0.000814663951120163, 'know': 0.002443991853360489, 'slightly': 0.0004073319755600815, 'train_inputs_processed': 0.0004073319755600815, 'or': 0.0004073319755600815, 'distinguish': 0.002036659877800407, 'grasp': 0.0004073319755600815, 'neural': 0.000814663951120163, 'subsample': 0.000814663951120163, 'quantitatively': 0.0004073319755600815, 'populate': 0.0004073319755600815, 'items': 0.0004073319755600815, 'decode': 0.0004073319755600815, 'highlight': 0.000814663951120163, 'choose': 0.000814663951120163, 'make': 0.018329938900203666, 'my': 0.0004073319755600815, 'listen': 0.0004073319755600815, 'stir': 0.0004073319755600815, 'convey': 0.0004073319755600815, 'is': 0.0012219959266802445, 'understanding': 0.000814663951120163, 'that': 0.005702647657841141, 'ibm': 0.0004073319755600815, 'sweep': 0.0004073319755600815, 'minimizing': 0.0004073319755600815, 'keep': 0.003258655804480652, 'higher': 0.0004073319755600815, 'combine': 0.0012219959266802445, 'develop': 0.0028513238289205704, 'provide': 0.0028513238289205704, 'cross': 0.000814663951120163, 'vanilla': 0.000814663951120163, 'work': 0.000814663951120163, 'share': 0.000814663951120163, 'tie': 0.0004073319755600815, 'using': 0.002036659877800407, 'cover': 0.000814663951120163, 'eating': 0.0004073319755600815, 'truncate': 0.0004073319755600815, 'effectively': 0.0004073319755600815, 'various': 0.0012219959266802445, 'will': 0.0004073319755600815, 'his': 0.0004073319755600815, 'eat': 0.0012219959266802445, 'deliver': 0.000814663951120163, 'research': 0.0004073319755600815, 'persist': 0.0012219959266802445, 'obtain': 0.005702647657841141, 'false': 0.000814663951120163, 'h': 0.002036659877800407, 'tt': 0.000814663951120163, 'limited': 0.0004073319755600815, 'terms': 0.0004073319755600815, 'prepped': 0.0004073319755600815, 'correctly': 0.000814663951120163, 'current': 0.0004073319755600815, 'data': 0.0028513238289205704, 'normal': 0.0004073319755600815, 'note': 0.000814663951120163, 'all': 0.002443991853360489, 'leverage': 0.0004073319755600815, 'websites': 0.0004073319755600815, 'predicting': 0.000814663951120163, 'either': 0.000814663951120163, 'appear': 0.0012219959266802445, 'performances': 0.0004073319755600815, 'average': 0.000814663951120163, 'subgraphs': 0.0004073319755600815, 'predictions': 0.0004073319755600815, 'each': 0.006517311608961304, 'how': 0.002036659877800407, 'workers': 0.0004073319755600815, 'stepdown': 0.0004073319755600815, 'differentiate': 0.0004073319755600815, 'assess': 0.0004073319755600815, 'even': 0.0004073319755600815, 'behave': 0.0004073319755600815, 'look': 0.0028513238289205704, 'getting': 0.0004073319755600815, 'performance': 0.0004073319755600815, 'execute': 0.0004073319755600815}\n",
      "\n",
      " machines {'the': 0.09090909090909091, 'using': 0.09090909090909091, 'understand': 0.09090909090909091, 'to': 0.18181818181818182, 'computers': 0.09090909090909091, 'do': 0.09090909090909091, 'giving': 0.09090909090909091, 'tasks': 0.09090909090909091, 'quickly': 0.09090909090909091, 'machines': 0.09090909090909091}\n",
      "\n",
      " using {'basic': 0.004545454545454545, 'sympy': 0.004545454545454545, 'mask': 0.004545454545454545, 'tensorflow': 0.03636363636363636, 'deep': 0.00909090909090909, 'python': 0.013636363636363636, 'negative': 0.004545454545454545, 'in': 0.004545454545454545, 'convolution': 0.013636363636363636, 'approximately': 0.004545454545454545, 'nonlinear': 0.004545454545454545, 'wordnet': 0.00909090909090909, 'tfcontrol_': 0.004545454545454545, 'small': 0.004545454545454545, 'our': 0.004545454545454545, 'pretrained': 0.03636363636363636, 'bidirectional': 0.004545454545454545, 'ingredients': 0.004545454545454545, 'bilingual': 0.004545454545454545, 'any': 0.004545454545454545, 'transposed': 0.004545454545454545, 'zeroindexed': 0.004545454545454545, 'x': 0.004545454545454545, 'these': 0.004545454545454545, 'scoping': 0.004545454545454545, 'adamoptimizer': 0.004545454545454545, 'machine': 0.004545454545454545, 'stride': 0.004545454545454545, 'bow': 0.00909090909090909, 'with': 0.01818181818181818, 'onehotencoded': 0.004545454545454545, 'nlp': 0.004545454545454545, 'write': 0.004545454545454545, 'word': 0.045454545454545456, 'what': 0.004545454545454545, 'bptt': 0.004545454545454545, 'individual': 0.004545454545454545, 'offtheshelf': 0.004545454545454545, 'bigrams': 0.004545454545454545, 'hidden': 0.004545454545454545, 'both': 0.013636363636363636, 'keras': 0.004545454545454545, 'stochastic': 0.004545454545454545, 'challenging': 0.004545454545454545, 'tsne': 0.004545454545454545, 'embedding_dense': 0.004545454545454545, 'reduce_mean': 0.004545454545454545, 'cuda': 0.00909090909090909, 'tuples': 0.004545454545454545, 'for': 0.013636363636363636, 'that': 0.004545454545454545, 'attention': 0.004545454545454545, 'regression': 0.004545454545454545, 'variable': 0.004545454545454545, 'adam': 0.01818181818181818, 'region': 0.004545454545454545, 'skipgram': 0.004545454545454545, 'wordvec': 0.004545454545454545, 'meronyms': 0.004545454545454545, 'raw': 0.00909090909090909, 'their': 0.013636363636363636, 'the': 0.20909090909090908, 'using': 0.004545454545454545, 'computational': 0.004545454545454545, 'a': 0.08636363636363636, 'beam': 0.00909090909090909, 'momentumoptimizer': 0.004545454545454545, 'multiple': 0.004545454545454545, 'sentiment': 0.004545454545454545, 'pythons': 0.004545454545454545, 'just': 0.004545454545454545, 'various': 0.004545454545454545, 'more': 0.004545454545454545, 'placeholders': 0.004545454545454545, 'time_major_train_logits': 0.004545454545454545, 'which': 0.004545454545454545, 'limited': 0.00909090909090909, 'reshape': 0.004545454545454545, 'rnns': 0.00909090909090909, 'only': 0.004545454545454545, 'all': 0.004545454545454545, 'max': 0.004545454545454545, 'words': 0.00909090909090909, 'xavier': 0.004545454545454545, 'time': 0.00909090909090909, 'this': 0.022727272727272728, 'string': 0.004545454545454545, 'conventional': 0.004545454545454545, 'cnns': 0.004545454545454545, 'existing': 0.004545454545454545, 'gradient': 0.004545454545454545, 'longer': 0.004545454545454545, 'an': 0.05454545454545454}\n",
      "\n",
      " pythons {'deep': 1.0}\n",
      "\n",
      " deep {'or': 0.010526315789473684, 'into': 0.010526315789473684, 'neural': 0.07368421052631578, 'machine': 0.010526315789473684, 'nets': 0.010526315789473684, 'modelsconvolution': 0.010526315789473684, 'model': 0.021052631578947368, 'convolution': 0.010526315789473684, 'models': 0.11578947368421053, 'approximately': 0.010526315789473684, 'lstms': 0.05263157894736842, 'passion': 0.010526315789473684, 'network': 0.05263157894736842, 'idea': 0.010526315789473684, 'lstm': 0.042105263157894736, 'networks': 0.05263157894736842, 'learningbased': 0.021052631578947368, 'learn': 0.010526315789473684, 'vgg': 0.010526315789473684, 'learning': 0.4421052631578947, 'modela': 0.010526315789473684}\n",
      "\n",
      " learning {'from': 0.00906344410876133, 'process': 0.006042296072507553, 'longterm': 0.00906344410876133, 'toolkit': 0.0030211480362537764, 'deep': 0.0030211480362537764, 'algorithm': 0.01812688821752266, 'next': 0.0030211480362537764, 'model': 0.054380664652567974, 'such': 0.0030211480362537764, 'in': 0.00906344410876133, 'techniques': 0.00906344410876133, 'community': 0.006042296072507553, 'frameworks': 0.0030211480362537764, 'wordnet': 0.0030211480362537764, 'classical': 0.0030211480362537764, 'technique': 0.021148036253776436, 'easier': 0.0030211480362537764, 'interactive': 0.0030211480362537764, 'developers': 0.0030211480362537764, 'problem': 0.015105740181268883, 'rates': 0.0030211480362537764, 'normalizes': 0.0030211480362537764, 'feasible': 0.0030211480362537764, 'tasks': 0.00906344410876133, 'later': 0.0030211480362537764, 'many': 0.0030211480362537764, 'numerical': 0.0030211480362537764, 'if': 0.0030211480362537764, 'approach': 0.012084592145015106, 'with': 0.015105740181268883, 'where': 0.0030211480362537764, 'nlp': 0.0030211480362537764, 'word': 0.13897280966767372, 'models': 0.0513595166163142, 'manytomany': 0.0030211480362537764, 'made': 0.0030211480362537764, 'icml': 0.0030211480362537764, 'subtle': 0.0030211480362537764, 'problems': 0.0030211480362537764, 'applications': 0.006042296072507553, 'continues': 0.0030211480362537764, 'harness': 0.0030211480362537764, 'both': 0.0030211480362537764, 'about': 0.0030211480362537764, 'scikitlearn': 0.0030211480362537764, 'era': 0.006042296072507553, 'details': 0.0030211480362537764, 'and': 0.03323262839879154, '[': 0.0030211480362537764, 'learning': 0.0030211480362537764, 'he': 0.006042296072507553, 'on': 0.0030211480362537764, 'leading': 0.0030211480362537764, 'neural': 0.04229607250755287, 'drnns': 0.0030211480362537764, 'y': 0.0030211480362537764, 'is': 0.0030211480362537764, 'rate': 0.07250755287009064, 'became': 0.0030211480362537764, 'for': 0.015105740181268883, 'that': 0.0030211480362537764, 'at': 0.0030211480362537764, 'reinforcement': 0.0030211480362537764, 'pipeline': 0.015105740181268883, 'additionally': 0.0030211480362537764, 'as': 0.012084592145015106, 'region': 0.006042296072507553, 'second': 0.0030211480362537764, 'the': 0.0634441087613293, 'library': 0.0030211480362537764, 'algorithmthe': 0.0030211480362537764, 'complex': 0.0030211480362537764, 'a': 0.006042296072507553, 'one': 0.0030211480362537764, 'has': 0.00906344410876133, 'master': 0.0030211480362537764, 'power': 0.0030211480362537764, 'another': 0.0030211480362537764, 'leveraged': 0.0030211480362537764, 'rl': 0.006042296072507553, 'to': 0.03625377643504532, 'his': 0.0030211480362537764, 'research': 0.006042296072507553, 'algorithms': 0.03323262839879154, 'chatbots': 0.0030211480362537764, 'translations': 0.0030211480362537764, 'simultaneously': 0.0030211480362537764, 'we': 0.0030211480362537764, 'promising': 0.0030211480362537764, 'revolutionized': 0.0030211480362537764, 'algorithmsa': 0.0030211480362537764, 'international': 0.0030211480362537764, 'are': 0.0030211480362537764, 'rnns': 0.0030211480362537764, 'of': 0.006042296072507553, 'then': 0.0030211480362537764, 'tutorials': 0.0030211480362537764, 'they': 0.0030211480362537764, 'pp': 0.0030211480362537764, 'temporal': 0.0030211480362537764, 'this': 0.006042296072507553, 'representations': 0.006042296072507553, 'teaching': 0.0030211480362537764, 'methods': 0.00906344410876133, 'metaembeddings': 0.0030211480362537764, 'how': 0.0030211480362537764, 'longer': 0.0030211480362537764}\n",
      "\n",
      " library {'known': 0.029411764705882353, 'visualizing': 0.029411764705882353, 'to': 0.11764705882352941, 'through': 0.058823529411764705, 'such': 0.029411764705882353, 'in': 0.08823529411764706, 'is': 0.029411764705882353, 'we': 0.058823529411764705, 'ask': 0.029411764705882353, 'for': 0.058823529411764705, 'that': 0.14705882352941177, 'import': 0.029411764705882353, 'here': 0.029411764705882353, 'of': 0.029411764705882353, 'furthermore': 0.029411764705882353, 'provides': 0.029411764705882353, 'this': 0.029411764705882353, 'the': 0.029411764705882353, 'can': 0.029411764705882353, 'about': 0.029411764705882353, 'a': 0.029411764705882353, 'thushan': 0.029411764705882353}\n",
      "\n",
      " thushan {'ganegedara': 1.0}\n"
     ]
    }
   ],
   "source": [
    "ctr = 0\n",
    "for i, v in token_dict.items():\n",
    "    print('\\n', i, v)\n",
    "    ctr +=1\n",
    "    \n",
    "    if ctr> 15:\n",
    "        break"
   ]
  },
  {
   "cell_type": "markdown",
   "id": "3210f735-cf5c-4afe-a838-b66e9ba46192",
   "metadata": {},
   "source": [
    "#### predict next words"
   ]
  },
  {
   "cell_type": "code",
   "execution_count": 49,
   "id": "6792a462-2082-4969-b006-ccfe12c9c6de",
   "metadata": {},
   "outputs": [],
   "source": [
    "token_ask = 'machine'"
   ]
  },
  {
   "cell_type": "code",
   "execution_count": 50,
   "id": "a241a102-847f-4df2-b3d9-3c5868f4e70d",
   "metadata": {},
   "outputs": [
    {
     "name": "stdout",
     "output_type": "stream",
     "text": [
      "{'translation': 0.625, 'learning': 0.2784090909090909, 'translator': 0.028409090909090908, 'translators': 0.011363636363636364, 'the': 0.005681818181818182, 'systems': 0.005681818181818182, 'from': 0.005681818181818182, 'is': 0.005681818181818182, 'with': 0.005681818181818182, 'intelligence': 0.005681818181818182, 'c': 0.005681818181818182, 'to': 0.005681818181818182, 'and': 0.005681818181818182, '[': 0.005681818181818182}\n"
     ]
    }
   ],
   "source": [
    "if token_ask in token_dict:\n",
    "    \n",
    "    next_words_prob = token_dict[token_ask]\n",
    "    \n",
    "    #print(next_words_prob)\n",
    "    \n",
    "    print({k: v for k, v in sorted(next_words_prob.items(), key=lambda item: item[1], reverse=True)})"
   ]
  },
  {
   "cell_type": "code",
   "execution_count": null,
   "id": "dcb1adec-6d28-4e76-be66-e1d46d2ea314",
   "metadata": {},
   "outputs": [],
   "source": []
  }
 ],
 "metadata": {
  "kernelspec": {
   "display_name": "Python 3 (ipykernel)",
   "language": "python",
   "name": "python3"
  },
  "language_info": {
   "codemirror_mode": {
    "name": "ipython",
    "version": 3
   },
   "file_extension": ".py",
   "mimetype": "text/x-python",
   "name": "python",
   "nbconvert_exporter": "python",
   "pygments_lexer": "ipython3",
   "version": "3.8.5"
  }
 },
 "nbformat": 4,
 "nbformat_minor": 5
}
