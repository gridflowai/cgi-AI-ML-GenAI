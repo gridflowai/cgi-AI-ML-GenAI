{
 "cells": [
  {
   "cell_type": "markdown",
   "metadata": {},
   "source": [
    "## Word Prediction using N-Grams\n",
    "\n",
    "#### Overview: \n",
    "\n",
    "- The goal of this project is to create an algorithm that can shift through __ngrams__ to predict which word will most likely be typed next. The __Ngram__ Word Prediction Algorithm will predict a user's next word in any number of given circumstances. Using almost all the books in the world as a collection of data, this algorithm will be able to predict the most common word that would appear next in real time. \n",
    "\n",
    "- Assume the training data shows the frequency of \"data\" is 198, \"data entry\" is 12 and \"data streams\" is 10. We calculate the maximum likelihood estimate (MLE) as:\n",
    "\n",
    "The probability of \"data entry\":\n",
    "\n",
    "$$ P_{mle}(entry|data) = \\frac{12}{198} = 0.06 = 6\\%$$\n",
    "\n",
    "The probability of \"data streams\" is:\n",
    "\n",
    "$$ P_{mle}(streams|data) = \\frac{10}{198} = 0.05 = 5\\%$$\n",
    "\n",
    "If the user types, \"data\", the model predicts that \"entry\" is the most likely next word.\n",
    "\n",
    "#### Generate 2-grams\n",
    "\n",
    "- using the corpus \n",
    "    - corpus = `the cat is red the cat is green the cat is blue the dog is brown`\n",
    "\n",
    "#### Prediction\n",
    "\n",
    "take a word and predict the next word using bi-gram\n",
    "\n",
    "#### Additional exercise\n",
    "- install PyPDF4 library into the Anaconda env (needed for reading a PDF file)\n",
    "- donwload the \"MachineLearning Book.pdf\" and read the content of the PDF into the numpy or pandas data structures and learn bi-gram model and do the prediction on tokens : 'data', 'machine', 'artificial', 'learners'\n",
    "- analyze the outout for reasonble correctness, think if adding bigger size corpus would be a better option\n"
   ]
  },
  {
   "cell_type": "code",
   "execution_count": 1,
   "metadata": {},
   "outputs": [],
   "source": [
    "from collections import defaultdict"
   ]
  },
  {
   "cell_type": "code",
   "execution_count": 2,
   "metadata": {},
   "outputs": [],
   "source": [
    "corpus = \"the cat is red the cat is green the cat is blue the dog is brown\""
   ]
  },
  {
   "cell_type": "code",
   "execution_count": 4,
   "metadata": {},
   "outputs": [],
   "source": [
    "tokens = corpus.split()"
   ]
  },
  {
   "cell_type": "code",
   "execution_count": 5,
   "metadata": {},
   "outputs": [
    {
     "data": {
      "text/plain": [
       "['the',\n",
       " 'cat',\n",
       " 'is',\n",
       " 'red',\n",
       " 'the',\n",
       " 'cat',\n",
       " 'is',\n",
       " 'green',\n",
       " 'the',\n",
       " 'cat',\n",
       " 'is',\n",
       " 'blue',\n",
       " 'the',\n",
       " 'dog',\n",
       " 'is',\n",
       " 'brown']"
      ]
     },
     "execution_count": 5,
     "metadata": {},
     "output_type": "execute_result"
    }
   ],
   "source": [
    "tokens"
   ]
  },
  {
   "cell_type": "markdown",
   "metadata": {},
   "source": [
    "#### build tokens dictionary \n",
    "with next word list for each token"
   ]
  },
  {
   "cell_type": "code",
   "execution_count": 6,
   "metadata": {},
   "outputs": [],
   "source": [
    "previous_word = \"\"\n",
    "token_dict    = defaultdict(list)"
   ]
  },
  {
   "cell_type": "code",
   "execution_count": 7,
   "metadata": {},
   "outputs": [],
   "source": [
    "for current_word in tokens:\n",
    "    if previous_word != \"\":\n",
    "        token_dict[previous_word].append(current_word)\n",
    "        \n",
    "    previous_word = current_word"
   ]
  },
  {
   "cell_type": "code",
   "execution_count": 9,
   "metadata": {},
   "outputs": [
    {
     "data": {
      "text/plain": [
       "defaultdict(list,\n",
       "            {'the': ['cat', 'cat', 'cat', 'dog'],\n",
       "             'cat': ['is', 'is', 'is'],\n",
       "             'is': ['red', 'green', 'blue', 'brown'],\n",
       "             'red': ['the'],\n",
       "             'green': ['the'],\n",
       "             'blue': ['the'],\n",
       "             'dog': ['is']})"
      ]
     },
     "execution_count": 9,
     "metadata": {},
     "output_type": "execute_result"
    }
   ],
   "source": [
    "token_dict"
   ]
  },
  {
   "cell_type": "code",
   "execution_count": 10,
   "metadata": {},
   "outputs": [
    {
     "data": {
      "text/plain": [
       "'the cat is red the cat is green the cat is blue the dog is brown'"
      ]
     },
     "execution_count": 10,
     "metadata": {},
     "output_type": "execute_result"
    }
   ],
   "source": [
    "corpus"
   ]
  },
  {
   "cell_type": "markdown",
   "metadata": {},
   "source": [
    "#### compute probability\n",
    "of each observed next word for each word in the dictionnary. "
   ]
  },
  {
   "cell_type": "code",
   "execution_count": 11,
   "metadata": {},
   "outputs": [],
   "source": [
    "for key in token_dict.keys():\n",
    "    \n",
    "    next_words   = token_dict[key]\n",
    "    \n",
    "    unique_words = set(next_words) # removes duplicates\n",
    "    \n",
    "    nb_words     = len(next_words)\n",
    "    \n",
    "    probabilities_token = {}\n",
    "    \n",
    "    for unique_word in unique_words:\n",
    "        probabilities_token[unique_word] = float(next_words.count(unique_word)) / nb_words\n",
    "        \n",
    "    token_dict[key] = probabilities_token"
   ]
  },
  {
   "cell_type": "code",
   "execution_count": 12,
   "metadata": {},
   "outputs": [
    {
     "data": {
      "text/plain": [
       "defaultdict(list,\n",
       "            {'the': {'dog': 0.25, 'cat': 0.75},\n",
       "             'cat': {'is': 1.0},\n",
       "             'is': {'brown': 0.25, 'red': 0.25, 'blue': 0.25, 'green': 0.25},\n",
       "             'red': {'the': 1.0},\n",
       "             'green': {'the': 1.0},\n",
       "             'blue': {'the': 1.0},\n",
       "             'dog': {'is': 1.0}})"
      ]
     },
     "execution_count": 12,
     "metadata": {},
     "output_type": "execute_result"
    }
   ],
   "source": [
    "token_dict"
   ]
  },
  {
   "cell_type": "markdown",
   "metadata": {},
   "source": [
    "#### predicting next word"
   ]
  },
  {
   "cell_type": "code",
   "execution_count": 27,
   "metadata": {},
   "outputs": [],
   "source": [
    "token_ask = 'the'"
   ]
  },
  {
   "cell_type": "code",
   "execution_count": 28,
   "metadata": {},
   "outputs": [
    {
     "name": "stdout",
     "output_type": "stream",
     "text": [
      "{'dog': 0.25, 'cat': 0.75}\n",
      "{'cat': 0.75, 'dog': 0.25}\n"
     ]
    }
   ],
   "source": [
    "if token_ask in token_dict:\n",
    "    next_words_prob = token_dict[token_ask]\n",
    "    print(next_words_prob)\n",
    "    print({k: v for k, v in sorted(next_words_prob.items(), key=lambda item: item[1], reverse=True)})"
   ]
  },
  {
   "cell_type": "markdown",
   "metadata": {},
   "source": [
    "## read a PDF file"
   ]
  },
  {
   "cell_type": "code",
   "execution_count": 29,
   "metadata": {},
   "outputs": [
    {
     "name": "stdout",
     "output_type": "stream",
     "text": [
      "Collecting PyPDF4\n",
      "  Downloading PyPDF4-1.27.0.tar.gz (63 kB)\n",
      "Building wheels for collected packages: PyPDF4\n",
      "  Building wheel for PyPDF4 (setup.py): started\n",
      "  Building wheel for PyPDF4 (setup.py): finished with status 'done'\n",
      "  Created wheel for PyPDF4: filename=PyPDF4-1.27.0-py3-none-any.whl size=61253 sha256=649f2466780dbc18763cf483ab9623808a99681bb7b2443782d906e727a13e44\n",
      "  Stored in directory: c:\\users\\bhupen\\appdata\\local\\pip\\cache\\wheels\\f0\\79\\75\\d130281ec9996a2551dbdd1836aa4beb376d53f8cdca49b4b0\n",
      "Successfully built PyPDF4\n",
      "Installing collected packages: PyPDF4\n",
      "Successfully installed PyPDF4-1.27.0\n"
     ]
    }
   ],
   "source": [
    "!pip install PyPDF4"
   ]
  },
  {
   "cell_type": "code",
   "execution_count": 12,
   "metadata": {},
   "outputs": [],
   "source": [
    "import PyPDF4\n",
    "import re"
   ]
  },
  {
   "cell_type": "code",
   "execution_count": 25,
   "metadata": {},
   "outputs": [],
   "source": [
    "#pdf_file_location = r'D:\\MYLEARN\\DATASETS\\PDFs\\meetingminutes.pdf'\n",
    "pdf_file_location = r'D:\\MYLEARN\\2-ANALYTICS-DataScience\\01-TECH DOCS\\20 - Text - NLP\\Natural Language Processing with TensorFlow by Thushan Ganegedara (z-lib.org).pdf'"
   ]
  },
  {
   "cell_type": "code",
   "execution_count": 26,
   "metadata": {},
   "outputs": [],
   "source": [
    "pdfFileObj = open(pdf_file_location, 'rb')"
   ]
  },
  {
   "cell_type": "code",
   "execution_count": 27,
   "metadata": {},
   "outputs": [],
   "source": [
    "pdfReader = PyPDF4.PdfFileReader(pdfFileObj)"
   ]
  },
  {
   "cell_type": "code",
   "execution_count": 28,
   "metadata": {
    "tags": []
   },
   "outputs": [
    {
     "ename": "ValueError",
     "evalue": "invalid literal for int() with base 10: b\"'A`jCyZI\\xa0w\\x90M\\x05Y\\x9e\\xbcEM\\xf2\\xe0\\xcaU\\x7f&\\x8b\\x16\\x80t\\xfbj\\x96a\"",
     "output_type": "error",
     "traceback": [
      "\u001b[1;31m---------------------------------------------------------------------------\u001b[0m",
      "\u001b[1;31mValueError\u001b[0m                                Traceback (most recent call last)",
      "\u001b[1;32m~\\AppData\\Local\\Temp/ipykernel_7516/1044258696.py\u001b[0m in \u001b[0;36m<module>\u001b[1;34m\u001b[0m\n\u001b[1;32m----> 1\u001b[1;33m \u001b[0mpdfReader\u001b[0m\u001b[1;33m.\u001b[0m\u001b[0mnumPages\u001b[0m\u001b[1;33m,\u001b[0m \u001b[0mpdfReader\u001b[0m\u001b[1;33m.\u001b[0m\u001b[0misEncrypted\u001b[0m\u001b[1;33m,\u001b[0m \u001b[0mpdfReader\u001b[0m\u001b[1;33m.\u001b[0m\u001b[0mgetDocumentInfo\u001b[0m\u001b[1;33m(\u001b[0m\u001b[1;33m)\u001b[0m\u001b[1;33m\u001b[0m\u001b[1;33m\u001b[0m\u001b[0m\n\u001b[0m",
      "\u001b[1;32mD:\\ANACONDA1\\lib\\site-packages\\PyPDF4\\pdf.py\u001b[0m in \u001b[0;36m<lambda>\u001b[1;34m(self)\u001b[0m\n\u001b[0;32m   1220\u001b[0m             \u001b[1;32mreturn\u001b[0m \u001b[0mlen\u001b[0m\u001b[1;33m(\u001b[0m\u001b[0mself\u001b[0m\u001b[1;33m.\u001b[0m\u001b[0mflattenedPages\u001b[0m\u001b[1;33m)\u001b[0m\u001b[1;33m\u001b[0m\u001b[1;33m\u001b[0m\u001b[0m\n\u001b[0;32m   1221\u001b[0m \u001b[1;33m\u001b[0m\u001b[0m\n\u001b[1;32m-> 1222\u001b[1;33m     \u001b[0mnumPages\u001b[0m \u001b[1;33m=\u001b[0m \u001b[0mproperty\u001b[0m\u001b[1;33m(\u001b[0m\u001b[1;32mlambda\u001b[0m \u001b[0mself\u001b[0m\u001b[1;33m:\u001b[0m \u001b[0mself\u001b[0m\u001b[1;33m.\u001b[0m\u001b[0mgetNumPages\u001b[0m\u001b[1;33m(\u001b[0m\u001b[1;33m)\u001b[0m\u001b[1;33m,\u001b[0m \u001b[1;32mNone\u001b[0m\u001b[1;33m,\u001b[0m \u001b[1;32mNone\u001b[0m\u001b[1;33m)\u001b[0m\u001b[1;33m\u001b[0m\u001b[1;33m\u001b[0m\u001b[0m\n\u001b[0m\u001b[0;32m   1223\u001b[0m     \"\"\"\n\u001b[0;32m   1224\u001b[0m     \u001b[0mRead\u001b[0m\u001b[1;33m-\u001b[0m\u001b[0monly\u001b[0m \u001b[0mproperty\u001b[0m \u001b[0mthat\u001b[0m \u001b[0maccesses\u001b[0m \u001b[0mthe\u001b[0m\u001b[1;33m\u001b[0m\u001b[1;33m\u001b[0m\u001b[0m\n",
      "\u001b[1;32mD:\\ANACONDA1\\lib\\site-packages\\PyPDF4\\pdf.py\u001b[0m in \u001b[0;36mgetNumPages\u001b[1;34m(self)\u001b[0m\n\u001b[0;32m   1217\u001b[0m         \u001b[1;32melse\u001b[0m\u001b[1;33m:\u001b[0m\u001b[1;33m\u001b[0m\u001b[1;33m\u001b[0m\u001b[0m\n\u001b[0;32m   1218\u001b[0m             \u001b[1;32mif\u001b[0m \u001b[0mself\u001b[0m\u001b[1;33m.\u001b[0m\u001b[0mflattenedPages\u001b[0m \u001b[1;33m==\u001b[0m \u001b[1;32mNone\u001b[0m\u001b[1;33m:\u001b[0m\u001b[1;33m\u001b[0m\u001b[1;33m\u001b[0m\u001b[0m\n\u001b[1;32m-> 1219\u001b[1;33m                 \u001b[0mself\u001b[0m\u001b[1;33m.\u001b[0m\u001b[0m_flatten\u001b[0m\u001b[1;33m(\u001b[0m\u001b[1;33m)\u001b[0m\u001b[1;33m\u001b[0m\u001b[1;33m\u001b[0m\u001b[0m\n\u001b[0m\u001b[0;32m   1220\u001b[0m             \u001b[1;32mreturn\u001b[0m \u001b[0mlen\u001b[0m\u001b[1;33m(\u001b[0m\u001b[0mself\u001b[0m\u001b[1;33m.\u001b[0m\u001b[0mflattenedPages\u001b[0m\u001b[1;33m)\u001b[0m\u001b[1;33m\u001b[0m\u001b[1;33m\u001b[0m\u001b[0m\n\u001b[0;32m   1221\u001b[0m \u001b[1;33m\u001b[0m\u001b[0m\n",
      "\u001b[1;32mD:\\ANACONDA1\\lib\\site-packages\\PyPDF4\\pdf.py\u001b[0m in \u001b[0;36m_flatten\u001b[1;34m(self, pages, inherit, indirectRef)\u001b[0m\n\u001b[0;32m   1582\u001b[0m                 \u001b[1;32mif\u001b[0m \u001b[0misinstance\u001b[0m\u001b[1;33m(\u001b[0m\u001b[0mpage\u001b[0m\u001b[1;33m,\u001b[0m \u001b[0mIndirectObject\u001b[0m\u001b[1;33m)\u001b[0m\u001b[1;33m:\u001b[0m\u001b[1;33m\u001b[0m\u001b[1;33m\u001b[0m\u001b[0m\n\u001b[0;32m   1583\u001b[0m                     \u001b[0maddt\u001b[0m\u001b[1;33m[\u001b[0m\u001b[1;34m\"indirectRef\"\u001b[0m\u001b[1;33m]\u001b[0m \u001b[1;33m=\u001b[0m \u001b[0mpage\u001b[0m\u001b[1;33m\u001b[0m\u001b[1;33m\u001b[0m\u001b[0m\n\u001b[1;32m-> 1584\u001b[1;33m                 \u001b[0mself\u001b[0m\u001b[1;33m.\u001b[0m\u001b[0m_flatten\u001b[0m\u001b[1;33m(\u001b[0m\u001b[0mpage\u001b[0m\u001b[1;33m.\u001b[0m\u001b[0mgetObject\u001b[0m\u001b[1;33m(\u001b[0m\u001b[1;33m)\u001b[0m\u001b[1;33m,\u001b[0m \u001b[0minherit\u001b[0m\u001b[1;33m,\u001b[0m \u001b[1;33m**\u001b[0m\u001b[0maddt\u001b[0m\u001b[1;33m)\u001b[0m\u001b[1;33m\u001b[0m\u001b[1;33m\u001b[0m\u001b[0m\n\u001b[0m\u001b[0;32m   1585\u001b[0m         \u001b[1;32melif\u001b[0m \u001b[0mt\u001b[0m \u001b[1;33m==\u001b[0m \u001b[1;34m\"/Page\"\u001b[0m\u001b[1;33m:\u001b[0m\u001b[1;33m\u001b[0m\u001b[1;33m\u001b[0m\u001b[0m\n\u001b[0;32m   1586\u001b[0m             \u001b[1;32mfor\u001b[0m \u001b[0mattr\u001b[0m\u001b[1;33m,\u001b[0m \u001b[0mvalue\u001b[0m \u001b[1;32min\u001b[0m \u001b[0mlist\u001b[0m\u001b[1;33m(\u001b[0m\u001b[0minherit\u001b[0m\u001b[1;33m.\u001b[0m\u001b[0mitems\u001b[0m\u001b[1;33m(\u001b[0m\u001b[1;33m)\u001b[0m\u001b[1;33m)\u001b[0m\u001b[1;33m:\u001b[0m\u001b[1;33m\u001b[0m\u001b[1;33m\u001b[0m\u001b[0m\n",
      "\u001b[1;32mD:\\ANACONDA1\\lib\\site-packages\\PyPDF4\\pdf.py\u001b[0m in \u001b[0;36m_flatten\u001b[1;34m(self, pages, inherit, indirectRef)\u001b[0m\n\u001b[0;32m   1582\u001b[0m                 \u001b[1;32mif\u001b[0m \u001b[0misinstance\u001b[0m\u001b[1;33m(\u001b[0m\u001b[0mpage\u001b[0m\u001b[1;33m,\u001b[0m \u001b[0mIndirectObject\u001b[0m\u001b[1;33m)\u001b[0m\u001b[1;33m:\u001b[0m\u001b[1;33m\u001b[0m\u001b[1;33m\u001b[0m\u001b[0m\n\u001b[0;32m   1583\u001b[0m                     \u001b[0maddt\u001b[0m\u001b[1;33m[\u001b[0m\u001b[1;34m\"indirectRef\"\u001b[0m\u001b[1;33m]\u001b[0m \u001b[1;33m=\u001b[0m \u001b[0mpage\u001b[0m\u001b[1;33m\u001b[0m\u001b[1;33m\u001b[0m\u001b[0m\n\u001b[1;32m-> 1584\u001b[1;33m                 \u001b[0mself\u001b[0m\u001b[1;33m.\u001b[0m\u001b[0m_flatten\u001b[0m\u001b[1;33m(\u001b[0m\u001b[0mpage\u001b[0m\u001b[1;33m.\u001b[0m\u001b[0mgetObject\u001b[0m\u001b[1;33m(\u001b[0m\u001b[1;33m)\u001b[0m\u001b[1;33m,\u001b[0m \u001b[0minherit\u001b[0m\u001b[1;33m,\u001b[0m \u001b[1;33m**\u001b[0m\u001b[0maddt\u001b[0m\u001b[1;33m)\u001b[0m\u001b[1;33m\u001b[0m\u001b[1;33m\u001b[0m\u001b[0m\n\u001b[0m\u001b[0;32m   1585\u001b[0m         \u001b[1;32melif\u001b[0m \u001b[0mt\u001b[0m \u001b[1;33m==\u001b[0m \u001b[1;34m\"/Page\"\u001b[0m\u001b[1;33m:\u001b[0m\u001b[1;33m\u001b[0m\u001b[1;33m\u001b[0m\u001b[0m\n\u001b[0;32m   1586\u001b[0m             \u001b[1;32mfor\u001b[0m \u001b[0mattr\u001b[0m\u001b[1;33m,\u001b[0m \u001b[0mvalue\u001b[0m \u001b[1;32min\u001b[0m \u001b[0mlist\u001b[0m\u001b[1;33m(\u001b[0m\u001b[0minherit\u001b[0m\u001b[1;33m.\u001b[0m\u001b[0mitems\u001b[0m\u001b[1;33m(\u001b[0m\u001b[1;33m)\u001b[0m\u001b[1;33m)\u001b[0m\u001b[1;33m:\u001b[0m\u001b[1;33m\u001b[0m\u001b[1;33m\u001b[0m\u001b[0m\n",
      "\u001b[1;32mD:\\ANACONDA1\\lib\\site-packages\\PyPDF4\\pdf.py\u001b[0m in \u001b[0;36m_flatten\u001b[1;34m(self, pages, inherit, indirectRef)\u001b[0m\n\u001b[0;32m   1582\u001b[0m                 \u001b[1;32mif\u001b[0m \u001b[0misinstance\u001b[0m\u001b[1;33m(\u001b[0m\u001b[0mpage\u001b[0m\u001b[1;33m,\u001b[0m \u001b[0mIndirectObject\u001b[0m\u001b[1;33m)\u001b[0m\u001b[1;33m:\u001b[0m\u001b[1;33m\u001b[0m\u001b[1;33m\u001b[0m\u001b[0m\n\u001b[0;32m   1583\u001b[0m                     \u001b[0maddt\u001b[0m\u001b[1;33m[\u001b[0m\u001b[1;34m\"indirectRef\"\u001b[0m\u001b[1;33m]\u001b[0m \u001b[1;33m=\u001b[0m \u001b[0mpage\u001b[0m\u001b[1;33m\u001b[0m\u001b[1;33m\u001b[0m\u001b[0m\n\u001b[1;32m-> 1584\u001b[1;33m                 \u001b[0mself\u001b[0m\u001b[1;33m.\u001b[0m\u001b[0m_flatten\u001b[0m\u001b[1;33m(\u001b[0m\u001b[0mpage\u001b[0m\u001b[1;33m.\u001b[0m\u001b[0mgetObject\u001b[0m\u001b[1;33m(\u001b[0m\u001b[1;33m)\u001b[0m\u001b[1;33m,\u001b[0m \u001b[0minherit\u001b[0m\u001b[1;33m,\u001b[0m \u001b[1;33m**\u001b[0m\u001b[0maddt\u001b[0m\u001b[1;33m)\u001b[0m\u001b[1;33m\u001b[0m\u001b[1;33m\u001b[0m\u001b[0m\n\u001b[0m\u001b[0;32m   1585\u001b[0m         \u001b[1;32melif\u001b[0m \u001b[0mt\u001b[0m \u001b[1;33m==\u001b[0m \u001b[1;34m\"/Page\"\u001b[0m\u001b[1;33m:\u001b[0m\u001b[1;33m\u001b[0m\u001b[1;33m\u001b[0m\u001b[0m\n\u001b[0;32m   1586\u001b[0m             \u001b[1;32mfor\u001b[0m \u001b[0mattr\u001b[0m\u001b[1;33m,\u001b[0m \u001b[0mvalue\u001b[0m \u001b[1;32min\u001b[0m \u001b[0mlist\u001b[0m\u001b[1;33m(\u001b[0m\u001b[0minherit\u001b[0m\u001b[1;33m.\u001b[0m\u001b[0mitems\u001b[0m\u001b[1;33m(\u001b[0m\u001b[1;33m)\u001b[0m\u001b[1;33m)\u001b[0m\u001b[1;33m:\u001b[0m\u001b[1;33m\u001b[0m\u001b[1;33m\u001b[0m\u001b[0m\n",
      "\u001b[1;32mD:\\ANACONDA1\\lib\\site-packages\\PyPDF4\\pdf.py\u001b[0m in \u001b[0;36m_flatten\u001b[1;34m(self, pages, inherit, indirectRef)\u001b[0m\n\u001b[0;32m   1582\u001b[0m                 \u001b[1;32mif\u001b[0m \u001b[0misinstance\u001b[0m\u001b[1;33m(\u001b[0m\u001b[0mpage\u001b[0m\u001b[1;33m,\u001b[0m \u001b[0mIndirectObject\u001b[0m\u001b[1;33m)\u001b[0m\u001b[1;33m:\u001b[0m\u001b[1;33m\u001b[0m\u001b[1;33m\u001b[0m\u001b[0m\n\u001b[0;32m   1583\u001b[0m                     \u001b[0maddt\u001b[0m\u001b[1;33m[\u001b[0m\u001b[1;34m\"indirectRef\"\u001b[0m\u001b[1;33m]\u001b[0m \u001b[1;33m=\u001b[0m \u001b[0mpage\u001b[0m\u001b[1;33m\u001b[0m\u001b[1;33m\u001b[0m\u001b[0m\n\u001b[1;32m-> 1584\u001b[1;33m                 \u001b[0mself\u001b[0m\u001b[1;33m.\u001b[0m\u001b[0m_flatten\u001b[0m\u001b[1;33m(\u001b[0m\u001b[0mpage\u001b[0m\u001b[1;33m.\u001b[0m\u001b[0mgetObject\u001b[0m\u001b[1;33m(\u001b[0m\u001b[1;33m)\u001b[0m\u001b[1;33m,\u001b[0m \u001b[0minherit\u001b[0m\u001b[1;33m,\u001b[0m \u001b[1;33m**\u001b[0m\u001b[0maddt\u001b[0m\u001b[1;33m)\u001b[0m\u001b[1;33m\u001b[0m\u001b[1;33m\u001b[0m\u001b[0m\n\u001b[0m\u001b[0;32m   1585\u001b[0m         \u001b[1;32melif\u001b[0m \u001b[0mt\u001b[0m \u001b[1;33m==\u001b[0m \u001b[1;34m\"/Page\"\u001b[0m\u001b[1;33m:\u001b[0m\u001b[1;33m\u001b[0m\u001b[1;33m\u001b[0m\u001b[0m\n\u001b[0;32m   1586\u001b[0m             \u001b[1;32mfor\u001b[0m \u001b[0mattr\u001b[0m\u001b[1;33m,\u001b[0m \u001b[0mvalue\u001b[0m \u001b[1;32min\u001b[0m \u001b[0mlist\u001b[0m\u001b[1;33m(\u001b[0m\u001b[0minherit\u001b[0m\u001b[1;33m.\u001b[0m\u001b[0mitems\u001b[0m\u001b[1;33m(\u001b[0m\u001b[1;33m)\u001b[0m\u001b[1;33m)\u001b[0m\u001b[1;33m:\u001b[0m\u001b[1;33m\u001b[0m\u001b[1;33m\u001b[0m\u001b[0m\n",
      "\u001b[1;32mD:\\ANACONDA1\\lib\\site-packages\\PyPDF4\\generic.py\u001b[0m in \u001b[0;36mgetObject\u001b[1;34m(self)\u001b[0m\n\u001b[0;32m    177\u001b[0m \u001b[1;33m\u001b[0m\u001b[0m\n\u001b[0;32m    178\u001b[0m     \u001b[1;32mdef\u001b[0m \u001b[0mgetObject\u001b[0m\u001b[1;33m(\u001b[0m\u001b[0mself\u001b[0m\u001b[1;33m)\u001b[0m\u001b[1;33m:\u001b[0m\u001b[1;33m\u001b[0m\u001b[1;33m\u001b[0m\u001b[0m\n\u001b[1;32m--> 179\u001b[1;33m         \u001b[1;32mreturn\u001b[0m \u001b[0mself\u001b[0m\u001b[1;33m.\u001b[0m\u001b[0mpdf\u001b[0m\u001b[1;33m.\u001b[0m\u001b[0mgetObject\u001b[0m\u001b[1;33m(\u001b[0m\u001b[0mself\u001b[0m\u001b[1;33m)\u001b[0m\u001b[1;33m.\u001b[0m\u001b[0mgetObject\u001b[0m\u001b[1;33m(\u001b[0m\u001b[1;33m)\u001b[0m\u001b[1;33m\u001b[0m\u001b[1;33m\u001b[0m\u001b[0m\n\u001b[0m\u001b[0;32m    180\u001b[0m \u001b[1;33m\u001b[0m\u001b[0m\n\u001b[0;32m    181\u001b[0m     \u001b[1;32mdef\u001b[0m \u001b[0m__repr__\u001b[0m\u001b[1;33m(\u001b[0m\u001b[0mself\u001b[0m\u001b[1;33m)\u001b[0m\u001b[1;33m:\u001b[0m\u001b[1;33m\u001b[0m\u001b[1;33m\u001b[0m\u001b[0m\n",
      "\u001b[1;32mD:\\ANACONDA1\\lib\\site-packages\\PyPDF4\\pdf.py\u001b[0m in \u001b[0;36mgetObject\u001b[1;34m(self, indirectReference)\u001b[0m\n\u001b[0;32m   1655\u001b[0m         \u001b[1;32mif\u001b[0m \u001b[0mindirectReference\u001b[0m\u001b[1;33m.\u001b[0m\u001b[0mgeneration\u001b[0m \u001b[1;33m==\u001b[0m \u001b[1;36m0\u001b[0m \u001b[1;32mand\u001b[0m\u001b[0;31m \u001b[0m\u001b[0;31m\\\u001b[0m\u001b[1;33m\u001b[0m\u001b[1;33m\u001b[0m\u001b[0m\n\u001b[0;32m   1656\u001b[0m                         \u001b[0mindirectReference\u001b[0m\u001b[1;33m.\u001b[0m\u001b[0midnum\u001b[0m \u001b[1;32min\u001b[0m \u001b[0mself\u001b[0m\u001b[1;33m.\u001b[0m\u001b[0mxref_objStm\u001b[0m\u001b[1;33m:\u001b[0m\u001b[1;33m\u001b[0m\u001b[1;33m\u001b[0m\u001b[0m\n\u001b[1;32m-> 1657\u001b[1;33m             \u001b[0mretval\u001b[0m \u001b[1;33m=\u001b[0m \u001b[0mself\u001b[0m\u001b[1;33m.\u001b[0m\u001b[0m_getObjectFromStream\u001b[0m\u001b[1;33m(\u001b[0m\u001b[0mindirectReference\u001b[0m\u001b[1;33m)\u001b[0m\u001b[1;33m\u001b[0m\u001b[1;33m\u001b[0m\u001b[0m\n\u001b[0m\u001b[0;32m   1658\u001b[0m         \u001b[1;32melif\u001b[0m \u001b[0mindirectReference\u001b[0m\u001b[1;33m.\u001b[0m\u001b[0mgeneration\u001b[0m \u001b[1;32min\u001b[0m \u001b[0mself\u001b[0m\u001b[1;33m.\u001b[0m\u001b[0mxref\u001b[0m \u001b[1;32mand\u001b[0m\u001b[0;31m \u001b[0m\u001b[0;31m\\\u001b[0m\u001b[1;33m\u001b[0m\u001b[1;33m\u001b[0m\u001b[0m\n\u001b[0;32m   1659\u001b[0m                 \u001b[0mindirectReference\u001b[0m\u001b[1;33m.\u001b[0m\u001b[0midnum\u001b[0m \u001b[1;32min\u001b[0m \u001b[0mself\u001b[0m\u001b[1;33m.\u001b[0m\u001b[0mxref\u001b[0m\u001b[1;33m[\u001b[0m\u001b[0mindirectReference\u001b[0m\u001b[1;33m.\u001b[0m\u001b[0mgeneration\u001b[0m\u001b[1;33m]\u001b[0m\u001b[1;33m:\u001b[0m\u001b[1;33m\u001b[0m\u001b[1;33m\u001b[0m\u001b[0m\n",
      "\u001b[1;32mD:\\ANACONDA1\\lib\\site-packages\\PyPDF4\\pdf.py\u001b[0m in \u001b[0;36m_getObjectFromStream\u001b[1;34m(self, indirectReference)\u001b[0m\n\u001b[0;32m   1599\u001b[0m         \u001b[0mstmnum\u001b[0m\u001b[1;33m,\u001b[0m \u001b[0midx\u001b[0m \u001b[1;33m=\u001b[0m \u001b[0mself\u001b[0m\u001b[1;33m.\u001b[0m\u001b[0mxref_objStm\u001b[0m\u001b[1;33m[\u001b[0m\u001b[0mindirectReference\u001b[0m\u001b[1;33m.\u001b[0m\u001b[0midnum\u001b[0m\u001b[1;33m]\u001b[0m\u001b[1;33m\u001b[0m\u001b[1;33m\u001b[0m\u001b[0m\n\u001b[0;32m   1600\u001b[0m         \u001b[1;32mif\u001b[0m \u001b[0mdebug\u001b[0m\u001b[1;33m:\u001b[0m \u001b[0mprint\u001b[0m\u001b[1;33m(\u001b[0m\u001b[1;33m(\u001b[0m\u001b[1;34m\"Here1: %s %s\"\u001b[0m\u001b[1;33m%\u001b[0m\u001b[1;33m(\u001b[0m\u001b[0mstmnum\u001b[0m\u001b[1;33m,\u001b[0m \u001b[0midx\u001b[0m\u001b[1;33m)\u001b[0m\u001b[1;33m)\u001b[0m\u001b[1;33m)\u001b[0m\u001b[1;33m\u001b[0m\u001b[1;33m\u001b[0m\u001b[0m\n\u001b[1;32m-> 1601\u001b[1;33m         \u001b[0mobjStm\u001b[0m \u001b[1;33m=\u001b[0m \u001b[0mIndirectObject\u001b[0m\u001b[1;33m(\u001b[0m\u001b[0mstmnum\u001b[0m\u001b[1;33m,\u001b[0m \u001b[1;36m0\u001b[0m\u001b[1;33m,\u001b[0m \u001b[0mself\u001b[0m\u001b[1;33m)\u001b[0m\u001b[1;33m.\u001b[0m\u001b[0mgetObject\u001b[0m\u001b[1;33m(\u001b[0m\u001b[1;33m)\u001b[0m\u001b[1;33m\u001b[0m\u001b[1;33m\u001b[0m\u001b[0m\n\u001b[0m\u001b[0;32m   1602\u001b[0m         \u001b[1;32mif\u001b[0m \u001b[0mdebug\u001b[0m\u001b[1;33m:\u001b[0m \u001b[0mprint\u001b[0m\u001b[1;33m(\u001b[0m\u001b[1;33m(\u001b[0m\u001b[1;34m\"Here2: objStm=%s.. stmnum=%s data=%s\"\u001b[0m\u001b[1;33m%\u001b[0m\u001b[1;33m(\u001b[0m\u001b[0mobjStm\u001b[0m\u001b[1;33m,\u001b[0m \u001b[0mstmnum\u001b[0m\u001b[1;33m,\u001b[0m \u001b[0mobjStm\u001b[0m\u001b[1;33m.\u001b[0m\u001b[0mgetData\u001b[0m\u001b[1;33m(\u001b[0m\u001b[1;33m)\u001b[0m\u001b[1;33m)\u001b[0m\u001b[1;33m)\u001b[0m\u001b[1;33m)\u001b[0m\u001b[1;33m\u001b[0m\u001b[1;33m\u001b[0m\u001b[0m\n\u001b[0;32m   1603\u001b[0m         \u001b[1;31m# This is an xref to a stream, so its type better be a stream\u001b[0m\u001b[1;33m\u001b[0m\u001b[1;33m\u001b[0m\u001b[1;33m\u001b[0m\u001b[0m\n",
      "\u001b[1;32mD:\\ANACONDA1\\lib\\site-packages\\PyPDF4\\generic.py\u001b[0m in \u001b[0;36mgetObject\u001b[1;34m(self)\u001b[0m\n\u001b[0;32m    177\u001b[0m \u001b[1;33m\u001b[0m\u001b[0m\n\u001b[0;32m    178\u001b[0m     \u001b[1;32mdef\u001b[0m \u001b[0mgetObject\u001b[0m\u001b[1;33m(\u001b[0m\u001b[0mself\u001b[0m\u001b[1;33m)\u001b[0m\u001b[1;33m:\u001b[0m\u001b[1;33m\u001b[0m\u001b[1;33m\u001b[0m\u001b[0m\n\u001b[1;32m--> 179\u001b[1;33m         \u001b[1;32mreturn\u001b[0m \u001b[0mself\u001b[0m\u001b[1;33m.\u001b[0m\u001b[0mpdf\u001b[0m\u001b[1;33m.\u001b[0m\u001b[0mgetObject\u001b[0m\u001b[1;33m(\u001b[0m\u001b[0mself\u001b[0m\u001b[1;33m)\u001b[0m\u001b[1;33m.\u001b[0m\u001b[0mgetObject\u001b[0m\u001b[1;33m(\u001b[0m\u001b[1;33m)\u001b[0m\u001b[1;33m\u001b[0m\u001b[1;33m\u001b[0m\u001b[0m\n\u001b[0m\u001b[0;32m    180\u001b[0m \u001b[1;33m\u001b[0m\u001b[0m\n\u001b[0;32m    181\u001b[0m     \u001b[1;32mdef\u001b[0m \u001b[0m__repr__\u001b[0m\u001b[1;33m(\u001b[0m\u001b[0mself\u001b[0m\u001b[1;33m)\u001b[0m\u001b[1;33m:\u001b[0m\u001b[1;33m\u001b[0m\u001b[1;33m\u001b[0m\u001b[0m\n",
      "\u001b[1;32mD:\\ANACONDA1\\lib\\site-packages\\PyPDF4\\pdf.py\u001b[0m in \u001b[0;36mgetObject\u001b[1;34m(self, indirectReference)\u001b[0m\n\u001b[0;32m   1661\u001b[0m             \u001b[1;32mif\u001b[0m \u001b[0mdebug\u001b[0m\u001b[1;33m:\u001b[0m \u001b[0mprint\u001b[0m\u001b[1;33m(\u001b[0m\u001b[1;33m(\u001b[0m\u001b[1;34m\"  Uncompressed Object\"\u001b[0m\u001b[1;33m,\u001b[0m \u001b[0mindirectReference\u001b[0m\u001b[1;33m.\u001b[0m\u001b[0midnum\u001b[0m\u001b[1;33m,\u001b[0m \u001b[0mindirectReference\u001b[0m\u001b[1;33m.\u001b[0m\u001b[0mgeneration\u001b[0m\u001b[1;33m,\u001b[0m \u001b[1;34m\":\"\u001b[0m\u001b[1;33m,\u001b[0m \u001b[0mstart\u001b[0m\u001b[1;33m)\u001b[0m\u001b[1;33m)\u001b[0m\u001b[1;33m\u001b[0m\u001b[1;33m\u001b[0m\u001b[0m\n\u001b[0;32m   1662\u001b[0m             \u001b[0mself\u001b[0m\u001b[1;33m.\u001b[0m\u001b[0mstream\u001b[0m\u001b[1;33m.\u001b[0m\u001b[0mseek\u001b[0m\u001b[1;33m(\u001b[0m\u001b[0mstart\u001b[0m\u001b[1;33m,\u001b[0m \u001b[1;36m0\u001b[0m\u001b[1;33m)\u001b[0m\u001b[1;33m\u001b[0m\u001b[1;33m\u001b[0m\u001b[0m\n\u001b[1;32m-> 1663\u001b[1;33m             \u001b[0midnum\u001b[0m\u001b[1;33m,\u001b[0m \u001b[0mgeneration\u001b[0m \u001b[1;33m=\u001b[0m \u001b[0mself\u001b[0m\u001b[1;33m.\u001b[0m\u001b[0mreadObjectHeader\u001b[0m\u001b[1;33m(\u001b[0m\u001b[0mself\u001b[0m\u001b[1;33m.\u001b[0m\u001b[0mstream\u001b[0m\u001b[1;33m)\u001b[0m\u001b[1;33m\u001b[0m\u001b[1;33m\u001b[0m\u001b[0m\n\u001b[0m\u001b[0;32m   1664\u001b[0m             \u001b[1;32mif\u001b[0m \u001b[0midnum\u001b[0m \u001b[1;33m!=\u001b[0m \u001b[0mindirectReference\u001b[0m\u001b[1;33m.\u001b[0m\u001b[0midnum\u001b[0m \u001b[1;32mand\u001b[0m \u001b[0mself\u001b[0m\u001b[1;33m.\u001b[0m\u001b[0mxrefIndex\u001b[0m\u001b[1;33m:\u001b[0m\u001b[1;33m\u001b[0m\u001b[1;33m\u001b[0m\u001b[0m\n\u001b[0;32m   1665\u001b[0m                 \u001b[1;31m# Xref table probably had bad indexes due to not being zero-indexed\u001b[0m\u001b[1;33m\u001b[0m\u001b[1;33m\u001b[0m\u001b[1;33m\u001b[0m\u001b[0m\n",
      "\u001b[1;32mD:\\ANACONDA1\\lib\\site-packages\\PyPDF4\\pdf.py\u001b[0m in \u001b[0;36mreadObjectHeader\u001b[1;34m(self, stream)\u001b[0m\n\u001b[0;32m   1730\u001b[0m             warnings.warn(\"Superfluous whitespace found in object header %s %s\" % \\\n\u001b[0;32m   1731\u001b[0m                           (idnum, generation), utils.PdfReadWarning)\n\u001b[1;32m-> 1732\u001b[1;33m         \u001b[1;32mreturn\u001b[0m \u001b[0mint\u001b[0m\u001b[1;33m(\u001b[0m\u001b[0midnum\u001b[0m\u001b[1;33m)\u001b[0m\u001b[1;33m,\u001b[0m \u001b[0mint\u001b[0m\u001b[1;33m(\u001b[0m\u001b[0mgeneration\u001b[0m\u001b[1;33m)\u001b[0m\u001b[1;33m\u001b[0m\u001b[1;33m\u001b[0m\u001b[0m\n\u001b[0m\u001b[0;32m   1733\u001b[0m \u001b[1;33m\u001b[0m\u001b[0m\n\u001b[0;32m   1734\u001b[0m     \u001b[1;32mdef\u001b[0m \u001b[0mcacheGetIndirectObject\u001b[0m\u001b[1;33m(\u001b[0m\u001b[0mself\u001b[0m\u001b[1;33m,\u001b[0m \u001b[0mgeneration\u001b[0m\u001b[1;33m,\u001b[0m \u001b[0midnum\u001b[0m\u001b[1;33m)\u001b[0m\u001b[1;33m:\u001b[0m\u001b[1;33m\u001b[0m\u001b[1;33m\u001b[0m\u001b[0m\n",
      "\u001b[1;31mValueError\u001b[0m: invalid literal for int() with base 10: b\"'A`jCyZI\\xa0w\\x90M\\x05Y\\x9e\\xbcEM\\xf2\\xe0\\xcaU\\x7f&\\x8b\\x16\\x80t\\xfbj\\x96a\""
     ]
    }
   ],
   "source": [
    "pdfReader.numPages, pdfReader.isEncrypted, pdfReader.getDocumentInfo()"
   ]
  },
  {
   "cell_type": "code",
   "execution_count": 21,
   "metadata": {},
   "outputs": [],
   "source": [
    "pageObj = pdfReader.getPage(45)"
   ]
  },
  {
   "cell_type": "code",
   "execution_count": 22,
   "metadata": {},
   "outputs": [
    {
     "ename": "ValueError",
     "evalue": "invalid literal for int() with base 10: b'\\xa2\\x87\\xf2;\\x19\\xdb\\xb6I6\\xfdh\\xbc.\\x19\\x0egW,\\xf4V\\xc5\\x0e\\x8e.\\x92\\xf5\\xa0'",
     "output_type": "error",
     "traceback": [
      "\u001b[1;31m---------------------------------------------------------------------------\u001b[0m",
      "\u001b[1;31mValueError\u001b[0m                                Traceback (most recent call last)",
      "\u001b[1;32m~\\AppData\\Local\\Temp/ipykernel_7516/840640218.py\u001b[0m in \u001b[0;36m<module>\u001b[1;34m\u001b[0m\n\u001b[0;32m      6\u001b[0m \u001b[1;32mwhile\u001b[0m \u001b[0mcur_page\u001b[0m \u001b[1;33m<\u001b[0m \u001b[0mpdfReader\u001b[0m\u001b[1;33m.\u001b[0m\u001b[0mnumPages\u001b[0m\u001b[1;33m:\u001b[0m\u001b[1;33m\u001b[0m\u001b[1;33m\u001b[0m\u001b[0m\n\u001b[0;32m      7\u001b[0m     \u001b[0mpageObj\u001b[0m  \u001b[1;33m=\u001b[0m \u001b[0mpdfReader\u001b[0m\u001b[1;33m.\u001b[0m\u001b[0mgetPage\u001b[0m\u001b[1;33m(\u001b[0m\u001b[0mcur_page\u001b[0m\u001b[1;33m)\u001b[0m\u001b[1;33m\u001b[0m\u001b[1;33m\u001b[0m\u001b[0m\n\u001b[1;32m----> 8\u001b[1;33m     \u001b[0mpageText\u001b[0m \u001b[1;33m=\u001b[0m \u001b[0mpageObj\u001b[0m\u001b[1;33m.\u001b[0m\u001b[0mextractText\u001b[0m\u001b[1;33m(\u001b[0m\u001b[1;33m)\u001b[0m\u001b[1;33m\u001b[0m\u001b[1;33m\u001b[0m\u001b[0m\n\u001b[0m\u001b[0;32m      9\u001b[0m \u001b[1;33m\u001b[0m\u001b[0m\n\u001b[0;32m     10\u001b[0m     \u001b[0mcur_page\u001b[0m \u001b[1;33m+=\u001b[0m \u001b[1;36m1\u001b[0m\u001b[1;33m\u001b[0m\u001b[1;33m\u001b[0m\u001b[0m\n",
      "\u001b[1;32mD:\\ANACONDA1\\lib\\site-packages\\PyPDF4\\pdf.py\u001b[0m in \u001b[0;36mextractText\u001b[1;34m(self)\u001b[0m\n\u001b[0;32m   2657\u001b[0m         \"\"\"\n\u001b[0;32m   2658\u001b[0m         \u001b[0mtext\u001b[0m \u001b[1;33m=\u001b[0m \u001b[0mu_\u001b[0m\u001b[1;33m(\u001b[0m\u001b[1;34m\"\"\u001b[0m\u001b[1;33m)\u001b[0m\u001b[1;33m\u001b[0m\u001b[1;33m\u001b[0m\u001b[0m\n\u001b[1;32m-> 2659\u001b[1;33m         \u001b[0mcontent\u001b[0m \u001b[1;33m=\u001b[0m \u001b[0mself\u001b[0m\u001b[1;33m[\u001b[0m\u001b[1;34m\"/Contents\"\u001b[0m\u001b[1;33m]\u001b[0m\u001b[1;33m.\u001b[0m\u001b[0mgetObject\u001b[0m\u001b[1;33m(\u001b[0m\u001b[1;33m)\u001b[0m\u001b[1;33m\u001b[0m\u001b[1;33m\u001b[0m\u001b[0m\n\u001b[0m\u001b[0;32m   2660\u001b[0m         \u001b[1;32mif\u001b[0m \u001b[1;32mnot\u001b[0m \u001b[0misinstance\u001b[0m\u001b[1;33m(\u001b[0m\u001b[0mcontent\u001b[0m\u001b[1;33m,\u001b[0m \u001b[0mContentStream\u001b[0m\u001b[1;33m)\u001b[0m\u001b[1;33m:\u001b[0m\u001b[1;33m\u001b[0m\u001b[1;33m\u001b[0m\u001b[0m\n\u001b[0;32m   2661\u001b[0m             \u001b[0mcontent\u001b[0m \u001b[1;33m=\u001b[0m \u001b[0mContentStream\u001b[0m\u001b[1;33m(\u001b[0m\u001b[0mcontent\u001b[0m\u001b[1;33m,\u001b[0m \u001b[0mself\u001b[0m\u001b[1;33m.\u001b[0m\u001b[0mpdf\u001b[0m\u001b[1;33m)\u001b[0m\u001b[1;33m\u001b[0m\u001b[1;33m\u001b[0m\u001b[0m\n",
      "\u001b[1;32mD:\\ANACONDA1\\lib\\site-packages\\PyPDF4\\generic.py\u001b[0m in \u001b[0;36m__getitem__\u001b[1;34m(self, key)\u001b[0m\n\u001b[0;32m    516\u001b[0m \u001b[1;33m\u001b[0m\u001b[0m\n\u001b[0;32m    517\u001b[0m     \u001b[1;32mdef\u001b[0m \u001b[0m__getitem__\u001b[0m\u001b[1;33m(\u001b[0m\u001b[0mself\u001b[0m\u001b[1;33m,\u001b[0m \u001b[0mkey\u001b[0m\u001b[1;33m)\u001b[0m\u001b[1;33m:\u001b[0m\u001b[1;33m\u001b[0m\u001b[1;33m\u001b[0m\u001b[0m\n\u001b[1;32m--> 518\u001b[1;33m         \u001b[1;32mreturn\u001b[0m \u001b[0mdict\u001b[0m\u001b[1;33m.\u001b[0m\u001b[0m__getitem__\u001b[0m\u001b[1;33m(\u001b[0m\u001b[0mself\u001b[0m\u001b[1;33m,\u001b[0m \u001b[0mkey\u001b[0m\u001b[1;33m)\u001b[0m\u001b[1;33m.\u001b[0m\u001b[0mgetObject\u001b[0m\u001b[1;33m(\u001b[0m\u001b[1;33m)\u001b[0m\u001b[1;33m\u001b[0m\u001b[1;33m\u001b[0m\u001b[0m\n\u001b[0m\u001b[0;32m    519\u001b[0m \u001b[1;33m\u001b[0m\u001b[0m\n\u001b[0;32m    520\u001b[0m     \u001b[1;31m##\u001b[0m\u001b[1;33m\u001b[0m\u001b[1;33m\u001b[0m\u001b[1;33m\u001b[0m\u001b[0m\n",
      "\u001b[1;32mD:\\ANACONDA1\\lib\\site-packages\\PyPDF4\\generic.py\u001b[0m in \u001b[0;36mgetObject\u001b[1;34m(self)\u001b[0m\n\u001b[0;32m    177\u001b[0m \u001b[1;33m\u001b[0m\u001b[0m\n\u001b[0;32m    178\u001b[0m     \u001b[1;32mdef\u001b[0m \u001b[0mgetObject\u001b[0m\u001b[1;33m(\u001b[0m\u001b[0mself\u001b[0m\u001b[1;33m)\u001b[0m\u001b[1;33m:\u001b[0m\u001b[1;33m\u001b[0m\u001b[1;33m\u001b[0m\u001b[0m\n\u001b[1;32m--> 179\u001b[1;33m         \u001b[1;32mreturn\u001b[0m \u001b[0mself\u001b[0m\u001b[1;33m.\u001b[0m\u001b[0mpdf\u001b[0m\u001b[1;33m.\u001b[0m\u001b[0mgetObject\u001b[0m\u001b[1;33m(\u001b[0m\u001b[0mself\u001b[0m\u001b[1;33m)\u001b[0m\u001b[1;33m.\u001b[0m\u001b[0mgetObject\u001b[0m\u001b[1;33m(\u001b[0m\u001b[1;33m)\u001b[0m\u001b[1;33m\u001b[0m\u001b[1;33m\u001b[0m\u001b[0m\n\u001b[0m\u001b[0;32m    180\u001b[0m \u001b[1;33m\u001b[0m\u001b[0m\n\u001b[0;32m    181\u001b[0m     \u001b[1;32mdef\u001b[0m \u001b[0m__repr__\u001b[0m\u001b[1;33m(\u001b[0m\u001b[0mself\u001b[0m\u001b[1;33m)\u001b[0m\u001b[1;33m:\u001b[0m\u001b[1;33m\u001b[0m\u001b[1;33m\u001b[0m\u001b[0m\n",
      "\u001b[1;32mD:\\ANACONDA1\\lib\\site-packages\\PyPDF4\\pdf.py\u001b[0m in \u001b[0;36mgetObject\u001b[1;34m(self, indirectReference)\u001b[0m\n\u001b[0;32m   1661\u001b[0m             \u001b[1;32mif\u001b[0m \u001b[0mdebug\u001b[0m\u001b[1;33m:\u001b[0m \u001b[0mprint\u001b[0m\u001b[1;33m(\u001b[0m\u001b[1;33m(\u001b[0m\u001b[1;34m\"  Uncompressed Object\"\u001b[0m\u001b[1;33m,\u001b[0m \u001b[0mindirectReference\u001b[0m\u001b[1;33m.\u001b[0m\u001b[0midnum\u001b[0m\u001b[1;33m,\u001b[0m \u001b[0mindirectReference\u001b[0m\u001b[1;33m.\u001b[0m\u001b[0mgeneration\u001b[0m\u001b[1;33m,\u001b[0m \u001b[1;34m\":\"\u001b[0m\u001b[1;33m,\u001b[0m \u001b[0mstart\u001b[0m\u001b[1;33m)\u001b[0m\u001b[1;33m)\u001b[0m\u001b[1;33m\u001b[0m\u001b[1;33m\u001b[0m\u001b[0m\n\u001b[0;32m   1662\u001b[0m             \u001b[0mself\u001b[0m\u001b[1;33m.\u001b[0m\u001b[0mstream\u001b[0m\u001b[1;33m.\u001b[0m\u001b[0mseek\u001b[0m\u001b[1;33m(\u001b[0m\u001b[0mstart\u001b[0m\u001b[1;33m,\u001b[0m \u001b[1;36m0\u001b[0m\u001b[1;33m)\u001b[0m\u001b[1;33m\u001b[0m\u001b[1;33m\u001b[0m\u001b[0m\n\u001b[1;32m-> 1663\u001b[1;33m             \u001b[0midnum\u001b[0m\u001b[1;33m,\u001b[0m \u001b[0mgeneration\u001b[0m \u001b[1;33m=\u001b[0m \u001b[0mself\u001b[0m\u001b[1;33m.\u001b[0m\u001b[0mreadObjectHeader\u001b[0m\u001b[1;33m(\u001b[0m\u001b[0mself\u001b[0m\u001b[1;33m.\u001b[0m\u001b[0mstream\u001b[0m\u001b[1;33m)\u001b[0m\u001b[1;33m\u001b[0m\u001b[1;33m\u001b[0m\u001b[0m\n\u001b[0m\u001b[0;32m   1664\u001b[0m             \u001b[1;32mif\u001b[0m \u001b[0midnum\u001b[0m \u001b[1;33m!=\u001b[0m \u001b[0mindirectReference\u001b[0m\u001b[1;33m.\u001b[0m\u001b[0midnum\u001b[0m \u001b[1;32mand\u001b[0m \u001b[0mself\u001b[0m\u001b[1;33m.\u001b[0m\u001b[0mxrefIndex\u001b[0m\u001b[1;33m:\u001b[0m\u001b[1;33m\u001b[0m\u001b[1;33m\u001b[0m\u001b[0m\n\u001b[0;32m   1665\u001b[0m                 \u001b[1;31m# Xref table probably had bad indexes due to not being zero-indexed\u001b[0m\u001b[1;33m\u001b[0m\u001b[1;33m\u001b[0m\u001b[1;33m\u001b[0m\u001b[0m\n",
      "\u001b[1;32mD:\\ANACONDA1\\lib\\site-packages\\PyPDF4\\pdf.py\u001b[0m in \u001b[0;36mreadObjectHeader\u001b[1;34m(self, stream)\u001b[0m\n\u001b[0;32m   1730\u001b[0m             warnings.warn(\"Superfluous whitespace found in object header %s %s\" % \\\n\u001b[0;32m   1731\u001b[0m                           (idnum, generation), utils.PdfReadWarning)\n\u001b[1;32m-> 1732\u001b[1;33m         \u001b[1;32mreturn\u001b[0m \u001b[0mint\u001b[0m\u001b[1;33m(\u001b[0m\u001b[0midnum\u001b[0m\u001b[1;33m)\u001b[0m\u001b[1;33m,\u001b[0m \u001b[0mint\u001b[0m\u001b[1;33m(\u001b[0m\u001b[0mgeneration\u001b[0m\u001b[1;33m)\u001b[0m\u001b[1;33m\u001b[0m\u001b[1;33m\u001b[0m\u001b[0m\n\u001b[0m\u001b[0;32m   1733\u001b[0m \u001b[1;33m\u001b[0m\u001b[0m\n\u001b[0;32m   1734\u001b[0m     \u001b[1;32mdef\u001b[0m \u001b[0mcacheGetIndirectObject\u001b[0m\u001b[1;33m(\u001b[0m\u001b[0mself\u001b[0m\u001b[1;33m,\u001b[0m \u001b[0mgeneration\u001b[0m\u001b[1;33m,\u001b[0m \u001b[0midnum\u001b[0m\u001b[1;33m)\u001b[0m\u001b[1;33m:\u001b[0m\u001b[1;33m\u001b[0m\u001b[1;33m\u001b[0m\u001b[0m\n",
      "\u001b[1;31mValueError\u001b[0m: invalid literal for int() with base 10: b'\\xa2\\x87\\xf2;\\x19\\xdb\\xb6I6\\xfdh\\xbc.\\x19\\x0egW,\\xf4V\\xc5\\x0e\\x8e.\\x92\\xf5\\xa0'"
     ]
    }
   ],
   "source": [
    "## loop thru all the pages\n",
    "cur_page = 0\n",
    "\n",
    "allText = \"\"\n",
    "\n",
    "while cur_page < pdfReader.numPages:\n",
    "    pageObj  = pdfReader.getPage(cur_page)\n",
    "    pageText = pageObj.extractText()\n",
    "    \n",
    "    cur_page += 1\n",
    "    \n",
    "    pattern  = r'[^a-zA-z\\s]'\n",
    "    pageText = re.sub(pattern, '', pageText)\n",
    "    \n",
    "    # remove extra newlines\n",
    "    pageText = re.sub(r'[\\r|\\n|\\r\\n]+', ' ', pageText)\n",
    "    \n",
    "    pageText = pageText.lower()\n",
    "    \n",
    "    allText = allText + pageText"
   ]
  },
  {
   "cell_type": "code",
   "execution_count": 37,
   "metadata": {},
   "outputs": [
    {
     "data": {
      "text/plain": [
       "584280"
      ]
     },
     "execution_count": 37,
     "metadata": {},
     "output_type": "execute_result"
    }
   ],
   "source": [
    "len(allText)"
   ]
  },
  {
   "cell_type": "code",
   "execution_count": 38,
   "metadata": {},
   "outputs": [
    {
     "data": {
      "text/plain": [
       "'machine learning   in python machine learning   in python essential techniques for   predictive anal'"
      ]
     },
     "execution_count": 38,
     "metadata": {},
     "output_type": "execute_result"
    }
   ],
   "source": [
    "allText[:100]"
   ]
  },
  {
   "cell_type": "code",
   "execution_count": 39,
   "metadata": {},
   "outputs": [],
   "source": [
    "tokens = allText.split()"
   ]
  },
  {
   "cell_type": "code",
   "execution_count": 40,
   "metadata": {},
   "outputs": [
    {
     "data": {
      "text/plain": [
       "88157"
      ]
     },
     "execution_count": 40,
     "metadata": {},
     "output_type": "execute_result"
    }
   ],
   "source": [
    "len(tokens)"
   ]
  },
  {
   "cell_type": "code",
   "execution_count": 41,
   "metadata": {},
   "outputs": [],
   "source": [
    "previous_word = \"\"\n",
    "token_dict    = defaultdict(list)"
   ]
  },
  {
   "cell_type": "code",
   "execution_count": 42,
   "metadata": {},
   "outputs": [],
   "source": [
    "for current_word in tokens:\n",
    "    if previous_word != \"\":\n",
    "        token_dict[previous_word].append(current_word)\n",
    "        \n",
    "    previous_word = current_word"
   ]
  },
  {
   "cell_type": "markdown",
   "metadata": {},
   "source": [
    "#### compute probability\n",
    "of each observed next word for each word in the dictionnary. "
   ]
  },
  {
   "cell_type": "code",
   "execution_count": 43,
   "metadata": {},
   "outputs": [],
   "source": [
    "for key in token_dict.keys():\n",
    "    \n",
    "    next_words   = token_dict[key]\n",
    "    \n",
    "    unique_words = set(next_words) # removes duplicates\n",
    "    \n",
    "    nb_words     = len(next_words)\n",
    "    \n",
    "    probabilities_token = {}\n",
    "    \n",
    "    for unique_word in unique_words:\n",
    "        probabilities_token[unique_word] = float(next_words.count(unique_word)) / nb_words\n",
    "        \n",
    "    token_dict[key] = probabilities_token"
   ]
  },
  {
   "cell_type": "code",
   "execution_count": 44,
   "metadata": {},
   "outputs": [
    {
     "data": {
      "text/plain": [
       "collections.defaultdict"
      ]
     },
     "execution_count": 44,
     "metadata": {},
     "output_type": "execute_result"
    }
   ],
   "source": [
    "type(token_dict)"
   ]
  },
  {
   "cell_type": "code",
   "execution_count": 47,
   "metadata": {},
   "outputs": [
    {
     "name": "stdout",
     "output_type": "stream",
     "text": [
      "\n",
      " machine {'competitions': 0.008403361344537815, 'is': 0.008403361344537815, 'learning': 0.8739495798319328, 'httpsstatwebstanfordedujhfftptrebstpdf': 0.025210084033613446, 'intelligence': 0.008403361344537815, 'learners': 0.008403361344537815, 'learn': 0.025210084033613446, 'linear': 0.008403361344537815, 'that': 0.008403361344537815, 'annals': 0.008403361344537815, 'and': 0.008403361344537815, 'approach': 0.008403361344537815}\n",
      "\n",
      " learning {'experience': 0.008130081300813009, 'algorithms': 0.17886178861788618, 'models': 0.016260162601626018, 'model': 0.016260162601626018, 'svms': 0.008130081300813009, 'problem': 0.08130081300813008, 'binary': 0.008130081300813009, 'practice': 0.008130081300813009, 'its': 0.008130081300813009, 'at': 0.008130081300813009, 'skills': 0.008130081300813009, 'comparison': 0.008130081300813009, 'the': 0.008130081300813009, 'to': 0.016260162601626018, 'is': 0.024390243902439025, 'for': 0.008130081300813009, 'algorithm': 0.06504065040650407, 'this': 0.008130081300813009, 'might': 0.008130081300813009, 'courses': 0.008130081300813009, 'in': 0.06504065040650407, 'with': 0.008130081300813009, 'techniques': 0.024390243902439025, 'and': 0.032520325203252036, 'technique': 0.016260162601626018, 'attacks': 0.008130081300813009, 'competition': 0.008130081300813009, 'systems': 0.008130081300813009, 'statistics': 0.008130081300813009, 'can': 0.008130081300813009, 'being': 0.008130081300813009, 'of': 0.016260162601626018, 'problems': 0.032520325203252036, 'into': 0.008130081300813009, 'figure': 0.008130081300813009, 'task': 0.008130081300813009, 'rate': 0.04878048780487805, 'competitions': 0.016260162601626018, 'theory': 0.008130081300813009, 'data': 0.04065040650406504, 'doia': 0.008130081300813009, 'test': 0.008130081300813009, 'tools': 0.016260162601626018, 'acm': 0.016260162601626018, 'c': 0.016260162601626018, 'repository': 0.016260162601626018, 'requires': 0.016260162601626018, 'retrieved': 0.008130081300813009, 'process': 0.008130081300813009}\n",
      "\n",
      " in {'ntreelist': 0.0020232675771370764, 'penalized': 0.0010116337885685382, 'cross': 0.0005058168942842691, 'random': 0.0015174506828528073, 'b': 0.0005058168942842691, 'idxattr]': 0.0010116337885685382, 'character': 0.0015174506828528073, 'ner': 0.0005058168942842691, 'direct': 0.0005058168942842691, 'new': 0.0005058168942842691, 'attributelist]': 0.0005058168942842691, 'equations': 0.0015174506828528073, 'target': 0.0005058168942842691, 'p': 0.0005058168942842691, 'equal': 0.0005058168942842691, 'rangenrowstest': 0.0005058168942842691, 'at': 0.0005058168942842691, 'rangenrow]': 0.012139605462822459, 'any': 0.0005058168942842691, 'xplot]': 0.004046535154274153, 'between': 0.0005058168942842691, 'tight': 0.0005058168942842691, 'rangenumber': 0.0005058168942842691, 'earlier': 0.0005058168942842691, 'range]': 0.0015174506828528073, 'scikit': 0.0005058168942842691, 'xlist': 0.008598887202832575, 'text': 0.0005058168942842691, 'data': 0.017703591299949417, 'absolute': 0.0005058168942842691, 'mountain': 0.0015174506828528073, 'technical': 0.0005058168942842691, 'automated': 0.0005058168942842691, 'that': 0.00556398583712696, 'half': 0.0010116337885685382, 'scientic': 0.0005058168942842691, 'range': 0.012139605462822459, 'its': 0.0010116337885685382, 'rangelenidxrows': 0.0005058168942842691, 'rangencols': 0.010622154779969651, 'vocabulary': 0.0005058168942842691, 'ytrain': 0.0005058168942842691, 'm': 0.0005058168942842691, 'rangelenidxcoefsize]': 0.0010116337885685382, 'later': 0.0010116337885685382, 'cases': 0.0005058168942842691, 'numeric': 0.0005058168942842691, 'using': 0.0005058168942842691, 'trajectories': 0.0005058168942842691, 'coefstar]': 0.0010116337885685382, 'lambda': 0.0010116337885685382, 'my': 0.0005058168942842691, 'securities': 0.0005058168942842691, 'coefsorted': 0.0010116337885685382, 'fit': 0.0005058168942842691, 'picking': 0.0005058168942842691, 'rangelenactual': 0.0005058168942842691, 'roughly': 0.0005058168942842691, 'devel': 0.0005058168942842691, 'rangenrowstrain': 0.0005058168942842691, 'place': 0.0025290844714213456, 'rangelenauclist': 0.0005058168942842691, 'practice': 0.0020232675771370764, 'on': 0.0005058168942842691, 'windows': 0.0005058168942842691, 'nzlist': 0.0030349013657056147, 'rangelenytest]': 0.0035407182599898838, 'drug': 0.0005058168942842691, 'favor': 0.0010116337885685382, 'reality': 0.0005058168942842691, 'determining': 0.0010116337885685382, 'rangeimodels': 0.0030349013657056147, 'question': 0.0005058168942842691, 'understanding': 0.0005058168942842691, 'and': 0.0005058168942842691, 'among': 0.0005058168942842691, 'action': 0.0005058168942842691, 'scikitlearn': 0.0005058168942842691, 'terms': 0.004552352048558422, 'repetition': 0.0005058168942842691, 'combination': 0.0005058168942842691, 'actual': 0.0010116337885685382, 'many': 0.004552352048558422, 'covered': 0.0005058168942842691, 'a': 0.0343955488113303, 'rangenxval': 0.0020232675771370764, 'rangelenmodellist]': 0.0030349013657056147, 'missclasserror]': 0.0005058168942842691, 'indices': 0.008093070308548306, 'rangen': 0.0005058168942842691, 'high': 0.0010116337885685382, 'quite': 0.0005058168942842691, 'compatible': 0.0005058168942842691, 'southeast': 0.0005058168942842691, 'rangenrows]nrows': 0.0035407182599898838, 'depthlist': 0.0005058168942842691, 'equation': 0.006069802731411229, 'deployment': 0.0025290844714213456, 'predictive': 0.0005058168942842691, 'specifying': 0.0005058168942842691, 'canada': 0.0005058168942842691, 'rangelenp': 0.0005058168942842691, 'one': 0.0035407182599898838, 'betas': 0.0005058168942842691, 'infancy': 0.0005058168942842691, 'price': 0.0005058168942842691, 'several': 0.0010116337885685382, 'alphalist': 0.0010116337885685382, 'generating': 0.0005058168942842691, 'frequency': 0.0015174506828528073, 'rhlist]': 0.0005058168942842691, 'set': 0.0005058168942842691, 'some': 0.010116337885685382, 'book': 0.0005058168942842691, 'biology': 0.0005058168942842691, 'idxtest]': 0.013657056145675266, 'error]': 0.0010116337885685382, 'rangensteps': 0.0035407182599898838, 'plotlist': 0.0005058168942842691, 'prediction': 0.0005058168942842691, 'friedmans': 0.0010116337885685382, 'rendering': 0.0005058168942842691, 'all': 0.0035407182599898838, 'code': 0.0005058168942842691, 'various': 0.0005058168942842691, 'rangenumelt': 0.0015174506828528073, 'better': 0.0005058168942842691, 'harbors': 0.0005058168942842691, 'maximizing': 0.0005058168942842691, 'ho': 0.0005058168942842691, 'colcounts': 0.0005058168942842691, 'position': 0.0005058168942842691, 'chapter': 0.041982802225594334, 'idxpos': 0.0005058168942842691, 'conjunction': 0.0020232675771370764, 'past': 0.0005058168942842691, 'rangenattr': 0.0010116337885685382, 'ols': 0.0005058168942842691, 'concrete': 0.0005058168942842691, 'last': 0.0005058168942842691, 'performance': 0.0025290844714213456, 'introduction': 0.0005058168942842691, 'contrast': 0.0005058168942842691, 'rangelentrain]': 0.0005058168942842691, 'feet': 0.0005058168942842691, 'errors': 0.0005058168942842691, 'measuring': 0.0005058168942842691, 'labels': 0.0010116337885685382, 'machine': 0.0025290844714213456, 'than': 0.0005058168942842691, 'both': 0.0020232675771370764, 'rangencol]': 0.010622154779969651, 'somewhat': 0.0005058168942842691, 'wildly': 0.0005058168942842691, 'developing': 0.0015174506828528073, 'gradient': 0.0005058168942842691, 'rangenbagsamples': 0.0010116337885685382, 'process': 0.0005058168942842691, 'ebooks': 0.0005058168942842691, 'planet': 0.0005058168942842691, 'squared': 0.0005058168942842691, 'addition': 0.009104704097116844, 'nzbeta': 0.0020232675771370764, 'j': 0.0010116337885685382, 'turn': 0.0005058168942842691, 'making': 0.0010116337885685382, 'principle': 0.0005058168942842691, 'rangensteps]': 0.0020232675771370764, 'order': 0.009610520991401113, 'accordance': 0.0005058168942842691, 'decision': 0.0005058168942842691, 'rangenlabels]': 0.0005058168942842691, 'development': 0.0015174506828528073, 'rangelentest': 0.0005058168942842691, 'index': 0.0010116337885685382, 'southern': 0.0005058168942842691, 'row]': 0.012139605462822459, 'yout': 0.0005058168942842691, 'everything': 0.0005058168942842691, 'rangenrows]': 0.015174506828528073, 'crossvalidation': 0.0010116337885685382, 'detail': 0.0020232675771370764, 'how': 0.0005058168942842691, 'examples': 0.0005058168942842691, 'idxbag]': 0.0030349013657056147, 'separate': 0.009610520991401113, 'classication': 0.0010116337885685382, 'chapters': 0.004552352048558422, 'design': 0.0005058168942842691, 'almost': 0.0005058168942842691, 'rangenpts]': 0.0005058168942842691, 'real': 0.0025290844714213456, 'these': 0.0015174506828528073, 'building': 0.0005058168942842691, 'rangenumtreesmax': 0.0030349013657056147, 'idxset]': 0.0005058168942842691, 'rangelenrmserror': 0.0005058168942842691, 'xtest': 0.0005058168942842691, 'truth': 0.0005058168942842691, 'magnitude': 0.0020232675771370764, 'atttryset]': 0.0005058168942842691, 'errata': 0.0005058168942842691, 'pbestlist]': 0.0005058168942842691, 'most': 0.0005058168942842691, 'training': 0.006069802731411229, 'academia': 0.0005058168942842691, '[': 0.0010116337885685382, 'other': 0.0020232675771370764, 'time': 0.0005058168942842691, 'atttry': 0.0005058168942842691, 'improved': 0.0005058168942842691, 'python': 0.009610520991401113, 'continued': 0.0005058168942842691, 'is': 0.0005058168942842691, 'error': 0.0015174506828528073, 'english': 0.0010116337885685382, 'this': 0.04501770359129995, 'response': 0.0005058168942842691, 'rangelencvcurve': 0.0005058168942842691, 'nzcoef': 0.0010116337885685382, 'mind': 0.0020232675771370764, 'ways': 0.0005058168942842691, 'rangelenresiduals]': 0.0010116337885685382, 'lhlist]': 0.0005058168942842691, 'store': 0.0005058168942842691, 'rangenrow': 0.009104704097116844, 'rangenrowstrain]': 0.0005058168942842691, 'low': 0.0005058168942842691, 'columnlist': 0.0005058168942842691, 'textmining': 0.0005058168942842691, 'model': 0.0005058168942842691, 'coldata': 0.0005058168942842691, 'predicting': 0.0015174506828528073, 'rangelenrow]': 0.0015174506828528073, 'shape': 0.0005058168942842691, 'idxtrain]': 0.010116337885685382, 'rangeint': 0.0005058168942842691, 'the': 0.23520485584218512, 'betamiddle': 0.0005058168942842691, 'aggregate': 0.0005058168942842691, 'complexity': 0.0010116337885685382, 'miles': 0.0005058168942842691, 'nancial': 0.0005058168942842691, 'it': 0.0010116337885685382, 'importance': 0.0005058168942842691, 'rangenrows': 0.015174506828528073, 'large': 0.0005058168942842691, 'incorporating': 0.0005058168942842691, 'exactly': 0.0005058168942842691, 'mathematical': 0.0005058168942842691, 'expected': 0.0005058168942842691, 'particular': 0.0015174506828528073, 'rangenlabels': 0.0020232675771370764, 'regression': 0.0010116337885685382, 'your': 0.007587253414264037, 'producing': 0.0005058168942842691, 'industrial': 0.0005058168942842691, 'interpreting': 0.0005058168942842691, 'rangelennzlist]': 0.0030349013657056147, 'an': 0.0020232675771370764, 'those': 0.0010116337885685382, 'idxset': 0.0005058168942842691, 'wwwwileycom': 0.0005058168942842691, 'front': 0.0005058168942842691, 'correctly': 0.0005058168942842691, 'rangelentarget': 0.0005058168942842691, 'mse': 0.0010116337885685382, 'which': 0.007587253414264037, 'complicated': 0.0005058168942842691, 'fewer': 0.0005058168942842691, 'ensemble': 0.02276176024279211, 'x': 0.01163378856853819, 'figures': 0.004046535154274153, 'per': 0.0005058168942842691, 'sklearnlinear_model': 0.0005058168942842691, 'i': 0.0005058168942842691, 'bytes': 0.0005058168942842691, 'rangentiles': 0.0010116337885685382, 'addi': 0.0005058168942842691, 'general': 0.0020232675771370764, 'binary': 0.0005058168942842691, 'economics': 0.0005058168942842691, 'rangencol': 0.0070814365199797676, 'listing': 0.020232675771370764, 'newly': 0.0005058168942842691, 'rangelenplotlist': 0.0005058168942842691, 'different': 0.0005058168942842691, 'tables': 0.0005058168942842691, 'predictions': 0.0020232675771370764, 'relationship': 0.0005058168942842691, 'rangenrow]nrow': 0.0020232675771370764, 'errvect]lenerrvect': 0.0005058168942842691, 'bagging': 0.0005058168942842691, 'rangenalphas': 0.0005058168942842691, 'oklahoma': 0.0005058168942842691, 'either': 0.0005058168942842691, 'rangelenmodellist': 0.0030349013657056147, 'jeremy': 0.0005058168942842691, 'rangelenxlist': 0.0005058168942842691, 'list': 0.0005058168942842691, 'only': 0.0010116337885685382, 'table': 0.013657056145675266, 'sample': 0.0010116337885685382, 'suppression': 0.0005058168942842691, 'printondemand': 0.0005058168942842691, 'rangelenxtest': 0.0030349013657056147, 'two': 0.0025290844714213456, 'more': 0.0035407182599898838, 'errors]': 0.0030349013657056147, 'ongoing': 0.0005058168942842691, 'rangencols]': 0.007587253414264037, 'them': 0.0005058168942842691, 'each': 0.007587253414264037, 'slightly': 0.0005058168942842691, 'rst': 0.0010116337885685382, 'value': 0.0005058168942842691, 'u': 0.0010116337885685382, 'rangenalpha': 0.0010116337885685382, 'figure': 0.03793626707132018, 'rangelenpredtemp]': 0.0005058168942842691, 'higher': 0.0005058168942842691, 'rangenpoints': 0.0030349013657056147}\n",
      "\n",
      " python {'packages': 0.21782178217821782, 'theyll': 0.009900990099009901, 'index': 0.009900990099009901, 'function': 0.009900990099009901, 'so': 0.009900990099009901, 'programmers': 0.0297029702970297, 'assessing': 0.019801980198019802, 'because': 0.009900990099009901, 'suppose': 0.009900990099009901, 'lists': 0.009900990099009901, 'code': 0.07920792079207921, 'the': 0.0297029702970297, 'random': 0.019801980198019802, 'solving': 0.009900990099009901, 'to': 0.009900990099009901, 'is': 0.039603960396039604, 'essential': 0.019801980198019802, 'package': 0.0297029702970297, 'for': 0.0297029702970297, 'numpy': 0.009900990099009901, 'this': 0.009900990099009901, 'versions': 0.009900990099009901, 'set': 0.009900990099009901, 'distribution': 0.009900990099009901, 'developers': 0.019801980198019802, 'machine': 0.009900990099009901, 'enet_path': 0.009900990099009901, 'scikitlearn': 0.009900990099009901, 'decisiontreeregression': 0.009900990099009901, 'software': 0.009900990099009901, 'permit': 0.009900990099009901, 'will': 0.009900990099009901, 'ensemble': 0.10891089108910891, 'x': 0.019801980198019802, 'pandas': 0.0297029702970297, 'list': 0.009900990099009901, 'gradient': 0.0297029702970297, 'that': 0.009900990099009901, 'like': 0.009900990099009901, 'implementation': 0.0297029702970297, 'elasticnet': 0.009900990099009901}\n",
      "\n",
      " essential {'algorithms': 0.6666666666666666, 'techniques': 0.3333333333333333}\n",
      "\n",
      " techniques {'like': 0.045454545454545456, 'generate': 0.045454545454545456, 'to': 0.09090909090909091, 'can': 0.045454545454545456, 'were': 0.045454545454545456, 'one': 0.045454545454545456, 'you': 0.045454545454545456, 'for': 0.2727272727272727, 'train': 0.045454545454545456, 'different': 0.045454545454545456, 'are': 0.045454545454545456, 'in': 0.045454545454545456, 'that': 0.045454545454545456, 'described': 0.045454545454545456, 'applied': 0.045454545454545456, 'too': 0.045454545454545456}\n",
      "\n",
      " for {'itrees': 0.005564830272676683, 'early': 0.0005564830272676684, 'select': 0.0005564830272676684, 'penalized': 0.00667779632721202, 'support': 0.0011129660545353367, 'performing': 0.0005564830272676684, 'random': 0.007234279354479688, 'not': 0.001669449081803005, 'alpha': 0.0011129660545353367, 'column': 0.0011129660545353367, 'another': 0.0005564830272676684, 'looking': 0.0005564830272676684, 'their': 0.0022259321090706734, 'num': 0.01001669449081803, 'new': 0.0005564830272676684, 'multiple': 0.0005564830272676684, 'equations': 0.0005564830272676684, 'models': 0.0005564830272676684, 'types': 0.0005564830272676684, 'soft': 0.0005564830272676684, 'presentation': 0.0011129660545353367, 'scientists': 0.0005564830272676684, 'p': 0.0022259321090706734, 'equal': 0.0022259321090706734, 'possible': 0.0005564830272676684, 'penalizing': 0.0005564830272676684, 'any': 0.0005564830272676684, 'taming': 0.0005564830272676684, 'n': 0.0022259321090706734, 'constructing': 0.0005564830272676684, 'plotting': 0.0027824151363383415, 'insample': 0.0011129660545353367, 'estimating': 0.0011129660545353367, 'text': 0.0005564830272676684, 'younger': 0.0005564830272676684, 'data': 0.001669449081803005, 'female': 0.0005564830272676684, 'false': 0.0011129660545353367, 'automated': 0.0005564830272676684, 'that': 0.006121313299944352, 'assigning': 0.0005564830272676684, 'now': 0.0005564830272676684, 'by': 0.0005564830272676684, 'number': 0.0005564830272676684, 'm': 0.0027824151363383415, 'later': 0.0005564830272676684, 'uncon': 0.0005564830272676684, 'numeric': 0.0011129660545353367, 'misclassi': 0.0005564830272676684, 'using': 0.0022259321090706734, 'lambda': 0.0011129660545353367, 'others': 0.0005564830272676684, 'approximately': 0.0005564830272676684, 'classier': 0.0005564830272676684, 'roughly': 0.0005564830272676684, 'themselves': 0.0005564830272676684, 'dierent': 0.0005564830272676684, 'comparisons': 0.0005564830272676684, 'r': 0.02615470228158041, 'ii': 0.0005564830272676684, 'dif': 0.0005564830272676684, 'mine': 0.0005564830272676684, 'nclass': 0.0005564830272676684, 's': 0.006121313299944352, 'determining': 0.0038953811908736783, 'understanding': 0.001669449081803005, 'download': 0.0011129660545353367, 'and': 0.0005564830272676684, 'ipred': 0.004451864218141347, 'scaling': 0.0005564830272676684, 'implementing': 0.0005564830272676684, 'bookkeeping': 0.0005564830272676684, 'tpr': 0.0005564830272676684, 'scikitlearn': 0.0011129660545353367, 'rock': 0.0005564830272676684, 'forward': 0.0022259321090706734, 'many': 0.001669449081803005, 'nsteps': 0.0005564830272676684, 'a': 0.054535336672231496, 'multiplying': 0.0005564830272676684, 'lars': 0.00333889816360601, 'extending': 0.0005564830272676684, 'mce': 0.0005564830272676684, 'storing': 0.0005564830272676684, 'sklearnensemblerandomforestclassifier': 0.0005564830272676684, 'translating': 0.0005564830272676684, 'regressionvisualize': 0.0011129660545353367, 'highspeed': 0.0005564830272676684, 'problem': 0.0005564830272676684, 'waves': 0.0005564830272676684, 'free': 0.0005564830272676684, 'permission': 0.0005564830272676684, 'testing': 0.0027824151363383415, 'plot': 0.0011129660545353367, 'classification': 0.0005564830272676684, 'gradientboostingregressor': 0.0022259321090706734, 'roc': 0.0005564830272676684, 'xx': 0.0005564830272676684, 'deployment': 0.004451864218141347, 'val': 0.0011129660545353367, 'predictive': 0.004451864218141347, 'specifying': 0.0005564830272676684, 'delving': 0.0005564830272676684, 'doing': 0.0038953811908736783, 'simple': 0.0038953811908736783, 'quantifying': 0.0005564830272676684, 'multiclass': 0.001669449081803005, 'intervention': 0.0005564830272676684, 'sklearnensemblerandomforestregressor': 0.0005564830272676684, 'people': 0.0005564830272676684, 'keeping': 0.0005564830272676684, 'one': 0.0038953811908736783, 'betas': 0.0011129660545353367, 'even': 0.0005564830272676684, 'strong': 0.0005564830272676684, 'interruption': 0.0005564830272676684, 'setting': 0.0011129660545353367, 'several': 0.001669449081803005, 'columns': 0.001669449081803005, 'abalonenames': 0.0011129660545353367, 'mean': 0.0005564830272676684, 'generating': 0.005564830272676683, 'set': 0.0005564830272676684, 'q': 0.00333889816360601, 'some': 0.00333889816360601, 'class': 0.0005564830272676684, 'calculating': 0.0011129660545353367, 'problems': 0.001669449081803005, 'max_features': 0.001669449081803005, 'rocksversusmines': 0.0011129660545353367, 'consideration': 0.0005564830272676684, 'prob': 0.0005564830272676684, 'l': 0.0011129660545353367, 'c': 0.0005564830272676684, 'overcoming': 0.0011129660545353367, 'three': 0.0011129660545353367, 'prediction': 0.001669449081803005, 'fpr': 0.0005564830272676684, 'splitting': 0.001669449081803005, 'indepth': 0.0005564830272676684, 'all': 0.0022259321090706734, 'mens': 0.0005564830272676684, 'outofsample': 0.0022259321090706734, 'rocks': 0.001669449081803005, 'subsequent': 0.0011129660545353367, 'line': 0.018920422927100722, 'notice': 0.0005564830272676684, 'lasso': 0.0022259321090706734, 'trading': 0.0005564830272676684, 'incorrectly': 0.0005564830272676684, 'trying': 0.0005564830272676684, 'istep': 0.0022259321090706734, 'points': 0.0005564830272676684, 'output': 0.0005564830272676684, 'attributes': 0.01001669449081803, 'answers': 0.0005564830272676684, 'our': 0.0005564830272676684, 'misclassication': 0.0005564830272676684, 'optimum': 0.0011129660545353367, 'test': 0.0005564830272676684, 'sum': 0.0011129660545353367, 'elasticnet': 0.001669449081803005, 'ols': 0.0005564830272676684, 'credit': 0.0005564830272676684, 'performance': 0.001669449081803005, 'assessing': 0.0005564830272676684, 'sex': 0.0005564830272676684, 'careful': 0.0005564830272676684, 'randomforestregressor': 0.001669449081803005, 'errvect': 0.0005564830272676684, 'elt': 0.0038953811908736783, 'errors': 0.0005564830272676684, 'measuring': 0.001669449081803005, 'labels': 0.008903728436282694, 'machine': 0.0005564830272676684, 'of': 0.0011129660545353367, 'much': 0.0005564830272676684, 'both': 0.0005564830272676684, 'bootstrap': 0.0005564830272676684, 'holding': 0.0011129660545353367, 'developing': 0.0005564830272676684, 'complex': 0.0005564830272676684, 'overfit': 0.0005564830272676684, 'vector': 0.0005564830272676684, 'gradient': 0.01725097384529772, 'sklearnensemblegradientboostingregressor': 0.0005564830272676684, 'improving': 0.0005564830272676684, 'glass': 0.0005564830272676684, 'function': 0.0005564830272676684, 'analyzing': 0.0005564830272676684, 'as': 0.0005564830272676684, 'pharmaceutical': 0.0005564830272676684, 'j': 0.032832498608792435, 'pre': 0.0005564830272676684, 'making': 0.021702838063439065, 'website': 0.0005564830272676684, 'updating': 0.0005564830272676684, 'inner': 0.0005564830272676684, 'you': 0.005564830272676683, 'modifying': 0.0005564830272676684, 'behavior': 0.0005564830272676684, 'generat': 0.0005564830272676684, 'decrementing': 0.0005564830272676684, 'judging': 0.0005564830272676684, 'accomplishing': 0.001669449081803005, 'index': 0.004451864218141347, 'presenting': 0.0005564830272676684, 'iteration': 0.0005564830272676684, 'comparison': 0.0022259321090706734, 'styles': 0.0005564830272676684, 'how': 0.0027824151363383415, 'examples': 0.0005564830272676684, 'getting': 0.0005564830272676684, 'k': 0.008347245409015025, 'base': 0.0005564830272676684, 'efcient': 0.0005564830272676684, 'solidifying': 0.0005564830272676684, 'auc': 0.0038953811908736783, 'interrupting': 0.0005564830272676684, 'women': 0.0005564830272676684, 'ilabel': 0.0011129660545353367, 'classication': 0.005564830272676683, 'iplot': 0.0005564830272676684, 'because': 0.0005564830272676684, 'deep': 0.0005564830272676684, 'values': 0.0005564830272676684, 'solving': 0.0038953811908736783, 'evaluation': 0.0005564830272676684, 'really': 0.0011129660545353367, 'real': 0.0005564830272676684, 'these': 0.006121313299944352, 'yourself': 0.001669449081803005, 'building': 0.005564830272676683, 'distinguishing': 0.0005564830272676684, 'abalone': 0.004451864218141347, 'most': 0.0005564830272676684, 'training': 0.01001669449081803, 'outliers': 0.0005564830272676684, 'other': 0.0011129660545353367, 'visualizing': 0.0011129660545353367, 'wines': 0.0011129660545353367, 'sparse': 0.0005564830272676684, 'e': 0.004451864218141347, 'linear': 0.0011129660545353367, 'classica': 0.0005564830272676684, 'imodel': 0.0011129660545353367, 'python': 0.0011129660545353367, 'nonpenalized': 0.0005564830272676684, 'individual': 0.0005564830272676684, 'depth': 0.0022259321090706734, 'idx': 0.00333889816360601, 'addressing': 0.0005564830272676684, 'randomforestclassifier': 0.001669449081803005, 'his': 0.0005564830272676684, 'error': 0.0005564830272676684, 'pairs': 0.0005564830272676684, 'iterating': 0.0005564830272676684, 'this': 0.017807456872565387, 'small': 0.0005564830272676684, 'ialpha': 0.0011129660545353367, 'highly': 0.0005564830272676684, 'icol': 0.0011129660545353367, 'use': 0.0011129660545353367, 'characterizing': 0.0005564830272676684, 'speed': 0.0005564830272676684, 'v': 0.0005564830272676684, 'alph': 0.0011129660545353367, 'learning_rate': 0.0005564830272676684, 'model': 0.0005564830272676684, 'predicting': 0.005008347245409015, 'the': 0.10517529215358931, 'gradientboostingclassifier': 0.0011129660545353367, 'it': 0.0005564830272676684, 'generalized': 0.0011129660545353367, 'or': 0.0005564830272676684, 'large': 0.001669449081803005, 'optimizing': 0.0005564830272676684, 'coding': 0.001669449081803005, 'converting': 0.0022259321090706734, 'diagnostics': 0.0005564830272676684, 'input': 0.004451864218141347, 'every': 0.001669449081803005, 'exam': 0.0005564830272676684, 'adjusting': 0.0005564830272676684, 'row': 0.01001669449081803, 'instance': 0.0038953811908736783, 'regression': 0.007234279354479688, 'your': 0.001669449081803005, 'producing': 0.004451864218141347, 'manhattan': 0.0005564830272676684, 'demonstrating': 0.0005564830272676684, 'overall': 0.0005564830272676684, 'purposes': 0.0005564830272676684, 'an': 0.006121313299944352, 'itry': 0.0005564830272676684, 'those': 0.0022259321090706734, 'classifying': 0.0005564830272676684, 'best': 0.008903728436282694, 'mse': 0.0011129660545353367, 'nest': 0.0005564830272676684, 'which': 0.00333889816360601, 'prototyping': 0.0005564830272676684, 'things': 0.0005564830272676684, 'complicated': 0.0011129660545353367, 'col': 0.0005564830272676684, 'correlation': 0.0005564830272676684, 'ensemble': 0.0022259321090706734, 'x': 0.0011129660545353367, 'figures': 0.0005564830272676684, 'ixval': 0.0022259321090706734, 'dark': 0.0005564830272676684, 'i': 0.11352253756260434, 'th': 0.0005564830272676684, 'imodels': 0.00333889816360601, 'wine': 0.0027824151363383415, 'general': 0.0005564830272676684, 'comparing': 0.0005564830272676684, 'binary': 0.0022259321090706734, 'plain': 0.0005564830272676684, 'selecting': 0.001669449081803005, 'idepth': 0.0005564830272676684, 'natural': 0.0005564830272676684, 'gathering': 0.0005564830272676684, 'different': 0.008347245409015025, 'why': 0.0005564830272676684, 'stochastic': 0.001669449081803005, 'predictions': 0.0005564830272676684, 'normalized': 0.001669449081803005, 'misclassification': 0.0011129660545353367, 'what': 0.0022259321090706734, 'logistic': 0.0011129660545353367, 'larger': 0.0005564830272676684, 'bagging': 0.004451864218141347, 'sklearnensemblegradientboostingclassifier': 0.0005564830272676684, 'example': 0.035058430717863104, 'damages': 0.0005564830272676684, 'introducing': 0.0005564830272676684, 'ridge': 0.001669449081803005, 'irow': 0.001669449081803005, 'attri': 0.0005564830272676684, 'researchers': 0.0005564830272676684, 'two': 0.0027824151363383415, 'more': 0.0038953811908736783, 'men': 0.0005564830272676684, 'no': 0.0005564830272676684, 'unnormalized': 0.0011129660545353367, 'them': 0.001669449081803005, 'tting': 0.0005564830272676684, 'glmnet': 0.0011129660545353367, 'deciding': 0.0005564830272676684, 'each': 0.031163049526989426, 'statistics': 0.0005564830272676684, 'detecting': 0.0027824151363383415, 'genetic': 0.0005564830272676684, 'synthetic': 0.001669449081803005, 'print': 0.0005564830272676684, 'figure': 0.0005564830272676684, 'bagged': 0.0011129660545353367, 'are': 0.0005564830272676684, 'statistical': 0.0011129660545353367}\n",
      "\n",
      " predictive {'rela': 0.009174311926605505, 'methods': 0.009174311926605505, 'analysis': 0.01834862385321101, 'models': 0.3302752293577982, 'model': 0.3486238532110092, 'of': 0.009174311926605505, 'prob': 0.009174311926605505, 'relation': 0.009174311926605505, 'algorithm': 0.06422018348623854, 'problems': 0.009174311926605505, 'problem': 0.009174311926605505, 'modeling': 0.045871559633027525, 'performance': 0.045871559633027525, 'mod': 0.009174311926605505, 'analytics': 0.05504587155963303, 'method': 0.01834862385321101}\n",
      "\n",
      " analysis {'system': 0.1111111111111111, 'of': 0.1111111111111111, 'michael': 0.1111111111111111, 'published': 0.1111111111111111, 'could': 0.1111111111111111, 'retrieved': 0.1111111111111111, 'and': 0.2222222222222222, 'statistical': 0.1111111111111111}\n",
      "\n",
      " michael {'bowles': 1.0}\n",
      "\n",
      " bowles {'import': 0.3333333333333333, 'machine': 0.3333333333333333, 'mike': 0.3333333333333333}\n",
      "\n",
      " published {'by': 0.5, 'simultaneously': 0.5}\n",
      "\n",
      " by {'model': 0.002881844380403458, 'choosing': 0.002881844380403458, 'minimizing': 0.002881844380403458, 'overrepresenting': 0.002881844380403458, 'cross': 0.002881844380403458, 'penalized': 0.002881844380403458, 'the': 0.13544668587896252, 'random': 0.011527377521613832, 'run': 0.002881844380403458, 'not': 0.002881844380403458, 'quite': 0.002881844380403458, 'convention': 0.002881844380403458, 'alpha': 0.002881844380403458, 'factor': 0.005763688760806916, 'testing': 0.005763688760806916, 'slicing': 0.005763688760806916, 'looking': 0.005763688760806916, 'equation': 0.011527377521613832, 'coding': 0.005763688760806916, 'breiman': 0.002881844380403458, 'making': 0.005763688760806916, 'converting': 0.005763688760806916, 'rf': 0.002881844380403458, 'their': 0.011527377521613832, 'box': 0.002881844380403458, 'xxxx': 0.002881844380403458, 'continually': 0.002881844380403458, 'simple': 0.002881844380403458, 'including': 0.002881844380403458, 'variables': 0.002881844380403458, 'dividing': 0.008645533141210375, 'creating': 0.005763688760806916, 'classes': 0.002881844380403458, 'decrementing': 0.002881844380403458, 'your': 0.002881844380403458, 'standard': 0.002881844380403458, 'models': 0.002881844380403458, 'one': 0.002881844380403458, 'coef': 0.01440922190201729, 'p': 0.002881844380403458, 'predictionofyx': 0.002881844380403458, 'comparison': 0.002881844380403458, 'an': 0.005763688760806916, 'bstdt': 0.002881844380403458, 'max': 0.023054755043227664, 'subtracting': 0.005763688760806916, 'any': 0.002881844380403458, 'penalizing': 0.008645533141210375, 'crossvalidation': 0.002881844380403458, 'setting': 0.002881844380403458, 'bradley': 0.002881844380403458, 'professor': 0.002881844380403458, 'construction': 0.002881844380403458, 'how': 0.023054755043227664, 'several': 0.002881844380403458, 'numbers': 0.002881844380403458, 'replacing': 0.002881844380403458, 'base': 0.002881844380403458, 'some': 0.002881844380403458, 'enet_path': 0.002881844380403458, 'steps': 0.002881844380403458, 'sales': 0.002881844380403458, 'auc': 0.002881844380403458, 'taking': 0.011527377521613832, 'engineers': 0.002881844380403458, 'subjecting': 0.002881844380403458, 'x': 0.002881844380403458, 'data': 0.002881844380403458, 'per': 0.002881844380403458, 'cycling': 0.002881844380403458, 'practitioners': 0.005763688760806916, 'tree': 0.002881844380403458, 'that': 0.002881844380403458, 'assigning': 0.008645533141210375, 'three': 0.002881844380403458, 'reducing': 0.002881844380403458, 'now': 0.002881844380403458, 'normalizing': 0.002881844380403458, 'comparing': 0.011527377521613832, 'its': 0.008645533141210375, 'changing': 0.002881844380403458, 'wiley': 0.002881844380403458, 'listing': 0.008645533141210375, 'to': 0.002881844380403458, 'solving': 0.002881844380403458, 'counting': 0.005763688760806916, 'gauss': 0.005763688760806916, 'authors': 0.005763688760806916, 'adding': 0.011527377521613832, 'different': 0.002881844380403458, 'machinereading': 0.002881844380403458, 'extension': 0.002881844380403458, 'using': 0.025936599423631124, 'discarding': 0.002881844380403458, 'isbn': 0.002881844380403458, 'magnitude': 0.005763688760806916, 'numpyrandom': 0.002881844380403458, 'trying': 0.005763688760806916, 'imposing': 0.002881844380403458, 'randomly': 0.002881844380403458, 'bagging': 0.002881844380403458, 'training': 0.01440922190201729, 'picking': 0.002881844380403458, 'john': 0.005763688760806916, 'roughly': 0.002881844380403458, 'train': 0.002881844380403458, 'themselves': 0.005763688760806916, 'associating': 0.002881844380403458, 'powers': 0.002881844380403458, 'leo': 0.002881844380403458, 'individual': 0.002881844380403458, 'means': 0.002881844380403458, 'letting': 0.002881844380403458, 'printondemand': 0.002881844380403458, 'two': 0.002881844380403458, 'stanford': 0.002881844380403458, 'hand': 0.002881844380403458, 'scanning': 0.002881844380403458, 'them': 0.002881844380403458, 'tting': 0.002881844380403458, 'contrast': 0.005763688760806916, 'understanding': 0.1729106628242075, 'eps': 0.008645533141210375, 'rank': 0.002881844380403458, 'labels': 0.005763688760806916, 'combining': 0.002881844380403458, 'detecting': 0.002881844380403458, 'fold': 0.002881844380403458, 'averaging': 0.002881844380403458, 'oversampling': 0.002881844380403458, 'rich': 0.008645533141210375, 'drawing': 0.002881844380403458, 'seeing': 0.002881844380403458, 'reference': 0.002881844380403458, 'sending': 0.002881844380403458, 'a': 0.04899135446685879, 'replicating': 0.002881844380403458, 'multiplying': 0.002881844380403458, 'lars': 0.008645533141210375, 'gradient': 0.005763688760806916, 'limiting': 0.002881844380403458}\n",
      "\n",
      " john {'wiley': 1.0}\n",
      "\n",
      " wiley {'products': 0.08333333333333333, 'publishes': 0.08333333333333333, 'xiii': 0.08333333333333333, 'sons': 0.4166666666666667, 'editors': 0.08333333333333333, 'have': 0.08333333333333333, 'and': 0.08333333333333333, 'logo': 0.08333333333333333}\n",
      "\n",
      " sons {'inc': 1.0}\n"
     ]
    }
   ],
   "source": [
    "ctr = 0\n",
    "for i, v in token_dict.items():\n",
    "    print('\\n', i, v)\n",
    "    ctr +=1\n",
    "    \n",
    "    if ctr> 15:\n",
    "        break"
   ]
  },
  {
   "cell_type": "markdown",
   "metadata": {},
   "source": [
    "#### predicting next word"
   ]
  },
  {
   "cell_type": "code",
   "execution_count": 50,
   "metadata": {},
   "outputs": [],
   "source": [
    "token_ask = 'machine'"
   ]
  },
  {
   "cell_type": "code",
   "execution_count": 51,
   "metadata": {},
   "outputs": [
    {
     "name": "stdout",
     "output_type": "stream",
     "text": [
      "{'learning': 0.8739495798319328, 'httpsstatwebstanfordedujhfftptrebstpdf': 0.025210084033613446, 'learn': 0.025210084033613446, 'competitions': 0.008403361344537815, 'is': 0.008403361344537815, 'intelligence': 0.008403361344537815, 'learners': 0.008403361344537815, 'linear': 0.008403361344537815, 'that': 0.008403361344537815, 'annals': 0.008403361344537815, 'and': 0.008403361344537815, 'approach': 0.008403361344537815}\n"
     ]
    }
   ],
   "source": [
    "if token_ask in token_dict:\n",
    "    \n",
    "    next_words_prob = token_dict[token_ask]\n",
    "    \n",
    "    #print(next_words_prob)\n",
    "    \n",
    "    print({k: v for k, v in sorted(next_words_prob.items(), key=lambda item: item[1], reverse=True)})"
   ]
  },
  {
   "cell_type": "code",
   "execution_count": null,
   "metadata": {},
   "outputs": [],
   "source": []
  }
 ],
 "metadata": {
  "kernelspec": {
   "display_name": "Python 3 (ipykernel)",
   "language": "python",
   "name": "python3"
  },
  "language_info": {
   "codemirror_mode": {
    "name": "ipython",
    "version": 3
   },
   "file_extension": ".py",
   "mimetype": "text/x-python",
   "name": "python",
   "nbconvert_exporter": "python",
   "pygments_lexer": "ipython3",
   "version": "3.9.13"
  }
 },
 "nbformat": 4,
 "nbformat_minor": 4
}
