{
 "cells": [
  {
   "cell_type": "code",
   "execution_count": 1,
   "metadata": {},
   "outputs": [],
   "source": [
    "import numpy as np\n",
    "import pandas as pd"
   ]
  },
  {
   "cell_type": "code",
   "execution_count": 2,
   "metadata": {},
   "outputs": [],
   "source": [
    "data = pd.read_json(r\"E:\\MYLEARN\\2-ANALYTICS-DataScience\\datasets\\NLP\\recipes.json\")\n"
   ]
  },
  {
   "cell_type": "code",
   "execution_count": 3,
   "metadata": {},
   "outputs": [
    {
     "data": {
      "text/html": [
       "<div>\n",
       "<style scoped>\n",
       "    .dataframe tbody tr th:only-of-type {\n",
       "        vertical-align: middle;\n",
       "    }\n",
       "\n",
       "    .dataframe tbody tr th {\n",
       "        vertical-align: top;\n",
       "    }\n",
       "\n",
       "    .dataframe thead th {\n",
       "        text-align: right;\n",
       "    }\n",
       "</style>\n",
       "<table border=\"1\" class=\"dataframe\">\n",
       "  <thead>\n",
       "    <tr style=\"text-align: right;\">\n",
       "      <th></th>\n",
       "      <th>Day</th>\n",
       "      <th>Ingredients</th>\n",
       "      <th>Instructions</th>\n",
       "      <th>Month</th>\n",
       "      <th>Name</th>\n",
       "      <th>Url</th>\n",
       "      <th>Weekday</th>\n",
       "      <th>Year</th>\n",
       "    </tr>\n",
       "  </thead>\n",
       "  <tbody>\n",
       "    <tr>\n",
       "      <th>0</th>\n",
       "      <td>1</td>\n",
       "      <td>[600 g Hackfleisch, halb und halb, 800 g Sauer...</td>\n",
       "      <td>Die Eier hart kochen. Dann pellen und mit eine...</td>\n",
       "      <td>January</td>\n",
       "      <td>Gebratener Hasenrücken</td>\n",
       "      <td>https://www.chefkoch.de/rezepte/185441079701305/</td>\n",
       "      <td>Thursday</td>\n",
       "      <td>2009</td>\n",
       "    </tr>\n",
       "    <tr>\n",
       "      <th>1</th>\n",
       "      <td>1</td>\n",
       "      <td>[1 kg Strauchtomate(n), 1 Gemüsezwiebel(n), 1 ...</td>\n",
       "      <td>Vorab folgende Bemerkung: Alle Mengen sind Cir...</td>\n",
       "      <td>July</td>\n",
       "      <td>Pilz Stroganoff</td>\n",
       "      <td>https://www.chefkoch.de/rezepte/2718181424631245/</td>\n",
       "      <td>Saturday</td>\n",
       "      <td>2017</td>\n",
       "    </tr>\n",
       "    <tr>\n",
       "      <th>2</th>\n",
       "      <td>1</td>\n",
       "      <td>[1 Glas Kirsche(n), 1 Pck. Vanillepuddingpulve...</td>\n",
       "      <td>Die Kirschen abtropfen lassen, dabei den Saft ...</td>\n",
       "      <td>January</td>\n",
       "      <td>Kaninchen a la Gioff</td>\n",
       "      <td>https://www.chefkoch.de/rezepte/46341015661368/</td>\n",
       "      <td>Monday</td>\n",
       "      <td>2007</td>\n",
       "    </tr>\n",
       "    <tr>\n",
       "      <th>3</th>\n",
       "      <td>1</td>\n",
       "      <td>[500 g Spargel, grüner, 300 ml Brühe oder Fond...</td>\n",
       "      <td>Den Spargel säubern, die holzigen Enden abschn...</td>\n",
       "      <td>April</td>\n",
       "      <td>Spanisches Knoblauch-Kaninchen</td>\n",
       "      <td>https://www.chefkoch.de/rezepte/51051018014178/</td>\n",
       "      <td>Monday</td>\n",
       "      <td>2013</td>\n",
       "    </tr>\n",
       "    <tr>\n",
       "      <th>4</th>\n",
       "      <td>1</td>\n",
       "      <td>[250 g Kohlrabi, 150 ml Gemüsebrühe, 150 ml Mi...</td>\n",
       "      <td>Kohlrabi schälen und klein würfeln. Mit der Br...</td>\n",
       "      <td>August</td>\n",
       "      <td>Gnocchi - Hack - Pfanne mit Basilikum</td>\n",
       "      <td>https://www.chefkoch.de/rezepte/1555771262860408/</td>\n",
       "      <td>Tuesday</td>\n",
       "      <td>2017</td>\n",
       "    </tr>\n",
       "  </tbody>\n",
       "</table>\n",
       "</div>"
      ],
      "text/plain": [
       "   Day                                        Ingredients  \\\n",
       "0    1  [600 g Hackfleisch, halb und halb, 800 g Sauer...   \n",
       "1    1  [1 kg Strauchtomate(n), 1 Gemüsezwiebel(n), 1 ...   \n",
       "2    1  [1 Glas Kirsche(n), 1 Pck. Vanillepuddingpulve...   \n",
       "3    1  [500 g Spargel, grüner, 300 ml Brühe oder Fond...   \n",
       "4    1  [250 g Kohlrabi, 150 ml Gemüsebrühe, 150 ml Mi...   \n",
       "\n",
       "                                        Instructions    Month  \\\n",
       "0  Die Eier hart kochen. Dann pellen und mit eine...  January   \n",
       "1  Vorab folgende Bemerkung: Alle Mengen sind Cir...     July   \n",
       "2  Die Kirschen abtropfen lassen, dabei den Saft ...  January   \n",
       "3  Den Spargel säubern, die holzigen Enden abschn...    April   \n",
       "4  Kohlrabi schälen und klein würfeln. Mit der Br...   August   \n",
       "\n",
       "                                    Name  \\\n",
       "0                 Gebratener Hasenrücken   \n",
       "1                        Pilz Stroganoff   \n",
       "2                   Kaninchen a la Gioff   \n",
       "3         Spanisches Knoblauch-Kaninchen   \n",
       "4  Gnocchi - Hack - Pfanne mit Basilikum   \n",
       "\n",
       "                                                 Url   Weekday  Year  \n",
       "0   https://www.chefkoch.de/rezepte/185441079701305/  Thursday  2009  \n",
       "1  https://www.chefkoch.de/rezepte/2718181424631245/  Saturday  2017  \n",
       "2    https://www.chefkoch.de/rezepte/46341015661368/    Monday  2007  \n",
       "3    https://www.chefkoch.de/rezepte/51051018014178/    Monday  2013  \n",
       "4  https://www.chefkoch.de/rezepte/1555771262860408/   Tuesday  2017  "
      ]
     },
     "execution_count": 3,
     "metadata": {},
     "output_type": "execute_result"
    }
   ],
   "source": [
    "data.head()"
   ]
  },
  {
   "cell_type": "code",
   "execution_count": 4,
   "metadata": {},
   "outputs": [],
   "source": [
    "instructions = data.Instructions"
   ]
  },
  {
   "cell_type": "code",
   "execution_count": 5,
   "metadata": {},
   "outputs": [],
   "source": [
    "import spacy"
   ]
  },
  {
   "cell_type": "code",
   "execution_count": 6,
   "metadata": {},
   "outputs": [],
   "source": [
    "nlp = spacy.load('de_core_news_sm', disable=['parser', 'tagger', 'ner'])"
   ]
  },
  {
   "cell_type": "code",
   "execution_count": 8,
   "metadata": {},
   "outputs": [],
   "source": [
    "tokenized = nlp.tokenizer.pipe(instructions.values)\n",
    "\n",
    "tokenized = [t.text for doc in tokenized for t in doc]"
   ]
  },
  {
   "cell_type": "code",
   "execution_count": 9,
   "metadata": {},
   "outputs": [
    {
     "data": {
      "text/plain": [
       "['Die', 'Eier', 'hart', 'kochen', '.', 'Dann', 'pellen', 'und', 'mit', 'einem']"
      ]
     },
     "execution_count": 9,
     "metadata": {},
     "output_type": "execute_result"
    }
   ],
   "source": [
    "tokenized[:10]"
   ]
  },
  {
   "cell_type": "markdown",
   "metadata": {},
   "source": [
    "## Create tri-grams"
   ]
  },
  {
   "cell_type": "code",
   "execution_count": 10,
   "metadata": {},
   "outputs": [],
   "source": [
    "from collections import Counter, defaultdict\n",
    "from itertools import tee"
   ]
  },
  {
   "cell_type": "code",
   "execution_count": 11,
   "metadata": {},
   "outputs": [],
   "source": [
    "def make_trigrams(iterator):\n",
    "    a, b, c = tee(iterator, 3)\n",
    "    next(b)\n",
    "    next(c)\n",
    "    next(c)\n",
    "    \n",
    "    return zip(a, b, c)"
   ]
  },
  {
   "cell_type": "code",
   "execution_count": 12,
   "metadata": {},
   "outputs": [],
   "source": [
    "trigrams = Counter(make_trigrams(tokenized))"
   ]
  },
  {
   "cell_type": "code",
   "execution_count": 13,
   "metadata": {},
   "outputs": [
    {
     "data": {
      "text/plain": [
       "[(('Salz', 'und', 'Pfeffer'), 4400),\n",
       " (('Salz', ',', 'Pfeffer'), 2996),\n",
       " (('mit', 'Salz', 'und'), 2765),\n",
       " (('.', 'Mit', 'Salz'), 2540),\n",
       " ((',', 'Pfeffer', 'und'), 2169),\n",
       " (('in', 'einer', 'Pfanne'), 1952),\n",
       " (('und', 'Pfeffer', 'würzen'), 1831),\n",
       " (('lassen', '.', 'Die'), 1742),\n",
       " (('schneiden', '.', 'Die'), 1710),\n",
       " (('köcheln', 'lassen', '.'), 1669)]"
      ]
     },
     "execution_count": 13,
     "metadata": {},
     "output_type": "execute_result"
    }
   ],
   "source": [
    "trigrams.most_common(10)"
   ]
  },
  {
   "cell_type": "markdown",
   "metadata": {},
   "source": [
    "## Build a next-word-lookup"
   ]
  },
  {
   "cell_type": "code",
   "execution_count": 14,
   "metadata": {},
   "outputs": [],
   "source": [
    "d = defaultdict(Counter)\n",
    "\n",
    "for a, b, c in trigrams:\n",
    "        \n",
    "    d[a, b][c] += trigrams[a, b, c]\n",
    "    \n",
    "    #print(a,b,c)\n"
   ]
  },
  {
   "cell_type": "code",
   "execution_count": 15,
   "metadata": {},
   "outputs": [
    {
     "name": "stdout",
     "output_type": "stream",
     "text": [
      "('Die', 'Eier') : Counter({'mit': 139, 'pochieren': 121, 'trennen': 50, 'in': 41, 'hart': 32, 'verquirlen': 29, ',': 19, 'und': 14, 'nacheinander': 7, 'ca.': 6, 'schälen': 6, 'verschlagen': 5, ':': 4, 'kräftig': 4, 'etwa': 4, 'im': 4, 'darauf': 4, 'einzeln': 4, 'pellen': 4, 'schlagen': 3, 'darübergießen': 3, 'aufschlagen': 3, '-': 3, 'wachsweich': 3, 'dazu': 3, 'nach': 3, 'hartkochen': 2, 'klein': 2, 'dabei': 2, 'dazugeben': 2, 'zu': 2, 'abgießen': 2, 'leicht': 1, 'inzwischen': 1, 'mir': 1, 'werden': 1, 'abkochen': 1})\n",
      "('Eier', 'hart') : Counter({'kochen': 49})\n",
      "('hart', 'kochen') : Counter({',': 33, '.': 24, 'und': 10})\n",
      "('kochen', '.') : Counter({'Die': 188, 'Das': 135, 'In': 106, 'Den': 91, 'Mit': 71, 'Inzwischen': 68, 'Dann': 61, 'Nach': 59, 'Abgießen': 54, 'Fischfilet': 29, 'Anschließend': 29, 'Danach': 27, 'Zum': 27, 'Beim': 27, 'Bohnen': 18, 'Für': 17, 'Pilze': 17, 'Abschrecken': 16, 'Abtropfen': 15, 'Möhren': 14, 'Dabei': 14, 'Währenddessen': 13, 'Speck': 12, 'Kartoffeln': 11, 'Während': 10, 'Abkühlen': 9, 'Ketjap': 9, 'Kein': 9, 'Wenn': 8, 'Kalt': 8, 'Zwiebel': 8, 'Schließlich': 8, 'Spitzkohl': 8, 'Olivenöl': 8, 'Gleichzeitig': 8, 'Es': 8, '5': 7, 'So': 7, 'Saure': 7, 'Gemüse': 7, 'Evtl': 7, 'Rauke': 7, 'Auskühlen': 7, 'Herdplatte': 6, 'Am': 6, 'Löwenzahn': 6, 'Fleisch': 6, 'Ich': 6, 'Tomaten': 6, 'Nun': 6, 'Brokkoli': 6, 'Vom': 6, '(': 6, 'Sie': 5, 'Eier': 5, 'Knoblauch': 5, 'Ein': 5, 'Tiefgefrorene': 5, 'Ca': 5, 'Käse': 5, 'Von': 5, 'Frühlingszwiebeln': 5, 'Abschmecken': 5, 'Eventuell': 5, 'Eine': 5, 'Restliche': 5, 'Aber': 5, 'Äpfel': 5, 'Auf': 5, 'Kurz': 5, 'Herausnehmen': 5, 'Gut': 4, 'Weißkraut': 4, 'Bei': 4, 'Öl': 4, 'Hähnchenbrustfilets': 4, 'Hühnerbrühe': 4, 'Butter': 4, 'Ab': 4, 'die': 4, 'Aus': 4, 'Bananen': 4, 'Cremefin': 4, 'Später': 4, 'Alles': 4, 'An': 4, 'Nudeln': 4, 'Öfter': 3, 'Spinat': 3, 'Sahne': 3, 'Spargel': 3, 'Durch': 3, '3': 3, 'Sobald': 3, 'Würstel': 3, 'Sauce:300': 3, 'Der': 3, 'Zunge': 3, 'Brot': 3, 'Dies': 3, 'Spaghetti': 3, 'Auch': 3, 'Rosmarin': 3, 'Eiweiß': 3, 'Mais': 3, 'Gorgonzola': 3, 'Wer': 3, 'Sofort': 3, 'Achtung': 3, 'Etwas': 3, 'Wasser': 3, '2': 3, 'Champignons': 3, 'Gegen': 2, 'Porree': 2, 'Rosenkohlpüree': 2, 'DiePetersilie': 2, 'Fett': 2, 'Frischkäse': 2, 'Calvados': 2, 'Lachs': 2, 'Er': 2, 'Sojabohnen': 2, 'Herausheben': 2, 'Fischbällchen': 2, 'Etwa': 2, 'Zucchini': 2, 'Derweil': 2, 'Unterdessen': 2, 'Vor': 2, 'Folien': 2, 'Fischfilets': 2, 'Schnitzel': 2, 'Hacksteaks': 2, 'Klöße': 2, 'Kasseler': 2, 'Erdbeerviertel': 2, 'Tomatenmark': 2, 'Im': 2, 'Längs': 1, 'Abschütten': 1, 'Abseihen': 1, 'Optional': 1, 'Schälen': 1, 'Gewürfelten': 1, 'Sollte': 1, 'Petersilie': 1, 'Pflanzenöl': 1, 'Hähnchenkeulen': 1, 'Wein': 1, 'Soße': 1, 'Zwiebeln': 1, 'Dafür': 1, 'Hähnchenbrustfilet': 1, 'Erst': 1, 'Paprika': 1, 'Tortiglioni': 1, 'Zusammen': 1, 'Elektroofen': 1, 'Dazu': 1, 'Schnittlauch': 1, 'Wurst': 1, 'Zutaten': 1, '1': 1, 'Abgetropft': 1, 'Lauwarm': 1, 'Rucola': 1, 'Serviettenknödel': 1, 'Halbierte': 1, 'Ente': 1, 'Linsen': 1, 'Diese': 1, 'Rübchen': 1, 'Sauce': 1, 'Legen': 1, 'Tofu': 1, 'Zeitgleich': 1, 'Erbsen': 1, 'Leberkäse': 1})\n",
      "('.', 'Dann') : Counter({'die': 759, 'den': 389, 'das': 277, 'mit': 193, 'in': 136, 'kommt': 49, 'herausnehmen': 41, 'etwas': 31, 'dünn': 30, 'wird': 30, 'noch': 28, 'einen': 22, 'aus': 22, 'werden': 19, 'salzen': 18, 'eine': 18, 'im': 17, 'auf': 16, 'abwechselnd': 15, 'alles': 15, 'abgießen': 14, 'ca.': 14, 'nach': 14, 'Knoblauch': 13, 'pfeffern': 13, 'geben': 13, 'lässt': 11, 'waschen': 11, 'kann': 10, 'erst': 10, 'von': 10, 'aber': 9, 'Möhren': 9, 'über': 9, 'unter': 9, 'wieder': 9, '1': 9, 'zum': 8, 'kommen': 8, 'wenden': 8, 'jedes': 8, 'bei': 7, 'durch': 7, 'Zwiebeln': 7, 'muss': 7, 'Olivenöl': 7, 'nur': 6, '2': 6, 'alle': 6, 'Käse': 6, 'ist': 6, 'Lasagneplatten': 6, 'ein': 6, 'zu': 6, 'pellen': 5, 'Tomaten': 5, 'Kartoffelwürfel': 5, 'schälen': 5, 'beginnen': 5, 'hat': 5, 'Tomatenmark': 5, 'abtropfen': 5, 'sofort': 5, 'Weißwein': 5, 'Kürbis': 5, 'jeweils': 5, 'bis': 5, 'gibt': 5, 'weiteres': 4, 'Laibchen': 4, 'gewürfelte': 4, 'soviel': 4, 'leicht': 4, 'Mehl': 4, 'reibe': 4, 'setze': 4, '500': 4, 'riecht': 4, 'Wasser': 4, 'zugedeckt': 4, 'sollten': 4, 'schichtet': 4, 'rundherum': 4, 'beginne': 4, 'Garam': 3, 'herausheben': 3, 'Zwiebelwürfel': 3, 'kalt': 3, 'abschütten': 3, 'auch': 3, 'nacheinander': 3, 'Erdnussbutter': 3, 'Reiswein': 3, 'abseihen': 3, 'Schweinefleisch': 3, 'am': 3, 'Mais': 3, 'schneiden': 3, 'wie': 3, 'schneide': 3, 'vorsichtig': 3, 'zusammen': 3, '60': 3, 'abtrocknen': 3, 'Toastscheiben': 3, 'Sojasauce': 3, '300': 3, 'einrollen': 3, 'Stränge': 3, 'direkt': 3, 'Paprikastreifen': 3, 'evtl.': 3, 'erhitzt': 3, 'beiseitestellen': 3, 'Fleisch': 3, 'Zucchiniraspel': 2, 'mutiger': 2, 'kleine': 2, '0,1': 2, 'schnell': 2, 'restliches': 2, 'jede': 2, 'abschälen': 2, 'mittels': 2, 'verfahren': 2, 'Rindfleisch': 2, 'pürieren': 2, 'zurück': 2, 'Paprika': 2, 'schichtweise': 2, ',': 2, '50': 2, 'braucht': 2, 'gut': 2, '8': 2, 'so': 2, 'Sambal': 2, 'ggf.': 2, 'Paprikastücke': 2, 'abschmecken': 2, 'reicht': 2, 'Pfeffer': 2, 'nehme': 2, '25': 2, 'Zucchini': 2, 'kräftig': 2, 'als': 2, 'Schwarzkümmel': 2, 'Hitze': 2, 'abspülen': 2, 'auspressen': 2, 'vom': 2, 'bekommt': 2, 'fein': 2, 'Linsen': 2, 'beides': 1, 'nimmt': 1, 'oben': 1, 'gehts': 1, 'lauwarm': 1, 'Currypuder': 1, 'aufrollen': 1, 'ausrollen': 1, 'Wein': 1, 'verkochen': 1, '10': 1, 'heiße': 1, 'hinzugeben': 1, 'evt': 1, 'Deckel': 1, 'Erbsen': 1, 'zerstampfen': 1, 'per': 1, 'kleingehackte': 1, 'Gemüse': 1, 'Ajvar': 1, 'nochmal': 1, 'Schale': 1, 'nachgießen': 1, 'zuckern': 1, 'Crème': 1, 'abdecken': 1, 'reichen': 1, 'Kokosmilch': 1, 'ganz': 1, 'umdrehen': 1, 'Öl': 1, 'Karotte': 1, 'gehackte': 1, 'allerdings': 1, 'hacken': 1, 'halbieren': 1, 'Frikadellen/Pflanzerl': 1, 'herzhaft': 1, 'sind': 1, 'zwischen': 1, 'sehr': 1, 'abkühlen': 1, 'Kartoffeln': 1})\n",
      "('Dann', 'pellen') : Counter({'und': 5})\n",
      "('pellen', 'und') : Counter({'in': 103, 'fein': 34, 'grob': 33, 'würfeln': 18, 'längs': 11, 'mit': 10, 'halbieren': 8, 'heiß': 7, 'dann': 6, 'durch': 6, 'ebenfalls': 6, 'noch': 5, 'abkühlen': 5, 'zerdrücken': 5, 'auch': 4, 'vierteln': 3, 'jeweils': 3, 'dazupressen': 3, 'auf': 3, 'beides': 3, 'warm': 3, 'erkalten': 3, 'etwas': 2, 'alles': 2, 'dazu': 1, 'anschließend': 1, 'reiben': 1})\n",
      "('und', 'mit') : Counter({'Salz': 1255, 'dem': 1210, 'der': 884, 'den': 622, 'einem': 291, 'etwas': 219, 'Pfeffer': 158, 'einer': 136, 'Wasser': 112, 'Petersilie': 98, 'anbraten': 95, 'Zitronensaft': 74, '1': 48, 'Gemüsebrühe': 47, 'Parmesan': 46, 'Holzspießen': 43, 'je': 41, 'Küchengarn': 41, 'Käse': 40, 'Mehl': 39, 'Senf': 39, 'Zucker': 37, 'Brühe': 37, 'Alufolie': 32, 'in': 32, 'Olivenöl': 32, 'Kräutern': 30, 'ca.': 30, 'Reis': 30, 'jeweils': 30, 'einigen': 29, 'Lorbeerblatt': 29, 'gehackter': 28, 'Öl': 27, 'Zahnstochern': 26, 'Dill': 26, 'Milch': 26, 'ein': 25, 'Hilfe': 25, 'Küchenpapier': 25, 'Deckel': 24, 'Schnittlauch': 24, 'Sojasauce': 24, 'Stärkemehl': 24, '2': 23, 'frisch': 22, 'Küchenkrepp': 20, 'Muskat': 20, 'geriebenem': 20, 'reichlich': 20, 'Sahne': 20, 'Schale': 19, '3': 19, 'geschlossenem': 18, 'Paprikapulver': 18, 'wenig': 17, 'Weißwein': 17, 'Oregano': 16, 'Currypulver': 16, 'Basilikum': 16, 'kaltem': 16, 'Schnittlauchröllchen': 16, 'andünsten': 15, 'Wein': 15, 'Paprika': 15, 'zerlassener': 15, 'Weißbrot': 13, 'Paniermehl': 12, 'Rouladennadeln': 12, 'anschwitzen': 12, 'Rotwein': 12, 'Koriandergrün': 12, 'Puderzucker': 11, 'Nüssen': 11, 'Thymian': 11, 'Gewürzen': 11, 'Eigelb': 11, 'leicht': 11, 'frischen': 10, 'Holzspießchen': 10, 'Meersalz': 10, 'Bier': 10, 'Limettensaft': 10, 'Kresse': 10, 'Zimt': 9, '50': 9, 'Tomatenmark': 9, 'soviel': 9, 'Crème': 9, 'Salat': 9, 'verschiedenem': 9, '100': 8, 'Kürbiskernen': 8, 'Zitronenscheiben': 8, '1/2': 8, 'Semmelbrösel': 8, 'Saucenbinder': 8, 'Speckbohnen': 8, 'Kartoffelbrei': 8, 'Hackfleisch': 8, 'Zitrone': 8, '4': 8, 'Sesam': 7, 'Tabasco': 7, 'Sauce': 7, 'Zwiebelgrün': 7, 'o.g.': 7, 'kochendem': 7, 'Chilistreifen': 7, 'Creme': 7, 'Speck': 7, 'restlicher': 7, 'frischem': 7, 'Schinken': 7, 'Nudeln': 6, 'längs': 6, 'saurer': 6, 'warmer': 6, 'Gemüse': 6, 'Eiern': 6, 'Spargel': 6, 'Küchentüchern': 6, 'Zitronenschale': 6, 'Pell-': 6, 'Cayennepfeffer': 6, 'Süßstoff': 6, 'flüssiger': 6, 'Faden': 6, 'Semmelbröseln': 6, 'gerösteten': 6, 'grob': 6, 'Staubzucker': 6, 'Koriander': 6, 'angehen': 6, 'Pinienkernen': 6, 'Butter': 6, 'Bröseln': 6, 'restlichen': 6, 'fein': 6, 'Noristreifen': 6, 'Rosmarin': 6, 'Fenchel': 6, 'Mozzarella': 6, '6': 5, 'braten': 5, 'Salatblättern': 5, 'oberen': 5, 'Tomatensauce': 5, '300': 5, 'Tannennadeln': 5, 'Zwiebel': 5, 'Schwarzkümmel': 5, 'Fond': 5, 'Frischkäse': 5, 'Soßenbinder': 5, 'Fleur': 5, 'Essig': 5, 'Lauch': 5, 'Estragon': 5, 'Kerbelblättchen': 5, 'Röstzwiebeln': 5, '½': 5, 'Klarsichtfolie': 5, 'angerührtem': 5, 'Honig': 5, 'Rote': 5, 'Schlupfnudeln': 5, 'Basilikumblätter': 5, 'Eigelben': 5, 'Sardellenfilets': 5, 'Basilikumblättern': 4, 'klein': 4, 'Zwiebeln': 4, 'Erdnüssen': 4, 'Bindfaden': 4, 'Calvados': 4, 'Stücken': 4, 'Vegeta': 4, 'restlichem': 4, 'Schinkenwürfeln': 4, 'Joghurt': 4, 'Feta': 4, 'durchwachsenen': 4, 'Mozzarellascheiben': 4, 'Hähnchenfleisch': 4, '125': 4, 'Schlagobers': 4, 'Fischsauce': 4, 'Kartoffelpüree': 4, 'gegenseitiger': 4, 'Rama': 4, 'übriggebliebenen': 4, 'anrösten': 4, 'Pesto': 4, 'Marinade': 4, 'zerbröseltem': 4, 'folgender': 4, 'seinem': 4, 'allen': 4, 'Erdbeeren': 4, 'Avocadofruchtfleisch': 4, 'gehacktem': 4, 'geriebener': 4, 'Crema': 4, 'etwa': 4, 'Orangenschalenstreifen': 4, 'Butterkartoffeln': 4, 'Bärlauchpesto': 4, 'Zitronenachteln': 4, 'Mandeln': 4, 'Fischfond': 4, 'Kartoffelmehl': 4, 'Magen': 4, 'Beifuss': 4, 'gepresstem': 3, 'Chiliflocken': 3, 'angefeuchteten': 3, 'Knoblauchsoße': 3, 'schwarzem': 3, 'Schaumweincreme': 3, 'Kräuterquark': 3, 'Paprikawürfeln': 3, 'Kirschlikör': 3, 'Brombeeren': 3, 'Chili': 3, 'Gurke': 3, 'Bohnenkraut': 3, 'Korianderblättchen': 3, 'Ananas': 3, 'Frischhaltefolie': 3, 'Fleisch': 3, 'Basilikumblättchen': 3, 'Garn': 3, 'gewürfeltem': 3, 'Knoblauchscheiben': 3, 'Ei': 3, 'so': 3, 'Majoran': 3, 'Küchenband': 3, 'Gremolata': 3, 'Kastanien': 3, 'Rettich-': 3, 'Belag': 3, 'kalten': 3, 'Spießen': 3, 'klarer': 3, 'Kerbel': 3, 'weißem': 3, 'Rotkohl': 3, 'Ingwer': 3, 'Kümmel': 3, 'Bouillon': 3, 'Zwiebelringen': 3, 'denselben': 3, 'Jodsalz': 3, 'Grünkernmehl': 3, 'kalt': 3, 'Butterflocken': 3, 'Parmesanspänen': 3, 'Sojausauce': 3, 'Pfefferminz': 3, 'gemörserten': 3, 'Holzstäbchen': 3, 'dünsten': 3, 'Baguette-': 3, 'Gouda': 3, 'Apfelwein': 3, 'Kabeljaufilets': 3, 'Aromat': 3, 'Sonnenblumenkernen': 3, 'Pflaumen': 3, 'Feigenbalsamico': 3, 'Butterflöckchen': 3, 'dazugeben': 2, 'grobem': 2, 'Hagebuttenmarmelade': 2, 'kleinen': 2, 'grünen': 2, 'knapp': 2, 'Croûtons': 2, 'Puddingpulver': 2, 'Speckstreifen': 2, '5-G-Pulver': 2, '375': 2, 'Äpfeln': 2, 'Alupapier': 2, 'Bratensoße': 2, 'Balsamico': 2, 'Hackklößen': 2, 'dieser': 2, 'Sauerkraut': 2, 'Pinsel': 2, 'Speisestärke': 2, 'Geflügelbrühe': 2, 'Knoblauch': 2, 'zwei': 2, 'Würz-Topping': 2, 'Chili-': 2, 'Wildfond': 2, 'Salzkartoffeln': 2, 'Cherrytomaten': 2, 'Soße': 2, 'diesem': 2, 'Obers': 2, '1/4': 2, 'noch': 2, 'gekörnter': 2, 'Hefe': 2, 'lauwarmem': 2, 'Ahornsirup': 2, 'Kapern': 2, 'Bärlauch': 2, 'Lorbeer': 2, 'dazu': 2, 'Gurken': 2, 'Pflaumenmus': 2, 'Haushaltspapier': 2, 'Bechamelsauce': 2, 'Brotwürfel': 2, 'Schmalz': 2, 'aufkochen': 2, 'feingehacktem': 2, 'Hähnchengewürz': 2, 'Weinbrand': 2, 'Cognac': 2, 'Lasagneplatten': 2, 'Kirschtomaten': 2, '350': 2, 'Sesamsamen': 2, 'Stäbchen': 2, 'untergeschobener': 2, 'Thymianblättchen': 2, 'Gurkenhobel': 2, 'auf': 2, 'Pizzasoße': 2, 'Basmati': 2, 'Mandelbutter': 2, 'Cointreau': 2, 'köcheln': 2, 'Teig': 2, 'brauner': 2, 'Toastbrotwürfeln': 2, 'Trüffelöl': 2, 'Spinat': 2, '2El': 2, 'Harissa': 2, 'Mandelblättchen': 2, 'Erdäpfelpüree': 2, 'süßer': 2, 'getrocknetem': 2, 'ihrem': 2, 'Chiliöl': 1, 'Hickory-Rauchsalz': 1, 'aufgelegtem': 1, 'einen': 1, 'Kaffee': 1, 'feuchten': 1, 'Schafskäse': 1, 'übrigem': 1, 'Eiweiß': 1, 'Sherry': 1, 'Zuckerrübensirup': 1, 'Bacon': 1, 'Zitronenspalten': 1, 'Kokosmilch': 1, 'Oliven': 1, 'Rosmarinzweigen': 1, 'Cashewkernen': 1, 'Kartoffelscheiben': 1, 'Chilisoße': 1, 'gehackten': 1, 'Band': 1, 'Sojasoße': 1, 'Noilly': 1, 'kochen': 1, 'Pastamehl': 1, 'Morcheln': 1, 'kleingehackter': 1, 'Kirschwasser': 1, '200': 1, 'Mandelblättern': 1, 'Salbei': 1, 'gegrillten': 1, 'Kartoffeln': 1, 'kräftig': 1, 'Chilischoten': 1, 'bemehltem': 1, 'Ei-Achteln': 1, 'geschmolzener': 1, 'Ajvar': 1, 'Fleischbrühe': 1, 'Zwirn': 1, 'heißem': 1, 'Fladenbrot': 1, 'kochend': 1, 'Kompott': 1, '1/3': 1, 'abgeriebener': 1, 'Kurkuma': 1, 'Flüssigkeit': 1, 'frischgemahlenen': 1, 'viel': 1, 'Rosenpaprika': 1, 'Salzwasser': 1, 'Muskatnuss': 1, 'mittlerer': 1, 'gutem': 1, 'erwärmen': 1, 'Apfelmus': 1, 'Hühnerfond': 1, 'Pecorino': 1})\n",
      "('mit', 'einem') : Counter({'Schneebesen': 153, 'Löffel': 129, 'Sieb': 126, 'Messer': 110, 'Schaumlöffel': 99, 'scharfen': 84, 'Esslöffel': 71, 'Teelöffel': 49, 'kleinen': 48, 'Pürierstab': 46, 'Schuss': 40, 'Deckel': 37, 'Zahnstocher': 35, 'großen': 28, 'Pinsel': 27, 'Teil': 26, 'Klecks': 25, 'Sparschäler': 22, 'sehr': 20, 'Stabmixer': 18, 'Küchentuch': 16, 'Holzlöffel': 15, 'Kochlöffel': 14, 'guten': 14, 'spitzen': 14, 'Tuch': 14, 'Kartoffelstampfer': 13, 'frischen': 13, 'Stück': 13, 'Glas': 12, 'EL': 11, 'schweren': 11, 'Geschirrtuch': 11, 'sauberen': 10, 'Schluck': 10, 'Hauch': 10, 'halben': 9, 'Pfannenwender': 9, 'Zestenreißer': 9, 'Schneidstab': 9, 'Kugelausstecher': 9, 'feuchten': 8, 'Backpinsel': 8, 'Ausstecher': 7, 'Faden': 7, 'Kartoffelstamper': 7, 'Weck': 7, 'Rührgerät': 7, 'Holzspießchen': 7, 'Kugelstecher': 7, 'Eierschneider': 6, 'Holzspieß': 6, 'Küchenpinsel': 6, 'Filetiermesser': 6, 'Beil': 6, 'Spritzer': 6, 'grünen': 6, 'Spieß': 6, 'Esslöffeln': 6, 'Nudelholz': 6, 'Durchmesser': 6, 'Dip': 6, 'kräftigen': 5, 'Einmal-Teefilter': 5, 'knusprigen': 5, 'gemischten': 5, 'Mixer': 5, 'zweiten': 5, 'Würfel': 5, 'Handtuch': 5, 'Holzstäbchen': 5, 'Holzzahnstocher': 5, 'Apfelausstecher': 5, 'weiteren': 5, 'Sieblöffel': 5, 'Haushaltstuch': 4, 'Küchenkrepp': 4, 'Spiegelei': 4, 'runden': 4, 'Gulaschtopf': 4, 'TL': 4, 'Teigschaber': 4, 'langen': 4, 'Basilikumblatt': 4, 'Ring': 4, 'Flocker': 4, 'Schaber': 4, 'Geschirrhandtuch': 4, 'Abstand': 4, 'breitem': 3, 'Mörser': 3, 'kühlen': 3, 'Schinkenmesser': 3, 'Schlag': 3, 'Teller': 3, 'Ei': 3, 'angefeuchteten': 3, 'geschlagenen': 3, 'Speckstreifen': 3, 'Fett-Trenn-Kännchen': 3, 'Kaffeelöffel': 3, 'Spätzlehobel': 3, 'Fleischthermometer': 3, 'Buntmesser': 3, 'Schärfegrad': 3, 'Backofenthermometer': 3, 'Salat': 3, 'Rouladenpickser': 3, 'Fleischhammer': 3, 'Mixstab': 3, 'Dillzweiglein': 3, 'elektr': 3, 'Dressing': 3, 'viertel': 3, 'Stückchen': 3, 'Vakuumgerät': 3, 'Passierstab': 3, 'knackigen': 3, 'Guten': 3, 'netten': 2, 'großzügigen': 2, 'feuchtem': 2, 'herzhaften': 2, 'Dillzweig': 2, 'feinen': 2, 'Küchenspachtel': 2, 'Kecks': 2, 'Drittel': 2, 'Holzrührlöffel': 2, 'Teigrad': 2, 'Handrührgerät': 2, 'Gummispatel': 2, 'Häufchen': 2, 'gehäuften': 2, 'zarten': 2, 'leckeren': 2, 'Stäbchen': 2, 'Kartoffelstampfer).Die': 2, 'Rührstab': 2, 'Butter-Öl-Gemisch': 2, 'bis': 2, 'lauwarmen': 2, 'Teigrädchen': 2, 'Stich': 2, 'Ölfilm': 2, 'Schneidestab': 2, 'Auberginenstreifen': 2, 'Zucchinistreifen': 2, 'Rand': 2, 'Siebschöpfer': 2, 'Zauberstab': 2, 'Purrierstab': 2, 'Spätzlesieb': 2, 'Kuchenpinsel': 2, 'Kartoffelschäler': 2, 'elektrischen': 2, 'Messerchen': 2, 'Löffelchen': 2, 'zerbröselten': 2, 'Grossteil': 2, 'Sparschälmesser': 2, 'Schnittlauchhalm': 2, 'Melonenausstecher': 2, 'Salatdressing': 1, 'Löffelrücken': 1, 'Knöpfleblech': 1, 'nassen': 1, '98er': 1, 'Bindfaden': 1, 'Schöpflöffel': 1, 'Häubchen': 1, 'Küchengarn': 1, 'Schaschlikspieß': 1, 'Gurken-': 1, 'leichten': 1, 'Kräuterquark-Dip': 1, 'gestrichenen': 1, 'Knethaken': 1, 'Handmixer': 1, 'Fleischklopfer': 1, 'Baumwollfaden': 1, 'Schneidebrett': 1, 'Julienneschneider': 1, 'Melonenkugelausstecher).Das': 1, 'Küchenmesser': 1, 'Musselintuch': 1, 'Wasserkocher': 1, 'rötlichen': 1, 'Lorbeerblatt': 1, 'Wiegemesser': 1, 'Krönchen': 1, 'Balsamicodressing': 1, 'Pfannenboden': 1, 'Hackbeil': 1, 'hitzebeständigen': 1})\n",
      "('einem', 'Eierschneider') : Counter({'.': 10, 'in': 5, 'die': 2})\n"
     ]
    }
   ],
   "source": [
    "i= 1\n",
    "for k, v in d.items():\n",
    "    if i> 10:\n",
    "        break\n",
    "    print(k, ':', v)\n",
    "    i +=1"
   ]
  },
  {
   "cell_type": "markdown",
   "metadata": {},
   "source": [
    "look up the next word for “die Möhrensuppe”."
   ]
  },
  {
   "cell_type": "code",
   "execution_count": 16,
   "metadata": {},
   "outputs": [
    {
     "data": {
      "text/plain": [
       "Counter({'geben': 7, 'die': 2, 'ringsum': 2})"
      ]
     },
     "execution_count": 16,
     "metadata": {},
     "output_type": "execute_result"
    }
   ],
   "source": [
    "d[\"die\", \"Möhrensuppe\"]"
   ]
  },
  {
   "cell_type": "code",
   "execution_count": 17,
   "metadata": {},
   "outputs": [
    {
     "data": {
      "text/plain": [
       "<itertools.chain at 0x212c79aae10>"
      ]
     },
     "execution_count": 17,
     "metadata": {},
     "output_type": "execute_result"
    }
   ],
   "source": [
    "d[\"die\", \"Möhrensuppe\"].elements()"
   ]
  },
  {
   "cell_type": "code",
   "execution_count": 18,
   "metadata": {},
   "outputs": [
    {
     "data": {
      "text/plain": [
       "['geben',\n",
       " 'geben',\n",
       " 'geben',\n",
       " 'geben',\n",
       " 'geben',\n",
       " 'geben',\n",
       " 'geben',\n",
       " 'die',\n",
       " 'die',\n",
       " 'ringsum',\n",
       " 'ringsum']"
      ]
     },
     "execution_count": 18,
     "metadata": {},
     "output_type": "execute_result"
    }
   ],
   "source": [
    "list(d[\"die\", \"Möhrensuppe\"].elements())"
   ]
  },
  {
   "cell_type": "code",
   "execution_count": null,
   "metadata": {},
   "outputs": [],
   "source": []
  },
  {
   "cell_type": "code",
   "execution_count": null,
   "metadata": {},
   "outputs": [],
   "source": []
  }
 ],
 "metadata": {
  "kernelspec": {
   "display_name": "Python 3",
   "language": "python",
   "name": "python3"
  },
  "language_info": {
   "codemirror_mode": {
    "name": "ipython",
    "version": 3
   },
   "file_extension": ".py",
   "mimetype": "text/x-python",
   "name": "python",
   "nbconvert_exporter": "python",
   "pygments_lexer": "ipython3",
   "version": "3.7.3"
  }
 },
 "nbformat": 4,
 "nbformat_minor": 4
}
