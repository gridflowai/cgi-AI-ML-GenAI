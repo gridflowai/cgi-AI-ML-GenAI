{
 "cells": [
  {
   "cell_type": "markdown",
   "id": "92e0fdce-b9d8-49b6-afcc-749a91ce8ea3",
   "metadata": {},
   "source": [
    "------------------------------\n",
    "#### Precision-Recall Curves\n",
    "---------------------"
   ]
  },
  {
   "cell_type": "code",
   "execution_count": 1,
   "id": "258af336-e63e-4297-aec2-6db4b2e41725",
   "metadata": {},
   "outputs": [],
   "source": [
    "import numpy as np\n",
    "import pandas as pd\n",
    "import matplotlib.pyplot as plt\n",
    "from sklearn.datasets import load_breast_cancer\n",
    "from sklearn.model_selection import train_test_split\n",
    "from sklearn.neighbors import KNeighborsClassifier\n",
    "\n",
    "from sklearn.metrics import precision_recall_curve, precision_score, recall_score\n",
    "\n",
    "from sklearn.linear_model import LogisticRegression\n",
    "\n",
    "import warnings\n",
    "\n",
    "# Ignore all warnings\n",
    "warnings.filterwarnings(\"ignore\")"
   ]
  },
  {
   "cell_type": "code",
   "execution_count": 2,
   "id": "4bcb16b2-0644-4ef1-b426-fa84f75fd7e7",
   "metadata": {},
   "outputs": [],
   "source": [
    "# Function to calculate Precision and Recall\n",
    "\n",
    "def calc_precision_recall(y_true, y_pred):\n",
    "    \n",
    "    #y_true = pd.Series(y_true)\n",
    "    #y_pred = pd.Series(y_pred)\n",
    "    \n",
    "    # Convert predictions to series with index matching y_true\n",
    "    y_pred = pd.Series(y_pred, index=y_true.index)\n",
    "    \n",
    "    # Instantiate counters\n",
    "    TP = 0\n",
    "    FP = 0\n",
    "    FN = 0\n",
    "\n",
    "    # Determine whether each prediction is TP, FP, TN, or FN\n",
    "    for i in y_true.index: \n",
    "        if y_true[i]==y_pred[i]==1:\n",
    "           TP += 1\n",
    "        if y_pred[i]==1 and y_true[i]!=y_pred[i]:\n",
    "           FP += 1\n",
    "        if y_pred[i]==0 and y_test[i]!=y_pred[i]:\n",
    "           FN += 1\n",
    "    \n",
    "    # Calculate true positive rate and false positive rate\n",
    "    # Use try-except statements to avoid problem of dividing by 0\n",
    "    try:\n",
    "        precision = TP / (TP + FP)\n",
    "    except:\n",
    "        precision = 1\n",
    "    \n",
    "    try:\n",
    "        recall = TP / (TP + FN)\n",
    "    except:\n",
    "        recall = 1\n",
    "\n",
    "    return precision, recall\n"
   ]
  },
  {
   "cell_type": "code",
   "execution_count": 3,
   "id": "e330509a-9d80-4bf8-b219-f0775f72eb50",
   "metadata": {},
   "outputs": [],
   "source": [
    "# Load breast cancer dataset\n",
    "data = load_breast_cancer()\n",
    "X, y = data.data, pd.Series(data.target)"
   ]
  },
  {
   "cell_type": "code",
   "execution_count": 4,
   "id": "5f124509-ae7c-43de-a6f5-a82f7cb54f1b",
   "metadata": {},
   "outputs": [
    {
     "data": {
      "text/plain": [
       "(array([0, 1]), array([212, 357], dtype=int64))"
      ]
     },
     "execution_count": 4,
     "metadata": {},
     "output_type": "execute_result"
    }
   ],
   "source": [
    "np.unique(y, return_counts=True)"
   ]
  },
  {
   "cell_type": "code",
   "execution_count": 5,
   "id": "be9cdcc8-5d8c-48c5-b5db-ac78f3e107b3",
   "metadata": {},
   "outputs": [],
   "source": [
    "# Train/test split\n",
    "X_train, X_test, y_train, y_test = train_test_split(X, \n",
    "                                                    y, \n",
    "                                                    test_size   = 0.2, \n",
    "                                                    random_state= 42)"
   ]
  },
  {
   "cell_type": "code",
   "execution_count": 6,
   "id": "421b70db-16f1-4ccc-b8b1-fa4ad26ecf23",
   "metadata": {},
   "outputs": [
    {
     "data": {
      "text/plain": [
       "KNeighborsClassifier()"
      ]
     },
     "execution_count": 6,
     "metadata": {},
     "output_type": "execute_result"
    }
   ],
   "source": [
    "# Create and fit the default KNN classifier\n",
    "knn_model = KNeighborsClassifier()\n",
    "knn_model.fit(X_train, y_train)"
   ]
  },
  {
   "cell_type": "code",
   "execution_count": 7,
   "id": "7eccc8e4-5fe5-45b1-91e1-a47997d89f8b",
   "metadata": {},
   "outputs": [],
   "source": [
    "y_pred = knn_model.predict(X_test)"
   ]
  },
  {
   "cell_type": "code",
   "execution_count": 8,
   "id": "4749eb54-6b8c-4127-a1ce-9207d9c38e51",
   "metadata": {},
   "outputs": [
    {
     "data": {
      "text/plain": [
       "(0.9342105263157895, 1.0)"
      ]
     },
     "execution_count": 8,
     "metadata": {},
     "output_type": "execute_result"
    }
   ],
   "source": [
    "# Test function\n",
    "\n",
    "calc_precision_recall(y_test, y_pred)"
   ]
  },
  {
   "cell_type": "code",
   "execution_count": 16,
   "id": "6fd6a675-6e0e-4a61-84ab-5530f5f15b09",
   "metadata": {},
   "outputs": [],
   "source": [
    "y_test_probs =knn_model.predict_proba(X_test)"
   ]
  },
  {
   "cell_type": "code",
   "execution_count": 17,
   "id": "0a3445c0-5ccd-42ce-bce3-2fdcd2f8e218",
   "metadata": {},
   "outputs": [],
   "source": [
    "y_test_probs = knn_model.predict_proba(X_test)[:,1]"
   ]
  },
  {
   "cell_type": "code",
   "execution_count": 18,
   "id": "d487e88e-693a-4d13-a3eb-2e1d2b9407ba",
   "metadata": {},
   "outputs": [
    {
     "data": {
      "text/plain": [
       "array([0.6, 0. , 0. , 1. , 1. , 0. , 0. , 0.2, 1. , 1. , 1. , 0. , 0.8,\n",
       "       0.6, 1. , 0. , 0.6, 1. , 1. , 0. , 0.4, 1. , 0. , 1. , 1. , 1. ,\n",
       "       1. , 1. , 1. , 0. , 1. , 1. , 1. , 0.6, 1. , 1. , 0. , 1. , 0. ,\n",
       "       0.8, 1. , 0. , 1. , 1. , 1. , 1. , 1. , 1. , 1. , 1. , 0. , 0. ,\n",
       "       1. , 1. , 1. , 1. , 1. , 0. , 0.6, 1. , 1. , 0. , 0. , 0.6, 1. ,\n",
       "       1. , 0. , 0. , 1. , 1. , 0.4, 0. , 1. , 0.6, 1. , 1. , 1. , 0.6,\n",
       "       1. , 1. , 0. , 1. , 0.6, 0. , 0. , 0.2, 0.2, 0. , 1. , 1. , 1. ,\n",
       "       1. , 0.8, 1. , 1. , 1. , 0. , 0. , 1. , 0. , 0. , 1. , 0. , 0. ,\n",
       "       0.6, 1. , 1. , 0. , 0.8, 0.8, 0. , 1. , 0.8, 0. ])"
      ]
     },
     "execution_count": 18,
     "metadata": {},
     "output_type": "execute_result"
    }
   ],
   "source": [
    "y_test_probs"
   ]
  },
  {
   "cell_type": "code",
   "execution_count": 19,
   "id": "85fc7af8-7631-4120-9c79-222f8359f239",
   "metadata": {},
   "outputs": [],
   "source": [
    "# Initialize lists to store precision and recall values for different thresholds\n",
    "thresholds = np.arange(0.1, 1.0, 0.05)\n",
    "\n",
    "# Containers for true positive / false positive rates\n",
    "precision_scores = []\n",
    "recall_scores    = []"
   ]
  },
  {
   "cell_type": "code",
   "execution_count": 20,
   "id": "f38e9b00-8b8c-48ef-b2c9-bab816c49bd9",
   "metadata": {},
   "outputs": [],
   "source": [
    "# Define probability thresholds to use, between 0 and 1\n",
    "probability_thresholds = np.linspace(0, 1, num=100)"
   ]
  },
  {
   "cell_type": "code",
   "execution_count": 21,
   "id": "df12e8bd-236f-4944-b016-73b706617e6c",
   "metadata": {},
   "outputs": [],
   "source": [
    "# Find true positive / false positive rate for each threshold\n",
    "for p in probability_thresholds:\n",
    "    \n",
    "    y_test_preds = []\n",
    "    \n",
    "    for prob in y_test_probs:\n",
    "        if prob > p:\n",
    "            y_test_preds.append(1)\n",
    "        else:\n",
    "            y_test_preds.append(0)\n",
    "            \n",
    "    precision, recall = calc_precision_recall(y_test, y_test_preds)\n",
    "        \n",
    "    precision_scores.append(precision)\n",
    "    recall_scores.append(recall)"
   ]
  },
  {
   "cell_type": "code",
   "execution_count": 22,
   "id": "36c9ee1e-d07b-42e1-a534-9c4f6e136bd4",
   "metadata": {},
   "outputs": [
    {
     "data": {
      "image/png": "[encoded data removed]",
      "text/plain": [
       "<Figure size 1200x500 with 1 Axes>"
      ]
     },
     "metadata": {},
     "output_type": "display_data"
    }
   ],
   "source": [
    "# Plot precision-recall curve\n",
    "\n",
    "fig, ax = plt.subplots(figsize=(12,5))\n",
    "ax.plot(recall_scores, precision_scores, label='KNN classifier')\n",
    "#ax.plot(l2_recall_scores, l2_precision_scores, label='L2 Logistic Regression')\n",
    "baseline = len(y_test[y_test==1]) / len(y_test)\n",
    "ax.plot([0, 1], [baseline, baseline], linestyle='--', label='Baseline')\n",
    "ax.set_xlabel('Recall')\n",
    "ax.set_ylabel('Precision')\n",
    "ax.legend(loc='center left');"
   ]
  },
  {
   "cell_type": "markdown",
   "id": "5847ca7a-3cc8-439a-b3e7-73ef76662c6a",
   "metadata": {},
   "source": [
    "- at thresholds with low recall, the precision is correspondingly high, \n",
    "- at very high recall, the precision begins to drop"
   ]
  },
  {
   "cell_type": "code",
   "execution_count": null,
   "id": "95170727-104e-42a2-817a-4fdeaf78d805",
   "metadata": {},
   "outputs": [],
   "source": []
  }
 ],
 "metadata": {
  "kernelspec": {
   "display_name": "Python 3 (ipykernel)",
   "language": "python",
   "name": "python3"
  },
  "language_info": {
   "codemirror_mode": {
    "name": "ipython",
    "version": 3
   },
   "file_extension": ".py",
   "mimetype": "text/x-python",
   "name": "python",
   "nbconvert_exporter": "python",
   "pygments_lexer": "ipython3",
   "version": "3.9.13"
  }
 },
 "nbformat": 4,
 "nbformat_minor": 5
}
