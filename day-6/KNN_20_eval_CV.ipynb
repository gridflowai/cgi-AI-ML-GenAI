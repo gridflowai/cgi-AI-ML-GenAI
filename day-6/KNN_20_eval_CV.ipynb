{
 "cells": [
  {
   "cell_type": "code",
   "execution_count": 1,
   "id": "ad998ed2-3933-4a94-b7c3-98fe2214278d",
   "metadata": {},
   "outputs": [],
   "source": [
    "import numpy as np\n",
    "from sklearn.datasets import load_breast_cancer\n",
    "from sklearn.neighbors import KNeighborsClassifier\n",
    "from sklearn.model_selection import cross_val_score, StratifiedKFold, KFold, LeaveOneOut, ShuffleSplit, StratifiedShuffleSplit, RepeatedKFold\n",
    "\n",
    "import warnings\n",
    "\n",
    "# Ignore all warnings\n",
    "warnings.filterwarnings(\"ignore\")"
   ]
  },
  {
   "cell_type": "code",
   "execution_count": 2,
   "id": "863eec32-3a12-4ab3-acd4-aa24cd433940",
   "metadata": {},
   "outputs": [],
   "source": [
    "# Load breast cancer dataset\n",
    "data = load_breast_cancer()\n",
    "X = data.data\n",
    "y = data.target"
   ]
  },
  {
   "cell_type": "code",
   "execution_count": 13,
   "id": "6d92ae1e-8a0e-4dfd-9f99-3ce73705b90b",
   "metadata": {},
   "outputs": [
    {
     "data": {
      "text/plain": [
       "(569, 30)"
      ]
     },
     "execution_count": 13,
     "metadata": {},
     "output_type": "execute_result"
    }
   ],
   "source": [
    "X.shape"
   ]
  },
  {
   "cell_type": "code",
   "execution_count": 3,
   "id": "fb10cc0d-afb0-465d-8c90-07ca6b82c099",
   "metadata": {},
   "outputs": [],
   "source": [
    "# Create a KNN model\n",
    "knn_model = KNeighborsClassifier(n_neighbors=3)"
   ]
  },
  {
   "cell_type": "markdown",
   "id": "c225d4b4-9c37-45ac-807c-c43f2701237f",
   "metadata": {},
   "source": [
    "#### K-Fold Cross-Validation"
   ]
  },
  {
   "cell_type": "code",
   "execution_count": 16,
   "id": "d9887d0c-cd51-44bc-a250-b6e2326f7505",
   "metadata": {},
   "outputs": [],
   "source": [
    "kf_scores = cross_val_score(knn_model, \n",
    "                            X, \n",
    "                            y, \n",
    "                            cv      = KFold(n_splits=5, shuffle=True, random_state=42), \n",
    "                            scoring = 'accuracy')"
   ]
  },
  {
   "cell_type": "code",
   "execution_count": 17,
   "id": "866566fb-c185-4e9f-a477-a0c4c9335328",
   "metadata": {},
   "outputs": [
    {
     "data": {
      "text/plain": [
       "array([0.92982456, 0.94736842, 0.88596491, 0.92982456, 0.90265487])"
      ]
     },
     "execution_count": 17,
     "metadata": {},
     "output_type": "execute_result"
    }
   ],
   "source": [
    "kf_scores"
   ]
  },
  {
   "cell_type": "code",
   "execution_count": 7,
   "id": "3f773110-3f56-4e4d-9f30-e4708a7e1247",
   "metadata": {},
   "outputs": [
    {
     "name": "stdout",
     "output_type": "stream",
     "text": [
      "------------------------ K-Fold Cross-Validation ------------------------\n",
      "Mean Accuracy: 0.9191\n",
      "Standard Deviation: 0.0219\n",
      "\n"
     ]
    }
   ],
   "source": [
    "print('------------------------ K-Fold Cross-Validation ------------------------')\n",
    "print(f'Mean Accuracy: {np.mean(kf_scores):.4f}')\n",
    "print(f'Standard Deviation: {np.std(kf_scores):.4f}\\n')"
   ]
  },
  {
   "cell_type": "markdown",
   "id": "915e6a06-9b2c-44e6-b873-1e1f85be330e",
   "metadata": {},
   "source": [
    "#### Stratified K-Fold Cross-Validation"
   ]
  },
  {
   "cell_type": "code",
   "execution_count": 8,
   "id": "670d5f68-6348-4813-9a05-c7c682bc6a39",
   "metadata": {},
   "outputs": [],
   "source": [
    "skf_scores = cross_val_score(knn_model, \n",
    "                             X, \n",
    "                             y, \n",
    "                             cv     = StratifiedKFold(n_splits=5, shuffle=True, random_state=42), \n",
    "                             scoring= 'accuracy')"
   ]
  },
  {
   "cell_type": "code",
   "execution_count": 18,
   "id": "5d1b458b-616c-4129-a155-59d5c50de2b6",
   "metadata": {},
   "outputs": [
    {
     "data": {
      "text/plain": [
       "array([0.92982456, 0.88596491, 0.93859649, 0.92982456, 0.95575221])"
      ]
     },
     "execution_count": 18,
     "metadata": {},
     "output_type": "execute_result"
    }
   ],
   "source": [
    "skf_scores"
   ]
  },
  {
   "cell_type": "code",
   "execution_count": 9,
   "id": "5a0e9a83-396f-4f4f-895e-25a7e023c9c2",
   "metadata": {},
   "outputs": [
    {
     "name": "stdout",
     "output_type": "stream",
     "text": [
      "------------------------ Stratified K-Fold Cross-Validation ------------------------\n",
      "Mean Accuracy: 0.9280\n",
      "Standard Deviation: 0.0230\n",
      "\n"
     ]
    }
   ],
   "source": [
    "print('------------------------ Stratified K-Fold Cross-Validation ------------------------')\n",
    "print(f'Mean Accuracy: {np.mean(skf_scores):.4f}')\n",
    "print(f'Standard Deviation: {np.std(skf_scores):.4f}\\n')"
   ]
  },
  {
   "cell_type": "markdown",
   "id": "8b337cf3-69c0-4008-9a69-13bfc520aaee",
   "metadata": {},
   "source": [
    "#### Leave-One-Out Cross-Validation"
   ]
  },
  {
   "cell_type": "code",
   "execution_count": 19,
   "id": "e03158bd-3441-4ee0-8377-529d975a7914",
   "metadata": {},
   "outputs": [
    {
     "name": "stdout",
     "output_type": "stream",
     "text": [
      "------------------------ Leave-One-Out Cross-Validation ------------------------\n",
      "Mean Accuracy: 0.9262\n",
      "\n"
     ]
    }
   ],
   "source": [
    "loo_scores = cross_val_score(knn_model, \n",
    "                             X, \n",
    "                             y, \n",
    "                             cv=LeaveOneOut(), \n",
    "                             scoring='accuracy')\n",
    "\n",
    "print('------------------------ Leave-One-Out Cross-Validation ------------------------')\n",
    "print(f'Mean Accuracy: {np.mean(loo_scores):.4f}\\n')"
   ]
  },
  {
   "cell_type": "markdown",
   "id": "d104d36e-2e88-4b6e-bf6d-35bb302f3d9b",
   "metadata": {},
   "source": [
    "#### Shuffle Split Cross-Validation"
   ]
  },
  {
   "cell_type": "code",
   "execution_count": 27,
   "id": "77b487ea-2c7a-4aee-ad2b-6d8d71da27f7",
   "metadata": {},
   "outputs": [
    {
     "name": "stdout",
     "output_type": "stream",
     "text": [
      "Mean Accuracy: 0.9298\n",
      "Standard Deviation: 0.0175\n",
      "\n"
     ]
    }
   ],
   "source": [
    "ss_scores = cross_val_score(knn_model, \n",
    "                            X, \n",
    "                            y, \n",
    "                            cv=ShuffleSplit(n_splits=5, test_size=0.2, random_state=42), \n",
    "                            scoring='accuracy')\n",
    "\n",
    "print(f'Mean Accuracy: {np.mean(ss_scores):.4f}')\n",
    "print(f'Standard Deviation: {np.std(ss_scores):.4f}\\n')"
   ]
  },
  {
   "cell_type": "markdown",
   "id": "b4bd67a7-43cd-40bf-8c4f-ebcb41e25401",
   "metadata": {},
   "source": [
    "#### Stratified Shuffle Split Cross-Validation"
   ]
  },
  {
   "cell_type": "code",
   "execution_count": 28,
   "id": "335446fd-a04b-4531-9642-1363fd68ff60",
   "metadata": {},
   "outputs": [
    {
     "name": "stdout",
     "output_type": "stream",
     "text": [
      "Mean Accuracy: 0.9246\n",
      "Standard Deviation: 0.0172\n",
      "\n"
     ]
    }
   ],
   "source": [
    "sss_scores = cross_val_score(knn_model, \n",
    "                             X, \n",
    "                             y, \n",
    "                             cv=StratifiedShuffleSplit(n_splits=5, test_size=0.2, \n",
    "                                                       random_state=42), \n",
    "                             scoring='accuracy')\n",
    "\n",
    "print(f'Mean Accuracy: {np.mean(sss_scores):.4f}')\n",
    "print(f'Standard Deviation: {np.std(sss_scores):.4f}\\n')"
   ]
  },
  {
   "cell_type": "markdown",
   "id": "7c022a7e-f9fe-4248-92e8-0a9fe4c14277",
   "metadata": {},
   "source": [
    "#### Repeated K-Fold Cross-Validation"
   ]
  },
  {
   "cell_type": "code",
   "execution_count": 21,
   "id": "24b45bed-bd2c-4040-b513-752f78f1ab40",
   "metadata": {},
   "outputs": [
    {
     "name": "stdout",
     "output_type": "stream",
     "text": [
      "Mean Accuracy: 0.9244\n",
      "Standard Deviation: 0.0194\n",
      "\n"
     ]
    }
   ],
   "source": [
    "rkf_scores = cross_val_score(knn_model, \n",
    "                             X, \n",
    "                             y, \n",
    "                             cv=RepeatedKFold(n_splits=5, n_repeats=2, random_state=42), \n",
    "                             scoring='accuracy')\n",
    "\n",
    "print(f'Mean Accuracy: {np.mean(rkf_scores):.4f}')\n",
    "print(f'Standard Deviation: {np.std(rkf_scores):.4f}\\n')"
   ]
  },
  {
   "cell_type": "code",
   "execution_count": 22,
   "id": "41a73cdf-cc13-4b49-b4b3-38e09f24bed4",
   "metadata": {},
   "outputs": [
    {
     "data": {
      "text/plain": [
       "array([0.92982456, 0.94736842, 0.88596491, 0.92982456, 0.90265487,\n",
       "       0.92105263, 0.92982456, 0.92982456, 0.95614035, 0.91150442])"
      ]
     },
     "execution_count": 22,
     "metadata": {},
     "output_type": "execute_result"
    }
   ],
   "source": [
    "rkf_scores"
   ]
  },
  {
   "cell_type": "code",
   "execution_count": null,
   "id": "aac47745-df94-464a-b11f-ab16bffa5066",
   "metadata": {},
   "outputs": [],
   "source": []
  }
 ],
 "metadata": {
  "kernelspec": {
   "display_name": "Python 3 (ipykernel)",
   "language": "python",
   "name": "python3"
  },
  "language_info": {
   "codemirror_mode": {
    "name": "ipython",
    "version": 3
   },
   "file_extension": ".py",
   "mimetype": "text/x-python",
   "name": "python",
   "nbconvert_exporter": "python",
   "pygments_lexer": "ipython3",
   "version": "3.9.13"
  }
 },
 "nbformat": 4,
 "nbformat_minor": 5
}
