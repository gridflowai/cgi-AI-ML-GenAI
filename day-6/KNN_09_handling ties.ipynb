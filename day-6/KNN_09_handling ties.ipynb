{
 "cells": [
  {
   "cell_type": "markdown",
   "id": "e90ca873-6d9c-49df-9ccb-364ce04c7eae",
   "metadata": {},
   "source": [
    "-----------------------\n",
    "#### detect tie break\n",
    "------------------------"
   ]
  },
  {
   "cell_type": "markdown",
   "id": "e5a6a4d5-12d8-4bd0-84e4-b99fb9daa52b",
   "metadata": {},
   "source": [
    "- using iris data"
   ]
  },
  {
   "cell_type": "code",
   "execution_count": 1,
   "id": "84ea0dfd-f4aa-4071-9340-3df0b220049e",
   "metadata": {},
   "outputs": [],
   "source": [
    "import numpy as np\n",
    "from sklearn.datasets import load_iris\n",
    "from sklearn.neighbors import KNeighborsClassifier\n",
    "from scipy import stats"
   ]
  },
  {
   "cell_type": "code",
   "execution_count": 7,
   "id": "4a66c3f7-1eb6-4332-bae1-159a58065fd5",
   "metadata": {},
   "outputs": [],
   "source": [
    "# Load the Iris dataset\n",
    "iris = load_iris()\n",
    "X, y = iris.data, iris.target"
   ]
  },
  {
   "cell_type": "code",
   "execution_count": 8,
   "id": "e6168b91-5c5f-4ea0-807f-ea23285256ee",
   "metadata": {},
   "outputs": [],
   "source": [
    "# Number of samples in the dataset\n",
    "num_samples = len(X)"
   ]
  },
  {
   "cell_type": "code",
   "execution_count": 9,
   "id": "eb06ba90-ffca-402e-99fd-fe0f836ad4ae",
   "metadata": {},
   "outputs": [],
   "source": [
    "# Initialize a KNN classifier with k=3\n",
    "knn_classifier = KNeighborsClassifier(n_neighbors=5)"
   ]
  },
  {
   "cell_type": "code",
   "execution_count": 10,
   "id": "ee152446-7f07-4313-9ead-9da219f48c59",
   "metadata": {},
   "outputs": [],
   "source": [
    "# Initialize a list to store tie-break situations\n",
    "tie_break_situations = []"
   ]
  },
  {
   "cell_type": "code",
   "execution_count": 11,
   "id": "09ff8a33-f290-452a-bcb1-3142678cec56",
   "metadata": {},
   "outputs": [],
   "source": [
    "# Perform Leave-One-Out Cross-Validation (LOOCV)\n",
    "for i in range(num_samples):\n",
    "    # Prepare training data by excluding the i-th sample\n",
    "    X_train = np.delete(X, i, axis=0)\n",
    "    y_train = np.delete(y, i)\n",
    "\n",
    "    # Test sample\n",
    "    X_test = X[i].reshape(1, -1)\n",
    "    y_test = y[i]\n",
    "\n",
    "    # Fit the KNN classifier on the training data\n",
    "    knn_classifier.fit(X_train, y_train)\n",
    "\n",
    "    # Get the indices and distances of the k-nearest neighbors\n",
    "    _, neigh_ind = knn_classifier.kneighbors(X_test)\n",
    "\n",
    "    # Extract the class labels of the neighbors\n",
    "    _y = np.array([y_train[i] for i in neigh_ind[0]])\n",
    "\n",
    "    # Calculate mode and check for tie-break\n",
    "    mode, _ = stats.mode(_y, keepdims=True)\n",
    "\n",
    "    # Check if there is a tie-break\n",
    "    if np.count_nonzero(mode == mode[0]) > 1:\n",
    "        tie_break_situations.append(i)"
   ]
  },
  {
   "cell_type": "code",
   "execution_count": 12,
   "id": "e1ea2e96-8779-43fa-bfce-c71c8e6aafb7",
   "metadata": {},
   "outputs": [
    {
     "name": "stdout",
     "output_type": "stream",
     "text": [
      "No tie-break situations found.\n"
     ]
    }
   ],
   "source": [
    "# Print tie-break situations\n",
    "if len(tie_break_situations) > 0:\n",
    "    print(\"Tie-break situations found for test samples:\", tie_break_situations)\n",
    "else:\n",
    "    print(\"No tie-break situations found.\")"
   ]
  },
  {
   "cell_type": "markdown",
   "id": "7376423b-bd38-4866-bc98-26354cec4ff5",
   "metadata": {},
   "source": [
    "#### try k = range(30)"
   ]
  },
  {
   "cell_type": "code",
   "execution_count": 13,
   "id": "efcd82d0-b430-4c81-8b72-d5193aa6e2b2",
   "metadata": {},
   "outputs": [],
   "source": [
    "# Create a list to store tie-break situations for each k\n",
    "tie_break_situations_by_k = {}"
   ]
  },
  {
   "cell_type": "code",
   "execution_count": 14,
   "id": "1c3608e7-6e4e-4dda-9226-6bd9e9a8270a",
   "metadata": {},
   "outputs": [],
   "source": [
    "# Loop over different values of k\n",
    "for k in range(1, 31):\n",
    "    # Initialize a list to store tie-break situations\n",
    "    tie_break_situations = []\n",
    "\n",
    "    # Create a KNN classifier with the current value of k\n",
    "    knn_classifier = KNeighborsClassifier(n_neighbors=k)\n",
    "\n",
    "    # Perform Leave-One-Out Cross-Validation (LOOCV)\n",
    "    for i in range(num_samples):\n",
    "        # Prepare training data by excluding the i-th sample\n",
    "        X_train = np.delete(X, i, axis=0)\n",
    "        y_train = np.delete(y, i)\n",
    "\n",
    "        # Test sample\n",
    "        X_test = X[i].reshape(1, -1)\n",
    "        y_test = y[i]\n",
    "\n",
    "        # Fit the KNN classifier on the training data\n",
    "        knn_classifier.fit(X_train, y_train)\n",
    "\n",
    "        # Get the indices and distances of the k-nearest neighbors\n",
    "        _, neigh_ind = knn_classifier.kneighbors(X_test)\n",
    "\n",
    "        # Extract the class labels of the neighbors\n",
    "        _y = np.array([y_train[i] for i in neigh_ind[0]])\n",
    "\n",
    "        # Calculate mode and check for tie-break\n",
    "        mode, _ = stats.mode(_y, keepdims=True)\n",
    "\n",
    "        # Check if there is a tie-break\n",
    "        if np.count_nonzero(mode == mode[0]) > 1:\n",
    "            tie_break_situations.append(i)\n",
    "\n",
    "    # Store tie-break situations for the current k\n",
    "    tie_break_situations_by_k[k] = tie_break_situations"
   ]
  },
  {
   "cell_type": "code",
   "execution_count": 15,
   "id": "5a85e743-f9ad-4be1-9787-1c887b89bee5",
   "metadata": {},
   "outputs": [
    {
     "name": "stdout",
     "output_type": "stream",
     "text": [
      "No tie-break situations found for k=1\n",
      "No tie-break situations found for k=2\n",
      "No tie-break situations found for k=3\n",
      "No tie-break situations found for k=4\n",
      "No tie-break situations found for k=5\n",
      "No tie-break situations found for k=6\n",
      "No tie-break situations found for k=7\n",
      "No tie-break situations found for k=8\n",
      "No tie-break situations found for k=9\n",
      "No tie-break situations found for k=10\n",
      "No tie-break situations found for k=11\n",
      "No tie-break situations found for k=12\n",
      "No tie-break situations found for k=13\n",
      "No tie-break situations found for k=14\n",
      "No tie-break situations found for k=15\n",
      "No tie-break situations found for k=16\n",
      "No tie-break situations found for k=17\n",
      "No tie-break situations found for k=18\n",
      "No tie-break situations found for k=19\n",
      "No tie-break situations found for k=20\n",
      "No tie-break situations found for k=21\n",
      "No tie-break situations found for k=22\n",
      "No tie-break situations found for k=23\n",
      "No tie-break situations found for k=24\n",
      "No tie-break situations found for k=25\n",
      "No tie-break situations found for k=26\n",
      "No tie-break situations found for k=27\n",
      "No tie-break situations found for k=28\n",
      "No tie-break situations found for k=29\n",
      "No tie-break situations found for k=30\n"
     ]
    }
   ],
   "source": [
    "# Print tie-break situations for each k\n",
    "for k, tie_break_situations in tie_break_situations_by_k.items():\n",
    "    if len(tie_break_situations) > 0:\n",
    "        print(f\"Tie-break situations found for k={k}: {tie_break_situations}\")\n",
    "    else:\n",
    "        print(f\"No tie-break situations found for k={k}\")"
   ]
  },
  {
   "cell_type": "code",
   "execution_count": null,
   "id": "f05dc5d6-3e05-4b6c-a590-f45ac29bd31e",
   "metadata": {},
   "outputs": [],
   "source": []
  },
  {
   "cell_type": "code",
   "execution_count": null,
   "id": "127cfb81-2964-4d2a-983b-7259b42da586",
   "metadata": {},
   "outputs": [],
   "source": []
  }
 ],
 "metadata": {
  "kernelspec": {
   "display_name": "Python 3 (ipykernel)",
   "language": "python",
   "name": "python3"
  },
  "language_info": {
   "codemirror_mode": {
    "name": "ipython",
    "version": 3
   },
   "file_extension": ".py",
   "mimetype": "text/x-python",
   "name": "python",
   "nbconvert_exporter": "python",
   "pygments_lexer": "ipython3",
   "version": "3.9.13"
  }
 },
 "nbformat": 4,
 "nbformat_minor": 5
}
