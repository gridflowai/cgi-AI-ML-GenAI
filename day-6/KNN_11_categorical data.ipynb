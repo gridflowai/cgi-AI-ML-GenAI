{
 "cells": [
  {
   "cell_type": "code",
   "execution_count": 1,
   "id": "39870b70-d095-48be-aa05-a2f32054aa5b",
   "metadata": {},
   "outputs": [],
   "source": [
    "import pandas as pd\n",
    "import numpy as np\n",
    "from sklearn.metrics.pairwise import euclidean_distances\n",
    "from sklearn.preprocessing import OneHotEncoder"
   ]
  },
  {
   "cell_type": "code",
   "execution_count": 2,
   "id": "65ce8863-8431-4324-bf6f-fd423ba24a5b",
   "metadata": {},
   "outputs": [],
   "source": [
    "# Define categorical columns\n",
    "colors = ['Red', 'Black', 'Blue']\n",
    "sizes = ['Small', 'Medium', 'Large']\n",
    "areas = ['RURAL', 'SEMI-URBAN', 'URBAN']"
   ]
  },
  {
   "cell_type": "code",
   "execution_count": 3,
   "id": "3801d35b-7cae-49fe-84da-978db8cc33ba",
   "metadata": {},
   "outputs": [],
   "source": [
    "# Generate random samples\n",
    "np.random.seed(42)  # For reproducibility\n",
    "data = {\n",
    "    'Color': np.random.choice(colors, size=5),\n",
    "    'Size': np.random.choice(sizes, size=5),\n",
    "    'Area': np.random.choice(areas, size=5)\n",
    "}"
   ]
  },
  {
   "cell_type": "code",
   "execution_count": 4,
   "id": "42bab4f2-f6f8-4d38-a695-a4410606a139",
   "metadata": {},
   "outputs": [],
   "source": [
    "df = pd.DataFrame(data)"
   ]
  },
  {
   "cell_type": "code",
   "execution_count": 5,
   "id": "fe7e682b-347c-43dc-b485-449a0f2ae006",
   "metadata": {},
   "outputs": [
    {
     "data": {
      "text/html": [
       "<div>\n",
       "<style scoped>\n",
       "    .dataframe tbody tr th:only-of-type {\n",
       "        vertical-align: middle;\n",
       "    }\n",
       "\n",
       "    .dataframe tbody tr th {\n",
       "        vertical-align: top;\n",
       "    }\n",
       "\n",
       "    .dataframe thead th {\n",
       "        text-align: right;\n",
       "    }\n",
       "</style>\n",
       "<table border=\"1\" class=\"dataframe\">\n",
       "  <thead>\n",
       "    <tr style=\"text-align: right;\">\n",
       "      <th></th>\n",
       "      <th>Color</th>\n",
       "      <th>Size</th>\n",
       "      <th>Area</th>\n",
       "    </tr>\n",
       "  </thead>\n",
       "  <tbody>\n",
       "    <tr>\n",
       "      <th>0</th>\n",
       "      <td>Blue</td>\n",
       "      <td>Small</td>\n",
       "      <td>URBAN</td>\n",
       "    </tr>\n",
       "    <tr>\n",
       "      <th>1</th>\n",
       "      <td>Red</td>\n",
       "      <td>Large</td>\n",
       "      <td>URBAN</td>\n",
       "    </tr>\n",
       "    <tr>\n",
       "      <th>2</th>\n",
       "      <td>Blue</td>\n",
       "      <td>Medium</td>\n",
       "      <td>RURAL</td>\n",
       "    </tr>\n",
       "    <tr>\n",
       "      <th>3</th>\n",
       "      <td>Blue</td>\n",
       "      <td>Large</td>\n",
       "      <td>URBAN</td>\n",
       "    </tr>\n",
       "    <tr>\n",
       "      <th>4</th>\n",
       "      <td>Red</td>\n",
       "      <td>Large</td>\n",
       "      <td>SEMI-URBAN</td>\n",
       "    </tr>\n",
       "  </tbody>\n",
       "</table>\n",
       "</div>"
      ],
      "text/plain": [
       "  Color    Size        Area\n",
       "0  Blue   Small       URBAN\n",
       "1   Red   Large       URBAN\n",
       "2  Blue  Medium       RURAL\n",
       "3  Blue   Large       URBAN\n",
       "4   Red   Large  SEMI-URBAN"
      ]
     },
     "execution_count": 5,
     "metadata": {},
     "output_type": "execute_result"
    }
   ],
   "source": [
    "df"
   ]
  },
  {
   "cell_type": "code",
   "execution_count": 6,
   "id": "40e13379-3b7f-4011-ae06-d55f4ffaaa93",
   "metadata": {},
   "outputs": [],
   "source": [
    "# Apply one-hot encoding\n",
    "encoder      = OneHotEncoder(drop='first', sparse=False)\n",
    "encoded_data = encoder.fit_transform(df)"
   ]
  },
  {
   "cell_type": "code",
   "execution_count": 7,
   "id": "3ba42d9f-1f12-41a7-a694-0c22880f7eb4",
   "metadata": {},
   "outputs": [
    {
     "data": {
      "text/html": [
       "<div>\n",
       "<style scoped>\n",
       "    .dataframe tbody tr th:only-of-type {\n",
       "        vertical-align: middle;\n",
       "    }\n",
       "\n",
       "    .dataframe tbody tr th {\n",
       "        vertical-align: top;\n",
       "    }\n",
       "\n",
       "    .dataframe thead th {\n",
       "        text-align: right;\n",
       "    }\n",
       "</style>\n",
       "<table border=\"1\" class=\"dataframe\">\n",
       "  <thead>\n",
       "    <tr style=\"text-align: right;\">\n",
       "      <th></th>\n",
       "      <th>Color_Red</th>\n",
       "      <th>Size_Medium</th>\n",
       "      <th>Size_Small</th>\n",
       "      <th>Area_SEMI-URBAN</th>\n",
       "      <th>Area_URBAN</th>\n",
       "    </tr>\n",
       "  </thead>\n",
       "  <tbody>\n",
       "    <tr>\n",
       "      <th>0</th>\n",
       "      <td>0.0</td>\n",
       "      <td>0.0</td>\n",
       "      <td>1.0</td>\n",
       "      <td>0.0</td>\n",
       "      <td>1.0</td>\n",
       "    </tr>\n",
       "    <tr>\n",
       "      <th>1</th>\n",
       "      <td>1.0</td>\n",
       "      <td>0.0</td>\n",
       "      <td>0.0</td>\n",
       "      <td>0.0</td>\n",
       "      <td>1.0</td>\n",
       "    </tr>\n",
       "    <tr>\n",
       "      <th>2</th>\n",
       "      <td>0.0</td>\n",
       "      <td>1.0</td>\n",
       "      <td>0.0</td>\n",
       "      <td>0.0</td>\n",
       "      <td>0.0</td>\n",
       "    </tr>\n",
       "    <tr>\n",
       "      <th>3</th>\n",
       "      <td>0.0</td>\n",
       "      <td>0.0</td>\n",
       "      <td>0.0</td>\n",
       "      <td>0.0</td>\n",
       "      <td>1.0</td>\n",
       "    </tr>\n",
       "    <tr>\n",
       "      <th>4</th>\n",
       "      <td>1.0</td>\n",
       "      <td>0.0</td>\n",
       "      <td>0.0</td>\n",
       "      <td>1.0</td>\n",
       "      <td>0.0</td>\n",
       "    </tr>\n",
       "  </tbody>\n",
       "</table>\n",
       "</div>"
      ],
      "text/plain": [
       "   Color_Red  Size_Medium  Size_Small  Area_SEMI-URBAN  Area_URBAN\n",
       "0        0.0          0.0         1.0              0.0         1.0\n",
       "1        1.0          0.0         0.0              0.0         1.0\n",
       "2        0.0          1.0         0.0              0.0         0.0\n",
       "3        0.0          0.0         0.0              0.0         1.0\n",
       "4        1.0          0.0         0.0              1.0         0.0"
      ]
     },
     "execution_count": 7,
     "metadata": {},
     "output_type": "execute_result"
    }
   ],
   "source": [
    "# Convert the encoded data to a DataFrame for better visualization\n",
    "encoded_df = pd.DataFrame(encoded_data, \n",
    "                          columns=encoder.get_feature_names_out(df.columns))\n",
    "encoded_df"
   ]
  },
  {
   "cell_type": "code",
   "execution_count": 8,
   "id": "2c778622-072f-4fc9-a520-be7baf24f236",
   "metadata": {},
   "outputs": [],
   "source": [
    "# Calculate pairwise Euclidean distances\n",
    "distances = euclidean_distances(encoded_data, encoded_data)"
   ]
  },
  {
   "cell_type": "code",
   "execution_count": 9,
   "id": "6a5db966-ba77-4559-9d57-6f099ab6b916",
   "metadata": {},
   "outputs": [],
   "source": [
    "# Convert distances to a DataFrame for better visualization\n",
    "distances_df = pd.DataFrame(distances, columns=df.index, index=df.index)"
   ]
  },
  {
   "cell_type": "code",
   "execution_count": 10,
   "id": "16486a1c-7e70-4dcb-90dd-b1da2ac4b813",
   "metadata": {},
   "outputs": [
    {
     "name": "stdout",
     "output_type": "stream",
     "text": [
      "\n",
      "Pairwise Euclidean Distances:\n",
      "          0         1         2         3         4\n",
      "0  0.000000  1.414214  1.732051  1.000000  2.000000\n",
      "1  1.414214  0.000000  1.732051  1.000000  1.414214\n",
      "2  1.732051  1.732051  0.000000  1.414214  1.732051\n",
      "3  1.000000  1.000000  1.414214  0.000000  1.732051\n",
      "4  2.000000  1.414214  1.732051  1.732051  0.000000\n"
     ]
    }
   ],
   "source": [
    "# Display the pairwise Euclidean distances\n",
    "print(\"\\nPairwise Euclidean Distances:\")\n",
    "print(distances_df)"
   ]
  },
  {
   "cell_type": "markdown",
   "id": "ba172762-f8c9-4f92-81b5-083ff936c5f8",
   "metadata": {},
   "source": [
    "#### Label encoding"
   ]
  },
  {
   "cell_type": "code",
   "execution_count": 11,
   "id": "ffb4c3cf-bc79-45d4-bc5c-6fe2eb67bec8",
   "metadata": {},
   "outputs": [],
   "source": [
    "from sklearn.preprocessing import LabelEncoder"
   ]
  },
  {
   "cell_type": "code",
   "execution_count": 12,
   "id": "19ee6f19-6b72-47a5-b7be-489608917189",
   "metadata": {},
   "outputs": [],
   "source": [
    "# Apply label encoding\n",
    "label_encoder = LabelEncoder()\n",
    "df_encoded = df.apply(label_encoder.fit_transform)"
   ]
  },
  {
   "cell_type": "code",
   "execution_count": 13,
   "id": "71d0694c-d2df-43dd-a2de-5711b01d0392",
   "metadata": {},
   "outputs": [
    {
     "data": {
      "text/html": [
       "<div>\n",
       "<style scoped>\n",
       "    .dataframe tbody tr th:only-of-type {\n",
       "        vertical-align: middle;\n",
       "    }\n",
       "\n",
       "    .dataframe tbody tr th {\n",
       "        vertical-align: top;\n",
       "    }\n",
       "\n",
       "    .dataframe thead th {\n",
       "        text-align: right;\n",
       "    }\n",
       "</style>\n",
       "<table border=\"1\" class=\"dataframe\">\n",
       "  <thead>\n",
       "    <tr style=\"text-align: right;\">\n",
       "      <th></th>\n",
       "      <th>Color</th>\n",
       "      <th>Size</th>\n",
       "      <th>Area</th>\n",
       "    </tr>\n",
       "  </thead>\n",
       "  <tbody>\n",
       "    <tr>\n",
       "      <th>0</th>\n",
       "      <td>0</td>\n",
       "      <td>2</td>\n",
       "      <td>2</td>\n",
       "    </tr>\n",
       "    <tr>\n",
       "      <th>1</th>\n",
       "      <td>1</td>\n",
       "      <td>0</td>\n",
       "      <td>2</td>\n",
       "    </tr>\n",
       "    <tr>\n",
       "      <th>2</th>\n",
       "      <td>0</td>\n",
       "      <td>1</td>\n",
       "      <td>0</td>\n",
       "    </tr>\n",
       "    <tr>\n",
       "      <th>3</th>\n",
       "      <td>0</td>\n",
       "      <td>0</td>\n",
       "      <td>2</td>\n",
       "    </tr>\n",
       "    <tr>\n",
       "      <th>4</th>\n",
       "      <td>1</td>\n",
       "      <td>0</td>\n",
       "      <td>1</td>\n",
       "    </tr>\n",
       "  </tbody>\n",
       "</table>\n",
       "</div>"
      ],
      "text/plain": [
       "   Color  Size  Area\n",
       "0      0     2     2\n",
       "1      1     0     2\n",
       "2      0     1     0\n",
       "3      0     0     2\n",
       "4      1     0     1"
      ]
     },
     "execution_count": 13,
     "metadata": {},
     "output_type": "execute_result"
    }
   ],
   "source": [
    "df_encoded"
   ]
  },
  {
   "cell_type": "code",
   "execution_count": 14,
   "id": "00a58401-4498-4de1-8d25-aedf93769e71",
   "metadata": {},
   "outputs": [],
   "source": [
    "# Calculate pairwise Euclidean distances\n",
    "distances = euclidean_distances(df_encoded, df_encoded)"
   ]
  },
  {
   "cell_type": "code",
   "execution_count": 15,
   "id": "b36b4d8c-db98-498e-940f-ebbfb84924a5",
   "metadata": {},
   "outputs": [],
   "source": [
    "# Convert distances to a DataFrame for better visualization\n",
    "distances_df = pd.DataFrame(distances, columns=df.index, index=df.index)\n"
   ]
  },
  {
   "cell_type": "code",
   "execution_count": 16,
   "id": "a721bf60-1e0b-4d86-b915-e10a07f1a563",
   "metadata": {},
   "outputs": [
    {
     "data": {
      "text/html": [
       "<div>\n",
       "<style scoped>\n",
       "    .dataframe tbody tr th:only-of-type {\n",
       "        vertical-align: middle;\n",
       "    }\n",
       "\n",
       "    .dataframe tbody tr th {\n",
       "        vertical-align: top;\n",
       "    }\n",
       "\n",
       "    .dataframe thead th {\n",
       "        text-align: right;\n",
       "    }\n",
       "</style>\n",
       "<table border=\"1\" class=\"dataframe\">\n",
       "  <thead>\n",
       "    <tr style=\"text-align: right;\">\n",
       "      <th></th>\n",
       "      <th>0</th>\n",
       "      <th>1</th>\n",
       "      <th>2</th>\n",
       "      <th>3</th>\n",
       "      <th>4</th>\n",
       "    </tr>\n",
       "  </thead>\n",
       "  <tbody>\n",
       "    <tr>\n",
       "      <th>0</th>\n",
       "      <td>0.000000</td>\n",
       "      <td>2.236068</td>\n",
       "      <td>2.236068</td>\n",
       "      <td>2.000000</td>\n",
       "      <td>2.449490</td>\n",
       "    </tr>\n",
       "    <tr>\n",
       "      <th>1</th>\n",
       "      <td>2.236068</td>\n",
       "      <td>0.000000</td>\n",
       "      <td>2.449490</td>\n",
       "      <td>1.000000</td>\n",
       "      <td>1.000000</td>\n",
       "    </tr>\n",
       "    <tr>\n",
       "      <th>2</th>\n",
       "      <td>2.236068</td>\n",
       "      <td>2.449490</td>\n",
       "      <td>0.000000</td>\n",
       "      <td>2.236068</td>\n",
       "      <td>1.732051</td>\n",
       "    </tr>\n",
       "    <tr>\n",
       "      <th>3</th>\n",
       "      <td>2.000000</td>\n",
       "      <td>1.000000</td>\n",
       "      <td>2.236068</td>\n",
       "      <td>0.000000</td>\n",
       "      <td>1.414214</td>\n",
       "    </tr>\n",
       "    <tr>\n",
       "      <th>4</th>\n",
       "      <td>2.449490</td>\n",
       "      <td>1.000000</td>\n",
       "      <td>1.732051</td>\n",
       "      <td>1.414214</td>\n",
       "      <td>0.000000</td>\n",
       "    </tr>\n",
       "  </tbody>\n",
       "</table>\n",
       "</div>"
      ],
      "text/plain": [
       "          0         1         2         3         4\n",
       "0  0.000000  2.236068  2.236068  2.000000  2.449490\n",
       "1  2.236068  0.000000  2.449490  1.000000  1.000000\n",
       "2  2.236068  2.449490  0.000000  2.236068  1.732051\n",
       "3  2.000000  1.000000  2.236068  0.000000  1.414214\n",
       "4  2.449490  1.000000  1.732051  1.414214  0.000000"
      ]
     },
     "execution_count": 16,
     "metadata": {},
     "output_type": "execute_result"
    }
   ],
   "source": [
    "distances_df"
   ]
  },
  {
   "cell_type": "code",
   "execution_count": null,
   "id": "8872aeae-2a24-4970-96c8-15ebcf76ea35",
   "metadata": {},
   "outputs": [],
   "source": []
  }
 ],
 "metadata": {
  "kernelspec": {
   "display_name": "Python 3 (ipykernel)",
   "language": "python",
   "name": "python3"
  },
  "language_info": {
   "codemirror_mode": {
    "name": "ipython",
    "version": 3
   },
   "file_extension": ".py",
   "mimetype": "text/x-python",
   "name": "python",
   "nbconvert_exporter": "python",
   "pygments_lexer": "ipython3",
   "version": "3.9.13"
  }
 },
 "nbformat": 4,
 "nbformat_minor": 5
}
