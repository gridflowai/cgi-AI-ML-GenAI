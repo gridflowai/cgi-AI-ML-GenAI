{
 "cells": [
  {
   "cell_type": "markdown",
   "id": "13fb2759-c4c9-46c3-af53-a8656d392ed3",
   "metadata": {},
   "source": [
    "-----------------\n",
    "### IQR - determination \n",
    "----------------"
   ]
  },
  {
   "cell_type": "code",
   "execution_count": 10,
   "id": "06c656fd-999b-45bb-ad89-34b3f9a095dc",
   "metadata": {
    "tags": []
   },
   "outputs": [],
   "source": [
    "# Your dataset\n",
    "data = [12, 14, 15, 15, 16, 18, 20, 21, 22, 25, 30, 40, 55, 60, 70]\n",
    "data.sort()"
   ]
  },
  {
   "cell_type": "code",
   "execution_count": 11,
   "id": "8e4318e2-3adb-4377-a435-6c8c80a49a5c",
   "metadata": {
    "tags": []
   },
   "outputs": [],
   "source": [
    "# Step 2: Calculate the median (Q2)\n",
    "def median(data):\n",
    "    n = len(data)\n",
    "    if n % 2 == 0:\n",
    "        middle1 = data[n // 2]\n",
    "        middle2 = data[n // 2 - 1]\n",
    "        return (middle1 + middle2) / 2\n",
    "    else:\n",
    "        return data[n // 2]\n",
    "\n",
    "q2 = median(data)"
   ]
  },
  {
   "cell_type": "code",
   "execution_count": 12,
   "id": "37d64e55-cfdd-4ad5-ac5b-060126fa8933",
   "metadata": {
    "tags": []
   },
   "outputs": [],
   "source": [
    "# Step 3: Split the dataset into two halves\n",
    "lower_half = [x for x in data if x < q2]\n",
    "upper_half = [x for x in data if x > q2]"
   ]
  },
  {
   "cell_type": "code",
   "execution_count": 13,
   "id": "fd5f8e5e-97f0-41d4-9a88-41b585bb3a16",
   "metadata": {
    "tags": []
   },
   "outputs": [],
   "source": [
    "# Step 4: Calculate Q1 and Q3\n",
    "q1 = median(lower_half)\n",
    "q3 = median(upper_half)"
   ]
  },
  {
   "cell_type": "code",
   "execution_count": 14,
   "id": "6b7d0201-23df-42dc-8874-2015233ed975",
   "metadata": {
    "tags": []
   },
   "outputs": [],
   "source": [
    "# Step 5: Calculate the IQR\n",
    "iqr = q3 - q1"
   ]
  },
  {
   "cell_type": "code",
   "execution_count": 15,
   "id": "22052cdd-53ea-462c-998b-df0080a671a4",
   "metadata": {
    "tags": []
   },
   "outputs": [
    {
     "name": "stdout",
     "output_type": "stream",
     "text": [
      "First Quartile (Q1): 15\n",
      "Third Quartile (Q3): 40\n",
      "Interquartile Range (IQR): 25\n"
     ]
    }
   ],
   "source": [
    "print(\"First Quartile (Q1):\", q1)\n",
    "print(\"Third Quartile (Q3):\", q3)\n",
    "print(\"Interquartile Range (IQR):\", iqr)"
   ]
  },
  {
   "cell_type": "markdown",
   "id": "e3225ddb-e03b-46d7-8873-214b0535f06a",
   "metadata": {},
   "source": [
    "#### using numpy"
   ]
  },
  {
   "cell_type": "code",
   "execution_count": 19,
   "id": "9f43b76c-17c7-4f6c-9076-9fc5a833a7d0",
   "metadata": {
    "tags": []
   },
   "outputs": [],
   "source": [
    "import numpy as np"
   ]
  },
  {
   "cell_type": "code",
   "execution_count": 20,
   "id": "43f320d9-2a54-409e-ab4e-b53fdde858a5",
   "metadata": {
    "tags": []
   },
   "outputs": [],
   "source": [
    "# Your dataset\n",
    "data = [12, 14, 15, 15, 16, 18, 20, 21, 22, 25, 30, 40, 55, 60, 70]"
   ]
  },
  {
   "cell_type": "code",
   "execution_count": 21,
   "id": "2992eecf-2cac-49af-9227-035e43890086",
   "metadata": {
    "tags": []
   },
   "outputs": [
    {
     "name": "stdout",
     "output_type": "stream",
     "text": [
      "First Quartile (Q1): 15.5\n",
      "Third Quartile (Q3): 35.0\n",
      "Interquartile Range (IQR): 19.5\n"
     ]
    }
   ],
   "source": [
    "# Calculate the first quartile (Q1)\n",
    "q1 = np.percentile(data, 25)\n",
    "\n",
    "# Calculate the third quartile (Q3)\n",
    "q3 = np.percentile(data, 75)\n",
    "\n",
    "# Calculate the IQR\n",
    "iqr = pup\n",
    "\n",
    "print(\"First Quartile (Q1):\", q1)\n",
    "print(\"Third Quartile (Q3):\", q3)\n",
    "print(\"Interquartile Range (IQR):\", iqr)"
   ]
  },
  {
   "cell_type": "code",
   "execution_count": null,
   "id": "1ea8db10-8d76-45b0-a982-f5b17981fcd6",
   "metadata": {},
   "outputs": [],
   "source": []
  },
  {
   "cell_type": "code",
   "execution_count": null,
   "id": "91b32b79-b9b3-4805-8ddb-c45c82368437",
   "metadata": {},
   "outputs": [],
   "source": []
  }
 ],
 "metadata": {
  "kernelspec": {
   "display_name": "Python 3 (ipykernel)",
   "language": "python",
   "name": "python3"
  },
  "language_info": {
   "codemirror_mode": {
    "name": "ipython",
    "version": 3
   },
   "file_extension": ".py",
   "mimetype": "text/x-python",
   "name": "python",
   "nbconvert_exporter": "python",
   "pygments_lexer": "ipython3",
   "version": "3.9.13"
  }
 },
 "nbformat": 4,
 "nbformat_minor": 5
}
