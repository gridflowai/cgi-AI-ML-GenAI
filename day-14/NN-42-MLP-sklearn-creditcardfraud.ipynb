{
 "cells": [
  {
   "cell_type": "markdown",
   "id": "9280ed1c-f64c-4532-b11b-ab701499ddee",
   "metadata": {},
   "source": [
    "---------------------\n",
    "#### MLP with sklearn\n",
    "- credit card fraud data\n",
    "-----------------"
   ]
  },
  {
   "cell_type": "code",
   "execution_count": 1,
   "id": "d35729bf-a42e-4f05-b18e-23a4aed43a80",
   "metadata": {},
   "outputs": [],
   "source": [
    "#import packages\n",
    "\n",
    "import numpy as np\n",
    "import pandas as pd\n",
    "\n",
    "import matplotlib.pyplot as plt\n",
    "\n",
    "from sklearn.model_selection import train_test_split\n",
    "from sklearn import metrics"
   ]
  },
  {
   "cell_type": "code",
   "execution_count": 2,
   "id": "f90466a4-4613-431b-8f92-827e4645926b",
   "metadata": {},
   "outputs": [],
   "source": [
    "location_data = r'U:\\AI-DATASETS\\02-MISC-large\\creditcard.csv'"
   ]
  },
  {
   "cell_type": "code",
   "execution_count": 3,
   "id": "cfdb6eda-0fb8-401c-99d8-10403e2b9d13",
   "metadata": {},
   "outputs": [],
   "source": [
    "data = pd.read_csv(location_data)\n",
    "data.drop(['Time'], axis=1, inplace=True)\n",
    "X = data.drop(['Class'], axis=1)\n",
    "y = data.Class"
   ]
  },
  {
   "cell_type": "code",
   "execution_count": 4,
   "id": "18d99ff9-e323-4977-b1a4-aa73b9fe2382",
   "metadata": {},
   "outputs": [],
   "source": [
    "from sklearn.preprocessing import MinMaxScaler\n",
    "mnscaler = MinMaxScaler()\n",
    "X = mnscaler.fit_transform(X)\n"
   ]
  },
  {
   "cell_type": "code",
   "execution_count": 5,
   "id": "729a2777-d3d9-4fe7-abf0-e949fb8e5d05",
   "metadata": {},
   "outputs": [],
   "source": [
    "#train test split.\n",
    "X_train, X_test, y_train, y_test = train_test_split(X, y, test_size = 0.1, stratify = y, random_state = 1)"
   ]
  },
  {
   "cell_type": "markdown",
   "id": "ea1b633c-5c6a-4201-bab5-caf8723c03bf",
   "metadata": {},
   "source": [
    "#### model (MLP) building"
   ]
  },
  {
   "cell_type": "code",
   "execution_count": 6,
   "id": "16a0cb5a-53a9-47b4-9a95-711f4ec70b82",
   "metadata": {},
   "outputs": [],
   "source": [
    "from sklearn.neural_network import MLPClassifier"
   ]
  },
  {
   "cell_type": "code",
   "execution_count": 25,
   "id": "4901138c-e9cb-4c73-9e83-382bda1e3e24",
   "metadata": {},
   "outputs": [],
   "source": [
    "mlp = MLPClassifier(hidden_layer_sizes=(8),           # with 1 l\n",
    "                    activation   = 'logistic',             # same as sigmoid\n",
    "                    solver       = 'sgd',\n",
    "                    batch_size   = 32,\n",
    "                    learning_rate= 'constant',\n",
    "                    learning_rate_init = .1,          # .01, .05, .005, .001\n",
    "                    max_iter           = 1500,\n",
    "                    shuffle            = True,\n",
    "                    tol                = .0001,        # .0001, .001, .01, .05\n",
    "                    verbose            = True,\n",
    "                    early_stopping     = True,         # Always use this, set to True\n",
    "                    validation_fraction=.20,           # 20% is fine\n",
    "                    n_iter_no_change   =10,            # 5, 10, 20, 50, less than the max_iter   \n",
    "                   )"
   ]
  },
  {
   "cell_type": "code",
   "execution_count": 26,
   "id": "bbd92236-ec88-4026-aa3f-af7aa58223b9",
   "metadata": {},
   "outputs": [
    {
     "name": "stdout",
     "output_type": "stream",
     "text": [
      "Iteration 1, loss = 0.01236159\n",
      "Validation score: 0.998264\n",
      "Iteration 2, loss = 0.00842596\n",
      "Validation score: 0.998479\n",
      "Iteration 3, loss = 0.00571814\n",
      "Validation score: 0.998752\n",
      "Iteration 4, loss = 0.00480784\n",
      "Validation score: 0.998986\n",
      "Iteration 5, loss = 0.00452961\n",
      "Validation score: 0.999025\n",
      "Iteration 6, loss = 0.00439097\n",
      "Validation score: 0.999181\n",
      "Iteration 7, loss = 0.00430841\n",
      "Validation score: 0.999025\n",
      "Iteration 8, loss = 0.00427167\n",
      "Validation score: 0.999005\n",
      "Iteration 9, loss = 0.00421569\n",
      "Validation score: 0.999025\n",
      "Iteration 10, loss = 0.00417619\n",
      "Validation score: 0.999161\n",
      "Iteration 11, loss = 0.00418132\n",
      "Validation score: 0.999064\n",
      "Iteration 12, loss = 0.00415995\n",
      "Validation score: 0.999356\n",
      "Iteration 13, loss = 0.00411795\n",
      "Validation score: 0.999161\n",
      "Iteration 14, loss = 0.00414422\n",
      "Validation score: 0.999356\n",
      "Iteration 15, loss = 0.00413847\n",
      "Validation score: 0.999356\n",
      "Iteration 16, loss = 0.00409651\n",
      "Validation score: 0.999259\n",
      "Iteration 17, loss = 0.00412140\n",
      "Validation score: 0.999044\n",
      "Iteration 18, loss = 0.00410049\n",
      "Validation score: 0.999044\n",
      "Iteration 19, loss = 0.00413132\n",
      "Validation score: 0.999122\n",
      "Iteration 20, loss = 0.00409123\n",
      "Validation score: 0.999298\n",
      "Iteration 21, loss = 0.00409558\n",
      "Validation score: 0.999200\n",
      "Iteration 22, loss = 0.00411407\n",
      "Validation score: 0.999356\n",
      "Iteration 23, loss = 0.00404866\n",
      "Validation score: 0.999044\n",
      "Validation score did not improve more than tol=0.000100 for 10 consecutive epochs. Stopping.\n"
     ]
    },
    {
     "data": {
      "text/plain": [
       "MLPClassifier(activation='logistic', batch_size=32, early_stopping=True,\n",
       "              hidden_layer_sizes=8, learning_rate_init=0.1, max_iter=1500,\n",
       "              solver='sgd', validation_fraction=0.2, verbose=True)"
      ]
     },
     "execution_count": 26,
     "metadata": {},
     "output_type": "execute_result"
    }
   ],
   "source": [
    "mlp.fit(X_train, y_train)"
   ]
  },
  {
   "cell_type": "markdown",
   "id": "2f37b1de-eca0-4474-abe7-803119d1e9b3",
   "metadata": {},
   "source": [
    "#### Predictions and Evaluation\n",
    " \n",
    "Now that we have a model it is time to use it to get predictions! We can do this simply with the predict() method off of our fitted model:"
   ]
  },
  {
   "cell_type": "code",
   "execution_count": 27,
   "id": "6b05cfe6-a7c2-4d7b-9092-d5efd7214c16",
   "metadata": {},
   "outputs": [],
   "source": [
    "y_pred = mlp.predict(X_test)"
   ]
  },
  {
   "cell_type": "code",
   "execution_count": 28,
   "id": "7cac6ca1-2f61-4bdd-89c3-a4473c1bd7cb",
   "metadata": {},
   "outputs": [
    {
     "name": "stdout",
     "output_type": "stream",
     "text": [
      "[[28425     7]\n",
      " [    7    42]]\n"
     ]
    }
   ],
   "source": [
    "from sklearn.metrics import classification_report, confusion_matrix, accuracy_score\n",
    "\n",
    "print(confusion_matrix(y_test, y_pred))"
   ]
  },
  {
   "cell_type": "code",
   "execution_count": null,
   "id": "0049374c-8d45-4fe5-9035-0bdb95b8265c",
   "metadata": {},
   "outputs": [],
   "source": []
  }
 ],
 "metadata": {
  "kernelspec": {
   "display_name": "Python 3 (ipykernel)",
   "language": "python",
   "name": "python3"
  },
  "language_info": {
   "codemirror_mode": {
    "name": "ipython",
    "version": 3
   },
   "file_extension": ".py",
   "mimetype": "text/x-python",
   "name": "python",
   "nbconvert_exporter": "python",
   "pygments_lexer": "ipython3",
   "version": "3.9.12"
  }
 },
 "nbformat": 4,
 "nbformat_minor": 5
}
