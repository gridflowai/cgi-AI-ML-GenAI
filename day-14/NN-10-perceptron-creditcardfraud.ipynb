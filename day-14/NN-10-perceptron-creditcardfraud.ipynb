{
 "cells": [
  {
   "cell_type": "markdown",
   "id": "d78cef94-1b25-4dc3-ba80-f5d0d1f0031f",
   "metadata": {},
   "source": [
    "#### Implementing The Perceptron Algorithm"
   ]
  },
  {
   "cell_type": "code",
   "execution_count": 1,
   "id": "3bbf1cce-5221-4de2-b450-bf7983d2c6fc",
   "metadata": {},
   "outputs": [],
   "source": [
    "#import packages\n",
    "\n",
    "import numpy as np\n",
    "import pandas as pd\n",
    "\n",
    "import matplotlib.pyplot as plt\n",
    "\n",
    "from sklearn.model_selection import train_test_split\n",
    "from sklearn import metrics"
   ]
  },
  {
   "cell_type": "code",
   "execution_count": 2,
   "id": "1806c234-91d3-4f8d-a4fa-7b32bf2c9f8b",
   "metadata": {},
   "outputs": [],
   "source": [
    "location_data = r'U:\\AI-DATASETS\\02-MISC-large\\creditcard.csv'"
   ]
  },
  {
   "cell_type": "code",
   "execution_count": 3,
   "id": "1e472916-00b4-48f4-9793-5515257ff87b",
   "metadata": {},
   "outputs": [],
   "source": [
    "data = pd.read_csv(location_data)"
   ]
  },
  {
   "cell_type": "code",
   "execution_count": 4,
   "id": "7ace1ef2-6df1-4b43-9dd1-b93835c8d531",
   "metadata": {},
   "outputs": [
    {
     "data": {
      "text/plain": [
       "(284807, 31)"
      ]
     },
     "execution_count": 4,
     "metadata": {},
     "output_type": "execute_result"
    }
   ],
   "source": [
    "data.shape"
   ]
  },
  {
   "cell_type": "code",
   "execution_count": 5,
   "id": "45f4aa24-8ef5-48d3-8ab3-c1d30c9ce55e",
   "metadata": {},
   "outputs": [
    {
     "data": {
      "text/html": [
       "<div>\n",
       "<style scoped>\n",
       "    .dataframe tbody tr th:only-of-type {\n",
       "        vertical-align: middle;\n",
       "    }\n",
       "\n",
       "    .dataframe tbody tr th {\n",
       "        vertical-align: top;\n",
       "    }\n",
       "\n",
       "    .dataframe thead th {\n",
       "        text-align: right;\n",
       "    }\n",
       "</style>\n",
       "<table border=\"1\" class=\"dataframe\">\n",
       "  <thead>\n",
       "    <tr style=\"text-align: right;\">\n",
       "      <th></th>\n",
       "      <th>Time</th>\n",
       "      <th>V1</th>\n",
       "      <th>V2</th>\n",
       "      <th>V3</th>\n",
       "      <th>V4</th>\n",
       "      <th>V5</th>\n",
       "      <th>V6</th>\n",
       "      <th>V7</th>\n",
       "      <th>V8</th>\n",
       "      <th>V9</th>\n",
       "      <th>...</th>\n",
       "      <th>V21</th>\n",
       "      <th>V22</th>\n",
       "      <th>V23</th>\n",
       "      <th>V24</th>\n",
       "      <th>V25</th>\n",
       "      <th>V26</th>\n",
       "      <th>V27</th>\n",
       "      <th>V28</th>\n",
       "      <th>Amount</th>\n",
       "      <th>Class</th>\n",
       "    </tr>\n",
       "  </thead>\n",
       "  <tbody>\n",
       "    <tr>\n",
       "      <th>224010</th>\n",
       "      <td>143616.0</td>\n",
       "      <td>-0.892921</td>\n",
       "      <td>1.263421</td>\n",
       "      <td>-3.619774</td>\n",
       "      <td>-1.239837</td>\n",
       "      <td>2.406645</td>\n",
       "      <td>2.814354</td>\n",
       "      <td>-0.521890</td>\n",
       "      <td>1.965770</td>\n",
       "      <td>-0.396098</td>\n",
       "      <td>...</td>\n",
       "      <td>0.052543</td>\n",
       "      <td>-0.284355</td>\n",
       "      <td>0.341765</td>\n",
       "      <td>0.575541</td>\n",
       "      <td>-0.515481</td>\n",
       "      <td>-0.578932</td>\n",
       "      <td>-0.510871</td>\n",
       "      <td>-0.24870</td>\n",
       "      <td>10.47</td>\n",
       "      <td>0</td>\n",
       "    </tr>\n",
       "    <tr>\n",
       "      <th>33731</th>\n",
       "      <td>37361.0</td>\n",
       "      <td>1.156823</td>\n",
       "      <td>0.285487</td>\n",
       "      <td>0.243611</td>\n",
       "      <td>0.659141</td>\n",
       "      <td>-0.145974</td>\n",
       "      <td>-0.894901</td>\n",
       "      <td>0.403281</td>\n",
       "      <td>-0.235296</td>\n",
       "      <td>-0.320088</td>\n",
       "      <td>...</td>\n",
       "      <td>-0.341704</td>\n",
       "      <td>-1.013277</td>\n",
       "      <td>0.213849</td>\n",
       "      <td>0.397356</td>\n",
       "      <td>0.146169</td>\n",
       "      <td>-0.011874</td>\n",
       "      <td>-0.034618</td>\n",
       "      <td>0.01968</td>\n",
       "      <td>32.90</td>\n",
       "      <td>0</td>\n",
       "    </tr>\n",
       "    <tr>\n",
       "      <th>37481</th>\n",
       "      <td>38973.0</td>\n",
       "      <td>-1.042757</td>\n",
       "      <td>0.679847</td>\n",
       "      <td>1.401246</td>\n",
       "      <td>-0.053209</td>\n",
       "      <td>0.914848</td>\n",
       "      <td>-0.211952</td>\n",
       "      <td>0.672558</td>\n",
       "      <td>0.222404</td>\n",
       "      <td>-0.663091</td>\n",
       "      <td>...</td>\n",
       "      <td>-0.338621</td>\n",
       "      <td>-1.246055</td>\n",
       "      <td>0.009576</td>\n",
       "      <td>-0.439476</td>\n",
       "      <td>-0.256408</td>\n",
       "      <td>-0.965104</td>\n",
       "      <td>-0.029602</td>\n",
       "      <td>0.10404</td>\n",
       "      <td>19.30</td>\n",
       "      <td>0</td>\n",
       "    </tr>\n",
       "    <tr>\n",
       "      <th>246460</th>\n",
       "      <td>153182.0</td>\n",
       "      <td>-2.483979</td>\n",
       "      <td>0.112587</td>\n",
       "      <td>0.715351</td>\n",
       "      <td>-0.370709</td>\n",
       "      <td>-0.243174</td>\n",
       "      <td>-0.613829</td>\n",
       "      <td>-1.213614</td>\n",
       "      <td>-2.131922</td>\n",
       "      <td>-0.305211</td>\n",
       "      <td>...</td>\n",
       "      <td>-1.482577</td>\n",
       "      <td>0.268453</td>\n",
       "      <td>1.268148</td>\n",
       "      <td>0.523296</td>\n",
       "      <td>-0.804487</td>\n",
       "      <td>0.139690</td>\n",
       "      <td>0.335137</td>\n",
       "      <td>0.04254</td>\n",
       "      <td>21.99</td>\n",
       "      <td>0</td>\n",
       "    </tr>\n",
       "  </tbody>\n",
       "</table>\n",
       "<p>4 rows × 31 columns</p>\n",
       "</div>"
      ],
      "text/plain": [
       "            Time        V1        V2        V3        V4        V5        V6  \\\n",
       "224010  143616.0 -0.892921  1.263421 -3.619774 -1.239837  2.406645  2.814354   \n",
       "33731    37361.0  1.156823  0.285487  0.243611  0.659141 -0.145974 -0.894901   \n",
       "37481    38973.0 -1.042757  0.679847  1.401246 -0.053209  0.914848 -0.211952   \n",
       "246460  153182.0 -2.483979  0.112587  0.715351 -0.370709 -0.243174 -0.613829   \n",
       "\n",
       "              V7        V8        V9  ...       V21       V22       V23  \\\n",
       "224010 -0.521890  1.965770 -0.396098  ...  0.052543 -0.284355  0.341765   \n",
       "33731   0.403281 -0.235296 -0.320088  ... -0.341704 -1.013277  0.213849   \n",
       "37481   0.672558  0.222404 -0.663091  ... -0.338621 -1.246055  0.009576   \n",
       "246460 -1.213614 -2.131922 -0.305211  ... -1.482577  0.268453  1.268148   \n",
       "\n",
       "             V24       V25       V26       V27      V28  Amount  Class  \n",
       "224010  0.575541 -0.515481 -0.578932 -0.510871 -0.24870   10.47      0  \n",
       "33731   0.397356  0.146169 -0.011874 -0.034618  0.01968   32.90      0  \n",
       "37481  -0.439476 -0.256408 -0.965104 -0.029602  0.10404   19.30      0  \n",
       "246460  0.523296 -0.804487  0.139690  0.335137  0.04254   21.99      0  \n",
       "\n",
       "[4 rows x 31 columns]"
      ]
     },
     "execution_count": 5,
     "metadata": {},
     "output_type": "execute_result"
    }
   ],
   "source": [
    "data.sample(4)"
   ]
  },
  {
   "cell_type": "code",
   "execution_count": 6,
   "id": "340617f3-ff4f-473d-be26-9969978b0ff0",
   "metadata": {},
   "outputs": [
    {
     "data": {
      "text/plain": [
       "Index(['Time', 'V1', 'V2', 'V3', 'V4', 'V5', 'V6', 'V7', 'V8', 'V9', 'V10',\n",
       "       'V11', 'V12', 'V13', 'V14', 'V15', 'V16', 'V17', 'V18', 'V19', 'V20',\n",
       "       'V21', 'V22', 'V23', 'V24', 'V25', 'V26', 'V27', 'V28', 'Amount',\n",
       "       'Class'],\n",
       "      dtype='object')"
      ]
     },
     "execution_count": 6,
     "metadata": {},
     "output_type": "execute_result"
    }
   ],
   "source": [
    "data.columns"
   ]
  },
  {
   "cell_type": "code",
   "execution_count": 7,
   "id": "40ef9378-1cb5-4a24-855c-d905fec00305",
   "metadata": {},
   "outputs": [
    {
     "data": {
      "text/plain": [
       "0    284315\n",
       "1       492\n",
       "Name: Class, dtype: int64"
      ]
     },
     "execution_count": 7,
     "metadata": {},
     "output_type": "execute_result"
    }
   ],
   "source": [
    "data.Class.value_counts()"
   ]
  },
  {
   "cell_type": "code",
   "execution_count": 8,
   "id": "4953ae62-459a-4445-9ab5-a17c015b342a",
   "metadata": {},
   "outputs": [],
   "source": [
    "data.drop(['Time'], axis=1, inplace=True)"
   ]
  },
  {
   "cell_type": "code",
   "execution_count": 9,
   "id": "c7846c75-8237-4d96-a5e6-8b359ac057e8",
   "metadata": {},
   "outputs": [],
   "source": [
    "X = data.drop(['Class'], axis=1)\n",
    "y = data.Class"
   ]
  },
  {
   "cell_type": "code",
   "execution_count": 10,
   "id": "8822d4f1-c9e7-43a5-b383-af1228d6268b",
   "metadata": {},
   "outputs": [],
   "source": [
    "from sklearn.preprocessing import MinMaxScaler"
   ]
  },
  {
   "cell_type": "code",
   "execution_count": 11,
   "id": "2f9a91c0-3626-4690-90ed-83ff251fd047",
   "metadata": {},
   "outputs": [],
   "source": [
    "mnscaler = MinMaxScaler()"
   ]
  },
  {
   "cell_type": "code",
   "execution_count": 12,
   "id": "996815f1-261c-4c6a-b28b-aff0a7e4c8dd",
   "metadata": {},
   "outputs": [],
   "source": [
    "X = mnscaler.fit_transform(X)"
   ]
  },
  {
   "cell_type": "code",
   "execution_count": 14,
   "id": "3d8416e7-5934-4622-9f94-eae45238ad22",
   "metadata": {},
   "outputs": [],
   "source": [
    "#train test split.\n",
    "X_train, X_test, y_train, y_test = train_test_split(X, y, test_size = 0.1, stratify = y, random_state = 1)"
   ]
  },
  {
   "cell_type": "markdown",
   "id": "85a635a9-f857-4103-8a1f-d840f2e34b88",
   "metadata": {},
   "source": [
    "#### Create a perceptron object with the parameters: \n",
    "- 40 iterations (epochs) over the data, \n",
    "- and a learning rate of 0.1\n",
    "\n",
    "-`Fit` linear model with `Stochastic Gradient Descent`."
   ]
  },
  {
   "cell_type": "code",
   "execution_count": 16,
   "id": "83f7a4b9-f428-4d55-b760-5f0fd0986d96",
   "metadata": {},
   "outputs": [],
   "source": [
    "from sklearn.linear_model import Perceptron"
   ]
  },
  {
   "cell_type": "code",
   "execution_count": 18,
   "id": "4a20d7fb-0b91-430d-a66d-02346d2bfbcd",
   "metadata": {},
   "outputs": [
    {
     "data": {
      "text/plain": [
       "Perceptron()"
      ]
     },
     "execution_count": 18,
     "metadata": {},
     "output_type": "execute_result"
    }
   ],
   "source": [
    "ppn = Perceptron()\n",
    "\n",
    "# Train the perceptron\n",
    "ppn.fit(X_train, y_train)"
   ]
  },
  {
   "cell_type": "code",
   "execution_count": 19,
   "id": "bfbc2a14-edfc-438a-8557-f471565401b8",
   "metadata": {},
   "outputs": [],
   "source": [
    "# Apply the trained perceptron on the X data to make predicts for the y test data\n",
    "y_pred = ppn.predict(X_test)"
   ]
  },
  {
   "cell_type": "code",
   "execution_count": 21,
   "id": "4ec78c77-ecb2-4d84-9828-7751e8a08469",
   "metadata": {},
   "outputs": [
    {
     "name": "stdout",
     "output_type": "stream",
     "text": [
      "Accuracy: 1.00\n"
     ]
    }
   ],
   "source": [
    "# View the accuracy of the model, which is: 1 - (observations predicted wrong / total observations)\n",
    "print('Accuracy: %.2f' % metrics.accuracy_score(y_test, y_pred))"
   ]
  },
  {
   "cell_type": "code",
   "execution_count": 22,
   "id": "a2206b0a-f0ad-4b39-bf31-2d945f347124",
   "metadata": {},
   "outputs": [
    {
     "data": {
      "text/plain": [
       "array([[28420,    12],\n",
       "       [    6,    43]], dtype=int64)"
      ]
     },
     "execution_count": 22,
     "metadata": {},
     "output_type": "execute_result"
    }
   ],
   "source": [
    "metrics.confusion_matrix(y_test, y_pred)"
   ]
  },
  {
   "cell_type": "code",
   "execution_count": null,
   "id": "27ea9f8f-d830-47a9-ad4a-bac4fb2a6196",
   "metadata": {},
   "outputs": [],
   "source": []
  }
 ],
 "metadata": {
  "kernelspec": {
   "display_name": "Python 3 (ipykernel)",
   "language": "python",
   "name": "python3"
  },
  "language_info": {
   "codemirror_mode": {
    "name": "ipython",
    "version": 3
   },
   "file_extension": ".py",
   "mimetype": "text/x-python",
   "name": "python",
   "nbconvert_exporter": "python",
   "pygments_lexer": "ipython3",
   "version": "3.9.13"
  }
 },
 "nbformat": 4,
 "nbformat_minor": 5
}
