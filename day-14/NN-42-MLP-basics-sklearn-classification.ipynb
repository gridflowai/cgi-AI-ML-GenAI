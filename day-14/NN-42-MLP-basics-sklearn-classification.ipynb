{
 "cells": [
  {
   "cell_type": "code",
   "execution_count": 1,
   "metadata": {
    "tags": []
   },
   "outputs": [],
   "source": [
    "from sklearn.datasets import load_breast_cancer\n",
    "\n",
    "cancer = load_breast_cancer()"
   ]
  },
  {
   "cell_type": "code",
   "execution_count": 2,
   "metadata": {
    "tags": []
   },
   "outputs": [
    {
     "data": {
      "text/plain": [
       "dict_keys(['data', 'target', 'frame', 'target_names', 'DESCR', 'feature_names', 'filename', 'data_module'])"
      ]
     },
     "execution_count": 2,
     "metadata": {},
     "output_type": "execute_result"
    }
   ],
   "source": [
    "cancer.keys()"
   ]
  },
  {
   "cell_type": "code",
   "execution_count": 3,
   "metadata": {
    "tags": []
   },
   "outputs": [
    {
     "data": {
      "text/plain": [
       "array(['mean radius', 'mean texture', 'mean perimeter', 'mean area',\n",
       "       'mean smoothness', 'mean compactness', 'mean concavity',\n",
       "       'mean concave points', 'mean symmetry', 'mean fractal dimension',\n",
       "       'radius error', 'texture error', 'perimeter error', 'area error',\n",
       "       'smoothness error', 'compactness error', 'concavity error',\n",
       "       'concave points error', 'symmetry error',\n",
       "       'fractal dimension error', 'worst radius', 'worst texture',\n",
       "       'worst perimeter', 'worst area', 'worst smoothness',\n",
       "       'worst compactness', 'worst concavity', 'worst concave points',\n",
       "       'worst symmetry', 'worst fractal dimension'], dtype='<U23')"
      ]
     },
     "execution_count": 3,
     "metadata": {},
     "output_type": "execute_result"
    }
   ],
   "source": [
    "cancer.feature_names"
   ]
  },
  {
   "cell_type": "code",
   "execution_count": 4,
   "metadata": {
    "tags": []
   },
   "outputs": [
    {
     "data": {
      "text/plain": [
       "array(['malignant', 'benign'], dtype='<U9')"
      ]
     },
     "execution_count": 4,
     "metadata": {},
     "output_type": "execute_result"
    }
   ],
   "source": [
    "cancer.target_names"
   ]
  },
  {
   "cell_type": "code",
   "execution_count": 5,
   "metadata": {
    "tags": []
   },
   "outputs": [
    {
     "data": {
      "text/plain": [
       "(569, 30)"
      ]
     },
     "execution_count": 5,
     "metadata": {},
     "output_type": "execute_result"
    }
   ],
   "source": [
    "cancer['data'].shape"
   ]
  },
  {
   "cell_type": "code",
   "execution_count": 6,
   "metadata": {
    "tags": []
   },
   "outputs": [],
   "source": [
    "X = cancer['data']\n",
    "y = cancer['target']"
   ]
  },
  {
   "cell_type": "code",
   "execution_count": 7,
   "metadata": {
    "tags": []
   },
   "outputs": [],
   "source": [
    "import pandas as pd"
   ]
  },
  {
   "cell_type": "code",
   "execution_count": 8,
   "metadata": {
    "tags": []
   },
   "outputs": [],
   "source": [
    "df = pd.DataFrame(X, columns = cancer.feature_names)"
   ]
  },
  {
   "cell_type": "code",
   "execution_count": 9,
   "metadata": {
    "tags": []
   },
   "outputs": [
    {
     "data": {
      "text/html": [
       "<div>\n",
       "<style scoped>\n",
       "    .dataframe tbody tr th:only-of-type {\n",
       "        vertical-align: middle;\n",
       "    }\n",
       "\n",
       "    .dataframe tbody tr th {\n",
       "        vertical-align: top;\n",
       "    }\n",
       "\n",
       "    .dataframe thead th {\n",
       "        text-align: right;\n",
       "    }\n",
       "</style>\n",
       "<table border=\"1\" class=\"dataframe\">\n",
       "  <thead>\n",
       "    <tr style=\"text-align: right;\">\n",
       "      <th></th>\n",
       "      <th>mean radius</th>\n",
       "      <th>mean texture</th>\n",
       "      <th>mean perimeter</th>\n",
       "      <th>mean area</th>\n",
       "      <th>mean smoothness</th>\n",
       "      <th>mean compactness</th>\n",
       "      <th>mean concavity</th>\n",
       "      <th>mean concave points</th>\n",
       "      <th>mean symmetry</th>\n",
       "      <th>mean fractal dimension</th>\n",
       "      <th>...</th>\n",
       "      <th>worst radius</th>\n",
       "      <th>worst texture</th>\n",
       "      <th>worst perimeter</th>\n",
       "      <th>worst area</th>\n",
       "      <th>worst smoothness</th>\n",
       "      <th>worst compactness</th>\n",
       "      <th>worst concavity</th>\n",
       "      <th>worst concave points</th>\n",
       "      <th>worst symmetry</th>\n",
       "      <th>worst fractal dimension</th>\n",
       "    </tr>\n",
       "  </thead>\n",
       "  <tbody>\n",
       "    <tr>\n",
       "      <th>0</th>\n",
       "      <td>17.99</td>\n",
       "      <td>10.38</td>\n",
       "      <td>122.80</td>\n",
       "      <td>1001.0</td>\n",
       "      <td>0.11840</td>\n",
       "      <td>0.27760</td>\n",
       "      <td>0.3001</td>\n",
       "      <td>0.14710</td>\n",
       "      <td>0.2419</td>\n",
       "      <td>0.07871</td>\n",
       "      <td>...</td>\n",
       "      <td>25.38</td>\n",
       "      <td>17.33</td>\n",
       "      <td>184.60</td>\n",
       "      <td>2019.0</td>\n",
       "      <td>0.1622</td>\n",
       "      <td>0.6656</td>\n",
       "      <td>0.7119</td>\n",
       "      <td>0.2654</td>\n",
       "      <td>0.4601</td>\n",
       "      <td>0.11890</td>\n",
       "    </tr>\n",
       "    <tr>\n",
       "      <th>1</th>\n",
       "      <td>20.57</td>\n",
       "      <td>17.77</td>\n",
       "      <td>132.90</td>\n",
       "      <td>1326.0</td>\n",
       "      <td>0.08474</td>\n",
       "      <td>0.07864</td>\n",
       "      <td>0.0869</td>\n",
       "      <td>0.07017</td>\n",
       "      <td>0.1812</td>\n",
       "      <td>0.05667</td>\n",
       "      <td>...</td>\n",
       "      <td>24.99</td>\n",
       "      <td>23.41</td>\n",
       "      <td>158.80</td>\n",
       "      <td>1956.0</td>\n",
       "      <td>0.1238</td>\n",
       "      <td>0.1866</td>\n",
       "      <td>0.2416</td>\n",
       "      <td>0.1860</td>\n",
       "      <td>0.2750</td>\n",
       "      <td>0.08902</td>\n",
       "    </tr>\n",
       "    <tr>\n",
       "      <th>2</th>\n",
       "      <td>19.69</td>\n",
       "      <td>21.25</td>\n",
       "      <td>130.00</td>\n",
       "      <td>1203.0</td>\n",
       "      <td>0.10960</td>\n",
       "      <td>0.15990</td>\n",
       "      <td>0.1974</td>\n",
       "      <td>0.12790</td>\n",
       "      <td>0.2069</td>\n",
       "      <td>0.05999</td>\n",
       "      <td>...</td>\n",
       "      <td>23.57</td>\n",
       "      <td>25.53</td>\n",
       "      <td>152.50</td>\n",
       "      <td>1709.0</td>\n",
       "      <td>0.1444</td>\n",
       "      <td>0.4245</td>\n",
       "      <td>0.4504</td>\n",
       "      <td>0.2430</td>\n",
       "      <td>0.3613</td>\n",
       "      <td>0.08758</td>\n",
       "    </tr>\n",
       "    <tr>\n",
       "      <th>3</th>\n",
       "      <td>11.42</td>\n",
       "      <td>20.38</td>\n",
       "      <td>77.58</td>\n",
       "      <td>386.1</td>\n",
       "      <td>0.14250</td>\n",
       "      <td>0.28390</td>\n",
       "      <td>0.2414</td>\n",
       "      <td>0.10520</td>\n",
       "      <td>0.2597</td>\n",
       "      <td>0.09744</td>\n",
       "      <td>...</td>\n",
       "      <td>14.91</td>\n",
       "      <td>26.50</td>\n",
       "      <td>98.87</td>\n",
       "      <td>567.7</td>\n",
       "      <td>0.2098</td>\n",
       "      <td>0.8663</td>\n",
       "      <td>0.6869</td>\n",
       "      <td>0.2575</td>\n",
       "      <td>0.6638</td>\n",
       "      <td>0.17300</td>\n",
       "    </tr>\n",
       "    <tr>\n",
       "      <th>4</th>\n",
       "      <td>20.29</td>\n",
       "      <td>14.34</td>\n",
       "      <td>135.10</td>\n",
       "      <td>1297.0</td>\n",
       "      <td>0.10030</td>\n",
       "      <td>0.13280</td>\n",
       "      <td>0.1980</td>\n",
       "      <td>0.10430</td>\n",
       "      <td>0.1809</td>\n",
       "      <td>0.05883</td>\n",
       "      <td>...</td>\n",
       "      <td>22.54</td>\n",
       "      <td>16.67</td>\n",
       "      <td>152.20</td>\n",
       "      <td>1575.0</td>\n",
       "      <td>0.1374</td>\n",
       "      <td>0.2050</td>\n",
       "      <td>0.4000</td>\n",
       "      <td>0.1625</td>\n",
       "      <td>0.2364</td>\n",
       "      <td>0.07678</td>\n",
       "    </tr>\n",
       "  </tbody>\n",
       "</table>\n",
       "<p>5 rows × 30 columns</p>\n",
       "</div>"
      ],
      "text/plain": [
       "   mean radius  mean texture  mean perimeter  mean area  mean smoothness  \\\n",
       "0        17.99         10.38          122.80     1001.0          0.11840   \n",
       "1        20.57         17.77          132.90     1326.0          0.08474   \n",
       "2        19.69         21.25          130.00     1203.0          0.10960   \n",
       "3        11.42         20.38           77.58      386.1          0.14250   \n",
       "4        20.29         14.34          135.10     1297.0          0.10030   \n",
       "\n",
       "   mean compactness  mean concavity  mean concave points  mean symmetry  \\\n",
       "0           0.27760          0.3001              0.14710         0.2419   \n",
       "1           0.07864          0.0869              0.07017         0.1812   \n",
       "2           0.15990          0.1974              0.12790         0.2069   \n",
       "3           0.28390          0.2414              0.10520         0.2597   \n",
       "4           0.13280          0.1980              0.10430         0.1809   \n",
       "\n",
       "   mean fractal dimension  ...  worst radius  worst texture  worst perimeter  \\\n",
       "0                 0.07871  ...         25.38          17.33           184.60   \n",
       "1                 0.05667  ...         24.99          23.41           158.80   \n",
       "2                 0.05999  ...         23.57          25.53           152.50   \n",
       "3                 0.09744  ...         14.91          26.50            98.87   \n",
       "4                 0.05883  ...         22.54          16.67           152.20   \n",
       "\n",
       "   worst area  worst smoothness  worst compactness  worst concavity  \\\n",
       "0      2019.0            0.1622             0.6656           0.7119   \n",
       "1      1956.0            0.1238             0.1866           0.2416   \n",
       "2      1709.0            0.1444             0.4245           0.4504   \n",
       "3       567.7            0.2098             0.8663           0.6869   \n",
       "4      1575.0            0.1374             0.2050           0.4000   \n",
       "\n",
       "   worst concave points  worst symmetry  worst fractal dimension  \n",
       "0                0.2654          0.4601                  0.11890  \n",
       "1                0.1860          0.2750                  0.08902  \n",
       "2                0.2430          0.3613                  0.08758  \n",
       "3                0.2575          0.6638                  0.17300  \n",
       "4                0.1625          0.2364                  0.07678  \n",
       "\n",
       "[5 rows x 30 columns]"
      ]
     },
     "execution_count": 9,
     "metadata": {},
     "output_type": "execute_result"
    }
   ],
   "source": [
    "df.head()"
   ]
  },
  {
   "cell_type": "code",
   "execution_count": 10,
   "metadata": {
    "tags": []
   },
   "outputs": [],
   "source": [
    "from sklearn.model_selection import train_test_split\n",
    "\n",
    "X_train, X_test, y_train, y_test = train_test_split(X, y)"
   ]
  },
  {
   "cell_type": "code",
   "execution_count": 11,
   "metadata": {
    "tags": []
   },
   "outputs": [
    {
     "data": {
      "text/plain": [
       "StandardScaler()"
      ]
     },
     "execution_count": 11,
     "metadata": {},
     "output_type": "execute_result"
    }
   ],
   "source": [
    "from sklearn.preprocessing import StandardScaler\n",
    "\n",
    "scaler = StandardScaler()\n",
    "\n",
    "# Fit only to the training data\n",
    "scaler.fit(X_train)"
   ]
  },
  {
   "cell_type": "markdown",
   "metadata": {},
   "source": [
    "#### Why scale?\n",
    "\n",
    "- to bring the features to the same range\n",
    "\n",
    "- Is it needed always (in ML)\n",
    "    - No\n",
    "        - NB, DT, RF, Adaboost/GB/XGB (why?)\n",
    "            - computing any parameter in terms of the geometrical space\n",
    "    - Yes\n",
    "        - KNN\n",
    "        - Logistic Regression (?)\n",
    "        - SVM (?)\n",
    "        - NN (?)\n",
    "            - Compute the gradient (based on the errors, y - y_hat)\n",
    "                - y_hat is dependent on the col values\n",
    "                    - Xs have different scales, that will affect the error\n",
    "                        - computation of gradients - big/small numbers\n",
    "                            - CONVERGENCE to the min will be an issue\n",
    "                                - NN will take longer to train"
   ]
  },
  {
   "cell_type": "code",
   "execution_count": 12,
   "metadata": {
    "tags": []
   },
   "outputs": [],
   "source": [
    "X_train_std  = scaler.transform(X_train)\n",
    "X_test_std   = scaler.transform(X_test)"
   ]
  },
  {
   "cell_type": "markdown",
   "metadata": {},
   "source": [
    "## train the model"
   ]
  },
  {
   "cell_type": "code",
   "execution_count": 13,
   "metadata": {
    "tags": []
   },
   "outputs": [],
   "source": [
    "from sklearn.neural_network import MLPClassifier"
   ]
  },
  {
   "cell_type": "markdown",
   "metadata": {},
   "source": [
    "- `hidden_layer_sizes` tuple, length = n_layers - 2, default=(100,)\n",
    "    - The ith element represents the number of neurons in the ith hidden layer.\n",
    "    - [64, 32, 16, 8]\n",
    "        - 4 hidden layers\n",
    "            - 1st layer with 64 neurons\n",
    "            - 2nd layer with 32 neurons\n",
    "            - 3rd layer with 16 nodes\n",
    "            - 4th layer with  8 nodes\n",
    "- `activation` \n",
    "    - {‘identity’, ‘logistic’, ‘tanh’, ‘relu’}, default=’relu’\n",
    "        - we will use 'logistic`\n",
    "            - synonymous with `sigmoid`\n",
    "- `solver` {‘lbfgs’, ‘sgd’, ‘adam’}, default=’adam’\n",
    "    - choice of gradient descent\n",
    "    - simple GD will be `sgd`\n",
    "- `batch_size` int, default=’auto’\n",
    "    - typical values \n",
    "        - 256, 200, 128, 64, 32\n",
    "- `learning_rate`\n",
    "    - {‘constant’, ‘invscaling’, ‘adaptive’}, default=’constant’\n",
    "- `learning_rate_init` double, default=0.001\n",
    "    - The initial learning rate used. It controls the step-size in updating the weights. Only used when solver=’sgd’ or ‘adam’.\n",
    "- `max_iter` int, default=200\n",
    "    - Maximum number of iterations. \n",
    "    - The `solver iterates until convergence` (determined by ‘tol’) or this `number of iterations`. \n",
    "    - For stochastic solvers (‘sgd’, ‘adam’), note that this determines the number of epochs (how many times each data point will be used), not the number of gradient steps.\n",
    "- `shuffle` bool, default=True\n",
    "    - Whether to shuffle samples in each iteration. \n",
    "    - Only used when solver=’sgd’ or ‘adam’.\n",
    "- `tol` float, default=1e-4\n",
    "    - threshold\n",
    "    - Tolerance for the optimization. \n",
    "    - When the loss or score is not improving by at least `tol` for `n_iter_no_change` consecutive iterations, unless learning_rate is set to ‘adaptive’, convergence is considered to be reached and training stops.\n",
    "- `verbose` bool, default=False\n",
    "    - Whether to print progress messages to stdout.\n",
    "- `early_stopping` - bool, default=False\n",
    "    - Whether to use early stopping to terminate training when validation score is not improving. \n",
    "    - If set to true, it will automatically set aside 10% of training data as validation and terminate training when `validation score is not improving` by at least `tol` for `n_iter_no_change` consecutive epochs. \n",
    "    - The split is stratified, except in a multilabel setting. Only effective when solver=’sgd’ or ‘adam’\n",
    "- `validation_fraction` float, default=0.1\n",
    "    - The proportion of training data to set aside as validation set for early stopping. Must be between 0 and 1. \n",
    "    - Only used if early_stopping is True\n",
    "    - typical good values \n",
    "        - 20%, 25%, 30%\n",
    "- `n_iter_no_change` int, default=10\n",
    "    - Maximum number of epochs/iterations to not meet `tol` improvement. \n",
    "    - Only effective when solver=’sgd’ or ‘adam’\n",
    "    - typical values \n",
    "        - 10, 15, 20\n",
    "- `random_state` int, RandomState instance, default=None\n",
    "    - Determines random number generation for `weights` and `bias` initialization, `train-test split` if early stopping is used, and batch sampling when solver=’sgd’ or ‘adam’. \n",
    "    - Pass an `int` for reproducible results across multiple function calls."
   ]
  },
  {
   "cell_type": "markdown",
   "metadata": {},
   "source": [
    "SGD \n",
    "- starts with as many samples you have\n",
    "    - compute the weights with however many samples you have right now in the training set\n",
    "    - later , more samples arrive, you push them to the ML model\n",
    "        - incrementally train the model\n",
    "            - the weights will be  adjusted"
   ]
  },
  {
   "cell_type": "markdown",
   "metadata": {},
   "source": [
    "##### Config 1"
   ]
  },
  {
   "cell_type": "code",
   "execution_count": 14,
   "metadata": {
    "tags": []
   },
   "outputs": [],
   "source": [
    "mlp = MLPClassifier(hidden_layer_sizes=(64),           # with 1 l\n",
    "                    activation='logistic',             # same as sigmoid\n",
    "                    solver='sgd',\n",
    "                    batch_size=32,\n",
    "                    learning_rate='constant',\n",
    "                    learning_rate_init=.01,            # .01, .05, .005, .001\n",
    "                    max_iter=1500,\n",
    "                    shuffle=True,\n",
    "                    tol=.0001,                         # .0001, .001, .01, .05\n",
    "                    verbose=False,\n",
    "                    early_stopping=False,               # Always use this, set to True\n",
    "                    validation_fraction=.20,          # 20% is fine\n",
    "                    n_iter_no_change=10,               # 5, 10, 20, 50, less than the max_iter   \n",
    "                    random_state=100\n",
    "                   )"
   ]
  },
  {
   "cell_type": "markdown",
   "metadata": {},
   "source": [
    "##### Config 2"
   ]
  },
  {
   "cell_type": "code",
   "execution_count": 47,
   "metadata": {
    "tags": []
   },
   "outputs": [],
   "source": [
    "# mlp = MLPClassifier(hidden_layer_sizes=(64),           # with 1 l\n",
    "#                     activation='logistic',             # same as sigmoid\n",
    "#                     solver='sgd',\n",
    "#                     batch_size=32,\n",
    "#                     learning_rate='constant',\n",
    "#                     learning_rate_init=.001,           # .01, .05, .005, .001\n",
    "#                     max_iter=1500,\n",
    "#                     shuffle=True,\n",
    "#                     tol=.0001,                         # .0001, .001, .01, .05\n",
    "#                     verbose=False,\n",
    "#                     early_stopping=True,               # Always use this, set to True\n",
    "#                     validation_fraction=.20,           # 20% is fine\n",
    "#                     n_iter_no_change=10,               # 5, 10, 20, 50, less than the max_iter   \n",
    "#                     random_state=100\n",
    "#                    )"
   ]
  },
  {
   "cell_type": "markdown",
   "metadata": {},
   "source": [
    "##### Config 3\n",
    "- play with more than 1 layer (32, 16, 8)\n",
    "- with activation set to 'sigmoid' \n",
    "    - this will degrade the performance\n",
    "        - sigmoid is not a good choice for hidden layer"
   ]
  },
  {
   "cell_type": "code",
   "execution_count": 64,
   "metadata": {
    "tags": []
   },
   "outputs": [],
   "source": [
    "mlp = MLPClassifier(hidden_layer_sizes=(64),    # with 2 l\n",
    "                    activation='logistic',             # same as sigmoid\n",
    "                    solver='sgd',\n",
    "                    batch_size=32,\n",
    "                    learning_rate='constant',\n",
    "                    learning_rate_init=.01,           # .01, .05, .005, .001\n",
    "                    max_iter=1500,\n",
    "                    shuffle=True,\n",
    "                    tol=.0001,                         # .0001, .001, .01, .05\n",
    "                    verbose=False,\n",
    "                    early_stopping=True,               # Always use this, set to True\n",
    "                    validation_fraction=.20,           # 20% is fine\n",
    "                    n_iter_no_change=10,               # 5, 10, 20, 50, less than the max_iter   \n",
    "                    random_state=100\n",
    "                   )"
   ]
  },
  {
   "cell_type": "markdown",
   "metadata": {},
   "source": [
    "##### Config 4\n",
    "- play with more than 1 layer (32, 16, 8)\n",
    "- with activation set to 'relu' \n",
    "    - this will improve the performance\n"
   ]
  },
  {
   "cell_type": "code",
   "execution_count": 65,
   "metadata": {
    "tags": []
   },
   "outputs": [],
   "source": [
    "# mlp = MLPClassifier(hidden_layer_sizes=(32, 16, 8),    # with 2 l\n",
    "#                     activation='relu',                 # same as sigmoid\n",
    "#                     solver='sgd',\n",
    "#                     batch_size=32,\n",
    "#                     learning_rate='constant',\n",
    "#                     learning_rate_init=.001,           # .01, .05, .005, .001\n",
    "#                     max_iter=1500,\n",
    "#                     shuffle=True,\n",
    "#                     tol=.0001,                         # .0001, .001, .01, .05\n",
    "#                     verbose=False,\n",
    "#                     early_stopping=True,               # Always use this, set to True\n",
    "#                     validation_fraction=.20,           # 20% is fine\n",
    "#                     n_iter_no_change=10,               # 5, 10, 20, 50, less than the max_iter   \n",
    "#                     random_state=100\n",
    "#                    )"
   ]
  },
  {
   "cell_type": "markdown",
   "metadata": {},
   "source": [
    "##### Config 5\n",
    "- 1 layer (32) --- try with 32/16/8/4/3\n",
    "- with activation set to 'relu' \n",
    "    - this will improve the performance\n"
   ]
  },
  {
   "cell_type": "code",
   "execution_count": 66,
   "metadata": {
    "tags": []
   },
   "outputs": [],
   "source": [
    "# mlp = MLPClassifier(hidden_layer_sizes=(4),           # with 1 l\n",
    "#                     activation='relu',                # same as sigmoid\n",
    "#                     solver='sgd',\n",
    "#                     batch_size=32,\n",
    "#                     learning_rate='constant',\n",
    "#                     learning_rate_init=.001,           # .01, .05, .005, .001\n",
    "#                     max_iter=1500,\n",
    "#                     shuffle=True,\n",
    "#                     tol=.0001,                         # .0001, .001, .01, .05\n",
    "#                     verbose=False,\n",
    "#                     early_stopping=True,               # Always use this, set to True\n",
    "#                     validation_fraction=.20,           # 20% is fine\n",
    "#                     n_iter_no_change=50,               # 5, 10, 20, 50, less than the max_iter   \n",
    "#                     random_state=100\n",
    "#                    )"
   ]
  },
  {
   "cell_type": "code",
   "execution_count": 15,
   "metadata": {
    "tags": []
   },
   "outputs": [
    {
     "data": {
      "text/plain": [
       "MLPClassifier(activation='logistic', batch_size=32, hidden_layer_sizes=64,\n",
       "              learning_rate_init=0.01, max_iter=1500, random_state=100,\n",
       "              solver='sgd', validation_fraction=0.2)"
      ]
     },
     "execution_count": 15,
     "metadata": {},
     "output_type": "execute_result"
    }
   ],
   "source": [
    "mlp.fit(X_train_std, y_train)"
   ]
  },
  {
   "cell_type": "markdown",
   "metadata": {},
   "source": [
    "#### Predictions and Evaluation\n",
    " \n",
    "Now that we have a model it is time to use it to get predictions! We can do this simply with the predict() method off of our fitted model:"
   ]
  },
  {
   "cell_type": "code",
   "execution_count": 16,
   "metadata": {
    "tags": []
   },
   "outputs": [],
   "source": [
    "y_pred = mlp.predict(X_test_std)"
   ]
  },
  {
   "cell_type": "code",
   "execution_count": 17,
   "metadata": {
    "tags": []
   },
   "outputs": [
    {
     "name": "stdout",
     "output_type": "stream",
     "text": [
      "[[47  3]\n",
      " [ 1 92]]\n"
     ]
    }
   ],
   "source": [
    "from sklearn.metrics import classification_report, confusion_matrix, accuracy_score\n",
    "\n",
    "print(confusion_matrix(y_test, y_pred))"
   ]
  },
  {
   "cell_type": "code",
   "execution_count": 18,
   "metadata": {
    "tags": []
   },
   "outputs": [
    {
     "name": "stdout",
     "output_type": "stream",
     "text": [
      "              precision    recall  f1-score   support\n",
      "\n",
      "           0       0.98      0.94      0.96        50\n",
      "           1       0.97      0.99      0.98        93\n",
      "\n",
      "    accuracy                           0.97       143\n",
      "   macro avg       0.97      0.96      0.97       143\n",
      "weighted avg       0.97      0.97      0.97       143\n",
      "\n",
      "0.972027972027972\n"
     ]
    }
   ],
   "source": [
    "print(classification_report(y_test,y_pred))\n",
    "print(accuracy_score(y_test, y_pred))"
   ]
  },
  {
   "cell_type": "code",
   "execution_count": 19,
   "metadata": {
    "tags": []
   },
   "outputs": [],
   "source": [
    "#mlp.loss_curve_"
   ]
  },
  {
   "cell_type": "code",
   "execution_count": 20,
   "metadata": {
    "tags": []
   },
   "outputs": [],
   "source": [
    "import matplotlib.pyplot as plt"
   ]
  },
  {
   "cell_type": "code",
   "execution_count": 21,
   "metadata": {
    "tags": []
   },
   "outputs": [
    {
     "data": {
      "image/png": "[encoded data removed]",
      "text/plain": [
       "<Figure size 640x480 with 1 Axes>"
      ]
     },
     "metadata": {},
     "output_type": "display_data"
    }
   ],
   "source": [
    "plt.plot(range(len(mlp.loss_curve_)), mlp.loss_curve_)\n",
    "plt.ylabel('Loss')\n",
    "plt.xlabel('Epochs');"
   ]
  },
  {
   "cell_type": "markdown",
   "metadata": {},
   "source": [
    "extract the MLP __weights__ and __biases__ after training your model, we use its public attributes __coefs___ and __intercepts___.\n",
    "\n",
    "coefs_ is a list of weight matrices, where weight matrix at index i represents the weights between layer i and layer i+1.\n",
    "\n",
    "intercepts_ is a list of bias vectors, where the vector at index i represents the bias values added to layer i+1."
   ]
  },
  {
   "cell_type": "code",
   "execution_count": 605,
   "metadata": {},
   "outputs": [],
   "source": [
    "#mlp.hidden_layer_sizes"
   ]
  },
  {
   "cell_type": "code",
   "execution_count": 606,
   "metadata": {},
   "outputs": [],
   "source": [
    "#len(mlp.coefs_)"
   ]
  },
  {
   "cell_type": "code",
   "execution_count": 607,
   "metadata": {},
   "outputs": [],
   "source": [
    "#len(mlp.coefs_[0])"
   ]
  },
  {
   "cell_type": "code",
   "execution_count": 608,
   "metadata": {},
   "outputs": [],
   "source": [
    "# check the size of weights matrix (between the input and the hidden layer)\n",
    "#mlp.coefs_[0].shape"
   ]
  },
  {
   "cell_type": "code",
   "execution_count": 609,
   "metadata": {},
   "outputs": [],
   "source": [
    "# check the sizepf weights matrix (between the hidden layer and the output)\n",
    "#mlp.coefs_[1].shape"
   ]
  },
  {
   "cell_type": "code",
   "execution_count": 610,
   "metadata": {},
   "outputs": [],
   "source": [
    "#mlp.batch_size"
   ]
  },
  {
   "cell_type": "code",
   "execution_count": 611,
   "metadata": {},
   "outputs": [],
   "source": [
    "#mlp.classes_"
   ]
  },
  {
   "cell_type": "code",
   "execution_count": 612,
   "metadata": {},
   "outputs": [],
   "source": [
    "#len(mlp.intercepts_)"
   ]
  },
  {
   "cell_type": "code",
   "execution_count": 613,
   "metadata": {},
   "outputs": [],
   "source": [
    "#mlp.intercepts_"
   ]
  },
  {
   "cell_type": "code",
   "execution_count": 614,
   "metadata": {},
   "outputs": [],
   "source": [
    "# this should match the number of neurons in the hidden layer\n",
    "#len(mlp.intercepts_[0])"
   ]
  },
  {
   "cell_type": "code",
   "execution_count": 615,
   "metadata": {},
   "outputs": [],
   "source": [
    "# this should match the number of neurons in the output layer\n",
    "#len(mlp.intercepts_[1])"
   ]
  },
  {
   "cell_type": "code",
   "execution_count": null,
   "metadata": {},
   "outputs": [],
   "source": []
  }
 ],
 "metadata": {
  "kernelspec": {
   "display_name": "Python 3 (ipykernel)",
   "language": "python",
   "name": "python3"
  },
  "language_info": {
   "codemirror_mode": {
    "name": "ipython",
    "version": 3
   },
   "file_extension": ".py",
   "mimetype": "text/x-python",
   "name": "python",
   "nbconvert_exporter": "python",
   "pygments_lexer": "ipython3",
   "version": "3.9.13"
  }
 },
 "nbformat": 4,
 "nbformat_minor": 4
}
