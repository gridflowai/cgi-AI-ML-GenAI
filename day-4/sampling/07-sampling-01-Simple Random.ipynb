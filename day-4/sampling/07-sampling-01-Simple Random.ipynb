{
 "cells": [
  {
   "cell_type": "markdown",
   "id": "f2eb9cdb-8c22-46f6-ba86-ac32001f96f2",
   "metadata": {},
   "source": [
    "----------------\n",
    "### simple random sampling\n",
    "--------------------"
   ]
  },
  {
   "cell_type": "code",
   "execution_count": 4,
   "id": "65ec2c71-91e5-4bdc-9b00-beb6847996b5",
   "metadata": {
    "tags": []
   },
   "outputs": [],
   "source": [
    "import random"
   ]
  },
  {
   "cell_type": "code",
   "execution_count": 5,
   "id": "ace6aa8e-9d4c-404f-bf68-25926a4ea072",
   "metadata": {
    "tags": []
   },
   "outputs": [],
   "source": [
    "# Your dataset (a list, for example)\n",
    "dataset = [1, 2, 3, 4, 5, 6, 7, 8, 9, 10, 11, 12, 13, 14, 15]"
   ]
  },
  {
   "cell_type": "code",
   "execution_count": 10,
   "id": "89cf94c1-2706-49d4-add1-7a354e2ce6b1",
   "metadata": {
    "tags": []
   },
   "outputs": [],
   "source": [
    "# Sample size\n",
    "sample_size = 3"
   ]
  },
  {
   "cell_type": "code",
   "execution_count": 11,
   "id": "11e6f896-00c8-45ec-afde-caf8123a58a5",
   "metadata": {
    "tags": []
   },
   "outputs": [],
   "source": [
    "# Perform simple random sampling\n",
    "random_sample = random.sample(dataset, sample_size)"
   ]
  },
  {
   "cell_type": "code",
   "execution_count": 12,
   "id": "a7439df5-d8df-4070-bbc3-f40a0b5acef1",
   "metadata": {
    "tags": []
   },
   "outputs": [
    {
     "name": "stdout",
     "output_type": "stream",
     "text": [
      "Simple Random Sample: [9, 4, 5]\n"
     ]
    }
   ],
   "source": [
    "print(\"Simple Random Sample:\", random_sample)"
   ]
  },
  {
   "cell_type": "code",
   "execution_count": null,
   "id": "e3b44820-cae5-44e2-be0b-810e659f5187",
   "metadata": {},
   "outputs": [],
   "source": []
  }
 ],
 "metadata": {
  "kernelspec": {
   "display_name": "Python 3 (ipykernel)",
   "language": "python",
   "name": "python3"
  },
  "language_info": {
   "codemirror_mode": {
    "name": "ipython",
    "version": 3
   },
   "file_extension": ".py",
   "mimetype": "text/x-python",
   "name": "python",
   "nbconvert_exporter": "python",
   "pygments_lexer": "ipython3",
   "version": "3.9.13"
  }
 },
 "nbformat": 4,
 "nbformat_minor": 5
}
