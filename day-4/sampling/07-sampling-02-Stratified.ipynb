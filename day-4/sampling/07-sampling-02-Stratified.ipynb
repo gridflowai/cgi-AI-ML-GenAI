{
 "cells": [
  {
   "cell_type": "markdown",
   "id": "f2eb9cdb-8c22-46f6-ba86-ac32001f96f2",
   "metadata": {},
   "source": [
    "----------------\n",
    "### Systematic sampling\n",
    "--------------------"
   ]
  },
  {
   "cell_type": "code",
   "execution_count": 1,
   "id": "65ec2c71-91e5-4bdc-9b00-beb6847996b5",
   "metadata": {
    "tags": []
   },
   "outputs": [],
   "source": [
    "import random"
   ]
  },
  {
   "cell_type": "code",
   "execution_count": 2,
   "id": "ab34a68e-b793-4382-900d-a9440aae7b52",
   "metadata": {
    "tags": []
   },
   "outputs": [],
   "source": [
    "# Example data\n",
    "data = [\n",
    "    {'Category': 'A', 'Value': 10},\n",
    "    {'Category': 'A', 'Value': 11},\n",
    "    {'Category': 'A', 'Value': 12},\n",
    "    {'Category': 'B', 'Value': 20},\n",
    "    {'Category': 'B', 'Value': 21},\n",
    "    {'Category': 'B', 'Value': 22},\n",
    "    {'Category': 'C', 'Value': 30},\n",
    "    {'Category': 'C', 'Value': 31},\n",
    "    {'Category': 'C', 'Value': 32},\n",
    "    {'Category': 'C', 'Value': 33}\n",
    "]"
   ]
  },
  {
   "cell_type": "code",
   "execution_count": 4,
   "id": "70950242-e0f6-401e-8b9a-f8517db43955",
   "metadata": {
    "tags": []
   },
   "outputs": [],
   "source": [
    "def stratified_sample(data, stratify_by_key, n_samples_per_group):\n",
    "    grouped_data = {}\n",
    "\n",
    "    # Group data by stratifying key\n",
    "    for item in data:\n",
    "        key = item[stratify_by_key]\n",
    "        if key in grouped_data:\n",
    "            grouped_data[key].append(item)\n",
    "        else:\n",
    "            grouped_data[key] = [item]\n",
    "\n",
    "    sampled_data = []\n",
    "\n",
    "    # Sample from each group\n",
    "    for key, items in grouped_data.items():\n",
    "        sampled_data.extend(random.sample(items, min(n_samples_per_group, len(items))))\n",
    "\n",
    "    return sampled_data"
   ]
  },
  {
   "cell_type": "code",
   "execution_count": 5,
   "id": "883ccb29-f26e-4559-9e0c-c45bbb7e0165",
   "metadata": {
    "tags": []
   },
   "outputs": [
    {
     "name": "stdout",
     "output_type": "stream",
     "text": [
      "[{'Category': 'A', 'Value': 12}, {'Category': 'A', 'Value': 10}, {'Category': 'B', 'Value': 21}, {'Category': 'B', 'Value': 20}, {'Category': 'C', 'Value': 30}, {'Category': 'C', 'Value': 31}]\n"
     ]
    }
   ],
   "source": [
    "sampled_data = stratified_sample(data, 'Category', 2)\n",
    "print(sampled_data)"
   ]
  },
  {
   "cell_type": "code",
   "execution_count": null,
   "id": "8457d111-decb-4943-9e66-fad71411eb0f",
   "metadata": {},
   "outputs": [],
   "source": []
  }
 ],
 "metadata": {
  "kernelspec": {
   "display_name": "Python 3 (ipykernel)",
   "language": "python",
   "name": "python3"
  },
  "language_info": {
   "codemirror_mode": {
    "name": "ipython",
    "version": 3
   },
   "file_extension": ".py",
   "mimetype": "text/x-python",
   "name": "python",
   "nbconvert_exporter": "python",
   "pygments_lexer": "ipython3",
   "version": "3.11.3"
  }
 },
 "nbformat": 4,
 "nbformat_minor": 5
}
