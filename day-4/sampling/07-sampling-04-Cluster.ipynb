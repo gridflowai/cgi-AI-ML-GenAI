{
 "cells": [
  {
   "cell_type": "markdown",
   "id": "f2eb9cdb-8c22-46f6-ba86-ac32001f96f2",
   "metadata": {},
   "source": [
    "----------------\n",
    "### Cluster sampling\n",
    "--------------------"
   ]
  },
  {
   "cell_type": "code",
   "execution_count": 1,
   "id": "65ec2c71-91e5-4bdc-9b00-beb6847996b5",
   "metadata": {
    "tags": []
   },
   "outputs": [],
   "source": [
    "import random\n",
    "import numpy as np"
   ]
  },
  {
   "cell_type": "code",
   "execution_count": 2,
   "id": "70950242-e0f6-401e-8b9a-f8517db43955",
   "metadata": {
    "tags": []
   },
   "outputs": [],
   "source": [
    "# Define data size\n",
    "num_schools         = 5\n",
    "students_per_school = 20"
   ]
  },
  {
   "cell_type": "code",
   "execution_count": 3,
   "id": "25ab1059-c79a-4260-bc38-a50d1fb4bf7a",
   "metadata": {
    "tags": []
   },
   "outputs": [
    {
     "data": {
      "text/plain": [
       "['School1', 'School2', 'School3', 'School4', 'School5']"
      ]
     },
     "execution_count": 3,
     "metadata": {},
     "output_type": "execute_result"
    }
   ],
   "source": [
    "# Create school labels (School1, School2, ... SchoolN)\n",
    "schools = [f\"School{i}\" for i in range(1, num_schools + 1)]\n",
    "schools"
   ]
  },
  {
   "cell_type": "code",
   "execution_count": 5,
   "id": "7ac481d0-551c-45bd-9585-b44f9072c872",
   "metadata": {
    "tags": []
   },
   "outputs": [
    {
     "data": {
      "text/plain": [
       "array([ 55,  60,  89,  66,  88,  92,  52,  82,  66,  63,  99,  81,  86,\n",
       "        91,  54,  84,  83,  95,  97,  72,  70,  62,  95,  93,  65,  97,\n",
       "        54,  66,  89,  78,  99,  89,  90,  77,  80,  77,  79,  88,  98,\n",
       "        78,  67,  71,  51,  67,  51,  77,  95,  51,  97,  70,  61,  73,\n",
       "        91,  84,  75, 100,  86,  72,  80,  66,  97,  65,  92,  73,  65,\n",
       "        53,  85,  89,  51,  62,  50,  55,  88,  60,  81,  89,  76,  96,\n",
       "        73,  57,  82,  51,  94,  97,  95,  84,  93,  91, 100,  97,  98,\n",
       "        86,  88,  50,  84,  93,  53,  74,  84,  70])"
      ]
     },
     "execution_count": 5,
     "metadata": {},
     "output_type": "execute_result"
    }
   ],
   "source": [
    "# Create a hypothetical dataset with scores (between 50 and 100)\n",
    "student_scores = np.random.randint(50, 101, size=num_schools * students_per_school)\n",
    "student_scores"
   ]
  },
  {
   "cell_type": "code",
   "execution_count": 6,
   "id": "6bccfda4-84ba-4c12-add3-936cb2937ef3",
   "metadata": {
    "tags": []
   },
   "outputs": [
    {
     "data": {
      "text/plain": [
       "array(['School1', 'School1', 'School1', 'School1', 'School1', 'School1',\n",
       "       'School1', 'School1', 'School1', 'School1', 'School1', 'School1',\n",
       "       'School1', 'School1', 'School1', 'School1', 'School1', 'School1',\n",
       "       'School1', 'School1', 'School2', 'School2', 'School2', 'School2',\n",
       "       'School2', 'School2', 'School2', 'School2', 'School2', 'School2',\n",
       "       'School2', 'School2', 'School2', 'School2', 'School2', 'School2',\n",
       "       'School2', 'School2', 'School2', 'School2', 'School3', 'School3',\n",
       "       'School3', 'School3', 'School3', 'School3', 'School3', 'School3',\n",
       "       'School3', 'School3', 'School3', 'School3', 'School3', 'School3',\n",
       "       'School3', 'School3', 'School3', 'School3', 'School3', 'School3',\n",
       "       'School4', 'School4', 'School4', 'School4', 'School4', 'School4',\n",
       "       'School4', 'School4', 'School4', 'School4', 'School4', 'School4',\n",
       "       'School4', 'School4', 'School4', 'School4', 'School4', 'School4',\n",
       "       'School4', 'School4', 'School5', 'School5', 'School5', 'School5',\n",
       "       'School5', 'School5', 'School5', 'School5', 'School5', 'School5',\n",
       "       'School5', 'School5', 'School5', 'School5', 'School5', 'School5',\n",
       "       'School5', 'School5', 'School5', 'School5'], dtype='<U7')"
      ]
     },
     "execution_count": 6,
     "metadata": {},
     "output_type": "execute_result"
    }
   ],
   "source": [
    "# Assign each score to a school\n",
    "assigned_schools = np.repeat(a      = schools, \n",
    "                             repeats= students_per_school)\n",
    "assigned_schools"
   ]
  },
  {
   "cell_type": "code",
   "execution_count": 7,
   "id": "20ba1c21-983f-44c9-ad88-aa079e196fa9",
   "metadata": {
    "tags": []
   },
   "outputs": [],
   "source": [
    "# Group data by schools (cluster)\n",
    "clusters = {school: student_scores[assigned_schools == school] for school in schools}"
   ]
  },
  {
   "cell_type": "code",
   "execution_count": 13,
   "id": "4924369a-7930-4d38-9831-d3d57c261329",
   "metadata": {
    "tags": []
   },
   "outputs": [
    {
     "data": {
      "text/plain": [
       "{'School1': array([100,  67,  73,  67,  96,  71,  74,  89,  99,  73,  82,  93,  68,\n",
       "         90,  88,  70,  57,  62,  92,  86]),\n",
       " 'School2': array([ 79,  95,  77,  79,  75,  97,  68,  86,  97,  55,  89,  91, 100,\n",
       "         50,  65,  82,  81,  86,  70,  73]),\n",
       " 'School3': array([84, 67, 69, 84, 89, 80, 91, 99, 71, 99, 98, 50, 83, 53, 71, 80, 50,\n",
       "        85, 93, 70]),\n",
       " 'School4': array([86, 71, 82, 61, 92, 67, 81, 87, 77, 80, 65, 81, 93, 88, 70, 67, 61,\n",
       "        74, 56, 73]),\n",
       " 'School5': array([82, 55, 59, 65, 90, 85, 58, 72, 68, 51, 78, 97, 54, 92, 58, 50, 69,\n",
       "        59, 65, 68])}"
      ]
     },
     "execution_count": 13,
     "metadata": {},
     "output_type": "execute_result"
    }
   ],
   "source": [
    "clusters"
   ]
  },
  {
   "cell_type": "code",
   "execution_count": 12,
   "id": "298229b4-284d-46e4-9b50-09efdfa010d6",
   "metadata": {
    "tags": []
   },
   "outputs": [
    {
     "data": {
      "text/plain": [
       "array(['School4', 'School2'], dtype='<U7')"
      ]
     },
     "execution_count": 12,
     "metadata": {},
     "output_type": "execute_result"
    }
   ],
   "source": [
    "# Select a number of clusters (schools) to sample\n",
    "n_clusters = 2\n",
    "selected_schools = np.random.choice(a      = schools, \n",
    "                                    size   = n_clusters, \n",
    "                                    replace= False)\n",
    "selected_schools"
   ]
  },
  {
   "cell_type": "code",
   "execution_count": 13,
   "id": "ca8ca2e4-7cf3-4219-a58e-0d556f90d26d",
   "metadata": {
    "tags": []
   },
   "outputs": [],
   "source": [
    "# Extract sampled data\n",
    "sampled_data = {school: clusters[school] for school in selected_schools}"
   ]
  },
  {
   "cell_type": "code",
   "execution_count": 14,
   "id": "c45ab947-1407-48f6-ba4f-83dcd6a67f08",
   "metadata": {
    "tags": []
   },
   "outputs": [
    {
     "name": "stdout",
     "output_type": "stream",
     "text": [
      "School4: [97 65 92 73 65 53 85 89 51 62 50 55 88 60 81 89 76 96 73 57]\n",
      "School2: [70 62 95 93 65 97 54 66 89 78 99 89 90 77 80 77 79 88 98 78]\n"
     ]
    }
   ],
   "source": [
    "# Print sampled data\n",
    "for school, scores in sampled_data.items():\n",
    "    print(f\"{school}: {scores}\")"
   ]
  },
  {
   "cell_type": "code",
   "execution_count": null,
   "id": "b13ada5c-c1f0-45b3-ac66-5826e39bd285",
   "metadata": {},
   "outputs": [],
   "source": []
  }
 ],
 "metadata": {
  "kernelspec": {
   "display_name": "Python 3 (ipykernel)",
   "language": "python",
   "name": "python3"
  },
  "language_info": {
   "codemirror_mode": {
    "name": "ipython",
    "version": 3
   },
   "file_extension": ".py",
   "mimetype": "text/x-python",
   "name": "python",
   "nbconvert_exporter": "python",
   "pygments_lexer": "ipython3",
   "version": "3.11.4"
  }
 },
 "nbformat": 4,
 "nbformat_minor": 5
}
