{
 "cells": [
  {
   "cell_type": "markdown",
   "id": "f2eb9cdb-8c22-46f6-ba86-ac32001f96f2",
   "metadata": {},
   "source": [
    "----------------\n",
    "### Systematic sampling\n",
    "--------------------"
   ]
  },
  {
   "cell_type": "code",
   "execution_count": 7,
   "id": "65ec2c71-91e5-4bdc-9b00-beb6847996b5",
   "metadata": {
    "tags": []
   },
   "outputs": [],
   "source": [
    "import random\n",
    "import numpy as np"
   ]
  },
  {
   "cell_type": "code",
   "execution_count": 8,
   "id": "79dfac64-1bae-44b9-a0e1-5b31b9a8fac3",
   "metadata": {
    "tags": []
   },
   "outputs": [
    {
     "data": {
      "text/plain": [
       "array([50, 77, 63, 76, 68, 64, 71, 50, 60, 66, 85, 66, 77, 91, 35, 83, 11,\n",
       "       61, 14, 98, 92, 74, 14, 90, 15, 41, 12, 39, 62, 67, 87, 78, 97, 41,\n",
       "       44, 90, 84, 49, 35, 25, 97, 92, 94, 96, 53, 94, 33, 17, 33, 86, 37,\n",
       "       10, 12, 32, 79, 57, 34, 93, 73, 19])"
      ]
     },
     "execution_count": 8,
     "metadata": {},
     "output_type": "execute_result"
    }
   ],
   "source": [
    "# data:\n",
    "data = np.random.randint(low=10, high=99, size=60)  # This will create an array [0, 1, ..., 99]\n",
    "data"
   ]
  },
  {
   "cell_type": "code",
   "execution_count": 11,
   "id": "83ea9366-5a54-4149-80e9-1402bebb353c",
   "metadata": {
    "tags": []
   },
   "outputs": [],
   "source": [
    "p"
   ]
  },
  {
   "cell_type": "code",
   "execution_count": 12,
   "id": "837509d9-839e-47ce-80ff-5e282773d4ac",
   "metadata": {
    "tags": []
   },
   "outputs": [
    {
     "data": {
      "text/plain": [
       "array([10, 11, 12, 12, 14, 14, 15, 17, 19, 25, 32, 33, 33, 34, 35, 35, 37,\n",
       "       39, 41, 41, 44, 49, 50, 50, 53, 57, 60, 61, 62, 63, 64, 66, 66, 67,\n",
       "       68, 71, 73, 74, 76, 77, 77, 78, 79, 83, 84, 85, 86, 87, 90, 90, 91,\n",
       "       92, 92, 93, 94, 94, 96, 97, 97, 98])"
      ]
     },
     "execution_count": 12,
     "metadata": {},
     "output_type": "execute_result"
    }
   ],
   "source": [
    "data"
   ]
  },
  {
   "cell_type": "markdown",
   "id": "59862101-0ef6-4f5c-9ba3-012f1ba4e649",
   "metadata": {},
   "source": [
    "#### Perform systematic sampling on data.\n",
    "    \n",
    "- Parameters:\n",
    "    - data (list or numpy array): The data to sample from.\n",
    "    - step (int): The sampling step.\n",
    "\n",
    "- Returns:\n",
    "    - List of sampled data."
   ]
  },
  {
   "cell_type": "code",
   "execution_count": 13,
   "id": "9bf836ac-4877-4135-8554-74c2517e4a84",
   "metadata": {
    "tags": []
   },
   "outputs": [],
   "source": [
    "step = 8"
   ]
  },
  {
   "cell_type": "code",
   "execution_count": 14,
   "id": "fe971879-de76-41a1-a223-77225912a30b",
   "metadata": {
    "tags": []
   },
   "outputs": [
    {
     "data": {
      "text/plain": [
       "array([ 0,  8, 16, 24, 32, 40, 48, 56])"
      ]
     },
     "execution_count": 14,
     "metadata": {},
     "output_type": "execute_result"
    }
   ],
   "source": [
    "index = np.arange(start=0, stop=len(data), step=step)\n",
    "index"
   ]
  },
  {
   "cell_type": "markdown",
   "id": "524e5265-7944-4da2-b80f-df9c003485ee",
   "metadata": {},
   "source": [
    "`Note`: \n",
    "- This approach assumes that the initial starting point is the first item in the list or array. \n",
    "- If you want to start sampling from a random position within the first interval, you can adjust the start index appropriately."
   ]
  },
  {
   "cell_type": "code",
   "execution_count": 15,
   "id": "ab34a68e-b793-4382-900d-a9440aae7b52",
   "metadata": {
    "tags": []
   },
   "outputs": [
    {
     "data": {
      "text/plain": [
       "array([10, 19, 37, 53, 66, 77, 90, 96])"
      ]
     },
     "execution_count": 15,
     "metadata": {},
     "output_type": "execute_result"
    }
   ],
   "source": [
    "# get the data for the selected index\n",
    "data[index]"
   ]
  },
  {
   "cell_type": "markdown",
   "id": "b8b5183e-005b-4381-8e8e-54eba54fbaaa",
   "metadata": {},
   "source": [
    "#### better example with TS data (stock prices)"
   ]
  },
  {
   "cell_type": "code",
   "execution_count": null,
   "id": "9876455a-4a6b-470f-8960-48b757f20c7f",
   "metadata": {},
   "outputs": [],
   "source": []
  }
 ],
 "metadata": {
  "kernelspec": {
   "display_name": "Python 3 (ipykernel)",
   "language": "python",
   "name": "python3"
  },
  "language_info": {
   "codemirror_mode": {
    "name": "ipython",
    "version": 3
   },
   "file_extension": ".py",
   "mimetype": "text/x-python",
   "name": "python",
   "nbconvert_exporter": "python",
   "pygments_lexer": "ipython3",
   "version": "3.9.13"
  }
 },
 "nbformat": 4,
 "nbformat_minor": 5
}
