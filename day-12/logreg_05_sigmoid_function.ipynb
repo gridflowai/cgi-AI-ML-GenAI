{
 "cells": [
  {
   "cell_type": "markdown",
   "metadata": {},
   "source": [
    "--------------------------\n",
    "## Sigmoid function\n",
    "---------------------------\n",
    "\n",
    "- In mathematical definition way of saying the sigmoid function take any range real number and returns the output value which falls in the range of 0 to 1.\n",
    "\n",
    "$$ f(x) = \\frac{1}{1 + e^{-x}}$$"
   ]
  },
  {
   "cell_type": "code",
   "execution_count": 1,
   "metadata": {
    "tags": []
   },
   "outputs": [],
   "source": [
    "import numpy as np\n",
    "import matplotlib.pyplot as plt"
   ]
  },
  {
   "cell_type": "markdown",
   "metadata": {},
   "source": [
    "$$\\large y = b_0 + b_1.X_1 + b_2.X_2 + b_3.X_3 ...$$\n",
    "\n",
    "this value of y is sent as an input to the sigmoid function"
   ]
  },
  {
   "cell_type": "code",
   "execution_count": 2,
   "metadata": {
    "tags": []
   },
   "outputs": [],
   "source": [
    "def sigmoid(input):\n",
    "    \"\"\"\n",
    "    Calculate the sigmoid for the give inputs (array)\n",
    "    :param inputs:\n",
    "    :return:\n",
    "    \"\"\"\n",
    "    sigmoid_scores = 1 / float(1 + np.exp(- input)) \n",
    "    \n",
    "    return sigmoid_scores"
   ]
  },
  {
   "cell_type": "code",
   "execution_count": 3,
   "metadata": {
    "tags": []
   },
   "outputs": [
    {
     "name": "stderr",
     "output_type": "stream",
     "text": [
      "C:\\Users\\bhupe\\AppData\\Local\\Temp\\ipykernel_60592\\563563076.py:7: RuntimeWarning: overflow encountered in exp\n",
      "  sigmoid_scores = 1 / float(1 + np.exp(- input))\n"
     ]
    },
    {
     "data": {
      "text/plain": [
       "0.0"
      ]
     },
     "execution_count": 3,
     "metadata": {},
     "output_type": "execute_result"
    }
   ],
   "source": [
    "sigmoid(-10000)"
   ]
  },
  {
   "cell_type": "code",
   "execution_count": 4,
   "metadata": {
    "tags": []
   },
   "outputs": [
    {
     "data": {
      "text/plain": [
       "0.9999546021312976"
      ]
     },
     "execution_count": 4,
     "metadata": {},
     "output_type": "execute_result"
    }
   ],
   "source": [
    "sigmoid(10)"
   ]
  },
  {
   "cell_type": "code",
   "execution_count": 5,
   "metadata": {
    "tags": []
   },
   "outputs": [
    {
     "data": {
      "text/plain": [
       "0.5001249999973958"
      ]
     },
     "execution_count": 5,
     "metadata": {},
     "output_type": "execute_result"
    }
   ],
   "source": [
    "sigmoid(.0005)"
   ]
  },
  {
   "cell_type": "code",
   "execution_count": 6,
   "metadata": {
    "tags": []
   },
   "outputs": [
    {
     "name": "stdout",
     "output_type": "stream",
     "text": [
      "Sigmoid Function Output of : -600000.0 is : 0.0\n",
      "Sigmoid Function Output of : -2.0 is : 0.11920292202211755\n",
      "Sigmoid Function Output of : -3.0 is : 0.04742587317756678\n",
      "Sigmoid Function Output of : -5.0 is : 0.0066928509242848554\n",
      "Sigmoid Function Output of : -6.0 is : 0.0024726231566347743\n",
      "Sigmoid Function Output of : 0.0 is : 0.5\n",
      "Sigmoid Function Output of : 1e-07 is : 0.500000025\n",
      "Sigmoid Function Output of : 0.01 is : 0.5024999791668749\n",
      "Sigmoid Function Output of : 0.1 is : 0.52497918747894\n",
      "Sigmoid Function Output of : 0.5 is : 0.6224593312018546\n",
      "Sigmoid Function Output of : 1.0 is : 0.7310585786300049\n",
      "Sigmoid Function Output of : 10.0 is : 0.9999546021312976\n",
      "Sigmoid Function Output of : 60.0 is : 1.0\n",
      "Sigmoid Function Output of : 600000.0 is : 1.0\n"
     ]
    },
    {
     "name": "stderr",
     "output_type": "stream",
     "text": [
      "C:\\Users\\bhupe\\AppData\\Local\\Temp\\ipykernel_60592\\563563076.py:7: RuntimeWarning: overflow encountered in exp\n",
      "  sigmoid_scores = 1 / float(1 + np.exp(- input))\n"
     ]
    }
   ],
   "source": [
    "inputs = np.array([-600000, -2, -3, -5, -6, 0, .0000001, .01, .1, .5, 1, 10, 60, 600000])\n",
    "\n",
    "for inp in inputs:\n",
    "    print (\"Sigmoid Function Output of : {} is : {}\".format(inp, sigmoid(inp)))"
   ]
  },
  {
   "cell_type": "code",
   "execution_count": 5,
   "metadata": {},
   "outputs": [],
   "source": [
    "# Creating Sigmoid Function Graph\n",
    "# Now let’s use the above function to create the graph to understand the nature of the sigmoid function.\n",
    "\n",
    "# We are going to pass a list which contains numbers in the range 0 to 21.\n",
    "# Will compute the sigmoid scores for the list we passed.\n",
    "# Then we will use the outputs values to visualize the graph."
   ]
  },
  {
   "cell_type": "code",
   "execution_count": 7,
   "metadata": {
    "tags": []
   },
   "outputs": [],
   "source": [
    "def sigmoid_array(inputs):\n",
    "    \"\"\"\n",
    "    Calculate the sigmoid for the give inputs (array)\n",
    "    :param inputs:\n",
    "    :return:\n",
    "    \"\"\"\n",
    "    sigmoid_scores = [1 / float(1 + np.exp(- x)) for x in inputs]\n",
    "    return sigmoid_scores"
   ]
  },
  {
   "cell_type": "code",
   "execution_count": 9,
   "metadata": {
    "tags": []
   },
   "outputs": [],
   "source": [
    "input_x = range(-30, 30)\n",
    "\n",
    "output_y = sigmoid_array(input_x)"
   ]
  },
  {
   "cell_type": "code",
   "execution_count": 10,
   "metadata": {
    "tags": []
   },
   "outputs": [
    {
     "name": "stdout",
     "output_type": "stream",
     "text": [
      "Graph X readings: range(-30, 30)\n",
      "Graph Y readings: [9.357622968839299e-14, 2.543665647376276e-13, 6.914400106935423e-13, 1.8795288165355508e-12, 5.109089028037221e-12, 1.3887943864771144e-11, 3.7751345441365816e-11, 1.0261879630648827e-10, 2.7894680920908113e-10, 7.582560422162385e-10, 2.0611536181902037e-09, 5.602796406145941e-09, 1.522997951276035e-08, 4.1399375473943306e-08, 1.12535162055095e-07, 3.059022269256247e-07, 8.315280276641321e-07, 2.2603242979035746e-06, 6.144174602214718e-06, 1.670142184809518e-05, 4.5397868702434395e-05, 0.00012339457598623172, 0.0003353501304664781, 0.0009110511944006454, 0.0024726231566347743, 0.0066928509242848554, 0.01798620996209156, 0.04742587317756678, 0.11920292202211755, 0.2689414213699951, 0.5, 0.7310585786300049, 0.8807970779778823, 0.9525741268224334, 0.9820137900379085, 0.9933071490757153, 0.9975273768433653, 0.9990889488055994, 0.9996646498695336, 0.9998766054240137, 0.9999546021312976, 0.999983298578152, 0.9999938558253978, 0.999997739675702, 0.9999991684719722, 0.999999694097773, 0.9999998874648379, 0.9999999586006244, 0.9999999847700205, 0.9999999943972036, 0.9999999979388463, 0.9999999992417439, 0.9999999997210531, 0.9999999998973812, 0.9999999999622486, 0.999999999986112, 0.999999999994891, 0.9999999999981204, 0.9999999999993086, 0.9999999999997455]\n"
     ]
    }
   ],
   "source": [
    "print (\"Graph X readings: {}\".format(input_x))\n",
    "print (\"Graph Y readings: {}\".format(output_y))"
   ]
  },
  {
   "cell_type": "code",
   "execution_count": 13,
   "metadata": {
    "tags": []
   },
   "outputs": [
    {
     "data": {
      "text/plain": [
       "Text(0, 0.5, 'Sigmoid Scores')"
      ]
     },
     "execution_count": 13,
     "metadata": {},
     "output_type": "execute_result"
    },
    {
     "data": {
      "image/png": "[encoded data removed]",
      "text/plain": [
       "<Figure size 1200x600 with 1 Axes>"
      ]
     },
     "metadata": {},
     "output_type": "display_data"
    }
   ],
   "source": [
    "plt.figure(figsize=(12,6))\n",
    "\n",
    "plt.plot(input_x, output_y)\n",
    "\n",
    "plt.axhline(y=0.5, color='r')\n",
    "plt.axvline(x=0,   color='r')\n",
    "plt.grid()\n",
    "plt.xlabel('Inputs')\n",
    "plt.ylabel('Sigmoid Scores')"
   ]
  },
  {
   "cell_type": "markdown",
   "metadata": {},
   "source": [
    "Benefits of sigmoid function\n",
    "- returns the output between {0,1}\n",
    "- output can be treated like a range probabilities\n",
    "- we can decide our cut-off"
   ]
  },
  {
   "cell_type": "markdown",
   "metadata": {},
   "source": [
    "Example 1\n",
    "\n",
    "- some blood test for a presence any symptoms\n",
    "    - if present, POSITIVE, (1)\n",
    "    - if not present, NEGATIVE (0)\n",
    "    \n",
    "    - cutoff = 0.3\n",
    "    \n",
    "        - if sigmoid(prob) >  cutoff then we predict it as POSITIVE (1)\n",
    "        - if sigmoid(prob) <= cutoff then we predict it as NEGATIVE (0)"
   ]
  },
  {
   "cell_type": "markdown",
   "metadata": {},
   "source": [
    "Example 2\n",
    "\n",
    "- Spam detection in sms/email\n",
    "    - if present, POSITIVE, (1)\n",
    "    - if not present, NEGATIVE (0)\n",
    "    \n",
    "    - cutoff = 0.65\n",
    "    \n",
    "        - if sigmoid(prob) >  cutoff then we predict it as POSITIVE (1)\n",
    "        - if sigmoid(prob) <= cutoff then we predict it as NEGATIVE (0)"
   ]
  },
  {
   "cell_type": "markdown",
   "metadata": {},
   "source": [
    "# Summary\n",
    "\n",
    "- Predict 1, if f(x) $\\ge$ 0.5. This happens only when x $\\ge$ 0\n",
    "\n",
    "\n",
    "- predict 0, if f(x) $\\lt$ 0.5. This happens only when x $\\lt$ 0"
   ]
  },
  {
   "cell_type": "code",
   "execution_count": 11,
   "metadata": {
    "tags": []
   },
   "outputs": [],
   "source": [
    "import numpy as np\n",
    "from scipy.special import expit, logit"
   ]
  },
  {
   "cell_type": "code",
   "execution_count": 12,
   "metadata": {
    "tags": []
   },
   "outputs": [
    {
     "data": {
      "text/plain": [
       "array([0.        , 0.18242552, 0.5       , 0.81757448, 1.        ])"
      ]
     },
     "execution_count": 12,
     "metadata": {},
     "output_type": "execute_result"
    }
   ],
   "source": [
    "expit([-np.inf, -1.5, 0, 1.5, np.inf])"
   ]
  },
  {
   "cell_type": "code",
   "execution_count": 13,
   "metadata": {
    "tags": []
   },
   "outputs": [
    {
     "data": {
      "text/plain": [
       "Text(0.5, 1.0, 'expit(x)')"
      ]
     },
     "execution_count": 13,
     "metadata": {},
     "output_type": "execute_result"
    },
    {
     "data": {
      "image/png": "[encoded data removed]",
      "text/plain": [
       "<Figure size 640x480 with 1 Axes>"
      ]
     },
     "metadata": {},
     "output_type": "display_data"
    }
   ],
   "source": [
    "import matplotlib.pyplot as plt\n",
    "x = np.linspace(-6, 6, 121)\n",
    "y = expit(x)\n",
    "plt.plot(x, y)\n",
    "plt.grid()\n",
    "plt.xlim(-6, 6)\n",
    "plt.xlabel('x')\n",
    "plt.title('expit(x)')"
   ]
  },
  {
   "cell_type": "code",
   "execution_count": null,
   "metadata": {},
   "outputs": [],
   "source": []
  }
 ],
 "metadata": {
  "kernelspec": {
   "display_name": "Python 3 (ipykernel)",
   "language": "python",
   "name": "python3"
  },
  "language_info": {
   "codemirror_mode": {
    "name": "ipython",
    "version": 3
   },
   "file_extension": ".py",
   "mimetype": "text/x-python",
   "name": "python",
   "nbconvert_exporter": "python",
   "pygments_lexer": "ipython3",
   "version": "3.9.13"
  }
 },
 "nbformat": 4,
 "nbformat_minor": 4
}
