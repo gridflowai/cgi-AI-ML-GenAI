{
 "cells": [
  {
   "cell_type": "markdown",
   "id": "7ba3edb8-6417-4c3b-b11a-8cb2d00c054f",
   "metadata": {},
   "source": [
    "---------------------\n",
    "### using the Synthetic Minority Over-sampling Technique (SMOTE) \n",
    "- to handle class imbalance with logistic regression. \n",
    "----------------------"
   ]
  },
  {
   "cell_type": "code",
   "execution_count": null,
   "id": "3d5df881-d8bb-441b-b3e0-a45cd8a62ceb",
   "metadata": {
    "tags": []
   },
   "outputs": [],
   "source": [
    "#!pip install --upgrade scikit-learn imbalanced-learn"
   ]
  },
  {
   "cell_type": "code",
   "execution_count": 1,
   "id": "42bb4163-6235-46ad-b344-7b45e51348c7",
   "metadata": {
    "tags": []
   },
   "outputs": [],
   "source": [
    "import numpy as np\n",
    "import pandas as pd\n",
    "\n",
    "# ML model\n",
    "from sklearn.linear_model import LogisticRegression\n",
    "\n",
    "# synthetic data generation\n",
    "from imblearn.over_sampling import SMOTE\n",
    "\n",
    "from sklearn.datasets import make_classification\n",
    "from sklearn.model_selection import train_test_split\n",
    "from sklearn.metrics import classification_report, accuracy_score, confusion_matrix"
   ]
  },
  {
   "cell_type": "code",
   "execution_count": 2,
   "id": "dbb91d43-06d9-41a1-9ae3-76a6dc611eaa",
   "metadata": {
    "tags": []
   },
   "outputs": [],
   "source": [
    "# Generate a suitable imbalanced dataset (You can replace this with your dataset)\n",
    "X, y = make_classification(n_classes    = 2, \n",
    "                           weights      = [0.95, 0.05], \n",
    "                           n_samples    = 1000, \n",
    "                           random_state = 42)"
   ]
  },
  {
   "cell_type": "code",
   "execution_count": 3,
   "id": "c81edd6f-a013-4392-a216-79332202679e",
   "metadata": {
    "tags": []
   },
   "outputs": [],
   "source": [
    "# Split the dataset into training and testing sets\n",
    "X_train, X_test, y_train, y_test = train_test_split(X, y, test_size=0.3, random_state=42)"
   ]
  },
  {
   "cell_type": "code",
   "execution_count": 5,
   "id": "3794c3c0-075e-43fd-a489-288fb1662114",
   "metadata": {
    "tags": []
   },
   "outputs": [
    {
     "name": "stdout",
     "output_type": "stream",
     "text": [
      "Class distribution in the original dataset:\n",
      "0    663\n",
      "1     37\n",
      "dtype: int64\n"
     ]
    }
   ],
   "source": [
    "# Print class distribution in the original dataset\n",
    "print(\"Class distribution in the original dataset:\")\n",
    "print(pd.Series(y_train).value_counts())"
   ]
  },
  {
   "cell_type": "markdown",
   "id": "1bb5de39-a0c1-463d-8696-44f8a2e0b42a",
   "metadata": {},
   "source": [
    "#### model performance with imb dataset"
   ]
  },
  {
   "cell_type": "code",
   "execution_count": 6,
   "id": "d657a0e6-3f91-4f34-b1d5-ec70e61660f2",
   "metadata": {
    "tags": []
   },
   "outputs": [
    {
     "data": {
      "text/plain": [
       "array([[280,   4],\n",
       "       [ 13,   3]], dtype=int64)"
      ]
     },
     "execution_count": 6,
     "metadata": {},
     "output_type": "execute_result"
    }
   ],
   "source": [
    "# Train a logistic regression model on the resampled data\n",
    "logreg = LogisticRegression()\n",
    "logreg.fit(X_train, y_train)\n",
    "\n",
    "# Make predictions on the test set\n",
    "y_pred = logreg.predict(X_test)\n",
    "\n",
    "confusion_matrix(y_test, y_pred)"
   ]
  },
  {
   "cell_type": "markdown",
   "id": "ac5dbbc5-0ba5-401f-90ac-b11c5433207a",
   "metadata": {},
   "source": [
    "#### apply SMOTE on the dataset"
   ]
  },
  {
   "cell_type": "code",
   "execution_count": 7,
   "id": "1447dc3b-725d-4dad-8549-f71cca73e610",
   "metadata": {
    "tags": []
   },
   "outputs": [],
   "source": [
    "# Apply SMOTE to balance the classes\n",
    "smote = SMOTE(sampling_strategy='auto', random_state=42)"
   ]
  },
  {
   "cell_type": "code",
   "execution_count": 8,
   "id": "88bbff35-c143-4082-aa6f-39c5a711c45a",
   "metadata": {
    "tags": []
   },
   "outputs": [],
   "source": [
    "X_train_resampled, y_train_resampled = smote.fit_resample(X_train, y_train)"
   ]
  },
  {
   "cell_type": "code",
   "execution_count": 10,
   "id": "3a4a7abe-ba00-4f82-9ecd-3ed91450cd85",
   "metadata": {
    "tags": []
   },
   "outputs": [
    {
     "name": "stdout",
     "output_type": "stream",
     "text": [
      "\n",
      "Class distribution after SMOTE:\n",
      "0    663\n",
      "1    663\n",
      "dtype: int64\n"
     ]
    }
   ],
   "source": [
    "# Print class distribution after applying SMOTE\n",
    "print(\"\\nClass distribution after SMOTE:\")\n",
    "print(pd.Series(y_train_resampled).value_counts())"
   ]
  },
  {
   "cell_type": "markdown",
   "id": "fd4b2de1-2531-4006-84b5-6684f558de1c",
   "metadata": {},
   "source": [
    "#### check model performance"
   ]
  },
  {
   "cell_type": "code",
   "execution_count": 25,
   "id": "272a1d80-6882-4981-9808-5ddc133c2afc",
   "metadata": {
    "tags": []
   },
   "outputs": [
    {
     "data": {
      "text/plain": [
       "array([[242,  42],\n",
       "       [  6,  10]], dtype=int64)"
      ]
     },
     "execution_count": 25,
     "metadata": {},
     "output_type": "execute_result"
    }
   ],
   "source": [
    "# Train a logistic regression model on the resampled data\n",
    "logreg = LogisticRegression()\n",
    "logreg.fit(X_train_resampled, y_train_resampled)\n",
    "\n",
    "# Make predictions on the test set\n",
    "y_pred = logreg.predict(X_test)\n",
    "\n",
    "confusion_matrix(y_test, y_pred)"
   ]
  },
  {
   "cell_type": "code",
   "execution_count": 26,
   "id": "220aadca-bdc4-47a8-bb58-bb51becc446e",
   "metadata": {
    "tags": []
   },
   "outputs": [
    {
     "name": "stdout",
     "output_type": "stream",
     "text": [
      "\n",
      "Classification Report:\n",
      "              precision    recall  f1-score   support\n",
      "\n",
      "           0       0.98      0.85      0.91       284\n",
      "           1       0.19      0.62      0.29        16\n",
      "\n",
      "    accuracy                           0.84       300\n",
      "   macro avg       0.58      0.74      0.60       300\n",
      "weighted avg       0.93      0.84      0.88       300\n",
      "\n"
     ]
    }
   ],
   "source": [
    "# Evaluate the model\n",
    "print(\"\\nClassification Report:\")\n",
    "print(classification_report(y_test, y_pred))"
   ]
  },
  {
   "cell_type": "markdown",
   "id": "0cc1d7a8-1e8c-442a-b275-92661ab2e52a",
   "metadata": {},
   "source": [
    "#### Example - 02 (credit card default.csv)"
   ]
  },
  {
   "cell_type": "code",
   "execution_count": 34,
   "id": "178c5725-89f0-4a92-aa94-ab411e0c8a39",
   "metadata": {
    "tags": []
   },
   "outputs": [],
   "source": [
    "df = pd.read_csv(r'D:\\AI-DATASETS\\02-MISC-large\\creditcard.csv')"
   ]
  },
  {
   "cell_type": "code",
   "execution_count": 35,
   "id": "98ce02af-2824-4eb2-a76b-aae1bd20018f",
   "metadata": {
    "tags": []
   },
   "outputs": [
    {
     "data": {
      "text/plain": [
       "(284807, 31)"
      ]
     },
     "execution_count": 35,
     "metadata": {},
     "output_type": "execute_result"
    }
   ],
   "source": [
    "df.shape"
   ]
  },
  {
   "cell_type": "code",
   "execution_count": 36,
   "id": "993a4c78-01da-4752-a598-d75eef1f4f5a",
   "metadata": {
    "tags": []
   },
   "outputs": [
    {
     "data": {
      "text/html": [
       "<div>\n",
       "<style scoped>\n",
       "    .dataframe tbody tr th:only-of-type {\n",
       "        vertical-align: middle;\n",
       "    }\n",
       "\n",
       "    .dataframe tbody tr th {\n",
       "        vertical-align: top;\n",
       "    }\n",
       "\n",
       "    .dataframe thead th {\n",
       "        text-align: right;\n",
       "    }\n",
       "</style>\n",
       "<table border=\"1\" class=\"dataframe\">\n",
       "  <thead>\n",
       "    <tr style=\"text-align: right;\">\n",
       "      <th></th>\n",
       "      <th>Time</th>\n",
       "      <th>V1</th>\n",
       "      <th>V2</th>\n",
       "      <th>V3</th>\n",
       "      <th>V4</th>\n",
       "      <th>V5</th>\n",
       "      <th>V6</th>\n",
       "      <th>V7</th>\n",
       "      <th>V8</th>\n",
       "      <th>V9</th>\n",
       "      <th>...</th>\n",
       "      <th>V21</th>\n",
       "      <th>V22</th>\n",
       "      <th>V23</th>\n",
       "      <th>V24</th>\n",
       "      <th>V25</th>\n",
       "      <th>V26</th>\n",
       "      <th>V27</th>\n",
       "      <th>V28</th>\n",
       "      <th>Amount</th>\n",
       "      <th>Class</th>\n",
       "    </tr>\n",
       "  </thead>\n",
       "  <tbody>\n",
       "    <tr>\n",
       "      <th>244477</th>\n",
       "      <td>152372.0</td>\n",
       "      <td>2.032084</td>\n",
       "      <td>-0.038046</td>\n",
       "      <td>-1.434243</td>\n",
       "      <td>0.134510</td>\n",
       "      <td>0.332904</td>\n",
       "      <td>-0.546143</td>\n",
       "      <td>0.107450</td>\n",
       "      <td>-0.159242</td>\n",
       "      <td>0.267287</td>\n",
       "      <td>...</td>\n",
       "      <td>0.302280</td>\n",
       "      <td>0.989175</td>\n",
       "      <td>0.029482</td>\n",
       "      <td>0.750390</td>\n",
       "      <td>0.250701</td>\n",
       "      <td>-0.159923</td>\n",
       "      <td>-0.022750</td>\n",
       "      <td>-0.061403</td>\n",
       "      <td>1.00</td>\n",
       "      <td>0</td>\n",
       "    </tr>\n",
       "    <tr>\n",
       "      <th>18116</th>\n",
       "      <td>29200.0</td>\n",
       "      <td>1.152481</td>\n",
       "      <td>0.200501</td>\n",
       "      <td>0.700710</td>\n",
       "      <td>0.703845</td>\n",
       "      <td>-0.530779</td>\n",
       "      <td>-0.812785</td>\n",
       "      <td>0.042175</td>\n",
       "      <td>-0.128100</td>\n",
       "      <td>-0.058919</td>\n",
       "      <td>...</td>\n",
       "      <td>-0.181479</td>\n",
       "      <td>-0.505874</td>\n",
       "      <td>0.214386</td>\n",
       "      <td>0.613156</td>\n",
       "      <td>0.082207</td>\n",
       "      <td>0.088383</td>\n",
       "      <td>-0.011880</td>\n",
       "      <td>0.024362</td>\n",
       "      <td>16.00</td>\n",
       "      <td>0</td>\n",
       "    </tr>\n",
       "    <tr>\n",
       "      <th>83418</th>\n",
       "      <td>59841.0</td>\n",
       "      <td>1.320125</td>\n",
       "      <td>-0.665264</td>\n",
       "      <td>0.045940</td>\n",
       "      <td>-0.664811</td>\n",
       "      <td>-0.742951</td>\n",
       "      <td>-0.339117</td>\n",
       "      <td>-0.538817</td>\n",
       "      <td>0.068727</td>\n",
       "      <td>-0.801768</td>\n",
       "      <td>...</td>\n",
       "      <td>0.218575</td>\n",
       "      <td>0.593415</td>\n",
       "      <td>-0.138575</td>\n",
       "      <td>0.030392</td>\n",
       "      <td>0.633261</td>\n",
       "      <td>-0.048640</td>\n",
       "      <td>-0.007835</td>\n",
       "      <td>-0.011247</td>\n",
       "      <td>20.00</td>\n",
       "      <td>0</td>\n",
       "    </tr>\n",
       "    <tr>\n",
       "      <th>176996</th>\n",
       "      <td>122996.0</td>\n",
       "      <td>2.060038</td>\n",
       "      <td>-0.044358</td>\n",
       "      <td>-1.059489</td>\n",
       "      <td>0.418157</td>\n",
       "      <td>-0.138852</td>\n",
       "      <td>-1.216017</td>\n",
       "      <td>0.193947</td>\n",
       "      <td>-0.342407</td>\n",
       "      <td>0.523278</td>\n",
       "      <td>...</td>\n",
       "      <td>-0.286807</td>\n",
       "      <td>-0.688435</td>\n",
       "      <td>0.339139</td>\n",
       "      <td>0.049527</td>\n",
       "      <td>-0.295983</td>\n",
       "      <td>0.194899</td>\n",
       "      <td>-0.070133</td>\n",
       "      <td>-0.059442</td>\n",
       "      <td>2.69</td>\n",
       "      <td>0</td>\n",
       "    </tr>\n",
       "    <tr>\n",
       "      <th>141526</th>\n",
       "      <td>84376.0</td>\n",
       "      <td>-0.835906</td>\n",
       "      <td>1.298390</td>\n",
       "      <td>1.284521</td>\n",
       "      <td>0.467270</td>\n",
       "      <td>0.463769</td>\n",
       "      <td>0.763769</td>\n",
       "      <td>0.124683</td>\n",
       "      <td>0.616315</td>\n",
       "      <td>-0.801928</td>\n",
       "      <td>...</td>\n",
       "      <td>-0.148763</td>\n",
       "      <td>-0.532360</td>\n",
       "      <td>-0.269017</td>\n",
       "      <td>-1.344259</td>\n",
       "      <td>0.280494</td>\n",
       "      <td>-0.373317</td>\n",
       "      <td>-0.010818</td>\n",
       "      <td>0.006589</td>\n",
       "      <td>5.00</td>\n",
       "      <td>0</td>\n",
       "    </tr>\n",
       "  </tbody>\n",
       "</table>\n",
       "<p>5 rows × 31 columns</p>\n",
       "</div>"
      ],
      "text/plain": [
       "            Time        V1        V2        V3        V4        V5        V6  \\\n",
       "244477  152372.0  2.032084 -0.038046 -1.434243  0.134510  0.332904 -0.546143   \n",
       "18116    29200.0  1.152481  0.200501  0.700710  0.703845 -0.530779 -0.812785   \n",
       "83418    59841.0  1.320125 -0.665264  0.045940 -0.664811 -0.742951 -0.339117   \n",
       "176996  122996.0  2.060038 -0.044358 -1.059489  0.418157 -0.138852 -1.216017   \n",
       "141526   84376.0 -0.835906  1.298390  1.284521  0.467270  0.463769  0.763769   \n",
       "\n",
       "              V7        V8        V9  ...       V21       V22       V23  \\\n",
       "244477  0.107450 -0.159242  0.267287  ...  0.302280  0.989175  0.029482   \n",
       "18116   0.042175 -0.128100 -0.058919  ... -0.181479 -0.505874  0.214386   \n",
       "83418  -0.538817  0.068727 -0.801768  ...  0.218575  0.593415 -0.138575   \n",
       "176996  0.193947 -0.342407  0.523278  ... -0.286807 -0.688435  0.339139   \n",
       "141526  0.124683  0.616315 -0.801928  ... -0.148763 -0.532360 -0.269017   \n",
       "\n",
       "             V24       V25       V26       V27       V28  Amount  Class  \n",
       "244477  0.750390  0.250701 -0.159923 -0.022750 -0.061403    1.00      0  \n",
       "18116   0.613156  0.082207  0.088383 -0.011880  0.024362   16.00      0  \n",
       "83418   0.030392  0.633261 -0.048640 -0.007835 -0.011247   20.00      0  \n",
       "176996  0.049527 -0.295983  0.194899 -0.070133 -0.059442    2.69      0  \n",
       "141526 -1.344259  0.280494 -0.373317 -0.010818  0.006589    5.00      0  \n",
       "\n",
       "[5 rows x 31 columns]"
      ]
     },
     "execution_count": 36,
     "metadata": {},
     "output_type": "execute_result"
    }
   ],
   "source": [
    "df.sample(5)"
   ]
  },
  {
   "cell_type": "code",
   "execution_count": 37,
   "id": "7851e6c5-5fff-4a0e-bbe8-d54fec7d92b6",
   "metadata": {
    "tags": []
   },
   "outputs": [
    {
     "data": {
      "text/plain": [
       "0    284315\n",
       "1       492\n",
       "Name: Class, dtype: int64"
      ]
     },
     "execution_count": 37,
     "metadata": {},
     "output_type": "execute_result"
    }
   ],
   "source": [
    "df.Class.value_counts()"
   ]
  },
  {
   "cell_type": "code",
   "execution_count": 46,
   "id": "389234df-6ad2-43ef-9b14-40774c5e8eae",
   "metadata": {
    "tags": []
   },
   "outputs": [],
   "source": [
    "X = df.drop(['Class'], axis=1)\n",
    "y = df.Class"
   ]
  },
  {
   "cell_type": "code",
   "execution_count": 47,
   "id": "998b3ef2-6180-400a-a8a4-a22fd42017e6",
   "metadata": {
    "tags": []
   },
   "outputs": [],
   "source": [
    "# Split the dataset into training and testing sets\n",
    "X_train, X_test, y_train, y_test = train_test_split(X, y, test_size=0.3, random_state=42)"
   ]
  },
  {
   "cell_type": "markdown",
   "id": "e49aca1c-493e-40aa-b5a9-415aaa23194e",
   "metadata": {},
   "source": [
    "#### apply SMOTE on the dataset"
   ]
  },
  {
   "cell_type": "code",
   "execution_count": 48,
   "id": "9726c673-0e0c-4ae6-ae5b-211622b8e446",
   "metadata": {
    "tags": []
   },
   "outputs": [],
   "source": [
    "# Apply SMOTE to balance the classes\n",
    "smote = SMOTE(sampling_strategy='minority', random_state=42)"
   ]
  },
  {
   "cell_type": "code",
   "execution_count": 49,
   "id": "adf95701-0d01-478a-af03-a8b7a24b91f8",
   "metadata": {
    "tags": []
   },
   "outputs": [],
   "source": [
    "X_train_resampled, y_train_resampled = smote.fit_resample(X_train, y_train)"
   ]
  },
  {
   "cell_type": "code",
   "execution_count": 50,
   "id": "000751e6-8d1e-432c-9aab-88e3b889850d",
   "metadata": {
    "tags": []
   },
   "outputs": [
    {
     "name": "stdout",
     "output_type": "stream",
     "text": [
      "\n",
      "Class distribution after SMOTE:\n",
      "0    199008\n",
      "1    199008\n",
      "Name: Class, dtype: int64\n"
     ]
    }
   ],
   "source": [
    "# Print class distribution after applying SMOTE\n",
    "print(\"\\nClass distribution after SMOTE:\")\n",
    "print(pd.Series(y_train_resampled).value_counts())"
   ]
  },
  {
   "cell_type": "markdown",
   "id": "f63ace9b-2842-4787-833c-7035da27b482",
   "metadata": {},
   "source": [
    "#### check model performance"
   ]
  },
  {
   "cell_type": "code",
   "execution_count": 51,
   "id": "5619c65e-b29a-40e8-8ead-9090e8f9ccbc",
   "metadata": {
    "tags": []
   },
   "outputs": [
    {
     "data": {
      "text/plain": [
       "array([[83828,  1479],\n",
       "       [   12,   124]], dtype=int64)"
      ]
     },
     "execution_count": 51,
     "metadata": {},
     "output_type": "execute_result"
    }
   ],
   "source": [
    "# Train a logistic regression model on the resampled data\n",
    "logreg = LogisticRegression()\n",
    "logreg.fit(X_train_resampled, y_train_resampled)\n",
    "\n",
    "# Make predictions on the test set\n",
    "y_pred = logreg.predict(X_test)\n",
    "\n",
    "confusion_matrix(y_test, y_pred)"
   ]
  },
  {
   "cell_type": "code",
   "execution_count": 52,
   "id": "ba03b6f2-378b-4e85-b099-a790af98631e",
   "metadata": {
    "tags": []
   },
   "outputs": [
    {
     "name": "stdout",
     "output_type": "stream",
     "text": [
      "\n",
      "Classification Report:\n",
      "              precision    recall  f1-score   support\n",
      "\n",
      "           0       1.00      0.98      0.99     85307\n",
      "           1       0.08      0.91      0.14       136\n",
      "\n",
      "    accuracy                           0.98     85443\n",
      "   macro avg       0.54      0.95      0.57     85443\n",
      "weighted avg       1.00      0.98      0.99     85443\n",
      "\n"
     ]
    }
   ],
   "source": [
    "# Evaluate the model\n",
    "print(\"\\nClassification Report:\")\n",
    "print(classification_report(y_test, y_pred))"
   ]
  },
  {
   "cell_type": "code",
   "execution_count": null,
   "id": "ebd228a1-38d9-4010-b242-fa36910b1524",
   "metadata": {},
   "outputs": [],
   "source": []
  }
 ],
 "metadata": {
  "kernelspec": {
   "display_name": "Python 3 (ipykernel)",
   "language": "python",
   "name": "python3"
  },
  "language_info": {
   "codemirror_mode": {
    "name": "ipython",
    "version": 3
   },
   "file_extension": ".py",
   "mimetype": "text/x-python",
   "name": "python",
   "nbconvert_exporter": "python",
   "pygments_lexer": "ipython3",
   "version": "3.9.13"
  }
 },
 "nbformat": 4,
 "nbformat_minor": 5
}
