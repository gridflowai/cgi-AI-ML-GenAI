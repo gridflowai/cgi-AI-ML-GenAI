{
 "cells": [
  {
   "cell_type": "code",
   "execution_count": 1,
   "metadata": {},
   "outputs": [],
   "source": [
    "import glob\n",
    "import numpy as np\n",
    "import matplotlib.pyplot as plt\n",
    "from keras.preprocessing.image import load_img, img_to_array, array_to_img\n",
    "from keras.models import load_model\n",
    "import model_evaluation_utils as meu"
   ]
  },
  {
   "cell_type": "code",
   "execution_count": 2,
   "metadata": {},
   "outputs": [],
   "source": [
    "location_basic_cnn   = r'D:\\AI-notebook-dir\\01 - AI-DS-ML-DL-ADL\\45 - ADL - Transfer Learning\\transfer_learning_models_save\\01_basic_CNN_weights.h5'\n",
    "location_img_aug_cnn = r'D:\\AI-notebook-dir\\01 - AI-DS-ML-DL-ADL\\45 - ADL - Transfer Learning\\transfer_learning_models_save\\02_CNN_reg_weights.h5'\n",
    "location_reg_aug_cnn      = r'D:\\AI-notebook-dir\\01 - AI-DS-ML-DL-ADL\\45 - ADL - Transfer Learning\\transfer_learning_models_save\\03_CNN_reg_aug_weights.h5'\n",
    "location_tl_img_aug_cnn = r'D:\\AI-notebook-dir\\01 - AI-DS-ML-DL-ADL\\45 - ADL - Transfer Learning\\transfer_learning_models_save\\05_CNN_TL_aug__weights.h5'"
   ]
  },
  {
   "cell_type": "code",
   "execution_count": null,
   "metadata": {},
   "outputs": [],
   "source": [
    "basic_cnn = load_model('cats_dogs_basic_cnn.h5')\n",
    "img_aug_cnn = load_model('cats_dogs_cnn_img_aug.h5')\n",
    "tl_cnn = load_model('cats_dogs_tlearn_basic_cnn.h5')\n",
    "tl_img_aug_cnn = load_model('cats_dogs_tlearn_img_aug_cnn.h5')\n",
    "tl_img_aug_finetune_cnn = load_model('cats_dogs_tlearn_finetune_img_aug_cnn.h5')"
   ]
  },
  {
   "cell_type": "code",
   "execution_count": null,
   "metadata": {},
   "outputs": [],
   "source": []
  },
  {
   "cell_type": "code",
   "execution_count": null,
   "metadata": {},
   "outputs": [],
   "source": []
  }
 ],
 "metadata": {
  "interpreter": {
   "hash": "ae7890921ac3c17143ff000ac7152addc6614e2051824da39aa37dab63d26d82"
  },
  "kernelspec": {
   "display_name": "Python 3.9.7 ('base')",
   "language": "python",
   "name": "python3"
  },
  "language_info": {
   "codemirror_mode": {
    "name": "ipython",
    "version": 3
   },
   "file_extension": ".py",
   "mimetype": "text/x-python",
   "name": "python",
   "nbconvert_exporter": "python",
   "pygments_lexer": "ipython3",
   "version": "3.9.7"
  },
  "orig_nbformat": 4
 },
 "nbformat": 4,
 "nbformat_minor": 2
}
