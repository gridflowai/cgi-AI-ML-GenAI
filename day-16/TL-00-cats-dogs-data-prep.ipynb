{
 "cells": [
  {
   "cell_type": "markdown",
   "id": "318c622b-a89a-4e2a-8eb2-bef1b0bbf369",
   "metadata": {},
   "source": [
    "------------------\n",
    "#### Building our dataset\n",
    "\n",
    "- cats/dogs dataset ... https://www.kaggle.com/competitions/dogs-vs-cats/data\n",
    "\n",
    "---------------------------"
   ]
  },
  {
   "cell_type": "code",
   "execution_count": 2,
   "id": "22bea227-64da-4768-b71c-8b6c156f77c3",
   "metadata": {
    "tags": []
   },
   "outputs": [],
   "source": [
    "import glob\n",
    "import numpy as np\n",
    "import os\n",
    "import shutil\n",
    "from utils import log_progress"
   ]
  },
  {
   "cell_type": "code",
   "execution_count": 3,
   "id": "c6df959e-9897-41a4-8eee-120d4f42f1fa",
   "metadata": {
    "tags": []
   },
   "outputs": [],
   "source": [
    "location_train = r'D:\\AI-DATASETS\\02-MISC-large\\keras\\datasets\\cats-dogs-data-LARGE\\train'"
   ]
  },
  {
   "cell_type": "code",
   "execution_count": 4,
   "id": "dcf29cb9",
   "metadata": {
    "tags": []
   },
   "outputs": [],
   "source": [
    "files = glob.glob(location_train+'\\*')"
   ]
  },
  {
   "cell_type": "code",
   "execution_count": 5,
   "id": "6e5a7f26",
   "metadata": {
    "tags": []
   },
   "outputs": [
    {
     "data": {
      "text/plain": [
       "(12500, 12500)"
      ]
     },
     "execution_count": 5,
     "metadata": {},
     "output_type": "execute_result"
    }
   ],
   "source": [
    "cat_files = [fn for fn in files if 'cat.' in fn]\n",
    "dog_files = [fn for fn in files if 'dog.' in fn]\n",
    "\n",
    "len(cat_files), len(dog_files)"
   ]
  },
  {
   "cell_type": "markdown",
   "id": "9ea3c45c",
   "metadata": {},
   "source": [
    "We can verify with the preceding output that we have 12,500 images for each category.\n",
    "\n",
    "Let's now build our smaller dataset so that we have \n",
    "- 3,000 images for training, \n",
    "- 1,000 images for validation, and \n",
    "- 1,000 images for our test dataset \n",
    "\n",
    "(with equal representation for the two animal categories):"
   ]
  },
  {
   "cell_type": "markdown",
   "id": "37d68059",
   "metadata": {},
   "source": [
    "**Get training samples** \n",
    "- 1500 each of cat and dog"
   ]
  },
  {
   "cell_type": "code",
   "execution_count": 6,
   "id": "b173ab63",
   "metadata": {
    "tags": []
   },
   "outputs": [],
   "source": [
    "cat_train = np.random.choice(cat_files, size=750, replace=False)\n",
    "dog_train = np.random.choice(dog_files, size=750, replace=False)"
   ]
  },
  {
   "cell_type": "code",
   "execution_count": 7,
   "id": "5ff76609",
   "metadata": {
    "tags": []
   },
   "outputs": [],
   "source": [
    "cat_files = list(set(cat_files) - set(cat_train))\n",
    "dog_files = list(set(dog_files) - set(dog_train))"
   ]
  },
  {
   "cell_type": "code",
   "execution_count": 8,
   "id": "25063d30",
   "metadata": {
    "tags": []
   },
   "outputs": [
    {
     "data": {
      "text/plain": [
       "(11750, 11750)"
      ]
     },
     "execution_count": 8,
     "metadata": {},
     "output_type": "execute_result"
    }
   ],
   "source": [
    "len(cat_files), len(dog_files)"
   ]
  },
  {
   "cell_type": "markdown",
   "id": "b6309f2e",
   "metadata": {},
   "source": [
    "**Get validation samples**\n",
    "- 500 each of cat and dog"
   ]
  },
  {
   "cell_type": "code",
   "execution_count": 9,
   "id": "66f03575",
   "metadata": {
    "tags": []
   },
   "outputs": [],
   "source": [
    "cat_val = np.random.choice(cat_files, size=100, replace=False)\n",
    "dog_val = np.random.choice(dog_files, size=100, replace=False)"
   ]
  },
  {
   "cell_type": "code",
   "execution_count": 10,
   "id": "796e4ac8",
   "metadata": {
    "tags": []
   },
   "outputs": [],
   "source": [
    "cat_files = list(set(cat_files) - set(cat_val))\n",
    "dog_files = list(set(dog_files) - set(dog_val))"
   ]
  },
  {
   "cell_type": "code",
   "execution_count": 11,
   "id": "5c7330f3",
   "metadata": {
    "tags": []
   },
   "outputs": [
    {
     "data": {
      "text/plain": [
       "(11650, 11650)"
      ]
     },
     "execution_count": 11,
     "metadata": {},
     "output_type": "execute_result"
    }
   ],
   "source": [
    "len(cat_files), len(dog_files)"
   ]
  },
  {
   "cell_type": "markdown",
   "id": "8ee2f2a8",
   "metadata": {},
   "source": [
    "**Get test samples**\n",
    "- 500 samples each of cat and dog"
   ]
  },
  {
   "cell_type": "code",
   "execution_count": 12,
   "id": "4d49c2a6",
   "metadata": {
    "tags": []
   },
   "outputs": [],
   "source": [
    "cat_test = np.random.choice(cat_files, size=50, replace=False)\n",
    "dog_test = np.random.choice(dog_files, size=50, replace=False)"
   ]
  },
  {
   "cell_type": "code",
   "execution_count": 13,
   "id": "004e18b5",
   "metadata": {
    "tags": []
   },
   "outputs": [
    {
     "name": "stdout",
     "output_type": "stream",
     "text": [
      "Cat datasets: (750,) (100,) (50,)\n",
      "Dog datasets: (750,) (100,) (50,)\n"
     ]
    }
   ],
   "source": [
    "print('Cat datasets:', cat_train.shape, cat_val.shape, cat_test.shape)\n",
    "print('Dog datasets:', dog_train.shape, dog_val.shape, dog_test.shape)"
   ]
  },
  {
   "cell_type": "markdown",
   "id": "6f732826",
   "metadata": {},
   "source": [
    "let's `write` them out to our `disk` in separate folders, so that we can come back to them anytime in the future without worrying if they are present in our main memory"
   ]
  },
  {
   "cell_type": "markdown",
   "id": "aeb858c6",
   "metadata": {},
   "source": [
    "**name of directories of train/val/test sets**"
   ]
  },
  {
   "cell_type": "code",
   "execution_count": 14,
   "id": "caacbb3a",
   "metadata": {
    "tags": []
   },
   "outputs": [],
   "source": [
    "train_dir = location_train+'\\\\'+'training_data'\n",
    "val_dir   = location_train+'\\\\'+'validation_data'\n",
    "test_dir  = location_train+'\\\\'+'test_data'"
   ]
  },
  {
   "cell_type": "markdown",
   "id": "b2086315",
   "metadata": {},
   "source": [
    "**delete train/val/test folders - if existing**"
   ]
  },
  {
   "cell_type": "code",
   "execution_count": 15,
   "id": "4385773a",
   "metadata": {
    "tags": []
   },
   "outputs": [],
   "source": [
    "shutil.rmtree(train_dir) if os.path.isdir(train_dir) else None\n",
    "shutil.rmtree(val_dir)   if os.path.isdir(val_dir)   else None\n",
    "shutil.rmtree(test_dir)  if os.path.isdir(test_dir)  else None"
   ]
  },
  {
   "cell_type": "markdown",
   "id": "d45fecf8",
   "metadata": {},
   "source": [
    "**create the train/val/test folders, if not created already**"
   ]
  },
  {
   "cell_type": "code",
   "execution_count": 16,
   "id": "d6c28d63",
   "metadata": {
    "tags": []
   },
   "outputs": [],
   "source": [
    "os.mkdir(train_dir) if not os.path.isdir(train_dir) else None\n",
    "os.mkdir(val_dir)   if not os.path.isdir(val_dir)   else None\n",
    "os.mkdir(test_dir)  if not os.path.isdir(test_dir)  else None"
   ]
  },
  {
   "cell_type": "code",
   "execution_count": 17,
   "id": "7f779147",
   "metadata": {
    "tags": []
   },
   "outputs": [],
   "source": [
    "train_files    = np.concatenate([cat_train, dog_train])\n",
    "validate_files = np.concatenate([cat_val,   dog_val])\n",
    "test_files     = np.concatenate([cat_test,  dog_test])"
   ]
  },
  {
   "cell_type": "code",
   "execution_count": 18,
   "id": "7cd4cbae",
   "metadata": {
    "tags": []
   },
   "outputs": [
    {
     "data": {
      "application/vnd.jupyter.widget-view+json": {
       "model_id": "b309af661534471ba95303a46361e82d",
       "version_major": 2,
       "version_minor": 0
      },
      "text/plain": [
       "VBox(children=(HTML(value=''), IntProgress(value=0, max=1500)))"
      ]
     },
     "metadata": {},
     "output_type": "display_data"
    },
    {
     "data": {
      "application/vnd.jupyter.widget-view+json": {
       "model_id": "9c9da8b62b37499084f2ad5d3da161a9",
       "version_major": 2,
       "version_minor": 0
      },
      "text/plain": [
       "VBox(children=(HTML(value=''), IntProgress(value=0, max=200)))"
      ]
     },
     "metadata": {},
     "output_type": "display_data"
    },
    {
     "data": {
      "application/vnd.jupyter.widget-view+json": {
       "model_id": "f7694beef2e04250a12772442eec3d53",
       "version_major": 2,
       "version_minor": 0
      },
      "text/plain": [
       "VBox(children=(HTML(value=''), IntProgress(value=0)))"
      ]
     },
     "metadata": {},
     "output_type": "display_data"
    }
   ],
   "source": [
    "for fn in log_progress(train_files,    name='Training Images'):\n",
    "    shutil.copy(fn, train_dir)\n",
    "    \n",
    "for fn in log_progress(validate_files, name='Validation Images'):\n",
    "    shutil.copy(fn, val_dir)\n",
    "    \n",
    "for fn in log_progress(test_files,     name='Test Images'):\n",
    "    shutil.copy(fn, test_dir)"
   ]
  },
  {
   "cell_type": "code",
   "execution_count": null,
   "id": "2a082947",
   "metadata": {},
   "outputs": [],
   "source": []
  }
 ],
 "metadata": {
  "kernelspec": {
   "display_name": "Python 3 (ipykernel)",
   "language": "python",
   "name": "python3"
  },
  "language_info": {
   "codemirror_mode": {
    "name": "ipython",
    "version": 3
   },
   "file_extension": ".py",
   "mimetype": "text/x-python",
   "name": "python",
   "nbconvert_exporter": "python",
   "pygments_lexer": "ipython3",
   "version": "3.9.13"
  }
 },
 "nbformat": 4,
 "nbformat_minor": 5
}
