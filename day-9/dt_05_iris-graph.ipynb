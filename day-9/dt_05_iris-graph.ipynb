{
 "cells": [
  {
   "cell_type": "markdown",
   "metadata": {},
   "source": [
    "------------------------\n",
    "### Aim : Simple decision tree \n",
    "\n",
    "- on IRIS dataset\n",
    "------------------------"
   ]
  },
  {
   "cell_type": "code",
   "execution_count": 1,
   "metadata": {
    "tags": []
   },
   "outputs": [],
   "source": [
    "import pandas as pd\n",
    "import numpy as np\n",
    "\n",
    "# import plotting libraries\n",
    "import matplotlib.pyplot as plt\n",
    "\n",
    "import seaborn as sns\n",
    "sns.set(style=\"white\", color_codes=True)\n",
    "sns.set(font_scale=1.5)\n",
    "\n",
    "# import the ML algorithm\n",
    "from sklearn.tree import DecisionTreeClassifier"
   ]
  },
  {
   "cell_type": "code",
   "execution_count": 2,
   "metadata": {
    "tags": []
   },
   "outputs": [],
   "source": [
    "location = \"https://github.com/gridflowai/gridflowAI-datasets-icons/raw/master/AI-DATASETS/01-MISC/iris.csv\""
   ]
  },
  {
   "cell_type": "code",
   "execution_count": 3,
   "metadata": {
    "tags": []
   },
   "outputs": [
    {
     "data": {
      "text/html": [
       "<div>\n",
       "<style scoped>\n",
       "    .dataframe tbody tr th:only-of-type {\n",
       "        vertical-align: middle;\n",
       "    }\n",
       "\n",
       "    .dataframe tbody tr th {\n",
       "        vertical-align: top;\n",
       "    }\n",
       "\n",
       "    .dataframe thead th {\n",
       "        text-align: right;\n",
       "    }\n",
       "</style>\n",
       "<table border=\"1\" class=\"dataframe\">\n",
       "  <thead>\n",
       "    <tr style=\"text-align: right;\">\n",
       "      <th></th>\n",
       "      <th>sepal_length</th>\n",
       "      <th>sepal_width</th>\n",
       "      <th>petal_length</th>\n",
       "      <th>petal_width</th>\n",
       "      <th>Class</th>\n",
       "    </tr>\n",
       "  </thead>\n",
       "  <tbody>\n",
       "    <tr>\n",
       "      <th>0</th>\n",
       "      <td>5.1</td>\n",
       "      <td>3.5</td>\n",
       "      <td>1.4</td>\n",
       "      <td>0.2</td>\n",
       "      <td>Iris-setosa</td>\n",
       "    </tr>\n",
       "    <tr>\n",
       "      <th>1</th>\n",
       "      <td>4.9</td>\n",
       "      <td>3.0</td>\n",
       "      <td>1.4</td>\n",
       "      <td>0.2</td>\n",
       "      <td>Iris-setosa</td>\n",
       "    </tr>\n",
       "    <tr>\n",
       "      <th>2</th>\n",
       "      <td>4.7</td>\n",
       "      <td>3.2</td>\n",
       "      <td>1.3</td>\n",
       "      <td>0.2</td>\n",
       "      <td>Iris-setosa</td>\n",
       "    </tr>\n",
       "    <tr>\n",
       "      <th>3</th>\n",
       "      <td>4.6</td>\n",
       "      <td>3.1</td>\n",
       "      <td>1.5</td>\n",
       "      <td>0.2</td>\n",
       "      <td>Iris-setosa</td>\n",
       "    </tr>\n",
       "    <tr>\n",
       "      <th>4</th>\n",
       "      <td>5.0</td>\n",
       "      <td>3.6</td>\n",
       "      <td>1.4</td>\n",
       "      <td>0.2</td>\n",
       "      <td>Iris-setosa</td>\n",
       "    </tr>\n",
       "  </tbody>\n",
       "</table>\n",
       "</div>"
      ],
      "text/plain": [
       "   sepal_length  sepal_width  petal_length  petal_width        Class\n",
       "0           5.1          3.5           1.4          0.2  Iris-setosa\n",
       "1           4.9          3.0           1.4          0.2  Iris-setosa\n",
       "2           4.7          3.2           1.3          0.2  Iris-setosa\n",
       "3           4.6          3.1           1.5          0.2  Iris-setosa\n",
       "4           5.0          3.6           1.4          0.2  Iris-setosa"
      ]
     },
     "execution_count": 3,
     "metadata": {},
     "output_type": "execute_result"
    }
   ],
   "source": [
    "# load the training data \n",
    "df_iris = pd.read_csv(location)\n",
    "df_iris.head()"
   ]
  },
  {
   "cell_type": "code",
   "execution_count": 4,
   "metadata": {
    "tags": []
   },
   "outputs": [],
   "source": [
    "# copy the predictor variables into X and responses in y\n",
    "X = df_iris[['sepal_length','sepal_width', 'petal_length', 'petal_width']]\n",
    "y = df_iris['Class']"
   ]
  },
  {
   "cell_type": "code",
   "execution_count": 5,
   "metadata": {
    "tags": []
   },
   "outputs": [],
   "source": [
    "from sklearn.model_selection import train_test_split"
   ]
  },
  {
   "cell_type": "code",
   "execution_count": 6,
   "metadata": {
    "tags": []
   },
   "outputs": [],
   "source": [
    "# split the data into training and test data\n",
    "X_train, X_test, y_train, y_test = train_test_split(X, y, test_size=0.3, random_state=24)"
   ]
  },
  {
   "cell_type": "code",
   "execution_count": 7,
   "metadata": {
    "tags": []
   },
   "outputs": [],
   "source": [
    "clf = DecisionTreeClassifier(criterion='entropy')\n",
    "clf = clf.fit(X_train, y_train)"
   ]
  },
  {
   "cell_type": "code",
   "execution_count": 8,
   "metadata": {
    "tags": []
   },
   "outputs": [
    {
     "name": "stderr",
     "output_type": "stream",
     "text": [
      "D:\\Anaconda-16-FEB\\lib\\site-packages\\sklearn\\base.py:450: UserWarning: X does not have valid feature names, but DecisionTreeClassifier was fitted with feature names\n",
      "  warnings.warn(\n"
     ]
    },
    {
     "data": {
      "text/plain": [
       "array(['Iris-versicolor'], dtype=object)"
      ]
     },
     "execution_count": 8,
     "metadata": {},
     "output_type": "execute_result"
    }
   ],
   "source": [
    "clf.predict([[1.2, 3.2, 4.2, 5.1]])"
   ]
  },
  {
   "cell_type": "code",
   "execution_count": 8,
   "metadata": {
    "tags": []
   },
   "outputs": [],
   "source": [
    "# Install windows package from: \n",
    "# https://graphviz.gitlab.io/_pages/Download/Download_windows.html\n",
    "# Install python graphviz package (pip install graphviz)\n",
    "# Add ...\\Graphviz2.38\\bin to User path\n",
    "# Add ...\\Graphviz2.38\\bin\\dot.exe to System Path"
   ]
  },
  {
   "cell_type": "code",
   "execution_count": 10,
   "metadata": {
    "tags": []
   },
   "outputs": [
    {
     "name": "stdout",
     "output_type": "stream",
     "text": [
      "Collecting graphviz\n",
      "  Downloading graphviz-0.20.3-py3-none-any.whl (47 kB)\n",
      "     ---------------------------------------- 47.1/47.1 kB 2.3 MB/s eta 0:00:00\n",
      "Installing collected packages: graphviz\n",
      "Successfully installed graphviz-0.20.3\n"
     ]
    },
    {
     "name": "stderr",
     "output_type": "stream",
     "text": [
      "WARNING: Ignoring invalid distribution -rotobuf (c:\\users\\bhupe\\appdata\\roaming\\python\\python39\\site-packages)\n",
      "WARNING: Ignoring invalid distribution -treamlit (d:\\anaconda-16-feb\\lib\\site-packages)\n",
      "WARNING: Ignoring invalid distribution -rotobuf (c:\\users\\bhupe\\appdata\\roaming\\python\\python39\\site-packages)\n",
      "WARNING: Ignoring invalid distribution -treamlit (d:\\anaconda-16-feb\\lib\\site-packages)\n",
      "WARNING: Ignoring invalid distribution -rotobuf (c:\\users\\bhupe\\appdata\\roaming\\python\\python39\\site-packages)\n",
      "WARNING: Ignoring invalid distribution -treamlit (d:\\anaconda-16-feb\\lib\\site-packages)\n",
      "WARNING: Ignoring invalid distribution -treamlit (d:\\anaconda-16-feb\\lib\\site-packages)\n",
      "WARNING: Ignoring invalid distribution -rotobuf (d:\\anaconda-16-feb\\lib\\site-packages)\n",
      "WARNING: Ignoring invalid distribution -rotobuf (c:\\users\\bhupe\\appdata\\roaming\\python\\python39\\site-packages)\n",
      "WARNING: Ignoring invalid distribution -treamlit (d:\\anaconda-16-feb\\lib\\site-packages)\n",
      "WARNING: Ignoring invalid distribution -rotobuf (c:\\users\\bhupe\\appdata\\roaming\\python\\python39\\site-packages)\n",
      "WARNING: Ignoring invalid distribution -treamlit (d:\\anaconda-16-feb\\lib\\site-packages)\n",
      "WARNING: Ignoring invalid distribution -rotobuf (c:\\users\\bhupe\\appdata\\roaming\\python\\python39\\site-packages)\n",
      "WARNING: Ignoring invalid distribution -treamlit (d:\\anaconda-16-feb\\lib\\site-packages)\n"
     ]
    }
   ],
   "source": [
    "!pip install graphviz"
   ]
  },
  {
   "cell_type": "code",
   "execution_count": 11,
   "metadata": {
    "tags": []
   },
   "outputs": [],
   "source": [
    "import graphviz \n",
    "from sklearn.tree import export_graphviz"
   ]
  },
  {
   "cell_type": "code",
   "execution_count": 12,
   "metadata": {
    "tags": []
   },
   "outputs": [
    {
     "name": "stderr",
     "output_type": "stream",
     "text": [
      "C:\\Users\\bhupe\\AppData\\Local\\Temp\\ipykernel_9840\\4232951571.py:1: FutureWarning: In a future version of pandas all arguments of DataFrame.drop except for the argument 'labels' will be keyword-only.\n",
      "  feature_names = df_iris.drop('Class' , 1).columns\n"
     ]
    }
   ],
   "source": [
    "feature_names = df_iris.drop('Class' , 1).columns\n",
    "class_names   = y.unique()"
   ]
  },
  {
   "cell_type": "code",
   "execution_count": 13,
   "metadata": {
    "tags": []
   },
   "outputs": [
    {
     "data": {
      "image/svg+xml": [
       "<?xml version=\"1.0\" encoding=\"UTF-8\" standalone=\"no\"?>\n",
       "<!DOCTYPE svg PUBLIC \"-//W3C//DTD SVG 1.1//EN\"\n",
       " \"http://www.w3.org/Graphics/SVG/1.1/DTD/svg11.dtd\">\n",
       "<!-- Generated by graphviz version 11.0.0 (20240428.1522)\n",
       " -->\n",
       "<!-- Title: Tree Pages: 1 -->\n",
       "<svg width=\"718pt\" height=\"715pt\"\n",
       " viewBox=\"0.00 0.00 718.00 714.50\" xmlns=\"http://www.w3.org/2000/svg\" xmlns:xlink=\"http://www.w3.org/1999/xlink\">\n",
       "<g id=\"graph0\" class=\"graph\" transform=\"scale(1 1) rotate(0) translate(4 710.5)\">\n",
       "<title>Tree</title>\n",
       "<polygon fill=\"white\" stroke=\"none\" points=\"-4,4 -4,-710.5 714,-710.5 714,4 -4,4\"/>\n",
       "<!-- 0 -->\n",
       "<g id=\"node1\" class=\"node\">\n",
       "<title>0</title>\n",
       "<path fill=\"#f7fefa\" stroke=\"black\" d=\"M376,-706.5C376,-706.5 249.75,-706.5 249.75,-706.5 243.75,-706.5 237.75,-700.5 237.75,-694.5 237.75,-694.5 237.75,-628 237.75,-628 237.75,-622 243.75,-616 249.75,-616 249.75,-616 376,-616 376,-616 382,-616 388,-622 388,-628 388,-628 388,-694.5 388,-694.5 388,-700.5 382,-706.5 376,-706.5\"/>\n",
       "<text text-anchor=\"start\" x=\"252.5\" y=\"-689.2\" font-family=\"Helvetica,sans-Serif\" font-size=\"14.00\">petal_length ≤ 2.45</text>\n",
       "<text text-anchor=\"start\" x=\"263\" y=\"-672.7\" font-family=\"Helvetica,sans-Serif\" font-size=\"14.00\">entropy = 1.581</text>\n",
       "<text text-anchor=\"start\" x=\"265.62\" y=\"-656.2\" font-family=\"Helvetica,sans-Serif\" font-size=\"14.00\">samples = 105</text>\n",
       "<text text-anchor=\"start\" x=\"252.5\" y=\"-639.7\" font-family=\"Helvetica,sans-Serif\" font-size=\"14.00\">value = [35, 38, 32]</text>\n",
       "<text text-anchor=\"start\" x=\"245.75\" y=\"-623.2\" font-family=\"Helvetica,sans-Serif\" font-size=\"14.00\">class = Iris&#45;versicolor</text>\n",
       "</g>\n",
       "<!-- 1 -->\n",
       "<g id=\"node2\" class=\"node\">\n",
       "<title>1</title>\n",
       "<path fill=\"#e58139\" stroke=\"black\" d=\"M287.62,-571.75C287.62,-571.75 180.12,-571.75 180.12,-571.75 174.12,-571.75 168.12,-565.75 168.12,-559.75 168.12,-559.75 168.12,-509.75 168.12,-509.75 168.12,-503.75 174.12,-497.75 180.12,-497.75 180.12,-497.75 287.62,-497.75 287.62,-497.75 293.62,-497.75 299.62,-503.75 299.62,-509.75 299.62,-509.75 299.62,-559.75 299.62,-559.75 299.62,-565.75 293.62,-571.75 287.62,-571.75\"/>\n",
       "<text text-anchor=\"start\" x=\"192.25\" y=\"-554.45\" font-family=\"Helvetica,sans-Serif\" font-size=\"14.00\">entropy = 0.0</text>\n",
       "<text text-anchor=\"start\" x=\"190.75\" y=\"-537.95\" font-family=\"Helvetica,sans-Serif\" font-size=\"14.00\">samples = 35</text>\n",
       "<text text-anchor=\"start\" x=\"181.75\" y=\"-521.45\" font-family=\"Helvetica,sans-Serif\" font-size=\"14.00\">value = [35, 0, 0]</text>\n",
       "<text text-anchor=\"start\" x=\"176.12\" y=\"-504.95\" font-family=\"Helvetica,sans-Serif\" font-size=\"14.00\">class = Iris&#45;setosa</text>\n",
       "</g>\n",
       "<!-- 0&#45;&gt;1 -->\n",
       "<g id=\"edge1\" class=\"edge\">\n",
       "<title>0&#45;&gt;1</title>\n",
       "<path fill=\"none\" stroke=\"black\" d=\"M284.58,-615.65C277.52,-604.54 269.95,-592.6 262.86,-581.43\"/>\n",
       "<polygon fill=\"black\" stroke=\"black\" points=\"265.91,-579.7 257.6,-573.13 260,-583.45 265.91,-579.7\"/>\n",
       "<text text-anchor=\"middle\" x=\"251.33\" y=\"-591.2\" font-family=\"Helvetica,sans-Serif\" font-size=\"14.00\">True</text>\n",
       "</g>\n",
       "<!-- 2 -->\n",
       "<g id=\"node3\" class=\"node\">\n",
       "<title>2</title>\n",
       "<path fill=\"#e0fbeb\" stroke=\"black\" d=\"M456,-580C456,-580 329.75,-580 329.75,-580 323.75,-580 317.75,-574 317.75,-568 317.75,-568 317.75,-501.5 317.75,-501.5 317.75,-495.5 323.75,-489.5 329.75,-489.5 329.75,-489.5 456,-489.5 456,-489.5 462,-489.5 468,-495.5 468,-501.5 468,-501.5 468,-568 468,-568 468,-574 462,-580 456,-580\"/>\n",
       "<text text-anchor=\"start\" x=\"335.5\" y=\"-562.7\" font-family=\"Helvetica,sans-Serif\" font-size=\"14.00\">petal_width ≤ 1.65</text>\n",
       "<text text-anchor=\"start\" x=\"343\" y=\"-546.2\" font-family=\"Helvetica,sans-Serif\" font-size=\"14.00\">entropy = 0.995</text>\n",
       "<text text-anchor=\"start\" x=\"349.75\" y=\"-529.7\" font-family=\"Helvetica,sans-Serif\" font-size=\"14.00\">samples = 70</text>\n",
       "<text text-anchor=\"start\" x=\"336.62\" y=\"-513.2\" font-family=\"Helvetica,sans-Serif\" font-size=\"14.00\">value = [0, 38, 32]</text>\n",
       "<text text-anchor=\"start\" x=\"325.75\" y=\"-496.7\" font-family=\"Helvetica,sans-Serif\" font-size=\"14.00\">class = Iris&#45;versicolor</text>\n",
       "</g>\n",
       "<!-- 0&#45;&gt;2 -->\n",
       "<g id=\"edge2\" class=\"edge\">\n",
       "<title>0&#45;&gt;2</title>\n",
       "<path fill=\"none\" stroke=\"black\" d=\"M341.53,-615.65C346.87,-607.34 352.51,-598.57 358.01,-590\"/>\n",
       "<polygon fill=\"black\" stroke=\"black\" points=\"360.87,-592.03 363.33,-581.73 354.98,-588.25 360.87,-592.03\"/>\n",
       "<text text-anchor=\"middle\" x=\"369.47\" y=\"-599.83\" font-family=\"Helvetica,sans-Serif\" font-size=\"14.00\">False</text>\n",
       "</g>\n",
       "<!-- 3 -->\n",
       "<g id=\"node4\" class=\"node\">\n",
       "<title>3</title>\n",
       "<path fill=\"#49e78b\" stroke=\"black\" d=\"M374,-453.5C374,-453.5 247.75,-453.5 247.75,-453.5 241.75,-453.5 235.75,-447.5 235.75,-441.5 235.75,-441.5 235.75,-375 235.75,-375 235.75,-369 241.75,-363 247.75,-363 247.75,-363 374,-363 374,-363 380,-363 386,-369 386,-375 386,-375 386,-441.5 386,-441.5 386,-447.5 380,-453.5 374,-453.5\"/>\n",
       "<text text-anchor=\"start\" x=\"250.5\" y=\"-436.2\" font-family=\"Helvetica,sans-Serif\" font-size=\"14.00\">petal_length ≤ 4.95</text>\n",
       "<text text-anchor=\"start\" x=\"261\" y=\"-419.7\" font-family=\"Helvetica,sans-Serif\" font-size=\"14.00\">entropy = 0.384</text>\n",
       "<text text-anchor=\"start\" x=\"267.75\" y=\"-403.2\" font-family=\"Helvetica,sans-Serif\" font-size=\"14.00\">samples = 40</text>\n",
       "<text text-anchor=\"start\" x=\"258.75\" y=\"-386.7\" font-family=\"Helvetica,sans-Serif\" font-size=\"14.00\">value = [0, 37, 3]</text>\n",
       "<text text-anchor=\"start\" x=\"243.75\" y=\"-370.2\" font-family=\"Helvetica,sans-Serif\" font-size=\"14.00\">class = Iris&#45;versicolor</text>\n",
       "</g>\n",
       "<!-- 2&#45;&gt;3 -->\n",
       "<g id=\"edge3\" class=\"edge\">\n",
       "<title>2&#45;&gt;3</title>\n",
       "<path fill=\"none\" stroke=\"black\" d=\"M363.5,-489.15C358.03,-480.84 352.25,-472.07 346.61,-463.5\"/>\n",
       "<polygon fill=\"black\" stroke=\"black\" points=\"349.57,-461.64 341.15,-455.22 343.73,-465.49 349.57,-461.64\"/>\n",
       "</g>\n",
       "<!-- 10 -->\n",
       "<g id=\"node11\" class=\"node\">\n",
       "<title>10</title>\n",
       "<path fill=\"#8540e6\" stroke=\"black\" d=\"M531.75,-453.5C531.75,-453.5 416,-453.5 416,-453.5 410,-453.5 404,-447.5 404,-441.5 404,-441.5 404,-375 404,-375 404,-369 410,-363 416,-363 416,-363 531.75,-363 531.75,-363 537.75,-363 543.75,-369 543.75,-375 543.75,-375 543.75,-441.5 543.75,-441.5 543.75,-447.5 537.75,-453.5 531.75,-453.5\"/>\n",
       "<text text-anchor=\"start\" x=\"413.5\" y=\"-436.2\" font-family=\"Helvetica,sans-Serif\" font-size=\"14.00\">petal_length ≤ 4.85</text>\n",
       "<text text-anchor=\"start\" x=\"424\" y=\"-419.7\" font-family=\"Helvetica,sans-Serif\" font-size=\"14.00\">entropy = 0.211</text>\n",
       "<text text-anchor=\"start\" x=\"430.75\" y=\"-403.2\" font-family=\"Helvetica,sans-Serif\" font-size=\"14.00\">samples = 30</text>\n",
       "<text text-anchor=\"start\" x=\"421.75\" y=\"-386.7\" font-family=\"Helvetica,sans-Serif\" font-size=\"14.00\">value = [0, 1, 29]</text>\n",
       "<text text-anchor=\"start\" x=\"412\" y=\"-370.2\" font-family=\"Helvetica,sans-Serif\" font-size=\"14.00\">class = Iris&#45;virginica</text>\n",
       "</g>\n",
       "<!-- 2&#45;&gt;10 -->\n",
       "<g id=\"edge10\" class=\"edge\">\n",
       "<title>2&#45;&gt;10</title>\n",
       "<path fill=\"none\" stroke=\"black\" d=\"M421.89,-489.15C427.3,-480.84 433.01,-472.07 438.58,-463.5\"/>\n",
       "<polygon fill=\"black\" stroke=\"black\" points=\"441.45,-465.51 443.97,-455.22 435.58,-461.69 441.45,-465.51\"/>\n",
       "</g>\n",
       "<!-- 4 -->\n",
       "<g id=\"node5\" class=\"node\">\n",
       "<title>4</title>\n",
       "<path fill=\"#39e581\" stroke=\"black\" d=\"M213,-318.75C213,-318.75 86.75,-318.75 86.75,-318.75 80.75,-318.75 74.75,-312.75 74.75,-306.75 74.75,-306.75 74.75,-256.75 74.75,-256.75 74.75,-250.75 80.75,-244.75 86.75,-244.75 86.75,-244.75 213,-244.75 213,-244.75 219,-244.75 225,-250.75 225,-256.75 225,-256.75 225,-306.75 225,-306.75 225,-312.75 219,-318.75 213,-318.75\"/>\n",
       "<text text-anchor=\"start\" x=\"108.25\" y=\"-301.45\" font-family=\"Helvetica,sans-Serif\" font-size=\"14.00\">entropy = 0.0</text>\n",
       "<text text-anchor=\"start\" x=\"106.75\" y=\"-284.95\" font-family=\"Helvetica,sans-Serif\" font-size=\"14.00\">samples = 36</text>\n",
       "<text text-anchor=\"start\" x=\"97.75\" y=\"-268.45\" font-family=\"Helvetica,sans-Serif\" font-size=\"14.00\">value = [0, 36, 0]</text>\n",
       "<text text-anchor=\"start\" x=\"82.75\" y=\"-251.95\" font-family=\"Helvetica,sans-Serif\" font-size=\"14.00\">class = Iris&#45;versicolor</text>\n",
       "</g>\n",
       "<!-- 3&#45;&gt;4 -->\n",
       "<g id=\"edge4\" class=\"edge\">\n",
       "<title>3&#45;&gt;4</title>\n",
       "<path fill=\"none\" stroke=\"black\" d=\"M253.21,-362.65C237.74,-350.7 221.06,-337.79 205.7,-325.92\"/>\n",
       "<polygon fill=\"black\" stroke=\"black\" points=\"208.07,-323.33 198.02,-319.98 203.79,-328.87 208.07,-323.33\"/>\n",
       "</g>\n",
       "<!-- 5 -->\n",
       "<g id=\"node6\" class=\"node\">\n",
       "<title>5</title>\n",
       "<path fill=\"#ab7bee\" stroke=\"black\" d=\"M370.75,-327C370.75,-327 255,-327 255,-327 249,-327 243,-321 243,-315 243,-315 243,-248.5 243,-248.5 243,-242.5 249,-236.5 255,-236.5 255,-236.5 370.75,-236.5 370.75,-236.5 376.75,-236.5 382.75,-242.5 382.75,-248.5 382.75,-248.5 382.75,-315 382.75,-315 382.75,-321 376.75,-327 370.75,-327\"/>\n",
       "<text text-anchor=\"start\" x=\"252.5\" y=\"-309.7\" font-family=\"Helvetica,sans-Serif\" font-size=\"14.00\">petal_length ≤ 5.35</text>\n",
       "<text text-anchor=\"start\" x=\"263\" y=\"-293.2\" font-family=\"Helvetica,sans-Serif\" font-size=\"14.00\">entropy = 0.811</text>\n",
       "<text text-anchor=\"start\" x=\"273.88\" y=\"-276.7\" font-family=\"Helvetica,sans-Serif\" font-size=\"14.00\">samples = 4</text>\n",
       "<text text-anchor=\"start\" x=\"264.88\" y=\"-260.2\" font-family=\"Helvetica,sans-Serif\" font-size=\"14.00\">value = [0, 1, 3]</text>\n",
       "<text text-anchor=\"start\" x=\"251\" y=\"-243.7\" font-family=\"Helvetica,sans-Serif\" font-size=\"14.00\">class = Iris&#45;virginica</text>\n",
       "</g>\n",
       "<!-- 3&#45;&gt;5 -->\n",
       "<g id=\"edge5\" class=\"edge\">\n",
       "<title>3&#45;&gt;5</title>\n",
       "<path fill=\"none\" stroke=\"black\" d=\"M311.59,-362.65C311.71,-354.97 311.84,-346.89 311.97,-338.94\"/>\n",
       "<polygon fill=\"black\" stroke=\"black\" points=\"315.47,-339.02 312.13,-328.97 308.47,-338.91 315.47,-339.02\"/>\n",
       "</g>\n",
       "<!-- 6 -->\n",
       "<g id=\"node7\" class=\"node\">\n",
       "<title>6</title>\n",
       "<path fill=\"#ffffff\" stroke=\"black\" d=\"M214,-200.5C214,-200.5 87.75,-200.5 87.75,-200.5 81.75,-200.5 75.75,-194.5 75.75,-188.5 75.75,-188.5 75.75,-122 75.75,-122 75.75,-116 81.75,-110 87.75,-110 87.75,-110 214,-110 214,-110 220,-110 226,-116 226,-122 226,-122 226,-188.5 226,-188.5 226,-194.5 220,-200.5 214,-200.5\"/>\n",
       "<text text-anchor=\"start\" x=\"91.62\" y=\"-183.2\" font-family=\"Helvetica,sans-Serif\" font-size=\"14.00\">sepal_width ≤ 2.45</text>\n",
       "<text text-anchor=\"start\" x=\"109.25\" y=\"-166.7\" font-family=\"Helvetica,sans-Serif\" font-size=\"14.00\">entropy = 1.0</text>\n",
       "<text text-anchor=\"start\" x=\"111.88\" y=\"-150.2\" font-family=\"Helvetica,sans-Serif\" font-size=\"14.00\">samples = 2</text>\n",
       "<text text-anchor=\"start\" x=\"102.88\" y=\"-133.7\" font-family=\"Helvetica,sans-Serif\" font-size=\"14.00\">value = [0, 1, 1]</text>\n",
       "<text text-anchor=\"start\" x=\"83.75\" y=\"-117.2\" font-family=\"Helvetica,sans-Serif\" font-size=\"14.00\">class = Iris&#45;versicolor</text>\n",
       "</g>\n",
       "<!-- 5&#45;&gt;6 -->\n",
       "<g id=\"edge6\" class=\"edge\">\n",
       "<title>5&#45;&gt;6</title>\n",
       "<path fill=\"none\" stroke=\"black\" d=\"M254.85,-236.15C242.87,-226.95 230.15,-217.18 217.88,-207.75\"/>\n",
       "<polygon fill=\"black\" stroke=\"black\" points=\"220.3,-205.19 210.24,-201.88 216.04,-210.74 220.3,-205.19\"/>\n",
       "</g>\n",
       "<!-- 9 -->\n",
       "<g id=\"node10\" class=\"node\">\n",
       "<title>9</title>\n",
       "<path fill=\"#8139e5\" stroke=\"black\" d=\"M371.75,-192.25C371.75,-192.25 256,-192.25 256,-192.25 250,-192.25 244,-186.25 244,-180.25 244,-180.25 244,-130.25 244,-130.25 244,-124.25 250,-118.25 256,-118.25 256,-118.25 371.75,-118.25 371.75,-118.25 377.75,-118.25 383.75,-124.25 383.75,-130.25 383.75,-130.25 383.75,-180.25 383.75,-180.25 383.75,-186.25 377.75,-192.25 371.75,-192.25\"/>\n",
       "<text text-anchor=\"start\" x=\"272.25\" y=\"-174.95\" font-family=\"Helvetica,sans-Serif\" font-size=\"14.00\">entropy = 0.0</text>\n",
       "<text text-anchor=\"start\" x=\"274.88\" y=\"-158.45\" font-family=\"Helvetica,sans-Serif\" font-size=\"14.00\">samples = 2</text>\n",
       "<text text-anchor=\"start\" x=\"265.88\" y=\"-141.95\" font-family=\"Helvetica,sans-Serif\" font-size=\"14.00\">value = [0, 0, 2]</text>\n",
       "<text text-anchor=\"start\" x=\"252\" y=\"-125.45\" font-family=\"Helvetica,sans-Serif\" font-size=\"14.00\">class = Iris&#45;virginica</text>\n",
       "</g>\n",
       "<!-- 5&#45;&gt;9 -->\n",
       "<g id=\"edge9\" class=\"edge\">\n",
       "<title>5&#45;&gt;9</title>\n",
       "<path fill=\"none\" stroke=\"black\" d=\"M313.23,-236.15C313.32,-225.6 313.41,-214.31 313.49,-203.63\"/>\n",
       "<polygon fill=\"black\" stroke=\"black\" points=\"316.99,-203.9 313.57,-193.87 309.99,-203.84 316.99,-203.9\"/>\n",
       "</g>\n",
       "<!-- 7 -->\n",
       "<g id=\"node8\" class=\"node\">\n",
       "<title>7</title>\n",
       "<path fill=\"#8139e5\" stroke=\"black\" d=\"M127.75,-74C127.75,-74 12,-74 12,-74 6,-74 0,-68 0,-62 0,-62 0,-12 0,-12 0,-6 6,0 12,0 12,0 127.75,0 127.75,0 133.75,0 139.75,-6 139.75,-12 139.75,-12 139.75,-62 139.75,-62 139.75,-68 133.75,-74 127.75,-74\"/>\n",
       "<text text-anchor=\"start\" x=\"28.25\" y=\"-56.7\" font-family=\"Helvetica,sans-Serif\" font-size=\"14.00\">entropy = 0.0</text>\n",
       "<text text-anchor=\"start\" x=\"30.88\" y=\"-40.2\" font-family=\"Helvetica,sans-Serif\" font-size=\"14.00\">samples = 1</text>\n",
       "<text text-anchor=\"start\" x=\"21.88\" y=\"-23.7\" font-family=\"Helvetica,sans-Serif\" font-size=\"14.00\">value = [0, 0, 1]</text>\n",
       "<text text-anchor=\"start\" x=\"8\" y=\"-7.2\" font-family=\"Helvetica,sans-Serif\" font-size=\"14.00\">class = Iris&#45;virginica</text>\n",
       "</g>\n",
       "<!-- 6&#45;&gt;7 -->\n",
       "<g id=\"edge7\" class=\"edge\">\n",
       "<title>6&#45;&gt;7</title>\n",
       "<path fill=\"none\" stroke=\"black\" d=\"M119.79,-109.64C113.89,-101.17 107.71,-92.3 101.78,-83.8\"/>\n",
       "<polygon fill=\"black\" stroke=\"black\" points=\"104.69,-81.84 96.1,-75.64 98.94,-85.84 104.69,-81.84\"/>\n",
       "</g>\n",
       "<!-- 8 -->\n",
       "<g id=\"node9\" class=\"node\">\n",
       "<title>8</title>\n",
       "<path fill=\"#39e581\" stroke=\"black\" d=\"M296,-74C296,-74 169.75,-74 169.75,-74 163.75,-74 157.75,-68 157.75,-62 157.75,-62 157.75,-12 157.75,-12 157.75,-6 163.75,0 169.75,0 169.75,0 296,0 296,0 302,0 308,-6 308,-12 308,-12 308,-62 308,-62 308,-68 302,-74 296,-74\"/>\n",
       "<text text-anchor=\"start\" x=\"191.25\" y=\"-56.7\" font-family=\"Helvetica,sans-Serif\" font-size=\"14.00\">entropy = 0.0</text>\n",
       "<text text-anchor=\"start\" x=\"193.88\" y=\"-40.2\" font-family=\"Helvetica,sans-Serif\" font-size=\"14.00\">samples = 1</text>\n",
       "<text text-anchor=\"start\" x=\"184.88\" y=\"-23.7\" font-family=\"Helvetica,sans-Serif\" font-size=\"14.00\">value = [0, 1, 0]</text>\n",
       "<text text-anchor=\"start\" x=\"165.75\" y=\"-7.2\" font-family=\"Helvetica,sans-Serif\" font-size=\"14.00\">class = Iris&#45;versicolor</text>\n",
       "</g>\n",
       "<!-- 6&#45;&gt;8 -->\n",
       "<g id=\"edge8\" class=\"edge\">\n",
       "<title>6&#45;&gt;8</title>\n",
       "<path fill=\"none\" stroke=\"black\" d=\"M182.34,-109.64C188.32,-101.17 194.57,-92.3 200.57,-83.8\"/>\n",
       "<polygon fill=\"black\" stroke=\"black\" points=\"203.43,-85.82 206.33,-75.63 197.71,-81.78 203.43,-85.82\"/>\n",
       "</g>\n",
       "<!-- 11 -->\n",
       "<g id=\"node12\" class=\"node\">\n",
       "<title>11</title>\n",
       "<path fill=\"#ab7bee\" stroke=\"black\" d=\"M530.75,-327C530.75,-327 415,-327 415,-327 409,-327 403,-321 403,-315 403,-315 403,-248.5 403,-248.5 403,-242.5 409,-236.5 415,-236.5 415,-236.5 530.75,-236.5 530.75,-236.5 536.75,-236.5 542.75,-242.5 542.75,-248.5 542.75,-248.5 542.75,-315 542.75,-315 542.75,-321 536.75,-327 530.75,-327\"/>\n",
       "<text text-anchor=\"start\" x=\"417.75\" y=\"-309.7\" font-family=\"Helvetica,sans-Serif\" font-size=\"14.00\">sepal_width ≤ 3.1</text>\n",
       "<text text-anchor=\"start\" x=\"423\" y=\"-293.2\" font-family=\"Helvetica,sans-Serif\" font-size=\"14.00\">entropy = 0.811</text>\n",
       "<text text-anchor=\"start\" x=\"433.88\" y=\"-276.7\" font-family=\"Helvetica,sans-Serif\" font-size=\"14.00\">samples = 4</text>\n",
       "<text text-anchor=\"start\" x=\"424.88\" y=\"-260.2\" font-family=\"Helvetica,sans-Serif\" font-size=\"14.00\">value = [0, 1, 3]</text>\n",
       "<text text-anchor=\"start\" x=\"411\" y=\"-243.7\" font-family=\"Helvetica,sans-Serif\" font-size=\"14.00\">class = Iris&#45;virginica</text>\n",
       "</g>\n",
       "<!-- 10&#45;&gt;11 -->\n",
       "<g id=\"edge11\" class=\"edge\">\n",
       "<title>10&#45;&gt;11</title>\n",
       "<path fill=\"none\" stroke=\"black\" d=\"M473.52,-362.65C473.46,-354.97 473.39,-346.89 473.33,-338.94\"/>\n",
       "<polygon fill=\"black\" stroke=\"black\" points=\"476.83,-338.94 473.25,-328.97 469.83,-338.99 476.83,-338.94\"/>\n",
       "</g>\n",
       "<!-- 14 -->\n",
       "<g id=\"node15\" class=\"node\">\n",
       "<title>14</title>\n",
       "<path fill=\"#8139e5\" stroke=\"black\" d=\"M688.75,-318.75C688.75,-318.75 573,-318.75 573,-318.75 567,-318.75 561,-312.75 561,-306.75 561,-306.75 561,-256.75 561,-256.75 561,-250.75 567,-244.75 573,-244.75 573,-244.75 688.75,-244.75 688.75,-244.75 694.75,-244.75 700.75,-250.75 700.75,-256.75 700.75,-256.75 700.75,-306.75 700.75,-306.75 700.75,-312.75 694.75,-318.75 688.75,-318.75\"/>\n",
       "<text text-anchor=\"start\" x=\"589.25\" y=\"-301.45\" font-family=\"Helvetica,sans-Serif\" font-size=\"14.00\">entropy = 0.0</text>\n",
       "<text text-anchor=\"start\" x=\"587.75\" y=\"-284.95\" font-family=\"Helvetica,sans-Serif\" font-size=\"14.00\">samples = 26</text>\n",
       "<text text-anchor=\"start\" x=\"578.75\" y=\"-268.45\" font-family=\"Helvetica,sans-Serif\" font-size=\"14.00\">value = [0, 0, 26]</text>\n",
       "<text text-anchor=\"start\" x=\"569\" y=\"-251.95\" font-family=\"Helvetica,sans-Serif\" font-size=\"14.00\">class = Iris&#45;virginica</text>\n",
       "</g>\n",
       "<!-- 10&#45;&gt;14 -->\n",
       "<g id=\"edge14\" class=\"edge\">\n",
       "<title>10&#45;&gt;14</title>\n",
       "<path fill=\"none\" stroke=\"black\" d=\"M530.11,-362.65C545.19,-350.7 561.46,-337.79 576.44,-325.92\"/>\n",
       "<polygon fill=\"black\" stroke=\"black\" points=\"578.25,-328.95 583.91,-320 573.9,-323.47 578.25,-328.95\"/>\n",
       "</g>\n",
       "<!-- 12 -->\n",
       "<g id=\"node13\" class=\"node\">\n",
       "<title>12</title>\n",
       "<path fill=\"#8139e5\" stroke=\"black\" d=\"M529.75,-192.25C529.75,-192.25 414,-192.25 414,-192.25 408,-192.25 402,-186.25 402,-180.25 402,-180.25 402,-130.25 402,-130.25 402,-124.25 408,-118.25 414,-118.25 414,-118.25 529.75,-118.25 529.75,-118.25 535.75,-118.25 541.75,-124.25 541.75,-130.25 541.75,-130.25 541.75,-180.25 541.75,-180.25 541.75,-186.25 535.75,-192.25 529.75,-192.25\"/>\n",
       "<text text-anchor=\"start\" x=\"430.25\" y=\"-174.95\" font-family=\"Helvetica,sans-Serif\" font-size=\"14.00\">entropy = 0.0</text>\n",
       "<text text-anchor=\"start\" x=\"432.88\" y=\"-158.45\" font-family=\"Helvetica,sans-Serif\" font-size=\"14.00\">samples = 3</text>\n",
       "<text text-anchor=\"start\" x=\"423.88\" y=\"-141.95\" font-family=\"Helvetica,sans-Serif\" font-size=\"14.00\">value = [0, 0, 3]</text>\n",
       "<text text-anchor=\"start\" x=\"410\" y=\"-125.45\" font-family=\"Helvetica,sans-Serif\" font-size=\"14.00\">class = Iris&#45;virginica</text>\n",
       "</g>\n",
       "<!-- 11&#45;&gt;12 -->\n",
       "<g id=\"edge12\" class=\"edge\">\n",
       "<title>11&#45;&gt;12</title>\n",
       "<path fill=\"none\" stroke=\"black\" d=\"M472.52,-236.15C472.43,-225.6 472.34,-214.31 472.26,-203.63\"/>\n",
       "<polygon fill=\"black\" stroke=\"black\" points=\"475.76,-203.84 472.18,-193.87 468.76,-203.9 475.76,-203.84\"/>\n",
       "</g>\n",
       "<!-- 13 -->\n",
       "<g id=\"node14\" class=\"node\">\n",
       "<title>13</title>\n",
       "<path fill=\"#39e581\" stroke=\"black\" d=\"M698,-192.25C698,-192.25 571.75,-192.25 571.75,-192.25 565.75,-192.25 559.75,-186.25 559.75,-180.25 559.75,-180.25 559.75,-130.25 559.75,-130.25 559.75,-124.25 565.75,-118.25 571.75,-118.25 571.75,-118.25 698,-118.25 698,-118.25 704,-118.25 710,-124.25 710,-130.25 710,-130.25 710,-180.25 710,-180.25 710,-186.25 704,-192.25 698,-192.25\"/>\n",
       "<text text-anchor=\"start\" x=\"593.25\" y=\"-174.95\" font-family=\"Helvetica,sans-Serif\" font-size=\"14.00\">entropy = 0.0</text>\n",
       "<text text-anchor=\"start\" x=\"595.88\" y=\"-158.45\" font-family=\"Helvetica,sans-Serif\" font-size=\"14.00\">samples = 1</text>\n",
       "<text text-anchor=\"start\" x=\"586.88\" y=\"-141.95\" font-family=\"Helvetica,sans-Serif\" font-size=\"14.00\">value = [0, 1, 0]</text>\n",
       "<text text-anchor=\"start\" x=\"567.75\" y=\"-125.45\" font-family=\"Helvetica,sans-Serif\" font-size=\"14.00\">class = Iris&#45;versicolor</text>\n",
       "</g>\n",
       "<!-- 11&#45;&gt;13 -->\n",
       "<g id=\"edge13\" class=\"edge\">\n",
       "<title>11&#45;&gt;13</title>\n",
       "<path fill=\"none\" stroke=\"black\" d=\"M530.9,-236.15C546.46,-224.2 563.25,-211.29 578.71,-199.42\"/>\n",
       "<polygon fill=\"black\" stroke=\"black\" points=\"580.64,-202.35 586.43,-193.48 576.37,-196.8 580.64,-202.35\"/>\n",
       "</g>\n",
       "</g>\n",
       "</svg>\n"
      ],
      "text/plain": [
       "<graphviz.sources.Source at 0x1da26bac3a0>"
      ]
     },
     "execution_count": 13,
     "metadata": {},
     "output_type": "execute_result"
    }
   ],
   "source": [
    "dot_data = export_graphviz(clf, \n",
    "                            out_file=None, \n",
    "                            feature_names=feature_names,  \n",
    "                            class_names=class_names,  \n",
    "                            filled=True, \n",
    "                            rounded=True,  \n",
    "                            special_characters=True)  \n",
    "\n",
    "graph = graphviz.Source(dot_data)  \n",
    "\n",
    "graph.render(r\"C:\\Users\\Bhupe\\Desktop\\iris\") \n",
    "graph "
   ]
  },
  {
   "cell_type": "code",
   "execution_count": null,
   "metadata": {},
   "outputs": [],
   "source": []
  }
 ],
 "metadata": {
  "kernelspec": {
   "display_name": "Python 3 (ipykernel)",
   "language": "python",
   "name": "python3"
  },
  "language_info": {
   "codemirror_mode": {
    "name": "ipython",
    "version": 3
   },
   "file_extension": ".py",
   "mimetype": "text/x-python",
   "name": "python",
   "nbconvert_exporter": "python",
   "pygments_lexer": "ipython3",
   "version": "3.9.13"
  }
 },
 "nbformat": 4,
 "nbformat_minor": 4
}
