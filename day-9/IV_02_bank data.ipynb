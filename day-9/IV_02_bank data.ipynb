{
 "cells": [
  {
   "cell_type": "markdown",
   "id": "446c8fbe-486b-4f15-82be-50899d25f9ea",
   "metadata": {},
   "source": [
    "-------------------------\n",
    "#### Information value\n",
    "------------------------"
   ]
  },
  {
   "cell_type": "code",
   "execution_count": 1,
   "id": "92fc14dd-892c-4714-8d9b-b03ce159d55e",
   "metadata": {
    "tags": []
   },
   "outputs": [],
   "source": [
    "# Importing libraries\n",
    "import numpy as np\n",
    "import pandas as pd"
   ]
  },
  {
   "cell_type": "code",
   "execution_count": 33,
   "id": "3add05e0-13a8-4ace-891f-ee8e2159e55e",
   "metadata": {
    "tags": []
   },
   "outputs": [],
   "source": [
    "location = r'D:\\AI-DATASETS\\01-MISC\\bank-full.csv'"
   ]
  },
  {
   "cell_type": "code",
   "execution_count": 34,
   "id": "2580869e-b6ab-41db-aa5c-7c072c3a238a",
   "metadata": {
    "tags": []
   },
   "outputs": [],
   "source": [
    "# load the training data from iris.txt\n",
    "df = pd.read_csv(location , delimiter = \";\")"
   ]
  },
  {
   "cell_type": "code",
   "execution_count": 35,
   "id": "7718ca77-afaa-4b8f-a989-902b380108df",
   "metadata": {
    "tags": []
   },
   "outputs": [
    {
     "data": {
      "text/plain": [
       "(45211, 17)"
      ]
     },
     "execution_count": 35,
     "metadata": {},
     "output_type": "execute_result"
    }
   ],
   "source": [
    "df.shape"
   ]
  },
  {
   "cell_type": "code",
   "execution_count": 36,
   "id": "b3019d13-6d91-4b57-9c89-4c3bb47c0b55",
   "metadata": {
    "tags": []
   },
   "outputs": [
    {
     "data": {
      "text/html": [
       "<div>\n",
       "<style scoped>\n",
       "    .dataframe tbody tr th:only-of-type {\n",
       "        vertical-align: middle;\n",
       "    }\n",
       "\n",
       "    .dataframe tbody tr th {\n",
       "        vertical-align: top;\n",
       "    }\n",
       "\n",
       "    .dataframe thead th {\n",
       "        text-align: right;\n",
       "    }\n",
       "</style>\n",
       "<table border=\"1\" class=\"dataframe\">\n",
       "  <thead>\n",
       "    <tr style=\"text-align: right;\">\n",
       "      <th></th>\n",
       "      <th>age</th>\n",
       "      <th>job</th>\n",
       "      <th>marital</th>\n",
       "      <th>education</th>\n",
       "      <th>default</th>\n",
       "      <th>balance</th>\n",
       "      <th>housing</th>\n",
       "      <th>loan</th>\n",
       "      <th>contact</th>\n",
       "      <th>day</th>\n",
       "      <th>month</th>\n",
       "      <th>duration</th>\n",
       "      <th>campaign</th>\n",
       "      <th>pdays</th>\n",
       "      <th>previous</th>\n",
       "      <th>poutcome</th>\n",
       "      <th>y</th>\n",
       "    </tr>\n",
       "  </thead>\n",
       "  <tbody>\n",
       "    <tr>\n",
       "      <th>42782</th>\n",
       "      <td>33</td>\n",
       "      <td>technician</td>\n",
       "      <td>married</td>\n",
       "      <td>tertiary</td>\n",
       "      <td>no</td>\n",
       "      <td>1699</td>\n",
       "      <td>no</td>\n",
       "      <td>no</td>\n",
       "      <td>cellular</td>\n",
       "      <td>28</td>\n",
       "      <td>jan</td>\n",
       "      <td>202</td>\n",
       "      <td>1</td>\n",
       "      <td>83</td>\n",
       "      <td>3</td>\n",
       "      <td>success</td>\n",
       "      <td>yes</td>\n",
       "    </tr>\n",
       "    <tr>\n",
       "      <th>24809</th>\n",
       "      <td>35</td>\n",
       "      <td>technician</td>\n",
       "      <td>single</td>\n",
       "      <td>tertiary</td>\n",
       "      <td>no</td>\n",
       "      <td>172</td>\n",
       "      <td>yes</td>\n",
       "      <td>yes</td>\n",
       "      <td>cellular</td>\n",
       "      <td>18</td>\n",
       "      <td>nov</td>\n",
       "      <td>52</td>\n",
       "      <td>1</td>\n",
       "      <td>-1</td>\n",
       "      <td>0</td>\n",
       "      <td>unknown</td>\n",
       "      <td>no</td>\n",
       "    </tr>\n",
       "    <tr>\n",
       "      <th>15418</th>\n",
       "      <td>25</td>\n",
       "      <td>management</td>\n",
       "      <td>single</td>\n",
       "      <td>tertiary</td>\n",
       "      <td>no</td>\n",
       "      <td>0</td>\n",
       "      <td>no</td>\n",
       "      <td>yes</td>\n",
       "      <td>cellular</td>\n",
       "      <td>18</td>\n",
       "      <td>jul</td>\n",
       "      <td>342</td>\n",
       "      <td>1</td>\n",
       "      <td>-1</td>\n",
       "      <td>0</td>\n",
       "      <td>unknown</td>\n",
       "      <td>no</td>\n",
       "    </tr>\n",
       "    <tr>\n",
       "      <th>44904</th>\n",
       "      <td>48</td>\n",
       "      <td>management</td>\n",
       "      <td>single</td>\n",
       "      <td>tertiary</td>\n",
       "      <td>no</td>\n",
       "      <td>334</td>\n",
       "      <td>yes</td>\n",
       "      <td>no</td>\n",
       "      <td>cellular</td>\n",
       "      <td>28</td>\n",
       "      <td>sep</td>\n",
       "      <td>600</td>\n",
       "      <td>2</td>\n",
       "      <td>92</td>\n",
       "      <td>12</td>\n",
       "      <td>success</td>\n",
       "      <td>yes</td>\n",
       "    </tr>\n",
       "    <tr>\n",
       "      <th>33420</th>\n",
       "      <td>29</td>\n",
       "      <td>technician</td>\n",
       "      <td>single</td>\n",
       "      <td>tertiary</td>\n",
       "      <td>no</td>\n",
       "      <td>2269</td>\n",
       "      <td>yes</td>\n",
       "      <td>no</td>\n",
       "      <td>cellular</td>\n",
       "      <td>20</td>\n",
       "      <td>apr</td>\n",
       "      <td>53</td>\n",
       "      <td>1</td>\n",
       "      <td>346</td>\n",
       "      <td>1</td>\n",
       "      <td>failure</td>\n",
       "      <td>no</td>\n",
       "    </tr>\n",
       "  </tbody>\n",
       "</table>\n",
       "</div>"
      ],
      "text/plain": [
       "       age         job  marital education default  balance housing loan  \\\n",
       "42782   33  technician  married  tertiary      no     1699      no   no   \n",
       "24809   35  technician   single  tertiary      no      172     yes  yes   \n",
       "15418   25  management   single  tertiary      no        0      no  yes   \n",
       "44904   48  management   single  tertiary      no      334     yes   no   \n",
       "33420   29  technician   single  tertiary      no     2269     yes   no   \n",
       "\n",
       "        contact  day month  duration  campaign  pdays  previous poutcome    y  \n",
       "42782  cellular   28   jan       202         1     83         3  success  yes  \n",
       "24809  cellular   18   nov        52         1     -1         0  unknown   no  \n",
       "15418  cellular   18   jul       342         1     -1         0  unknown   no  \n",
       "44904  cellular   28   sep       600         2     92        12  success  yes  \n",
       "33420  cellular   20   apr        53         1    346         1  failure   no  "
      ]
     },
     "execution_count": 36,
     "metadata": {},
     "output_type": "execute_result"
    }
   ],
   "source": [
    "df.sample(5)"
   ]
  },
  {
   "cell_type": "code",
   "execution_count": 41,
   "id": "5a221e6f-6c9b-4795-bbb3-918428005683",
   "metadata": {
    "tags": []
   },
   "outputs": [],
   "source": [
    "df_dropped = df.drop(['age', 'balance', 'day', 'duration', 'pdays', 'campaign',\t'previous'], axis=1).copy()"
   ]
  },
  {
   "cell_type": "code",
   "execution_count": 42,
   "id": "f25652a6-5e5b-42fe-9008-9f5e1e4e1c9a",
   "metadata": {
    "tags": []
   },
   "outputs": [
    {
     "data": {
      "text/html": [
       "<div>\n",
       "<style scoped>\n",
       "    .dataframe tbody tr th:only-of-type {\n",
       "        vertical-align: middle;\n",
       "    }\n",
       "\n",
       "    .dataframe tbody tr th {\n",
       "        vertical-align: top;\n",
       "    }\n",
       "\n",
       "    .dataframe thead th {\n",
       "        text-align: right;\n",
       "    }\n",
       "</style>\n",
       "<table border=\"1\" class=\"dataframe\">\n",
       "  <thead>\n",
       "    <tr style=\"text-align: right;\">\n",
       "      <th></th>\n",
       "      <th>job</th>\n",
       "      <th>marital</th>\n",
       "      <th>education</th>\n",
       "      <th>default</th>\n",
       "      <th>housing</th>\n",
       "      <th>loan</th>\n",
       "      <th>contact</th>\n",
       "      <th>month</th>\n",
       "      <th>poutcome</th>\n",
       "      <th>y</th>\n",
       "    </tr>\n",
       "  </thead>\n",
       "  <tbody>\n",
       "    <tr>\n",
       "      <th>2608</th>\n",
       "      <td>blue-collar</td>\n",
       "      <td>married</td>\n",
       "      <td>primary</td>\n",
       "      <td>no</td>\n",
       "      <td>no</td>\n",
       "      <td>no</td>\n",
       "      <td>unknown</td>\n",
       "      <td>may</td>\n",
       "      <td>unknown</td>\n",
       "      <td>no</td>\n",
       "    </tr>\n",
       "    <tr>\n",
       "      <th>42898</th>\n",
       "      <td>services</td>\n",
       "      <td>single</td>\n",
       "      <td>tertiary</td>\n",
       "      <td>no</td>\n",
       "      <td>no</td>\n",
       "      <td>no</td>\n",
       "      <td>cellular</td>\n",
       "      <td>feb</td>\n",
       "      <td>success</td>\n",
       "      <td>no</td>\n",
       "    </tr>\n",
       "    <tr>\n",
       "      <th>11484</th>\n",
       "      <td>admin.</td>\n",
       "      <td>married</td>\n",
       "      <td>secondary</td>\n",
       "      <td>no</td>\n",
       "      <td>no</td>\n",
       "      <td>no</td>\n",
       "      <td>unknown</td>\n",
       "      <td>jun</td>\n",
       "      <td>unknown</td>\n",
       "      <td>no</td>\n",
       "    </tr>\n",
       "    <tr>\n",
       "      <th>42657</th>\n",
       "      <td>blue-collar</td>\n",
       "      <td>married</td>\n",
       "      <td>secondary</td>\n",
       "      <td>no</td>\n",
       "      <td>no</td>\n",
       "      <td>no</td>\n",
       "      <td>cellular</td>\n",
       "      <td>jan</td>\n",
       "      <td>other</td>\n",
       "      <td>yes</td>\n",
       "    </tr>\n",
       "    <tr>\n",
       "      <th>19325</th>\n",
       "      <td>management</td>\n",
       "      <td>divorced</td>\n",
       "      <td>secondary</td>\n",
       "      <td>no</td>\n",
       "      <td>no</td>\n",
       "      <td>no</td>\n",
       "      <td>cellular</td>\n",
       "      <td>aug</td>\n",
       "      <td>unknown</td>\n",
       "      <td>no</td>\n",
       "    </tr>\n",
       "  </tbody>\n",
       "</table>\n",
       "</div>"
      ],
      "text/plain": [
       "               job   marital  education default housing loan   contact month  \\\n",
       "2608   blue-collar   married    primary      no      no   no   unknown   may   \n",
       "42898     services    single   tertiary      no      no   no  cellular   feb   \n",
       "11484       admin.   married  secondary      no      no   no   unknown   jun   \n",
       "42657  blue-collar   married  secondary      no      no   no  cellular   jan   \n",
       "19325   management  divorced  secondary      no      no   no  cellular   aug   \n",
       "\n",
       "      poutcome    y  \n",
       "2608   unknown   no  \n",
       "42898  success   no  \n",
       "11484  unknown   no  \n",
       "42657    other  yes  \n",
       "19325  unknown   no  "
      ]
     },
     "execution_count": 42,
     "metadata": {},
     "output_type": "execute_result"
    }
   ],
   "source": [
    "df_dropped.sample(5)"
   ]
  },
  {
   "cell_type": "code",
   "execution_count": 46,
   "id": "583ba6ac-2f6c-45fc-9898-bfa61b564d2e",
   "metadata": {
    "tags": []
   },
   "outputs": [
    {
     "data": {
      "text/plain": [
       "job          object\n",
       "marital      object\n",
       "education    object\n",
       "default      object\n",
       "housing      object\n",
       "loan         object\n",
       "contact      object\n",
       "month        object\n",
       "poutcome     object\n",
       "y            object\n",
       "dtype: object"
      ]
     },
     "execution_count": 46,
     "metadata": {},
     "output_type": "execute_result"
    }
   ],
   "source": [
    "df_dropped.dtypes"
   ]
  },
  {
   "cell_type": "code",
   "execution_count": 47,
   "id": "0579db21-e761-430a-ae45-de346a8e3476",
   "metadata": {
    "tags": []
   },
   "outputs": [
    {
     "name": "stdout",
     "output_type": "stream",
     "text": [
      "job: ['management' 'technician' 'entrepreneur' 'blue-collar' 'unknown'\n",
      " 'retired' 'admin.' 'services' 'self-employed' 'unemployed' 'housemaid'\n",
      " 'student']\n",
      "marital: ['married' 'single' 'divorced']\n",
      "education: ['tertiary' 'secondary' 'unknown' 'primary']\n",
      "default: ['no' 'yes']\n",
      "housing: ['yes' 'no']\n",
      "loan: ['no' 'yes']\n",
      "contact: ['unknown' 'cellular' 'telephone']\n",
      "month: ['may' 'jun' 'jul' 'aug' 'oct' 'nov' 'dec' 'jan' 'feb' 'mar' 'apr' 'sep']\n",
      "poutcome: ['unknown' 'failure' 'other' 'success']\n",
      "y: ['no' 'yes']\n"
     ]
    }
   ],
   "source": [
    "# Selecting only the categorical columns\n",
    "categorical_columns = df.select_dtypes(include=['object']).columns\n",
    "\n",
    "# Displaying unique categories for each categorical variable\n",
    "for col in categorical_columns:\n",
    "    unique_categories = df[col].unique()\n",
    "    print(f\"{col}: {unique_categories}\")"
   ]
  },
  {
   "cell_type": "code",
   "execution_count": 48,
   "id": "a14acd7f-09e5-469d-ada0-2605419afcc1",
   "metadata": {
    "tags": []
   },
   "outputs": [],
   "source": [
    "def calculate_iv(df, categorical_var, target_var):\n",
    "    # Calculate the percentage of events and non-events for each category\n",
    "    event_rates = df.groupby(categorical_var)[target_var].mean()\n",
    "    non_event_rates = 1 - event_rates\n",
    "    \n",
    "    # Avoid division by zero when calculating odds ratio\n",
    "    non_event_rates[non_event_rates == 0] = 0.0001\n",
    "    \n",
    "    # Calculate odds ratio and log odds for each category\n",
    "    odds_ratio = event_rates / non_event_rates\n",
    "    log_odds = np.log(odds_ratio)\n",
    "    \n",
    "    # Calculate IV for each category\n",
    "    iv_values = (event_rates - non_event_rates) * log_odds\n",
    "    \n",
    "    # Sum up IV values across categories to get overall IV\n",
    "    overall_iv = iv_values.sum()\n",
    "    \n",
    "    # Display IV values for each category and overall IV\n",
    "    iv_df = pd.DataFrame({categorical_var: event_rates.index, 'IV': iv_values})\n",
    "    \n",
    "    return iv_df, overall_iv\n"
   ]
  },
  {
   "cell_type": "code",
   "execution_count": 52,
   "id": "bcc02d1b-dd18-43f6-a730-fb2654888292",
   "metadata": {
    "tags": []
   },
   "outputs": [],
   "source": [
    "# Assuming your target variable is 'y' and it's binary ('yes' or 'no')\n",
    "# Convert the target variable to 0 or 1\n",
    "df_dropped['y'] = df_dropped['y'].map({'no': 0, 'yes': 1})"
   ]
  },
  {
   "cell_type": "code",
   "execution_count": 53,
   "id": "3424854a-9e0c-4509-bb2d-016cf583c186",
   "metadata": {
    "tags": []
   },
   "outputs": [],
   "source": [
    "# Assuming 'df' is your DataFrame with multiple categorical variables and binary target 'target'\n",
    "categorical_vars = ['job', 'marital', 'education', 'default', 'housing', 'loan', 'contact', 'month', 'poutcome']\n",
    "target_var = 'y'"
   ]
  },
  {
   "cell_type": "code",
   "execution_count": 56,
   "id": "cb140d56-5ad8-4595-8f46-b7723f27e080",
   "metadata": {
    "tags": []
   },
   "outputs": [
    {
     "name": "stdout",
     "output_type": "stream",
     "text": [
      "\n",
      "Overall IV for job: 17.762299129136586\n",
      "\n",
      "Overall IV for marital: 4.480613726504907\n",
      "\n",
      "Overall IV for education: 6.200872093228684\n",
      "\n",
      "Overall IV for default: 3.880493166530274\n",
      "\n",
      "Overall IV for housing: 3.171421724978705\n",
      "\n",
      "Overall IV for loan: 3.727151844844264\n",
      "\n",
      "Overall IV for contact: 5.487951094845211\n",
      "\n",
      "Overall IV for month: 12.978299420125127\n",
      "\n",
      "Overall IV for poutcome: 4.571692866645868\n"
     ]
    }
   ],
   "source": [
    "# Calculate IV for each categorical variable\n",
    "overall_iv_values = []\n",
    "\n",
    "for cat_var in categorical_vars:\n",
    "    iv_df, overall_iv = calculate_iv(df_dropped, cat_var, target_var)\n",
    "    #print(f\"\\nInformation Value for {cat_var}:\\n{iv_df}\")\n",
    "    print(f\"\\nOverall IV for {cat_var}: {overall_iv}\")\n",
    "    overall_iv_values.append({'Variable': cat_var, 'Overall IV': overall_iv})\n"
   ]
  },
  {
   "cell_type": "markdown",
   "id": "9ff44882-1537-41af-ab10-a39d1127ccac",
   "metadata": {
    "tags": []
   },
   "source": [
    "**Interpretation of IV:**\n",
    "\n",
    "- The higher the IV, the more predictive power the variable is assumed to have. Commonly, an IV value:\n",
    "    - Less than 0.02: Weak predictor\n",
    "    - 0.02 to 0.1: Medium predictor\n",
    "    - Greater than 0.5: Strong predictor"
   ]
  },
  {
   "cell_type": "code",
   "execution_count": null,
   "id": "625ce376-a657-45c6-a687-cf74492293e6",
   "metadata": {},
   "outputs": [],
   "source": []
  }
 ],
 "metadata": {
  "kernelspec": {
   "display_name": "Python 3 (ipykernel)",
   "language": "python",
   "name": "python3"
  },
  "language_info": {
   "codemirror_mode": {
    "name": "ipython",
    "version": 3
   },
   "file_extension": ".py",
   "mimetype": "text/x-python",
   "name": "python",
   "nbconvert_exporter": "python",
   "pygments_lexer": "ipython3",
   "version": "3.11.5"
  }
 },
 "nbformat": 4,
 "nbformat_minor": 5
}
