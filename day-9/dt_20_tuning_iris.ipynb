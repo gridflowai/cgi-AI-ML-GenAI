{
 "cells": [
  {
   "cell_type": "markdown",
   "id": "14bc0b37-8d63-4846-9cae-2875ec9dd7a7",
   "metadata": {},
   "source": [
    "-------------------------------\n",
    "#### Aim : understand the tuning process of a Decision Tree\n",
    "---------------------------"
   ]
  },
  {
   "cell_type": "code",
   "execution_count": 1,
   "id": "aad4305b-166d-4940-8a60-df9b1f61306d",
   "metadata": {
    "tags": []
   },
   "outputs": [],
   "source": [
    "import pandas as pd\n",
    "import numpy as np\n",
    "\n",
    "# import plotting libraries\n",
    "import matplotlib.pyplot as plt\n",
    "\n",
    "import seaborn as sns\n",
    "sns.set(style=\"white\", color_codes=True)\n",
    "sns.set(font_scale=1.5)\n",
    "\n",
    "# import the ML algorithm\n",
    "from sklearn.tree import DecisionTreeClassifier"
   ]
  },
  {
   "cell_type": "code",
   "execution_count": 2,
   "id": "1770fe68-cfca-4c22-955e-62874de922b4",
   "metadata": {
    "tags": []
   },
   "outputs": [],
   "source": [
    "location = \"https://github.com/gridflowai/gridflowAI-datasets-icons/raw/master/AI-DATASETS/01-MISC/iris.csv\""
   ]
  },
  {
   "cell_type": "code",
   "execution_count": 3,
   "id": "8906b9b7-96e0-4bd5-a546-d86a6d2907c1",
   "metadata": {
    "tags": []
   },
   "outputs": [
    {
     "data": {
      "text/html": [
       "<div>\n",
       "<style scoped>\n",
       "    .dataframe tbody tr th:only-of-type {\n",
       "        vertical-align: middle;\n",
       "    }\n",
       "\n",
       "    .dataframe tbody tr th {\n",
       "        vertical-align: top;\n",
       "    }\n",
       "\n",
       "    .dataframe thead th {\n",
       "        text-align: right;\n",
       "    }\n",
       "</style>\n",
       "<table border=\"1\" class=\"dataframe\">\n",
       "  <thead>\n",
       "    <tr style=\"text-align: right;\">\n",
       "      <th></th>\n",
       "      <th>sepal_length</th>\n",
       "      <th>sepal_width</th>\n",
       "      <th>petal_length</th>\n",
       "      <th>petal_width</th>\n",
       "      <th>Class</th>\n",
       "    </tr>\n",
       "  </thead>\n",
       "  <tbody>\n",
       "    <tr>\n",
       "      <th>0</th>\n",
       "      <td>5.1</td>\n",
       "      <td>3.5</td>\n",
       "      <td>1.4</td>\n",
       "      <td>0.2</td>\n",
       "      <td>Iris-setosa</td>\n",
       "    </tr>\n",
       "    <tr>\n",
       "      <th>1</th>\n",
       "      <td>4.9</td>\n",
       "      <td>3.0</td>\n",
       "      <td>1.4</td>\n",
       "      <td>0.2</td>\n",
       "      <td>Iris-setosa</td>\n",
       "    </tr>\n",
       "    <tr>\n",
       "      <th>2</th>\n",
       "      <td>4.7</td>\n",
       "      <td>3.2</td>\n",
       "      <td>1.3</td>\n",
       "      <td>0.2</td>\n",
       "      <td>Iris-setosa</td>\n",
       "    </tr>\n",
       "    <tr>\n",
       "      <th>3</th>\n",
       "      <td>4.6</td>\n",
       "      <td>3.1</td>\n",
       "      <td>1.5</td>\n",
       "      <td>0.2</td>\n",
       "      <td>Iris-setosa</td>\n",
       "    </tr>\n",
       "    <tr>\n",
       "      <th>4</th>\n",
       "      <td>5.0</td>\n",
       "      <td>3.6</td>\n",
       "      <td>1.4</td>\n",
       "      <td>0.2</td>\n",
       "      <td>Iris-setosa</td>\n",
       "    </tr>\n",
       "  </tbody>\n",
       "</table>\n",
       "</div>"
      ],
      "text/plain": [
       "   sepal_length  sepal_width  petal_length  petal_width        Class\n",
       "0           5.1          3.5           1.4          0.2  Iris-setosa\n",
       "1           4.9          3.0           1.4          0.2  Iris-setosa\n",
       "2           4.7          3.2           1.3          0.2  Iris-setosa\n",
       "3           4.6          3.1           1.5          0.2  Iris-setosa\n",
       "4           5.0          3.6           1.4          0.2  Iris-setosa"
      ]
     },
     "execution_count": 3,
     "metadata": {},
     "output_type": "execute_result"
    }
   ],
   "source": [
    "# load the training data \n",
    "df_iris = pd.read_csv(location)\n",
    "df_iris.head()"
   ]
  },
  {
   "cell_type": "code",
   "execution_count": 11,
   "id": "9ad2d4ed-a2bc-4e27-92eb-8c5347c082c6",
   "metadata": {
    "tags": []
   },
   "outputs": [],
   "source": [
    "# copy the predictor variables into X and responses in y\n",
    "X = df_iris[['sepal_length','sepal_width', 'petal_length', 'petal_width']]\n",
    "y = df_iris['Class']"
   ]
  },
  {
   "cell_type": "code",
   "execution_count": 12,
   "id": "f7a4918c-a066-4579-94a8-76500390407e",
   "metadata": {
    "tags": []
   },
   "outputs": [],
   "source": [
    "from sklearn.model_selection import train_test_split"
   ]
  },
  {
   "cell_type": "code",
   "execution_count": 13,
   "id": "d429b91b-9833-43d4-9635-1fd8968d4d39",
   "metadata": {
    "tags": []
   },
   "outputs": [],
   "source": [
    "# split the data into training and test data\n",
    "X_train, X_test, y_train, y_test = train_test_split(X, y, test_size=0.3, random_state=24)"
   ]
  },
  {
   "cell_type": "code",
   "execution_count": 14,
   "id": "1dac6176-c35a-40c2-8b57-ef811ba3c840",
   "metadata": {
    "tags": []
   },
   "outputs": [],
   "source": [
    "clf = DecisionTreeClassifier(criterion='entropy')\n",
    "clf = clf.fit(X_train, y_train)"
   ]
  },
  {
   "cell_type": "markdown",
   "id": "543c47c8-1822-47fa-a648-30c08fad17d8",
   "metadata": {},
   "source": [
    "#### Tuning of decision trees\n",
    "\n",
    "##### 1. max_depth\n",
    "\n",
    "The maximum depth of the tree. \n",
    "\n",
    "- If None, then nodes are expanded until all leaves are pure or until all leaves contain less than `min_samples_split` samples."
   ]
  },
  {
   "cell_type": "code",
   "execution_count": 15,
   "id": "eb76b461-688a-46a8-89af-d21ed1d8e03e",
   "metadata": {
    "tags": []
   },
   "outputs": [],
   "source": [
    "from sklearn import metrics"
   ]
  },
  {
   "cell_type": "code",
   "execution_count": 16,
   "id": "26c30e17-3204-40c8-abac-23bc1ff0c42b",
   "metadata": {
    "tags": []
   },
   "outputs": [],
   "source": [
    "max_depths = [ 1,2,3,4,5,6,7,8,9,10]"
   ]
  },
  {
   "cell_type": "code",
   "execution_count": 17,
   "id": "07a99ea0-1a36-4789-9c9f-0e95c8d8753f",
   "metadata": {
    "tags": []
   },
   "outputs": [],
   "source": [
    "train_acc = []\n",
    "test_acc  = []\n",
    "\n",
    "# for each depth level, try the DEC T\n",
    "for max_depth in max_depths:\n",
    "    dt = DecisionTreeClassifier(max_depth=max_depth)\n",
    "    \n",
    "    dt.fit(X_train, y_train)  \n",
    "    \n",
    "    # check the model performance using the training samples\n",
    "    train_pred = dt.predict(X_train)\n",
    "    acc        = metrics.accuracy_score(y_train, train_pred)\n",
    "    train_acc.append(acc)\n",
    "    \n",
    "    # check the model performance using the testing samples\n",
    "    test_pred = dt.predict(X_test)\n",
    "    acc       = metrics.accuracy_score(y_test, test_pred)\n",
    "    test_acc.append(acc)"
   ]
  },
  {
   "cell_type": "code",
   "execution_count": 18,
   "id": "e8d10595-db34-4203-8f31-086dca0def1e",
   "metadata": {
    "tags": []
   },
   "outputs": [
    {
     "data": {
      "image/png": "[encoded data removed]",
      "text/plain": [
       "<Figure size 640x480 with 1 Axes>"
      ]
     },
     "metadata": {},
     "output_type": "display_data"
    }
   ],
   "source": [
    "plt.plot(max_depths, train_acc, label='training accuracies')\n",
    "plt.plot(max_depths, test_acc,  label='testing accuracies')\n",
    "plt.xlabel('depth of the tree')\n",
    "plt.ylabel('model accuracies')\n",
    "           \n",
    "plt.legend();"
   ]
  },
  {
   "cell_type": "markdown",
   "id": "bf56257f-63f7-45c4-8965-04495ae3431b",
   "metadata": {
    "tags": []
   },
   "source": [
    "#### max_features"
   ]
  },
  {
   "cell_type": "code",
   "execution_count": null,
   "id": "11751638-745b-40de-b149-46881f82b9a8",
   "metadata": {},
   "outputs": [],
   "source": [
    "max_features_settings = [None, 'log2', 'sqrt']"
   ]
  }
 ],
 "metadata": {
  "kernelspec": {
   "display_name": "Python 3 (ipykernel)",
   "language": "python",
   "name": "python3"
  },
  "language_info": {
   "codemirror_mode": {
    "name": "ipython",
    "version": 3
   },
   "file_extension": ".py",
   "mimetype": "text/x-python",
   "name": "python",
   "nbconvert_exporter": "python",
   "pygments_lexer": "ipython3",
   "version": "3.11.4"
  }
 },
 "nbformat": 4,
 "nbformat_minor": 5
}
