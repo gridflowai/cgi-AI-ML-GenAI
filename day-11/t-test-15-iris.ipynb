{
 "cells": [
  {
   "cell_type": "code",
   "execution_count": 1,
   "id": "d2818c93-0d7a-4910-b3a5-09a2834fbd68",
   "metadata": {
    "tags": []
   },
   "outputs": [
    {
     "name": "stdout",
     "output_type": "stream",
     "text": [
      "Two-sample t-test results:\n",
      "Setosa vs. Versicolor: TtestResult(statistic=-10.52098626754911, pvalue=8.985235037487079e-18, df=98.0)\n",
      "Setosa vs. Virginica: TtestResult(statistic=-15.386195820079404, pvalue=6.892546060674059e-28, df=98.0)\n",
      "Versicolor vs. Virginica: TtestResult(statistic=-5.629165259719801, pvalue=1.7248563024547942e-07, df=98.0)\n"
     ]
    }
   ],
   "source": [
    "import pandas as pd\n",
    "from scipy.stats import ttest_ind\n",
    "from sklearn.datasets import load_iris\n",
    "\n",
    "# Load the Iris dataset\n",
    "iris = load_iris()\n",
    "iris_df = pd.DataFrame(iris.data, columns=iris.feature_names)\n",
    "iris_df['target'] = iris.target\n",
    "\n",
    "# Extract sepal length for each group\n",
    "setosa_sepal_length = iris_df[iris_df['target'] == 0]['sepal length (cm)']\n",
    "versicolor_sepal_length = iris_df[iris_df['target'] == 1]['sepal length (cm)']\n",
    "virginica_sepal_length = iris_df[iris_df['target'] == 2]['sepal length (cm)']\n",
    "\n",
    "# Perform two-sample t-tests for all pairs of groups\n",
    "setosa_vs_versicolor = ttest_ind(setosa_sepal_length, versicolor_sepal_length)\n",
    "setosa_vs_virginica = ttest_ind(setosa_sepal_length, virginica_sepal_length)\n",
    "versicolor_vs_virginica = ttest_ind(versicolor_sepal_length, virginica_sepal_length)\n",
    "\n",
    "# Display the results\n",
    "print(\"Two-sample t-test results:\")\n",
    "print(\"Setosa vs. Versicolor:\", setosa_vs_versicolor)\n",
    "print(\"Setosa vs. Virginica:\", setosa_vs_virginica)\n",
    "print(\"Versicolor vs. Virginica:\", versicolor_vs_virginica)\n"
   ]
  },
  {
   "cell_type": "code",
   "execution_count": null,
   "id": "e277095b-c9f2-40e1-b434-d1dc05c11745",
   "metadata": {},
   "outputs": [],
   "source": []
  }
 ],
 "metadata": {
  "kernelspec": {
   "display_name": "Python 3 (ipykernel)",
   "language": "python",
   "name": "python3"
  },
  "language_info": {
   "codemirror_mode": {
    "name": "ipython",
    "version": 3
   },
   "file_extension": ".py",
   "mimetype": "text/x-python",
   "name": "python",
   "nbconvert_exporter": "python",
   "pygments_lexer": "ipython3",
   "version": "3.9.13"
  }
 },
 "nbformat": 4,
 "nbformat_minor": 5
}
