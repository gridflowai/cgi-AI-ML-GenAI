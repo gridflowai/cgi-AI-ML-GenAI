{
 "cells": [
  {
   "cell_type": "markdown",
   "id": "ab95d78a-eab7-4770-a825-91097982cdfd",
   "metadata": {},
   "source": [
    "#### detect multi-collinearity"
   ]
  },
  {
   "cell_type": "markdown",
   "id": "e206c72e-c263-4f2a-87f6-a87d8b115781",
   "metadata": {},
   "source": [
    "Here's how eigenvalues near zero indicate multicollinearity:\n",
    "\n",
    "- `Small Eigenvalues`: Eigenvalues near zero indicate that the corresponding eigenvectors (principal components) explain very little variance in the data.\n",
    "\n",
    "- `Multicollinearity`: In the context of multicollinearity, a small eigenvalue suggests that there is little unique information in the data that is not already captured by other predictors. This means that the corresponding predictor variable (associated with the eigenvector) is highly correlated with other predictors in the dataset.\n",
    "\n",
    "- `Ill-Conditioned Matrix`: In numerical terms, a covariance matrix with small eigenvalues is considered ill-conditioned, indicating that the matrix is close to being singular or non-invertible. This implies that the matrix is nearly linearly dependent, which is a characteristic of multicollinearity.\n",
    "\n",
    "- `Identifying Multicollinearity`: By examining the magnitudes of the eigenvalues, you can identify multicollinearity. If there are one or more eigenvalues that are significantly smaller than the others (i.e., close to zero), it suggests that the corresponding predictors are highly collinear."
   ]
  },
  {
   "cell_type": "markdown",
   "id": "91e24202-baea-4042-85dd-9087850c11c5",
   "metadata": {},
   "source": [
    "#### Practical Implications:\n",
    "\n",
    "`Model Instability`: Multicollinearity can lead to instability in regression coefficient estimates, making them sensitive to small changes in the data.\n",
    "\n",
    "`Inflated Standard Errors`: Multicollinearity inflates the standard errors of regression coefficients, reducing the precision of parameter estimates.\n",
    "\n",
    "`Difficulty in Interpretation`: Multicollinearity makes it difficult to interpret the individual effects of predictors on the response variable because the effects of collinear predictors are confounded.\n",
    "\n",
    "`Dimensionality Reduction`: In some cases, multicollinearity can be addressed by removing one or more highly correlated predictors or by performing dimensionality reduction techniques like principal component analysis (PCA)."
   ]
  },
  {
   "cell_type": "code",
   "execution_count": 34,
   "id": "7966eca3-1db2-4bd0-a7f3-279f4e65b88e",
   "metadata": {},
   "outputs": [],
   "source": [
    "from sklearn.datasets import load_breast_cancer\n",
    "\n",
    "import pandas as pd\n",
    "import numpy as np\n",
    "np.set_printoptions(precision=3, suppress=True)\n",
    "\n",
    "import matplotlib.pyplot as plt"
   ]
  },
  {
   "cell_type": "code",
   "execution_count": 35,
   "id": "e05dfc69-c6d3-4543-b610-7f3d27147ec7",
   "metadata": {},
   "outputs": [],
   "source": [
    "# Load the breast cancer dataset\n",
    "data = load_breast_cancer()\n",
    "X = data.data"
   ]
  },
  {
   "cell_type": "code",
   "execution_count": 36,
   "id": "def0ab80-54f2-4202-a678-3711dc44df30",
   "metadata": {},
   "outputs": [],
   "source": [
    "# Compute the correlation matrix\n",
    "correlation_matrix = np.corrcoef(X, rowvar=False)"
   ]
  },
  {
   "cell_type": "code",
   "execution_count": 37,
   "id": "65a1b200-f999-4a35-8920-31067870bf26",
   "metadata": {},
   "outputs": [],
   "source": [
    "# Compute the eigenvalues of the correlation matrix\n",
    "eigenvalues, _ = np.linalg.eig(correlation_matrix)"
   ]
  },
  {
   "cell_type": "code",
   "execution_count": 38,
   "id": "358abcdc-7cd9-42b8-8226-17a47a2c3934",
   "metadata": {},
   "outputs": [],
   "source": [
    "# Sort the eigenvalues in descending order\n",
    "eigenvalues_sorted = np.sort(eigenvalues)[::-1]"
   ]
  },
  {
   "cell_type": "code",
   "execution_count": 39,
   "id": "f5d32e28-dfdb-4939-9550-af00442d6f20",
   "metadata": {},
   "outputs": [
    {
     "name": "stdout",
     "output_type": "stream",
     "text": [
      "Eigenvalues of the correlation matrix:\n",
      "[13.282  5.691  2.818  1.981  1.649  1.207  0.675  0.477  0.417  0.351\n",
      "  0.294  0.261  0.241  0.157  0.094  0.08   0.059  0.053  0.049  0.031\n",
      "  0.03   0.027  0.024  0.018  0.015  0.008  0.007  0.002  0.001  0.   ]\n"
     ]
    }
   ],
   "source": [
    "# Print the eigenvalues\n",
    "print(\"Eigenvalues of the correlation matrix:\")\n",
    "print(eigenvalues_sorted)"
   ]
  },
  {
   "cell_type": "code",
   "execution_count": 40,
   "id": "c12f7115-ad69-44ad-b5b2-ce3a2f3907da",
   "metadata": {},
   "outputs": [
    {
     "name": "stdout",
     "output_type": "stream",
     "text": [
      "\n",
      "No multicollinearity detected in the dataset.\n"
     ]
    }
   ],
   "source": [
    "# Check if any eigenvalue is close to zero (indicating multicollinearity)\n",
    "tolerance = 1e-10\n",
    "multicollinear_indices = np.where(eigenvalues_sorted < tolerance)[0]\n",
    "\n",
    "if len(multicollinear_indices) > 0:\n",
    "    print(\"\\nMulticollinearity detected in the dataset.\")\n",
    "    print(\"Indices of eigenvalues close to zero:\", multicollinear_indices)\n",
    "else:\n",
    "    print(\"\\nNo multicollinearity detected in the dataset.\")"
   ]
  },
  {
   "cell_type": "markdown",
   "id": "9eabec42-6e17-43f8-bf36-e8069e281b3d",
   "metadata": {},
   "source": [
    "#### using dummy dataset"
   ]
  },
  {
   "cell_type": "code",
   "execution_count": 41,
   "id": "cf83bdc4-fe09-46a2-ac24-fd6b475e36c3",
   "metadata": {},
   "outputs": [],
   "source": [
    "from numpy.linalg import inv\n",
    "\n",
    "import scipy \n",
    "import scipy.linalg as la\n",
    "\n",
    "import seaborn as sns\n",
    "\n",
    "# import the ML algorithm\n",
    "import statsmodels.formula.api as smf\n",
    "from sklearn.linear_model import LinearRegression\n",
    "\n",
    "from sklearn.compose import ColumnTransformer\n",
    "from sklearn.preprocessing import StandardScaler\n",
    "from sklearn.preprocessing import MinMaxScaler\n",
    "from sklearn.preprocessing import RobustScaler\n",
    "\n",
    "from sklearn.model_selection import train_test_split\n",
    "\n",
    "from sklearn import metrics"
   ]
  },
  {
   "cell_type": "code",
   "execution_count": 42,
   "id": "4bad6b29-cfa7-49df-9b7d-9f4cf7f1ba5d",
   "metadata": {},
   "outputs": [],
   "source": [
    "# generate some random data\n",
    "np.random.seed(seed=100)\n",
    "\n",
    "X = np.random.randint(1,   50,  size=(10, 4))\n",
    "y = np.random.uniform(100, 200, size=10)"
   ]
  },
  {
   "cell_type": "code",
   "execution_count": 43,
   "id": "0072fde2-2e8f-4e98-9d37-adfecdf5909a",
   "metadata": {},
   "outputs": [
    {
     "data": {
      "text/plain": [
       "array([[ 1.   , -0.237, -0.069, -0.16 ],\n",
       "       [-0.237,  1.   , -0.044,  0.267],\n",
       "       [-0.069, -0.044,  1.   , -0.322],\n",
       "       [-0.16 ,  0.267, -0.322,  1.   ]])"
      ]
     },
     "execution_count": 43,
     "metadata": {},
     "output_type": "execute_result"
    }
   ],
   "source": [
    "np.corrcoef(X, rowvar=False)"
   ]
  },
  {
   "cell_type": "code",
   "execution_count": 44,
   "id": "368b066c-a73f-42e2-a595-a2636fcacd16",
   "metadata": {},
   "outputs": [
    {
     "name": "stdout",
     "output_type": "stream",
     "text": [
      "[1.52  1.148 0.741 0.591]\n",
      "[[ 0.39  -0.602  0.661  0.218]\n",
      " [-0.538  0.336  0.718 -0.286]\n",
      " [ 0.39   0.685  0.203  0.581]\n",
      " [-0.638 -0.234 -0.077  0.73 ]]\n"
     ]
    }
   ],
   "source": [
    "# check the multi collinearity\n",
    "corr = np.corrcoef(X, rowvar=False)\n",
    "\n",
    "eigvals, eigvecs = la.eig(corr)\n",
    "\n",
    "eigvals = eigvals.real\n",
    "\n",
    "print(eigvals)\n",
    "print(eigvecs)"
   ]
  },
  {
   "cell_type": "markdown",
   "id": "1f6bcc84-527d-4cf7-9ff6-4d40248af97f",
   "metadata": {},
   "source": [
    "there seems to __no multi-collinearity__, as there no eigen value = 0\n",
    "\n",
    "#### compute the beta coefficients"
   ]
  },
  {
   "cell_type": "code",
   "execution_count": 45,
   "id": "59f2b8ee-6129-484f-bfd5-736b0bfbe97e",
   "metadata": {},
   "outputs": [
    {
     "data": {
      "text/plain": [
       "array([1.977, 1.848, 1.018, 1.145])"
      ]
     },
     "execution_count": 45,
     "metadata": {},
     "output_type": "execute_result"
    }
   ],
   "source": [
    "# calculate the coefficients\n",
    "part1       = inv(np.dot(X.T, X))\n",
    "part2       = np.dot(X.T, y)\n",
    "\n",
    "beta_coeffs = np.dot(part1, part2)\n",
    "beta_coeffs"
   ]
  },
  {
   "cell_type": "code",
   "execution_count": 46,
   "id": "c74234e7-26ec-45ed-90e6-c77370987638",
   "metadata": {},
   "outputs": [
    {
     "name": "stdout",
     "output_type": "stream",
     "text": [
      "0.0\n",
      "[1.977 1.848 1.018 1.145]\n"
     ]
    }
   ],
   "source": [
    "# instantiate\n",
    "linreg = LinearRegression(fit_intercept=False)\n",
    "\n",
    "# fit the model to the training data (learn the coefficients)\n",
    "linreg.fit(X, y)\n",
    "\n",
    "# print the coefficients\n",
    "print(linreg.intercept_)\n",
    "print(linreg.coef_)"
   ]
  },
  {
   "cell_type": "code",
   "execution_count": 47,
   "id": "afaa1bae-f064-4867-9756-ed7046534703",
   "metadata": {},
   "outputs": [],
   "source": [
    "df = pd.DataFrame(X, columns=['c0', 'c1', 'c2', 'c3'])\n",
    "\n",
    "# white noise\n",
    "noise = np.random.randn(10)\n",
    "\n",
    "df['c4'] = 2 * df['c1'] + .5 * noise  + 3\n",
    "\n",
    "X_new = df.values"
   ]
  },
  {
   "cell_type": "code",
   "execution_count": 48,
   "id": "f93c8331-ba2a-424d-9e9d-58f0bc8063c2",
   "metadata": {},
   "outputs": [
    {
     "name": "stdout",
     "output_type": "stream",
     "text": [
      "[2.244 1.231 0.923 0.602 0.   ]\n",
      "[[-0.274  0.192 -0.885 -0.323 -0.004]\n",
      " [ 0.635 -0.168 -0.251  0.058 -0.709]\n",
      " [-0.113 -0.772  0.093 -0.619 -0.002]\n",
      " [ 0.33   0.556  0.278 -0.711  0.007]\n",
      " [ 0.632 -0.176 -0.26   0.062  0.706]]\n"
     ]
    }
   ],
   "source": [
    "# check the multi collinearity\n",
    "corr = np.corrcoef(X_new, rowvar=False)\n",
    "\n",
    "eigvals, eigvecs = la.eig(corr)\n",
    "\n",
    "eigvals = eigvals.real\n",
    "\n",
    "print(eigvals)\n",
    "print(eigvecs)"
   ]
  },
  {
   "cell_type": "code",
   "execution_count": 49,
   "id": "04594cf7-3659-40f6-bf08-8607463bb6c3",
   "metadata": {},
   "outputs": [],
   "source": [
    "# [1.52  1.148 0.741 0.591]\n",
    "# [[ 0.39  -0.602  0.661  0.218]\n",
    "#  [-0.538  0.336  0.718 -0.286]\n",
    "#  [ 0.39   0.685  0.203  0.581]\n",
    "#  [-0.638 -0.234 -0.077  0.73 ]]"
   ]
  },
  {
   "cell_type": "code",
   "execution_count": 50,
   "id": "bfc6dcfd-0b87-45d9-9910-078a3f730539",
   "metadata": {},
   "outputs": [
    {
     "name": "stdout",
     "output_type": "stream",
     "text": [
      "[[-0.004]\n",
      " [-0.709]\n",
      " [-0.002]\n",
      " [ 0.007]\n",
      " [ 0.706]]\n"
     ]
    }
   ],
   "source": [
    "ev0 = eigvecs[:,0].reshape(5,1)\n",
    "ev1 = eigvecs[:,1].reshape(5,1)\n",
    "ev2 = eigvecs[:,2].reshape(5,1)\n",
    "ev3 = eigvecs[:,3].reshape(5,1)\n",
    "ev4 = eigvecs[:,4].reshape(5,1)\n",
    "\n",
    "print(ev4)"
   ]
  },
  {
   "cell_type": "markdown",
   "id": "a58c76dd-6557-42b5-b6e9-9572ecbc53fb",
   "metadata": {},
   "source": [
    "#### Observation\n",
    "1. the eigen value e4 = 0\n",
    "2. look for the eigen vector of e4 and look for non-zero eigen co-ordinate\n",
    "    - in this case c1 = [-0.709] and c4 =[ 0.706] are collinear\n",
    "    \n",
    "#### compute the beta coefficients"
   ]
  },
  {
   "cell_type": "code",
   "execution_count": 51,
   "id": "7734f1bc-6708-4dd1-8fce-3e215185e9c2",
   "metadata": {},
   "outputs": [
    {
     "data": {
      "text/plain": [
       "array([ -0.149, -92.862,  -0.219,   0.605,  46.355])"
      ]
     },
     "execution_count": 51,
     "metadata": {},
     "output_type": "execute_result"
    }
   ],
   "source": [
    "X_new = df.values\n",
    "\n",
    "# calculate the coefficients\n",
    "part1       = inv(np.dot(X_new.T, X_new))\n",
    "part2       = np.dot(X_new.T, y)\n",
    "\n",
    "beta_coeffs = np.dot(part1, part2)\n",
    "beta_coeffs"
   ]
  },
  {
   "cell_type": "code",
   "execution_count": 52,
   "id": "0e3ecfeb-f012-4690-88d0-83dd80389ef5",
   "metadata": {},
   "outputs": [],
   "source": [
    "# array([1.977, 1.848, 1.018, 1.145])"
   ]
  },
  {
   "cell_type": "code",
   "execution_count": 53,
   "id": "aba0169b-59b4-4483-accf-f991e5e7b53d",
   "metadata": {},
   "outputs": [
    {
     "name": "stdout",
     "output_type": "stream",
     "text": [
      "0.0\n",
      "[ -0.149 -92.862  -0.219   0.605  46.355]\n"
     ]
    }
   ],
   "source": [
    "# instantiate\n",
    "linreg = LinearRegression(fit_intercept=False)\n",
    "\n",
    "# fit the model to the training data (learn the coefficients)\n",
    "linreg.fit(X_new, y)\n",
    "\n",
    "# print the coefficients\n",
    "print(linreg.intercept_)\n",
    "print(linreg.coef_)"
   ]
  },
  {
   "cell_type": "markdown",
   "id": "a2e56c24-8b39-4feb-820a-028eb3abe669",
   "metadata": {},
   "source": [
    "With NO multi-collinearity the coeff were:-\n",
    "\n",
    "[1.977 1.848 1.018 1.145]\n",
    "\n",
    "#### observation \n",
    "1. the coefficients have gone up \n",
    "2. Even the directions have changed in some cases"
   ]
  },
  {
   "cell_type": "markdown",
   "id": "ea45138f-d338-4e09-afd0-8a4098f4e23e",
   "metadata": {},
   "source": [
    "#### Identifying Multicollinearity\n",
    "\n",
    "**Small Eigenvalues:**\n",
    "\n",
    "If an eigenvalue is near zero, the corresponding eigenvector points in a direction where there is almost no variability in the data. This suggests that the data points are nearly collinear in that direction.\n",
    "\n",
    "**Eigenvectors and Predictors:**\n",
    "\n",
    "The eigenvector associated with a near-zero eigenvalue indicates a linear combination of the original predictor variables that has very little variance.\n",
    "In other words, the predictors involved in this linear combination are highly collinear.\n",
    "\n",
    "**Non-Zero Values in Eigenvectors**\n",
    "\n",
    "- Identifying Collinear Variables:\n",
    "\n",
    "    - The non-zero elements of the eigenvector indicate which predictor variables contribute to the linear combination with low variance.\n",
    "    - Large (in magnitude) non-zero values in an eigenvector show which variables are most involved in the multicollinear relationship.\n"
   ]
  },
  {
   "cell_type": "markdown",
   "id": "38f0b73e-8d50-4c94-aeb6-bd2aef38e559",
   "metadata": {},
   "source": [
    "#### we will add more multi collinearity"
   ]
  },
  {
   "cell_type": "code",
   "execution_count": 54,
   "id": "f04d1134-8f53-4dd7-b818-870ad930b25d",
   "metadata": {},
   "outputs": [],
   "source": [
    "df = pd.DataFrame(X, columns=['c0', 'c1', 'c2', 'c3'])\n",
    "\n",
    "# white noise\n",
    "noise = np.random.randn(10)\n",
    "\n",
    "df['c4'] = 2 * df['c0'] + df['c3'] + .5 * noise \n",
    "\n",
    "X_new = df.values"
   ]
  },
  {
   "cell_type": "code",
   "execution_count": 55,
   "id": "656c43d2-01cf-40ac-8528-f10cdd7ded08",
   "metadata": {},
   "outputs": [
    {
     "name": "stdout",
     "output_type": "stream",
     "text": [
      "[1.998 0.    1.512 0.859 0.631]\n",
      "[[ 0.646 -0.656 -0.26  -0.208 -0.201]\n",
      " [-0.175 -0.     0.5   -0.684 -0.502]\n",
      " [-0.236  0.002 -0.466 -0.669  0.529]\n",
      " [ 0.144 -0.321  0.678 -0.014  0.645]\n",
      " [ 0.689  0.683  0.07  -0.204  0.108]]\n"
     ]
    }
   ],
   "source": [
    "# check the multi collinearity\n",
    "corr = np.corrcoef(X_new, rowvar=False)\n",
    "\n",
    "eigvals, eigvecs = la.eig(corr)\n",
    "\n",
    "eigvals = eigvals.real\n",
    "\n",
    "print(eigvals)\n",
    "print(eigvecs)"
   ]
  },
  {
   "cell_type": "code",
   "execution_count": 56,
   "id": "3e876e02-898d-4daf-9caa-5a057a9c1dcd",
   "metadata": {},
   "outputs": [
    {
     "data": {
      "text/plain": [
       "array([-2.357,  1.845,  1.027, -1.008,  2.159])"
      ]
     },
     "execution_count": 56,
     "metadata": {},
     "output_type": "execute_result"
    }
   ],
   "source": [
    "# calculate the coefficients\n",
    "part1       = inv(np.dot(X_new.T, X_new))\n",
    "part2       = np.dot(X_new.T, y)\n",
    "\n",
    "beta_coeffs = np.dot(part1, part2)\n",
    "beta_coeffs"
   ]
  },
  {
   "cell_type": "markdown",
   "id": "464a2fd0-0bc5-47f9-9fbc-18512ae43ac0",
   "metadata": {},
   "source": [
    "array([  0.451, -71.213,   0.352,   0.141,  35.854])"
   ]
  },
  {
   "cell_type": "code",
   "execution_count": 57,
   "id": "03aa0217-f6b6-47c9-96bb-4603b3609db3",
   "metadata": {},
   "outputs": [
    {
     "name": "stdout",
     "output_type": "stream",
     "text": [
      "0.0\n",
      "[-2.357  1.845  1.027 -1.008  2.159]\n"
     ]
    }
   ],
   "source": [
    "# instantiate\n",
    "linreg = LinearRegression(fit_intercept=False)\n",
    "\n",
    "# fit the model to the training data (learn the coefficients)\n",
    "linreg.fit(X_new, y)\n",
    "\n",
    "# print the coefficients\n",
    "print(linreg.intercept_)\n",
    "print(linreg.coef_)"
   ]
  },
  {
   "cell_type": "markdown",
   "id": "62bdf49c-2f42-4126-a6bb-f353b084fc23",
   "metadata": {},
   "source": [
    "[  0.451 -71.213   0.352   0.141  35.854]"
   ]
  },
  {
   "cell_type": "markdown",
   "id": "e288e12c-7b02-48ea-9c8e-9cf11c9ac1fb",
   "metadata": {},
   "source": [
    "#### we will add PERFECT (worst for the model) multi collinearity\n",
    "- computing beta coefficient will be almost impossible"
   ]
  },
  {
   "cell_type": "code",
   "execution_count": 30,
   "id": "95956a1f-16f2-4138-953c-c52db0987577",
   "metadata": {},
   "outputs": [],
   "source": [
    "df = pd.DataFrame(X, columns=['c0', 'c1', 'c2', 'c3'])\n",
    "\n",
    "# white noise\n",
    "noise = np.random.randn(10)\n",
    "\n",
    "df['c4'] = df['c0'] * 2 \n",
    "\n",
    "X_new = df.values"
   ]
  },
  {
   "cell_type": "code",
   "execution_count": 31,
   "id": "47862ab4-ad0e-4444-a0a0-068c8dd502e5",
   "metadata": {},
   "outputs": [
    {
     "name": "stdout",
     "output_type": "stream",
     "text": [
      "[2.177 0.    1.364 0.861 0.598]\n",
      "[[-0.647  0.707  0.194 -0.202 -0.05 ]\n",
      " [ 0.317 -0.     0.289 -0.826  0.366]\n",
      " [-0.004 -0.    -0.666 -0.486 -0.566]\n",
      " [ 0.249  0.     0.63  -0.009 -0.736]\n",
      " [-0.647 -0.707  0.194 -0.202 -0.05 ]]\n"
     ]
    }
   ],
   "source": [
    "# check the multi collinearity\n",
    "corr = np.corrcoef(X_new, rowvar=False)\n",
    "\n",
    "eigvals, eigvecs = la.eig(corr)\n",
    "\n",
    "eigvals = eigvals.real\n",
    "\n",
    "print(eigvals)\n",
    "print(eigvecs)"
   ]
  },
  {
   "cell_type": "code",
   "execution_count": 32,
   "id": "f271aaa7-dd5d-4f40-99a7-9406b66a6a41",
   "metadata": {},
   "outputs": [
    {
     "data": {
      "text/plain": [
       "array([[ 9, 25,  4, 40, 18],\n",
       "       [24, 16, 49, 11, 48],\n",
       "       [31, 35,  3, 35, 62],\n",
       "       [15, 35, 49, 25, 30],\n",
       "       [16, 37, 44, 17, 32],\n",
       "       [10, 30, 23,  3, 20],\n",
       "       [28, 45,  5, 32, 56],\n",
       "       [ 2, 14, 20, 37,  4],\n",
       "       [ 5, 28,  4,  8, 10],\n",
       "       [48,  2, 15,  8, 96]])"
      ]
     },
     "execution_count": 32,
     "metadata": {},
     "output_type": "execute_result"
    }
   ],
   "source": [
    "X_new"
   ]
  },
  {
   "cell_type": "code",
   "execution_count": 33,
   "id": "ab527a5f-e12b-483a-96eb-6a27266aebee",
   "metadata": {},
   "outputs": [
    {
     "data": {
      "text/plain": [
       "array([[ 5316,  4635,  3894,  3780, 10632],\n",
       "       [ 4635,  8609,  5669,  6193,  9270],\n",
       "       [ 3894,  5669,  7958,  3898,  7788],\n",
       "       [ 3780,  6193,  3898,  6390,  7560],\n",
       "       [10632,  9270,  7788,  7560, 21264]])"
      ]
     },
     "execution_count": 33,
     "metadata": {},
     "output_type": "execute_result"
    }
   ],
   "source": [
    "np.dot(X_new.T, X_new)"
   ]
  },
  {
   "cell_type": "code",
   "execution_count": 34,
   "id": "0155e2b9-d8fa-4edb-91b1-c8286c5b9a31",
   "metadata": {},
   "outputs": [
    {
     "data": {
      "text/plain": [
       "array([27361.457, 37925.345, 30730.86 , 30194.901, 54722.914])"
      ]
     },
     "execution_count": 34,
     "metadata": {},
     "output_type": "execute_result"
    }
   ],
   "source": [
    "np.dot(X_new.T, y)"
   ]
  },
  {
   "cell_type": "code",
   "execution_count": 35,
   "id": "e990389b-2d6c-42b2-869d-bc320efcbb94",
   "metadata": {},
   "outputs": [
    {
     "ename": "LinAlgError",
     "evalue": "Singular matrix",
     "output_type": "error",
     "traceback": [
      "\u001b[1;31m---------------------------------------------------------------------------\u001b[0m",
      "\u001b[1;31mLinAlgError\u001b[0m                               Traceback (most recent call last)",
      "\u001b[1;32m~\\AppData\\Local\\Temp\\ipykernel_7932\\3204043241.py\u001b[0m in \u001b[0;36m<module>\u001b[1;34m\u001b[0m\n\u001b[1;32m----> 1\u001b[1;33m \u001b[0minv\u001b[0m\u001b[1;33m(\u001b[0m\u001b[0mnp\u001b[0m\u001b[1;33m.\u001b[0m\u001b[0mdot\u001b[0m\u001b[1;33m(\u001b[0m\u001b[0mX_new\u001b[0m\u001b[1;33m.\u001b[0m\u001b[0mT\u001b[0m\u001b[1;33m,\u001b[0m \u001b[0mX_new\u001b[0m\u001b[1;33m)\u001b[0m\u001b[1;33m)\u001b[0m\u001b[1;33m\u001b[0m\u001b[1;33m\u001b[0m\u001b[0m\n\u001b[0m",
      "\u001b[1;32m~\\AppData\\Roaming\\Python\\Python39\\site-packages\\numpy\\core\\overrides.py\u001b[0m in \u001b[0;36minv\u001b[1;34m(*args, **kwargs)\u001b[0m\n",
      "\u001b[1;32m~\\AppData\\Roaming\\Python\\Python39\\site-packages\\numpy\\linalg\\linalg.py\u001b[0m in \u001b[0;36minv\u001b[1;34m(a)\u001b[0m\n\u001b[0;32m    550\u001b[0m     \u001b[0msignature\u001b[0m \u001b[1;33m=\u001b[0m \u001b[1;34m'D->D'\u001b[0m \u001b[1;32mif\u001b[0m \u001b[0misComplexType\u001b[0m\u001b[1;33m(\u001b[0m\u001b[0mt\u001b[0m\u001b[1;33m)\u001b[0m \u001b[1;32melse\u001b[0m \u001b[1;34m'd->d'\u001b[0m\u001b[1;33m\u001b[0m\u001b[1;33m\u001b[0m\u001b[0m\n\u001b[0;32m    551\u001b[0m     \u001b[0mextobj\u001b[0m \u001b[1;33m=\u001b[0m \u001b[0mget_linalg_error_extobj\u001b[0m\u001b[1;33m(\u001b[0m\u001b[0m_raise_linalgerror_singular\u001b[0m\u001b[1;33m)\u001b[0m\u001b[1;33m\u001b[0m\u001b[1;33m\u001b[0m\u001b[0m\n\u001b[1;32m--> 552\u001b[1;33m     \u001b[0mainv\u001b[0m \u001b[1;33m=\u001b[0m \u001b[0m_umath_linalg\u001b[0m\u001b[1;33m.\u001b[0m\u001b[0minv\u001b[0m\u001b[1;33m(\u001b[0m\u001b[0ma\u001b[0m\u001b[1;33m,\u001b[0m \u001b[0msignature\u001b[0m\u001b[1;33m=\u001b[0m\u001b[0msignature\u001b[0m\u001b[1;33m,\u001b[0m \u001b[0mextobj\u001b[0m\u001b[1;33m=\u001b[0m\u001b[0mextobj\u001b[0m\u001b[1;33m)\u001b[0m\u001b[1;33m\u001b[0m\u001b[1;33m\u001b[0m\u001b[0m\n\u001b[0m\u001b[0;32m    553\u001b[0m     \u001b[1;32mreturn\u001b[0m \u001b[0mwrap\u001b[0m\u001b[1;33m(\u001b[0m\u001b[0mainv\u001b[0m\u001b[1;33m.\u001b[0m\u001b[0mastype\u001b[0m\u001b[1;33m(\u001b[0m\u001b[0mresult_t\u001b[0m\u001b[1;33m,\u001b[0m \u001b[0mcopy\u001b[0m\u001b[1;33m=\u001b[0m\u001b[1;32mFalse\u001b[0m\u001b[1;33m)\u001b[0m\u001b[1;33m)\u001b[0m\u001b[1;33m\u001b[0m\u001b[1;33m\u001b[0m\u001b[0m\n\u001b[0;32m    554\u001b[0m \u001b[1;33m\u001b[0m\u001b[0m\n",
      "\u001b[1;32m~\\AppData\\Roaming\\Python\\Python39\\site-packages\\numpy\\linalg\\linalg.py\u001b[0m in \u001b[0;36m_raise_linalgerror_singular\u001b[1;34m(err, flag)\u001b[0m\n\u001b[0;32m     87\u001b[0m \u001b[1;33m\u001b[0m\u001b[0m\n\u001b[0;32m     88\u001b[0m \u001b[1;32mdef\u001b[0m \u001b[0m_raise_linalgerror_singular\u001b[0m\u001b[1;33m(\u001b[0m\u001b[0merr\u001b[0m\u001b[1;33m,\u001b[0m \u001b[0mflag\u001b[0m\u001b[1;33m)\u001b[0m\u001b[1;33m:\u001b[0m\u001b[1;33m\u001b[0m\u001b[1;33m\u001b[0m\u001b[0m\n\u001b[1;32m---> 89\u001b[1;33m     \u001b[1;32mraise\u001b[0m \u001b[0mLinAlgError\u001b[0m\u001b[1;33m(\u001b[0m\u001b[1;34m\"Singular matrix\"\u001b[0m\u001b[1;33m)\u001b[0m\u001b[1;33m\u001b[0m\u001b[1;33m\u001b[0m\u001b[0m\n\u001b[0m\u001b[0;32m     90\u001b[0m \u001b[1;33m\u001b[0m\u001b[0m\n\u001b[0;32m     91\u001b[0m \u001b[1;32mdef\u001b[0m \u001b[0m_raise_linalgerror_nonposdef\u001b[0m\u001b[1;33m(\u001b[0m\u001b[0merr\u001b[0m\u001b[1;33m,\u001b[0m \u001b[0mflag\u001b[0m\u001b[1;33m)\u001b[0m\u001b[1;33m:\u001b[0m\u001b[1;33m\u001b[0m\u001b[1;33m\u001b[0m\u001b[0m\n",
      "\u001b[1;31mLinAlgError\u001b[0m: Singular matrix"
     ]
    }
   ],
   "source": [
    "inv(np.dot(X_new.T, X_new))"
   ]
  },
  {
   "cell_type": "code",
   "execution_count": 25,
   "id": "c244b6f2-89b3-4112-a9e2-78605a0a298d",
   "metadata": {},
   "outputs": [
    {
     "ename": "LinAlgError",
     "evalue": "Singular matrix",
     "output_type": "error",
     "traceback": [
      "\u001b[1;31m---------------------------------------------------------------------------\u001b[0m",
      "\u001b[1;31mLinAlgError\u001b[0m                               Traceback (most recent call last)",
      "\u001b[1;32m~\\AppData\\Local\\Temp\\ipykernel_23772\\1287578408.py\u001b[0m in \u001b[0;36m<module>\u001b[1;34m\u001b[0m\n\u001b[0;32m      1\u001b[0m \u001b[1;31m# calculate the coefficients\u001b[0m\u001b[1;33m\u001b[0m\u001b[1;33m\u001b[0m\u001b[0m\n\u001b[1;32m----> 2\u001b[1;33m \u001b[0mpart1\u001b[0m       \u001b[1;33m=\u001b[0m \u001b[0minv\u001b[0m\u001b[1;33m(\u001b[0m\u001b[0mnp\u001b[0m\u001b[1;33m.\u001b[0m\u001b[0mdot\u001b[0m\u001b[1;33m(\u001b[0m\u001b[0mX_new\u001b[0m\u001b[1;33m.\u001b[0m\u001b[0mT\u001b[0m\u001b[1;33m,\u001b[0m \u001b[0mX_new\u001b[0m\u001b[1;33m)\u001b[0m\u001b[1;33m)\u001b[0m\u001b[1;33m\u001b[0m\u001b[1;33m\u001b[0m\u001b[0m\n\u001b[0m\u001b[0;32m      3\u001b[0m \u001b[0mpart2\u001b[0m       \u001b[1;33m=\u001b[0m \u001b[0mnp\u001b[0m\u001b[1;33m.\u001b[0m\u001b[0mdot\u001b[0m\u001b[1;33m(\u001b[0m\u001b[0mX_new\u001b[0m\u001b[1;33m.\u001b[0m\u001b[0mT\u001b[0m\u001b[1;33m,\u001b[0m \u001b[0my\u001b[0m\u001b[1;33m)\u001b[0m\u001b[1;33m\u001b[0m\u001b[1;33m\u001b[0m\u001b[0m\n\u001b[0;32m      4\u001b[0m \u001b[1;33m\u001b[0m\u001b[0m\n\u001b[0;32m      5\u001b[0m \u001b[0mbeta_coeffs\u001b[0m \u001b[1;33m=\u001b[0m \u001b[0mnp\u001b[0m\u001b[1;33m.\u001b[0m\u001b[0mdot\u001b[0m\u001b[1;33m(\u001b[0m\u001b[0mpart1\u001b[0m\u001b[1;33m,\u001b[0m \u001b[0mpart2\u001b[0m\u001b[1;33m)\u001b[0m\u001b[1;33m\u001b[0m\u001b[1;33m\u001b[0m\u001b[0m\n",
      "\u001b[1;32m~\\AppData\\Roaming\\Python\\Python39\\site-packages\\numpy\\core\\overrides.py\u001b[0m in \u001b[0;36minv\u001b[1;34m(*args, **kwargs)\u001b[0m\n",
      "\u001b[1;32m~\\AppData\\Roaming\\Python\\Python39\\site-packages\\numpy\\linalg\\linalg.py\u001b[0m in \u001b[0;36minv\u001b[1;34m(a)\u001b[0m\n\u001b[0;32m    550\u001b[0m     \u001b[0msignature\u001b[0m \u001b[1;33m=\u001b[0m \u001b[1;34m'D->D'\u001b[0m \u001b[1;32mif\u001b[0m \u001b[0misComplexType\u001b[0m\u001b[1;33m(\u001b[0m\u001b[0mt\u001b[0m\u001b[1;33m)\u001b[0m \u001b[1;32melse\u001b[0m \u001b[1;34m'd->d'\u001b[0m\u001b[1;33m\u001b[0m\u001b[1;33m\u001b[0m\u001b[0m\n\u001b[0;32m    551\u001b[0m     \u001b[0mextobj\u001b[0m \u001b[1;33m=\u001b[0m \u001b[0mget_linalg_error_extobj\u001b[0m\u001b[1;33m(\u001b[0m\u001b[0m_raise_linalgerror_singular\u001b[0m\u001b[1;33m)\u001b[0m\u001b[1;33m\u001b[0m\u001b[1;33m\u001b[0m\u001b[0m\n\u001b[1;32m--> 552\u001b[1;33m     \u001b[0mainv\u001b[0m \u001b[1;33m=\u001b[0m \u001b[0m_umath_linalg\u001b[0m\u001b[1;33m.\u001b[0m\u001b[0minv\u001b[0m\u001b[1;33m(\u001b[0m\u001b[0ma\u001b[0m\u001b[1;33m,\u001b[0m \u001b[0msignature\u001b[0m\u001b[1;33m=\u001b[0m\u001b[0msignature\u001b[0m\u001b[1;33m,\u001b[0m \u001b[0mextobj\u001b[0m\u001b[1;33m=\u001b[0m\u001b[0mextobj\u001b[0m\u001b[1;33m)\u001b[0m\u001b[1;33m\u001b[0m\u001b[1;33m\u001b[0m\u001b[0m\n\u001b[0m\u001b[0;32m    553\u001b[0m     \u001b[1;32mreturn\u001b[0m \u001b[0mwrap\u001b[0m\u001b[1;33m(\u001b[0m\u001b[0mainv\u001b[0m\u001b[1;33m.\u001b[0m\u001b[0mastype\u001b[0m\u001b[1;33m(\u001b[0m\u001b[0mresult_t\u001b[0m\u001b[1;33m,\u001b[0m \u001b[0mcopy\u001b[0m\u001b[1;33m=\u001b[0m\u001b[1;32mFalse\u001b[0m\u001b[1;33m)\u001b[0m\u001b[1;33m)\u001b[0m\u001b[1;33m\u001b[0m\u001b[1;33m\u001b[0m\u001b[0m\n\u001b[0;32m    554\u001b[0m \u001b[1;33m\u001b[0m\u001b[0m\n",
      "\u001b[1;32m~\\AppData\\Roaming\\Python\\Python39\\site-packages\\numpy\\linalg\\linalg.py\u001b[0m in \u001b[0;36m_raise_linalgerror_singular\u001b[1;34m(err, flag)\u001b[0m\n\u001b[0;32m     87\u001b[0m \u001b[1;33m\u001b[0m\u001b[0m\n\u001b[0;32m     88\u001b[0m \u001b[1;32mdef\u001b[0m \u001b[0m_raise_linalgerror_singular\u001b[0m\u001b[1;33m(\u001b[0m\u001b[0merr\u001b[0m\u001b[1;33m,\u001b[0m \u001b[0mflag\u001b[0m\u001b[1;33m)\u001b[0m\u001b[1;33m:\u001b[0m\u001b[1;33m\u001b[0m\u001b[1;33m\u001b[0m\u001b[0m\n\u001b[1;32m---> 89\u001b[1;33m     \u001b[1;32mraise\u001b[0m \u001b[0mLinAlgError\u001b[0m\u001b[1;33m(\u001b[0m\u001b[1;34m\"Singular matrix\"\u001b[0m\u001b[1;33m)\u001b[0m\u001b[1;33m\u001b[0m\u001b[1;33m\u001b[0m\u001b[0m\n\u001b[0m\u001b[0;32m     90\u001b[0m \u001b[1;33m\u001b[0m\u001b[0m\n\u001b[0;32m     91\u001b[0m \u001b[1;32mdef\u001b[0m \u001b[0m_raise_linalgerror_nonposdef\u001b[0m\u001b[1;33m(\u001b[0m\u001b[0merr\u001b[0m\u001b[1;33m,\u001b[0m \u001b[0mflag\u001b[0m\u001b[1;33m)\u001b[0m\u001b[1;33m:\u001b[0m\u001b[1;33m\u001b[0m\u001b[1;33m\u001b[0m\u001b[0m\n",
      "\u001b[1;31mLinAlgError\u001b[0m: Singular matrix"
     ]
    }
   ],
   "source": [
    "# calculate the coefficients\n",
    "part1       = inv(np.dot(X_new.T, X_new))\n",
    "part2       = np.dot(X_new.T, y)\n",
    "\n",
    "beta_coeffs = np.dot(part1, part2)\n",
    "beta_coeffs"
   ]
  },
  {
   "cell_type": "code",
   "execution_count": null,
   "id": "cf68a953-2b53-472a-8569-bc0e9c54bf4b",
   "metadata": {},
   "outputs": [],
   "source": []
  },
  {
   "cell_type": "code",
   "execution_count": null,
   "id": "9911aedc-9467-419b-8087-8de7fbab96ce",
   "metadata": {},
   "outputs": [],
   "source": []
  }
 ],
 "metadata": {
  "kernelspec": {
   "display_name": "Python 3 (ipykernel)",
   "language": "python",
   "name": "python3"
  },
  "language_info": {
   "codemirror_mode": {
    "name": "ipython",
    "version": 3
   },
   "file_extension": ".py",
   "mimetype": "text/x-python",
   "name": "python",
   "nbconvert_exporter": "python",
   "pygments_lexer": "ipython3",
   "version": "3.9.13"
  }
 },
 "nbformat": 4,
 "nbformat_minor": 5
}
