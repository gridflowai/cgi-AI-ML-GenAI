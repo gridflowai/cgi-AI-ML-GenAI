{
 "cells": [
  {
   "cell_type": "code",
   "execution_count": 3,
   "id": "bd4ce4ab-2839-43e8-8a2d-1a2b3134d690",
   "metadata": {
    "tags": []
   },
   "outputs": [],
   "source": [
    "#!pip install mlxtend"
   ]
  },
  {
   "cell_type": "markdown",
   "id": "2ff43646-3361-401e-9b0b-aa85928aa1ed",
   "metadata": {},
   "source": [
    "-----------------------\n",
    "#### Sequential Forward Selection (SFS) \n",
    "------------------\n",
    "- is a wrapper method used for feature selection. \n",
    "- In this method, features are added to the model one at a time, and at each step, the feature that improves the model performance the most is selected. \n",
    "- This process continues until a predefined number of features is reached or until further addition of features does not improve the performance.\n"
   ]
  },
  {
   "cell_type": "code",
   "execution_count": 18,
   "id": "e21917d8-7079-42ac-aef8-731e13c12c6a",
   "metadata": {
    "tags": []
   },
   "outputs": [],
   "source": [
    "# Import necessary libraries\n",
    "import numpy as np\n",
    "import pandas as pd\n",
    "from sklearn.datasets import load_breast_cancer\n",
    "from sklearn.model_selection import train_test_split\n",
    "\n",
    "from sklearn.ensemble import RandomForestClassifier\n",
    "from sklearn.tree import DecisionTreeClassifier\n",
    "from mlxtend.feature_selection import SequentialFeatureSelector"
   ]
  },
  {
   "cell_type": "code",
   "execution_count": 11,
   "id": "170ad1b0-5971-42fe-970b-c899de18b7a5",
   "metadata": {
    "tags": []
   },
   "outputs": [],
   "source": [
    "# Load the breast cancer dataset\n",
    "data = load_breast_cancer()\n",
    "X = pd.DataFrame(data.data, columns=data.feature_names)\n",
    "y = pd.Series(data.target, name='target')"
   ]
  },
  {
   "cell_type": "code",
   "execution_count": 7,
   "id": "63f4f068-7c1c-46e3-ac4c-873761cd8776",
   "metadata": {
    "tags": []
   },
   "outputs": [
    {
     "data": {
      "text/plain": [
       "(569, 30)"
      ]
     },
     "execution_count": 7,
     "metadata": {},
     "output_type": "execute_result"
    }
   ],
   "source": [
    "X.shape"
   ]
  },
  {
   "cell_type": "code",
   "execution_count": 3,
   "id": "12e33ade-0fe9-46ff-a1bf-893add952f52",
   "metadata": {
    "tags": []
   },
   "outputs": [],
   "source": [
    "# Split the dataset into training and testing sets\n",
    "X_train, X_test, y_train, y_test = train_test_split(X, y, test_size=0.2, random_state=42)"
   ]
  },
  {
   "cell_type": "code",
   "execution_count": 19,
   "id": "99598f06-7cb9-4bd6-a7c3-6a6f999f7cf9",
   "metadata": {
    "tags": []
   },
   "outputs": [],
   "source": [
    "# Create a random forest classifier (you can choose a different classifier)\n",
    "clf = DecisionTreeClassifier()"
   ]
  },
  {
   "cell_type": "code",
   "execution_count": 20,
   "id": "06810772-d257-407f-8429-5aed71309537",
   "metadata": {
    "tags": []
   },
   "outputs": [],
   "source": [
    "# Sequential Forward Selection\n",
    "sfs = SequentialFeatureSelector(clf, \n",
    "                                k_features= 'best', \n",
    "                                forward   = True, \n",
    "                                floating  = False, \n",
    "                                scoring   = 'accuracy', \n",
    "                                cv        = 5)"
   ]
  },
  {
   "cell_type": "code",
   "execution_count": 21,
   "id": "bfa8a462-362a-4f53-8f06-7b97e6493980",
   "metadata": {
    "tags": []
   },
   "outputs": [
    {
     "name": "stdout",
     "output_type": "stream",
     "text": [
      "CPU times: total: 9.47 s\n",
      "Wall time: 20.8 s\n"
     ]
    }
   ],
   "source": [
    "%%time\n",
    "# Fit the Sequential Feature Selector to the training data\n",
    "sfs = sfs.fit(X_train, y_train)"
   ]
  },
  {
   "cell_type": "code",
   "execution_count": 22,
   "id": "32bc1e6a-aa3d-457b-a92f-b2ac3fb1ea0c",
   "metadata": {
    "tags": []
   },
   "outputs": [
    {
     "name": "stdout",
     "output_type": "stream",
     "text": [
      "Iteration-wise Feature Selection:\n",
      "Step 1: Features - ['worst concave points'], Accuracy: 88.57%\n",
      "Step 2: Features - ['worst radius', 'worst concave points'], Accuracy: 92.09%\n",
      "Step 3: Features - ['worst radius', 'worst texture', 'worst concave points'], Accuracy: 94.51%\n",
      "Step 4: Features - ['concavity error', 'worst radius', 'worst texture', 'worst concave points'], Accuracy: 95.16%\n",
      "Step 5: Features - ['concavity error', 'fractal dimension error', 'worst radius', 'worst texture', 'worst concave points'], Accuracy: 94.73%\n",
      "Step 6: Features - ['area error', 'concavity error', 'fractal dimension error', 'worst radius', 'worst texture', 'worst concave points'], Accuracy: 94.73%\n",
      "Step 7: Features - ['mean radius', 'area error', 'concavity error', 'fractal dimension error', 'worst radius', 'worst texture', 'worst concave points'], Accuracy: 94.51%\n",
      "Step 8: Features - ['mean radius', 'mean area', 'area error', 'concavity error', 'fractal dimension error', 'worst radius', 'worst texture', 'worst concave points'], Accuracy: 94.29%\n",
      "Step 9: Features - ['mean radius', 'mean area', 'mean concave points', 'area error', 'concavity error', 'fractal dimension error', 'worst radius', 'worst texture', 'worst concave points'], Accuracy: 94.95%\n",
      "Step 10: Features - ['mean radius', 'mean texture', 'mean area', 'mean concave points', 'area error', 'concavity error', 'fractal dimension error', 'worst radius', 'worst texture', 'worst concave points'], Accuracy: 95.60%\n",
      "Step 11: Features - ['mean radius', 'mean texture', 'mean area', 'mean concave points', 'perimeter error', 'area error', 'concavity error', 'fractal dimension error', 'worst radius', 'worst texture', 'worst concave points'], Accuracy: 95.16%\n",
      "Step 12: Features - ['mean radius', 'mean texture', 'mean area', 'mean concave points', 'perimeter error', 'area error', 'concavity error', 'fractal dimension error', 'worst radius', 'worst texture', 'worst smoothness', 'worst concave points'], Accuracy: 95.16%\n",
      "Step 13: Features - ['mean radius', 'mean texture', 'mean area', 'mean concave points', 'perimeter error', 'area error', 'concavity error', 'symmetry error', 'fractal dimension error', 'worst radius', 'worst texture', 'worst smoothness', 'worst concave points'], Accuracy: 95.38%\n",
      "Step 14: Features - ['mean radius', 'mean texture', 'mean area', 'mean concave points', 'perimeter error', 'area error', 'concavity error', 'concave points error', 'symmetry error', 'fractal dimension error', 'worst radius', 'worst texture', 'worst smoothness', 'worst concave points'], Accuracy: 95.38%\n",
      "Step 15: Features - ['mean radius', 'mean texture', 'mean area', 'mean concave points', 'texture error', 'perimeter error', 'area error', 'concavity error', 'concave points error', 'symmetry error', 'fractal dimension error', 'worst radius', 'worst texture', 'worst smoothness', 'worst concave points'], Accuracy: 94.95%\n",
      "Step 16: Features - ['mean radius', 'mean texture', 'mean area', 'mean concave points', 'texture error', 'perimeter error', 'area error', 'concavity error', 'concave points error', 'symmetry error', 'fractal dimension error', 'worst radius', 'worst texture', 'worst smoothness', 'worst compactness', 'worst concave points'], Accuracy: 94.73%\n",
      "Step 17: Features - ['mean radius', 'mean texture', 'mean area', 'mean concavity', 'mean concave points', 'texture error', 'perimeter error', 'area error', 'concavity error', 'concave points error', 'symmetry error', 'fractal dimension error', 'worst radius', 'worst texture', 'worst smoothness', 'worst compactness', 'worst concave points'], Accuracy: 94.51%\n",
      "Step 18: Features - ['mean radius', 'mean texture', 'mean area', 'mean concavity', 'mean concave points', 'texture error', 'perimeter error', 'area error', 'concavity error', 'concave points error', 'symmetry error', 'fractal dimension error', 'worst radius', 'worst texture', 'worst perimeter', 'worst smoothness', 'worst compactness', 'worst concave points'], Accuracy: 94.29%\n",
      "Step 19: Features - ['mean radius', 'mean texture', 'mean area', 'mean concavity', 'mean concave points', 'texture error', 'perimeter error', 'area error', 'smoothness error', 'concavity error', 'concave points error', 'symmetry error', 'fractal dimension error', 'worst radius', 'worst texture', 'worst perimeter', 'worst smoothness', 'worst compactness', 'worst concave points'], Accuracy: 94.29%\n",
      "Step 20: Features - ['mean radius', 'mean texture', 'mean area', 'mean concavity', 'mean concave points', 'radius error', 'texture error', 'perimeter error', 'area error', 'smoothness error', 'concavity error', 'concave points error', 'symmetry error', 'fractal dimension error', 'worst radius', 'worst texture', 'worst perimeter', 'worst smoothness', 'worst compactness', 'worst concave points'], Accuracy: 94.29%\n",
      "Step 21: Features - ['mean radius', 'mean texture', 'mean area', 'mean concavity', 'mean concave points', 'radius error', 'texture error', 'perimeter error', 'area error', 'smoothness error', 'concavity error', 'concave points error', 'symmetry error', 'fractal dimension error', 'worst radius', 'worst texture', 'worst perimeter', 'worst smoothness', 'worst compactness', 'worst concave points', 'worst fractal dimension'], Accuracy: 94.07%\n",
      "Step 22: Features - ['mean radius', 'mean texture', 'mean area', 'mean concavity', 'mean concave points', 'radius error', 'texture error', 'perimeter error', 'area error', 'smoothness error', 'compactness error', 'concavity error', 'concave points error', 'symmetry error', 'fractal dimension error', 'worst radius', 'worst texture', 'worst perimeter', 'worst smoothness', 'worst compactness', 'worst concave points', 'worst fractal dimension'], Accuracy: 94.07%\n",
      "Step 23: Features - ['mean radius', 'mean texture', 'mean area', 'mean concavity', 'mean concave points', 'radius error', 'texture error', 'perimeter error', 'area error', 'smoothness error', 'compactness error', 'concavity error', 'concave points error', 'symmetry error', 'fractal dimension error', 'worst radius', 'worst texture', 'worst perimeter', 'worst smoothness', 'worst compactness', 'worst concavity', 'worst concave points', 'worst fractal dimension'], Accuracy: 93.85%\n",
      "Step 24: Features - ['mean radius', 'mean texture', 'mean perimeter', 'mean area', 'mean concavity', 'mean concave points', 'radius error', 'texture error', 'perimeter error', 'area error', 'smoothness error', 'compactness error', 'concavity error', 'concave points error', 'symmetry error', 'fractal dimension error', 'worst radius', 'worst texture', 'worst perimeter', 'worst smoothness', 'worst compactness', 'worst concavity', 'worst concave points', 'worst fractal dimension'], Accuracy: 93.85%\n",
      "Step 25: Features - ['mean radius', 'mean texture', 'mean perimeter', 'mean area', 'mean concavity', 'mean concave points', 'radius error', 'texture error', 'perimeter error', 'area error', 'smoothness error', 'compactness error', 'concavity error', 'concave points error', 'symmetry error', 'fractal dimension error', 'worst radius', 'worst texture', 'worst perimeter', 'worst smoothness', 'worst compactness', 'worst concavity', 'worst concave points', 'worst symmetry', 'worst fractal dimension'], Accuracy: 92.97%\n",
      "Step 26: Features - ['mean radius', 'mean texture', 'mean perimeter', 'mean area', 'mean smoothness', 'mean concavity', 'mean concave points', 'radius error', 'texture error', 'perimeter error', 'area error', 'smoothness error', 'compactness error', 'concavity error', 'concave points error', 'symmetry error', 'fractal dimension error', 'worst radius', 'worst texture', 'worst perimeter', 'worst smoothness', 'worst compactness', 'worst concavity', 'worst concave points', 'worst symmetry', 'worst fractal dimension'], Accuracy: 92.53%\n",
      "Step 27: Features - ['mean radius', 'mean texture', 'mean perimeter', 'mean area', 'mean smoothness', 'mean compactness', 'mean concavity', 'mean concave points', 'radius error', 'texture error', 'perimeter error', 'area error', 'smoothness error', 'compactness error', 'concavity error', 'concave points error', 'symmetry error', 'fractal dimension error', 'worst radius', 'worst texture', 'worst perimeter', 'worst smoothness', 'worst compactness', 'worst concavity', 'worst concave points', 'worst symmetry', 'worst fractal dimension'], Accuracy: 92.97%\n",
      "Step 28: Features - ['mean radius', 'mean texture', 'mean perimeter', 'mean area', 'mean smoothness', 'mean compactness', 'mean concavity', 'mean concave points', 'mean fractal dimension', 'radius error', 'texture error', 'perimeter error', 'area error', 'smoothness error', 'compactness error', 'concavity error', 'concave points error', 'symmetry error', 'fractal dimension error', 'worst radius', 'worst texture', 'worst perimeter', 'worst smoothness', 'worst compactness', 'worst concavity', 'worst concave points', 'worst symmetry', 'worst fractal dimension'], Accuracy: 93.41%\n",
      "Step 29: Features - ['mean radius', 'mean texture', 'mean perimeter', 'mean area', 'mean smoothness', 'mean compactness', 'mean concavity', 'mean concave points', 'mean symmetry', 'mean fractal dimension', 'radius error', 'texture error', 'perimeter error', 'area error', 'smoothness error', 'compactness error', 'concavity error', 'concave points error', 'symmetry error', 'fractal dimension error', 'worst radius', 'worst texture', 'worst perimeter', 'worst smoothness', 'worst compactness', 'worst concavity', 'worst concave points', 'worst symmetry', 'worst fractal dimension'], Accuracy: 92.75%\n",
      "Step 30: Features - ['mean radius', 'mean texture', 'mean perimeter', 'mean area', 'mean smoothness', 'mean compactness', 'mean concavity', 'mean concave points', 'mean symmetry', 'mean fractal dimension', 'radius error', 'texture error', 'perimeter error', 'area error', 'smoothness error', 'compactness error', 'concavity error', 'concave points error', 'symmetry error', 'fractal dimension error', 'worst radius', 'worst texture', 'worst perimeter', 'worst area', 'worst smoothness', 'worst compactness', 'worst concavity', 'worst concave points', 'worst symmetry', 'worst fractal dimension'], Accuracy: 90.99%\n"
     ]
    }
   ],
   "source": [
    "# Print the selected features at each step\n",
    "print(pes}, Accuracy: {accuracy:.2%}\")"
   ]
  },
  {
   "cell_type": "code",
   "execution_count": 23,
   "id": "756fb8f4-bdad-4f6b-bbba-98840caf3443",
   "metadata": {
    "tags": []
   },
   "outputs": [
    {
     "name": "stdout",
     "output_type": "stream",
     "text": [
      "\n",
      "Selected Features: ['mean radius', 'mean texture', 'mean area', 'mean concave points', 'area error', 'concavity error', 'fractal dimension error', 'worst radius', 'worst texture', 'worst concave points']\n",
      "Model Accuracy with Selected Features: 95.60%\n"
     ]
    }
   ],
   "source": [
    "\n",
    "# Print the final selected features\n",
    "selected_features = list(X_train.columns[list(sfs.k_feature_idx_)])\n",
    "print(\"\\nSelected Features:\", selected_features)\n",
    "\n",
    "# Evaluate the model with selected features on the test set\n",
    "accuracy = sfs.k_score_\n",
    "print(f\"Model Accuracy with Selected Features: {accuracy:.2%}\")"
   ]
  },
  {
   "cell_type": "code",
   "execution_count": null,
   "id": "b62b395e-3863-4669-b562-8a169d796555",
   "metadata": {},
   "outputs": [],
   "source": []
  }
 ],
 "metadata": {
  "kernelspec": {
   "display_name": "Python 3 (ipykernel)",
   "language": "python",
   "name": "python3"
  },
  "language_info": {
   "codemirror_mode": {
    "name": "ipython",
    "version": 3
   },
   "file_extension": ".py",
   "mimetype": "text/x-python",
   "name": "python",
   "nbconvert_exporter": "python",
   "pygments_lexer": "ipython3",
   "version": "3.11.5"
  }
 },
 "nbformat": 4,
 "nbformat_minor": 5
}
