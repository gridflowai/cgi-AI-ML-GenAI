{
 "cells": [
  {
   "cell_type": "markdown",
   "id": "a73fb0ca-a21e-49f5-98ac-42b7c6f86cbd",
   "metadata": {},
   "source": [
    "---------------------------\n",
    "#### predicting from a trained Generator\n",
    "------------------------------"
   ]
  },
  {
   "cell_type": "code",
   "execution_count": 19,
   "id": "c3610bd4-f123-4869-a21e-fa7eeadb0faf",
   "metadata": {
    "id": "xYOZ-yMKyOXS",
    "tags": []
   },
   "outputs": [],
   "source": [
    "from tensorflow.keras.models import load_model\n",
    "import numpy as np\n",
    "import matplotlib.pyplot as plt\n",
    "\n",
    "# Load the GAN model\n",
    "loaded_gen = load_model(\"./model/generator_model_mnist.h5\")"
   ]
  },
  {
   "cell_type": "code",
   "execution_count": 20,
   "id": "bc16ad1d-8ab2-4e6e-86a0-7f4a3ed6b67f",
   "metadata": {
    "tags": []
   },
   "outputs": [],
   "source": [
    "z_dim   = 100\n",
    "examples= 10\n",
    "dim     = (1, 10)\n",
    "figsize = (10, 1)"
   ]
  },
  {
   "cell_type": "code",
   "execution_count": 21,
   "id": "286b7e80-667a-4926-b465-87769efd4959",
   "metadata": {
    "colab": {
     "base_uri": "https://localhost:8080/",
     "height": 423
    },
    "id": "-RLPrOCPx0M5",
    "outputId": "d6514b20-a9d0-4725-d12c-48baaf0c4944",
    "tags": []
   },
   "outputs": [
    {
     "name": "stdout",
     "output_type": "stream",
     "text": [
      "1/1 [==============================] - 0s 345ms/step\n"
     ]
    },
    {
     "data": {
      "image/png": "[encoded data removed]",
      "text/plain": [
       "<Figure size 1000x100 with 10 Axes>"
      ]
     },
     "metadata": {},
     "output_type": "display_data"
    }
   ],
   "source": [
    "noise = np.random.normal(0, 1, (examples, z_dim))\n",
    "\n",
    "generated_images = loaded_gen.predict(noise)\n",
    "generated_images = generated_images.reshape(examples, 28, 28)\n",
    "\n",
    "plt.figure(figsize=figsize)\n",
    "\n",
    "for i in range(generated_images.shape[0]):\n",
    "    plt.subplot(dim[0], dim[1], i + 1)\n",
    "    plt.imshow(generated_images[i], interpolation='nearest', cmap='gray_r')\n",
    "    plt.axis('off')\n"
   ]
  },
  {
   "cell_type": "code",
   "execution_count": null,
   "id": "d807b1d6-17cc-4a68-99fe-470f52eff22e",
   "metadata": {},
   "outputs": [],
   "source": []
  }
 ],
 "metadata": {
  "kernelspec": {
   "display_name": "Python 3 (ipykernel)",
   "language": "python",
   "name": "python3"
  },
  "language_info": {
   "codemirror_mode": {
    "name": "ipython",
    "version": 3
   },
   "file_extension": ".py",
   "mimetype": "text/x-python",
   "name": "python",
   "nbconvert_exporter": "python",
   "pygments_lexer": "ipython3",
   "version": "3.11.5"
  }
 },
 "nbformat": 4,
 "nbformat_minor": 5
}
