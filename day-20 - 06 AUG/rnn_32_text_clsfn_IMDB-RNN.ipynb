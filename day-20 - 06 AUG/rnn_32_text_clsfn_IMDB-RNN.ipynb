{
 "cells": [
  {
   "cell_type": "markdown",
   "metadata": {},
   "source": [
    "--------------------\n",
    "#### Movie Sentiment Analysis \n",
    "\n",
    "- IMDB dataset\n",
    "- data processing\n",
    "- keras tokenizer\n",
    "- RNN\n",
    "- Evaluate\n",
    "----------------------"
   ]
  },
  {
   "cell_type": "markdown",
   "metadata": {},
   "source": [
    "#### dataset \n",
    "\n",
    "can be downloaded from this Kaggle link.https://www.kaggle.com/lakshmi25npathi/imdb-dataset-of-50k-movie-reviews\n",
    "\n",
    "The file contains 50,000 records and two columns: review and sentiment. \n",
    "\n",
    "The review column contains text for the review and the sentiment column contains sentiment for the review. \n",
    "\n",
    "The sentiment column can have two values i.e. \"positive\" and \"negative\" which makes our problem a binary classification problem."
   ]
  },
  {
   "cell_type": "code",
   "execution_count": 61,
   "metadata": {
    "tags": []
   },
   "outputs": [],
   "source": [
    "import pandas as pd\n",
    "import numpy as np\n",
    "from numpy import array\n",
    "import re\n",
    "import nltk\n",
    "\n",
    "import matplotlib.pylab as plt\n",
    "\n",
    "from keras.preprocessing.text import one_hot\n",
    "#from keras.preprocessing.sequence import pad_sequences\n",
    "from keras.utils import pad_sequences\n",
    "\n",
    "from keras.models import Sequential\n",
    "from keras.layers import Activation, Dropout, Dense, BatchNormalization\n",
    "from keras.layers import Flatten\n",
    "from keras.layers import GlobalMaxPooling1D\n",
    "\n",
    "from keras.layers import Embedding\n",
    "from keras.preprocessing.text import Tokenizer\n",
    "\n",
    "from sklearn.model_selection import train_test_split"
   ]
  },
  {
   "cell_type": "markdown",
   "metadata": {},
   "source": [
    "#### Importing and Analyzing the Dataset"
   ]
  },
  {
   "cell_type": "code",
   "execution_count": 62,
   "metadata": {
    "tags": []
   },
   "outputs": [],
   "source": [
    "location = r'D:\\AI-DATASETS\\02-MISC-large\\keras\\datasets\\IMDB-cleaned-text.csv'"
   ]
  },
  {
   "cell_type": "code",
   "execution_count": 63,
   "metadata": {
    "tags": []
   },
   "outputs": [],
   "source": [
    "movie_reviews = pd.read_csv(location)"
   ]
  },
  {
   "cell_type": "code",
   "execution_count": 64,
   "metadata": {
    "tags": []
   },
   "outputs": [
    {
     "data": {
      "text/plain": [
       "False"
      ]
     },
     "execution_count": 64,
     "metadata": {},
     "output_type": "execute_result"
    }
   ],
   "source": [
    "movie_reviews.isnull().values.any()"
   ]
  },
  {
   "cell_type": "code",
   "execution_count": 65,
   "metadata": {
    "tags": []
   },
   "outputs": [
    {
     "data": {
      "text/plain": [
       "(50000, 6)"
      ]
     },
     "execution_count": 65,
     "metadata": {},
     "output_type": "execute_result"
    }
   ],
   "source": [
    "movie_reviews.shape"
   ]
  },
  {
   "cell_type": "code",
   "execution_count": 66,
   "metadata": {
    "tags": []
   },
   "outputs": [],
   "source": [
    "pd.set_option('max_colwidth', None)"
   ]
  },
  {
   "cell_type": "markdown",
   "metadata": {},
   "source": [
    "sample rows a few times and note down data processing steps"
   ]
  },
  {
   "cell_type": "code",
   "execution_count": 67,
   "metadata": {
    "tags": []
   },
   "outputs": [
    {
     "data": {
      "text/html": [
       "<div>\n",
       "<style scoped>\n",
       "    .dataframe tbody tr th:only-of-type {\n",
       "        vertical-align: middle;\n",
       "    }\n",
       "\n",
       "    .dataframe tbody tr th {\n",
       "        vertical-align: top;\n",
       "    }\n",
       "\n",
       "    .dataframe thead th {\n",
       "        text-align: right;\n",
       "    }\n",
       "</style>\n",
       "<table border=\"1\" class=\"dataframe\">\n",
       "  <thead>\n",
       "    <tr style=\"text-align: right;\">\n",
       "      <th></th>\n",
       "      <th>Unnamed: 0</th>\n",
       "      <th>review</th>\n",
       "      <th>sentiment</th>\n",
       "      <th>contractions</th>\n",
       "      <th>ExpandedText</th>\n",
       "      <th>CleanedText</th>\n",
       "    </tr>\n",
       "  </thead>\n",
       "  <tbody>\n",
       "    <tr>\n",
       "      <th>28436</th>\n",
       "      <td>28436</td>\n",
       "      <td>After an initial release of 4 very good Eurotrash titles, REDEMPTION has managed to scrape the bottom of the barrel with THE BLOODSUCKER LEADS THE DANCE. I found NO Bloodsuckers anywhere in this movie.&lt;br /&gt;&lt;br /&gt;The story is simple. A mysterious count invites several actresses to his castle for a little vacation. After some sofcore sexual shenanigans the girls get decapitated one by one. Who is the killer? Who knows? There are more red herrings in this one than at the local fish market on Friday.&lt;br /&gt;&lt;br /&gt;The pace is excruciating. The story is silly and the skin scenes aren't all that terrific either.&lt;br /&gt;&lt;br /&gt;Give this one a miss.</td>\n",
       "      <td>negative</td>\n",
       "      <td>[]</td>\n",
       "      <td>After an initial release of 4 very good Eurotrash titles, REDEMPTION has managed to scrape the bottom of the barrel with THE BLOODSUCKER LEADS THE DANCE. I found NO Bloodsuckers anywhere in this movie.&lt;br /&gt;&lt;br /&gt;The story is simple. A mysterious count invites several actresses to his castle for a little vacation. After some sofcore sexual shenanigans the girls get decapitated one by one. Who is the killer? Who knows? There are more red herrings in this one than at the local fish market on Friday.&lt;br /&gt;&lt;br /&gt;The pace is excruciating. The story is silly and the skin scenes are not all that terrific either.&lt;br /&gt;&lt;br /&gt;Give this one a miss.</td>\n",
       "      <td>After an initial release of very good Eurotrash titles REDEMPTION has managed to scrape the bottom of the barrel with THE BLOODSUCKER LEADS THE DANCE found NO Bloodsuckers anywhere in this movie The story is simple mysterious count invites several actresses to his castle for little vacation After some sofcore sexual shenanigans the girls get decapitated one by one Who is the killer Who knows There are more red herrings in this one than at the local fish market on Friday The pace is excruciating The story is silly and the skin scenes are not all that terrific either Give this one miss</td>\n",
       "    </tr>\n",
       "    <tr>\n",
       "      <th>45059</th>\n",
       "      <td>45059</td>\n",
       "      <td>This was a classic case of something that should never have been. Gloria was now a single mother, her husband had left her because she wouldn't live in some commune with him (he was mad that Reagan had been elected and wanted to turn his back on society). Right then and there I had problems with the series - come on, I say to myself, is this the same noble Michael Stivic that countered Archie Bunker's right winged philosophies? The series went on, but it just didn't have any pizazz. Whatever momentum Sally Struthers gained from All the Family was long gone. Maybe, if the series had been given another name and presented as being totally independent of All In The Family, it might have worked out. Ah well, that's show business.</td>\n",
       "      <td>negative</td>\n",
       "      <td>[]</td>\n",
       "      <td>This was a classic case of something that should never have been. Gloria was now a single mother, her husband had left her because she would not live in some commune with him (he was mad that Reagan had been elected and wanted to turn his back on society). Right then and there I had problems with the series - come on, I say to myself, is this the same noble Michael Stivic that countered Archie Bunker's right winged philosophies? The series went on, but it just did not have any pizazz. Whatever momentum Sally Struthers gained from All the Family was long gone. Maybe, if the series had been given another name and presented as being totally independent of All In The Family, it might have worked out. Ah well, that is show business.</td>\n",
       "      <td>This was classic case of something that should never have been Gloria was now single mother her husband had left her because she would not live in some commune with him he was mad that Reagan had been elected and wanted to turn his back on society Right then and there had problems with the series come on say to myself is this the same noble Michael Stivic that countered Archie Bunker right winged philosophies The series went on but it just did not have any pizazz Whatever momentum Sally Struthers gained from All the Family was long gone Maybe if the series had been given another name and presented as being totally independent of All In The Family it might have worked out Ah well that is show business</td>\n",
       "    </tr>\n",
       "    <tr>\n",
       "      <th>4046</th>\n",
       "      <td>4046</td>\n",
       "      <td>Twins Effect, starring some of HK's most popular stars provides one of the most enjoyable film experiences to come out of HK in sometime. It has something for everyone, action, comedy, horror, romance, and some drama. This film can't be taken too seriously, otherwise you'd go in dissapointed, but if you leave your brain at the door, and just watch the film for some fun, you're bound to enjoy it.&lt;br /&gt;&lt;br /&gt;Great special effects, excellent action, cute Twins, cool HK actors, FUN film!&lt;br /&gt;&lt;br /&gt;I'd recommend it to anyone!</td>\n",
       "      <td>positive</td>\n",
       "      <td>[]</td>\n",
       "      <td>Twins Effect, starring some of HK's most popular stars provides one of the most enjoyable film experiences to come out of HK in sometime. It has something for everyone, action, comedy, horror, romance, and some drama. This film cannot be taken too seriously, otherwise you would go in dissapointed, but if you leave your brain at the door, and just watch the film for some fun, you are bound to enjoy it.&lt;br /&gt;&lt;br /&gt;Great special effects, excellent action, cute Twins, cool HK actors, FUN film!&lt;br /&gt;&lt;br /&gt;I would recommend it to anyone!</td>\n",
       "      <td>Twins Effect starring some of HK most popular stars provides one of the most enjoyable film experiences to come out of HK in sometime It has something for everyone action comedy horror romance and some drama This film cannot be taken too seriously otherwise you would go in dissapointed but if you leave your brain at the door and just watch the film for some fun you are bound to enjoy it Great special effects excellent action cute Twins cool HK actors FUN film would recommend it to anyone</td>\n",
       "    </tr>\n",
       "  </tbody>\n",
       "</table>\n",
       "</div>"
      ],
      "text/plain": [
       "       Unnamed: 0  \\\n",
       "28436       28436   \n",
       "45059       45059   \n",
       "4046         4046   \n",
       "\n",
       "                                                                                                                                                                                                                                                                                                                                                                                                                                                                                                                                                                                                                                                                                                                                                               review  \\\n",
       "28436                                                                                            After an initial release of 4 very good Eurotrash titles, REDEMPTION has managed to scrape the bottom of the barrel with THE BLOODSUCKER LEADS THE DANCE. I found NO Bloodsuckers anywhere in this movie.<br /><br />The story is simple. A mysterious count invites several actresses to his castle for a little vacation. After some sofcore sexual shenanigans the girls get decapitated one by one. Who is the killer? Who knows? There are more red herrings in this one than at the local fish market on Friday.<br /><br />The pace is excruciating. The story is silly and the skin scenes aren't all that terrific either.<br /><br />Give this one a miss.   \n",
       "45059  This was a classic case of something that should never have been. Gloria was now a single mother, her husband had left her because she wouldn't live in some commune with him (he was mad that Reagan had been elected and wanted to turn his back on society). Right then and there I had problems with the series - come on, I say to myself, is this the same noble Michael Stivic that countered Archie Bunker's right winged philosophies? The series went on, but it just didn't have any pizazz. Whatever momentum Sally Struthers gained from All the Family was long gone. Maybe, if the series had been given another name and presented as being totally independent of All In The Family, it might have worked out. Ah well, that's show business.   \n",
       "4046                                                                                                                                                                                                                  Twins Effect, starring some of HK's most popular stars provides one of the most enjoyable film experiences to come out of HK in sometime. It has something for everyone, action, comedy, horror, romance, and some drama. This film can't be taken too seriously, otherwise you'd go in dissapointed, but if you leave your brain at the door, and just watch the film for some fun, you're bound to enjoy it.<br /><br />Great special effects, excellent action, cute Twins, cool HK actors, FUN film!<br /><br />I'd recommend it to anyone!   \n",
       "\n",
       "      sentiment contractions  \\\n",
       "28436  negative           []   \n",
       "45059  negative           []   \n",
       "4046   positive           []   \n",
       "\n",
       "                                                                                                                                                                                                                                                                                                                                                                                                                                                                                                                                                                                                                                                                                                                                                            ExpandedText  \\\n",
       "28436                                                                                              After an initial release of 4 very good Eurotrash titles, REDEMPTION has managed to scrape the bottom of the barrel with THE BLOODSUCKER LEADS THE DANCE. I found NO Bloodsuckers anywhere in this movie.<br /><br />The story is simple. A mysterious count invites several actresses to his castle for a little vacation. After some sofcore sexual shenanigans the girls get decapitated one by one. Who is the killer? Who knows? There are more red herrings in this one than at the local fish market on Friday.<br /><br />The pace is excruciating. The story is silly and the skin scenes are not all that terrific either.<br /><br />Give this one a miss.   \n",
       "45059  This was a classic case of something that should never have been. Gloria was now a single mother, her husband had left her because she would not live in some commune with him (he was mad that Reagan had been elected and wanted to turn his back on society). Right then and there I had problems with the series - come on, I say to myself, is this the same noble Michael Stivic that countered Archie Bunker's right winged philosophies? The series went on, but it just did not have any pizazz. Whatever momentum Sally Struthers gained from All the Family was long gone. Maybe, if the series had been given another name and presented as being totally independent of All In The Family, it might have worked out. Ah well, that is show business.   \n",
       "4046                                                                                                                                                                                                           Twins Effect, starring some of HK's most popular stars provides one of the most enjoyable film experiences to come out of HK in sometime. It has something for everyone, action, comedy, horror, romance, and some drama. This film cannot be taken too seriously, otherwise you would go in dissapointed, but if you leave your brain at the door, and just watch the film for some fun, you are bound to enjoy it.<br /><br />Great special effects, excellent action, cute Twins, cool HK actors, FUN film!<br /><br />I would recommend it to anyone!   \n",
       "\n",
       "                                                                                                                                                                                                                                                                                                                                                                                                                                                                                                                                                                                                                                                                                                                                  CleanedText  \n",
       "28436                                                                                                                         After an initial release of very good Eurotrash titles REDEMPTION has managed to scrape the bottom of the barrel with THE BLOODSUCKER LEADS THE DANCE found NO Bloodsuckers anywhere in this movie The story is simple mysterious count invites several actresses to his castle for little vacation After some sofcore sexual shenanigans the girls get decapitated one by one Who is the killer Who knows There are more red herrings in this one than at the local fish market on Friday The pace is excruciating The story is silly and the skin scenes are not all that terrific either Give this one miss   \n",
       "45059  This was classic case of something that should never have been Gloria was now single mother her husband had left her because she would not live in some commune with him he was mad that Reagan had been elected and wanted to turn his back on society Right then and there had problems with the series come on say to myself is this the same noble Michael Stivic that countered Archie Bunker right winged philosophies The series went on but it just did not have any pizazz Whatever momentum Sally Struthers gained from All the Family was long gone Maybe if the series had been given another name and presented as being totally independent of All In The Family it might have worked out Ah well that is show business   \n",
       "4046                                                                                                                                                                                                                            Twins Effect starring some of HK most popular stars provides one of the most enjoyable film experiences to come out of HK in sometime It has something for everyone action comedy horror romance and some drama This film cannot be taken too seriously otherwise you would go in dissapointed but if you leave your brain at the door and just watch the film for some fun you are bound to enjoy it Great special effects excellent action cute Twins cool HK actors FUN film would recommend it to anyone   "
      ]
     },
     "execution_count": 67,
     "metadata": {},
     "output_type": "execute_result"
    }
   ],
   "source": [
    "movie_reviews.sample(3)"
   ]
  },
  {
   "cell_type": "markdown",
   "metadata": {},
   "source": [
    "text contains punctuations, brackets, and a few HTML tags as well. \n",
    "\n",
    "We will preprocess this text distribution of positive and negative sentiments in our dataset."
   ]
  },
  {
   "cell_type": "code",
   "execution_count": 68,
   "metadata": {
    "tags": []
   },
   "outputs": [
    {
     "data": {
      "image/png": "[encoded data removed]",
      "text/plain": [
       "<Figure size 640x480 with 1 Axes>"
      ]
     },
     "metadata": {},
     "output_type": "display_data"
    }
   ],
   "source": [
    "import seaborn as sns\n",
    "\n",
    "sns.countplot(x='sentiment', data=movie_reviews);"
   ]
  },
  {
   "cell_type": "markdown",
   "metadata": {},
   "source": [
    "From the output, it is clear that the dataset contains equal number of positive and negative reviews"
   ]
  },
  {
   "cell_type": "markdown",
   "metadata": {},
   "source": [
    "Next, we need to convert our labels into digits. \n",
    "\n",
    "Since we only have two labels in the output i.e. \"positive\" and \"negative\".\n",
    "\n",
    "We can simply convert them into integers by replacing \"positive\" with digit 1 and negative with digit 0"
   ]
  },
  {
   "cell_type": "code",
   "execution_count": 69,
   "metadata": {
    "tags": []
   },
   "outputs": [],
   "source": [
    "y = movie_reviews['sentiment']\n",
    "\n",
    "y = np.array(list(map(lambda x: 1 if x==\"positive\" else 0, y)))"
   ]
  },
  {
   "cell_type": "markdown",
   "metadata": {},
   "source": [
    "Finally, we need to divide our dataset into train and test sets. The train set will be used to train our deep learning models while the test set will be used to evaluate how well our model performs.\n",
    "\n",
    "We can use train_test_split method from the sklearn.model.selection module"
   ]
  },
  {
   "cell_type": "code",
   "execution_count": 70,
   "metadata": {
    "tags": []
   },
   "outputs": [],
   "source": [
    "X = movie_reviews['CleanedText']"
   ]
  },
  {
   "cell_type": "code",
   "execution_count": 71,
   "metadata": {
    "tags": []
   },
   "outputs": [],
   "source": [
    "X_train, X_test, y_train, y_test = train_test_split(X, \n",
    "                                                    y, \n",
    "                                                    test_size   = 0.20, \n",
    "                                                    random_state= 42)"
   ]
  },
  {
   "cell_type": "code",
   "execution_count": 72,
   "metadata": {},
   "outputs": [
    {
     "data": {
      "text/plain": [
       "((40000,), (10000,))"
      ]
     },
     "execution_count": 72,
     "metadata": {},
     "output_type": "execute_result"
    }
   ],
   "source": [
    "X_train.shape, X_test.shape"
   ]
  },
  {
   "cell_type": "markdown",
   "metadata": {},
   "source": [
    "#### Tokenize \n",
    "- using keras tokenizer\n",
    "\n",
    "In the word-to-index dictionary, each word in the corpus is used as a key, while a corresponding unique index is used as the value for the key."
   ]
  },
  {
   "cell_type": "markdown",
   "metadata": {},
   "source": [
    "`num_words:`\n",
    "- the maximum number of words to keep, based on word frequency. \n",
    "- Only the most common `num_words-1` words will be kept."
   ]
  },
  {
   "cell_type": "code",
   "execution_count": 73,
   "metadata": {
    "tags": []
   },
   "outputs": [
    {
     "name": "stdout",
     "output_type": "stream",
     "text": [
      "Wall time: 8.35 s\n"
     ]
    }
   ],
   "source": [
    "%%time\n",
    "num_words = 15000\n",
    "\n",
    "tokenizer = Tokenizer(num_words=num_words)\n",
    "tokenizer.fit_on_texts(X_train)"
   ]
  },
  {
   "cell_type": "code",
   "execution_count": 74,
   "metadata": {
    "tags": []
   },
   "outputs": [
    {
     "name": "stdout",
     "output_type": "stream",
     "text": [
      "40000\n"
     ]
    }
   ],
   "source": [
    "print(tokenizer.document_count)"
   ]
  },
  {
   "cell_type": "code",
   "execution_count": 75,
   "metadata": {
    "tags": []
   },
   "outputs": [
    {
     "name": "stdout",
     "output_type": "stream",
     "text": [
      "that  :  115759\n",
      "is  :  221840\n",
      "what  :  26092\n",
      "kept  :  1204\n",
      "asking  :  375\n",
      "myself  :  1848\n",
      "during  :  3442\n",
      "the  :  534563\n",
      "many  :  10734\n",
      "fights  :  435\n",
      "screaming  :  403\n",
      "matches  :  155\n",
      "swearing  :  89\n",
      "and  :  259130\n",
      "general  :  1211\n"
     ]
    }
   ],
   "source": [
    "for token, count in zip(list(tokenizer.word_counts.keys())[:15], list(tokenizer.word_counts.values())[:15]):\n",
    "    print(token, ' : ', count)"
   ]
  },
  {
   "cell_type": "code",
   "execution_count": 76,
   "metadata": {
    "tags": []
   },
   "outputs": [],
   "source": [
    "# print(tokenizer.word_docs,'\\n')\n",
    "# print(tokenizer.word_index,'\\n')"
   ]
  },
  {
   "cell_type": "markdown",
   "metadata": {},
   "source": [
    "Transforms each text in texts to a sequence of integers.\n",
    "\n",
    "Only top `num_words-1` most frequent words will be taken into account.\n",
    "Only words known by the tokenizer will be taken into account."
   ]
  },
  {
   "cell_type": "code",
   "execution_count": 77,
   "metadata": {
    "tags": []
   },
   "outputs": [
    {
     "name": "stdout",
     "output_type": "stream",
     "text": [
      "Wall time: 8.17 s\n"
     ]
    }
   ],
   "source": [
    "%%time\n",
    "X_train = tokenizer.texts_to_sequences(X_train)\n",
    "X_test  = tokenizer.texts_to_sequences(X_test)"
   ]
  },
  {
   "cell_type": "code",
   "execution_count": 78,
   "metadata": {
    "tags": []
   },
   "outputs": [
    {
     "name": "stdout",
     "output_type": "stream",
     "text": [
      "[[9, 4, 44, 771, 2101, 513, 290, 1, 106, 1842, 1969, 4255, 6378, 2, 767, 4757, 9, 1, 219, 1, 6061, 82, 749, 53, 50, 18, 99, 3, 1, 24, 1948, 100, 31, 21, 32, 117, 1086, 9, 6, 4, 2301, 1149, 5, 437, 44, 529, 5, 88, 28, 20, 38, 877, 387, 14, 1, 152, 5, 2911, 23, 4292, 19, 2873, 9, 43, 77, 212, 73, 123, 7, 81, 3076, 188, 19, 225, 2, 1, 416, 193, 4860, 94, 10, 61, 24, 14, 14347, 76, 349, 290, 17, 16, 6, 193, 25, 293, 9, 12, 1, 1802, 9962, 114, 402, 2, 12, 1, 1634, 11113, 551, 65, 408, 364, 37, 10, 115, 44, 112, 352, 28, 11719, 33, 16, 42, 11, 88, 45, 6717, 14, 348, 12145, 1130, 60, 7, 1, 448, 208, 977, 5, 4099, 7, 171, 3, 32, 422, 667, 594, 9, 70, 52, 226, 109, 815, 33, 165, 27, 211, 9, 4, 1, 412, 351, 55, 3672, 266, 10111, 154, 1656, 182, 4, 1, 11503, 11308, 697, 1886, 1, 1162, 3, 2815, 11309, 3648, 1636, 2, 144, 94, 220, 3, 198, 311, 2, 94, 1036, 15, 87, 3, 130, 2767, 8586, 16, 68, 10, 9075, 97, 3, 1, 3949, 290, 8, 13, 960, 33, 1, 473, 2545, 234, 70, 78, 106, 106, 665, 9824, 58, 12617, 84, 70, 20, 1316, 5, 218, 130, 20, 4293, 29, 136, 200, 1108, 12, 4315, 5183, 29, 2254, 2, 7, 8, 4, 427, 12, 597, 3, 1, 689, 2891, 1, 1233, 2, 70, 3547, 1, 152, 1463, 1, 1201, 5, 1567, 1, 847, 1209, 5, 1, 287, 138, 2831, 2, 395, 601, 1, 256, 4, 3489, 962, 5, 25, 38, 13412, 12, 1222, 209, 63, 2, 35, 4, 27, 211, 24, 184, 1415, 7, 1052, 16, 4840, 75, 1, 216, 64, 342, 67, 54, 24, 5, 3523, 14, 6, 4, 10, 187, 5, 8117, 844, 3405, 1702, 18, 21, 5, 155, 189, 143, 108, 9, 43, 10, 449, 77, 212, 5, 312, 2, 3406, 31, 20, 48, 72, 1826, 4640, 12, 6, 1350, 8, 17, 4, 3450, 1970, 15, 60, 1, 2358, 448, 508, 2, 166, 2502, 2675, 1727, 5, 560, 6, 33, 1, 3726, 193, 336, 3788]]\n"
     ]
    }
   ],
   "source": [
    "print(X_train[:1])"
   ]
  },
  {
   "cell_type": "markdown",
   "metadata": {},
   "source": [
    "If you view the X_train variable in variable explorer, you will see that it contains 40,000 lists where each list contains integers. \n",
    "\n",
    "Each list actually corresponds to each sentence in the training set. \n",
    "\n",
    "You will also notice that the size of each list is different. This is because sentences have different lengths.\n",
    "\n",
    "We set the maximum size of each list to 100. We can try a different size. \n",
    "\n",
    "The lists with size greater than 100 will be truncated to 100. For the lists that have length less than 100, we will add 0 at the end of the list until it reaches the max length. This process is called __padding__."
   ]
  },
  {
   "cell_type": "code",
   "execution_count": 79,
   "metadata": {
    "tags": []
   },
   "outputs": [
    {
     "data": {
      "text/plain": [
       "266"
      ]
     },
     "execution_count": 79,
     "metadata": {},
     "output_type": "execute_result"
    }
   ],
   "source": [
    "len(X_train[1])"
   ]
  },
  {
   "cell_type": "code",
   "execution_count": 80,
   "metadata": {
    "tags": []
   },
   "outputs": [
    {
     "data": {
      "text/plain": [
       "92462"
      ]
     },
     "execution_count": 80,
     "metadata": {},
     "output_type": "execute_result"
    }
   ],
   "source": [
    "# Adding 1 because of reserved 0 index\n",
    "vocab_size = len(tokenizer.word_index) + 1\n",
    "vocab_size"
   ]
  },
  {
   "cell_type": "markdown",
   "metadata": {},
   "source": [
    "**pad sequences**\n",
    "\n",
    "- examples"
   ]
  },
  {
   "cell_type": "code",
   "execution_count": 81,
   "metadata": {
    "tags": []
   },
   "outputs": [
    {
     "data": {
      "text/plain": [
       "array([[0, 0, 1],\n",
       "       [0, 2, 3],\n",
       "       [4, 5, 6]])"
      ]
     },
     "execution_count": 81,
     "metadata": {},
     "output_type": "execute_result"
    }
   ],
   "source": [
    "sequence = [[1], [2, 3], [4, 5, 6]]\n",
    "pad_sequences(sequence)"
   ]
  },
  {
   "cell_type": "code",
   "execution_count": 82,
   "metadata": {
    "tags": []
   },
   "outputs": [
    {
     "data": {
      "text/plain": [
       "array([[-1, -1,  1],\n",
       "       [-1,  2,  3],\n",
       "       [ 4,  5,  6]])"
      ]
     },
     "execution_count": 82,
     "metadata": {},
     "output_type": "execute_result"
    }
   ],
   "source": [
    "pad_sequences(sequence, value=-1)"
   ]
  },
  {
   "cell_type": "code",
   "execution_count": 83,
   "metadata": {
    "tags": []
   },
   "outputs": [
    {
     "data": {
      "text/plain": [
       "array([[1, 0, 0],\n",
       "       [2, 3, 0],\n",
       "       [4, 5, 6]])"
      ]
     },
     "execution_count": 83,
     "metadata": {},
     "output_type": "execute_result"
    }
   ],
   "source": [
    "pad_sequences(sequence, padding='post')"
   ]
  },
  {
   "cell_type": "code",
   "execution_count": 84,
   "metadata": {
    "tags": []
   },
   "outputs": [
    {
     "data": {
      "text/plain": [
       "array([[0, 0, 0, 0, 0, 0, 0, 0, 0, 0, 0, 0, 0, 0, 0, 0, 0, 0, 0, 1],\n",
       "       [0, 0, 0, 0, 0, 0, 0, 0, 0, 0, 0, 0, 0, 0, 0, 0, 0, 0, 2, 3],\n",
       "       [0, 0, 0, 0, 0, 0, 0, 0, 0, 0, 0, 0, 0, 0, 0, 0, 0, 4, 5, 6]])"
      ]
     },
     "execution_count": 84,
     "metadata": {},
     "output_type": "execute_result"
    }
   ],
   "source": [
    "pad_sequences(sequence, maxlen=20)"
   ]
  },
  {
   "cell_type": "markdown",
   "metadata": {},
   "source": [
    ".. back to the code ..."
   ]
  },
  {
   "cell_type": "markdown",
   "metadata": {},
   "source": [
    "**determine the length of documents**\n"
   ]
  },
  {
   "cell_type": "code",
   "execution_count": 85,
   "metadata": {
    "tags": []
   },
   "outputs": [],
   "source": [
    "number_tokens_in_docs = []\n",
    "\n",
    "for i in range(len(X_train)):\n",
    "    number_tokens_in_docs.append(len(X_train[i]))"
   ]
  },
  {
   "cell_type": "code",
   "execution_count": 86,
   "metadata": {
    "tags": []
   },
   "outputs": [
    {
     "data": {
      "text/html": [
       "<div>\n",
       "<style scoped>\n",
       "    .dataframe tbody tr th:only-of-type {\n",
       "        vertical-align: middle;\n",
       "    }\n",
       "\n",
       "    .dataframe tbody tr th {\n",
       "        vertical-align: top;\n",
       "    }\n",
       "\n",
       "    .dataframe thead th {\n",
       "        text-align: right;\n",
       "    }\n",
       "</style>\n",
       "<table border=\"1\" class=\"dataframe\">\n",
       "  <thead>\n",
       "    <tr style=\"text-align: right;\">\n",
       "      <th></th>\n",
       "      <th>0</th>\n",
       "    </tr>\n",
       "  </thead>\n",
       "  <tbody>\n",
       "    <tr>\n",
       "      <th>count</th>\n",
       "      <td>40000.000000</td>\n",
       "    </tr>\n",
       "    <tr>\n",
       "      <th>mean</th>\n",
       "      <td>214.590300</td>\n",
       "    </tr>\n",
       "    <tr>\n",
       "      <th>std</th>\n",
       "      <td>158.948742</td>\n",
       "    </tr>\n",
       "    <tr>\n",
       "      <th>min</th>\n",
       "      <td>6.000000</td>\n",
       "    </tr>\n",
       "    <tr>\n",
       "      <th>25%</th>\n",
       "      <td>118.000000</td>\n",
       "    </tr>\n",
       "    <tr>\n",
       "      <th>50%</th>\n",
       "      <td>161.000000</td>\n",
       "    </tr>\n",
       "    <tr>\n",
       "      <th>75%</th>\n",
       "      <td>260.000000</td>\n",
       "    </tr>\n",
       "    <tr>\n",
       "      <th>max</th>\n",
       "      <td>2185.000000</td>\n",
       "    </tr>\n",
       "  </tbody>\n",
       "</table>\n",
       "</div>"
      ],
      "text/plain": [
       "                  0\n",
       "count  40000.000000\n",
       "mean     214.590300\n",
       "std      158.948742\n",
       "min        6.000000\n",
       "25%      118.000000\n",
       "50%      161.000000\n",
       "75%      260.000000\n",
       "max     2185.000000"
      ]
     },
     "execution_count": 86,
     "metadata": {},
     "output_type": "execute_result"
    }
   ],
   "source": [
    "pd.DataFrame(number_tokens_in_docs).describe()"
   ]
  },
  {
   "cell_type": "code",
   "execution_count": 87,
   "metadata": {
    "tags": []
   },
   "outputs": [
    {
     "data": {
      "image/png": "[encoded data removed]",
      "text/plain": [
       "<Figure size 640x480 with 1 Axes>"
      ]
     },
     "metadata": {},
     "output_type": "display_data"
    }
   ],
   "source": [
    "pd.DataFrame(number_tokens_in_docs).hist();"
   ]
  },
  {
   "cell_type": "code",
   "execution_count": 88,
   "metadata": {
    "tags": []
   },
   "outputs": [],
   "source": [
    "maxlen = 170\n",
    "\n",
    "X_train = pad_sequences(X_train, padding='post', maxlen=maxlen)\n",
    "X_test  = pad_sequences(X_test,  padding='post', maxlen=maxlen)"
   ]
  },
  {
   "cell_type": "markdown",
   "metadata": {},
   "source": [
    "Now if we view the X_train or X_test, we will see that all the lists have same length i.e. 100. \n",
    "\n",
    "Also, the vocabulary_size variable now contains a value 92547 which means that our corpus has 92547 unique words."
   ]
  },
  {
   "cell_type": "code",
   "execution_count": 89,
   "metadata": {
    "tags": []
   },
   "outputs": [],
   "source": [
    "def plot_history(history):\n",
    "\n",
    "    plt.plot(history.history['acc'])\n",
    "    plt.plot(history.history['val_acc'])\n",
    "\n",
    "    plt.title('model accuracy')\n",
    "    plt.ylabel('accuracy')\n",
    "    plt.xlabel('epoch')\n",
    "    plt.legend(['train','test'], loc='upper left')\n",
    "\n",
    "    plt.plot(history.history['loss'])\n",
    "    plt.plot(history.history['val_loss'])\n",
    "\n",
    "    plt.title('model loss')\n",
    "    plt.ylabel('loss')\n",
    "    plt.xlabel('epoch')\n",
    "    plt.legend(['train','test'], loc='upper left')\n",
    "    plt.grid()"
   ]
  },
  {
   "cell_type": "markdown",
   "metadata": {},
   "source": [
    "#### SimpleRNN"
   ]
  },
  {
   "cell_type": "code",
   "execution_count": 55,
   "metadata": {
    "tags": []
   },
   "outputs": [],
   "source": [
    "from keras import Sequential\n",
    "from keras.layers import Embedding, SimpleRNN, Dropout\n",
    "from tensorflow.keras.losses import SparseCategoricalCrossentropy\n",
    "from keras.callbacks import EarlyStopping, ReduceLROnPlateau\n",
    "from keras.regularizers import l2, l1"
   ]
  },
  {
   "cell_type": "markdown",
   "metadata": {},
   "source": [
    "- return_sequences: Boolean. \n",
    "    - Whether to return the last output in the output sequence, or the full sequence. Default: False.\n",
    "- return_state: Boolean. \n",
    "    - Whether to return the last state in addition to the output. Default: False."
   ]
  },
  {
   "cell_type": "code",
   "execution_count": 96,
   "metadata": {
    "tags": []
   },
   "outputs": [],
   "source": [
    "model           = Sequential()\n",
    "embedding_layer = Embedding(input_dim   = vocab_size, \n",
    "                            output_dim  = 32, \n",
    "                            #weights     =[embedding_matrix], \n",
    "                            input_length= maxlen,\n",
    "                           )\n",
    "model.add(embedding_layer)\n",
    "\n",
    "model.add(SimpleRNN(16, \n",
    "                    input_shape        = (num_words, maxlen), \n",
    "                    return_sequences   = True, \n",
    "                    return_state       = False, \n",
    "                    activation         = \"relu\",\n",
    "                    #kernel_regularizer = l1(0.001)\n",
    "                   ))\n",
    "\n",
    "#model.add(SimpleRNN(16,                                     return_sequences=True, return_state=False, activation=\"relu\"))\n",
    "model.add(SimpleRNN(16, \n",
    "                    return_sequences   = True, \n",
    "                    return_state       = False, \n",
    "                    activation         = \"relu\",\n",
    "                    #kernel_regularizer = l1(0.001)\n",
    "                   ))\n",
    "\n",
    "\n",
    "#model.add(SimpleRNN(16,                                    return_sequences=True, return_state=False, activation=\"relu\"))\n",
    "model.add(SimpleRNN(16, \n",
    "                    return_sequences   = False, \n",
    "                    return_state       = False, \n",
    "                    activation         = \"relu\",\n",
    "                    #kernel_regularizer = l1(0.001)\n",
    "                   ))\n",
    "\n",
    "model.add(Dense(2, activation='softmax'))\n",
    "#model.compile(optimizer='rmsprop', loss='binary_crossentropy', metrics=['acc'])\n",
    "model.compile(optimizer='adam', loss=SparseCategoricalCrossentropy(), metrics=['acc'])\n",
    "\n",
    "# Define early stopping\n",
    "early_stopping = EarlyStopping(monitor='val_loss', patience=3, restore_best_weights=True)\n",
    "\n",
    "# Define learning rate reduction\n",
    "reduce_lr = ReduceLROnPlateau(monitor='val_loss', factor=0.6, patience=2, min_lr=0.0001)"
   ]
  },
  {
   "cell_type": "code",
   "execution_count": 97,
   "metadata": {
    "tags": []
   },
   "outputs": [
    {
     "name": "stdout",
     "output_type": "stream",
     "text": [
      "Model: \"sequential_7\"\n",
      "_________________________________________________________________\n",
      " Layer (type)                Output Shape              Param #   \n",
      "=================================================================\n",
      " embedding_7 (Embedding)     (None, 170, 32)           2958784   \n",
      "                                                                 \n",
      " simple_rnn_16 (SimpleRNN)   (None, 170, 16)           784       \n",
      "                                                                 \n",
      " simple_rnn_17 (SimpleRNN)   (None, 170, 16)           528       \n",
      "                                                                 \n",
      " simple_rnn_18 (SimpleRNN)   (None, 16)                528       \n",
      "                                                                 \n",
      " dense_2 (Dense)             (None, 2)                 34        \n",
      "                                                                 \n",
      "=================================================================\n",
      "Total params: 2,960,658\n",
      "Trainable params: 2,960,658\n",
      "Non-trainable params: 0\n",
      "_________________________________________________________________\n",
      "None\n"
     ]
    }
   ],
   "source": [
    "print(model.summary())"
   ]
  },
  {
   "cell_type": "code",
   "execution_count": 98,
   "metadata": {
    "tags": []
   },
   "outputs": [
    {
     "name": "stdout",
     "output_type": "stream",
     "text": [
      "Epoch 1/3\n",
      "250/250 [==============================] - 38s 140ms/step - loss: 0.6008 - acc: 0.6465 - val_loss: 0.5365 - val_acc: 0.7945 - lr: 0.0010\n",
      "Epoch 2/3\n",
      "250/250 [==============================] - 39s 155ms/step - loss: 0.4175 - acc: 0.8119 - val_loss: 0.3580 - val_acc: 0.8559 - lr: 0.0010\n",
      "Epoch 3/3\n",
      "250/250 [==============================] - 36s 144ms/step - loss: 0.2801 - acc: 0.8931 - val_loss: 0.3542 - val_acc: 0.8506 - lr: 0.0010\n",
      "Wall time: 1min 53s\n"
     ]
    }
   ],
   "source": [
    "%%time\n",
    "history = model.fit(X_train, \n",
    "                    y_train, \n",
    "                    batch_size      = 128, \n",
    "                    epochs          = 3, \n",
    "                    verbose         = 1, \n",
    "                    validation_split= 0.2,\n",
    "                    callbacks       = [early_stopping, reduce_lr])"
   ]
  },
  {
   "cell_type": "code",
   "execution_count": 99,
   "metadata": {
    "tags": []
   },
   "outputs": [
    {
     "name": "stdout",
     "output_type": "stream",
     "text": [
      "313/313 [==============================] - 6s 19ms/step - loss: 0.3401 - acc: 0.8499\n",
      "Test Score: 0.34008485078811646\n",
      "Test Accuracy: 0.8499000072479248\n"
     ]
    },
    {
     "data": {
      "image/png": "[encoded data removed]",
      "text/plain": [
       "<Figure size 640x480 with 1 Axes>"
      ]
     },
     "metadata": {},
     "output_type": "display_data"
    }
   ],
   "source": [
    "score = model.evaluate(X_test, y_test, verbose=1)\n",
    "\n",
    "print(\"Test Score:\", score[0])\n",
    "print(\"Test Accuracy:\", score[1])\n",
    "\n",
    "plot_history(history)"
   ]
  },
  {
   "cell_type": "markdown",
   "metadata": {},
   "source": [
    "#### Making Predictions on Single Instance"
   ]
  },
  {
   "cell_type": "code",
   "execution_count": 89,
   "metadata": {
    "tags": []
   },
   "outputs": [],
   "source": [
    "np.set_printoptions(suppress=True, precision = 6)\n"
   ]
  },
  {
   "cell_type": "code",
   "execution_count": 100,
   "metadata": {
    "tags": []
   },
   "outputs": [
    {
     "name": "stdout",
     "output_type": "stream",
     "text": [
      "If you really truly want to waste two hours of your life do the following Look through the TV listings Find the movie Men in White When Men in White comes on sit and watch And that is it After sitting through two hours of bad puns dreadful and not that funny movie references and experiencing something with possibly the lowest production values ever made in recent history you will have wasted two hours of your life and wonder exactly why Why did do this was stupid enough to think that this film might actually be some good It was not But on the other hand if you are old enough to remember Power Rangers you might spot some familiar faces during the film Presumably to save on production costs Saban who also make Power Rangers decided to liberally sprinkle old monster costumes from everyone is favourite tacky toy spawning franchise throughout the film spotted quite few old monsters from episodes saw from when was kid so guess it could at least be said it has some nostalgia value But if you want to see actual Power Rangers monsters go watch Power Rangers itself It is much better than this piece of garbage And that is saying something \n"
     ]
    }
   ],
   "source": [
    "index = np.random.randint(len(X))\n",
    "\n",
    "test_review = X[index]\n",
    "print(test_review)"
   ]
  },
  {
   "cell_type": "code",
   "execution_count": 101,
   "metadata": {
    "tags": []
   },
   "outputs": [
    {
     "data": {
      "text/plain": [
       "Unnamed: 0                                                                                                                                                                                                                                                                                                                                                                                                                                                                                                                                                                                                                                                                                                                                                                                                                                                                                                                                                                                                                                                                                                                                                                                                                                                                                                                   48982\n",
       "review                If you really, truly want to waste two hours of your life, do the following: <br /><br />1) Look through the TV listings. 2) Find the movie 'Men in White'. 3) When 'Men in White' comes on, sit and watch.<br /><br />And that's it. After sitting through two hours of bad puns, dreadful (and not that funny) movie references, and experiencing something with possibly the lowest production values ever made in recent history, you will have wasted two hours of your life, and wonder exactly why.<br /><br />Why did I do this? I was stupid enough to think that this film might actually be some good. It wasn't.<br /><br />But, on the other hand, if you're old enough to remember Power Rangers, you might spot some familiar faces during the film. Presumably to save on production costs, Saban (who also make Power Rangers), decided to liberally sprinkle old monster costumes from everyone's favourite tacky toy-spawning franchise throughout the film. I spotted quite a few old monsters from episodes I saw from when I was a kid, so I guess it could at least be said it has some nostalgia value.<br /><br />But, if you want to see actual Power Rangers monsters, go watch Power Rangers itself. It's much better than this piece of garbage. (And that's saying something!)\n",
       "sentiment                                                                                                                                                                                                                                                                                                                                                                                                                                                                                                                                                                                                                                                                                                                                                                                                                                                                                                                                                                                                                                                                                                                                                                                                                                                                                                                 negative\n",
       "contractions                                                                                                                                                                                                                                                                                                                                                                                                                                                                                                                                                                                                                                                                                                                                                                                                                                                                                                                                                                                                                                                                                                                                                                                                                                                                                                                    []\n",
       "ExpandedText    If you really, truly want to waste two hours of your life, do the following: <br /><br />1) Look through the TV listings. 2) Find the movie 'Men in White'. 3) When 'Men in White' comes on, sit and watch.<br /><br />And that is it. After sitting through two hours of bad puns, dreadful (and not that funny) movie references, and experiencing something with possibly the lowest production values ever made in recent history, you will have wasted two hours of your life, and wonder exactly why.<br /><br />Why did I do this? I was stupid enough to think that this film might actually be some good. It was not.<br /><br />But, on the other hand, if you are old enough to remember Power Rangers, you might spot some familiar faces during the film. Presumably to save on production costs, Saban (who also make Power Rangers), decided to liberally sprinkle old monster costumes from everyone is favourite tacky toy-spawning franchise throughout the film. I spotted quite a few old monsters from episodes I saw from when I was a kid, so I guess it could at least be said it has some nostalgia value.<br /><br />But, if you want to see actual Power Rangers monsters, go watch Power Rangers itself. It is much better than this piece of garbage. (And that is saying something!)\n",
       "CleanedText                                                                                                                             If you really truly want to waste two hours of your life do the following Look through the TV listings Find the movie Men in White When Men in White comes on sit and watch And that is it After sitting through two hours of bad puns dreadful and not that funny movie references and experiencing something with possibly the lowest production values ever made in recent history you will have wasted two hours of your life and wonder exactly why Why did do this was stupid enough to think that this film might actually be some good It was not But on the other hand if you are old enough to remember Power Rangers you might spot some familiar faces during the film Presumably to save on production costs Saban who also make Power Rangers decided to liberally sprinkle old monster costumes from everyone is favourite tacky toy spawning franchise throughout the film spotted quite few old monsters from episodes saw from when was kid so guess it could at least be said it has some nostalgia value But if you want to see actual Power Rangers monsters go watch Power Rangers itself It is much better than this piece of garbage And that is saying something \n",
       "Name: 48982, dtype: object"
      ]
     },
     "execution_count": 101,
     "metadata": {},
     "output_type": "execute_result"
    }
   ],
   "source": [
    "movie_reviews.iloc[index]"
   ]
  },
  {
   "cell_type": "markdown",
   "metadata": {},
   "source": [
    "You can clearly see that this is __negative__ review. \n",
    "\n",
    "To predict the sentiment of this review, we have to convert this review into numeric form. We can do so using the tokenizer that we created in word embedding section. The text_to_sequences method will convert the sentence into its numeric counter part.\n",
    "\n",
    "Next, we need to pad our input sequence as we did for our corpus. \n",
    "\n",
    "Finally, we can use the predict method of our model and pass it our processed input sequence. "
   ]
  },
  {
   "cell_type": "code",
   "execution_count": 102,
   "metadata": {
    "tags": []
   },
   "outputs": [],
   "source": [
    "instance = tokenizer.texts_to_sequences(test_review)"
   ]
  },
  {
   "cell_type": "code",
   "execution_count": 103,
   "metadata": {
    "tags": []
   },
   "outputs": [],
   "source": [
    "flat_list = []\n",
    "for sublist in instance:\n",
    "    for item in sublist:\n",
    "        flat_list.append(item)\n",
    "\n",
    "flat_list = [flat_list]\n",
    "#flat_list"
   ]
  },
  {
   "cell_type": "code",
   "execution_count": 104,
   "metadata": {
    "tags": []
   },
   "outputs": [
    {
     "name": "stdout",
     "output_type": "stream",
     "text": [
      "1/1 [==============================] - 1s 751ms/step\n"
     ]
    },
    {
     "data": {
      "text/plain": [
       "array([[0.62515914, 0.37484083]], dtype=float32)"
      ]
     },
     "execution_count": 104,
     "metadata": {},
     "output_type": "execute_result"
    }
   ],
   "source": [
    "instance = pad_sequences(flat_list, padding='post', maxlen=maxlen)\n",
    "\n",
    "model.predict(instance)"
   ]
  },
  {
   "cell_type": "code",
   "execution_count": null,
   "metadata": {},
   "outputs": [],
   "source": [
    "# Save the entire model to a file\n",
    "model.save('rnn_SA_IMDB_model_simpleRNN.h5')"
   ]
  },
  {
   "cell_type": "markdown",
   "metadata": {},
   "source": [
    "#### Usinf return_state=True\n",
    "\n",
    "- we need to use functional api of tf/keras (not sequential)"
   ]
  },
  {
   "cell_type": "code",
   "execution_count": 106,
   "metadata": {
    "tags": []
   },
   "outputs": [],
   "source": [
    "from keras.layers import Input, Embedding, SimpleRNN, Dense, concatenate\n",
    "from keras.models import Model\n",
    "from keras.optimizers import RMSprop"
   ]
  },
  {
   "cell_type": "code",
   "execution_count": 107,
   "metadata": {
    "tags": []
   },
   "outputs": [],
   "source": [
    "# Define input layer\n",
    "inputs = Input(shape=(maxlen,))"
   ]
  },
  {
   "cell_type": "code",
   "execution_count": 108,
   "metadata": {
    "tags": []
   },
   "outputs": [],
   "source": [
    "# Add an Embedding layer\n",
    "embedding_layer = Embedding(input_dim=vocab_size, output_dim=64, input_length=maxlen)(inputs)\n"
   ]
  },
  {
   "cell_type": "code",
   "execution_count": 109,
   "metadata": {
    "tags": []
   },
   "outputs": [],
   "source": [
    "# First SimpleRNN layer\n",
    "rnn1, state_h1 = SimpleRNN(8, \n",
    "                           return_sequences=True, \n",
    "                           return_state=True, \n",
    "                           activation=\"relu\")(embedding_layer)\n"
   ]
  },
  {
   "cell_type": "code",
   "execution_count": 110,
   "metadata": {
    "tags": []
   },
   "outputs": [],
   "source": [
    "# Second SimpleRNN layer\n",
    "rnn2, state_h2 = SimpleRNN(8, \n",
    "                           return_sequences=True, \n",
    "                           return_state=True, \n",
    "                           activation=\"relu\")(rnn1)\n"
   ]
  },
  {
   "cell_type": "code",
   "execution_count": 111,
   "metadata": {
    "tags": []
   },
   "outputs": [],
   "source": [
    "# Third SimpleRNN layer\n",
    "rnn3, state_h3 = SimpleRNN(8, \n",
    "                           return_sequences=False, \n",
    "                           return_state=True, \n",
    "                           activation=\"relu\")(rnn2)\n"
   ]
  },
  {
   "cell_type": "code",
   "execution_count": 112,
   "metadata": {
    "tags": []
   },
   "outputs": [],
   "source": [
    "# Concatenate the hidden states\n",
    "merged_state = concatenate([state_h1, state_h2, state_h3])"
   ]
  },
  {
   "cell_type": "code",
   "execution_count": 113,
   "metadata": {
    "tags": []
   },
   "outputs": [],
   "source": [
    "# Dense layer for classification\n",
    "output = Dense(2, activation='softmax')(merged_state)"
   ]
  },
  {
   "cell_type": "code",
   "execution_count": 114,
   "metadata": {
    "tags": []
   },
   "outputs": [],
   "source": [
    "# Define the model\n",
    "model = Model(inputs=inputs, outputs=output)"
   ]
  },
  {
   "cell_type": "code",
   "execution_count": 150,
   "metadata": {
    "tags": []
   },
   "outputs": [],
   "source": [
    "# Compile the model\n",
    "model.compile(optimizer=RMSprop(), loss=SparseCategoricalCrossentropy(), metrics=['acc'])\n"
   ]
  },
  {
   "cell_type": "code",
   "execution_count": 151,
   "metadata": {
    "tags": []
   },
   "outputs": [
    {
     "name": "stdout",
     "output_type": "stream",
     "text": [
      "Model: \"model_2\"\n",
      "__________________________________________________________________________________________________\n",
      " Layer (type)                Output Shape                 Param #   Connected to                  \n",
      "==================================================================================================\n",
      " input_4 (InputLayer)        [(None, 170)]                0         []                            \n",
      "                                                                                                  \n",
      " embedding_33 (Embedding)    (None, 170, 64)              5923008   ['input_4[0][0]']             \n",
      "                                                                                                  \n",
      " simple_rnn_89 (SimpleRNN)   [(None, 170, 8),             584       ['embedding_33[0][0]']        \n",
      "                              (None, 8)]                                                          \n",
      "                                                                                                  \n",
      " simple_rnn_90 (SimpleRNN)   [(None, 170, 8),             136       ['simple_rnn_89[0][0]']       \n",
      "                              (None, 8)]                                                          \n",
      "                                                                                                  \n",
      " simple_rnn_91 (SimpleRNN)   [(None, 8),                  136       ['simple_rnn_90[0][0]']       \n",
      "                              (None, 8)]                                                          \n",
      "                                                                                                  \n",
      " concatenate_2 (Concatenate  (None, 24)                   0         ['simple_rnn_89[0][1]',       \n",
      " )                                                                   'simple_rnn_90[0][1]',       \n",
      "                                                                     'simple_rnn_91[0][1]']       \n",
      "                                                                                                  \n",
      " dense_24 (Dense)            (None, 2)                    50        ['concatenate_2[0][0]']       \n",
      "                                                                                                  \n",
      "==================================================================================================\n",
      "Total params: 5923914 (22.60 MB)\n",
      "Trainable params: 5923914 (22.60 MB)\n",
      "Non-trainable params: 0 (0.00 Byte)\n",
      "__________________________________________________________________________________________________\n"
     ]
    }
   ],
   "source": [
    "# Print the model summary\n",
    "model.summary()"
   ]
  },
  {
   "cell_type": "code",
   "execution_count": 152,
   "metadata": {
    "tags": []
   },
   "outputs": [],
   "source": [
    "# Define early stopping\n",
    "early_stopping = EarlyStopping(monitor='val_loss', patience=3, restore_best_weights=True)\n",
    "\n",
    "# Define learning rate reduction\n",
    "reduce_lr = ReduceLROnPlateau(monitor='val_loss', factor=0.2, patience=2, min_lr=0.0001)"
   ]
  },
  {
   "cell_type": "code",
   "execution_count": 153,
   "metadata": {
    "tags": []
   },
   "outputs": [
    {
     "name": "stdout",
     "output_type": "stream",
     "text": [
      "Epoch 1/100\n",
      "250/250 [==============================] - 66s 232ms/step - loss: 0.6198 - acc: 0.6412 - val_loss: 0.4371 - val_acc: 0.8152 - lr: 0.0010\n",
      "Epoch 2/100\n",
      "250/250 [==============================] - 56s 224ms/step - loss: 0.4189 - acc: 0.8232 - val_loss: 0.3693 - val_acc: 0.8519 - lr: 0.0010\n",
      "Epoch 3/100\n",
      "250/250 [==============================] - 58s 231ms/step - loss: 0.3447 - acc: 0.8642 - val_loss: 0.3459 - val_acc: 0.8621 - lr: 0.0010\n",
      "Epoch 4/100\n",
      "250/250 [==============================] - 56s 225ms/step - loss: 0.3000 - acc: 0.8846 - val_loss: 0.4626 - val_acc: 0.7920 - lr: 0.0010\n",
      "Epoch 5/100\n",
      "250/250 [==============================] - 56s 224ms/step - loss: 0.2697 - acc: 0.9013 - val_loss: 0.4114 - val_acc: 0.8451 - lr: 0.0010\n",
      "Epoch 6/100\n",
      "250/250 [==============================] - 42s 169ms/step - loss: 0.1840 - acc: 0.9367 - val_loss: 0.3725 - val_acc: 0.8597 - lr: 2.0000e-04\n"
     ]
    }
   ],
   "source": [
    "# Train the model with early stopping and learning rate reduction\n",
    "history = model.fit(X_train, \n",
    "                    y_train, \n",
    "                    batch_size      = 128, \n",
    "                    epochs          = 100, \n",
    "                    verbose         = 1, \n",
    "                    validation_split= 0.2,\n",
    "                    callbacks       = [early_stopping, reduce_lr])"
   ]
  },
  {
   "cell_type": "code",
   "execution_count": 154,
   "metadata": {
    "tags": []
   },
   "outputs": [
    {
     "name": "stdout",
     "output_type": "stream",
     "text": [
      "313/313 [==============================] - 5s 15ms/step - loss: 0.3501 - acc: 0.8594\n",
      "Test Accuracy: 0.8593999743461609\n"
     ]
    }
   ],
   "source": [
    "# Evaluate the model on the test set\n",
    "accuracy = model.evaluate(X_test, y_test)[1]\n",
    "print(\"Test Accuracy:\", accuracy)\n"
   ]
  },
  {
   "cell_type": "code",
   "execution_count": null,
   "metadata": {},
   "outputs": [],
   "source": [
    "# Save the entire model to a file\n",
    "model.save('rnn_SA_IMDB_model_functional.h5')"
   ]
  },
  {
   "cell_type": "markdown",
   "metadata": {},
   "source": [
    "#### Use Bi directioanl RNN"
   ]
  },
  {
   "cell_type": "code",
   "execution_count": 69,
   "metadata": {
    "tags": []
   },
   "outputs": [],
   "source": [
    "from keras.layers import Bidirectional"
   ]
  },
  {
   "cell_type": "code",
   "execution_count": 76,
   "metadata": {
    "tags": []
   },
   "outputs": [],
   "source": [
    "model           = Sequential()\n",
    "embedding_layer = Embedding(input_dim   = vocab_size, \n",
    "                            output_dim  = 64, \n",
    "                            #weights     =[embedding_matrix], \n",
    "                            input_length= maxlen,\n",
    "                           )\n",
    "model.add(embedding_layer)\n",
    "model.add(Bidirectional(SimpleRNN(8, input_shape = (num_words, maxlen), return_sequences=True, return_state=False, activation=\"relu\")))\n",
    "model.add(Bidirectional(SimpleRNN(8,   return_sequences=True, return_state=False, activation=\"relu\")))\n",
    "model.add(Bidirectional(SimpleRNN(8,   return_sequences=True, return_state=False, activation=\"relu\")))\n",
    "\n",
    "model.add(GlobalMaxPooling1D())\n",
    "\n",
    "model.add(Dropout(0.3))  # Add dropout with a rate of 0.2\n",
    "\n",
    "model.add(Dense(2, activation='softmax'))\n",
    "#model.compile(optimizer='rmsprop', loss='binary_crossentropy', metrics=['acc'])\n",
    "model.compile(optimizer='adam', loss=SparseCategoricalCrossentropy(), metrics=['acc'])\n",
    "\n",
    "# Define early stopping\n",
    "early_stopping = EarlyStopping(monitor='val_loss', patience=3, restore_best_weights=True)\n",
    "\n",
    "# Define learning rate reduction\n",
    "reduce_lr = ReduceLROnPlateau(monitor='val_loss', factor=0.2, patience=2, min_lr=0.0001)"
   ]
  },
  {
   "cell_type": "code",
   "execution_count": 60,
   "metadata": {},
   "outputs": [],
   "source": [
    "# es = EarlyStopping(monitor='val_loss', mode='min')\n",
    "# es = EarlyStopping(monitor='val_loss', mode='min', verbose=1)\n",
    "# es = EarlyStopping(monitor='val_loss', mode='min', verbose=1, patience=50)\n",
    "# es = EarlyStopping(monitor='val_accuracy', mode='max', min_delta=1)\n",
    "# es = EarlyStopping(monitor='val_loss', mode='min', baseline=0.4)"
   ]
  },
  {
   "cell_type": "code",
   "execution_count": 77,
   "metadata": {
    "tags": []
   },
   "outputs": [
    {
     "name": "stdout",
     "output_type": "stream",
     "text": [
      "Epoch 1/100\n",
      "250/250 [==============================] - 130s 445ms/step - loss: 0.6106 - acc: 0.6691 - val_loss: 0.5152 - val_acc: 0.7679 - lr: 0.0010\n",
      "Epoch 2/100\n",
      "250/250 [==============================] - 108s 430ms/step - loss: 0.4462 - acc: 0.8045 - val_loss: 0.3701 - val_acc: 0.8440 - lr: 0.0010\n",
      "Epoch 3/100\n",
      "250/250 [==============================] - 106s 423ms/step - loss: 0.3016 - acc: 0.8813 - val_loss: 0.3365 - val_acc: 0.8553 - lr: 0.0010\n",
      "Epoch 4/100\n",
      "250/250 [==============================] - 108s 433ms/step - loss: 0.2083 - acc: 0.9232 - val_loss: 0.3866 - val_acc: 0.8662 - lr: 0.0010\n",
      "Epoch 5/100\n",
      "250/250 [==============================] - 107s 429ms/step - loss: 0.1536 - acc: 0.9443 - val_loss: 0.4261 - val_acc: 0.8604 - lr: 0.0010\n",
      "Epoch 6/100\n",
      "250/250 [==============================] - 108s 431ms/step - loss: 0.0838 - acc: 0.9727 - val_loss: 0.5823 - val_acc: 0.8579 - lr: 2.0000e-04\n",
      "CPU times: total: 29min 34s\n",
      "Wall time: 11min 6s\n"
     ]
    }
   ],
   "source": [
    "%%time\n",
    "history = model.fit(X_train, \n",
    "                    y_train, \n",
    "                    batch_size      = 128, \n",
    "                    epochs          = 100, \n",
    "                    verbose         = 1, \n",
    "                    validation_split= 0.2,\n",
    "                    callbacks       = [early_stopping, reduce_lr])"
   ]
  },
  {
   "cell_type": "code",
   "execution_count": 78,
   "metadata": {
    "tags": []
   },
   "outputs": [
    {
     "name": "stdout",
     "output_type": "stream",
     "text": [
      "313/313 [==============================] - 23s 74ms/step - loss: 0.3241 - acc: 0.8576\n",
      "Test Accuracy: 0.8575999736785889\n"
     ]
    }
   ],
   "source": [
    "# Evaluate the model on the test set\n",
    "accuracy = model.evaluate(X_test, y_test)[1]\n",
    "print(\"Test Accuracy:\", accuracy)"
   ]
  },
  {
   "cell_type": "code",
   "execution_count": 79,
   "metadata": {
    "tags": []
   },
   "outputs": [
    {
     "data": {
      "image/png": "[encoded data removed]",
      "text/plain": [
       "<Figure size 640x480 with 1 Axes>"
      ]
     },
     "metadata": {},
     "output_type": "display_data"
    }
   ],
   "source": [
    "plot_history(history)"
   ]
  },
  {
   "cell_type": "code",
   "execution_count": null,
   "metadata": {},
   "outputs": [],
   "source": []
  }
 ],
 "metadata": {
  "kernelspec": {
   "display_name": "Python 3 (ipykernel)",
   "language": "python",
   "name": "python3"
  },
  "language_info": {
   "codemirror_mode": {
    "name": "ipython",
    "version": 3
   },
   "file_extension": ".py",
   "mimetype": "text/x-python",
   "name": "python",
   "nbconvert_exporter": "python",
   "pygments_lexer": "ipython3",
   "version": "3.9.13"
  }
 },
 "nbformat": 4,
 "nbformat_minor": 4
}
