{
 "cells": [
  {
   "cell_type": "markdown",
   "metadata": {},
   "source": [
    "## Movie Sentiment Analysis using Deep Learning in Keras"
   ]
  },
  {
   "cell_type": "markdown",
   "metadata": {},
   "source": [
    "#### The dataset \n",
    "\n",
    "can be downloaded from this Kaggle link.https://www.kaggle.com/lakshmi25npathi/imdb-dataset-of-50k-movie-reviews\n",
    "\n",
    "The file contains 50,000 records and two columns: review and sentiment. \n",
    "\n",
    "The review column contains text for the review and the sentiment column contains sentiment for the review. \n",
    "\n",
    "The sentiment column can have two values i.e. \"positive\" and \"negative\" which makes our problem a binary classification problem."
   ]
  },
  {
   "cell_type": "code",
   "execution_count": 3,
   "metadata": {
    "tags": []
   },
   "outputs": [],
   "source": [
    "import pandas as pd\n",
    "import numpy as np\n",
    "import re\n",
    "import nltk\n",
    "from nltk.corpus import stopwords\n",
    "\n",
    "import matplotlib.pylab as plt\n",
    "%matplotlib inline\n",
    "\n",
    "from numpy import array\n",
    "\n",
    "from keras.preprocessing.text import one_hot\n",
    "from keras.preprocessing.sequence import pad_sequences\n",
    "\n",
    "from keras.models import Sequential\n",
    "from keras.layers import Activation, Dropout, Dense\n",
    "from keras.layers import Flatten\n",
    "from keras.layers import GlobalMaxPooling1D\n",
    "\n",
    "from keras.layers import Embedding\n",
    "\n",
    "from sklearn.model_selection import train_test_split\n",
    "\n",
    "from keras.preprocessing.text import Tokenizer"
   ]
  },
  {
   "cell_type": "markdown",
   "metadata": {},
   "source": [
    "#### Importing and Analyzing the Dataset"
   ]
  },
  {
   "cell_type": "code",
   "execution_count": 4,
   "metadata": {
    "tags": []
   },
   "outputs": [],
   "source": [
    "location = r'D:\\AI-DATASETS\\02-MISC-large\\keras\\datasets\\IMDB Dataset.csv'"
   ]
  },
  {
   "cell_type": "code",
   "execution_count": 5,
   "metadata": {
    "tags": []
   },
   "outputs": [],
   "source": [
    "movie_reviews = pd.read_csv(location)"
   ]
  },
  {
   "cell_type": "code",
   "execution_count": 6,
   "metadata": {
    "tags": []
   },
   "outputs": [
    {
     "data": {
      "text/plain": [
       "False"
      ]
     },
     "execution_count": 6,
     "metadata": {},
     "output_type": "execute_result"
    }
   ],
   "source": [
    "movie_reviews.isnull().values.any()"
   ]
  },
  {
   "cell_type": "code",
   "execution_count": 7,
   "metadata": {
    "tags": []
   },
   "outputs": [
    {
     "data": {
      "text/plain": [
       "(50000, 2)"
      ]
     },
     "execution_count": 7,
     "metadata": {},
     "output_type": "execute_result"
    }
   ],
   "source": [
    "movie_reviews.shape"
   ]
  },
  {
   "cell_type": "code",
   "execution_count": 11,
   "metadata": {
    "tags": []
   },
   "outputs": [],
   "source": [
    "pd.set_option('max_colwidth', None)"
   ]
  },
  {
   "cell_type": "code",
   "execution_count": 12,
   "metadata": {
    "tags": []
   },
   "outputs": [
    {
     "data": {
      "text/html": [
       "<div>\n",
       "<style scoped>\n",
       "    .dataframe tbody tr th:only-of-type {\n",
       "        vertical-align: middle;\n",
       "    }\n",
       "\n",
       "    .dataframe tbody tr th {\n",
       "        vertical-align: top;\n",
       "    }\n",
       "\n",
       "    .dataframe thead th {\n",
       "        text-align: right;\n",
       "    }\n",
       "</style>\n",
       "<table border=\"1\" class=\"dataframe\">\n",
       "  <thead>\n",
       "    <tr style=\"text-align: right;\">\n",
       "      <th></th>\n",
       "      <th>review</th>\n",
       "      <th>sentiment</th>\n",
       "    </tr>\n",
       "  </thead>\n",
       "  <tbody>\n",
       "    <tr>\n",
       "      <th>41548</th>\n",
       "      <td>Inventor Wayne Szalinsky (Rick Moranis) is preparing to donate his problematic shrinking/expanding machine to the Smithsonian Institution as he and his wife Diane (Eve Gordon) get ready for a long weekend away from their son Adam (Bug Hall). Wayne's brother Gordon (Stuart Pankin), his wife Patty (Robin Bartlett), and his kids Jenny (Allison Mack) and Mitch (Jake Richardson) volunteer to look after Adam while his parents are away, but as luck would have it (and the title would lead you to expect), the grown-ups are accidentally zapped by Wayne's shrinking ray. As the kids run amok, their miniaturized folks must contend with monstrously huge insects, wrinkles in the carpet that look like canyons, and other threats to them. This was bad, like most straight to video sequels are, Honey, We Shrunk Ourselves was sort of laughable. I had to laugh at that movie \"roach\" Stuart Pankin and the party bullies were even more ridiculous, view at own risk!</td>\n",
       "      <td>negative</td>\n",
       "    </tr>\n",
       "    <tr>\n",
       "      <th>32436</th>\n",
       "      <td>If the themes of The Girl From Missouri sound familiar it should. That's because Anita Loos who wrote the screenplay here also wrote the classic Gentlemen Prefer Blondes. Unlike Marilyn Monroe in that film, Jean Harlow will accept any kind of jewelry from men of means.&lt;br /&gt;&lt;br /&gt;And it's men of means that Jean Harlow is after. She leaves the road side hash house run by her mother and stepfather because she's decided that the best way to gain the easy life is to marry it. Her talents as a chorus girl are limited, but she'll be able to trade in on that beauty.&lt;br /&gt;&lt;br /&gt;Her odyssey starts with her and friend Patsy Kelly getting an invitation to perform at a party thrown by millionaire Lewis Stone. But unbeknownst to Jean, Stone's just having a wild last fling before doing himself because of the moneys he owes not owns. Still she wrangles a few baubles from him that fellow millionaire Lionel Barrymore notices. &lt;br /&gt;&lt;br /&gt;Lionel's amused by it until Jean sets her sights on his playboy son, Franchot Tone. After that he is not amused and he looks to shake Jean from climbing the family tree.&lt;br /&gt;&lt;br /&gt;The Girl From Missouri went into production mid adaption of The Code so it went under peculiar censorship. I've a feeling we would have seen a much more risqué film. Still Jean Harlow as a younger and sassier version of Mae West is always appreciated. What a great comic talent that woman had, seeing The Girl From Missouri is a sad reminder of the great loss the world of film sustained with her passing three years later.&lt;br /&gt;&lt;br /&gt;Ironically enough the casting of Patsy Kelly with Harlow was no doubt influenced by the successful shorts Kelly was making with another famous platinum blonde, Thelma Todd. Harlow and Kelly have the same easy chemistry between that Patsy had with Thelma. Todd would also die a year later in a freak accident/suicide/homicide that no satisfactory explanation has ever really been given. &lt;br /&gt;&lt;br /&gt;Don't miss The Girl From Missouri, it's bright and sassy, must be from all that sparkling jewelry.</td>\n",
       "      <td>positive</td>\n",
       "    </tr>\n",
       "    <tr>\n",
       "      <th>10195</th>\n",
       "      <td>I only gave this film a 4 because I saw it in 3-d. If you don't see it in 3-d, I give it a 2. This movie is so bad it's not funny. Anyone can make a film like this for a weeks pay. Bad acting,effects and story!!! But it was cool to watch in 3d. Why can't they make good movies in the 3-d format???</td>\n",
       "      <td>negative</td>\n",
       "    </tr>\n",
       "  </tbody>\n",
       "</table>\n",
       "</div>"
      ],
      "text/plain": [
       "                                                                                                                                                                                                                                                                                                                                                                                                                                                                                                                                                                                                                                                                                                                                                                                                                                                                                                                                                                                                                                                                                                                                                                                                                                                                                                                                                                                                                                                                                                                                                                                                                                                                                                                                                                                                                                                                                                                                                                                                                                                                                                                                review  \\\n",
       "41548                                                                                                                                                                                                                                                                                                                                                                                                                                                                                                                                                                                                                                                                                                                                                                                                                                                                                                                                                                                                                                                                                                                                        Inventor Wayne Szalinsky (Rick Moranis) is preparing to donate his problematic shrinking/expanding machine to the Smithsonian Institution as he and his wife Diane (Eve Gordon) get ready for a long weekend away from their son Adam (Bug Hall). Wayne's brother Gordon (Stuart Pankin), his wife Patty (Robin Bartlett), and his kids Jenny (Allison Mack) and Mitch (Jake Richardson) volunteer to look after Adam while his parents are away, but as luck would have it (and the title would lead you to expect), the grown-ups are accidentally zapped by Wayne's shrinking ray. As the kids run amok, their miniaturized folks must contend with monstrously huge insects, wrinkles in the carpet that look like canyons, and other threats to them. This was bad, like most straight to video sequels are, Honey, We Shrunk Ourselves was sort of laughable. I had to laugh at that movie \"roach\" Stuart Pankin and the party bullies were even more ridiculous, view at own risk!   \n",
       "32436  If the themes of The Girl From Missouri sound familiar it should. That's because Anita Loos who wrote the screenplay here also wrote the classic Gentlemen Prefer Blondes. Unlike Marilyn Monroe in that film, Jean Harlow will accept any kind of jewelry from men of means.<br /><br />And it's men of means that Jean Harlow is after. She leaves the road side hash house run by her mother and stepfather because she's decided that the best way to gain the easy life is to marry it. Her talents as a chorus girl are limited, but she'll be able to trade in on that beauty.<br /><br />Her odyssey starts with her and friend Patsy Kelly getting an invitation to perform at a party thrown by millionaire Lewis Stone. But unbeknownst to Jean, Stone's just having a wild last fling before doing himself because of the moneys he owes not owns. Still she wrangles a few baubles from him that fellow millionaire Lionel Barrymore notices. <br /><br />Lionel's amused by it until Jean sets her sights on his playboy son, Franchot Tone. After that he is not amused and he looks to shake Jean from climbing the family tree.<br /><br />The Girl From Missouri went into production mid adaption of The Code so it went under peculiar censorship. I've a feeling we would have seen a much more risqué film. Still Jean Harlow as a younger and sassier version of Mae West is always appreciated. What a great comic talent that woman had, seeing The Girl From Missouri is a sad reminder of the great loss the world of film sustained with her passing three years later.<br /><br />Ironically enough the casting of Patsy Kelly with Harlow was no doubt influenced by the successful shorts Kelly was making with another famous platinum blonde, Thelma Todd. Harlow and Kelly have the same easy chemistry between that Patsy had with Thelma. Todd would also die a year later in a freak accident/suicide/homicide that no satisfactory explanation has ever really been given. <br /><br />Don't miss The Girl From Missouri, it's bright and sassy, must be from all that sparkling jewelry.   \n",
       "10195                                                                                                                                                                                                                                                                                                                                                                                                                                                                                                                                                                                                                                                                                                                                                                                                                                                                                                                                                                                                                                                                                                                                                                                                                                                                                                                                                                                                                                                                                                                                                                                                                                                                                                                                                                                                                        I only gave this film a 4 because I saw it in 3-d. If you don't see it in 3-d, I give it a 2. This movie is so bad it's not funny. Anyone can make a film like this for a weeks pay. Bad acting,effects and story!!! But it was cool to watch in 3d. Why can't they make good movies in the 3-d format???   \n",
       "\n",
       "      sentiment  \n",
       "41548  negative  \n",
       "32436  positive  \n",
       "10195  negative  "
      ]
     },
     "execution_count": 12,
     "metadata": {},
     "output_type": "execute_result"
    }
   ],
   "source": [
    "movie_reviews.sample(3)"
   ]
  },
  {
   "cell_type": "code",
   "execution_count": 14,
   "metadata": {
    "tags": []
   },
   "outputs": [
    {
     "data": {
      "text/plain": [
       "\"One of the other reviewers has mentioned that after watching just 1 Oz episode you'll be hooked. They are right, as this is exactly what happened with me.<br /><br />The first thing that struck me about Oz was its brutality and unflinching scenes of violence, which set in right from the word GO. Trust me, this is not a show for the faint hearted or timid. This show pulls no punches with regards to drugs, sex or violence. Its is hardcore, in the classic use of the word.<br /><br />It is called OZ as that is the nickname given to the Oswald Maximum Security State Penitentary. It focuses mainly on Emerald City, an experimental section of the prison where all the cells have glass fronts and face inwards, so privacy is not high on the agenda. Em City is home to many..Aryans, Muslims, gangstas, Latinos, Christians, Italians, Irish and more....so scuffles, death stares, dodgy dealings and shady agreements are never far away.<br /><br />I would say the main appeal of the show is due to the fact that it goes where other shows wouldn't dare. Forget pretty pictures painted for mainstream audiences, forget charm, forget romance...OZ doesn't mess around. The first episode I ever saw struck me as so nasty it was surreal, I couldn't say I was ready for it, but as I watched more, I developed a taste for Oz, and got accustomed to the high levels of graphic violence. Not just violence, but injustice (crooked guards who'll be sold out for a nickel, inmates who'll kill on order and get away with it, well mannered, middle class inmates being turned into prison bitches due to their lack of street skills or prison experience) Watching Oz, you may become comfortable with what is uncomfortable viewing....thats if you can get in touch with your darker side.\""
      ]
     },
     "execution_count": 14,
     "metadata": {},
     "output_type": "execute_result"
    }
   ],
   "source": [
    "movie_reviews[\"review\"][0]"
   ]
  },
  {
   "cell_type": "markdown",
   "metadata": {},
   "source": [
    "text contains punctuations, brackets, and a few HTML tags as well. \n",
    "\n",
    "We will preprocess this text distribution of positive and negative sentiments in our dataset."
   ]
  },
  {
   "cell_type": "code",
   "execution_count": 16,
   "metadata": {
    "tags": []
   },
   "outputs": [
    {
     "name": "stderr",
     "output_type": "stream",
     "text": [
      "D:\\ANACONDA\\Lib\\site-packages\\seaborn\\_oldcore.py:1498: FutureWarning: is_categorical_dtype is deprecated and will be removed in a future version. Use isinstance(dtype, CategoricalDtype) instead\n",
      "  if pd.api.types.is_categorical_dtype(vector):\n",
      "D:\\ANACONDA\\Lib\\site-packages\\seaborn\\_oldcore.py:1498: FutureWarning: is_categorical_dtype is deprecated and will be removed in a future version. Use isinstance(dtype, CategoricalDtype) instead\n",
      "  if pd.api.types.is_categorical_dtype(vector):\n",
      "D:\\ANACONDA\\Lib\\site-packages\\seaborn\\_oldcore.py:1498: FutureWarning: is_categorical_dtype is deprecated and will be removed in a future version. Use isinstance(dtype, CategoricalDtype) instead\n",
      "  if pd.api.types.is_categorical_dtype(vector):\n"
     ]
    },
    {
     "data": {
      "image/png": "[encoded data removed]",
      "text/plain": [
       "<Figure size 640x480 with 1 Axes>"
      ]
     },
     "metadata": {},
     "output_type": "display_data"
    }
   ],
   "source": [
    "import seaborn as sns\n",
    "\n",
    "sns.countplot(x='sentiment', data=movie_reviews);"
   ]
  },
  {
   "cell_type": "markdown",
   "metadata": {},
   "source": [
    "From the output, it is clear that the dataset contains equal number of positive and negative reviews"
   ]
  },
  {
   "cell_type": "markdown",
   "metadata": {},
   "source": [
    "#### Data Preprocessing"
   ]
  },
  {
   "cell_type": "code",
   "execution_count": 17,
   "metadata": {
    "tags": []
   },
   "outputs": [],
   "source": [
    "TAG_RE = re.compile(r'<[^>]+>')\n",
    "\n",
    "def remove_tags(text):\n",
    "    return TAG_RE.sub('', text)"
   ]
  },
  {
   "cell_type": "code",
   "execution_count": 18,
   "metadata": {
    "tags": []
   },
   "outputs": [],
   "source": [
    "def preprocess_text(sen):\n",
    "    # Removing html tags\n",
    "    sentence = remove_tags(sen)\n",
    "\n",
    "    # Remove punctuations and numbers\n",
    "    sentence = re.sub('[^a-zA-Z]', ' ', sentence)\n",
    "\n",
    "    # Single character removal\n",
    "    sentence = re.sub(r\"\\s+[a-zA-Z]\\s+\", ' ', sentence)\n",
    "\n",
    "    # Removing multiple spaces\n",
    "    sentence = re.sub(r'\\s+', ' ', sentence)\n",
    "\n",
    "    return sentence"
   ]
  },
  {
   "cell_type": "markdown",
   "metadata": {},
   "source": [
    "In the __preprocess_text()__ method the first step is to remove the HTML tags. To remove the HTML tags, __remove_tags()__ function has been defined. \n",
    "\n",
    "The remove_tags function simply replaces anything between opening and closing <> with an empty space.\n",
    "\n",
    "Next, in the __preprocess_text__ function, everything is removed except capital and small English letters, which results in single characters that make no sense. For instance, when you remove apostrophe from the word \"Mark's\", the apostrophe is replaced by an empty space. Hence, we are left with single character \"s\".\n",
    "\n",
    "Next, we remove all the single characters and replace it by a space which creates multiple spaces in our text. \n",
    "\n",
    "Finally, we remove the multiple spaces from our text as well."
   ]
  },
  {
   "cell_type": "code",
   "execution_count": 19,
   "metadata": {
    "tags": []
   },
   "outputs": [
    {
     "name": "stdout",
     "output_type": "stream",
     "text": [
      "CPU times: total: 11.6 s\n",
      "Wall time: 27.2 s\n"
     ]
    }
   ],
   "source": [
    "%%time\n",
    "X = []\n",
    "\n",
    "sentences = list(movie_reviews['review'])\n",
    "\n",
    "for sen in sentences:\n",
    "    X.append(preprocess_text(sen))"
   ]
  },
  {
   "cell_type": "code",
   "execution_count": 20,
   "metadata": {
    "tags": []
   },
   "outputs": [
    {
     "data": {
      "text/plain": [
       "'Basically there a family where little boy Jake thinks there a zombie in his closet his parents are fighting all the time This movie is slower than soap opera and suddenly Jake decides to become Rambo and kill the zombie OK first of all when you re going to make film you must Decide if its thriller or drama As drama the movie is watchable Parents are divorcing arguing like in real life And then we have Jake with his closet which totally ruins all the film expected to see BOOGEYMAN similar movie and instead watched drama with some meaningless thriller spots out of just for the well playing parents descent dialogs As for the shots with Jake just ignore them '"
      ]
     },
     "execution_count": 20,
     "metadata": {},
     "output_type": "execute_result"
    }
   ],
   "source": [
    "X[3]"
   ]
  },
  {
   "cell_type": "markdown",
   "metadata": {},
   "source": [
    "From the output, you can see that the HTML tags, punctuations and numbers have been removed. We are only left with the alphabets."
   ]
  },
  {
   "cell_type": "markdown",
   "metadata": {},
   "source": [
    "Next, we need to convert our labels into digits. \n",
    "\n",
    "Since we only have two labels in the output i.e. \"positive\" and \"negative\".\n",
    "\n",
    "We can simply convert them into integers by replacing \"positive\" with digit 1 and negative with digit 0"
   ]
  },
  {
   "cell_type": "code",
   "execution_count": 21,
   "metadata": {
    "tags": []
   },
   "outputs": [],
   "source": [
    "y = movie_reviews['sentiment']\n",
    "\n",
    "y = np.array(list(map(lambda x: 1 if x==\"positive\" else 0, y)))"
   ]
  },
  {
   "cell_type": "markdown",
   "metadata": {},
   "source": [
    "Finally, we need to divide our dataset into train and test sets. The train set will be used to train our deep learning models while the test set will be used to evaluate how well our model performs.\n",
    "\n",
    "We can use train_test_split method from the sklearn.model.selection module"
   ]
  },
  {
   "cell_type": "code",
   "execution_count": 23,
   "metadata": {
    "tags": []
   },
   "outputs": [],
   "source": [
    "X_train, X_test, y_train, y_test = train_test_split(X, y, test_size=0.20, random_state=42)"
   ]
  },
  {
   "cell_type": "markdown",
   "metadata": {},
   "source": [
    "#### embedding layer. \n",
    "\n",
    "The embedding layer converts our textual data into numeric data and is used as the first layer for the deep learning models in Keras.\n",
    "\n",
    "As a first step, we will use the __Tokenizer__ class from the keras.preprocessing.text module to create a word-to-index dictionary. \n",
    "\n",
    "In the word-to-index dictionary, each word in the corpus is used as a key, while a corresponding unique index is used as the value for the key."
   ]
  },
  {
   "cell_type": "code",
   "execution_count": 24,
   "metadata": {
    "tags": []
   },
   "outputs": [],
   "source": [
    "tokenizer = Tokenizer(num_words=5000)\n",
    "tokenizer.fit_on_texts(X_train)"
   ]
  },
  {
   "cell_type": "code",
   "execution_count": 25,
   "metadata": {
    "tags": []
   },
   "outputs": [],
   "source": [
    "X_train = tokenizer.texts_to_sequences(X_train)\n",
    "X_test  = tokenizer.texts_to_sequences(X_test)"
   ]
  },
  {
   "cell_type": "markdown",
   "metadata": {},
   "source": [
    "If you view the X_train variable in variable explorer, you will see that it contains 40,000 lists where each list contains integers. \n",
    "\n",
    "Each list actually corresponds to each sentence in the training set. \n",
    "\n",
    "You will also notice that the size of each list is different. This is because sentences have different lengths.\n",
    "\n",
    "We set the maximum size of each list to 100. We can try a different size. \n",
    "\n",
    "The lists with size greater than 100 will be truncated to 100. For the lists that have length less than 100, we will add 0 at the end of the list until it reaches the max length. This process is called __padding__."
   ]
  },
  {
   "cell_type": "code",
   "execution_count": 26,
   "metadata": {
    "tags": []
   },
   "outputs": [
    {
     "data": {
      "text/plain": [
       "40000"
      ]
     },
     "execution_count": 26,
     "metadata": {},
     "output_type": "execute_result"
    }
   ],
   "source": [
    "len(X_train)"
   ]
  },
  {
   "cell_type": "code",
   "execution_count": 27,
   "metadata": {
    "tags": []
   },
   "outputs": [
    {
     "data": {
      "text/plain": [
       "92547"
      ]
     },
     "execution_count": 27,
     "metadata": {},
     "output_type": "execute_result"
    }
   ],
   "source": [
    "# Adding 1 because of reserved 0 index\n",
    "vocab_size = len(tokenizer.word_index) + 1\n",
    "vocab_size"
   ]
  },
  {
   "cell_type": "code",
   "execution_count": 28,
   "metadata": {
    "tags": []
   },
   "outputs": [],
   "source": [
    "maxlen = 100\n",
    "\n",
    "X_train = pad_sequences(X_train, padding='post', maxlen=maxlen)\n",
    "X_test  = pad_sequences(X_test,  padding='post', maxlen=maxlen)"
   ]
  },
  {
   "cell_type": "markdown",
   "metadata": {},
   "source": [
    "Now if we view the X_train or X_test, we will see that all the lists have same length i.e. 100. \n",
    "\n",
    "Also, the vocabulary_size variable now contains a value 92547 which means that our corpus has 92547 unique words."
   ]
  },
  {
   "cell_type": "markdown",
   "metadata": {},
   "source": [
    "#### GloVe embeddings to create our feature matrix\n",
    "\n",
    "load the GloVe word embeddings and create a dictionary that will contain words as keys and their corresponding embedding list as values."
   ]
  },
  {
   "cell_type": "code",
   "execution_count": 29,
   "metadata": {
    "tags": []
   },
   "outputs": [],
   "source": [
    "from numpy import array\n",
    "from numpy import asarray\n",
    "from numpy import zeros"
   ]
  },
  {
   "cell_type": "code",
   "execution_count": 30,
   "metadata": {
    "tags": []
   },
   "outputs": [],
   "source": [
    "embeddings_dictionary = dict()"
   ]
  },
  {
   "cell_type": "markdown",
   "metadata": {},
   "source": [
    "400 mb file"
   ]
  },
  {
   "cell_type": "code",
   "execution_count": 31,
   "metadata": {
    "tags": []
   },
   "outputs": [],
   "source": [
    "location_glove_file = r'D:\\AI-DATASETS\\02-MISC-large\\Glove\\glove.6B.100d.txt'"
   ]
  },
  {
   "cell_type": "code",
   "execution_count": 32,
   "metadata": {
    "tags": []
   },
   "outputs": [],
   "source": [
    "glove_file = open(location_glove_file, encoding=\"utf8\")"
   ]
  },
  {
   "cell_type": "code",
   "execution_count": 33,
   "metadata": {
    "tags": []
   },
   "outputs": [
    {
     "name": "stdout",
     "output_type": "stream",
     "text": [
      "['the', '-0.038194', '-0.24487', '0.72812', '-0.39961', '0.083172', '0.043953', '-0.39141', '0.3344', '-0.57545', '0.087459', '0.28787', '-0.06731', '0.30906', '-0.26384', '-0.13231', '-0.20757', '0.33395', '-0.33848', '-0.31743', '-0.48336', '0.1464', '-0.37304', '0.34577', '0.052041', '0.44946', '-0.46971', '0.02628', '-0.54155', '-0.15518', '-0.14107', '-0.039722', '0.28277', '0.14393', '0.23464', '-0.31021', '0.086173', '0.20397', '0.52624', '0.17164', '-0.082378', '-0.71787', '-0.41531', '0.20335', '-0.12763', '0.41367', '0.55187', '0.57908', '-0.33477', '-0.36559', '-0.54857', '-0.062892', '0.26584', '0.30205', '0.99775', '-0.80481', '-3.0243', '0.01254', '-0.36942', '2.2167', '0.72201', '-0.24978', '0.92136', '0.034514', '0.46745', '1.1079', '-0.19358', '-0.074575', '0.23353', '-0.052062', '-0.22044', '0.057162', '-0.15806', '-0.30798', '-0.41625', '0.37972', '0.15006', '-0.53212', '-0.2055', '-1.2526', '0.071624', '0.70565', '0.49744', '-0.42063', '0.26148', '-1.538', '-0.30223', '-0.073438', '-0.28312', '0.37104', '-0.25217', '0.016215', '-0.017099', '-0.38984', '0.87424', '-0.72569', '-0.51058', '-0.52028', '-0.1459', '0.8278', '0.27062']\n",
      "the\n",
      "[',', '-0.10767', '0.11053', '0.59812', '-0.54361', '0.67396', '0.10663', '0.038867', '0.35481', '0.06351', '-0.094189', '0.15786', '-0.81665', '0.14172', '0.21939', '0.58505', '-0.52158', '0.22783', '-0.16642', '-0.68228', '0.3587', '0.42568', '0.19021', '0.91963', '0.57555', '0.46185', '0.42363', '-0.095399', '-0.42749', '-0.16567', '-0.056842', '-0.29595', '0.26037', '-0.26606', '-0.070404', '-0.27662', '0.15821', '0.69825', '0.43081', '0.27952', '-0.45437', '-0.33801', '-0.58184', '0.22364', '-0.5778', '-0.26862', '-0.20425', '0.56394', '-0.58524', '-0.14365', '-0.64218', '0.0054697', '-0.35248', '0.16162', '1.1796', '-0.47674', '-2.7553', '-0.1321', '-0.047729', '1.0655', '1.1034', '-0.2208', '0.18669', '0.13177', '0.15117', '0.7131', '-0.35215', '0.91348', '0.61783', '0.70992', '0.23955', '-0.14571', '-0.37859', '-0.045959', '-0.47368', '0.2385', '0.20536', '-0.18996', '0.32507', '-1.1112', '-0.36341', '0.98679', '-0.084776', '-0.54008', '0.11726', '-1.0194', '-0.24424', '0.12771', '0.013884', '0.080374', '-0.35414', '0.34951', '-0.7226', '0.37549', '0.4441', '-0.99059', '0.61214', '-0.35111', '-0.83155', '0.45293', '0.082577']\n",
      ",\n"
     ]
    }
   ],
   "source": [
    "i = 1\n",
    "for line in glove_file:\n",
    "    \n",
    "    records = line.split()\n",
    "    \n",
    "    print(records)\n",
    "    \n",
    "    word    = records[0]\n",
    "    \n",
    "    print(word)\n",
    "    \n",
    "    if i==2:\n",
    "        break\n",
    "    \n",
    "    i +=1 "
   ]
  },
  {
   "cell_type": "code",
   "execution_count": 34,
   "metadata": {
    "tags": []
   },
   "outputs": [
    {
     "name": "stdout",
     "output_type": "stream",
     "text": [
      "CPU times: total: 16.6 s\n",
      "Wall time: 35.4 s\n"
     ]
    }
   ],
   "source": [
    "%%time\n",
    "for line in glove_file:\n",
    "    \n",
    "    records = line.split()\n",
    "    word    = records[0]\n",
    "    \n",
    "    vector_dimensions = asarray(records[1:], dtype='float32')\n",
    "    \n",
    "    embeddings_dictionary[word] = vector_dimensions"
   ]
  },
  {
   "cell_type": "markdown",
   "metadata": {},
   "source": [
    "Finally, we will create an __embedding matrix__ where each row number will correspond to the index of the word in the corpus. \n",
    "\n",
    "The matrix will have 100 columns where each column will contain the GloVe word embeddings for the words in our corpus."
   ]
  },
  {
   "cell_type": "code",
   "execution_count": 35,
   "metadata": {
    "tags": []
   },
   "outputs": [],
   "source": [
    "embedding_matrix = zeros((vocab_size, 100))\n",
    "\n",
    "for word, index in tokenizer.word_index.items():\n",
    "    embedding_vector = embeddings_dictionary.get(word)\n",
    "    \n",
    "    if embedding_vector is not None:\n",
    "        embedding_matrix[index] = embedding_vector"
   ]
  },
  {
   "cell_type": "code",
   "execution_count": 36,
   "metadata": {
    "tags": []
   },
   "outputs": [
    {
     "data": {
      "text/plain": [
       "92547"
      ]
     },
     "execution_count": 36,
     "metadata": {},
     "output_type": "execute_result"
    }
   ],
   "source": [
    "len(embedding_matrix)"
   ]
  },
  {
   "cell_type": "code",
   "execution_count": 40,
   "metadata": {
    "tags": []
   },
   "outputs": [
    {
     "data": {
      "text/plain": [
       "array([[-0.51533002,  0.83186001,  0.22457001, -0.73865002,  0.18718   ,\n",
       "         0.26021001, -0.42563999,  0.67120999, -0.31084001, -0.61274999,\n",
       "         0.089526  , -0.24011   ,  1.18780005,  0.67609   , -0.022885  ,\n",
       "        -0.92532998,  0.071174  ,  0.38837001, -0.42923999,  0.37143999,\n",
       "         0.32670999,  0.43141001,  0.87494999,  0.34009001, -0.23188999,\n",
       "        -0.41144001,  0.49061   , -0.32905999, -0.49109   , -0.18988   ,\n",
       "         0.33408001, -0.21245   , -0.38385999, -0.080547  ,  1.11609995,\n",
       "         0.23616999,  0.31332999,  0.49285999,  0.1       , -0.15131   ,\n",
       "        -0.14176001, -0.2802    , -0.2388    , -0.35486001,  0.18282001,\n",
       "        -0.19134   ,  0.60544002,  0.074573  , -0.20731001, -0.60965002,\n",
       "         0.19908001, -0.57024002, -0.17427   ,  1.44190001, -0.25018999,\n",
       "        -1.86479998,  0.41670999, -0.24607   ,  1.50100005,  0.87414998,\n",
       "        -0.67135   ,  1.27620006, -0.2721    ,  0.17583001,  1.22420001,\n",
       "         0.28242001,  0.62374997,  0.63950998,  0.36914   , -0.84676999,\n",
       "        -0.32269999, -0.67151999, -0.19634999, -0.40788999, -0.20965999,\n",
       "        -0.19622999,  0.041885  ,  0.53966999, -1.11049998, -0.39515001,\n",
       "         0.66589999, -0.233     , -1.08200002,  0.046465  , -2.09929991,\n",
       "        -0.28492999,  0.080025  , -0.12963   , -0.30011001, -0.46764001,\n",
       "        -0.81831002, -0.048509  , -0.32233   , -0.32012999, -1.1207    ,\n",
       "        -0.056788  , -0.73004001, -1.20239997,  1.13039994,  0.3479    ]])"
      ]
     },
     "execution_count": 40,
     "metadata": {},
     "output_type": "execute_result"
    }
   ],
   "source": [
    "embedding_matrix[20:21]"
   ]
  },
  {
   "cell_type": "markdown",
   "metadata": {},
   "source": [
    "embedding_matrix will contain 92547 rows (one for each word in the corpus). Now we are ready to create our deep learning models."
   ]
  },
  {
   "cell_type": "code",
   "execution_count": 47,
   "metadata": {
    "tags": []
   },
   "outputs": [],
   "source": [
    "def plot_history(history):\n",
    "\n",
    "    plt.plot(history.history['acc'])\n",
    "    plt.plot(history.history['val_acc'])\n",
    "\n",
    "    plt.title('model accuracy')\n",
    "    plt.ylabel('accuracy')\n",
    "    plt.xlabel('epoch')\n",
    "    plt.legend(['train','test'], loc='upper left')\n",
    "\n",
    "    plt.plot(history.history['loss'])\n",
    "    plt.plot(history.history['val_loss'])\n",
    "\n",
    "    plt.title('model loss')\n",
    "    plt.ylabel('loss')\n",
    "    plt.xlabel('epoch')\n",
    "    plt.legend(['train','test'], loc='upper left')\n",
    "    plt.grid()"
   ]
  },
  {
   "cell_type": "markdown",
   "metadata": {},
   "source": [
    "#### 1. Using Simple Neural Network"
   ]
  },
  {
   "cell_type": "code",
   "execution_count": 41,
   "metadata": {
    "tags": []
   },
   "outputs": [],
   "source": [
    "model           = Sequential()\n",
    "embedding_layer = Embedding(vocab_size, \n",
    "                            100, \n",
    "                            weights      = [embedding_matrix], \n",
    "                            input_length = maxlen , \n",
    "                            trainable    = False)\n",
    "model.add(embedding_layer)\n",
    "model.add(Flatten())\n",
    "model.add(Dense(1, activation='sigmoid'))"
   ]
  },
  {
   "cell_type": "markdown",
   "metadata": {},
   "source": [
    "we create a __Sequential()__ model. \n",
    "\n",
    "Next, we create our __embedding layer__. The embedding layer will have an input length of 100, the output vector dimension will also be 100. \n",
    "\n",
    "The vocabulary size will be 92547 words. Since we are not training our own embeddings and using the GloVe embedding, we set trainable to False and in the weights attribute we pass our own embedding matrix.\n",
    "\n",
    "The __embedding layer__ is then added to our model. \n",
    "\n",
    "Next, since we are directly connecting our embedding layer to densely connected layer, we flatten the embedding layer. \n",
    "\n",
    "Finally, we add a dense layer with __sigmoid__ activation function.\n",
    "\n",
    "To compile our model, we will use the __adam__ optimizer, __binary_crossentropy__ as our loss function and __accuracy__ as metrics and then we will print the summary of our model:"
   ]
  },
  {
   "cell_type": "code",
   "execution_count": 42,
   "metadata": {
    "tags": []
   },
   "outputs": [
    {
     "name": "stdout",
     "output_type": "stream",
     "text": [
      "Model: \"sequential\"\n",
      "_________________________________________________________________\n",
      " Layer (type)                Output Shape              Param #   \n",
      "=================================================================\n",
      " embedding (Embedding)       (None, 100, 100)          9254700   \n",
      "                                                                 \n",
      " flatten (Flatten)           (None, 10000)             0         \n",
      "                                                                 \n",
      " dense (Dense)               (None, 1)                 10001     \n",
      "                                                                 \n",
      "=================================================================\n",
      "Total params: 9264701 (35.34 MB)\n",
      "Trainable params: 10001 (39.07 KB)\n",
      "Non-trainable params: 9254700 (35.30 MB)\n",
      "_________________________________________________________________\n",
      "None\n"
     ]
    }
   ],
   "source": [
    "model.compile(optimizer='adam', loss='binary_crossentropy', metrics=['acc'])\n",
    "\n",
    "print(model.summary())"
   ]
  },
  {
   "cell_type": "markdown",
   "metadata": {},
   "source": [
    "Since there are 92547 words in our corpus and each word is represented as a 100-dimensional vector, the number of trainable parameter will be 92547x100 in the embedding layer. \n",
    "\n",
    "In the flattening layer, we simply multiply rows and column. \n",
    "\n",
    "Finally in the dense layer the number of parameters are 10000 (from the flattening layer) and 1 for the bias parameter, for a total of 10001."
   ]
  },
  {
   "cell_type": "markdown",
   "metadata": {},
   "source": [
    "#### train our model:"
   ]
  },
  {
   "cell_type": "code",
   "execution_count": 43,
   "metadata": {
    "tags": []
   },
   "outputs": [
    {
     "name": "stdout",
     "output_type": "stream",
     "text": [
      "Epoch 1/6\n",
      "250/250 [==============================] - 6s 13ms/step - loss: 0.6032 - acc: 0.6748 - val_loss: 0.5721 - val_acc: 0.7007\n",
      "Epoch 2/6\n",
      "250/250 [==============================] - 3s 11ms/step - loss: 0.4965 - acc: 0.7621 - val_loss: 0.5187 - val_acc: 0.7406\n",
      "Epoch 3/6\n",
      "250/250 [==============================] - 3s 11ms/step - loss: 0.4550 - acc: 0.7883 - val_loss: 0.5165 - val_acc: 0.7467\n",
      "Epoch 4/6\n",
      "250/250 [==============================] - 3s 11ms/step - loss: 0.4360 - acc: 0.7979 - val_loss: 0.5240 - val_acc: 0.7431\n",
      "Epoch 5/6\n",
      "250/250 [==============================] - 3s 11ms/step - loss: 0.4194 - acc: 0.8082 - val_loss: 0.5241 - val_acc: 0.7462\n",
      "Epoch 6/6\n",
      "250/250 [==============================] - 3s 10ms/step - loss: 0.4044 - acc: 0.8181 - val_loss: 0.5306 - val_acc: 0.7418\n",
      "CPU times: total: 18.8 s\n",
      "Wall time: 19.5 s\n"
     ]
    }
   ],
   "source": [
    "%%time\n",
    "history = model.fit(X_train, y_train, batch_size=128, epochs=6, verbose=1, validation_split=0.2)"
   ]
  },
  {
   "cell_type": "code",
   "execution_count": 48,
   "metadata": {
    "tags": []
   },
   "outputs": [
    {
     "data": {
      "image/png": "[encoded data removed]",
      "text/plain": [
       "<Figure size 640x480 with 1 Axes>"
      ]
     },
     "metadata": {},
     "output_type": "display_data"
    }
   ],
   "source": [
    "plot_history(history)"
   ]
  },
  {
   "cell_type": "code",
   "execution_count": 50,
   "metadata": {
    "tags": []
   },
   "outputs": [
    {
     "name": "stdout",
     "output_type": "stream",
     "text": [
      "313/313 [==============================] - 2s 5ms/step - loss: 0.5359 - acc: 0.7438\n",
      "1250/1250 [==============================] - 7s 6ms/step - loss: 0.3970 - acc: 0.8256\n",
      "Test Score: 0.5359158515930176\n",
      "Test Accuracy: 0.7437999844551086\n",
      "Train Score: 0.39703619480133057\n",
      "Train Accuracy: 0.8255749940872192\n"
     ]
    }
   ],
   "source": [
    "score_test  = model.evaluate(X_test,  y_test,  verbose=1)\n",
    "score_train = model.evaluate(X_train, y_train, verbose=1)\n",
    "\n",
    "print(\"Test Score:\", score_test[0])\n",
    "print(\"Test Accuracy:\", score_test[1])\n",
    "\n",
    "print(\"Train Score:\", score_train[0])\n",
    "print(\"Train Accuracy:\", score_train[1])"
   ]
  },
  {
   "cell_type": "markdown",
   "metadata": {},
   "source": [
    "#### 2. Using SimpleRNN"
   ]
  },
  {
   "cell_type": "code",
   "execution_count": 119,
   "metadata": {},
   "outputs": [],
   "source": [
    "from keras import Sequential\n",
    "from keras.layers import Embedding, SimpleRNN"
   ]
  },
  {
   "cell_type": "code",
   "execution_count": 120,
   "metadata": {},
   "outputs": [],
   "source": [
    "model           = Sequential()\n",
    "embedding_layer = Embedding(vocab_size, \n",
    "                            100, \n",
    "                            weights=[embedding_matrix], \n",
    "                            input_length=maxlen , \n",
    "                            trainable=False)\n",
    "model.add(embedding_layer)\n",
    "model.add(SimpleRNN(128))\n",
    "\n",
    "model.add(Dense(1, activation='sigmoid'))\n",
    "model.compile(optimizer='adam', loss='binary_crossentropy', metrics=['acc'])"
   ]
  },
  {
   "cell_type": "code",
   "execution_count": 121,
   "metadata": {},
   "outputs": [
    {
     "name": "stdout",
     "output_type": "stream",
     "text": [
      "Model: \"sequential_10\"\n",
      "_________________________________________________________________\n",
      "Layer (type)                 Output Shape              Param #   \n",
      "=================================================================\n",
      "embedding_10 (Embedding)     (None, 100, 100)          9254700   \n",
      "_________________________________________________________________\n",
      "simple_rnn_6 (SimpleRNN)     (None, 128)               29312     \n",
      "_________________________________________________________________\n",
      "dense_10 (Dense)             (None, 1)                 129       \n",
      "=================================================================\n",
      "Total params: 9,284,141\n",
      "Trainable params: 29,441\n",
      "Non-trainable params: 9,254,700\n",
      "_________________________________________________________________\n",
      "None\n"
     ]
    }
   ],
   "source": [
    "print(model.summary())"
   ]
  },
  {
   "cell_type": "code",
   "execution_count": 122,
   "metadata": {},
   "outputs": [
    {
     "name": "stdout",
     "output_type": "stream",
     "text": [
      "Train on 32000 samples, validate on 8000 samples\n",
      "Epoch 1/6\n",
      "32000/32000 [==============================] - 20s 610us/step - loss: 0.6803 - acc: 0.5677 - val_loss: 0.6588 - val_acc: 0.5949\n",
      "Epoch 2/6\n",
      "32000/32000 [==============================] - 19s 593us/step - loss: 0.6592 - acc: 0.5994 - val_loss: 0.6361 - val_acc: 0.6309\n",
      "Epoch 3/6\n",
      "32000/32000 [==============================] - 19s 590us/step - loss: 0.6390 - acc: 0.6318 - val_loss: 0.5552 - val_acc: 0.7319\n",
      "Epoch 4/6\n",
      "32000/32000 [==============================] - 19s 598us/step - loss: 0.6428 - acc: 0.6173 - val_loss: 0.6678 - val_acc: 0.5799\n",
      "Epoch 5/6\n",
      "32000/32000 [==============================] - 19s 592us/step - loss: 0.6597 - acc: 0.5952 - val_loss: 0.6696 - val_acc: 0.5785\n",
      "Epoch 6/6\n",
      "32000/32000 [==============================] - 19s 592us/step - loss: 0.6485 - acc: 0.6157 - val_loss: 0.6267 - val_acc: 0.6522\n",
      "10000/10000 [==============================] - 3s 338us/step\n",
      "Wall time: 1min 58s\n"
     ]
    }
   ],
   "source": [
    "%%time\n",
    "history = model.fit(X_train, y_train, batch_size=128, epochs=6, verbose=1, validation_split=0.2)\n",
    "\n",
    "score = model.evaluate(X_test, y_test, verbose=1)"
   ]
  },
  {
   "cell_type": "code",
   "execution_count": 123,
   "metadata": {},
   "outputs": [
    {
     "name": "stdout",
     "output_type": "stream",
     "text": [
      "10000/10000 [==============================] - 3s 346us/step\n",
      "Test Score: 0.6298365400314331\n",
      "Test Accuracy: 0.6474000215530396\n"
     ]
    },
    {
     "data": {
      "image/png": "[encoded data removed]",
      "text/plain": [
       "<Figure size 432x288 with 1 Axes>"
      ]
     },
     "metadata": {
      "needs_background": "light"
     },
     "output_type": "display_data"
    }
   ],
   "source": [
    "score = model.evaluate(X_test, y_test, verbose=1)\n",
    "\n",
    "print(\"Test Score:\", score[0])\n",
    "print(\"Test Accuracy:\", score[1])\n",
    "\n",
    "plot_history(history)"
   ]
  },
  {
   "cell_type": "markdown",
   "metadata": {},
   "source": [
    "#### Using Recurrent Neural Network (LSTM)"
   ]
  },
  {
   "cell_type": "code",
   "execution_count": 70,
   "metadata": {},
   "outputs": [],
   "source": [
    "from keras import Sequential\n",
    "from keras.layers import Embedding, LSTM, Dense, Dropout"
   ]
  },
  {
   "cell_type": "code",
   "execution_count": 71,
   "metadata": {},
   "outputs": [],
   "source": [
    "model = Sequential()\n",
    "embedding_layer = Embedding(vocab_size, \n",
    "                            100, \n",
    "                            weights=[embedding_matrix], \n",
    "                            input_length=maxlen , \n",
    "                            trainable=False)\n",
    "model.add(embedding_layer)\n",
    "model.add(LSTM(128))\n",
    "\n",
    "model.add(Dense(1, activation='sigmoid'))\n",
    "model.compile(optimizer='adam', loss='binary_crossentropy', metrics=['acc'])"
   ]
  },
  {
   "cell_type": "markdown",
   "metadata": {},
   "source": [
    "we start by initializing a sequential model followed by the creation of the embedding layer. \n",
    "\n",
    "Next, we create an LSTM layer with 128 neurons "
   ]
  },
  {
   "cell_type": "code",
   "execution_count": 72,
   "metadata": {},
   "outputs": [
    {
     "name": "stdout",
     "output_type": "stream",
     "text": [
      "Model: \"sequential_6\"\n",
      "_________________________________________________________________\n",
      "Layer (type)                 Output Shape              Param #   \n",
      "=================================================================\n",
      "embedding_6 (Embedding)      (None, 100, 100)          9254700   \n",
      "_________________________________________________________________\n",
      "lstm_2 (LSTM)                (None, 128)               117248    \n",
      "_________________________________________________________________\n",
      "dense_6 (Dense)              (None, 1)                 129       \n",
      "=================================================================\n",
      "Total params: 9,372,077\n",
      "Trainable params: 117,377\n",
      "Non-trainable params: 9,254,700\n",
      "_________________________________________________________________\n",
      "None\n"
     ]
    }
   ],
   "source": [
    "print(model.summary())"
   ]
  },
  {
   "cell_type": "code",
   "execution_count": 39,
   "metadata": {},
   "outputs": [
    {
     "name": "stdout",
     "output_type": "stream",
     "text": [
      "Train on 32000 samples, validate on 8000 samples\n",
      "Epoch 1/6\n",
      "32000/32000 [==============================] - 67s 2ms/step - loss: 0.5378 - acc: 0.7240 - val_loss: 0.4537 - val_acc: 0.7857\n",
      "Epoch 2/6\n",
      "32000/32000 [==============================] - 66s 2ms/step - loss: 0.4467 - acc: 0.7946 - val_loss: 0.4089 - val_acc: 0.8155\n",
      "Epoch 3/6\n",
      "32000/32000 [==============================] - 67s 2ms/step - loss: 0.3971 - acc: 0.8192 - val_loss: 0.3994 - val_acc: 0.8167\n",
      "Epoch 4/6\n",
      "32000/32000 [==============================] - 65s 2ms/step - loss: 0.3629 - acc: 0.8390 - val_loss: 0.3483 - val_acc: 0.8481\n",
      "Epoch 5/6\n",
      "32000/32000 [==============================] - 64s 2ms/step - loss: 0.3393 - acc: 0.8502 - val_loss: 0.3351 - val_acc: 0.8546\n",
      "Epoch 6/6\n",
      "32000/32000 [==============================] - 63s 2ms/step - loss: 0.3189 - acc: 0.8635 - val_loss: 0.3368 - val_acc: 0.8471\n",
      "10000/10000 [==============================] - 10s 1ms/step\n",
      "Wall time: 6min 43s\n"
     ]
    }
   ],
   "source": [
    "%%time\n",
    "history = model.fit(X_train, y_train, batch_size=128, epochs=6, verbose=1, validation_split=0.2)\n",
    "\n",
    "score = model.evaluate(X_test, y_test, verbose=1)"
   ]
  },
  {
   "cell_type": "code",
   "execution_count": 40,
   "metadata": {},
   "outputs": [
    {
     "name": "stdout",
     "output_type": "stream",
     "text": [
      "Test Score: 0.338674317073822\n",
      "Test Accuracy: 0.8476999998092651\n"
     ]
    }
   ],
   "source": [
    "print(\"Test Score:\", score[0])\n",
    "print(\"Test Accuracy:\", score[1])"
   ]
  },
  {
   "cell_type": "code",
   "execution_count": 41,
   "metadata": {},
   "outputs": [
    {
     "data": {
      "text/plain": [
       "<matplotlib.legend.Legend at 0x26d0b657948>"
      ]
     },
     "execution_count": 41,
     "metadata": {},
     "output_type": "execute_result"
    },
    {
     "data": {
      "image/png": "[encoded data removed]",
      "text/plain": [
       "<Figure size 432x288 with 1 Axes>"
      ]
     },
     "metadata": {
      "needs_background": "light"
     },
     "output_type": "display_data"
    }
   ],
   "source": [
    "import matplotlib.pyplot as plt\n",
    "\n",
    "plt.plot(history.history['acc'])\n",
    "plt.plot(history.history['val_acc'])\n",
    "\n",
    "plt.title('model accuracy')\n",
    "plt.ylabel('accuracy')\n",
    "plt.xlabel('epoch')\n",
    "plt.legend(['train','test'], loc='upper left')\n",
    "\n",
    "plt.plot(history.history['loss'])\n",
    "plt.plot(history.history['val_loss'])\n",
    "\n",
    "plt.title('model loss')\n",
    "plt.ylabel('loss')\n",
    "plt.xlabel('epoch')\n",
    "plt.legend(['train','test'], loc='upper left')"
   ]
  },
  {
   "cell_type": "markdown",
   "metadata": {},
   "source": [
    "## Making Predictions on Single Instance"
   ]
  },
  {
   "cell_type": "code",
   "execution_count": 44,
   "metadata": {},
   "outputs": [
    {
     "name": "stdout",
     "output_type": "stream",
     "text": [
      "I laughed all the way through this rotten movie It so unbelievable woman leaves her husband after many years of marriage has breakdown in front of real estate office What happens The office manager comes outside and offers her job Hilarious Next thing you know the two women are going at it Yep they re lesbians Nothing rings true in this Lifetime for Women with nothing better to do movie Clunky dialogue like don want to spend the rest of my life feeling like had chance to be happy and didn take it doesn help There a wealthy distant mother who disapproves of her daughter new relationship sassy black maid unbelievable that in the year film gets made in which there a sassy black maid Hattie McDaniel must be turning in her grave The woman has husband who freaks out and wants custody of the snotty teenage kids Sheesh No cliche is left unturned \n"
     ]
    }
   ],
   "source": [
    "instance = X[57]\n",
    "print(instance)"
   ]
  },
  {
   "cell_type": "markdown",
   "metadata": {},
   "source": [
    "You can clearly see that this is __negative__ review. \n",
    "\n",
    "To predict the sentiment of this review, we have to convert this review into numeric form. We can do so using the tokenizer that we created in word embedding section. The text_to_sequences method will convert the sentence into its numeric counter part.\n",
    "\n",
    "Next, we need to pad our input sequence as we did for our corpus. \n",
    "\n",
    "Finally, we can use the predict method of our model and pass it our processed input sequence. "
   ]
  },
  {
   "cell_type": "code",
   "execution_count": 45,
   "metadata": {},
   "outputs": [
    {
     "data": {
      "text/plain": [
       "array([[0.5479413]], dtype=float32)"
      ]
     },
     "execution_count": 45,
     "metadata": {},
     "output_type": "execute_result"
    }
   ],
   "source": [
    "instance = tokenizer.texts_to_sequences(instance)\n",
    "\n",
    "flat_list = []\n",
    "for sublist in instance:\n",
    "    for item in sublist:\n",
    "        flat_list.append(item)\n",
    "\n",
    "flat_list = [flat_list]\n",
    "\n",
    "instance = pad_sequences(flat_list, padding='post', maxlen=maxlen)\n",
    "\n",
    "model.predict(instance)"
   ]
  },
  {
   "cell_type": "markdown",
   "metadata": {},
   "source": [
    "The results show that LSTM, which is a variant of RNN outperforms simple neural network."
   ]
  },
  {
   "cell_type": "code",
   "execution_count": null,
   "metadata": {},
   "outputs": [],
   "source": []
  },
  {
   "cell_type": "code",
   "execution_count": 46,
   "metadata": {},
   "outputs": [],
   "source": [
    "from keras import Sequential\n",
    "from keras.layers import Embedding, LSTM, Dense, Dropout, Bidirectional"
   ]
  },
  {
   "cell_type": "code",
   "execution_count": 37,
   "metadata": {},
   "outputs": [],
   "source": [
    "model = Sequential()\n",
    "embedding_layer = Embedding(vocab_size, 100, weights=[embedding_matrix], input_length=maxlen , trainable=False)\n",
    "model.add(embedding_layer)\n",
    "model.add(Bidirectional(128))\n",
    "\n",
    "model.add(Dense(1, activation='sigmoid'))\n",
    "model.compile(optimizer='adam', loss='binary_crossentropy', metrics=['acc'])"
   ]
  }
 ],
 "metadata": {
  "kernelspec": {
   "display_name": "Python 3 (ipykernel)",
   "language": "python",
   "name": "python3"
  },
  "language_info": {
   "codemirror_mode": {
    "name": "ipython",
    "version": 3
   },
   "file_extension": ".py",
   "mimetype": "text/x-python",
   "name": "python",
   "nbconvert_exporter": "python",
   "pygments_lexer": "ipython3",
   "version": "3.9.13"
  }
 },
 "nbformat": 4,
 "nbformat_minor": 4
}
