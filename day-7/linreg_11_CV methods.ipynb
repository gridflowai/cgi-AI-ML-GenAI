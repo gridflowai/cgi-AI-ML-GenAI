{
 "cells": [
  {
   "cell_type": "markdown",
   "id": "f07598d8-631e-4d6e-b9ea-fa9ac3a768de",
   "metadata": {},
   "source": [
    "--------------------\n",
    "#### Cross-validation \n",
    "- is a crucial technique in machine learning and statistics for evaluating the performance of predictive models. \n",
    "-------------------------"
   ]
  },
  {
   "cell_type": "code",
   "execution_count": 3,
   "id": "4694cbe2-0eb9-4a1f-8ab3-93b32f8c9aaf",
   "metadata": {
    "tags": []
   },
   "outputs": [],
   "source": [
    "import pandas as pd\n",
    "import numpy as np\n",
    "\n",
    "# import plotting libraries\n",
    "import matplotlib.pyplot as plt\n",
    "\n",
    "import seaborn as sns\n",
    "sns.set(style=\"white\", color_codes=True)\n",
    "sns.set(font_scale=1.5)\n",
    "\n",
    "# import the ML algorithm\n",
    "from sklearn.linear_model import LinearRegression\n",
    "\n",
    "# import libraries for model validation\n",
    "from sklearn.model_selection import StratifiedKFold\n",
    "from sklearn.model_selection import cross_val_score\n",
    "from sklearn.model_selection import train_test_split\n",
    "\n",
    "# import libraries for metrics and reporting\n",
    "from sklearn import metrics"
   ]
  },
  {
   "cell_type": "code",
   "execution_count": 4,
   "id": "67f01b8f-12ed-410b-8c16-7126a3566f20",
   "metadata": {
    "tags": []
   },
   "outputs": [],
   "source": [
    "location = \"https://github.com/gridflowai/gridflowAI-datasets-icons/raw/master/AI-DATASETS/01-MISC/Advertising.csv\""
   ]
  },
  {
   "cell_type": "code",
   "execution_count": 5,
   "id": "9acede08-e352-427c-ace7-153320d34946",
   "metadata": {
    "tags": []
   },
   "outputs": [],
   "source": [
    "# load the training data from glass data set\n",
    "df_training = pd.read_csv(location)\n",
    "\n",
    "df_training.drop(['Unnamed: 0'], axis=1, inplace=True)"
   ]
  },
  {
   "cell_type": "code",
   "execution_count": 6,
   "id": "2e36e648-1a73-4c60-95f5-147cea3a2d07",
   "metadata": {
    "tags": []
   },
   "outputs": [
    {
     "data": {
      "text/html": [
       "<div>\n",
       "<style scoped>\n",
       "    .dataframe tbody tr th:only-of-type {\n",
       "        vertical-align: middle;\n",
       "    }\n",
       "\n",
       "    .dataframe tbody tr th {\n",
       "        vertical-align: top;\n",
       "    }\n",
       "\n",
       "    .dataframe thead th {\n",
       "        text-align: right;\n",
       "    }\n",
       "</style>\n",
       "<table border=\"1\" class=\"dataframe\">\n",
       "  <thead>\n",
       "    <tr style=\"text-align: right;\">\n",
       "      <th></th>\n",
       "      <th>TV</th>\n",
       "      <th>radio</th>\n",
       "      <th>newspaper</th>\n",
       "      <th>sales</th>\n",
       "    </tr>\n",
       "  </thead>\n",
       "  <tbody>\n",
       "    <tr>\n",
       "      <th>0</th>\n",
       "      <td>230.1</td>\n",
       "      <td>37.8</td>\n",
       "      <td>69.2</td>\n",
       "      <td>22.1</td>\n",
       "    </tr>\n",
       "    <tr>\n",
       "      <th>1</th>\n",
       "      <td>44.5</td>\n",
       "      <td>39.3</td>\n",
       "      <td>45.1</td>\n",
       "      <td>10.4</td>\n",
       "    </tr>\n",
       "    <tr>\n",
       "      <th>2</th>\n",
       "      <td>17.2</td>\n",
       "      <td>45.9</td>\n",
       "      <td>69.3</td>\n",
       "      <td>9.3</td>\n",
       "    </tr>\n",
       "    <tr>\n",
       "      <th>3</th>\n",
       "      <td>151.5</td>\n",
       "      <td>41.3</td>\n",
       "      <td>58.5</td>\n",
       "      <td>18.5</td>\n",
       "    </tr>\n",
       "    <tr>\n",
       "      <th>4</th>\n",
       "      <td>180.8</td>\n",
       "      <td>10.8</td>\n",
       "      <td>58.4</td>\n",
       "      <td>12.9</td>\n",
       "    </tr>\n",
       "  </tbody>\n",
       "</table>\n",
       "</div>"
      ],
      "text/plain": [
       "      TV  radio  newspaper  sales\n",
       "0  230.1   37.8       69.2   22.1\n",
       "1   44.5   39.3       45.1   10.4\n",
       "2   17.2   45.9       69.3    9.3\n",
       "3  151.5   41.3       58.5   18.5\n",
       "4  180.8   10.8       58.4   12.9"
      ]
     },
     "execution_count": 6,
     "metadata": {},
     "output_type": "execute_result"
    }
   ],
   "source": [
    "df_training.head()"
   ]
  },
  {
   "cell_type": "code",
   "execution_count": 9,
   "id": "fe3ef40e-d80a-41e5-8ae6-14d4b0d98859",
   "metadata": {},
   "outputs": [],
   "source": [
    "# create a Python list of feature names\n",
    "feature_cols = ['TV', 'radio', 'newspaper']\n",
    "\n",
    "# use the list to select a subset of the original DataFrame\n",
    "X = df_training[feature_cols]\n",
    "\n",
    "# select a Series from the DataFrame\n",
    "y = df_training['sales']"
   ]
  },
  {
   "cell_type": "code",
   "execution_count": 10,
   "id": "40490f10-3d31-4305-97c8-adbbaff6c20c",
   "metadata": {},
   "outputs": [],
   "source": [
    "from sklearn.model_selection import train_test_split\n",
    "from sklearn.linear_model import LinearRegression\n",
    "from sklearn.metrics import mean_squared_error"
   ]
  },
  {
   "cell_type": "code",
   "execution_count": 11,
   "id": "00a6f77e-a08e-4410-887c-81c742494877",
   "metadata": {},
   "outputs": [],
   "source": [
    "# Split the data into training and test sets\n",
    "X_train, X_test, y_train, y_test = train_test_split(X, y, test_size=0.2, random_state=42)\n"
   ]
  },
  {
   "cell_type": "code",
   "execution_count": 13,
   "id": "42a699f9-899f-415b-be5f-dec097d17e8b",
   "metadata": {},
   "outputs": [
    {
     "name": "stdout",
     "output_type": "stream",
     "text": [
      "Mean Squared Error: 3.1740973539761024\n"
     ]
    }
   ],
   "source": [
    "# Train the model\n",
    "model = LinearRegression()\n",
    "model.fit(X_train, y_train)\n",
    "\n",
    "# Evaluate the model\n",
    "y_pred = model.predict(X_test)\n",
    "mse = mean_squared_error(y_test, y_pred)\n",
    "print(\"Mean Squared Error:\", mse)"
   ]
  },
  {
   "cell_type": "markdown",
   "id": "eaede10d-b45f-447e-92fa-3d0b62faaedc",
   "metadata": {},
   "source": [
    "#### K-Fold Cross-Validation:\n",
    "- Divide the dataset into K folds.\n",
    "- For each fold, use K-1 folds for training and the remaining fold for testing.\n",
    "- Average the performance metric across all folds."
   ]
  },
  {
   "cell_type": "code",
   "execution_count": 14,
   "id": "f417d02b-f380-415d-a4d2-56ad6795b3b8",
   "metadata": {},
   "outputs": [
    {
     "name": "stdout",
     "output_type": "stream",
     "text": [
      "Mean Squared Error (K-Fold CV): 2.965087804268161\n"
     ]
    }
   ],
   "source": [
    "from sklearn.model_selection import cross_val_score, KFold\n",
    "\n",
    "# Define the cross-validation method\n",
    "kfold = KFold(n_splits=5, shuffle=True, random_state=42)\n",
    "\n",
    "# Perform cross-validation\n",
    "mse_scores = cross_val_score(model, X, y, scoring='neg_mean_squared_error', cv=kfold)\n",
    "mse_mean = -mse_scores.mean()\n",
    "print(\"Mean Squared Error (K-Fold CV):\", mse_mean)"
   ]
  },
  {
   "cell_type": "markdown",
   "id": "11145dbd-7f0e-43a4-873c-f4406d06abf7",
   "metadata": {},
   "source": [
    "#### Leave-One-Out Cross-Validation (LOOCV):\n",
    "Similar to K-Fold CV, but with K equal to the number of samples in the dataset.\n",
    "For each fold, use all samples except one for training and the remaining sample for testing."
   ]
  },
  {
   "cell_type": "code",
   "execution_count": 15,
   "id": "b5220079-a552-4315-ad6a-52486d7dbc1a",
   "metadata": {},
   "outputs": [
    {
     "name": "stdout",
     "output_type": "stream",
     "text": [
      "Mean Squared Error (LOOCV): 2.9468998005695037\n"
     ]
    }
   ],
   "source": [
    "from sklearn.model_selection import LeaveOneOut\n",
    "\n",
    "# Define the cross-validation method\n",
    "loo = LeaveOneOut()\n",
    "\n",
    "# Perform cross-validation\n",
    "mse_scores = cross_val_score(model, X, y, scoring='neg_mean_squared_error', cv=loo)\n",
    "mse_mean = -mse_scores.mean()\n",
    "print(\"Mean Squared Error (LOOCV):\", mse_mean)"
   ]
  },
  {
   "cell_type": "code",
   "execution_count": null,
   "id": "435f23f5-7b1e-41b8-a336-ad70ead4beb0",
   "metadata": {},
   "outputs": [],
   "source": []
  }
 ],
 "metadata": {
  "kernelspec": {
   "display_name": "Python 3 (ipykernel)",
   "language": "python",
   "name": "python3"
  },
  "language_info": {
   "codemirror_mode": {
    "name": "ipython",
    "version": 3
   },
   "file_extension": ".py",
   "mimetype": "text/x-python",
   "name": "python",
   "nbconvert_exporter": "python",
   "pygments_lexer": "ipython3",
   "version": "3.9.13"
  }
 },
 "nbformat": 4,
 "nbformat_minor": 5
}
