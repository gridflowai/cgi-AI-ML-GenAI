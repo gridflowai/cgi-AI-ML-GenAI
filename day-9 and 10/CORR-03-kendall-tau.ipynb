{
 "cells": [
  {
   "cell_type": "markdown",
   "metadata": {},
   "source": [
    "----------------------\n",
    "#### Kendal Tau\n",
    "--------------------"
   ]
  },
  {
   "cell_type": "markdown",
   "metadata": {},
   "source": [
    "Suppose two basketball coaches rank 12 of their players from worst to best. \n",
    "\n",
    "Because we are working with two columns of ranked data, it’s appropriate to use Kendall’s Tau to calculate the correlation between the two coaches’ rankings."
   ]
  },
  {
   "cell_type": "markdown",
   "metadata": {},
   "source": [
    "#### key objectives of calculating the Kendall's Tau correlation"
   ]
  },
  {
   "cell_type": "markdown",
   "metadata": {},
   "source": [
    "**Quantifying Agreement:**\n",
    "\n",
    "The correlation coefficient will provide a numerical measure of how closely the rankings of the players by one coach align with the rankings by the other coach. A positive correlation suggests `agreement`, while a negative correlation suggests disagreement.\n",
    "\n",
    "**Ranking Consistency:**\n",
    "\n",
    "Kendall's Tau takes into account the concordant and discordant pairs of rankings. Concordant pairs occur when the relative order of player rankings is the same between the two coaches, while discordant pairs occur when the relative order is different. The correlation will reflect the consistency in ranking the players.\n",
    "\n",
    "**Identifying Patterns:**\n",
    "\n",
    "The correlation coefficient helps identify any patterns or trends in how the coaches perceive the players' skills or performance. For example, a high positive correlation may indicate a similar assessment of player skills, while a low correlation may suggest differing opinions.\n",
    "\n",
    "**Ranking Robustness:**\n",
    "\n",
    "Assessing the correlation between the coaches' rankings provides insights into the robustness of the rankings. A high correlation suggests a robust agreement, while a lower correlation may indicate a more subjective or diverse evaluation."
   ]
  },
  {
   "cell_type": "code",
   "execution_count": 8,
   "metadata": {
    "tags": []
   },
   "outputs": [],
   "source": [
    "import numpy as np\n",
    "import pandas as pd\n",
    "\n",
    "from scipy.stats import kendalltau"
   ]
  },
  {
   "cell_type": "code",
   "execution_count": 9,
   "metadata": {},
   "outputs": [],
   "source": [
    "# Create vectors for each coach's rankings\n",
    "coach_1 = np.array([1, 2, 3, 4, 5, 6, 7, 8, 9, 10, 11, 12])\n",
    "coach_2 = np.array([1, 2, 3, 5, 4, 7, 6, 8, 10, 9, 11, 12])"
   ]
  },
  {
   "cell_type": "code",
   "execution_count": 10,
   "metadata": {
    "tags": []
   },
   "outputs": [
    {
     "name": "stdout",
     "output_type": "stream",
     "text": [
      "Kendall's Tau: 0.909090909090909\n"
     ]
    }
   ],
   "source": [
    "# Calculate Kendall's Tau\n",
    "kendall_corr, p_value = kendalltau(coach_1, coach_2)\n",
    "\n",
    "# Display Kendall's Tau correlation coefficient\n",
    "print(f\"Kendall's Tau: {kendall_corr}\")"
   ]
  },
  {
   "cell_type": "markdown",
   "metadata": {},
   "source": [
    "#### some key uses of Kendal Tau"
   ]
  },
  {
   "cell_type": "markdown",
   "metadata": {},
   "source": [
    "**Talent Show Judging:**\n",
    "\n",
    "In talent competitions or shows, judges may rank contestants. Kendall's Tau can be applied to assess the agreement among judges in ranking the performances, providing insights into the consistency of evaluations."
   ]
  },
  {
   "cell_type": "code",
   "execution_count": 11,
   "metadata": {
    "tags": []
   },
   "outputs": [],
   "source": [
    "# Example data: Judge rankings for contestants\n",
    "data = {\n",
    "    'Contestant': ['Contestant 1', 'Contestant 2', 'Contestant 3', 'Contestant 4', 'Contestant 5'],\n",
    "    'Judge_A_Rank': [1, 2, 3, 4, 5],\n",
    "    'Judge_B_Rank': [2, 3, 1, 4, 5],\n",
    "    'Judge_C_Rank': [1, 2, 3, 5, 4],\n",
    "}"
   ]
  },
  {
   "cell_type": "code",
   "execution_count": 12,
   "metadata": {
    "tags": []
   },
   "outputs": [],
   "source": [
    "df = pd.DataFrame(data)\n",
    "\n",
    "# Calculate Kendall's Tau for Judge A and Judge B\n",
    "tau_A_B, _ = kendalltau(df['Judge_A_Rank'], df['Judge_B_Rank'])\n",
    "\n",
    "# Calculate Kendall's Tau for Judge A and Judge C\n",
    "tau_A_C, _ = kendalltau(df['Judge_A_Rank'], df['Judge_C_Rank'])\n",
    "\n",
    "# Calculate Kendall's Tau for Judge B and Judge C\n",
    "tau_B_C, _ = kendalltau(df['Judge_B_Rank'], df['Judge_C_Rank'])"
   ]
  },
  {
   "cell_type": "code",
   "execution_count": 13,
   "metadata": {
    "tags": []
   },
   "outputs": [
    {
     "name": "stdout",
     "output_type": "stream",
     "text": [
      "Judge Rankings:\n",
      "     Contestant  Judge_A_Rank  Judge_B_Rank  Judge_C_Rank\n",
      "0  Contestant 1             1             2             1\n",
      "1  Contestant 2             2             3             2\n",
      "2  Contestant 3             3             1             3\n",
      "3  Contestant 4             4             4             5\n",
      "4  Contestant 5             5             5             4\n",
      "\n",
      "Kendall's Tau Coefficients:\n",
      "Judge A vs. Judge B: 0.60\n",
      "Judge A vs. Judge C: 0.80\n",
      "Judge B vs. Judge C: 0.40\n"
     ]
    }
   ],
   "source": [
    "# Display the rankings and Kendall's Tau coefficients\n",
    "print(\"Judge Rankings:\")\n",
    "print(df)\n",
    "\n",
    "print(\"\\nKendall's Tau Coefficients:\")\n",
    "print(f\"Judge A vs. Judge B: {tau_A_B:.2f}\")\n",
    "print(f\"Judge A vs. Judge C: {tau_A_C:.2f}\")\n",
    "print(f\"Judge B vs. Judge C: {tau_B_C:.2f}\")"
   ]
  },
  {
   "cell_type": "markdown",
   "metadata": {},
   "source": [
    "This analysis helps organizers and producers of the talent show understand how `consistent` or `divergent` the judges are in their rankings. \n",
    "\n",
    "Positive Kendall's Tau coefficients indicate agreement in the relative rankings assigned by judges, while negative coefficients indicate disagreement. \n",
    "\n",
    "These insights can be valuable for ensuring `fairness` and `transparency` in the judging process and potentially providing feedback to judges for future evaluations."
   ]
  },
  {
   "cell_type": "markdown",
   "metadata": {},
   "source": [
    "**Stock Portfolio Analysis:**\n",
    "\n",
    "Financial analysts ranking stocks based on investment potential can use Kendall's Tau to evaluate the agreement between different analysts or rating agencies. This assists investors in making more informed decisions."
   ]
  },
  {
   "cell_type": "code",
   "execution_count": 17,
   "metadata": {
    "tags": []
   },
   "outputs": [],
   "source": [
    "# Modified example data: Analyst rankings for stocks (more divergent)\n",
    "data = {\n",
    "    'Stock': ['Stock 1', 'Stock 2', 'Stock 3', 'Stock 4', 'Stock 5'],\n",
    "    'Analyst_A_Rank': [1, 3, 2, 5, 4],\n",
    "    'Analyst_B_Rank': [5, 1, 3, 2, 4],  # Divergent rankings for Analyst B\n",
    "    'Analyst_C_Rank': [1, 2, 5, 4, 3],  # Divergent rankings for Analyst C\n",
    "}"
   ]
  },
  {
   "cell_type": "code",
   "execution_count": 18,
   "metadata": {
    "tags": []
   },
   "outputs": [],
   "source": [
    "df_stocks = pd.DataFrame(data)\n",
    "\n",
    "# Calculate Kendall's Tau for Analyst A and Analyst B\n",
    "tau_A_B, _ = kendalltau(df_stocks['Analyst_A_Rank'], df_stocks['Analyst_B_Rank'])\n",
    "\n",
    "# Calculate Kendall's Tau for Analyst A and Analyst C\n",
    "tau_A_C, _ = kendalltau(df_stocks['Analyst_A_Rank'], df_stocks['Analyst_C_Rank'])\n",
    "\n",
    "# Calculate Kendall's Tau for Analyst B and Analyst C\n",
    "tau_B_C, _ = kendalltau(df_stocks['Analyst_B_Rank'], df_stocks['Analyst_C_Rank'])"
   ]
  },
  {
   "cell_type": "code",
   "execution_count": 19,
   "metadata": {
    "tags": []
   },
   "outputs": [
    {
     "name": "stdout",
     "output_type": "stream",
     "text": [
      "Analyst Rankings for Stocks:\n",
      "     Stock  Analyst_A_Rank  Analyst_B_Rank  Analyst_C_Rank\n",
      "0  Stock 1               1               5               1\n",
      "1  Stock 2               3               1               2\n",
      "2  Stock 3               2               3               5\n",
      "3  Stock 4               5               2               4\n",
      "4  Stock 5               4               4               3\n",
      "\n",
      "Kendall's Tau Coefficients:\n",
      "Analyst A vs. Analyst B: -0.40\n",
      "Analyst A vs. Analyst C: 0.40\n",
      "Analyst B vs. Analyst C: -0.20\n"
     ]
    }
   ],
   "source": [
    "# Display the rankings and Kendall's Tau coefficients\n",
    "print(\"Analyst Rankings for Stocks:\")\n",
    "print(df_stocks)\n",
    "\n",
    "print(\"\\nKendall's Tau Coefficients:\")\n",
    "print(f\"Analyst A vs. Analyst B: {tau_A_B:.2f}\")\n",
    "print(f\"Analyst A vs. Analyst C: {tau_A_C:.2f}\")\n",
    "print(f\"Analyst B vs. Analyst C: {tau_B_C:.2f}\")"
   ]
  },
  {
   "cell_type": "markdown",
   "metadata": {},
   "source": [
    "the rankings by Analyst B and Analyst C more divergent from the rankings by Analyst A.\n",
    "\n",
    "This divergence in rankings will likely result in lower Kendall's Tau coefficients, indicating `less agreement` among analysts in their assessments of stock performance. \n",
    "\n",
    "Investors may find this scenario interesting as it represents a situation where analysts hold different views on the investment potential of the stocks."
   ]
  },
  {
   "cell_type": "code",
   "execution_count": null,
   "metadata": {},
   "outputs": [],
   "source": []
  }
 ],
 "metadata": {
  "kernelspec": {
   "display_name": "Python 3 (ipykernel)",
   "language": "python",
   "name": "python3"
  },
  "language_info": {
   "codemirror_mode": {
    "name": "ipython",
    "version": 3
   },
   "file_extension": ".py",
   "mimetype": "text/x-python",
   "name": "python",
   "nbconvert_exporter": "python",
   "pygments_lexer": "ipython3",
   "version": "3.11.5"
  }
 },
 "nbformat": 4,
 "nbformat_minor": 4
}
