{
 "cells": [
  {
   "cell_type": "markdown",
   "id": "1fba6f94-1388-46b3-bffe-d38dcd54869d",
   "metadata": {},
   "source": [
    "---------------------\n",
    "### Coding practice question \n",
    "- using matplotlib, seaborn, and numpy\n",
    "---------------------"
   ]
  },
  {
   "cell_type": "code",
   "execution_count": 1,
   "id": "b379db67-7a53-4055-9fe0-2530ca0ae78b",
   "metadata": {
    "tags": []
   },
   "outputs": [],
   "source": [
    "# Import necessary libraries\n",
    "import matplotlib.pyplot as plt\n",
    "import seaborn as sns\n",
    "import numpy as np"
   ]
  },
  {
   "cell_type": "code",
   "execution_count": 2,
   "id": "0afddd64-33ce-4cc9-a657-ff71d7622262",
   "metadata": {
    "tags": []
   },
   "outputs": [],
   "source": [
    "# Create dummy data for practice\n",
    "np.random.seed(42)\n",
    "data = np.random.randn(100, 4)  # Sample data with 100 data points and 4 features"
   ]
  },
  {
   "cell_type": "code",
   "execution_count": 3,
   "id": "5e8af4f3-a639-4d60-b6cd-c4ef1be04452",
   "metadata": {
    "tags": []
   },
   "outputs": [],
   "source": [
    "# Question 1: Create a scatter plot of the first two columns of 'data' using Matplotlib. Label the axes and give the plot a title.\n"
   ]
  },
  {
   "cell_type": "code",
   "execution_count": 4,
   "id": "23de793f-bc7a-43ae-a84f-0a664f7ce11d",
   "metadata": {
    "tags": []
   },
   "outputs": [],
   "source": [
    "# Question 2: Create a histogram of the third column of 'data' using Matplotlib. Customize the number of bins and add labels.\n"
   ]
  },
  {
   "cell_type": "code",
   "execution_count": null,
   "id": "020a1c27-b91c-4b9d-8cdf-21c467d8f474",
   "metadata": {},
   "outputs": [],
   "source": [
    "# Question 3: Create a boxplot of the fourth column of 'data' using Seaborn. Add a title and label the y-axis.\n"
   ]
  },
  {
   "cell_type": "code",
   "execution_count": null,
   "id": "33b4fe57-2bea-4693-b313-89417ea21b43",
   "metadata": {},
   "outputs": [],
   "source": [
    "# Question 4: Create a line plot of the first column of 'data' using Matplotlib. Customize the line style and color.\n"
   ]
  },
  {
   "cell_type": "code",
   "execution_count": null,
   "id": "f1214c78-a169-4e45-accb-31d6ca663964",
   "metadata": {},
   "outputs": [],
   "source": [
    "# Question 5: Create a bar plot of the sum of each column in 'data' using Seaborn. Label the bars with their respective sums.\n"
   ]
  },
  {
   "cell_type": "code",
   "execution_count": null,
   "id": "26c98abf-cf09-4e8f-90e3-8df5431b8738",
   "metadata": {},
   "outputs": [],
   "source": [
    "# Question 6: Create a violin plot of the second column of 'data' using Seaborn. Customize the plot with color and labels.\n"
   ]
  },
  {
   "cell_type": "code",
   "execution_count": null,
   "id": "7b2b8d4d-2b20-4644-aed2-40da5e0206e6",
   "metadata": {},
   "outputs": [],
   "source": [
    "# Question 7: Create a heatmap of the correlation matrix of 'data' using Seaborn. Customize the color map and add a color bar.\n"
   ]
  },
  {
   "cell_type": "code",
   "execution_count": null,
   "id": "76d2bbcf-baff-41de-8c23-1c609aeff9f3",
   "metadata": {},
   "outputs": [],
   "source": [
    "# Question 8: Create a pair plot (scatterplot matrix) of the first three columns of 'data' using Seaborn.\n"
   ]
  },
  {
   "cell_type": "code",
   "execution_count": null,
   "id": "b6fb39a4-2318-4c44-8d65-df8556c3fef4",
   "metadata": {},
   "outputs": [],
   "source": [
    "# Question 9: Create a bar plot of the mean and standard deviation of the fourth column of 'data' using Seaborn. Add error bars.\n"
   ]
  },
  {
   "cell_type": "code",
   "execution_count": null,
   "id": "31b3aba4-7075-4b7b-a225-f98cc4f67d97",
   "metadata": {},
   "outputs": [],
   "source": [
    "# Question 10: Create a stacked bar plot of the first two columns of 'data' using Seaborn. Label the bars and add a legend.\n"
   ]
  },
  {
   "cell_type": "code",
   "execution_count": null,
   "id": "09272f89-cdd6-4d48-ac59-4bac032ebe44",
   "metadata": {},
   "outputs": [],
   "source": []
  },
  {
   "cell_type": "code",
   "execution_count": null,
   "id": "5507fc5f-b9a0-4e66-b7f8-311f6b7e75c6",
   "metadata": {},
   "outputs": [],
   "source": []
  }
 ],
 "metadata": {
  "kernelspec": {
   "display_name": "Python 3 (ipykernel)",
   "language": "python",
   "name": "python3"
  },
  "language_info": {
   "codemirror_mode": {
    "name": "ipython",
    "version": 3
   },
   "file_extension": ".py",
   "mimetype": "text/x-python",
   "name": "python",
   "nbconvert_exporter": "python",
   "pygments_lexer": "ipython3",
   "version": "3.11.4"
  }
 },
 "nbformat": 4,
 "nbformat_minor": 5
}
