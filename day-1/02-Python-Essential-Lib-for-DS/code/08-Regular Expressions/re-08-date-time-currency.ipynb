{
 "cells": [
  {
   "cell_type": "code",
   "execution_count": 1,
   "metadata": {
    "tags": []
   },
   "outputs": [],
   "source": [
    "import re\n",
    "from datetime import datetime"
   ]
  },
  {
   "cell_type": "markdown",
   "metadata": {},
   "source": [
    "#### Example "
   ]
  },
  {
   "cell_type": "code",
   "execution_count": 2,
   "metadata": {
    "tags": []
   },
   "outputs": [],
   "source": [
    "text = \"Jason's birthday is on 1991-09-21\""
   ]
  },
  {
   "cell_type": "code",
   "execution_count": 3,
   "metadata": {
    "tags": []
   },
   "outputs": [],
   "source": [
    "match_str = re.search(r'\\d{4}-\\d{2}-\\d{2}', text)"
   ]
  },
  {
   "cell_type": "code",
   "execution_count": 4,
   "metadata": {
    "tags": []
   },
   "outputs": [
    {
     "data": {
      "text/plain": [
       "<re.Match object; span=(23, 33), match='1991-09-21'>"
      ]
     },
     "execution_count": 4,
     "metadata": {},
     "output_type": "execute_result"
    }
   ],
   "source": [
    "match_str"
   ]
  },
  {
   "cell_type": "code",
   "execution_count": 19,
   "metadata": {},
   "outputs": [],
   "source": [
    "# computed date\n",
    "# feeding format\n",
    "res = datetime.strptime(match_str.group(), '%Y-%m-%d').date()"
   ]
  },
  {
   "cell_type": "code",
   "execution_count": 21,
   "metadata": {},
   "outputs": [
    {
     "data": {
      "text/plain": [
       "(datetime.date(1991, 9, 21), '1991-09-21')"
      ]
     },
     "execution_count": 21,
     "metadata": {},
     "output_type": "execute_result"
    }
   ],
   "source": [
    "res, str(res)"
   ]
  },
  {
   "cell_type": "markdown",
   "metadata": {},
   "source": [
    "#### Example"
   ]
  },
  {
   "cell_type": "code",
   "execution_count": 5,
   "metadata": {
    "tags": []
   },
   "outputs": [
    {
     "name": "stdout",
     "output_type": "stream",
     "text": [
      "10/10/2015\n",
      "1/11/2010\n"
     ]
    }
   ],
   "source": [
    "str = \"\"\"COBOL is a compiled English-like computer programming language designed for business use. 122.\n",
    "On 10/10/2015 is a big date unlike 1/11/2010 \"\"\"\n",
    "\n",
    "all = re.findall(r\"[\\d]{1,2}/[\\d]{1,2}/[\\d]{4}\", str)\n",
    "\n",
    "for s in all:\n",
    "    print(s)"
   ]
  },
  {
   "cell_type": "markdown",
   "metadata": {},
   "source": [
    "#### Example\n",
    "\n",
    "- Regex Matching Date 10-10-15\n",
    "\n",
    "Regex date format: dd-mm-yy\n",
    "\n",
    "[\\d]{1,2} - match one or two digits\n",
    "\n",
    "separator is -"
   ]
  },
  {
   "cell_type": "code",
   "execution_count": 6,
   "metadata": {
    "tags": []
   },
   "outputs": [
    {
     "name": "stdout",
     "output_type": "stream",
     "text": [
      "10-10-15\n",
      "1-11-10\n"
     ]
    }
   ],
   "source": [
    "str = \"\"\"COBOL is a compiled English-like computer programming language designed for business use. 122. On 10-10-15 is a big date unlike 1-11-10 \"\"\"\n",
    "\n",
    "all = re.findall(r\"[\\d]{1,2}-[\\d]{1,2}-[\\d]{2}\", str)\n",
    "\n",
    "for s in all:\n",
    "    print(s)"
   ]
  },
  {
   "cell_type": "markdown",
   "metadata": {},
   "source": [
    "#### Example\n",
    "\n",
    "- Regex Matching Date 1 NOV 2010\n",
    "\n",
    "Regular expression date format: dd MMM yyyy"
   ]
  },
  {
   "cell_type": "code",
   "execution_count": 16,
   "metadata": {
    "tags": []
   },
   "outputs": [
    {
     "data": {
      "text/plain": [
       "['jan', 'FEB', 'Mey']"
      ]
     },
     "execution_count": 16,
     "metadata": {},
     "output_type": "execute_result"
    }
   ],
   "source": [
    "re.findall(r'[ADFJMNOS]\\w*', 'jan FEB Mey', re.IGNORECASE)"
   ]
  },
  {
   "cell_type": "code",
   "execution_count": 7,
   "metadata": {
    "tags": []
   },
   "outputs": [
    {
     "name": "stdout",
     "output_type": "stream",
     "text": [
      "10 OCT 2015\n",
      "1 NOV 2010\n"
     ]
    }
   ],
   "source": [
    "# Matching capital letters\n",
    "\n",
    "str = \"\"\"COBOL is a compiled English-like computer programming language designed for business use. 122. \n",
    "On 10 OCT 2015 is a big date unlike 1 NOV 2010  1 NOV NOV 2021 22 2021\"\"\"\n",
    "\n",
    "all = re.findall(r\"[\\d]{1,2} [ADFJMNOS]\\w* [\\d]{4}\", str) \n",
    "\n",
    "for s in all:\n",
    "    print(s)"
   ]
  },
  {
   "cell_type": "markdown",
   "metadata": {},
   "source": [
    "#### Example \n",
    "\n",
    "- Regex Matching Date 10-10-15\n",
    "- Regex Matching Date 10/10/15"
   ]
  },
  {
   "cell_type": "code",
   "execution_count": 52,
   "metadata": {},
   "outputs": [
    {
     "name": "stdout",
     "output_type": "stream",
     "text": [
      "10/10/2010\n",
      "10-10-2010\n"
     ]
    }
   ],
   "source": [
    "# The regex pattern that we created\n",
    "pattern = r\"\\d{2}[/-]\\d{2}[/-]\\d{4}\"\n",
    "\n",
    "str = r\"\"\"COBOL is a compiled English-like computer programming language designed for business use. 122. \n",
    "10/10/2010 \n",
    "10-10-2010 \n",
    "10\\10\\2010\n",
    "\"\"\"\n",
    "\n",
    "all = re.findall(pattern, str) \n",
    "\n",
    "for s in all:\n",
    "    print(s)"
   ]
  },
  {
   "cell_type": "code",
   "execution_count": 59,
   "metadata": {},
   "outputs": [
    {
     "name": "stdout",
     "output_type": "stream",
     "text": [
      "10/10/2010\n",
      "10-10-2010\n",
      "10\\10\\2010\n",
      "10.10.20\n",
      "10|10|2021\n",
      "2021.12.12\n"
     ]
    }
   ],
   "source": [
    "# The regex pattern that we created\n",
    "pattern = r\"\\d{1,4}[\\\\/|\\-|\\.]\\d{1,2}[\\\\/|\\-|\\.]\\d{2,4}\"\n",
    "\n",
    "str = r\"\"\"COBOL is a compiled English-like computer programming language designed for business use. 122. \n",
    "10/10/2010 \n",
    "10-10-2010 \n",
    "10\\10\\2010\n",
    "10.10.20\n",
    "10|10|2021\n",
    "2021.12.12\n",
    "\"\"\"\n",
    "\n",
    "all = re.findall(pattern, str) \n",
    "\n",
    "for s in all:\n",
    "    print(s)"
   ]
  },
  {
   "cell_type": "markdown",
   "metadata": {},
   "source": [
    "#### Example"
   ]
  },
  {
   "cell_type": "code",
   "execution_count": 60,
   "metadata": {},
   "outputs": [
    {
     "data": {
      "text/plain": [
       "'Today is:\\n24-11-2020\\n24/11/2020\\n24/11/20\\n11/24/2020\\n24 Nov 2020\\n24 November 2020\\nNov 24, 2020\\nNovember 24, 2020\\n5-11-2020\\n5/11/2020\\n5/11/20\\n11/5/2020\\n5 Nov 2020\\n5 November 2020\\nNov 5, 2020\\nNovember 5, 2020\\n24-9-2020\\n24/9/2020\\n24/9/20\\n9/24/2020\\n24 Sep 2020\\n24 September 2020\\nSep 24, 2020\\nSeptember 24, 2020\\n3-1-2020\\n3/1/2020\\n3/1/20\\n1/3/2020\\n3 Jan 2020\\n3 January 2020\\nJan 3, 2020\\nJanuary 3, 2020'"
      ]
     },
     "execution_count": 60,
     "metadata": {},
     "output_type": "execute_result"
    }
   ],
   "source": [
    "dateString='Today is:'\n",
    "dateString=dateString+'\\n24-11-2020\\n24/11/2020\\n24/11/20\\n11/24/2020\\n24 Nov 2020\\n24 November 2020\\nNov 24, 2020\\nNovember 24, 2020'\n",
    "dateString=dateString +'\\n5-11-2020\\n5/11/2020\\n5/11/20\\n11/5/2020\\n5 Nov 2020\\n5 November 2020\\nNov 5, 2020\\nNovember 5, 2020'\n",
    "dateString=dateString+'\\n24-9-2020\\n24/9/2020\\n24/9/20\\n9/24/2020\\n24 Sep 2020\\n24 September 2020\\nSep 24, 2020\\nSeptember 24, 2020'\n",
    "dateString=dateString+'\\n3-1-2020\\n3/1/2020\\n3/1/20\\n1/3/2020\\n3 Jan 2020\\n3 January 2020\\nJan 3, 2020\\nJanuary 3, 2020'\n",
    "dateString"
   ]
  },
  {
   "cell_type": "code",
   "execution_count": 61,
   "metadata": {},
   "outputs": [
    {
     "data": {
      "text/plain": [
       "['24-11-2020', '24/11/2020', '11/24/2020']"
      ]
     },
     "execution_count": 61,
     "metadata": {},
     "output_type": "execute_result"
    }
   ],
   "source": [
    "re.findall(r'\\d{2}[/-]\\d{2}[/-]\\d{4}',dateString)"
   ]
  },
  {
   "cell_type": "code",
   "execution_count": 62,
   "metadata": {},
   "outputs": [
    {
     "data": {
      "text/plain": [
       "['24-11-2020', '24/11/2020', '24/11/20', '11/24/2020']"
      ]
     },
     "execution_count": 62,
     "metadata": {},
     "output_type": "execute_result"
    }
   ],
   "source": [
    "re.findall(r'\\d{2}[/-]\\d{2}[/-]\\d{2,4}',dateString)"
   ]
  },
  {
   "cell_type": "code",
   "execution_count": 63,
   "metadata": {},
   "outputs": [
    {
     "data": {
      "text/plain": [
       "['24-11-2020',\n",
       " '24/11/2020',\n",
       " '24/11/20',\n",
       " '11/24/2020',\n",
       " '5-11-2020',\n",
       " '5/11/2020',\n",
       " '5/11/20',\n",
       " '11/5/2020',\n",
       " '24-9-2020',\n",
       " '24/9/2020',\n",
       " '24/9/20',\n",
       " '9/24/2020',\n",
       " '3-1-2020',\n",
       " '3/1/2020',\n",
       " '3/1/20',\n",
       " '1/3/2020']"
      ]
     },
     "execution_count": 63,
     "metadata": {},
     "output_type": "execute_result"
    }
   ],
   "source": [
    "re.findall(r'\\d{1,2}[/-]\\d{1,2}[/-]\\d{2,4}',dateString)"
   ]
  },
  {
   "cell_type": "code",
   "execution_count": 64,
   "metadata": {},
   "outputs": [
    {
     "data": {
      "text/plain": [
       "['24 Nov 2020', '5 Nov 2020', '24 Sep 2020', '3 Jan 2020']"
      ]
     },
     "execution_count": 64,
     "metadata": {},
     "output_type": "execute_result"
    }
   ],
   "source": [
    "re.findall(r'\\d{1,2} (?:Jan|Feb|Mar|Apr|Jun|Jul|Aug|Sep|Oct|Nov|Dec) \\d{2,4}',dateString)"
   ]
  },
  {
   "cell_type": "code",
   "execution_count": 65,
   "metadata": {},
   "outputs": [
    {
     "data": {
      "text/plain": [
       "['24 Nov 2020',\n",
       " '24 November 2020',\n",
       " '5 Nov 2020',\n",
       " '5 November 2020',\n",
       " '24 Sep 2020',\n",
       " '24 September 2020',\n",
       " '3 Jan 2020',\n",
       " '3 January 2020']"
      ]
     },
     "execution_count": 65,
     "metadata": {},
     "output_type": "execute_result"
    }
   ],
   "source": [
    "re.findall(r'\\d{1,2} (?:Jan|Feb|Mar|Apr|Jun|Jul|Aug|Sep|Oct|Nov|Dec)[a-z]* \\d{2,4}',dateString)"
   ]
  },
  {
   "cell_type": "code",
   "execution_count": 66,
   "metadata": {},
   "outputs": [
    {
     "data": {
      "text/plain": [
       "['24 Nov 2020',\n",
       " '24 November 2020',\n",
       " 'Nov 24, 2020',\n",
       " 'November 24, 2020',\n",
       " '5 Nov 2020',\n",
       " '5 November 2020',\n",
       " 'Nov 5, 2020',\n",
       " 'November 5, 2020',\n",
       " '24 Sep 2020',\n",
       " '24 September 2020',\n",
       " 'Sep 24, 2020',\n",
       " 'September 24, 2020',\n",
       " '3 Jan 2020',\n",
       " '3 January 2020',\n",
       " 'Jan 3, 2020',\n",
       " 'January 3, 2020']"
      ]
     },
     "execution_count": 66,
     "metadata": {},
     "output_type": "execute_result"
    }
   ],
   "source": [
    "re.findall(r'(?:\\d{1,2} )?(?:Jan|Feb|Mar|Apr|Jun|Jul|Aug|Sep|Oct|Nov|Dec)[a-z]* (?:\\d{1,2}, )?\\d{2,4}',dateString)"
   ]
  },
  {
   "cell_type": "markdown",
   "metadata": {},
   "source": [
    "**Exercise** - all possible dates"
   ]
  },
  {
   "cell_type": "code",
   "execution_count": 17,
   "metadata": {
    "tags": []
   },
   "outputs": [],
   "source": [
    "date_pattern = r'''\n",
    "    (                         # Capturing group for the full date\n",
    "        (?:\\d{4}|\\d{2})       # Year (either 4 digits or 2 digits)\n",
    "        [-/]?                 # Optional separator (hyphen or slash)\n",
    "        (?:\\d{1,2})           # Month (1 or 2 digits)\n",
    "        [-/]?                 # Optional separator (hyphen or slash)\n",
    "        (?:\\d{1,2})           # Day (1 or 2 digits)\n",
    "    )\n",
    "    |                         # OR\n",
    "    (                         # Capturing group for the date with month name\n",
    "        (?:\\d{1,2})           # Day (1 or 2 digits)\n",
    "        \\s                     # Space separator\n",
    "        (?:Jan|Feb|Mar|Apr|May|Jun|Jul|Aug|Sep|Oct|Nov|Dec)  # Month abbreviation\n",
    "        \\s                     # Space separator\n",
    "        (?:\\d{4}|\\d{2})        # Year (either 4 digits or 2 digits)\n",
    "    )\n",
    "    |                         # OR\n",
    "    (                         # Capturing group for the date with month name (different format)\n",
    "        (?:Jan|Feb|Mar|Apr|May|Jun|Jul|Aug|Sep|Oct|Nov|Dec)  # Month abbreviation\n",
    "        [-/]?                 # Optional separator (hyphen or slash)\n",
    "        (?:\\d{1,2})           # Day (1 or 2 digits)\n",
    "        [-/]?                 # Optional separator (hyphen or slash)\n",
    "        (?:\\d{4}|\\d{2})       # Year (either 4 digits or 2 digits)\n",
    "    )\n",
    "'''"
   ]
  },
  {
   "cell_type": "code",
   "execution_count": 22,
   "metadata": {
    "tags": []
   },
   "outputs": [
    {
     "data": {
      "text/plain": [
       "[('2023-08-03', '', ''),\n",
       " ('08/03/20', '', ''),\n",
       " ('03-08-23', '', ''),\n",
       " ('', '3 Aug 2023', ''),\n",
       " ('', '', 'Aug-3-23'),\n",
       " ('', '', 'Aug/2023')]"
      ]
     },
     "execution_count": 22,
     "metadata": {},
     "output_type": "execute_result"
    }
   ],
   "source": [
    "text  = \"Some text with dates: 2023-08-03, 08/03/2023, 03-08-23, 3 Aug 2023, Aug-3-23, 03/Aug/2023 3-Aug 4th Aug August 4th\"\n",
    "dates = re.findall(date_pattern, text, re.VERBOSE)\n",
    "dates"
   ]
  },
  {
   "cell_type": "code",
   "execution_count": null,
   "metadata": {},
   "outputs": [],
   "source": [
    "\n",
    "# Clean up the extracted dates and convert them to a standard format (e.g., yyyy-mm-dd)\n",
    "clean_dates = []\n",
    "for date in dates:\n",
    "    clean_date = re.sub(r'[-/]', '-', date)  # Replace any hyphens or slashes with dashes\n",
    "    if len(clean_date) == 6:  # Handle 2-digit years by assuming years starting from 2000\n",
    "        clean_date = '20' + clean_date\n",
    "    elif len(clean_date) == 8 and clean_date[2] == '-':  # Handle 2-digit months with hyphens\n",
    "        clean_date = clean_date[:2] + '0' + clean_date[2:]\n",
    "    clean_dates.append(clean_date)\n",
    "\n",
    "print(clean_dates)"
   ]
  }
 ],
 "metadata": {
  "kernelspec": {
   "display_name": "Python 3 (ipykernel)",
   "language": "python",
   "name": "python3"
  },
  "language_info": {
   "codemirror_mode": {
    "name": "ipython",
    "version": 3
   },
   "file_extension": ".py",
   "mimetype": "text/x-python",
   "name": "python",
   "nbconvert_exporter": "python",
   "pygments_lexer": "ipython3",
   "version": "3.11.3"
  }
 },
 "nbformat": 4,
 "nbformat_minor": 4
}
