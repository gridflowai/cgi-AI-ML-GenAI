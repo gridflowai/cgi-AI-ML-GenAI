{
 "cells": [
  {
   "cell_type": "code",
   "execution_count": 67,
   "metadata": {},
   "outputs": [],
   "source": [
    "import re\n",
    "from datetime import datetime"
   ]
  },
  {
   "cell_type": "markdown",
   "metadata": {},
   "source": [
    "#### Example "
   ]
  },
  {
   "cell_type": "code",
   "execution_count": 13,
   "metadata": {},
   "outputs": [],
   "source": [
    "text = \"Jason's birthday is on 1991-09-21\""
   ]
  },
  {
   "cell_type": "code",
   "execution_count": 17,
   "metadata": {},
   "outputs": [],
   "source": [
    "match_str = re.search(r'\\d{4}-\\d{2}-\\d{2}', text)"
   ]
  },
  {
   "cell_type": "code",
   "execution_count": 18,
   "metadata": {},
   "outputs": [
    {
     "data": {
      "text/plain": [
       "<re.Match object; span=(23, 33), match='1991-09-21'>"
      ]
     },
     "execution_count": 18,
     "metadata": {},
     "output_type": "execute_result"
    }
   ],
   "source": [
    "match_str"
   ]
  },
  {
   "cell_type": "code",
   "execution_count": 19,
   "metadata": {},
   "outputs": [],
   "source": [
    "# computed date\n",
    "# feeding format\n",
    "res = datetime.strptime(match_str.group(), '%Y-%m-%d').date()"
   ]
  },
  {
   "cell_type": "code",
   "execution_count": 21,
   "metadata": {},
   "outputs": [
    {
     "data": {
      "text/plain": [
       "(datetime.date(1991, 9, 21), '1991-09-21')"
      ]
     },
     "execution_count": 21,
     "metadata": {},
     "output_type": "execute_result"
    }
   ],
   "source": [
    "res, str(res)"
   ]
  },
  {
   "cell_type": "markdown",
   "metadata": {},
   "source": [
    "#### Example"
   ]
  },
  {
   "cell_type": "code",
   "execution_count": 23,
   "metadata": {},
   "outputs": [
    {
     "name": "stdout",
     "output_type": "stream",
     "text": [
      "10/10/2015\n",
      "1/11/2010\n"
     ]
    }
   ],
   "source": [
    "str = \"\"\"COBOL is a compiled English-like computer programming language designed for business use. 122.\n",
    "On 10/10/2015 is a big date unlike 1/11/2010 \"\"\"\n",
    "\n",
    "all = re.findall(r\"[\\d]{1,2}/[\\d]{1,2}/[\\d]{4}\", str)\n",
    "\n",
    "for s in all:\n",
    "    print(s)"
   ]
  },
  {
   "cell_type": "markdown",
   "metadata": {},
   "source": [
    "#### Example\n",
    "\n",
    "- Regex Matching Date 10-10-15\n",
    "\n",
    "Regex date format: dd-mm-yy\n",
    "\n",
    "[\\d]{1,2} - match one or two digits\n",
    "\n",
    "separator is -"
   ]
  },
  {
   "cell_type": "code",
   "execution_count": 24,
   "metadata": {},
   "outputs": [
    {
     "name": "stdout",
     "output_type": "stream",
     "text": [
      "10-10-15\n",
      "1-11-10\n"
     ]
    }
   ],
   "source": [
    "str = \"\"\"COBOL is a compiled English-like computer programming language designed for business use. 122. On 10-10-15 is a big date unlike 1-11-10 \"\"\"\n",
    "\n",
    "all = re.findall(r\"[\\d]{1,2}-[\\d]{1,2}-[\\d]{2}\", str)\n",
    "\n",
    "for s in all:\n",
    "    print(s)"
   ]
  },
  {
   "cell_type": "markdown",
   "metadata": {},
   "source": [
    "#### Example\n",
    "\n",
    "- Regex Matching Date 1 NOV 2010\n",
    "\n",
    "Regular expression date format: dd MMM yyyy"
   ]
  },
  {
   "cell_type": "code",
   "execution_count": 29,
   "metadata": {},
   "outputs": [
    {
     "name": "stdout",
     "output_type": "stream",
     "text": [
      "10 OCT 2015\n",
      "1 NOV 2010\n"
     ]
    }
   ],
   "source": [
    "# Matching capital letters\n",
    "\n",
    "str = \"\"\"COBOL is a compiled English-like computer programming language designed for business use. 122. \n",
    "On 10 OCT 2015 is a big date unlike 1 NOV 2010  1 NOV NOV 2021 22 2021\"\"\"\n",
    "\n",
    "all = re.findall(r\"[\\d]{1,2} [ADFJMNOS]\\w* [\\d]{4}\", str) \n",
    "\n",
    "for s in all:\n",
    "    print(s)"
   ]
  },
  {
   "cell_type": "markdown",
   "metadata": {},
   "source": [
    "#### Example \n",
    "\n",
    "- Regex Matching Date 10-10-15\n",
    "- Regex Matching Date 10/10/15"
   ]
  },
  {
   "cell_type": "code",
   "execution_count": 52,
   "metadata": {},
   "outputs": [
    {
     "name": "stdout",
     "output_type": "stream",
     "text": [
      "10/10/2010\n",
      "10-10-2010\n"
     ]
    }
   ],
   "source": [
    "# The regex pattern that we created\n",
    "pattern = r\"\\d{2}[/-]\\d{2}[/-]\\d{4}\"\n",
    "\n",
    "str = r\"\"\"COBOL is a compiled English-like computer programming language designed for business use. 122. \n",
    "10/10/2010 \n",
    "10-10-2010 \n",
    "10\\10\\2010\n",
    "\"\"\"\n",
    "\n",
    "all = re.findall(pattern, str) \n",
    "\n",
    "for s in all:\n",
    "    print(s)"
   ]
  },
  {
   "cell_type": "code",
   "execution_count": 59,
   "metadata": {},
   "outputs": [
    {
     "name": "stdout",
     "output_type": "stream",
     "text": [
      "10/10/2010\n",
      "10-10-2010\n",
      "10\\10\\2010\n",
      "10.10.20\n",
      "10|10|2021\n",
      "2021.12.12\n"
     ]
    }
   ],
   "source": [
    "# The regex pattern that we created\n",
    "pattern = r\"\\d{1,4}[\\\\/|\\-|\\.]\\d{1,2}[\\\\/|\\-|\\.]\\d{2,4}\"\n",
    "\n",
    "str = r\"\"\"COBOL is a compiled English-like computer programming language designed for business use. 122. \n",
    "10/10/2010 \n",
    "10-10-2010 \n",
    "10\\10\\2010\n",
    "10.10.20\n",
    "10|10|2021\n",
    "2021.12.12\n",
    "\"\"\"\n",
    "\n",
    "all = re.findall(pattern, str) \n",
    "\n",
    "for s in all:\n",
    "    print(s)"
   ]
  },
  {
   "cell_type": "markdown",
   "metadata": {},
   "source": [
    "#### Example"
   ]
  },
  {
   "cell_type": "code",
   "execution_count": 60,
   "metadata": {},
   "outputs": [
    {
     "data": {
      "text/plain": [
       "'Today is:\\n24-11-2020\\n24/11/2020\\n24/11/20\\n11/24/2020\\n24 Nov 2020\\n24 November 2020\\nNov 24, 2020\\nNovember 24, 2020\\n5-11-2020\\n5/11/2020\\n5/11/20\\n11/5/2020\\n5 Nov 2020\\n5 November 2020\\nNov 5, 2020\\nNovember 5, 2020\\n24-9-2020\\n24/9/2020\\n24/9/20\\n9/24/2020\\n24 Sep 2020\\n24 September 2020\\nSep 24, 2020\\nSeptember 24, 2020\\n3-1-2020\\n3/1/2020\\n3/1/20\\n1/3/2020\\n3 Jan 2020\\n3 January 2020\\nJan 3, 2020\\nJanuary 3, 2020'"
      ]
     },
     "execution_count": 60,
     "metadata": {},
     "output_type": "execute_result"
    }
   ],
   "source": [
    "dateString='Today is:'\n",
    "dateString=dateString+'\\n24-11-2020\\n24/11/2020\\n24/11/20\\n11/24/2020\\n24 Nov 2020\\n24 November 2020\\nNov 24, 2020\\nNovember 24, 2020'\n",
    "dateString=dateString +'\\n5-11-2020\\n5/11/2020\\n5/11/20\\n11/5/2020\\n5 Nov 2020\\n5 November 2020\\nNov 5, 2020\\nNovember 5, 2020'\n",
    "dateString=dateString+'\\n24-9-2020\\n24/9/2020\\n24/9/20\\n9/24/2020\\n24 Sep 2020\\n24 September 2020\\nSep 24, 2020\\nSeptember 24, 2020'\n",
    "dateString=dateString+'\\n3-1-2020\\n3/1/2020\\n3/1/20\\n1/3/2020\\n3 Jan 2020\\n3 January 2020\\nJan 3, 2020\\nJanuary 3, 2020'\n",
    "dateString"
   ]
  },
  {
   "cell_type": "code",
   "execution_count": 61,
   "metadata": {},
   "outputs": [
    {
     "data": {
      "text/plain": [
       "['24-11-2020', '24/11/2020', '11/24/2020']"
      ]
     },
     "execution_count": 61,
     "metadata": {},
     "output_type": "execute_result"
    }
   ],
   "source": [
    "re.findall(r'\\d{2}[/-]\\d{2}[/-]\\d{4}',dateString)"
   ]
  },
  {
   "cell_type": "code",
   "execution_count": 62,
   "metadata": {},
   "outputs": [
    {
     "data": {
      "text/plain": [
       "['24-11-2020', '24/11/2020', '24/11/20', '11/24/2020']"
      ]
     },
     "execution_count": 62,
     "metadata": {},
     "output_type": "execute_result"
    }
   ],
   "source": [
    "re.findall(r'\\d{2}[/-]\\d{2}[/-]\\d{2,4}',dateString)"
   ]
  },
  {
   "cell_type": "code",
   "execution_count": 63,
   "metadata": {},
   "outputs": [
    {
     "data": {
      "text/plain": [
       "['24-11-2020',\n",
       " '24/11/2020',\n",
       " '24/11/20',\n",
       " '11/24/2020',\n",
       " '5-11-2020',\n",
       " '5/11/2020',\n",
       " '5/11/20',\n",
       " '11/5/2020',\n",
       " '24-9-2020',\n",
       " '24/9/2020',\n",
       " '24/9/20',\n",
       " '9/24/2020',\n",
       " '3-1-2020',\n",
       " '3/1/2020',\n",
       " '3/1/20',\n",
       " '1/3/2020']"
      ]
     },
     "execution_count": 63,
     "metadata": {},
     "output_type": "execute_result"
    }
   ],
   "source": [
    "re.findall(r'\\d{1,2}[/-]\\d{1,2}[/-]\\d{2,4}',dateString)"
   ]
  },
  {
   "cell_type": "code",
   "execution_count": 64,
   "metadata": {},
   "outputs": [
    {
     "data": {
      "text/plain": [
       "['24 Nov 2020', '5 Nov 2020', '24 Sep 2020', '3 Jan 2020']"
      ]
     },
     "execution_count": 64,
     "metadata": {},
     "output_type": "execute_result"
    }
   ],
   "source": [
    "re.findall(r'\\d{1,2} (?:Jan|Feb|Mar|Apr|Jun|Jul|Aug|Sep|Oct|Nov|Dec) \\d{2,4}',dateString)"
   ]
  },
  {
   "cell_type": "code",
   "execution_count": 65,
   "metadata": {},
   "outputs": [
    {
     "data": {
      "text/plain": [
       "['24 Nov 2020',\n",
       " '24 November 2020',\n",
       " '5 Nov 2020',\n",
       " '5 November 2020',\n",
       " '24 Sep 2020',\n",
       " '24 September 2020',\n",
       " '3 Jan 2020',\n",
       " '3 January 2020']"
      ]
     },
     "execution_count": 65,
     "metadata": {},
     "output_type": "execute_result"
    }
   ],
   "source": [
    "re.findall(r'\\d{1,2} (?:Jan|Feb|Mar|Apr|Jun|Jul|Aug|Sep|Oct|Nov|Dec)[a-z]* \\d{2,4}',dateString)"
   ]
  },
  {
   "cell_type": "code",
   "execution_count": 66,
   "metadata": {},
   "outputs": [
    {
     "data": {
      "text/plain": [
       "['24 Nov 2020',\n",
       " '24 November 2020',\n",
       " 'Nov 24, 2020',\n",
       " 'November 24, 2020',\n",
       " '5 Nov 2020',\n",
       " '5 November 2020',\n",
       " 'Nov 5, 2020',\n",
       " 'November 5, 2020',\n",
       " '24 Sep 2020',\n",
       " '24 September 2020',\n",
       " 'Sep 24, 2020',\n",
       " 'September 24, 2020',\n",
       " '3 Jan 2020',\n",
       " '3 January 2020',\n",
       " 'Jan 3, 2020',\n",
       " 'January 3, 2020']"
      ]
     },
     "execution_count": 66,
     "metadata": {},
     "output_type": "execute_result"
    }
   ],
   "source": [
    "re.findall(r'(?:\\d{1,2} )?(?:Jan|Feb|Mar|Apr|Jun|Jul|Aug|Sep|Oct|Nov|Dec)[a-z]* (?:\\d{1,2}, )?\\d{2,4}',dateString)"
   ]
  },
  {
   "cell_type": "code",
   "execution_count": null,
   "metadata": {},
   "outputs": [],
   "source": []
  }
 ],
 "metadata": {
  "kernelspec": {
   "display_name": "Python 3 (ipykernel)",
   "language": "python",
   "name": "python3"
  },
  "language_info": {
   "codemirror_mode": {
    "name": "ipython",
    "version": 3
   },
   "file_extension": ".py",
   "mimetype": "text/x-python",
   "name": "python",
   "nbconvert_exporter": "python",
   "pygments_lexer": "ipython3",
   "version": "3.8.5"
  }
 },
 "nbformat": 4,
 "nbformat_minor": 4
}
