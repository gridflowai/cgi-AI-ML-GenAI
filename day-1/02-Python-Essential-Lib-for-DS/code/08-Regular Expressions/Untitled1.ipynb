{
 "cells": [
  {
   "cell_type": "code",
   "execution_count": 1,
   "id": "b47b82cb-3647-4703-9881-102a66b8a8ab",
   "metadata": {
    "tags": []
   },
   "outputs": [],
   "source": [
    "import re"
   ]
  },
  {
   "cell_type": "code",
   "execution_count": 2,
   "id": "41846b15-e368-4d01-9c82-30354c19820e",
   "metadata": {
    "tags": []
   },
   "outputs": [],
   "source": [
    "test_string = 'abyys'"
   ]
  },
  {
   "cell_type": "code",
   "execution_count": 13,
   "id": "e88bcd35-887d-42fb-9f00-ebc95ab92d04",
   "metadata": {
    "tags": []
   },
   "outputs": [
    {
     "data": {
      "text/plain": [
       "<re.Match object; span=(0, 5), match='Alias'>"
      ]
     },
     "execution_count": 13,
     "metadata": {},
     "output_type": "execute_result"
    }
   ],
   "source": [
    "re.match('^a...s$', 'Alias', re.IGNORECASE)"
   ]
  },
  {
   "cell_type": "code",
   "execution_count": 17,
   "id": "1ca82d72-2dd1-4ca5-a071-9e2489bc5b7d",
   "metadata": {
    "tags": []
   },
   "outputs": [
    {
     "data": {
      "text/plain": [
       "<re.Match object; span=(0, 5), match='abyss'>"
      ]
     },
     "execution_count": 17,
     "metadata": {},
     "output_type": "execute_result"
    }
   ],
   "source": [
    "pattern     = '^a...s$'   # what we are looking for\n",
    "test_string = 'abyss'   # in what we are looking\n",
    "\n",
    "re.match(pattern, test_string)"
   ]
  },
  {
   "cell_type": "code",
   "execution_count": 21,
   "id": "2365af38-5f46-410d-bd92-ef2ba00297f3",
   "metadata": {
    "tags": []
   },
   "outputs": [
    {
     "data": {
      "text/plain": [
       "<re.Match object; span=(0, 1), match='a'>"
      ]
     },
     "execution_count": 21,
     "metadata": {},
     "output_type": "execute_result"
    }
   ],
   "source": [
    "input_str = \"aa abc de ca\"  \n",
    "\n",
    "re.match(\"[abc]\", input_str) "
   ]
  },
  {
   "cell_type": "code",
   "execution_count": 24,
   "id": "18087e7a-c67f-43c2-998b-c6eba647c266",
   "metadata": {
    "tags": []
   },
   "outputs": [
    {
     "name": "stdout",
     "output_type": "stream",
     "text": [
      "<re.Match object; span=(9, 10), match='a'>\n"
     ]
    }
   ],
   "source": [
    "input_str = \" film Titabcnic was released in 1998\"  \n",
    "\n",
    "result = re.search(r\"[abc]\", input_str)  \n",
    "\n",
    "print(result)"
   ]
  },
  {
   "cell_type": "code",
   "execution_count": 25,
   "id": "fa251815-6105-4cdf-bb74-28df38e10a81",
   "metadata": {
    "tags": []
   },
   "outputs": [],
   "source": [
    "re.search(r'..', 'a')"
   ]
  },
  {
   "cell_type": "code",
   "execution_count": 26,
   "id": "b764721d-ff6a-4454-9141-041c2ab4f575",
   "metadata": {
    "tags": []
   },
   "outputs": [
    {
     "data": {
      "text/plain": [
       "<re.Match object; span=(0, 2), match='ac'>"
      ]
     },
     "execution_count": 26,
     "metadata": {},
     "output_type": "execute_result"
    }
   ],
   "source": [
    "re.search(r'..', 'ac')"
   ]
  },
  {
   "cell_type": "code",
   "execution_count": 27,
   "id": "2cc28399-62ed-4799-9735-15153953c551",
   "metadata": {
    "tags": []
   },
   "outputs": [
    {
     "data": {
      "text/plain": [
       "<re.Match object; span=(0, 2), match='ac'>"
      ]
     },
     "execution_count": 27,
     "metadata": {},
     "output_type": "execute_result"
    }
   ],
   "source": [
    "re.search(r'..', 'acd')"
   ]
  },
  {
   "cell_type": "code",
   "execution_count": 28,
   "id": "46551424-091e-417c-b845-4780d4fb8544",
   "metadata": {
    "tags": []
   },
   "outputs": [
    {
     "name": "stdout",
     "output_type": "stream",
     "text": [
      "<re.Match object; span=(0, 2), match='mn'>\n"
     ]
    }
   ],
   "source": [
    "print(re.search(r'ma*n', 'mn')) # * preceeding can be 0 or more time"
   ]
  },
  {
   "cell_type": "code",
   "execution_count": 31,
   "id": "ce3b92aa-45c0-4fe3-ab49-58a1bdc2a98c",
   "metadata": {
    "tags": []
   },
   "outputs": [
    {
     "name": "stdout",
     "output_type": "stream",
     "text": [
      "<re.Match object; span=(0, 13), match='hellllllllllo'>\n"
     ]
    }
   ],
   "source": [
    "print(re.search(r'hel*o', 'hellllllllllo'))"
   ]
  },
  {
   "cell_type": "code",
   "execution_count": 33,
   "id": "c4c6f0f9-068b-45e6-971a-9387e5bdbdee",
   "metadata": {
    "tags": []
   },
   "outputs": [
    {
     "name": "stdout",
     "output_type": "stream",
     "text": [
      "<re.Match object; span=(2, 4), match='mn'>\n"
     ]
    }
   ],
   "source": [
    "print(re.search(r'ma*n', 'womn'))"
   ]
  },
  {
   "cell_type": "code",
   "execution_count": 36,
   "id": "260d073c-345a-4592-9088-2b70c6908bad",
   "metadata": {
    "tags": []
   },
   "outputs": [
    {
     "data": {
      "text/plain": [
       "<re.Match object; span=(0, 8), match='maaaaaan'>"
      ]
     },
     "execution_count": 36,
     "metadata": {},
     "output_type": "execute_result"
    }
   ],
   "source": [
    "re.search(r'ma+n', 'maaaaaan')"
   ]
  },
  {
   "cell_type": "code",
   "execution_count": 39,
   "id": "1911e6ca-81d1-4a60-8348-897481ccf1aa",
   "metadata": {
    "tags": []
   },
   "outputs": [],
   "source": [
    "re.search(r'ma?n', 'maaaan')"
   ]
  },
  {
   "cell_type": "code",
   "execution_count": 51,
   "id": "81725ec6-76d9-4c41-b171-2212ed72047c",
   "metadata": {
    "tags": []
   },
   "outputs": [],
   "source": [
    "re.search('Xa{2,4}t', 'abc Xaaaaaat')"
   ]
  },
  {
   "cell_type": "code",
   "execution_count": 53,
   "id": "cb27d5f9-02a4-4c82-a25f-ced154a98566",
   "metadata": {
    "tags": []
   },
   "outputs": [
    {
     "data": {
      "text/plain": [
       "<re.Match object; span=(0, 5), match='x---x'>"
      ]
     },
     "execution_count": 53,
     "metadata": {},
     "output_type": "execute_result"
    }
   ],
   "source": [
    "re.search('x-{3}x', 'x---x')"
   ]
  },
  {
   "cell_type": "code",
   "execution_count": 54,
   "id": "aeab378f-4fd8-4890-b5aa-346606d67a29",
   "metadata": {
    "tags": []
   },
   "outputs": [
    {
     "data": {
      "text/plain": [
       "<re.Match object; span=(0, 3), match='aaa'>"
      ]
     },
     "execution_count": 54,
     "metadata": {},
     "output_type": "execute_result"
    }
   ],
   "source": [
    "re.search('a{3,5}?', 'aaaaaaaa')"
   ]
  },
  {
   "cell_type": "code",
   "execution_count": 55,
   "id": "b2d8ca9d-0179-4e9d-9faf-8c049ae7a6c3",
   "metadata": {
    "tags": []
   },
   "outputs": [
    {
     "data": {
      "text/plain": [
       "['1', '7', '6']"
      ]
     },
     "execution_count": 55,
     "metadata": {},
     "output_type": "execute_result"
    }
   ],
   "source": [
    "re.findall(r'\\d', '17abc6')"
   ]
  },
  {
   "cell_type": "code",
   "execution_count": 56,
   "id": "3df83faa-4621-4332-af0a-5b647a470527",
   "metadata": {
    "tags": []
   },
   "outputs": [
    {
     "data": {
      "text/plain": [
       "[]"
      ]
     },
     "execution_count": 56,
     "metadata": {},
     "output_type": "execute_result"
    }
   ],
   "source": [
    "re.findall(r'\\d', 'Python Data Science')"
   ]
  },
  {
   "cell_type": "code",
   "execution_count": 57,
   "id": "48b3e9dc-d179-48be-a944-0448d582c954",
   "metadata": {
    "tags": []
   },
   "outputs": [
    {
     "data": {
      "text/plain": [
       "['a', 'b', '\"']"
      ]
     },
     "execution_count": 57,
     "metadata": {},
     "output_type": "execute_result"
    }
   ],
   "source": [
    "re.findall(r'\\D', '1ab34\"50')"
   ]
  },
  {
   "cell_type": "code",
   "execution_count": 59,
   "id": "f807c618-985d-4d85-a164-952555c5f51e",
   "metadata": {
    "tags": []
   },
   "outputs": [
    {
     "data": {
      "text/plain": [
       "[' ', ' ', ' ', ' ']"
      ]
     },
     "execution_count": 59,
     "metadata": {},
     "output_type": "execute_result"
    }
   ],
   "source": [
    "re.findall(r'\\s', 'Python Reg   Ex')"
   ]
  },
  {
   "cell_type": "code",
   "execution_count": 61,
   "id": "9dcaf2b3-2aab-4be1-bca6-fb6ef854a647",
   "metadata": {
    "tags": []
   },
   "outputs": [
    {
     "data": {
      "text/plain": [
       "['a', '!', '!', '&', '&', '&', 'b', 'c']"
      ]
     },
     "execution_count": 61,
     "metadata": {},
     "output_type": "execute_result"
    }
   ],
   "source": [
    "re.findall(r'\\S', 'a !! &&& b c') non space"
   ]
  },
  {
   "cell_type": "code",
   "execution_count": 62,
   "id": "f642dce1-1cd1-4eb6-b426-cd269b3c09b8",
   "metadata": {
    "tags": []
   },
   "outputs": [
    {
     "data": {
      "text/plain": [
       "['support@openDBtech.com',\n",
       " 'bks@bks.com',\n",
       " 'bks_@bks.in',\n",
       " 'bks!@bks.com',\n",
       " 'ak*@ak.in',\n",
       " 'ak-00@in']"
      ]
     },
     "execution_count": 62,
     "metadata": {},
     "output_type": "execute_result"
    }
   ],
   "source": [
    "regex = r'\\S+@\\S+'\n",
    "\n",
    "text  = '''purple \n",
    "support@openDBtech.com \n",
    "monkey \n",
    "dishwasher \n",
    "bks@bks.com \n",
    "bks_@bks.in \n",
    "bks!@bks.com \n",
    "ak*@ak.in \n",
    "ak-00@in'''\n",
    "\n",
    "re.findall(regex, text)"
   ]
  },
  {
   "cell_type": "code",
   "execution_count": null,
   "id": "6ab92949-9aee-4f99-98d7-68adf3e37fc6",
   "metadata": {},
   "outputs": [],
   "source": [
    "regex = r'[A-Z0-9+_.-]+@[A-Z0-9.-]+'\n",
    "text  = '''purple \n",
    "support@openDBtech.com \n",
    "monkey \n",
    "dishwasher \n",
    "bks@bks.com \n",
    "bks_@bks.in \n",
    "bks!@bks.com \n",
    "ak*@ak.in \n",
    "ak-00@in\n",
    "akash...in@in\n",
    "'''\n",
    "\n",
    "re.findall(regex, text, re.IGNORECASE)"
   ]
  }
 ],
 "metadata": {
  "kernelspec": {
   "display_name": "Python 3 (ipykernel)",
   "language": "python",
   "name": "python3"
  },
  "language_info": {
   "codemirror_mode": {
    "name": "ipython",
    "version": 3
   },
   "file_extension": ".py",
   "mimetype": "text/x-python",
   "name": "python",
   "nbconvert_exporter": "python",
   "pygments_lexer": "ipython3",
   "version": "3.11.3"
  }
 },
 "nbformat": 4,
 "nbformat_minor": 5
}
