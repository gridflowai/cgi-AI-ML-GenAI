{
 "cells": [
  {
   "cell_type": "code",
   "execution_count": 1,
   "id": "bad91a72-11c0-4385-b388-0423aed8f3c5",
   "metadata": {
    "tags": []
   },
   "outputs": [],
   "source": [
    "import re"
   ]
  },
  {
   "cell_type": "code",
   "execution_count": 10,
   "id": "7baca5ac-c426-4c8b-979f-2aa343a7bb6c",
   "metadata": {
    "tags": []
   },
   "outputs": [],
   "source": [
    "test_string = 'abuys'"
   ]
  },
  {
   "cell_type": "code",
   "execution_count": 11,
   "id": "faff9d57-0daf-4d22-98cd-e90a622482f2",
   "metadata": {
    "tags": []
   },
   "outputs": [],
   "source": [
    "pattern     = '^a...s$'"
   ]
  },
  {
   "cell_type": "code",
   "execution_count": 12,
   "id": "df21c747-bf8b-4f7b-bfad-329004399f1a",
   "metadata": {
    "tags": []
   },
   "outputs": [],
   "source": [
    "result = re.match(pattern, test_string)"
   ]
  },
  {
   "cell_type": "code",
   "execution_count": 13,
   "id": "92b58726-5bd8-4036-9081-11d929fe9b43",
   "metadata": {
    "tags": []
   },
   "outputs": [
    {
     "name": "stdout",
     "output_type": "stream",
     "text": [
      "Search successful.\n"
     ]
    }
   ],
   "source": [
    "if result:\n",
    "    print(\"Search successful.\")\n",
    "else:\n",
    "    print(\"Search unsuccessful.\")"
   ]
  },
  {
   "cell_type": "code",
   "execution_count": 20,
   "id": "1f025b4e-fa8f-45dd-8516-18e7d5a0d698",
   "metadata": {
    "tags": []
   },
   "outputs": [
    {
     "name": "stdout",
     "output_type": "stream",
     "text": [
      "None\n"
     ]
    }
   ],
   "source": [
    "input_str = \"ff 9abc de ca\"  \n",
    "\n",
    "result = re.match(r\"[9bc]\", input_str) \n",
    "\n",
    "print(result)"
   ]
  },
  {
   "cell_type": "code",
   "execution_count": 22,
   "id": "1eb71dc9-c485-4bd4-8503-683697d486dd",
   "metadata": {
    "tags": []
   },
   "outputs": [
    {
     "data": {
      "text/plain": [
       "<re.Match object; span=(0, 1), match='a'>"
      ]
     },
     "execution_count": 22,
     "metadata": {},
     "output_type": "execute_result"
    }
   ],
   "source": [
    "input_str = \"all all film Titanic was released in 1998\" \n",
    "result = re.match(r\"[abc]\", input_str)\n",
    "result"
   ]
  },
  {
   "cell_type": "code",
   "execution_count": 27,
   "id": "ed210021-8347-4997-b2a3-2495fcb9d731",
   "metadata": {
    "tags": []
   },
   "outputs": [
    {
     "data": {
      "text/plain": [
       "<re.Match object; span=(10, 11), match='c'>"
      ]
     },
     "execution_count": 27,
     "metadata": {},
     "output_type": "execute_result"
    }
   ],
   "source": [
    "input_str = \" film Titacbnic was released in 1998\" \n",
    "re.search(r\"[bc]\", input_str)  "
   ]
  },
  {
   "cell_type": "code",
   "execution_count": 29,
   "id": "24163db9-cf84-483f-8526-e471640da142",
   "metadata": {
    "tags": []
   },
   "outputs": [
    {
     "data": {
      "text/plain": [
       "<re.Match object; span=(0, 9), match='Number: C'>"
      ]
     },
     "execution_count": 29,
     "metadata": {},
     "output_type": "execute_result"
    }
   ],
   "source": [
    "re.search(r'Number: [A-C]', 'Number: C Number: 5')"
   ]
  },
  {
   "cell_type": "code",
   "execution_count": 32,
   "id": "715266f3-0cc0-42a1-8691-d7a0e21e4734",
   "metadata": {
    "tags": []
   },
   "outputs": [
    {
     "data": {
      "text/plain": [
       "<re.Match object; span=(0, 9), match='Number: 4'>"
      ]
     },
     "execution_count": 32,
     "metadata": {},
     "output_type": "execute_result"
    }
   ],
   "source": [
    "re.search(r'Number: [^5-7]', 'Number: 4')"
   ]
  },
  {
   "cell_type": "code",
   "execution_count": 33,
   "id": "7f29d8aa-e221-47f6-8fc4-fd292be015c5",
   "metadata": {
    "tags": []
   },
   "outputs": [
    {
     "name": "stdout",
     "output_type": "stream",
     "text": [
      "['a', 'c', 'a', 'a']\n"
     ]
    }
   ],
   "source": [
    "input_str = \"111 film Titanic was released in 1998\"  \n",
    "\n",
    "result = re.findall(r\"[abc]\", input_str)\n",
    "\n",
    "print(result)"
   ]
  },
  {
   "cell_type": "code",
   "execution_count": 34,
   "id": "fb223500-3c97-4cca-bf0f-f27b14041b6d",
   "metadata": {
    "tags": []
   },
   "outputs": [],
   "source": [
    "re.search(r'..', 'a')"
   ]
  },
  {
   "cell_type": "code",
   "execution_count": 35,
   "id": "510ce7ec-8ae7-47e6-b054-1e1fb93bb734",
   "metadata": {
    "tags": []
   },
   "outputs": [
    {
     "data": {
      "text/plain": [
       "<re.Match object; span=(0, 2), match='ac'>"
      ]
     },
     "execution_count": 35,
     "metadata": {},
     "output_type": "execute_result"
    }
   ],
   "source": [
    "re.search(r'..', 'acd')"
   ]
  },
  {
   "cell_type": "code",
   "execution_count": 37,
   "id": "4998ee7c-56eb-4219-b89c-53d79d649337",
   "metadata": {
    "tags": []
   },
   "outputs": [
    {
     "data": {
      "text/plain": [
       "['ac', 'de']"
      ]
     },
     "execution_count": 37,
     "metadata": {},
     "output_type": "execute_result"
    }
   ],
   "source": [
    "re.findall(r'..', 'acdex')"
   ]
  },
  {
   "cell_type": "code",
   "execution_count": 38,
   "id": "c18da489-6cab-4d24-b997-c46f46238eac",
   "metadata": {
    "tags": []
   },
   "outputs": [
    {
     "name": "stdout",
     "output_type": "stream",
     "text": [
      "<re.Match object; span=(0, 2), match='ab'>\n"
     ]
    }
   ],
   "source": [
    "print(re.search(r'^ab', 'abc'))"
   ]
  },
  {
   "cell_type": "code",
   "execution_count": 39,
   "id": "1f02aece-bfeb-4fb3-a9ac-376a95842889",
   "metadata": {
    "tags": []
   },
   "outputs": [
    {
     "name": "stdout",
     "output_type": "stream",
     "text": [
      "None\n"
     ]
    }
   ],
   "source": [
    "print(re.search(r'^ab', 'acb'))"
   ]
  },
  {
   "cell_type": "code",
   "execution_count": 42,
   "id": "b0417370-89a7-4097-b13d-846a97e662b0",
   "metadata": {
    "tags": []
   },
   "outputs": [
    {
     "name": "stdout",
     "output_type": "stream",
     "text": [
      "<re.Match object; span=(0, 9), match='maaaaaaan'>\n"
     ]
    }
   ],
   "source": [
    "print(re.search(r'ma*n', 'maaaaaaan'))"
   ]
  },
  {
   "cell_type": "code",
   "execution_count": 43,
   "id": "6c87d887-ce69-4765-b2a3-18845ba339fe",
   "metadata": {
    "tags": []
   },
   "outputs": [
    {
     "name": "stdout",
     "output_type": "stream",
     "text": [
      "<re.Match object; span=(0, 2), match='mn'>\n",
      "<re.Match object; span=(0, 3), match='man'>\n",
      "<re.Match object; span=(0, 3), match='man'>\n",
      "<re.Match object; span=(0, 5), match='maaan'>\n",
      "None\n",
      "None\n",
      "<re.Match object; span=(2, 5), match='man'>\n"
     ]
    }
   ],
   "source": [
    "print(re.search(r'ma*n', 'mn'))\n",
    "print(re.search(r'ma*n', 'man'))\n",
    "print(re.search(r'ma*n', 'mann'))\n",
    "print(re.search(r'ma*n', 'maaan'))\n",
    "print(re.search(r'ma*n', 'main'))    # a is not followed by n\n",
    "print(re.search(r'ma*n', 'maine'))   # a is not followed by n\n",
    "print(re.search(r'ma*n', 'woman'))"
   ]
  },
  {
   "cell_type": "code",
   "execution_count": 44,
   "id": "b0fa8721-1b19-4c63-a5b6-5f46d5054e75",
   "metadata": {
    "tags": []
   },
   "outputs": [
    {
     "name": "stdout",
     "output_type": "stream",
     "text": [
      "None\n"
     ]
    }
   ],
   "source": [
    "print(re.search(r'ma*n', 'maine'))"
   ]
  },
  {
   "cell_type": "code",
   "execution_count": 45,
   "id": "8bf1139e-1be5-42ca-947f-bd71463d8aa1",
   "metadata": {
    "tags": []
   },
   "outputs": [
    {
     "name": "stdout",
     "output_type": "stream",
     "text": [
      "None\n"
     ]
    }
   ],
   "source": [
    "print(re.search(r'ma+n', 'mn'))"
   ]
  },
  {
   "cell_type": "code",
   "execution_count": 49,
   "id": "4133e0dc-5455-4373-8361-40a99e9465b9",
   "metadata": {
    "tags": []
   },
   "outputs": [
    {
     "name": "stdout",
     "output_type": "stream",
     "text": [
      "['maaan', 'maaan']\n"
     ]
    }
   ],
   "source": [
    "print(re.findall(r'ma+n', 'I am a maaan, he is a maaan'))"
   ]
  },
  {
   "cell_type": "code",
   "execution_count": 50,
   "id": "bee02bed-7774-481f-bc1a-1ade691d68da",
   "metadata": {
    "tags": []
   },
   "outputs": [
    {
     "name": "stdout",
     "output_type": "stream",
     "text": [
      "<re.Match object; span=(0, 2), match='mn'>\n"
     ]
    }
   ],
   "source": [
    "print(re.search(r'ma?n', 'mn'))"
   ]
  },
  {
   "cell_type": "code",
   "execution_count": 52,
   "id": "8fc0c63e-042c-42e6-9683-a50407d657b3",
   "metadata": {
    "tags": []
   },
   "outputs": [
    {
     "name": "stdout",
     "output_type": "stream",
     "text": [
      "<re.Match object; span=(0, 2), match='mn'>\n"
     ]
    }
   ],
   "source": [
    "print(re.search(r'ma?n', 'mnn'))"
   ]
  },
  {
   "cell_type": "code",
   "execution_count": 61,
   "id": "4d3ead51-f3fd-4748-a8a8-4a2142dd4581",
   "metadata": {
    "tags": []
   },
   "outputs": [
    {
     "name": "stdout",
     "output_type": "stream",
     "text": [
      "<re.Match object; span=(4, 10), match='aaaaaT'>\n"
     ]
    }
   ],
   "source": [
    "print(re.search(r'a{2,5}T', 'aaaaaaaaaT'))"
   ]
  },
  {
   "cell_type": "code",
   "execution_count": 64,
   "id": "d9718f7c-2c4e-49e2-a271-53152b1ff6ca",
   "metadata": {
    "tags": []
   },
   "outputs": [
    {
     "data": {
      "text/plain": [
       "[]"
      ]
     },
     "execution_count": 64,
     "metadata": {},
     "output_type": "execute_result"
    }
   ],
   "source": [
    "re.findall(r'[6-9]{2,4}', 'ab123csde')"
   ]
  },
  {
   "cell_type": "code",
   "execution_count": 65,
   "id": "53a9fc07-2c58-4f90-966e-43bf29302086",
   "metadata": {
    "tags": []
   },
   "outputs": [
    {
     "data": {
      "text/plain": [
       "['12', '3456', '3412', '4567', '88']"
      ]
     },
     "execution_count": 65,
     "metadata": {},
     "output_type": "execute_result"
    }
   ],
   "source": [
    "re.findall(r'[0-9]{2,4}', '12 and 3456 and 34127 also 456788')"
   ]
  },
  {
   "cell_type": "code",
   "execution_count": 66,
   "id": "99a93204-4d72-469c-9176-edc7d96ca27b",
   "metadata": {
    "tags": []
   },
   "outputs": [
    {
     "data": {
      "text/plain": [
       "<re.Match object; span=(0, 5), match='x---x'>"
      ]
     },
     "execution_count": 66,
     "metadata": {},
     "output_type": "execute_result"
    }
   ],
   "source": [
    "re.search('x-{3}x', 'x---x')"
   ]
  },
  {
   "cell_type": "code",
   "execution_count": 80,
   "id": "11aee7b8-24ef-46a8-a865-e0b4a532b63f",
   "metadata": {
    "tags": []
   },
   "outputs": [
    {
     "name": "stdout",
     "output_type": "stream",
     "text": [
      "<re.Match object; span=(0, 5), match='aaaaa'>\n"
     ]
    }
   ],
   "source": [
    "print(re.search(r'a{2,5}', 'aaaaaaaaaT'))"
   ]
  },
  {
   "cell_type": "code",
   "execution_count": 82,
   "id": "e43d3454-535e-4cae-bfc8-3aad686ff615",
   "metadata": {
    "tags": []
   },
   "outputs": [
    {
     "name": "stdout",
     "output_type": "stream",
     "text": [
      "1  x-x        None\n",
      "2  x--x       <re.Match object; span=(0, 4), match='x--x'>\n",
      "3  x---x      <re.Match object; span=(0, 5), match='x---x'>\n",
      "4  x----x     <re.Match object; span=(0, 6), match='x----x'>\n",
      "5  x-----x    <re.Match object; span=(0, 7), match='x-----x'>\n"
     ]
    }
   ],
   "source": [
    "for i in range(1, 6):\n",
    "...     s = f\"x{'-' * i}x\"\n",
    "...     print(f'{i}  {s:10}', re.search('x-{2,5}x', s))"
   ]
  },
  {
   "cell_type": "code",
   "execution_count": 84,
   "id": "daac8dbd-baa8-4fd8-a2c9-c6c4a908620e",
   "metadata": {
    "tags": []
   },
   "outputs": [
    {
     "name": "stdout",
     "output_type": "stream",
     "text": [
      "['ac', 'be']\n"
     ]
    }
   ],
   "source": [
    "print(re.findall(r'ac|be', 'acdbea'))"
   ]
  },
  {
   "cell_type": "code",
   "execution_count": 85,
   "id": "a8a2925d-ae7f-4c42-a7f6-391de72a68db",
   "metadata": {
    "tags": []
   },
   "outputs": [
    {
     "name": "stdout",
     "output_type": "stream",
     "text": [
      "[]\n"
     ]
    }
   ],
   "source": [
    "print(re.findall(r'\\Athe', 'In the sun'))"
   ]
  },
  {
   "cell_type": "code",
   "execution_count": 86,
   "id": "f6b80590-1ce0-444d-9c32-cf09df32323f",
   "metadata": {
    "tags": []
   },
   "outputs": [
    {
     "name": "stdout",
     "output_type": "stream",
     "text": [
      "['foo']\n"
     ]
    }
   ],
   "source": [
    "print(re.findall(r'\\bfoo', 'football'))"
   ]
  },
  {
   "cell_type": "code",
   "execution_count": 88,
   "id": "0ac2803a-d98d-4004-9fa3-8056b39670a4",
   "metadata": {
    "tags": []
   },
   "outputs": [
    {
     "name": "stdout",
     "output_type": "stream",
     "text": [
      "['foo']\n"
     ]
    }
   ],
   "source": [
    "print(re.findall(r'foo\\b', 'thefoo'))"
   ]
  },
  {
   "cell_type": "code",
   "execution_count": 91,
   "id": "cbb86786-0715-4bd9-ab9f-6c1fc0d529cd",
   "metadata": {
    "tags": []
   },
   "outputs": [
    {
     "name": "stdout",
     "output_type": "stream",
     "text": [
      "['777']\n"
     ]
    }
   ],
   "source": [
    "print(re.findall(r'\\d{2,3}', 'Python Data 777Science'))"
   ]
  },
  {
   "cell_type": "code",
   "execution_count": 92,
   "id": "7e99e02d-f86a-40e7-a142-f89e358c0ad6",
   "metadata": {
    "tags": []
   },
   "outputs": [
    {
     "name": "stdout",
     "output_type": "stream",
     "text": [
      "<re.Match object; span=(0, 12), match='foofoobar123'>\n"
     ]
    }
   ],
   "source": [
    "print(re.search('(foo(bar)?)+(\\d\\d\\d)?', 'foofoobar123'))"
   ]
  },
  {
   "cell_type": "code",
   "execution_count": 95,
   "id": "239333d9-cbfe-46fc-a6e2-47827a0e1c22",
   "metadata": {
    "tags": []
   },
   "outputs": [
    {
     "name": "stdout",
     "output_type": "stream",
     "text": [
      "<re.Match object; span=(0, 12), match='foofoobar123'>\n"
     ]
    }
   ],
   "source": [
    "print(re.search('(foo(bar)?)+[0-9]{3}', 'foofoobar123'))"
   ]
  },
  {
   "cell_type": "code",
   "execution_count": 98,
   "id": "089af32e-09fe-487b-96c6-32af0b986882",
   "metadata": {
    "tags": []
   },
   "outputs": [
    {
     "name": "stdout",
     "output_type": "stream",
     "text": [
      "['a', 'b', 'c']\n"
     ]
    }
   ],
   "source": [
    "print(re.findall(r'\\S', 'a b c'))"
   ]
  },
  {
   "cell_type": "code",
   "execution_count": 99,
   "id": "7c4c0cf2-d35d-4456-b2df-11a485a3a623",
   "metadata": {
    "tags": []
   },
   "outputs": [],
   "source": [
    "text  = '''purple \n",
    "support@openDBtech.com \n",
    "monkey \n",
    "dishwasher \n",
    "bks@bks.com \n",
    "bks_@bks.in \n",
    "bks!@bks.com \n",
    "ak*@ak.in \n",
    "ak-00@in'''"
   ]
  },
  {
   "cell_type": "code",
   "execution_count": 100,
   "id": "2f762a9b-61b9-4d82-92e7-3c486519079c",
   "metadata": {
    "tags": []
   },
   "outputs": [],
   "source": [
    "regex = r'\\S+@\\S+'"
   ]
  },
  {
   "cell_type": "code",
   "execution_count": 101,
   "id": "03048450-3791-4ce9-bf33-683810523d91",
   "metadata": {
    "tags": []
   },
   "outputs": [
    {
     "data": {
      "text/plain": [
       "['support@openDBtech.com',\n",
       " 'bks@bks.com',\n",
       " 'bks_@bks.in',\n",
       " 'bks!@bks.com',\n",
       " 'ak*@ak.in',\n",
       " 'ak-00@in']"
      ]
     },
     "execution_count": 101,
     "metadata": {},
     "output_type": "execute_result"
    }
   ],
   "source": [
    "re.findall(regex, text)"
   ]
  },
  {
   "cell_type": "code",
   "execution_count": 102,
   "id": "1837463f-4a9e-4125-827f-99839d7470ff",
   "metadata": {
    "tags": []
   },
   "outputs": [],
   "source": [
    "text  = '''purple \n",
    "support@openDBtech.com \n",
    "monkey \n",
    "dishwasher \n",
    "bks@bks.com \n",
    "bks_@bks.in \n",
    "bks!@bks.com \n",
    "ak*@ak.in \n",
    "ak-00@in\n",
    "akash...in@in\n",
    ".bharat@.india.com\n",
    "'''"
   ]
  },
  {
   "cell_type": "code",
   "execution_count": null,
   "id": "47546f1e-4b97-49d8-ad6d-cc5c5d535b3c",
   "metadata": {},
   "outputs": [],
   "source": [
    "regex = r\"[A-Z0-9_!#$%'*+/=?`{|}~^.-]+@[A-Z0-9.-]+\""
   ]
  }
 ],
 "metadata": {
  "kernelspec": {
   "display_name": "Python 3 (ipykernel)",
   "language": "python",
   "name": "python3"
  },
  "language_info": {
   "codemirror_mode": {
    "name": "ipython",
    "version": 3
   },
   "file_extension": ".py",
   "mimetype": "text/x-python",
   "name": "python",
   "nbconvert_exporter": "python",
   "pygments_lexer": "ipython3",
   "version": "3.11.3"
  }
 },
 "nbformat": 4,
 "nbformat_minor": 5
}
