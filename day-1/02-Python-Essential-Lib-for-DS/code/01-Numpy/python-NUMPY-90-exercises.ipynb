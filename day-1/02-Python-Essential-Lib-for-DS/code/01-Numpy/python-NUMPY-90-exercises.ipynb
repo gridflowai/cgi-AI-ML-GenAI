{
 "cells": [
  {
   "cell_type": "code",
   "execution_count": 1,
   "id": "64a4478d",
   "metadata": {},
   "outputs": [],
   "source": [
    "import numpy as np"
   ]
  },
  {
   "cell_type": "markdown",
   "id": "314955a4",
   "metadata": {},
   "source": [
    "#### EXERCISE 1 - Element-wise addition of 2 numpy arrays\n",
    "\n",
    "Given are 2 similar dimensional numpy arrays, how to get a numpy array output in which every element is an element-wise sum of the 2 numpy arrays?"
   ]
  },
  {
   "cell_type": "code",
   "execution_count": 2,
   "id": "9f4b2659",
   "metadata": {},
   "outputs": [],
   "source": [
    "a = np.array([[1,2,3],\n",
    "              [4,5,6]])\n",
    "\n",
    "b = np.array([[10,11,12],\n",
    "              [13,14,15]])"
   ]
  },
  {
   "cell_type": "markdown",
   "id": "a807f5cd",
   "metadata": {},
   "source": [
    "Solution"
   ]
  },
  {
   "cell_type": "code",
   "execution_count": 3,
   "id": "28401998",
   "metadata": {},
   "outputs": [
    {
     "data": {
      "text/plain": [
       "array([[11, 13, 15],\n",
       "       [17, 19, 21]])"
      ]
     },
     "execution_count": 3,
     "metadata": {},
     "output_type": "execute_result"
    }
   ],
   "source": [
    "a + b"
   ]
  },
  {
   "cell_type": "markdown",
   "id": "e35f1042",
   "metadata": {},
   "source": [
    "#### EXERCISE 2 - Multiplying a matrix (numpy array) by a scalar\n",
    "Given a numpy array (matrix), how to get a numpy array output which is equal to the original matrix multiplied by a scalar?"
   ]
  },
  {
   "cell_type": "code",
   "execution_count": null,
   "id": "d2079514",
   "metadata": {},
   "outputs": [],
   "source": [
    "a = np.array([[1,2,3],\n",
    "              [4,5,6]])\n",
    "\n"
   ]
  },
  {
   "cell_type": "markdown",
   "id": "73bae536",
   "metadata": {},
   "source": [
    "Solution"
   ]
  },
  {
   "cell_type": "code",
   "execution_count": 4,
   "id": "5effde53",
   "metadata": {},
   "outputs": [
    {
     "data": {
      "text/plain": [
       "array([[ 2,  4,  6],\n",
       "       [ 8, 10, 12]])"
      ]
     },
     "execution_count": 4,
     "metadata": {},
     "output_type": "execute_result"
    }
   ],
   "source": [
    "2*a # multiplying the numpy array a(matrix) by 2 ; also called broadcasting"
   ]
  },
  {
   "cell_type": "markdown",
   "id": "4a8275a6",
   "metadata": {},
   "source": [
    "#### EXERCISE 3 - Array re-dimensioning\n",
    "Convert a 1-D array to a 2-D array"
   ]
  },
  {
   "cell_type": "code",
   "execution_count": 8,
   "id": "664cf2c4",
   "metadata": {},
   "outputs": [
    {
     "data": {
      "text/plain": [
       "array([ 0,  1,  2,  3,  4,  5,  6,  7,  8,  9, 10, 11])"
      ]
     },
     "execution_count": 8,
     "metadata": {},
     "output_type": "execute_result"
    }
   ],
   "source": [
    "a = np.array([x for x in range(12)])\n",
    "a"
   ]
  },
  {
   "cell_type": "code",
   "execution_count": 9,
   "id": "7aaaf749",
   "metadata": {},
   "outputs": [
    {
     "data": {
      "text/plain": [
       "array([[ 0,  1,  2],\n",
       "       [ 3,  4,  5],\n",
       "       [ 6,  7,  8],\n",
       "       [ 9, 10, 11]])"
      ]
     },
     "execution_count": 9,
     "metadata": {},
     "output_type": "execute_result"
    }
   ],
   "source": [
    "a.reshape((4,3))"
   ]
  },
  {
   "cell_type": "code",
   "execution_count": 11,
   "id": "7fe0f443",
   "metadata": {},
   "outputs": [
    {
     "data": {
      "text/plain": [
       "array([[ 0,  1,  2],\n",
       "       [ 3,  4,  5],\n",
       "       [ 6,  7,  8],\n",
       "       [ 9, 10, 11]])"
      ]
     },
     "execution_count": 11,
     "metadata": {},
     "output_type": "execute_result"
    }
   ],
   "source": [
    "a.reshape((-1,3))"
   ]
  },
  {
   "cell_type": "code",
   "execution_count": 12,
   "id": "2c336547",
   "metadata": {},
   "outputs": [
    {
     "data": {
      "text/plain": [
       "array([[ 0,  1,  2],\n",
       "       [ 3,  4,  5],\n",
       "       [ 6,  7,  8],\n",
       "       [ 9, 10, 11]])"
      ]
     },
     "execution_count": 12,
     "metadata": {},
     "output_type": "execute_result"
    }
   ],
   "source": [
    "a.reshape((4,-1))"
   ]
  },
  {
   "cell_type": "code",
   "execution_count": 13,
   "id": "918c7076",
   "metadata": {},
   "outputs": [
    {
     "data": {
      "text/plain": [
       "array([38, 30, 27, 18, 41, 36, 42, 16, 41, 15, 15, 20, 43, 39, 18, 26, 15,\n",
       "       35, 16, 38, 33, 40, 30, 34, 13, 27, 29])"
      ]
     },
     "execution_count": 13,
     "metadata": {},
     "output_type": "execute_result"
    }
   ],
   "source": [
    "a = np.random.randint(low=10, high=45, size=27, dtype=int)\n",
    "a"
   ]
  },
  {
   "cell_type": "code",
   "execution_count": 14,
   "id": "5595106a",
   "metadata": {},
   "outputs": [
    {
     "data": {
      "text/plain": [
       "array([[[38, 30, 27],\n",
       "        [18, 41, 36],\n",
       "        [42, 16, 41]],\n",
       "\n",
       "       [[15, 15, 20],\n",
       "        [43, 39, 18],\n",
       "        [26, 15, 35]],\n",
       "\n",
       "       [[16, 38, 33],\n",
       "        [40, 30, 34],\n",
       "        [13, 27, 29]]])"
      ]
     },
     "execution_count": 14,
     "metadata": {},
     "output_type": "execute_result"
    }
   ],
   "source": [
    "a.reshape(3,3,3)"
   ]
  },
  {
   "cell_type": "markdown",
   "id": "73e4c9a4",
   "metadata": {},
   "source": [
    "#### EXERCISE 4 - Array datatype conversion\n",
    "\n",
    "Convert all the elements of a numpy array from float to integer datatype"
   ]
  },
  {
   "cell_type": "code",
   "execution_count": 15,
   "id": "c302c3e2",
   "metadata": {},
   "outputs": [],
   "source": [
    "a = np.array([[2.5, 3.8, 1.5],\n",
    "              [4.7, 2.9, 1.56]])"
   ]
  },
  {
   "cell_type": "markdown",
   "id": "95feb433",
   "metadata": {},
   "source": [
    "Solution"
   ]
  },
  {
   "cell_type": "code",
   "execution_count": 18,
   "id": "60dcd5c2",
   "metadata": {},
   "outputs": [
    {
     "data": {
      "text/plain": [
       "dtype('float64')"
      ]
     },
     "execution_count": 18,
     "metadata": {},
     "output_type": "execute_result"
    }
   ],
   "source": [
    "a.dtype"
   ]
  },
  {
   "cell_type": "code",
   "execution_count": 16,
   "id": "59de1ea9",
   "metadata": {},
   "outputs": [
    {
     "data": {
      "text/plain": [
       "array([[2, 3, 1],\n",
       "       [4, 2, 1]])"
      ]
     },
     "execution_count": 16,
     "metadata": {},
     "output_type": "execute_result"
    }
   ],
   "source": [
    "a.astype('int')"
   ]
  },
  {
   "cell_type": "markdown",
   "id": "4c980681",
   "metadata": {},
   "source": [
    "#### EXERCISE 5 - Obtaining Boolean Array from Binary Array\n",
    "\n",
    "Convert a binary numpy array (containing only 0s and 1s) to a boolean numpy array"
   ]
  },
  {
   "cell_type": "code",
   "execution_count": 19,
   "id": "a880da86",
   "metadata": {},
   "outputs": [],
   "source": [
    "a = np.array([[1, 0, 0],\n",
    "              [1, 1, 1],\n",
    "              [0, 0, 0]])"
   ]
  },
  {
   "cell_type": "markdown",
   "id": "2172983d",
   "metadata": {},
   "source": [
    "Solution"
   ]
  },
  {
   "cell_type": "code",
   "execution_count": 20,
   "id": "c9c142bd",
   "metadata": {},
   "outputs": [
    {
     "data": {
      "text/plain": [
       "dtype('int32')"
      ]
     },
     "execution_count": 20,
     "metadata": {},
     "output_type": "execute_result"
    }
   ],
   "source": [
    "a.dtype"
   ]
  },
  {
   "cell_type": "code",
   "execution_count": 23,
   "id": "bef74581",
   "metadata": {},
   "outputs": [
    {
     "data": {
      "text/plain": [
       "array([[ True, False, False],\n",
       "       [ True,  True,  True],\n",
       "       [False, False, False]])"
      ]
     },
     "execution_count": 23,
     "metadata": {},
     "output_type": "execute_result"
    }
   ],
   "source": [
    "b = a.astype('bool')\n",
    "b"
   ]
  },
  {
   "cell_type": "code",
   "execution_count": 24,
   "id": "39e8fb52",
   "metadata": {},
   "outputs": [
    {
     "data": {
      "text/plain": [
       "dtype('bool')"
      ]
     },
     "execution_count": 24,
     "metadata": {},
     "output_type": "execute_result"
    }
   ],
   "source": [
    "b.dtype"
   ]
  },
  {
   "cell_type": "markdown",
   "id": "f3875c5e",
   "metadata": {},
   "source": [
    "#### EXERCISE 6 - Horizontal Stacking of Numpy Arrays\n",
    "Stack 2 numpy arrays horizontally i.e., 2 arrays having the same 1st dimension (number of rows in 2D arrays)"
   ]
  },
  {
   "cell_type": "code",
   "execution_count": 25,
   "id": "cdf27d6e",
   "metadata": {},
   "outputs": [],
   "source": [
    "a1 = np.array([[1,2,3],\n",
    "               [4,5,6]])\n",
    "\n",
    "a2 = np.array([[7,8,9],\n",
    "               [10,11,12]])"
   ]
  },
  {
   "cell_type": "markdown",
   "id": "55c81812",
   "metadata": {},
   "source": [
    "Solution"
   ]
  },
  {
   "cell_type": "code",
   "execution_count": 26,
   "id": "59d4b605",
   "metadata": {},
   "outputs": [
    {
     "data": {
      "text/plain": [
       "array([[ 1,  2,  3,  7,  8,  9],\n",
       "       [ 4,  5,  6, 10, 11, 12]])"
      ]
     },
     "execution_count": 26,
     "metadata": {},
     "output_type": "execute_result"
    }
   ],
   "source": [
    "np.hstack((a1, a2))"
   ]
  },
  {
   "cell_type": "markdown",
   "id": "065ac768",
   "metadata": {},
   "source": [
    "#### EXERCISE 7 - Vertically Stacking of Numpy Arrays\n",
    "Stack 2 numpy arrays vertically i.e., 2 arrays having the same last dimension (number of columns in 2D arrays)"
   ]
  },
  {
   "cell_type": "code",
   "execution_count": 27,
   "id": "706d7ff6",
   "metadata": {},
   "outputs": [],
   "source": [
    "a1 = np.array([[1,2],\n",
    "               [3,4],\n",
    "               [5,6]])\n",
    "\n",
    "a2 = np.array([[7,8],\n",
    "               [9,10],\n",
    "               [10,11]])"
   ]
  },
  {
   "cell_type": "markdown",
   "id": "20d358c0",
   "metadata": {},
   "source": [
    "Solution"
   ]
  },
  {
   "cell_type": "code",
   "execution_count": 29,
   "id": "91f90272",
   "metadata": {},
   "outputs": [
    {
     "data": {
      "text/plain": [
       "array([[ 1,  2],\n",
       "       [ 3,  4],\n",
       "       [ 5,  6],\n",
       "       [ 7,  8],\n",
       "       [ 9, 10],\n",
       "       [10, 11]])"
      ]
     },
     "execution_count": 29,
     "metadata": {},
     "output_type": "execute_result"
    }
   ],
   "source": [
    "np.vstack((a1, a2))"
   ]
  },
  {
   "cell_type": "markdown",
   "id": "b3cfe5f6",
   "metadata": {},
   "source": [
    "#### EXERCISE 8 - Getting the positions (indexes) where elements of 2 numpy arrays match\n",
    "From 2 numpy arrays, extract the indexes in which the elements in the 2 arrays match"
   ]
  },
  {
   "cell_type": "code",
   "execution_count": 30,
   "id": "f71bcc57",
   "metadata": {},
   "outputs": [],
   "source": [
    "a = np.array([1,2,3,4,5])\n",
    "\n",
    "b = np.array([1,3,2,4,5])"
   ]
  },
  {
   "cell_type": "markdown",
   "id": "c4161cab",
   "metadata": {},
   "source": [
    "Solution"
   ]
  },
  {
   "cell_type": "code",
   "execution_count": 32,
   "id": "c0c530be",
   "metadata": {},
   "outputs": [
    {
     "data": {
      "text/plain": [
       "array([ True, False, False,  True,  True])"
      ]
     },
     "execution_count": 32,
     "metadata": {},
     "output_type": "execute_result"
    }
   ],
   "source": [
    "index = a == b\n",
    "index"
   ]
  },
  {
   "cell_type": "code",
   "execution_count": 33,
   "id": "45bd77a6",
   "metadata": {},
   "outputs": [
    {
     "data": {
      "text/plain": [
       "(array([0, 3, 4], dtype=int64),)"
      ]
     },
     "execution_count": 33,
     "metadata": {},
     "output_type": "execute_result"
    }
   ],
   "source": [
    "np.where(index)"
   ]
  },
  {
   "cell_type": "markdown",
   "id": "92ed4249",
   "metadata": {},
   "source": [
    "#### Exercise 9: \n",
    "\n",
    "Create a 5X2 integer array from a range between 100 to 200 such that the difference between each element is 10"
   ]
  },
  {
   "cell_type": "code",
   "execution_count": 36,
   "id": "ca8b2ff8",
   "metadata": {},
   "outputs": [
    {
     "data": {
      "text/plain": [
       "array([[100, 110],\n",
       "       [120, 130],\n",
       "       [140, 150],\n",
       "       [160, 170],\n",
       "       [180, 190]])"
      ]
     },
     "execution_count": 36,
     "metadata": {},
     "output_type": "execute_result"
    }
   ],
   "source": [
    "sampleArray = np.arange(100, 200, 10)\n",
    "\n",
    "sampleArray = sampleArray.reshape(5,2)\n",
    "sampleArray"
   ]
  },
  {
   "cell_type": "markdown",
   "id": "8766cdb6",
   "metadata": {},
   "source": [
    "#### Exercise 10: How to get the documentation of the numpy functions "
   ]
  },
  {
   "cell_type": "markdown",
   "id": "089cfd74",
   "metadata": {},
   "source": [
    "Solution "
   ]
  },
  {
   "cell_type": "code",
   "execution_count": 39,
   "id": "a556ad95",
   "metadata": {},
   "outputs": [
    {
     "name": "stdout",
     "output_type": "stream",
     "text": [
      "add(x1, x2, /, out=None, *, where=True, casting='same_kind', order='K', dtype=None, subok=True[, signature, extobj])\n",
      "\n",
      "Add arguments element-wise.\n",
      "\n",
      "Parameters\n",
      "----------\n",
      "x1, x2 : array_like\n",
      "    The arrays to be added. If ``x1.shape != x2.shape``, they must be broadcastable to a common shape (which becomes the shape of the output).\n",
      "out : ndarray, None, or tuple of ndarray and None, optional\n",
      "    A location into which the result is stored. If provided, it must have\n",
      "    a shape that the inputs broadcast to. If not provided or None,\n",
      "    a freshly-allocated array is returned. A tuple (possible only as a\n",
      "    keyword argument) must have length equal to the number of outputs.\n",
      "where : array_like, optional\n",
      "    This condition is broadcast over the input. At locations where the\n",
      "    condition is True, the `out` array will be set to the ufunc result.\n",
      "    Elsewhere, the `out` array will retain its original value.\n",
      "    Note that if an uninitialized `out` array is created via the default\n",
      "    ``out=None``, locations within it where the condition is False will\n",
      "    remain uninitialized.\n",
      "**kwargs\n",
      "    For other keyword-only arguments, see the\n",
      "    :ref:`ufunc docs <ufuncs.kwargs>`.\n",
      "\n",
      "Returns\n",
      "-------\n",
      "add : ndarray or scalar\n",
      "    The sum of `x1` and `x2`, element-wise.\n",
      "    This is a scalar if both `x1` and `x2` are scalars.\n",
      "\n",
      "Notes\n",
      "-----\n",
      "Equivalent to `x1` + `x2` in terms of array broadcasting.\n",
      "\n",
      "Examples\n",
      "--------\n",
      ">>> np.add(1.0, 4.0)\n",
      "5.0\n",
      ">>> x1 = np.arange(9.0).reshape((3, 3))\n",
      ">>> x2 = np.arange(3.0)\n",
      ">>> np.add(x1, x2)\n",
      "array([[  0.,   2.,   4.],\n",
      "       [  3.,   5.,   7.],\n",
      "       [  6.,   8.,  10.]])\n"
     ]
    }
   ],
   "source": [
    "np.info(np.add)"
   ]
  },
  {
   "cell_type": "code",
   "execution_count": 40,
   "id": "117a106a",
   "metadata": {},
   "outputs": [
    {
     "name": "stdout",
     "output_type": "stream",
     "text": [
      " sum(*args, **kwargs)\n",
      "\n",
      "Sum of array elements over a given axis.\n",
      "\n",
      "Parameters\n",
      "----------\n",
      "a : array_like\n",
      "    Elements to sum.\n",
      "axis : None or int or tuple of ints, optional\n",
      "    Axis or axes along which a sum is performed.  The default,\n",
      "    axis=None, will sum all of the elements of the input array.  If\n",
      "    axis is negative it counts from the last to the first axis.\n",
      "\n",
      "    .. versionadded:: 1.7.0\n",
      "\n",
      "    If axis is a tuple of ints, a sum is performed on all of the axes\n",
      "    specified in the tuple instead of a single axis or all the axes as\n",
      "    before.\n",
      "dtype : dtype, optional\n",
      "    The type of the returned array and of the accumulator in which the\n",
      "    elements are summed.  The dtype of `a` is used by default unless `a`\n",
      "    has an integer dtype of less precision than the default platform\n",
      "    integer.  In that case, if `a` is signed then the platform integer\n",
      "    is used while if `a` is unsigned then an unsigned integer of the\n",
      "    same precision as the platform integer is used.\n",
      "out : ndarray, optional\n",
      "    Alternative output array in which to place the result. It must have\n",
      "    the same shape as the expected output, but the type of the output\n",
      "    values will be cast if necessary.\n",
      "keepdims : bool, optional\n",
      "    If this is set to True, the axes which are reduced are left\n",
      "    in the result as dimensions with size one. With this option,\n",
      "    the result will broadcast correctly against the input array.\n",
      "\n",
      "    If the default value is passed, then `keepdims` will not be\n",
      "    passed through to the `sum` method of sub-classes of\n",
      "    `ndarray`, however any non-default value will be.  If the\n",
      "    sub-class' method does not implement `keepdims` any\n",
      "    exceptions will be raised.\n",
      "initial : scalar, optional\n",
      "    Starting value for the sum. See `~numpy.ufunc.reduce` for details.\n",
      "\n",
      "    .. versionadded:: 1.15.0\n",
      "\n",
      "where : array_like of bool, optional\n",
      "    Elements to include in the sum. See `~numpy.ufunc.reduce` for details.\n",
      "\n",
      "    .. versionadded:: 1.17.0\n",
      "\n",
      "Returns\n",
      "-------\n",
      "sum_along_axis : ndarray\n",
      "    An array with the same shape as `a`, with the specified\n",
      "    axis removed.   If `a` is a 0-d array, or if `axis` is None, a scalar\n",
      "    is returned.  If an output array is specified, a reference to\n",
      "    `out` is returned.\n",
      "\n",
      "See Also\n",
      "--------\n",
      "ndarray.sum : Equivalent method.\n",
      "\n",
      "add.reduce : Equivalent functionality of `add`.\n",
      "\n",
      "cumsum : Cumulative sum of array elements.\n",
      "\n",
      "trapz : Integration of array values using the composite trapezoidal rule.\n",
      "\n",
      "mean, average\n",
      "\n",
      "Notes\n",
      "-----\n",
      "Arithmetic is modular when using integer types, and no error is\n",
      "raised on overflow.\n",
      "\n",
      "The sum of an empty array is the neutral element 0:\n",
      "\n",
      ">>> np.sum([])\n",
      "0.0\n",
      "\n",
      "For floating point numbers the numerical precision of sum (and\n",
      "``np.add.reduce``) is in general limited by directly adding each number\n",
      "individually to the result causing rounding errors in every step.\n",
      "However, often numpy will use a  numerically better approach (partial\n",
      "pairwise summation) leading to improved precision in many use-cases.\n",
      "This improved precision is always provided when no ``axis`` is given.\n",
      "When ``axis`` is given, it will depend on which axis is summed.\n",
      "Technically, to provide the best speed possible, the improved precision\n",
      "is only used when the summation is along the fast axis in memory.\n",
      "Note that the exact precision may vary depending on other parameters.\n",
      "In contrast to NumPy, Python's ``math.fsum`` function uses a slower but\n",
      "more precise approach to summation.\n",
      "Especially when summing a large number of lower precision floating point\n",
      "numbers, such as ``float32``, numerical errors can become significant.\n",
      "In such cases it can be advisable to use `dtype=\"float64\"` to use a higher\n",
      "precision for the output.\n",
      "\n",
      "Examples\n",
      "--------\n",
      ">>> np.sum([0.5, 1.5])\n",
      "2.0\n",
      ">>> np.sum([0.5, 0.7, 0.2, 1.5], dtype=np.int32)\n",
      "1\n",
      ">>> np.sum([[0, 1], [0, 5]])\n",
      "6\n",
      ">>> np.sum([[0, 1], [0, 5]], axis=0)\n",
      "array([0, 6])\n",
      ">>> np.sum([[0, 1], [0, 5]], axis=1)\n",
      "array([1, 5])\n",
      ">>> np.sum([[0, 1], [np.nan, 5]], where=[False, True], axis=1)\n",
      "array([1., 5.])\n",
      "\n",
      "If the accumulator is too small, overflow occurs:\n",
      "\n",
      ">>> np.ones(128, dtype=np.int8).sum(dtype=np.int8)\n",
      "-128\n",
      "\n",
      "You can also start the sum with a value other than zero:\n",
      "\n",
      ">>> np.sum([10], initial=5)\n",
      "15\n"
     ]
    }
   ],
   "source": [
    "np.info(np.sum)"
   ]
  },
  {
   "cell_type": "markdown",
   "id": "fa0d1014",
   "metadata": {},
   "source": [
    "#### Exercise : get all the list of numpy functions\n",
    "\n",
    "- 1 way is to read the documentation !!! (best way)\n",
    "- 2nd ?"
   ]
  },
  {
   "cell_type": "markdown",
   "id": "187a2c36",
   "metadata": {},
   "source": [
    "Solution"
   ]
  },
  {
   "cell_type": "code",
   "execution_count": 42,
   "id": "b9da4c69",
   "metadata": {},
   "outputs": [
    {
     "name": "stdout",
     "output_type": "stream",
     "text": [
      "['ALLOW_THREADS', 'AxisError', 'BUFSIZE', 'CLIP', 'ComplexWarning', 'DataSource', 'ERR_CALL', 'ERR_DEFAULT', 'ERR_IGNORE', 'ERR_LOG', 'ERR_PRINT', 'ERR_RAISE', 'ERR_WARN', 'FLOATING_POINT_SUPPORT', 'FPE_DIVIDEBYZERO', 'FPE_INVALID', 'FPE_OVERFLOW', 'FPE_UNDERFLOW', 'False_', 'Inf', 'Infinity', 'MAXDIMS', 'MAY_SHARE_BOUNDS', 'MAY_SHARE_EXACT', 'MachAr', 'ModuleDeprecationWarning', 'NAN', 'NINF', 'NZERO', 'NaN', 'PINF', 'PZERO', 'RAISE', 'RankWarning', 'SHIFT_DIVIDEBYZERO', 'SHIFT_INVALID', 'SHIFT_OVERFLOW', 'SHIFT_UNDERFLOW', 'ScalarType', 'Tester', 'TooHardError', 'True_', 'UFUNC_BUFSIZE_DEFAULT', 'UFUNC_PYVALS_NAME', 'VisibleDeprecationWarning', 'WRAP', '_NoValue', '_UFUNC_API', '__NUMPY_SETUP__', '__all__', '__builtins__', '__cached__', '__config__', '__dir__', '__doc__', '__file__', '__getattr__', '__git_revision__', '__loader__', '__mkl_version__', '__name__', '__package__', '__path__', '__spec__', '__version__', '_add_newdoc_ufunc', '_distributor_init', '_globals', '_mat', '_pytesttester', 'abs', 'absolute', 'absolute_import', 'add', 'add_docstring', 'add_newdoc', 'add_newdoc_ufunc', 'alen', 'all', 'allclose', 'alltrue', 'amax', 'amin', 'angle', 'any', 'append', 'apply_along_axis', 'apply_over_axes', 'arange', 'arccos', 'arccosh', 'arcsin', 'arcsinh', 'arctan', 'arctan2', 'arctanh', 'argmax', 'argmin', 'argpartition', 'argsort', 'argwhere', 'around', 'array', 'array2string', 'array_equal', 'array_equiv', 'array_repr', 'array_split', 'array_str', 'asanyarray', 'asarray', 'asarray_chkfinite', 'ascontiguousarray', 'asfarray', 'asfortranarray', 'asmatrix', 'asscalar', 'atleast_1d', 'atleast_2d', 'atleast_3d', 'average', 'bartlett', 'base_repr', 'binary_repr', 'bincount', 'bitwise_and', 'bitwise_not', 'bitwise_or', 'bitwise_xor', 'blackman', 'block', 'bmat', 'bool', 'bool8', 'bool_', 'broadcast', 'broadcast_arrays', 'broadcast_to', 'busday_count', 'busday_offset', 'busdaycalendar', 'byte', 'byte_bounds', 'bytes0', 'bytes_', 'c_', 'can_cast', 'cast', 'cbrt', 'cdouble', 'ceil', 'cfloat', 'char', 'character', 'chararray', 'choose', 'clip', 'clongdouble', 'clongfloat', 'column_stack', 'common_type', 'compare_chararrays', 'compat', 'complex', 'complex128', 'complex64', 'complex_', 'complexfloating', 'compress', 'concatenate', 'conj', 'conjugate', 'convolve', 'copy', 'copysign', 'copyto', 'core', 'corrcoef', 'correlate', 'cos', 'cosh', 'count_nonzero', 'cov', 'cross', 'csingle', 'ctypeslib', 'cumprod', 'cumproduct', 'cumsum', 'datetime64', 'datetime_as_string', 'datetime_data', 'deg2rad', 'degrees', 'delete', 'deprecate', 'deprecate_with_doc', 'diag', 'diag_indices', 'diag_indices_from', 'diagflat', 'diagonal', 'diff', 'digitize', 'disp', 'divide', 'division', 'divmod', 'dot', 'double', 'dsplit', 'dstack', 'dtype', 'e', 'ediff1d', 'einsum', 'einsum_path', 'emath', 'empty', 'empty_like', 'equal', 'errstate', 'euler_gamma', 'exp', 'exp2', 'expand_dims', 'expm1', 'extract', 'eye', 'fabs', 'fastCopyAndTranspose', 'fft', 'fill_diagonal', 'find_common_type', 'finfo', 'fix', 'flatiter', 'flatnonzero', 'flexible', 'flip', 'fliplr', 'flipud', 'float', 'float16', 'float32', 'float64', 'float_', 'float_power', 'floating', 'floor', 'floor_divide', 'fmax', 'fmin', 'fmod', 'format_float_positional', 'format_float_scientific', 'format_parser', 'frexp', 'frombuffer', 'fromfile', 'fromfunction', 'fromiter', 'frompyfunc', 'fromregex', 'fromstring', 'full', 'full_like', 'fv', 'gcd', 'generic', 'genfromtxt', 'geomspace', 'get_array_wrap', 'get_include', 'get_printoptions', 'getbufsize', 'geterr', 'geterrcall', 'geterrobj', 'gradient', 'greater', 'greater_equal', 'half', 'hamming', 'hanning', 'heaviside', 'histogram', 'histogram2d', 'histogram_bin_edges', 'histogramdd', 'hsplit', 'hstack', 'hypot', 'i0', 'identity', 'iinfo', 'imag', 'in1d', 'index_exp', 'indices', 'inexact', 'inf', 'info', 'infty', 'inner', 'insert', 'int', 'int0', 'int16', 'int32', 'int64', 'int8', 'int_', 'int_asbuffer', 'intc', 'integer', 'interp', 'intersect1d', 'intp', 'invert', 'ipmt', 'irr', 'is_busday', 'isclose', 'iscomplex', 'iscomplexobj', 'isfinite', 'isfortran', 'isin', 'isinf', 'isnan', 'isnat', 'isneginf', 'isposinf', 'isreal', 'isrealobj', 'isscalar', 'issctype', 'issubclass_', 'issubdtype', 'issubsctype', 'iterable', 'ix_', 'kaiser', 'kron', 'lcm', 'ldexp', 'left_shift', 'less', 'less_equal', 'lexsort', 'lib', 'linalg', 'linspace', 'little_endian', 'load', 'loads', 'loadtxt', 'log', 'log10', 'log1p', 'log2', 'logaddexp', 'logaddexp2', 'logical_and', 'logical_not', 'logical_or', 'logical_xor', 'logspace', 'long', 'longcomplex', 'longdouble', 'longfloat', 'longlong', 'lookfor', 'ma', 'mafromtxt', 'mask_indices', 'mat', 'math', 'matmul', 'matrix', 'matrixlib', 'max', 'maximum', 'maximum_sctype', 'may_share_memory', 'mean', 'median', 'memmap', 'meshgrid', 'mgrid', 'min', 'min_scalar_type', 'minimum', 'mintypecode', 'mirr', 'mkl', 'mod', 'modf', 'moveaxis', 'msort', 'multiply', 'nan', 'nan_to_num', 'nanargmax', 'nanargmin', 'nancumprod', 'nancumsum', 'nanmax', 'nanmean', 'nanmedian', 'nanmin', 'nanpercentile', 'nanprod', 'nanquantile', 'nanstd', 'nansum', 'nanvar', 'nbytes', 'ndarray', 'ndenumerate', 'ndfromtxt', 'ndim', 'ndindex', 'nditer', 'negative', 'nested_iters', 'newaxis', 'nextafter', 'nonzero', 'not_equal', 'nper', 'npv', 'numarray', 'number', 'obj2sctype', 'object', 'object0', 'object_', 'ogrid', 'oldnumeric', 'ones', 'ones_like', 'outer', 'packbits', 'pad', 'partition', 'percentile', 'pi', 'piecewise', 'place', 'pmt', 'poly', 'poly1d', 'polyadd', 'polyder', 'polydiv', 'polyfit', 'polyint', 'polymul', 'polynomial', 'polysub', 'polyval', 'positive', 'power', 'ppmt', 'print_function', 'printoptions', 'prod', 'product', 'promote_types', 'ptp', 'put', 'put_along_axis', 'putmask', 'pv', 'quantile', 'r_', 'rad2deg', 'radians', 'random', 'rate', 'ravel', 'ravel_multi_index', 'real', 'real_if_close', 'rec', 'recarray', 'recfromcsv', 'recfromtxt', 'reciprocal', 'record', 'remainder', 'repeat', 'require', 'reshape', 'resize', 'result_type', 'right_shift', 'rint', 'roll', 'rollaxis', 'roots', 'rot90', 'round', 'round_', 'row_stack', 's_', 'safe_eval', 'save', 'savetxt', 'savez', 'savez_compressed', 'sctype2char', 'sctypeDict', 'sctypeNA', 'sctypes', 'searchsorted', 'select', 'set_numeric_ops', 'set_printoptions', 'set_string_function', 'setbufsize', 'setdiff1d', 'seterr', 'seterrcall', 'seterrobj', 'setxor1d', 'shape', 'shares_memory', 'short', 'show_config', 'sign', 'signbit', 'signedinteger', 'sin', 'sinc', 'single', 'singlecomplex', 'sinh', 'size', 'sometrue', 'sort', 'sort_complex', 'source', 'spacing', 'split', 'sqrt', 'square', 'squeeze', 'stack', 'std', 'str', 'str0', 'str_', 'string_', 'subtract', 'sum', 'swapaxes', 'sys', 'take', 'take_along_axis', 'tan', 'tanh', 'tensordot', 'test', 'testing', 'tile', 'timedelta64', 'trace', 'tracemalloc_domain', 'transpose', 'trapz', 'tri', 'tril', 'tril_indices', 'tril_indices_from', 'trim_zeros', 'triu', 'triu_indices', 'triu_indices_from', 'true_divide', 'trunc', 'typeDict', 'typeNA', 'typecodes', 'typename', 'ubyte', 'ufunc', 'uint', 'uint0', 'uint16', 'uint32', 'uint64', 'uint8', 'uintc', 'uintp', 'ulonglong', 'unicode', 'unicode_', 'union1d', 'unique', 'unpackbits', 'unravel_index', 'unsignedinteger', 'unwrap', 'ushort', 'vander', 'var', 'vdot', 'vectorize', 'version', 'void', 'void0', 'vsplit', 'vstack', 'warnings', 'where', 'who', 'zeros', 'zeros_like']\n"
     ]
    }
   ],
   "source": [
    "print(dir(np))"
   ]
  },
  {
   "cell_type": "markdown",
   "id": "5ccbc109",
   "metadata": {},
   "source": [
    "#### Exercise : 11 - Find indices of non-zero elements from [1,2,0,0,4,0]"
   ]
  },
  {
   "cell_type": "code",
   "execution_count": 48,
   "id": "6999e3b7",
   "metadata": {},
   "outputs": [],
   "source": [
    "a = np.array([10,20,0,0,41,0])"
   ]
  },
  {
   "cell_type": "markdown",
   "id": "225f4dcf",
   "metadata": {},
   "source": [
    "Solution"
   ]
  },
  {
   "cell_type": "code",
   "execution_count": 49,
   "id": "af6626a6",
   "metadata": {},
   "outputs": [
    {
     "data": {
      "text/plain": [
       "(array([0, 1, 4], dtype=int64),)"
      ]
     },
     "execution_count": 49,
     "metadata": {},
     "output_type": "execute_result"
    }
   ],
   "source": [
    "index = np.where(a > 0)\n",
    "index"
   ]
  },
  {
   "cell_type": "code",
   "execution_count": 50,
   "id": "b3870fb9",
   "metadata": {},
   "outputs": [
    {
     "data": {
      "text/plain": [
       "array([10, 20, 41])"
      ]
     },
     "execution_count": 50,
     "metadata": {},
     "output_type": "execute_result"
    }
   ],
   "source": [
    "a[index]"
   ]
  },
  {
   "cell_type": "markdown",
   "id": "67527ee5",
   "metadata": {},
   "source": [
    "#### Exercise : read text from StringIO"
   ]
  },
  {
   "cell_type": "code",
   "execution_count": 75,
   "id": "0b8da274",
   "metadata": {},
   "outputs": [],
   "source": [
    "from io import StringIO"
   ]
  },
  {
   "cell_type": "markdown",
   "id": "120e94ae",
   "metadata": {},
   "source": [
    "take the below text in a var ... `str_var`\n",
    "\n",
    "`Natural language processing (NLP) refers to the branch of computer science—and more specifically, the branch of artificial intelligence or AI—concerned with giving computers the ability to understand text and spoken words in much the same way human beings can.\n",
    "\n",
    "NLP combines computational linguistics—rule-based modeling of human language—with statistical, machine learning, and deep learning models. Together, these technologies enable computers to process human language in the form of text or voice data and to ‘understand’ its full meaning, complete with the speaker or writer’s intent and sentiment.\n",
    "\n",
    "NLP drives computer programs that translate text from one language to another, respond to spoken commands, and summarize large volumes of text rapidly—even in real time. There’s a good chance you’ve interacted with NLP in the form of voice-operated GPS systems, digital assistants, speech-to-text dictation software, customer service chatbots, and other consumer conveniences. But NLP also plays a growing role in enterprise solutions that help streamline business operations, increase employee productivity, and simplify mission-critical business processes.`"
   ]
  },
  {
   "cell_type": "code",
   "execution_count": 57,
   "id": "c66ee093",
   "metadata": {},
   "outputs": [],
   "source": [
    "str_var ='''Natural language processing (NLP) refers to the branch of computer science—and more specifically, the branch of artificial intelligence or AI—concerned with giving computers the ability to understand text and spoken words in much the same way human beings can.\n",
    "\n",
    "NLP combines computational linguistics—rule-based modeling of human language—with statistical, machine learning, and deep learning models. Together, these technologies enable computers to process human language in the form of text or voice data and to ‘understand’ its full meaning, complete with the speaker or writer’s intent and sentiment.\n",
    "\n",
    "NLP drives computer programs that translate text from one language to another, respond to spoken commands, and summarize large volumes of text rapidly—even in real time. There’s a good chance you’ve interacted with NLP in the form of voice-operated GPS systems, digital assistants, speech-to-text dictation software, customer service chatbots, and other consumer conveniences. But NLP also plays a growing role in enterprise solutions that help streamline business operations, increase employee productivity, and simplify mission-critical business processes.'''"
   ]
  },
  {
   "cell_type": "markdown",
   "id": "c96a14c5",
   "metadata": {},
   "source": [
    "Using the `StringIO` method - read the `str_var` into `file_read_using_stringIO` variable\n"
   ]
  },
  {
   "cell_type": "code",
   "execution_count": 62,
   "id": "ba3d5523",
   "metadata": {},
   "outputs": [],
   "source": [
    "file_read_using_stringIO = StringIO(str_var)"
   ]
  },
  {
   "cell_type": "markdown",
   "id": "9d463f53",
   "metadata": {},
   "source": [
    "print the content of `file_read_using_stringIO` variable"
   ]
  },
  {
   "cell_type": "code",
   "execution_count": 63,
   "id": "30c460ce",
   "metadata": {},
   "outputs": [
    {
     "name": "stdout",
     "output_type": "stream",
     "text": [
      "Natural language processing (NLP) refers to the branch of computer science—and more specifically, the branch of artificial intelligence or AI—concerned with giving computers the ability to understand text and spoken words in much the same way human beings can.\n",
      "\n",
      "NLP combines computational linguistics—rule-based modeling of human language—with statistical, machine learning, and deep learning models. Together, these technologies enable computers to process human language in the form of text or voice data and to ‘understand’ its full meaning, complete with the speaker or writer’s intent and sentiment.\n",
      "\n",
      "NLP drives computer programs that translate text from one language to another, respond to spoken commands, and summarize large volumes of text rapidly—even in real time. There’s a good chance you’ve interacted with NLP in the form of voice-operated GPS systems, digital assistants, speech-to-text dictation software, customer service chatbots, and other consumer conveniences. But NLP also plays a growing role in enterprise solutions that help streamline business operations, increase employee productivity, and simplify mission-critical business processes.\n"
     ]
    }
   ],
   "source": [
    "print(file_read_using_stringIO.read())"
   ]
  },
  {
   "cell_type": "markdown",
   "id": "0cf297b9",
   "metadata": {},
   "source": [
    "get the length of the `file_read_using_stringIO`"
   ]
  },
  {
   "cell_type": "code",
   "execution_count": 70,
   "id": "b03a7a34",
   "metadata": {},
   "outputs": [],
   "source": [
    "str_read_var = file_read_using_stringIO.read()"
   ]
  },
  {
   "cell_type": "code",
   "execution_count": 71,
   "id": "643b7629",
   "metadata": {},
   "outputs": [
    {
     "data": {
      "text/plain": [
       "str"
      ]
     },
     "execution_count": 71,
     "metadata": {},
     "output_type": "execute_result"
    }
   ],
   "source": [
    "type(str_read_var)"
   ]
  },
  {
   "cell_type": "code",
   "execution_count": 72,
   "id": "9a47c111",
   "metadata": {},
   "outputs": [
    {
     "data": {
      "text/plain": [
       "''"
      ]
     },
     "execution_count": 72,
     "metadata": {},
     "output_type": "execute_result"
    }
   ],
   "source": [
    "str_read_var"
   ]
  },
  {
   "cell_type": "markdown",
   "id": "b3f2edce",
   "metadata": {},
   "source": [
    "#### Exercise : read a text file into numpy\n",
    "\n",
    "- use iris.csv (look into the datasets folder)"
   ]
  },
  {
   "cell_type": "code",
   "execution_count": 52,
   "id": "341b6bac",
   "metadata": {},
   "outputs": [],
   "source": [
    "location = r'D:\\MYLEARN\\DATASETS\\iris.csv'"
   ]
  },
  {
   "cell_type": "markdown",
   "id": "14eb83fd-c311-4288-bd53-cf1cc3b58760",
   "metadata": {},
   "source": [
    "#### Exercise : Random Walk Simulation:\n",
    "\n",
    "Description: Simulate a random walk using NumPy and plot the path."
   ]
  },
  {
   "cell_type": "code",
   "execution_count": 1,
   "id": "c533c671-a609-4d53-8acb-15d5ed2232a9",
   "metadata": {
    "tags": []
   },
   "outputs": [],
   "source": [
    "import numpy as np\n",
    "import matplotlib.pyplot as plt"
   ]
  },
  {
   "cell_type": "code",
   "execution_count": 6,
   "id": "49882eec-8649-41e8-b905-11c62c7a67a0",
   "metadata": {
    "tags": []
   },
   "outputs": [],
   "source": [
    "def random_walk(steps):\n",
    "    # Generate random steps (+1 or -1) for each step\n",
    "    step_choices = np.array([-1, 1])\n",
    "    steps_taken = np.random.choice(step_choices, steps)\n",
    "\n",
    "    # Calculate the cumulative sum to get the position at each step\n",
    "    position = np.cumsum(steps_taken)\n",
    "\n",
    "    return position"
   ]
  },
  {
   "cell_type": "code",
   "execution_count": 7,
   "id": "169971a0-8e78-416f-8303-fbbb7f2f0156",
   "metadata": {
    "tags": []
   },
   "outputs": [
    {
     "data": {
      "text/plain": [
       "array([1, 2, 3, 4])"
      ]
     },
     "execution_count": 7,
     "metadata": {},
     "output_type": "execute_result"
    }
   ],
   "source": [
    "np.cumsum([1,1,1,1])"
   ]
  },
  {
   "cell_type": "code",
   "execution_count": 5,
   "id": "f801398e-e599-45c0-99bb-8946f40e089e",
   "metadata": {
    "tags": []
   },
   "outputs": [
    {
     "data": {
      "image/png": "[encoded data removed]",
      "text/plain": [
       "<Figure size 640x480 with 1 Axes>"
      ]
     },
     "metadata": {},
     "output_type": "display_data"
    }
   ],
   "source": [
    "# Test the function\n",
    "num_steps = 100\n",
    "random_path = random_walk(num_steps)\n",
    "\n",
    "# Plot the random walk path\n",
    "plt.plot(random_path)\n",
    "\n",
    "plt.xlabel(\"Steps\")\n",
    "plt.ylabel(\"Position\")\n",
    "plt.title(\"Random Walk Simulation\")\n",
    "plt.show()"
   ]
  },
  {
   "cell_type": "markdown",
   "id": "50d0e21b-23a3-4f24-bae2-a8bce5a6fbca",
   "metadata": {},
   "source": [
    "#### Statistical Analysis:\n",
    "Description: Generate a random array of numbers and calculate various statistical measures using NumPy functions."
   ]
  },
  {
   "cell_type": "code",
   "execution_count": 8,
   "id": "eb9308dc-9e70-451d-bf1a-db8940caaeee",
   "metadata": {
    "tags": []
   },
   "outputs": [],
   "source": [
    "def statistical_analysis():\n",
    "    N   = int(input(\"Enter the size of the array: \"))\n",
    "    arr = np.random.randint(1, 100, N)\n",
    "\n",
    "    # Calculate statistical measures\n",
    "    arr_mean   = np.mean(arr)\n",
    "    arr_median = np.median(arr)\n",
    "    arr_std    = np.std(arr)\n",
    "    arr_var    = np.var(arr)\n",
    "\n",
    "    return arr, arr_mean, arr_median, arr_std, arr_var"
   ]
  },
  {
   "cell_type": "code",
   "execution_count": 9,
   "id": "3c8f31af-886d-4aa0-8727-b571d06a959d",
   "metadata": {
    "tags": []
   },
   "outputs": [
    {
     "name": "stdin",
     "output_type": "stream",
     "text": [
      "Enter the size of the array:  50\n"
     ]
    },
    {
     "name": "stdout",
     "output_type": "stream",
     "text": [
      "Array: [45  9 74 94 99 93  4 72 31 22 92 40 82 15 19 52 41 60 64 37 56 68 20 76\n",
      " 14 82 37 70  5  9 44 78 55 91 22 57 65 86 43 56 27 61 98 13 99 92 63 53\n",
      " 35 99]\n",
      "Mean: 54.38\n",
      "Median: 56.0\n",
      "Standard Deviation: 28.867206307504023\n",
      "Variance: 833.3156\n"
     ]
    }
   ],
   "source": [
    "# Test the function\n",
    "array, mean_result, median_result, std_result, var_result = statistical_analysis()\n",
    "print(\"Array:\", array)\n",
    "print(\"Mean:\", mean_result)\n",
    "print(\"Median:\", median_result)\n",
    "print(\"Standard Deviation:\", std_result)\n",
    "print(\"Variance:\", var_result)"
   ]
  },
  {
   "cell_type": "markdown",
   "id": "fc4adc74-2a4a-463a-b943-b9a0124cf8f8",
   "metadata": {},
   "source": [
    "#### Project 1: Matrix Operations\n",
    "Description: Create a program that performs basic matrix operations such as addition, subtraction, and multiplication."
   ]
  },
  {
   "cell_type": "code",
   "execution_count": 10,
   "id": "0ec3d346-ac40-461b-ab5d-5eb6d2cdc0b3",
   "metadata": {
    "tags": []
   },
   "outputs": [],
   "source": [
    "matrix_a = np.array([[1, 2], [3, 4]])\n",
    "matrix_b = np.array([[5, 6], [7, 8]])"
   ]
  },
  {
   "cell_type": "code",
   "execution_count": 11,
   "id": "97120a77-9d4f-4169-85bc-71ce928315c8",
   "metadata": {
    "tags": []
   },
   "outputs": [
    {
     "data": {
      "text/plain": [
       "(array([[1, 2],\n",
       "        [3, 4]]),\n",
       " array([[5, 6],\n",
       "        [7, 8]]))"
      ]
     },
     "execution_count": 11,
     "metadata": {},
     "output_type": "execute_result"
    }
   ],
   "source": [
    "matrix_a, matrix_b"
   ]
  },
  {
   "cell_type": "code",
   "execution_count": 12,
   "id": "fd51d5f7-75de-4220-9e29-6db68f7af98e",
   "metadata": {
    "tags": []
   },
   "outputs": [
    {
     "name": "stdout",
     "output_type": "stream",
     "text": [
      "Addition Result:\n",
      "[[ 6  8]\n",
      " [10 12]]\n"
     ]
    }
   ],
   "source": [
    "result_addition = np.add(matrix_a, matrix_b)\n",
    "print(\"Addition Result:\")\n",
    "print(result_addition)"
   ]
  },
  {
   "cell_type": "code",
   "execution_count": 13,
   "id": "9310387c-8611-4aa1-9b19-36bb30148947",
   "metadata": {
    "tags": []
   },
   "outputs": [
    {
     "name": "stdout",
     "output_type": "stream",
     "text": [
      "Subtraction Result:\n",
      "[[-4 -4]\n",
      " [-4 -4]]\n"
     ]
    }
   ],
   "source": [
    "# Subtraction\n",
    "result_subtraction = np.subtract(matrix_a, matrix_b)\n",
    "print(\"Subtraction Result:\")\n",
    "print(result_subtraction)"
   ]
  },
  {
   "cell_type": "code",
   "execution_count": 14,
   "id": "a3960545-dc2e-4474-9293-5d807f0c070d",
   "metadata": {
    "tags": []
   },
   "outputs": [
    {
     "name": "stdout",
     "output_type": "stream",
     "text": [
      "Multiplication Result:\n",
      "[[19 22]\n",
      " [43 50]]\n"
     ]
    }
   ],
   "source": [
    "# Multiplication\n",
    "result_multiplication = np.matmul(matrix_a, matrix_b)\n",
    "print(\"Multiplication Result:\")\n",
    "print(result_multiplication)"
   ]
  },
  {
   "cell_type": "markdown",
   "id": "2cc4dcd0-b42c-4dc0-8d3d-47c4f65a9c83",
   "metadata": {},
   "source": [
    "### Project 2: Array Manipulation\n",
    "Description: Write a program that manipulates arrays by reshaping, flattening, and stacking them."
   ]
  },
  {
   "cell_type": "code",
   "execution_count": 15,
   "id": "d5fc07d3-ca0a-4095-91f8-57777763c56e",
   "metadata": {
    "tags": []
   },
   "outputs": [],
   "source": [
    "# Reshape an array\n",
    "original_array = np.array([[1, 2], [3, 4], [5, 6]])"
   ]
  },
  {
   "cell_type": "code",
   "execution_count": 16,
   "id": "d22a277d-7de9-4b18-94f4-c88fc9d299d6",
   "metadata": {
    "tags": []
   },
   "outputs": [
    {
     "data": {
      "text/plain": [
       "array([[1, 2],\n",
       "       [3, 4],\n",
       "       [5, 6]])"
      ]
     },
     "execution_count": 16,
     "metadata": {},
     "output_type": "execute_result"
    }
   ],
   "source": [
    "original_array"
   ]
  },
  {
   "cell_type": "code",
   "execution_count": 17,
   "id": "1dceda7f-1f63-4336-bf8e-4798c45084b5",
   "metadata": {
    "tags": []
   },
   "outputs": [
    {
     "name": "stdout",
     "output_type": "stream",
     "text": [
      "Reshaped Array:\n",
      "[[1 2 3]\n",
      " [4 5 6]]\n"
     ]
    }
   ],
   "source": [
    "reshaped_array = np.reshape(original_array, (2, 3))\n",
    "print(\"Reshaped Array:\")\n",
    "print(reshaped_array)"
   ]
  },
  {
   "cell_type": "code",
   "execution_count": 19,
   "id": "2c3e3bca-241b-41a0-ac8d-1aae006d253d",
   "metadata": {
    "tags": []
   },
   "outputs": [
    {
     "name": "stdout",
     "output_type": "stream",
     "text": [
      "Flattened Array:\n",
      "[1 2 3 4 5 6]\n"
     ]
    }
   ],
   "source": [
    "# Flatten an array\n",
    "flattened_array = original_array.flatten()\n",
    "print(\"Flattened Array:\")\n",
    "print(flattened_array)"
   ]
  },
  {
   "cell_type": "code",
   "execution_count": 20,
   "id": "a9baf88f-bc93-428b-86ff-d819e931589a",
   "metadata": {
    "tags": []
   },
   "outputs": [
    {
     "name": "stdout",
     "output_type": "stream",
     "text": [
      "Stacked Array:\n",
      "[[1 2 3]\n",
      " [4 5 6]]\n"
     ]
    }
   ],
   "source": [
    "# Stack arrays vertically\n",
    "array_a = np.array([1, 2, 3])\n",
    "array_b = np.array([4, 5, 6])\n",
    "stacked_array = np.vstack((array_a, array_b))\n",
    "print(\"Stacked Array:\")\n",
    "print(stacked_array)"
   ]
  },
  {
   "cell_type": "markdown",
   "id": "bc99103a-719b-43bd-a103-b22632d38ae7",
   "metadata": {},
   "source": [
    "#### Project 4: Sorting\n",
    "Description: Write a program that sorts an array in ascending and descending order.\n",
    "Solution:"
   ]
  },
  {
   "cell_type": "code",
   "execution_count": 21,
   "id": "5bc38847-cf0c-496e-a8b8-262ec6b498e2",
   "metadata": {
    "tags": []
   },
   "outputs": [],
   "source": [
    "# Sort in ascending order\n",
    "data_array = np.array([5, 2, 8, 1, 6])"
   ]
  },
  {
   "cell_type": "code",
   "execution_count": 22,
   "id": "2785466b-2b17-4338-b24d-75fb3c33dc58",
   "metadata": {
    "tags": []
   },
   "outputs": [
    {
     "name": "stdout",
     "output_type": "stream",
     "text": [
      "Ascending Order:\n",
      "[1 2 5 6 8]\n"
     ]
    }
   ],
   "source": [
    "sorted_array_ascending = np.sort(data_array)\n",
    "print(\"Ascending Order:\")\n",
    "print(sorted_array_ascending)"
   ]
  },
  {
   "cell_type": "code",
   "execution_count": 23,
   "id": "53af94f2-5cf8-410d-9cfb-e705aec0cc9f",
   "metadata": {
    "tags": []
   },
   "outputs": [
    {
     "name": "stdout",
     "output_type": "stream",
     "text": [
      "Descending Order:\n",
      "[8 6 5 2 1]\n"
     ]
    }
   ],
   "source": [
    "# Sort in descending order\n",
    "sorted_array_descending = np.sort(data_array)[::-1]\n",
    "print(\"Descending Order:\")\n",
    "print(sorted_array_descending)"
   ]
  },
  {
   "cell_type": "markdown",
   "id": "d5ddd177-792c-4678-a854-50919987a6c4",
   "metadata": {},
   "source": [
    "#### Exercise 2: Sort a 2D Array by Column\n",
    "Description: Write a Python program to create a 2D array and then sort it based on a specific column using NumPy."
   ]
  },
  {
   "cell_type": "code",
   "execution_count": 24,
   "id": "01f1d0d3-de7d-46a6-888a-1a0035276788",
   "metadata": {
    "tags": []
   },
   "outputs": [
    {
     "name": "stdout",
     "output_type": "stream",
     "text": [
      "Original 2D Array:\n",
      "[[5 2 8]\n",
      " [1 6 4]\n",
      " [3 9 7]]\n"
     ]
    }
   ],
   "source": [
    "# Create a 2D array\n",
    "two_d_array = np.array([[5, 2, 8], [1, 6, 4], [3, 9, 7]])\n",
    "print(\"Original 2D Array:\")\n",
    "print(two_d_array)"
   ]
  },
  {
   "cell_type": "code",
   "execution_count": 26,
   "id": "8b538315-b95a-4c24-b187-cfab2b36caf9",
   "metadata": {
    "tags": []
   },
   "outputs": [
    {
     "name": "stdout",
     "output_type": "stream",
     "text": [
      "Sorted 2D Array by Column:\n",
      "[[1 6 4]\n",
      " [3 9 7]\n",
      " [5 2 8]]\n"
     ]
    }
   ],
   "source": [
    "# Sort by the second column (index 1)\n",
    "sorted_by_column = two_d_array[two_d_array[:, 2].argsort()]\n",
    "print(\"Sorted 2D Array by Column:\")\n",
    "print(sorted_by_column)"
   ]
  },
  {
   "cell_type": "code",
   "execution_count": 27,
   "id": "d05d1221-b514-4b75-b206-71302566ee1a",
   "metadata": {
    "tags": []
   },
   "outputs": [
    {
     "data": {
      "text/plain": [
       "array([8, 4, 7])"
      ]
     },
     "execution_count": 27,
     "metadata": {},
     "output_type": "execute_result"
    }
   ],
   "source": [
    "two_d_array[:, 2]"
   ]
  },
  {
   "cell_type": "code",
   "execution_count": 28,
   "id": "07676bd8-9d58-43f3-a529-da142df54556",
   "metadata": {
    "tags": []
   },
   "outputs": [
    {
     "data": {
      "text/plain": [
       "array([1, 2, 0], dtype=int64)"
      ]
     },
     "execution_count": 28,
     "metadata": {},
     "output_type": "execute_result"
    }
   ],
   "source": [
    "two_d_array[:, 2].argsort()"
   ]
  },
  {
   "cell_type": "markdown",
   "id": "6079b021-21fa-46c4-9fb7-c28c73de0770",
   "metadata": {},
   "source": [
    "#### Exercise 3: Sort a 2D Array by Row\n",
    "Description: Write a Python program to create a 2D array and then sort it based on a specific row using NumPy."
   ]
  },
  {
   "cell_type": "code",
   "execution_count": 29,
   "id": "7c4f40a6-d552-48e3-9fa9-6a0449c600f2",
   "metadata": {
    "tags": []
   },
   "outputs": [
    {
     "name": "stdout",
     "output_type": "stream",
     "text": [
      "Original 2D Array:\n",
      "[[5 2 8]\n",
      " [1 6 4]\n",
      " [3 9 7]]\n"
     ]
    }
   ],
   "source": [
    "# Create a 2D array\n",
    "two_d_array = np.array([[5, 2, 8], [1, 6, 4], [3, 9, 7]])\n",
    "print(\"Original 2D Array:\")\n",
    "print(two_d_array)"
   ]
  },
  {
   "cell_type": "code",
   "execution_count": 30,
   "id": "659538ee-2e28-4123-818b-3cc5d5ea8c35",
   "metadata": {
    "tags": []
   },
   "outputs": [
    {
     "name": "stdout",
     "output_type": "stream",
     "text": [
      "Sorted 2D Array by Row:\n",
      "[[5 8 2]\n",
      " [1 4 6]\n",
      " [3 7 9]]\n"
     ]
    }
   ],
   "source": [
    "# Sort by the second row (index 1)\n",
    "sorted_by_row = two_d_array[:, two_d_array[1, :].argsort()]\n",
    "print(\"Sorted 2D Array by Row:\")\n",
    "print(sorted_by_row)"
   ]
  },
  {
   "cell_type": "markdown",
   "id": "f9e65727-7488-4513-9e5d-39dac5b625c4",
   "metadata": {},
   "source": [
    "#### Exercise 1: Create a Date Range\n",
    "Description: Generate an array of dates starting from a specific date and incrementing by one day up to a given end date."
   ]
  },
  {
   "cell_type": "code",
   "execution_count": 31,
   "id": "fd96e3d9-7ddd-4edc-b24e-3bd16b1e5726",
   "metadata": {
    "tags": []
   },
   "outputs": [],
   "source": [
    "start_date = np.datetime64('2023-07-01')\n",
    "end_date   = np.datetime64('2023-07-10')"
   ]
  },
  {
   "cell_type": "code",
   "execution_count": 32,
   "id": "df0c58c3-6fa9-427a-92b9-e554fc2f3a0e",
   "metadata": {
    "tags": []
   },
   "outputs": [
    {
     "name": "stdout",
     "output_type": "stream",
     "text": [
      "['2023-07-01' '2023-07-02' '2023-07-03' '2023-07-04' '2023-07-05'\n",
      " '2023-07-06' '2023-07-07' '2023-07-08' '2023-07-09']\n"
     ]
    }
   ],
   "source": [
    "date_range = np.arange(start_date, end_date, dtype='datetime64[D]')\n",
    "print(date_range)"
   ]
  },
  {
   "cell_type": "markdown",
   "id": "bc95e224-d8d9-496a-b9bc-e1490bf87207",
   "metadata": {},
   "source": [
    "#### Exercise 2: Calculate Time Difference\n",
    "Description: Given two specific dates, calculate the number of days between them.\n",
    "Solution:"
   ]
  },
  {
   "cell_type": "code",
   "execution_count": 33,
   "id": "3f894ca3-8a1a-45b4-89f1-fe30c673c63d",
   "metadata": {
    "tags": []
   },
   "outputs": [
    {
     "name": "stdout",
     "output_type": "stream",
     "text": [
      "Time Difference (days): 14 days\n"
     ]
    }
   ],
   "source": [
    "date1 = np.datetime64('2023-07-15')\n",
    "date2 = np.datetime64('2023-07-01')\n",
    "\n",
    "time_difference = np.abs(date1 - date2)\n",
    "print(\"Time Difference (days):\", time_difference.astype('timedelta64[D]'))"
   ]
  },
  {
   "cell_type": "markdown",
   "id": "52cf22e2-5497-4dab-8820-5d3aa482f76b",
   "metadata": {},
   "source": [
    "#### Exercise 3: Find the Day of the Week\n",
    "Description: Given a specific date, find the day of the week (e.g., Monday, Tuesday) it falls on.\n",
    "Solution:"
   ]
  },
  {
   "cell_type": "code",
   "execution_count": 39,
   "id": "5aad5ba9-a09d-4079-b37a-92cd408b181a",
   "metadata": {
    "tags": []
   },
   "outputs": [
    {
     "name": "stdout",
     "output_type": "stream",
     "text": [
      "3\n"
     ]
    }
   ],
   "source": [
    "import datetime\n",
    "\n",
    "t = '2018-09-19'\n",
    "t = np.datetime64(t)\n",
    "day = t.astype(datetime.datetime).isoweekday()\n",
    "print (day)"
   ]
  },
  {
   "cell_type": "code",
   "execution_count": null,
   "id": "04d9148f-8764-41b9-94b3-fc01fc4aee74",
   "metadata": {},
   "outputs": [],
   "source": []
  }
 ],
 "metadata": {
  "kernelspec": {
   "display_name": "Python 3 (ipykernel)",
   "language": "python",
   "name": "python3"
  },
  "language_info": {
   "codemirror_mode": {
    "name": "ipython",
    "version": 3
   },
   "file_extension": ".py",
   "mimetype": "text/x-python",
   "name": "python",
   "nbconvert_exporter": "python",
   "pygments_lexer": "ipython3",
   "version": "3.11.3"
  }
 },
 "nbformat": 4,
 "nbformat_minor": 5
}
