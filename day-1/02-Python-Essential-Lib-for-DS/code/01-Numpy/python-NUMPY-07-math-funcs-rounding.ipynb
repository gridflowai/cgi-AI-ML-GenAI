{
 "cells": [
  {
   "cell_type": "code",
   "execution_count": 1,
   "metadata": {},
   "outputs": [],
   "source": [
    "from IPython.display import Image"
   ]
  },
  {
   "cell_type": "code",
   "execution_count": 2,
   "metadata": {},
   "outputs": [],
   "source": [
    "import numpy as np"
   ]
  },
  {
   "cell_type": "markdown",
   "metadata": {},
   "source": [
    "---------------------------\n",
    "#### Mathematical functions\n",
    "--------------------"
   ]
  },
  {
   "cell_type": "markdown",
   "metadata": {},
   "source": [
    "##### Rounding\n",
    "|Function name | What it does?|\n",
    "|--------------|--------------|\n",
    "|around(a[, decimals, out]) |Evenly round to the given number of decimals.|\n",
    "|round_(a[, decimals, out]) |Round an array to the given number of decimals.|\n",
    "|rint(x, /[, out, where, casting, order, …])|Round elements of the array to the nearest integer.|\n",
    "|fix(x[, out])| Round to nearest integer towards zero.|\n",
    "|floor(x, /[, out, where, casting, order, …])| Return the floor of the input, element-wise.|\n",
    "|ceil(x, /[, out, where, casting, order, …])|Return the ceiling of the input, element-wise.|\n",
    "|trunc(x, /[, out, where, casting, order, …])|Return the truncated value of the input, element-wise.|\n",
    "\n"
   ]
  },
  {
   "cell_type": "markdown",
   "metadata": {},
   "source": [
    "`around/ round` \n",
    "\n",
    "- Numpy around() is a mathematical function that helps the user to `evenly round array elements to the given number of decimals`. \n",
    "\n",
    "- The around() method takes up to three parameters and returns an array with all the elements being rounded off to the specified value."
   ]
  },
  {
   "cell_type": "code",
   "execution_count": 87,
   "metadata": {},
   "outputs": [
    {
     "data": {
      "text/plain": [
       "(array([0., 2.]), array([0., 2.]))"
      ]
     },
     "execution_count": 87,
     "metadata": {},
     "output_type": "execute_result"
    }
   ],
   "source": [
    "np.around([0.37, 1.64]), np.round([0.37, 1.64])"
   ]
  },
  {
   "cell_type": "code",
   "execution_count": 88,
   "metadata": {},
   "outputs": [
    {
     "data": {
      "text/plain": [
       "(array([0.3, 0.4, 1.6, 1.7]), array([0.3, 0.4, 1.6, 1.7]))"
      ]
     },
     "execution_count": 88,
     "metadata": {},
     "output_type": "execute_result"
    }
   ],
   "source": [
    "np.around([0.33, 0.37, 1.64, 1.66], decimals=1), np.round([0.33, 0.37, 1.64, 1.66], decimals=1)"
   ]
  },
  {
   "cell_type": "code",
   "execution_count": 89,
   "metadata": {},
   "outputs": [
    {
     "data": {
      "text/plain": [
       "(array([0., 2., 2., 4., 4., 5.]), array([0., 2., 2., 4., 4., 5.]))"
      ]
     },
     "execution_count": 89,
     "metadata": {},
     "output_type": "execute_result"
    }
   ],
   "source": [
    "np.around([.5, 1.5, 2.5, 3.5, 4.5, 4.7]) , np.round([.5, 1.5, 2.5, 3.5, 4.5, 4.7]) "
   ]
  },
  {
   "cell_type": "markdown",
   "metadata": {},
   "source": [
    "> both round/around are same functions"
   ]
  },
  {
   "cell_type": "raw",
   "metadata": {},
   "source": [
    "def round_(a, decimals=0, out=None):\n",
    "    \"\"\"\n",
    "    Round an array to the given number of decimals.\n",
    "    Refer to `around` for full documentation.\n",
    "    See Also\n",
    "    --------\n",
    "    around : equivalent function\n",
    "    \"\"\"\n",
    "    return around(a, decimals=decimals, out=out)"
   ]
  },
  {
   "cell_type": "markdown",
   "metadata": {},
   "source": [
    "`numpy.rint`\n",
    "\n",
    "- Round elements of the array to the nearest integer."
   ]
  },
  {
   "cell_type": "code",
   "execution_count": 91,
   "metadata": {},
   "outputs": [
    {
     "data": {
      "text/plain": [
       "array([-2., -2., -0.,  0.,  2.,  2.,  2.])"
      ]
     },
     "execution_count": 91,
     "metadata": {},
     "output_type": "execute_result"
    }
   ],
   "source": [
    "np.rint([-1.7, -1.5, -0.2, 0.2, 1.5, 1.7, 2.0])"
   ]
  },
  {
   "cell_type": "markdown",
   "metadata": {},
   "source": [
    "`numpy.fix`\n",
    "\n",
    "- Round an array of floats element-wise to nearest integer towards zero. The rounded values are returned as floats."
   ]
  },
  {
   "cell_type": "code",
   "execution_count": 95,
   "metadata": {},
   "outputs": [
    {
     "data": {
      "text/plain": [
       "(array([3., 3.]), array([3., 4.]))"
      ]
     },
     "execution_count": 95,
     "metadata": {},
     "output_type": "execute_result"
    }
   ],
   "source": [
    "np.fix([3.14, 3.7]), np.rint([3.14, 3.7])"
   ]
  },
  {
   "cell_type": "code",
   "execution_count": 96,
   "metadata": {},
   "outputs": [
    {
     "data": {
      "text/plain": [
       "(array([ 2.,  2., -2., -2.]), array([ 2.,  3., -2., -3.]))"
      ]
     },
     "execution_count": 96,
     "metadata": {},
     "output_type": "execute_result"
    }
   ],
   "source": [
    "np.fix([2.1, 2.9, -2.1, -2.9]), np.rint([2.1, 2.9, -2.1, -2.9])"
   ]
  },
  {
   "cell_type": "markdown",
   "metadata": {},
   "source": [
    "`numpy.floor`\n",
    "\n",
    "- Return the floor of the input, element-wise.\n",
    "\n",
    "- The floor of the scalar x is the largest integer i, such that i <= x. It is often denoted as $\\large \\lfloor x \\rfloor$."
   ]
  },
  {
   "cell_type": "code",
   "execution_count": 98,
   "metadata": {},
   "outputs": [
    {
     "data": {
      "text/plain": [
       "array([-2., -2., -1.,  0.,  1.,  1.,  1.,  2.])"
      ]
     },
     "execution_count": 98,
     "metadata": {},
     "output_type": "execute_result"
    }
   ],
   "source": [
    "a = np.array([-1.7, -1.5, -0.2, 0.2, 1.1, 1.5, 1.7, 2.0])\n",
    "np.floor(a)"
   ]
  },
  {
   "cell_type": "markdown",
   "metadata": {},
   "source": [
    "`numpy.ceil`\n",
    "\n",
    "- Return the `ceiling` of the input, element-wise.\n",
    "\n",
    "- The ceil of the scalar x is the smallest integer i, such that i >= x. It is often denoted as $\\lceil x \\rceil$."
   ]
  },
  {
   "cell_type": "code",
   "execution_count": 99,
   "metadata": {},
   "outputs": [
    {
     "data": {
      "text/plain": [
       "array([-1., -1., -0.,  1.,  2.,  2.,  2.])"
      ]
     },
     "execution_count": 99,
     "metadata": {},
     "output_type": "execute_result"
    }
   ],
   "source": [
    "a = np.array([-1.7, -1.5, -0.2, 0.2, 1.5, 1.7, 2.0])\n",
    "np.ceil(a)"
   ]
  },
  {
   "cell_type": "markdown",
   "metadata": {},
   "source": [
    "`numpy.trunc`\n",
    "\n",
    "- Return the `truncated` value of the input, element-wise.\n",
    "\n",
    "- The truncated value of the scalar x is the nearest integer i which is closer to zero than x is. In short, the `fractional part of the signed number x is discarded`."
   ]
  },
  {
   "cell_type": "code",
   "execution_count": 100,
   "metadata": {},
   "outputs": [
    {
     "data": {
      "text/plain": [
       "array([-1., -1., -0.,  0.,  1.,  1.,  2.])"
      ]
     },
     "execution_count": 100,
     "metadata": {},
     "output_type": "execute_result"
    }
   ],
   "source": [
    "a = np.array([-1.7, -1.5, -0.2, 0.2, 1.5, 1.7, 2.0])\n",
    "np.trunc(a)"
   ]
  },
  {
   "cell_type": "code",
   "execution_count": null,
   "metadata": {},
   "outputs": [],
   "source": []
  }
 ],
 "metadata": {
  "kernelspec": {
   "display_name": "Python 3 (ipykernel)",
   "language": "python",
   "name": "python3"
  },
  "language_info": {
   "codemirror_mode": {
    "name": "ipython",
    "version": 3
   },
   "file_extension": ".py",
   "mimetype": "text/x-python",
   "name": "python",
   "nbconvert_exporter": "python",
   "pygments_lexer": "ipython3",
   "version": "3.11.3"
  }
 },
 "nbformat": 4,
 "nbformat_minor": 4
}
