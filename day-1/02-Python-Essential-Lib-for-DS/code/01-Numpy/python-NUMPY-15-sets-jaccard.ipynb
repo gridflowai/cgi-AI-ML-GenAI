{
 "cells": [
  {
   "cell_type": "code",
   "execution_count": 2,
   "metadata": {},
   "outputs": [],
   "source": [
    "from IPython.display import Image"
   ]
  },
  {
   "cell_type": "markdown",
   "metadata": {},
   "source": [
    "--------------\n",
    "#### Set routines\n",
    "-----------------------\n",
    "\n",
    "A `set` is a collection of `unique values` on which we can perform various operations. \n",
    "\n",
    "The operation which we usually perform on sets is \n",
    "- union, \n",
    "- intersection and \n",
    "- difference operations. \n",
    "\n",
    "These operations help us in data manipulation and then this data we can use anywhere."
   ]
  },
  {
   "cell_type": "markdown",
   "metadata": {},
   "source": [
    "##### Creating Sets\n",
    "- In NumPy, we have a method with the help of which we can create a set that will help us in finding `unique values`. \n",
    "\n",
    "- This method is `unique()`. \n",
    "\n",
    "- When we are creating the set array, it should always be in one dimension only."
   ]
  },
  {
   "cell_type": "code",
   "execution_count": 1,
   "metadata": {},
   "outputs": [],
   "source": [
    "import numpy as np"
   ]
  },
  {
   "cell_type": "code",
   "execution_count": 2,
   "metadata": {},
   "outputs": [
    {
     "name": "stdout",
     "output_type": "stream",
     "text": [
      "[1 2 3 4 5]\n"
     ]
    }
   ],
   "source": [
    "my_arr = np.array([1,2,3,1,1,2,3,3,4,5,5,4,1,2,3])\n",
    "\n",
    "my_arr_set = np.unique(my_arr)\n",
    "\n",
    "print(my_arr_set)"
   ]
  },
  {
   "cell_type": "markdown",
   "metadata": {},
   "source": [
    "##### Finding Union\n",
    "\n",
    "- we use the `union1d()` method. we will be able to combine all the values of the two arrays we have given which are unique."
   ]
  },
  {
   "cell_type": "code",
   "execution_count": 3,
   "metadata": {},
   "outputs": [],
   "source": [
    "a=np.array([9,8,7,6,6])\n",
    "b=np.array([6,5,4,3])"
   ]
  },
  {
   "cell_type": "code",
   "execution_count": 4,
   "metadata": {},
   "outputs": [
    {
     "data": {
      "text/plain": [
       "array([3, 4, 5, 6, 7, 8, 9])"
      ]
     },
     "execution_count": 4,
     "metadata": {},
     "output_type": "execute_result"
    }
   ],
   "source": [
    "np.union1d(a,b)"
   ]
  },
  {
   "cell_type": "markdown",
   "metadata": {},
   "source": [
    "##### Finding Intersection\n",
    "\n",
    "- When we want to find `only common values` that present in both the array, we use the `intersection` method. \n",
    "\n",
    "- we use `intersect1d()` method."
   ]
  },
  {
   "cell_type": "code",
   "execution_count": 5,
   "metadata": {},
   "outputs": [
    {
     "name": "stdout",
     "output_type": "stream",
     "text": [
      "[3 6 6]\n"
     ]
    }
   ],
   "source": [
    "a=np.array([9,3,7,6,6])\n",
    "b=np.array([6,5,4,3])\n",
    "\n",
    "c=np.intersect1d(a,b,assume_unique=True)\n",
    "\n",
    "print(c)"
   ]
  },
  {
   "cell_type": "markdown",
   "metadata": {},
   "source": [
    "##### Finding Difference\n",
    "\n",
    "- In order to find the difference between the two sets, we use `setdiff1d()` the method. \n",
    "\n",
    "- In this, we will get value in the first set that is not present in the second set."
   ]
  },
  {
   "cell_type": "code",
   "execution_count": 6,
   "metadata": {},
   "outputs": [
    {
     "name": "stdout",
     "output_type": "stream",
     "text": [
      "[9 7]\n"
     ]
    }
   ],
   "source": [
    "a=np.array([9,3,7,6,6])\n",
    "b=np.array([6,5,4,3])\n",
    " \n",
    "c=np.setdiff1d(a,b,assume_unique=True)\n",
    "\n",
    "print(c)"
   ]
  },
  {
   "cell_type": "markdown",
   "metadata": {},
   "source": [
    "----------------------\n",
    "#### similarity between Sets - Using Jaccard Similarity\n",
    "---------------"
   ]
  },
  {
   "cell_type": "markdown",
   "metadata": {},
   "source": [
    "- The `Jaccard index`, also known as the `Jaccard similarity coefficient`, is a statistic used for gauging the `similarity` and `diversity` of sample sets. \n",
    "\n",
    "- It was developed by `Paul Jaccard`, originally giving the French name coefficient de communauté, and independently formulated again by T. Tanimoto. \n",
    "\n",
    "- The Jaccard coefficient measures similarity between finite sample sets, and is defined as the size of the intersection divided by the size of the union of the sample sets:\n",
    "\n",
    "$$ \\large J(A,B) = \\frac{\\left|A \\cap B\\right|}{\\left|A \\cup B\\right|}$$\n",
    "\n",
    "$$0 \\le J(A,B) \\le 1$$"
   ]
  },
  {
   "cell_type": "code",
   "execution_count": 15,
   "metadata": {},
   "outputs": [],
   "source": [
    "def jaccard(s1, s2):\n",
    "    \" takes two lists as input and returns Jaccard coefficient\"\n",
    "    st1=set(s1)\n",
    "    st2=set(s2)\n",
    "    \n",
    "    u = np.union1d(s1 ,s2)\n",
    "    \n",
    "    i = np.intersect1d(s1, s2)\n",
    "#     u = set(st1).union(st2)\n",
    "#     i = set(st1).intersection(st2)\n",
    "    \n",
    "    return len(i)/len(u)"
   ]
  },
  {
   "cell_type": "code",
   "execution_count": 16,
   "metadata": {},
   "outputs": [
    {
     "name": "stdout",
     "output_type": "stream",
     "text": [
      "input set :  [[1, 2, 3, 4], [2, 3, 5, 7], [2, 4, 6], [8, 9, 10, 11, 12]]\n"
     ]
    }
   ],
   "source": [
    "s = [];\n",
    "s.append([1,2,3,4])\n",
    "s.append([2,3,5,7])\n",
    "s.append([2,4,6])  \n",
    "s.append([8,9,10,11,12])\n",
    "\n",
    "print(\"input set : \", s)"
   ]
  },
  {
   "cell_type": "code",
   "execution_count": 17,
   "metadata": {},
   "outputs": [],
   "source": [
    "import itertools"
   ]
  },
  {
   "cell_type": "code",
   "execution_count": 18,
   "metadata": {},
   "outputs": [
    {
     "data": {
      "text/plain": [
       "[(0, 1), (0, 2), (0, 3), (1, 2), (1, 3), (2, 3)]"
      ]
     },
     "execution_count": 18,
     "metadata": {},
     "output_type": "execute_result"
    }
   ],
   "source": [
    "combinations = list( itertools.combinations([x for x in range(len(s))], 2) )\n",
    "combinations"
   ]
  },
  {
   "cell_type": "code",
   "execution_count": 24,
   "metadata": {},
   "outputs": [
    {
     "name": "stdout",
     "output_type": "stream",
     "text": [
      "(0, 1) -> [1, 2, 3, 4] [2, 3, 5, 7] : jaccard= 0.333333\n",
      "(0, 2) -> [1, 2, 3, 4] [2, 4, 6] : jaccard= 0.400000\n",
      "(0, 3) -> [1, 2, 3, 4] [8, 9, 10, 11, 12] : jaccard= 0.000000\n",
      "(1, 2) -> [2, 3, 5, 7] [2, 4, 6] : jaccard= 0.166667\n",
      "(1, 3) -> [2, 3, 5, 7] [8, 9, 10, 11, 12] : jaccard= 0.000000\n",
      "(2, 3) -> [2, 4, 6] [8, 9, 10, 11, 12] : jaccard= 0.000000\n"
     ]
    }
   ],
   "source": [
    "for c in combinations:\n",
    "        i1 = c[0]\n",
    "        i2 = c[1]\n",
    "        \n",
    "        jac = jaccard(s[i1], s[i2])\n",
    "        \n",
    "        print(\"{} -> {} {} : jaccard= {:f}\".format(c, s[i1], s[i2], jac))"
   ]
  },
  {
   "cell_type": "markdown",
   "metadata": {},
   "source": [
    "----------------\n",
    "#### w-shingling - for checking plagiarism\n",
    "-----------------\n",
    "\n",
    "- \"Suppose our document D is the string \"abcdabd\", and we pick k= 2. Then the set of 2-shingles for D is {ab,bc,cd,da,bd}. Note that the substring \"ab\" appears twice within D, but appears only once as a shingle.\"\n",
    "\n",
    "- We will use 3 documents, \n",
    "    - the first one is the original \n",
    "    - but the second one is the plagiarized the first one. \n",
    "    - The third one is an unrelated doc. \n",
    "\n",
    "- When we look at the result (Jaccard coefficient), clearly doc[0] and doc[1] are similar:"
   ]
  },
  {
   "cell_type": "code",
   "execution_count": 25,
   "metadata": {},
   "outputs": [],
   "source": [
    "import itertools\n",
    "\n",
    "def jaccard_set(s1, s2):\n",
    "    \" takes two lists as input and returns Jaccard coefficient\"\n",
    "    st1=set(s1)\n",
    "    st2=set(s2)\n",
    "    \n",
    "    u = np.union1d(s1 ,s2)\n",
    "    i = np.intersect1d(s1, s2)\n",
    "    \n",
    "#     u = set(st1).union(st2)\n",
    "#     i = set(st1).intersection(st2)\n",
    "    \n",
    "    return len(i)/len(u)"
   ]
  },
  {
   "cell_type": "code",
   "execution_count": 26,
   "metadata": {},
   "outputs": [],
   "source": [
    "documents = [\"The legal system is made up of civil courts, criminal courts and specialty courts such as family law courts and bankruptcy court. Each court has its own jurisdiction, which refers to the cases that the court is allowed to hear. In some instances, a case can only be heard in one type of court. For example, a bankruptcy case must be heard in a bankruptcy court. In other instances, there may be several potential courts with jurisdiction. For example, a federal criminal court and a state criminal court would each have jurisdiction over a crime that is a federal drug offense but that is also an offense on the state level.\",\n",
    "      \"The legal system is comprised of criminal and civil courts and specialty courts like bankruptcy and family law courts. Every one of the courts is vested with its own jurisdiction. Jurisdiction means the types of cases each court is permitted to rule on. Sometimes, only one type of court can hear a particular case. For instance, bankruptcy cases an be ruled on only in bankruptcy court. In other situations, it is possible for more than one court to have jurisdiction. For instance, both a state and federal criminal court could have authority over a criminal case that is illegal under federal and state drug laws.\",\n",
    "      \"In many jurisdictions the judicial branch has the power to change laws through the process of judicial review. Courts with judicial review power may annul the laws and rules of the state when it finds them incompatible with a higher norm, such as primary legislation, the provisions of the constitution or international law. Judges constitute a critical force for interpretation and implementation of a constitution, thus de facto in common law countries creating the body of constitutional law.\"]"
   ]
  },
  {
   "cell_type": "code",
   "execution_count": 27,
   "metadata": {},
   "outputs": [],
   "source": [
    "# shingle size\n",
    "k = 9"
   ]
  },
  {
   "cell_type": "code",
   "execution_count": 29,
   "metadata": {},
   "outputs": [
    {
     "name": "stdout",
     "output_type": "stream",
     "text": [
      "size= 542 {'r. In som', 'y courts ', 'urt. For ', ' case mus', 'law court', ' is allow', 'tential c', 'h have ju', 'potential', 'ourt. Eac', 'such as f', 'rime that', ' example,', ' which re', ' is also ', ' also an ', 'is a fede', 'ense but ', 'ral crimi', 'is allowe', 'the cases', 'he cases ', 'ses that ', 'crime tha', 'vil court', 's allowed', 'own juris', 'deral cri', 's, crimin', 'have juri', ' crime th', 'would eac', ' is made ', 'l court w', ' courts w', 'tion. For', 'type of c', ' state cr', ' In other', 'ial court', 'ard in on', 'cy court.', 'o hear. I', 'with juri', ' bankrupt', 'rt. For e', 'In other ', 'example, ', 'h as fami', 'o the cas', 'h refers ', 'system is', 'e, a bank', 'mily law ', 't. For ex', 'ourts wit', 'stances, ', ' offense ', 'ch court ', 'one type ', ' case can', 't would e', 'her insta', 'risdictio', 'e up of c', 'al system', ' must be ', ' instance', ' to hear.', 'ourt is a', 'minal cou', 'd in one ', 'ample, a ', 'd in a ba', 'a crime t', 'f court. ', 'fers to t', 'ay be sev', 'ave juris', 'd bankrup', 'ourt woul', ' specialt', 'a bankrup', ' own juri', 'on over a', 'al crimin', 'on. For e', 'iminal co', 'mple, a b', '. For exa', 'e jurisdi', 'xample, a', 'f civil c', ' and bank', 'y court. ', ' family l', 'courts, c', 'at is a f', 'ed to hea', 'to hear. ', ' such as ', 'inal cour', 'eral drug', 'and a sta', 'urt. In o', 'urt has i', 't has its', 'ourt. In ', 'tate leve', 'urts such', 't is also', 'aw courts', 'courts an', 'ts own ju', 'to the ca', ' courts, ', ' other in', 'rt is all', 'in a bank', 'ade up of', 'd a state', 'tate crim', 'nd bankru', ' jurisdic', 'courts su', 'hat is al', 'er a crim', 'ard in a ', 'there may', 'l crimina', 'ederal dr', ' a state ', ' refers t', 'otential ', 'court. Ea', 'fense on ', 's and ban', 'rts, crim', 'y law cou', ' allowed ', 'tion, whi', ' some ins', ' the stat', 'ere may b', 'ers to th', 'refers to', ' court wo', 'allowed t', ' the cour', 'nces, a c', 'isdiction', 'court is ', ' one type', 'hear. In ', 'nces, the', ' can only', 'ffense bu', 'In some i', 'kruptcy c', 'uch as fa', 'e court i', 'al courts', 'nkruptcy ', 'er instan', 'n over a ', 't is allo', 'amily law', 'must be h', 'other ins', ' a case c', 'ty courts', 'court. Fo', 'bankruptc', 'that is a', 'ruptcy co', 'tances, a', 't. In oth', ' court. E', 'ction. Fo', 'r example', 'wed to he', 'p of civi', 'ction, wh', 'lty court', 's such as', 'ourt. For', 'd to hear', 'and bankr', 'eard in o', 'e may be ', ' in one t', 'rt and a ', 'iction, w', 'the court', 'h jurisdi', 'ntial cou', 'tion over', ' cases th', 'ar. In so', 'sdiction ', '. In some', 'g offense', ' over a c', 'ion, whic', ', a bankr', 'made up o', 't. Each c', 'e state l', ' to the c', 'r a crime', ' a bankru', 'ts such a', 'riminal c', 'nal court', 'r instanc', 'rts and s', 'state cri', 'and speci', 'de up of ', 've jurisd', 'offense b', 's to the ', ' its own ', 'ver a cri', 'fense but', 'ase must ', 'rts and b', ' legal sy', 'n some in', 'ourt and ', 'ase can o', ' with jur', 'l courts ', 'tial cour', 'w courts ', 'nd specia', ', crimina', 'deral dru', 'ich refer', 'at the co', 'diction o', 'ivil cour', 's, there ', 'urt and a', 'a case ca', 'se can on', 'rt has it', 'rt would ', 'egal syst', 'up of civ', 'rd in a b', 'pecialty ', ' made up ', 's a feder', 'heard in ', 'criminal ', 'al potent', 'e can onl', 'ime that ', 'se on the', 'urts, cri', 't and a s', 'ts with j', 'which ref', 'also an o', 'ourt has ', 'e cases t', ', a feder', 'se must b', 'n a bankr', ' For exam', 'th jurisd', 'cases tha', ', which r', 'e of cour', 'ases that', 'ype of co', 'ion. For ', ' up of ci', 'm is made', 's that th', 'case must', 'se but th', 'or exampl', 'il courts', 'specialty', ', a case ', 'on, which', 'so an off', 'ly be hea', ' potentia', 'es, there', 'ces, a ca', 'be severa', ' several ', 'ust be he', 's own jur', 'ach have ', ' criminal', 'urts and ', 'he court ', 'over a cr', 'n other i', ' a federa', ' type of ', 'ion over ', ' and spec', 're may be', 'rt. In ot', 's, a case', 's also an', ' court ha', 'nse but t', ' in a ban', 's made up', 'tcy case ', 'only be h', 'n the sta', ' federal ', 'e that is', 'te crimin', 'le, a fed', ' courts a', 'eral crim', 'e legal s', 'al drug o', 'ple, a ba', 'that the ', 'ruptcy ca', 'alty cour', 'The legal', 'ances, a ', 'lso an of', 'tcy court', 'ach court', 'gal syste', 'ialty cou', 'e instanc', ' court an', ' as famil', 'rt. Each ', 'lowed to ', 'o an offe', ' on the s', 'its own j', 't is a fe', 'e, a fede', 'ts and ba', ' that the', 'n one typ', 't that is', 'ch have j', 'an offens', 'instances', 'ystem is ', ' court. I', ' be sever', ' of court', 'iction ov', 's family ', 'court and', 'pe of cou', ' court is', 'ly law co', 'mple, a f', 'has its o', 't be hear', 'ptcy case', 'ential co', ' there ma', 'case can ', 'diction. ', 'ces, ther', 'Each cour', 'diction, ', 'y be seve', ' court. F', 'urt. Each', ' an offen', 'ate level', 'court has', 'federal d', 'family la', 'as family', ' the case', 'y case mu', 'ederal cr', 'n only be', 'hat the c', 'me that i', 'court wou', 'sdiction,', 'urisdicti', ' but that', ' has its ', 'al court ', ' may be s', 'h court h', 'le, a ban', ' courts s', 'urt would', 'e on the ', 'l system ', ' civil co', 'can only ', 'l drug of', 'wn jurisd', '. In othe', 'ense on t', 'stem is m', ' that is ', ' hear. In', 'a state c', 'rts with ', 'ily law c', 'ple, a fe', 'here may ', 'nd a stat', 'rs to the', 'at is als', 'he legal ', ', there m', 'uld each ', 'in one ty', 't the cou', 'ome insta', 'e must be', 'y be hear', 'llowed to', 'em is mad', 'as its ow', 'l court a', 'ral drug ', ' is a fed', 'jurisdict', 'n jurisdi', 'l potenti', 'a federal', 'ith juris', 'ear. In s', ' law cour', 'n. For ex', 'of civil ', 'he state ', 'nstances,', 'e crimina', 'is also a', 's with ju', 'ptcy cour', 'ourts and', 'ch refers', 'e heard i', 'but that ', 's its own', 'ther inst', ' In some ', 'ecialty c', ' of civil', 'ction ove', ' be heard', 'uptcy cou', 'veral pot', 'offense o', 'eard in a', 'cy case m', 'everal po', 'several p', 'e several', 'urts with', ' and a st', 'drug offe', 'es that t', 'ances, th', 'of court.', 'state lev', 'legal sys', 'rts such ', 'tances, t', 'l courts,', 'For examp', 'courts wi', 'ug offens', 'an only b', ' Each cou', 'rd in one', ' state le', 'ate crimi', 'd special', 'ts, crimi', 'n offense', 'n, which ', ' have jur', ' a crime ', ' would ea', 'ould each', 'rug offen', 'ffense on', 'ral poten', 'may be se', ' heard in', 'hat is a ', ' each hav', 'be heard ', 'ch as fam', 'st be hea', 'the state', 'uptcy cas', ' drug off', 'iction. F', '. Each co', 'ld each h', 'd each ha', 'civil cou', 'e but tha', 'me instan', 'ts and sp', 'nly be he', ' only be ', 'cialty co', 'sdiction.', 'ut that i', 'on the st', 'is made u', 'nse on th', 'ourts, cr', 'owed to h', 'eral pote', 'ankruptcy', 'court. In', 'efers to ', 'es, a cas', 's and spe', 'ourts suc', 'tem is ma', 'ne type o', 'hich refe', 'some inst', 'urt is al', 'each have', 'federal c', 'e type of', ' system i'}\n",
      "size= 573 {'tate drug', 'ar case. ', ' case. Fo', 'y courts ', 'law court', 's illegal', ' courts i', 'ase that ', 'like bank', 'nly in ba', 'icular ca', 's like ba', ' only in ', 're than o', 'n bankrup', 'ed on onl', 'mprised o', 'nd family', 'oth a sta', 'of crimin', 'authority', 's possibl', 'ral crimi', 'ses an be', ' both a s', 'd federal', 'ns the ty', 'mitted to', 'vil court', 'own juris', ' one of t', 'deral cri', 'prised of', 'have juri', 'cular cas', ' court to', 'case. For', 'the types', 'ations, i', 'tion. For', 'type of c', ' Sometime', ' In other', 'on. Juris', 'cy court.', ' other si', 'sible for', '. Jurisdi', 'ery one o', ' bankrupt', 'In other ', 'ted with ', 'd family ', 'an one co', 'ases an b', 'system is', 'and state', 'tcy and f', 'mily law ', 'more than', 'se that i', 'ch court ', 'tcy cases', 'one type ', ' have aut', 'nder fede', 'es an be ', ' state an', 's permitt', 'ourt is p', 'an be rul', 'under fed', 'eral and ', 'her situa', 'd civil c', ' Every on', 'an hear a', 'r a crimi', 'risdictio', 'For insta', 'der feder', 'al system', 'courts. E', ' rule on.', ' instance', 'minal cou', 'etimes, o', 'nce, bank', 'cases eac', 'ses each ', 'ave juris', 'times, on', 'vested wi', ' specialt', 'types of ', 'y over a ', 'or more t', 'and feder', ' own juri', 'iminal an', 'al crimin', 'iminal co', 'e jurisdi', ' For inst', 'inal and ', 'y court. ', 'al under ', '. Sometim', ' family l', 'e ruled o', 'tate and ', 'ore than ', 'to have j', 'inal cour', 'urt. In o', 'ested wit', 'ike bankr', ' Jurisdic', 'ourt. In ', 'of the co', 'ance, bot', 'aw courts', 'courts an', ' permitte', 'h a state', 'w courts.', 'ts own ju', 'ry one of', 'court can', 'ticular c', 'that is i', 'm is comp', ' jurisdic', 'instance,', 'rmitted t', 'er a crim', 'y one typ', 'sted with', 'rts is ve', 'em is com', 's vested ', ' the type', 'l crimina', 'd state d', ' a state ', 'h its own', 'te drug l', 'ly one ty', 'ther situ', 'y cases a', 'd on only', 'ts like b', 'y law cou', ' drug law', 'r case. F', 'he courts', 'rised of ', 'e authori', 'e for mor', 'and civil', 'nd federa', 'only in b', 'one of th', 'particula', ' and civi', 'tance, ba', 'case that', 'federal a', 't can hea', ' the cour', 'isdiction', ' hear a p', 'court is ', 'cy cases ', ' one type', 'es each c', 'ral and s', 'thority o', 'kruptcy c', 'd with it', 'nkruptcy ', 'minal and', 'kruptcy a', 'r situati', 'ruptcy an', 'amily law', 'courts li', ' court co', ' particul', 'ty courts', 'ts is ves', 'bankruptc', 'other sit', 'ular case', 'ruptcy co', 'ans the t', 't. In oth', '. For ins', 'ction. Fo', 'a crimina', ' be ruled', 'se. For i', 'than one ', 'rt can he', 'lty court', ' can hear', 'articular', 'state and', 'rule on. ', ' and fede', 'the court', 's, it is ', 'ions, it ', 'nd civil ', 'ed to rul', 'e types o', 'sdiction ', 's of case', 'ce, bankr', 'n. For in', 'is illega', 'ptcy and ', ' over a c', ' for more', 'te and fe', 'minal cas', 'one court', 'ne of the', 'riminal c', 'tance, bo', 'n hear a ', 'r instanc', 'nal court', 'ear a par', 'l and sta', 'on. Somet', 'uled on o', 'on only i', 'rts and s', ' possible', 't is poss', 'court cou', 'and speci', 've jurisd', 'tuations,', 'nal and c', 'rt could ', 'ority ove', ' its own ', ', only on', 'ised of c', 'ly in ban', 'ver a cri', ' legal sy', 'lar case.', ' courts. ', 'court to ', 'ed with i', 'e courts ', 'n one cou', 'l courts ', 't is perm', 'nd specia', 'ivil cour', 'uations, ', 'y in bank', 's compris', 'egal syst', ' is permi', ' to have ', 'pecialty ', 'a particu', 'ce, both ', 'n means t', 'ne court ', 'al case t', ' a crimin', 'criminal ', 'e and fed', 'metimes, ', 'ruled on ', 'for more ', 'ts. Every', 'iction me', 'ion. Juri', 'and famil', 'r federal', 'hority ov', 'e of cour', 'ase. For ', 'nstance, ', 't is ille', ' comprise', 'ourts lik', 'sed of cr', 'ype of co', 'ar a part', 'ion. For ', ', bankrup', 'ourts. Ev', 'he types ', 'al and ci', 'e court t', 'il courts', 'ederal an', 'gal under', 'al and st', 'specialty', 'deral and', 'n only in', 'ld have a', 'ke bankru', 'state dru', 'n other s', 'cases an ', 'ave autho', ' vested w', 'illegal u', 's own jur', 'urt to ha', 'ule on. S', ' criminal', 'urts and ', 'ypes of c', 'over a cr', ' is possi', ' than one', 's the typ', 'is compri', ' type of ', ' and spec', 'tem is co', 'l case th', 'rts. Ever', 'rt. In ot', 'ould have', 'nd state ', 'f cases e', 'it is pos', ' to rule ', ' federal ', 'e that is', 'legal und', 'er situat', ' in bankr', ' courts a', 'situation', 'eral crim', 'e legal s', 'ty over a', ' courts l', '. Every o', ' more tha', 'ossible f', 'le for mo', 'on means ', 'ruptcy ca', 'r a parti', 'alty cour', 'The legal', 'e, bankru', ' could ha', 'be ruled ', 'means the', 's, only o', 'tcy court', 'ach court', 'gal syste', 's an be r', 'ialty cou', 'or instan', 'ed of cri', 'ion means', 'd of crim', 'e bankrup', 'its own j', ' cases ea', ' and stat', 'is possib', 'ted to ru', 'uld have ', 'ystem is ', ' court. I', ' only one', 'e, both a', 'f court c', 'urts like', ' of court', 'han one c', 'es, only ', 'pe of cou', ' court is', 'ly law co', 'rity over', 'urts. Eve', 'ptcy case', 'diction. ', 'ermitted ', 'of court ', 'is permit', 'at is ill', ' of crimi', 'family la', ' is illeg', 'e drug la', ' it is po', 'n. Someti', 'ourt to h', 'h court i', 'th a stat', 'ederal cr', 'iction. J', ' a partic', 'drug laws', 'urisdicti', 'rticular ', 'tions, it', 'uthority ', 'courts is', 'diction m', 'al court ', 'uptcy and', 's is vest', 'ourt can ', 'of cases ', 'es of cas', 'llegal un', 'n be rule', 'l system ', 'comprised', 'ases each', 'tion. Jur', 'ourt coul', 'could hav', ' on only ', ' civil co', 'e than on', 'ourts is ', 'ity over ', ' authorit', 'wn jurisd', '. In othe', 'ith its o', 'l under f', 'have auth', ' on. Some', ' that is ', ' each cou', 'hat is il', 'ily law c', ' of cases', 'ction. Ju', 'Sometimes', 'he legal ', ' situatio', 'y and fam', 'nly one t', 'eans the ', 'Every one', ' is compr', 'hear a pa', ' cases an', 'ate drug ', 'jurisdict', 'e. For in', 'with its ', 'n jurisdi', 's each co', ', both a ', 'urts is v', 'd have au', ' law cour', 'ons, it i', 'ns, it is', 't to have', ' under fe', 'ptcy cour', 'ourts and', ' case tha', 'o rule on', 'ble for m', 'imes, onl', ' like ban', 'ate and f', ' court ca', 'can hear ', 'l court c', 'ecialty c', 'l and civ', ' is veste', 've author', 'is vested', ' with its', 'e on. Som', 'th its ow', 'ible for ', 'uptcy cou', ' of the c', 'nal case ', 'riminal a', 'Jurisdict', 'ometimes,', 'led on on', 'cy and fa', 'legal sys', 'y one of ', 'o have ju', 'nce, both', 'omprised ', ' types of', ' one cour', 'ituations', 'urt can h', ' an be ru', 'egal unde', 'n. Jurisd', 'possible ', 'le on. So', 'd special', 'mes, only', 'rt to hav', ' state dr', 'e of the ', ' have jur', 'each cour', 'tted to r', 'ssible fo', ' illegal ', 'rts like ', 'ction mea', 'uptcy cas', ' means th', 'iction. F', 'stance, b', 's. Every ', 'ance, ban', 'd to rule', 'er federa', 'civil cou', 'urt is pe', 'very one ', 'ts and sp', 'cialty co', 'sdiction.', 'a state a', 'rt is per', ' ruled on', 'to rule o', 'ankruptcy', 'court. In', 't could h', 'itted to ', ', it is p', 's and spe', 'inal case', 'ne type o', 'both a st', 'in bankru', 'tion mean', 'urt could', 'permitted', ' and fami', 'federal c', 'e type of', 'only one ', 'f crimina', ' system i', 'on. For i', 'stem is c', 'pes of ca', 'f the cou', 'iminal ca', 'r more th'}\n",
      "size= 461 {'ocess of ', 'ncompatib', 'ommon law', 'ons the j', 'cal force', 'dicial br', 'al review', 'ny jurisd', 'titute a ', 'lementati', 'n or inte', 'le with a', 'reating t', 'gislation', 'view powe', ' and rule', 'slation, ', 'state whe', 'of the st', 'ary legis', '. Judges ', 'itution o', 'l force f', 'many juri', 'ranch has', 'or interp', 'nal law. ', ' Judges c', ' implemen', ' critical', 'al force ', 'creating ', 'ss of jud', 'w. Judges', ' review p', 'ourts wit', 'ing the b', ' with a h', 'uch as pr', 'entation ', 'when it f', 'national ', 'pretation', 'e facto i', 'ions the ', 'l branch ', 'e with a ', 'h has the', ' de facto', 'terpretat', 'rocess of', 'tion, the', 'itical fo', 'risdictio', 'r to chan', ' to chang', 'ry legisl', 'tate when', 'ds them i', 's creatin', 'icial bra', 'hrough th', ', such as', 'internati', 'ompatible', ' power to', 'eview. Co', 'through t', 'retation ', ' interpre', 'ble with ', 'ges const', 'he consti', 'onstituti', 's the jud', 'wer to ch', 'er may an', 'cial revi', ' such as ', 'ution, th', 'stitute a', 'her norm,', 'ith judic', 'the laws ', 'onal law.', ' the cons', 'rimary le', 'nternatio', 'e power t', 'aws throu', 'of the co', ' for inte', 'titution ', 'sions of ', 'ons of th', ' body of ', 'igher nor', 'sdictions', ' internat', 'r norm, s', 'acto in c', 't finds t', 'rm, such ', 'nd implem', 'as the po', 'eview pow', ' jurisdic', 'hem incom', 'Judges co', 's of judi', ' judicial', 'isions of', 'l review ', 'compatibl', 'ation, th', 'norm, suc', 'n law cou', 'ritical f', 'h judicia', 'he judici', 'review. C', 'review po', ' provisio', ' the stat', 'for inter', 'dges cons', 'f constit', 'g the bod', ' in commo', 'aw countr', 'isdiction', 'power may', ' power ma', 'tation of', ' or inter', 'egislatio', 'n, thus d', 'primary l', 'orce for ', 'tute a cr', 'e constit', 'it finds ', 'mary legi', ' it finds', 'he power ', 'of judici', ' the judi', 'tution or', ' force fo', 'body of c', 'l the law', 'the provi', 'process o', ' constitu', 'y jurisdi', 'ws throug', 'nnul the ', 'er to cha', 'lation, t', 'the judic', 'tutional ', 'dicial re', ' primary ', ' the powe', 'o change ', ' a critic', 'nge laws ', 'ible with', ' change l', 'd impleme', 'ion or in', 'iew power', 'e state w', 'tion, thu', 'al branch', 'ical forc', 'e a criti', ' laws and', ' many jur', 'laws thro', 'rough the', 's primary', 'te when i', 'udges con', 'e provisi', 'atible wi', 's through', 'constitut', 'ange laws', 'ation and', ' of the s', ' thus de ', 'with judi', ' review. ', ' state wh', ' countrie', 'ementatio', 'n and imp', ' and impl', 'implement', ' process ', ' law coun', 'ation of ', 'them inco', 'y annul t', 's of the ', ' the proc', 'ce for in', 'on of a c', 'on law co', 'al law. J', 'n many ju', 'ts with j', 'f judicia', 'n of a co', 'tible wit', 's constit', ' rules of', 'ules of t', 'power to ', 'f the sta', 'h a highe', 'e for int', 'nul the l', ' the laws', 'titutiona', 'dictions ', 'erpretati', '. Courts ', 'mmon law ', 'cess of j', 'ith a hig', 'ernationa', 'y of cons', 'aws and r', 'w. Courts', 'aw. Judge', 'f a const', 'the body ', 'utional l', 'er norm, ', 'rules of ', 'titution,', 'tation an', 'annul the', 'ugh the p', 'common la', 'es of the', 'r may ann', 'te a crit', 'judicial ', 'r interpr', 'Courts wi', 'ns the ju', 'tion and ', ' norm, su', ' as prima', 'stitution', 'interpret', 'h as prim', 'ternation', ' creating', 'he laws a', 'has the p', 'mpatible ', 'law. Judg', 'ational l', ' law. Jud', 'hen it fi', 'nds them ', ' finds th', 'of consti', 'ntation o', 'incompati', 'w power m', 'iew. Cour', 'on, thus ', 'ion of a ', 's the pow', 'cto in co', 'may annul', 'rnational', 'plementat', 'ng the bo', 'ial revie', 'laws and ', 'itute a c', 'mentation', 'es consti', 'tional la', 'n, the pr', ' a higher', 'ies creat', 'ess of ju', 'visions o', ' of judic', 'f the con', 'islation,', ' the prov', 'mplementa', 'wer may a', ' them inc', 'nterpreta', 'ional law', 'provision', 'and imple', 'tions the', 'orm, such', 'ough the ', 'urisdicti', 'tical for', 'ate when ', 'ge laws t', 'ul the la', ' common l', 'ower may ', 'thus de f', 'ries crea', ' Courts w', 'h the pro', 'ictions t', 'hange law', ', thus de', 'ay annul ', 'critical ', 'rovisions', 'ew. Court', ' of const', 'view. Cou', ' has the ', 'ions of t', 'tion or i', 'untries c', 'tries cre', 'ew power ', 'e when it', 'legislati', 'rts with ', 'nstitute ', ' may annu', 'onstitute', 'ody of co', 'he proces', 'th a high', 'de facto ', 'dy of con', 'cial bran', 'ch has th', 'ch as pri', 'ctions th', 'a critica', 'em incomp', 'tution, t', 'ting the ', 'jurisdict', 'y legisla', 'the power', 'ion, the ', 'e laws th', 'itution, ', 'ower to c', 'a higher ', 'the const', 'or intern', 'he state ', 'udicial r', ' incompat', 's with ju', 'finds the', 'as primar', 'nstitutio', 'higher no', 'r interna', 'change la', 's and rul', 's them in', 'tion of a', 'w countri', ' when it ', 'l law. Ju', 'patible w', 'gher norm', 'e judicia', 'and rules', ', the pro', ' of the c', 'to change', ' the body', 'us de fac', ' laws thr', 'to in com', ' through ', ' facto in', 'hus de fa', 'mon law c', 'les of th', 'urts with', 'itutional', 'es creati', 'n it find', 'l review.', 'd rules o', 'nd rules ', 'etation a', 'any juris', 'eating th', 'ovisions ', 'the proce', 'such as p', 'nch has t', 'law count', 'ial branc', 'anch has ', 'm incompa', 'ute a cri', ' branch h', 'e laws an', 'the state', 'ws and ru', 'he provis', 'gh the pr', 'udicial b', 'e body of', 'facto in ', ' with jud', ' legislat', 'ns of the', 'ion, thus', ' of a con', 'countries', 'of a cons', 'in common', 'a constit', 'ntries cr', 'n common ', 'rpretatio', ' a consti', 'ution or ', 'on or int', 'imary leg', 'on and im', 'ountries ', ' higher n', 'ating the', 'th judici', 'm, such a', 'force for', 'en it fin', 's de fact', 'icial rev', 'rce for i', 'with a hi', 'In many j', 'inds them', ' annul th', 'on, the p', 'o in comm', 'he body o', 'ion and i', 'branch ha', 'e process'}\n"
     ]
    }
   ],
   "source": [
    "shingles = []\n",
    "\n",
    "for doc in documents:\n",
    "    sh   = set()\n",
    "    size = len(doc)\n",
    "    \n",
    "    for i in range(size-k):\n",
    "        sh.add(doc[i:i+k])\n",
    "        \n",
    "    print(\"size= {} {}\".format(len(sh), sh))\n",
    "    shingles.append(sh)"
   ]
  },
  {
   "cell_type": "code",
   "execution_count": 31,
   "metadata": {},
   "outputs": [
    {
     "name": "stdout",
     "output_type": "stream",
     "text": [
      "combinations=s [(0, 1), (0, 2), (1, 2)]\n"
     ]
    }
   ],
   "source": [
    "combinations = list( itertools.combinations([x for x in range(len(shingles))], 2) )\n",
    "\n",
    "print(\"combinations=s\",combinations)"
   ]
  },
  {
   "cell_type": "code",
   "execution_count": null,
   "metadata": {},
   "outputs": [],
   "source": [
    "# combinations of shingles(=numbe of docs)\n",
    "    for c in combinations:\n",
    "        i1 = c[0]\n",
    "        i2 = c[1]\n",
    "        jac = jaccard_set(shingles[i1], shingles[i2])\n",
    "        print(\"%s : jaccard=%s\") %(c,jac)"
   ]
  },
  {
   "cell_type": "code",
   "execution_count": 32,
   "metadata": {},
   "outputs": [
    {
     "name": "stdout",
     "output_type": "stream",
     "text": [
      "(0, 1) -> [1, 2, 3, 4] [2, 3, 5, 7] : jaccard= 0.333333\n",
      "(0, 2) -> [1, 2, 3, 4] [2, 4, 6] : jaccard= 0.400000\n",
      "(1, 2) -> [2, 3, 5, 7] [2, 4, 6] : jaccard= 0.166667\n"
     ]
    }
   ],
   "source": [
    "for c in combinations:\n",
    "        i1 = c[0]\n",
    "        i2 = c[1]\n",
    "        \n",
    "        jac = jaccard(s[i1], s[i2])\n",
    "        \n",
    "        print(\"{} -> {} {} : jaccard= {:f}\".format(c, s[i1], s[i2], jac))"
   ]
  },
  {
   "cell_type": "markdown",
   "metadata": {},
   "source": [
    "Selecting appropriate k is not easy. If we use k=5 instead of k=9, we get different result:\n",
    "\n",
    "we can see the `last document is not similar to the first two docs` while the `first` and the `second` one appear to have some `similarities`."
   ]
  },
  {
   "cell_type": "code",
   "execution_count": null,
   "metadata": {},
   "outputs": [],
   "source": []
  }
 ],
 "metadata": {
  "kernelspec": {
   "display_name": "Python 3",
   "language": "python",
   "name": "python3"
  },
  "language_info": {
   "codemirror_mode": {
    "name": "ipython",
    "version": 3
   },
   "file_extension": ".py",
   "mimetype": "text/x-python",
   "name": "python",
   "nbconvert_exporter": "python",
   "pygments_lexer": "ipython3",
   "version": "3.7.6"
  }
 },
 "nbformat": 4,
 "nbformat_minor": 4
}
