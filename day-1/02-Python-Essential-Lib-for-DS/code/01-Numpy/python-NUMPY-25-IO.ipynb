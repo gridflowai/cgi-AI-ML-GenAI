{
 "cells": [
  {
   "cell_type": "markdown",
   "id": "59866015",
   "metadata": {},
   "source": [
    "------------\n",
    "#### reading files into numpy\n",
    "--------------"
   ]
  },
  {
   "cell_type": "markdown",
   "id": "712930e0",
   "metadata": {},
   "source": [
    "- Scientific data can come in a variety of file formats and types. - - import data into numpy arrays from two commonly used text file formats for scientific data:\n",
    "\n",
    "    - Plain text files (.txt)\n",
    "    - Comma-separated values files (.csv)\n",
    "    \n",
    "- `Plain Text Files`\n",
    "    - Plain text files simply list out the values on separate lines without any symbols or delimiters to indicate separate values.\n",
    "\n",
    "    - For example, average monthly precipitation (inches) for Boulder, CO, collected by the U.S. National Oceanic and Atmospheric Administration (NOAA), can be stored as a plain text file (.txt), with a separate line for each month’s value."
   ]
  },
  {
   "cell_type": "code",
   "execution_count": 4,
   "id": "3d45aa39",
   "metadata": {},
   "outputs": [],
   "source": [
    "import numpy as np"
   ]
  },
  {
   "cell_type": "raw",
   "id": "4f8bf966",
   "metadata": {},
   "source": [
    "0.70\n",
    "0.75\n",
    "1.85\n",
    "2.93\n",
    "3.05\n",
    "2.02\n",
    "1.93\n",
    "1.62\n",
    "1.84\n",
    "1.31\n",
    "1.39\n",
    "0.84"
   ]
  },
  {
   "cell_type": "markdown",
   "id": "4f540860",
   "metadata": {},
   "source": [
    "- `CSV Files`\n",
    "    - Unlike plain-text files which simply list out the values on separate lines without any symbols or delimiters, files containing comma-separated values (.csv) use commas (or some other delimiter like tab spaces or semi-colons) to indicate separate values.\n",
    "\n",
    "    - This means that .csv files can easily support multiple rows and columns of related data.\n",
    "\n",
    "For example, the monthly precipitation values for Boulder, CO for the years 2002 and 2013 can be stored together in a comma-separated values (.csv) file, with each year of data on a separate line and each month of data within a specific year separated by commas:\n",
    "\n",
    "1.07, 0.44, 1.50, 0.20, 3.20, 1.18, 0.09, 1.44, 1.52, 2.44, 0.78, 0.02\n",
    "\n",
    "0.27, 1.13, 1.72, 4.14, 2.66, 0.61, 1.03, 1.40, 18.16, 2.24, 0.29, 0.5"
   ]
  },
  {
   "cell_type": "code",
   "execution_count": 5,
   "id": "720e8fc4",
   "metadata": {},
   "outputs": [],
   "source": [
    "from io import StringIO"
   ]
  },
  {
   "cell_type": "markdown",
   "id": "e2939c01",
   "metadata": {},
   "source": [
    "- The `StringIO` module is an in-memory file-like object. \n",
    "\n",
    "- This object can be used as input or output to the most function that would expect a standard file object. \n",
    "\n",
    "- When the StringIO object is created it is initialized by passing a string to the constructer. \n",
    "\n",
    "- If no string is passed the StringIO will start empty. In both cases, the initial cursor on the file starts at zero."
   ]
  },
  {
   "cell_type": "markdown",
   "id": "f8d57c5b",
   "metadata": {},
   "source": [
    "#### Example"
   ]
  },
  {
   "cell_type": "code",
   "execution_count": 162,
   "id": "1ee1587b",
   "metadata": {},
   "outputs": [
    {
     "data": {
      "text/plain": [
       "array([(1., 2., 3.), (4., 5., 6.)],\n",
       "      dtype=[('A', '<f8'), ('B', '<f8'), ('C', '<f8')])"
      ]
     },
     "execution_count": 162,
     "metadata": {},
     "output_type": "execute_result"
    }
   ],
   "source": [
    "x = StringIO(\"1 2 3\\n 4 5 6\")\n",
    "\n",
    "x_arr = np.genfromtxt(x, names=\"A, B, C\")\n",
    "x_arr"
   ]
  },
  {
   "cell_type": "code",
   "execution_count": 161,
   "id": "2cec210d",
   "metadata": {},
   "outputs": [
    {
     "data": {
      "text/plain": [
       "(array([1., 4.]), array([2., 5.]))"
      ]
     },
     "execution_count": 161,
     "metadata": {},
     "output_type": "execute_result"
    }
   ],
   "source": [
    "x_arr['A'], x_arr['B'], "
   ]
  },
  {
   "cell_type": "markdown",
   "id": "c2c205ea",
   "metadata": {},
   "source": [
    "#### another example ..."
   ]
  },
  {
   "cell_type": "code",
   "execution_count": 79,
   "id": "73abf744",
   "metadata": {},
   "outputs": [],
   "source": [
    "names = ['John', 'David', 'Camel', 'Sia', 'Rakesh']"
   ]
  },
  {
   "cell_type": "code",
   "execution_count": 91,
   "id": "be2bc2e1",
   "metadata": {},
   "outputs": [],
   "source": [
    "out = StringIO()"
   ]
  },
  {
   "cell_type": "code",
   "execution_count": 92,
   "id": "7cdb2737",
   "metadata": {},
   "outputs": [],
   "source": [
    "# Print these string values in a loop.\n",
    "for i in range(0, 5):\n",
    "    out.write(str(i))\n",
    "    str_to_write = ' My name is : '+ names[i]+'\\n '\n",
    "    out.write(str_to_write)"
   ]
  },
  {
   "cell_type": "code",
   "execution_count": 93,
   "id": "0b21e602",
   "metadata": {},
   "outputs": [
    {
     "data": {
      "text/plain": [
       "'0 My name is : John\\n 1 My name is : David\\n 2 My name is : Camel\\n 3 My name is : Sia\\n 4 My name is : Rakesh\\n '"
      ]
     },
     "execution_count": 93,
     "metadata": {},
     "output_type": "execute_result"
    }
   ],
   "source": [
    "out.getvalue()"
   ]
  },
  {
   "cell_type": "code",
   "execution_count": 89,
   "id": "e9680b3e",
   "metadata": {},
   "outputs": [],
   "source": [
    "out.close()"
   ]
  },
  {
   "cell_type": "markdown",
   "id": "6b8b1319",
   "metadata": {},
   "source": [
    "#### Another Example"
   ]
  },
  {
   "cell_type": "code",
   "execution_count": 164,
   "id": "8c5cbe3f",
   "metadata": {},
   "outputs": [],
   "source": [
    "location = r'D:\\MYLEARN\\DATASETS\\crime_data.csv'"
   ]
  },
  {
   "cell_type": "markdown",
   "id": "0a7db348",
   "metadata": {},
   "source": [
    "sample data (below)"
   ]
  },
  {
   "cell_type": "raw",
   "id": "3079fe0a",
   "metadata": {},
   "source": [
    "area,Murder,Assault,UrbanPop,other_crime\n",
    "Alabama,4,13.2,236,58,21.2\n",
    "Alaska,4,10,263,48,44.5\n",
    "Arizona,4,8.1,294,80,31\n",
    "Arkansas,3,8.8,190,50,19.5\n",
    "California,4,9,276,91,40.6\n",
    "Colorado,3,7.9,204,78,38.7\n",
    "Connecticut,2,3.3,110,77,11.1\n",
    "Delaware,4,5.9,238,72,15.8\n",
    "Florida,4,15.4,335,80,31.9"
   ]
  },
  {
   "cell_type": "code",
   "execution_count": 165,
   "id": "9da66816",
   "metadata": {},
   "outputs": [],
   "source": [
    "dtypes=[('area',       \"U30\"),\n",
    "        ('Murder' ,     float),\n",
    "        ('Assault',     float),\n",
    "        ('UrbanPop',    float),\n",
    "        ('other_crime', float)]"
   ]
  },
  {
   "cell_type": "code",
   "execution_count": 166,
   "id": "363dbf40",
   "metadata": {},
   "outputs": [],
   "source": [
    "data = np.genfromtxt(location, delimiter=\",\", skip_header=1, dtype=dtypes)"
   ]
  },
  {
   "cell_type": "code",
   "execution_count": 167,
   "id": "2da6f531",
   "metadata": {},
   "outputs": [
    {
     "data": {
      "text/plain": [
       "(numpy.ndarray, (50,))"
      ]
     },
     "execution_count": 167,
     "metadata": {},
     "output_type": "execute_result"
    }
   ],
   "source": [
    "type(data), data.shape"
   ]
  },
  {
   "cell_type": "code",
   "execution_count": 169,
   "id": "1f439bd2",
   "metadata": {},
   "outputs": [
    {
     "data": {
      "text/plain": [
       "array([('Alabama', 4., 13.2, 236., 58.), ('Alaska', 4., 10. , 263., 48.),\n",
       "       ('Arizona', 4.,  8.1, 294., 80.),\n",
       "       ('Arkansas', 3.,  8.8, 190., 50.),\n",
       "       ('California', 4.,  9. , 276., 91.),\n",
       "       ('Colorado', 3.,  7.9, 204., 78.),\n",
       "       ('Connecticut', 2.,  3.3, 110., 77.),\n",
       "       ('Delaware', 4.,  5.9, 238., 72.),\n",
       "       ('Florida', 4., 15.4, 335., 80.), ('Georgia', 3., 17.4, 211., 60.),\n",
       "       ('Hawaii', 1.,  5.3,  46., 83.), ('Idaho', 2.,  2.6, 120., 54.),\n",
       "       ('Illinois', 4., 10.4, 249., 83.),\n",
       "       ('Indiana', 2.,  7.2, 113., 65.), ('Iowa', 1.,  2.2,  56., 57.),\n",
       "       ('Kansas', 2.,  6. , 115., 66.), ('Kentucky', 2.,  9.7, 109., 52.),\n",
       "       ('Louisiana', 4., 15.4, 249., 66.), ('Maine', 1.,  2.1,  83., 51.),\n",
       "       ('Maryland', 4., 11.3, 300., 67.),\n",
       "       ('Massachusetts', 3.,  4.4, 149., 85.),\n",
       "       ('Michigan', 4., 12.1, 255., 74.),\n",
       "       ('Minnesota', 1.,  2.7,  72., 66.),\n",
       "       ('Mississippi', 4., 16.1, 259., 44.),\n",
       "       ('Missouri', 3.,  9. , 178., 70.),\n",
       "       ('Montana', 2.,  6. , 109., 53.),\n",
       "       ('Nebraska', 2.,  4.3, 102., 62.), ('Nevada', 4., 12.2, 252., 81.),\n",
       "       ('New Hampshire', 1.,  2.1,  57., 56.),\n",
       "       ('New Jersey', 3.,  7.4, 159., 89.),\n",
       "       ('New Mexico', 4., 11.4, 285., 70.),\n",
       "       ('New York', 4., 11.1, 254., 86.),\n",
       "       ('North Carolina', 4., 13. , 337., 45.),\n",
       "       ('North Dakota', 1.,  0.8,  45., 44.),\n",
       "       ('Ohio', 2.,  7.3, 120., 75.), ('Oklahoma', 3.,  6.6, 151., 68.),\n",
       "       ('Oregon', 3.,  4.9, 159., 67.),\n",
       "       ('Pennsylvania', 2.,  6.3, 106., 72.),\n",
       "       ('Rhode Island', 3.,  3.4, 174., 87.),\n",
       "       ('South Carolina', 4., 14.4, 279., 48.),\n",
       "       ('South Dakota', 1.,  3.8,  86., 45.),\n",
       "       ('Tennessee', 3., 13.2, 188., 59.), ('Texas', 3., 12.7, 201., 80.),\n",
       "       ('Utah', 2.,  3.2, 120., 80.), ('Vermont', 1.,  2.2,  48., 32.),\n",
       "       ('Virginia', 3.,  8.5, 156., 63.),\n",
       "       ('Washington', 3.,  4. , 145., 73.),\n",
       "       ('West Virginia', 1.,  5.7,  81., 39.),\n",
       "       ('Wisconsin', 1.,  2.6,  53., 66.),\n",
       "       ('Wyoming', 3.,  6.8, 161., 60.)],\n",
       "      dtype=[('area', '<U30'), ('Murder', '<f8'), ('Assault', '<f8'), ('UrbanPop', '<f8'), ('other_crime', '<f8')])"
      ]
     },
     "execution_count": 169,
     "metadata": {},
     "output_type": "execute_result"
    }
   ],
   "source": [
    "data"
   ]
  },
  {
   "cell_type": "markdown",
   "id": "78ca2739",
   "metadata": {},
   "source": [
    "- Exercise : display all the area (state names)"
   ]
  },
  {
   "cell_type": "code",
   "execution_count": 175,
   "id": "b21f611f",
   "metadata": {},
   "outputs": [
    {
     "name": "stdout",
     "output_type": "stream",
     "text": [
      "all states names .. \n",
      " ['Alabama' 'Alaska' 'Arizona' 'Arkansas' 'California' 'Colorado'\n",
      " 'Connecticut' 'Delaware' 'Florida' 'Georgia' 'Hawaii' 'Idaho' 'Illinois'\n",
      " 'Indiana' 'Iowa' 'Kansas' 'Kentucky' 'Louisiana' 'Maine' 'Maryland'\n",
      " 'Massachusetts' 'Michigan' 'Minnesota' 'Mississippi' 'Missouri' 'Montana'\n",
      " 'Nebraska' 'Nevada' 'New Hampshire' 'New Jersey' 'New Mexico' 'New York'\n",
      " 'North Carolina' 'North Dakota' 'Ohio' 'Oklahoma' 'Oregon' 'Pennsylvania'\n",
      " 'Rhode Island' 'South Carolina' 'South Dakota' 'Tennessee' 'Texas' 'Utah'\n",
      " 'Vermont' 'Virginia' 'Washington' 'West Virginia' 'Wisconsin' 'Wyoming']\n",
      "\n",
      "total number of states .. \n",
      " 50\n"
     ]
    }
   ],
   "source": [
    "print('all states names .. \\n', data['area'])\n",
    "print()\n",
    "print('total number of states .. \\n', len(data['area']))"
   ]
  },
  {
   "cell_type": "markdown",
   "id": "cc76888f",
   "metadata": {},
   "source": [
    "- Exercise : find out the state where `murder` cases are the highest"
   ]
  },
  {
   "cell_type": "code",
   "execution_count": 176,
   "id": "b747e0e9",
   "metadata": {},
   "outputs": [
    {
     "data": {
      "text/plain": [
       "4.0"
      ]
     },
     "execution_count": 176,
     "metadata": {},
     "output_type": "execute_result"
    }
   ],
   "source": [
    "np.max(data['Murder'])"
   ]
  },
  {
   "cell_type": "code",
   "execution_count": 178,
   "id": "0a403420",
   "metadata": {},
   "outputs": [],
   "source": [
    "index = data['Murder'] == np.max(data['Murder'])"
   ]
  },
  {
   "cell_type": "code",
   "execution_count": 209,
   "id": "e27818bd",
   "metadata": {},
   "outputs": [
    {
     "data": {
      "text/plain": [
       "array([('Alabama', 4., 13.2, 236., 58.), ('Alaska', 4., 10. , 263., 48.),\n",
       "       ('Arizona', 4.,  8.1, 294., 80.),\n",
       "       ('California', 4.,  9. , 276., 91.),\n",
       "       ('Delaware', 4.,  5.9, 238., 72.),\n",
       "       ('Florida', 4., 15.4, 335., 80.),\n",
       "       ('Illinois', 4., 10.4, 249., 83.),\n",
       "       ('Louisiana', 4., 15.4, 249., 66.),\n",
       "       ('Maryland', 4., 11.3, 300., 67.),\n",
       "       ('Michigan', 4., 12.1, 255., 74.),\n",
       "       ('Mississippi', 4., 16.1, 259., 44.),\n",
       "       ('Nevada', 4., 12.2, 252., 81.),\n",
       "       ('New Mexico', 4., 11.4, 285., 70.),\n",
       "       ('New York', 4., 11.1, 254., 86.),\n",
       "       ('North Carolina', 4., 13. , 337., 45.),\n",
       "       ('South Carolina', 4., 14.4, 279., 48.)],\n",
       "      dtype=[('area', '<U30'), ('Murder', '<f8'), ('Assault', '<f8'), ('UrbanPop', '<f8'), ('other_crime', '<f8')])"
      ]
     },
     "execution_count": 209,
     "metadata": {},
     "output_type": "execute_result"
    }
   ],
   "source": [
    "data[index]"
   ]
  },
  {
   "cell_type": "markdown",
   "id": "35a8cb60",
   "metadata": {},
   "source": [
    "- display average of Murder, Assault, UrbanPop"
   ]
  },
  {
   "cell_type": "code",
   "execution_count": 186,
   "id": "eab92366",
   "metadata": {},
   "outputs": [
    {
     "data": {
      "text/plain": [
       "(2.72, 7.788, 170.76)"
      ]
     },
     "execution_count": 186,
     "metadata": {},
     "output_type": "execute_result"
    }
   ],
   "source": [
    "np.mean(data['Murder']), np.mean(data['Assault']), np.mean(data['UrbanPop'])"
   ]
  },
  {
   "cell_type": "markdown",
   "id": "b46d95d6",
   "metadata": {},
   "source": [
    "- Sort the data on Murder, Assault"
   ]
  },
  {
   "cell_type": "code",
   "execution_count": 201,
   "id": "a8488283",
   "metadata": {},
   "outputs": [],
   "source": [
    "b = np.array([[2020, 1, 11, 98],\n",
    "              [2020, 2, 1,  99],\n",
    "              [2021, 3, 16, 43],\n",
    "              [2020, 2, 11, 54],\n",
    "              [2021, 1, 13, 54],\n",
    "              [2020, 1, 12, 74],\n",
    "              [2021, 1, 3,  87],\n",
    "              [2021, 3, 19, 23]])"
   ]
  },
  {
   "cell_type": "code",
   "execution_count": 202,
   "id": "d23edc6c",
   "metadata": {},
   "outputs": [
    {
     "data": {
      "text/plain": [
       "array([[2020,    2,    1,   99],\n",
       "       [2021,    1,    3,   87],\n",
       "       [2020,    1,   11,   98],\n",
       "       [2020,    2,   11,   54],\n",
       "       [2020,    1,   12,   74],\n",
       "       [2021,    1,   13,   54],\n",
       "       [2021,    3,   16,   43],\n",
       "       [2021,    3,   19,   23]])"
      ]
     },
     "execution_count": 202,
     "metadata": {},
     "output_type": "execute_result"
    }
   ],
   "source": [
    "b = b[b[:, 2].argsort()]                  # sort by day\n",
    "b"
   ]
  },
  {
   "cell_type": "code",
   "execution_count": 203,
   "id": "660fab37",
   "metadata": {},
   "outputs": [
    {
     "data": {
      "text/plain": [
       "array([[2021,    1,    3,   87],\n",
       "       [2020,    1,   11,   98],\n",
       "       [2020,    1,   12,   74],\n",
       "       [2021,    1,   13,   54],\n",
       "       [2020,    2,    1,   99],\n",
       "       [2020,    2,   11,   54],\n",
       "       [2021,    3,   16,   43],\n",
       "       [2021,    3,   19,   23]])"
      ]
     },
     "execution_count": 203,
     "metadata": {},
     "output_type": "execute_result"
    }
   ],
   "source": [
    "b = b[b[:, 1].argsort()]                  # sort by month\n",
    "b"
   ]
  },
  {
   "cell_type": "code",
   "execution_count": 212,
   "id": "2eff70d6",
   "metadata": {},
   "outputs": [
    {
     "data": {
      "text/plain": [
       "array([[2020,    1,   11,   98],\n",
       "       [2020,    1,   12,   74],\n",
       "       [2020,    2,    1,   99],\n",
       "       [2020,    2,   11,   54],\n",
       "       [2021,    1,    3,   87],\n",
       "       [2021,    1,   13,   54],\n",
       "       [2021,    3,   16,   43],\n",
       "       [2021,    3,   19,   23]])"
      ]
     },
     "execution_count": 212,
     "metadata": {},
     "output_type": "execute_result"
    }
   ],
   "source": [
    "b = b[b[:, 0].argsort()]  # sort by year\n",
    "b"
   ]
  },
  {
   "cell_type": "markdown",
   "id": "d452036a",
   "metadata": {},
   "source": [
    "#### Another example"
   ]
  },
  {
   "cell_type": "code",
   "execution_count": null,
   "id": "86d4b8bf",
   "metadata": {},
   "outputs": [],
   "source": []
  }
 ],
 "metadata": {
  "kernelspec": {
   "display_name": "Python 3 (ipykernel)",
   "language": "python",
   "name": "python3"
  },
  "language_info": {
   "codemirror_mode": {
    "name": "ipython",
    "version": 3
   },
   "file_extension": ".py",
   "mimetype": "text/x-python",
   "name": "python",
   "nbconvert_exporter": "python",
   "pygments_lexer": "ipython3",
   "version": "3.8.5"
  }
 },
 "nbformat": 4,
 "nbformat_minor": 5
}
