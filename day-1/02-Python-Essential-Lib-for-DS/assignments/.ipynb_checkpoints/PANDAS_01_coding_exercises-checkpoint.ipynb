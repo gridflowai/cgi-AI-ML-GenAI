{
 "cells": [
  {
   "cell_type": "markdown",
   "id": "42b9d017-01a3-46f2-805d-f7c9beb4de6f",
   "metadata": {},
   "source": [
    "--------------------\n",
    "### Coding exercise qustions\n",
    "- PANDAS\n",
    "----------------------"
   ]
  },
  {
   "cell_type": "code",
   "execution_count": 1,
   "id": "2c410a92-5858-4265-9136-a776a97488c0",
   "metadata": {
    "tags": []
   },
   "outputs": [],
   "source": [
    "import pandas as pd\n",
    "import numpy as np"
   ]
  },
  {
   "cell_type": "code",
   "execution_count": 2,
   "id": "0ca111f6-1a36-4eb3-9316-525d29678cc7",
   "metadata": {
    "tags": []
   },
   "outputs": [],
   "source": [
    "data = {'A': np.random.rand(10), 'B': np.random.rand(10)}\n",
    "df = pd.DataFrame(data)"
   ]
  },
  {
   "cell_type": "code",
   "execution_count": 3,
   "id": "81be2f6f-cea2-4f09-9bbf-73fb7116c8e2",
   "metadata": {
    "tags": []
   },
   "outputs": [],
   "source": [
    "# Question 1: Display the first 5 rows of the DataFrame.\n"
   ]
  },
  {
   "cell_type": "code",
   "execution_count": 4,
   "id": "f64cc2df-8e7f-44b8-a6c4-fc76685b877c",
   "metadata": {
    "tags": []
   },
   "outputs": [],
   "source": [
    "# Question 2: Check the data types of each column in the DataFrame.\n"
   ]
  },
  {
   "cell_type": "code",
   "execution_count": 5,
   "id": "a5f3aa57-e967-43b8-8ec6-2633d96c886d",
   "metadata": {
    "tags": []
   },
   "outputs": [],
   "source": [
    "# Question 3: Calculate the mean of column 'A'.\n"
   ]
  },
  {
   "cell_type": "code",
   "execution_count": null,
   "id": "8f8cac13-2dad-4179-a7d8-f673758132ff",
   "metadata": {},
   "outputs": [],
   "source": [
    "# Question 4: Calculate the maximum value in column 'B'.\n"
   ]
  },
  {
   "cell_type": "code",
   "execution_count": null,
   "id": "1737fa63-d7ff-422d-a35d-20b48e41a7bd",
   "metadata": {},
   "outputs": [],
   "source": [
    "# Question 5: Select rows where column 'A' is greater than 0.5.\n"
   ]
  },
  {
   "cell_type": "code",
   "execution_count": 6,
   "id": "0fcf2dee-2c18-4caa-b607-41460fc24af2",
   "metadata": {
    "tags": []
   },
   "outputs": [],
   "source": [
    "# Question 6: Sort the DataFrame by column 'B' in ascending order.\n"
   ]
  },
  {
   "cell_type": "code",
   "execution_count": 7,
   "id": "2c911b84-a838-46af-b493-b7d5d5f4c144",
   "metadata": {
    "tags": []
   },
   "outputs": [],
   "source": [
    "# Question 7: Group the DataFrame by column 'A' and calculate the mean of column 'B' for each group.\n"
   ]
  },
  {
   "cell_type": "code",
   "execution_count": 8,
   "id": "4413e919-3883-439f-975b-bacb8e60c2b2",
   "metadata": {
    "tags": []
   },
   "outputs": [],
   "source": [
    "# Question 8: Create a new DataFrame by merging two DataFrames with a common key column.\n",
    "df1 = pd.DataFrame({'key': ['A', 'B', 'C'], 'value1': [1, 2, 3]})\n",
    "df2 = pd.DataFrame({'key': ['B', 'C', 'D'], 'value2': [4, 5, 6]})\n"
   ]
  },
  {
   "cell_type": "code",
   "execution_count": 9,
   "id": "db90fdca-223d-4eec-b073-cb406b1b202f",
   "metadata": {
    "tags": []
   },
   "outputs": [],
   "source": [
    "# Question 10: Create a bar plot of column 'A'.\n"
   ]
  },
  {
   "cell_type": "code",
   "execution_count": 10,
   "id": "ddb0be65-95f7-403e-b8bd-b1e9399ce546",
   "metadata": {
    "tags": []
   },
   "outputs": [],
   "source": [
    "# Question 11: Create a scatter plot of column 'A' against column 'B'.\n"
   ]
  },
  {
   "cell_type": "code",
   "execution_count": null,
   "id": "6a1dc333-2e03-43b9-8e9f-b496d2d43eda",
   "metadata": {},
   "outputs": [],
   "source": [
    "# Question 12: Create a histogram of column 'B'.\n"
   ]
  },
  {
   "cell_type": "code",
   "execution_count": null,
   "id": "3e6111b0-d6f3-425b-902b-a391194fe051",
   "metadata": {},
   "outputs": [],
   "source": [
    "# Question 13: Create a line plot of column 'A'.\n"
   ]
  },
  {
   "cell_type": "code",
   "execution_count": 11,
   "id": "29ae2044-98dd-422f-a27e-983ec84d1e28",
   "metadata": {
    "tags": []
   },
   "outputs": [],
   "source": [
    "# Question 14: Create a box plot of both columns 'A' and 'B'.\n"
   ]
  },
  {
   "cell_type": "code",
   "execution_count": null,
   "id": "6c379f83-583b-4b25-a7bc-8a4e4ba96265",
   "metadata": {},
   "outputs": [],
   "source": [
    "# Question 15: Create a stacked bar plot of columns 'A' and 'B'.\n"
   ]
  },
  {
   "cell_type": "code",
   "execution_count": 12,
   "id": "21fba79c-e2a1-4732-aba0-fb3ae932d87e",
   "metadata": {
    "tags": []
   },
   "outputs": [],
   "source": [
    "# Question 16: Create a density plot of column 'A'.\n"
   ]
  }
 ],
 "metadata": {
  "kernelspec": {
   "display_name": "Python 3 (ipykernel)",
   "language": "python",
   "name": "python3"
  },
  "language_info": {
   "codemirror_mode": {
    "name": "ipython",
    "version": 3
   },
   "file_extension": ".py",
   "mimetype": "text/x-python",
   "name": "python",
   "nbconvert_exporter": "python",
   "pygments_lexer": "ipython3",
   "version": "3.11.4"
  }
 },
 "nbformat": 4,
 "nbformat_minor": 5
}
