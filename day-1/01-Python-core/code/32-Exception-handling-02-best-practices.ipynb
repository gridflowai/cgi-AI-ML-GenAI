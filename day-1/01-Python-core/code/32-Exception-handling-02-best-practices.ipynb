{
 "cells": [
  {
   "cell_type": "markdown",
   "id": "0d2b5daa-bf70-4d1e-b3dd-06dbcca1a874",
   "metadata": {},
   "source": [
    "**Specific Exception Handling:**\n",
    "\n",
    "Catch specific exceptions rather than using a generic except clause. This helps you handle specific error scenarios and avoids catching and hiding unexpected exceptions."
   ]
  },
  {
   "cell_type": "code",
   "execution_count": 2,
   "id": "2a9a2c0f-5e31-4734-b4dd-1986dd28e0db",
   "metadata": {
    "tags": []
   },
   "outputs": [],
   "source": [
    "try:\n",
    "    # Some code that may raise specific exceptions\n",
    "    result = my_function()\n",
    "except ValueError as ve:\n",
    "    pass\n",
    "except KeyError as ke:\n",
    "    pass\n",
    "except Exception as e:\n",
    "    pass\n"
   ]
  },
  {
   "cell_type": "markdown",
   "id": "7fc1fc54-8ac2-4a2d-9469-0910dedb62b6",
   "metadata": {},
   "source": [
    "**Keep Exception Blocks Small:**\n",
    "\n",
    "- Avoid placing too much code inside the try block. Only include the code that might raise an exception. Keeping the block small helps narrow down the scope of the exception and makes debugging easier.\n",
    "Avoid Bare except:\n",
    "\n",
    "**Avoid using bare except:**\n",
    "- clauses as they catch all exceptions, including system exit events and keyboard interrupts, which can hide critical issues.\n",
    "\n",
    "**Use finally Block:**\n",
    "\n",
    "- Use the finally block to include code that should be executed regardless of whether an exception occurs or not. It is commonly used to perform cleanup actions."
   ]
  },
  {
   "cell_type": "code",
   "execution_count": null,
   "id": "81bc7dc1-9829-4fc5-93f7-95beb6d125d4",
   "metadata": {},
   "outputs": [],
   "source": [
    "try:\n",
    "    # Some code that may raise exceptions\n",
    "except SomeException as se:\n",
    "    # Handle SomeException\n",
    "finally:\n",
    "    # Code that runs regardless of whether there was an exception or not\n"
   ]
  },
  {
   "cell_type": "markdown",
   "id": "ef48fef1-a89b-4826-8378-5cfa2ee20b8e",
   "metadata": {},
   "source": [
    "**Raising Exceptions:**\n",
    "\n",
    "When appropriate, raise custom exceptions using the raise statement. This makes it clear what error conditions your code is handling."
   ]
  },
  {
   "cell_type": "code",
   "execution_count": null,
   "id": "2807c2a7-1391-40f8-91d2-40ea5b190e82",
   "metadata": {},
   "outputs": [],
   "source": [
    "def divide(a, b):\n",
    "    if b == 0:\n",
    "        raise ValueError(\"Division by zero is not allowed.\")\n",
    "    return a / b\n"
   ]
  },
  {
   "cell_type": "markdown",
   "id": "6ee2d913-606d-447c-8e25-3c5bd88a5886",
   "metadata": {},
   "source": [
    "**Logging:**\n",
    "\n",
    "Use Python's logging module to log exceptions and errors. Proper logging helps in debugging and monitoring the behavior of your application."
   ]
  },
  {
   "cell_type": "markdown",
   "id": "a44c6bef-edf1-418f-8304-8ced639bdd68",
   "metadata": {},
   "source": [
    "**Use Assertions:**\n",
    "\n",
    "Use assert statements for internal checks that help you catch and debug logical errors during development."
   ]
  },
  {
   "cell_type": "code",
   "execution_count": 3,
   "id": "22bf5e88-eb31-4b76-8d12-da950761ed85",
   "metadata": {
    "tags": []
   },
   "outputs": [],
   "source": [
    "def divide(a, b):\n",
    "    assert b != 0, \"Division by zero is not allowed.\"\n",
    "    return a / b\n"
   ]
  },
  {
   "cell_type": "markdown",
   "id": "f2a07362-1abb-4815-b254-405640cf9d71",
   "metadata": {},
   "source": [
    "**Context Managers (with statement):**\n",
    "\n",
    "Utilize context managers (with statement) when dealing with resources like files, to ensure proper resource cleanup even in case of exceptions."
   ]
  },
  {
   "cell_type": "code",
   "execution_count": 4,
   "id": "d4e5b249-3673-4e6d-bfe8-7978d9939594",
   "metadata": {
    "tags": []
   },
   "outputs": [
    {
     "ename": "SyntaxError",
     "evalue": "incomplete input (529565646.py, line 2)",
     "output_type": "error",
     "traceback": [
      "\u001b[0;36m  Cell \u001b[0;32mIn[4], line 2\u001b[0;36m\u001b[0m\n\u001b[0;31m    # Code to read from the file\u001b[0m\n\u001b[0m                                ^\u001b[0m\n\u001b[0;31mSyntaxError\u001b[0m\u001b[0;31m:\u001b[0m incomplete input\n"
     ]
    }
   ],
   "source": [
    "with open(\"file.txt\", \"r\") as file:\n",
    "    # Code to read from the file\n"
   ]
  },
  {
   "cell_type": "code",
   "execution_count": null,
   "id": "088ab2b7-c43b-49ef-b74a-8cd4e621fc39",
   "metadata": {},
   "outputs": [],
   "source": []
  }
 ],
 "metadata": {
  "kernelspec": {
   "display_name": "Python 3 (ipykernel)",
   "language": "python",
   "name": "python3"
  },
  "language_info": {
   "codemirror_mode": {
    "name": "ipython",
    "version": 3
   },
   "file_extension": ".py",
   "mimetype": "text/x-python",
   "name": "python",
   "nbconvert_exporter": "python",
   "pygments_lexer": "ipython3",
   "version": "3.11.3"
  }
 },
 "nbformat": 4,
 "nbformat_minor": 5
}
