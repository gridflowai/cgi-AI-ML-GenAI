{
 "cells": [
  {
   "cell_type": "markdown",
   "id": "531f6f6f-d997-4830-810b-061411b86a30",
   "metadata": {},
   "source": [
    "--------------------\n",
    "### datetime validation\n",
    "-------------------\n",
    "\n",
    "Datetime validation is an essential task when dealing with user inputs or data from external sources, such as files or databases. \n",
    "\n",
    "In Python, you can use the datetime module to parse and validate date and time strings, ensuring they represent valid dates and times according to a specified format."
   ]
  },
  {
   "cell_type": "code",
   "execution_count": 1,
   "id": "8824d05b-e336-4778-a902-89c35ff70dac",
   "metadata": {
    "tags": []
   },
   "outputs": [],
   "source": [
    "from datetime import datetime"
   ]
  },
  {
   "cell_type": "code",
   "execution_count": 3,
   "id": "27d05bff-e52d-4a0f-bd01-6519ca3a91f9",
   "metadata": {
    "tags": []
   },
   "outputs": [],
   "source": [
    "def validate_date(date_string, date_format):\n",
    "    try:\n",
    "        parsed_date = datetime.strptime(date_string, date_format)\n",
    "        return True, parsed_date\n",
    "    except ValueError:\n",
    "        return False, None"
   ]
  },
  {
   "cell_type": "code",
   "execution_count": 4,
   "id": "a10cbd52-17ca-4549-afde-c6e117ce0276",
   "metadata": {
    "tags": []
   },
   "outputs": [
    {
     "name": "stdout",
     "output_type": "stream",
     "text": [
      "Valid date: 2023-08-05 00:00:00\n"
     ]
    }
   ],
   "source": [
    "# Example usage:\n",
    "date_string = \"2023-08-05\"\n",
    "date_format = \"%Y-%m-%d\"\n",
    "\n",
    "is_valid, parsed_date = validate_date(date_string, date_format)\n",
    "\n",
    "if is_valid:\n",
    "    print(\"Valid date:\", parsed_date)\n",
    "else:\n",
    "    print(\"Invalid date format.\")\n",
    "\n",
    "# Output: Valid date: 2023-08-05 00:00:00\n"
   ]
  },
  {
   "cell_type": "markdown",
   "id": "1a03996c-1367-4587-8d98-82ec1d95b3d1",
   "metadata": {},
   "source": [
    "**Validating Date with Time**"
   ]
  },
  {
   "cell_type": "code",
   "execution_count": 5,
   "id": "a57f9bbf-3800-4bc5-b91b-9a9d149f00ff",
   "metadata": {
    "tags": []
   },
   "outputs": [],
   "source": [
    "def validate_datetime(datetime_string, datetime_format):\n",
    "    try:\n",
    "        parsed_datetime = datetime.strptime(datetime_string, datetime_format)\n",
    "        return True, parsed_datetime\n",
    "    except ValueError:\n",
    "        return False, None"
   ]
  },
  {
   "cell_type": "code",
   "execution_count": 8,
   "id": "8a8dd66e-2332-49f2-b79f-71209c58fc0b",
   "metadata": {
    "tags": []
   },
   "outputs": [],
   "source": [
    "# Example usage:\n",
    "datetime_string = \"2023-08-05 45:30:45\"\n",
    "datetime_format = \"%Y-%m-%d %H:%M:%S\""
   ]
  },
  {
   "cell_type": "code",
   "execution_count": 9,
   "id": "aee7365c-db06-4c11-abe2-b1bdb996a2d1",
   "metadata": {
    "tags": []
   },
   "outputs": [
    {
     "name": "stdout",
     "output_type": "stream",
     "text": [
      "Invalid datetime format.\n"
     ]
    }
   ],
   "source": [
    "is_valid, parsed_datetime = validate_datetime(datetime_string, datetime_format)\n",
    "if is_valid:\n",
    "    print(\"Valid datetime:\", parsed_datetime)\n",
    "else:\n",
    "    print(\"Invalid datetime format.\")"
   ]
  },
  {
   "cell_type": "markdown",
   "id": "04e7f5b8-de82-4f31-a13a-a11d310a2315",
   "metadata": {},
   "source": [
    "**Validating Time**"
   ]
  },
  {
   "cell_type": "code",
   "execution_count": 10,
   "id": "f828c929-7638-40e4-979b-e159289c06d1",
   "metadata": {
    "tags": []
   },
   "outputs": [],
   "source": [
    "def validate_time(time_string, time_format):\n",
    "    try:\n",
    "        parsed_time = datetime.strptime(time_string, time_format).time()\n",
    "        return True, parsed_time\n",
    "    except ValueError:\n",
    "        return False, None"
   ]
  },
  {
   "cell_type": "code",
   "execution_count": 11,
   "id": "bf31f27e-9046-445a-869c-55751d8b7484",
   "metadata": {
    "tags": []
   },
   "outputs": [
    {
     "name": "stdout",
     "output_type": "stream",
     "text": [
      "Valid time: 15:30:45\n"
     ]
    }
   ],
   "source": [
    "# Example usage:\n",
    "time_string = \"15:30:45\"\n",
    "time_format = \"%H:%M:%S\"\n",
    "\n",
    "is_valid, parsed_time = validate_time(time_string, time_format)\n",
    "if is_valid:\n",
    "    print(\"Valid time:\", parsed_time)\n",
    "else:\n",
    "    print(\"Invalid time format.\")"
   ]
  },
  {
   "cell_type": "markdown",
   "id": "180b8184-6265-4019-ae6f-a10ae76df0fc",
   "metadata": {},
   "source": [
    "**Custom Error Messages:**"
   ]
  },
  {
   "cell_type": "code",
   "execution_count": 12,
   "id": "cbde6060-1bac-4024-9ee3-7742df41c8f2",
   "metadata": {
    "tags": []
   },
   "outputs": [],
   "source": [
    "def validate_date(date_string, date_format):\n",
    "    try:\n",
    "        parsed_date = datetime.strptime(date_string, date_format).date()\n",
    "        return True, parsed_date\n",
    "    except ValueError:\n",
    "        return False, None"
   ]
  },
  {
   "cell_type": "code",
   "execution_count": 13,
   "id": "568dc6c7-4fd1-4061-a0d2-eeeb89aeadc8",
   "metadata": {
    "tags": []
   },
   "outputs": [
    {
     "name": "stdout",
     "output_type": "stream",
     "text": [
      "Invalid date format. Please provide a valid date in the format 'YYYY-MM-DD'.\n"
     ]
    }
   ],
   "source": [
    "# Example usage with custom error message:\n",
    "date_string = \"2023-13-05\"  # Invalid month (13)\n",
    "date_format = \"%Y-%m-%d\"\n",
    "\n",
    "is_valid, parsed_date = validate_date(date_string, date_format)\n",
    "if is_valid:\n",
    "    print(\"Valid date:\", parsed_date)\n",
    "else:\n",
    "    print(\"Invalid date format. Please provide a valid date in the format 'YYYY-MM-DD'.\")"
   ]
  },
  {
   "cell_type": "code",
   "execution_count": null,
   "id": "68d08015-641b-4382-ad32-dc8a25a62b7b",
   "metadata": {},
   "outputs": [],
   "source": []
  }
 ],
 "metadata": {
  "kernelspec": {
   "display_name": "Python 3 (ipykernel)",
   "language": "python",
   "name": "python3"
  },
  "language_info": {
   "codemirror_mode": {
    "name": "ipython",
    "version": 3
   },
   "file_extension": ".py",
   "mimetype": "text/x-python",
   "name": "python",
   "nbconvert_exporter": "python",
   "pygments_lexer": "ipython3",
   "version": "3.11.3"
  }
 },
 "nbformat": 4,
 "nbformat_minor": 5
}
