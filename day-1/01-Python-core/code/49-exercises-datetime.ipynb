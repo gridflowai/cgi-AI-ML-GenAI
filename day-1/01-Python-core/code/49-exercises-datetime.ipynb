{
 "cells": [
  {
   "cell_type": "markdown",
   "id": "06deec14-9dab-4467-9b78-b345c5310d0f",
   "metadata": {},
   "source": [
    "#### Checking if a date is within a specific date range"
   ]
  },
  {
   "cell_type": "code",
   "execution_count": 1,
   "id": "9d05eaa8-05fc-4885-907f-8b543f8bb774",
   "metadata": {
    "tags": []
   },
   "outputs": [],
   "source": [
    "import datetime"
   ]
  },
  {
   "cell_type": "code",
   "execution_count": 2,
   "id": "ff2765ab-a159-4969-b940-9f0e301fd5bb",
   "metadata": {
    "tags": []
   },
   "outputs": [],
   "source": [
    "def is_within_date_range(date_to_check, start_date, end_date):\n",
    "    return start_date <= date_to_check <= end_date"
   ]
  },
  {
   "cell_type": "code",
   "execution_count": 3,
   "id": "416f9267-96cb-437f-83ea-2ac46ef61a9d",
   "metadata": {
    "tags": []
   },
   "outputs": [],
   "source": [
    "# Create dates and a date to check\n",
    "start_date    = datetime.date(2023, 7, 1)\n",
    "end_date      = datetime.date(2023, 7, 31)\n",
    "\n",
    "date_to_check = datetime.date(2023, 7, 15)"
   ]
  },
  {
   "cell_type": "code",
   "execution_count": 4,
   "id": "86e80a1b-2d30-4f02-948b-3be6b04a2422",
   "metadata": {
    "tags": []
   },
   "outputs": [
    {
     "name": "stdout",
     "output_type": "stream",
     "text": [
      "Is within date range: True\n"
     ]
    }
   ],
   "source": [
    "# Check if the date is within the range\n",
    "result = is_within_date_range(date_to_check, start_date, end_date)\n",
    "print(\"Is within date range:\", result)"
   ]
  },
  {
   "cell_type": "markdown",
   "id": "5e2538e5-dffa-411f-9fdb-5647add2f86d",
   "metadata": {},
   "source": [
    "#### Calculating the number of weekdays between two dates"
   ]
  },
  {
   "cell_type": "code",
   "execution_count": 6,
   "id": "1d43cb12-ae3d-45d5-9af1-5bff89c645f4",
   "metadata": {
    "tags": []
   },
   "outputs": [],
   "source": [
    "# Create dates\n",
    "start_date = datetime.date(2022, 7, 1)\n",
    "end_date   = datetime.date(2022, 7, 31)"
   ]
  },
  {
   "cell_type": "code",
   "execution_count": 7,
   "id": "ad0c33e8-4e5f-43f0-b107-01b029eb0777",
   "metadata": {
    "tags": []
   },
   "outputs": [],
   "source": [
    "def count_weekdays(start_date, end_date):\n",
    "    weekdays = [0, 1, 2, 3, 4]  # Monday to Friday\n",
    "    delta    = datetime.timedelta(days=1)\n",
    "    count    = 0\n",
    "\n",
    "    current_date = start_date\n",
    "    \n",
    "    while current_date <= end_date:\n",
    "        if current_date.weekday() in weekdays:\n",
    "            count += 1\n",
    "        current_date += delta\n",
    "\n",
    "    return count"
   ]
  },
  {
   "cell_type": "code",
   "execution_count": 8,
   "id": "b4aa5935-ad05-46d5-8551-358d77b0e800",
   "metadata": {
    "tags": []
   },
   "outputs": [
    {
     "name": "stdout",
     "output_type": "stream",
     "text": [
      "Weekdays between the dates: 21\n"
     ]
    }
   ],
   "source": [
    "# Count weekdays between the dates\n",
    "weekday_count = count_weekdays(start_date, end_date)\n",
    "print(\"Weekdays between the dates:\", weekday_count)"
   ]
  },
  {
   "cell_type": "code",
   "execution_count": null,
   "id": "e6e84307-328c-4e14-8cdf-c045711a84ca",
   "metadata": {},
   "outputs": [],
   "source": []
  }
 ],
 "metadata": {
  "kernelspec": {
   "display_name": "Python 3 (ipykernel)",
   "language": "python",
   "name": "python3"
  },
  "language_info": {
   "codemirror_mode": {
    "name": "ipython",
    "version": 3
   },
   "file_extension": ".py",
   "mimetype": "text/x-python",
   "name": "python",
   "nbconvert_exporter": "python",
   "pygments_lexer": "ipython3",
   "version": "3.11.3"
  }
 },
 "nbformat": 4,
 "nbformat_minor": 5
}
