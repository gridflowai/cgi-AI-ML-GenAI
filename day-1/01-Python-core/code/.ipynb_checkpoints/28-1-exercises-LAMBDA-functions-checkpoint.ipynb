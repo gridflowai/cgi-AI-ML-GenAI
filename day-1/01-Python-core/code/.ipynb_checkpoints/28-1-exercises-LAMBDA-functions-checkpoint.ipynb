{
 "cells": [
  {
   "cell_type": "markdown",
   "id": "36c48e47-aa61-4f4b-8fc4-5326f4cae566",
   "metadata": {},
   "source": [
    "#### Lambda functions \n",
    "\n",
    "- are anonymous functions in Python, which means they don't have a name and are usually used for small, one-line functions."
   ]
  },
  {
   "cell_type": "markdown",
   "id": "970f24e9-cd14-47b7-b0be-265f80143def",
   "metadata": {},
   "source": [
    "Exercise 1: Add two numbers using a lambda function"
   ]
  },
  {
   "cell_type": "code",
   "execution_count": 2,
   "id": "c66b477d-47de-411a-9e09-342310598ddd",
   "metadata": {
    "tags": []
   },
   "outputs": [
    {
     "name": "stdout",
     "output_type": "stream",
     "text": [
      "15\n"
     ]
    }
   ],
   "source": [
    "add = lambda x, y: x + y\n",
    "\n",
    "result = add(5, 10)\n",
    "print(result)  # Output: 15"
   ]
  },
  {
   "cell_type": "markdown",
   "id": "b7d44112-754f-4588-9d0d-3806bf490a4a",
   "metadata": {},
   "source": [
    "Exercise 2: Create a lambda function to check if a number is even."
   ]
  },
  {
   "cell_type": "code",
   "execution_count": 3,
   "id": "6b6af13d-317e-4df7-a79d-df2769adb153",
   "metadata": {
    "tags": []
   },
   "outputs": [
    {
     "name": "stdout",
     "output_type": "stream",
     "text": [
      "True\n",
      "False\n"
     ]
    }
   ],
   "source": [
    "is_even = lambda x: x % 2 == 0\n",
    "\n",
    "print(is_even(10))  # Output: True\n",
    "print(is_even(7))   # Output: False"
   ]
  },
  {
   "cell_type": "markdown",
   "id": "b0538a32-a05b-485e-b474-e822dfe5e2ba",
   "metadata": {},
   "source": [
    "Exercise 3: Use a lambda function to sort a list of tuples based on the second element."
   ]
  },
  {
   "cell_type": "code",
   "execution_count": 4,
   "id": "83e5f45a-1040-496a-9074-2294bdd0021a",
   "metadata": {
    "tags": []
   },
   "outputs": [
    {
     "name": "stdout",
     "output_type": "stream",
     "text": [
      "[(4, 3), (1, 5), (3, 7), (2, 9)]\n"
     ]
    }
   ],
   "source": [
    "data = [(3, 7), (1, 5), (2, 9), (4, 3)]\n",
    "\n",
    "sorted_data = sorted(data, key=lambda x: x[1])\n",
    "print(sorted_data)  # Output: [(4, 3), (1, 5), (3, 7), (2, 9)]\n"
   ]
  },
  {
   "cell_type": "markdown",
   "id": "245dc495-5433-40df-ab94-91acd67c0e52",
   "metadata": {},
   "source": [
    "Exercise 4: Convert a Celsius temperature to Fahrenheit using a lambda function."
   ]
  },
  {
   "cell_type": "code",
   "execution_count": 5,
   "id": "334a8b8d-dde4-46f3-8412-872680bc2e63",
   "metadata": {
    "tags": []
   },
   "outputs": [
    {
     "name": "stdout",
     "output_type": "stream",
     "text": [
      "77.0\n",
      "32.0\n"
     ]
    }
   ],
   "source": [
    "celsius_to_fahrenheit = lambda celsius: (celsius * 9/5) + 32\n",
    "\n",
    "print(celsius_to_fahrenheit(25))  # Output: 77.0\n",
    "print(celsius_to_fahrenheit(0))   # Output: 32.0\n"
   ]
  },
  {
   "cell_type": "markdown",
   "id": "b4e8059c-f8f1-43e5-a54f-088901a18706",
   "metadata": {},
   "source": [
    "Exercise 5: Create a lambda function to calculate the area of a rectangle."
   ]
  },
  {
   "cell_type": "code",
   "execution_count": 6,
   "id": "d4ec6c1d-e987-42e9-883b-db2d69d3da5e",
   "metadata": {
    "tags": []
   },
   "outputs": [
    {
     "name": "stdout",
     "output_type": "stream",
     "text": [
      "50\n",
      "7.0\n"
     ]
    }
   ],
   "source": [
    "rectangle_area = lambda length, width: length * width\n",
    "print(rectangle_area(5, 10))  # Output: 50\n",
    "print(rectangle_area(3.5, 2)) # Output: 7.0\n"
   ]
  },
  {
   "cell_type": "markdown",
   "id": "8508e79d-7ef3-4082-8ba6-a04f2e4a8432",
   "metadata": {},
   "source": [
    "Exercise 6: Use a lambda function to filter even numbers from a list."
   ]
  },
  {
   "cell_type": "code",
   "execution_count": 7,
   "id": "642df0f5-8a7d-4a00-8952-6e42eab1753c",
   "metadata": {
    "tags": []
   },
   "outputs": [
    {
     "name": "stdout",
     "output_type": "stream",
     "text": [
      "[2, 4, 6, 8, 10]\n"
     ]
    }
   ],
   "source": [
    "numbers = [1, 2, 3, 4, 5, 6, 7, 8, 9, 10]\n",
    "even_numbers = list(filter(lambda x: x % 2 == 0, numbers))\n",
    "print(even_numbers)  # Output: [2, 4, 6, 8, 10]\n"
   ]
  },
  {
   "cell_type": "markdown",
   "id": "dbb06534-6e3c-4f25-b051-ea930925bdd4",
   "metadata": {},
   "source": [
    "Exercise 7: Create a lambda function to compute the power of a number."
   ]
  },
  {
   "cell_type": "code",
   "execution_count": 7,
   "id": "c8db8a35-4bf1-4422-b08b-3afca29382f2",
   "metadata": {
    "tags": []
   },
   "outputs": [
    {
     "name": "stdout",
     "output_type": "stream",
     "text": [
      "(8, 2, 4)\n",
      "(25, 5, 10)\n"
     ]
    }
   ],
   "source": [
    "power = lambda base, exponent: (base ** exponent, base, base *2)\n",
    "print(power(2, 3))  # Output: 8\n",
    "print(power(5, 2))  # Output: 25"
   ]
  },
  {
   "cell_type": "code",
   "execution_count": null,
   "id": "c7422e1b-a761-4167-8254-d0b6c6b904fa",
   "metadata": {},
   "outputs": [],
   "source": []
  }
 ],
 "metadata": {
  "kernelspec": {
   "display_name": "Python 3 (ipykernel)",
   "language": "python",
   "name": "python3"
  },
  "language_info": {
   "codemirror_mode": {
    "name": "ipython",
    "version": 3
   },
   "file_extension": ".py",
   "mimetype": "text/x-python",
   "name": "python",
   "nbconvert_exporter": "python",
   "pygments_lexer": "ipython3",
   "version": "3.11.3"
  }
 },
 "nbformat": 4,
 "nbformat_minor": 5
}
