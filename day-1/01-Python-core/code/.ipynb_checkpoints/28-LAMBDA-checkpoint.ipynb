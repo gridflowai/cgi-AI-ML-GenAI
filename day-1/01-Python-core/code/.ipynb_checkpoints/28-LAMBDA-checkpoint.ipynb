{
 "cells": [
  {
   "cell_type": "markdown",
   "metadata": {},
   "source": [
    "-----------------------\n",
    "#### More about lambda function but first a little bit about python `sorted` function\n",
    "-----------------------\n",
    "- The `sorted()` function `returns a sorted list` from the items in an iterable.\n",
    "\n",
    "- The sorted() function sorts the elements of a given `iterable` in a specific order (either ascending or descending) and returns the sorted iterable as a list.\n",
    "\n",
    "- The `syntax` of the sorted() function is:\n",
    "\n",
    "    - **sorted(iterable, key=None, reverse=False)**\n",
    "    \n",
    "- `Parameters` for the sorted() function\n",
    "\n",
    "    - `sorted()` can take a maximum of 3 parameters:\n",
    "\n",
    "        - `iterable` - A sequence (string, tuple, list) or collection (set, dictionary, frozen set) or any other iterator.\n",
    "        - `reverse` (Optional) - If True, the sorted list is reversed (or sorted in descending order). Defaults to False if not provided.\n",
    "        - `key` (Optional) - A function that serves as a key for the sort comparison. Defaults to None."
   ]
  },
  {
   "cell_type": "markdown",
   "metadata": {},
   "source": [
    "##### Example 1: Sort string, list, and tuple"
   ]
  },
  {
   "cell_type": "code",
   "execution_count": 1,
   "metadata": {
    "tags": []
   },
   "outputs": [
    {
     "name": "stdout",
     "output_type": "stream",
     "text": [
      "['a', 'e', 'i', 'o', 'u']\n",
      "['P', 'h', 'n', 'o', 't', 'y']\n",
      "['a', 'e', 'i', 'o', 'u']\n"
     ]
    }
   ],
   "source": [
    "# vowels list\n",
    "py_list = ['e', 'a', 'u', 'o', 'i']\n",
    "print(sorted(py_list))\n",
    "\n",
    "# string\n",
    "py_string = 'Python'\n",
    "print(sorted(py_string))\n",
    "\n",
    "# vowels tuple\n",
    "py_tuple = ('e', 'a', 'u', 'o', 'i')\n",
    "print(sorted(py_tuple))"
   ]
  },
  {
   "cell_type": "markdown",
   "metadata": {},
   "source": [
    "**in all cases above a sorted function returns `list`**"
   ]
  },
  {
   "cell_type": "markdown",
   "metadata": {},
   "source": [
    "##### Example 2: Sort in descending order\n",
    "\n",
    "- The `sorted()` function accepts a `reverse` parameter as an `optional` argument.\n",
    "\n",
    "- Setting `reverse = True` sorts the iterable in the descending order."
   ]
  },
  {
   "cell_type": "code",
   "execution_count": 2,
   "metadata": {
    "tags": []
   },
   "outputs": [
    {
     "name": "stdout",
     "output_type": "stream",
     "text": [
      "['u', 'o', 'i', 'e', 'a']\n",
      "['u', 'o', 'i', 'e', 'a']\n"
     ]
    }
   ],
   "source": [
    "# set\n",
    "py_set = {'e', 'a', 'u', 'o', 'i'}\n",
    "print(sorted(py_set, reverse=True))\n",
    "\n",
    "# dictionary\n",
    "py_dict = {'e': 1, 'a': 2, 'u': 3, 'o': 4, 'i': 5}\n",
    "print(sorted(py_dict, reverse=True))"
   ]
  },
  {
   "cell_type": "markdown",
   "metadata": {},
   "source": [
    "##### Example 3: Sort the list using sorted() having a key function\n",
    "\n",
    "If you want your own implementation for sorting, `sorted()` also accepts a key function as an `optional` parameter.\n",
    "\n",
    "Based on the returned value of the `key` function, you can `sort` the given `iterable`.\n",
    "\n",
    "- sorted(iterable, key=len)\n",
    "\n",
    "    - Here, len() is Python's in-built function to count the length of an object.\n",
    "\n",
    "    - The list is sorted based on the length of the element, from the lowest count to highest."
   ]
  },
  {
   "cell_type": "code",
   "execution_count": 3,
   "metadata": {
    "tags": []
   },
   "outputs": [],
   "source": [
    "# take the second element for sort\n",
    "def take_second(elem):\n",
    "    return elem[1]"
   ]
  },
  {
   "cell_type": "code",
   "execution_count": 4,
   "metadata": {
    "tags": []
   },
   "outputs": [],
   "source": [
    "# random list\n",
    "random = [(2, 20), (3, 40), (4, 10), (1, 13)]"
   ]
  },
  {
   "cell_type": "code",
   "execution_count": 5,
   "metadata": {
    "tags": []
   },
   "outputs": [],
   "source": [
    "# sort list with key\n",
    "sorted_list = sorted(random, key=take_second)"
   ]
  },
  {
   "cell_type": "code",
   "execution_count": 6,
   "metadata": {
    "tags": []
   },
   "outputs": [
    {
     "name": "stdout",
     "output_type": "stream",
     "text": [
      "Sorted list: [(4, 10), (1, 13), (2, 20), (3, 40)]\n"
     ]
    }
   ],
   "source": [
    "# print list\n",
    "print('Sorted list:', sorted_list)"
   ]
  },
  {
   "cell_type": "markdown",
   "metadata": {},
   "source": [
    "##### Example 4: Sorting with multiple keys"
   ]
  },
  {
   "cell_type": "code",
   "execution_count": 4,
   "metadata": {},
   "outputs": [],
   "source": [
    "# Let us suppose that we have the following list:\n",
    "\n",
    "# Nested list of student's info in a Science Olympiad\n",
    "# List elements: (Student's Name, Marks out of 100, Age)\n",
    "\n",
    "participant_list = [\n",
    "    ('Anish',   50, 18),\n",
    "    ('Ram',     75, 12),\n",
    "    ('David',   75, 20),\n",
    "    ('Ronnie',  90, 22),\n",
    "    ('Rakesh',  45, 12)\n",
    "]"
   ]
  },
  {
   "cell_type": "markdown",
   "metadata": {},
   "source": [
    "We want to sort the list in such a way that the student with the `highest marks is in the beginning`. \n",
    "\n",
    "In case the students have `equal marks`, they must be sorted so that the `younger` participant comes first."
   ]
  },
  {
   "cell_type": "code",
   "execution_count": 5,
   "metadata": {},
   "outputs": [],
   "source": [
    "def sorter(item):\n",
    "    # Since highest marks first, least error = most marks\n",
    "    error = 100 - item[1]\n",
    "    age   = item[2]\n",
    "    return (error, age)"
   ]
  },
  {
   "cell_type": "code",
   "execution_count": 11,
   "metadata": {},
   "outputs": [
    {
     "name": "stdout",
     "output_type": "stream",
     "text": [
      "Anish \t (50, 18)\n",
      "Ram \t (25, 12)\n",
      "David \t (25, 20)\n",
      "Ronnie \t (10, 22)\n",
      "Rakesh \t (55, 12)\n"
     ]
    }
   ],
   "source": [
    "for each_item in participant_list:\n",
    "    print(each_item[0], '\\t', sorter(each_item))"
   ]
  },
  {
   "cell_type": "markdown",
   "metadata": {},
   "source": [
    "Essentially we want the output in the `ascending` order of error (100 - marks)"
   ]
  },
  {
   "cell_type": "code",
   "execution_count": 15,
   "metadata": {},
   "outputs": [
    {
     "name": "stdout",
     "output_type": "stream",
     "text": [
      "[('Ronnie', 90, 22), ('Ram', 75, 12), ('David', 75, 20), ('Anish', 50, 18), ('Rakesh', 45, 12)]\n"
     ]
    }
   ],
   "source": [
    "sorted_list = sorted(participant_list, key=sorter)\n",
    "print(sorted_list)"
   ]
  },
  {
   "cell_type": "code",
   "execution_count": 16,
   "metadata": {},
   "outputs": [
    {
     "data": {
      "text/plain": [
       "False"
      ]
     },
     "execution_count": 16,
     "metadata": {},
     "output_type": "execute_result"
    }
   ],
   "source": [
    "(10, 22) > (25, 12)"
   ]
  },
  {
   "cell_type": "markdown",
   "metadata": {},
   "source": [
    "##### let us take a look at `lambda` function using `sorted` function"
   ]
  },
  {
   "cell_type": "code",
   "execution_count": 10,
   "metadata": {
    "tags": []
   },
   "outputs": [],
   "source": [
    "# Initializing list of dictionaries \n",
    "lis = [ { \"name\" : \"Nandini\", \"age\" : 20},  \n",
    "        { \"name\" : \"Anand\",   \"age\" : 20 }, \n",
    "        { \"name\" : \"Nikhil\" , \"age\" : 19 }] "
   ]
  },
  {
   "cell_type": "code",
   "execution_count": 11,
   "metadata": {
    "tags": []
   },
   "outputs": [
    {
     "name": "stdout",
     "output_type": "stream",
     "text": [
      "The list printed sorting by age: \n",
      "\n",
      "[{'name': 'Nikhil', 'age': 19}, {'name': 'Nandini', 'age': 20}, {'name': 'Anand', 'age': 20}]\n"
     ]
    }
   ],
   "source": [
    "# using sorted and lambda to print list sorted by age  \n",
    "print (\"The list printed sorting by age: \\n\")\n",
    "\n",
    "print (sorted(lis, key = lambda i: i['age']) )"
   ]
  },
  {
   "cell_type": "code",
   "execution_count": 12,
   "metadata": {
    "tags": []
   },
   "outputs": [
    {
     "name": "stdout",
     "output_type": "stream",
     "text": [
      "The list printed sorting by age and name: \n",
      "\n",
      "[{'name': 'Nikhil', 'age': 19}, {'name': 'Anand', 'age': 20}, {'name': 'Nandini', 'age': 20}]\n"
     ]
    }
   ],
   "source": [
    "# using sorted and lambda to print list sorted  \n",
    "# by both age and name. Notice that \"Manjeet\" \n",
    "# now comes before \"Nandini\" \n",
    "print (\"The list printed sorting by age and name: \\n\")\n",
    "print (sorted(lis, key = lambda i: (i['age'], i['name'])) )"
   ]
  },
  {
   "cell_type": "code",
   "execution_count": 34,
   "metadata": {},
   "outputs": [
    {
     "name": "stdout",
     "output_type": "stream",
     "text": [
      "The list printed sorting by age in descending order: \n",
      "\n",
      "[{'name': 'Nandini', 'age': 20}, {'name': 'Manjeet', 'age': 20}, {'name': 'Nikhil', 'age': 19}]\n"
     ]
    }
   ],
   "source": [
    "# using sorted and lambda to print list sorted \n",
    "# by age in descending order \n",
    "print (\"The list printed sorting by age in descending order: \\n\")\n",
    "print (sorted(lis, key = lambda i: i['age'],reverse=True) )"
   ]
  },
  {
   "cell_type": "code",
   "execution_count": 35,
   "metadata": {},
   "outputs": [
    {
     "name": "stdout",
     "output_type": "stream",
     "text": [
      "The list printed sorting by age in descending order: \n",
      "\n",
      "{'name': 'Nandini', 'age': 20}\n",
      "{'name': 'Manjeet', 'age': 20}\n",
      "{'name': 'Nikhil', 'age': 19}\n"
     ]
    }
   ],
   "source": [
    "print (\"The list printed sorting by age in descending order: \\n\")\n",
    "\n",
    "sorted_list = sorted(lis, key = lambda i: i['age'],reverse=True) \n",
    "\n",
    "for i in sorted_list:\n",
    "    print(i)"
   ]
  },
  {
   "cell_type": "markdown",
   "metadata": {},
   "source": [
    "##### Applying lambda function to single column using Dataframe.assign()"
   ]
  },
  {
   "cell_type": "code",
   "execution_count": 13,
   "metadata": {},
   "outputs": [],
   "source": [
    "# importing pandas library \n",
    "import pandas as pd \n",
    "import numpy as np"
   ]
  },
  {
   "cell_type": "code",
   "execution_count": 14,
   "metadata": {},
   "outputs": [
    {
     "data": {
      "text/html": [
       "<div>\n",
       "<style scoped>\n",
       "    .dataframe tbody tr th:only-of-type {\n",
       "        vertical-align: middle;\n",
       "    }\n",
       "\n",
       "    .dataframe tbody tr th {\n",
       "        vertical-align: top;\n",
       "    }\n",
       "\n",
       "    .dataframe thead th {\n",
       "        text-align: right;\n",
       "    }\n",
       "</style>\n",
       "<table border=\"1\" class=\"dataframe\">\n",
       "  <thead>\n",
       "    <tr style=\"text-align: right;\">\n",
       "      <th></th>\n",
       "      <th>Name</th>\n",
       "      <th>Total_Marks</th>\n",
       "    </tr>\n",
       "  </thead>\n",
       "  <tbody>\n",
       "    <tr>\n",
       "      <th>0</th>\n",
       "      <td>Rohan</td>\n",
       "      <td>455</td>\n",
       "    </tr>\n",
       "    <tr>\n",
       "      <th>1</th>\n",
       "      <td>Elvish</td>\n",
       "      <td>250</td>\n",
       "    </tr>\n",
       "    <tr>\n",
       "      <th>2</th>\n",
       "      <td>Deepak</td>\n",
       "      <td>495</td>\n",
       "    </tr>\n",
       "    <tr>\n",
       "      <th>3</th>\n",
       "      <td>Soni</td>\n",
       "      <td>400</td>\n",
       "    </tr>\n",
       "    <tr>\n",
       "      <th>4</th>\n",
       "      <td>Radhika</td>\n",
       "      <td>350</td>\n",
       "    </tr>\n",
       "    <tr>\n",
       "      <th>5</th>\n",
       "      <td>Vansh</td>\n",
       "      <td>450</td>\n",
       "    </tr>\n",
       "  </tbody>\n",
       "</table>\n",
       "</div>"
      ],
      "text/plain": [
       "      Name  Total_Marks\n",
       "0    Rohan          455\n",
       "1   Elvish          250\n",
       "2   Deepak          495\n",
       "3     Soni          400\n",
       "4  Radhika          350\n",
       "5    Vansh          450"
      ]
     },
     "execution_count": 14,
     "metadata": {},
     "output_type": "execute_result"
    }
   ],
   "source": [
    "# creating and initializing a list \n",
    "values= [['Rohan',455],['Elvish', 250], ['Deepak',495], \n",
    "         ['Soni', 400],['Radhika',350],['Vansh', 450]]  \n",
    "  \n",
    "# creating a pandas dataframe \n",
    "df = pd.DataFrame(values,columns=['Name','Total_Marks']) \n",
    "df  "
   ]
  },
  {
   "cell_type": "code",
   "execution_count": 15,
   "metadata": {},
   "outputs": [
    {
     "data": {
      "text/html": [
       "<div>\n",
       "<style scoped>\n",
       "    .dataframe tbody tr th:only-of-type {\n",
       "        vertical-align: middle;\n",
       "    }\n",
       "\n",
       "    .dataframe tbody tr th {\n",
       "        vertical-align: top;\n",
       "    }\n",
       "\n",
       "    .dataframe thead th {\n",
       "        text-align: right;\n",
       "    }\n",
       "</style>\n",
       "<table border=\"1\" class=\"dataframe\">\n",
       "  <thead>\n",
       "    <tr style=\"text-align: right;\">\n",
       "      <th></th>\n",
       "      <th>Name</th>\n",
       "      <th>Total_Marks</th>\n",
       "      <th>Percentage</th>\n",
       "    </tr>\n",
       "  </thead>\n",
       "  <tbody>\n",
       "    <tr>\n",
       "      <th>0</th>\n",
       "      <td>Rohan</td>\n",
       "      <td>455</td>\n",
       "      <td>91.0</td>\n",
       "    </tr>\n",
       "    <tr>\n",
       "      <th>1</th>\n",
       "      <td>Elvish</td>\n",
       "      <td>250</td>\n",
       "      <td>50.0</td>\n",
       "    </tr>\n",
       "    <tr>\n",
       "      <th>2</th>\n",
       "      <td>Deepak</td>\n",
       "      <td>495</td>\n",
       "      <td>99.0</td>\n",
       "    </tr>\n",
       "    <tr>\n",
       "      <th>3</th>\n",
       "      <td>Soni</td>\n",
       "      <td>400</td>\n",
       "      <td>80.0</td>\n",
       "    </tr>\n",
       "    <tr>\n",
       "      <th>4</th>\n",
       "      <td>Radhika</td>\n",
       "      <td>350</td>\n",
       "      <td>70.0</td>\n",
       "    </tr>\n",
       "    <tr>\n",
       "      <th>5</th>\n",
       "      <td>Vansh</td>\n",
       "      <td>450</td>\n",
       "      <td>90.0</td>\n",
       "    </tr>\n",
       "  </tbody>\n",
       "</table>\n",
       "</div>"
      ],
      "text/plain": [
       "      Name  Total_Marks  Percentage\n",
       "0    Rohan          455        91.0\n",
       "1   Elvish          250        50.0\n",
       "2   Deepak          495        99.0\n",
       "3     Soni          400        80.0\n",
       "4  Radhika          350        70.0\n",
       "5    Vansh          450        90.0"
      ]
     },
     "execution_count": 15,
     "metadata": {},
     "output_type": "execute_result"
    }
   ],
   "source": [
    "# Applying lambda function to find  percentage of 'Total_Marks' column  \n",
    "# using df.assign() \n",
    "df = df.assign(Percentage = lambda x: (x['Total_Marks'] /500 * 100)) \n",
    "  \n",
    "# displaying the data frame \n",
    "df "
   ]
  },
  {
   "cell_type": "markdown",
   "metadata": {},
   "source": [
    "##### Applying lambda function to `multiple columns` using Dataframe.assign()"
   ]
  },
  {
   "cell_type": "code",
   "execution_count": 16,
   "metadata": {},
   "outputs": [
    {
     "data": {
      "text/html": [
       "<div>\n",
       "<style scoped>\n",
       "    .dataframe tbody tr th:only-of-type {\n",
       "        vertical-align: middle;\n",
       "    }\n",
       "\n",
       "    .dataframe tbody tr th {\n",
       "        vertical-align: top;\n",
       "    }\n",
       "\n",
       "    .dataframe thead th {\n",
       "        text-align: right;\n",
       "    }\n",
       "</style>\n",
       "<table border=\"1\" class=\"dataframe\">\n",
       "  <thead>\n",
       "    <tr style=\"text-align: right;\">\n",
       "      <th></th>\n",
       "      <th>Field_1</th>\n",
       "      <th>Field_2</th>\n",
       "      <th>Field_3</th>\n",
       "      <th>Product</th>\n",
       "    </tr>\n",
       "  </thead>\n",
       "  <tbody>\n",
       "    <tr>\n",
       "      <th>0</th>\n",
       "      <td>15</td>\n",
       "      <td>2.5</td>\n",
       "      <td>100</td>\n",
       "      <td>3750.0</td>\n",
       "    </tr>\n",
       "    <tr>\n",
       "      <th>1</th>\n",
       "      <td>20</td>\n",
       "      <td>4.5</td>\n",
       "      <td>50</td>\n",
       "      <td>4500.0</td>\n",
       "    </tr>\n",
       "    <tr>\n",
       "      <th>2</th>\n",
       "      <td>25</td>\n",
       "      <td>5.2</td>\n",
       "      <td>80</td>\n",
       "      <td>10400.0</td>\n",
       "    </tr>\n",
       "    <tr>\n",
       "      <th>3</th>\n",
       "      <td>45</td>\n",
       "      <td>5.8</td>\n",
       "      <td>48</td>\n",
       "      <td>12528.0</td>\n",
       "    </tr>\n",
       "    <tr>\n",
       "      <th>4</th>\n",
       "      <td>40</td>\n",
       "      <td>6.3</td>\n",
       "      <td>70</td>\n",
       "      <td>17640.0</td>\n",
       "    </tr>\n",
       "    <tr>\n",
       "      <th>5</th>\n",
       "      <td>41</td>\n",
       "      <td>6.4</td>\n",
       "      <td>90</td>\n",
       "      <td>23616.0</td>\n",
       "    </tr>\n",
       "    <tr>\n",
       "      <th>6</th>\n",
       "      <td>51</td>\n",
       "      <td>2.3</td>\n",
       "      <td>111</td>\n",
       "      <td>13020.3</td>\n",
       "    </tr>\n",
       "  </tbody>\n",
       "</table>\n",
       "</div>"
      ],
      "text/plain": [
       "   Field_1  Field_2  Field_3  Product\n",
       "0       15      2.5      100   3750.0\n",
       "1       20      4.5       50   4500.0\n",
       "2       25      5.2       80  10400.0\n",
       "3       45      5.8       48  12528.0\n",
       "4       40      6.3       70  17640.0\n",
       "5       41      6.4       90  23616.0\n",
       "6       51      2.3      111  13020.3"
      ]
     },
     "execution_count": 16,
     "metadata": {},
     "output_type": "execute_result"
    }
   ],
   "source": [
    "# creating and initializing a nested list \n",
    "values_list = [[15, 2.5, 100], [20, 4.5, 50], [25, 5.2, 80], \n",
    "               [45, 5.8, 48], [40, 6.3, 70], [41, 6.4, 90], \n",
    "               [51, 2.3, 111]] \n",
    "  \n",
    "# creating a pandas dataframe \n",
    "df = pd.DataFrame(values_list, columns=['Field_1', 'Field_2', 'Field_3']) \n",
    "  \n",
    "# Applying lambda function to find  the product of 3 columns using  \n",
    "# df.assign() \n",
    "df = df.assign(Product=lambda x: (x['Field_1'] * x['Field_2'] * x['Field_3'])) \n",
    "  \n",
    "# printing dataframe \n",
    "df "
   ]
  },
  {
   "cell_type": "markdown",
   "metadata": {},
   "source": [
    "##### Applying lambda function to single row using Dataframe.apply()"
   ]
  },
  {
   "cell_type": "code",
   "execution_count": 20,
   "metadata": {},
   "outputs": [
    {
     "data": {
      "text/html": [
       "<div>\n",
       "<style scoped>\n",
       "    .dataframe tbody tr th:only-of-type {\n",
       "        vertical-align: middle;\n",
       "    }\n",
       "\n",
       "    .dataframe tbody tr th {\n",
       "        vertical-align: top;\n",
       "    }\n",
       "\n",
       "    .dataframe thead th {\n",
       "        text-align: right;\n",
       "    }\n",
       "</style>\n",
       "<table border=\"1\" class=\"dataframe\">\n",
       "  <thead>\n",
       "    <tr style=\"text-align: right;\">\n",
       "      <th></th>\n",
       "      <th>Field_1</th>\n",
       "      <th>Field_2</th>\n",
       "      <th>Field_3</th>\n",
       "    </tr>\n",
       "  </thead>\n",
       "  <tbody>\n",
       "    <tr>\n",
       "      <th>a</th>\n",
       "      <td>15.0</td>\n",
       "      <td>2.50</td>\n",
       "      <td>100.0</td>\n",
       "    </tr>\n",
       "    <tr>\n",
       "      <th>b</th>\n",
       "      <td>20.0</td>\n",
       "      <td>4.50</td>\n",
       "      <td>50.0</td>\n",
       "    </tr>\n",
       "    <tr>\n",
       "      <th>c</th>\n",
       "      <td>25.0</td>\n",
       "      <td>5.20</td>\n",
       "      <td>80.0</td>\n",
       "    </tr>\n",
       "    <tr>\n",
       "      <th>d</th>\n",
       "      <td>2025.0</td>\n",
       "      <td>33.64</td>\n",
       "      <td>2304.0</td>\n",
       "    </tr>\n",
       "    <tr>\n",
       "      <th>e</th>\n",
       "      <td>40.0</td>\n",
       "      <td>6.30</td>\n",
       "      <td>70.0</td>\n",
       "    </tr>\n",
       "    <tr>\n",
       "      <th>f</th>\n",
       "      <td>41.0</td>\n",
       "      <td>6.40</td>\n",
       "      <td>90.0</td>\n",
       "    </tr>\n",
       "    <tr>\n",
       "      <th>g</th>\n",
       "      <td>51.0</td>\n",
       "      <td>2.30</td>\n",
       "      <td>111.0</td>\n",
       "    </tr>\n",
       "  </tbody>\n",
       "</table>\n",
       "</div>"
      ],
      "text/plain": [
       "   Field_1  Field_2  Field_3\n",
       "a     15.0     2.50    100.0\n",
       "b     20.0     4.50     50.0\n",
       "c     25.0     5.20     80.0\n",
       "d   2025.0    33.64   2304.0\n",
       "e     40.0     6.30     70.0\n",
       "f     41.0     6.40     90.0\n",
       "g     51.0     2.30    111.0"
      ]
     },
     "execution_count": 20,
     "metadata": {},
     "output_type": "execute_result"
    }
   ],
   "source": [
    "# creating and initializing a nested list \n",
    "values_list = [[15, 2.5, 100], [20, 4.5, 50], [25, 5.2, 80], \n",
    "               [45, 5.8, 48], [40, 6.3, 70], [41, 6.4, 90],  \n",
    "               [51, 2.3, 111]] \n",
    "  \n",
    "# creating a pandas dataframe \n",
    "df = pd.DataFrame(values_list, columns=['Field_1', 'Field_2', 'Field_3'], \n",
    "                  index=['a', 'b', 'c', 'd', 'e', 'f', 'g']) \n",
    "  \n",
    "  \n",
    "# Apply function numpy.square() to square \n",
    "# the values of one row only i.e. row  \n",
    "# with index name 'd' \n",
    "df = df.apply(lambda x: np.square(x) if x.name == 'd' else x, axis=1) \n",
    "  \n",
    "  \n",
    "# printing dataframe \n",
    "df"
   ]
  },
  {
   "cell_type": "markdown",
   "metadata": {},
   "source": [
    "##### Example ...Applying lambda function to multiple rows using Dataframe.apply()"
   ]
  },
  {
   "cell_type": "code",
   "execution_count": 21,
   "metadata": {},
   "outputs": [
    {
     "data": {
      "text/html": [
       "<div>\n",
       "<style scoped>\n",
       "    .dataframe tbody tr th:only-of-type {\n",
       "        vertical-align: middle;\n",
       "    }\n",
       "\n",
       "    .dataframe tbody tr th {\n",
       "        vertical-align: top;\n",
       "    }\n",
       "\n",
       "    .dataframe thead th {\n",
       "        text-align: right;\n",
       "    }\n",
       "</style>\n",
       "<table border=\"1\" class=\"dataframe\">\n",
       "  <thead>\n",
       "    <tr style=\"text-align: right;\">\n",
       "      <th></th>\n",
       "      <th>Field_1</th>\n",
       "      <th>Field_2</th>\n",
       "      <th>Field_3</th>\n",
       "    </tr>\n",
       "  </thead>\n",
       "  <tbody>\n",
       "    <tr>\n",
       "      <th>a</th>\n",
       "      <td>15</td>\n",
       "      <td>2.5</td>\n",
       "      <td>100</td>\n",
       "    </tr>\n",
       "    <tr>\n",
       "      <th>b</th>\n",
       "      <td>20</td>\n",
       "      <td>4.5</td>\n",
       "      <td>50</td>\n",
       "    </tr>\n",
       "    <tr>\n",
       "      <th>c</th>\n",
       "      <td>25</td>\n",
       "      <td>5.2</td>\n",
       "      <td>80</td>\n",
       "    </tr>\n",
       "    <tr>\n",
       "      <th>d</th>\n",
       "      <td>45</td>\n",
       "      <td>5.8</td>\n",
       "      <td>48</td>\n",
       "    </tr>\n",
       "    <tr>\n",
       "      <th>e</th>\n",
       "      <td>40</td>\n",
       "      <td>6.3</td>\n",
       "      <td>70</td>\n",
       "    </tr>\n",
       "    <tr>\n",
       "      <th>f</th>\n",
       "      <td>41</td>\n",
       "      <td>6.4</td>\n",
       "      <td>90</td>\n",
       "    </tr>\n",
       "    <tr>\n",
       "      <th>g</th>\n",
       "      <td>51</td>\n",
       "      <td>2.3</td>\n",
       "      <td>111</td>\n",
       "    </tr>\n",
       "  </tbody>\n",
       "</table>\n",
       "</div>"
      ],
      "text/plain": [
       "   Field_1  Field_2  Field_3\n",
       "a       15      2.5      100\n",
       "b       20      4.5       50\n",
       "c       25      5.2       80\n",
       "d       45      5.8       48\n",
       "e       40      6.3       70\n",
       "f       41      6.4       90\n",
       "g       51      2.3      111"
      ]
     },
     "execution_count": 21,
     "metadata": {},
     "output_type": "execute_result"
    }
   ],
   "source": [
    "# creating and initializing a nested list \n",
    "values_list = [[15, 2.5, 100], [20, 4.5, 50], [25, 5.2, 80], \n",
    "               [45, 5.8, 48], [40, 6.3, 70], [41, 6.4, 90], \n",
    "               [51, 2.3, 111]] \n",
    "  \n",
    "# creating a pandas dataframe \n",
    "df = pd.DataFrame(values_list, \n",
    "                  columns=['Field_1', 'Field_2', 'Field_3'], \n",
    "                  index  =['a', 'b', 'c', 'd', 'e', 'f', 'g']) \n",
    "df"
   ]
  },
  {
   "cell_type": "code",
   "execution_count": 22,
   "metadata": {},
   "outputs": [
    {
     "data": {
      "text/html": [
       "<div>\n",
       "<style scoped>\n",
       "    .dataframe tbody tr th:only-of-type {\n",
       "        vertical-align: middle;\n",
       "    }\n",
       "\n",
       "    .dataframe tbody tr th {\n",
       "        vertical-align: top;\n",
       "    }\n",
       "\n",
       "    .dataframe thead th {\n",
       "        text-align: right;\n",
       "    }\n",
       "</style>\n",
       "<table border=\"1\" class=\"dataframe\">\n",
       "  <thead>\n",
       "    <tr style=\"text-align: right;\">\n",
       "      <th></th>\n",
       "      <th>Field_1</th>\n",
       "      <th>Field_2</th>\n",
       "      <th>Field_3</th>\n",
       "    </tr>\n",
       "  </thead>\n",
       "  <tbody>\n",
       "    <tr>\n",
       "      <th>a</th>\n",
       "      <td>225.0</td>\n",
       "      <td>6.25</td>\n",
       "      <td>10000.0</td>\n",
       "    </tr>\n",
       "    <tr>\n",
       "      <th>b</th>\n",
       "      <td>20.0</td>\n",
       "      <td>4.50</td>\n",
       "      <td>50.0</td>\n",
       "    </tr>\n",
       "    <tr>\n",
       "      <th>c</th>\n",
       "      <td>25.0</td>\n",
       "      <td>5.20</td>\n",
       "      <td>80.0</td>\n",
       "    </tr>\n",
       "    <tr>\n",
       "      <th>d</th>\n",
       "      <td>45.0</td>\n",
       "      <td>5.80</td>\n",
       "      <td>48.0</td>\n",
       "    </tr>\n",
       "    <tr>\n",
       "      <th>e</th>\n",
       "      <td>1600.0</td>\n",
       "      <td>39.69</td>\n",
       "      <td>4900.0</td>\n",
       "    </tr>\n",
       "    <tr>\n",
       "      <th>f</th>\n",
       "      <td>41.0</td>\n",
       "      <td>6.40</td>\n",
       "      <td>90.0</td>\n",
       "    </tr>\n",
       "    <tr>\n",
       "      <th>g</th>\n",
       "      <td>2601.0</td>\n",
       "      <td>5.29</td>\n",
       "      <td>12321.0</td>\n",
       "    </tr>\n",
       "  </tbody>\n",
       "</table>\n",
       "</div>"
      ],
      "text/plain": [
       "   Field_1  Field_2  Field_3\n",
       "a    225.0     6.25  10000.0\n",
       "b     20.0     4.50     50.0\n",
       "c     25.0     5.20     80.0\n",
       "d     45.0     5.80     48.0\n",
       "e   1600.0    39.69   4900.0\n",
       "f     41.0     6.40     90.0\n",
       "g   2601.0     5.29  12321.0"
      ]
     },
     "execution_count": 22,
     "metadata": {},
     "output_type": "execute_result"
    }
   ],
   "source": [
    "# Apply function numpy.square() to square the values of 3 rows only i.e. with row \n",
    "# index name 'a', 'e' and 'g' only \n",
    "df = df.apply(lambda x: np.square(x) if x.name in [ 'a', 'e', 'g'] else x, axis=1) \n",
    "  \n",
    "# printing dataframe \n",
    "df"
   ]
  },
  {
   "cell_type": "markdown",
   "metadata": {},
   "source": [
    "#### Summarize"
   ]
  },
  {
   "cell_type": "code",
   "execution_count": 1,
   "metadata": {
    "tags": []
   },
   "outputs": [
    {
     "name": "stdout",
     "output_type": "stream",
     "text": [
      "25\n",
      "9\n"
     ]
    }
   ],
   "source": [
    "square = lambda x: x ** 2\n",
    "\n",
    "# Test the lambda function\n",
    "print(square(5))  # Output: 25\n",
    "print(square(3))  # Output: 9\n"
   ]
  },
  {
   "cell_type": "code",
   "execution_count": 2,
   "metadata": {
    "tags": []
   },
   "outputs": [
    {
     "name": "stdout",
     "output_type": "stream",
     "text": [
      "8\n",
      "5\n"
     ]
    }
   ],
   "source": [
    "add = lambda x, y: x + y\n",
    "\n",
    "# Test the lambda function\n",
    "print(add(3, 5))   # Output: 8\n",
    "print(add(-2, 7))  # Output: 5\n"
   ]
  },
  {
   "cell_type": "code",
   "execution_count": 3,
   "metadata": {
    "tags": []
   },
   "outputs": [
    {
     "name": "stdout",
     "output_type": "stream",
     "text": [
      "True\n",
      "False\n"
     ]
    }
   ],
   "source": [
    "# Checking Even Numbers\n",
    "is_even = lambda x: x % 2 == 0\n",
    "\n",
    "# Test the lambda function\n",
    "print(is_even(4))  # Output: True\n",
    "print(is_even(7))  # Output: False\n"
   ]
  },
  {
   "cell_type": "code",
   "execution_count": 4,
   "metadata": {
    "tags": []
   },
   "outputs": [
    {
     "name": "stdout",
     "output_type": "stream",
     "text": [
      "olleh\n",
      "nohtyp\n"
     ]
    }
   ],
   "source": [
    "# Reversing a String\n",
    "reverse_string = lambda s: s[::-1]\n",
    "\n",
    "# Test the lambda function\n",
    "print(reverse_string(\"hello\"))  # Output: \"olleh\"\n",
    "print(reverse_string(\"python\")) # Output: \"nohtyp\"\n"
   ]
  },
  {
   "cell_type": "code",
   "execution_count": 5,
   "metadata": {
    "tags": []
   },
   "outputs": [
    {
     "name": "stdout",
     "output_type": "stream",
     "text": [
      "[(2, 'apple'), (1, 'banana'), (3, 'grape'), (4, 'orange')]\n"
     ]
    }
   ],
   "source": [
    "# Sorting List of Tuples\n",
    "data = [(2, \"apple\"), (4, \"orange\"), (1, \"banana\"), (3, \"grape\")]\n",
    "\n",
    "sorted_data = sorted(data, key=lambda x: x[1])\n",
    "\n",
    "# Test the lambda function\n",
    "print(sorted_data)  # Output: [(2, 'apple'), (1, 'banana'), (3, 'grape'), (4, 'orange')]\n"
   ]
  },
  {
   "cell_type": "code",
   "execution_count": null,
   "metadata": {},
   "outputs": [],
   "source": []
  }
 ],
 "metadata": {
  "kernelspec": {
   "display_name": "Python 3 (ipykernel)",
   "language": "python",
   "name": "python3"
  },
  "language_info": {
   "codemirror_mode": {
    "name": "ipython",
    "version": 3
   },
   "file_extension": ".py",
   "mimetype": "text/x-python",
   "name": "python",
   "nbconvert_exporter": "python",
   "pygments_lexer": "ipython3",
   "version": "3.11.3"
  }
 },
 "nbformat": 4,
 "nbformat_minor": 4
}
