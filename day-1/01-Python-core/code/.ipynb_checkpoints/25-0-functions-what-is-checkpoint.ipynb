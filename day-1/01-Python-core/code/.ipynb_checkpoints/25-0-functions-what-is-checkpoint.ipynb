{
 "cells": [
  {
   "cell_type": "markdown",
   "metadata": {},
   "source": [
    "----------------------------------\n",
    "#### What is a function in Python?\n",
    "----------------------------------\n",
    "- In Python, a function is a `group of related statements` that performs a specific task.\n",
    "\n",
    "- Functions help break our program into `smaller and modular` chunks. \n",
    "\n",
    "- As our program grows larger and larger, `functions` make it more `organized` and `manageable`.\n",
    "\n",
    "- Furthermore, it `avoids repetition` and makes the code `reusable`."
   ]
  },
  {
   "cell_type": "markdown",
   "metadata": {},
   "source": [
    "##### Syntax of Function"
   ]
  },
  {
   "cell_type": "code",
   "execution_count": 1,
   "metadata": {},
   "outputs": [],
   "source": [
    "def function_name(parameters):\n",
    "    \"\"\"This function does nothing. But it is entirely true ... please wait\"\"\"\n",
    "    statement(s)"
   ]
  },
  {
   "cell_type": "markdown",
   "metadata": {},
   "source": [
    "- `Keyword` `def` that marks the start of the function header.\n",
    "\n",
    "- A `function name` to uniquely identify the function. \n",
    "\n",
    "- Parameters (arguments) through which we pass values to a function. \n",
    "\n",
    "    - They are `optional`.\n",
    "    - A colon (:) to mark the end of the function header.\n",
    "    - `Optional` documentation string (docstring) to `describe` what the function does.\n",
    "    - One or more valid python statements that make up the function body. \n",
    "    - Statements must have the same indentation level (usually 4 spaces).\n",
    "    - An `optional` `return` statement to return a value from the function."
   ]
  },
  {
   "cell_type": "markdown",
   "metadata": {},
   "source": [
    "##### Docstrings (''' ''')\n",
    "- The first string after the function header is called the `docstring` and is short for `documentation string`. \n",
    "\n",
    "- It is briefly used to explain what a function does."
   ]
  },
  {
   "cell_type": "code",
   "execution_count": 4,
   "metadata": {},
   "outputs": [
    {
     "name": "stdout",
     "output_type": "stream",
     "text": [
      "This function does nothing. But it is entirely true ... please wait\n"
     ]
    }
   ],
   "source": [
    "print(function_name.__doc__)"
   ]
  },
  {
   "cell_type": "code",
   "execution_count": 4,
   "metadata": {
    "tags": []
   },
   "outputs": [],
   "source": [
    "def greet(name):\n",
    "    \"\"\"\n",
    "    This function greets to\n",
    "    the person passed in as\n",
    "    a parameter\n",
    "    \"\"\"\n",
    "    print(\"Hello, \" + name + \". Good morning!\")"
   ]
  },
  {
   "cell_type": "code",
   "execution_count": null,
   "metadata": {},
   "outputs": [],
   "source": [
    "greet."
   ]
  },
  {
   "cell_type": "code",
   "execution_count": 2,
   "metadata": {
    "tags": []
   },
   "outputs": [
    {
     "name": "stdout",
     "output_type": "stream",
     "text": [
      "\n",
      "    This function greets to\n",
      "    the person passed in as\n",
      "    a parameter\n",
      "    \n"
     ]
    }
   ],
   "source": [
    "print(greet.__doc__)"
   ]
  },
  {
   "cell_type": "code",
   "execution_count": 3,
   "metadata": {},
   "outputs": [
    {
     "name": "stdout",
     "output_type": "stream",
     "text": [
      "Hello, Michael. Good morning!\n"
     ]
    }
   ],
   "source": [
    "greet('Michael')"
   ]
  },
  {
   "cell_type": "markdown",
   "metadata": {},
   "source": [
    "##### The return statement\n",
    "- nThe `return` statement is used to `exit` a function and go back to the place from where it was called.\n",
    "\n",
    "- Syntax of return\n",
    "    - return [expression_list]"
   ]
  },
  {
   "cell_type": "code",
   "execution_count": 9,
   "metadata": {},
   "outputs": [
    {
     "name": "stdout",
     "output_type": "stream",
     "text": [
      "Hello, May. Good morning!\n",
      "None\n"
     ]
    }
   ],
   "source": [
    "print(greet(\"May\"))"
   ]
  },
  {
   "cell_type": "markdown",
   "metadata": {},
   "source": [
    "Here, `None` is the returned value since `greet()` directly `prints` the name and `no return` statement is used."
   ]
  },
  {
   "cell_type": "code",
   "execution_count": 1,
   "metadata": {
    "tags": []
   },
   "outputs": [],
   "source": [
    "# Example of return\n",
    "\n",
    "def absolute_value(num):\n",
    "    \"\"\"This function returns the absolute\n",
    "    value of the entered number\"\"\"\n",
    "\n",
    "    if num >= 0:\n",
    "        return num\n",
    "    else:\n",
    "        return -num"
   ]
  },
  {
   "cell_type": "code",
   "execution_count": 2,
   "metadata": {
    "tags": []
   },
   "outputs": [
    {
     "name": "stdout",
     "output_type": "stream",
     "text": [
      "2\n",
      "4\n"
     ]
    }
   ],
   "source": [
    "print(absolute_value(2))\n",
    "print(absolute_value(-4))"
   ]
  },
  {
   "cell_type": "code",
   "execution_count": null,
   "metadata": {},
   "outputs": [],
   "source": []
  }
 ],
 "metadata": {
  "kernelspec": {
   "display_name": "Python 3 (ipykernel)",
   "language": "python",
   "name": "python3"
  },
  "language_info": {
   "codemirror_mode": {
    "name": "ipython",
    "version": 3
   },
   "file_extension": ".py",
   "mimetype": "text/x-python",
   "name": "python",
   "nbconvert_exporter": "python",
   "pygments_lexer": "ipython3",
   "version": "3.11.4"
  }
 },
 "nbformat": 4,
 "nbformat_minor": 4
}
