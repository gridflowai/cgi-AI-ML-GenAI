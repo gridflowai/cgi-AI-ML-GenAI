{
 "cells": [
  {
   "cell_type": "markdown",
   "id": "6dc03138-c792-415a-9c53-3dd09e600b34",
   "metadata": {},
   "source": [
    "-------------------------\n",
    "### Data types\n",
    "-------------------------"
   ]
  },
  {
   "cell_type": "code",
   "execution_count": 1,
   "id": "13973f7c-b713-4da6-8418-0c4c9e1d2db8",
   "metadata": {
    "tags": []
   },
   "outputs": [],
   "source": [
    "# Numeric Data Types\n",
    "# Integer\n",
    "num_integer = 10"
   ]
  },
  {
   "cell_type": "code",
   "execution_count": 2,
   "id": "2362c788-3866-41cc-b56a-09cc54a00298",
   "metadata": {
    "tags": []
   },
   "outputs": [],
   "source": [
    "# Float\n",
    "num_float = 3.14"
   ]
  },
  {
   "cell_type": "code",
   "execution_count": 3,
   "id": "f2c04bad-f1f8-4462-9962-54c9a476addc",
   "metadata": {
    "tags": []
   },
   "outputs": [],
   "source": [
    "# Complex\n",
    "num_complex = 2 + 3j"
   ]
  },
  {
   "cell_type": "code",
   "execution_count": 4,
   "id": "add8299a-2782-4fb8-8870-294db296e5f6",
   "metadata": {
    "tags": []
   },
   "outputs": [],
   "source": [
    "# String\n",
    "string_example = \"Hello, World!\""
   ]
  },
  {
   "cell_type": "code",
   "execution_count": 1,
   "id": "7bd02a6c-967a-40ec-8244-cb6cf687c3fa",
   "metadata": {
    "tags": []
   },
   "outputs": [],
   "source": [
    "# Boolean\n",
    "bool_true = True    # this is for t/f\n",
    "bool_false = False  # this ..."
   ]
  },
  {
   "cell_type": "code",
   "execution_count": 6,
   "id": "6571f9bc-ab71-415b-b077-7f057200ebac",
   "metadata": {
    "tags": []
   },
   "outputs": [],
   "source": [
    "# List\n",
    "list_example = [1, 2, 3, 4, 5]"
   ]
  },
  {
   "cell_type": "code",
   "execution_count": 7,
   "id": "d48aa635-c3c2-49ce-b7cd-ff3ef72691d8",
   "metadata": {
    "tags": []
   },
   "outputs": [],
   "source": [
    "# Tuple\n",
    "tuple_example = (6, 7, 8, 9, 10)"
   ]
  },
  {
   "cell_type": "code",
   "execution_count": 8,
   "id": "cdb8d2e6-6ecc-4d1e-967e-889744961177",
   "metadata": {
    "tags": []
   },
   "outputs": [],
   "source": [
    "# Set\n",
    "set_example = {11, 12, 13, 14, 15}"
   ]
  },
  {
   "cell_type": "code",
   "execution_count": 9,
   "id": "3bc68b3f-b7c3-4681-b417-e1ac50085bc8",
   "metadata": {
    "tags": []
   },
   "outputs": [],
   "source": [
    "# Dictionary\n",
    "dict_example = {'name': 'John', 'age': 30, 'city': 'New York'}"
   ]
  },
  {
   "cell_type": "code",
   "execution_count": 10,
   "id": "b2e6a53e-d90d-4235-84d8-5fad206e1521",
   "metadata": {
    "tags": []
   },
   "outputs": [
    {
     "name": "stdout",
     "output_type": "stream",
     "text": [
      "Data Types in Python:\n",
      "Integer: 10 - Type: <class 'int'>\n",
      "Float: 3.14 - Type: <class 'float'>\n",
      "Complex: (2+3j) - Type: <class 'complex'>\n",
      "String: Hello, World! - Type: <class 'str'>\n",
      "Boolean (True): True - Type: <class 'bool'>\n",
      "Boolean (False): False - Type: <class 'bool'>\n",
      "List: [1, 2, 3, 4, 5] - Type: <class 'list'>\n",
      "Tuple: (6, 7, 8, 9, 10) - Type: <class 'tuple'>\n",
      "Set: {11, 12, 13, 14, 15} - Type: <class 'set'>\n",
      "Dictionary: {'name': 'John', 'age': 30, 'city': 'New York'} - Type: <class 'dict'>\n"
     ]
    }
   ],
   "source": [
    "# Printing the data types and their examples\n",
    "print(\"Data Types in Python:\")\n",
    "print(f\"Integer: {num_integer} - Type: {type(num_integer)}\")\n",
    "print(f\"Float: {num_float} - Type: {type(num_float)}\")\n",
    "print(f\"Complex: {num_complex} - Type: {type(num_complex)}\")\n",
    "print(f\"String: {string_example} - Type: {type(string_example)}\")\n",
    "print(f\"Boolean (True): {bool_true} - Type: {type(bool_true)}\")\n",
    "print(f\"Boolean (False): {bool_false} - Type: {type(bool_false)}\")\n",
    "print(f\"List: {list_example} - Type: {type(list_example)}\")\n",
    "print(f\"Tuple: {tuple_example} - Type: {type(tuple_example)}\")\n",
    "print(f\"Set: {set_example} - Type: {type(set_example)}\")\n",
    "print(f\"Dictionary: {dict_example} - Type: {type(dict_example)}\")"
   ]
  },
  {
   "cell_type": "code",
   "execution_count": null,
   "id": "0ef1608e-ad4a-4d87-a4aa-bd6e0119f120",
   "metadata": {},
   "outputs": [],
   "source": []
  }
 ],
 "metadata": {
  "kernelspec": {
   "display_name": "Python 3 (ipykernel)",
   "language": "python",
   "name": "python3"
  },
  "language_info": {
   "codemirror_mode": {
    "name": "ipython",
    "version": 3
   },
   "file_extension": ".py",
   "mimetype": "text/x-python",
   "name": "python",
   "nbconvert_exporter": "python",
   "pygments_lexer": "ipython3",
   "version": "3.11.4"
  }
 },
 "nbformat": 4,
 "nbformat_minor": 5
}
