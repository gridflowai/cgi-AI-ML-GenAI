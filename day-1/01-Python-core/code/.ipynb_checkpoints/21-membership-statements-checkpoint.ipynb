{
 "cells": [
  {
   "cell_type": "markdown",
   "id": "1d63db97-2581-4738-b875-4306da714144",
   "metadata": {},
   "source": [
    "----------------\n",
    "### Membership statements \n",
    "\n",
    "are used to check whether a value is a member of a sequence (e.g., a list, tuple, string, or set). \n",
    "\n",
    "Python provides two membership operators to perform these checks:\n",
    "\n",
    "`in`: This operator returns True if the specified value is present in the sequence, and False otherwise.\n",
    "\n",
    "`not in`: This operator returns True if the specified value is not present in the sequence, and False if it is present.\n",
    "\n"
   ]
  },
  {
   "cell_type": "code",
   "execution_count": 1,
   "id": "dc70a957-cf83-4ce0-a8a7-6042567920e3",
   "metadata": {
    "tags": []
   },
   "outputs": [
    {
     "name": "stdout",
     "output_type": "stream",
     "text": [
      "True\n",
      "True\n",
      "False\n",
      "False\n",
      "True\n",
      "True\n",
      "True\n",
      "True\n",
      "True\n",
      "True\n"
     ]
    }
   ],
   "source": [
    "# Example 1: Lists\n",
    "fruits = ['apple', 'banana', 'orange']\n",
    "\n",
    "print('apple' in fruits)          # Output: True\n",
    "print('grape' not in fruits)      # Output: True\n",
    "print('kiwi' in fruits)           # Output: False\n",
    "print('orange' not in fruits)     # Output: False\n",
    "\n",
    "# Example 2: Strings\n",
    "message = \"Hello, World!\"\n",
    "\n",
    "print('Hello' in message)         # Output: True\n",
    "print('world' not in message)     # Output: True (case-sensitive)\n",
    "\n",
    "# Example 3: Tuples\n",
    "my_tuple = (1, 2, 3)\n",
    "\n",
    "print(1 in my_tuple)              # Output: True\n",
    "print(4 not in my_tuple)          # Output: True\n",
    "\n",
    "# Example 4: Sets\n",
    "my_set = {1, 2, 3}\n",
    "\n",
    "print(2 in my_set)                # Output: True\n",
    "print(4 not in my_set)            # Output: True\n"
   ]
  },
  {
   "cell_type": "code",
   "execution_count": 4,
   "id": "a8005bb0-03d6-43a6-9220-713ff99f1ded",
   "metadata": {
    "tags": []
   },
   "outputs": [
    {
     "name": "stdout",
     "output_type": "stream",
     "text": [
      "True\n",
      "True\n",
      "False\n",
      "True\n"
     ]
    }
   ],
   "source": [
    "message = \"Python is awesome!\"\n",
    "\n",
    "print('Python' in message)              # Output: True\n",
    "print('is' in message)                  # Output: True\n",
    "print('awesome' not in message)         # Output: False (case-sensitive)\n",
    "print('AwEsOmE' not in message.lower()) # Output: True (case-insensitive)\n"
   ]
  },
  {
   "cell_type": "code",
   "execution_count": 2,
   "id": "5a462e51-60ac-4476-a19a-1687857e8b27",
   "metadata": {
    "tags": []
   },
   "outputs": [
    {
     "name": "stdout",
     "output_type": "stream",
     "text": [
      "True\n",
      "True\n"
     ]
    }
   ],
   "source": [
    "words = ['apple', 'banana', 'orange']\n",
    "\n",
    "print(any('ana' in word for word in words))     # Output: True (at least one word contains 'ana')\n",
    "print(all(len(word) >= 5 for word in words))    # Output: True (all words have a length of 5 or more)\n"
   ]
  },
  {
   "cell_type": "code",
   "execution_count": 3,
   "id": "5ca3f1b5-8754-48b9-9cef-d104c1c89144",
   "metadata": {
    "tags": []
   },
   "outputs": [
    {
     "name": "stdout",
     "output_type": "stream",
     "text": [
      "True\n",
      "True\n"
     ]
    }
   ],
   "source": [
    "person = {\n",
    "    'name': 'John Doe',\n",
    "    'age': 30,\n",
    "    'occupation': 'Engineer'\n",
    "}\n",
    "\n",
    "print('name' in person)          # Output: True (checks if key exists)\n",
    "print('gender' not in person)    # Output: True (checks if key does not exist)\n"
   ]
  },
  {
   "cell_type": "code",
   "execution_count": null,
   "id": "590af30c-83b0-4f09-b75f-9b258f902c00",
   "metadata": {},
   "outputs": [],
   "source": []
  }
 ],
 "metadata": {
  "kernelspec": {
   "display_name": "Python 3 (ipykernel)",
   "language": "python",
   "name": "python3"
  },
  "language_info": {
   "codemirror_mode": {
    "name": "ipython",
    "version": 3
   },
   "file_extension": ".py",
   "mimetype": "text/x-python",
   "name": "python",
   "nbconvert_exporter": "python",
   "pygments_lexer": "ipython3",
   "version": "3.11.3"
  }
 },
 "nbformat": 4,
 "nbformat_minor": 5
}
