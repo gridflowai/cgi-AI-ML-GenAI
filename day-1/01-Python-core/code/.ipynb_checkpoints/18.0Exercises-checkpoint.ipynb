{
 "cells": [
  {
   "cell_type": "markdown",
   "id": "b5dc875d-273b-404f-acff-afc404c09e44",
   "metadata": {},
   "source": [
    "**Exercise 01**\n",
    "\n",
    "- find the top n items which highest values in a dictionary"
   ]
  },
  {
   "cell_type": "code",
   "execution_count": 3,
   "id": "02419895-e73f-4b22-b3c6-8fa8db403c91",
   "metadata": {
    "tags": []
   },
   "outputs": [],
   "source": [
    "data = {'python' : 1000, 'c' : 9898, 'js': 100001, 'mysql': 109383}"
   ]
  },
  {
   "cell_type": "code",
   "execution_count": 4,
   "id": "eaa8c2d0-c1f2-43a2-a30e-1a26a4d1b6ab",
   "metadata": {
    "tags": []
   },
   "outputs": [
    {
     "data": {
      "text/plain": [
       "dict_items([('python', 1000), ('c', 9898), ('js', 100001), ('mysql', 109383)])"
      ]
     },
     "execution_count": 4,
     "metadata": {},
     "output_type": "execute_result"
    }
   ],
   "source": [
    "data.items()"
   ]
  },
  {
   "cell_type": "code",
   "execution_count": 7,
   "id": "c626ec5c-a12c-4e38-9d83-efea44d1a5fb",
   "metadata": {
    "tags": []
   },
   "outputs": [],
   "source": [
    "n = 2"
   ]
  },
  {
   "cell_type": "code",
   "execution_count": 4,
   "id": "660ef192-131b-434b-85c2-2f6cb7be0c02",
   "metadata": {
    "tags": []
   },
   "outputs": [
    {
     "data": {
      "text/plain": [
       "{'python': 1000, 'c': 9898, 'js': 100001, 'mysql': 109383}"
      ]
     },
     "execution_count": 4,
     "metadata": {},
     "output_type": "execute_result"
    }
   ],
   "source": [
    "data"
   ]
  },
  {
   "cell_type": "code",
   "execution_count": 5,
   "id": "53556a68-f99c-4940-be51-387d5dccafbc",
   "metadata": {
    "tags": []
   },
   "outputs": [
    {
     "data": {
      "text/plain": [
       "['c', 'js', 'mysql', 'python']"
      ]
     },
     "execution_count": 5,
     "metadata": {},
     "output_type": "execute_result"
    }
   ],
   "source": [
    "sorted(data)"
   ]
  },
  {
   "cell_type": "code",
   "execution_count": 5,
   "id": "9feec932-a84a-4f98-9213-d3247e52863d",
   "metadata": {
    "tags": []
   },
   "outputs": [
    {
     "data": {
      "text/plain": [
       "[('mysql', 109383), ('js', 100001), ('c', 9898), ('python', 1000)]"
      ]
     },
     "execution_count": 5,
     "metadata": {},
     "output_type": "execute_result"
    }
   ],
   "source": [
    "sorted(data.items(), \n",
    "       reverse = True, \n",
    "       key     = lambda item: item[1])"
   ]
  },
  {
   "cell_type": "code",
   "execution_count": 8,
   "id": "210b3dff-8906-420c-a04e-4c030e685b68",
   "metadata": {
    "tags": []
   },
   "outputs": [
    {
     "data": {
      "text/plain": [
       "[('mysql', 109383), ('js', 100001)]"
      ]
     },
     "execution_count": 8,
     "metadata": {},
     "output_type": "execute_result"
    }
   ],
   "source": [
    "sorted(data.items(), reverse=True, key= lambda item: item[1])[:n]"
   ]
  },
  {
   "cell_type": "markdown",
   "id": "a59d0def-76fd-485c-9f2f-7d1e8c1ee5d6",
   "metadata": {},
   "source": [
    "**Exercise 02**\n",
    "\n",
    "- check if the keys exist in a given dictionary"
   ]
  },
  {
   "cell_type": "code",
   "execution_count": 12,
   "id": "9776614e-59ae-4670-abf3-ee71c5834da8",
   "metadata": {
    "tags": []
   },
   "outputs": [],
   "source": [
    "keys_to_check = ['python', 'C']"
   ]
  },
  {
   "cell_type": "code",
   "execution_count": 13,
   "id": "b735c37b-9aff-4674-ab88-70bbac31778a",
   "metadata": {
    "tags": []
   },
   "outputs": [],
   "source": [
    "data = {'python' : 1000, 'c' : 9898, 'js': 100001, 'mysql': 109383}"
   ]
  },
  {
   "cell_type": "code",
   "execution_count": null,
   "id": "bc1591cc-de7f-4261-a42b-549c6de4aa21",
   "metadata": {},
   "outputs": [],
   "source": [
    "data.keys("
   ]
  }
 ],
 "metadata": {
  "kernelspec": {
   "display_name": "Python 3 (ipykernel)",
   "language": "python",
   "name": "python3"
  },
  "language_info": {
   "codemirror_mode": {
    "name": "ipython",
    "version": 3
   },
   "file_extension": ".py",
   "mimetype": "text/x-python",
   "name": "python",
   "nbconvert_exporter": "python",
   "pygments_lexer": "ipython3",
   "version": "3.11.3"
  }
 },
 "nbformat": 4,
 "nbformat_minor": 5
}
