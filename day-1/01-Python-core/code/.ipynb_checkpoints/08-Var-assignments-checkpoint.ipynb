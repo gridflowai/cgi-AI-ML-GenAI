{
 "cells": [
  {
   "cell_type": "markdown",
   "id": "2209bb4c-4bde-4357-ac21-efdc21318b57",
   "metadata": {},
   "source": [
    "-------------------\n",
    "### Variable assignment - reassignment\n",
    "\n",
    "--------------------"
   ]
  },
  {
   "cell_type": "code",
   "execution_count": 1,
   "id": "e5375307-03c1-4274-8836-a25a444100a6",
   "metadata": {
    "tags": []
   },
   "outputs": [],
   "source": [
    "# Variable Assignment\n",
    "x    = 10\n",
    "name = \"John\"\n",
    "pi   = 3.14"
   ]
  },
  {
   "cell_type": "code",
   "execution_count": 2,
   "id": "bc261f49-50b9-4a1e-b187-5419f5441747",
   "metadata": {
    "tags": []
   },
   "outputs": [
    {
     "data": {
      "text/plain": [
       "(140730980144200, 2892920774832, 2892920094512)"
      ]
     },
     "execution_count": 2,
     "metadata": {},
     "output_type": "execute_result"
    }
   ],
   "source": [
    "id(x), id(name), id(pi)"
   ]
  },
  {
   "cell_type": "code",
   "execution_count": 6,
   "id": "3be1c61a-74ca-47f9-811c-df60635ece4d",
   "metadata": {
    "tags": []
   },
   "outputs": [],
   "source": [
    "# Variable Reassignment\n",
    "x    = 20\n",
    "name = \"Alice\"\n",
    "pi   = 3.14159"
   ]
  },
  {
   "cell_type": "code",
   "execution_count": 7,
   "id": "175199eb-8930-4b81-9526-4e67456b099c",
   "metadata": {
    "tags": []
   },
   "outputs": [
    {
     "data": {
      "text/plain": [
       "(8885608, 139700216769328, 139700217902608)"
      ]
     },
     "execution_count": 7,
     "metadata": {},
     "output_type": "execute_result"
    }
   ],
   "source": [
    "id(x), id(name), id(pi)"
   ]
  },
  {
   "cell_type": "code",
   "execution_count": 8,
   "id": "01e8305d-4ba9-4b74-b48f-86a67adf43a4",
   "metadata": {
    "tags": []
   },
   "outputs": [
    {
     "name": "stdout",
     "output_type": "stream",
     "text": [
      "x contains: 100 with data type: <class 'int'>\n",
      "x contains: Hello, World! with data type: <class 'str'>\n"
     ]
    }
   ],
   "source": [
    "# Variable Reassignment with Different Data Types\n",
    "x = 100\n",
    "print(\"x contains:\", x, \"with data type:\", type(x))  # Output: x contains: 100 with data type: <class 'int'>\n",
    "\n",
    "x = \"Hello, World!\"\n",
    "print(\"x contains:\", x, \"with data type:\", type(x))  # Output: x contains: Hello, World! with data type: <class 'str'>\n"
   ]
  },
  {
   "cell_type": "markdown",
   "id": "609f26ba-3b8e-47f3-a061-d2a775ded23a",
   "metadata": {},
   "source": [
    "`Variable Naming Rules`: Variable names must adhere to the rules mentioned earlier, which include starting with a letter or underscore, consisting of letters, digits, and underscores, being case-sensitive, and avoiding reserved words.\n",
    "\n",
    "`Assignment Operator`: The equal sign (=) is used as the assignment operator to assign values to variables. It does not imply mathematical equality but rather assigns the value on the right-hand side to the variable on the left-hand side.\n",
    "\n",
    "`Dynamic Typing`: Python is dynamically-typed, so you don't need to specify the data type of the variable explicitly. The data type is determined automatically based on the value assigned to the variable."
   ]
  },
  {
   "cell_type": "markdown",
   "id": "3a15f998-a32e-4629-81fa-3b035ab75672",
   "metadata": {},
   "source": [
    "**Multiple Assignments:**\n",
    "\n",
    "Python allows you to assign multiple variables in a single line."
   ]
  },
  {
   "cell_type": "code",
   "execution_count": 3,
   "id": "bc8a6a15-f4b9-4e3f-8f71-5001570a77bb",
   "metadata": {
    "tags": []
   },
   "outputs": [],
   "source": [
    "a, b, c = 10, 20, 30"
   ]
  },
  {
   "cell_type": "markdown",
   "id": "8f86bc06-5b14-4538-8392-c5d590f590bf",
   "metadata": {},
   "source": [
    "**Augmented Assignment:**\n",
    "\n",
    "Python supports augmented assignment operators, which perform an operation and assign the result to the same variable."
   ]
  },
  {
   "cell_type": "code",
   "execution_count": 2,
   "id": "37f5cc12-15fb-4653-bbf5-484c4e28f069",
   "metadata": {
    "tags": []
   },
   "outputs": [
    {
     "name": "stdout",
     "output_type": "stream",
     "text": [
      "7\n"
     ]
    }
   ],
   "source": [
    "x = 5\n",
    "x += 2   # Equivalent to x = x + 2\n",
    "print(x) # Output: 7\n"
   ]
  },
  {
   "cell_type": "markdown",
   "id": "af6d993c-f20d-46f0-9065-ee4e7f6ef0e8",
   "metadata": {},
   "source": [
    "**Swapping Variables**\n",
    "\n",
    "Python allows you to swap the values of two variables in a single line using multiple assignments."
   ]
  },
  {
   "cell_type": "code",
   "execution_count": 5,
   "id": "e9a95c94-a006-4027-a45a-e2de81f112b8",
   "metadata": {
    "tags": []
   },
   "outputs": [
    {
     "name": "stdout",
     "output_type": "stream",
     "text": [
      "20 10\n"
     ]
    }
   ],
   "source": [
    "a, b = 10, 20\n",
    "a, b = b, a  # Swap the values of a and b\n",
    "print(a, b)  # Output: 20, 10\n"
   ]
  },
  {
   "cell_type": "markdown",
   "id": "fce915ed-fccc-4d2d-9537-daf2d29c6830",
   "metadata": {},
   "source": [
    "**Unpacking:**\n",
    "\n",
    "Python allows you to unpack elements from a list, tuple, or dictionary into individual variables using multiple assignments."
   ]
  },
  {
   "cell_type": "code",
   "execution_count": 6,
   "id": "a152457a-59cb-4b1b-a738-d2bdfa177915",
   "metadata": {
    "tags": []
   },
   "outputs": [
    {
     "name": "stdout",
     "output_type": "stream",
     "text": [
      "1 2 3\n"
     ]
    }
   ],
   "source": [
    "my_list = [1, 2, 3]\n",
    "x, y, z = my_list\n",
    "print(x, y, z)  # Output: 1, 2, 3\n"
   ]
  },
  {
   "cell_type": "code",
   "execution_count": 5,
   "id": "a716ce08-5bbe-4612-bb4e-07aebf240ed8",
   "metadata": {
    "tags": []
   },
   "outputs": [
    {
     "name": "stdout",
     "output_type": "stream",
     "text": [
      "1 2 3\n"
     ]
    }
   ],
   "source": [
    "my_list = (1, 2, 3)\n",
    "x, y, z = my_list\n",
    "print(x, y, z)  # Output: 1, 2, 3"
   ]
  },
  {
   "cell_type": "code",
   "execution_count": 7,
   "id": "532887ee-3af7-4079-8c6f-4a540e9cfb74",
   "metadata": {
    "tags": []
   },
   "outputs": [
    {
     "name": "stdout",
     "output_type": "stream",
     "text": [
      "a b c\n"
     ]
    }
   ],
   "source": [
    "my_list = {'a': 1, 'b': 2, 'c':3}\n",
    "x, y, z = my_list\n",
    "print(x, y, z)  "
   ]
  },
  {
   "cell_type": "markdown",
   "id": "f7204d49-e688-4590-887d-23e7282f8d2d",
   "metadata": {},
   "source": [
    "**Extended Unpacking (Python 3.5+):**\n",
    "\n",
    "In Python 3.5 and later versions, you can use the extended unpacking syntax to assign multiple values and capture the remaining values in a single variable using the asterisk (*)."
   ]
  },
  {
   "cell_type": "code",
   "execution_count": 8,
   "id": "c6625327-c813-4614-8f3c-596d6cda992c",
   "metadata": {
    "tags": []
   },
   "outputs": [
    {
     "name": "stdout",
     "output_type": "stream",
     "text": [
      "1\n",
      "[2, 3, 4, 5]\n"
     ]
    }
   ],
   "source": [
    "# Extended unpacking\n",
    "a, *rest = [1, 2, 3, 4, 5]\n",
    "\n",
    "print(a)    # Output: 1\n",
    "print(rest) # Output: [2, 3, 4, 5]\n"
   ]
  },
  {
   "cell_type": "code",
   "execution_count": null,
   "id": "c08aa723-ac69-4b93-82a3-dbae0d1de1be",
   "metadata": {},
   "outputs": [],
   "source": []
  }
 ],
 "metadata": {
  "kernelspec": {
   "display_name": "Python 3 (ipykernel)",
   "language": "python",
   "name": "python3"
  },
  "language_info": {
   "codemirror_mode": {
    "name": "ipython",
    "version": 3
   },
   "file_extension": ".py",
   "mimetype": "text/x-python",
   "name": "python",
   "nbconvert_exporter": "python",
   "pygments_lexer": "ipython3",
   "version": "3.9.13"
  }
 },
 "nbformat": 4,
 "nbformat_minor": 5
}
