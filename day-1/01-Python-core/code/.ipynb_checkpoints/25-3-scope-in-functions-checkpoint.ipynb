{
 "cells": [
  {
   "cell_type": "markdown",
   "id": "eac847b7-47ef-4ee2-bf64-54b224a97e51",
   "metadata": {
    "tags": []
   },
   "source": [
    "#### Scope and Lifetime of variables\n",
    "- `Scope` of a variable is the portion of a program where the variable is recognized. \n",
    "- Parameters and variables defined inside a function are `not visible` from `outside the function`. \n",
    "    - Hence, they have a `local` scope.\n",
    "\n",
    "- The `lifetime` of a variable is the period throughout which the variable exists in the memory. The lifetime of variables inside a function is as long as the function executes.\n",
    "\n",
    "- They are `destroyed` once we `return` from the function. \n",
    "\n",
    "- Hence, a function does not remember the value of a variable from its previous calls.\n",
    "\n",
    "Here is an example to illustrate the scope of a variable inside a function."
   ]
  },
  {
   "cell_type": "code",
   "execution_count": 4,
   "id": "44774767-1632-4057-9d91-f3ba6573c2a4",
   "metadata": {},
   "outputs": [],
   "source": [
    "def my_func():\n",
    "    my_var = 10\n",
    "    print(\"Value inside function:\", my_var)"
   ]
  },
  {
   "cell_type": "code",
   "execution_count": 5,
   "id": "8b106400-e882-4580-808b-8b880f617203",
   "metadata": {},
   "outputs": [
    {
     "name": "stdout",
     "output_type": "stream",
     "text": [
      "Value inside function: 10\n",
      "Value outside function: 20\n"
     ]
    }
   ],
   "source": [
    "my_var = 20\n",
    "\n",
    "my_func()   # value of my_var changes inside the function\n",
    "\n",
    "print(\"Value outside function:\", my_var)"
   ]
  },
  {
   "cell_type": "markdown",
   "id": "4af6486e-724c-4a1d-a5ac-d2c7c48ac0f5",
   "metadata": {},
   "source": [
    "- the value of `my_var` is 20 initially. \n",
    "- Even though the function my_func() changed the value of `my_var` to 10, it did not affect the value outside the function.\n",
    "\n",
    "- This is because the variable `my_var` inside the function is different (local to the function) from the one outside. \n",
    "    - Although they have the `same names`, they are two different variables with `different scopes`."
   ]
  },
  {
   "cell_type": "markdown",
   "id": "f53ec4ed-788e-4bf7-8aff-a8e70b23b4fd",
   "metadata": {},
   "source": [
    "##### the other side of it ... global variables"
   ]
  },
  {
   "cell_type": "code",
   "execution_count": 7,
   "id": "9756615a-cffc-4d1b-b7fa-08130eeec9fe",
   "metadata": {},
   "outputs": [],
   "source": [
    "def my_func():\n",
    "    \n",
    "    my_var = 10\n",
    "    \n",
    "    print(\"Value inside function:\", my_var)\n",
    "    print(\"Variable from outside the function:\", another_var)"
   ]
  },
  {
   "cell_type": "code",
   "execution_count": 8,
   "id": "9be15eb2-45a9-4ec4-97eb-cf6d21788755",
   "metadata": {},
   "outputs": [
    {
     "name": "stdout",
     "output_type": "stream",
     "text": [
      "Value inside function: 10\n",
      "Variable from outside the function: 200\n",
      "Value outside function: 20\n"
     ]
    }
   ],
   "source": [
    "my_var      = 20\n",
    "another_var = 200\n",
    "\n",
    "my_func()   # value of my_var changes inside the function\n",
    "\n",
    "print(\"Value outside function:\", my_var)"
   ]
  },
  {
   "cell_type": "markdown",
   "id": "687c1106-5128-4078-9849-00c4308dd7af",
   "metadata": {},
   "source": [
    "So variables outside of the function are visible from inside. They have a `global scope.`\n",
    "\n",
    "We can `read` these values from inside the function. "
   ]
  },
  {
   "cell_type": "markdown",
   "id": "88e2d8f4-04c9-42f7-906b-4c3199f1b2b7",
   "metadata": {},
   "source": [
    "##### but inside a function, the outside variable cannot be changed unless we declare it with 'global' keyword\n",
    "\n",
    "In order to `modify` the value of variables outside the function, they must be declared as `global` variables using the keyword global."
   ]
  },
  {
   "cell_type": "code",
   "execution_count": 9,
   "id": "6476fb0e-4ede-4cd7-b5ff-653acbc398ec",
   "metadata": {},
   "outputs": [],
   "source": [
    "def my_func():\n",
    "    \n",
    "    my_var = 10\n",
    "    \n",
    "    print(\"Value inside function:\", my_var)\n",
    "    \n",
    "    another_var += 1\n",
    "    \n",
    "    print(\"Variable from outside the function:\", another_var)"
   ]
  },
  {
   "cell_type": "code",
   "execution_count": 10,
   "id": "e806979d-8918-45db-983e-54b1e1aa7a6f",
   "metadata": {},
   "outputs": [
    {
     "name": "stdout",
     "output_type": "stream",
     "text": [
      "Value inside function: 10\n"
     ]
    },
    {
     "ename": "UnboundLocalError",
     "evalue": "local variable 'another_var' referenced before assignment",
     "output_type": "error",
     "traceback": [
      "\u001b[1;31m---------------------------------------------------------------------------\u001b[0m",
      "\u001b[1;31mUnboundLocalError\u001b[0m                         Traceback (most recent call last)",
      "\u001b[1;32m~\\AppData\\Local\\Temp/ipykernel_13252/2787023558.py\u001b[0m in \u001b[0;36m<module>\u001b[1;34m\u001b[0m\n\u001b[0;32m      2\u001b[0m \u001b[0manother_var\u001b[0m \u001b[1;33m=\u001b[0m \u001b[1;36m200\u001b[0m\u001b[1;33m\u001b[0m\u001b[1;33m\u001b[0m\u001b[0m\n\u001b[0;32m      3\u001b[0m \u001b[1;33m\u001b[0m\u001b[0m\n\u001b[1;32m----> 4\u001b[1;33m \u001b[0mmy_func\u001b[0m\u001b[1;33m(\u001b[0m\u001b[1;33m)\u001b[0m   \u001b[1;31m# value of my_var changes inside the function\u001b[0m\u001b[1;33m\u001b[0m\u001b[1;33m\u001b[0m\u001b[0m\n\u001b[0m\u001b[0;32m      5\u001b[0m \u001b[1;33m\u001b[0m\u001b[0m\n\u001b[0;32m      6\u001b[0m \u001b[0mprint\u001b[0m\u001b[1;33m(\u001b[0m\u001b[1;34m\"Value outside function:\"\u001b[0m\u001b[1;33m,\u001b[0m \u001b[0mmy_var\u001b[0m\u001b[1;33m)\u001b[0m\u001b[1;33m\u001b[0m\u001b[1;33m\u001b[0m\u001b[0m\n",
      "\u001b[1;32m~\\AppData\\Local\\Temp/ipykernel_13252/949194507.py\u001b[0m in \u001b[0;36mmy_func\u001b[1;34m()\u001b[0m\n\u001b[0;32m      5\u001b[0m     \u001b[0mprint\u001b[0m\u001b[1;33m(\u001b[0m\u001b[1;34m\"Value inside function:\"\u001b[0m\u001b[1;33m,\u001b[0m \u001b[0mmy_var\u001b[0m\u001b[1;33m)\u001b[0m\u001b[1;33m\u001b[0m\u001b[1;33m\u001b[0m\u001b[0m\n\u001b[0;32m      6\u001b[0m \u001b[1;33m\u001b[0m\u001b[0m\n\u001b[1;32m----> 7\u001b[1;33m     \u001b[0manother_var\u001b[0m \u001b[1;33m+=\u001b[0m \u001b[1;36m1\u001b[0m\u001b[1;33m\u001b[0m\u001b[1;33m\u001b[0m\u001b[0m\n\u001b[0m\u001b[0;32m      8\u001b[0m \u001b[1;33m\u001b[0m\u001b[0m\n\u001b[0;32m      9\u001b[0m     \u001b[0mprint\u001b[0m\u001b[1;33m(\u001b[0m\u001b[1;34m\"Variable from outside the function:\"\u001b[0m\u001b[1;33m,\u001b[0m \u001b[0manother_var\u001b[0m\u001b[1;33m)\u001b[0m\u001b[1;33m\u001b[0m\u001b[1;33m\u001b[0m\u001b[0m\n",
      "\u001b[1;31mUnboundLocalError\u001b[0m: local variable 'another_var' referenced before assignment"
     ]
    }
   ],
   "source": [
    "my_var      = 20\n",
    "another_var = 200\n",
    "\n",
    "my_func()   # value of my_var changes inside the function\n",
    "\n",
    "print(\"Value outside function:\", my_var)"
   ]
  },
  {
   "cell_type": "code",
   "execution_count": 11,
   "id": "1e6875b1-0c30-4cf8-86ee-36b09fd4b7fc",
   "metadata": {},
   "outputs": [],
   "source": [
    "def my_func():\n",
    "    my_var = 10\n",
    "    global another_var\n",
    "    \n",
    "    print(\"Value inside function:\", my_var)\n",
    "    another_var += 1\n",
    "    print(\"Variable from outside the function:\", another_var)"
   ]
  },
  {
   "cell_type": "code",
   "execution_count": 12,
   "id": "77f0f931-6625-471c-9a12-53ab73e55f37",
   "metadata": {},
   "outputs": [
    {
     "name": "stdout",
     "output_type": "stream",
     "text": [
      "Value inside function: 10\n",
      "Variable from outside the function: 201\n",
      "Value outside function: 20\n"
     ]
    }
   ],
   "source": [
    "my_var      = 20\n",
    "another_var = 200\n",
    "\n",
    "my_func()   # value of my_var changes inside the function\n",
    "\n",
    "print(\"Value outside function:\", my_var)"
   ]
  },
  {
   "cell_type": "code",
   "execution_count": null,
   "id": "e3168ea1-25bd-4533-9818-2cd65c64ba7e",
   "metadata": {},
   "outputs": [],
   "source": []
  }
 ],
 "metadata": {
  "kernelspec": {
   "display_name": "Python 3 (ipykernel)",
   "language": "python",
   "name": "python3"
  },
  "language_info": {
   "codemirror_mode": {
    "name": "ipython",
    "version": 3
   },
   "file_extension": ".py",
   "mimetype": "text/x-python",
   "name": "python",
   "nbconvert_exporter": "python",
   "pygments_lexer": "ipython3",
   "version": "3.11.3"
  }
 },
 "nbformat": 4,
 "nbformat_minor": 5
}
