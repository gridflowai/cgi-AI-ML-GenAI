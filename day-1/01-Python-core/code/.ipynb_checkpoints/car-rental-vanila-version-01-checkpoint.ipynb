{
 "cells": [
  {
   "cell_type": "markdown",
   "id": "6b77d093-f0ba-4412-a6a1-6c322fa8ac89",
   "metadata": {},
   "source": [
    "----------------------------------------\n",
    "#### Project Name : car rental\n",
    "-----------------------"
   ]
  },
  {
   "cell_type": "code",
   "execution_count": 38,
   "id": "95470b6d-2b48-47c6-8b77-8b75a33ed1e4",
   "metadata": {},
   "outputs": [],
   "source": [
    "import random"
   ]
  },
  {
   "cell_type": "code",
   "execution_count": 39,
   "id": "2e86f336-c1a2-46f0-a294-e6de19e6d785",
   "metadata": {},
   "outputs": [],
   "source": [
    "car_types = {\n",
    "    'COMPACT': {'hourly': 10, 'daily': 50, 'weekly': 125},\n",
    "    'SDN':     {'hourly': 15, 'daily': 75, 'weekly': 150},\n",
    "    'MUV':     {'hourly': 25, 'daily': 100, 'weekly': 150},\n",
    "    'TRUCKS':  {'hourly': 30, 'daily': 120, 'weekly': 200}\n",
    "}"
   ]
  },
  {
   "cell_type": "code",
   "execution_count": 40,
   "id": "7fc93f1c-0cb0-4a46-b413-2843070a6af1",
   "metadata": {},
   "outputs": [
    {
     "data": {
      "text/plain": [
       "dict_keys(['COMPACT', 'SDN', 'MUV', 'TRUCKS'])"
      ]
     },
     "execution_count": 40,
     "metadata": {},
     "output_type": "execute_result"
    }
   ],
   "source": [
    "car_types.keys()"
   ]
  },
  {
   "cell_type": "code",
   "execution_count": 41,
   "id": "1ad0419e-f1ce-4128-9baa-37dd4df420ff",
   "metadata": {},
   "outputs": [
    {
     "data": {
      "text/plain": [
       "['COMPACT', 'SDN', 'MUV', 'TRUCKS']"
      ]
     },
     "execution_count": 41,
     "metadata": {},
     "output_type": "execute_result"
    }
   ],
   "source": [
    "list(car_types.keys())"
   ]
  },
  {
   "cell_type": "code",
   "execution_count": 42,
   "id": "6b517655-ecb9-41eb-b019-3112eeb3364c",
   "metadata": {},
   "outputs": [
    {
     "data": {
      "text/plain": [
       "'SDN'"
      ]
     },
     "execution_count": 42,
     "metadata": {},
     "output_type": "execute_result"
    }
   ],
   "source": [
    "random.choice(list(car_types.keys()))"
   ]
  },
  {
   "cell_type": "code",
   "execution_count": 43,
   "id": "3df95716-a1af-4b03-bec4-89ffc8ffde3f",
   "metadata": {},
   "outputs": [],
   "source": [
    "num_cars = 20"
   ]
  },
  {
   "cell_type": "code",
   "execution_count": 44,
   "id": "7b23a53a-6bde-4704-9b76-b29bb03af0ac",
   "metadata": {},
   "outputs": [],
   "source": [
    "def generate_car_stock(num_cars):\n",
    "    car_stock = {}\n",
    "\n",
    "    for i in range(num_cars):\n",
    "        reg_no    = random.randint(10000, 50000)\n",
    "        car_type  = random.choice(list(car_types.keys()))\n",
    "        available = 'yes'\n",
    "\n",
    "        rented_by_customer = None\n",
    "        rented_date        = None\n",
    "        return_date        = None\n",
    "\n",
    "        car_stock[reg_no] = {\n",
    "            'car_type': car_type,\n",
    "            'available': available,\n",
    "            'rented_by_customer' : rented_by_customer,\n",
    "            'rented_date': rented_date,\n",
    "            'return_date': return_date,\n",
    "            'rates' : car_types[car_type]\n",
    "        }\n",
    "        \n",
    "    return car_stock"
   ]
  },
  {
   "cell_type": "code",
   "execution_count": 45,
   "id": "0b8e31aa-4d01-4b4f-97c1-27b7e77c114d",
   "metadata": {},
   "outputs": [],
   "source": [
    "car_stock = generate_car_stock(num_cars)"
   ]
  },
  {
   "cell_type": "code",
   "execution_count": 46,
   "id": "36779ab3-3752-4658-ae26-b5b4248f2f36",
   "metadata": {},
   "outputs": [],
   "source": [
    "#car_stock"
   ]
  },
  {
   "cell_type": "code",
   "execution_count": 47,
   "id": "67854d6f-46d8-442e-b207-5d771ed905c0",
   "metadata": {},
   "outputs": [],
   "source": [
    "#pip install tabulate"
   ]
  },
  {
   "cell_type": "code",
   "execution_count": 48,
   "id": "1de34f9c-917c-4d5b-9321-5fd715320c3f",
   "metadata": {},
   "outputs": [],
   "source": [
    "from tabulate import tabulate"
   ]
  },
  {
   "cell_type": "code",
   "execution_count": 49,
   "id": "f36d2388-927a-4358-8ca1-1d52a3791bd2",
   "metadata": {},
   "outputs": [],
   "source": [
    "def display_stock(car_stock):\n",
    "    car_type_count = {}\n",
    "    total_stock    = {}\n",
    "\n",
    "    # Count total and available cars for each car type\n",
    "    for reg_no, details in car_stock.items():\n",
    "        car_type = details['car_type']\n",
    "        \n",
    "        if car_type in total_stock:\n",
    "            total_stock[car_type] += 1\n",
    "        else:\n",
    "            total_stock[car_type] = 1\n",
    "\n",
    "        if details['available'] == 'yes':\n",
    "            if car_type in car_type_count:\n",
    "                car_type_count[car_type] += 1\n",
    "            else:\n",
    "                car_type_count[car_type] = 1\n",
    "\n",
    "    if not car_type_count:\n",
    "        return \"No cars available\"\n",
    "\n",
    "    # Prepare data for tabulation\n",
    "    available_cars = []\n",
    "    \n",
    "    for car_type, count in car_type_count.items():\n",
    "        total        = total_stock[car_type]\n",
    "        rates        = car_types[car_type]\n",
    "        rental_rates = f\"Hourly: ${rates['hourly']}, Daily: ${rates['daily']}, Weekly: ${rates['weekly']}\"\n",
    "        \n",
    "        available_cars.append((car_type, total, count, rental_rates))\n",
    "        \n",
    "    headers = [\"Car Type\", \"Total Stock\", \"Number of Available Cars\", \"Rental Rates\"]\n",
    "    table   = tabulate(available_cars, headers, tablefmt=\"pretty\")\n",
    "    \n",
    "    return table"
   ]
  },
  {
   "cell_type": "code",
   "execution_count": 50,
   "id": "0776b5db-ae8a-4e3d-bd6e-2c3316fda943",
   "metadata": {},
   "outputs": [
    {
     "name": "stdout",
     "output_type": "stream",
     "text": [
      "+----------+-------------+--------------------------+----------------------------------------+\n",
      "| Car Type | Total Stock | Number of Available Cars |              Rental Rates              |\n",
      "+----------+-------------+--------------------------+----------------------------------------+\n",
      "|   SDN    |      6      |            6             | Hourly: $15, Daily: $75, Weekly: $150  |\n",
      "|  TRUCKS  |      7      |            7             | Hourly: $30, Daily: $120, Weekly: $200 |\n",
      "| COMPACT  |      4      |            4             | Hourly: $10, Daily: $50, Weekly: $125  |\n",
      "|   MUV    |      3      |            3             | Hourly: $25, Daily: $100, Weekly: $150 |\n",
      "+----------+-------------+--------------------------+----------------------------------------+\n"
     ]
    }
   ],
   "source": [
    "print(display_stock(car_stock))"
   ]
  },
  {
   "cell_type": "code",
   "execution_count": null,
   "id": "e010fd9a-f993-4f4d-91e6-804e33ae52fd",
   "metadata": {},
   "outputs": [],
   "source": []
  }
 ],
 "metadata": {
  "kernelspec": {
   "display_name": "Python 3 (ipykernel)",
   "language": "python",
   "name": "python3"
  },
  "language_info": {
   "codemirror_mode": {
    "name": "ipython",
    "version": 3
   },
   "file_extension": ".py",
   "mimetype": "text/x-python",
   "name": "python",
   "nbconvert_exporter": "python",
   "pygments_lexer": "ipython3",
   "version": "3.9.13"
  }
 },
 "nbformat": 4,
 "nbformat_minor": 5
}
