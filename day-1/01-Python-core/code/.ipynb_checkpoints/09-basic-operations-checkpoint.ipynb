{
 "cells": [
  {
   "cell_type": "markdown",
   "id": "79453e19-6827-466d-90f4-aa6c7b302b0b",
   "metadata": {},
   "source": [
    "-------------------\n",
    "### basic operations with variables\n",
    "\n",
    "----------------------"
   ]
  },
  {
   "cell_type": "markdown",
   "id": "8a7264d1-c680-40d7-a328-25bcaa8a9675",
   "metadata": {},
   "source": [
    "#### Arithmetic Operations:"
   ]
  },
  {
   "cell_type": "code",
   "execution_count": 1,
   "id": "12d04fa0-06c9-4133-b75f-6a197bb143e4",
   "metadata": {
    "tags": []
   },
   "outputs": [
    {
     "name": "stdout",
     "output_type": "stream",
     "text": [
      "Addition: 15\n",
      "Subtraction: 5\n",
      "Multiplication: 50\n",
      "Division: 2.0\n",
      "Floor Division: 2\n",
      "Modulus: 0\n",
      "Exponentiation: 100000\n"
     ]
    }
   ],
   "source": [
    "# Arithmetic Operations with Variables\n",
    "x = 10\n",
    "y = 5\n",
    "\n",
    "# Addition\n",
    "result_add = x + y\n",
    "print(\"Addition:\", result_add)  # Output: 15\n",
    "\n",
    "# Subtraction\n",
    "result_sub = x - y\n",
    "print(\"Subtraction:\", result_sub)  # Output: 5\n",
    "\n",
    "# Multiplication\n",
    "result_mul = x * y\n",
    "print(\"Multiplication:\", result_mul)  # Output: 50\n",
    "\n",
    "# Division (Always results in a float)\n",
    "result_div = x / y\n",
    "print(\"Division:\", result_div)  # Output: 2.0\n",
    "\n",
    "# Floor Division (Results in an integer, discards the fractional part)\n",
    "result_floor_div = x // y\n",
    "print(\"Floor Division:\", result_floor_div)  # Output: 2\n",
    "\n",
    "# Modulus (Remainder after division)\n",
    "result_mod = x % y\n",
    "print(\"Modulus:\", result_mod)  # Output: 0\n",
    "\n",
    "# Exponentiation\n",
    "result_exp = x ** y\n",
    "print(\"Exponentiation:\", result_exp)  # Output: 100000"
   ]
  },
  {
   "cell_type": "code",
   "execution_count": 6,
   "id": "66b05fc1-d54d-4b0b-a56a-841a49829a63",
   "metadata": {
    "tags": []
   },
   "outputs": [
    {
     "data": {
      "text/plain": [
       "1"
      ]
     },
     "execution_count": 6,
     "metadata": {},
     "output_type": "execute_result"
    }
   ],
   "source": [
    "2 ^ 3"
   ]
  },
  {
   "cell_type": "markdown",
   "id": "eea7fc6f-a668-4dd5-b892-ca63a8ebb1b2",
   "metadata": {},
   "source": [
    "**Comparison Operations**"
   ]
  },
  {
   "cell_type": "code",
   "execution_count": 1,
   "id": "71c08906-7548-4979-987f-cf19d7773d77",
   "metadata": {
    "tags": []
   },
   "outputs": [
    {
     "name": "stdout",
     "output_type": "stream",
     "text": [
      "False\n",
      "True\n",
      "False\n",
      "True\n",
      "False\n",
      "True\n"
     ]
    }
   ],
   "source": [
    "x = 5\n",
    "y = 10\n",
    "\n",
    "# Equal to\n",
    "print(x == y)  # Output: False\n",
    "\n",
    "# Not equal to\n",
    "print(x != y)  # Output: True\n",
    "\n",
    "# Greater than\n",
    "print(x > y)   # Output: False\n",
    "\n",
    "# Less than\n",
    "print(x < y)   # Output: True\n",
    "\n",
    "# Greater than or equal to\n",
    "print(x >= y)  # Output: False\n",
    "\n",
    "# Less than or equal to\n",
    "print(x <= y)  # Output: True\n"
   ]
  },
  {
   "cell_type": "markdown",
   "id": "e10fa8dd-778d-4a74-97dd-debeff9ed929",
   "metadata": {},
   "source": [
    "**Logical Operations**"
   ]
  },
  {
   "cell_type": "code",
   "execution_count": 2,
   "id": "e5f3d3b9-d2a0-4166-bc6a-08ed6ce0e1bc",
   "metadata": {
    "tags": []
   },
   "outputs": [
    {
     "name": "stdout",
     "output_type": "stream",
     "text": [
      "False\n",
      "True\n",
      "False\n",
      "True\n"
     ]
    }
   ],
   "source": [
    "p = True\n",
    "q = False\n",
    "\n",
    "# Logical AND\n",
    "result_and = p and q\n",
    "print(result_and)  # Output: False\n",
    "\n",
    "# Logical OR\n",
    "result_or = p or q\n",
    "print(result_or)   # Output: True\n",
    "\n",
    "# Logical NOT\n",
    "result_not_p = not p\n",
    "result_not_q = not q\n",
    "print(result_not_p)  # Output: False\n",
    "print(result_not_q)  # Output: True\n"
   ]
  },
  {
   "cell_type": "markdown",
   "id": "773d5679-4536-4d6f-9530-c2a400d953c8",
   "metadata": {
    "tags": []
   },
   "source": [
    "#### String Manipulation"
   ]
  },
  {
   "cell_type": "code",
   "execution_count": 3,
   "id": "3e59da30-136f-4fe3-905e-25c3d3faf708",
   "metadata": {
    "tags": []
   },
   "outputs": [],
   "source": [
    "s = 'String Manipulation with Variables'"
   ]
  },
  {
   "cell_type": "code",
   "execution_count": 4,
   "id": "caccac90-f07e-4ca4-878a-21b10246e7be",
   "metadata": {
    "tags": []
   },
   "outputs": [
    {
     "data": {
      "text/plain": [
       "'S'"
      ]
     },
     "execution_count": 4,
     "metadata": {},
     "output_type": "execute_result"
    }
   ],
   "source": [
    "s[0:1]"
   ]
  },
  {
   "cell_type": "code",
   "execution_count": 5,
   "id": "9313c270-4150-448b-916a-302e333d7939",
   "metadata": {
    "tags": []
   },
   "outputs": [
    {
     "data": {
      "text/plain": [
       "'Str'"
      ]
     },
     "execution_count": 5,
     "metadata": {},
     "output_type": "execute_result"
    }
   ],
   "source": [
    "s[0:]"
   ]
  },
  {
   "cell_type": "code",
   "execution_count": 2,
   "id": "0c0b2fa0-bf9b-41ca-aae2-940a9b3b0b0b",
   "metadata": {
    "tags": []
   },
   "outputs": [
    {
     "name": "stdout",
     "output_type": "stream",
     "text": [
      "Hello, Alice\n",
      "AliceAliceAlice\n",
      "Name Length: 5\n",
      "Substring: lic\n",
      "My age is 30\n"
     ]
    }
   ],
   "source": [
    "# String Manipulation with Variables\n",
    "name = \"Alice\"\n",
    "greeting = \"Hello, \" + name\n",
    "print(greeting)  # Output: \"Hello, Alice\"\n",
    "\n",
    "# String Repetition\n",
    "repeated_name = name * 3\n",
    "print(repeated_name)  # Output: \"AliceAliceAlice\"\n",
    "\n",
    "# String Length\n",
    "name_length = len(name)\n",
    "print(\"Name Length:\", name_length)  # Output: 5\n",
    "\n",
    "# String Slicing\n",
    "substring = name[1:4]\n",
    "print(\"Substring:\", substring)  # Output: \"lic\"\n",
    "\n",
    "# String Concatenation with Integers (Requires explicit type conversion)\n",
    "age = 30\n",
    "message = \"My age is \" + str(age)\n",
    "print(message)  # Output: \"My age is 30\"\n"
   ]
  },
  {
   "cell_type": "code",
   "execution_count": null,
   "id": "5e2fe8bf-4518-46f3-804d-1a7f3c3dd537",
   "metadata": {},
   "outputs": [],
   "source": []
  }
 ],
 "metadata": {
  "kernelspec": {
   "display_name": "Python 3 (ipykernel)",
   "language": "python",
   "name": "python3"
  },
  "language_info": {
   "codemirror_mode": {
    "name": "ipython",
    "version": 3
   },
   "file_extension": ".py",
   "mimetype": "text/x-python",
   "name": "python",
   "nbconvert_exporter": "python",
   "pygments_lexer": "ipython3",
   "version": "3.9.13"
  }
 },
 "nbformat": 4,
 "nbformat_minor": 5
}
