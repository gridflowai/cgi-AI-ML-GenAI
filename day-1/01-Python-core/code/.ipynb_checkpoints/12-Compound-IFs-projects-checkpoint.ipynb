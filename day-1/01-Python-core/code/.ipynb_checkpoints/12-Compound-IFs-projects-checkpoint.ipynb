{
 "cells": [
  {
   "cell_type": "markdown",
   "metadata": {},
   "source": [
    "----------------\n",
    "### Compound statements\n",
    "----------\n"
   ]
  },
  {
   "cell_type": "markdown",
   "metadata": {},
   "source": [
    "`Compound statements` are essential for `organizing` code and controlling the flow of execution in Python. They use indentation (whitespace at the beginning of a line) to group the related statements together. The indentation level must be consistent throughout a compound statement, and it is typically four spaces or one tab.\n",
    "\n",
    "In Python, `indentation` serves as a structural element, and it's crucial for the correct interpretation of the code. Unlike many other programming languages that use curly braces or keywords to define blocks, Python relies on indentation to create compound statements, which results in more readable and structured code."
   ]
  },
  {
   "cell_type": "markdown",
   "metadata": {},
   "source": [
    "**Python If Else**"
   ]
  },
  {
   "cell_type": "raw",
   "metadata": {
    "tags": []
   },
   "source": [
    "\n",
    "The if-else statement is a staple of most programming languages. It is used to test different conditions and execute code accordingly. \n",
    "\n",
    "The basic syntax is as follows:\n",
    "\n",
    "if condition1 = True:\n",
    "\n",
    "      execute code1\n",
    "\n",
    "else:               \n",
    "\n",
    "      execute code2"
   ]
  },
  {
   "cell_type": "markdown",
   "metadata": {},
   "source": [
    "**Example 1**"
   ]
  },
  {
   "cell_type": "code",
   "execution_count": 1,
   "metadata": {
    "tags": []
   },
   "outputs": [
    {
     "name": "stdout",
     "output_type": "stream",
     "text": [
      "X is smaller than or equal to five!\n"
     ]
    }
   ],
   "source": [
    "x = 5\n",
    "\n",
    "if x > 5:\n",
    "      print (\"X is larger than five!\")\n",
    "else:\n",
    "      print (\"X is smaller than or equal to five!\")"
   ]
  },
  {
   "cell_type": "markdown",
   "metadata": {},
   "source": [
    "**Example 2 : Testing Multiple Conditions with Elif**"
   ]
  },
  {
   "cell_type": "code",
   "execution_count": 2,
   "metadata": {
    "tags": []
   },
   "outputs": [
    {
     "name": "stdout",
     "output_type": "stream",
     "text": [
      "Hey, X is EXACTLY five!\n"
     ]
    }
   ],
   "source": [
    "x = 5\n",
    "\n",
    "if x == 5:\n",
    "      print (\"Hey, X is EXACTLY five!\")\n",
    "elif x > 5:\n",
    "      print (\"X is now MORE than five!\")\n",
    "else:\n",
    "      print (\"X is now LESS than five!\")"
   ]
  },
  {
   "cell_type": "markdown",
   "metadata": {},
   "source": [
    "**Example 3: Nested If-Else Statements**"
   ]
  },
  {
   "cell_type": "code",
   "execution_count": 3,
   "metadata": {
    "tags": []
   },
   "outputs": [
    {
     "name": "stdout",
     "output_type": "stream",
     "text": [
      "I will buy 5 dozens\n"
     ]
    }
   ],
   "source": [
    "orange_quality = 'fresh'\n",
    "orange_price   = 4.0\n",
    "\n",
    "if orange_quality == 'fresh':\n",
    "        if orange_price < 5:\n",
    "            print('I will buy 5 dozens')\n",
    "        else: \n",
    "            print(\"I will buy 2 dozens\")\n",
    "else:\n",
    "      print(\"I will not buy any oranges\")"
   ]
  },
  {
   "cell_type": "markdown",
   "metadata": {},
   "source": [
    "--------------\n",
    "#### Sample project 1 : determine if the user input is odd or even\n",
    "----------------"
   ]
  },
  {
   "cell_type": "code",
   "execution_count": null,
   "metadata": {
    "tags": []
   },
   "outputs": [
    {
     "name": "stdout",
     "output_type": "stream",
     "text": [
      "Please enter a number between 1 and 20\n"
     ]
    }
   ],
   "source": [
    "print (\"Please enter a number between 1 and 20\")\n",
    "\n",
    "enter_num = int(input(\"> \"))       #int() added to ensure that the input is treated as a number, not a string\n",
    "\n",
    "if enter_num >= 1 and enter_num <= 20: #conditional statement that ensures limit is between 1 and 20.\n",
    "\n",
    "        print (\"You have entered a valid number\")\n",
    "\n",
    "        if enter_num % 2 == 0:         #test for even/odd\n",
    "                 print (\"Your number is even\")\n",
    "\n",
    "        elif enter_num % 2 == 1: #test for even/odd\n",
    "                 print (\"Your number is odd\")\n",
    "\n",
    "else:\n",
    "        print (\"You've entered an invalid number\")"
   ]
  },
  {
   "cell_type": "markdown",
   "metadata": {},
   "source": [
    "**Function Definition**"
   ]
  },
  {
   "cell_type": "code",
   "execution_count": 3,
   "metadata": {},
   "outputs": [],
   "source": [
    "def add_numbers(a, b):\n",
    "    return a + b\n"
   ]
  },
  {
   "cell_type": "markdown",
   "metadata": {},
   "source": [
    "**Class definition**"
   ]
  },
  {
   "cell_type": "code",
   "execution_count": null,
   "metadata": {},
   "outputs": [],
   "source": [
    "class Rectangle:\n",
    "    def __init__(self, length, width):\n",
    "        self.length = length\n",
    "        self.width = width\n",
    "\n",
    "    def area(self):\n",
    "        return self.length * self.width\n"
   ]
  }
 ],
 "metadata": {
  "kernelspec": {
   "display_name": "Python 3 (ipykernel)",
   "language": "python",
   "name": "python3"
  },
  "language_info": {
   "codemirror_mode": {
    "name": "ipython",
    "version": 3
   },
   "file_extension": ".py",
   "mimetype": "text/x-python",
   "name": "python",
   "nbconvert_exporter": "python",
   "pygments_lexer": "ipython3",
   "version": "3.11.3"
  }
 },
 "nbformat": 4,
 "nbformat_minor": 4
}
