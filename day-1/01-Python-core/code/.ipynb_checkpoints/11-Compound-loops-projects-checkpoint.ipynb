{
 "cells": [
  {
   "cell_type": "code",
   "execution_count": null,
   "metadata": {},
   "outputs": [],
   "source": [
    "from IPython.display import Image"
   ]
  },
  {
   "cell_type": "markdown",
   "metadata": {},
   "source": [
    "-------\n",
    "## Python Looping Techniques\n",
    "------\n",
    "\n",
    "- Python programming offers two kinds of loop, the `for loop` and the `while loop`. \n",
    "\n",
    "- Using these loops along with loop control statements like `break` and `continue`, we can create various forms of loop."
   ]
  },
  {
   "cell_type": "markdown",
   "metadata": {},
   "source": [
    "#### The infinite loop\n",
    "We can create an infinite loop using `while` statement. If the condition of while loop is always True, we get an infinite loop.\n",
    "\n",
    "**Example #1:** Infinite loop using while"
   ]
  },
  {
   "cell_type": "code",
   "execution_count": null,
   "metadata": {},
   "outputs": [],
   "source": [
    "# An example of infinite loop\n",
    "# press Ctrl + c to exit from the loop\n",
    "\n",
    "while True:\n",
    "   num = int(input(\"Enter an integer: \"))\n",
    "\n",
    "   print(\"The double of\", num, \"is\",2 * num)"
   ]
  },
  {
   "cell_type": "markdown",
   "metadata": {},
   "source": [
    "#### Loop with condition at the top\n",
    "This is a normal `while` loop `without break` statements. \n",
    "\n",
    "The condition of the `while loop` is at the `top` and the loop terminates when this condition is False."
   ]
  },
  {
   "cell_type": "code",
   "execution_count": null,
   "metadata": {},
   "outputs": [],
   "source": [
    "Image('loops-00.png', width=200)"
   ]
  },
  {
   "cell_type": "code",
   "execution_count": 1,
   "metadata": {
    "tags": []
   },
   "outputs": [
    {
     "name": "stdout",
     "output_type": "stream",
     "text": [
      "The sum is 55\n"
     ]
    }
   ],
   "source": [
    "# Try different numbers\n",
    "n = 10\n",
    "\n",
    "# initialize sum and counter\n",
    "sum = 0\n",
    "i   = 1\n",
    "\n",
    "while i <= n:\n",
    "    sum = sum + i\n",
    "    i   = i+1      # update counter\n",
    "\n",
    "# print the sum\n",
    "print(\"The sum is\",sum)"
   ]
  },
  {
   "cell_type": "markdown",
   "metadata": {},
   "source": [
    "#### Loop with condition in the middle\n",
    "This kind of loop can be implemented using an `infinite` loop along with a `conditional break` in between the body of the loop."
   ]
  },
  {
   "cell_type": "code",
   "execution_count": null,
   "metadata": {},
   "outputs": [],
   "source": [
    "Image('loops-01.png', width=200)"
   ]
  },
  {
   "cell_type": "code",
   "execution_count": null,
   "metadata": {},
   "outputs": [],
   "source": [
    "vowels = \"aeiouAEIOU\"\n",
    "\n",
    "# infinite loop\n",
    "while True:\n",
    "    v = input(\"Enter a vowel: \")\n",
    "    \n",
    "    # condition in the middle\n",
    "    if v in vowels:\n",
    "        break\n",
    "    \n",
    "    print(\"That is not a vowel. Try again!\")\n",
    "\n",
    "print(\"Thank you!\")"
   ]
  },
  {
   "cell_type": "markdown",
   "metadata": {},
   "source": [
    "#### Loop with condition at the bottom\n",
    "This kind of loop ensures that the body of the loop is executed at least once. \n",
    "\n",
    "It can be implemented using an `infinite loop` along with a `conditional break` at the `end`. \n"
   ]
  },
  {
   "cell_type": "code",
   "execution_count": null,
   "metadata": {},
   "outputs": [],
   "source": [
    "import random"
   ]
  },
  {
   "cell_type": "code",
   "execution_count": null,
   "metadata": {},
   "outputs": [],
   "source": [
    "random.randint(10, 60)"
   ]
  },
  {
   "cell_type": "code",
   "execution_count": null,
   "metadata": {},
   "outputs": [],
   "source": [
    "# import random module\n",
    "import random\n",
    "\n",
    "while True:\n",
    "    input(\"Press enter to roll the dice\")\n",
    "\n",
    "    # get a number between 1 to 6\n",
    "    num = random.randint(1,6)\n",
    "    \n",
    "    print(\"You got\", num)\n",
    "    option = input(\"Roll again?(y/n) \")\n",
    "\n",
    "    # condition\n",
    "    if option == 'n':\n",
    "        break"
   ]
  },
  {
   "cell_type": "markdown",
   "metadata": {},
   "source": [
    "#### Example: Python `for Loop`"
   ]
  },
  {
   "cell_type": "code",
   "execution_count": null,
   "metadata": {},
   "outputs": [],
   "source": [
    "# Program to find the sum of all numbers stored in a list\n",
    "\n",
    "# List of numbers\n",
    "numbers = [6, 5, 3, 8, 4, 2, 5, 4, 11]\n",
    "\n",
    "# variable to store the sum\n",
    "summ = 0\n",
    "\n",
    "# iterate over the list\n",
    "for val in numbers:\n",
    "\tsumm = summ + val\n",
    "\n",
    "print(\"The sum is\", summ)"
   ]
  },
  {
   "cell_type": "code",
   "execution_count": null,
   "metadata": {},
   "outputs": [],
   "source": [
    "# Program to iterate through a list using indexing\n",
    "\n",
    "genre = ['pop', 'rock', 'jazz']\n",
    "\n",
    "# iterate over the list using index\n",
    "for each_genre in range(len(genre)):\n",
    "    \n",
    "    print(\"I like\", genre[each_genre])"
   ]
  },
  {
   "cell_type": "markdown",
   "metadata": {},
   "source": [
    "#### for loop with else\n",
    "- A `for loop` can have an optional `else` block as well. The `else` part is executed if the items in the sequence used in for loop exhausts.\n",
    "\n",
    "- The `break` keyword can be used to stop a for loop. `In such cases, the else part is ignored.`\n",
    "\n",
    "- Hence, a for loop's else part runs if no break occurs.\n"
   ]
  },
  {
   "cell_type": "code",
   "execution_count": null,
   "metadata": {},
   "outputs": [],
   "source": [
    "digits = [0, 1, 5]\n",
    "\n",
    "for i in digits:\n",
    "    print(i)\n",
    "else:\n",
    "    print(\"No items left.\")"
   ]
  },
  {
   "cell_type": "code",
   "execution_count": null,
   "metadata": {},
   "outputs": [],
   "source": [
    "# program to display student's marks from record\n",
    "student_name = 'Ramki'\n",
    "\n",
    "marks = {'Dave': 90, 'Bhupen': 55, 'Brat': 77}\n",
    "\n",
    "for student in marks:\n",
    "    if student == student_name:\n",
    "        print(marks[student])\n",
    "        break\n",
    "else:\n",
    "    print('No entry with name {} found.'.format(student_name))"
   ]
  },
  {
   "cell_type": "markdown",
   "metadata": {},
   "source": [
    "---------------------\n",
    "## Simple Projects on loops\n",
    "--------------------\n",
    "\n",
    "#### Write a program to calculate factorial of a number. (while loop)"
   ]
  },
  {
   "cell_type": "code",
   "execution_count": 1,
   "metadata": {},
   "outputs": [
    {
     "name": "stdout",
     "output_type": "stream",
     "text": [
      "Enter number: \n"
     ]
    },
    {
     "name": "stdin",
     "output_type": "stream",
     "text": [
      " 5\n"
     ]
    },
    {
     "name": "stdout",
     "output_type": "stream",
     "text": [
      "Factorial of 5 is 120\n"
     ]
    }
   ],
   "source": [
    "print (\"Enter number: \")\n",
    "number = int(input())\n",
    "\n",
    "number_entered = number\n",
    "\n",
    "fac = 1\n",
    "\n",
    "if number == 0:\n",
    "    result = 1\n",
    "else:\n",
    "    while number>=1:\n",
    "        fac    = fac * number\n",
    "        number = number-1\n",
    "    result = fac\n",
    "    \n",
    "print('Factorial of {} is {}'.format(number_entered, result))"
   ]
  },
  {
   "cell_type": "markdown",
   "metadata": {},
   "source": [
    "#### write a program to generate fibbonaci numbers (using while loop)"
   ]
  },
  {
   "cell_type": "code",
   "execution_count": null,
   "metadata": {},
   "outputs": [],
   "source": [
    "count = int(input(\"How many fibonacci numbers would you like to generate? \"))\n",
    "\n",
    "i = 1\n",
    "\n",
    "if count == 0:\n",
    "    fib = []\n",
    "elif count == 1:\n",
    "    fib = [1]\n",
    "elif count == 2:\n",
    "    fib = [1,1]\n",
    "elif count > 2:\n",
    "    fib = [1,1]\n",
    "    while i < (count - 1):\n",
    "        fib.append(fib[i] + fib[i-1])\n",
    "        i += 1\n",
    "\n",
    "# print the series\n",
    "print(fib)"
   ]
  },
  {
   "cell_type": "markdown",
   "metadata": {},
   "source": [
    "#### Write a program which takes 2 digits, X,Y as input and generates a 2-dimensional array. \n",
    "\n",
    "The element value in the i-th row and j-th column of the array should be i*j.\n",
    "Note: i=0,1.., X-1; j=0,1,¡­Y-1.\n",
    "\n",
    "Suppose the following inputs are given to the program: 3,5\n",
    "\n",
    "Then, the output of the program should be:\n",
    "\n",
    "[[0, 0, 0, 0, 0], \n",
    "[0, 1, 2, 3, 4], \n",
    "[0, 2, 4, 6, 8]] "
   ]
  },
  {
   "cell_type": "code",
   "execution_count": null,
   "metadata": {},
   "outputs": [],
   "source": [
    "input_str = input('Enter array dimension (m , n e.g. 3 , 5) : ')\n",
    "\n",
    "print(input_str)\n",
    "\n",
    "dimensions=[int(x) for x in input_str.split(',')]\n",
    "\n",
    "rowNum=dimensions[0]\n",
    "colNum=dimensions[1]\n",
    "\n",
    "multilist = [[0 for col in range(colNum)] for row in range(rowNum)]\n",
    "\n",
    "for row in range(rowNum):\n",
    "    for col in range(colNum):\n",
    "        multilist[row][col]= row*col\n",
    "\n",
    "print (multilist)"
   ]
  },
  {
   "cell_type": "markdown",
   "metadata": {},
   "source": [
    "#### write a script to transpose of a matrix"
   ]
  },
  {
   "cell_type": "code",
   "execution_count": null,
   "metadata": {},
   "outputs": [],
   "source": [
    "A = [[4, 5, 3, 9], \n",
    "     [7, 1, 8, 2], \n",
    "     [5, 6, 4, 7]] \n",
    "\n",
    "B = []\n",
    "  \n",
    "# iterate over list A to the length of an item  \n",
    "for i in range(len(A[0])): \n",
    "\n",
    "    row =[] \n",
    "    for item in A: \n",
    "\n",
    "        # appending to new list with values and index positions \n",
    "        # i contains index position and item contains values \n",
    "        row.append(item[i]) \n",
    "\n",
    "    B.append(row) \n",
    "\n",
    "B"
   ]
  },
  {
   "cell_type": "code",
   "execution_count": null,
   "metadata": {},
   "outputs": [],
   "source": []
  }
 ],
 "metadata": {
  "kernelspec": {
   "display_name": "Python 3 (ipykernel)",
   "language": "python",
   "name": "python3"
  },
  "language_info": {
   "codemirror_mode": {
    "name": "ipython",
    "version": 3
   },
   "file_extension": ".py",
   "mimetype": "text/x-python",
   "name": "python",
   "nbconvert_exporter": "python",
   "pygments_lexer": "ipython3",
   "version": "3.9.13"
  }
 },
 "nbformat": 4,
 "nbformat_minor": 4
}
