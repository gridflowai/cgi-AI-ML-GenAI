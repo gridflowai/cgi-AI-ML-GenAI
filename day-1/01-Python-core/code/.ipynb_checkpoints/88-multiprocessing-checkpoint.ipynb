{
 "cells": [
  {
   "cell_type": "markdown",
   "id": "62198d10-8f73-4204-a505-457f8b3b429d",
   "metadata": {},
   "source": [
    "--------------\n",
    "#### multiprocessing\n",
    "-----------------"
   ]
  },
  {
   "cell_type": "code",
   "execution_count": 1,
   "id": "8cfaefd6-bce5-434f-91f0-86f5733d874e",
   "metadata": {
    "tags": []
   },
   "outputs": [
    {
     "name": "stdout",
     "output_type": "stream",
     "text": [
      "Square of 1: 1Square of 2: 4\n",
      "\n",
      "Square of 4: 16Square of 3: 9\n",
      "Square of 5: 25\n",
      "\n",
      "All processes have finished.\n"
     ]
    }
   ],
   "source": [
    "import multiprocessing\n",
    "import time\n",
    "\n",
    "# Function to calculate the square of a number\n",
    "def calculate_square(number):\n",
    "    result = number ** 2\n",
    "    print(f\"Square of {number}: {result}\")\n",
    "    return result\n",
    "\n",
    "if __name__ == '__main__':\n",
    "    # List of numbers for the CPU-bound task\n",
    "    numbers = [1, 2, 3, 4, 5]\n",
    "\n",
    "    # Create a Pool of processes (number of processes = number of CPU cores)\n",
    "    pool = multiprocessing.Pool()\n",
    "\n",
    "    # Perform the task (calculate squares) using multiple processes\n",
    "    results = pool.map(calculate_square, numbers)\n",
    "\n",
    "    # Close the Pool and wait for all processes to finish\n",
    "    pool.close()\n",
    "    pool.join()\n",
    "\n",
    "    print(\"All processes have finished.\")\n"
   ]
  },
  {
   "cell_type": "code",
   "execution_count": null,
   "id": "eda3194c-b22e-4be2-81b9-fe8f0a67a9a4",
   "metadata": {},
   "outputs": [],
   "source": []
  }
 ],
 "metadata": {
  "kernelspec": {
   "display_name": "Python 3 (ipykernel)",
   "language": "python",
   "name": "python3"
  },
  "language_info": {
   "codemirror_mode": {
    "name": "ipython",
    "version": 3
   },
   "file_extension": ".py",
   "mimetype": "text/x-python",
   "name": "python",
   "nbconvert_exporter": "python",
   "pygments_lexer": "ipython3",
   "version": "3.11.3"
  }
 },
 "nbformat": 4,
 "nbformat_minor": 5
}
