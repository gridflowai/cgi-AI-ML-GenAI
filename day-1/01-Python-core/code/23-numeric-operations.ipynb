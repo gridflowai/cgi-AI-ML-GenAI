{
 "cells": [
  {
   "cell_type": "markdown",
   "id": "ec41a093-9053-4a70-bdf3-574b11330122",
   "metadata": {},
   "source": [
    "----------------------\n",
    "### numeric operations in Python:\n",
    "-----------------------"
   ]
  },
  {
   "cell_type": "markdown",
   "id": "4bd9cec9-d2d0-4016-8664-e916e0e3e378",
   "metadata": {},
   "source": [
    "**Arithmetic Operators:**\n",
    "\n",
    "- Addition (+): Adds two or more numeric values together.\n",
    "- Subtraction (-): Subtracts the right-hand operand from the left-hand operand.\n",
    "- Multiplication (*): Multiplies two or more numeric values.\n",
    "- Division (/): Divides the left-hand operand by the right-hand operand. Returns a float.\n",
    "- Integer Division (//): Divides the left-hand operand by the right-hand operand and returns the integer part of the result.\n",
    "- Modulus (%): Returns the remainder of the division of the left-hand operand by the right-hand operand.\n",
    "- Exponentiation (**): Raises the left-hand operand to the power of the right-hand operand."
   ]
  },
  {
   "cell_type": "code",
   "execution_count": 1,
   "id": "d0267a32-583d-44f5-98e4-37169dc6ad19",
   "metadata": {
    "tags": []
   },
   "outputs": [
    {
     "name": "stdout",
     "output_type": "stream",
     "text": [
      "Addition: 15\n",
      "Subtraction: 5\n",
      "Multiplication: 50\n",
      "Division: 2.0\n",
      "Floor Division: 2\n",
      "Modulus: 0\n",
      "Exponentiation: 100000\n"
     ]
    }
   ],
   "source": [
    "# Numeric Operations\n",
    "a = 10\n",
    "b = 5\n",
    "\n",
    "# Addition\n",
    "add_result = a + b\n",
    "print(\"Addition:\", add_result)  # Output: 15\n",
    "\n",
    "# Subtraction\n",
    "sub_result = a - b\n",
    "print(\"Subtraction:\", sub_result)  # Output: 5\n",
    "\n",
    "# Multiplication\n",
    "mul_result = a * b\n",
    "print(\"Multiplication:\", mul_result)  # Output: 50\n",
    "\n",
    "# Division\n",
    "div_result = a / b\n",
    "print(\"Division:\", div_result)  # Output: 2.0\n",
    "\n",
    "# Floor Division (discards the fractional part)\n",
    "floor_div_result = a // b\n",
    "print(\"Floor Division:\", floor_div_result)  # Output: 2\n",
    "\n",
    "# Modulus (remainder after division)\n",
    "mod_result = a % b\n",
    "print(\"Modulus:\", mod_result)  # Output: 0\n",
    "\n",
    "# Exponentiation\n",
    "exp_result = a ** b\n",
    "print(\"Exponentiation:\", exp_result)  # Output: 100000\n"
   ]
  },
  {
   "cell_type": "code",
   "execution_count": 2,
   "id": "3ee30b2c-5275-4bd1-b510-1ee9aef4c9b1",
   "metadata": {
    "tags": []
   },
   "outputs": [
    {
     "name": "stdout",
     "output_type": "stream",
     "text": [
      "Sum: 15\n",
      "Minimum: 1\n",
      "Maximum: 5\n",
      "Absolute Value: 10\n"
     ]
    }
   ],
   "source": [
    "# Numeric Tools\n",
    "num_list = [1, 2, 3, 4, 5]\n",
    "\n",
    "# Sum of elements in the list\n",
    "sum_result = sum(num_list)\n",
    "print(\"Sum:\", sum_result)  # Output: 15\n",
    "\n",
    "# Minimum and Maximum values in the list\n",
    "min_result = min(num_list)\n",
    "max_result = max(num_list)\n",
    "print(\"Minimum:\", min_result)  # Output: 1\n",
    "print(\"Maximum:\", max_result)  # Output: 5\n",
    "\n",
    "# Absolute value\n",
    "abs_result = abs(-10)\n",
    "print(\"Absolute Value:\", abs_result)  # Output: 10\n"
   ]
  },
  {
   "cell_type": "code",
   "execution_count": 3,
   "id": "b0c324cf-8d82-49f4-9e3e-eb6da0667b9d",
   "metadata": {
    "tags": []
   },
   "outputs": [
    {
     "name": "stdout",
     "output_type": "stream",
     "text": [
      "Decimal Sum: 0.3\n"
     ]
    }
   ],
   "source": [
    "# The Decimal Module\n",
    "from decimal import Decimal\n",
    "\n",
    "a = Decimal('0.1')\n",
    "b = Decimal('0.2')\n",
    "\n",
    "sum_result = a + b\n",
    "print(\"Decimal Sum:\", sum_result)  # Output: 0.3 (Exact decimal representation)\n"
   ]
  },
  {
   "cell_type": "code",
   "execution_count": 4,
   "id": "9f5aeab3-2eb7-4b23-a707-bb0112c599c9",
   "metadata": {
    "tags": []
   },
   "outputs": [
    {
     "name": "stdout",
     "output_type": "stream",
     "text": [
      "False\n",
      "True\n"
     ]
    }
   ],
   "source": [
    "# Special Operators\n",
    "# Identity Operator - is\n",
    "x = [1, 2, 3]\n",
    "y = [1, 2, 3]\n",
    "\n",
    "print(x is y)  # Output: False (x and y are two different objects)\n",
    "\n",
    "# Membership Operator - in\n",
    "fruits = [\"apple\", \"banana\", \"orange\"]\n",
    "\n",
    "print(\"banana\" in fruits)  # Output: True (checks if \"banana\" is in the list)\n"
   ]
  },
  {
   "cell_type": "code",
   "execution_count": 5,
   "id": "a032e11e-dfba-4863-93d7-54cd34f2298a",
   "metadata": {
    "tags": []
   },
   "outputs": [
    {
     "name": "stdout",
     "output_type": "stream",
     "text": [
      "Result with default precedence: 20\n",
      "Result with parentheses: 30\n"
     ]
    }
   ],
   "source": [
    "# Operator Precedence\n",
    "a = 10\n",
    "b = 5\n",
    "c = 2\n",
    "\n",
    "result = a + b * c\n",
    "print(\"Result with default precedence:\", result)  # Output: 20 (b * c is evaluated first)\n",
    "\n",
    "# Using parentheses to control operator precedence\n",
    "result_with_parentheses = (a + b) * c\n",
    "print(\"Result with parentheses:\", result_with_parentheses)  # Output: 30 (a + b is evaluated first)\n"
   ]
  },
  {
   "cell_type": "code",
   "execution_count": 6,
   "id": "c904daab-1324-46f5-984d-a141b4d8f9c8",
   "metadata": {
    "tags": []
   },
   "outputs": [
    {
     "name": "stdout",
     "output_type": "stream",
     "text": [
      "Logical AND: False\n",
      "Logical OR: True\n",
      "Logical NOT of a: False\n",
      "Logical NOT of b: True\n"
     ]
    }
   ],
   "source": [
    "# Logical Operators\n",
    "a = True\n",
    "b = False\n",
    "\n",
    "# Logical AND\n",
    "result_and = a and b\n",
    "print(\"Logical AND:\", result_and)  # Output: False\n",
    "\n",
    "# Logical OR\n",
    "result_or = a or b\n",
    "print(\"Logical OR:\", result_or)    # Output: True\n",
    "\n",
    "# Logical NOT\n",
    "result_not_a = not a\n",
    "result_not_b = not b\n",
    "print(\"Logical NOT of a:\", result_not_a)  # Output: False\n",
    "print(\"Logical NOT of b:\", result_not_b)  # Output: True\n"
   ]
  },
  {
   "cell_type": "markdown",
   "id": "3b975d3c-8eb3-4c48-8687-0ef435898fae",
   "metadata": {},
   "source": [
    "**Comparison Operators:**\n",
    "\n",
    "- Equal to (==): Checks if two values are equal.\n",
    "- Not equal to (!=): Checks if two values are not equal.\n",
    "- Greater than (>): Checks if the left-hand operand is greater than the right-hand operand.\n",
    "- Less than (<): Checks if the left-hand operand is less than the right-hand operand.\n",
    "- Greater than or equal to (>=): Checks if the left-hand operand is greater than or equal to the right-hand operand.\n",
    "- Less than or equal to (<=): Checks if the left-hand operand is less than or equal to the right-hand operand."
   ]
  },
  {
   "cell_type": "code",
   "execution_count": 7,
   "id": "ea34a100-1189-4d33-a12d-3c1234995856",
   "metadata": {
    "tags": []
   },
   "outputs": [
    {
     "name": "stdout",
     "output_type": "stream",
     "text": [
      "Equal: False\n",
      "Not Equal: True\n",
      "Greater Than: True\n",
      "Less Than: False\n",
      "Greater Than or Equal To: True\n",
      "Less Than or Equal To: False\n"
     ]
    }
   ],
   "source": [
    "# Relational Operators\n",
    "x = 10\n",
    "y = 5\n",
    "\n",
    "# Equal to\n",
    "result_equal = x == y\n",
    "print(\"Equal:\", result_equal)  # Output: False\n",
    "\n",
    "# Not Equal to\n",
    "result_not_equal = x != y\n",
    "print(\"Not Equal:\", result_not_equal)  # Output: True\n",
    "\n",
    "# Greater than\n",
    "result_greater = x > y\n",
    "print(\"Greater Than:\", result_greater)  # Output: True\n",
    "\n",
    "# Less than\n",
    "result_less = x < y\n",
    "print(\"Less Than:\", result_less)  # Output: False\n",
    "\n",
    "# Greater than or equal to\n",
    "result_greater_equal = x >= y\n",
    "print(\"Greater Than or Equal To:\", result_greater_equal)  # Output: True\n",
    "\n",
    "# Less than or equal to\n",
    "result_less_equal = x <= y\n",
    "print(\"Less Than or Equal To:\", result_less_equal)  # Output: False\n"
   ]
  },
  {
   "cell_type": "markdown",
   "id": "c50bea29-143b-47c0-8bbd-a5087efee8cf",
   "metadata": {},
   "source": [
    "**Other Numeric Functions:**\n",
    "\n",
    "- abs(): Returns the absolute value of a numeric value.\n",
    "- round(): Rounds a floating-point number to the nearest integer or to a specified number of decimal places.\n",
    "- pow(): Equivalent to the exponentiation operator (**)."
   ]
  },
  {
   "cell_type": "code",
   "execution_count": 1,
   "id": "74b0d15b-dc2e-4d55-9f1d-921be9d145e1",
   "metadata": {
    "tags": []
   },
   "outputs": [
    {
     "name": "stdout",
     "output_type": "stream",
     "text": [
      "5.5\n",
      "-6\n",
      "-5.5\n",
      "8\n"
     ]
    }
   ],
   "source": [
    "num = -5.5\n",
    "\n",
    "print(abs(num))         # Output: 5.5\n",
    "print(round(num))       # Output: -6\n",
    "print(round(num, 1))    # Output: -5.5 (round to 1 decimal place)\n",
    "print(pow(2, 3))        # Output: 8"
   ]
  },
  {
   "cell_type": "code",
   "execution_count": null,
   "id": "f9bc873a-e5ef-4228-aeeb-bf944edd37a9",
   "metadata": {},
   "outputs": [],
   "source": []
  },
  {
   "cell_type": "code",
   "execution_count": 8,
   "id": "c8509021-57d8-4605-ab71-fd0954ca46cb",
   "metadata": {
    "tags": []
   },
   "outputs": [
    {
     "name": "stdout",
     "output_type": "stream",
     "text": [
      "Bitwise AND: 1\n"
     ]
    }
   ],
   "source": [
    "# Bitwise AND\n",
    "a = 5  # Binary: 0101\n",
    "b = 3  # Binary: 0011\n",
    "\n",
    "result_and = a & b\n",
    "print(\"Bitwise AND:\", result_and)  # Output: 1 (Binary: 0001)\n"
   ]
  },
  {
   "cell_type": "code",
   "execution_count": 9,
   "id": "577ed32a-3fb2-485d-a4c9-72e1f679b607",
   "metadata": {
    "tags": []
   },
   "outputs": [
    {
     "name": "stdout",
     "output_type": "stream",
     "text": [
      "Bitwise OR: 7\n"
     ]
    }
   ],
   "source": [
    "# Bitwise OR\n",
    "a = 5  # Binary: 0101\n",
    "b = 3  # Binary: 0011\n",
    "\n",
    "result_or = a | b\n",
    "print(\"Bitwise OR:\", result_or)  # Output: 7 (Binary: 0111)\n"
   ]
  },
  {
   "cell_type": "code",
   "execution_count": 10,
   "id": "6bbc74de-fc63-4b65-937f-28c8087f2778",
   "metadata": {
    "tags": []
   },
   "outputs": [
    {
     "name": "stdout",
     "output_type": "stream",
     "text": [
      "Bitwise XOR: 6\n"
     ]
    }
   ],
   "source": [
    "# Bitwise XOR\n",
    "a = 5  # Binary: 0101\n",
    "b = 3  # Binary: 0011\n",
    "\n",
    "result_xor = a ^ b\n",
    "print(\"Bitwise XOR:\", result_xor)  # Output: 6 (Binary: 0110)\n"
   ]
  },
  {
   "cell_type": "code",
   "execution_count": 11,
   "id": "542a4431-9ed7-487a-8623-5453e355e093",
   "metadata": {
    "tags": []
   },
   "outputs": [
    {
     "name": "stdout",
     "output_type": "stream",
     "text": [
      "Bitwise NOT: -6\n"
     ]
    }
   ],
   "source": [
    "# Bitwise NOT\n",
    "a = 5  # Binary: 0101\n",
    "\n",
    "result_not = ~a\n",
    "print(\"Bitwise NOT:\", result_not)  # Output: -6 (Binary: 1010...10)\n"
   ]
  },
  {
   "cell_type": "markdown",
   "id": "bc46af73-d3d9-4e39-8f34-689296a56344",
   "metadata": {},
   "source": [
    "Bitwise operators are used in low-level programming and scenarios where individual bits need to be manipulated. They are commonly used in networking, embedded systems, and hardware interfacing tasks. In everyday programming, bitwise operators are less frequently used, but they can be powerful tools in specific situations."
   ]
  },
  {
   "cell_type": "code",
   "execution_count": null,
   "id": "af71f6c5-93b0-44dd-83f9-cb886489e791",
   "metadata": {},
   "outputs": [],
   "source": []
  }
 ],
 "metadata": {
  "kernelspec": {
   "display_name": "Python 3 (ipykernel)",
   "language": "python",
   "name": "python3"
  },
  "language_info": {
   "codemirror_mode": {
    "name": "ipython",
    "version": 3
   },
   "file_extension": ".py",
   "mimetype": "text/x-python",
   "name": "python",
   "nbconvert_exporter": "python",
   "pygments_lexer": "ipython3",
   "version": "3.11.3"
  }
 },
 "nbformat": 4,
 "nbformat_minor": 5
}
