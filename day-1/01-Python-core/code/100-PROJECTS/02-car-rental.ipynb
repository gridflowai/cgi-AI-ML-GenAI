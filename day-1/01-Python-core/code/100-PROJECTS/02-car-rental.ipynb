{
 "cells": [
  {
   "cell_type": "markdown",
   "id": "4715fcb8-0d1f-45c3-8f51-df83000ecf65",
   "metadata": {},
   "source": [
    "#### generate dummy data for a total of 20 cars"
   ]
  },
  {
   "cell_type": "code",
   "execution_count": 2,
   "id": "c74a1b56-1de1-44ae-83ed-b723cd73b047",
   "metadata": {},
   "outputs": [],
   "source": [
    "import random"
   ]
  },
  {
   "cell_type": "code",
   "execution_count": 3,
   "id": "5c9dac6a-8f6b-4be9-96be-4c782dd7bd65",
   "metadata": {},
   "outputs": [],
   "source": [
    "car_types = {\n",
    "    'COMPACT': {'hourly': 10, 'daily': 50, 'weekly': 125},\n",
    "    'SDN': {'hourly': 15, 'daily': 75, 'weekly': 150},\n",
    "    'MUV': {'hourly': 25, 'daily': 100, 'weekly': 150},\n",
    "    'TRUCKS': {'hourly': 30, 'daily': 120, 'weekly': 200}\n",
    "}"
   ]
  },
  {
   "cell_type": "code",
   "execution_count": 4,
   "id": "f6e53153-6fef-484e-baba-c77340ce8817",
   "metadata": {},
   "outputs": [],
   "source": [
    "def generate_car_stock(num_cars):\n",
    "\n",
    "    car_stock = {}\n",
    "\n",
    "    for _ in range(num_cars):\n",
    "        reg_no    = random.randint(10000, 50000)\n",
    "        car_type  = random.choice(list(car_types.keys()))\n",
    "        available = 'Yes'\n",
    "        \n",
    "        rented_by_customer = None\n",
    "        rented_date        = None\n",
    "        return_date        = None\n",
    "\n",
    "        car_stock[reg_no] = {\n",
    "            'car_type': car_type,\n",
    "            'available': available,\n",
    "            'rented_by_customer': rented_by_customer,\n",
    "            'rented_date': rented_date,\n",
    "            'return_date': return_date,\n",
    "            'rates': car_types[car_type]\n",
    "        }\n",
    "\n",
    "    return car_stock"
   ]
  },
  {
   "cell_type": "code",
   "execution_count": 5,
   "id": "03ec7b46-9c0e-4385-8652-794817f85066",
   "metadata": {},
   "outputs": [],
   "source": [
    "# Generate car stock for 20 cars\n",
    "car_stock = generate_car_stock(20)"
   ]
  },
  {
   "cell_type": "code",
   "execution_count": 7,
   "id": "241efc8a-1245-44d7-a05d-98f390bcc08d",
   "metadata": {},
   "outputs": [],
   "source": [
    "#car_stock"
   ]
  },
  {
   "cell_type": "code",
   "execution_count": 6,
   "id": "b7800b71-0d3b-4ad4-bbda-adce45f17a1a",
   "metadata": {},
   "outputs": [],
   "source": [
    "# for reg_no, details in car_stock.items():\n",
    "#     print(f\"Reg No: {reg_no}, Details: {details}\")"
   ]
  },
  {
   "cell_type": "code",
   "execution_count": 118,
   "id": "b3116b11-f69a-4d4a-8462-b23fa603860e",
   "metadata": {},
   "outputs": [
    {
     "name": "stdout",
     "output_type": "stream",
     "text": [
      "Requirement already satisfied: tabulate in d:\\anaconda-16-feb\\lib\\site-packages (0.8.10)\n",
      "Note: you may need to restart the kernel to use updated packages.\n"
     ]
    }
   ],
   "source": [
    "#pip install tabulate (prettytable)"
   ]
  },
  {
   "cell_type": "code",
   "execution_count": 8,
   "id": "64eaf12e-5c91-4036-89c2-108a28e844fa",
   "metadata": {},
   "outputs": [],
   "source": [
    "from tabulate import tabulate"
   ]
  },
  {
   "cell_type": "code",
   "execution_count": 9,
   "id": "7d1b368e-3b6d-4fba-aa9c-4a6557ba5f35",
   "metadata": {},
   "outputs": [],
   "source": [
    "def display_stock(car_stock):\n",
    "    car_type_count = {}\n",
    "    total_stock = {}\n",
    "\n",
    "    # Count total and available cars for each car type\n",
    "    for reg_no, details in car_stock.items():\n",
    "        car_type = details['car_type']\n",
    "        \n",
    "        if car_type in total_stock:\n",
    "            total_stock[car_type] += 1\n",
    "        else:\n",
    "            total_stock[car_type] = 1\n",
    "\n",
    "        if details['available'] == 'Yes':\n",
    "            if car_type in car_type_count:\n",
    "                car_type_count[car_type] += 1\n",
    "            else:\n",
    "                car_type_count[car_type] = 1\n",
    "\n",
    "    if not car_type_count:\n",
    "        return \"No cars available\"\n",
    "\n",
    "    # Prepare data for tabulation\n",
    "    available_cars = []\n",
    "    for car_type, count in car_type_count.items():\n",
    "        total        = total_stock[car_type]\n",
    "        rates        = car_types[car_type]\n",
    "        rental_rates = f\"Hourly: ${rates['hourly']}, Daily: ${rates['daily']}, Weekly: ${rates['weekly']}\"\n",
    "        \n",
    "        available_cars.append((car_type, total, count, rental_rates))\n",
    "        \n",
    "    headers = [\"Car Type\", \"Total Stock\", \"Number of Available Cars\", \"Rental Rates\"]\n",
    "    table   = tabulate(available_cars, headers, tablefmt=\"pretty\")\n",
    "    \n",
    "    return table"
   ]
  },
  {
   "cell_type": "code",
   "execution_count": 10,
   "id": "66436e64-261f-430b-bde9-92926f14fea4",
   "metadata": {},
   "outputs": [
    {
     "name": "stdout",
     "output_type": "stream",
     "text": [
      "+----------+-------------+--------------------------+----------------------------------------+\n",
      "| Car Type | Total Stock | Number of Available Cars |              Rental Rates              |\n",
      "+----------+-------------+--------------------------+----------------------------------------+\n",
      "| COMPACT  |      4      |            4             | Hourly: $10, Daily: $50, Weekly: $125  |\n",
      "|   MUV    |      7      |            7             | Hourly: $25, Daily: $100, Weekly: $150 |\n",
      "|   SDN    |      6      |            6             | Hourly: $15, Daily: $75, Weekly: $150  |\n",
      "|  TRUCKS  |      3      |            3             | Hourly: $30, Daily: $120, Weekly: $200 |\n",
      "+----------+-------------+--------------------------+----------------------------------------+\n"
     ]
    }
   ],
   "source": [
    "print(display_stock(car_stock))"
   ]
  },
  {
   "cell_type": "markdown",
   "id": "25df747c-eaf4-4208-aec3-7cca6fbf092b",
   "metadata": {},
   "source": [
    "#### rent booking"
   ]
  },
  {
   "cell_type": "code",
   "execution_count": 11,
   "id": "bd6e4bbf-be84-4048-a33a-abcde94191c0",
   "metadata": {},
   "outputs": [],
   "source": [
    "from datetime import datetime, timedelta"
   ]
  },
  {
   "cell_type": "code",
   "execution_count": 12,
   "id": "deab4c68-d77a-4694-9855-eb302729be7e",
   "metadata": {},
   "outputs": [
    {
     "name": "stdin",
     "output_type": "stream",
     "text": [
      "Enter car type you want to book:  sdn\n"
     ]
    }
   ],
   "source": [
    "car_type = input(\"Enter car type you want to book: \").upper()\n",
    "\n",
    "if car_type not in car_types:\n",
    "        print( \"Invalid car type entered.\")"
   ]
  },
  {
   "cell_type": "code",
   "execution_count": 13,
   "id": "3d89c590-9542-4eee-a801-76e585b39803",
   "metadata": {},
   "outputs": [
    {
     "name": "stdin",
     "output_type": "stream",
     "text": [
      "Enter quantity of cars to book:  1\n"
     ]
    },
    {
     "data": {
      "text/plain": [
       "1"
      ]
     },
     "execution_count": 13,
     "metadata": {},
     "output_type": "execute_result"
    }
   ],
   "source": [
    "qty = abs(int(input(\"Enter quantity of cars to book: \")))\n",
    "qty"
   ]
  },
  {
   "cell_type": "code",
   "execution_count": 15,
   "id": "77d20c35-81c1-49c7-9ded-f7c4bae2d81f",
   "metadata": {},
   "outputs": [],
   "source": [
    "available_cars = [reg_no for reg_no, details in car_stock.items() if details['available'] == 'Yes' and details['car_type'] == car_type]"
   ]
  },
  {
   "cell_type": "code",
   "execution_count": 16,
   "id": "44e7942d-208c-4b99-8e62-b91e191b07aa",
   "metadata": {},
   "outputs": [
    {
     "data": {
      "text/plain": [
       "[39868, 30562, 24168, 13718, 14644, 45164]"
      ]
     },
     "execution_count": 16,
     "metadata": {},
     "output_type": "execute_result"
    }
   ],
   "source": [
    "available_cars"
   ]
  },
  {
   "cell_type": "code",
   "execution_count": 17,
   "id": "02eb858a-cf0f-45d9-b6a1-4faebe77e250",
   "metadata": {},
   "outputs": [],
   "source": [
    "if not available_cars:\n",
    "    print( f\"No available cars of {car_type} type.\")"
   ]
  },
  {
   "cell_type": "code",
   "execution_count": 18,
   "id": "bfcebf66-2364-4194-bba2-149f07fd9085",
   "metadata": {},
   "outputs": [],
   "source": [
    "if qty > len(available_cars):\n",
    "    print( f\"Not enough {car_type} cars available. Stock: {len(available_cars)}, requested qty {qty}\")"
   ]
  },
  {
   "cell_type": "markdown",
   "id": "a678d9b1-9ee5-41a6-a9a6-b661d8487d61",
   "metadata": {},
   "source": [
    "**... putting together a function ...**"
   ]
  },
  {
   "cell_type": "code",
   "execution_count": 19,
   "id": "1418936d-9e32-47b1-914f-fe561ae7c930",
   "metadata": {},
   "outputs": [],
   "source": [
    "def book_car(car_stock, customer_bookings, customer_name, car_type, qty, rental_basis):\n",
    "    if car_type not in car_types:\n",
    "        return \"Invalid car type entered.\"\n",
    "\n",
    "    if rental_basis not in ['hourly', 'daily', 'weekly']:\n",
    "        return \"Invalid rental basis entered.\"\n",
    "\n",
    "    if qty <= 0:\n",
    "        return \"Quantity must be a positive integer.\"\n",
    "\n",
    "    available_cars = [reg_no for reg_no, details in car_stock.items() if details['available'] == 'Yes' and details['car_type'] == car_type]\n",
    "\n",
    "    if not available_cars:\n",
    "        return f\"No available cars of {car_type} type.\"\n",
    "\n",
    "    if qty > len(available_cars):\n",
    "        return f\"Not enough {car_type} cars available. Available: {len(available_cars)}\"\n",
    "\n",
    "    # Generate a unique booking reference\n",
    "    booking_ref = f\"{customer_name}_{car_type}_{rental_basis}_{datetime.now().strftime('%Y%m%d%H%M%S%f')}\"\n",
    "\n",
    "    booking_details = []\n",
    "\n",
    "    for reg_no in random.sample(available_cars, qty):  # Using random.sample to ensure unique cars are booked\n",
    "        \n",
    "        # Generate a random previous rental date\n",
    "        some_prev_days_count = random.randint(3, 15)\n",
    "        rental_date          = datetime.now() - timedelta(days=some_prev_days_count)\n",
    "        \n",
    "        car_stock[reg_no]['available'] = 'No'\n",
    "        car_stock[reg_no]['rented_by_customer'] = customer_name\n",
    "        car_stock[reg_no]['rented_date'] = datetime.now()\n",
    "        car_stock[reg_no]['return_date'] = None\n",
    "\n",
    "        # Add booking details to booking_details list\n",
    "        booking_details.append({\n",
    "            'customer_name': customer_name,\n",
    "            'car_type': car_type,\n",
    "            'rental_basis': rental_basis,\n",
    "            'rental_date': rental_date,\n",
    "            'return_date': None,\n",
    "            'reg_no': reg_no\n",
    "        })\n",
    "\n",
    "    # Store booking details in customer_bookings using booking_ref as the key\n",
    "    customer_bookings[booking_ref] = booking_details\n",
    "\n",
    "    return f\"Booking Successful! Booking Reference: {booking_ref}\", car_stock"
   ]
  },
  {
   "cell_type": "code",
   "execution_count": 20,
   "id": "a81798d0-d81f-4a10-b798-5bcd452669a4",
   "metadata": {},
   "outputs": [
    {
     "name": "stdin",
     "output_type": "stream",
     "text": [
      "Enter customer name:  bhupen\n",
      "Enter car type you want to book:  sdn\n",
      "Enter rental basis (hourly/daily/weekly):  weekly\n",
      "Enter quantity of cars to book:  2\n"
     ]
    },
    {
     "data": {
      "text/plain": [
       "('bhupen', 'SDN', 'weekly', 2)"
      ]
     },
     "execution_count": 20,
     "metadata": {},
     "output_type": "execute_result"
    }
   ],
   "source": [
    "customer_name = input(\"Enter customer name: \")\n",
    "car_type      = input(\"Enter car type you want to book: \").upper()\n",
    "rental_basis  = input(\"Enter rental basis (hourly/daily/weekly): \").lower()\n",
    "qty           = int(input(\"Enter quantity of cars to book: \"))\n",
    "\n",
    "customer_name, car_type, rental_basis, qty"
   ]
  },
  {
   "cell_type": "code",
   "execution_count": 21,
   "id": "c3e64f8d-03f8-4e59-a579-9b9830f0571f",
   "metadata": {},
   "outputs": [],
   "source": [
    "# initialize a global bookings dict\n",
    "customer_bookings = {}"
   ]
  },
  {
   "cell_type": "code",
   "execution_count": 22,
   "id": "1e2f79e2-7670-4809-b863-5451d23137e8",
   "metadata": {},
   "outputs": [],
   "source": [
    "booking_result = book_car(car_stock, \n",
    "                          customer_bookings, \n",
    "                          customer_name, \n",
    "                          car_type, qty, \n",
    "                          rental_basis)"
   ]
  },
  {
   "cell_type": "code",
   "execution_count": 23,
   "id": "cc1c1c5f-2cb5-4242-a254-bc2a676d2c10",
   "metadata": {},
   "outputs": [
    {
     "name": "stdout",
     "output_type": "stream",
     "text": [
      "+----------+-------------+--------------------------+----------------------------------------+\n",
      "| Car Type | Total Stock | Number of Available Cars |              Rental Rates              |\n",
      "+----------+-------------+--------------------------+----------------------------------------+\n",
      "| COMPACT  |      4      |            4             | Hourly: $10, Daily: $50, Weekly: $125  |\n",
      "|   MUV    |      7      |            7             | Hourly: $25, Daily: $100, Weekly: $150 |\n",
      "|   SDN    |      6      |            4             | Hourly: $15, Daily: $75, Weekly: $150  |\n",
      "|  TRUCKS  |      3      |            3             | Hourly: $30, Daily: $120, Weekly: $200 |\n",
      "+----------+-------------+--------------------------+----------------------------------------+\n"
     ]
    }
   ],
   "source": [
    "print(display_stock(car_stock))"
   ]
  },
  {
   "cell_type": "code",
   "execution_count": 24,
   "id": "9fe1b6e3-c275-44b5-902e-0ee1b48eba6a",
   "metadata": {},
   "outputs": [
    {
     "data": {
      "text/plain": [
       "{'bhupen_SDN_weekly_20240622201615468851': [{'customer_name': 'bhupen',\n",
       "   'car_type': 'SDN',\n",
       "   'rental_basis': 'weekly',\n",
       "   'rental_date': datetime.datetime(2024, 6, 14, 20, 16, 15, 468851),\n",
       "   'return_date': None,\n",
       "   'reg_no': 14644},\n",
       "  {'customer_name': 'bhupen',\n",
       "   'car_type': 'SDN',\n",
       "   'rental_basis': 'weekly',\n",
       "   'rental_date': datetime.datetime(2024, 6, 11, 20, 16, 15, 468851),\n",
       "   'return_date': None,\n",
       "   'reg_no': 30562}]}"
      ]
     },
     "execution_count": 24,
     "metadata": {},
     "output_type": "execute_result"
    }
   ],
   "source": [
    "customer_bookings"
   ]
  },
  {
   "cell_type": "code",
   "execution_count": 25,
   "id": "e5f21d09-ecd2-4dbf-9375-30428fa46bbb",
   "metadata": {},
   "outputs": [],
   "source": [
    "# Display customer bookings using tabulate\n",
    "def display_customer_bookings(customer_bookings):\n",
    "    booking_data = []\n",
    "    headers      = [\"Booking Ref\", \"Customer Name\", \"Car Type\", \"Reg No\", \"Rental Basis\", \"Rental Date\", \"Return Date\"]\n",
    "    \n",
    "    for booking_ref, bookings in customer_bookings.items():\n",
    "        for booking in bookings:\n",
    "            booking_data.append([\n",
    "                booking_ref,\n",
    "                booking['customer_name'],\n",
    "                booking['car_type'],\n",
    "                booking['reg_no'],\n",
    "                booking['rental_basis'],\n",
    "                booking['rental_date'].strftime('%Y-%m-%d %H:%M:%S'),\n",
    "                booking['return_date']\n",
    "            ])\n",
    "    \n",
    "    table = tabulate(booking_data, headers, tablefmt=\"pretty\")\n",
    "    return table"
   ]
  },
  {
   "cell_type": "code",
   "execution_count": 26,
   "id": "8f832137-495d-4789-a7cc-0f00b2e4ded5",
   "metadata": {},
   "outputs": [
    {
     "name": "stdout",
     "output_type": "stream",
     "text": [
      "+----------------------------------------+---------------+----------+--------+--------------+---------------------+-------------+\n",
      "|              Booking Ref               | Customer Name | Car Type | Reg No | Rental Basis |     Rental Date     | Return Date |\n",
      "+----------------------------------------+---------------+----------+--------+--------------+---------------------+-------------+\n",
      "| bhupen_SDN_weekly_20240622201615468851 |    bhupen     |   SDN    | 14644  |    weekly    | 2024-06-14 20:16:15 |             |\n",
      "| bhupen_SDN_weekly_20240622201615468851 |    bhupen     |   SDN    | 30562  |    weekly    | 2024-06-11 20:16:15 |             |\n",
      "+----------------------------------------+---------------+----------+--------+--------------+---------------------+-------------+\n"
     ]
    }
   ],
   "source": [
    "print(display_customer_bookings(customer_bookings))"
   ]
  },
  {
   "cell_type": "code",
   "execution_count": 27,
   "id": "6d614e7c-c298-4fbc-825d-4bdbae6a2825",
   "metadata": {},
   "outputs": [],
   "source": [
    "def return_car(customer_bookings, car_stock):\n",
    "    customer_name = input(\"Enter customer name: \")\n",
    "    \n",
    "    # Find active bookings for the customer\n",
    "    active_bookings = []\n",
    "    for booking_ref, bookings in customer_bookings.items():\n",
    "        for booking in bookings:\n",
    "            if booking['customer_name'] == customer_name and booking['return_date'] is None:\n",
    "                active_bookings.append((booking_ref, booking))\n",
    "    \n",
    "    if not active_bookings:\n",
    "        return \"No active bookings found for the customer.\"\n",
    "    \n",
    "    # Display active bookings\n",
    "    print(f\"\\nActive bookings for {customer_name}:\")\n",
    "    headers = [\"Booking Ref\", \"Car Type\", \"Reg No\", \"Rental Basis\", \"Rental Date\"]\n",
    "    active_bookings_table = [(ref, b['car_type'], b['reg_no'], b['rental_basis'], b['rental_date'].strftime('%Y-%m-%d %H:%M:%S')) for ref, b in active_bookings]\n",
    "    print(tabulate(active_bookings_table, headers, tablefmt=\"pretty\"))\n",
    "    \n",
    "    reg_no = int(input(\"\\nEnter the registration number of the car being returned: \"))\n",
    "    \n",
    "    # Find the booking details for the given reg_no\n",
    "    booking_details = None\n",
    "    for booking_ref, booking in active_bookings:\n",
    "        if booking['reg_no'] == reg_no:\n",
    "            booking_details = booking\n",
    "            break\n",
    "    \n",
    "    if not booking_details:\n",
    "        return \"Invalid registration number or the car is not currently rented by the customer.\"\n",
    "    \n",
    "    # Calculate the bill\n",
    "    rental_date  = booking_details['rental_date']\n",
    "    return_date  = datetime.now()\n",
    "    \n",
    "    rental_basis = booking_details['rental_basis']\n",
    "    \n",
    "    car_type    = booking_details['car_type']\n",
    "    rental_rate = car_types[car_type][rental_basis]\n",
    "    \n",
    "    rental_duration = return_date - rental_date\n",
    "    \n",
    "    if rental_basis == 'hourly':\n",
    "        rental_hours = rental_duration.total_seconds() / 3600\n",
    "        bill_amount = rental_hours * rental_rate\n",
    "        \n",
    "    elif rental_basis == 'daily':\n",
    "        rental_days = rental_duration.days\n",
    "        bill_amount = rental_days * rental_rate\n",
    "        \n",
    "    elif rental_basis == 'weekly':\n",
    "        rental_weeks = rental_duration.days / 7\n",
    "        bill_amount  = rental_weeks * rental_rate\n",
    "    \n",
    "    bill_amount = round(bill_amount, 2)\n",
    "    print(f\"\\nBill Amount: ${bill_amount}\")\n",
    "    \n",
    "    # Capture if the bill is paid\n",
    "    bill_paid = input(\"Is the bill paid? (yes/no): \").strip().lower()\n",
    "    \n",
    "    if bill_paid == 'yes':\n",
    "        booking_details['return_date'] = return_date\n",
    "        car_stock[reg_no]['available'] = 'Yes'\n",
    "        car_stock[reg_no]['rented_by_customer'] = None\n",
    "        car_stock[reg_no]['rented_date']        = None\n",
    "        car_stock[reg_no]['return_date']        = None\n",
    "        \n",
    "        return f\"Car returned successfully. Bill of ${bill_amount} has been paid.\"\n",
    "    else:\n",
    "        return \"Car return not completed. Bill not paid.\""
   ]
  },
  {
   "cell_type": "code",
   "execution_count": 28,
   "id": "4bcbaca2-955f-446c-9c2f-b5dcdb5ce928",
   "metadata": {},
   "outputs": [
    {
     "name": "stdin",
     "output_type": "stream",
     "text": [
      "Enter customer name:  bhupen\n"
     ]
    },
    {
     "name": "stdout",
     "output_type": "stream",
     "text": [
      "\n",
      "Active bookings for bhupen:\n",
      "+----------------------------------------+----------+--------+--------------+---------------------+\n",
      "|              Booking Ref               | Car Type | Reg No | Rental Basis |     Rental Date     |\n",
      "+----------------------------------------+----------+--------+--------------+---------------------+\n",
      "| bhupen_SDN_weekly_20240622201615468851 |   SDN    | 14644  |    weekly    | 2024-06-14 20:16:15 |\n",
      "| bhupen_SDN_weekly_20240622201615468851 |   SDN    | 30562  |    weekly    | 2024-06-11 20:16:15 |\n",
      "+----------------------------------------+----------+--------+--------------+---------------------+\n"
     ]
    },
    {
     "name": "stdin",
     "output_type": "stream",
     "text": [
      "\n",
      "Enter the registration number of the car being returned:  30562\n"
     ]
    },
    {
     "name": "stdout",
     "output_type": "stream",
     "text": [
      "\n",
      "Bill Amount: $235.71\n"
     ]
    },
    {
     "name": "stdin",
     "output_type": "stream",
     "text": [
      "Is the bill paid? (yes/no):  yes\n"
     ]
    },
    {
     "data": {
      "text/plain": [
       "'Car returned successfully. Bill of $235.71 has been paid.'"
      ]
     },
     "execution_count": 28,
     "metadata": {},
     "output_type": "execute_result"
    }
   ],
   "source": [
    "return_car(customer_bookings, car_stock)"
   ]
  },
  {
   "cell_type": "code",
   "execution_count": 29,
   "id": "87b38012-f826-460c-a826-ca940524183e",
   "metadata": {},
   "outputs": [
    {
     "name": "stdout",
     "output_type": "stream",
     "text": [
      "+----------+-------------+--------------------------+----------------------------------------+\n",
      "| Car Type | Total Stock | Number of Available Cars |              Rental Rates              |\n",
      "+----------+-------------+--------------------------+----------------------------------------+\n",
      "| COMPACT  |      4      |            4             | Hourly: $10, Daily: $50, Weekly: $125  |\n",
      "|   MUV    |      7      |            7             | Hourly: $25, Daily: $100, Weekly: $150 |\n",
      "|   SDN    |      6      |            5             | Hourly: $15, Daily: $75, Weekly: $150  |\n",
      "|  TRUCKS  |      3      |            3             | Hourly: $30, Daily: $120, Weekly: $200 |\n",
      "+----------+-------------+--------------------------+----------------------------------------+\n"
     ]
    }
   ],
   "source": [
    "print(display_stock(car_stock))"
   ]
  },
  {
   "cell_type": "code",
   "execution_count": 30,
   "id": "4922e714-511d-4457-b032-e69959d90ddf",
   "metadata": {},
   "outputs": [
    {
     "name": "stdout",
     "output_type": "stream",
     "text": [
      "+----------------------------------------+---------------+----------+--------+--------------+---------------------+----------------------------+\n",
      "|              Booking Ref               | Customer Name | Car Type | Reg No | Rental Basis |     Rental Date     |        Return Date         |\n",
      "+----------------------------------------+---------------+----------+--------+--------------+---------------------+----------------------------+\n",
      "| bhupen_SDN_weekly_20240622201615468851 |    bhupen     |   SDN    | 14644  |    weekly    | 2024-06-14 20:16:15 |                            |\n",
      "| bhupen_SDN_weekly_20240622201615468851 |    bhupen     |   SDN    | 30562  |    weekly    | 2024-06-11 20:16:15 | 2024-06-22 20:24:18.617629 |\n",
      "+----------------------------------------+---------------+----------+--------+--------------+---------------------+----------------------------+\n"
     ]
    }
   ],
   "source": [
    "print(display_customer_bookings(customer_bookings))"
   ]
  },
  {
   "cell_type": "code",
   "execution_count": null,
   "id": "e2ad7be5-e0e7-4729-835d-39188ad4fdd0",
   "metadata": {},
   "outputs": [],
   "source": []
  }
 ],
 "metadata": {
  "kernelspec": {
   "display_name": "Python 3 (ipykernel)",
   "language": "python",
   "name": "python3"
  },
  "language_info": {
   "codemirror_mode": {
    "name": "ipython",
    "version": 3
   },
   "file_extension": ".py",
   "mimetype": "text/x-python",
   "name": "python",
   "nbconvert_exporter": "python",
   "pygments_lexer": "ipython3",
   "version": "3.9.13"
  }
 },
 "nbformat": 4,
 "nbformat_minor": 5
}
