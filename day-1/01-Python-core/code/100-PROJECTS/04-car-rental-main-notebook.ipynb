{
 "cells": [
  {
   "cell_type": "code",
   "execution_count": 2,
   "id": "99f37c93-eec0-4ebf-aace-f7348cc087b8",
   "metadata": {},
   "outputs": [],
   "source": [
    "from car_rental_common import generate_car_stock, \\\n",
    "                              display_stock, \\\n",
    "                              book_car, \\\n",
    "                              display_customer_bookings, \\\n",
    "                              return_car"
   ]
  },
  {
   "cell_type": "code",
   "execution_count": 3,
   "id": "6a0c95f1-5a3c-4c7c-9ca3-509e3e8aa071",
   "metadata": {},
   "outputs": [],
   "source": [
    "car_stock         = {}\n",
    "customer_bookings = {}"
   ]
  },
  {
   "cell_type": "code",
   "execution_count": 4,
   "id": "34663bf3-e12a-46b6-96f7-a55f74293df8",
   "metadata": {},
   "outputs": [
    {
     "name": "stdout",
     "output_type": "stream",
     "text": [
      "\n",
      "Car Rental Management System\n",
      "1. Generate stock of cars\n",
      "2. Display the car stock\n",
      "3. Rent car(s)\n",
      "4. Return car\n",
      "5. Exit\n"
     ]
    },
    {
     "name": "stdin",
     "output_type": "stream",
     "text": [
      "Enter your choice:  1\n",
      "Enter the number of cars to generate:  20\n"
     ]
    },
    {
     "name": "stdout",
     "output_type": "stream",
     "text": [
      "20 cars generated successfully!\n",
      "\n",
      "Car Rental Management System\n",
      "1. Generate stock of cars\n",
      "2. Display the car stock\n",
      "3. Rent car(s)\n",
      "4. Return car\n",
      "5. Exit\n"
     ]
    },
    {
     "name": "stdin",
     "output_type": "stream",
     "text": [
      "Enter your choice:  2\n"
     ]
    },
    {
     "name": "stdout",
     "output_type": "stream",
     "text": [
      "+----------+-------------+--------------------------+----------------------------------------+\n",
      "| Car Type | Total Stock | Number of Available Cars |              Rental Rates              |\n",
      "+----------+-------------+--------------------------+----------------------------------------+\n",
      "|   SDN    |      3      |            3             | Hourly: $15, Daily: $75, Weekly: $150  |\n",
      "| COMPACT  |      5      |            5             | Hourly: $10, Daily: $50, Weekly: $125  |\n",
      "|   MUV    |      5      |            5             | Hourly: $25, Daily: $100, Weekly: $150 |\n",
      "|  TRUCKS  |      7      |            7             | Hourly: $30, Daily: $120, Weekly: $200 |\n",
      "+----------+-------------+--------------------------+----------------------------------------+\n",
      "\n",
      "Car Rental Management System\n",
      "1. Generate stock of cars\n",
      "2. Display the car stock\n",
      "3. Rent car(s)\n",
      "4. Return car\n",
      "5. Exit\n"
     ]
    },
    {
     "name": "stdin",
     "output_type": "stream",
     "text": [
      "Enter your choice:  3\n",
      "Enter customer name:  bks\n",
      "Enter car type (COMPACT, SDN, MUV, TRUCKS):  sdn\n",
      "Enter quantity:  2\n",
      "Enter rental basis (hourly, daily, weekly):  weekly\n"
     ]
    },
    {
     "name": "stdout",
     "output_type": "stream",
     "text": [
      "Booking Successful! Booking Reference: bks_SDN_weekly_20240622203000465765\n",
      "\n",
      "Car Rental Management System\n",
      "1. Generate stock of cars\n",
      "2. Display the car stock\n",
      "3. Rent car(s)\n",
      "4. Return car\n",
      "5. Exit\n"
     ]
    },
    {
     "name": "stdin",
     "output_type": "stream",
     "text": [
      "Enter your choice:  2\n"
     ]
    },
    {
     "name": "stdout",
     "output_type": "stream",
     "text": [
      "+----------+-------------+--------------------------+----------------------------------------+\n",
      "| Car Type | Total Stock | Number of Available Cars |              Rental Rates              |\n",
      "+----------+-------------+--------------------------+----------------------------------------+\n",
      "|   SDN    |      3      |            1             | Hourly: $15, Daily: $75, Weekly: $150  |\n",
      "| COMPACT  |      5      |            5             | Hourly: $10, Daily: $50, Weekly: $125  |\n",
      "|   MUV    |      5      |            5             | Hourly: $25, Daily: $100, Weekly: $150 |\n",
      "|  TRUCKS  |      7      |            7             | Hourly: $30, Daily: $120, Weekly: $200 |\n",
      "+----------+-------------+--------------------------+----------------------------------------+\n",
      "\n",
      "Car Rental Management System\n",
      "1. Generate stock of cars\n",
      "2. Display the car stock\n",
      "3. Rent car(s)\n",
      "4. Return car\n",
      "5. Exit\n"
     ]
    },
    {
     "name": "stdin",
     "output_type": "stream",
     "text": [
      "Enter your choice:  4\n",
      "Enter customer name:  bks\n"
     ]
    },
    {
     "name": "stdout",
     "output_type": "stream",
     "text": [
      "+-------------------------------------+---------------+----------+--------+--------------+---------------------+-------------+\n",
      "|             Booking Ref             | Customer Name | Car Type | Reg No | Rental Basis |     Rental Date     | Return Date |\n",
      "+-------------------------------------+---------------+----------+--------+--------------+---------------------+-------------+\n",
      "| bks_SDN_weekly_20240622203000465765 |      bks      |   SDN    | 32868  |    weekly    | 2024-06-13 20:30:00 |             |\n",
      "| bks_SDN_weekly_20240622203000465765 |      bks      |   SDN    | 23935  |    weekly    | 2024-06-15 20:30:00 |             |\n",
      "+-------------------------------------+---------------+----------+--------+--------------+---------------------+-------------+\n"
     ]
    },
    {
     "name": "stdin",
     "output_type": "stream",
     "text": [
      "Enter the registration number of the car being returned:  23935\n",
      "Enter customer name:  bks\n"
     ]
    },
    {
     "name": "stdout",
     "output_type": "stream",
     "text": [
      "\n",
      "Active bookings for bks:\n",
      "+-------------------------------------+----------+--------+--------------+---------------------+\n",
      "|             Booking Ref             | Car Type | Reg No | Rental Basis |     Rental Date     |\n",
      "+-------------------------------------+----------+--------+--------------+---------------------+\n",
      "| bks_SDN_weekly_20240622203000465765 |   SDN    | 32868  |    weekly    | 2024-06-13 20:30:00 |\n",
      "| bks_SDN_weekly_20240622203000465765 |   SDN    | 23935  |    weekly    | 2024-06-15 20:30:00 |\n",
      "+-------------------------------------+----------+--------+--------------+---------------------+\n"
     ]
    },
    {
     "name": "stdin",
     "output_type": "stream",
     "text": [
      "\n",
      "Enter the registration number of the car being returned:  23935\n"
     ]
    },
    {
     "name": "stdout",
     "output_type": "stream",
     "text": [
      "\n",
      "Bill Amount: $150.0\n"
     ]
    },
    {
     "name": "stdin",
     "output_type": "stream",
     "text": [
      "Is the bill paid? (yes/no):  yes\n"
     ]
    },
    {
     "name": "stdout",
     "output_type": "stream",
     "text": [
      "Car returned successfully. Bill of $150.0 has been paid.\n",
      "\n",
      "Car Rental Management System\n",
      "1. Generate stock of cars\n",
      "2. Display the car stock\n",
      "3. Rent car(s)\n",
      "4. Return car\n",
      "5. Exit\n"
     ]
    },
    {
     "name": "stdin",
     "output_type": "stream",
     "text": [
      "Enter your choice:  2\n"
     ]
    },
    {
     "name": "stdout",
     "output_type": "stream",
     "text": [
      "+----------+-------------+--------------------------+----------------------------------------+\n",
      "| Car Type | Total Stock | Number of Available Cars |              Rental Rates              |\n",
      "+----------+-------------+--------------------------+----------------------------------------+\n",
      "|   SDN    |      3      |            2             | Hourly: $15, Daily: $75, Weekly: $150  |\n",
      "| COMPACT  |      5      |            5             | Hourly: $10, Daily: $50, Weekly: $125  |\n",
      "|   MUV    |      5      |            5             | Hourly: $25, Daily: $100, Weekly: $150 |\n",
      "|  TRUCKS  |      7      |            7             | Hourly: $30, Daily: $120, Weekly: $200 |\n",
      "+----------+-------------+--------------------------+----------------------------------------+\n",
      "\n",
      "Car Rental Management System\n",
      "1. Generate stock of cars\n",
      "2. Display the car stock\n",
      "3. Rent car(s)\n",
      "4. Return car\n",
      "5. Exit\n"
     ]
    },
    {
     "name": "stdin",
     "output_type": "stream",
     "text": [
      "Enter your choice:  5\n"
     ]
    },
    {
     "name": "stdout",
     "output_type": "stream",
     "text": [
      "Exiting the system. Goodbye!\n"
     ]
    }
   ],
   "source": [
    "while True:\n",
    "        print(\"\\nCar Rental Management System\")\n",
    "        print(\"1. Generate stock of cars\")\n",
    "        print(\"2. Display the car stock\")\n",
    "        print(\"3. Rent car(s)\")\n",
    "        print(\"4. Return car\")\n",
    "        print(\"5. Exit\")\n",
    "        \n",
    "        choice = input(\"Enter your choice: \")\n",
    "\n",
    "        if choice == '1':\n",
    "            num_cars  = int(input(\"Enter the number of cars to generate: \"))\n",
    "            car_stock = generate_car_stock(num_cars)\n",
    "            print(f\"{num_cars} cars generated successfully!\")\n",
    "\n",
    "        elif choice == '2':\n",
    "            if car_stock:\n",
    "                print(display_stock(car_stock))\n",
    "            else:\n",
    "                print(\"No cars in stock. Please generate car stock first.\")\n",
    "\n",
    "        elif choice == '3':\n",
    "            if car_stock:\n",
    "                customer_name = input(\"Enter customer name: \")\n",
    "                car_type      = input(\"Enter car type (COMPACT, SDN, MUV, TRUCKS): \").upper()\n",
    "                qty           = int(input(\"Enter quantity: \"))\n",
    "                rental_basis  = input(\"Enter rental basis (hourly, daily, weekly): \").lower()\n",
    "                result, car_stock = book_car(car_stock, customer_bookings, customer_name, car_type, qty, rental_basis)\n",
    "                print(result)\n",
    "            else:\n",
    "                print(\"No cars in stock. Please generate car stock first.\")\n",
    "\n",
    "        elif choice == '4':\n",
    "            if customer_bookings:\n",
    "                customer_name = input(\"Enter customer name: \")\n",
    "                print(display_customer_bookings(customer_bookings))\n",
    "                reg_no        = int(input(\"Enter the registration number of the car being returned: \"))\n",
    "                result        = return_car(customer_bookings, car_stock)\n",
    "                print(result)\n",
    "            else:\n",
    "                print(\"No active bookings found.\")\n",
    "\n",
    "        elif choice == '5':\n",
    "            print(\"Exiting the system. Goodbye!\")\n",
    "            break\n",
    "\n",
    "        else:\n",
    "            print(\"Invalid choice. Please try again.\")"
   ]
  },
  {
   "cell_type": "code",
   "execution_count": null,
   "id": "a0592685-c816-46ee-bc06-6a615384fdb5",
   "metadata": {},
   "outputs": [],
   "source": []
  }
 ],
 "metadata": {
  "kernelspec": {
   "display_name": "Python 3 (ipykernel)",
   "language": "python",
   "name": "python3"
  },
  "language_info": {
   "codemirror_mode": {
    "name": "ipython",
    "version": 3
   },
   "file_extension": ".py",
   "mimetype": "text/x-python",
   "name": "python",
   "nbconvert_exporter": "python",
   "pygments_lexer": "ipython3",
   "version": "3.9.13"
  }
 },
 "nbformat": 4,
 "nbformat_minor": 5
}
