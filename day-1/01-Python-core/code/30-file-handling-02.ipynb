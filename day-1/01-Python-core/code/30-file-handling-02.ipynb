{
 "cells": [
  {
   "cell_type": "markdown",
   "id": "225c755a-4707-4d6d-8555-2947016f028c",
   "metadata": {},
   "source": [
    "---------------\n",
    "### File and Dir handling\n",
    "-----------"
   ]
  },
  {
   "cell_type": "markdown",
   "id": "1b1abbd5-82a8-4234-a00b-3be3084ec763",
   "metadata": {},
   "source": [
    "#### os module\n",
    "\n",
    "The os module provides a way to interact with the operating system. It offers functions to manipulate file paths, create and delete directories, check file existence, and more. \n",
    "\n",
    "Some commonly used functions include:\n",
    "\n",
    "- `os.path`: A submodule that provides various functions for working with file paths, such as join(), split(), basename(), dirname(), etc.\n",
    "- `os.mkdir()`: Creates a new directory.\n",
    "- `os.rmdir()`: Removes an empty directory.\n",
    "- `os.remove()`: Deletes a file.\n",
    "- `os.listdir()`: Returns a list of files in a directory."
   ]
  },
  {
   "cell_type": "code",
   "execution_count": 22,
   "id": "5ac71708-e4ab-4d80-b781-5aba2392ebd4",
   "metadata": {
    "tags": []
   },
   "outputs": [],
   "source": [
    "import os"
   ]
  },
  {
   "cell_type": "code",
   "execution_count": 24,
   "id": "67531db4-bbe0-493f-bbe5-b8a8a29ec7fd",
   "metadata": {
    "tags": []
   },
   "outputs": [
    {
     "name": "stdout",
     "output_type": "stream",
     "text": [
      "example.txt exists!\n"
     ]
    }
   ],
   "source": [
    "# Checking if a file exists\n",
    "if os.path.exists('example.txt'):\n",
    "    print(\"example.txt exists!\")\n",
    "else:\n",
    "    print(\"example.txt does not exist!\")"
   ]
  },
  {
   "cell_type": "code",
   "execution_count": 25,
   "id": "23433fd5-175b-439d-ba37-096353e4e171",
   "metadata": {
    "tags": []
   },
   "outputs": [
    {
     "name": "stdout",
     "output_type": "stream",
     "text": [
      "example_directory created!\n"
     ]
    }
   ],
   "source": [
    "# Creating a new directory\n",
    "if not os.path.exists('example_directory'):\n",
    "    os.mkdir('example_directory')\n",
    "    print(\"example_directory created!\")"
   ]
  },
  {
   "cell_type": "code",
   "execution_count": 26,
   "id": "2e8aac23-c6d3-488f-86f8-f41534a2ab15",
   "metadata": {
    "tags": []
   },
   "outputs": [
    {
     "name": "stdout",
     "output_type": "stream",
     "text": [
      "Data written to example.txt!\n"
     ]
    }
   ],
   "source": [
    "# Writing to a file\n",
    "with open('example.txt', 'w') as file:\n",
    "    file.write(\"Hello, this is an example.\\n\")\n",
    "    file.write(\"Welcome to Python file I/O operations.\\n\")\n",
    "    print(\"Data written to example.txt!\")"
   ]
  },
  {
   "cell_type": "code",
   "execution_count": 27,
   "id": "f8d6a91a-1941-4db2-bec3-960595ab8124",
   "metadata": {
    "tags": []
   },
   "outputs": [
    {
     "name": "stdout",
     "output_type": "stream",
     "text": [
      "File content:\n",
      "Hello, this is an example.\n",
      "Welcome to Python file I/O operations.\n",
      "\n"
     ]
    }
   ],
   "source": [
    "# Reading from a file\n",
    "with open('example.txt', 'r') as file:\n",
    "    content = file.read()\n",
    "    print(\"File content:\")\n",
    "    print(content)"
   ]
  },
  {
   "cell_type": "code",
   "execution_count": 7,
   "id": "17bd599e-523f-489f-b674-91a6508beb4c",
   "metadata": {
    "tags": []
   },
   "outputs": [
    {
     "name": "stdout",
     "output_type": "stream",
     "text": [
      "Files in the 'example_directory':\n"
     ]
    }
   ],
   "source": [
    "# Listing files in a directory\n",
    "print(\"Files in the 'example_directory':\")\n",
    "for filename in os.listdir('example_directory'):\n",
    "    print(filename)"
   ]
  },
  {
   "cell_type": "code",
   "execution_count": 8,
   "id": "8e0e5d85-f2ff-48e7-b9a8-b8aef57e439e",
   "metadata": {
    "tags": []
   },
   "outputs": [
    {
     "name": "stdout",
     "output_type": "stream",
     "text": [
      "example_directory removed!\n"
     ]
    }
   ],
   "source": [
    "# Removing a directory\n",
    "os.rmdir('example_directory')\n",
    "print(\"example_directory removed!\")"
   ]
  },
  {
   "cell_type": "markdown",
   "id": "16b5de47-6a1f-44ab-ba10-deb8aa67d629",
   "metadata": {},
   "source": [
    "#### shutil module\n",
    "\n",
    "- The shutil module provides higher-level file operations that are often used when working with files and directories. \n",
    "- Some useful functions include \n",
    "    - copying files (shutil.copy()), \n",
    "    - copying directories recursively (shutil.copytree()), \n",
    "    - moving files or directories (shutil.move()), and \n",
    "    - deleting directories recursively (shutil.rmtree()).\n",
    "\n"
   ]
  },
  {
   "cell_type": "code",
   "execution_count": 10,
   "id": "9a8e36d2-b8f8-4389-a527-dd6395863fb7",
   "metadata": {
    "tags": []
   },
   "outputs": [],
   "source": [
    "import shutil"
   ]
  },
  {
   "cell_type": "code",
   "execution_count": 11,
   "id": "da8d5be2-ed39-4689-a189-0884e5391ec9",
   "metadata": {
    "tags": []
   },
   "outputs": [
    {
     "name": "stdout",
     "output_type": "stream",
     "text": [
      "example.txt copied to example_copy.txt!\n"
     ]
    },
    {
     "ename": "FileNotFoundError",
     "evalue": "[Errno 2] No such file or directory: 'source_directory'",
     "output_type": "error",
     "traceback": [
      "\u001b[0;31m---------------------------------------------------------------------------\u001b[0m",
      "\u001b[0;31mFileNotFoundError\u001b[0m                         Traceback (most recent call last)",
      "Cell \u001b[0;32mIn[11], line 6\u001b[0m\n\u001b[1;32m      3\u001b[0m \u001b[38;5;28mprint\u001b[39m(\u001b[38;5;124m\"\u001b[39m\u001b[38;5;124mexample.txt copied to example_copy.txt!\u001b[39m\u001b[38;5;124m\"\u001b[39m)\n\u001b[1;32m      5\u001b[0m \u001b[38;5;66;03m# Copying a directory recursively\u001b[39;00m\n\u001b[0;32m----> 6\u001b[0m shutil\u001b[38;5;241m.\u001b[39mcopytree(\u001b[38;5;124m'\u001b[39m\u001b[38;5;124msource_directory\u001b[39m\u001b[38;5;124m'\u001b[39m, \u001b[38;5;124m'\u001b[39m\u001b[38;5;124mdestination_directory\u001b[39m\u001b[38;5;124m'\u001b[39m)\n\u001b[1;32m      7\u001b[0m \u001b[38;5;28mprint\u001b[39m(\u001b[38;5;124m\"\u001b[39m\u001b[38;5;124msource_directory copied to destination_directory!\u001b[39m\u001b[38;5;124m\"\u001b[39m)\n\u001b[1;32m      9\u001b[0m \u001b[38;5;66;03m# Moving a file\u001b[39;00m\n",
      "File \u001b[0;32m~/anaconda3/lib/python3.11/shutil.py:559\u001b[0m, in \u001b[0;36mcopytree\u001b[0;34m(src, dst, symlinks, ignore, copy_function, ignore_dangling_symlinks, dirs_exist_ok)\u001b[0m\n\u001b[1;32m    520\u001b[0m \u001b[38;5;250m\u001b[39m\u001b[38;5;124;03m\"\"\"Recursively copy a directory tree and return the destination directory.\u001b[39;00m\n\u001b[1;32m    521\u001b[0m \n\u001b[1;32m    522\u001b[0m \u001b[38;5;124;03mIf exception(s) occur, an Error is raised with a list of reasons.\u001b[39;00m\n\u001b[0;32m   (...)\u001b[0m\n\u001b[1;32m    556\u001b[0m \u001b[38;5;124;03m`src` tree.\u001b[39;00m\n\u001b[1;32m    557\u001b[0m \u001b[38;5;124;03m\"\"\"\u001b[39;00m\n\u001b[1;32m    558\u001b[0m sys\u001b[38;5;241m.\u001b[39maudit(\u001b[38;5;124m\"\u001b[39m\u001b[38;5;124mshutil.copytree\u001b[39m\u001b[38;5;124m\"\u001b[39m, src, dst)\n\u001b[0;32m--> 559\u001b[0m \u001b[38;5;28;01mwith\u001b[39;00m os\u001b[38;5;241m.\u001b[39mscandir(src) \u001b[38;5;28;01mas\u001b[39;00m itr:\n\u001b[1;32m    560\u001b[0m     entries \u001b[38;5;241m=\u001b[39m \u001b[38;5;28mlist\u001b[39m(itr)\n\u001b[1;32m    561\u001b[0m \u001b[38;5;28;01mreturn\u001b[39;00m _copytree(entries\u001b[38;5;241m=\u001b[39mentries, src\u001b[38;5;241m=\u001b[39msrc, dst\u001b[38;5;241m=\u001b[39mdst, symlinks\u001b[38;5;241m=\u001b[39msymlinks,\n\u001b[1;32m    562\u001b[0m                  ignore\u001b[38;5;241m=\u001b[39mignore, copy_function\u001b[38;5;241m=\u001b[39mcopy_function,\n\u001b[1;32m    563\u001b[0m                  ignore_dangling_symlinks\u001b[38;5;241m=\u001b[39mignore_dangling_symlinks,\n\u001b[1;32m    564\u001b[0m                  dirs_exist_ok\u001b[38;5;241m=\u001b[39mdirs_exist_ok)\n",
      "\u001b[0;31mFileNotFoundError\u001b[0m: [Errno 2] No such file or directory: 'source_directory'"
     ]
    }
   ],
   "source": [
    "# Copying a file\n",
    "shutil.copy('example.txt', 'example_copy.txt')\n",
    "print(\"example.txt copied to example_copy.txt!\")\n",
    "\n",
    "# Copying a directory recursively\n",
    "shutil.copytree('source_directory', 'destination_directory')\n",
    "print(\"source_directory copied to destination_directory!\")\n",
    "\n",
    "# Moving a file\n",
    "shutil.move('example.txt', 'new_location/example.txt')\n",
    "print(\"example.txt moved to new_location!\")\n",
    "\n",
    "# Deleting a directory recursively\n",
    "shutil.rmtree('directory_to_delete')\n",
    "print(\"directory_to_delete removed!\")"
   ]
  },
  {
   "cell_type": "markdown",
   "id": "71967d7a-74d8-4cd4-891e-7d305f7c52a5",
   "metadata": {},
   "source": [
    "#### glob module:\n",
    "The glob module is used to find all the pathnames matching a specified pattern according to the rules used by the Unix shell. This module is handy when you want to retrieve a list of files in a directory based on specific patterns (e.g., all .txt files, all files with a certain prefix, etc.). The main function is glob.glob()."
   ]
  },
  {
   "cell_type": "code",
   "execution_count": 12,
   "id": "33f7e70c-d518-4f1e-8001-f27278685137",
   "metadata": {
    "tags": []
   },
   "outputs": [
    {
     "name": "stdout",
     "output_type": "stream",
     "text": [
      "Python files in the 'my_code' directory:\n",
      "[]\n"
     ]
    }
   ],
   "source": [
    "import glob\n",
    "\n",
    "# List all Python files (*.py) in the 'my_code' directory\n",
    "python_files = glob.glob('my_code/*.py')\n",
    "print(\"Python files in the 'my_code' directory:\")\n",
    "print(python_files)"
   ]
  },
  {
   "cell_type": "code",
   "execution_count": 13,
   "id": "d526223a-a997-4012-beab-b3ce723ea90e",
   "metadata": {
    "tags": []
   },
   "outputs": [
    {
     "name": "stdout",
     "output_type": "stream",
     "text": [
      "Files with prefix 'data_' in 'data_files' directory and subdirectories:\n",
      "[]\n"
     ]
    }
   ],
   "source": [
    "# Find all files with the prefix 'data_' in the 'data_files' directory and its subdirectories\n",
    "data_files = glob.glob('data_files/**/data_*.csv', recursive=True)\n",
    "print(\"Files with prefix 'data_' in 'data_files' directory and subdirectories:\")\n",
    "print(data_files)\n"
   ]
  },
  {
   "cell_type": "code",
   "execution_count": 14,
   "id": "c2ae8fba-3d2c-45da-b977-05cab5bb938b",
   "metadata": {
    "tags": []
   },
   "outputs": [
    {
     "name": "stdout",
     "output_type": "stream",
     "text": [
      "Image files in the 'images' directory:\n",
      "[]\n"
     ]
    }
   ],
   "source": [
    "# Find all files with extensions either '.jpg' or '.png' in the 'images' directory\n",
    "image_files = glob.glob('images/*.jpg') + glob.glob('images/*.png')\n",
    "print(\"Image files in the 'images' directory:\")\n",
    "print(image_files)\n"
   ]
  },
  {
   "cell_type": "code",
   "execution_count": 15,
   "id": "77f981d4-ccf9-49c5-946b-b79f4ab40c84",
   "metadata": {
    "tags": []
   },
   "outputs": [
    {
     "name": "stdout",
     "output_type": "stream",
     "text": [
      "All files in 'my_folder' directory and subdirectories:\n",
      "['my_folder/']\n"
     ]
    }
   ],
   "source": [
    "# List all files in the 'my_folder' directory and its subdirectories\n",
    "all_files = glob.glob('my_folder/**', recursive=True)\n",
    "print(\"All files in 'my_folder' directory and subdirectories:\")\n",
    "print(all_files)\n"
   ]
  },
  {
   "cell_type": "markdown",
   "id": "d62f8376-f771-4024-abfe-a4494ed3153e",
   "metadata": {},
   "source": [
    "#### os.path module (part of os):"
   ]
  },
  {
   "cell_type": "code",
   "execution_count": 16,
   "id": "54ce80d9-2d61-450f-a315-648c1aecdd1b",
   "metadata": {
    "tags": []
   },
   "outputs": [
    {
     "name": "stdout",
     "output_type": "stream",
     "text": [
      "example.txt exists!\n",
      "example.txt is a file!\n"
     ]
    }
   ],
   "source": [
    "path = 'example.txt'\n",
    "\n",
    "# Check if the path exists\n",
    "if os.path.exists(path):\n",
    "    print(f\"{path} exists!\")\n",
    "    \n",
    "# Check if it's a directory\n",
    "if os.path.isdir(path):\n",
    "    print(f\"{path} is a directory!\")\n",
    "    \n",
    "# Check if it's a file\n",
    "if os.path.isfile(path):\n",
    "    print(f\"{path} is a file!\")"
   ]
  },
  {
   "cell_type": "code",
   "execution_count": 17,
   "id": "a21a3c85-8000-4813-a2a1-7a5806888900",
   "metadata": {
    "tags": []
   },
   "outputs": [
    {
     "name": "stdout",
     "output_type": "stream",
     "text": [
      "Joined path: my_folder/example.txt\n",
      "Absolute path: /data/AI-gridflowAI/AI-Fundamentals/  Python-Essential-Lib-for-DS/code/12-File - dir handling/my_folder/example.txt\n"
     ]
    }
   ],
   "source": [
    "import os\n",
    "\n",
    "# Join paths using os.path.join()\n",
    "directory = 'my_folder'\n",
    "file_name = 'example.txt'\n",
    "joined_path = os.path.join(directory, file_name)\n",
    "print(\"Joined path:\", joined_path)\n",
    "\n",
    "# Get the absolute path of a file\n",
    "absolute_path = os.path.abspath(joined_path)\n",
    "print(\"Absolute path:\", absolute_path)\n"
   ]
  },
  {
   "cell_type": "code",
   "execution_count": 18,
   "id": "d95ce763-adbf-4c36-abba-969e67c4c845",
   "metadata": {
    "tags": []
   },
   "outputs": [
    {
     "name": "stdout",
     "output_type": "stream",
     "text": [
      "Directory: /home/user/documents\n",
      "Filename: example.txt\n",
      "Directory: /home/user/documents\n",
      "Filename: example.txt\n"
     ]
    }
   ],
   "source": [
    "file_path = '/home/user/documents/example.txt'\n",
    "\n",
    "# Split the file path into directory and filename using os.path.split()\n",
    "directory, filename = os.path.split(file_path)\n",
    "print(\"Directory:\", directory)\n",
    "print(\"Filename:\", filename)\n",
    "\n",
    "# Alternatively, you can use os.path.dirname() and os.path.basename()\n",
    "directory = os.path.dirname(file_path)\n",
    "filename = os.path.basename(file_path)\n",
    "print(\"Directory:\", directory)\n",
    "print(\"Filename:\", filename)\n"
   ]
  },
  {
   "cell_type": "code",
   "execution_count": 19,
   "id": "815a369c-5393-48af-9969-caedf369f339",
   "metadata": {
    "tags": []
   },
   "outputs": [
    {
     "name": "stdout",
     "output_type": "stream",
     "text": [
      "File extension: .txt\n",
      "File name without extension: my_folder/example\n"
     ]
    }
   ],
   "source": [
    "file_path = 'my_folder/example.txt'\n",
    "\n",
    "# Get the file extension\n",
    "file_extension = os.path.splitext(file_path)[1]\n",
    "print(\"File extension:\", file_extension)\n",
    "\n",
    "# Get the file name without extension\n",
    "file_name_without_extension = os.path.splitext(file_path)[0]\n",
    "print(\"File name without extension:\", file_name_without_extension)\n"
   ]
  },
  {
   "cell_type": "code",
   "execution_count": 20,
   "id": "25cbc72f-2bc7-4796-81fa-28e665be62d8",
   "metadata": {
    "tags": []
   },
   "outputs": [
    {
     "name": "stdout",
     "output_type": "stream",
     "text": [
      "File size (bytes): 66\n",
      "Last modification time: 1691076560.5007808\n"
     ]
    }
   ],
   "source": [
    "file_path = 'example.txt'\n",
    "\n",
    "# Get the size of the file\n",
    "file_size = os.path.getsize(file_path)\n",
    "print(\"File size (bytes):\", file_size)\n",
    "\n",
    "# Get the last modification time of the file\n",
    "modification_time = os.path.getmtime(file_path)\n",
    "print(\"Last modification time:\", modification_time)\n"
   ]
  },
  {
   "cell_type": "markdown",
   "id": "76df8788-bc44-409b-ac27-5c6b5b09b4b6",
   "metadata": {},
   "source": [
    "#### fileinput module:\n",
    "The fileinput module is used to iterate over lines from multiple input sources (files or standard input) in a convenient manner. It simplifies the process of looping through multiple files and reading their contents line-by-line."
   ]
  },
  {
   "cell_type": "code",
   "execution_count": 21,
   "id": "9771d8c2-310f-4671-ba18-e91f0edd145d",
   "metadata": {
    "tags": []
   },
   "outputs": [
    {
     "ename": "FileNotFoundError",
     "evalue": "[Errno 2] No such file or directory: 'file1.txt'",
     "output_type": "error",
     "traceback": [
      "\u001b[0;31m---------------------------------------------------------------------------\u001b[0m",
      "\u001b[0;31mFileNotFoundError\u001b[0m                         Traceback (most recent call last)",
      "Cell \u001b[0;32mIn[21], line 5\u001b[0m\n\u001b[1;32m      3\u001b[0m \u001b[38;5;66;03m# Reading lines from a file using fileinput\u001b[39;00m\n\u001b[1;32m      4\u001b[0m \u001b[38;5;28;01mwith\u001b[39;00m fileinput\u001b[38;5;241m.\u001b[39minput(files\u001b[38;5;241m=\u001b[39m(\u001b[38;5;124m'\u001b[39m\u001b[38;5;124mfile1.txt\u001b[39m\u001b[38;5;124m'\u001b[39m, \u001b[38;5;124m'\u001b[39m\u001b[38;5;124mfile2.txt\u001b[39m\u001b[38;5;124m'\u001b[39m)) \u001b[38;5;28;01mas\u001b[39;00m f:\n\u001b[0;32m----> 5\u001b[0m     \u001b[38;5;28;01mfor\u001b[39;00m line \u001b[38;5;129;01min\u001b[39;00m f:\n\u001b[1;32m      6\u001b[0m         \u001b[38;5;28mprint\u001b[39m(line\u001b[38;5;241m.\u001b[39mstrip())\n",
      "File \u001b[0;32m~/anaconda3/lib/python3.11/fileinput.py:251\u001b[0m, in \u001b[0;36mFileInput.__next__\u001b[0;34m(self)\u001b[0m\n\u001b[1;32m    249\u001b[0m \u001b[38;5;28;01mdef\u001b[39;00m \u001b[38;5;21m__next__\u001b[39m(\u001b[38;5;28mself\u001b[39m):\n\u001b[1;32m    250\u001b[0m     \u001b[38;5;28;01mwhile\u001b[39;00m \u001b[38;5;28;01mTrue\u001b[39;00m:\n\u001b[0;32m--> 251\u001b[0m         line \u001b[38;5;241m=\u001b[39m \u001b[38;5;28mself\u001b[39m\u001b[38;5;241m.\u001b[39m_readline()\n\u001b[1;32m    252\u001b[0m         \u001b[38;5;28;01mif\u001b[39;00m line:\n\u001b[1;32m    253\u001b[0m             \u001b[38;5;28mself\u001b[39m\u001b[38;5;241m.\u001b[39m_filelineno \u001b[38;5;241m+\u001b[39m\u001b[38;5;241m=\u001b[39m \u001b[38;5;241m1\u001b[39m\n",
      "File \u001b[0;32m~/anaconda3/lib/python3.11/fileinput.py:370\u001b[0m, in \u001b[0;36mFileInput._readline\u001b[0;34m(self)\u001b[0m\n\u001b[1;32m    367\u001b[0m                 \u001b[38;5;28mself\u001b[39m\u001b[38;5;241m.\u001b[39m_file \u001b[38;5;241m=\u001b[39m \u001b[38;5;28mself\u001b[39m\u001b[38;5;241m.\u001b[39m_openhook(\n\u001b[1;32m    368\u001b[0m                     \u001b[38;5;28mself\u001b[39m\u001b[38;5;241m.\u001b[39m_filename, \u001b[38;5;28mself\u001b[39m\u001b[38;5;241m.\u001b[39m_mode, encoding\u001b[38;5;241m=\u001b[39m\u001b[38;5;28mself\u001b[39m\u001b[38;5;241m.\u001b[39m_encoding, errors\u001b[38;5;241m=\u001b[39m\u001b[38;5;28mself\u001b[39m\u001b[38;5;241m.\u001b[39m_errors)\n\u001b[1;32m    369\u001b[0m         \u001b[38;5;28;01melse\u001b[39;00m:\n\u001b[0;32m--> 370\u001b[0m             \u001b[38;5;28mself\u001b[39m\u001b[38;5;241m.\u001b[39m_file \u001b[38;5;241m=\u001b[39m \u001b[38;5;28mopen\u001b[39m(\u001b[38;5;28mself\u001b[39m\u001b[38;5;241m.\u001b[39m_filename, \u001b[38;5;28mself\u001b[39m\u001b[38;5;241m.\u001b[39m_mode, encoding\u001b[38;5;241m=\u001b[39mencoding, errors\u001b[38;5;241m=\u001b[39m\u001b[38;5;28mself\u001b[39m\u001b[38;5;241m.\u001b[39m_errors)\n\u001b[1;32m    371\u001b[0m \u001b[38;5;28mself\u001b[39m\u001b[38;5;241m.\u001b[39m_readline \u001b[38;5;241m=\u001b[39m \u001b[38;5;28mself\u001b[39m\u001b[38;5;241m.\u001b[39m_file\u001b[38;5;241m.\u001b[39mreadline  \u001b[38;5;66;03m# hide FileInput._readline\u001b[39;00m\n\u001b[1;32m    372\u001b[0m \u001b[38;5;28;01mreturn\u001b[39;00m \u001b[38;5;28mself\u001b[39m\u001b[38;5;241m.\u001b[39m_readline()\n",
      "\u001b[0;31mFileNotFoundError\u001b[0m: [Errno 2] No such file or directory: 'file1.txt'"
     ]
    }
   ],
   "source": [
    "import fileinput\n",
    "\n",
    "# Reading lines from a file using fileinput\n",
    "with fileinput.input(files=('file1.txt', 'file2.txt')) as f:\n",
    "    for line in f:\n",
    "        print(line.strip())"
   ]
  },
  {
   "cell_type": "code",
   "execution_count": null,
   "id": "83d5a89c-1772-4140-8f34-55ec2963b7f2",
   "metadata": {},
   "outputs": [],
   "source": []
  }
 ],
 "metadata": {
  "kernelspec": {
   "display_name": "Python 3 (ipykernel)",
   "language": "python",
   "name": "python3"
  },
  "language_info": {
   "codemirror_mode": {
    "name": "ipython",
    "version": 3
   },
   "file_extension": ".py",
   "mimetype": "text/x-python",
   "name": "python",
   "nbconvert_exporter": "python",
   "pygments_lexer": "ipython3",
   "version": "3.11.3"
  }
 },
 "nbformat": 4,
 "nbformat_minor": 5
}
