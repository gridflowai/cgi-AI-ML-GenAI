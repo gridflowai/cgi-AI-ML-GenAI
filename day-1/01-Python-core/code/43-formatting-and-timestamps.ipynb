{
 "cells": [
  {
   "cell_type": "markdown",
   "id": "9f21f125-d5ed-4032-8cce-d4b9e1a1a5ca",
   "metadata": {},
   "source": [
    "**Formatting Dates and Times:**\n",
    "\n",
    "You can format dates and times using the strftime() method of the datetime object. It allows you to create a string representation of a date and time based on a given format string."
   ]
  },
  {
   "cell_type": "code",
   "execution_count": 1,
   "id": "51b68a6c-699f-43f1-a188-3d98f204c88d",
   "metadata": {
    "tags": []
   },
   "outputs": [
    {
     "name": "stdout",
     "output_type": "stream",
     "text": [
      "Formatted Date and Time: 2023-08-05 11:39:56\n"
     ]
    }
   ],
   "source": [
    "from datetime import datetime\n",
    "\n",
    "# Get the current date and time\n",
    "now = datetime.now()\n",
    "\n",
    "# Format the date and time\n",
    "formatted_date_time = now.strftime(\"%Y-%m-%d %H:%M:%S\")\n",
    "print(\"Formatted Date and Time:\", formatted_date_time)"
   ]
  },
  {
   "cell_type": "markdown",
   "id": "97085c46-315f-4fbd-9280-422b2e86c55c",
   "metadata": {},
   "source": [
    "- %Y: Year with century as a decimal number (e.g., 2023)\n",
    "- %m: Month as a zero-padded decimal number (e.g., 08 for August)\n",
    "- %d: Day of the month as a zero-padded decimal number (e.g., 05)\n",
    "\n",
    "https://docs.python.org/3/library/datetime.html#strftime-and-strptime-format-codes"
   ]
  },
  {
   "cell_type": "markdown",
   "id": "3ecc7b5d-4dfa-4f05-8bf4-064d62efd268",
   "metadata": {},
   "source": [
    "**Working with Timestamps:**\n",
    "\n",
    "To work with timestamps, you can use the timestamp() method of the datetime object, which returns the number of seconds since the Unix epoch (January 1, 1970, 00:00:00 UTC)."
   ]
  },
  {
   "cell_type": "code",
   "execution_count": 2,
   "id": "ab9abc18-d1b5-43e5-8163-f2ca0e61c253",
   "metadata": {
    "tags": []
   },
   "outputs": [
    {
     "name": "stdout",
     "output_type": "stream",
     "text": [
      "Timestamp: 1691215857.715023\n"
     ]
    }
   ],
   "source": [
    "# Get the current date and time\n",
    "now = datetime.now()\n",
    "\n",
    "# Get the timestamp\n",
    "timestamp = now.timestamp()\n",
    "print(\"Timestamp:\", timestamp)"
   ]
  },
  {
   "cell_type": "markdown",
   "id": "8dadf0ec-ea64-4ffc-8c14-db3a8c3b1fd6",
   "metadata": {},
   "source": [
    "To convert a `timestamp` back to a `datetime` object, you can use the `fromtimestamp()` method of the datetime class:"
   ]
  },
  {
   "cell_type": "code",
   "execution_count": 3,
   "id": "f6d0b620-10f7-4e70-8ab3-561e3b69b094",
   "metadata": {
    "tags": []
   },
   "outputs": [
    {
     "name": "stdout",
     "output_type": "stream",
     "text": [
      "Converted Datetime: 2023-03-20 07:50:00\n"
     ]
    }
   ],
   "source": [
    "# Assume you have a timestamp value\n",
    "timestamp = 1679278800\n",
    "\n",
    "# Convert the timestamp to a datetime object\n",
    "converted_datetime = datetime.fromtimestamp(timestamp)\n",
    "print(\"Converted Datetime:\", converted_datetime)"
   ]
  },
  {
   "cell_type": "code",
   "execution_count": null,
   "id": "56e2152a-96f4-421c-a0dd-193a80800a6e",
   "metadata": {},
   "outputs": [],
   "source": []
  },
  {
   "cell_type": "code",
   "execution_count": 4,
   "id": "6ae91871-0c52-400f-a2e1-5db9e2aac20f",
   "metadata": {
    "tags": []
   },
   "outputs": [],
   "source": [
    "def timestamp_to_datetime(timestamp):\n",
    "    try:\n",
    "        timestamp = float(timestamp)\n",
    "        converted_datetime = datetime.fromtimestamp(timestamp)\n",
    "        formatted_date_time = converted_datetime.strftime(\"%Y-%m-%d %H:%M:%S\")\n",
    "        return formatted_date_time\n",
    "    except ValueError:\n",
    "        return None"
   ]
  },
  {
   "cell_type": "code",
   "execution_count": 5,
   "id": "6afa2d18-f162-4bf5-9767-0b9219e8e0d8",
   "metadata": {
    "tags": []
   },
   "outputs": [
    {
     "name": "stdin",
     "output_type": "stream",
     "text": [
      "Enter a timestamp:  78383883\n"
     ]
    },
    {
     "name": "stdout",
     "output_type": "stream",
     "text": [
      "Converted Datetime: 1972-06-26 10:48:03\n"
     ]
    }
   ],
   "source": [
    "user_timestamp = input(\"Enter a timestamp: \")\n",
    "\n",
    "formatted_datetime = timestamp_to_datetime(user_timestamp)\n",
    "\n",
    "if formatted_datetime:\n",
    "    print(\"Converted Datetime:\", formatted_datetime)\n",
    "else:\n",
    "    print(\"Invalid timestamp. Please enter a valid numeric value.\")"
   ]
  },
  {
   "cell_type": "code",
   "execution_count": null,
   "id": "c9347ad6-9c30-4414-b2d0-654dc710aa71",
   "metadata": {},
   "outputs": [],
   "source": []
  }
 ],
 "metadata": {
  "kernelspec": {
   "display_name": "Python 3 (ipykernel)",
   "language": "python",
   "name": "python3"
  },
  "language_info": {
   "codemirror_mode": {
    "name": "ipython",
    "version": 3
   },
   "file_extension": ".py",
   "mimetype": "text/x-python",
   "name": "python",
   "nbconvert_exporter": "python",
   "pygments_lexer": "ipython3",
   "version": "3.11.3"
  }
 },
 "nbformat": 4,
 "nbformat_minor": 5
}
