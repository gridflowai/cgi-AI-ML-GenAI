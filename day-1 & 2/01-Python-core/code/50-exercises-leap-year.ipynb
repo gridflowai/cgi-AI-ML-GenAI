{
 "cells": [
  {
   "cell_type": "markdown",
   "id": "377d5752-7457-42d3-8e8e-d6bbc68ed131",
   "metadata": {},
   "source": [
    "### Handling leap years \n",
    "\n",
    "- is essential for accurate date and time calculations. \n",
    "\n",
    "- A leap year is a year that has an extra day, February 29, making it 366 days long instead of the usual 365 days. \n",
    "\n",
    "- Leap years are necessary to keep the calendar year synchronized with the astronomical year. "
   ]
  },
  {
   "cell_type": "markdown",
   "id": "3d13eba8-8c81-4ab7-9888-b10df637db31",
   "metadata": {},
   "source": [
    "#### Checking if a year is a leap year"
   ]
  },
  {
   "cell_type": "code",
   "execution_count": 1,
   "id": "16b16c81-369c-4ccb-b886-3e890042286a",
   "metadata": {
    "tags": []
   },
   "outputs": [],
   "source": [
    "def is_leap_year(year):\n",
    "    if year % 4 == 0:\n",
    "        if year % 100 == 0:\n",
    "            if year % 400 == 0:\n",
    "                return True\n",
    "            else:\n",
    "                return False\n",
    "        else:\n",
    "            return True\n",
    "    else:\n",
    "        return False"
   ]
  },
  {
   "cell_type": "code",
   "execution_count": 2,
   "id": "f5f61639-9bce-4147-9162-05ddecc3fc76",
   "metadata": {
    "tags": []
   },
   "outputs": [
    {
     "name": "stdout",
     "output_type": "stream",
     "text": [
      "2024 is a leap year.\n"
     ]
    }
   ],
   "source": [
    "year_to_check = 2024\n",
    "if is_leap_year(year_to_check):\n",
    "    print(f\"{year_to_check} is a leap year.\")\n",
    "else:\n",
    "    print(f\"{year_to_check} is not a leap year.\")"
   ]
  },
  {
   "cell_type": "markdown",
   "id": "2b1f0acb-076f-44ff-bce1-0c14227e162d",
   "metadata": {},
   "source": [
    "#### Finding leap years within a specific date range"
   ]
  },
  {
   "cell_type": "code",
   "execution_count": 3,
   "id": "8b09fca5-4a60-4cab-bbd5-cb513d5c5317",
   "metadata": {
    "tags": []
   },
   "outputs": [
    {
     "name": "stdout",
     "output_type": "stream",
     "text": [
      "Leap years between 2000 and 2025 : [2000, 2004, 2008, 2012, 2016, 2020, 2024]\n"
     ]
    }
   ],
   "source": [
    "def find_leap_years(start_year, end_year):\n",
    "    leap_years = []\n",
    "    for year in range(start_year, end_year + 1):\n",
    "        if is_leap_year(year):\n",
    "            leap_years.append(year)\n",
    "    return leap_years\n",
    "\n",
    "start_year = 2000\n",
    "end_year   = 2025\n",
    "leap_years_list = find_leap_years(start_year, end_year)\n",
    "print(\"Leap years between\", start_year, \"and\", end_year, \":\", leap_years_list)\n"
   ]
  },
  {
   "cell_type": "code",
   "execution_count": null,
   "id": "eb089bc6-ad62-494e-a019-be21204a6e4d",
   "metadata": {},
   "outputs": [],
   "source": []
  },
  {
   "cell_type": "code",
   "execution_count": null,
   "id": "6aacae15-766f-469f-8492-9b4d1f045b92",
   "metadata": {},
   "outputs": [],
   "source": []
  },
  {
   "cell_type": "code",
   "execution_count": null,
   "id": "5ad94b4d-183b-467f-86bb-cb08b401699e",
   "metadata": {},
   "outputs": [],
   "source": []
  },
  {
   "cell_type": "code",
   "execution_count": null,
   "id": "c7564df0-ac8f-4c58-a66b-d0be457640f1",
   "metadata": {},
   "outputs": [],
   "source": []
  }
 ],
 "metadata": {
  "kernelspec": {
   "display_name": "Python 3 (ipykernel)",
   "language": "python",
   "name": "python3"
  },
  "language_info": {
   "codemirror_mode": {
    "name": "ipython",
    "version": 3
   },
   "file_extension": ".py",
   "mimetype": "text/x-python",
   "name": "python",
   "nbconvert_exporter": "python",
   "pygments_lexer": "ipython3",
   "version": "3.11.3"
  }
 },
 "nbformat": 4,
 "nbformat_minor": 5
}
