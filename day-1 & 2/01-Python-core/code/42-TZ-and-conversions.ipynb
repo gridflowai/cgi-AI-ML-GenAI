{
 "cells": [
  {
   "cell_type": "code",
   "execution_count": 2,
   "id": "27b4957f-a8a1-4fb8-a148-0c8aa86bc0e0",
   "metadata": {
    "tags": []
   },
   "outputs": [],
   "source": [
    "#!pip install pytz"
   ]
  },
  {
   "cell_type": "code",
   "execution_count": 3,
   "id": "20ec65e6-1525-418f-ade6-8b6c4e2d0a38",
   "metadata": {
    "tags": []
   },
   "outputs": [],
   "source": [
    "from datetime import datetime\n",
    "import pytz\n"
   ]
  },
  {
   "cell_type": "code",
   "execution_count": 7,
   "id": "5e2fb101-9ca7-447a-9f89-3a789562d96d",
   "metadata": {
    "tags": []
   },
   "outputs": [
    {
     "name": "stdout",
     "output_type": "stream",
     "text": [
      "Current date and time (without timezone): 2023-08-05 11:33:12.537397\n"
     ]
    }
   ],
   "source": [
    "now = datetime.now()\n",
    "print(\"Current date and time (without timezone):\", now)"
   ]
  },
  {
   "cell_type": "code",
   "execution_count": 8,
   "id": "bcf25b22-a717-4119-8503-e5ba90cb9dfa",
   "metadata": {
    "tags": []
   },
   "outputs": [
    {
     "data": {
      "text/plain": [
       "<UTC>"
      ]
     },
     "execution_count": 8,
     "metadata": {},
     "output_type": "execute_result"
    }
   ],
   "source": [
    "# For example, let's use the 'UTC' time zone\n",
    "utc = pytz.utc\n",
    "utc\n"
   ]
  },
  {
   "cell_type": "markdown",
   "id": "f0676c29-a14e-4620-a443-38b9867510cd",
   "metadata": {},
   "source": [
    "Assign the time zone to the current date and time:"
   ]
  },
  {
   "cell_type": "code",
   "execution_count": 9,
   "id": "2c84cb49-81af-469a-b522-1382fd509e2d",
   "metadata": {
    "tags": []
   },
   "outputs": [
    {
     "name": "stdout",
     "output_type": "stream",
     "text": [
      "Current date and time (with UTC timezone): 2023-08-05 11:33:12.537397+00:00\n"
     ]
    }
   ],
   "source": [
    "now_utc = now.replace(tzinfo=utc)\n",
    "print(\"Current date and time (with UTC timezone):\", now_utc)"
   ]
  },
  {
   "cell_type": "markdown",
   "id": "4610b52e-c71c-442f-b21e-0f20967521a9",
   "metadata": {},
   "source": [
    "Convert to a different time zone:\n"
   ]
  },
  {
   "cell_type": "code",
   "execution_count": 10,
   "id": "abccd875-b8d1-4c8a-8b1c-f803d35e3c80",
   "metadata": {
    "tags": []
   },
   "outputs": [
    {
     "name": "stdout",
     "output_type": "stream",
     "text": [
      "Current date and time in Eastern Time: 2023-08-05 07:33:12.537397-04:00\n"
     ]
    }
   ],
   "source": [
    "# For example, let's convert to 'America/New_York' time zone\n",
    "eastern_tz  = pytz.timezone('America/New_York')\n",
    "now_eastern = now_utc.astimezone(eastern_tz)\n",
    "print(\"Current date and time in Eastern Time:\", now_eastern)\n"
   ]
  },
  {
   "cell_type": "markdown",
   "id": "0a2775f2-3cdc-438c-a7e7-1ce1c8543ef1",
   "metadata": {},
   "source": [
    "Convert a given localized time to another time zone"
   ]
  },
  {
   "cell_type": "code",
   "execution_count": 11,
   "id": "d5b00623-596b-4aa8-9e4f-658bce1e5e19",
   "metadata": {
    "tags": []
   },
   "outputs": [
    {
     "name": "stdout",
     "output_type": "stream",
     "text": [
      "Converted time in Tokyo Time: 2023-08-06 03:23:00+09:00\n"
     ]
    }
   ],
   "source": [
    "# Let's say we have a date and time in 'America/Los_Angeles' time zone\n",
    "localized_time = datetime(2023, 8, 5, 10, 30, tzinfo=pytz.timezone('America/Los_Angeles'))\n",
    "\n",
    "# Convert to 'Asia/Tokyo' time zone\n",
    "tokyo_tz = pytz.timezone('Asia/Tokyo')\n",
    "converted_time = localized_time.astimezone(tokyo_tz)\n",
    "print(\"Converted time in Tokyo Time:\", converted_time)\n"
   ]
  },
  {
   "cell_type": "markdown",
   "id": "45efa3fb-46b3-43fd-8c93-8228f96fb27f",
   "metadata": {},
   "source": [
    "**Exercise 1:**\n",
    "\n",
    "Write a Python function that takes a date and time in UTC and converts it to a specific time zone, given the time zone's name as input."
   ]
  },
  {
   "cell_type": "code",
   "execution_count": 12,
   "id": "139deaa2-5108-4538-8d62-f8c88b262a20",
   "metadata": {
    "tags": []
   },
   "outputs": [
    {
     "name": "stdout",
     "output_type": "stream",
     "text": [
      "UTC Datetime: 2023-08-05 12:00:00\n",
      "Converted Datetime in New York Time: 2023-08-05 08:00:00-04:00\n"
     ]
    }
   ],
   "source": [
    "import pytz\n",
    "from datetime import datetime\n",
    "\n",
    "def convert_to_timezone(utc_datetime, target_timezone):\n",
    "    utc = pytz.utc\n",
    "    target_tz = pytz.timezone(target_timezone)\n",
    "    utc_datetime = utc_datetime.replace(tzinfo=utc)\n",
    "    target_datetime = utc_datetime.astimezone(target_tz)\n",
    "    return target_datetime\n",
    "\n",
    "# Test the function\n",
    "utc_datetime = datetime(2023, 8, 5, 12, 0)\n",
    "target_timezone = 'America/New_York'\n",
    "converted_datetime = convert_to_timezone(utc_datetime, target_timezone)\n",
    "print(\"UTC Datetime:\", utc_datetime)\n",
    "print(\"Converted Datetime in New York Time:\", converted_datetime)\n"
   ]
  },
  {
   "cell_type": "markdown",
   "id": "227b0b0e-e7e5-4f1d-89a8-33c7086b2801",
   "metadata": {
    "tags": []
   },
   "source": [
    "**Exercise 2:**\n",
    "\n",
    "Write a Python function that lists all available time zones."
   ]
  },
  {
   "cell_type": "code",
   "execution_count": 15,
   "id": "a66dffdb-a5a8-4c4c-8930-825ca59b6ecf",
   "metadata": {
    "tags": []
   },
   "outputs": [
    {
     "name": "stdout",
     "output_type": "stream",
     "text": [
      "Available Time Zones:\n",
      "- Africa/Abidjan\n",
      "- Africa/Accra\n",
      "- Africa/Addis_Ababa\n",
      "- Africa/Algiers\n",
      "- Africa/Asmara\n",
      "- Africa/Asmera\n",
      "- Africa/Bamako\n",
      "- Africa/Bangui\n",
      "- Africa/Banjul\n",
      "- Africa/Bissau\n"
     ]
    }
   ],
   "source": [
    "def list_timezones():\n",
    "    return pytz.all_timezones\n",
    "\n",
    "# Test the function\n",
    "timezones = list_timezones()\n",
    "print(\"Available Time Zones:\")\n",
    "for tz in timezones[:10]:\n",
    "    print(\"-\", tz)"
   ]
  },
  {
   "cell_type": "markdown",
   "id": "34aaa4e8-82a6-46cf-a6c9-c21ab5a1d886",
   "metadata": {},
   "source": [
    "**Exercise 3:**\n",
    "\n",
    "Write a Python program that determines the time difference between two time zones and calculates the time it takes to travel between them (considering only whole-hour travel).\n",
    "\n",
    "\n"
   ]
  },
  {
   "cell_type": "code",
   "execution_count": 16,
   "id": "d2c36ba9-cf60-400e-bebe-81fad8920eb7",
   "metadata": {
    "tags": []
   },
   "outputs": [
    {
     "name": "stdout",
     "output_type": "stream",
     "text": [
      "Time difference between America/New_York and Europe/London: 19 hours\n"
     ]
    }
   ],
   "source": [
    "import pytz\n",
    "from datetime import datetime, timedelta\n",
    "\n",
    "def travel_time(start_timezone, end_timezone):\n",
    "    start_tz = pytz.timezone(start_timezone)\n",
    "    end_tz = pytz.timezone(end_timezone)\n",
    "\n",
    "    start_time = datetime(2023, 8, 5, 12, 0)\n",
    "    end_time = datetime(2023, 8, 5, 12, 0)\n",
    "\n",
    "    start_time = start_tz.localize(start_time)\n",
    "    end_time = end_tz.localize(end_time)\n",
    "\n",
    "    time_difference = end_time - start_time\n",
    "    hours, remainder = divmod(time_difference.seconds, 3600)\n",
    "    return hours\n",
    "\n",
    "# Test the function\n",
    "start_timezone = 'America/New_York'\n",
    "end_timezone = 'Europe/London'\n",
    "hours_travel = travel_time(start_timezone, end_timezone)\n",
    "print(f\"Time difference between {start_timezone} and {end_timezone}: {hours_travel} hours\")\n"
   ]
  },
  {
   "cell_type": "code",
   "execution_count": null,
   "id": "73264bd0-a7c3-4567-b06c-d1aa05f4cd7e",
   "metadata": {},
   "outputs": [],
   "source": []
  }
 ],
 "metadata": {
  "kernelspec": {
   "display_name": "Python 3 (ipykernel)",
   "language": "python",
   "name": "python3"
  },
  "language_info": {
   "codemirror_mode": {
    "name": "ipython",
    "version": 3
   },
   "file_extension": ".py",
   "mimetype": "text/x-python",
   "name": "python",
   "nbconvert_exporter": "python",
   "pygments_lexer": "ipython3",
   "version": "3.11.3"
  }
 },
 "nbformat": 4,
 "nbformat_minor": 5
}
