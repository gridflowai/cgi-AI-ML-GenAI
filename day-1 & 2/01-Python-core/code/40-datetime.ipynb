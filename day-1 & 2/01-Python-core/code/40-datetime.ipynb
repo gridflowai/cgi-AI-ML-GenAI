{
 "cells": [
  {
   "cell_type": "markdown",
   "id": "29b22710-bc1a-4435-b658-52e028e662d8",
   "metadata": {},
   "source": [
    "----------------------------\n",
    "### Python datetime\n",
    "-------------------------"
   ]
  },
  {
   "cell_type": "markdown",
   "id": "837d9523-f0e1-4e57-8e1f-c9022f6cde4d",
   "metadata": {},
   "source": [
    "#### Getting the current date and time"
   ]
  },
  {
   "cell_type": "code",
   "execution_count": 1,
   "id": "73ad9bf7-348f-4a80-9dac-2b06228a5253",
   "metadata": {
    "tags": []
   },
   "outputs": [
    {
     "name": "stdout",
     "output_type": "stream",
     "text": [
      "Current Date and Time: 2024-07-07 21:32:54.047037\n"
     ]
    }
   ],
   "source": [
    "import datetime\n",
    "\n",
    "# Get the current date and time\n",
    "current_datetime = datetime.datetime.now()\n",
    "print(\"Current Date and Time:\", current_datetime)"
   ]
  },
  {
   "cell_type": "code",
   "execution_count": null,
   "id": "1fd353e3-b224-473a-992b-cb080dfd95d1",
   "metadata": {},
   "outputs": [],
   "source": [
    "datetime."
   ]
  },
  {
   "cell_type": "markdown",
   "id": "d0cd1c12-5f02-4470-bb6b-311401efb866",
   "metadata": {},
   "source": [
    "#### Formatting dates as strings"
   ]
  },
  {
   "cell_type": "code",
   "execution_count": 2,
   "id": "12c5d46e-fe66-4ab2-9922-e1899d6f104a",
   "metadata": {
    "tags": []
   },
   "outputs": [
    {
     "name": "stdout",
     "output_type": "stream",
     "text": [
      "Formatted Date: 2024-07-07\n"
     ]
    }
   ],
   "source": [
    "import datetime\n",
    "\n",
    "# Get the current date\n",
    "current_date = datetime.date.today()\n",
    "\n",
    "# Format the date as a string\n",
    "formatted_date = current_date.strftime(\"%Y-%m-%d\")\n",
    "print(\"Formatted Date:\", formatted_date)"
   ]
  },
  {
   "cell_type": "markdown",
   "id": "40333f83-8f1b-46ad-a6f1-40c948229618",
   "metadata": {},
   "source": [
    "#### Creating a specific date"
   ]
  },
  {
   "cell_type": "code",
   "execution_count": 3,
   "id": "59353aed-1527-4004-9a02-2fa829166d23",
   "metadata": {
    "tags": []
   },
   "outputs": [
    {
     "name": "stdout",
     "output_type": "stream",
     "text": [
      "Specific Date: 2023-07-30\n"
     ]
    }
   ],
   "source": [
    "# Create a specific date\n",
    "specific_date = datetime.date(2023, 7, 30)\n",
    "print(\"Specific Date:\", specific_date)"
   ]
  },
  {
   "cell_type": "markdown",
   "id": "37a0c556-e224-41ea-9ea3-f8e0f0231e68",
   "metadata": {},
   "source": [
    "#### Working with time deltas"
   ]
  },
  {
   "cell_type": "code",
   "execution_count": 25,
   "id": "0316c889-0844-4f9e-9f12-62684fce224f",
   "metadata": {},
   "outputs": [
    {
     "data": {
      "text/plain": [
       "datetime.timedelta"
      ]
     },
     "execution_count": 25,
     "metadata": {},
     "output_type": "execute_result"
    }
   ],
   "source": [
    "type(delta)"
   ]
  },
  {
   "cell_type": "code",
   "execution_count": 26,
   "id": "12c5cc10-482d-4261-b0df-48bc331c73a2",
   "metadata": {
    "tags": []
   },
   "outputs": [
    {
     "name": "stdout",
     "output_type": "stream",
     "text": [
      "New Date: 2024-06-26\n"
     ]
    }
   ],
   "source": [
    "# Get the current date\n",
    "current_date = datetime.date.today()\n",
    "\n",
    "# Create a time delta of 10 days\n",
    "delta = datetime.timedelta(days=10)\n",
    "\n",
    "# Calculate a new date by adding the delta to the current date\n",
    "new_date = current_date + delta\n",
    "print(\"New Date:\", new_date)"
   ]
  },
  {
   "cell_type": "markdown",
   "id": "116ff266-dff3-4596-b145-54a3508b91ac",
   "metadata": {},
   "source": [
    "#### Converting strings to dates"
   ]
  },
  {
   "cell_type": "code",
   "execution_count": 27,
   "id": "087148e2-4587-4fde-9aa0-67facbf9d3c2",
   "metadata": {
    "tags": []
   },
   "outputs": [
    {
     "name": "stdout",
     "output_type": "stream",
     "text": [
      "Converted Date Object: 2023-07-30 00:00:00\n"
     ]
    }
   ],
   "source": [
    "# Convert a string to a date\n",
    "date_string = \"2023-07-30\"\n",
    "date_obj    = datetime.datetime.strptime(date_string, \"%Y-%m-%d\")\n",
    "\n",
    "print(\"Converted Date Object:\", date_obj)"
   ]
  },
  {
   "cell_type": "markdown",
   "id": "b8b09331-a9eb-49d1-929f-64b2811c104a",
   "metadata": {},
   "source": [
    "#### Time arithmetic"
   ]
  },
  {
   "cell_type": "code",
   "execution_count": 28,
   "id": "df0a4c96-bed9-4484-932e-6c6569d0df62",
   "metadata": {
    "tags": []
   },
   "outputs": [
    {
     "name": "stdout",
     "output_type": "stream",
     "text": [
      "New Time: 23:11:30.229710\n"
     ]
    }
   ],
   "source": [
    "# Get the current time\n",
    "current_time = datetime.datetime.now().time()\n",
    "\n",
    "# Create a time delta of 1 hour and 30 minutes\n",
    "time_delta = datetime.timedelta(hours=1, minutes=30)\n",
    "\n",
    "# Calculate a new time by adding the delta to the current time\n",
    "new_time = (datetime.datetime.combine(datetime.date.min, current_time) + time_delta).time()\n",
    "print(\"New Time:\", new_time)"
   ]
  },
  {
   "cell_type": "markdown",
   "id": "25c14b4b-8184-4b0e-b1dd-ed49f7f9f1ac",
   "metadata": {},
   "source": [
    "#### Difference between two dates"
   ]
  },
  {
   "cell_type": "code",
   "execution_count": 33,
   "id": "1105e96d-f04b-43b7-b716-5550926d877d",
   "metadata": {},
   "outputs": [],
   "source": [
    "#from datetime import datetime, timedelta"
   ]
  },
  {
   "cell_type": "code",
   "execution_count": 32,
   "id": "5f804034-3a99-4e06-b84c-f73cb100b8e1",
   "metadata": {
    "tags": []
   },
   "outputs": [
    {
     "ename": "TypeError",
     "evalue": "descriptor 'date' for 'datetime.datetime' objects doesn't apply to a 'int' object",
     "output_type": "error",
     "traceback": [
      "\u001b[1;31m---------------------------------------------------------------------------\u001b[0m",
      "\u001b[1;31mTypeError\u001b[0m                                 Traceback (most recent call last)",
      "\u001b[1;32m~\\AppData\\Local\\Temp\\ipykernel_24980\\1204942030.py\u001b[0m in \u001b[0;36m<module>\u001b[1;34m\u001b[0m\n\u001b[0;32m      1\u001b[0m \u001b[1;31m# Create two dates\u001b[0m\u001b[1;33m\u001b[0m\u001b[1;33m\u001b[0m\u001b[0m\n\u001b[1;32m----> 2\u001b[1;33m \u001b[0mdate1\u001b[0m \u001b[1;33m=\u001b[0m \u001b[0mdatetime\u001b[0m\u001b[1;33m.\u001b[0m\u001b[0mdate\u001b[0m\u001b[1;33m(\u001b[0m\u001b[1;36m2023\u001b[0m\u001b[1;33m,\u001b[0m \u001b[1;36m7\u001b[0m\u001b[1;33m,\u001b[0m \u001b[1;36m30\u001b[0m\u001b[1;33m)\u001b[0m\u001b[1;33m\u001b[0m\u001b[1;33m\u001b[0m\u001b[0m\n\u001b[0m\u001b[0;32m      3\u001b[0m \u001b[0mdate2\u001b[0m \u001b[1;33m=\u001b[0m \u001b[0mdatetime\u001b[0m\u001b[1;33m.\u001b[0m\u001b[0mdate\u001b[0m\u001b[1;33m(\u001b[0m\u001b[1;36m2023\u001b[0m\u001b[1;33m,\u001b[0m \u001b[1;36m8\u001b[0m\u001b[1;33m,\u001b[0m \u001b[1;36m15\u001b[0m\u001b[1;33m)\u001b[0m\u001b[1;33m\u001b[0m\u001b[1;33m\u001b[0m\u001b[0m\n\u001b[0;32m      4\u001b[0m \u001b[1;33m\u001b[0m\u001b[0m\n\u001b[0;32m      5\u001b[0m \u001b[1;31m# Calculate the difference between the dates\u001b[0m\u001b[1;33m\u001b[0m\u001b[1;33m\u001b[0m\u001b[0m\n",
      "\u001b[1;31mTypeError\u001b[0m: descriptor 'date' for 'datetime.datetime' objects doesn't apply to a 'int' object"
     ]
    }
   ],
   "source": [
    "# Create two dates\n",
    "date1 = datetime.date(2023, 7, 30)\n",
    "date2 = datetime.date(2023, 8, 15)\n",
    "\n",
    "# Calculate the difference between the dates\n",
    "date_difference = date2 - date1\n",
    "print(\"Difference between dates:\", date_difference.days, \"days\")"
   ]
  },
  {
   "cell_type": "code",
   "execution_count": 15,
   "id": "a000e26a-381c-430a-8f5e-8c86e8521cba",
   "metadata": {},
   "outputs": [
    {
     "name": "stdout",
     "output_type": "stream",
     "text": [
      "Difference: 367 days, 7505 seconds\n"
     ]
    }
   ],
   "source": [
    "# Define two datetime objects\n",
    "datetime1 = datetime(2023, 6, 15, 12, 30, 45)\n",
    "datetime2 = datetime(2024, 6, 16, 14, 35, 50)\n",
    "\n",
    "# Calculate the difference\n",
    "delta = datetime2 - datetime1\n",
    "\n",
    "print(f\"Difference: {delta.days} days, {delta.seconds} seconds\")"
   ]
  },
  {
   "cell_type": "code",
   "execution_count": 16,
   "id": "3ad6e96e-f55e-4411-9210-8ade6f5b6d1b",
   "metadata": {},
   "outputs": [
    {
     "name": "stdout",
     "output_type": "stream",
     "text": [
      "Difference: 367 days, 2.0 hours, 5.0 minutes, 5.0 seconds\n"
     ]
    }
   ],
   "source": [
    "# Define two datetime objects\n",
    "datetime1 = datetime(2023, 6, 15, 12, 30, 45)\n",
    "datetime2 = datetime(2024, 6, 16, 14, 35, 50)\n",
    "\n",
    "# Calculate the difference\n",
    "delta = datetime2 - datetime1\n",
    "\n",
    "# Convert difference to seconds\n",
    "total_seconds = delta.total_seconds()\n",
    "\n",
    "# Calculate days, hours, minutes, and seconds\n",
    "days = delta.days\n",
    "hours = (total_seconds // 3600) % 24\n",
    "minutes = (total_seconds // 60) % 60\n",
    "seconds = total_seconds % 60\n",
    "\n",
    "print(f\"Difference: {days} days, {hours} hours, {minutes} minutes, {seconds} seconds\")"
   ]
  },
  {
   "cell_type": "code",
   "execution_count": null,
   "id": "6ac12021-115d-409f-8c70-65ff2d4a4c4b",
   "metadata": {},
   "outputs": [],
   "source": []
  }
 ],
 "metadata": {
  "kernelspec": {
   "display_name": "Python 3 (ipykernel)",
   "language": "python",
   "name": "python3"
  },
  "language_info": {
   "codemirror_mode": {
    "name": "ipython",
    "version": 3
   },
   "file_extension": ".py",
   "mimetype": "text/x-python",
   "name": "python",
   "nbconvert_exporter": "python",
   "pygments_lexer": "ipython3",
   "version": "3.9.13"
  }
 },
 "nbformat": 4,
 "nbformat_minor": 5
}
