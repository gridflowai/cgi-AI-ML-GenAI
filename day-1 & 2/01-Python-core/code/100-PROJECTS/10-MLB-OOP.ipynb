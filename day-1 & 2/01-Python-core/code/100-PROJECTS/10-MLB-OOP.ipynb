{
 "cells": [
  {
   "cell_type": "markdown",
   "id": "0d9cd560-4cb2-4977-812c-fb6a2eae94d1",
   "metadata": {},
   "source": [
    "#### Player class - implementation"
   ]
  },
  {
   "cell_type": "code",
   "execution_count": 1,
   "id": "37b7e294-cb0c-4ffc-8844-8f5991f3cd74",
   "metadata": {},
   "outputs": [],
   "source": [
    "class Player:\n",
    "    def __init__(self, player_id, name, age, team, position):\n",
    "        \"\"\"\n",
    "        Initialize the Player object with attributes.\n",
    "        \"\"\"\n",
    "        self.player_id = player_id\n",
    "        self.name      = name\n",
    "        self.age       = age\n",
    "        self.team      = team\n",
    "        self.position  = position\n",
    "        self.statistics = {\n",
    "            'matches_played': 0,\n",
    "            'goals_scored': 0,\n",
    "            'assists': 0,\n",
    "            'yellow_cards': 0,\n",
    "            'red_cards': 0\n",
    "        }\n",
    "        \n",
    "    def update_statistics(self, matches_played=None, goals_scored=None, assists=None, yellow_cards=None, red_cards=None):\n",
    "        \"\"\"\n",
    "        Update the player's statistics with the provided values.\n",
    "        \"\"\"\n",
    "        if matches_played is not None:\n",
    "            self.statistics['matches_played'] += matches_played\n",
    "\n",
    "        if goals_scored is not None:\n",
    "            self.statistics['goals_scored']   += goals_scored\n",
    "\n",
    "        if assists is not None:\n",
    "            self.statistics['assists']        += assists\n",
    "\n",
    "        if yellow_cards is not None:\n",
    "            self.statistics['yellow_cards']   += yellow_cards\n",
    "\n",
    "        if red_cards is not None:\n",
    "            self.statistics['red_cards']      += red_cards\n",
    "            \n",
    "    def retrieve_statistics(self):\n",
    "        \"\"\"\n",
    "        Retrieve the player's statistics.\n",
    "        \"\"\"\n",
    "        return self.statistics \n",
    "    \n",
    "    def __str__(self):\n",
    "        \"\"\"\n",
    "        Return a string representation of the player.\n",
    "        \"\"\"\n",
    "        return (f\"Player ID: {self.player_id}\\n\"\n",
    "                f\"Name: {self.name}\\n\"\n",
    "                f\"Age: {self.age}\\n\"\n",
    "                f\"Team: {self.team}\\n\"\n",
    "                f\"Position: {self.position}\\n\"\n",
    "                f\"Statistics: {self.statistics}\")"
   ]
  },
  {
   "cell_type": "code",
   "execution_count": 2,
   "id": "eb73e2fc-de06-49f4-a28b-7a6a79f80d1a",
   "metadata": {},
   "outputs": [],
   "source": [
    "# Create a new player\n",
    "player1 = Player(player_id = 1, \n",
    "                 name      = \"John Doe\", \n",
    "                 age       = 25, \n",
    "                 team      = \"Dream FC\", \n",
    "                 position  = \"Forward\")"
   ]
  },
  {
   "cell_type": "code",
   "execution_count": 3,
   "id": "4bd004d1-eeff-4e97-853c-c087a6f55aaf",
   "metadata": {},
   "outputs": [],
   "source": [
    "# Update player statistics\n",
    "player1.update_statistics(matches_played= 10, \n",
    "                          goals_scored  = 5, \n",
    "                          assists       = 3, \n",
    "                          yellow_cards  = 1, \n",
    "                          red_cards     = 0)"
   ]
  },
  {
   "cell_type": "code",
   "execution_count": 4,
   "id": "96c7797b-9628-4974-8afd-17540072092c",
   "metadata": {},
   "outputs": [
    {
     "data": {
      "text/plain": [
       "{'matches_played': 10,\n",
       " 'goals_scored': 5,\n",
       " 'assists': 3,\n",
       " 'yellow_cards': 1,\n",
       " 'red_cards': 0}"
      ]
     },
     "execution_count": 4,
     "metadata": {},
     "output_type": "execute_result"
    }
   ],
   "source": [
    "player1.retrieve_statistics()"
   ]
  },
  {
   "cell_type": "code",
   "execution_count": 5,
   "id": "bd7e7271-ced6-4d78-86f2-23b48f146dee",
   "metadata": {},
   "outputs": [
    {
     "name": "stdout",
     "output_type": "stream",
     "text": [
      "Player ID: 1\n",
      "Name: John Doe\n",
      "Age: 25\n",
      "Team: Dream FC\n",
      "Position: Forward\n",
      "Statistics: {'matches_played': 10, 'goals_scored': 5, 'assists': 3, 'yellow_cards': 1, 'red_cards': 0}\n"
     ]
    }
   ],
   "source": [
    "print(player1)"
   ]
  },
  {
   "cell_type": "markdown",
   "id": "8c3e3bfd-e2d5-4ed2-a008-109d1e82df41",
   "metadata": {},
   "source": [
    "#### Match Schedule Management"
   ]
  },
  {
   "cell_type": "code",
   "execution_count": 6,
   "id": "e88d7731-daba-4d0c-9422-f20937d3714c",
   "metadata": {},
   "outputs": [],
   "source": [
    "class Schedule:\n",
    "    def __init__(self, match_id, team1, team2, match_date, venue):\n",
    "        \"\"\"\n",
    "        Initialize the Schedule object with attributes.\n",
    "        \"\"\"\n",
    "        self.match_id   = match_id\n",
    "        self.team1      = team1\n",
    "        self.team2      = team2\n",
    "        self.match_date = match_date\n",
    "        self.venue      = venue\n",
    "        self.match_details = {\n",
    "            'score_team1': None,\n",
    "            'score_team2': None,\n",
    "            'winner': None\n",
    "        }\n",
    "\n",
    "    def update_match_details(self, score_team1=None, score_team2=None, winner=None):\n",
    "        \"\"\"\n",
    "        Update the match details with the provided values.\n",
    "        \"\"\"\n",
    "        if score_team1 is not None:\n",
    "            self.match_details['score_team1'] = score_team1\n",
    "        if score_team2 is not None:\n",
    "            self.match_details['score_team2'] = score_team2\n",
    "        if winner is not None:\n",
    "            self.match_details['winner'] = winner\n",
    "\n",
    "    def retrieve_match_details(self):\n",
    "        \"\"\"\n",
    "        Retrieve the match details.\n",
    "        \"\"\"\n",
    "        return {\n",
    "            'match_id': self.match_id,\n",
    "            'teams': f\"{self.team1} vs {self.team2}\",\n",
    "            'date': self.match_date,\n",
    "            'venue': self.venue,\n",
    "            'details': self.match_details\n",
    "        }\n",
    "\n",
    "    def __str__(self):\n",
    "        \"\"\"\n",
    "        Return a string representation of the match.\n",
    "        \"\"\"\n",
    "        return (f\"Match ID: {self.match_id}\\n\"\n",
    "                f\"Teams: {self.team1} vs {self.team2}\\n\"\n",
    "                f\"Date: {self.match_date}\\n\"\n",
    "                f\"Venue: {self.venue}\\n\"\n",
    "                f\"Details: {self.match_details}\")"
   ]
  },
  {
   "cell_type": "code",
   "execution_count": 8,
   "id": "4a6df3bc-5d58-4afa-b5f6-f57c76876832",
   "metadata": {},
   "outputs": [],
   "source": [
    "# Create a new match schedule\n",
    "match1 = Schedule(match_id=101, \n",
    "                  team1=\"Team A\", \n",
    "                  team2=\"Team B\", \n",
    "                  match_date=\"2024-07-15\", \n",
    "                  venue=\"Stadium X\")"
   ]
  },
  {
   "cell_type": "code",
   "execution_count": 9,
   "id": "04f430c4-fd89-4a8e-8de2-8caa711edd79",
   "metadata": {},
   "outputs": [],
   "source": [
    "# Update match details\n",
    "match1.update_match_details(score_team1=2, \n",
    "                            score_team2=3, \n",
    "                            winner=\"Team B\")"
   ]
  },
  {
   "cell_type": "code",
   "execution_count": 10,
   "id": "1802611d-1aa0-450d-a91b-fac80137af5e",
   "metadata": {},
   "outputs": [
    {
     "data": {
      "text/plain": [
       "{'match_id': 101,\n",
       " 'teams': 'Team A vs Team B',\n",
       " 'date': '2024-07-15',\n",
       " 'venue': 'Stadium X',\n",
       " 'details': {'score_team1': 2, 'score_team2': 3, 'winner': 'Team B'}}"
      ]
     },
     "execution_count": 10,
     "metadata": {},
     "output_type": "execute_result"
    }
   ],
   "source": [
    "match1.retrieve_match_details()"
   ]
  },
  {
   "cell_type": "code",
   "execution_count": 11,
   "id": "0c77ceb3-6b09-4a15-b1b4-56ea1720214d",
   "metadata": {},
   "outputs": [
    {
     "name": "stdout",
     "output_type": "stream",
     "text": [
      "Match ID: 101\n",
      "Teams: Team A vs Team B\n",
      "Date: 2024-07-15\n",
      "Venue: Stadium X\n",
      "Details: {'score_team1': 2, 'score_team2': 3, 'winner': 'Team B'}\n"
     ]
    }
   ],
   "source": [
    "print(match1)"
   ]
  },
  {
   "cell_type": "markdown",
   "id": "3e3e374d-6b9e-4657-b057-123db2be5d9c",
   "metadata": {},
   "source": [
    "#### Ticket Booking System"
   ]
  },
  {
   "cell_type": "code",
   "execution_count": 12,
   "id": "d9160bd8-9d97-4fa3-9b60-8a50a3fd2d29",
   "metadata": {},
   "outputs": [],
   "source": [
    "class Ticket:\n",
    "    def __init__(self, ticket_id, match_id, seat_number, price):\n",
    "        \"\"\"\n",
    "        Initialize the Ticket object with attributes.\n",
    "        \"\"\"\n",
    "        self.ticket_id   = ticket_id\n",
    "        self.match_id    = match_id\n",
    "        self.seat_number = seat_number\n",
    "        self.price       = price\n",
    "        self.is_booked   = False\n",
    "        self.details     = {}\n",
    "\n",
    "    def book_ticket(self, customer_name, customer_email):\n",
    "        \"\"\"\n",
    "        Book the ticket with the provided customer details.\n",
    "        \"\"\"\n",
    "        if not self.is_booked:\n",
    "            self.is_booked = True\n",
    "            self.details = {\n",
    "                'customer_name': customer_name,\n",
    "                'customer_email': customer_email\n",
    "            }\n",
    "        else:\n",
    "            print(\"Ticket is already booked.\")\n",
    "\n",
    "    def cancel_ticket(self):\n",
    "        \"\"\"\n",
    "        Cancel the booking of the ticket.\n",
    "        \"\"\"\n",
    "        if self.is_booked:\n",
    "            self.is_booked = False\n",
    "            self.details = {}\n",
    "        else:\n",
    "            print(\"Ticket is not booked yet.\")\n",
    "\n",
    "    def retrieve_ticket_details(self):\n",
    "        \"\"\"\n",
    "        Retrieve the ticket details.\n",
    "        \"\"\"\n",
    "        return {\n",
    "            'ticket_id': self.ticket_id,\n",
    "            'match_id': self.match_id,\n",
    "            'seat_number': self.seat_number,\n",
    "            'price': self.price,\n",
    "            'is_booked': self.is_booked,\n",
    "            'details': self.details\n",
    "        }\n",
    "\n",
    "    def __str__(self):\n",
    "        \"\"\"\n",
    "        Return a string representation of the ticket.\n",
    "        \"\"\"\n",
    "        return (f\"Ticket ID: {self.ticket_id}\\n\"\n",
    "                f\"Match ID: {self.match_id}\\n\"\n",
    "                f\"Seat Number: {self.seat_number}\\n\"\n",
    "                f\"Price: {self.price}\\n\"\n",
    "                f\"Is Booked: {self.is_booked}\\n\"\n",
    "                f\"Details: {self.details}\")"
   ]
  },
  {
   "cell_type": "code",
   "execution_count": 13,
   "id": "cbf54141-57c8-4bad-8d68-a7292d940611",
   "metadata": {},
   "outputs": [],
   "source": [
    "ticket1 = Ticket(ticket_id=501, \n",
    "                 match_id=101, \n",
    "                 seat_number=\"A10\", \n",
    "                 price=100)"
   ]
  },
  {
   "cell_type": "code",
   "execution_count": 14,
   "id": "775f68cd-0f7b-4a2e-8bcb-77a1eb78f8c5",
   "metadata": {},
   "outputs": [],
   "source": [
    "ticket1.book_ticket(customer_name =\"Alice\", \n",
    "                    customer_email=\"alice@example.com\")"
   ]
  },
  {
   "cell_type": "code",
   "execution_count": 15,
   "id": "5d018fb4-7cc7-4738-913c-cb1e60a38e57",
   "metadata": {},
   "outputs": [
    {
     "name": "stdout",
     "output_type": "stream",
     "text": [
      "{'ticket_id': 501, 'match_id': 101, 'seat_number': 'A10', 'price': 100, 'is_booked': True, 'details': {'customer_name': 'Alice', 'customer_email': 'alice@example.com'}}\n"
     ]
    }
   ],
   "source": [
    "# Retrieve and print ticket details\n",
    "print(ticket1.retrieve_ticket_details())"
   ]
  },
  {
   "cell_type": "code",
   "execution_count": 16,
   "id": "810bb8a7-9d9f-4df3-8b75-a239f98f0fba",
   "metadata": {},
   "outputs": [
    {
     "name": "stdout",
     "output_type": "stream",
     "text": [
      "Ticket ID: 501\n",
      "Match ID: 101\n",
      "Seat Number: A10\n",
      "Price: 100\n",
      "Is Booked: True\n",
      "Details: {'customer_name': 'Alice', 'customer_email': 'alice@example.com'}\n"
     ]
    }
   ],
   "source": [
    "# Print the ticket details\n",
    "print(ticket1)"
   ]
  },
  {
   "cell_type": "code",
   "execution_count": 20,
   "id": "37e1782c-4588-4dd7-a44e-94004bb4f0a2",
   "metadata": {},
   "outputs": [],
   "source": [
    "# Cancel the ticket\n",
    "ticket1.cancel_ticket()"
   ]
  },
  {
   "cell_type": "code",
   "execution_count": 21,
   "id": "4c27192f-5578-4d7f-8c35-0590f4c1e894",
   "metadata": {},
   "outputs": [
    {
     "name": "stdout",
     "output_type": "stream",
     "text": [
      "{'ticket_id': 501, 'match_id': 101, 'seat_number': 'A10', 'price': 100, 'is_booked': False, 'details': {}}\n"
     ]
    }
   ],
   "source": [
    "# Retrieve and print ticket details after cancellation\n",
    "print(ticket1.retrieve_ticket_details())"
   ]
  },
  {
   "cell_type": "code",
   "execution_count": 22,
   "id": "d2b9652f-d5b6-4d5e-8ccc-9b7fc309b30a",
   "metadata": {},
   "outputs": [
    {
     "name": "stdout",
     "output_type": "stream",
     "text": [
      "Ticket ID: 501\n",
      "Match ID: 101\n",
      "Seat Number: A10\n",
      "Price: 100\n",
      "Is Booked: False\n",
      "Details: {}\n"
     ]
    }
   ],
   "source": [
    "print(ticket1)"
   ]
  },
  {
   "cell_type": "markdown",
   "id": "7cdaf71a-8144-44f2-810a-8fddae5b5b8f",
   "metadata": {},
   "source": [
    "#### Team Management System"
   ]
  },
  {
   "cell_type": "code",
   "execution_count": 17,
   "id": "9325390c-ca67-4d8d-8f28-1cd7160bb44d",
   "metadata": {},
   "outputs": [],
   "source": [
    "class Player:\n",
    "    def __init__(self, player_id, name, age, position):\n",
    "        \"\"\"\n",
    "        Initialize the Player object with attributes.\n",
    "        \"\"\"\n",
    "        self.player_id = player_id\n",
    "        self.name = name\n",
    "        self.age = age\n",
    "        self.position = position\n",
    "\n",
    "    def __str__(self):\n",
    "        \"\"\"\n",
    "        Return a string representation of the player.\n",
    "        \"\"\"\n",
    "        return f\"Player ID: {self.player_id}, Name: {self.name}, Age: {self.age}, Position: {self.position}\""
   ]
  },
  {
   "cell_type": "code",
   "execution_count": 18,
   "id": "34996e9b-77d6-4747-903a-e1ee4837862b",
   "metadata": {},
   "outputs": [],
   "source": [
    "class Team:\n",
    "    def __init__(self, team_id, team_name, coach_name):\n",
    "        \"\"\"\n",
    "        Initialize the Team object with attributes.\n",
    "        \"\"\"\n",
    "        self.team_id = team_id\n",
    "        self.team_name = team_name\n",
    "        self.coach_name = coach_name\n",
    "        self.roster = []\n",
    "\n",
    "    def add_player(self, player):\n",
    "        \"\"\"\n",
    "        Add a player to the team's roster.\n",
    "        \"\"\"\n",
    "        self.roster.append(player)\n",
    "\n",
    "    def remove_player(self, player_id):\n",
    "        \"\"\"\n",
    "        Remove a player from the team's roster by player ID.\n",
    "        \"\"\"\n",
    "        self.roster = [player for player in self.roster if player.player_id != player_id]\n",
    "\n",
    "    def get_team_roster(self):\n",
    "        \"\"\"\n",
    "        Retrieve the team's roster.\n",
    "        \"\"\"\n",
    "        return [str(player) for player in self.roster]\n",
    "\n",
    "    def __str__(self):\n",
    "        \"\"\"\n",
    "        Return a string representation of the team.\n",
    "        \"\"\"\n",
    "        return (f\"Team ID: {self.team_id}\\n\"\n",
    "                f\"Team Name: {self.team_name}\\n\"\n",
    "                f\"Coach Name: {self.coach_name}\\n\"\n",
    "                f\"Roster:\\n\" + \"\\n\".join(self.get_team_roster()))"
   ]
  },
  {
   "cell_type": "code",
   "execution_count": 19,
   "id": "770121b7-2485-4552-9116-f5745f0a17ea",
   "metadata": {},
   "outputs": [],
   "source": [
    "# Create a new team\n",
    "team1 = Team(team_id=1, team_name=\"Dream FC\", coach_name=\"Coach Carter\")"
   ]
  },
  {
   "cell_type": "code",
   "execution_count": 20,
   "id": "ebaa75d6-ee21-4cab-932f-7dbddc03211e",
   "metadata": {},
   "outputs": [],
   "source": [
    "# Create players\n",
    "player1 = Player(player_id=101, name=\"John Doe\", age=25, position=\"Forward\")\n",
    "player2 = Player(player_id=102, name=\"Jane Smith\", age=22, position=\"Midfielder\")\n",
    "player3 = Player(player_id=103, name=\"Emily Johnson\", age=27, position=\"Defender\")"
   ]
  },
  {
   "cell_type": "code",
   "execution_count": 21,
   "id": "3b3cba04-1fb3-4e90-b022-41a2cf1b7992",
   "metadata": {},
   "outputs": [],
   "source": [
    "# Add players to the team\n",
    "team1.add_player(player1)\n",
    "team1.add_player(player2)\n",
    "team1.add_player(player3)"
   ]
  },
  {
   "cell_type": "code",
   "execution_count": 22,
   "id": "b3c947a8-4fc6-4735-8e51-e314ba96e444",
   "metadata": {},
   "outputs": [
    {
     "data": {
      "text/plain": [
       "['Player ID: 101, Name: John Doe, Age: 25, Position: Forward',\n",
       " 'Player ID: 102, Name: Jane Smith, Age: 22, Position: Midfielder',\n",
       " 'Player ID: 103, Name: Emily Johnson, Age: 27, Position: Defender']"
      ]
     },
     "execution_count": 22,
     "metadata": {},
     "output_type": "execute_result"
    }
   ],
   "source": [
    "team1.get_team_roster()"
   ]
  },
  {
   "cell_type": "code",
   "execution_count": 32,
   "id": "49d8e3f2-f95c-4393-a0f4-b328626f5fd6",
   "metadata": {},
   "outputs": [
    {
     "name": "stdout",
     "output_type": "stream",
     "text": [
      "Team ID: 1\n",
      "Team Name: Dream FC\n",
      "Coach Name: Coach Carter\n",
      "Roster:\n",
      "Player ID: 101, Name: John Doe, Age: 25, Position: Forward\n",
      "Player ID: 102, Name: Jane Smith, Age: 22, Position: Midfielder\n",
      "Player ID: 103, Name: Emily Johnson, Age: 27, Position: Defender\n"
     ]
    }
   ],
   "source": [
    "print(team1)"
   ]
  },
  {
   "cell_type": "code",
   "execution_count": 33,
   "id": "ce5c46f1-622a-4c15-8e9a-a0c168692539",
   "metadata": {},
   "outputs": [],
   "source": [
    "team1.remove_player(player_id=102)"
   ]
  },
  {
   "cell_type": "code",
   "execution_count": 34,
   "id": "0d1330f3-06c4-42d8-871d-c4ed275ce3fe",
   "metadata": {},
   "outputs": [
    {
     "data": {
      "text/plain": [
       "['Player ID: 101, Name: John Doe, Age: 25, Position: Forward',\n",
       " 'Player ID: 103, Name: Emily Johnson, Age: 27, Position: Defender']"
      ]
     },
     "execution_count": 34,
     "metadata": {},
     "output_type": "execute_result"
    }
   ],
   "source": [
    "team1.get_team_roster()"
   ]
  },
  {
   "cell_type": "code",
   "execution_count": 35,
   "id": "b54d6168-d60f-4e85-9ec9-1a2b2dd2b3b3",
   "metadata": {},
   "outputs": [
    {
     "name": "stdout",
     "output_type": "stream",
     "text": [
      "Team ID: 1\n",
      "Team Name: Dream FC\n",
      "Coach Name: Coach Carter\n",
      "Roster:\n",
      "Player ID: 101, Name: John Doe, Age: 25, Position: Forward\n",
      "Player ID: 103, Name: Emily Johnson, Age: 27, Position: Defender\n"
     ]
    }
   ],
   "source": [
    "print(team1)"
   ]
  },
  {
   "cell_type": "markdown",
   "id": "f1e6ecde-03a2-48aa-9396-af27b456f747",
   "metadata": {},
   "source": [
    "#### booking mgmt"
   ]
  },
  {
   "cell_type": "code",
   "execution_count": 23,
   "id": "73452c8d-ed5a-4841-9ac5-d9177e8a29d4",
   "metadata": {},
   "outputs": [],
   "source": [
    "class Ticket:\n",
    "    def __init__(self, ticket_id, match_id, seat_number, price):\n",
    "        \"\"\"\n",
    "        Initialize the Ticket object with attributes.\n",
    "        \"\"\"\n",
    "        self.ticket_id = ticket_id\n",
    "        self.match_id = match_id\n",
    "        self.seat_number = seat_number\n",
    "        self.price = price\n",
    "        self.is_booked = False\n",
    "        self.details = {}\n",
    "\n",
    "    def book_ticket(self, customer_name, customer_email):\n",
    "        \"\"\"\n",
    "        Book the ticket with the provided customer details.\n",
    "        \"\"\"\n",
    "        if not self.is_booked:\n",
    "            self.is_booked = True\n",
    "            self.details = {\n",
    "                'customer_name': customer_name,\n",
    "                'customer_email': customer_email\n",
    "            }\n",
    "        else:\n",
    "            print(\"Ticket is already booked.\")\n",
    "\n",
    "    def cancel_ticket(self):\n",
    "        \"\"\"\n",
    "        Cancel the booking of the ticket.\n",
    "        \"\"\"\n",
    "        if self.is_booked:\n",
    "            self.is_booked = False\n",
    "            self.details = {}\n",
    "        else:\n",
    "            print(\"Ticket is not booked yet.\")\n",
    "\n",
    "    def retrieve_ticket_details(self):\n",
    "        \"\"\"\n",
    "        Retrieve the ticket details.\n",
    "        \"\"\"\n",
    "        return {\n",
    "            'ticket_id': self.ticket_id,\n",
    "            'match_id': self.match_id,\n",
    "            'seat_number': self.seat_number,\n",
    "            'price': self.price,\n",
    "            'is_booked': self.is_booked,\n",
    "            'details': self.details\n",
    "        }\n",
    "\n",
    "    def __str__(self):\n",
    "        \"\"\"\n",
    "        Return a string representation of the ticket.\n",
    "        \"\"\"\n",
    "        return (f\"Ticket ID: {self.ticket_id}\\n\"\n",
    "                f\"Match ID: {self.match_id}\\n\"\n",
    "                f\"Seat Number: {self.seat_number}\\n\"\n",
    "                f\"Price: {self.price}\\n\"\n",
    "                f\"Is Booked: {self.is_booked}\\n\"\n",
    "                f\"Details: {self.details}\")\n"
   ]
  },
  {
   "cell_type": "code",
   "execution_count": 24,
   "id": "2731da80-31cd-4a4f-a4c3-8d08fd7c56cd",
   "metadata": {},
   "outputs": [],
   "source": [
    "class Booking:\n",
    "    def __init__(self, booking_id, customer_name, customer_email, ticket):\n",
    "        \"\"\"\n",
    "        Initialize the Booking object with attributes.\n",
    "        \"\"\"\n",
    "        self.booking_id = booking_id\n",
    "        self.customer_name = customer_name\n",
    "        self.customer_email = customer_email\n",
    "        self.ticket = ticket\n",
    "\n",
    "    def confirm_booking(self):\n",
    "        \"\"\"\n",
    "        Confirm the booking and book the associated ticket.\n",
    "        \"\"\"\n",
    "        self.ticket.book_ticket(self.customer_name, self.customer_email)\n",
    "\n",
    "    def cancel_booking(self):\n",
    "        \"\"\"\n",
    "        Cancel the booking and the associated ticket.\n",
    "        \"\"\"\n",
    "        self.ticket.cancel_ticket()\n",
    "\n",
    "    def retrieve_booking_details(self):\n",
    "        \"\"\"\n",
    "        Retrieve the booking details.\n",
    "        \"\"\"\n",
    "        return {\n",
    "            'booking_id': self.booking_id,\n",
    "            'customer_name': self.customer_name,\n",
    "            'customer_email': self.customer_email,\n",
    "            'ticket_details': self.ticket.retrieve_ticket_details()\n",
    "        }\n",
    "\n",
    "    def __str__(self):\n",
    "        \"\"\"\n",
    "        Return a string representation of the booking.\n",
    "        \"\"\"\n",
    "        return (f\"Booking ID: {self.booking_id}\\n\"\n",
    "                f\"Customer Name: {self.customer_name}\\n\"\n",
    "                f\"Customer Email: {self.customer_email}\\n\"\n",
    "                f\"Ticket Details: {self.ticket}\")"
   ]
  },
  {
   "cell_type": "code",
   "execution_count": 25,
   "id": "b7e355c5-4af8-49bd-942f-4cbc4566a2dd",
   "metadata": {},
   "outputs": [],
   "source": [
    "# Create a new ticket\n",
    "ticket1 = Ticket(ticket_id=501, match_id=101, seat_number=\"A10\", price=100)"
   ]
  },
  {
   "cell_type": "code",
   "execution_count": 26,
   "id": "5026beae-02ca-4e32-9c1a-1dc50a291a61",
   "metadata": {},
   "outputs": [],
   "source": [
    "# Create a new booking\n",
    "booking1 = Booking(booking_id=1, customer_name=\"Alice\", customer_email=\"alice@example.com\", ticket=ticket1)"
   ]
  },
  {
   "cell_type": "code",
   "execution_count": 27,
   "id": "06142cf1-afb2-4ed3-afb3-829b60799461",
   "metadata": {},
   "outputs": [],
   "source": [
    "booking1.confirm_booking()"
   ]
  },
  {
   "cell_type": "code",
   "execution_count": 28,
   "id": "a7f6cc0b-c8dd-437f-bef3-f2619caccf78",
   "metadata": {},
   "outputs": [
    {
     "name": "stdout",
     "output_type": "stream",
     "text": [
      "{'booking_id': 1, 'customer_name': 'Alice', 'customer_email': 'alice@example.com', 'ticket_details': {'ticket_id': 501, 'match_id': 101, 'seat_number': 'A10', 'price': 100, 'is_booked': True, 'details': {'customer_name': 'Alice', 'customer_email': 'alice@example.com'}}}\n"
     ]
    }
   ],
   "source": [
    "print(booking1.retrieve_booking_details())"
   ]
  },
  {
   "cell_type": "code",
   "execution_count": 29,
   "id": "ae08c4a6-af0c-4514-a9ee-d5335f9924d8",
   "metadata": {},
   "outputs": [
    {
     "name": "stdout",
     "output_type": "stream",
     "text": [
      "Booking ID: 1\n",
      "Customer Name: Alice\n",
      "Customer Email: alice@example.com\n",
      "Ticket Details: Ticket ID: 501\n",
      "Match ID: 101\n",
      "Seat Number: A10\n",
      "Price: 100\n",
      "Is Booked: True\n",
      "Details: {'customer_name': 'Alice', 'customer_email': 'alice@example.com'}\n"
     ]
    }
   ],
   "source": [
    "# Print the booking details\n",
    "print(booking1)"
   ]
  },
  {
   "cell_type": "code",
   "execution_count": 30,
   "id": "4a538f93-0bae-4fc7-9b3d-07944972d021",
   "metadata": {},
   "outputs": [],
   "source": [
    "# Cancel the booking\n",
    "booking1.cancel_booking()"
   ]
  },
  {
   "cell_type": "code",
   "execution_count": 31,
   "id": "e67e2d8d-8234-4793-9d9a-10bbffa4d08a",
   "metadata": {},
   "outputs": [
    {
     "name": "stdout",
     "output_type": "stream",
     "text": [
      "{'booking_id': 1, 'customer_name': 'Alice', 'customer_email': 'alice@example.com', 'ticket_details': {'ticket_id': 501, 'match_id': 101, 'seat_number': 'A10', 'price': 100, 'is_booked': False, 'details': {}}}\n"
     ]
    }
   ],
   "source": [
    "# Retrieve and print booking details after cancellation\n",
    "print(booking1.retrieve_booking_details())"
   ]
  },
  {
   "cell_type": "code",
   "execution_count": 45,
   "id": "a064b5f5-aa4c-461b-bc50-79c647d8ae8c",
   "metadata": {},
   "outputs": [
    {
     "name": "stdout",
     "output_type": "stream",
     "text": [
      "Booking ID: 1\n",
      "Customer Name: Alice\n",
      "Customer Email: alice@example.com\n",
      "Ticket Details: Ticket ID: 501\n",
      "Match ID: 101\n",
      "Seat Number: A10\n",
      "Price: 100\n",
      "Is Booked: False\n",
      "Details: {}\n"
     ]
    }
   ],
   "source": [
    "# Print the booking details after cancellation\n",
    "print(booking1)"
   ]
  },
  {
   "cell_type": "markdown",
   "id": "db11bcbf-c475-47e2-b662-886d159c042a",
   "metadata": {},
   "source": [
    "#### report generation"
   ]
  },
  {
   "cell_type": "code",
   "execution_count": 78,
   "id": "9966999a-282f-4234-973d-943af554a5e4",
   "metadata": {},
   "outputs": [],
   "source": [
    "import threading\n",
    "import random"
   ]
  },
  {
   "cell_type": "code",
   "execution_count": 79,
   "id": "52571833-0d15-43de-bcf9-573b434a2f08",
   "metadata": {},
   "outputs": [],
   "source": [
    "class Player:\n",
    "    def __init__(self, name, age, position):\n",
    "        self.name     = name\n",
    "        self.age      = age\n",
    "        self.position = position\n",
    "\n",
    "    def __str__(self):\n",
    "        return f\"Name: {self.name}, Age: {self.age}, Position: {self.position}\""
   ]
  },
  {
   "cell_type": "code",
   "execution_count": 80,
   "id": "dbbb5b0e-afa5-441c-86ed-380cc58eeffe",
   "metadata": {},
   "outputs": [],
   "source": [
    "class Team:\n",
    "    def __init__(self, name):\n",
    "        self.name    = name\n",
    "        self.players = []\n",
    "\n",
    "    def add_player(self, player):\n",
    "        self.players.append(player)\n",
    "    \n",
    "    def get_players(self):\n",
    "        return self.players\n",
    "\n",
    "    def generate_random_players(self, num_players=15):\n",
    "        positions = [\"Pitcher\", \"Catcher\", \"Infielder\", \"Outfielder\"]\n",
    "        \n",
    "        for _ in range(num_players):\n",
    "            name     = f\"Player{random.randint(1, 1000)}\"\n",
    "            age      = random.randint(20, 40)\n",
    "            position = random.choice(positions)\n",
    "            \n",
    "            self.add_player(Player(name, age, position))\n",
    "            \n",
    "    def __str__(self):\n",
    "        \"\"\"\n",
    "        Return a string representation of the team.\n",
    "        \"\"\"\n",
    "        player_info = \"\\n\".join(str(player) for player in self.players)\n",
    "        return f\"Team: {self.name}\\nPlayers:\\n{player_info}\""
   ]
  },
  {
   "cell_type": "code",
   "execution_count": 81,
   "id": "081fb8f2-85aa-4f21-9b7d-53bf47fecd20",
   "metadata": {},
   "outputs": [],
   "source": [
    "class MLBBackend:\n",
    "    def __init__(self):\n",
    "        self.teams = []\n",
    "\n",
    "    def add_team(self, team):\n",
    "        self.teams.append(team)\n",
    "\n",
    "    def generate_teams(self, num_teams=6):\n",
    "        for i in range(num_teams):\n",
    "            team_name = f\"Team {i+1}\"\n",
    "            team      = Team(team_name)\n",
    "            team.generate_random_players()\n",
    "            self.add_team(team)\n",
    "\n",
    "    def generate_report(self, team_name):\n",
    "        team = next((t for t in self.teams if t.name == team_name), None)\n",
    "        if team:\n",
    "            print(f\"Generating report for {team_name}:\")\n",
    "            for player in team.get_players():\n",
    "                print(player)\n",
    "            print(\"---------------------\")\n",
    "        else:\n",
    "            print(f\"Team '{team_name}' not found.\")\n",
    "\n",
    "    def multi_threaded_report_generation(self):\n",
    "        threads = []\n",
    "        for team in self.teams:\n",
    "            thread = threading.Thread(target=self.generate_report, args=(team.name,))\n",
    "            threads.append(thread)\n",
    "            thread.start()\n",
    "\n",
    "        for thread in threads:\n",
    "            thread.join()\n"
   ]
  },
  {
   "cell_type": "code",
   "execution_count": 82,
   "id": "12134b12-85a8-4212-8202-099cd16e9a0d",
   "metadata": {},
   "outputs": [],
   "source": [
    "backend = MLBBackend()"
   ]
  },
  {
   "cell_type": "code",
   "execution_count": 83,
   "id": "8263a7ab-5a6a-4abc-b665-55fc052db5e9",
   "metadata": {},
   "outputs": [
    {
     "data": {
      "text/plain": [
       "[]"
      ]
     },
     "execution_count": 83,
     "metadata": {},
     "output_type": "execute_result"
    }
   ],
   "source": [
    "backend.teams"
   ]
  },
  {
   "cell_type": "code",
   "execution_count": null,
   "id": "e9d1d9af-7280-49c5-b0eb-1b7ff5eaa4d9",
   "metadata": {},
   "outputs": [],
   "source": []
  },
  {
   "cell_type": "code",
   "execution_count": 84,
   "id": "1bee0e84-4d9a-49f1-8540-888234a87708",
   "metadata": {},
   "outputs": [],
   "source": [
    "backend.generate_teams()"
   ]
  },
  {
   "cell_type": "code",
   "execution_count": 85,
   "id": "051019f7-f7f9-4894-80e0-5db8cd7c12cb",
   "metadata": {},
   "outputs": [
    {
     "data": {
      "text/plain": [
       "[<__main__.Team at 0x2851e23fc70>,\n",
       " <__main__.Team at 0x2851e258e50>,\n",
       " <__main__.Team at 0x2851e2587c0>,\n",
       " <__main__.Team at 0x2851e255610>,\n",
       " <__main__.Team at 0x2851e2552b0>,\n",
       " <__main__.Team at 0x2851e256d00>]"
      ]
     },
     "execution_count": 85,
     "metadata": {},
     "output_type": "execute_result"
    }
   ],
   "source": [
    "backend.teams"
   ]
  },
  {
   "cell_type": "code",
   "execution_count": 88,
   "id": "c42db8be-ebde-4948-b708-28cae4462b41",
   "metadata": {},
   "outputs": [],
   "source": [
    "# Print each team's information\n",
    "# for team in backend.teams:\n",
    "#     print(team)"
   ]
  },
  {
   "cell_type": "code",
   "execution_count": 89,
   "id": "69070209-b9d9-4d10-87f3-84336726c82e",
   "metadata": {},
   "outputs": [
    {
     "name": "stdout",
     "output_type": "stream",
     "text": [
      "Generating report for Team 1:\n",
      "Name: Player992, Age: 21, Position: Pitcher\n",
      "Name: Player45, Age: 23, Position: Pitcher\n",
      "Name: Player378, Age: 30, Position: Infielder\n",
      "Name: Player617, Age: 29, Position: Catcher\n",
      "Name: Player382, Age: 37, Position: Outfielder\n",
      "Name: Player953, Age: 29, Position: Outfielder\n",
      "Name: Player517, Age: 26, Position: Pitcher\n",
      "Name: Player205, Age: 27, Position: Catcher\n",
      "Name: Player839, Age: 29, Position: Catcher\n",
      "Name: Player903, Age: 35, Position: Catcher\n",
      "Name: Player698, Age: 26, Position: Catcher\n",
      "Name: Player951, Age: 36, Position: Infielder\n",
      "Name: Player714, Age: 29, Position: Outfielder\n",
      "Name: Player478, Age: 40, Position: Pitcher\n",
      "Name: Player35, Age: 26, Position: Pitcher\n",
      "---------------------\n",
      "Generating report for Team 2:\n",
      "Name: Player789, Age: 23, Position: Outfielder\n",
      "Name: Player390, Age: 39, Position: Infielder\n",
      "Name: Player612, Age: 35, Position: Infielder\n",
      "Name: Player73, Age: 34, Position: Infielder\n",
      "Name: Player744, Age: 39, Position: Outfielder\n",
      "Name: Player131, Age: 31, Position: Pitcher\n",
      "Name: Player913, Age: 38, Position: Catcher\n",
      "Name: Player63, Age: 39, Position: Pitcher\n",
      "Name: Player57, Age: 40, Position: Catcher\n",
      "Name: Player902, Age: 34, Position: Catcher\n",
      "Name: Player939, Age: 28, Position: Outfielder\n",
      "Name: Player788, Age: 29, Position: Outfielder\n",
      "Name: Player805, Age: 22, Position: Catcher\n",
      "Name: Player246, Age: 38, Position: Infielder\n",
      "Name: Player355, Age: 35, Position: Pitcher\n",
      "---------------------\n",
      "Generating report for Team 3:\n",
      "Name: Player665, Age: 27, Position: Outfielder\n",
      "Name: Player127, Age: 36, Position: Outfielder\n",
      "Name: Player406, Age: 25, Position: Pitcher\n",
      "Name: Player652, Age: 33, Position: Infielder\n",
      "Name: Player305, Age: 32, Position: Pitcher\n",
      "Name: Player362, Age: 26, Position: Infielder\n",
      "Name: Player563, Age: 23, Position: Outfielder\n",
      "Name: Player542, Age: 28, Position: Pitcher\n",
      "Name: Player161, Age: 35, Position: Infielder\n",
      "Name: Player934, Age: 21, Position: Pitcher\n",
      "Name: Player537, Age: 35, Position: Catcher\n",
      "Name: Player576, Age: 22, Position: Outfielder\n",
      "Name: Player692, Age: 34, Position: Infielder\n",
      "Name: Player423, Age: 22, Position: Pitcher\n",
      "Name: Player283, Age: 20, Position: Pitcher\n",
      "---------------------\n",
      "Generating report for Team 4:\n",
      "Name: Player409, Age: 37, Position: Outfielder\n",
      "Name: Player990, Age: 22, Position: Infielder\n",
      "Name: Player562, Age: 31, Position: Outfielder\n",
      "Name: Player500, Age: 37, Position: Catcher\n",
      "Name: Player167, Age: 20, Position: Infielder\n",
      "Name: Player953, Age: 36, Position: Catcher\n",
      "Name: Player622, Age: 30, Position: Catcher\n",
      "Name: Player92, Age: 35, Position: Infielder\n",
      "Name: Player74, Age: 26, Position: Pitcher\n",
      "Name: Player665, Age: 24, Position: Pitcher\n",
      "Name: Player357, Age: 34, Position: Infielder\n",
      "Name: Player720, Age: 35, Position: Pitcher\n",
      "Name: Player262, Age: 27, Position: Infielder\n",
      "Name: Player775, Age: 36, Position: Outfielder\n",
      "Name: Player67, Age: 21, Position: Outfielder\n",
      "---------------------\n",
      "Generating report for Team 5:\n",
      "Name: Player545, Age: 34, Position: Infielder\n",
      "Name: Player682, Age: 20, Position: Infielder\n",
      "Name: Player633, Age: 31, Position: Infielder\n",
      "Name: Player401, Age: 32, Position: Catcher\n",
      "Name: Player623, Age: 39, Position: Pitcher\n",
      "Name: Player890, Age: 31, Position: Outfielder\n",
      "Name: Player952, Age: 23, Position: Infielder\n",
      "Name: Player554, Age: 25, Position: Outfielder\n",
      "Name: Player64, Age: 21, Position: Infielder\n",
      "Name: Player765, Age: 36, Position: Pitcher\n",
      "Name: Player371, Age: 23, Position: Outfielder\n",
      "Name: Player211, Age: 28, Position: Pitcher\n",
      "Name: Player708, Age: 28, Position: Pitcher\n",
      "Name: Player51, Age: 22, Position: Outfielder\n",
      "Name: Player38, Age: 28, Position: Catcher\n",
      "---------------------\n",
      "Generating report for Team 6:\n",
      "Name: Player590, Age: 40, Position: Infielder\n",
      "Name: Player836, Age: 20, Position: Outfielder\n",
      "Name: Player404, Age: 33, Position: Infielder\n",
      "Name: Player115, Age: 27, Position: Catcher\n",
      "Name: Player488, Age: 33, Position: Outfielder\n",
      "Name: Player58, Age: 29, Position: Infielder\n",
      "Name: Player173, Age: 36, Position: Outfielder\n",
      "Name: Player640, Age: 21, Position: Pitcher\n",
      "Name: Player981, Age: 25, Position: Outfielder\n",
      "Name: Player688, Age: 25, Position: Pitcher\n",
      "Name: Player406, Age: 34, Position: Pitcher\n",
      "Name: Player307, Age: 25, Position: Catcher\n",
      "Name: Player398, Age: 33, Position: Infielder\n",
      "Name: Player201, Age: 31, Position: Outfielder\n",
      "Name: Player58, Age: 29, Position: Pitcher\n",
      "---------------------\n"
     ]
    }
   ],
   "source": [
    "# Generate reports using multi-threading\n",
    "backend.multi_threaded_report_generation()"
   ]
  },
  {
   "cell_type": "code",
   "execution_count": null,
   "id": "a93aec87-55b9-484b-a80c-4240ef163e53",
   "metadata": {},
   "outputs": [],
   "source": []
  },
  {
   "cell_type": "code",
   "execution_count": null,
   "id": "a241601c-b4f2-4c3a-bd86-d497c6d81850",
   "metadata": {},
   "outputs": [],
   "source": []
  }
 ],
 "metadata": {
  "kernelspec": {
   "display_name": "Python 3 (ipykernel)",
   "language": "python",
   "name": "python3"
  },
  "language_info": {
   "codemirror_mode": {
    "name": "ipython",
    "version": 3
   },
   "file_extension": ".py",
   "mimetype": "text/x-python",
   "name": "python",
   "nbconvert_exporter": "python",
   "pygments_lexer": "ipython3",
   "version": "3.9.13"
  }
 },
 "nbformat": 4,
 "nbformat_minor": 5
}
