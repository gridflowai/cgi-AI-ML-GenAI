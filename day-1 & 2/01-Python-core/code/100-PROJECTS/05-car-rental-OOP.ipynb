{
 "cells": [
  {
   "cell_type": "code",
   "execution_count": 3,
   "id": "ba55cc51-5ad9-4f00-a13d-b2f384dc3399",
   "metadata": {},
   "outputs": [],
   "source": [
    "import random\n",
    "from datetime import datetime, timedelta\n",
    "from tabulate import tabulate"
   ]
  },
  {
   "cell_type": "code",
   "execution_count": null,
   "id": "7af73e28-8042-48e1-a081-13a785c36105",
   "metadata": {},
   "outputs": [],
   "source": [
    "pip install tabulate"
   ]
  },
  {
   "cell_type": "code",
   "execution_count": 4,
   "id": "68e3fe46-8d39-4f2e-89cd-af67c9781055",
   "metadata": {},
   "outputs": [],
   "source": [
    "class Car:\n",
    "    car_types = {\n",
    "        'COMPACT': {'hourly': 10, 'daily': 50, 'weekly': 125},\n",
    "        'SDN': {'hourly': 15, 'daily': 75, 'weekly': 150},\n",
    "        'MUV': {'hourly': 25, 'daily': 100, 'weekly': 150},\n",
    "        'TRUCKS': {'hourly': 30, 'daily': 120, 'weekly': 200}\n",
    "    }\n",
    "\n",
    "    def __init__(self, reg_no, car_type):\n",
    "        self.reg_no = reg_no\n",
    "        self.car_type = car_type\n",
    "        self.available = True\n",
    "        self.rented_by_customer = None\n",
    "        self.rented_date = None\n",
    "        self.return_date = None\n",
    "\n",
    "    @property\n",
    "    def rates(self):\n",
    "        return self.car_types[self.car_type]"
   ]
  },
  {
   "cell_type": "code",
   "execution_count": 5,
   "id": "bae21f0d-445b-45af-ab14-2853e9cac37b",
   "metadata": {},
   "outputs": [],
   "source": [
    "class CarInventory:\n",
    "    def __init__(self):\n",
    "        self.car_stock = {}\n",
    "\n",
    "    def generate_car_stock(self, num_cars):\n",
    "        for _ in range(num_cars):\n",
    "            reg_no   = random.randint(10000, 50000)\n",
    "            car_type = random.choice(list(Car.car_types.keys()))\n",
    "            car      = Car(reg_no, car_type)\n",
    "            \n",
    "            self.car_stock[reg_no] = car\n",
    "            \n",
    "        return f\"{num_cars} cars generated successfully!\"\n",
    "    \n",
    "    def display_stock(self):\n",
    "        car_type_count = {}\n",
    "        total_stock = {}\n",
    "\n",
    "        for car in self.car_stock.values():\n",
    "            car_type = car.car_type\n",
    "            if car_type in total_stock:\n",
    "                total_stock[car_type] += 1\n",
    "            else:\n",
    "                total_stock[car_type] = 1\n",
    "\n",
    "            if car.available:\n",
    "                if car_type in car_type_count:\n",
    "                    car_type_count[car_type] += 1\n",
    "                else:\n",
    "                    car_type_count[car_type] = 1\n",
    "\n",
    "        if not car_type_count:\n",
    "            return \"No cars available\"\n",
    "\n",
    "        available_cars = []\n",
    "        for car_type, count in car_type_count.items():\n",
    "            total = total_stock[car_type]\n",
    "            rates = Car.car_types[car_type]\n",
    "            rental_rates = f\"Hourly: ${rates['hourly']}, Daily: ${rates['daily']}, Weekly: ${rates['weekly']}\"\n",
    "            available_cars.append((car_type, total, count, rental_rates))\n",
    "\n",
    "        headers = [\"Car Type\", \"Total Stock\", \"Number of Available Cars\", \"Rental Rates\"]\n",
    "        table = tabulate(available_cars, headers, tablefmt=\"pretty\")\n",
    "        return table"
   ]
  },
  {
   "cell_type": "code",
   "execution_count": 6,
   "id": "1da98fb0-d58c-4b92-af47-97e730435118",
   "metadata": {},
   "outputs": [],
   "source": [
    "class Booking:\n",
    "    def __init__(self, customer_name, car, rental_basis):\n",
    "        self.customer_name = customer_name\n",
    "        self.car = car\n",
    "        self.rental_basis = rental_basis\n",
    "        self.rental_date = datetime.now()\n",
    "        self.return_date = None"
   ]
  },
  {
   "cell_type": "code",
   "execution_count": 7,
   "id": "81998e6d-f54b-49c9-9924-b1883836660b",
   "metadata": {},
   "outputs": [],
   "source": [
    "class BookingManager:\n",
    "    def __init__(self):\n",
    "        self.customer_bookings = {}\n",
    "\n",
    "    def book_car(self, car_inventory, customer_name, car_type, qty, rental_basis):\n",
    "        if car_type not in Car.car_types:\n",
    "            return \"Invalid car type entered.\"\n",
    "\n",
    "        if rental_basis not in ['hourly', 'daily', 'weekly']:\n",
    "            return \"Invalid rental basis entered.\"\n",
    "\n",
    "        if qty <= 0:\n",
    "            return \"Quantity must be a positive integer.\"\n",
    "\n",
    "        available_cars = [car for car in car_inventory.car_stock.values() if car.available and car.car_type == car_type]\n",
    "\n",
    "        if not available_cars:\n",
    "            return f\"No available cars of {car_type} type.\"\n",
    "\n",
    "        if qty > len(available_cars):\n",
    "            return f\"Not enough {car_type} cars available. Available: {len(available_cars)}\"\n",
    "\n",
    "        booking_ref = f\"{customer_name}_{car_type}_{rental_basis}_{datetime.now().strftime('%Y%m%d%H%M%S%f')}\"\n",
    "\n",
    "        booking_details = []\n",
    "        for car in random.sample(available_cars, qty):\n",
    "            car.available = False\n",
    "            car.rented_by_customer = customer_name\n",
    "            car.rented_date = datetime.now()\n",
    "            car.return_date = None\n",
    "            booking = Booking(customer_name, car, rental_basis)\n",
    "            booking_details.append(booking)\n",
    "\n",
    "        self.customer_bookings[booking_ref] = booking_details\n",
    "\n",
    "        return f\"Booking Successful! Booking Reference: {booking_ref}\"\n",
    "\n",
    "    def display_customer_bookings(self):\n",
    "        booking_data = []\n",
    "        headers = [\"Booking Ref\", \"Customer Name\", \"Car Type\", \"Reg No\", \"Rental Basis\", \"Rental Date\", \"Return Date\"]\n",
    "        for booking_ref, bookings in self.customer_bookings.items():\n",
    "            for booking in bookings:\n",
    "                booking_data.append([\n",
    "                    booking_ref,\n",
    "                    booking.customer_name,\n",
    "                    booking.car.car_type,\n",
    "                    booking.car.reg_no,\n",
    "                    booking.rental_basis,\n",
    "                    booking.rental_date.strftime('%Y-%m-%d %H:%M:%S'),\n",
    "                    booking.return_date\n",
    "                ])\n",
    "        table = tabulate(booking_data, headers, tablefmt=\"pretty\")\n",
    "        return table\n",
    "\n",
    "    def return_car(self, car_inventory, customer_name, reg_no):\n",
    "        active_bookings = []\n",
    "        for booking_ref, bookings in self.customer_bookings.items():\n",
    "            for booking in bookings:\n",
    "                if booking.customer_name == customer_name and booking.return_date is None:\n",
    "                    active_bookings.append((booking_ref, booking))\n",
    "\n",
    "        if not active_bookings:\n",
    "            return \"No active bookings found for the customer.\"\n",
    "\n",
    "        booking_details = None\n",
    "        for booking_ref, booking in active_bookings:\n",
    "            if booking.car.reg_no == reg_no:\n",
    "                booking_details = booking\n",
    "                break\n",
    "\n",
    "        if not booking_details:\n",
    "            return \"Invalid registration number or the car is not currently rented by the customer.\"\n",
    "\n",
    "        rental_date = booking_details.rental_date\n",
    "        return_date = datetime.now()\n",
    "        rental_basis = booking_details.rental_basis\n",
    "        car_type = booking_details.car.car_type\n",
    "        rental_rate = Car.car_types[car_type][rental_basis]\n",
    "\n",
    "        rental_duration = return_date - rental_date\n",
    "        if rental_basis == 'hourly':\n",
    "            rental_hours = rental_duration.total_seconds() / 3600\n",
    "            bill_amount = rental_hours * rental_rate\n",
    "        elif rental_basis == 'daily':\n",
    "            rental_days = rental_duration.days\n",
    "            bill_amount = rental_days * rental_rate\n",
    "        elif rental_basis == 'weekly':\n",
    "            rental_weeks = rental_duration.days / 7\n",
    "            bill_amount = rental_weeks * rental_rate\n",
    "\n",
    "        bill_amount = round(bill_amount, 2)\n",
    "        bill_paid = input(\"Is the bill paid? (yes/no): \").strip().lower()\n",
    "\n",
    "        if bill_paid == 'yes':\n",
    "            booking_details.return_date = return_date\n",
    "            car_inventory.car_stock[reg_no].available = True\n",
    "            car_inventory.car_stock[reg_no].rented_by_customer = None\n",
    "            car_inventory.car_stock[reg_no].rented_date = None\n",
    "            car_inventory.car_stock[reg_no].return_date = None\n",
    "            return f\"Car returned successfully. Bill of ${bill_amount} has been paid.\"\n",
    "        else:\n",
    "            return \"Car return not completed. Bill not paid.\""
   ]
  },
  {
   "cell_type": "code",
   "execution_count": 8,
   "id": "237be3b6-5395-41ae-aa24-fd4e36f14ee6",
   "metadata": {},
   "outputs": [],
   "source": [
    "car_inventory = CarInventory()"
   ]
  },
  {
   "cell_type": "code",
   "execution_count": 9,
   "id": "bc3c86c3-c957-4a8e-9a1c-2f979d8b6600",
   "metadata": {},
   "outputs": [
    {
     "data": {
      "text/plain": [
       "{}"
      ]
     },
     "execution_count": 9,
     "metadata": {},
     "output_type": "execute_result"
    }
   ],
   "source": [
    "car_inventory.car_stock"
   ]
  },
  {
   "cell_type": "code",
   "execution_count": 10,
   "id": "77a26dd6-8f2b-4e66-8c28-46eb758f93ac",
   "metadata": {},
   "outputs": [
    {
     "data": {
      "text/plain": [
       "'No cars available'"
      ]
     },
     "execution_count": 10,
     "metadata": {},
     "output_type": "execute_result"
    }
   ],
   "source": [
    "car_inventory.display_stock()"
   ]
  },
  {
   "cell_type": "code",
   "execution_count": 11,
   "id": "e338a856-049b-4654-8be3-e0e85ffe6851",
   "metadata": {},
   "outputs": [
    {
     "data": {
      "text/plain": [
       "'20 cars generated successfully!'"
      ]
     },
     "execution_count": 11,
     "metadata": {},
     "output_type": "execute_result"
    }
   ],
   "source": [
    "car_inventory.generate_car_stock(20)"
   ]
  },
  {
   "cell_type": "code",
   "execution_count": 12,
   "id": "0fc668fe-08af-421d-adbd-e99b2eba962b",
   "metadata": {},
   "outputs": [
    {
     "name": "stdout",
     "output_type": "stream",
     "text": [
      "+----------+-------------+--------------------------+----------------------------------------+\n",
      "| Car Type | Total Stock | Number of Available Cars |              Rental Rates              |\n",
      "+----------+-------------+--------------------------+----------------------------------------+\n",
      "|  TRUCKS  |      4      |            4             | Hourly: $30, Daily: $120, Weekly: $200 |\n",
      "|   SDN    |      5      |            5             | Hourly: $15, Daily: $75, Weekly: $150  |\n",
      "|   MUV    |      5      |            5             | Hourly: $25, Daily: $100, Weekly: $150 |\n",
      "| COMPACT  |      6      |            6             | Hourly: $10, Daily: $50, Weekly: $125  |\n",
      "+----------+-------------+--------------------------+----------------------------------------+\n"
     ]
    }
   ],
   "source": [
    "print(car_inventory.display_stock())"
   ]
  },
  {
   "cell_type": "code",
   "execution_count": 17,
   "id": "295f25b3-a6cf-4816-a7f1-1b6654bfc4f5",
   "metadata": {},
   "outputs": [],
   "source": [
    "booking_manager = BookingManager()"
   ]
  },
  {
   "cell_type": "code",
   "execution_count": 18,
   "id": "051296fa-a280-4751-90fa-f4dd338ff7f7",
   "metadata": {},
   "outputs": [
    {
     "data": {
      "text/plain": [
       "'+-------------+---------------+----------+--------+--------------+-------------+-------------+\\n| Booking Ref | Customer Name | Car Type | Reg No | Rental Basis | Rental Date | Return Date |\\n+-------------+---------------+----------+--------+--------------+-------------+-------------+\\n+-------------+---------------+----------+--------+--------------+-------------+-------------+'"
      ]
     },
     "execution_count": 18,
     "metadata": {},
     "output_type": "execute_result"
    }
   ],
   "source": [
    "booking_manager.display_customer_bookings()"
   ]
  },
  {
   "cell_type": "code",
   "execution_count": null,
   "id": "5a68f515-9178-4d87-9183-fe7e7c15961d",
   "metadata": {},
   "outputs": [],
   "source": []
  },
  {
   "cell_type": "code",
   "execution_count": 19,
   "id": "1ff56a1b-b568-46e9-ab8c-293068f56502",
   "metadata": {},
   "outputs": [
    {
     "name": "stdout",
     "output_type": "stream",
     "text": [
      "\n",
      "Car Rental Management System\n",
      "1. Generate stock of cars\n",
      "2. Display the car stock\n",
      "3. Rent car(s)\n",
      "4. Return car\n",
      "5. Exit\n"
     ]
    },
    {
     "name": "stdin",
     "output_type": "stream",
     "text": [
      "Enter your choice:  4\n",
      "Enter customer name:  bks\n"
     ]
    },
    {
     "name": "stdout",
     "output_type": "stream",
     "text": [
      "+-------------+---------------+----------+--------+--------------+-------------+-------------+\n",
      "| Booking Ref | Customer Name | Car Type | Reg No | Rental Basis | Rental Date | Return Date |\n",
      "+-------------+---------------+----------+--------+--------------+-------------+-------------+\n",
      "+-------------+---------------+----------+--------+--------------+-------------+-------------+\n"
     ]
    },
    {
     "name": "stdin",
     "output_type": "stream",
     "text": [
      "Enter the registration number of the car being returned:  5\n"
     ]
    },
    {
     "name": "stdout",
     "output_type": "stream",
     "text": [
      "No active bookings found for the customer.\n",
      "\n",
      "Car Rental Management System\n",
      "1. Generate stock of cars\n",
      "2. Display the car stock\n",
      "3. Rent car(s)\n",
      "4. Return car\n",
      "5. Exit\n"
     ]
    },
    {
     "name": "stdin",
     "output_type": "stream",
     "text": [
      "Enter your choice:  1\n",
      "Enter the number of cars to generate:  20\n"
     ]
    },
    {
     "name": "stdout",
     "output_type": "stream",
     "text": [
      "20 cars generated successfully!\n",
      "\n",
      "Car Rental Management System\n",
      "1. Generate stock of cars\n",
      "2. Display the car stock\n",
      "3. Rent car(s)\n",
      "4. Return car\n",
      "5. Exit\n"
     ]
    },
    {
     "name": "stdin",
     "output_type": "stream",
     "text": [
      "Enter your choice:  2\n"
     ]
    },
    {
     "name": "stdout",
     "output_type": "stream",
     "text": [
      "+----------+-------------+--------------------------+----------------------------------------+\n",
      "| Car Type | Total Stock | Number of Available Cars |              Rental Rates              |\n",
      "+----------+-------------+--------------------------+----------------------------------------+\n",
      "|  TRUCKS  |     17      |            17            | Hourly: $30, Daily: $120, Weekly: $200 |\n",
      "|   SDN    |     16      |            16            | Hourly: $15, Daily: $75, Weekly: $150  |\n",
      "|   MUV    |     13      |            11            | Hourly: $25, Daily: $100, Weekly: $150 |\n",
      "| COMPACT  |     14      |            14            | Hourly: $10, Daily: $50, Weekly: $125  |\n",
      "+----------+-------------+--------------------------+----------------------------------------+\n",
      "\n",
      "Car Rental Management System\n",
      "1. Generate stock of cars\n",
      "2. Display the car stock\n",
      "3. Rent car(s)\n",
      "4. Return car\n",
      "5. Exit\n"
     ]
    },
    {
     "name": "stdin",
     "output_type": "stream",
     "text": [
      "Enter your choice:  3\n",
      "Enter customer name:  bhupen\n",
      "Enter car type (COMPACT, SDN, MUV, TRUCKS):  sdn\n",
      "Enter quantity:  2\n",
      "Enter rental basis (hourly, daily, weekly):  weekly\n"
     ]
    },
    {
     "name": "stdout",
     "output_type": "stream",
     "text": [
      "Booking Successful! Booking Reference: bhupen_SDN_weekly_20240622222922614875\n",
      "\n",
      "Car Rental Management System\n",
      "1. Generate stock of cars\n",
      "2. Display the car stock\n",
      "3. Rent car(s)\n",
      "4. Return car\n",
      "5. Exit\n"
     ]
    },
    {
     "name": "stdin",
     "output_type": "stream",
     "text": [
      "Enter your choice:  4\n",
      "Enter customer name:  bhupen\n"
     ]
    },
    {
     "name": "stdout",
     "output_type": "stream",
     "text": [
      "+----------------------------------------+---------------+----------+--------+--------------+---------------------+-------------+\n",
      "|              Booking Ref               | Customer Name | Car Type | Reg No | Rental Basis |     Rental Date     | Return Date |\n",
      "+----------------------------------------+---------------+----------+--------+--------------+---------------------+-------------+\n",
      "| bhupen_SDN_weekly_20240622222922614875 |    bhupen     |   SDN    | 18733  |    weekly    | 2024-06-22 22:29:22 |             |\n",
      "| bhupen_SDN_weekly_20240622222922614875 |    bhupen     |   SDN    | 18290  |    weekly    | 2024-06-22 22:29:22 |             |\n",
      "+----------------------------------------+---------------+----------+--------+--------------+---------------------+-------------+\n"
     ]
    },
    {
     "name": "stdin",
     "output_type": "stream",
     "text": [
      "Enter the registration number of the car being returned:  18290\n",
      "Is the bill paid? (yes/no):  yes\n"
     ]
    },
    {
     "name": "stdout",
     "output_type": "stream",
     "text": [
      "Car returned successfully. Bill of $0.0 has been paid.\n",
      "\n",
      "Car Rental Management System\n",
      "1. Generate stock of cars\n",
      "2. Display the car stock\n",
      "3. Rent car(s)\n",
      "4. Return car\n",
      "5. Exit\n"
     ]
    },
    {
     "name": "stdin",
     "output_type": "stream",
     "text": [
      "Enter your choice:  2\n"
     ]
    },
    {
     "name": "stdout",
     "output_type": "stream",
     "text": [
      "+----------+-------------+--------------------------+----------------------------------------+\n",
      "| Car Type | Total Stock | Number of Available Cars |              Rental Rates              |\n",
      "+----------+-------------+--------------------------+----------------------------------------+\n",
      "|  TRUCKS  |     17      |            17            | Hourly: $30, Daily: $120, Weekly: $200 |\n",
      "|   SDN    |     16      |            15            | Hourly: $15, Daily: $75, Weekly: $150  |\n",
      "|   MUV    |     13      |            11            | Hourly: $25, Daily: $100, Weekly: $150 |\n",
      "| COMPACT  |     14      |            14            | Hourly: $10, Daily: $50, Weekly: $125  |\n",
      "+----------+-------------+--------------------------+----------------------------------------+\n",
      "\n",
      "Car Rental Management System\n",
      "1. Generate stock of cars\n",
      "2. Display the car stock\n",
      "3. Rent car(s)\n",
      "4. Return car\n",
      "5. Exit\n"
     ]
    },
    {
     "name": "stdin",
     "output_type": "stream",
     "text": [
      "Enter your choice:  5\n"
     ]
    },
    {
     "name": "stdout",
     "output_type": "stream",
     "text": [
      "Exiting the system. Goodbye!\n"
     ]
    }
   ],
   "source": [
    "while True:\n",
    "    print(\"\\nCar Rental Management System\")\n",
    "    print(\"1. Generate stock of cars\")\n",
    "    print(\"2. Display the car stock\")\n",
    "    print(\"3. Rent car(s)\")\n",
    "    print(\"4. Return car\")\n",
    "    print(\"5. Exit\")\n",
    "    choice = input(\"Enter your choice: \")\n",
    "\n",
    "    if choice == '1':\n",
    "        num_cars = int(input(\"Enter the number of cars to generate: \"))\n",
    "        result = car_inventory.generate_car_stock(num_cars)\n",
    "        print(result)\n",
    "\n",
    "    elif choice == '2':\n",
    "        print(car_inventory.display_stock())\n",
    "\n",
    "    elif choice == '3':\n",
    "        customer_name = input(\"Enter customer name: \")\n",
    "        car_type = input(\"Enter car type (COMPACT, SDN, MUV, TRUCKS): \").upper()\n",
    "        qty = int(input(\"Enter quantity: \"))\n",
    "        rental_basis = input(\"Enter rental basis (hourly, daily, weekly): \").lower()\n",
    "        result = booking_manager.book_car(car_inventory, customer_name, car_type, qty, rental_basis)\n",
    "        print(result)\n",
    "\n",
    "    elif choice == '4':\n",
    "        customer_name = input(\"Enter customer name: \")\n",
    "        print(booking_manager.display_customer_bookings())\n",
    "        \n",
    "        reg_no = int(input(\"Enter the registration number of the car being returned: \"))\n",
    "        result = booking_manager.return_car(car_inventory, customer_name, reg_no)\n",
    "        print(result)\n",
    "\n",
    "    elif choice == '5':\n",
    "        print(\"Exiting the system. Goodbye!\")\n",
    "        break\n",
    "\n",
    "    else:\n",
    "        print(\"Invalid choice. Please try again.\")"
   ]
  },
  {
   "cell_type": "code",
   "execution_count": null,
   "id": "1770a782-ba88-4e8a-8989-b455fe8d3df1",
   "metadata": {},
   "outputs": [],
   "source": []
  }
 ],
 "metadata": {
  "kernelspec": {
   "display_name": "Python 3 (ipykernel)",
   "language": "python",
   "name": "python3"
  },
  "language_info": {
   "codemirror_mode": {
    "name": "ipython",
    "version": 3
   },
   "file_extension": ".py",
   "mimetype": "text/x-python",
   "name": "python",
   "nbconvert_exporter": "python",
   "pygments_lexer": "ipython3",
   "version": "3.9.13"
  }
 },
 "nbformat": 4,
 "nbformat_minor": 5
}
