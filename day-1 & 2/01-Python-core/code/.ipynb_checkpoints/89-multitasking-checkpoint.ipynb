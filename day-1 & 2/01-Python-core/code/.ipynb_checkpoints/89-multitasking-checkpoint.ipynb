{
 "cells": [
  {
   "cell_type": "markdown",
   "id": "78b8e026-b7c4-4f8d-a48d-40709564ea37",
   "metadata": {},
   "source": [
    "---------------------\n",
    "### multitasking \n",
    "\n",
    "- refers to the ability of a program to execute multiple tasks simultaneously or concurrently. \n",
    "- This allows a program to make efficient use of system resources and improve overall performance by executing tasks concurrently instead of sequentially.\n",
    "-----------------------------\n",
    "\n",
    "There are 2 primary approaches to achieve multitasking in Python:\n",
    "\n",
    "- `Multithreading`: \n",
    "    - Multithreading is a way of achieving multitasking by dividing a program into multiple threads. Each thread represents an independent flow of execution within the same process. \n",
    "    - Threads can run concurrently, sharing the same resources like memory space, file descriptors, etc. Python provides a built-in threading module that allows you to create and manage threads.\n",
    "\n",
    "- `Multiprocessing`: \n",
    "    - Multiprocessing is another way of achieving multitasking by dividing a program into multiple processes. \n",
    "    - Each process runs independently and has its memory space, allowing true parallelism. \n",
    "    - Python provides a built-in multiprocessing module that allows you to create and manage processes."
   ]
  },
  {
   "cell_type": "code",
   "execution_count": 1,
   "id": "be92792e-11ef-49a0-b0ed-4cc9b110c574",
   "metadata": {
    "tags": []
   },
   "outputs": [
    {
     "name": "stdout",
     "output_type": "stream",
     "text": [
      "0\n",
      "A\n",
      "B\n",
      "1\n",
      "2C\n",
      "\n",
      "3D\n",
      "\n",
      "4E\n",
      "\n",
      "All threads have finished.\n"
     ]
    }
   ],
   "source": [
    "import threading\n",
    "import time\n",
    "\n",
    "# Function that will run in a separate thread\n",
    "def print_numbers():\n",
    "    for i in range(5):\n",
    "        print(i)\n",
    "        time.sleep(1)  # Introducing a delay to simulate some work\n",
    "\n",
    "# Function that will run in another separate thread\n",
    "def print_letters():\n",
    "    for char in 'ABCDE':\n",
    "        print(char)\n",
    "        time.sleep(1)  # Introducing a delay to simulate some work\n",
    "\n",
    "# Create two threads and start them\n",
    "thread1 = threading.Thread(target=print_numbers)\n",
    "thread2 = threading.Thread(target=print_letters)\n",
    "\n",
    "thread1.start()\n",
    "thread2.start()\n",
    "\n",
    "# The main thread waits for both threads to finish before continuing\n",
    "# Wait until the thread terminates.\n",
    "\n",
    "# This blocks the calling thread until the thread whose join() method is\n",
    "# called terminates -- either normally or through an unhandled exception\n",
    "# or until the optional timeout occurs.\n",
    "\n",
    "# When the timeout argument is present and not None, it should be a\n",
    "# floating point number specifying a timeout for the operation in seconds\n",
    "# (or fractions thereof). As join() always returns None, you must call\n",
    "# is_alive() after join() to decide whether a timeout happened -- if the\n",
    "# thread is still alive, the join() call timed out.\n",
    "\n",
    "# When the timeout argument is not present or None, the operation will\n",
    "# block until the thread terminates.\n",
    "thread1.join()\n",
    "thread2.join()\n",
    "\n",
    "print(\"All threads have finished.\")\n"
   ]
  },
  {
   "cell_type": "markdown",
   "id": "23d50717-6b2d-4cc2-88b6-63ee4ea37339",
   "metadata": {},
   "source": [
    "In this example, we have defined two functions, `print_numbers` and `print_letters`, which will run in separate threads. Each function simply prints some numbers or letters with a one-second delay between each print statement to simulate some work being done.\n",
    "\n",
    "We then create two threads, `thread1` and `thread2`, and start them using the start() method. The main thread then waits for both threads to finish using the join() method before printing \"All threads have finished.\"\n",
    "\n",
    "When you run this code, you'll notice that the numbers and letters are printed concurrently, with a one-second delay between each output. The output order might vary in each run, showing the true parallelism achieved through multithreading.\n",
    "\n",
    "Keep in mind that this example demonstrates basic multithreading, and in real-world scenarios, you would often use multithreading for I/O-bound tasks (where threads can efficiently handle I/O operations) or for concurrent operations that don't involve shared resources. \n",
    "\n",
    "For CPU-bound tasks that can benefit from true parallelism, you might consider using the multiprocessing module for multiple processes instead.\n",
    "\n",
    "\n",
    "\n",
    "\n"
   ]
  },
  {
   "cell_type": "code",
   "execution_count": 2,
   "id": "e759760c-d7ca-4e02-bc32-d38427a41359",
   "metadata": {
    "tags": []
   },
   "outputs": [
    {
     "name": "stdout",
     "output_type": "stream",
     "text": [
      "Downloaded https://www.python.org, took 0.21 seconds\n",
      "Downloaded https://www.wikipedia.org, took 0.30 seconds\n",
      "Downloaded https://www.github.com, took 0.49 seconds\n",
      "Downloaded https://www.google.com, took 0.57 seconds\n",
      "Downloaded https://www.example.com, took 1.20 seconds\n",
      "All downloads have finished.\n"
     ]
    }
   ],
   "source": [
    "import threading\n",
    "import requests\n",
    "import time\n",
    "\n",
    "# URLs to download (IO-bound tasks)\n",
    "urls = [\n",
    "    'https://www.example.com',\n",
    "    'https://www.google.com',\n",
    "    'https://www.python.org',\n",
    "    'https://www.github.com',\n",
    "    'https://www.wikipedia.org',\n",
    "]\n",
    "\n",
    "# Function to download a web page and measure the time taken\n",
    "def download_url(url):\n",
    "    start_time = time.time()\n",
    "    response   = requests.get(url)\n",
    "    print(f\"Downloaded {url}, took {time.time() - start_time:.2f} seconds\")\n",
    "\n",
    "# Create threads for each URL and start them\n",
    "threads = [threading.Thread(target=download_url, args=(url,)) for url in urls]\n",
    "\n",
    "for thread in threads:\n",
    "    thread.start()\n",
    "\n",
    "# The main thread waits for all threads to finish before continuing\n",
    "for thread in threads:\n",
    "    thread.join()\n",
    "\n",
    "print(\"All downloads have finished.\")\n"
   ]
  },
  {
   "cell_type": "code",
   "execution_count": 3,
   "id": "dc1aaffd-9a3b-4085-b31d-178ae0f470eb",
   "metadata": {
    "tags": []
   },
   "outputs": [
    {
     "name": "stdout",
     "output_type": "stream",
     "text": [
      "Squares: [1, 4, 9, 16, 25], took 0.00 seconds\n",
      "Cubes: [1, 8, 27, 64, 125], took 0.00 seconds\n",
      "All data processing tasks have finished.\n"
     ]
    }
   ],
   "source": [
    "import time\n",
    "\n",
    "# List of numbers for data processing (data processing task)\n",
    "numbers = [1, 2, 3, 4, 5]\n",
    "\n",
    "# Function to calculate the square of each number and measure the time taken\n",
    "def calculate_square(numbers):\n",
    "    start_time = time.time()\n",
    "    squares = [num ** 2 for num in numbers]\n",
    "    print(f\"Squares: {squares}, took {time.time() - start_time:.2f} seconds\")\n",
    "\n",
    "# Function to calculate the cube of each number and measure the time taken\n",
    "def calculate_cube(numbers):\n",
    "    start_time = time.time()\n",
    "    cubes = [num ** 3 for num in numbers]\n",
    "    print(f\"Cubes: {cubes}, took {time.time() - start_time:.2f} seconds\")\n",
    "\n",
    "# Create two threads for data processing tasks and start them\n",
    "thread_square = threading.Thread(target=calculate_square, args=(numbers,))\n",
    "thread_cube = threading.Thread(target=calculate_cube, args=(numbers,))\n",
    "\n",
    "thread_square.start()\n",
    "thread_cube.start()\n",
    "\n",
    "# The main thread waits for both threads to finish before continuing\n",
    "thread_square.join()\n",
    "thread_cube.join()\n",
    "\n",
    "print(\"All data processing tasks have finished.\")\n"
   ]
  },
  {
   "cell_type": "code",
   "execution_count": 4,
   "id": "305cb31d-36f8-49c3-bf10-18d0a1ec59c5",
   "metadata": {},
   "outputs": [
    {
     "name": "stderr",
     "output_type": "stream",
     "text": [
      "Exception in thread Thread-14:\n",
      "Traceback (most recent call last):\n",
      "  File \"D:\\Anaconda-16-FEB\\lib\\threading.py\", line 980, in _bootstrap_inner\n",
      "    self.run()\n",
      "  File \"D:\\Anaconda-16-FEB\\lib\\threading.py\", line 917, in run\n",
      "    self._target(*self._args, **self._kwargs)\n",
      "  File \"C:\\Users\\bhupe\\AppData\\Local\\Temp\\ipykernel_20148\\3402841827.py\", line 9, in read_file\n",
      "Exception in thread Thread-16:\n",
      "Traceback (most recent call last):\n",
      "  File \"D:\\Anaconda-16-FEB\\lib\\threading.py\", line 980, in _bootstrap_inner\n",
      "    self.run()\n",
      "  File \"D:\\Anaconda-16-FEB\\lib\\threading.py\", line 917, in run\n",
      "    self._target(*self._args, **self._kwargs)\n",
      "  File \"C:\\Users\\bhupe\\AppData\\Local\\Temp\\ipykernel_20148\\3402841827.py\", line 9, in read_file\n",
      "  File \"D:\\Anaconda-16-FEB\\lib\\site-packages\\pandas\\util\\_decorators.py\", line 311, in wrapper\n",
      "  File \"D:\\Anaconda-16-FEB\\lib\\site-packages\\pandas\\util\\_decorators.py\", line 311, in wrapper\n",
      "Exception in thread Thread-15:\n",
      "Traceback (most recent call last):\n",
      "  File \"D:\\Anaconda-16-FEB\\lib\\threading.py\", line 980, in _bootstrap_inner\n",
      "    self.run()\n",
      "  File \"D:\\Anaconda-16-FEB\\lib\\threading.py\", line 917, in run\n",
      "    self._target(*self._args, **self._kwargs)\n",
      "  File \"C:\\Users\\bhupe\\AppData\\Local\\Temp\\ipykernel_20148\\3402841827.py\", line 9, in read_file\n",
      "  File \"D:\\Anaconda-16-FEB\\lib\\site-packages\\pandas\\util\\_decorators.py\", line 311, in wrapper\n",
      "    return func(*args, **kwargs)\n",
      "  File \"D:\\Anaconda-16-FEB\\lib\\site-packages\\pandas\\io\\parsers\\readers.py\", line 678, in read_csv\n",
      "    return func(*args, **kwargs)\n",
      "  File \"D:\\Anaconda-16-FEB\\lib\\site-packages\\pandas\\io\\parsers\\readers.py\", line 678, in read_csv\n",
      "    return func(*args, **kwargs)\n",
      "  File \"D:\\Anaconda-16-FEB\\lib\\site-packages\\pandas\\io\\parsers\\readers.py\", line 678, in read_csv\n",
      "    return _read(filepath_or_buffer, kwds)\n",
      "  File \"D:\\Anaconda-16-FEB\\lib\\site-packages\\pandas\\io\\parsers\\readers.py\", line 575, in _read\n",
      "    return _read(filepath_or_buffer, kwds)\n",
      "  File \"D:\\Anaconda-16-FEB\\lib\\site-packages\\pandas\\io\\parsers\\readers.py\", line 575, in _read\n",
      "    return _read(filepath_or_buffer, kwds)\n",
      "  File \"D:\\Anaconda-16-FEB\\lib\\site-packages\\pandas\\io\\parsers\\readers.py\", line 575, in _read\n",
      "    parser = TextFileReader(filepath_or_buffer, **kwds)\n",
      "  File \"D:\\Anaconda-16-FEB\\lib\\site-packages\\pandas\\io\\parsers\\readers.py\", line 932, in __init__\n",
      "    parser = TextFileReader(filepath_or_buffer, **kwds)\n",
      "  File \"D:\\Anaconda-16-FEB\\lib\\site-packages\\pandas\\io\\parsers\\readers.py\", line 932, in __init__\n",
      "    parser = TextFileReader(filepath_or_buffer, **kwds)\n",
      "  File \"D:\\Anaconda-16-FEB\\lib\\site-packages\\pandas\\io\\parsers\\readers.py\", line 932, in __init__\n",
      "    self._engine = self._make_engine(f, self.engine)\n",
      "  File \"D:\\Anaconda-16-FEB\\lib\\site-packages\\pandas\\io\\parsers\\readers.py\", line 1216, in _make_engine\n",
      "    self._engine = self._make_engine(f, self.engine)\n",
      "  File \"D:\\Anaconda-16-FEB\\lib\\site-packages\\pandas\\io\\parsers\\readers.py\", line 1216, in _make_engine\n",
      "    self.handles = get_handle(  # type: ignore[call-overload]\n",
      "  File \"D:\\Anaconda-16-FEB\\lib\\site-packages\\pandas\\io\\common.py\", line 786, in get_handle\n",
      "    self.handles = get_handle(  # type: ignore[call-overload]\n",
      "  File \"D:\\Anaconda-16-FEB\\lib\\site-packages\\pandas\\io\\common.py\", line 786, in get_handle\n",
      "    self._engine = self._make_engine(f, self.engine)\n",
      "  File \"D:\\Anaconda-16-FEB\\lib\\site-packages\\pandas\\io\\parsers\\readers.py\", line 1216, in _make_engine\n",
      "    self.handles = get_handle(  # type: ignore[call-overload]\n",
      "  File \"D:\\Anaconda-16-FEB\\lib\\site-packages\\pandas\\io\\common.py\", line 786, in get_handle\n",
      "    handle = open(\n",
      "FileNotFoundError: [Errno 2] No such file or directory: 'data2.csv'\n",
      "    handle = open(\n",
      "FileNotFoundError: [Errno 2] No such file or directory: 'data1.csv'\n",
      "    handle = open(\n",
      "FileNotFoundError: [Errno 2] No such file or directory: 'data3.csv'\n"
     ]
    },
    {
     "ename": "AttributeError",
     "evalue": "'Thread' object has no attribute 'result'",
     "output_type": "error",
     "traceback": [
      "\u001b[1;31m---------------------------------------------------------------------------\u001b[0m",
      "\u001b[1;31mAttributeError\u001b[0m                            Traceback (most recent call last)",
      "\u001b[1;32m~\\AppData\\Local\\Temp\\ipykernel_20148\\3402841827.py\u001b[0m in \u001b[0;36m<module>\u001b[1;34m\u001b[0m\n\u001b[0;32m     22\u001b[0m \u001b[1;33m\u001b[0m\u001b[0m\n\u001b[0;32m     23\u001b[0m \u001b[1;31m# Concatenate the DataFrames into a single DataFrame\u001b[0m\u001b[1;33m\u001b[0m\u001b[1;33m\u001b[0m\u001b[0m\n\u001b[1;32m---> 24\u001b[1;33m \u001b[0mresult_df\u001b[0m \u001b[1;33m=\u001b[0m \u001b[0mpd\u001b[0m\u001b[1;33m.\u001b[0m\u001b[0mconcat\u001b[0m\u001b[1;33m(\u001b[0m\u001b[1;33m[\u001b[0m\u001b[0mthread\u001b[0m\u001b[1;33m.\u001b[0m\u001b[0mresult\u001b[0m\u001b[1;33m(\u001b[0m\u001b[1;33m)\u001b[0m \u001b[1;32mfor\u001b[0m \u001b[0mthread\u001b[0m \u001b[1;32min\u001b[0m \u001b[0mthreads\u001b[0m\u001b[1;33m]\u001b[0m\u001b[1;33m)\u001b[0m\u001b[1;33m\u001b[0m\u001b[1;33m\u001b[0m\u001b[0m\n\u001b[0m\u001b[0;32m     25\u001b[0m \u001b[1;33m\u001b[0m\u001b[0m\n\u001b[0;32m     26\u001b[0m \u001b[0mprint\u001b[0m\u001b[1;33m(\u001b[0m\u001b[1;34m\"Concatenated DataFrame:\"\u001b[0m\u001b[1;33m)\u001b[0m\u001b[1;33m\u001b[0m\u001b[1;33m\u001b[0m\u001b[0m\n",
      "\u001b[1;32m~\\AppData\\Local\\Temp\\ipykernel_20148\\3402841827.py\u001b[0m in \u001b[0;36m<listcomp>\u001b[1;34m(.0)\u001b[0m\n\u001b[0;32m     22\u001b[0m \u001b[1;33m\u001b[0m\u001b[0m\n\u001b[0;32m     23\u001b[0m \u001b[1;31m# Concatenate the DataFrames into a single DataFrame\u001b[0m\u001b[1;33m\u001b[0m\u001b[1;33m\u001b[0m\u001b[0m\n\u001b[1;32m---> 24\u001b[1;33m \u001b[0mresult_df\u001b[0m \u001b[1;33m=\u001b[0m \u001b[0mpd\u001b[0m\u001b[1;33m.\u001b[0m\u001b[0mconcat\u001b[0m\u001b[1;33m(\u001b[0m\u001b[1;33m[\u001b[0m\u001b[0mthread\u001b[0m\u001b[1;33m.\u001b[0m\u001b[0mresult\u001b[0m\u001b[1;33m(\u001b[0m\u001b[1;33m)\u001b[0m \u001b[1;32mfor\u001b[0m \u001b[0mthread\u001b[0m \u001b[1;32min\u001b[0m \u001b[0mthreads\u001b[0m\u001b[1;33m]\u001b[0m\u001b[1;33m)\u001b[0m\u001b[1;33m\u001b[0m\u001b[1;33m\u001b[0m\u001b[0m\n\u001b[0m\u001b[0;32m     25\u001b[0m \u001b[1;33m\u001b[0m\u001b[0m\n\u001b[0;32m     26\u001b[0m \u001b[0mprint\u001b[0m\u001b[1;33m(\u001b[0m\u001b[1;34m\"Concatenated DataFrame:\"\u001b[0m\u001b[1;33m)\u001b[0m\u001b[1;33m\u001b[0m\u001b[1;33m\u001b[0m\u001b[0m\n",
      "\u001b[1;31mAttributeError\u001b[0m: 'Thread' object has no attribute 'result'"
     ]
    }
   ],
   "source": [
    "import pandas as pd\n",
    "import threading\n",
    "\n",
    "# List of file paths to read (IO-bound task)\n",
    "file_paths = ['data1.csv', 'data2.csv', 'data3.csv']\n",
    "\n",
    "# Function to read a file and return a DataFrame\n",
    "def read_file(file_path):\n",
    "    df = pd.read_csv(file_path)\n",
    "    return df\n",
    "\n",
    "# Create threads for reading files and start them\n",
    "threads = [threading.Thread(target=read_file, args=(file_path,)) for file_path in file_paths]\n",
    "\n",
    "# Start all threads\n",
    "for thread in threads:\n",
    "    thread.start()\n",
    "\n",
    "# Wait for all threads to finish\n",
    "for thread in threads:\n",
    "    thread.join()\n",
    "\n",
    "# Concatenate the DataFrames into a single DataFrame\n",
    "result_df = pd.concat([thread.result() for thread in threads])\n",
    "\n",
    "print(\"Concatenated DataFrame:\")\n",
    "print(result_df)\n"
   ]
  },
  {
   "cell_type": "markdown",
   "id": "52bd7cf1-5f31-4767-93ca-a2a42e7f8be7",
   "metadata": {},
   "source": [
    "#### Benefits of Multi-Threading in Python:\n",
    "\n",
    "`Improved Performance`: \n",
    "- Allows concurrent execution of tasks, \n",
    "- reducing overall execution time, \n",
    "- especially for I/O-bound operations where threads can wait for I/O operations to complete.\n",
    "\n",
    "`Concurrency`: \n",
    "- Handles multiple tasks simultaneously, \n",
    "- providing better responsiveness and utilization of resources, such as CPU cores.\n",
    "\n",
    "`Simplified Code`: \n",
    "- Enables cleaner code for managing concurrent tasks compared to using asynchronous programming or multiprocessing."
   ]
  },
  {
   "cell_type": "markdown",
   "id": "55c8d61c-d7e4-4016-8b77-c46d30435b1b",
   "metadata": {},
   "source": [
    "#### Example Scenario:\n",
    "Consider a web server handling multiple client requests concurrently using threads:\n",
    "\n",
    "- The main thread accepts incoming client connections.\n",
    "- Each client connection is handed off to a separate thread to process the request.\n",
    "- While threads handle individual client requests, the main thread can continue accepting new connections.\n",
    "- Once all client requests are processed, the main thread can aggregate results or perform final processing."
   ]
  },
  {
   "cell_type": "code",
   "execution_count": null,
   "id": "4583097a-ad4a-437c-8e12-6d8be386bdb9",
   "metadata": {},
   "outputs": [],
   "source": []
  }
 ],
 "metadata": {
  "kernelspec": {
   "display_name": "Python 3 (ipykernel)",
   "language": "python",
   "name": "python3"
  },
  "language_info": {
   "codemirror_mode": {
    "name": "ipython",
    "version": 3
   },
   "file_extension": ".py",
   "mimetype": "text/x-python",
   "name": "python",
   "nbconvert_exporter": "python",
   "pygments_lexer": "ipython3",
   "version": "3.9.13"
  }
 },
 "nbformat": 4,
 "nbformat_minor": 5
}
