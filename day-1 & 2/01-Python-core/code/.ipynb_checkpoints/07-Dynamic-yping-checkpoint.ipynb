{
 "cells": [
  {
   "cell_type": "markdown",
   "id": "4a7585d1-45a6-4c86-8f85-5c995c531961",
   "metadata": {},
   "source": [
    "----------------------\n",
    "#### Dyamic Typing\n",
    "-----------------------\n",
    "\n",
    "- Dynamic typing is a feature of programming languages where the data type of a variable is determined at runtime, and it can change during the execution of a program. \n",
    "\n",
    "- Python is a dynamically typed language, which means that you don't need to explicitly declare the data type of a variable before using it. \n",
    "\n",
    "- The type of a variable is automatically inferred based on the value assigned to it."
   ]
  },
  {
   "cell_type": "code",
   "execution_count": 1,
   "id": "519a3e79-8f87-45bb-bdfa-a0bc5ec38ffa",
   "metadata": {
    "tags": []
   },
   "outputs": [
    {
     "name": "stdout",
     "output_type": "stream",
     "text": [
      "Variable x contains: 10 with data type: <class 'int'>\n",
      "Variable x contains: Hello, World! with data type: <class 'str'>\n",
      "Variable x contains: 3.14 with data type: <class 'float'>\n"
     ]
    }
   ],
   "source": [
    "# Initially, variable 'x' is assigned an integer value\n",
    "x = 10\n",
    "print(\"Variable x contains:\", x, \"with data type:\", type(x))\n",
    "\n",
    "# Now, we can reassign 'x' to a string\n",
    "x = \"Hello, World!\"\n",
    "print(\"Variable x contains:\", x, \"with data type:\", type(x))\n",
    "\n",
    "# Later on, we can reassign 'x' to a float\n",
    "x = 3.14\n",
    "print(\"Variable x contains:\", x, \"with data type:\", type(x))"
   ]
  },
  {
   "cell_type": "markdown",
   "id": "2b45fd3c-f6a1-462c-a189-dabd83746b87",
   "metadata": {},
   "source": [
    "- This dynamic typing feature in Python allows for flexibility and concise code, as you don't need to explicitly declare data types for variables, and you can easily change the data stored in a variable as needed during the program's execution. \n",
    "\n",
    "- However, it also requires careful attention to ensure that variables contain the expected data type at any given point in the code."
   ]
  },
  {
   "cell_type": "code",
   "execution_count": 2,
   "id": "0e9189df-6582-4485-9450-3390fcc4dd0f",
   "metadata": {
    "tags": []
   },
   "outputs": [
    {
     "name": "stdout",
     "output_type": "stream",
     "text": [
      "Message: Hello, John\n",
      "Name as string: John\n"
     ]
    }
   ],
   "source": [
    "# Dynamic Typing with Strings and Lists\n",
    "\n",
    "greeting = \"Hello, \"\n",
    "name = \"John\"\n",
    "\n",
    "# Concatenate the strings\n",
    "message = greeting + name\n",
    "print(\"Message:\", message)  # Output: \"Hello, John\"\n",
    "\n",
    "# Reassign 'name' as a list\n",
    "name = [\"J\", \"o\", \"h\", \"n\"]\n",
    "\n",
    "# Concatenate the list elements to create a string\n",
    "name_string = \"\".join(name)\n",
    "print(\"Name as string:\", name_string)  # Output: \"John\""
   ]
  },
  {
   "cell_type": "markdown",
   "id": "0589044a-029c-4e86-9503-d62ad4376553",
   "metadata": {},
   "source": [
    "**type conversion**\n",
    "\n",
    "- Type casting is useful when you need to ensure that the variable has a specific data type before performing certain operations or when converting user inputs from strings to numerical types for calculations."
   ]
  },
  {
   "cell_type": "code",
   "execution_count": 2,
   "id": "07f556e0-37eb-4d7d-ab5b-684f864748d4",
   "metadata": {
    "tags": []
   },
   "outputs": [
    {
     "name": "stdout",
     "output_type": "stream",
     "text": [
      "10\n"
     ]
    }
   ],
   "source": [
    "num_str = \"10\"\n",
    "num_int = int(num_str)\n",
    "print(num_int)  # Output: 10\n"
   ]
  },
  {
   "cell_type": "code",
   "execution_count": 3,
   "id": "d80eb60b-daf7-49f6-b303-81bfd0b15771",
   "metadata": {
    "tags": []
   },
   "outputs": [
    {
     "name": "stdout",
     "output_type": "stream",
     "text": [
      "3.14\n"
     ]
    }
   ],
   "source": [
    "num_str = \"3.14\"\n",
    "num_float = float(num_str)\n",
    "print(num_float)  # Output: 3.14\n"
   ]
  },
  {
   "cell_type": "code",
   "execution_count": 4,
   "id": "c9c62639-46bd-41d8-8bd0-8927e95860b4",
   "metadata": {
    "tags": []
   },
   "outputs": [
    {
     "name": "stdout",
     "output_type": "stream",
     "text": [
      "42\n"
     ]
    }
   ],
   "source": [
    "num_int = 42\n",
    "num_str = str(num_int)\n",
    "print(num_str)  # Output: \"42\"\n"
   ]
  },
  {
   "cell_type": "code",
   "execution_count": 5,
   "id": "41fdda18-3bbf-4221-9b7a-56bcc5ea7d91",
   "metadata": {
    "tags": []
   },
   "outputs": [
    {
     "name": "stdout",
     "output_type": "stream",
     "text": [
      "True\n"
     ]
    }
   ],
   "source": [
    "value = 1\n",
    "value_bool = bool(value)\n",
    "print(value_bool)  # Output: True\n"
   ]
  },
  {
   "cell_type": "code",
   "execution_count": 6,
   "id": "894645f8-d60e-49e7-83a3-9b2acf5d9364",
   "metadata": {
    "tags": []
   },
   "outputs": [
    {
     "name": "stdout",
     "output_type": "stream",
     "text": [
      "['1', '2', '3', '4', '5']\n",
      "('1', '2', '3', '4', '5')\n",
      "{'5', '2', '3', '1', '4'}\n"
     ]
    }
   ],
   "source": [
    "# List\n",
    "numbers_str = \"1 2 3 4 5\"\n",
    "numbers_list = list(numbers_str.split())\n",
    "print(numbers_list)  # Output: ['1', '2', '3', '4', '5']\n",
    "\n",
    "# Tuple\n",
    "numbers_tuple = tuple(numbers_list)\n",
    "print(numbers_tuple)  # Output: ('1', '2', '3', '4', '5')\n",
    "\n",
    "# Set\n",
    "numbers_set = set(numbers_list)\n",
    "print(numbers_set)    # Output: {'1', '2', '3', '4', '5'}\n"
   ]
  },
  {
   "cell_type": "code",
   "execution_count": 7,
   "id": "ab73c583-29c9-4a91-9b24-a910c4e4aae9",
   "metadata": {
    "tags": []
   },
   "outputs": [
    {
     "name": "stdout",
     "output_type": "stream",
     "text": [
      "{'apple': 1, 'banana': 2, 'orange': 3}\n"
     ]
    }
   ],
   "source": [
    "# List of tuples\n",
    "items_list = [('apple', 1), ('banana', 2), ('orange', 3)]\n",
    "items_dict = dict(items_list)\n",
    "print(items_dict)  # Output: {'apple': 1, 'banana': 2, 'orange': 3}\n"
   ]
  },
  {
   "cell_type": "code",
   "execution_count": null,
   "id": "5779e74f-48ef-405d-8b32-0f4d222cc04a",
   "metadata": {},
   "outputs": [],
   "source": []
  },
  {
   "cell_type": "code",
   "execution_count": null,
   "id": "fac25ab6-ebab-4ef2-a4b1-3bab5d2633df",
   "metadata": {},
   "outputs": [],
   "source": []
  },
  {
   "cell_type": "markdown",
   "id": "55facef6-78f5-4c50-8131-9401f78d1651",
   "metadata": {},
   "source": [
    "**Best Practices**\n",
    "\n",
    "1. Use `descriptive` variable names: Choose meaningful names for variables to make your code more readable. Clear variable names can help you and other developers understand the purpose and expected data type of each variable.\n",
    "\n",
    "2. Handle `type` conversions explicitly: When converting between data types, use explicit type conversion functions like int(), float(), str(), etc., to make the code more readable and avoid potential errors.\n",
    "\n",
    "3. Use `type hints` (Python 3.5+): Python's type hinting allows you to annotate variables and function parameters with the expected data types. While type hints are not enforced by the interpreter, they can serve as documentation and help IDEs provide better code suggestions and error checking."
   ]
  },
  {
   "cell_type": "code",
   "execution_count": 1,
   "id": "3302bcd0-b1f2-413c-bf5f-88bb7362e2c6",
   "metadata": {
    "tags": []
   },
   "outputs": [],
   "source": [
    "def add_numbers(a: int, b: int) -> int:\n",
    "    return a + b"
   ]
  },
  {
   "cell_type": "markdown",
   "id": "4f382c9d-7a06-4cf4-824c-b745792c21a5",
   "metadata": {},
   "source": [
    "4. Be mindful of error handling: Since Python allows dynamic typing, errors related to incorrect data types may occur at runtime. Properly handle these potential errors to prevent unexpected behavior."
   ]
  },
  {
   "cell_type": "code",
   "execution_count": null,
   "id": "1cadc86f-f384-4d64-8ad3-3894ebafedce",
   "metadata": {},
   "outputs": [],
   "source": []
  }
 ],
 "metadata": {
  "kernelspec": {
   "display_name": "Python 3 (ipykernel)",
   "language": "python",
   "name": "python3"
  },
  "language_info": {
   "codemirror_mode": {
    "name": "ipython",
    "version": 3
   },
   "file_extension": ".py",
   "mimetype": "text/x-python",
   "name": "python",
   "nbconvert_exporter": "python",
   "pygments_lexer": "ipython3",
   "version": "3.11.3"
  }
 },
 "nbformat": 4,
 "nbformat_minor": 5
}
