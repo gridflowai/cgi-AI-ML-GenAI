{
 "cells": [
  {
   "cell_type": "code",
   "execution_count": 9,
   "metadata": {},
   "outputs": [],
   "source": [
    "from IPython.display import Image"
   ]
  },
  {
   "cell_type": "markdown",
   "metadata": {},
   "source": [
    "--------------------------------------\n",
    "# What Is Object-Oriented Programming?\n",
    "---------------------------------------\n",
    "- Object-Oriented Programming(OOP), is all about creating `objects`\n",
    "\n",
    "- An `object` is a `group` of `interrelated variables and functions`. \n",
    "\n",
    "    - `variables` are often referred to as `properties` of the object and \n",
    "    - `functions` are referred to as the `behavior` of the objects. \n",
    "    \n",
    "- For example, a `car` can be an object. \n",
    "    - its `properties` would be – its color, its model, its price, its brand, etc. \n",
    "    - its `behavior/function` would be acceleration, slowing down, gear change.\n",
    "\n",
    "- Another example- If we consider a `dog` as an object \n",
    "    - then its properties would be- his color, his breed, his name, his weight, etc. \n",
    "    - And his behavior/function would be walking, barking, playing, etc.\n",
    "\n",
    "- These `objects` provide a `better and clear structure` for the program."
   ]
  },
  {
   "cell_type": "markdown",
   "metadata": {},
   "source": [
    "#### Classes vs Instances\n",
    "\n",
    "- A class is a `blueprint or template` of entities (things) of the same kind. \n",
    "- An instance is a particular `realization` of a class. (with a unique memory address)\n",
    "\n",
    "- `Classes` \n",
    "    - are used to create user-defined data structures. \n",
    "    - define `functions` called `methods`, which identify the behaviors and actions that an `object` created from the `class` can perform with its data.\n",
    "    - It doesn’t actually contain any data. \n",
    "\n",
    "- `instance` \n",
    "    - contains real data. \n",
    "\n",
    "**Example**\n",
    "- a `class` is like a `form` or questionnaire. \n",
    "- An `instance` is like a form that has been filled out with information. \n",
    "    - Just like many people can fill out the same form with their own unique information, \n",
    "        - many instances can be created from a single class."
   ]
  },
  {
   "cell_type": "code",
   "execution_count": null,
   "metadata": {},
   "outputs": [],
   "source": [
    "Image(r'E:\\notebook-dir\\00 - PYTHON\\python-videos\\oop-00.PNG',  width=300)"
   ]
  },
  {
   "cell_type": "markdown",
   "metadata": {},
   "source": [
    "To `access` an attribute, use \"dot\" operator in the form of `class_name.attr_name` or `instance_name.attr_name`."
   ]
  },
  {
   "cell_type": "markdown",
   "metadata": {},
   "source": [
    "--------------------------------\n",
    "#### Example - using a toy circle class\n",
    "-----------------------"
   ]
  },
  {
   "cell_type": "code",
   "execution_count": null,
   "metadata": {},
   "outputs": [],
   "source": [
    "Image(r'E:\\notebook-dir\\00 - PYTHON\\python-videos\\oop-01.PNG',  width=400)"
   ]
  },
  {
   "cell_type": "code",
   "execution_count": 17,
   "metadata": {},
   "outputs": [],
   "source": [
    "from math import pi"
   ]
  },
  {
   "cell_type": "code",
   "execution_count": null,
   "metadata": {},
   "outputs": [],
   "source": [
    "class Circle:    \n",
    "    \"\"\"A Circle instance models a circle with a radius\"\"\"\n",
    " \n",
    "    def __init__(self, radius=1.0):\n",
    "        \"\"\"Initializer with default radius of 1.0\"\"\"\n",
    "        self.radius = radius  # Create an instance variable radius\n",
    " \n",
    "    def __str__(self):\n",
    "        \"\"\"Return a descriptive string for this instance, invoked by print() and str()\"\"\"\n",
    "        return 'This is a circle with radius of {:.2f}'.format(self.radius)\n",
    " \n",
    "    def __repr__(self):\n",
    "        \"\"\"Return a formal string that can be used to re-create this instance, invoked by repr()\"\"\"\n",
    "        return 'Circle(radius={})'.format(self.radius)\n",
    " \n",
    "    def get_area(self):\n",
    "        \"\"\"Return the area of this Circle instance\"\"\"\n",
    "        return self.radius * self.radius * pi"
   ]
  },
  {
   "cell_type": "code",
   "execution_count": 18,
   "metadata": {},
   "outputs": [
    {
     "name": "stdout",
     "output_type": "stream",
     "text": [
      "This is a circle with radius of 2.10\n",
      "13.854423602330987\n",
      "2.1\n",
      "This is a circle with radius of 2.10\n",
      "Circle(radius=2.1)\n"
     ]
    }
   ],
   "source": [
    "c1 = Circle(2.1)      # Construct an instance\n",
    "\n",
    "print(c1)             # Invoke __str__(): This is a circle with radius of 2.10\n",
    "print(c1.get_area())  # 13.854423602330987\n",
    "print(c1.radius)      # 2.1\n",
    "\n",
    "print(str(c1))        # Invoke __str__(): This is a circle with radius of 2.10\n",
    "print(repr(c1))       # Invoke __repr__(): Circle(radius=2.1)"
   ]
  },
  {
   "cell_type": "code",
   "execution_count": 19,
   "metadata": {},
   "outputs": [
    {
     "name": "stdout",
     "output_type": "stream",
     "text": [
      "This is a circle with radius of 1.00\n",
      "3.141592653589793\n",
      "red\n"
     ]
    }
   ],
   "source": [
    "c2 = Circle()         # Default radius\n",
    "\n",
    "print(c2)\n",
    "print(c2.get_area())  # Invoke member method\n",
    "\n",
    "c2.color = 'red'      # Create a new attribute for this instance via assignment\n",
    "print(c2.color)\n",
    "\n",
    "#print(c1.color)  # Error - c1 has no attribute color"
   ]
  },
  {
   "cell_type": "markdown",
   "metadata": {},
   "source": [
    "#### Test doc-strings\n",
    "print(__doc__)                  # This module\n",
    "print(Circle.__doc__)           # Circle class\n",
    "print(Circle.get_area.__doc__)  # get_area() method\n",
    "\n",
    "print(isinstance(c1, Circle)) # True\n",
    "print(isinstance(c2, Circle)) # True\n",
    "print(isinstance(c1, str))    # False"
   ]
  },
  {
   "cell_type": "markdown",
   "metadata": {},
   "source": [
    "**How to Define a Class**\n",
    "- All `class` definitions start with the `class` keyword, which is followed by the `name of the class` and a `colon`. \n",
    "\n",
    "- Any code that is indented below the class definition is considered part of the `class’s body`."
   ]
  },
  {
   "cell_type": "code",
   "execution_count": 23,
   "metadata": {},
   "outputs": [],
   "source": [
    "class Circle:    \n",
    "    \"\"\"A Circle instance models a circle with a radius\"\"\"\n",
    "    pass"
   ]
  },
  {
   "cell_type": "markdown",
   "metadata": {},
   "source": [
    "##### Naming convention\n",
    "\n",
    "- `Class names` are initial-capitalized (i.e., CamelCase). \n",
    "- `Variables and method names` are also in `lowercase`.\n",
    "- The class is called `Circle` (in CamelCase). **class Circle:** define the Circle class.\n",
    "- The `body` of the `Circle` class consists of a `single statement`: the `pass` keyword. \n",
    "- `pass` is often used as a placeholder indicating where code will eventually go. \n",
    "    - It allows you to run this code without Python throwing an error."
   ]
  },
  {
   "cell_type": "markdown",
   "metadata": {},
   "source": [
    "**initialize instance variables**"
   ]
  },
  {
   "cell_type": "code",
   "execution_count": 24,
   "metadata": {},
   "outputs": [],
   "source": [
    "class Circle:    \n",
    "    \"\"\"A Circle instance models a circle with a radius\"\"\"\n",
    " \n",
    "    def __init__(self, radius=1.0):\n",
    "        \"\"\"Initializer with default radius of 1.0\"\"\"\n",
    "        self.radius = radius  # Create an instance variable radius"
   ]
  },
  {
   "cell_type": "markdown",
   "metadata": {},
   "source": [
    "- the `instance variables` are declared within the __init__() method\n",
    "- `self` : The first parameter of all the member methods shall be an object called `self` (e.g., __init__(self, ...)), which binds to this instance (i.e., itself) during invocation.\n",
    "- Every time a new `Circle` object is created, .__init__() sets the initial state of the object by assigning the values of the object’s properties. \n",
    "    - That is, .__init__() initializes each new instance of the class.\n",
    "- We can give .__init__() any number of parameters, but the `first parameter` will always be a variable called `self`. \n",
    "- When a `new` class `instance` is created, the instance is automatically passed to the `self` parameter in .__init__() so that `new attributes` can be defined on the object.\n",
    "- Inside the __init__() method, the `self.radius = radius` defines an `instance variable` `radius`.\n",
    "- Take note that:\n",
    "    - __init__() is `not really the constructor`, but an `initializer` to create the instance variables.\n",
    "    - __init__() shall `never return a value`.\n",
    "    - __init__() is `optional` and can be omitted if there is no instance variables.\n"
   ]
  },
  {
   "cell_type": "markdown",
   "metadata": {},
   "source": [
    "**Class / instance attributes**\n",
    "\n",
    "- Attributes created in .__init__() are called `instance attributes`. \n",
    "    - An `instance attribute’s` value is `specific` to a `particular instance` of the class. \n",
    "    - All Dog objects have a name and an age, but the values for the name and age attributes will vary depending on the Dog instance.\n",
    "\n",
    "- `class attributes` are attributes that have the same value for all `class instances`. \n",
    "\n",
    "    - You can define a `class attribute` by assigning a value to a variable name `outside of .__init__()`."
   ]
  },
  {
   "cell_type": "code",
   "execution_count": 29,
   "metadata": {},
   "outputs": [],
   "source": [
    "class Circle:    \n",
    "    \"\"\"A Circle instance models a circle with a radius\"\"\"\n",
    "    shape_object = 'Circle'\n",
    " \n",
    "    def __init__(self, radius=1.0):\n",
    "        \"\"\"Initializer with default radius of 1.0\"\"\"\n",
    "        self.radius = radius  # Create an instance variable radius"
   ]
  },
  {
   "cell_type": "markdown",
   "metadata": {},
   "source": [
    "- `Class attributes` are defined directly beneath the `first line of the class name` and `are indented by four spaces`. \n",
    "\n",
    "- They must always be assigned an `initial` value. \n",
    "\n",
    "- When an `instance` of the class is created, class attributes are automatically created and assigned to their initial values."
   ]
  },
  {
   "cell_type": "markdown",
   "metadata": {},
   "source": [
    "**Instantiate an Object in Python**\n",
    "\n",
    "- Creating a new object from a class is called instantiating an object."
   ]
  },
  {
   "cell_type": "code",
   "execution_count": 30,
   "metadata": {},
   "outputs": [
    {
     "data": {
      "text/plain": [
       "<__main__.Circle at 0x21c6cc35460>"
      ]
     },
     "execution_count": 30,
     "metadata": {},
     "output_type": "execute_result"
    }
   ],
   "source": [
    "Circle()"
   ]
  },
  {
   "cell_type": "markdown",
   "metadata": {},
   "source": [
    "You now have a new `Circle` object at 0x106702d30."
   ]
  },
  {
   "cell_type": "markdown",
   "metadata": {},
   "source": [
    "Now instantiate a second `Circle` object:"
   ]
  },
  {
   "cell_type": "code",
   "execution_count": 31,
   "metadata": {},
   "outputs": [
    {
     "data": {
      "text/plain": [
       "<__main__.Circle at 0x21c6cce1580>"
      ]
     },
     "execution_count": 31,
     "metadata": {},
     "output_type": "execute_result"
    }
   ],
   "source": [
    "Circle()"
   ]
  },
  {
   "cell_type": "markdown",
   "metadata": {},
   "source": [
    "> Notice the `different` memory locations"
   ]
  },
  {
   "cell_type": "code",
   "execution_count": 34,
   "metadata": {},
   "outputs": [
    {
     "data": {
      "text/plain": [
       "False"
      ]
     },
     "execution_count": 34,
     "metadata": {},
     "output_type": "execute_result"
    }
   ],
   "source": [
    "a = Circle(3)\n",
    "b = Circle(35)\n",
    "a == b"
   ]
  },
  {
   "cell_type": "code",
   "execution_count": 35,
   "metadata": {},
   "outputs": [
    {
     "data": {
      "text/plain": [
       "(3, 35, 'Circle', 'Circle')"
      ]
     },
     "execution_count": 35,
     "metadata": {},
     "output_type": "execute_result"
    }
   ],
   "source": [
    "a.radius, b.radius, a.shape_object, b.shape_object"
   ]
  },
  {
   "cell_type": "markdown",
   "metadata": {},
   "source": [
    "Both the circle objects are different instances of the `Circle` class. And are initialized wth default radius"
   ]
  },
  {
   "cell_type": "markdown",
   "metadata": {},
   "source": [
    "**Instance Methods**\n",
    "\n",
    "- `Instance methods` are functions that are defined inside a class and can only be called from an instance of that class. Just like .__init__(), an instance method’s first parameter is always self.\n"
   ]
  },
  {
   "cell_type": "code",
   "execution_count": 41,
   "metadata": {},
   "outputs": [],
   "source": [
    "class Circle:    \n",
    "    \"\"\"A Circle instance models a circle with a radius\"\"\"\n",
    "    shape_object = 'Circle'\n",
    " \n",
    "    def __init__(self, radius=1.0):\n",
    "        \"\"\"Initializer with default radius of 1.0\"\"\"\n",
    "        self.radius = radius  # Create an instance variable radius\n",
    "        \n",
    "    # Instance method\n",
    "    def description(self):\n",
    "        \n",
    "        return f\"The circle radius = {self.radius}\""
   ]
  },
  {
   "cell_type": "markdown",
   "metadata": {},
   "source": [
    "- This `Circle` class has a instance method:\n",
    "\n",
    "    - `.description()` returns a string displaying the radius of the circle."
   ]
  },
  {
   "cell_type": "code",
   "execution_count": 42,
   "metadata": {},
   "outputs": [],
   "source": [
    "c1 = Circle(56)"
   ]
  },
  {
   "cell_type": "code",
   "execution_count": 43,
   "metadata": {},
   "outputs": [
    {
     "data": {
      "text/plain": [
       "'The circle radius = 56'"
      ]
     },
     "execution_count": 43,
     "metadata": {},
     "output_type": "execute_result"
    }
   ],
   "source": [
    "c1.description()"
   ]
  },
  {
   "cell_type": "markdown",
   "metadata": {},
   "source": [
    "**Try printing the instance object**"
   ]
  },
  {
   "cell_type": "code",
   "execution_count": 44,
   "metadata": {},
   "outputs": [
    {
     "name": "stdout",
     "output_type": "stream",
     "text": [
      "<__main__.Circle object at 0x0000021C6CC3DD30>\n"
     ]
    }
   ],
   "source": [
    "print(c1)"
   ]
  },
  {
   "cell_type": "markdown",
   "metadata": {},
   "source": [
    "- This message isn’t very helpful. You can change what gets printed by defining a special instance method called .__str__()."
   ]
  },
  {
   "cell_type": "code",
   "execution_count": 45,
   "metadata": {},
   "outputs": [],
   "source": [
    "class Circle:    \n",
    "    \"\"\"A Circle instance models a circle with a radius\"\"\"\n",
    "    shape_object = 'Circle'\n",
    " \n",
    "    def __init__(self, radius=1.0):\n",
    "        \"\"\"Initializer with default radius of 1.0\"\"\"\n",
    "        self.radius = radius  # Create an instance variable radius\n",
    "        \n",
    "    # Replace .description() with __str__()\n",
    "    def __str__(self):\n",
    "        return f\"The circle radius = {self.radius}\""
   ]
  },
  {
   "cell_type": "code",
   "execution_count": 46,
   "metadata": {},
   "outputs": [
    {
     "name": "stdout",
     "output_type": "stream",
     "text": [
      "The circle radius = 44\n"
     ]
    }
   ],
   "source": [
    "c1 = Circle(44)\n",
    "print(c1)"
   ]
  },
  {
   "cell_type": "markdown",
   "metadata": {},
   "source": [
    "**Add 1 more method**"
   ]
  },
  {
   "cell_type": "code",
   "execution_count": 47,
   "metadata": {},
   "outputs": [],
   "source": [
    "class Circle:    \n",
    "    \"\"\"A Circle instance models a circle with a radius\"\"\"\n",
    "    shape_object = 'Circle'\n",
    " \n",
    "    def __init__(self, radius=1.0):\n",
    "        \"\"\"Initializer with default radius of 1.0\"\"\"\n",
    "        self.radius = radius  # Create an instance variable radius\n",
    "        \n",
    "    # Replace .description() with __str__()\n",
    "    def __str__(self):\n",
    "        \"\"\"Return a descriptive string for this instance, invoked by print() and str()\"\"\"\n",
    "        return 'This is a circle with radius of {:.2f}'.format(self.radius)\n",
    "    \n",
    "    def get_area(self):\n",
    "        \"\"\"Return the area of this Circle instance\"\"\"\n",
    "        return self.radius * self.radius * pi"
   ]
  },
  {
   "cell_type": "code",
   "execution_count": 48,
   "metadata": {},
   "outputs": [
    {
     "name": "stdout",
     "output_type": "stream",
     "text": [
      "This is a circle with radius of 2.10\n",
      "13.854423602330987\n"
     ]
    }
   ],
   "source": [
    "c1 = Circle(2.1)      # Construct an instance\n",
    "\n",
    "print(c1)             # Invoke __str__(): This is a circle with radius of 2.10\n",
    "print(c1.get_area())  # 13.854423602330987"
   ]
  },
  {
   "cell_type": "code",
   "execution_count": 49,
   "metadata": {},
   "outputs": [
    {
     "name": "stdout",
     "output_type": "stream",
     "text": [
      "2.1\n",
      "This is a circle with radius of 2.10\n"
     ]
    }
   ],
   "source": [
    "print(c1.radius)      # 2.1\n",
    "print(str(c1))        # Invoke __str__(): This is a circle with radius of 2.10"
   ]
  },
  {
   "cell_type": "code",
   "execution_count": 50,
   "metadata": {},
   "outputs": [
    {
     "name": "stdout",
     "output_type": "stream",
     "text": [
      "This is a circle with radius of 1.00\n",
      "3.141592653589793\n"
     ]
    }
   ],
   "source": [
    "c2 = Circle()         # Default radius\n",
    "\n",
    "print(c2)\n",
    "print(c2.get_area())  # Invoke member method"
   ]
  },
  {
   "cell_type": "markdown",
   "metadata": {},
   "source": [
    "**Documentation string**"
   ]
  },
  {
   "cell_type": "code",
   "execution_count": 51,
   "metadata": {},
   "outputs": [],
   "source": [
    "class Circle:    \n",
    "    \"\"\"A Circle instance models a circle with a radius\"\"\"\n",
    "    \n",
    "    shape_object = 'Circle'\n",
    " \n",
    "    def __init__(self, radius=1.0):\n",
    "        \"\"\"Initializer with default radius of 1.0\"\"\"\n",
    "        self.radius = radius  # Create an instance variable radius\n",
    "        \n",
    "    # Replace .description() with __str__()\n",
    "    def __str__(self):\n",
    "        \"\"\"Return a descriptive string for this instance, invoked by print() and str()\"\"\"\n",
    "        return 'This is a circle with radius of {:.2f}'.format(self.radius)\n",
    "    \n",
    "    def get_area(self):\n",
    "        \"\"\"Return the area of this Circle instance\"\"\"\n",
    "        return self.radius * self.radius * pi"
   ]
  },
  {
   "cell_type": "code",
   "execution_count": 52,
   "metadata": {},
   "outputs": [
    {
     "name": "stdout",
     "output_type": "stream",
     "text": [
      "Automatically created module for IPython interactive environment\n",
      "\n",
      "A Circle instance models a circle with a radius\n",
      "\n",
      "Return the area of this Circle instance\n"
     ]
    }
   ],
   "source": [
    "# Test doc-strings\n",
    "print(__doc__)                  # This module\n",
    "print()\n",
    "print(Circle.__doc__)           # Circle class\n",
    "print()\n",
    "print(Circle.get_area.__doc__)  # get_area() method"
   ]
  },
  {
   "cell_type": "markdown",
   "metadata": {},
   "source": [
    "**Class Variable vs. Instance Variables**\n",
    "- `Class variables` are `shared` by all the instances, whereas `instance variables` are specific to that `particular instance`."
   ]
  },
  {
   "cell_type": "code",
   "execution_count": 53,
   "metadata": {},
   "outputs": [],
   "source": [
    "class MyClass:\n",
    "    count = 0  # Total number of instances\n",
    "               # A class variable shared by all the instances\n",
    "\n",
    "    def __init__(self):\n",
    "        # Update class variable\n",
    "        self.__class__.count += 1   # Increment count\n",
    "                                    # or MyClass.count += 1\n",
    "            \n",
    "        # Create instance variable: an 'id' of the instance in running numbers\n",
    "        self.id = self.__class__.count\n",
    "\n",
    "    def get_id(self):\n",
    "        return self.id\n",
    "\n",
    "    def get_count(self):\n",
    "        return self.__class__.count"
   ]
  },
  {
   "cell_type": "code",
   "execution_count": 54,
   "metadata": {},
   "outputs": [
    {
     "name": "stdout",
     "output_type": "stream",
     "text": [
      "0\n"
     ]
    }
   ],
   "source": [
    "print(MyClass.count)                # 0"
   ]
  },
  {
   "cell_type": "code",
   "execution_count": 55,
   "metadata": {},
   "outputs": [
    {
     "name": "stdout",
     "output_type": "stream",
     "text": [
      "1\n",
      "1\n",
      "1\n"
     ]
    }
   ],
   "source": [
    "myinstance1 = MyClass()\n",
    "\n",
    "print(MyClass.count)                # 1\n",
    "print(myinstance1.get_id())         # 1\n",
    "print(myinstance1.get_count())      # 1"
   ]
  },
  {
   "cell_type": "code",
   "execution_count": null,
   "metadata": {},
   "outputs": [],
   "source": [
    "myinstance2 = MyClass()\n",
    "print(MyClass.count)                # 2"
   ]
  },
  {
   "cell_type": "markdown",
   "metadata": {},
   "source": [
    "**Private Variables?**\n",
    "\n",
    "- Python `does not support access control`. \n",
    "\n",
    "- In other words, all attributes are \"public\" and are accessible by ALL. There is no \"private\" attributes like C++/Java.\n",
    "\n",
    "- However, by convention:\n",
    "\n",
    "    - Names begin with an underscore (_) are meant for internal use, and are not recommended to be accessed outside the class definition.\n",
    "    \n",
    "    - Names begin with double underscores (__) and not end with double underscores are further hidden from direct access through name mangling (or rename).\n",
    "\n",
    "    - Names begin and end with double underscores (such as __init__, __str__, __add__) are special magic methods "
   ]
  },
  {
   "cell_type": "code",
   "execution_count": 1,
   "metadata": {},
   "outputs": [],
   "source": [
    "class MyClass:\n",
    "    def __init__(self):\n",
    "        self.myvar = 1       # public\n",
    "        self._myvar = 2      # meant for internal use (private). 'Please' don't access directly\n",
    "        self.__myvar = 3     # name mangling\n",
    "        self.__myvar_ = 4    # name mangling\n",
    "        self.__myvar__ = 5   # magic attribute\n",
    "\n",
    "    def print(self):\n",
    "        # All variables can be used within the class definition\n",
    "        print(self.myvar)\n",
    "        print(self._myvar)\n",
    "        print(self.__myvar)\n",
    "        print(self.__myvar_)\n",
    "        print(self.__myvar__)"
   ]
  },
  {
   "cell_type": "code",
   "execution_count": 2,
   "metadata": {},
   "outputs": [
    {
     "name": "stdout",
     "output_type": "stream",
     "text": [
      "1\n",
      "2\n",
      "5\n",
      "1\n",
      "2\n",
      "3\n",
      "4\n",
      "5\n"
     ]
    }
   ],
   "source": [
    "myinstance1 = MyClass()\n",
    "\n",
    "print(myinstance1.myvar)\n",
    "print(myinstance1._myvar)\n",
    "\n",
    "# Variables beginning with __ are not accessible outside the class except those ending with __\n",
    "#print(myinstance1.__myvar)    # AttributeError\n",
    "#print(myinstance1.__myvar_)   # AttributeError\n",
    "\n",
    "print(myinstance1.__myvar__)\n",
    "\n",
    "myinstance1.print()"
   ]
  },
  {
   "cell_type": "markdown",
   "metadata": {},
   "source": [
    "**Class Method, Instance Method and Static Method**\n",
    "\n",
    "1. `Class Method` (Decorator @classmethod)\n",
    "- A class method belongs to the class and is a function of the class. \n",
    "\n",
    "- It is declared with the @classmethod decorator. It accepts the class as its first argument. For example,"
   ]
  },
  {
   "cell_type": "code",
   "execution_count": 3,
   "metadata": {},
   "outputs": [],
   "source": [
    "class MyClass:\n",
    "    @classmethod\n",
    "    def hello(self, name):\n",
    "        print(self)\n",
    "        print('Hello from', self.__name__, ' ,', name)"
   ]
  },
  {
   "cell_type": "code",
   "execution_count": null,
   "metadata": {},
   "outputs": [],
   "source": [
    "MyClass.hello('Rakesh')"
   ]
  },
  {
   "cell_type": "markdown",
   "metadata": {},
   "source": [
    "**Instance Method**\n",
    "- Instance methods are the most common type of method. \n",
    "- An instance method is invoked by an instance object (and not a class object). \n",
    "- It takes the instance (self) as its first argument. For example,"
   ]
  },
  {
   "cell_type": "code",
   "execution_count": 4,
   "metadata": {},
   "outputs": [],
   "source": [
    "class MyClass():\n",
    "    def hello(self):\n",
    "        print('Hello from', self.__class__.__name__)"
   ]
  },
  {
   "cell_type": "code",
   "execution_count": 5,
   "metadata": {},
   "outputs": [
    {
     "name": "stdout",
     "output_type": "stream",
     "text": [
      "Hello from MyClass\n"
     ]
    }
   ],
   "source": [
    "myinstance1 = MyClass()\n",
    "\n",
    "myinstance1.hello()"
   ]
  },
  {
   "cell_type": "markdown",
   "metadata": {},
   "source": [
    "**Static Method**\n",
    "(Decorator @staticmethod)\n",
    "\n",
    "- A `static method` is declared with a `@staticmethod` decorator. \n",
    "\n",
    "- It \"doesn't know its class\" and is attached to the class for convenience. \n",
    "\n",
    "- It does not depend on the state of the object and could be a separate function of a module.\n",
    "\n",
    "- A static method can be `invoked` via a `class object or instance object`. For example,"
   ]
  },
  {
   "cell_type": "code",
   "execution_count": 6,
   "metadata": {},
   "outputs": [],
   "source": [
    "class MyClass:\n",
    "    @staticmethod\n",
    "    def hello():\n",
    "        print('Hello, world')\n",
    " "
   ]
  },
  {
   "cell_type": "code",
   "execution_count": 7,
   "metadata": {},
   "outputs": [
    {
     "name": "stdout",
     "output_type": "stream",
     "text": [
      "Hello, world\n"
     ]
    }
   ],
   "source": [
    "myinstance1 = MyClass()\n",
    "myinstance1.hello()"
   ]
  },
  {
   "cell_type": "markdown",
   "metadata": {},
   "source": [
    "---------------------------------\n",
    "## Inheritance in OOP\n",
    "----------------------------\n",
    "\n",
    "- `Inheritance` models what is called an `is a relationship`. \n",
    "\n",
    "- This means that when you have a Derived class that inherits from a Base class, you created a relationship where Derived is a specialized version of Base.\n",
    "\n",
    "- Inheritance is represented using the `Unified Modeling Language` or `UML` in the following way:"
   ]
  },
  {
   "cell_type": "code",
   "execution_count": 10,
   "metadata": {},
   "outputs": [
    {
     "data": {
      "image/png": "[encoded data removed]",
      "text/plain": [
       "<IPython.core.display.Image object>"
      ]
     },
     "execution_count": 10,
     "metadata": {
      "image/png": {
       "width": 200
      }
     },
     "output_type": "execute_result"
    }
   ],
   "source": [
    "Image(r'E:\\notebook-dir\\00 - PYTHON\\python-videos\\icons-images\\oop-04.PNG',  width=200)"
   ]
  },
  {
   "cell_type": "markdown",
   "metadata": {},
   "source": [
    "- Classes are represented as boxes with the class name on top. \n",
    "\n",
    "- The `inheritance relationship` is represented by an arrow from the `derived class` pointing to the `base class`. \n",
    "\n",
    "- The word extends is usually added to the arrow."
   ]
  },
  {
   "cell_type": "code",
   "execution_count": null,
   "metadata": {},
   "outputs": [],
   "source": [
    "Image(r'E:\\notebook-dir\\00 - PYTHON\\python-videos\\oop-05.PNG',  width=600)"
   ]
  },
  {
   "cell_type": "markdown",
   "metadata": {},
   "source": [
    "\n",
    "**The Cylinder class as a subclass of Circle class**\n",
    "\n",
    "- we shall define a `Cylinder` class, as a `subclass of Circle`. \n",
    "\n",
    "- The `Cylinder` class shall `inherit` attributes `radius` and `get_area()` from the superclass Circle, and add its own attributes `height` and `get_volume()`."
   ]
  },
  {
   "cell_type": "code",
   "execution_count": 11,
   "metadata": {},
   "outputs": [
    {
     "data": {
      "image/png": "[encoded data removed]",
      "text/plain": [
       "<IPython.core.display.Image object>"
      ]
     },
     "execution_count": 11,
     "metadata": {
      "image/png": {
       "width": 200
      }
     },
     "output_type": "execute_result"
    }
   ],
   "source": [
    "Image(r'E:\\notebook-dir\\00 - PYTHON\\python-videos\\icons-images\\oop-02.PNG',  width=200)"
   ]
  },
  {
   "cell_type": "code",
   "execution_count": 12,
   "metadata": {},
   "outputs": [],
   "source": [
    "class Circle:    \n",
    "    \"\"\"A Circle instance models a circle with a radius\"\"\"\n",
    "    \n",
    "    shape_object = 'Circle'\n",
    " \n",
    "    def __init__(self, radius=1.0):\n",
    "        \"\"\"Initializer with default radius of 1.0\"\"\"\n",
    "        self.radius = radius  # Create an instance variable radius\n",
    "        \n",
    "    # Replace .description() with __str__()\n",
    "    def __str__(self):\n",
    "        \"\"\"Return a descriptive string for this instance, invoked by print() and str()\"\"\"\n",
    "        return 'This is a circle with radius of {:.2f}'.format(self.radius)\n",
    "    \n",
    "    def get_area(self):\n",
    "        \"\"\"Return the area of this Circle instance\"\"\"\n",
    "        return self.radius * self.radius * pi"
   ]
  },
  {
   "cell_type": "code",
   "execution_count": 13,
   "metadata": {},
   "outputs": [],
   "source": [
    "class Cylinder(Circle):\n",
    "    \"\"\"The Cylinder class is a subclass of Circle\"\"\"\n",
    " \n",
    "    def __init__(self, radius = 1.0, height = 1.0):\n",
    "        \"\"\"Initializer\"\"\"\n",
    "        super().__init__(radius)  # Invoke superclass' initializer (Python 3)\n",
    "            # OR\n",
    "            # super(Cylinder, self).__init__(radius)   (Python 2)\n",
    "            # Circle.__init__(self, radius)            Explicit superclass class\n",
    "        self.height = height\n",
    " \n",
    "    def __str__(self):\n",
    "        \"\"\"Self Description for print() and str()\"\"\"\n",
    "        # If __str__ is missing in the subclass, print() will invoke the superclass version!\n",
    "        return 'Cylinder(radius={},height={})'.format(self.radius, self.height)\n",
    "\n",
    "    def get_volume(self):\n",
    "        \"\"\"Return the volume of the cylinder\"\"\"\n",
    "        return self.get_area() * self.height  # Inherited get_area()"
   ]
  },
  {
   "cell_type": "code",
   "execution_count": 14,
   "metadata": {},
   "outputs": [],
   "source": [
    "cy1 = Cylinder(1.1, 2.2)  # Output: Cylinder(radius=1.10,height=2.20)"
   ]
  },
  {
   "cell_type": "code",
   "execution_count": 15,
   "metadata": {},
   "outputs": [
    {
     "name": "stdout",
     "output_type": "stream",
     "text": [
      "Cylinder(radius=1.1,height=2.2)\n"
     ]
    }
   ],
   "source": [
    "print(cy1)                # Invoke __str__()"
   ]
  },
  {
   "cell_type": "code",
   "execution_count": 18,
   "metadata": {},
   "outputs": [
    {
     "name": "stdout",
     "output_type": "stream",
     "text": [
      "3.8013271108436504\n"
     ]
    }
   ],
   "source": [
    "print(cy1.get_area())     # Use superclass' method"
   ]
  },
  {
   "cell_type": "code",
   "execution_count": 19,
   "metadata": {},
   "outputs": [
    {
     "name": "stdout",
     "output_type": "stream",
     "text": [
      "8.362919643856031\n"
     ]
    }
   ],
   "source": [
    "print(cy1.get_volume())   # Invoke its method"
   ]
  },
  {
   "cell_type": "code",
   "execution_count": 20,
   "metadata": {},
   "outputs": [
    {
     "name": "stdout",
     "output_type": "stream",
     "text": [
      "1.1\n",
      "2.2\n"
     ]
    }
   ],
   "source": [
    "print(cy1.radius)\n",
    "print(cy1.height)"
   ]
  },
  {
   "cell_type": "code",
   "execution_count": 21,
   "metadata": {},
   "outputs": [
    {
     "name": "stdout",
     "output_type": "stream",
     "text": [
      "Cylinder(radius=1.0,height=1.0)\n",
      "3.141592653589793\n",
      "3.141592653589793\n"
     ]
    }
   ],
   "source": [
    "cy2 = Cylinder()          # Default radius and height\n",
    "print(cy2)                # Output: Cylinder(radius=1.00,height=1.00)\n",
    "print(cy2.get_area())\n",
    "print(cy2.get_volume())"
   ]
  },
  {
   "cell_type": "code",
   "execution_count": 22,
   "metadata": {},
   "outputs": [
    {
     "name": "stdout",
     "output_type": "stream",
     "text": [
      "['__class__', '__delattr__', '__dict__', '__dir__', '__doc__', '__eq__', '__format__', '__ge__', '__getattribute__', '__gt__', '__hash__', '__init__', '__init_subclass__', '__le__', '__lt__', '__module__', '__ne__', '__new__', '__reduce__', '__reduce_ex__', '__repr__', '__setattr__', '__sizeof__', '__str__', '__subclasshook__', '__weakref__', 'get_area', 'get_volume', 'height', 'radius', 'shape_object']\n"
     ]
    }
   ],
   "source": [
    "print(dir(cy1))\n",
    "# ['get_area', 'get_volume', 'height', 'radius', ..."
   ]
  },
  {
   "cell_type": "code",
   "execution_count": 23,
   "metadata": {},
   "outputs": [
    {
     "name": "stdout",
     "output_type": "stream",
     "text": [
      "<function Circle.get_area at 0x000001DAA1F9D670>\n"
     ]
    }
   ],
   "source": [
    "print(Cylinder.get_area)"
   ]
  },
  {
   "cell_type": "code",
   "execution_count": 24,
   "metadata": {},
   "outputs": [
    {
     "name": "stdout",
     "output_type": "stream",
     "text": [
      "This is a circle with radius of 3.30\n",
      "True\n",
      "False\n"
     ]
    }
   ],
   "source": [
    "c1 = Circle(3.3)\n",
    "print(c1)                        # Output: This is a circle with radius of 3.30\n",
    "\n",
    "print(isinstance(c1, Circle))    # True\n",
    "print(isinstance(c1, Cylinder))  # False (A superclass object is NOT a subclass object)"
   ]
  },
  {
   "cell_type": "markdown",
   "metadata": {},
   "source": [
    "----------------------------------\n",
    "#### Types of Inheritance in Python\n",
    "---------------------------------\n",
    "\n",
    "- There are 5 Types of inheritance in Python\n",
    "    - Single inheritance.\n",
    "    - Multiple inheritance\n",
    "    - Multilevel inheritance\n",
    "    - Hierarchical inheritance\n",
    "    - Hybrid inheritance"
   ]
  },
  {
   "cell_type": "markdown",
   "metadata": {},
   "source": [
    "**1. Single Inheritance**\n",
    "\n",
    "- Only 1 `base class` and 1 `derived class` is called Single inheritance."
   ]
  },
  {
   "cell_type": "code",
   "execution_count": 25,
   "metadata": {},
   "outputs": [
    {
     "name": "stdout",
     "output_type": "stream",
     "text": [
      "This is India\n",
      "This is State\n"
     ]
    }
   ],
   "source": [
    "class Country:\n",
    "     def ShowCountry(self):\n",
    "         print(\"This is India\")\n",
    "        \n",
    "class State(Country):\n",
    "     def ShowState(self):\n",
    "         print(\"This is State\")\n",
    "   \n",
    "st = State()\n",
    "\n",
    "st.ShowCountry()\n",
    "st.ShowState()"
   ]
  },
  {
   "cell_type": "markdown",
   "metadata": {},
   "source": [
    "**2. Multiple inheritance**\n",
    "\n",
    "When a `derived` class contains `more than 1 base` class is called `Multiple inheritance`."
   ]
  },
  {
   "cell_type": "code",
   "execution_count": 26,
   "metadata": {},
   "outputs": [
    {
     "name": "stdout",
     "output_type": "stream",
     "text": [
      "Student No :  60\n",
      "Student Name :  Lucky\n",
      "Mark1 :  50\n",
      "Mark2 :  60\n",
      "Total :  110\n"
     ]
    }
   ],
   "source": [
    "class student:\n",
    "    def method1(self,sno,sname):\n",
    "        self.sno = sno\n",
    "        self.sname = sname\n",
    "        \n",
    "    def method2(self):\n",
    "        print(\"Student No : \" ,self.sno)\n",
    "        print(\"Student Name : \",self.sname)\n",
    "       \n",
    "    \n",
    "class marks:\n",
    "    def setmarks(self, m1,m2):\n",
    "        self.mark1 = m1\n",
    "        self.mark2 = m2\n",
    "       \n",
    "    def putmarks(self):\n",
    "        print(\"Mark1 : \" , self.mark1)\n",
    "        print(\"Mark2 : \" , self.mark2)\n",
    "       \n",
    "    \n",
    "class result(marks,student): # multiple inheritance\n",
    "    def calc(self):\n",
    "        self.total = self.mark1 + self.mark2\n",
    "       \n",
    "    def puttotal(self):\n",
    "        print(\"Total : \" , self.total)\n",
    "        \n",
    "r =result();\n",
    "\n",
    "r.method1(60, \"Lucky\");\n",
    "r.setmarks(50,60);\n",
    "r.calc();\n",
    "r.method2();\n",
    "r.putmarks();\n",
    "r.puttotal();"
   ]
  },
  {
   "cell_type": "markdown",
   "metadata": {},
   "source": [
    "**3. Multilevel inheritance**\n",
    "\n",
    "A `derived` class `derived` from base class which is again `derived` from class.\n",
    "\n",
    "A->B->C->D->E"
   ]
  },
  {
   "cell_type": "code",
   "execution_count": 27,
   "metadata": {},
   "outputs": [
    {
     "name": "stdout",
     "output_type": "stream",
     "text": [
      "Student No :  60\n",
      "Student Name :  Mahesh\n",
      "Mark1 :  50\n",
      "Mark2 :  60\n",
      "Total :  110\n"
     ]
    }
   ],
   "source": [
    "class student:\n",
    "    def setstud(self,sno,sname):\n",
    "        self.sno = sno;\n",
    "        self.sname = sname;\n",
    "        \n",
    "    def putstud(self):\n",
    "        print(\"Student No : \" ,self.sno);\n",
    "        print(\"Student Name : \",self.sname);\n",
    "       \n",
    "    \n",
    "class marks(student):\n",
    "    def setmarks(self, m1,m2):\n",
    "        self.mark1 = m1;\n",
    "        self.mark2 = m2;\n",
    "       \n",
    "    def putmarks(self):\n",
    "        print(\"Mark1 : \" , self.mark1);\n",
    "        print(\"Mark2 : \" , self.mark2);\n",
    "       \n",
    "    \n",
    "class result(marks):\n",
    "    def calc(self):\n",
    "        self.total = self.mark1 + self.mark2;\n",
    "       \n",
    "    def puttotal(self):\n",
    "        print(\"Total : \" , self.total)\n",
    "        \n",
    "r =result();\n",
    "\n",
    "r.setstud(60,\"Mahesh\");\n",
    "r.setmarks(50,60);\n",
    "r.calc();\n",
    "r.putstud();\n",
    "r.putmarks();\n",
    "r.puttotal();"
   ]
  },
  {
   "cell_type": "markdown",
   "metadata": {},
   "source": [
    "**4. Hierarchial inheritance**\n",
    "\n",
    "A one base class contains more than one derived class.\n",
    "\n",
    "father->child1 and child2."
   ]
  },
  {
   "cell_type": "code",
   "execution_count": 28,
   "metadata": {},
   "outputs": [
    {
     "name": "stdout",
     "output_type": "stream",
     "text": [
      "This is the method in class one\n",
      "Value of X=  1000\n",
      "Value of Y=  2000\n",
      "This is the method in class one\n",
      "Value of X=  1000\n",
      "Value of Y=  2000\n",
      "This is the method in class two\n",
      "X+Y=  3000\n",
      "This is the method in class three\n",
      "X*Y=  2000000\n"
     ]
    }
   ],
   "source": [
    "class one:\n",
    "    def display(self):\n",
    "        self.x=1000;\n",
    "        self.y=2000;\n",
    "        print(\"This is the method in class one\");\n",
    "        print(\"Value of X= \",self.x);\n",
    "        print(\"Value of Y= \",self.y);\n",
    "        \n",
    "class two (one):\n",
    "    def add(self):\n",
    "        print(\"This is the method in class two\");\n",
    "        print(\"X+Y= \",(self.x+self.y));\n",
    "        \n",
    "class three(one):\n",
    "    def mul(self):\n",
    "        print(\"This is the method in class three\");\n",
    "        print(\"X*Y= \",(self.x * self.y));\n",
    "        \n",
    "t1=two();  \n",
    "t2=three(); \n",
    "\n",
    "t1.display();\n",
    "t2.display();\n",
    "t1.add();    \n",
    "t2.mul();\n"
   ]
  },
  {
   "cell_type": "markdown",
   "metadata": {},
   "source": [
    "**5. Hybird Inheritance**\n",
    "\n",
    "Combination of multiple + multilevel inheritance."
   ]
  },
  {
   "cell_type": "code",
   "execution_count": null,
   "metadata": {},
   "outputs": [],
   "source": [
    "class student:\n",
    "    def setstud(self,sno,sname):\n",
    "        self.sno = sno;\n",
    "        self.sname = sname;\n",
    "        \n",
    "    def putstud(self):\n",
    "        print(\"Student No : \" ,self.sno);\n",
    "        print(\"Student Name : \",self.sname);\n",
    "       \n",
    "    \n",
    "class marks(student):\n",
    "    def setmarks(self, m1,m2):\n",
    "        self.mark1 = m1;\n",
    "        self.mark2 = m2;\n",
    "       \n",
    "    def putmarks(self):\n",
    "        print(\"Mark1 : \" , self.mark1);\n",
    "        print(\"Mark2 : \" , self.mark2);\n",
    "        \n",
    "class pratical:\n",
    "    def getpractial(self,p1):\n",
    "        self.p1=p1;\n",
    "    def putpractial(self):\n",
    "        print(\"Practial mark=\",self.p1);\n",
    "    \n",
    "       \n",
    "class result(marks, pratical):\n",
    "    def calc(self):\n",
    "        self.total = self.mark1 + self.mark2+self.p1;\n",
    "       \n",
    "    def puttotal(self):\n",
    "        print(\"Total : \" , self.total);\n",
    "        \n",
    "r =result();\n",
    "\n",
    "r.setstud(60,\"Ash\");\n",
    "r.setmarks(50,60);\n",
    "r.getpractial(100);\n",
    "r.calc();\n",
    "r.putstud();\n",
    "r.putmarks();\n",
    "r.putpractial()\n",
    "r.puttotal();"
   ]
  },
  {
   "cell_type": "markdown",
   "metadata": {},
   "source": [
    "-------------------------------------\n",
    "#### Polymorphism\n",
    "------------------------------------\n",
    "\n",
    "- The term `polymorphism`, in the OOP language, refers to the ability of an `object` to adapt the code to the `type of the data` it is processing.\n",
    "\n",
    "- In Python `polymorphism` is one of the key concepts, and we can say that it is a `built-in feature`\n",
    "\n",
    "**Example 1:** Polymorphism in addition operator\n",
    "We know that the + operator is used extensively in Python programs. But, it does not have a single usage.\n",
    "\n",
    "For integer data types, + operator \n",
    "- is used to perform `arithmetic addition` operation. \n",
    "- for string data types, + operator is used to perform `concatenation`."
   ]
  },
  {
   "cell_type": "code",
   "execution_count": 29,
   "metadata": {},
   "outputs": [
    {
     "name": "stdout",
     "output_type": "stream",
     "text": [
      "3\n"
     ]
    }
   ],
   "source": [
    "num1 = 1\n",
    "num2 = 2\n",
    "print(num1+num2)"
   ]
  },
  {
   "cell_type": "code",
   "execution_count": 30,
   "metadata": {},
   "outputs": [
    {
     "name": "stdout",
     "output_type": "stream",
     "text": [
      "Python Programming\n"
     ]
    }
   ],
   "source": [
    "str1 = \"Python\"\n",
    "str2 = \"Programming\"\n",
    "print(str1+\" \"+str2)"
   ]
  },
  {
   "cell_type": "markdown",
   "metadata": {},
   "source": [
    "- Here, we can see that a `single operator +` has been used to carry out `different` operations for distinct `data types`. \n",
    "\n",
    "- is one of the most `simple` occurrences of `polymorphism` in Python."
   ]
  },
  {
   "cell_type": "code",
   "execution_count": 31,
   "metadata": {},
   "outputs": [
    {
     "name": "stdout",
     "output_type": "stream",
     "text": [
      "12\n",
      "hello world\n",
      "[1, 2, 3, 4, 5, 6]\n"
     ]
    }
   ],
   "source": [
    "#using + operator with integers to add them\n",
    "print(5 + 7)\n",
    "\n",
    "#using + operator with Strings to concatenate them\n",
    "print('hello ' + 'world')\n",
    "a = [1, 2, 3]\n",
    "b = [4, 5, 6]\n",
    "\n",
    "# using + operator with List to concatenate them\n",
    "print(a + b)"
   ]
  },
  {
   "cell_type": "markdown",
   "metadata": {},
   "source": [
    "**Example 2:** Polymorphic len() function\n",
    "    \n",
    "- There are some `functions` in Python which are compatible to run with `multiple data types`.\n",
    "- One such function is the `len()` function. It can run with many data types in Python. \n",
    "\n"
   ]
  },
  {
   "cell_type": "code",
   "execution_count": 32,
   "metadata": {},
   "outputs": [
    {
     "name": "stdout",
     "output_type": "stream",
     "text": [
      "9\n",
      "3\n",
      "2\n"
     ]
    }
   ],
   "source": [
    "print(len(\"Programiz\"))\n",
    "print(len([\"Python\", \"Java\", \"C\"]))\n",
    "print(len({\"Name\": \"John\", \"Address\": \"Nepal\"}))"
   ]
  },
  {
   "cell_type": "markdown",
   "metadata": {},
   "source": [
    "- Here, we can see that `many data types` such as string, list, tuple, set, and dictionary can work with the `len()` function. \n",
    "- But it returns `specific` information about specific data types."
   ]
  },
  {
   "cell_type": "code",
   "execution_count": 33,
   "metadata": {},
   "outputs": [
    {
     "data": {
      "image/png": "[encoded data removed]",
      "text/plain": [
       "<IPython.core.display.Image object>"
      ]
     },
     "execution_count": 33,
     "metadata": {
      "image/png": {
       "width": 600
      }
     },
     "output_type": "execute_result"
    }
   ],
   "source": [
    "Image(r'E:\\notebook-dir\\00 - PYTHON\\python-videos\\icons-images\\oop-06.PNG',  width=600)"
   ]
  },
  {
   "cell_type": "markdown",
   "metadata": {},
   "source": [
    "#### 1. Polymorphism through `Method overloading`\n",
    "\n",
    "- `Method overloading` in its traditional sense, where you can have `more than one method having the same name` with in the class where the `methods differ in types or number of arguments` passed, is **not supported in Python**.\n",
    "\n",
    "- Trying to have methods with same name won’t result in compile time error in Python but `only the last defined method` is recognized in such scenario, calling any other overloaded function results in an error.\n",
    "\n",
    "- But you can still `simulate polymorphism` through method overloading by using `default arguments` in a method. \n",
    "    - In the example there is 1 default argument in the method `sum`. \n",
    "    - If the method is called with 2 parameters for the 3rd default value is used. \n",
    "    - If the method is called with 3 parameters passed value is used for the 3rd parameter.\n",
    "\n"
   ]
  },
  {
   "cell_type": "code",
   "execution_count": 34,
   "metadata": {},
   "outputs": [
    {
     "name": "stdout",
     "output_type": "stream",
     "text": [
      "sum is :  15\n",
      "sum is :  24\n"
     ]
    }
   ],
   "source": [
    "class OverloadDemo:\n",
    "    # sum method with one default parameter\n",
    "    def sum(self, a, b, c=0):\n",
    "        s = a + b + c\n",
    "        return s\n",
    "\n",
    "od =  OverloadDemo()\n",
    "\n",
    "#calling method with 2 args\n",
    "sum = od.sum(7, 8)\n",
    "print('sum is : ', sum)\n",
    "\n",
    "#calling method with 3 args\n",
    "sum = od.sum(7, 8, 9)\n",
    "print('sum is : ', sum)\n"
   ]
  },
  {
   "cell_type": "markdown",
   "metadata": {},
   "source": [
    "#### 2. Polymorphism through inheritance- `Method overriding`\n",
    "\n",
    "- `Method overriding` provides ability to `change the implementation` of a method in a `child class` which is `already` defined in one of its `super` class. \n",
    "\n",
    "- If there is a method in a `super class` and method having the same name and same number of arguments in a `child class` then the child class method is said to be `overriding` the parent class method.\n",
    "\n",
    "- calling methods\n",
    "    - When the method is called with `parent class object`, method of the parent class is executed. \n",
    "    - When method is called with `child class object`, method of the child class is executed. \n",
    "    \n",
    "- So the appropriate overridden method is called based on the object type, which is an example of Polymorphism.\n",
    "\n"
   ]
  },
  {
   "cell_type": "code",
   "execution_count": 35,
   "metadata": {},
   "outputs": [
    {
     "name": "stdout",
     "output_type": "stream",
     "text": [
      "In parent class displayData method\n",
      "John\n",
      "40\n",
      "In child class displayData method\n",
      "John\n",
      "40\n",
      "E005\n"
     ]
    }
   ],
   "source": [
    "class Person:\n",
    "    def __init__(self, name, age):\n",
    "        self.name = name\n",
    "        self.age  = age\n",
    "\n",
    "    def displayData(self):\n",
    "        print('In parent class displayData method')\n",
    "        print(self.name)\n",
    "        print(self.age)\n",
    "\n",
    "class Employee(Person):\n",
    "    def __init__(self, name, age, id):\n",
    "        # calling constructor of super class\n",
    "        super().__init__(name, age)\n",
    "        self.empId = id\n",
    "\n",
    "    def displayData(self):\n",
    "        print('In child class displayData method')\n",
    "        print(self.name)\n",
    "        print(self.age)\n",
    "        print(self.empId)\n",
    "\n",
    "#Person class object\n",
    "person = Person('John', 40)\n",
    "person.displayData()\n",
    "\n",
    "#Employee class object\n",
    "emp = Employee('John', 40, 'E005')\n",
    "emp.displayData()"
   ]
  },
  {
   "cell_type": "markdown",
   "metadata": {},
   "source": [
    "#### 3. Polymorphism through `operator overloading\n",
    "\n",
    "- Operator overloading means the `ability to overload the operator` to provide extra functionality in addition to its real operational meaning. \n",
    "    - `Operator overloading` is also an `example` of polymorphism as the same operator can perform different actions.\n",
    "\n",
    "- For example ‘+’ operator which is used with numbers to perform addition operation. But ‘+’ operator when used with two strings concatenate those Strings and merge two lists when used with lists in Python.\n",
    "\n",
    "**When is Operator overloading required**\n",
    "\n",
    "- In the above example ‘+’ operator worked with `Strings` and `Lists` because it is already overloaded to provide that functionality for String and List. \n",
    "\n",
    "- What if you want to use `operator with custom objects`. \n",
    "\n",
    "- For example if you want to use ‘+’ operator with your custom class objects."
   ]
  },
  {
   "cell_type": "code",
   "execution_count": 36,
   "metadata": {},
   "outputs": [
    {
     "ename": "TypeError",
     "evalue": "unsupported operand type(s) for +: 'Point' and 'Point'",
     "output_type": "error",
     "traceback": [
      "\u001b[1;31m---------------------------------------------------------------------------\u001b[0m",
      "\u001b[1;31mTypeError\u001b[0m                                 Traceback (most recent call last)",
      "\u001b[1;32m<ipython-input-36-f44c17462868>\u001b[0m in \u001b[0;36m<module>\u001b[1;34m\u001b[0m\n\u001b[0;32m      7\u001b[0m \u001b[0mp2\u001b[0m \u001b[1;33m=\u001b[0m \u001b[0mPoint\u001b[0m\u001b[1;33m(\u001b[0m\u001b[1;36m3\u001b[0m\u001b[1;33m,\u001b[0m \u001b[1;36m4\u001b[0m\u001b[1;33m)\u001b[0m\u001b[1;33m\u001b[0m\u001b[1;33m\u001b[0m\u001b[0m\n\u001b[0;32m      8\u001b[0m \u001b[1;33m\u001b[0m\u001b[0m\n\u001b[1;32m----> 9\u001b[1;33m \u001b[0mprint\u001b[0m\u001b[1;33m(\u001b[0m\u001b[0mp1\u001b[0m\u001b[1;33m+\u001b[0m\u001b[0mp2\u001b[0m\u001b[1;33m)\u001b[0m\u001b[1;33m\u001b[0m\u001b[1;33m\u001b[0m\u001b[0m\n\u001b[0m",
      "\u001b[1;31mTypeError\u001b[0m: unsupported operand type(s) for +: 'Point' and 'Point'"
     ]
    }
   ],
   "source": [
    "class Point:\n",
    "    def __init__(self, x, y):\n",
    "        self.x = x\n",
    "        self.y = y\n",
    "\n",
    "p1 = Point(1, 2)\n",
    "p2 = Point(3, 4)\n",
    "\n",
    "print(p1+p2) "
   ]
  },
  {
   "cell_type": "markdown",
   "metadata": {},
   "source": [
    "- As you can see trying to add two objects results in an `error` ‘unsupported operand type(s) for +’ because ‘+’ operator doesn’t know how to add these two objects.\n",
    "\n",
    "- What we want to do here is to add the data (p1.x + p2.x) and (p1.y + p2.y) of these two objects but that will `require operator overloading` as that is some extra functionality that you want ‘+’ operator to perform.\n",
    "\n",
    "- For all `operators` `internally` Python defines `methods` to provide functionality for those operators. \n",
    "    - For example functionality for ‘+’ operator is provide by special method __add__(). \n",
    "    - Whenever ‘+’ operator is used internally __add__() method is invoked to do the operation.\n",
    "\n",
    "- `Internal methods` that provide functionality for the operators are known as `magic methods` in Python. \n",
    "\n",
    "- These magic methods are `automatically` invoked when corresponding operators are used.\n",
    "\n",
    "- When we want any operator to work with custom objects you need to `override` the corresponding special method that provides functionality for that operator.\n",
    "\n",
    "- In the example there is a `class Point` with two variables x and y. Two objects of Point class are instantiated and you try to add those objects with the intention to add the data `(p1.x + p2.x)` and `(p1.y + p2.y)` of these two objects. \n",
    "\n",
    "- In order to successfully do that `magic method __add__()` has to be overridden in your class to provide that functionality."
   ]
  },
  {
   "cell_type": "code",
   "execution_count": 37,
   "metadata": {},
   "outputs": [
    {
     "name": "stdout",
     "output_type": "stream",
     "text": [
      "(4, 6)\n"
     ]
    }
   ],
   "source": [
    "class Point:\n",
    "    def __init__(self, x, y):\n",
    "        self.x = x\n",
    "        self.y = y\n",
    "    \n",
    "    #overriding magic method\n",
    "    def __add__(self, other):\n",
    "        return self.x + other.x, self.y + other.y\n",
    "\n",
    "p1 = Point(1, 2)\n",
    "p2 = Point(3, 4)\n",
    "\n",
    "print(p1+p2)"
   ]
  },
  {
   "cell_type": "markdown",
   "metadata": {},
   "source": [
    "--------------------------\n",
    "#### Example : Method Overriding\n",
    "-----------------------------------\n",
    "- we shall `override` the `get_area()` method to return the `surface area` of the cylinder. \n",
    "\n",
    "- We also rewrite the __str__() method, which also overrides the inherited method. \n",
    "\n",
    "- We need to rewrite the `get_volume()` to use the superclass' get_area(), instead of this class."
   ]
  },
  {
   "cell_type": "code",
   "execution_count": null,
   "metadata": {},
   "outputs": [],
   "source": [
    "Image(r'E:\\notebook-dir\\00 - PYTHON\\python-videos\\oop-03.PNG',  width=300)"
   ]
  },
  {
   "cell_type": "code",
   "execution_count": null,
   "metadata": {},
   "outputs": [],
   "source": [
    "class Circle:    \n",
    "    \"\"\"A Circle instance models a circle with a radius\"\"\"\n",
    "    \n",
    "    shape_object = 'Circle'\n",
    " \n",
    "    def __init__(self, radius=1.0):\n",
    "        \"\"\"Initializer with default radius of 1.0\"\"\"\n",
    "        self.radius = radius  # Create an instance variable radius\n",
    "        \n",
    "    # Replace .description() with __str__()\n",
    "    def __str__(self):\n",
    "        \"\"\"Return a descriptive string for this instance, invoked by print() and str()\"\"\"\n",
    "        return 'This is a circle with radius of {:.2f}'.format(self.radius)\n",
    "    \n",
    "    def get_area(self):\n",
    "        \"\"\"Return the area of this Circle instance\"\"\"\n",
    "        return self.radius * self.radius * pi"
   ]
  },
  {
   "cell_type": "code",
   "execution_count": null,
   "metadata": {},
   "outputs": [],
   "source": [
    "class Cylinder(Circle):\n",
    "    \"\"\"The Cylinder class is a subclass of Circle\"\"\"\n",
    " \n",
    "    def __init__(self, radius = 1.0, height = 1.0):\n",
    "        \"\"\"Initializer\"\"\"\n",
    "        super().__init__(radius)  # Invoke superclass' initializer\n",
    "        self.height = height\n",
    " \n",
    "    def __str__(self):\n",
    "        \"\"\"Self Description for print() and str()\"\"\"\n",
    "        return 'Cylinder({}, height={})'.format(super().__repr__(), self.height)\n",
    " \n",
    "    # Override\n",
    "    def get_area(self):\n",
    "        \"\"\"Return the surface area the cylinder\"\"\"\n",
    "        return 2.0 * pi * self.radius * self.height\n",
    " \n",
    "    def get_volume(self):\n",
    "        \"\"\"Return the volume of the cylinder\"\"\"\n",
    "        return super().get_area() * self.height  # Use superclass' get_area()"
   ]
  },
  {
   "cell_type": "code",
   "execution_count": null,
   "metadata": {},
   "outputs": [],
   "source": [
    "cy1 = Cylinder(1.1, 2.2)\n",
    "print(cy1)              # Invoke __str__(): Cylinder(Circle(radius=1.1), height=2.2)\n",
    "print(cy1.get_area())   # Invoke overridden version\n",
    "print(cy1.get_volume()) # Invoke its method\n",
    "print(cy1.radius)\n",
    "print(cy1.height)\n",
    "\n",
    "cy2 = Cylinder()        # Default radius and height\n",
    "print(cy2)              # Invoke __str__(): Cylinder(Circle(radius=1.0), height=1.0)\n",
    "print(cy2.get_area())\n",
    "print(cy2.get_volume())\n"
   ]
  },
  {
   "cell_type": "markdown",
   "metadata": {},
   "source": [
    "--------------------------\n",
    "#### Magic methods in Python\n",
    "--------------------------\n",
    "`Magic methods` in Python are the methods `prefixed` with `two underscores` and `suffixed` with `two underscores`. \n",
    "\n",
    "- These magic methods are also known as `Dunders` (Double UNDERscores) in Python. \n",
    "\n",
    "**Magic methods for arithmetic operators**\n",
    "\n",
    "|Operator\t   | Magic Method                         | \tDescription|\n",
    "|--------------|--------------------------------------|----------------|\n",
    "|+             |\t$\\text{__add__(self, other)}$              |\tAdditive operator|\n",
    "|-             |\t$\\text{__sub__(self, other)}$              |\tSubtraction operator|\n",
    "|*             |\t$\\text{__mul__(self, other)}$              |\tMultiplication operator|\n",
    "|/             |\t$\\text{__truediv__(self, other)  }$        |\tDivision with fractional result|\n",
    "|%             |\t$\\text{__mod__(self, other) }$             |\tRemainder operator|\n",
    "|//            |\t$\\text{__floordiv__(self, other) }$        |\tDivision with integer result, discarding any fractional part|\n",
    "|**            |\t$\\text{__pow__(self, other)   }$           |\tReturn a to the power b, for a and b numbers.|\n",
    "|@             |\t$\\text{__matmul__(self, other) }$          |\tMatrix Multiplication. Available from version 3.5|"
   ]
  },
  {
   "cell_type": "markdown",
   "metadata": {},
   "source": [
    "**Magic methods for Comparison operators**\n",
    "\n",
    "|Operator        |  \tMagic Method             | \tDescription|\n",
    "|----------------|-------------------------------| ------------|\n",
    "|<               |\t\t$\\text{__lt__(self, other) }$         |\tless than|\n",
    "|<=              |\t\t$\\text{__le__(self, other) }$         |\tless than or equal to|\n",
    "|==              |\t\t$\\text{__eq__(self, other) }$         |\tequal to|\n",
    "|!=              |\t\t$\\text{__ne__(self, other) }$         |\tnot equal to|\t$\\text{\n",
    "|>               |\t\t$\\text{__gt__(self, other) }$         |\tgreater than|\n",
    "|>=              |\t\t$\\text{__ge___(self, other)}$|\tgreater than or equal to|\n",
    "\n",
    "\n",
    "**Magic methods for unary operators**\n",
    "\n",
    "|Operator        |  \tMagic Method             | \tDescription|\n",
    "|----------------|-------------------------------| ------------|\n",
    "|+               |\t__pos__(self, other)         |\tUnary plus operator; indicates positive value|\n",
    "|-               |\t__neg__(self, other)         |\tUnary minus operator; negates an expression|\n",
    "|~               |\t__invert__(self, other)      |\tReturns the bitwise inverse of the number|\n"
   ]
  },
  {
   "cell_type": "markdown",
   "metadata": {},
   "source": [
    "**Example : Overloading ‘*’ operator in Python**"
   ]
  },
  {
   "cell_type": "code",
   "execution_count": null,
   "metadata": {},
   "outputs": [],
   "source": [
    "class Point:\n",
    "    def __init__(self, x):\n",
    "        self.x = x\n",
    "        \n",
    "    #overriding magic method\n",
    "    def __mul__(self, other):\n",
    "        return self.x * other.x\n",
    "\n",
    "p1 = Point(12)\n",
    "p2 = Point(5)\n",
    "\n",
    "print(p1*p2)"
   ]
  },
  {
   "cell_type": "markdown",
   "metadata": {},
   "source": [
    "**Example: Overloading comparison operator (>)**"
   ]
  },
  {
   "cell_type": "code",
   "execution_count": null,
   "metadata": {},
   "outputs": [],
   "source": [
    "class Person:\n",
    "    def __init__(self, name, salary):\n",
    "        self.name   = name\n",
    "        self.salary = salary\n",
    "        \n",
    "    #overriding magic method\n",
    "    def __gt__(self, other):\n",
    "        return self.salary > other.salary\n",
    "\n",
    "obj1 = Person('John', 4500)\n",
    "obj2 = Person('Natasha', 6000)\n",
    "\n",
    "print(obj1.name, 'earns more than', obj2.name, '-', obj1 > obj2)"
   ]
  },
  {
   "cell_type": "markdown",
   "metadata": {},
   "source": [
    "---------------------------------------\n",
    "## Encapsulation in Python\n",
    "-----------------------------------\n",
    "\n",
    "- The concept of `Encapsulation` is to keep together the implementation (code) and the data it manipulates (variables). \n",
    "\n",
    "- Having proper encapsulation `ensures` that the `code` and `data` both are `safe` from misuse by outside entity.\n",
    "\n",
    "- When a Python class is created it contains the `methods` and the `variables`. Since it’s the code in the methods that operates on the variables, in a properly encapsulated Python class, methods should define how member variables can be used.\n",
    "\n",
    "- But that’s where the things differ a bit in Python from a language like Java where we have access modifiers like public, private. In Python there are `no explicit access modifiers and everything written with in the class (methods and variables) are public by default`.\n"
   ]
  },
  {
   "cell_type": "code",
   "execution_count": null,
   "metadata": {},
   "outputs": [],
   "source": [
    "class Person:\n",
    "    def __init__(self, name, age=0):\n",
    "        self.name = name\n",
    "        self.age  = age\n",
    "\n",
    "    def display(self):\n",
    "        print(self.name)\n",
    "        print(self.age)"
   ]
  },
  {
   "cell_type": "code",
   "execution_count": null,
   "metadata": {},
   "outputs": [],
   "source": [
    "person = Person('John', 40)\n",
    "\n",
    "#accessing using class method\n",
    "person.display()"
   ]
  },
  {
   "cell_type": "code",
   "execution_count": null,
   "metadata": {},
   "outputs": [],
   "source": [
    "#accessing directly from outside\n",
    "print(person.name)\n",
    "print(person.age)"
   ]
  },
  {
   "cell_type": "markdown",
   "metadata": {},
   "source": [
    "- If everything inside a class is public then how to have access control and `how to have proper encapsulation` in Python?\n",
    "\n",
    "    - In Python though there are `no explicit access modifiers` but using underscores (_) you can make a variable private.\n",
    "\n",
    "**Using single underscore**\n",
    "- Using a single leading underscore is `merely a convention`. A name prefixed with an underscore in Python (as example _name) should be treated as a non-public part of the API (whether it is a function, a method or a data member).\n",
    "\n",
    "- it is just a convention and a leading underscore `doesn’t actually make any variable or method private or protected`. \n",
    "    - It’s just that if you see a variable or method with a leading underscore in Python code you should follow the convention that it should be used internally with in a class.\n",
    "\n",
    "For example in class `Person` if age variable is changed and it is prefixed with underscore."
   ]
  },
  {
   "cell_type": "code",
   "execution_count": null,
   "metadata": {},
   "outputs": [],
   "source": [
    "class Person:\n",
    "    def __init__(self, name, age=0):\n",
    "        self.name = name\n",
    "        self._age = age\n",
    "\n",
    "    def display(self):\n",
    "        print(self.name)\n",
    "        print(self._age)\n",
    "\n",
    "person = Person('John', 40)\n",
    "\n",
    "#accessing using class method\n",
    "person.display()\n",
    "\n",
    "#accessing directly from outside\n",
    "print(person.name)\n",
    "print(person._age)"
   ]
  },
  {
   "cell_type": "markdown",
   "metadata": {},
   "source": [
    "> these variables can still be accessed from outside the class."
   ]
  },
  {
   "cell_type": "markdown",
   "metadata": {},
   "source": [
    "**Using double underscore (making it private)**\n",
    "- If you really want to make a class member (member or variable) `private` in Python you can do it by prefixing a variable or method with `double underscores`. \n",
    "\n",
    "- Here note that Python provides a limited support for private modifier using a mechanism called name mangling and it is still possible to access such class member from outside the class.\n",
    "\n",
    "- In Python any identifier of the form __var (at least two leading underscores, at most one trailing underscore) is rewritten by the Python interpreter in the form _classname__var, where classname is the current class name. This mechanism of `name changing` is known as `name mangling` in Python.\n",
    "\n",
    "For example in class Person age variable is changed and it is prefixed with two leading underscores."
   ]
  },
  {
   "cell_type": "code",
   "execution_count": null,
   "metadata": {},
   "outputs": [],
   "source": [
    "class Person:\n",
    "    def __init__(self, name, age=0):\n",
    "        self.name  = name\n",
    "        self.__age = age\n",
    "\n",
    "    def display(self):\n",
    "        print(self.name)\n",
    "        print(self.__age)\n",
    "\n",
    "person = Person('John', 40)\n",
    "\n",
    "#accessing using class method\n",
    "person.display()\n",
    "\n",
    "#accessing directly from outside\n",
    "print('Trying to access variables from outside the class ')\n",
    "print(person.name)\n",
    "print(person.__age)"
   ]
  },
  {
   "cell_type": "markdown",
   "metadata": {},
   "source": [
    "As you can see variables can still be accessed using the method which is part of the class `but` `age` (which is a private variable) can’t be accessed directly from outside now."
   ]
  },
  {
   "cell_type": "markdown",
   "metadata": {},
   "source": [
    "**Using `getter` and `setter` methods to access private variables**\n",
    "\n",
    "To access and change private variables accessor (`getter`) methods and mutator (`setter` methods) should be used which are part of the class."
   ]
  },
  {
   "cell_type": "code",
   "execution_count": null,
   "metadata": {},
   "outputs": [],
   "source": [
    "class Person:\n",
    "    def __init__(self, name, age=0):\n",
    "        self.name  = name\n",
    "        self.__age = age\n",
    "\n",
    "    def display(self):\n",
    "        print(self.name)\n",
    "        print(self.__age)\n",
    "\n",
    "    def getAge(self):\n",
    "        print(self.__age)\n",
    "\n",
    "    def setAge(self, age):\n",
    "        self.__age = age\n",
    "\n",
    "person = Person('John', 40)\n",
    "\n",
    "#accessing using class method\n",
    "person.display()\n",
    "\n",
    "#changing age using setter\n",
    "person.setAge(45)\n",
    "person.getAge()"
   ]
  },
  {
   "cell_type": "markdown",
   "metadata": {},
   "source": [
    "-------------------------------\n",
    "## Abstraction\n",
    "-----------------------------\n",
    "\n",
    "- Abstraction means `hiding` the complexity and only showing the essential features of the object. So in a way, Abstraction means hiding the real implementation and we, as a user, knowing only how to use it.\n",
    "\n",
    "    - Real world example would be \n",
    "        - a vehicle which we drive with out caring or knowing what all is going underneath.\n",
    "        - A TV set where we enjoy programs with out knowing the inner details of how TV works."
   ]
  },
  {
   "cell_type": "markdown",
   "metadata": {},
   "source": [
    "- In the example below there is an `abstract` class `Payment` that has an abstract method `payment()`. \n",
    "\n",
    "- There are 2 child classes `CreditCardPayment` and `MobileWalletPayment` derived from `Payment` that implement the abstract method payment() as per their functionality.\n",
    "\n",
    "- As a user we are abstracted from that implementation when an `object of CreditCardPayment` is created and `payment()` method is invoked using that object, payment method of `CreditCardPayment` class is invoked. \n",
    "\n",
    "- When an object of `MobileWalletPayment` is created and payment() method is invoked using that object, payment method of MobileWalletPayment class is invoked."
   ]
  },
  {
   "cell_type": "code",
   "execution_count": null,
   "metadata": {},
   "outputs": [],
   "source": [
    "from abc import ABC, abstractmethod\n",
    "\n",
    "class Payment(ABC):\n",
    "    def print_slip(self, amount):\n",
    "        print('Purchase of amount- ', amount)\n",
    "        \n",
    "    @abstractmethod\n",
    "    def payment(self, amount):\n",
    "        pass\n",
    "\n",
    "class CreditCardPayment(Payment):\n",
    "    def payment(self, amount):\n",
    "        print('Credit card payment of- ', amount)\n",
    "\n",
    "class MobileWalletPayment(Payment):\n",
    "    def payment(self, amount):\n",
    "        print('Mobile wallet payment of- ', amount)\n",
    "\n",
    "obj = CreditCardPayment()\n",
    "\n",
    "obj.payment(100)\n",
    "obj.print_slip(100)\n",
    "print(isinstance(obj, Payment))\n",
    "\n",
    "obj = MobileWalletPayment()\n",
    "obj.payment(200)\n",
    "obj.print_slip(200)\n",
    "print(isinstance(obj, Payment))"
   ]
  },
  {
   "cell_type": "code",
   "execution_count": null,
   "metadata": {},
   "outputs": [],
   "source": []
  }
 ],
 "metadata": {
  "kernelspec": {
   "display_name": "Python 3 (ipykernel)",
   "language": "python",
   "name": "python3"
  },
  "language_info": {
   "codemirror_mode": {
    "name": "ipython",
    "version": 3
   },
   "file_extension": ".py",
   "mimetype": "text/x-python",
   "name": "python",
   "nbconvert_exporter": "python",
   "pygments_lexer": "ipython3",
   "version": "3.11.3"
  }
 },
 "nbformat": 4,
 "nbformat_minor": 4
}
