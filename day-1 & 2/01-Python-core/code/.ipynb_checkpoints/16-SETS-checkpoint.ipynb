{
 "cells": [
  {
   "cell_type": "markdown",
   "metadata": {},
   "source": [
    "------------\n",
    "#### Data structure - sets\n",
    "--------------"
   ]
  },
  {
   "cell_type": "code",
   "execution_count": 2,
   "metadata": {
    "tags": []
   },
   "outputs": [
    {
     "name": "stdout",
     "output_type": "stream",
     "text": [
      "{0, 1, 3, 4, 5, 7}\n",
      "CPU times: user 418 µs, sys: 0 ns, total: 418 µs\n",
      "Wall time: 318 µs\n"
     ]
    }
   ],
   "source": [
    "%%time\n",
    "# set of integers\n",
    "my_set = {1,5,7,0,3,4, 3, 3 ,3 }\n",
    "print(my_set)"
   ]
  },
  {
   "cell_type": "code",
   "execution_count": 3,
   "metadata": {
    "tags": []
   },
   "outputs": [
    {
     "name": "stdout",
     "output_type": "stream",
     "text": [
      "{1.0, (1, 2, 3), 'Hello'}\n"
     ]
    }
   ],
   "source": [
    "# set of mixed datatypes\n",
    "my_set = {1.0, \"Hello\", (1, 2, 3)}\n",
    "print(my_set)"
   ]
  },
  {
   "cell_type": "code",
   "execution_count": 4,
   "metadata": {},
   "outputs": [
    {
     "data": {
      "text/plain": [
       "{'a', 'e', 'i', 'l', 'z'}"
      ]
     },
     "execution_count": 4,
     "metadata": {},
     "output_type": "execute_result"
    }
   ],
   "source": [
    "my_set = {'a', 'z', 'e', 'i', 'l'}\n",
    "my_set"
   ]
  },
  {
   "cell_type": "code",
   "execution_count": 4,
   "metadata": {
    "tags": []
   },
   "outputs": [
    {
     "data": {
      "text/plain": [
       "{'f', 'k'}"
      ]
     },
     "execution_count": 4,
     "metadata": {},
     "output_type": "execute_result"
    }
   ],
   "source": [
    "str1 = set('kfkkkkkkkkkkkkkkfk')\n",
    "str1"
   ]
  },
  {
   "cell_type": "code",
   "execution_count": 5,
   "metadata": {
    "tags": []
   },
   "outputs": [
    {
     "data": {
      "text/plain": [
       "{'f', 'k', 'o'}"
      ]
     },
     "execution_count": 5,
     "metadata": {},
     "output_type": "execute_result"
    }
   ],
   "source": [
    "str1.add('o')\n",
    "str1"
   ]
  },
  {
   "cell_type": "code",
   "execution_count": 6,
   "metadata": {
    "tags": []
   },
   "outputs": [
    {
     "name": "stdout",
     "output_type": "stream",
     "text": [
      "{1, 3}\n",
      "{1, 2, 3}\n",
      "{1, 2, 3, 4}\n",
      "{1, 2, 3, 4, 5, 6, 8}\n"
     ]
    }
   ],
   "source": [
    "# initialize my_set\n",
    "my_set = {1,3}\n",
    "print(my_set)\n",
    "\n",
    "# if you uncomment line 9,\n",
    "# you will get an error\n",
    "# TypeError: 'set' object does not support indexing\n",
    "\n",
    "#my_set[0]\n",
    "\n",
    "# add an element\n",
    "# Output: {1, 2, 3}\n",
    "my_set.add(2)\n",
    "print(my_set)\n",
    "\n",
    "# add multiple elements\n",
    "# Output: {1, 2, 3, 4}\n",
    "my_set.update([2,3,4])\n",
    "print(my_set)\n",
    "\n",
    "# add list and set\n",
    "# Output: {1, 2, 3, 4, 5, 6, 8}\n",
    "my_set.update([4,5], {1,6,8})\n",
    "print(my_set)"
   ]
  },
  {
   "cell_type": "code",
   "execution_count": 7,
   "metadata": {},
   "outputs": [],
   "source": [
    "# remove elements from a set\n",
    "# A particular item can be removed from set using methods, \n",
    "# discard() and remove().\n",
    "\n",
    "# The only difference between the two is that, while using discard() \n",
    "# if the item does not exist in the set, it remains unchanged. \n",
    "# But remove() will raise an error in such condition."
   ]
  },
  {
   "cell_type": "code",
   "execution_count": 7,
   "metadata": {
    "tags": []
   },
   "outputs": [
    {
     "name": "stdout",
     "output_type": "stream",
     "text": [
      "{1, 2, 4, 5}\n"
     ]
    }
   ],
   "source": [
    "# initialize my_set\n",
    "my_set = {1, 4, 4, 5, 2}\n",
    "print(my_set)"
   ]
  },
  {
   "cell_type": "code",
   "execution_count": 9,
   "metadata": {},
   "outputs": [
    {
     "name": "stdout",
     "output_type": "stream",
     "text": [
      "{'W', 'a', 'A', 'n'}\n"
     ]
    }
   ],
   "source": [
    "# initialize my_set\n",
    "my_set = {'n', 'A', 'a', 'W'}\n",
    "print(my_set)"
   ]
  },
  {
   "cell_type": "code",
   "execution_count": 9,
   "metadata": {},
   "outputs": [
    {
     "name": "stdout",
     "output_type": "stream",
     "text": [
      "{1, 4, 5, 6}\n",
      "{1, 5, 6}\n",
      "{1, 5}\n",
      "{1, 5}\n"
     ]
    }
   ],
   "source": [
    "# initialize my_set\n",
    "my_set = {1, 4, 4, 5, 6}\n",
    "print(my_set)\n",
    "\n",
    "# discard an element\n",
    "my_set.discard(4)\n",
    "print(my_set)\n",
    "\n",
    "# remove an element\n",
    "my_set.remove(6)\n",
    "print(my_set)\n",
    "\n",
    "# discard an element\n",
    "# not present in my_set\n",
    "my_set.discard(2)\n",
    "print(my_set)\n",
    "\n",
    "# remove an element\n",
    "# not present in my_set\n",
    "# Output: KeyError: 2\n",
    "\n",
    "#my_set.remove(2)"
   ]
  },
  {
   "cell_type": "code",
   "execution_count": 21,
   "metadata": {},
   "outputs": [
    {
     "data": {
      "text/plain": [
       "{'W', 'e', 'h', 'l', 'o'}"
      ]
     },
     "execution_count": 21,
     "metadata": {},
     "output_type": "execute_result"
    }
   ],
   "source": [
    "set(\"Whello\")"
   ]
  },
  {
   "cell_type": "code",
   "execution_count": 7,
   "metadata": {},
   "outputs": [
    {
     "name": "stdout",
     "output_type": "stream",
     "text": [
      "1st.. {'H', 'o', 'e', 'W', 'l', 'r', 'd'}\n",
      "2nd .. H\n",
      "3rd .. {'e', 'W', 'l', 'r', 'd'}\n",
      "4th .. set()\n"
     ]
    }
   ],
   "source": [
    "# pop() and clear()\n",
    "# initialize my_set\n",
    "# Output: set of unique elements\n",
    "my_set = set(\"HelloWorld\")\n",
    "print('1st..', my_set)\n",
    "\n",
    "# pop an element\n",
    "print('2nd ..', my_set.pop())\n",
    "\n",
    "# pop another element\n",
    "my_set.pop()\n",
    "print('3rd ..', my_set)\n",
    "\n",
    "# clear my_set\n",
    "my_set.clear()\n",
    "print('4th ..', my_set)"
   ]
  },
  {
   "cell_type": "code",
   "execution_count": 8,
   "metadata": {},
   "outputs": [
    {
     "name": "stdout",
     "output_type": "stream",
     "text": [
      "{1, 2, 3, 4, 5, 6, 7, 8}\n"
     ]
    }
   ],
   "source": [
    "# Python Set Operations\n",
    "# UNION\n",
    "A = {1, 2, 3, 4, 5}\n",
    "B = {4, 5, 6, 7, 8}\n",
    "\n",
    "print(A | B)"
   ]
  },
  {
   "cell_type": "code",
   "execution_count": 9,
   "metadata": {},
   "outputs": [
    {
     "data": {
      "text/plain": [
       "{1, 2, 3, 4, 5, 6, 7, 8}"
      ]
     },
     "execution_count": 9,
     "metadata": {},
     "output_type": "execute_result"
    }
   ],
   "source": [
    "A.union(B)"
   ]
  },
  {
   "cell_type": "code",
   "execution_count": 10,
   "metadata": {},
   "outputs": [
    {
     "data": {
      "text/plain": [
       "{1, 2, 3, 4, 5, 6, 7, 8}"
      ]
     },
     "execution_count": 10,
     "metadata": {},
     "output_type": "execute_result"
    }
   ],
   "source": [
    "B.union(A)"
   ]
  },
  {
   "cell_type": "code",
   "execution_count": 11,
   "metadata": {},
   "outputs": [
    {
     "name": "stdout",
     "output_type": "stream",
     "text": [
      "{4, 5}\n"
     ]
    }
   ],
   "source": [
    "# INTERSECTION\n",
    "# initialize A and B\n",
    "A = {1, 2, 3, 4, 5}\n",
    "B = {4, 5, 6, 7, 8}\n",
    "\n",
    "# use & operator\n",
    "# Output: {4, 5}\n",
    "print(A & B)"
   ]
  },
  {
   "cell_type": "code",
   "execution_count": 12,
   "metadata": {},
   "outputs": [
    {
     "data": {
      "text/plain": [
       "{4, 5}"
      ]
     },
     "execution_count": 12,
     "metadata": {},
     "output_type": "execute_result"
    }
   ],
   "source": [
    "A.intersection(B)"
   ]
  },
  {
   "cell_type": "code",
   "execution_count": 13,
   "metadata": {},
   "outputs": [
    {
     "data": {
      "text/plain": [
       "{4, 5}"
      ]
     },
     "execution_count": 13,
     "metadata": {},
     "output_type": "execute_result"
    }
   ],
   "source": [
    "B.intersection(A)"
   ]
  },
  {
   "cell_type": "code",
   "execution_count": 14,
   "metadata": {},
   "outputs": [
    {
     "name": "stdout",
     "output_type": "stream",
     "text": [
      "{1, 2, 3}\n"
     ]
    }
   ],
   "source": [
    "# Set Difference\n",
    "# initialize A and B\n",
    "A = {1, 2, 3, 4, 5}\n",
    "B = {4, 5, 6, 7, 8}\n",
    "\n",
    "# use - operator on A\n",
    "# Output: {1, 2, 3}\n",
    "print(A - B)"
   ]
  },
  {
   "cell_type": "code",
   "execution_count": 15,
   "metadata": {},
   "outputs": [
    {
     "data": {
      "text/plain": [
       "{1, 2, 3}"
      ]
     },
     "execution_count": 15,
     "metadata": {},
     "output_type": "execute_result"
    }
   ],
   "source": [
    "A.difference(B)"
   ]
  },
  {
   "cell_type": "code",
   "execution_count": 16,
   "metadata": {},
   "outputs": [
    {
     "data": {
      "text/plain": [
       "{6, 7, 8}"
      ]
     },
     "execution_count": 16,
     "metadata": {},
     "output_type": "execute_result"
    }
   ],
   "source": [
    "B.difference(A)"
   ]
  },
  {
   "cell_type": "code",
   "execution_count": 14,
   "metadata": {},
   "outputs": [
    {
     "name": "stdout",
     "output_type": "stream",
     "text": [
      "{1, 2, 3, 6, 7, 8}\n"
     ]
    }
   ],
   "source": [
    "# Set Symmetric Difference\n",
    "# Symmetric Difference of A and B is a set of elements in both A and B \n",
    "# except those that are common in both.\n",
    "# initialize A and B\n",
    "A = {1, 2, 3, 4, 5}\n",
    "B = {4, 5, 6, 7, 8}\n",
    "\n",
    "print(A ^ B)"
   ]
  },
  {
   "cell_type": "code",
   "execution_count": 16,
   "metadata": {},
   "outputs": [
    {
     "name": "stdout",
     "output_type": "stream",
     "text": [
      "l e p a "
     ]
    }
   ],
   "source": [
    "# Iterating Through a Set\n",
    "for letter in set(\"apple\"):\n",
    "     print(letter, end=' ')"
   ]
  },
  {
   "cell_type": "markdown",
   "metadata": {
    "jupyter": {
     "outputs_hidden": true
    }
   },
   "source": [
    "#### Summarize"
   ]
  },
  {
   "cell_type": "code",
   "execution_count": 8,
   "metadata": {
    "tags": []
   },
   "outputs": [],
   "source": [
    "# Creating a Set\n",
    "fruits_set = {\"apple\", \"banana\", \"orange\"}"
   ]
  },
  {
   "cell_type": "code",
   "execution_count": 9,
   "metadata": {
    "tags": []
   },
   "outputs": [
    {
     "name": "stdout",
     "output_type": "stream",
     "text": [
      "{'mango', 'banana', 'apple', 'orange'}\n",
      "{'kiwi', 'papaya', 'mango', 'orange', 'apple', 'banana'}\n"
     ]
    }
   ],
   "source": [
    "# Adding Elements to a Set\n",
    "fruits_set.add(\"mango\")\n",
    "print(fruits_set)  # Output: {\"apple\", \"banana\", \"orange\", \"mango\"}\n",
    "\n",
    "# Adding Multiple Elements to a Set\n",
    "fruits_set.update([\"kiwi\", \"papaya\"])\n",
    "print(fruits_set)  # Output: {\"apple\", \"banana\", \"orange\", \"mango\", \"kiwi\", \"papaya\"}\n"
   ]
  },
  {
   "cell_type": "code",
   "execution_count": 13,
   "metadata": {
    "tags": []
   },
   "outputs": [
    {
     "name": "stdout",
     "output_type": "stream",
     "text": [
      "{'papaya', 'mango', 'orange', 'apple', 'banana'}\n",
      "{'papaya', 'mango', 'orange', 'banana'}\n",
      "Removed Item: papaya\n",
      "{'mango', 'orange', 'banana'}\n"
     ]
    }
   ],
   "source": [
    "# Removing an Element from a Set\n",
    "fruits_set.remove(\"kiwi\")\n",
    "print(fruits_set)  # Output: {\"apple\", \"banana\", \"orange\", \"mango\", \"papaya\"}\n",
    "\n",
    "# Discarding an Element (no error if element doesn't exist)\n",
    "fruits_set.discard(\"apple\")\n",
    "print(fruits_set)  # Output: {\"banana\", \"orange\", \"mango\", \"papaya\"}\n",
    "\n",
    "# Removing and Returning an Arbitrary Element\n",
    "removed_item = fruits_set.pop()\n",
    "print(\"Removed Item:\", removed_item)  # Output: (some element from the set)\n",
    "print(fruits_set)  # Output: (updated set without the removed item)\n"
   ]
  },
  {
   "cell_type": "code",
   "execution_count": 14,
   "metadata": {
    "tags": []
   },
   "outputs": [
    {
     "name": "stdout",
     "output_type": "stream",
     "text": [
      "{'grape', 'kiwi', 'banana', 'mango', 'orange'}\n",
      "{'mango'}\n",
      "{'banana', 'orange'}\n",
      "{'kiwi', 'orange', 'grape', 'banana'}\n"
     ]
    }
   ],
   "source": [
    "# Union of Two Sets\n",
    "more_fruits_set = {\"kiwi\", \"grape\", \"mango\"}\n",
    "all_fruits_set = fruits_set.union(more_fruits_set)\n",
    "print(all_fruits_set)  # Output: {\"apple\", \"banana\", \"orange\", \"kiwi\", \"grape\", \"mango\", \"papaya\"}\n",
    "\n",
    "# Intersection of Two Sets\n",
    "common_fruits_set = fruits_set.intersection(more_fruits_set)\n",
    "print(common_fruits_set)  # Output: {\"mango\"}\n",
    "\n",
    "# Difference Between Two Sets\n",
    "different_fruits_set = fruits_set.difference(more_fruits_set)\n",
    "print(different_fruits_set)  # Output: {\"banana\", \"orange\", \"papaya\"}\n",
    "\n",
    "# Symmetric Difference Between Two Sets (Elements not in both sets)\n",
    "symmetric_diff_set = fruits_set.symmetric_difference(more_fruits_set)\n",
    "print(symmetric_diff_set)  # Output: {\"banana\", \"grape\", \"orange\", \"kiwi\", \"papaya\"}\n"
   ]
  },
  {
   "cell_type": "code",
   "execution_count": 15,
   "metadata": {
    "tags": []
   },
   "outputs": [
    {
     "name": "stdout",
     "output_type": "stream",
     "text": [
      "False\n",
      "False\n"
     ]
    }
   ],
   "source": [
    "# Set Membership (Checking if an element is present in the set)\n",
    "print(\"apple\" in fruits_set)  # Output: False (Removed earlier)\n",
    "print(\"banana\" not in fruits_set)  # Output: False (Still in the set)\n"
   ]
  },
  {
   "cell_type": "code",
   "execution_count": 16,
   "metadata": {
    "tags": []
   },
   "outputs": [
    {
     "name": "stdout",
     "output_type": "stream",
     "text": [
      "False\n",
      "False\n",
      "True\n"
     ]
    }
   ],
   "source": [
    "# Checking if a Set is a Subset of Another Set\n",
    "subset_check = {\"mango\", \"papaya\"}.issubset(fruits_set)\n",
    "print(subset_check)  # Output: True\n",
    "\n",
    "# Checking if a Set is a Superset of Another Set\n",
    "superset_check = fruits_set.issuperset({\"orange\", \"papaya\"})\n",
    "print(superset_check)  # Output: True\n",
    "\n",
    "# Checking if Two Sets are Disjoint (No common elements)\n",
    "disjoint_check = fruits_set.isdisjoint({\"grape\", \"kiwi\"})\n",
    "print(disjoint_check)  # Output: True\n"
   ]
  },
  {
   "cell_type": "markdown",
   "metadata": {},
   "source": [
    "- Sets deal with collections of unique elements, meaning each element appears only once in the set.\n",
    "- Set-specific operations, such as union, intersection, difference, and symmetric difference, make tasks like finding common elements or differences between sets efficient.\n",
    "- Sets are particularly useful for eliminating duplicate elements from a list or sequence, as they automatically enforce uniqueness."
   ]
  },
  {
   "cell_type": "code",
   "execution_count": null,
   "metadata": {},
   "outputs": [],
   "source": []
  }
 ],
 "metadata": {
  "kernelspec": {
   "display_name": "Python 3 (ipykernel)",
   "language": "python",
   "name": "python3"
  },
  "language_info": {
   "codemirror_mode": {
    "name": "ipython",
    "version": 3
   },
   "file_extension": ".py",
   "mimetype": "text/x-python",
   "name": "python",
   "nbconvert_exporter": "python",
   "pygments_lexer": "ipython3",
   "version": "3.11.3"
  }
 },
 "nbformat": 4,
 "nbformat_minor": 4
}
