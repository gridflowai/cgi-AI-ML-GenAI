{
 "cells": [
  {
   "cell_type": "markdown",
   "id": "8654208d-ae26-4386-a2c2-3dbdebfe6cd6",
   "metadata": {
    "tags": []
   },
   "source": [
    "-------------------------\n",
    "### Exercises on IF/Loops/LISTs\n",
    "----------------------------"
   ]
  },
  {
   "cell_type": "markdown",
   "id": "6fe07626-d586-4b98-9ecd-e3ff3291e2f3",
   "metadata": {},
   "source": [
    "**Exercise 01**\n",
    "\n",
    "Check if a number is Positive , negative or Zero\n",
    "\n",
    "- use IF/elif, else\n",
    "\n"
   ]
  },
  {
   "cell_type": "code",
   "execution_count": 12,
   "id": "7745235f-1080-4868-8354-38291941d5e0",
   "metadata": {
    "tags": []
   },
   "outputs": [],
   "source": [
    "given_nbr = 0"
   ]
  },
  {
   "cell_type": "code",
   "execution_count": 13,
   "id": "8781ffd7-cd28-48d6-99e4-49d2c70019e4",
   "metadata": {
    "tags": []
   },
   "outputs": [
    {
     "name": "stdout",
     "output_type": "stream",
     "text": [
      "it is zero\n"
     ]
    }
   ],
   "source": [
    "if given_nbr > 0:\n",
    "    print('given number : {} is positive'.format(given_nbr))\n",
    "elif given_nbr < 0:\n",
    "    print('given number : {} is negative'.format(given_nbr))\n",
    "else:\n",
    "    print('it is zero')"
   ]
  },
  {
   "cell_type": "markdown",
   "id": "4a5f31b9-8f3a-4709-8c2d-ff1e4a4d44d9",
   "metadata": {},
   "source": [
    "**Exercise 02**\n",
    "\n",
    "determine the type of triangle based on it's sides, length\n",
    "\n",
    "- equilateral triangle\n",
    "- isoceles triangle\n",
    "- scalene triangle\n",
    "\n",
    "use the following semantics\n",
    "- use IF/elif/else\n",
    "- and & ==\n",
    "- or\n"
   ]
  },
  {
   "cell_type": "code",
   "execution_count": 18,
   "id": "0732aa6d-49c3-4cb8-a437-6e7d73439471",
   "metadata": {
    "tags": []
   },
   "outputs": [],
   "source": [
    "side1 = 20\n",
    "side2 = 21\n",
    "side3 = 22"
   ]
  },
  {
   "cell_type": "code",
   "execution_count": 19,
   "id": "68fd2feb-723d-46ce-949a-b73b768f9e10",
   "metadata": {
    "tags": []
   },
   "outputs": [
    {
     "name": "stdout",
     "output_type": "stream",
     "text": [
      "SCALENE\n"
     ]
    }
   ],
   "source": [
    "if side1 == side2 == side3:\n",
    "    print('EQ')\n",
    "elif side1 == side2 or side1 == side3 or side2 == side3:\n",
    "    print('ISO')\n",
    "else:\n",
    "    print('SCALENE')"
   ]
  },
  {
   "cell_type": "markdown",
   "id": "6477e158-df7b-453d-b0eb-6a1fb126dd27",
   "metadata": {},
   "source": [
    "**Exercise 03**\n",
    "\n",
    "check if a given year in 4 digit is a LEAP YEAR\n",
    "\n",
    "LEAP YEAR\n",
    "- divisible by 400\n",
    "- divisible by 4 and 100"
   ]
  },
  {
   "cell_type": "markdown",
   "id": "f1525e61-cbf5-42f8-8b7e-fca50b5c5692",
   "metadata": {},
   "source": [
    "**Exercise 04**\n",
    "\n",
    "Agewise ticket price\n",
    "\n",
    "- 0 - 20 , INR 100\n",
    "- 21 - 25, INR 500\n",
    "- others INR 1000"
   ]
  },
  {
   "cell_type": "markdown",
   "id": "47572ac7-55a3-46e8-8d9b-0e4d6ec5a530",
   "metadata": {},
   "source": [
    "**Exercise 05**\n",
    "\n",
    "Find out MAX, MIN value in a LIST"
   ]
  },
  {
   "cell_type": "code",
   "execution_count": 23,
   "id": "6621f4cf-07d7-41a8-abcc-47ddbe1b2481",
   "metadata": {
    "tags": []
   },
   "outputs": [],
   "source": [
    "given_list = [ 10, 4, 56, 34, 67, 88, 76]"
   ]
  },
  {
   "cell_type": "code",
   "execution_count": 22,
   "id": "323dafc9-55af-467a-ad4c-88f0f923073c",
   "metadata": {
    "tags": []
   },
   "outputs": [],
   "source": [
    "max_val = min_val = given_list[0]"
   ]
  },
  {
   "cell_type": "code",
   "execution_count": 26,
   "id": "f2b8f7c0-f9e3-4504-bfc9-b914a21f4f4a",
   "metadata": {
    "tags": []
   },
   "outputs": [
    {
     "name": "stdout",
     "output_type": "stream",
     "text": [
      "Maximum value in the list: 88\n",
      "Minimum value in the list: 4\n"
     ]
    }
   ],
   "source": [
    "for each_nbr in given_list:\n",
    "    if each_nbr > max_val:\n",
    "        max_val = each_nbr\n",
    "    elif each_nbr < min_val:\n",
    "        min_val = each_nbr\n",
    "        \n",
    "print('Maximum value in the list: {}'.format(max_val))\n",
    "print('Minimum value in the list: {}'.format(min_val))"
   ]
  },
  {
   "cell_type": "code",
   "execution_count": 28,
   "id": "69838ee1-9d22-466f-bd6d-beb834c76a95",
   "metadata": {
    "tags": []
   },
   "outputs": [
    {
     "data": {
      "text/plain": [
       "[88, 76, 67, 56, 34, 10, 4]"
      ]
     },
     "execution_count": 28,
     "metadata": {},
     "output_type": "execute_result"
    }
   ],
   "source": [
    "sorted(given_list, reverse=True)"
   ]
  },
  {
   "cell_type": "markdown",
   "id": "090c87a1-a455-4ff7-9e21-dceff7b4fe70",
   "metadata": {},
   "source": [
    "**Exercise 06**\n",
    "\n",
    "Given list of numbers\n",
    "\n",
    "and we have check if the given list is already sorted (asc or desc)"
   ]
  },
  {
   "cell_type": "code",
   "execution_count": 29,
   "id": "47c9a304-c494-4821-b02a-83f6ae8d22ab",
   "metadata": {
    "tags": []
   },
   "outputs": [],
   "source": [
    "given_list1 = [ 10, 4, 56, 34, 67, 88, 76]\n",
    "given_list2 = [ 1,2,4,77,88,99]\n",
    "given_list3 = [ 99,66,55,44,33,22,11]"
   ]
  },
  {
   "cell_type": "code",
   "execution_count": 30,
   "id": "9eac1e20-38e0-44b2-a0db-d91299a29930",
   "metadata": {
    "tags": []
   },
   "outputs": [],
   "source": [
    "import random"
   ]
  },
  {
   "cell_type": "code",
   "execution_count": 33,
   "id": "cbca5fc4-b996-4083-8728-2a6f22e50272",
   "metadata": {
    "tags": []
   },
   "outputs": [],
   "source": [
    "start_range = 10\n",
    "end_range   = 20"
   ]
  },
  {
   "cell_type": "code",
   "execution_count": 34,
   "id": "2036192a-993b-414a-b89e-7f10230b9e02",
   "metadata": {
    "tags": []
   },
   "outputs": [
    {
     "data": {
      "text/plain": [
       "12"
      ]
     },
     "execution_count": 34,
     "metadata": {},
     "output_type": "execute_result"
    }
   ],
   "source": [
    "random.randint(start_range, end_range)"
   ]
  },
  {
   "cell_type": "code",
   "execution_count": 35,
   "id": "08e756a5-27d6-40b9-9ccc-15addfb0f1d1",
   "metadata": {
    "tags": []
   },
   "outputs": [
    {
     "data": {
      "text/plain": [
       "range(0, 5)"
      ]
     },
     "execution_count": 35,
     "metadata": {},
     "output_type": "execute_result"
    }
   ],
   "source": [
    "range(5)\n"
   ]
  },
  {
   "cell_type": "code",
   "execution_count": 52,
   "id": "dd6bf7b7-2ee1-48b1-b924-ca7d09ecc342",
   "metadata": {
    "tags": []
   },
   "outputs": [
    {
     "name": "stdout",
     "output_type": "stream",
     "text": [
      "Exp iters = 100, number of times sorted list was generated = 2\n",
      "Exp iters = 500, number of times sorted list was generated = 18\n",
      "Exp iters = 1000, number of times sorted list was generated = 33\n",
      "Exp iters = 1500, number of times sorted list was generated = 66\n"
     ]
    }
   ],
   "source": [
    "gen_list = []\n",
    "\n",
    "start_range = 10\n",
    "end_range   = 20\n",
    "\n",
    "# try nbr_iters = 100, 500, 1000\n",
    "\n",
    "iter_loop_list = [100, 500, 1000, 1500]\n",
    "\n",
    "sorted_count = 0\n",
    "\n",
    "for nbr_iters in iter_loop_list:\n",
    "    \n",
    "    for iters in range(nbr_iters):\n",
    "    \n",
    "        gen_list = []\n",
    "        \n",
    "        for each in range(0, 5):\n",
    "            gen_list.append(random.randint(start_range, end_range))\n",
    "\n",
    "        if gen_list == sorted(gen_list) or gen_list ==sorted(gen_list, reverse=True):\n",
    "            sorted_count += 1\n",
    "            \n",
    "    print('Exp iters = {}, number of times sorted list was generated = {}'.format(nbr_iters, sorted_count)) \n",
    "    sorted_count = 0"
   ]
  },
  {
   "cell_type": "markdown",
   "id": "5ee5cc28-ab99-4e44-97d2-937d36a475ad",
   "metadata": {},
   "source": [
    "**Exercise 07**\n",
    "\n",
    "Given 2 lists, each lits with 10 integers, between 1 and 20\n",
    "\n",
    "- list1 = [...]\n",
    "- list2 = [...]\n",
    "\n",
    "use `randint` function of `random` library to generate the lists. \n",
    "\n",
    "Find number of common elements in the two lists"
   ]
  },
  {
   "cell_type": "code",
   "execution_count": 53,
   "id": "b024ba2b-0781-4028-940f-22c6c1e8bbd7",
   "metadata": {
    "tags": []
   },
   "outputs": [],
   "source": [
    "nbr_of_values = 15\n",
    "start_range   = 10\n",
    "end_range     = 20\n",
    "\n",
    "list1 = []\n",
    "list2 = []\n",
    "\n",
    "for iter in range(nbr_of_values):\n",
    "\n",
    "    list1.append(random.randint(start_range, end_range))\n",
    "    list2.append(random.randint(start_range, end_range))   "
   ]
  },
  {
   "cell_type": "code",
   "execution_count": 54,
   "id": "9e698ab5-65d2-4205-ad2a-c76aaa4c31c6",
   "metadata": {
    "tags": []
   },
   "outputs": [
    {
     "data": {
      "text/plain": [
       "([10, 15, 17, 13, 16, 12, 11, 15, 13, 20, 13, 14, 18, 16, 17],\n",
       " [19, 13, 16, 15, 14, 10, 16, 13, 14, 12, 17, 17, 12, 17, 14])"
      ]
     },
     "execution_count": 54,
     "metadata": {},
     "output_type": "execute_result"
    }
   ],
   "source": [
    "list1, list2"
   ]
  },
  {
   "cell_type": "markdown",
   "id": "cb27e552-93a0-49e3-bcfb-fbf75de8657b",
   "metadata": {},
   "source": [
    "find the common elements"
   ]
  },
  {
   "cell_type": "code",
   "execution_count": 56,
   "id": "73f1a071-10dc-49c6-ad25-46a4e4292aa3",
   "metadata": {
    "tags": []
   },
   "outputs": [
    {
     "data": {
      "text/plain": [
       "[10, 15, 17, 13, 16, 12, 14]"
      ]
     },
     "execution_count": 56,
     "metadata": {},
     "output_type": "execute_result"
    }
   ],
   "source": [
    "common_list = []\n",
    "\n",
    "for each_val_list1 in list1:\n",
    "    \n",
    "    if each_val_list1 in list2:\n",
    "        if each_val_list1 not in common_list:\n",
    "            common_list.append(each_val_list1)\n",
    "        \n",
    "common_list"
   ]
  },
  {
   "cell_type": "markdown",
   "id": "aef9e752-c88c-4521-acac-660a6ef115e9",
   "metadata": {},
   "source": [
    "find the union of list1 and list2"
   ]
  },
  {
   "cell_type": "markdown",
   "id": "01ce7965-8d52-4f48-9906-2c2a842e2e83",
   "metadata": {},
   "source": [
    "**Exercise 08**\n",
    "\n",
    "Given 1 list, with 10 integers, between 1 and 20\n",
    "\n",
    "- list1 = [...]\n",
    "\n",
    "use `randint` function of `random` library to generate the lists. \n",
    "\n",
    "Find the kth largest number in the list"
   ]
  },
  {
   "cell_type": "code",
   "execution_count": 57,
   "id": "2d910395-83ce-40cb-8d56-8a5bab7f574c",
   "metadata": {
    "tags": []
   },
   "outputs": [],
   "source": [
    "nbr_of_values = 15\n",
    "start_range   = 10\n",
    "end_range     = 20\n",
    "\n",
    "list1 = []\n",
    "list2 = []\n",
    "\n",
    "for iter in range(nbr_of_values):\n",
    "\n",
    "    list1.append(random.randint(start_range, end_range))"
   ]
  },
  {
   "cell_type": "code",
   "execution_count": 58,
   "id": "1702577f-149c-4f57-a3ed-f35a47114d22",
   "metadata": {
    "tags": []
   },
   "outputs": [
    {
     "data": {
      "text/plain": [
       "[14, 19, 19, 10, 13, 20, 12, 14, 14, 12, 18, 10, 18, 15, 17]"
      ]
     },
     "execution_count": 58,
     "metadata": {},
     "output_type": "execute_result"
    }
   ],
   "source": [
    "list1"
   ]
  },
  {
   "cell_type": "code",
   "execution_count": 60,
   "id": "1f3091ed-d292-4ccf-8ab0-fbe9362c5ef0",
   "metadata": {
    "tags": []
   },
   "outputs": [
    {
     "data": {
      "text/plain": [
       "[10, 10, 12, 12, 13, 14, 14, 14, 15, 17, 18, 18, 19, 19, 20]"
      ]
     },
     "execution_count": 60,
     "metadata": {},
     "output_type": "execute_result"
    }
   ],
   "source": [
    "k = 4\n",
    "\n",
    "# find the 4th largest number in the list\n",
    "sorted_list1 = sorted(list1)\n",
    "\n",
    "sorted_list1"
   ]
  },
  {
   "cell_type": "code",
   "execution_count": 61,
   "id": "482bee04-876e-41ef-8bd6-87eaffdf8fcf",
   "metadata": {
    "tags": []
   },
   "outputs": [
    {
     "data": {
      "text/plain": [
       "18"
      ]
     },
     "execution_count": 61,
     "metadata": {},
     "output_type": "execute_result"
    }
   ],
   "source": [
    "sorted_list1[-k]"
   ]
  },
  {
   "cell_type": "code",
   "execution_count": null,
   "id": "59138663-ecdb-42c9-a3d2-69347a7d4a52",
   "metadata": {},
   "outputs": [],
   "source": []
  }
 ],
 "metadata": {
  "kernelspec": {
   "display_name": "Python 3 (ipykernel)",
   "language": "python",
   "name": "python3"
  },
  "language_info": {
   "codemirror_mode": {
    "name": "ipython",
    "version": 3
   },
   "file_extension": ".py",
   "mimetype": "text/x-python",
   "name": "python",
   "nbconvert_exporter": "python",
   "pygments_lexer": "ipython3",
   "version": "3.11.3"
  }
 },
 "nbformat": 4,
 "nbformat_minor": 5
}
