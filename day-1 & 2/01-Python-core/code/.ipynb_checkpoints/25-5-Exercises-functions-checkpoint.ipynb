{
 "cells": [
  {
   "cell_type": "markdown",
   "id": "3eeb1d24-bdd8-4217-8ab9-f428f765a6a9",
   "metadata": {},
   "source": [
    "`Function to Find the Maximum Number:`"
   ]
  },
  {
   "cell_type": "code",
   "execution_count": 1,
   "id": "c98793c8-c5a9-48bf-9289-ed6d495a7bfb",
   "metadata": {
    "tags": []
   },
   "outputs": [
    {
     "name": "stdout",
     "output_type": "stream",
     "text": [
      "Maximum Number: 10\n"
     ]
    }
   ],
   "source": [
    "def find_max(num_list):\n",
    "    \"\"\"This function finds the maximum number in a given list.\"\"\"\n",
    "    if not num_list:\n",
    "        return None\n",
    "\n",
    "    max_num = num_list[0]\n",
    "    for num in num_list:\n",
    "        if num > max_num:\n",
    "            max_num = num\n",
    "\n",
    "    return max_num\n",
    "\n",
    "# Test the function\n",
    "numbers    = [5, 10, 2, 8, 3]\n",
    "max_number = find_max(numbers)\n",
    "\n",
    "print(\"Maximum Number:\", max_number)\n",
    "# Output: Maximum Number: 10\n"
   ]
  },
  {
   "cell_type": "markdown",
   "id": "42ccc290-183f-4660-b628-68cc274513c9",
   "metadata": {
    "tags": []
   },
   "source": [
    "**Exercise 01**\n",
    "\n",
    "- Calculate the Factorial of a Number\n",
    "    - Write a function that calculates the factorial of a given non-negative integer."
   ]
  },
  {
   "cell_type": "code",
   "execution_count": 2,
   "id": "cb7e5e98-ae43-4c00-b9f4-7bc352b9db65",
   "metadata": {
    "tags": []
   },
   "outputs": [],
   "source": [
    "def factorial(n):\n",
    "    if n == 0:\n",
    "        return 1\n",
    "    else:\n",
    "        return n * factorial(n - 1)"
   ]
  },
  {
   "cell_type": "code",
   "execution_count": 3,
   "id": "1e7b2f8d-c72a-4b04-a894-ade4213d7fa7",
   "metadata": {
    "tags": []
   },
   "outputs": [
    {
     "name": "stdout",
     "output_type": "stream",
     "text": [
      "Factorial of 5 is: 120\n"
     ]
    }
   ],
   "source": [
    "# Test the function\n",
    "num = 5\n",
    "print(\"Factorial of\", num, \"is:\", factorial(num))"
   ]
  },
  {
   "cell_type": "markdown",
   "id": "3c9b3f00-5023-4ddd-b740-57733cd6135d",
   "metadata": {},
   "source": [
    "**Exercise 02** \n",
    "\n",
    "- Check for `Palindrome`\n",
    "    - Write a function that takes a string as input and returns True if it is a palindrome (reads the same forwards and backwards), and False otherwise."
   ]
  },
  {
   "cell_type": "code",
   "execution_count": 4,
   "id": "b6e70e20-9783-4114-b047-4111aaddf45c",
   "metadata": {
    "tags": []
   },
   "outputs": [],
   "source": [
    "def is_palindrome(text):\n",
    "    return text == text[::-1]"
   ]
  },
  {
   "cell_type": "code",
   "execution_count": 5,
   "id": "8fa01d81-fb16-4857-9aa5-ed6e3b8188a2",
   "metadata": {
    "tags": []
   },
   "outputs": [
    {
     "name": "stdout",
     "output_type": "stream",
     "text": [
      "radar is a palindrome: True\n"
     ]
    }
   ],
   "source": [
    "# Test the function\n",
    "word = \"radar\"\n",
    "print(word, \"is a palindrome:\", is_palindrome(word))"
   ]
  },
  {
   "cell_type": "markdown",
   "id": "82432076-45ba-4506-9ebc-d8394fd1316b",
   "metadata": {},
   "source": [
    "`Function to Calculate the Area of a Circle`"
   ]
  },
  {
   "cell_type": "code",
   "execution_count": 4,
   "id": "77abf723-f114-432c-bfbb-ff442501b7ed",
   "metadata": {
    "tags": []
   },
   "outputs": [
    {
     "name": "stdout",
     "output_type": "stream",
     "text": [
      "Area of the circle with radius 5 is 78.53981633974483\n"
     ]
    }
   ],
   "source": [
    "def area_of_circle(radius):\n",
    "    \"\"\"This function calculates the area of a circle given its radius.\"\"\"\n",
    "    import math\n",
    "    return math.pi * radius ** 2\n",
    "\n",
    "# Test the function\n",
    "radius = 5\n",
    "area = area_of_circle(radius)\n",
    "print(\"Area of the circle with radius\", radius, \"is\", area)\n",
    "# Output: Area of the circle with radius 5 is 78.53981633974483\n"
   ]
  },
  {
   "cell_type": "markdown",
   "id": "b2e7f1f3-cd28-4801-a9c2-28c56ce58787",
   "metadata": {},
   "source": [
    "`Function to Check if a Number is Prime`"
   ]
  },
  {
   "cell_type": "code",
   "execution_count": 5,
   "id": "11fe7242-8bbd-4b52-a4e9-7057e6b7df2d",
   "metadata": {
    "tags": []
   },
   "outputs": [
    {
     "name": "stdout",
     "output_type": "stream",
     "text": [
      "17 is a prime number? True\n",
      "27 is a prime number? False\n"
     ]
    }
   ],
   "source": [
    "def is_prime(num):\n",
    "    \"\"\"This function checks if a given number is prime.\"\"\"\n",
    "    if num <= 1:\n",
    "        return False\n",
    "\n",
    "    for i in range(2, int(num ** 0.5) + 1):\n",
    "        if num % i == 0:\n",
    "            return False\n",
    "\n",
    "    return True\n",
    "\n",
    "# Test the function\n",
    "number1 = 17\n",
    "number2 = 27\n",
    "print(number1, \"is a prime number?\", is_prime(number1))  # Output: 17 is a prime number? True\n",
    "print(number2, \"is a prime number?\", is_prime(number2))  # Output: 27 is a prime number? False\n"
   ]
  },
  {
   "cell_type": "markdown",
   "id": "dbf4a24d-8ba8-4575-9ab7-f684e3ac4b1b",
   "metadata": {
    "tags": []
   },
   "source": [
    "**Exercise 03**\n",
    "- Next word prediction"
   ]
  },
  {
   "cell_type": "code",
   "execution_count": 1,
   "id": "6e2f9678-dd05-4729-9940-30c7c306d152",
   "metadata": {
    "tags": []
   },
   "outputs": [],
   "source": [
    "def build_language_model(corpus):\n",
    "    language_model = {}\n",
    "    words          = corpus.split()\n",
    "\n",
    "    for i in range(len(words) - 1):\n",
    "        current_word = words[i]\n",
    "        next_word    = words[i + 1]\n",
    "\n",
    "        if current_word in language_model:\n",
    "            language_model[current_word].append(next_word)\n",
    "        else:\n",
    "            language_model[current_word] = [next_word]\n",
    "\n",
    "    return language_model"
   ]
  },
  {
   "cell_type": "code",
   "execution_count": 2,
   "id": "b888fed6-9105-4ab3-801d-a580e307e12e",
   "metadata": {
    "tags": []
   },
   "outputs": [],
   "source": [
    "def predict_next_word(language_model, seed_word):\n",
    "    if seed_word in language_model:\n",
    "        possible_next_words = language_model[seed_word]\n",
    "        return random.choice(possible_next_words)\n",
    "    else:\n",
    "        return None"
   ]
  },
  {
   "cell_type": "code",
   "execution_count": 3,
   "id": "3ce669dc-ad51-4340-9fdc-df670a1d0d07",
   "metadata": {
    "tags": []
   },
   "outputs": [],
   "source": [
    "# Example corpus\n",
    "corpus = '''New York is a vibrant city known for its iconic landmarks such as the Statue of \n",
    "Liberty Times Square and Central Park It is a melting pot of cultures and offers a diverse \n",
    "range of cuisines arts and entertainment options New Delhi is the capital city of \n",
    "India and boasts a rich history and culture It is home to magnificent historical sites \n",
    "like the Red Fort Qutub Minar and India Gate The city also offers a mix of traditional \n",
    "and modern attractions and is famous for its bustling markets and delicious street food \n",
    "New Mexico is a southwestern U.S. state known for its stunning landscapes including deserts \n",
    "canyons and mountains The state's unique blend of Native American Spanish and \n",
    "Mexican heritage is reflected in its art architecture and cuisine Visitors can explore \n",
    "national parks ancient ruins and vibrant art scenes'''"
   ]
  },
  {
   "cell_type": "code",
   "execution_count": 4,
   "id": "2e5492da-2ee4-4606-b80e-803527acead1",
   "metadata": {
    "tags": []
   },
   "outputs": [],
   "source": [
    "# Build the language model\n",
    "language_model = build_language_model(corpus)"
   ]
  },
  {
   "cell_type": "code",
   "execution_count": 5,
   "id": "3622e73d-e3ff-4219-9b5b-d751a42bc3a0",
   "metadata": {
    "tags": []
   },
   "outputs": [
    {
     "data": {
      "text/plain": [
       "{'New': ['York', 'Delhi', 'Mexico'],\n",
       " 'York': ['is'],\n",
       " 'is': ['a', 'a', 'the', 'home', 'famous', 'a', 'reflected'],\n",
       " 'a': ['vibrant', 'melting', 'diverse', 'rich', 'mix', 'southwestern'],\n",
       " 'vibrant': ['city', 'art'],\n",
       " 'city': ['known', 'of', 'also'],\n",
       " 'known': ['for', 'for'],\n",
       " 'for': ['its', 'its', 'its'],\n",
       " 'its': ['iconic', 'bustling', 'stunning', 'art'],\n",
       " 'iconic': ['landmarks'],\n",
       " 'landmarks': ['such'],\n",
       " 'such': ['as'],\n",
       " 'as': ['the'],\n",
       " 'the': ['Statue', 'capital', 'Red'],\n",
       " 'Statue': ['of'],\n",
       " 'of': ['Liberty', 'cultures', 'cuisines', 'India', 'traditional', 'Native'],\n",
       " 'Liberty': ['Times'],\n",
       " 'Times': ['Square'],\n",
       " 'Square': ['and'],\n",
       " 'and': ['Central',\n",
       "  'offers',\n",
       "  'entertainment',\n",
       "  'boasts',\n",
       "  'culture',\n",
       "  'India',\n",
       "  'modern',\n",
       "  'is',\n",
       "  'delicious',\n",
       "  'mountains',\n",
       "  'Mexican',\n",
       "  'cuisine',\n",
       "  'vibrant'],\n",
       " 'Central': ['Park'],\n",
       " 'Park': ['It'],\n",
       " 'It': ['is', 'is'],\n",
       " 'melting': ['pot'],\n",
       " 'pot': ['of'],\n",
       " 'cultures': ['and'],\n",
       " 'offers': ['a', 'a'],\n",
       " 'diverse': ['range'],\n",
       " 'range': ['of'],\n",
       " 'cuisines': ['arts'],\n",
       " 'arts': ['and'],\n",
       " 'entertainment': ['options'],\n",
       " 'options': ['New'],\n",
       " 'Delhi': ['is'],\n",
       " 'capital': ['city'],\n",
       " 'India': ['and', 'Gate'],\n",
       " 'boasts': ['a'],\n",
       " 'rich': ['history'],\n",
       " 'history': ['and'],\n",
       " 'culture': ['It'],\n",
       " 'home': ['to'],\n",
       " 'to': ['magnificent'],\n",
       " 'magnificent': ['historical'],\n",
       " 'historical': ['sites'],\n",
       " 'sites': ['like'],\n",
       " 'like': ['the'],\n",
       " 'Red': ['Fort'],\n",
       " 'Fort': ['Qutub'],\n",
       " 'Qutub': ['Minar'],\n",
       " 'Minar': ['and'],\n",
       " 'Gate': ['The'],\n",
       " 'The': ['city', \"state's\"],\n",
       " 'also': ['offers'],\n",
       " 'mix': ['of'],\n",
       " 'traditional': ['and'],\n",
       " 'modern': ['attractions'],\n",
       " 'attractions': ['and'],\n",
       " 'famous': ['for'],\n",
       " 'bustling': ['markets'],\n",
       " 'markets': ['and'],\n",
       " 'delicious': ['street'],\n",
       " 'street': ['food'],\n",
       " 'food': ['New'],\n",
       " 'Mexico': ['is'],\n",
       " 'southwestern': ['U.S.'],\n",
       " 'U.S.': ['state'],\n",
       " 'state': ['known'],\n",
       " 'stunning': ['landscapes'],\n",
       " 'landscapes': ['including'],\n",
       " 'including': ['deserts'],\n",
       " 'deserts': ['canyons'],\n",
       " 'canyons': ['and'],\n",
       " 'mountains': ['The'],\n",
       " \"state's\": ['unique'],\n",
       " 'unique': ['blend'],\n",
       " 'blend': ['of'],\n",
       " 'Native': ['American'],\n",
       " 'American': ['Spanish'],\n",
       " 'Spanish': ['and'],\n",
       " 'Mexican': ['heritage'],\n",
       " 'heritage': ['is'],\n",
       " 'reflected': ['in'],\n",
       " 'in': ['its'],\n",
       " 'art': ['architecture', 'scenes'],\n",
       " 'architecture': ['and'],\n",
       " 'cuisine': ['Visitors'],\n",
       " 'Visitors': ['can'],\n",
       " 'can': ['explore'],\n",
       " 'explore': ['national'],\n",
       " 'national': ['parks'],\n",
       " 'parks': ['ancient'],\n",
       " 'ancient': ['ruins'],\n",
       " 'ruins': ['and']}"
      ]
     },
     "execution_count": 5,
     "metadata": {},
     "output_type": "execute_result"
    }
   ],
   "source": [
    "language_model"
   ]
  },
  {
   "cell_type": "code",
   "execution_count": 7,
   "id": "169f3d14-fafc-4ae8-aa5d-e89996701104",
   "metadata": {
    "tags": []
   },
   "outputs": [],
   "source": [
    "# Seed word for prediction\n",
    "seed_word = \"of\""
   ]
  },
  {
   "cell_type": "code",
   "execution_count": 9,
   "id": "091f962e-3508-4e9b-8322-19afdcbc9bdb",
   "metadata": {
    "tags": []
   },
   "outputs": [
    {
     "name": "stdout",
     "output_type": "stream",
     "text": [
      "Predicted next word for 'of': Liberty\n"
     ]
    }
   ],
   "source": [
    "# Predict the next word\n",
    "import random\n",
    "predicted_word = predict_next_word(language_model, seed_word)\n",
    "\n",
    "if predicted_word:\n",
    "    print(f\"Predicted next word for '{seed_word}': {predicted_word}\")\n",
    "else:\n",
    "    print(f\"'{seed_word}' not found in the corpus or has no following words.\")"
   ]
  },
  {
   "cell_type": "markdown",
   "id": "87144964-7c42-41cd-a5fb-d42e88a62605",
   "metadata": {},
   "source": [
    "**Exercise 04**"
   ]
  },
  {
   "cell_type": "markdown",
   "id": "512cb74c-d76b-447a-9749-8a8b12650cf6",
   "metadata": {},
   "source": [
    "`Word Prediction using N-Grams`\n",
    "\n",
    "- The goal of this project is to create an algorithm that can shift through __ngrams__ to predict which word will most likely be typed next. The __Ngram__ Word Prediction Algorithm will predict a user's next word in any number of given circumstances. Using almost all the books in the world as a collection of data, this algorithm will be able to predict the most common word that would appear next in real time. \n",
    "\n",
    "- Assume the training data shows the frequency of \"data\" is 198, \"data entry\" is 12 and \"data streams\" is 10. We calculate the maximum likelihood estimate (MLE) as:\n",
    "\n",
    "The probability of \"data entry\":\n",
    "\n",
    "$$ P_{mle}(entry|data) = \\frac{12}{198} = 0.06 = 6\\%$$\n",
    "\n",
    "The probability of \"data streams\" is:\n",
    "\n",
    "$$ P_{mle}(streams|data) = \\frac{10}{198} = 0.05 = 5\\%$$\n",
    "\n",
    "If the user types, \"data\", the model predicts that \"entry\" is the most likely next word.\n",
    "\n",
    "#### Generate 2-grams\n",
    "\n",
    "- using the corpus \n",
    "    - corpus = `the cat is red the cat is green the cat is blue the dog is brown`\n",
    "\n",
    "#### Prediction\n",
    "\n",
    "take a word and predict the next word using bi-gram\n"
   ]
  },
  {
   "cell_type": "code",
   "execution_count": 11,
   "id": "d6f64d09-501e-416e-9e5c-83ffe251875f",
   "metadata": {
    "tags": []
   },
   "outputs": [],
   "source": [
    "from collections import defaultdict"
   ]
  },
  {
   "cell_type": "code",
   "execution_count": 12,
   "id": "f1a34889-5c8e-4891-acdc-6fb5ee155d0d",
   "metadata": {
    "tags": []
   },
   "outputs": [],
   "source": [
    "corpus = \"the cat is red the cat is green the cat is blue the dog is brown\""
   ]
  },
  {
   "cell_type": "code",
   "execution_count": 13,
   "id": "4e39122a-50db-493b-8326-74d2a450fdcd",
   "metadata": {
    "tags": []
   },
   "outputs": [],
   "source": [
    "tokens = corpus.split()"
   ]
  },
  {
   "cell_type": "code",
   "execution_count": 14,
   "id": "cce486b6-f047-44b1-84e7-900d54ad2ed2",
   "metadata": {
    "tags": []
   },
   "outputs": [
    {
     "data": {
      "text/plain": [
       "['the',\n",
       " 'cat',\n",
       " 'is',\n",
       " 'red',\n",
       " 'the',\n",
       " 'cat',\n",
       " 'is',\n",
       " 'green',\n",
       " 'the',\n",
       " 'cat',\n",
       " 'is',\n",
       " 'blue',\n",
       " 'the',\n",
       " 'dog',\n",
       " 'is',\n",
       " 'brown']"
      ]
     },
     "execution_count": 14,
     "metadata": {},
     "output_type": "execute_result"
    }
   ],
   "source": [
    "tokens"
   ]
  },
  {
   "cell_type": "markdown",
   "id": "107f0366-a06a-4e0f-a78a-5f66f1f6f960",
   "metadata": {},
   "source": [
    "#### build tokens dictionary \n",
    "with next word list for each token"
   ]
  },
  {
   "cell_type": "code",
   "execution_count": 15,
   "id": "ac6fe9f3-b9bb-46d9-b5c3-ad45993798f5",
   "metadata": {
    "tags": []
   },
   "outputs": [],
   "source": [
    "previous_word = \"\"\n",
    "token_dict    = defaultdict(list)"
   ]
  },
  {
   "cell_type": "code",
   "execution_count": 16,
   "id": "a2e170cd-5ce9-4316-be4c-39eb25a46c34",
   "metadata": {
    "tags": []
   },
   "outputs": [],
   "source": [
    "for current_word in tokens:\n",
    "    if previous_word != \"\":\n",
    "        token_dict[previous_word].append(current_word)\n",
    "        \n",
    "    previous_word = current_word"
   ]
  },
  {
   "cell_type": "code",
   "execution_count": 17,
   "id": "e1759819-fd05-441a-ab2d-ff5d4d00ee49",
   "metadata": {
    "tags": []
   },
   "outputs": [
    {
     "data": {
      "text/plain": [
       "defaultdict(list,\n",
       "            {'the': ['cat', 'cat', 'cat', 'dog'],\n",
       "             'cat': ['is', 'is', 'is'],\n",
       "             'is': ['red', 'green', 'blue', 'brown'],\n",
       "             'red': ['the'],\n",
       "             'green': ['the'],\n",
       "             'blue': ['the'],\n",
       "             'dog': ['is']})"
      ]
     },
     "execution_count": 17,
     "metadata": {},
     "output_type": "execute_result"
    }
   ],
   "source": [
    "token_dict"
   ]
  },
  {
   "cell_type": "code",
   "execution_count": 25,
   "id": "870b9c2b-6a7a-45e4-ab40-f92ff09b634d",
   "metadata": {
    "tags": []
   },
   "outputs": [
    {
     "data": {
      "text/plain": [
       "'the cat is red the cat is green the cat is blue the dog is brown'"
      ]
     },
     "execution_count": 25,
     "metadata": {},
     "output_type": "execute_result"
    }
   ],
   "source": [
    "corpus"
   ]
  },
  {
   "cell_type": "markdown",
   "id": "ea6ddfb4-996e-42b8-a5f9-a0c90aa6c1bb",
   "metadata": {},
   "source": [
    "#### compute probability\n",
    "of each observed next word for each word in the dictionnary. "
   ]
  },
  {
   "cell_type": "code",
   "execution_count": 18,
   "id": "ddfc1764-1403-475d-8621-1eb0cb0821c8",
   "metadata": {
    "tags": []
   },
   "outputs": [],
   "source": [
    "for key in token_dict.keys():\n",
    "    \n",
    "    next_words   = token_dict[key]\n",
    "    \n",
    "    unique_words = set(next_words) # removes duplicates\n",
    "    \n",
    "    nb_words     = len(next_words)\n",
    "    \n",
    "    probabilities_token = {}\n",
    "    \n",
    "    for unique_word in unique_words:\n",
    "        probabilities_token[unique_word] = float(next_words.count(unique_word)) / nb_words\n",
    "        \n",
    "    token_dict[key] = probabilities_token"
   ]
  },
  {
   "cell_type": "code",
   "execution_count": 19,
   "id": "864ded24-48e0-4895-a3db-e6f24cde2992",
   "metadata": {
    "tags": []
   },
   "outputs": [
    {
     "data": {
      "text/plain": [
       "defaultdict(list,\n",
       "            {'the': {'cat': 0.75, 'dog': 0.25},\n",
       "             'cat': {'is': 1.0},\n",
       "             'is': {'red': 0.25, 'green': 0.25, 'brown': 0.25, 'blue': 0.25},\n",
       "             'red': {'the': 1.0},\n",
       "             'green': {'the': 1.0},\n",
       "             'blue': {'the': 1.0},\n",
       "             'dog': {'is': 1.0}})"
      ]
     },
     "execution_count": 19,
     "metadata": {},
     "output_type": "execute_result"
    }
   ],
   "source": [
    "token_dict"
   ]
  },
  {
   "cell_type": "markdown",
   "id": "348a35fb-c44b-4c36-bfec-da0a8167c562",
   "metadata": {},
   "source": [
    "#### predicting next word"
   ]
  },
  {
   "cell_type": "code",
   "execution_count": 20,
   "id": "d7805414-8cf8-477a-85a6-ed4df429b879",
   "metadata": {
    "tags": []
   },
   "outputs": [],
   "source": [
    "token_ask = 'the'"
   ]
  },
  {
   "cell_type": "code",
   "execution_count": 21,
   "id": "c9bf152a-569e-4f26-90bb-ac07b7d0bf97",
   "metadata": {
    "tags": []
   },
   "outputs": [
    {
     "name": "stdout",
     "output_type": "stream",
     "text": [
      "{'cat': 0.75, 'dog': 0.25}\n",
      "{'cat': 0.75, 'dog': 0.25}\n"
     ]
    }
   ],
   "source": [
    "if token_ask in token_dict:\n",
    "    next_words_prob = token_dict[token_ask]\n",
    "    print(next_words_prob)\n",
    "    print({k: v for k, v in sorted(next_words_prob.items(), key=lambda item: item[1], reverse=True)})"
   ]
  },
  {
   "cell_type": "code",
   "execution_count": null,
   "id": "7bbc9170-f71e-42f8-83b5-19e441fadac0",
   "metadata": {},
   "outputs": [],
   "source": []
  }
 ],
 "metadata": {
  "kernelspec": {
   "display_name": "Python 3 (ipykernel)",
   "language": "python",
   "name": "python3"
  },
  "language_info": {
   "codemirror_mode": {
    "name": "ipython",
    "version": 3
   },
   "file_extension": ".py",
   "mimetype": "text/x-python",
   "name": "python",
   "nbconvert_exporter": "python",
   "pygments_lexer": "ipython3",
   "version": "3.11.3"
  }
 },
 "nbformat": 4,
 "nbformat_minor": 5
}
