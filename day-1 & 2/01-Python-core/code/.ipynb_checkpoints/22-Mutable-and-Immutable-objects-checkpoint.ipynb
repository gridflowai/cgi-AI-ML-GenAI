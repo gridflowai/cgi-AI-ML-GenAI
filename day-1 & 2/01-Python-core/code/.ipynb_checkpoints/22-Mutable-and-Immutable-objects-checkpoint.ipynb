{
 "cells": [
  {
   "cell_type": "markdown",
   "id": "3e7e4738-9946-4b53-9aa9-ba70f586ae00",
   "metadata": {},
   "source": [
    "#### Mutable vs Immutable Objects"
   ]
  },
  {
   "cell_type": "markdown",
   "id": "3f87ef97-bcf4-40ca-8ede-d05e8d6c7b46",
   "metadata": {},
   "source": [
    "`Mutable Objects:`\n",
    "\n",
    "Mutable objects are objects whose content or value `can be modified` after creation. \n",
    "\n",
    "This means you can change their internal state without creating a new object with a different value. \n",
    "\n",
    "Some examples of mutable objects in Python are:"
   ]
  },
  {
   "cell_type": "markdown",
   "id": "2976c830-ddd8-487a-8d13-0f652b4982e6",
   "metadata": {},
   "source": [
    "`Lists`: You can modify the elements in a list, add new elements, or remove existing elements without creating a new list.\n",
    "\n",
    "`Dictionaries`: You can add, modify, or delete key-value pairs within a dictionary without creating a new dictionary.\n",
    "\n",
    "`Sets`: You can add or remove elements from a set without creating a new set.\n",
    "\n",
    "`Custom Objects`: If you create your own class and design it to be mutable, you can change the attributes of instances of that class after they are created."
   ]
  },
  {
   "cell_type": "code",
   "execution_count": 8,
   "id": "aefe30e7-adbf-41cc-9d40-3af225516710",
   "metadata": {
    "tags": []
   },
   "outputs": [
    {
     "name": "stdout",
     "output_type": "stream",
     "text": [
      "Original List: [1, 2, 3]\n",
      "Modified List: [10, 2, 3]\n"
     ]
    }
   ],
   "source": [
    "# Mutable Object - List\n",
    "my_list = [1, 2, 3]\n",
    "print(\"Original List:\", my_list)\n",
    "\n",
    "# Modify the list\n",
    "my_list[0] = 10\n",
    "print(\"Modified List:\", my_list)  # Output: [10, 2, 3]"
   ]
  },
  {
   "cell_type": "markdown",
   "id": "52208617-8374-44f1-8f9e-eb8fe08b3e45",
   "metadata": {},
   "source": [
    "`Immutable Objects:`\n",
    "\n",
    "Immutable objects, on the other hand, are objects whose state cannot be changed after they are created. Once an immutable object is created, you cannot modify its content; you can only create new objects with updated values. Some examples of immutable objects in Python are:\n",
    "\n",
    "- Integers\n",
    "- Floats\n",
    "- Strings\n",
    "- Tuples\n"
   ]
  },
  {
   "cell_type": "code",
   "execution_count": 9,
   "id": "13678fd4-608d-488b-974a-5dfdedae31dc",
   "metadata": {
    "tags": []
   },
   "outputs": [
    {
     "name": "stdout",
     "output_type": "stream",
     "text": [
      "Original String: Hello\n",
      "Modified String: hello\n"
     ]
    }
   ],
   "source": [
    "# Immutable Object - String\n",
    "my_string = \"Hello\"\n",
    "print(\"Original String:\", my_string)\n",
    "\n",
    "# Attempting to modify the string (will raise an error)\n",
    "# my_string[0] = \"h\"  # Uncomment this line to see the error\n",
    "\n",
    "# Instead, you need to create a new string with the updated value\n",
    "new_string = \"h\" + my_string[1:]\n",
    "print(\"Modified String:\", new_string)  # Output: \"hello\""
   ]
  },
  {
   "cell_type": "markdown",
   "id": "d2dcdc64-fed1-4587-9414-36a630e30d73",
   "metadata": {},
   "source": [
    "The `distinction` between mutable and immutable objects is crucial because it impacts how Python handles variables and memory management. Understanding this distinction helps you write more efficient and bug-free code."
   ]
  },
  {
   "cell_type": "markdown",
   "id": "5ec5dd27-aa29-4eb8-9ac7-83e18fb2e107",
   "metadata": {},
   "source": [
    "**Advantages of Immutable Objects:**\n",
    "\n",
    "- Immutable objects are safer to use in multithreaded environments because they cannot be changed by multiple threads simultaneously.\n",
    "- Immutable objects can be used as dictionary keys or elements in sets because their hash value remains constant."
   ]
  },
  {
   "cell_type": "markdown",
   "id": "1e4c701e-e5d4-41bf-9fc7-225402f59cb6",
   "metadata": {},
   "source": [
    "**Advantages of Mutable Objects:**\n",
    "\n",
    "Mutable objects can be modified directly, avoiding the need to create a new object when changing their value. This can be more memory-efficient and faster in certain situations."
   ]
  },
  {
   "cell_type": "markdown",
   "id": "c6eefe4c-6133-495d-abd0-4e98cebd9f2d",
   "metadata": {},
   "source": [
    "> Immutable objects are generally preferred for simple values that do not need to change, while mutable objects are useful for more complex data structures that require frequent modifications."
   ]
  },
  {
   "cell_type": "code",
   "execution_count": null,
   "id": "e9e311cc-0638-4e73-88a4-652bbe77015a",
   "metadata": {},
   "outputs": [],
   "source": []
  }
 ],
 "metadata": {
  "kernelspec": {
   "display_name": "Python 3 (ipykernel)",
   "language": "python",
   "name": "python3"
  },
  "language_info": {
   "codemirror_mode": {
    "name": "ipython",
    "version": 3
   },
   "file_extension": ".py",
   "mimetype": "text/x-python",
   "name": "python",
   "nbconvert_exporter": "python",
   "pygments_lexer": "ipython3",
   "version": "3.11.3"
  }
 },
 "nbformat": 4,
 "nbformat_minor": 5
}
