{
 "cells": [
  {
   "cell_type": "markdown",
   "id": "d828d837-f334-4e34-8197-59596bbe7489",
   "metadata": {},
   "source": [
    "---------------\n",
    "### Built-in and user defined functions\n",
    "-----------------\n",
    "\n",
    "Functions in Python can be broadly classified into two types:"
   ]
  },
  {
   "cell_type": "markdown",
   "id": "db507c18-6d3d-45e2-a49b-7c9db38c101b",
   "metadata": {},
   "source": [
    "**Built-in Functions:**\n",
    "\n",
    "- Built-in functions are functions that come pre-defined with the Python programming language.\n",
    "\n",
    "- These functions are part of the Python Standard Library, and you can use them directly without needing to import any external libraries.\n",
    "\n",
    "- Examples of built-in functions include print(), len(), abs(), max(), min(), sum(), range(), type(), input(), and many more."
   ]
  },
  {
   "cell_type": "code",
   "execution_count": 4,
   "id": "35506e87-957e-4cd1-a54e-cf2c6eef804f",
   "metadata": {
    "tags": []
   },
   "outputs": [
    {
     "name": "stdout",
     "output_type": "stream",
     "text": [
      "5\n",
      "20\n"
     ]
    },
    {
     "name": "stdin",
     "output_type": "stream",
     "text": [
      "Enter your name:  \n"
     ]
    },
    {
     "name": "stdout",
     "output_type": "stream",
     "text": [
      "Hello, \n"
     ]
    }
   ],
   "source": [
    "# Using built-in functions\n",
    "x = abs(-5)\n",
    "print(x)  # Output: 5\n",
    "\n",
    "y = max(10, 5, 20, 8)\n",
    "print(y)  # Output: 20\n",
    "\n",
    "name = input(\"Enter your name: \")\n",
    "print(\"Hello, \" + name)\n"
   ]
  },
  {
   "cell_type": "markdown",
   "id": "cc3bb0fb-c64d-4e9a-a109-1f55ab43abcf",
   "metadata": {},
   "source": [
    "**User-Defined Functions:**\n",
    "\n",
    "- User-defined functions are functions that you create and define yourself.\n",
    "- They allow you to write custom code and group related tasks into a single function.\n",
    "- User-defined functions are defined using the def keyword, followed by the function name, parameter list (if any), and a block of code (function body)."
   ]
  },
  {
   "cell_type": "code",
   "execution_count": 5,
   "id": "2b0f2ed4-1c39-42cd-a5b9-177105beeebd",
   "metadata": {
    "tags": []
   },
   "outputs": [
    {
     "name": "stdout",
     "output_type": "stream",
     "text": [
      "Hello, Alice!\n",
      "Hello, Bob!\n"
     ]
    }
   ],
   "source": [
    "# User-defined function\n",
    "def greet(name):\n",
    "    print(\"Hello, \" + name + \"!\")\n",
    "\n",
    "# Calling the function\n",
    "greet(\"Alice\")  # Output: Hello, Alice!\n",
    "greet(\"Bob\")    # Output: Hello, Bob!\n"
   ]
  },
  {
   "cell_type": "markdown",
   "id": "2401b681-7b4e-4ed2-9d00-7147e3f5d032",
   "metadata": {},
   "source": [
    "#### return multiple values\n",
    "- To do this, you make use of tuples."
   ]
  },
  {
   "cell_type": "code",
   "execution_count": 6,
   "id": "8afb7a93-4154-418e-abd8-960007e2e066",
   "metadata": {
    "tags": []
   },
   "outputs": [],
   "source": [
    "# Define `plus()`\n",
    "def oper(a, b):\n",
    "    summ  = a + b\n",
    "    mult  = a * b\n",
    "    \n",
    "    return (summ, mult)"
   ]
  },
  {
   "cell_type": "code",
   "execution_count": 7,
   "id": "289a8dc0-8d50-47b2-8000-d2d0d5d8d811",
   "metadata": {
    "tags": []
   },
   "outputs": [
    {
     "data": {
      "text/plain": [
       "(7, 12)"
      ]
     },
     "execution_count": 7,
     "metadata": {},
     "output_type": "execute_result"
    }
   ],
   "source": [
    "oper(3, 4)"
   ]
  },
  {
   "cell_type": "code",
   "execution_count": 8,
   "id": "ea12bb6b-6ff9-4892-ab8e-83dee5134e8a",
   "metadata": {
    "tags": []
   },
   "outputs": [],
   "source": [
    "# Call \n",
    "summ, mult = oper(3, 4)\n",
    "ret_tuple  = oper(3, 4)"
   ]
  },
  {
   "cell_type": "code",
   "execution_count": 9,
   "id": "9457dfe1-1ea6-41c9-b5db-1fd152bd4d12",
   "metadata": {
    "tags": []
   },
   "outputs": [
    {
     "name": "stdout",
     "output_type": "stream",
     "text": [
      "7\n",
      "12\n",
      "(7, 12)\n"
     ]
    }
   ],
   "source": [
    "# Print sum, mult\n",
    "print(summ)\n",
    "print(mult)\n",
    "print(ret_tuple)"
   ]
  },
  {
   "cell_type": "markdown",
   "id": "24cc7adb-8715-4de9-a920-f831825cdc42",
   "metadata": {
    "jupyter": {
     "outputs_hidden": true
    }
   },
   "source": [
    "##### Function Arguments in Python\n",
    "- There are 4 types of arguments that Python UDFs can take:\n",
    "\n",
    "    - `Default` arguments\n",
    "    - `Required` arguments\n",
    "    - `Keyword` arguments\n",
    "    - `Variable number` of arguments"
   ]
  },
  {
   "cell_type": "markdown",
   "id": "cafcf365-9784-4b52-88c9-7a987274e30b",
   "metadata": {},
   "source": [
    "**Default Arguments**\n",
    "\n",
    "- take a `default` value if no argument value is passed \n",
    "- You can assign this default value by with the assignment operator ="
   ]
  },
  {
   "cell_type": "code",
   "execution_count": 10,
   "id": "cbb8663c-c1d1-4e89-8e52-9d2ccf1ad04e",
   "metadata": {
    "tags": []
   },
   "outputs": [],
   "source": [
    "# Define `plus()` function\n",
    "def plus(a, b = 2):\n",
    "    return a + b"
   ]
  },
  {
   "cell_type": "code",
   "execution_count": 11,
   "id": "26e73022-0bb7-4676-b541-8b3f6d585a21",
   "metadata": {
    "tags": []
   },
   "outputs": [
    {
     "data": {
      "text/plain": [
       "12"
      ]
     },
     "execution_count": 11,
     "metadata": {},
     "output_type": "execute_result"
    }
   ],
   "source": [
    "# Call `plus()` with only `a` parameter\n",
    "plus(2, b=10)"
   ]
  },
  {
   "cell_type": "code",
   "execution_count": 12,
   "id": "7102f243-e38c-4abb-bd61-4a8d914b897b",
   "metadata": {
    "tags": []
   },
   "outputs": [
    {
     "data": {
      "text/plain": [
       "22"
      ]
     },
     "execution_count": 12,
     "metadata": {},
     "output_type": "execute_result"
    }
   ],
   "source": [
    "plus(20)"
   ]
  },
  {
   "cell_type": "code",
   "execution_count": 13,
   "id": "aec0181b-5e81-4c64-bfab-b1ef7ff4e617",
   "metadata": {
    "tags": []
   },
   "outputs": [
    {
     "data": {
      "text/plain": [
       "6"
      ]
     },
     "execution_count": 13,
     "metadata": {},
     "output_type": "execute_result"
    }
   ],
   "source": [
    "# Call `plus()` with `a` and `b` parameters\n",
    "plus(1, 5)"
   ]
  },
  {
   "cell_type": "markdown",
   "id": "6ec7b90d-2cf4-4056-8ada-dc1e851645b1",
   "metadata": {
    "jupyter": {
     "outputs_hidden": true
    }
   },
   "source": [
    "**Required Arguments**\n",
    "\n",
    "- The required arguments of a function are those that have to be in there. "
   ]
  },
  {
   "cell_type": "code",
   "execution_count": 14,
   "id": "f148b075-6d18-41b7-afe0-cb7aee1f965e",
   "metadata": {
    "tags": []
   },
   "outputs": [],
   "source": [
    "# Define `plus()` with required arguments\n",
    "def plus(a, b):\n",
    "    return a + b"
   ]
  },
  {
   "cell_type": "code",
   "execution_count": 15,
   "id": "fb33f043-2334-4581-9773-9178b23760f4",
   "metadata": {
    "tags": []
   },
   "outputs": [
    {
     "data": {
      "text/plain": [
       "30"
      ]
     },
     "execution_count": 15,
     "metadata": {},
     "output_type": "execute_result"
    }
   ],
   "source": [
    "plus(10, 20)"
   ]
  },
  {
   "cell_type": "code",
   "execution_count": 16,
   "id": "b7ef3a14-0a89-483a-a80d-b35e70a5f0a4",
   "metadata": {
    "tags": []
   },
   "outputs": [
    {
     "data": {
      "text/plain": [
       "30"
      ]
     },
     "execution_count": 16,
     "metadata": {},
     "output_type": "execute_result"
    }
   ],
   "source": [
    "plus(b=10, a=20)"
   ]
  },
  {
   "cell_type": "code",
   "execution_count": 17,
   "id": "09e6634f-c8fc-45c7-9569-d707f1b24d39",
   "metadata": {
    "tags": []
   },
   "outputs": [
    {
     "ename": "TypeError",
     "evalue": "plus() missing 1 required positional argument: 'b'",
     "output_type": "error",
     "traceback": [
      "\u001b[0;31m---------------------------------------------------------------------------\u001b[0m",
      "\u001b[0;31mTypeError\u001b[0m                                 Traceback (most recent call last)",
      "Cell \u001b[0;32mIn[17], line 1\u001b[0m\n\u001b[0;32m----> 1\u001b[0m plus(a\u001b[38;5;241m=\u001b[39m\u001b[38;5;241m10\u001b[39m)\n",
      "\u001b[0;31mTypeError\u001b[0m: plus() missing 1 required positional argument: 'b'"
     ]
    }
   ],
   "source": [
    "plus(a=10)"
   ]
  },
  {
   "cell_type": "markdown",
   "id": "033308b1-e6fe-4616-9f27-bc67bc15a084",
   "metadata": {
    "jupyter": {
     "outputs_hidden": true
    }
   },
   "source": [
    "**Variable Number of Arguments**\n",
    "\n",
    "- In cases where you don’t know the exact number of arguments that you want to pass to a function, you can use the following syntax with `*args`"
   ]
  },
  {
   "cell_type": "code",
   "execution_count": 18,
   "id": "c31650d2-b93d-40e0-8a1d-80be758771be",
   "metadata": {
    "tags": []
   },
   "outputs": [],
   "source": [
    "def my_sum(my_integers):\n",
    "    result = 0\n",
    "    \n",
    "    for x in my_integers:\n",
    "        result += x\n",
    "        \n",
    "    return result"
   ]
  },
  {
   "cell_type": "code",
   "execution_count": 19,
   "id": "e7c1f05d-3053-4760-8841-0f55e6d11645",
   "metadata": {
    "tags": []
   },
   "outputs": [
    {
     "data": {
      "text/plain": [
       "6"
      ]
     },
     "execution_count": 19,
     "metadata": {},
     "output_type": "execute_result"
    }
   ],
   "source": [
    "list_of_integers = [1, 2, 3]\n",
    "\n",
    "my_sum(list_of_integers)"
   ]
  },
  {
   "cell_type": "code",
   "execution_count": 20,
   "id": "89ea5966-f501-48d0-b322-49dc14935697",
   "metadata": {
    "tags": []
   },
   "outputs": [
    {
     "data": {
      "text/plain": [
       "60"
      ]
     },
     "execution_count": 20,
     "metadata": {},
     "output_type": "execute_result"
    }
   ],
   "source": [
    "my_sum([10, 20, 30])"
   ]
  },
  {
   "cell_type": "markdown",
   "id": "b3efcce7-13ff-45a8-b236-653904c89a1a",
   "metadata": {},
   "source": [
    "- This implementation works, but whenever you call this function you’ll also need to `create a list of arguments` to pass to it. \n",
    "\n",
    "- This can be inconvenient, especially if you don’t know up front all the values that should go into the list.\n",
    "\n",
    "- This is where *args can be really useful"
   ]
  },
  {
   "cell_type": "code",
   "execution_count": 21,
   "id": "a8d483be-b745-4e59-b539-d9fa32dacc73",
   "metadata": {
    "tags": []
   },
   "outputs": [],
   "source": [
    "# sum_integers_args.py\n",
    "def my_sum(*args):\n",
    "    result = 0\n",
    "    \n",
    "    # Iterating over the Python args tuple\n",
    "    for x in args:\n",
    "        result += x\n",
    "        \n",
    "    return result"
   ]
  },
  {
   "cell_type": "code",
   "execution_count": 22,
   "id": "f83ff380-d82c-4717-9071-f8b82e0a88c1",
   "metadata": {
    "tags": []
   },
   "outputs": [
    {
     "name": "stdout",
     "output_type": "stream",
     "text": [
      "26\n"
     ]
    }
   ],
   "source": [
    "print(my_sum(1, 2, 3, 7, 13 ))"
   ]
  },
  {
   "cell_type": "markdown",
   "id": "c11002fb-db01-4ce7-a655-1d600471fef4",
   "metadata": {},
   "source": [
    "- you’re `no longer passing a list` to my_sum(). \n",
    "\n",
    "- Instead, you’re passing three different positional arguments. \n",
    "\n",
    "- my_sum() takes all the parameters that are provided in the input and `packs` them all into a single iterable object named `args`.\n",
    "\n",
    "> Note that `args` is just a name. \n",
    "> You’re not required to use the name `arg`s. \n",
    "> You can choose any name that you prefer, such as integers:"
   ]
  },
  {
   "cell_type": "code",
   "execution_count": 23,
   "id": "97289387-1c8e-4dc7-8e8f-fbe772e14bab",
   "metadata": {
    "tags": []
   },
   "outputs": [
    {
     "name": "stdout",
     "output_type": "stream",
     "text": [
      "6\n"
     ]
    }
   ],
   "source": [
    "# sum_integers_args_2.py\n",
    "def my_sum(*integers):\n",
    "    result = 0\n",
    "    for x in integers:\n",
    "        result += x\n",
    "    return result\n",
    "\n",
    "print(my_sum(1, 2, 3))"
   ]
  },
  {
   "cell_type": "code",
   "execution_count": 24,
   "id": "b0ba51eb-926f-46ea-b1f8-293a999859ba",
   "metadata": {
    "tags": []
   },
   "outputs": [
    {
     "name": "stdout",
     "output_type": "stream",
     "text": [
      "First time:\n",
      "This is the first argument of 1st function call\n",
      "(2, 3, 4, 5)\n",
      "2\n",
      "3\n",
      "4\n",
      "5\n",
      "Second time:\n",
      "This is the first argument of 2nd function call\n",
      "('asd', 'Bcd')\n",
      "asd\n",
      "Bcd\n",
      "Third time:\n",
      "This is the first argument and only argument of 3rd function call\n",
      "()\n"
     ]
    }
   ],
   "source": [
    "def varFunc(name, *args):\n",
    "        print(\"This is the first argument \"+str(name))\n",
    "        #This print will make you understand that the args is a list\n",
    "        print(args)\n",
    "        for item in args:\n",
    "                print(item)\n",
    "\n",
    "print(\"First time:\")\n",
    "varFunc(\"of 1st function call\", 2, 3, 4, 5)\n",
    "\n",
    "print(\"Second time:\")\n",
    "varFunc(\"of 2nd function call\",\"asd\",\"Bcd\")\n",
    "\n",
    "print(\"Third time:\")\n",
    "varFunc(\"and only argument of 3rd function call\")"
   ]
  },
  {
   "cell_type": "markdown",
   "id": "315ad8e3-655d-45fe-849b-9c9ac4861794",
   "metadata": {},
   "source": [
    "##### Using the Python `kwargs` Variable in Function Definitions\n",
    "\n",
    "**kwargs works just like *args, but instead of accepting positional arguments it accepts keyword (or named) arguments. "
   ]
  },
  {
   "cell_type": "code",
   "execution_count": 25,
   "id": "9a2c4888-53de-402b-ac26-29f26ea7280b",
   "metadata": {
    "tags": []
   },
   "outputs": [
    {
     "name": "stdout",
     "output_type": "stream",
     "text": [
      "RealPythonIsGreat!\n"
     ]
    }
   ],
   "source": [
    "def concatenate(**kwargs):\n",
    "    result = \"\"\n",
    "    \n",
    "    # Iterating over the Python kwargs dictionary\n",
    "    for arg in kwargs.values():\n",
    "        result += arg\n",
    "        \n",
    "    return result\n",
    "\n",
    "print(concatenate(a=\"Real\", b=\"Python\", c=\"Is\", d=\"Great\", e=\"!\"))"
   ]
  },
  {
   "cell_type": "markdown",
   "id": "9c8f3a34-ae0b-4bee-975a-5c6ea6fec33f",
   "metadata": {},
   "source": [
    "Like `args`, `kwargs` is just a name that can be changed to whatever you want. \n",
    "\n",
    "Again, what is important here is the use of the unpacking operator (**)."
   ]
  },
  {
   "cell_type": "code",
   "execution_count": 26,
   "id": "2d44d305-4db6-4e48-b4a7-8f5fb808cb6b",
   "metadata": {
    "tags": []
   },
   "outputs": [
    {
     "name": "stdout",
     "output_type": "stream",
     "text": [
      "RealPythonIsGreat!\n"
     ]
    }
   ],
   "source": [
    "def concatenate(**words):\n",
    "    result = \"\"\n",
    "    for arg in words.values():\n",
    "        result += arg\n",
    "    return result\n",
    "\n",
    "print(concatenate(a=\"Real\", b=\"Python\", c=\"Is\", d=\"Great\", e=\"!\"))"
   ]
  },
  {
   "cell_type": "code",
   "execution_count": 27,
   "id": "2ed793ef-5030-4d93-addd-822fb1f2d6f4",
   "metadata": {
    "tags": []
   },
   "outputs": [
    {
     "name": "stdout",
     "output_type": "stream",
     "text": [
      "First Person\n",
      "Name: Alice\n",
      "Roll: 234\n",
      "Age: 18\n",
      "Gender: female\n",
      "\n",
      "Second Person\n",
      "Name: Bob\n",
      "Roll: 204\n",
      "Age: 21\n",
      "Gender: male\n",
      "\n",
      "Third Person\n",
      "Name: Trudy\n",
      "Roll: 204\n",
      "Gender: male\n"
     ]
    }
   ],
   "source": [
    "def varFunc(name, roll, **option):\n",
    "        print(\"Name: \"+name)\n",
    "        print(\"Roll: \"+str(roll))\n",
    "        if \"age\" in option :\n",
    "                print(\"Age: \"+ str(option.get(\"age\")))\n",
    "        if \"gender\" in option:\n",
    "                print(\"Gender: \"+ str(option.get(\"gender\")))\n",
    "\n",
    "print(\"First Person\")\n",
    "varFunc(\"Alice\", 234, age=18, gender=\"female\")\n",
    "\n",
    "print(\"\\nSecond Person\")\n",
    "#See, the order of argument age and gender is different now\n",
    "varFunc(\"Bob\", 204, gender=\"male\", age=21)\n",
    "\n",
    "print(\"\\nThird Person\")\n",
    "#We will not pass age as and argument\n",
    "varFunc(\"Trudy\", 204, gender=\"male\")"
   ]
  },
  {
   "cell_type": "markdown",
   "id": "584191a3-c0c9-4840-8c81-be1b29502923",
   "metadata": {},
   "source": [
    "**examples of built-in functions**"
   ]
  },
  {
   "cell_type": "code",
   "execution_count": 2,
   "id": "4f9082f5-ddf5-4f6c-846f-431e06470b81",
   "metadata": {
    "tags": []
   },
   "outputs": [
    {
     "name": "stdout",
     "output_type": "stream",
     "text": [
      "30\n"
     ]
    }
   ],
   "source": [
    "# 2. max() - Returns the largest item in an iterable or the largest of two or more arguments.\n",
    "numbers = [10, 20, 5, 30]\n",
    "print(max(numbers))  # Output: 30"
   ]
  },
  {
   "cell_type": "code",
   "execution_count": 3,
   "id": "7dcdaff1-6877-4e6d-9b8c-5b22067c464c",
   "metadata": {
    "tags": []
   },
   "outputs": [
    {
     "name": "stdout",
     "output_type": "stream",
     "text": [
      "5\n"
     ]
    }
   ],
   "source": [
    "# 3. min() - Returns the smallest item in an iterable or the smallest of two or more arguments.\n",
    "print(min(numbers))  # Output: 5"
   ]
  },
  {
   "cell_type": "code",
   "execution_count": 4,
   "id": "4d9f2b72-b9d9-4ece-9384-d970d6b70343",
   "metadata": {
    "tags": []
   },
   "outputs": [
    {
     "name": "stdout",
     "output_type": "stream",
     "text": [
      "5\n"
     ]
    }
   ],
   "source": [
    "# 4. abs() - Returns the absolute value of a number.\n",
    "num = -5\n",
    "print(abs(num))  # Output: 5"
   ]
  },
  {
   "cell_type": "code",
   "execution_count": 5,
   "id": "ed9d5d63-cb81-4dd7-8dbe-dce2c1e0a1e9",
   "metadata": {
    "tags": []
   },
   "outputs": [
    {
     "name": "stdout",
     "output_type": "stream",
     "text": [
      "65\n"
     ]
    }
   ],
   "source": [
    "# 5. sum() - Returns the sum of all elements in an iterable.\n",
    "print(sum(numbers))  # Output: 65"
   ]
  },
  {
   "cell_type": "code",
   "execution_count": 6,
   "id": "d5f1ad49-588d-4af7-b318-418d52714031",
   "metadata": {
    "tags": []
   },
   "outputs": [
    {
     "name": "stdout",
     "output_type": "stream",
     "text": [
      "3.14\n"
     ]
    }
   ],
   "source": [
    "# 6. round() - Rounds a number to the nearest integer or specified decimal places.\n",
    "pi = 3.14159\n",
    "print(round(pi, 2))  # Output: 3.14"
   ]
  },
  {
   "cell_type": "code",
   "execution_count": 7,
   "id": "64a223b9-c785-4f2c-95fa-86401dcd29a3",
   "metadata": {
    "tags": []
   },
   "outputs": [
    {
     "name": "stdout",
     "output_type": "stream",
     "text": [
      "[1, 1, 2, 3, 4, 5, 9]\n"
     ]
    }
   ],
   "source": [
    "# 7. sorted() - Returns a new sorted list from the elements of any iterable.\n",
    "unsorted_list = [3, 1, 4, 1, 5, 9, 2]\n",
    "sorted_list   = sorted(unsorted_list)\n",
    "print(sorted_list)  # Output: [1, 1, 2, 3, 4, 5, 9]"
   ]
  },
  {
   "cell_type": "code",
   "execution_count": 8,
   "id": "cde1b678-876d-4d0a-946c-bf835ddaa173",
   "metadata": {
    "tags": []
   },
   "outputs": [
    {
     "name": "stdout",
     "output_type": "stream",
     "text": [
      "[2, 9, 5, 1, 4, 1, 3]\n"
     ]
    }
   ],
   "source": [
    "# 8. reversed() - Returns an iterator that yields items in reverse order.\n",
    "reversed_list = list(reversed(unsorted_list))\n",
    "print(reversed_list)  # Output: [2, 9, 5, 1, 4, 1, 3]"
   ]
  },
  {
   "cell_type": "code",
   "execution_count": 9,
   "id": "5b217351-2165-4d1e-a1de-1790ac7e09be",
   "metadata": {
    "tags": []
   },
   "outputs": [
    {
     "name": "stdout",
     "output_type": "stream",
     "text": [
      "42\n"
     ]
    }
   ],
   "source": [
    "# 9. str() - Converts an object into a string.\n",
    "number = 42\n",
    "print(str(number))  # Output: '42'"
   ]
  },
  {
   "cell_type": "code",
   "execution_count": 10,
   "id": "6eafe869-c006-451c-baa4-0acd64715c52",
   "metadata": {
    "tags": []
   },
   "outputs": [
    {
     "name": "stdout",
     "output_type": "stream",
     "text": [
      "123\n"
     ]
    }
   ],
   "source": [
    "# 10. int() - Converts a string or number to an integer.\n",
    "num_str = \"123\"\n",
    "print(int(num_str))  # Output: 123"
   ]
  },
  {
   "cell_type": "code",
   "execution_count": 11,
   "id": "a6fc2704-b0cc-410a-8d18-e90fe83e990a",
   "metadata": {
    "tags": []
   },
   "outputs": [
    {
     "name": "stdout",
     "output_type": "stream",
     "text": [
      "3.14\n"
     ]
    }
   ],
   "source": [
    "# 11. float() - Converts a string or number to a floating-point number.\n",
    "pi_str = \"3.14\"\n",
    "print(float(pi_str))  # Output: 3.14"
   ]
  },
  {
   "cell_type": "code",
   "execution_count": 12,
   "id": "df9eb9ec-4ae8-4f40-b135-8e2990e678c5",
   "metadata": {
    "tags": []
   },
   "outputs": [
    {
     "name": "stdout",
     "output_type": "stream",
     "text": [
      "['P', 'y', 't', 'h', 'o', 'n']\n"
     ]
    }
   ],
   "source": [
    "# 12. list() - Converts an iterable to a list.\n",
    "text = \"Python\"\n",
    "print(list(text))  # Output: ['P', 'y', 't', 'h', 'o', 'n']\n"
   ]
  },
  {
   "cell_type": "code",
   "execution_count": 13,
   "id": "5bb516e8-2e7d-4fa1-8c4f-81165a024ad4",
   "metadata": {
    "tags": []
   },
   "outputs": [
    {
     "name": "stdout",
     "output_type": "stream",
     "text": [
      "('P', 'y', 't', 'h', 'o', 'n')\n"
     ]
    }
   ],
   "source": [
    "# 13. tuple() - Converts an iterable to a tuple.\n",
    "text_tuple = tuple(text)\n",
    "print(text_tuple)  # Output: ('P', 'y', 't', 'h', 'o', 'n')"
   ]
  },
  {
   "cell_type": "code",
   "execution_count": 14,
   "id": "4cefd2a4-e093-42a3-b119-cc3a7c92c789",
   "metadata": {
    "tags": []
   },
   "outputs": [
    {
     "name": "stdout",
     "output_type": "stream",
     "text": [
      "{1, 2, 3, 4, 5}\n"
     ]
    }
   ],
   "source": [
    "# 14. set() - Converts an iterable to a set, removing duplicate elements.\n",
    "numbers_with_duplicates = [1, 2, 2, 3, 3, 4, 5]\n",
    "unique_numbers = set(numbers_with_duplicates)\n",
    "print(unique_numbers)  # Output: {1, 2, 3, 4, 5}"
   ]
  },
  {
   "cell_type": "code",
   "execution_count": 15,
   "id": "56496b48-a81a-45a8-a0ba-09964a7aea90",
   "metadata": {
    "tags": []
   },
   "outputs": [
    {
     "name": "stdout",
     "output_type": "stream",
     "text": [
      "{'a': 1, 'b': 2, 'c': 3}\n"
     ]
    }
   ],
   "source": [
    "# 15. dict() - Creates a dictionary from an iterable of key-value pairs.\n",
    "key_value_pairs = [('a', 1), ('b', 2), ('c', 3)]\n",
    "dictionary = dict(key_value_pairs)\n",
    "print(dictionary)  # Output: {'a': 1, 'b': 2, 'c': 3}\n"
   ]
  },
  {
   "cell_type": "code",
   "execution_count": 16,
   "id": "583bc3a1-520e-47a3-bd5e-db5f76ccaa6e",
   "metadata": {
    "tags": []
   },
   "outputs": [
    {
     "name": "stdout",
     "output_type": "stream",
     "text": [
      "False\n"
     ]
    }
   ],
   "source": [
    "# 16. all() - Returns True if all elements in an iterable are true or if the iterable is empty.\n",
    "bool_list = [True, False, True, True]\n",
    "print(all(bool_list))  # Output: False"
   ]
  },
  {
   "cell_type": "code",
   "execution_count": 18,
   "id": "49b318c4-a698-4e6b-b665-7b1137cdc797",
   "metadata": {
    "tags": []
   },
   "outputs": [
    {
     "name": "stdout",
     "output_type": "stream",
     "text": [
      "True\n"
     ]
    }
   ],
   "source": [
    "# 17. any() - Returns True if any element in an iterable is true.\n",
    "print(any(bool_list))  # Output: True"
   ]
  },
  {
   "cell_type": "code",
   "execution_count": 19,
   "id": "ea33fbba-dad3-43a1-a6e8-9fa3662ecd8d",
   "metadata": {
    "tags": []
   },
   "outputs": [
    {
     "name": "stdout",
     "output_type": "stream",
     "text": [
      "[('Alice', 25), ('Bob', 30), ('Charlie', 22)]\n"
     ]
    }
   ],
   "source": [
    "# 20. zip() - Combines two or more iterables element-wise into a single iterator of tuples.\n",
    "names = ['Alice', 'Bob', 'Charlie']\n",
    "ages  = [25, 30, 22]\n",
    "zipped_data = zip(names, ages)\n",
    "print(list(zipped_data))  # Output: [('Alice', 25), ('Bob', 30), ('Charlie', 22)]"
   ]
  },
  {
   "cell_type": "code",
   "execution_count": 20,
   "id": "d79e1932-b37d-4ef3-9b85-13d6606e8fde",
   "metadata": {
    "tags": []
   },
   "outputs": [
    {
     "name": "stdout",
     "output_type": "stream",
     "text": [
      "Index: 0, Fruit: apple\n",
      "Index: 1, Fruit: banana\n",
      "Index: 2, Fruit: cherry\n"
     ]
    }
   ],
   "source": [
    "# 21. enumerate() - Returns an iterator of index-value pairs from an iterable.\n",
    "fruits = ['apple', 'banana', 'cherry']\n",
    "for index, fruit in enumerate(fruits):\n",
    "    print(f\"Index: {index}, Fruit: {fruit}\")"
   ]
  },
  {
   "cell_type": "code",
   "execution_count": 21,
   "id": "3203fb02-1504-46b2-bcac-e5820d5bacda",
   "metadata": {
    "tags": []
   },
   "outputs": [
    {
     "name": "stdout",
     "output_type": "stream",
     "text": [
      "[0, 1, 2, 3, 4]\n"
     ]
    }
   ],
   "source": [
    "# 22. range() - Generates a sequence of numbers within a specified range.\n",
    "nums_0_to_4 = range(5)\n",
    "print(list(nums_0_to_4))  # Output: [0, 1, 2, 3, 4]"
   ]
  },
  {
   "cell_type": "code",
   "execution_count": 22,
   "id": "3fff6aac-4219-4740-ae23-31557c4ac360",
   "metadata": {
    "tags": []
   },
   "outputs": [
    {
     "name": "stdout",
     "output_type": "stream",
     "text": [
      "My name is Alice and I am 30 years old.\n"
     ]
    }
   ],
   "source": [
    "# 27. format() - Formats a string by replacing placeholders with values.\n",
    "name = \"Alice\"\n",
    "age = 30\n",
    "print(\"My name is {} and I am {} years old.\".format(name, age))\n",
    "# Output: \"My name is Alice and I am 30 years old.\""
   ]
  },
  {
   "cell_type": "code",
   "execution_count": 23,
   "id": "28a21be3-7b93-4da4-ac9d-555253d3e6fe",
   "metadata": {
    "tags": []
   },
   "outputs": [
    {
     "name": "stdout",
     "output_type": "stream",
     "text": [
      "Hello, World!\n"
     ]
    }
   ],
   "source": [
    "# 28. strip() - Removes leading and trailing whitespaces from a string.\n",
    "text = \"   Hello, World!   \"\n",
    "print(text.strip())  # Output: \"Hello, World!\""
   ]
  },
  {
   "cell_type": "code",
   "execution_count": 24,
   "id": "595123dd-4cc2-41d4-9406-b74f85d2458a",
   "metadata": {
    "tags": []
   },
   "outputs": [
    {
     "name": "stdout",
     "output_type": "stream",
     "text": [
      "Hello-World-Python\n"
     ]
    }
   ],
   "source": [
    "# 29. join() - Joins elements of an iterable with a specified separator.\n",
    "words = ['Hello', 'World', 'Python']\n",
    "print('-'.join(words))  # Output: \"Hello-World-Python\""
   ]
  },
  {
   "cell_type": "code",
   "execution_count": 25,
   "id": "802d2d08-12e5-4309-bf1f-09bef2000231",
   "metadata": {
    "tags": []
   },
   "outputs": [
    {
     "name": "stdout",
     "output_type": "stream",
     "text": [
      "['Hello', 'World', 'Python']\n"
     ]
    }
   ],
   "source": [
    "# 30. split() - Splits a string into a list using a specified separator.\n",
    "text = \"Hello, World, Python\"\n",
    "print(text.split(', '))  # Output: ['Hello', 'World', 'Python']"
   ]
  },
  {
   "cell_type": "code",
   "execution_count": 26,
   "id": "5e314e33-90ae-4454-a2fa-d230970a7a2b",
   "metadata": {
    "tags": []
   },
   "outputs": [
    {
     "name": "stdout",
     "output_type": "stream",
     "text": [
      "Hello, World!\n"
     ]
    }
   ],
   "source": [
    "# 31. replace() - Replaces occurrences of a substring with another string.\n",
    "text = \"Hello, Python!\"\n",
    "new_text = text.replace(\"Python\", \"World\")\n",
    "print(new_text)  # Output: \"Hello, World!\""
   ]
  },
  {
   "cell_type": "code",
   "execution_count": 27,
   "id": "0086f084-6e03-446e-854c-79ab1054368c",
   "metadata": {
    "tags": []
   },
   "outputs": [
    {
     "name": "stdout",
     "output_type": "stream",
     "text": [
      "Hello, world!\n",
      "hello, world!\n",
      "HELLO, WORLD!\n"
     ]
    }
   ],
   "source": [
    "# 32. capitalize() - Capitalizes the first character of a string.\n",
    "text = \"hello, world!\"\n",
    "print(text.capitalize())  # Output: \"Hello, world!\"\n",
    "\n",
    "# 33. lower() - Converts a string to lowercase.\n",
    "print(text.lower())  # Output: \"hello, world!\"\n",
    "\n",
    "# 34. upper() - Converts a string to uppercase.\n",
    "print(text.upper())  # Output: \"HELLO, WORLD!\"\n"
   ]
  },
  {
   "cell_type": "code",
   "execution_count": 28,
   "id": "acda5972-2a4f-4176-9bfb-0c80ebb9aa3a",
   "metadata": {
    "tags": []
   },
   "outputs": [
    {
     "name": "stdout",
     "output_type": "stream",
     "text": [
      "True\n",
      "False\n"
     ]
    }
   ],
   "source": [
    "# 35. isdigit() - Returns True if all characters in a string are digits.\n",
    "print(\"123\".isdigit())  # Output: True\n",
    "print(\"abc\".isdigit())  # Output: False"
   ]
  },
  {
   "cell_type": "code",
   "execution_count": 29,
   "id": "d25f6e50-2dbb-4eb7-b938-94bd8e2a3979",
   "metadata": {
    "tags": []
   },
   "outputs": [
    {
     "name": "stdout",
     "output_type": "stream",
     "text": [
      "True\n",
      "False\n"
     ]
    }
   ],
   "source": [
    "# 36. isalpha() - Returns True if all characters in a string are alphabetic.\n",
    "print(\"abc\".isalpha())  # Output: True\n",
    "print(\"abc123\".isalpha())  # Output: False"
   ]
  },
  {
   "cell_type": "code",
   "execution_count": 30,
   "id": "bda1cd56-64e2-49be-a95f-493e9428fc33",
   "metadata": {
    "tags": []
   },
   "outputs": [
    {
     "name": "stdout",
     "output_type": "stream",
     "text": [
      "True\n",
      "False\n"
     ]
    }
   ],
   "source": [
    "# 37. isalnum() - Returns True if all characters in a string are alphanumeric.\n",
    "print(\"abc123\".isalnum())  # Output: True\n",
    "print(\"abc 123\".isalnum())  # Output: False"
   ]
  },
  {
   "cell_type": "code",
   "execution_count": 32,
   "id": "81cb4858-6dfe-4ac5-b7e9-9ade88f123d9",
   "metadata": {
    "tags": []
   },
   "outputs": [
    {
     "name": "stdout",
     "output_type": "stream",
     "text": [
      "True\n",
      "False\n"
     ]
    }
   ],
   "source": [
    "# 38. isspace() - Returns True if all characters in a string are whitespace characters.\n",
    "print(\"   \".isspace())  # Output: True\n",
    "print(\"abc \".isspace())  # Output: False"
   ]
  },
  {
   "cell_type": "code",
   "execution_count": 34,
   "id": "6aab720a-15d6-40fd-967f-9da87bc72a76",
   "metadata": {
    "tags": []
   },
   "outputs": [
    {
     "name": "stdout",
     "output_type": "stream",
     "text": [
      "True\n",
      "False\n",
      "True\n",
      "False\n"
     ]
    }
   ],
   "source": [
    "# 39. startswith() - Returns True if a string starts with a specified prefix.\n",
    "text = \"Hello, World!\"\n",
    "print(text.startswith(\"Hello\"))  # Output: True\n",
    "print(text.startswith(\"World\"))  # Output: False\n",
    "\n",
    "# 40. endswith() - Returns True if a string ends with a specified suffix.\n",
    "print(text.endswith(\"World!\"))  # Output: True\n",
    "print(text.endswith(\"Hello\"))  # Output: False"
   ]
  },
  {
   "cell_type": "code",
   "execution_count": 35,
   "id": "5261a723-5831-4d1e-8e6b-7151dfaf859e",
   "metadata": {
    "tags": []
   },
   "outputs": [
    {
     "name": "stdout",
     "output_type": "stream",
     "text": [
      "3\n"
     ]
    }
   ],
   "source": [
    "# 41. count() - Returns the number of occurrences of a substring in a string.\n",
    "text = \"Hello, Hello, Hello, World!\"\n",
    "print(text.count(\"Hello\"))  # Output: 3"
   ]
  },
  {
   "cell_type": "code",
   "execution_count": 36,
   "id": "473e1784-dedc-4918-8daf-aef99b21a016",
   "metadata": {
    "tags": []
   },
   "outputs": [
    {
     "name": "stdout",
     "output_type": "stream",
     "text": [
      "Hello, world!\n",
      "HELLO, WoRLd!\n"
     ]
    }
   ],
   "source": [
    "# 49. capitalize() - Converts the first character of a string to uppercase and the rest to lowercase.\n",
    "text = \"hello, wOrlD!\"\n",
    "print(text.capitalize())  # Output: \"Hello, world!\"\n",
    "\n",
    "# 50. swapcase() - Swaps the case of all characters in a string.\n",
    "print(text.swapcase())  # Output: \"HELLO, WoRLd!\""
   ]
  },
  {
   "cell_type": "code",
   "execution_count": null,
   "id": "fa567f7f-95fc-4f82-af41-529ce49b5991",
   "metadata": {},
   "outputs": [],
   "source": []
  },
  {
   "cell_type": "code",
   "execution_count": null,
   "id": "9d3b8a99-fec9-41af-b415-d6192a2709d2",
   "metadata": {},
   "outputs": [],
   "source": []
  }
 ],
 "metadata": {
  "kernelspec": {
   "display_name": "Python 3 (ipykernel)",
   "language": "python",
   "name": "python3"
  },
  "language_info": {
   "codemirror_mode": {
    "name": "ipython",
    "version": 3
   },
   "file_extension": ".py",
   "mimetype": "text/x-python",
   "name": "python",
   "nbconvert_exporter": "python",
   "pygments_lexer": "ipython3",
   "version": "3.11.4"
  }
 },
 "nbformat": 4,
 "nbformat_minor": 5
}
