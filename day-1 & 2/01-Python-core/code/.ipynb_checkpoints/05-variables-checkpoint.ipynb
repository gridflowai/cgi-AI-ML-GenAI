{
 "cells": [
  {
   "cell_type": "markdown",
   "id": "84b81cfe-9ba4-4241-840c-1bf750aa89fe",
   "metadata": {},
   "source": [
    "--------------------\n",
    "### working with variables\n",
    "----------------------\n",
    "\n",
    "In Python, creating a variable is a simple process. \n",
    "\n",
    "To define a variable, you provide a name for it and assign a value using the equal sign (=). \n",
    "\n",
    "Unlike some other programming languages, Python is dynamically typed, which means you don't need to explicitly specify the data type when creating a variable. \n",
    "\n",
    "The Python interpreter automatically determines the type based on the assigned value."
   ]
  },
  {
   "cell_type": "markdown",
   "id": "dedddbda-c0d8-4046-bddb-69bff03e0fa8",
   "metadata": {},
   "source": [
    "**Variable assignment**"
   ]
  },
  {
   "cell_type": "code",
   "execution_count": 1,
   "id": "2421682e-edbd-4a85-bdc8-e5fd45c381ee",
   "metadata": {
    "tags": []
   },
   "outputs": [],
   "source": [
    "age        = 30\n",
    "name       = \"John Doe\"\n",
    "is_student = True"
   ]
  },
  {
   "cell_type": "markdown",
   "id": "a27cec68-9522-4031-8c36-10011f019c32",
   "metadata": {},
   "source": [
    "**get memory address of variable**"
   ]
  },
  {
   "cell_type": "code",
   "execution_count": 2,
   "id": "06d7eb7c-9780-45d4-a2bb-7bf8e9f29c52",
   "metadata": {
    "tags": []
   },
   "outputs": [
    {
     "data": {
      "text/plain": [
       "8885928"
      ]
     },
     "execution_count": 2,
     "metadata": {},
     "output_type": "execute_result"
    }
   ],
   "source": [
    "id(age)"
   ]
  },
  {
   "cell_type": "markdown",
   "id": "61d4f493-d39b-46ce-9836-81309e15ab9c",
   "metadata": {
    "tags": []
   },
   "source": [
    "**Variables referring same address**"
   ]
  },
  {
   "cell_type": "code",
   "execution_count": 3,
   "id": "d87e99e4-4916-4041-81df-3873b294c6de",
   "metadata": {
    "tags": []
   },
   "outputs": [],
   "source": [
    "another_age = age"
   ]
  },
  {
   "cell_type": "code",
   "execution_count": 4,
   "id": "dc8db46f-f345-48e0-83fc-d3877cce984b",
   "metadata": {
    "tags": []
   },
   "outputs": [
    {
     "data": {
      "text/plain": [
       "(8885928, 8885928)"
      ]
     },
     "execution_count": 4,
     "metadata": {},
     "output_type": "execute_result"
    }
   ],
   "source": [
    "id(age), id(another_age)"
   ]
  },
  {
   "cell_type": "markdown",
   "id": "1437e022-c075-44d4-bd5b-ccd48c7c2cf6",
   "metadata": {},
   "source": [
    "but ..."
   ]
  },
  {
   "cell_type": "code",
   "execution_count": 5,
   "id": "14dfac9b-b99d-4adc-8bc9-f825239c396a",
   "metadata": {
    "tags": []
   },
   "outputs": [],
   "source": [
    "another_age = age\n",
    "age         = age -1"
   ]
  },
  {
   "cell_type": "code",
   "execution_count": 6,
   "id": "4c1518c9-dc1d-4f4b-8362-488703cfc388",
   "metadata": {
    "tags": []
   },
   "outputs": [
    {
     "data": {
      "text/plain": [
       "(8885896, 8885928)"
      ]
     },
     "execution_count": 6,
     "metadata": {},
     "output_type": "execute_result"
    }
   ],
   "source": [
    "id(age), id(another_age)"
   ]
  },
  {
   "cell_type": "markdown",
   "id": "411f1d5a-5d77-4845-90fa-aefea2e92c5e",
   "metadata": {},
   "source": [
    "**Variable Naming and Rules**"
   ]
  },
  {
   "cell_type": "markdown",
   "id": "927417df-f9c1-4935-bdeb-6032c8510613",
   "metadata": {},
   "source": [
    "`Valid characters`: Variable names can consist of letters (both lowercase and uppercase), digits, and underscores. They must start with a letter or an underscore but cannot begin with a digit.\n",
    "\n",
    "`Case sensitivity`: Python is case-sensitive, meaning variables named \"myVar\" and \"myvar\" are treated as different variables.\n",
    "\n",
    "`Reserved words`: You cannot use Python reserved words (keywords) as variable names. Examples of reserved words include \"if,\" \"else,\" \"while,\" \"for,\" \"def,\" \"class,\" \"import,\" and so on.\n",
    "\n",
    "`Length`: Variable names can be of any length, but it's best to keep them concise and descriptive.\n",
    "\n",
    "`Avoid special characters`: Special characters like spaces, hyphens, or punctuation marks are not allowed in variable names. Use `underscores` instead.\n",
    "\n",
    "`Meaningful names`: Choose descriptive and meaningful names for your variables to make the code more readable and maintainable"
   ]
  },
  {
   "cell_type": "markdown",
   "id": "448f4ecc-5e2d-4852-8704-23aea94c8605",
   "metadata": {},
   "source": [
    "`valid variable names`"
   ]
  },
  {
   "cell_type": "code",
   "execution_count": 2,
   "id": "5285da84-91ae-4ef2-8a3d-c9a9e044ef72",
   "metadata": {
    "tags": []
   },
   "outputs": [],
   "source": [
    "age          = 25\n",
    "name         = \"John\"\n",
    "is_student   = True\n",
    "counter_1    = 0\n",
    "total_amount = 100.50"
   ]
  },
  {
   "cell_type": "markdown",
   "id": "62628cd4-7d43-418a-9c62-a59be77d5fc1",
   "metadata": {},
   "source": [
    "`invalid variable names`"
   ]
  },
  {
   "cell_type": "code",
   "execution_count": null,
   "id": "0b05cbf5-97c7-4006-8487-4d2b5153c113",
   "metadata": {},
   "outputs": [],
   "source": [
    "# 1st_variable = 10     # Cannot start with a digit\n",
    "# for = \"loop\"          # \"for\" is a reserved word\n",
    "# my-variable = 5       # Hyphens are not allowed\n",
    "# total$ = 50           # Special characters ($) are not allowed"
   ]
  },
  {
   "cell_type": "code",
   "execution_count": null,
   "id": "fe86a1fd-ee90-4d78-92ee-3cc23defd425",
   "metadata": {},
   "outputs": [],
   "source": []
  }
 ],
 "metadata": {
  "kernelspec": {
   "display_name": "Python 3 (ipykernel)",
   "language": "python",
   "name": "python3"
  },
  "language_info": {
   "codemirror_mode": {
    "name": "ipython",
    "version": 3
   },
   "file_extension": ".py",
   "mimetype": "text/x-python",
   "name": "python",
   "nbconvert_exporter": "python",
   "pygments_lexer": "ipython3",
   "version": "3.11.4"
  }
 },
 "nbformat": 4,
 "nbformat_minor": 5
}
