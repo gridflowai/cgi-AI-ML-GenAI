{
 "cells": [
  {
   "cell_type": "code",
   "execution_count": 5,
   "metadata": {},
   "outputs": [],
   "source": [
    "from IPython.display import Image"
   ]
  },
  {
   "cell_type": "markdown",
   "metadata": {
    "jupyter": {
     "outputs_hidden": true
    }
   },
   "source": [
    "--------------------------\n",
    "#### An exception \n",
    "------------------------------\n",
    "- is an error that happens during execution of a program. \n",
    "- When that error occurs, Python generate an exception that can be handled, which avoids your program to crash.\n",
    "- Python has many built-in exceptions that are raised when your program encounters an error (something in the program goes wrong).\n",
    "\n",
    "- When these exceptions occur, the Python interpreter stops the current process and passes it to the calling process until it is handled. If not handled, the program will crash.\n",
    "\n",
    "    - For example, \n",
    "        - let us consider a program where we have a function A that calls function B, which in turn calls function C.\n",
    "        - If an exception occurs in function C but is not handled in C, the exception passes to B and then to A.\n",
    "\n",
    "        - If never handled, an error message is displayed and our program comes to a sudden unexpected halt."
   ]
  },
  {
   "cell_type": "markdown",
   "metadata": {
    "jupyter": {
     "outputs_hidden": true
    }
   },
   "source": [
    "##### Exception Errors\n",
    "\n",
    "- `IOError` - If the file cannot be opened.\n",
    "- `ImportError` - If python cannot find the module\n",
    "- `ValueError` - Raised when a built-in operation or function receives an argument that has the right type but an inappropriate value\n",
    "- `KeyboardInterrupt` - Raised when the user hits the interrupt key (normally Control-C or Delete)\n",
    "- `EOFError` - Raised when one of the built-in functions (input() or raw_input()) hits an end-of-file condition (EOF) without reading any data"
   ]
  },
  {
   "cell_type": "markdown",
   "metadata": {},
   "source": [
    "##### Exceptions versus Syntax Errors\n",
    "\n",
    "- `Syntax errors` occur when the parser detects an incorrect statement. Observe the following example:"
   ]
  },
  {
   "cell_type": "code",
   "execution_count": 3,
   "metadata": {
    "tags": []
   },
   "outputs": [
    {
     "ename": "SyntaxError",
     "evalue": "unmatched ')' (2679040640.py, line 1)",
     "output_type": "error",
     "traceback": [
      "\u001b[0;36m  Cell \u001b[0;32mIn[3], line 1\u001b[0;36m\u001b[0m\n\u001b[0;31m    print( 0 / 1 ))\u001b[0m\n\u001b[0m                  ^\u001b[0m\n\u001b[0;31mSyntaxError\u001b[0m\u001b[0;31m:\u001b[0m unmatched ')'\n"
     ]
    }
   ],
   "source": [
    " print( 0 / 1 ))"
   ]
  },
  {
   "cell_type": "markdown",
   "metadata": {},
   "source": [
    "The arrow indicates where the parser ran into the syntax error. In this example, there was one bracket too many. "
   ]
  },
  {
   "cell_type": "code",
   "execution_count": 2,
   "metadata": {},
   "outputs": [
    {
     "ename": "ZeroDivisionError",
     "evalue": "division by zero",
     "output_type": "error",
     "traceback": [
      "\u001b[1;31m---------------------------------------------------------------------------\u001b[0m",
      "\u001b[1;31mZeroDivisionError\u001b[0m                         Traceback (most recent call last)",
      "\u001b[1;32m<ipython-input-2-b7f65c155a3b>\u001b[0m in \u001b[0;36m<module>\u001b[1;34m\u001b[0m\n\u001b[1;32m----> 1\u001b[1;33m \u001b[0mprint\u001b[0m\u001b[1;33m(\u001b[0m \u001b[1;36m0\u001b[0m \u001b[1;33m/\u001b[0m \u001b[1;36m0\u001b[0m\u001b[1;33m)\u001b[0m\u001b[1;33m\u001b[0m\u001b[1;33m\u001b[0m\u001b[0m\n\u001b[0m",
      "\u001b[1;31mZeroDivisionError\u001b[0m: division by zero"
     ]
    }
   ],
   "source": [
    "print( 0 / 0)"
   ]
  },
  {
   "cell_type": "markdown",
   "metadata": {},
   "source": [
    "- This time, you ran into an `exception error`. \n",
    "\n",
    "- This type of error occurs whenever syntactically correct Python code results in an error. \n",
    "\n",
    "- The last line of the message indicated what `type of exception` error you ran into.\n",
    "\n",
    "- Instead of showing the message `exception error`, Python details what `type of exception error` was encountered. \n",
    "\n",
    "    - In this case, it was a `ZeroDivisionError`. \n",
    "    \n",
    "- Python comes with various `built-in exceptions` as well as the possibility to create `self-defined` exceptions."
   ]
  },
  {
   "cell_type": "markdown",
   "metadata": {},
   "source": [
    "##### Raising an Exception\n",
    "\n",
    "- We can use `raise` to throw an exception if a condition occurs."
   ]
  },
  {
   "cell_type": "code",
   "execution_count": 23,
   "metadata": {},
   "outputs": [
    {
     "data": {
      "image/png": "[encoded data removed]",
      "text/plain": [
       "<IPython.core.display.Image object>"
      ]
     },
     "execution_count": 23,
     "metadata": {
      "image/png": {
       "width": 800
      }
     },
     "output_type": "execute_result"
    }
   ],
   "source": [
    "Image('excp-00.PNG', width=800)"
   ]
  },
  {
   "cell_type": "code",
   "execution_count": 4,
   "metadata": {
    "tags": []
   },
   "outputs": [
    {
     "ename": "Exception",
     "evalue": "x should not exceed 5. The value of x was: 10",
     "output_type": "error",
     "traceback": [
      "\u001b[0;31m---------------------------------------------------------------------------\u001b[0m",
      "\u001b[0;31mException\u001b[0m                                 Traceback (most recent call last)",
      "Cell \u001b[0;32mIn[4], line 4\u001b[0m\n\u001b[1;32m      1\u001b[0m x \u001b[38;5;241m=\u001b[39m \u001b[38;5;241m10\u001b[39m\n\u001b[1;32m      3\u001b[0m \u001b[38;5;28;01mif\u001b[39;00m x \u001b[38;5;241m>\u001b[39m \u001b[38;5;241m5\u001b[39m:\n\u001b[0;32m----> 4\u001b[0m     \u001b[38;5;28;01mraise\u001b[39;00m \u001b[38;5;167;01mException\u001b[39;00m(\u001b[38;5;124m'\u001b[39m\u001b[38;5;124mx should not exceed 5. The value of x was: \u001b[39m\u001b[38;5;132;01m{}\u001b[39;00m\u001b[38;5;124m'\u001b[39m\u001b[38;5;241m.\u001b[39mformat(x))\n",
      "\u001b[0;31mException\u001b[0m: x should not exceed 5. The value of x was: 10"
     ]
    }
   ],
   "source": [
    "x = 10\n",
    "\n",
    "if x > 5:\n",
    "    raise Exception('x should not exceed 5. The value of x was: {}'.format(x))"
   ]
  },
  {
   "cell_type": "markdown",
   "metadata": {},
   "source": [
    "The program comes to a `halt` and displays our exception to screen, offering clues about what went wrong."
   ]
  },
  {
   "cell_type": "markdown",
   "metadata": {},
   "source": [
    "##### The AssertionError Exception\n",
    "- Instead of waiting for a program to crash midway, you can also start by making an `assertion` in Python. \n",
    "\n",
    "- We `assert` that a certain condition is met. \n",
    "    - If the `condition turns out to be True`, the program can `continue`. \n",
    "    - If the `condition turns out to be False`, you can have the program throw an `AssertionError exception`."
   ]
  },
  {
   "cell_type": "code",
   "execution_count": 6,
   "metadata": {},
   "outputs": [
    {
     "data": {
      "image/png": "[encoded data removed]",
      "text/plain": [
       "<IPython.core.display.Image object>"
      ]
     },
     "execution_count": 6,
     "metadata": {
      "image/png": {
       "width": 800
      }
     },
     "output_type": "execute_result"
    }
   ],
   "source": [
    "Image('excp-01.PNG', width=800)"
   ]
  },
  {
   "cell_type": "code",
   "execution_count": 5,
   "metadata": {
    "tags": []
   },
   "outputs": [],
   "source": [
    "import sys"
   ]
  },
  {
   "cell_type": "code",
   "execution_count": 6,
   "metadata": {
    "tags": []
   },
   "outputs": [
    {
     "data": {
      "text/plain": [
       "'linux'"
      ]
     },
     "execution_count": 6,
     "metadata": {},
     "output_type": "execute_result"
    }
   ],
   "source": [
    "sys.platform"
   ]
  },
  {
   "cell_type": "code",
   "execution_count": 10,
   "metadata": {
    "tags": []
   },
   "outputs": [],
   "source": [
    "assert ('linux' in sys.platform), \"This code runs on linux only.\""
   ]
  },
  {
   "cell_type": "markdown",
   "metadata": {},
   "source": [
    "##### The try and except Block: Handling Exceptions\n",
    "\n",
    "- The `try and except` block in Python is used to `catch and handle` exceptions. \n",
    "\n",
    "- Python executes code following the `try` statement as a “normal” part of the program. \n",
    "\n",
    "- The code that follows the `except` statement is the program’s response to any exceptions in the preceding try clause."
   ]
  },
  {
   "cell_type": "code",
   "execution_count": 29,
   "metadata": {},
   "outputs": [
    {
     "data": {
      "image/png": "[encoded data removed]",
      "text/plain": [
       "<IPython.core.display.Image object>"
      ]
     },
     "execution_count": 29,
     "metadata": {
      "image/png": {
       "width": 800
      }
     },
     "output_type": "execute_result"
    }
   ],
   "source": [
    "Image('excp-02.PNG', width=800)"
   ]
  },
  {
   "cell_type": "code",
   "execution_count": 7,
   "metadata": {},
   "outputs": [],
   "source": [
    "# The try and except Block: Handling Exceptions\n",
    "\n",
    "try:\n",
    "    pass\n",
    "\n",
    "\n",
    "except:\n",
    "    \n",
    "    \n",
    "    '''Exception handling'''"
   ]
  },
  {
   "cell_type": "markdown",
   "metadata": {
    "jupyter": {
     "outputs_hidden": true
    }
   },
   "source": [
    "##### How does it work?\n",
    "\n",
    "- The error handling is done through the use of exceptions that are caught in try blocks and handled in except blocks. If an error is encountered, a try block code execution is stopped and transferred down to the except \n",
    "block. \n",
    "\n",
    "- In addition to using an `except block` after the `try block`, you can also use the `finally block`. \n",
    "\n",
    "    - The code in the `finally block` will be executed regardless of whether an exception occurs."
   ]
  },
  {
   "cell_type": "markdown",
   "metadata": {},
   "source": [
    "**Example 1:**"
   ]
  },
  {
   "cell_type": "code",
   "execution_count": 15,
   "metadata": {
    "tags": []
   },
   "outputs": [],
   "source": [
    "def linux_interaction():\n",
    "    assert ('win32' in sys.platform), \"Function can only run on win32 systems.\"\n",
    "    print('Doing well...something.')"
   ]
  },
  {
   "cell_type": "markdown",
   "metadata": {},
   "source": [
    "The linux_interaction() can only run on a Linux system. \n",
    "\n",
    "The assert in this function will `throw an AssertionError exception` if you call it on an operating system `other then Linux`."
   ]
  },
  {
   "cell_type": "code",
   "execution_count": 19,
   "metadata": {
    "tags": []
   },
   "outputs": [
    {
     "name": "stdout",
     "output_type": "stream",
     "text": [
      "We are not on Linux, Found some error\n"
     ]
    }
   ],
   "source": [
    "try:\n",
    "    linux_interaction()\n",
    "except:\n",
    "    print('We are not on Linux, Found some error')"
   ]
  },
  {
   "cell_type": "code",
   "execution_count": 20,
   "metadata": {
    "tags": []
   },
   "outputs": [
    {
     "name": "stdout",
     "output_type": "stream",
     "text": [
      "Function can only run on win32 systems.\n",
      "The linux_interaction() function was not executed\n"
     ]
    }
   ],
   "source": [
    "try:\n",
    "    linux_interaction()\n",
    "except AssertionError as error:\n",
    "    print(error)\n",
    "    print('The linux_interaction() function was not executed')"
   ]
  },
  {
   "cell_type": "markdown",
   "metadata": {},
   "source": [
    "**Example 2:** another example where you open a file and use a built-in exception:"
   ]
  },
  {
   "cell_type": "code",
   "execution_count": 21,
   "metadata": {
    "tags": []
   },
   "outputs": [
    {
     "name": "stdout",
     "output_type": "stream",
     "text": [
      "Could not open file.log\n"
     ]
    }
   ],
   "source": [
    "try:\n",
    "    with open('test1.csv') as file:\n",
    "        read_data = file.read()\n",
    "except:\n",
    "    print('Could not open file.log')"
   ]
  },
  {
   "cell_type": "code",
   "execution_count": 22,
   "metadata": {
    "tags": []
   },
   "outputs": [
    {
     "name": "stdout",
     "output_type": "stream",
     "text": [
      "[Errno 2] No such file or directory: 'file.log'\n"
     ]
    }
   ],
   "source": [
    "try:\n",
    "    with open('file.log') as file:\n",
    "        read_data = file.read()\n",
    "except FileNotFoundError as fnf_error:\n",
    "    print(fnf_error)"
   ]
  },
  {
   "cell_type": "markdown",
   "metadata": {},
   "source": [
    "**Example 3:** Look at the following code. Here, you first call the linux_interaction() function and then try to open a file:"
   ]
  },
  {
   "cell_type": "code",
   "execution_count": 23,
   "metadata": {
    "tags": []
   },
   "outputs": [],
   "source": [
    "def linux_interaction():\n",
    "    assert ('linux' in sys.platform), \"Function can only run on Linux systems.\"\n",
    "    print('Doing something.')"
   ]
  },
  {
   "cell_type": "code",
   "execution_count": 24,
   "metadata": {
    "tags": []
   },
   "outputs": [
    {
     "name": "stdout",
     "output_type": "stream",
     "text": [
      "Doing something.\n",
      "[Errno 2] No such file or directory: 'file.log'\n"
     ]
    }
   ],
   "source": [
    "try:\n",
    "    linux_interaction()\n",
    "    with open('file.log') as file:\n",
    "        read_data = file.read()\n",
    "except FileNotFoundError as fnf_error:\n",
    "    print(fnf_error)\n",
    "except AssertionError as error:\n",
    "    print(error)\n",
    "    print('Linux linux_interaction() function was not executed')"
   ]
  },
  {
   "cell_type": "markdown",
   "metadata": {},
   "source": [
    "Inside the `try` clause, you ran into an `exception` immediately and did not get to the part where you attempt to open file.log. "
   ]
  },
  {
   "cell_type": "markdown",
   "metadata": {},
   "source": [
    "##### key takeaways:\n",
    "\n",
    "- A `try` clause is executed up until the point where the first exception is encountered.\n",
    "- Inside the `except clause`, or the `exception handler`, you determine how the program responds to the exception.\n",
    "- You can anticipate `multiple exceptions` and differentiate how the program should respond to them.\n",
    "- `Avoid using bare except clauses`. "
   ]
  },
  {
   "cell_type": "markdown",
   "metadata": {},
   "source": [
    "##### The `else` Clause\n",
    "In Python, using the else statement, you can instruct a program to execute a certain block of code only in the absence of exceptions."
   ]
  },
  {
   "cell_type": "code",
   "execution_count": 30,
   "metadata": {},
   "outputs": [
    {
     "data": {
      "image/png": "[encoded data removed]",
      "text/plain": [
       "<IPython.core.display.Image object>"
      ]
     },
     "execution_count": 30,
     "metadata": {
      "image/png": {
       "width": 800
      }
     },
     "output_type": "execute_result"
    }
   ],
   "source": [
    "Image('excp-03.PNG', width=800)"
   ]
  },
  {
   "cell_type": "code",
   "execution_count": 25,
   "metadata": {
    "tags": []
   },
   "outputs": [],
   "source": [
    "def win_interaction():\n",
    "    assert ('win32' in sys.platform), \"Function can only run on Windows systems.\"\n",
    "    print('Doing something.')"
   ]
  },
  {
   "cell_type": "code",
   "execution_count": 26,
   "metadata": {
    "tags": []
   },
   "outputs": [
    {
     "name": "stdout",
     "output_type": "stream",
     "text": [
      "Function can only run on Windows systems.\n"
     ]
    }
   ],
   "source": [
    "try:\n",
    "    win_interaction()\n",
    "except AssertionError as error:\n",
    "    print(error)\n",
    "else:\n",
    "    print('Executing the else clause.')"
   ]
  },
  {
   "cell_type": "markdown",
   "metadata": {},
   "source": [
    "> Because the program did not run into any exceptions, the else clause was executed."
   ]
  },
  {
   "cell_type": "markdown",
   "metadata": {},
   "source": [
    "**Example 4:** You can also try to run code inside the else clause and catch possible exceptions there as well:"
   ]
  },
  {
   "cell_type": "code",
   "execution_count": 20,
   "metadata": {},
   "outputs": [
    {
     "name": "stdout",
     "output_type": "stream",
     "text": [
      "Doing something.\n",
      "Executing the else block ... \n",
      "[Errno 2] No such file or directory: 'file.log'\n"
     ]
    }
   ],
   "source": [
    "try:\n",
    "    win_interaction()\n",
    "except AssertionError as error:\n",
    "    print(error)\n",
    "else:\n",
    "    try:\n",
    "        print('Executing the else block ... ')\n",
    "        with open('file.log') as file:\n",
    "            read_data = file.read()\n",
    "    except FileNotFoundError as fnf_error:\n",
    "        print(fnf_error)"
   ]
  },
  {
   "cell_type": "markdown",
   "metadata": {},
   "source": [
    "##### Using `finally` clause\n",
    "Imagine that you always had to implement some sort of action to clean up after executing your code. Python enables you to do so using the finally clause."
   ]
  },
  {
   "cell_type": "code",
   "execution_count": 36,
   "metadata": {},
   "outputs": [
    {
     "data": {
      "image/png": "[encoded data removed]",
      "text/plain": [
       "<IPython.core.display.Image object>"
      ]
     },
     "execution_count": 36,
     "metadata": {
      "image/png": {
       "width": 800
      }
     },
     "output_type": "execute_result"
    }
   ],
   "source": [
    "Image('excp-04.PNG', width=800)"
   ]
  },
  {
   "cell_type": "code",
   "execution_count": 27,
   "metadata": {
    "tags": []
   },
   "outputs": [
    {
     "name": "stdout",
     "output_type": "stream",
     "text": [
      "Doing something.\n",
      "[Errno 2] No such file or directory: 'file.log'\n",
      "Cleaning up, irrespective of any exceptions.\n"
     ]
    }
   ],
   "source": [
    "try:\n",
    "    linux_interaction()\n",
    "except AssertionError as error:\n",
    "    print(error)\n",
    "else:\n",
    "    try:\n",
    "        with open('file.log') as file:\n",
    "            read_data = file.read()\n",
    "    except FileNotFoundError as fnf_error:\n",
    "        print(fnf_error)\n",
    "finally:\n",
    "    print('Cleaning up, irrespective of any exceptions.')"
   ]
  },
  {
   "cell_type": "markdown",
   "metadata": {},
   "source": [
    "##### Examples of built-in exceptions"
   ]
  },
  {
   "cell_type": "code",
   "execution_count": null,
   "metadata": {
    "collapsed": true,
    "jupyter": {
     "outputs_hidden": true
    }
   },
   "outputs": [],
   "source": [
    "# AssertionError\tRaised when assert statement fails.\n",
    "# AttributeError\tRaised when attribute assignment or reference fails.\n",
    "# EOFError\tRaised when the input() functions hits end-of-file condition.\n",
    "# FloatingPointError\tRaised when a floating point operation fails.\n",
    "# GeneratorExit\tRaise when a generator's close() method is called.\n",
    "# ImportError\tRaised when the imported module is not found.\n",
    "# IndexError\tRaised when index of a sequence is out of range.\n",
    "# KeyError\tRaised when a key is not found in a dictionary.\n",
    "# KeyboardInterrupt\tRaised when the user hits interrupt key (Ctrl+c or delete).\n",
    "# MemoryError\tRaised when an operation runs out of memory.\n",
    "# NameError\tRaised when a variable is not found in local or global scope.\n",
    "# NotImplementedError\tRaised by abstract methods.\n",
    "# OSError\tRaised when system operation causes system related error.\n",
    "# OverflowError\tRaised when result of an arithmetic operation is too large to be represented.\n",
    "# ReferenceError\tRaised when a weak reference proxy is used to access a garbage collected referent.\n",
    "# RuntimeError\tRaised when an error does not fall under any other category.\n",
    "# StopIteration\tRaised by next() function to indicate that there is no further item to be returned by iterator.\n",
    "# SyntaxError\tRaised by parser when syntax error is encountered.\n",
    "# IndentationError\tRaised when there is incorrect indentation.\n",
    "# TabError\tRaised when indentation consists of inconsistent tabs and spaces.\n",
    "# SystemError\tRaised when interpreter detects internal error.\n",
    "# SystemExit\tRaised by sys.exit() function.\n",
    "# TypeError\tRaised when a function or operation is applied to an object of incorrect type.\n",
    "# UnboundLocalError\tRaised when a reference is made to a local variable in a function or method, but no value has been bound to that variable.\n",
    "# UnicodeError\tRaised when a Unicode-related encoding or decoding error occurs.\n",
    "# UnicodeEncodeError\tRaised when a Unicode-related error occurs during encoding.\n",
    "# UnicodeDecodeError\tRaised when a Unicode-related error occurs during decoding.\n",
    "# UnicodeTranslateError\tRaised when a Unicode-related error occurs during translating.\n",
    "# ValueError\tRaised when a function gets argument of correct type but improper value.\n",
    "# ZeroDivisionError\tRaised when second operand of division or modulo operation is zero."
   ]
  },
  {
   "cell_type": "markdown",
   "metadata": {},
   "source": [
    "#### Summarize"
   ]
  },
  {
   "cell_type": "code",
   "execution_count": 29,
   "metadata": {
    "tags": []
   },
   "outputs": [
    {
     "name": "stdin",
     "output_type": "stream",
     "text": [
      "Enter a number:  9\n",
      "Enter another number:  jjj\n"
     ]
    },
    {
     "name": "stdout",
     "output_type": "stream",
     "text": [
      "Error: Invalid input. Please enter valid numbers.\n"
     ]
    }
   ],
   "source": [
    "try:\n",
    "    num1 = int(input(\"Enter a number: \"))\n",
    "    num2 = int(input(\"Enter another number: \"))\n",
    "    result = num1 / num2\n",
    "    print(\"Result:\", result)\n",
    "except ZeroDivisionError:\n",
    "    print(\"Error: Cannot divide by zero.\")\n",
    "except ValueError:\n",
    "    print(\"Error: Invalid input. Please enter valid numbers.\")\n"
   ]
  },
  {
   "cell_type": "code",
   "execution_count": 30,
   "metadata": {
    "tags": []
   },
   "outputs": [
    {
     "name": "stdin",
     "output_type": "stream",
     "text": [
      "Enter the file path:  78\n"
     ]
    },
    {
     "name": "stdout",
     "output_type": "stream",
     "text": [
      "Error: The specified file does not exist.\n"
     ]
    }
   ],
   "source": [
    "try:\n",
    "    file_path = input(\"Enter the file path: \")\n",
    "    with open(file_path, 'r') as file:\n",
    "        data = file.read()\n",
    "    print(\"File content:\", data)\n",
    "except FileNotFoundError:\n",
    "    print(\"Error: The specified file does not exist.\")\n",
    "except PermissionError:\n",
    "    print(\"Error: Permission denied. You don't have access to this file.\")\n",
    "except Exception as e:\n",
    "    print(\"Error:\", e)\n"
   ]
  },
  {
   "cell_type": "code",
   "execution_count": 4,
   "metadata": {
    "tags": []
   },
   "outputs": [
    {
     "name": "stdin",
     "output_type": "stream",
     "text": [
      "Enter a number:  12\n"
     ]
    },
    {
     "name": "stdout",
     "output_type": "stream",
     "text": [
      "Result: 0.8333333333333334\n",
      "This block will always execute.\n"
     ]
    }
   ],
   "source": [
    "try:\n",
    "    num = int(input(\"Enter a number: \"))\n",
    "    result = 10 / num\n",
    "    print(\"Result:\", result)\n",
    "except ZeroDivisionError:\n",
    "    print(\"Error: Cannot divide by zero.\")\n",
    "finally:\n",
    "    print(\"This block will always execute.\")\n"
   ]
  },
  {
   "cell_type": "code",
   "execution_count": 5,
   "metadata": {
    "tags": []
   },
   "outputs": [
    {
     "name": "stdin",
     "output_type": "stream",
     "text": [
      "Enter a number:  23\n"
     ]
    },
    {
     "name": "stdout",
     "output_type": "stream",
     "text": [
      "Square root: 4.795831523312719\n"
     ]
    }
   ],
   "source": [
    "def calculate_square_root(num):\n",
    "    if num < 0:\n",
    "        raise ValueError(\"Cannot calculate square root of a negative number.\")\n",
    "    return num ** 0.5\n",
    "\n",
    "try:\n",
    "    num = float(input(\"Enter a number: \"))\n",
    "    result = calculate_square_root(num)\n",
    "    print(\"Square root:\", result)\n",
    "except ValueError as ve:\n",
    "    print(\"Error:\", ve)\n"
   ]
  },
  {
   "cell_type": "code",
   "execution_count": null,
   "metadata": {},
   "outputs": [],
   "source": []
  }
 ],
 "metadata": {
  "kernelspec": {
   "display_name": "Python 3 (ipykernel)",
   "language": "python",
   "name": "python3"
  },
  "language_info": {
   "codemirror_mode": {
    "name": "ipython",
    "version": 3
   },
   "file_extension": ".py",
   "mimetype": "text/x-python",
   "name": "python",
   "nbconvert_exporter": "python",
   "pygments_lexer": "ipython3",
   "version": "3.11.3"
  }
 },
 "nbformat": 4,
 "nbformat_minor": 4
}
