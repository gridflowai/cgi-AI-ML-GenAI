{
 "cells": [
  {
   "cell_type": "markdown",
   "metadata": {},
   "source": [
    "----------------\n",
    "#### isinstance()\n",
    "-----------------\n",
    "- The `isinstance()` function checks if the object (first argument) is an instance or subclass of classinfo class (second argument).\n",
    "\n",
    "- The `syntax` of isinstance() is:\n",
    "\n",
    "    - isinstance(object, classinfo)\n",
    "    \n",
    "- `isinstance() Parameters`\n",
    "    - isinstance() takes two parameters:\n",
    "    \n",
    "        - object - object to be checked\n",
    "        - classinfo - class, type, or tuple of classes and types"
   ]
  },
  {
   "cell_type": "code",
   "execution_count": 1,
   "metadata": {},
   "outputs": [],
   "source": [
    "class Foo:\n",
    "    a = 5"
   ]
  },
  {
   "cell_type": "code",
   "execution_count": 3,
   "metadata": {
    "jupyter": {
     "source_hidden": true
    }
   },
   "outputs": [
    {
     "name": "stdout",
     "output_type": "stream",
     "text": [
      "True\n",
      "False\n",
      "True\n"
     ]
    }
   ],
   "source": [
    "fooInstance = Foo()\n",
    "\n",
    "print(isinstance(fooInstance, Foo))\n",
    "print(isinstance(fooInstance, (list, tuple)))\n",
    "print(isinstance(fooInstance, (list, tuple, Foo)))"
   ]
  },
  {
   "cell_type": "code",
   "execution_count": 4,
   "metadata": {},
   "outputs": [
    {
     "name": "stdout",
     "output_type": "stream",
     "text": [
      "[1, 2, 3] instance of list? True\n",
      "[1, 2, 3] instance of dict? False\n",
      "[1, 2, 3] instance of dict or list? True\n",
      "5 instance of list? False\n",
      "5 instance of int? True\n"
     ]
    }
   ],
   "source": [
    "numbers = [1, 2, 3]\n",
    "\n",
    "result = isinstance(numbers, list)\n",
    "print(numbers,'instance of list?', result)\n",
    "\n",
    "result = isinstance(numbers, dict)\n",
    "print(numbers,'instance of dict?', result)\n",
    "\n",
    "result = isinstance(numbers, (dict, list))\n",
    "print(numbers,'instance of dict or list?', result)\n",
    "\n",
    "number = 5\n",
    "\n",
    "result = isinstance(number, list)\n",
    "print(number,'instance of list?', result)\n",
    "\n",
    "result = isinstance(number, int)\n",
    "print(number,'instance of int?', result)"
   ]
  },
  {
   "cell_type": "markdown",
   "metadata": {},
   "source": [
    "Example ...."
   ]
  },
  {
   "cell_type": "code",
   "execution_count": 5,
   "metadata": {},
   "outputs": [
    {
     "name": "stdout",
     "output_type": "stream",
     "text": [
      "Yes\n"
     ]
    }
   ],
   "source": [
    "num = 90\n",
    "result = isinstance(num, int)\n",
    "if result:\n",
    "    print(\"Yes\")\n",
    "else:\n",
    "    print(\"No\")"
   ]
  },
  {
   "cell_type": "markdown",
   "metadata": {},
   "source": [
    "Example ..."
   ]
  },
  {
   "cell_type": "code",
   "execution_count": 6,
   "metadata": {},
   "outputs": [
    {
     "name": "stdout",
     "output_type": "stream",
     "text": [
      "False\n",
      "True\n"
     ]
    }
   ],
   "source": [
    "var = None\n",
    "\n",
    "# empty but not None\n",
    "s1 = ''\n",
    "\n",
    "print(isinstance(var, float)) # Output False\n",
    "print(isinstance(s1, str))    # Output True"
   ]
  },
  {
   "cell_type": "markdown",
   "metadata": {},
   "source": [
    "Example ..."
   ]
  },
  {
   "cell_type": "code",
   "execution_count": 7,
   "metadata": {},
   "outputs": [
    {
     "name": "stdout",
     "output_type": "stream",
     "text": [
      "variable 80 is instance of numeric type\n",
      "variable 55.7 is instance of numeric type\n",
      "variable 20 is not instance of numeric type\n"
     ]
    }
   ],
   "source": [
    "def check_number(var):\n",
    "    if isinstance(var, (int, float)):\n",
    "        print('variable', var, 'is instance of numeric type')\n",
    "    else:\n",
    "        print('variable', var, 'is not instance of numeric type')\n",
    "\n",
    "num1 = 80\n",
    "check_number(num1) # Output variable 80 is instance of numeric type\n",
    "\n",
    "num2 = 55.70\n",
    "check_number(num2) # Output variable 55.7 is instance of numeric type\n",
    "\n",
    "num3 = '20'\n",
    "check_number(num3) # Output variable '20' is not instance of numeric type"
   ]
  },
  {
   "cell_type": "markdown",
   "metadata": {},
   "source": [
    "Example ..."
   ]
  },
  {
   "cell_type": "code",
   "execution_count": 8,
   "metadata": {},
   "outputs": [
    {
     "name": "stdout",
     "output_type": "stream",
     "text": [
      "True\n",
      "False\n"
     ]
    }
   ],
   "source": [
    "class Employee:\n",
    "\n",
    "    def __init__(self, name, salary):\n",
    "        self.name   = name\n",
    "        self.salary = salary\n",
    "\n",
    "class Person:\n",
    "\n",
    "    def __init__(self, name, sex):\n",
    "        self.name = name\n",
    "        self.sex  = sex\n",
    "\n",
    "emp = Employee(\"Emma\", 11000)\n",
    "per = Person(\"Brent\", \"male\")\n",
    "\n",
    "# Checking if a emp object is an instance of Employee\n",
    "print(isinstance(emp, Employee)) # Output True\n",
    "\n",
    "# Checking if the per object is an instance of Employee\n",
    "print(isinstance(per, Employee)) # Output False"
   ]
  },
  {
   "cell_type": "markdown",
   "metadata": {},
   "source": [
    "Example ... with inheritance"
   ]
  },
  {
   "cell_type": "code",
   "execution_count": 9,
   "metadata": {},
   "outputs": [
    {
     "name": "stdout",
     "output_type": "stream",
     "text": [
      "True\n",
      "True\n"
     ]
    }
   ],
   "source": [
    "class Developer(object):\n",
    "\n",
    "    # Constructor\n",
    "    def __init__(self, name):\n",
    "        self.name = name\n",
    "\n",
    "    def display(self):\n",
    "        print(\"Developer:\", self.name, \"-\")\n",
    "\n",
    "class PythonDeveloper(Developer):\n",
    "\n",
    "    # Constructor\n",
    "    def __init__(self, name, language):\n",
    "        self.name     = name\n",
    "        self.language = language\n",
    "\n",
    "    def display(self):\n",
    "        print(\"Python Developer:\", self.name, \"language:\", self.language, \"-\")\n",
    "\n",
    "# Object of PythonDeveloper\n",
    "dev = PythonDeveloper(\"Eric\", \"Python\")\n",
    "\n",
    "# is PythonDeveloper object an instance of a PythonDeveloper Class\n",
    "print(isinstance(dev, PythonDeveloper)) # Output True\n",
    "\n",
    "# is python_dev object an instance of a Developer Class\n",
    "print(isinstance(dev, Developer))      # Output True"
   ]
  },
  {
   "cell_type": "code",
   "execution_count": null,
   "metadata": {},
   "outputs": [],
   "source": []
  }
 ],
 "metadata": {
  "kernelspec": {
   "display_name": "Python 3",
   "language": "python",
   "name": "python3"
  },
  "language_info": {
   "codemirror_mode": {
    "name": "ipython",
    "version": 3
   },
   "file_extension": ".py",
   "mimetype": "text/x-python",
   "name": "python",
   "nbconvert_exporter": "python",
   "pygments_lexer": "ipython3",
   "version": "3.8.5"
  }
 },
 "nbformat": 4,
 "nbformat_minor": 4
}
