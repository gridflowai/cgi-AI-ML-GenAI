{
 "cells": [
  {
   "cell_type": "code",
   "execution_count": 1,
   "id": "81c4af91-c978-45e4-813a-e51d14c360a4",
   "metadata": {
    "tags": []
   },
   "outputs": [
    {
     "name": "stderr",
     "output_type": "stream",
     "text": [
      "DEBUG:my_logger:This is a debug message\n",
      "INFO:my_logger:This is an info message\n",
      "WARNING:my_logger:This is a warning message\n",
      "ERROR:my_logger:This is an error message\n",
      "CRITICAL:my_logger:This is a critical message\n"
     ]
    }
   ],
   "source": [
    "import logging\n",
    "\n",
    "# Configure logging settings\n",
    "logging.basicConfig(level=logging.DEBUG)\n",
    "\n",
    "# Create a logger\n",
    "logger = logging.getLogger('my_logger')\n",
    "\n",
    "# Save logs to a file\n",
    "file_handler = logging.FileHandler('app.log')\n",
    "formatter    = logging.Formatter('%(asctime)s - %(levelname)s - %(message)s')\n",
    "file_handler.setFormatter(formatter)\n",
    "logger.addHandler(file_handler)\n",
    "\n",
    "# Log messages\n",
    "logger.debug('This is a debug message')\n",
    "logger.info('This is an info message')\n",
    "logger.warning('This is a warning message')\n",
    "logger.error('This is an error message')\n",
    "logger.critical('This is a critical message')"
   ]
  },
  {
   "cell_type": "markdown",
   "id": "0fc0301a-705c-4ea7-8b54-c7e075005042",
   "metadata": {},
   "source": [
    "In this example, the log messages will be displayed in the console with the corresponding log levels, and they will also be saved to the \"app.log\" file with timestamps. "
   ]
  },
  {
   "cell_type": "markdown",
   "id": "b70ad96c-4c76-49df-9795-a446cf208c84",
   "metadata": {},
   "source": [
    "#### Log messages:\n",
    "\n",
    "You can use different logging methods to log messages with various log levels. The most commonly used methods are:\n",
    "\n",
    "- `debug()`: Detailed information for debugging purposes.\n",
    "- `info()`: General information about the execution of the program.\n",
    "- `warning()`: Indicates a potential issue or something unexpected happened, but the program can still continue.\n",
    "- `error()`: Indicates a more serious problem that caused the program to fail in some way.\n",
    "- `critical()`: Indicates a critical error that might lead to the termination of the program."
   ]
  },
  {
   "cell_type": "markdown",
   "id": "7cd11387-5157-4666-bb15-cf6ac4ce85e2",
   "metadata": {},
   "source": [
    "#### Logging Exceptions"
   ]
  },
  {
   "cell_type": "code",
   "execution_count": 6,
   "id": "bbfd35a0-b9f7-40d1-adfd-b577a438012e",
   "metadata": {
    "tags": []
   },
   "outputs": [
    {
     "name": "stderr",
     "output_type": "stream",
     "text": [
      "DEBUG:my_logger:This is a debug message\n",
      "ERROR:my_logger:This is an error message\n",
      "ERROR:my_logger:An error occurred while dividing by zero:\n",
      "Traceback (most recent call last):\n",
      "  File \"/tmp/ipykernel_67526/468990844.py\", line 19, in <module>\n",
      "    result = 10 / 0\n",
      "             ~~~^~~\n",
      "ZeroDivisionError: division by zero\n"
     ]
    }
   ],
   "source": [
    "import logging\n",
    "\n",
    "# Configure logging settings\n",
    "logging.basicConfig(level=logging.ERROR)\n",
    "\n",
    "# Create a logger\n",
    "logger = logging.getLogger('my_logger')\n",
    "\n",
    "# Save logs to a file\n",
    "file_handler = logging.FileHandler('excep.log')\n",
    "formatter = logging.Formatter('%(asctime)s - %(levelname)s - %(message)s')\n",
    "file_handler.setFormatter(formatter)\n",
    "logger.addHandler(file_handler)\n",
    "\n",
    "# Log messages with different log levels\n",
    "logger.debug('This is a debug message')\n",
    "logger.error('This is an error message')\n",
    "try:\n",
    "    result = 10 / 0\n",
    "except ZeroDivisionError as e:\n",
    "    # Log the exception\n",
    "    logger.exception('An error occurred while dividing by zero:')\n",
    "\n"
   ]
  },
  {
   "cell_type": "code",
   "execution_count": 7,
   "id": "7bf47179-09dd-4f32-ba43-ee62a15b6782",
   "metadata": {
    "tags": []
   },
   "outputs": [
    {
     "name": "stderr",
     "output_type": "stream",
     "text": [
      "DEBUG:my_logger:This is a debug message\n",
      "ERROR:my_logger:This is an error message\n"
     ]
    }
   ],
   "source": [
    "import logging\n",
    "\n",
    "# Create a logger\n",
    "logger = logging.getLogger('my_logger')\n",
    "logger.setLevel(logging.DEBUG)\n",
    "\n",
    "# Save debug logs to a file\n",
    "debug_file_handler = logging.FileHandler('debug.log')\n",
    "debug_file_handler.setLevel(logging.DEBUG)\n",
    "debug_formatter = logging.Formatter('%(asctime)s - %(levelname)s - %(message)s')\n",
    "debug_file_handler.setFormatter(debug_formatter)\n",
    "logger.addHandler(debug_file_handler)\n",
    "\n",
    "# Save error logs to another file\n",
    "error_file_handler = logging.FileHandler('error.log')\n",
    "error_file_handler.setLevel(logging.ERROR)\n",
    "error_formatter = logging.Formatter('%(asctime)s - %(levelname)s - %(message)s')\n",
    "error_file_handler.setFormatter(error_formatter)\n",
    "logger.addHandler(error_file_handler)\n",
    "\n",
    "# Log messages with different log levels\n",
    "logger.debug('This is a debug message')\n",
    "logger.error('This is an error message')\n"
   ]
  },
  {
   "cell_type": "code",
   "execution_count": null,
   "id": "4fe2dfc6-cb38-46ca-aa42-1ede79701d2a",
   "metadata": {},
   "outputs": [],
   "source": []
  }
 ],
 "metadata": {
  "kernelspec": {
   "display_name": "Python 3 (ipykernel)",
   "language": "python",
   "name": "python3"
  },
  "language_info": {
   "codemirror_mode": {
    "name": "ipython",
    "version": 3
   },
   "file_extension": ".py",
   "mimetype": "text/x-python",
   "name": "python",
   "nbconvert_exporter": "python",
   "pygments_lexer": "ipython3",
   "version": "3.11.3"
  }
 },
 "nbformat": 4,
 "nbformat_minor": 5
}
