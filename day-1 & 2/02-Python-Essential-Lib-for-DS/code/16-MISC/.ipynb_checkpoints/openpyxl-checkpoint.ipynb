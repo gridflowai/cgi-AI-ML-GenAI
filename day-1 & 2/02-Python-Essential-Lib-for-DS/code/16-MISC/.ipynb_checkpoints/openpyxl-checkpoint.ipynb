{
 "cells": [
  {
   "cell_type": "code",
   "execution_count": 1,
   "id": "f60fc90b-f34f-46c5-b983-2408c7869e84",
   "metadata": {
    "tags": []
   },
   "outputs": [
    {
     "name": "stdout",
     "output_type": "stream",
     "text": [
      "Requirement already satisfied: openpyxl in /home/bhupen/anaconda3/lib/python3.11/site-packages (3.0.10)\n",
      "Requirement already satisfied: et_xmlfile in /home/bhupen/anaconda3/lib/python3.11/site-packages (from openpyxl) (1.1.0)\n"
     ]
    }
   ],
   "source": [
    "!pip install openpyxl"
   ]
  },
  {
   "cell_type": "markdown",
   "id": "36411043-1df9-4eaf-9081-67f78aadfb8b",
   "metadata": {},
   "source": [
    "#### Reading XLSX files:\n",
    "\n",
    "- Extracting data from Excel spreadsheets and processing it in Python.\n",
    "- Parsing and analyzing data from complex Excel files for further data manipulation or analysis.\n",
    "\n",
    "- Writing XLSX files:\n",
    "\n",
    "    - Creating new Excel files from scratch with custom data.\n",
    "    - Generating reports or data summaries and saving them as Excel files.\n",
    "- Modifying existing XLSX files:\n",
    "\n",
    "    - Updating values in specific cells or ranges in an existing Excel file.\n",
    "    - Adding new sheets, rows, or columns to an Excel workbook.\n",
    "    - Formatting cells, rows, or columns to make data more visually appealing.\n",
    "\n",
    "- Data manipulation and analysis:\n",
    "\n",
    "    - Transforming data in Excel files to perform calculations, filtering, or sorting.\n",
    "    - Combining data from multiple Excel files or other data sources into a single spreadsheet.\n",
    "\n",
    "- Excel automation\n",
    "\n",
    "    - Automating repetitive tasks in Excel by interacting with data programmatically.\n",
    "    - Automating the generation of charts, graphs, and pivot tables based on data in Excel files.\n",
    "\n",
    "- Data migration and integration\n",
    "\n",
    "    - Converting data from other formats into XLSX format for better compatibility with Excel.\n",
    "    - Importing data from XLSX files into databases or other software systems."
   ]
  },
  {
   "cell_type": "code",
   "execution_count": 2,
   "id": "d5a06dbb-55fd-46c7-86cc-ff3b462effb2",
   "metadata": {
    "tags": []
   },
   "outputs": [],
   "source": [
    "from openpyxl import Workbook\n",
    "wb = Workbook()"
   ]
  },
  {
   "cell_type": "code",
   "execution_count": 3,
   "id": "fd17812b-7e5a-4c2c-8b6b-8de6c4231ed2",
   "metadata": {
    "tags": []
   },
   "outputs": [],
   "source": [
    "ws = wb.active"
   ]
  },
  {
   "cell_type": "code",
   "execution_count": 4,
   "id": "cc795647-d0d1-4ea8-af3f-f039af8b844f",
   "metadata": {
    "tags": []
   },
   "outputs": [],
   "source": [
    "ws1 = wb.create_sheet(\"Mysheet\") # insert at the end (default)"
   ]
  },
  {
   "cell_type": "code",
   "execution_count": 5,
   "id": "6f87173a-4179-4190-98e8-90a28a77861d",
   "metadata": {
    "tags": []
   },
   "outputs": [],
   "source": [
    "ws2 = wb.create_sheet(\"Mysheet\", 0) # insert at first position"
   ]
  },
  {
   "cell_type": "code",
   "execution_count": 6,
   "id": "369886f9-524c-4a9e-bdb6-449c70840ed7",
   "metadata": {
    "tags": []
   },
   "outputs": [],
   "source": [
    "ws3 = wb.create_sheet(\"Mysheet\", -1) # insert at the penultimate position"
   ]
  },
  {
   "cell_type": "code",
   "execution_count": 7,
   "id": "68197f0a-a1bf-42b7-8e62-33d12d013213",
   "metadata": {
    "tags": []
   },
   "outputs": [],
   "source": [
    "ws.title = \"New Title\""
   ]
  },
  {
   "cell_type": "code",
   "execution_count": 8,
   "id": "a8d76a41-7bf2-4092-ba7c-d7940e27f7bc",
   "metadata": {
    "tags": []
   },
   "outputs": [],
   "source": [
    "ws3 = wb[\"New Title\"]"
   ]
  },
  {
   "cell_type": "code",
   "execution_count": 9,
   "id": "86ab2f5c-280c-4de2-aa36-1a2b3d91313e",
   "metadata": {
    "tags": []
   },
   "outputs": [
    {
     "name": "stdout",
     "output_type": "stream",
     "text": [
      "['Mysheet1', 'New Title', 'Mysheet2', 'Mysheet']\n"
     ]
    }
   ],
   "source": [
    "print(wb.sheetnames)"
   ]
  },
  {
   "cell_type": "code",
   "execution_count": 10,
   "id": "f553e693-7052-4a66-9d47-c7d4fd89de67",
   "metadata": {
    "tags": []
   },
   "outputs": [
    {
     "name": "stdout",
     "output_type": "stream",
     "text": [
      "Mysheet1\n",
      "New Title\n",
      "Mysheet2\n",
      "Mysheet\n"
     ]
    }
   ],
   "source": [
    ">>> for sheet in wb:\n",
    "...     print(sheet.title)"
   ]
  },
  {
   "cell_type": "markdown",
   "id": "e8092d0d-fe3c-41d2-ab74-bbec0964d052",
   "metadata": {},
   "source": [
    "#### Playing with data\n",
    "Accessing one cell\n",
    "Now we know how to get a worksheet, we can start modifying cells content. Cells can be accessed directly as keys of the worksheet:"
   ]
  },
  {
   "cell_type": "code",
   "execution_count": 11,
   "id": "bbc402af-c431-4064-94ac-4468a3d1ca1e",
   "metadata": {
    "tags": []
   },
   "outputs": [],
   "source": [
    "c = ws['A4']"
   ]
  },
  {
   "cell_type": "code",
   "execution_count": 12,
   "id": "8b35caf3-8426-4878-b9ee-38ea0ffd78f4",
   "metadata": {
    "tags": []
   },
   "outputs": [],
   "source": [
    "ws['A4'] = 4"
   ]
  },
  {
   "cell_type": "code",
   "execution_count": null,
   "id": "4483ba10-6a08-4d38-8e27-daef4ed2717d",
   "metadata": {},
   "outputs": [],
   "source": []
  }
 ],
 "metadata": {
  "kernelspec": {
   "display_name": "Python 3 (ipykernel)",
   "language": "python",
   "name": "python3"
  },
  "language_info": {
   "codemirror_mode": {
    "name": "ipython",
    "version": 3
   },
   "file_extension": ".py",
   "mimetype": "text/x-python",
   "name": "python",
   "nbconvert_exporter": "python",
   "pygments_lexer": "ipython3",
   "version": "3.11.3"
  }
 },
 "nbformat": 4,
 "nbformat_minor": 5
}
