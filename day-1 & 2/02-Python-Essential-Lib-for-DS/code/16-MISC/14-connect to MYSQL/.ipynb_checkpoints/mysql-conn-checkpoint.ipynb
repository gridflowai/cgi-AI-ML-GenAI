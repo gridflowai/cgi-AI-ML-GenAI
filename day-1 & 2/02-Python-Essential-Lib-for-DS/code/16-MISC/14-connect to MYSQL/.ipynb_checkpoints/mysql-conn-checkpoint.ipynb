{
 "cells": [
  {
   "cell_type": "code",
   "execution_count": 1,
   "id": "be35dd76-9192-41c5-8446-ca275c442eb0",
   "metadata": {
    "tags": []
   },
   "outputs": [],
   "source": [
    "import mysql.connector"
   ]
  },
  {
   "cell_type": "code",
   "execution_count": 6,
   "id": "46a4b13a-4c07-418a-b577-a0a01c9d3705",
   "metadata": {
    "tags": []
   },
   "outputs": [],
   "source": [
    "# MySQL connection configuration\n",
    "config = {\n",
    "    'user': 'bks',\n",
    "    'password': 'Bhupen@00',\n",
    "    'host': 'localhost',\n",
    "    'database': 'bks',\n",
    "    'auth_plugin': 'mysql_native_password'\n",
    "}"
   ]
  },
  {
   "cell_type": "code",
   "execution_count": 17,
   "id": "a36ddf56-8cb0-45fc-9705-39f26a556ddb",
   "metadata": {
    "tags": []
   },
   "outputs": [
    {
     "name": "stdout",
     "output_type": "stream",
     "text": [
      "Connected to MySQL database!\n"
     ]
    }
   ],
   "source": [
    "# Establish the connection\n",
    "try:\n",
    "    connection = mysql.connector.connect(**config)\n",
    "    if connection.is_connected():\n",
    "        print(\"Connected to MySQL database!\")\n",
    "except mysql.connector.Error as e:\n",
    "    print(\"Error while connecting to MySQL:\", e)\n",
    "# finally:\n",
    "#     # Close the connection\n",
    "#     if 'connection' in locals() and connection.is_connected():\n",
    "#         #connection.close()\n",
    "#         print(\"MySQL connection closed.\")"
   ]
  },
  {
   "cell_type": "code",
   "execution_count": 18,
   "id": "3d6f66b5-886c-4fbb-8587-d3bf6e8647cc",
   "metadata": {
    "tags": []
   },
   "outputs": [],
   "source": [
    "# Function to create a new table\n",
    "def create_table():\n",
    "    try:\n",
    "\n",
    "        cursor = connection.cursor()\n",
    "        cursor.execute('''CREATE TABLE IF NOT EXISTS employees (\n",
    "                            id INT AUTO_INCREMENT PRIMARY KEY,\n",
    "                            name VARCHAR(100) NOT NULL,\n",
    "                            age INT NOT NULL,\n",
    "                            salary FLOAT NOT NULL\n",
    "                        );''')\n",
    "        connection.commit()\n",
    "        print(\"Table 'employees' created successfully.\")\n",
    "    except mysql.connector.Error as error:\n",
    "        print(f\"Error while creating table: {error}\")\n"
   ]
  },
  {
   "cell_type": "code",
   "execution_count": 19,
   "id": "3c7c57cd-c798-4487-a1db-330343dc41b8",
   "metadata": {
    "tags": []
   },
   "outputs": [
    {
     "name": "stdout",
     "output_type": "stream",
     "text": [
      "Table 'employees' created successfully.\n"
     ]
    }
   ],
   "source": [
    "create_table()"
   ]
  },
  {
   "cell_type": "code",
   "execution_count": 22,
   "id": "75cc311c-7545-47be-8d5d-6f12ba4aa730",
   "metadata": {
    "tags": []
   },
   "outputs": [],
   "source": [
    "# Function to insert a new record\n",
    "def insert_record(name, age, salary):\n",
    "    try:\n",
    "        cursor = connection.cursor()\n",
    "        query = \"INSERT INTO employees (name, age, salary) VALUES (%s, %s, %s);\"\n",
    "        data = (name, age, salary)\n",
    "        cursor.execute(query, data)\n",
    "        connection.commit()\n",
    "        print(\"Record inserted successfully.\")\n",
    "    except mysql.connector.Error as error:\n",
    "        print(f\"Error while inserting record: {error}\")\n",
    "    # finally:\n",
    "    #     if connection.is_connected():\n",
    "    #         cursor.close()\n",
    "    #         connection.close()"
   ]
  },
  {
   "cell_type": "code",
   "execution_count": 23,
   "id": "db4adef7-ca5a-4500-b5fd-f38d4ef1b0d1",
   "metadata": {
    "tags": []
   },
   "outputs": [
    {
     "name": "stdout",
     "output_type": "stream",
     "text": [
      "Record inserted successfully.\n",
      "Record inserted successfully.\n"
     ]
    }
   ],
   "source": [
    "# Create new records\n",
    "insert_record('John Doe', 30, 50000.0)\n",
    "insert_record('Jane Smith', 28, 45000.0)"
   ]
  },
  {
   "cell_type": "code",
   "execution_count": 24,
   "id": "d420f135-c465-41cf-bbea-715cb6ef0410",
   "metadata": {
    "tags": []
   },
   "outputs": [],
   "source": [
    "# Function to read all records\n",
    "def read_records():\n",
    "    try:\n",
    "        cursor = connection.cursor()\n",
    "        cursor.execute(\"SELECT * FROM employees;\")\n",
    "        records = cursor.fetchall()\n",
    "        return records\n",
    "    except mysql.connector.Error as error:\n",
    "        print(f\"Error while reading records: {error}\")\n",
    "    # finally:\n",
    "    #     if connection.is_connected():\n",
    "    #         cursor.close()\n",
    "    #         connection.close()"
   ]
  },
  {
   "cell_type": "code",
   "execution_count": 25,
   "id": "6fd72f44-9d4b-4d7c-a00c-ecc301514b03",
   "metadata": {
    "tags": []
   },
   "outputs": [
    {
     "name": "stdout",
     "output_type": "stream",
     "text": [
      "All records:\n",
      "(1, 'John Doe', 30, 50000.0)\n",
      "(2, 'Jane Smith', 28, 45000.0)\n"
     ]
    }
   ],
   "source": [
    "# Read all records\n",
    "records = read_records()\n",
    "print(\"All records:\")\n",
    "for record in records:\n",
    "    print(record)"
   ]
  },
  {
   "cell_type": "code",
   "execution_count": null,
   "id": "e3e860f9-8d13-4d43-9257-04f2451494a4",
   "metadata": {},
   "outputs": [],
   "source": []
  }
 ],
 "metadata": {
  "kernelspec": {
   "display_name": "Python 3 (ipykernel)",
   "language": "python",
   "name": "python3"
  },
  "language_info": {
   "codemirror_mode": {
    "name": "ipython",
    "version": 3
   },
   "file_extension": ".py",
   "mimetype": "text/x-python",
   "name": "python",
   "nbconvert_exporter": "python",
   "pygments_lexer": "ipython3",
   "version": "3.11.3"
  }
 },
 "nbformat": 4,
 "nbformat_minor": 5
}
