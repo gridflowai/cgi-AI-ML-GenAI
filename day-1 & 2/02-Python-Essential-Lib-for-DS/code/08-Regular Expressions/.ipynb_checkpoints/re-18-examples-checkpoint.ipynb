{
 "cells": [
  {
   "cell_type": "markdown",
   "id": "99634bd3-9656-4f58-b524-66e465f6eb88",
   "metadata": {},
   "source": [
    "-------------------------\n",
    "## What is regex\n",
    "--------------------\n",
    "\n",
    "- way to `extract` meaningful text from a large corpus of data\n",
    "- mostly useful in dealing with text data\n",
    "- but it can used in regular data (non text)\n",
    "\n",
    "- regex is very old\n",
    "- flavours\n",
    "    - UNIX\n",
    "    - linux\n",
    "    - java, nodes.js, ....python\n",
    "    - PANDAS, \n",
    "    - NOSQL databases - Mongodb, cassandra....MYSQL"
   ]
  },
  {
   "cell_type": "code",
   "execution_count": 1,
   "id": "e7120b1d-2246-450d-9293-83d8ec9ac43b",
   "metadata": {},
   "outputs": [],
   "source": [
    "from IPython.display import Image"
   ]
  },
  {
   "cell_type": "code",
   "execution_count": 2,
   "id": "7669eafa-3ca6-46ff-aba3-ff3bbca6a452",
   "metadata": {},
   "outputs": [],
   "source": [
    "import re"
   ]
  },
  {
   "cell_type": "markdown",
   "id": "f4b4f314-4530-4ccd-9062-0b3c16734e84",
   "metadata": {},
   "source": [
    "#### Symbols are called META-CHARACTERS\n",
    "\n",
    "- ^ - beginning of the string\n",
    "- $ - end of the string\n",
    "- . - Any char in the string"
   ]
  },
  {
   "cell_type": "code",
   "execution_count": 14,
   "id": "8ce0edd7-253c-41b6-b133-8bbc93b1bafc",
   "metadata": {},
   "outputs": [
    {
     "data": {
      "text/plain": [
       "<re.Match object; span=(0, 5), match='aSDAs'>"
      ]
     },
     "execution_count": 14,
     "metadata": {},
     "output_type": "execute_result"
    }
   ],
   "source": [
    "pattern     = '^a...s$'\n",
    "test_string = 'aSDAs'\n",
    "\n",
    "re.match(pattern, test_string)"
   ]
  },
  {
   "cell_type": "code",
   "execution_count": 15,
   "id": "f6541df3-9ce6-4fc7-9306-af449c7a44aa",
   "metadata": {},
   "outputs": [
    {
     "data": {
      "text/plain": [
       "<re.Match object; span=(0, 5), match='aSDAs'>"
      ]
     },
     "execution_count": 15,
     "metadata": {},
     "output_type": "execute_result"
    }
   ],
   "source": [
    "pattern     = '^a...s'\n",
    "test_string = 'aSDAs shdhhdhdhdhd'\n",
    "\n",
    "re.match(pattern, test_string)"
   ]
  },
  {
   "cell_type": "markdown",
   "id": "85d1b6b7-4862-4a43-b527-f38c55657ff0",
   "metadata": {},
   "source": [
    "#### other examples of meta chars\n",
    "- [] - square bracket\n",
    "- {} - curly\n",
    "- () - round\n",
    "- *  - star\n",
    "- +  - plus sign\n",
    "- ?  - question mark\n",
    "- \\  - back slash\n",
    "- |  - pipe char"
   ]
  },
  {
   "cell_type": "markdown",
   "id": "50c44683-3405-4c08-b332-b61ac3d90cf2",
   "metadata": {},
   "source": [
    "#### [] - square brackets \n",
    "\n",
    "- specify a range of chars in the brackets \n",
    "    - we can search"
   ]
  },
  {
   "cell_type": "code",
   "execution_count": 16,
   "id": "f557fedb-5411-4326-903b-42fdf99be4e7",
   "metadata": {},
   "outputs": [],
   "source": [
    "input_str = 'xx aa abc de ca'\n",
    "pattern   = r'[abc]'\n",
    "\n",
    "re.match(pattern, input_str)"
   ]
  },
  {
   "cell_type": "code",
   "execution_count": 17,
   "id": "4ce2c293-d054-4609-bfd2-1373a9f2e08d",
   "metadata": {},
   "outputs": [
    {
     "data": {
      "text/plain": [
       "<re.Match object; span=(0, 1), match='a'>"
      ]
     },
     "execution_count": 17,
     "metadata": {},
     "output_type": "execute_result"
    }
   ],
   "source": [
    "input_str = 'aa abc de ca'\n",
    "pattern   = r'[abc]'\n",
    "\n",
    "re.match(pattern, input_str)"
   ]
  },
  {
   "cell_type": "code",
   "execution_count": 18,
   "id": "abdeed5e-49ba-4d22-aec2-00e1939c600c",
   "metadata": {},
   "outputs": [
    {
     "data": {
      "text/plain": [
       "<re.Match object; span=(0, 1), match='a'>"
      ]
     },
     "execution_count": 18,
     "metadata": {},
     "output_type": "execute_result"
    }
   ],
   "source": [
    "input_str = 'abc abc de ca'\n",
    "pattern   = r'[abc]'\n",
    "\n",
    "re.match(pattern, input_str)"
   ]
  },
  {
   "cell_type": "code",
   "execution_count": 21,
   "id": "65ed8d46-3484-4f0c-a1fd-3d0fc8491ef8",
   "metadata": {},
   "outputs": [
    {
     "data": {
      "text/plain": [
       "<re.Match object; span=(0, 1), match='o'>"
      ]
     },
     "execution_count": 21,
     "metadata": {},
     "output_type": "execute_result"
    }
   ],
   "source": [
    "pattern  = r\"[Cookie]\"\n",
    "sequence =  \"ookie\"\n",
    "\n",
    "re.match(pattern, sequence)"
   ]
  },
  {
   "cell_type": "markdown",
   "id": "11e55c7f-4908-4db5-9813-65e5f6b30e78",
   "metadata": {},
   "source": [
    "#### use re.search method"
   ]
  },
  {
   "cell_type": "code",
   "execution_count": 22,
   "id": "009866e8-9604-4a7b-a2c6-900aa5bdd8c7",
   "metadata": {},
   "outputs": [
    {
     "data": {
      "text/plain": [
       "<re.Match object; span=(9, 10), match='a'>"
      ]
     },
     "execution_count": 22,
     "metadata": {},
     "output_type": "execute_result"
    }
   ],
   "source": [
    "input_str = \" film Titabcnic was released in 1998\"  \n",
    "\n",
    "re.search(r\"[abc]\", input_str)"
   ]
  },
  {
   "cell_type": "markdown",
   "id": "0c3e61c2-07ce-4edc-8265-97ab5ea4713f",
   "metadata": {},
   "source": [
    "#### use re.findall method"
   ]
  },
  {
   "cell_type": "code",
   "execution_count": 24,
   "id": "5e0856eb-79b6-4fff-8e3b-f667f70b6ea4",
   "metadata": {},
   "outputs": [
    {
     "name": "stdout",
     "output_type": "stream",
     "text": [
      "['a', 'c', 'a', 'a']\n"
     ]
    }
   ],
   "source": [
    "input_str = \"111 film Titanic was released in 1998\"  \n",
    "\n",
    "result = re.findall(r\"[abc]\", input_str)\n",
    "\n",
    "print(result)"
   ]
  },
  {
   "cell_type": "markdown",
   "id": "9c5f432f-323a-485e-9394-6ed8ba0c2799",
   "metadata": {},
   "source": [
    "#### . (dot) char"
   ]
  },
  {
   "cell_type": "code",
   "execution_count": 25,
   "id": "6e636693-fc25-45ea-916f-f05ffe598262",
   "metadata": {},
   "outputs": [],
   "source": [
    "re.search(r'..', 'a')"
   ]
  },
  {
   "cell_type": "code",
   "execution_count": 26,
   "id": "3f5ad49a-b3a8-433c-92ba-56ee4abf5719",
   "metadata": {},
   "outputs": [
    {
     "data": {
      "text/plain": [
       "<re.Match object; span=(0, 2), match='ac'>"
      ]
     },
     "execution_count": 26,
     "metadata": {},
     "output_type": "execute_result"
    }
   ],
   "source": [
    "re.search(r'..', 'ac')"
   ]
  },
  {
   "cell_type": "code",
   "execution_count": 27,
   "id": "9faae4e4-f111-4e29-9c7f-0ad2fa48428c",
   "metadata": {},
   "outputs": [
    {
     "data": {
      "text/plain": [
       "<re.Match object; span=(0, 2), match='ac'>"
      ]
     },
     "execution_count": 27,
     "metadata": {},
     "output_type": "execute_result"
    }
   ],
   "source": [
    "re.search(r'..', 'acd')"
   ]
  },
  {
   "cell_type": "code",
   "execution_count": 28,
   "id": "ce7f037f-e17f-4fa4-8533-c123f1aee6a8",
   "metadata": {},
   "outputs": [
    {
     "data": {
      "text/plain": [
       "['ac', 'de']"
      ]
     },
     "execution_count": 28,
     "metadata": {},
     "output_type": "execute_result"
    }
   ],
   "source": [
    "re.findall(r'..', 'acde')"
   ]
  },
  {
   "cell_type": "code",
   "execution_count": 30,
   "id": "d6cf413d-f0ce-4548-ac34-4f0ea8afde66",
   "metadata": {},
   "outputs": [
    {
     "data": {
      "text/plain": [
       "['ac', 'de', 'fg']"
      ]
     },
     "execution_count": 30,
     "metadata": {},
     "output_type": "execute_result"
    }
   ],
   "source": [
    "re.findall(r'..', 'acdefgh')"
   ]
  },
  {
   "cell_type": "markdown",
   "id": "3c676ae2-3477-4aec-8a21-91ed217629a5",
   "metadata": {},
   "source": [
    "#### - ^ - caret (beginning of a string)"
   ]
  },
  {
   "cell_type": "code",
   "execution_count": 31,
   "id": "4484df5f-e037-4996-9a3e-a9445983d7e8",
   "metadata": {},
   "outputs": [
    {
     "name": "stdout",
     "output_type": "stream",
     "text": [
      "<re.Match object; span=(0, 1), match='a'>\n",
      "<re.Match object; span=(0, 1), match='a'>\n",
      "None\n",
      "<re.Match object; span=(0, 2), match='ab'>\n",
      "None\n"
     ]
    }
   ],
   "source": [
    "print(re.search(r'^a', 'a'))\n",
    "print(re.search(r'^a', 'abc'))\n",
    "print(re.search(r'^a', 'bac'))\n",
    "print(re.search(r'^ab', 'abc'))\n",
    "print(re.search(r'^ab', 'acb'))"
   ]
  },
  {
   "cell_type": "markdown",
   "id": "7b4653b3-3acb-49cd-9a65-330c42445dc5",
   "metadata": {},
   "source": [
    "#### - $ - end of the string"
   ]
  },
  {
   "cell_type": "code",
   "execution_count": 32,
   "id": "dcc69b08-0d00-46e9-b8cf-daa53821457c",
   "metadata": {},
   "outputs": [
    {
     "name": "stdout",
     "output_type": "stream",
     "text": [
      "<re.Match object; span=(0, 1), match='a'>\n",
      "<re.Match object; span=(4, 5), match='a'>\n",
      "None\n"
     ]
    }
   ],
   "source": [
    "print(re.search(r'a$', 'a'))\n",
    "print(re.search(r'a$', 'tabla'))\n",
    "print(re.search(r'a$', 'cab'))"
   ]
  },
  {
   "cell_type": "markdown",
   "id": "a3811ef3-feaf-4793-b03a-9b97e37ac752",
   "metadata": {},
   "source": [
    "#### - * - star meta char\n",
    "- 0 or more of the pattern that you are looking for"
   ]
  },
  {
   "cell_type": "code",
   "execution_count": 33,
   "id": "2465ded1-9955-4fa7-9be1-ef4e9a052fa4",
   "metadata": {},
   "outputs": [
    {
     "name": "stdout",
     "output_type": "stream",
     "text": [
      "<re.Match object; span=(0, 2), match='mn'>\n"
     ]
    }
   ],
   "source": [
    "print(re.search(r'ma*n', 'mn'))"
   ]
  },
  {
   "cell_type": "code",
   "execution_count": 34,
   "id": "0d1ccef9-32be-4b42-a174-9d9d2efb987d",
   "metadata": {},
   "outputs": [
    {
     "name": "stdout",
     "output_type": "stream",
     "text": [
      "<re.Match object; span=(0, 3), match='man'>\n"
     ]
    }
   ],
   "source": [
    "print(re.search(r'ma*n', 'man'))"
   ]
  },
  {
   "cell_type": "code",
   "execution_count": 35,
   "id": "0856b32c-1d36-440d-a9db-35d7c2bb538c",
   "metadata": {},
   "outputs": [
    {
     "name": "stdout",
     "output_type": "stream",
     "text": [
      "<re.Match object; span=(0, 3), match='man'>\n"
     ]
    }
   ],
   "source": [
    "print(re.search(r'ma*n', 'mann'))"
   ]
  },
  {
   "cell_type": "code",
   "execution_count": 36,
   "id": "15469ad9-3de3-4f37-8c6a-945537c634e4",
   "metadata": {},
   "outputs": [
    {
     "name": "stdout",
     "output_type": "stream",
     "text": [
      "<re.Match object; span=(0, 5), match='maaan'>\n"
     ]
    }
   ],
   "source": [
    "print(re.search(r'ma*n', 'maaan'))"
   ]
  },
  {
   "cell_type": "code",
   "execution_count": 37,
   "id": "ac716989-0ac4-427a-9904-0139cde0f4ae",
   "metadata": {},
   "outputs": [
    {
     "name": "stdout",
     "output_type": "stream",
     "text": [
      "None\n"
     ]
    }
   ],
   "source": [
    "print(re.search(r'ma*n', 'main'))"
   ]
  },
  {
   "cell_type": "code",
   "execution_count": 38,
   "id": "eb775ea7-055b-4729-8660-7070e124069b",
   "metadata": {},
   "outputs": [
    {
     "name": "stdout",
     "output_type": "stream",
     "text": [
      "None\n"
     ]
    }
   ],
   "source": [
    "print(re.search(r'ma*n', 'maine')) "
   ]
  },
  {
   "cell_type": "code",
   "execution_count": 41,
   "id": "f616320e-b190-459f-8815-a54dfdfc6a66",
   "metadata": {},
   "outputs": [
    {
     "name": "stdout",
     "output_type": "stream",
     "text": [
      "<re.Match object; span=(2, 15), match='maaaaaaaaaaan'>\n"
     ]
    }
   ],
   "source": [
    "print(re.search(r'ma*n', 'womaaaaaaaaaaan'))"
   ]
  },
  {
   "cell_type": "code",
   "execution_count": 42,
   "id": "d2e5abff-a7f9-4c73-9aaf-0ddd088c0f63",
   "metadata": {},
   "outputs": [
    {
     "name": "stdout",
     "output_type": "stream",
     "text": [
      "<re.Match object; span=(0, 13), match='awwwwwwwwsome'>\n"
     ]
    }
   ],
   "source": [
    "print(re.search(r'aw*some', 'awwwwwwwwsome'))"
   ]
  },
  {
   "cell_type": "markdown",
   "id": "84dcfe64-e7b5-4c67-b1bc-47b4fe4a667d",
   "metadata": {},
   "source": [
    "#### + - meta char\n",
    "- this will match 1 or more of the pattern (left of the meta char)"
   ]
  },
  {
   "cell_type": "code",
   "execution_count": 43,
   "id": "fea4a5c6-955a-4d07-929d-b1d6af15abb7",
   "metadata": {},
   "outputs": [
    {
     "name": "stdout",
     "output_type": "stream",
     "text": [
      "None\n"
     ]
    }
   ],
   "source": [
    "print(re.search(r'ma+n', 'mn'))"
   ]
  },
  {
   "cell_type": "code",
   "execution_count": 44,
   "id": "1859bf47-4671-45db-ab78-bd95d38a52d8",
   "metadata": {},
   "outputs": [
    {
     "name": "stdout",
     "output_type": "stream",
     "text": [
      "<re.Match object; span=(0, 3), match='man'>\n"
     ]
    }
   ],
   "source": [
    "print(re.search(r'ma+n', 'man'))"
   ]
  },
  {
   "cell_type": "code",
   "execution_count": 45,
   "id": "2452f6f0-a287-478f-92de-7f8f159b3722",
   "metadata": {},
   "outputs": [
    {
     "name": "stdout",
     "output_type": "stream",
     "text": [
      "<re.Match object; span=(0, 3), match='man'>\n"
     ]
    }
   ],
   "source": [
    "print(re.search(r'ma+n', 'mann'))"
   ]
  },
  {
   "cell_type": "markdown",
   "id": "4c51d012-fd4f-49f2-a6e3-96fe94c35d1e",
   "metadata": {},
   "source": [
    "#### - ? - meta char\n",
    "- this will look for either 0 or 1 time occurence of the pattern"
   ]
  },
  {
   "cell_type": "code",
   "execution_count": 46,
   "id": "cd867c52-ae87-466e-8d59-c8118c48f49d",
   "metadata": {},
   "outputs": [
    {
     "name": "stdout",
     "output_type": "stream",
     "text": [
      "<re.Match object; span=(0, 2), match='mn'>\n"
     ]
    }
   ],
   "source": [
    "print(re.search(r'ma?n', 'mn'))"
   ]
  },
  {
   "cell_type": "code",
   "execution_count": 47,
   "id": "16926c5b-dac1-4a96-b238-92c43440a0bd",
   "metadata": {},
   "outputs": [
    {
     "name": "stdout",
     "output_type": "stream",
     "text": [
      "<re.Match object; span=(0, 3), match='man'>\n"
     ]
    }
   ],
   "source": [
    "print(re.search(r'ma?n', 'man'))"
   ]
  },
  {
   "cell_type": "code",
   "execution_count": 48,
   "id": "b64a74cc-b7ca-43e3-86dc-99f739743260",
   "metadata": {},
   "outputs": [
    {
     "name": "stdout",
     "output_type": "stream",
     "text": [
      "None\n"
     ]
    }
   ],
   "source": [
    "print(re.search(r'ma?n', 'maan'))"
   ]
  },
  {
   "cell_type": "markdown",
   "id": "feb620f9-feea-48f5-8cf4-b89fb296d943",
   "metadata": {},
   "source": [
    "####  {} - meta char\n",
    "- {m, n}\n",
    "    - it will look for \n",
    "        - min m occurences\n",
    "        - max n occurences"
   ]
  },
  {
   "cell_type": "code",
   "execution_count": 50,
   "id": "a8804e3b-485b-45df-a762-5f748cb0a649",
   "metadata": {},
   "outputs": [
    {
     "name": "stdout",
     "output_type": "stream",
     "text": [
      "None\n"
     ]
    }
   ],
   "source": [
    "print(re.search(r'a{2,3}', 'abc dat'))"
   ]
  },
  {
   "cell_type": "code",
   "execution_count": 51,
   "id": "90438075-2050-41c6-8cfe-9af950973407",
   "metadata": {},
   "outputs": [
    {
     "name": "stdout",
     "output_type": "stream",
     "text": [
      "<re.Match object; span=(5, 7), match='aa'>\n"
     ]
    }
   ],
   "source": [
    "print(re.search(r'a{2,3}', 'abc daat'))"
   ]
  },
  {
   "cell_type": "code",
   "execution_count": 52,
   "id": "7b787a95-583a-42f3-866e-19b9f1d526cb",
   "metadata": {},
   "outputs": [
    {
     "name": "stdout",
     "output_type": "stream",
     "text": [
      "<re.Match object; span=(0, 2), match='aa'>\n"
     ]
    }
   ],
   "source": [
    "print(re.search(r'a{2,3}', 'aabc daaat'))"
   ]
  },
  {
   "cell_type": "code",
   "execution_count": 53,
   "id": "81e0ebeb-6263-4c9e-9c29-1cf5e98f648e",
   "metadata": {},
   "outputs": [
    {
     "name": "stdout",
     "output_type": "stream",
     "text": [
      "<re.Match object; span=(0, 2), match='aa'>\n"
     ]
    }
   ],
   "source": [
    "print(re.search(r'a{2,3}', 'aabc daaaat'))"
   ]
  },
  {
   "cell_type": "code",
   "execution_count": 54,
   "id": "f3039748-ad9c-431c-8a9e-12b6970cbf07",
   "metadata": {},
   "outputs": [
    {
     "name": "stdout",
     "output_type": "stream",
     "text": [
      "['aa', 'aaa']\n"
     ]
    }
   ],
   "source": [
    "print(re.findall(r'a{2,3}', 'aabc daaat'))"
   ]
  },
  {
   "cell_type": "markdown",
   "id": "33007b2a-9f27-4369-8b99-d9b6df34aeee",
   "metadata": {},
   "source": [
    "#### {m} - Matches exactly m repetitions of the preceding regex."
   ]
  },
  {
   "cell_type": "code",
   "execution_count": 55,
   "id": "300dac46-0896-482d-99e2-e541b2461dfe",
   "metadata": {},
   "outputs": [
    {
     "name": "stdout",
     "output_type": "stream",
     "text": [
      "None\n"
     ]
    }
   ],
   "source": [
    "print(re.search('x-{3}x', 'x--x'))  "
   ]
  },
  {
   "cell_type": "code",
   "execution_count": 56,
   "id": "1f484420-d7f1-4041-81b5-8e6046a2e034",
   "metadata": {},
   "outputs": [
    {
     "name": "stdout",
     "output_type": "stream",
     "text": [
      "<re.Match object; span=(0, 5), match='x---x'>\n"
     ]
    }
   ],
   "source": [
    "print(re.search('x-{3}x', 'x---x'))  "
   ]
  },
  {
   "cell_type": "code",
   "execution_count": 60,
   "id": "3b29e62e-b70b-48dc-89fb-e5368ec1d7e6",
   "metadata": {},
   "outputs": [
    {
     "name": "stdout",
     "output_type": "stream",
     "text": [
      "None\n"
     ]
    }
   ],
   "source": [
    "print(re.search('x-{3}x', 'x-------x'))  "
   ]
  },
  {
   "cell_type": "markdown",
   "id": "4c415432-6c3a-4d2f-8ae8-c2e727dfc35b",
   "metadata": {},
   "source": [
    "#### {m, } - Matches exactly m repetitions of the preceding regex."
   ]
  },
  {
   "cell_type": "code",
   "execution_count": 59,
   "id": "52dae27d-ffac-4d0e-844f-a3f92bc89bbf",
   "metadata": {},
   "outputs": [
    {
     "name": "stdout",
     "output_type": "stream",
     "text": [
      "<re.Match object; span=(0, 9), match='x-------x'>\n"
     ]
    }
   ],
   "source": [
    "print(re.search('x-{3,}x', 'x-------x'))  "
   ]
  },
  {
   "cell_type": "markdown",
   "id": "c4b1af1c-8792-402d-8981-acac624ace2d",
   "metadata": {},
   "source": [
    "-----------------------------\n",
    "#### Special sequences\n",
    "--------------------------------"
   ]
  },
  {
   "cell_type": "markdown",
   "id": "a5898dcc-3a3e-4d77-b646-10f5924e6688",
   "metadata": {},
   "source": [
    "#### \\A"
   ]
  },
  {
   "cell_type": "markdown",
   "id": "67ee0c6f-32b1-4afc-b4f2-fe2aa403d560",
   "metadata": {},
   "source": [
    "#### \\b"
   ]
  },
  {
   "cell_type": "markdown",
   "id": "3374ec75-1857-4eb6-8d80-eb4cc3e6a83b",
   "metadata": {},
   "source": [
    "#### \\d - digits"
   ]
  },
  {
   "cell_type": "code",
   "execution_count": 61,
   "id": "83cd068f-8d9f-485c-87e0-d8b9e75703f4",
   "metadata": {},
   "outputs": [
    {
     "data": {
      "text/plain": [
       "['1', '7', '6']"
      ]
     },
     "execution_count": 61,
     "metadata": {},
     "output_type": "execute_result"
    }
   ],
   "source": [
    "re.findall(r'\\d', '17abc6')"
   ]
  },
  {
   "cell_type": "code",
   "execution_count": 62,
   "id": "30e72803-2d9f-4983-8599-20dc1ddac0a6",
   "metadata": {},
   "outputs": [
    {
     "data": {
      "text/plain": [
       "[]"
      ]
     },
     "execution_count": 62,
     "metadata": {},
     "output_type": "execute_result"
    }
   ],
   "source": [
    "re.findall(r'\\d', 'Python Data Science')"
   ]
  },
  {
   "cell_type": "markdown",
   "id": "5918db08-8c4a-40b7-87d5-80e8a9ce5780",
   "metadata": {},
   "source": [
    "#### \\D - other than the digits"
   ]
  },
  {
   "cell_type": "code",
   "execution_count": 63,
   "id": "df7d36ba-c6c4-498c-b485-c09a19697239",
   "metadata": {},
   "outputs": [
    {
     "data": {
      "text/plain": [
       "['a', 'b', '\"']"
      ]
     },
     "execution_count": 63,
     "metadata": {},
     "output_type": "execute_result"
    }
   ],
   "source": [
    "re.findall(r'\\D', '1ab34\"50')"
   ]
  },
  {
   "cell_type": "code",
   "execution_count": 64,
   "id": "ff625f88-5017-4928-bd6c-f46704be1b53",
   "metadata": {},
   "outputs": [
    {
     "data": {
      "text/plain": [
       "[]"
      ]
     },
     "execution_count": 64,
     "metadata": {},
     "output_type": "execute_result"
    }
   ],
   "source": [
    "re.findall(r'\\D', '1234')"
   ]
  },
  {
   "cell_type": "markdown",
   "id": "bca9461a-3715-4627-9716-2237d3ceb157",
   "metadata": {},
   "source": [
    "#### \\s - match any whitespace char"
   ]
  },
  {
   "cell_type": "code",
   "execution_count": 65,
   "id": "98b49f9f-a60c-47ff-822a-005e99ddbad3",
   "metadata": {},
   "outputs": [
    {
     "data": {
      "text/plain": [
       "[' ']"
      ]
     },
     "execution_count": 65,
     "metadata": {},
     "output_type": "execute_result"
    }
   ],
   "source": [
    "re.findall(r'\\s', 'Python RegEx')"
   ]
  },
  {
   "cell_type": "code",
   "execution_count": 66,
   "id": "348d04ab-e16f-4a67-98e8-dad92e33b89a",
   "metadata": {},
   "outputs": [
    {
     "data": {
      "text/plain": [
       "[' ', '\\t', ' ']"
      ]
     },
     "execution_count": 66,
     "metadata": {},
     "output_type": "execute_result"
    }
   ],
   "source": [
    "re.findall(r'\\s', 'Python \\t RegEx')"
   ]
  },
  {
   "cell_type": "code",
   "execution_count": 68,
   "id": "2226ceda-04ae-4eb4-a26e-850d216ce058",
   "metadata": {},
   "outputs": [
    {
     "data": {
      "text/plain": [
       "[' ', ' ', '\\t', ' ', '\\n', ' ', ' ', ' ', ' ', ' ']"
      ]
     },
     "execution_count": 68,
     "metadata": {},
     "output_type": "execute_result"
    }
   ],
   "source": [
    "re.findall(r'\\s', ' Python \\t \\n RegEx    ')"
   ]
  },
  {
   "cell_type": "markdown",
   "id": "37580c3f-9038-4480-bea9-88c4b2e0bd11",
   "metadata": {},
   "source": [
    "#### \\S - anything but space"
   ]
  },
  {
   "cell_type": "code",
   "execution_count": 69,
   "id": "b7f3b7fc-2cd4-4f30-93c9-28b9bd2d029a",
   "metadata": {},
   "outputs": [
    {
     "data": {
      "text/plain": [
       "['a', 'b', 'c']"
      ]
     },
     "execution_count": 69,
     "metadata": {},
     "output_type": "execute_result"
    }
   ],
   "source": [
    "re.findall(r'\\S', 'a b c')"
   ]
  },
  {
   "cell_type": "markdown",
   "id": "a9c8e279-6d2a-4051-add0-db58ac219274",
   "metadata": {},
   "source": [
    "#### Example\n",
    "- extract emails from text"
   ]
  },
  {
   "cell_type": "code",
   "execution_count": 70,
   "id": "33ca014a-daac-4ddd-8749-3d6920f15e33",
   "metadata": {},
   "outputs": [],
   "source": [
    "text = ''' \n",
    "support@openDBtech.com \n",
    "monkey \n",
    "dishwasher \n",
    "bks@bks.com \n",
    "bks_@bks.in \n",
    "bks!@bks.com \n",
    "ak*@ak.in \n",
    "ak-00@in\n",
    "'''"
   ]
  },
  {
   "cell_type": "code",
   "execution_count": 72,
   "id": "b6bc9a01-0b37-4ac0-a6db-d062819d0901",
   "metadata": {},
   "outputs": [
    {
     "data": {
      "text/plain": [
       "['support@openDBtech.com',\n",
       " 'bks@bks.com',\n",
       " 'bks_@bks.in',\n",
       " 'bks!@bks.com',\n",
       " 'ak*@ak.in',\n",
       " 'ak-00@in']"
      ]
     },
     "execution_count": 72,
     "metadata": {},
     "output_type": "execute_result"
    }
   ],
   "source": [
    "pattern = r'\\S+@\\S+'\n",
    "\n",
    "re.findall(pattern, text)"
   ]
  },
  {
   "cell_type": "code",
   "execution_count": null,
   "id": "35ea2953-e380-497a-8ea7-d241ba2bf3f4",
   "metadata": {},
   "outputs": [],
   "source": []
  }
 ],
 "metadata": {
  "kernelspec": {
   "display_name": "Python 3 (ipykernel)",
   "language": "python",
   "name": "python3"
  },
  "language_info": {
   "codemirror_mode": {
    "name": "ipython",
    "version": 3
   },
   "file_extension": ".py",
   "mimetype": "text/x-python",
   "name": "python",
   "nbconvert_exporter": "python",
   "pygments_lexer": "ipython3",
   "version": "3.8.5"
  }
 },
 "nbformat": 4,
 "nbformat_minor": 5
}
