{
 "cells": [
  {
   "cell_type": "code",
   "execution_count": 1,
   "metadata": {},
   "outputs": [],
   "source": [
    "from IPython.display import Image"
   ]
  },
  {
   "cell_type": "markdown",
   "metadata": {},
   "source": [
    "- A `Regular Expression (RegEx)` is a sequence of characters that defines a `search pattern`. For example,\n",
    "\n",
    "- `^P.....N$`\n",
    "\n",
    "The above code defines a `RegEx` pattern. \n",
    "\n",
    "The pattern is: any 7 letter string starting with `P` and ending with `N`."
   ]
  },
  {
   "cell_type": "markdown",
   "metadata": {},
   "source": [
    "A pattern defined using RegEx can be used to match against a string.\n",
    "\n",
    "|Expression         |\tString              |   \tSearch string matched ?      |\n",
    "|-------------------|-----------------------|---------------------|\n",
    "|                   |  abs                  | No Match            |\n",
    "|                   |  alias                | \tMatch             |\n",
    "| ^a...s$           |  abyss                | No Match            |\n",
    "|                   |  Alias                | \tMatch             |\n",
    "|                   | An abacus             | No Match            | \n"
   ]
  },
  {
   "cell_type": "code",
   "execution_count": 2,
   "metadata": {},
   "outputs": [],
   "source": [
    "import re"
   ]
  },
  {
   "cell_type": "code",
   "execution_count": 2,
   "metadata": {},
   "outputs": [
    {
     "name": "stdout",
     "output_type": "stream",
     "text": [
      "Search successful.\n"
     ]
    }
   ],
   "source": [
    "pattern     = '^a...s$'\n",
    "test_string = 'abyys'\n",
    "\n",
    "result = re.match(pattern, test_string)\n",
    "\n",
    "if result:\n",
    "    print(\"Search successful.\")\n",
    "else:\n",
    "    print(\"Search unsuccessful.\")"
   ]
  },
  {
   "cell_type": "code",
   "execution_count": 6,
   "metadata": {},
   "outputs": [
    {
     "name": "stdout",
     "output_type": "stream",
     "text": [
      "Search unsuccessful.\n"
     ]
    }
   ],
   "source": [
    "pattern     = '^a...s$'\n",
    "test_string = 'abbbyss'\n",
    "\n",
    "result = re.match(pattern, test_string)\n",
    "\n",
    "if result:\n",
    "    print(\"Search successful.\")\n",
    "else:\n",
    "    print(\"Search unsuccessful.\")"
   ]
  },
  {
   "cell_type": "markdown",
   "metadata": {},
   "source": [
    "#### Specify Pattern Using RegEx\n",
    "\n",
    "- To specify regular expressions, `metacharacters` are used. \n",
    "\n",
    "- In the above example, ^ and $ are metacharacters."
   ]
  },
  {
   "cell_type": "markdown",
   "metadata": {},
   "source": [
    "----------------------------------\n",
    "## MetaCharacters\n",
    "----------------------------\n",
    "\n",
    "- `Metacharacters` are characters that are interpreted in a special way by a `RegEx engine`. \n",
    "\n",
    "- Here's a list of metacharacters:\n",
    "\n",
    "## [   ] .  ^  $   *   +   ?   {   } (   )   \\    |"
   ]
  },
  {
   "cell_type": "markdown",
   "metadata": {},
   "source": [
    "------------------------------\n",
    "#### [] - Square brackets\n",
    "---------------------------\n",
    "\n",
    "Square brackets specifies a set of characters you wish to match"
   ]
  },
  {
   "cell_type": "code",
   "execution_count": 6,
   "metadata": {},
   "outputs": [
    {
     "data": {
      "image/png": "[encoded data removed]",
      "text/plain": [
       "<IPython.core.display.Image object>"
      ]
     },
     "execution_count": 6,
     "metadata": {
      "image/png": {
       "width": 800
      }
     },
     "output_type": "execute_result"
    }
   ],
   "source": [
    "Image(r'D:\\MYLEARN\\2-ANALYTICS-DataScience\\icons-images\\re-00.png', width=800)"
   ]
  },
  {
   "cell_type": "markdown",
   "metadata": {},
   "source": [
    "**Using re.match**"
   ]
  },
  {
   "cell_type": "code",
   "execution_count": 8,
   "metadata": {},
   "outputs": [
    {
     "name": "stdout",
     "output_type": "stream",
     "text": [
      "None\n"
     ]
    }
   ],
   "source": [
    "input_str = \"xx aa abc de ca\"  \n",
    "\n",
    "result = re.match(r\"[abc]\", input_str)  \n",
    "\n",
    "print(result)"
   ]
  },
  {
   "cell_type": "code",
   "execution_count": 9,
   "metadata": {},
   "outputs": [
    {
     "name": "stdout",
     "output_type": "stream",
     "text": [
      "<re.Match object; span=(0, 1), match='a'>\n"
     ]
    }
   ],
   "source": [
    "input_str = \"all all film Titanic was released in 1998\"  \n",
    "\n",
    "result = re.match(r\"[all]\", input_str)  \n",
    "\n",
    "print(result)"
   ]
  },
  {
   "cell_type": "code",
   "execution_count": 9,
   "metadata": {},
   "outputs": [
    {
     "name": "stdout",
     "output_type": "stream",
     "text": [
      "<re.Match object; span=(0, 1), match='a'>\n"
     ]
    }
   ],
   "source": [
    "input_str = \"abba film Titanic was released in 1998\"  \n",
    "\n",
    "result = re.match(r\"[abc]\", input_str)  \n",
    "\n",
    "print(result)"
   ]
  },
  {
   "cell_type": "markdown",
   "metadata": {},
   "source": [
    "- re.match\n",
    "\n",
    "    - it will only find matches if they occur at the `start` of the string being searched. \n",
    " \n",
    "    - Otherwise it returns None. "
   ]
  },
  {
   "cell_type": "code",
   "execution_count": 12,
   "metadata": {},
   "outputs": [
    {
     "name": "stdout",
     "output_type": "stream",
     "text": [
      "Match!\n"
     ]
    }
   ],
   "source": [
    "# exact matches:\n",
    "\n",
    "pattern = r\"Cookie\"\n",
    "sequence = \"Cookie\"\n",
    "\n",
    "if re.match(pattern, sequence):\n",
    "    print(\"Match!\")\n",
    "else: \n",
    "    print(\"Not a match!\")"
   ]
  },
  {
   "cell_type": "code",
   "execution_count": 14,
   "metadata": {},
   "outputs": [
    {
     "name": "stdout",
     "output_type": "stream",
     "text": [
      "None\n"
     ]
    }
   ],
   "source": [
    "input_str = \"121abc film Titanic was released in 1998\"  \n",
    "\n",
    "result = re.match(r\"[abc]\", input_str)  \n",
    "\n",
    "print(result)"
   ]
  },
  {
   "cell_type": "markdown",
   "metadata": {},
   "source": [
    "- if a string `starts with a number` instead of an alphabet, the `match` function will return `null` even if there are alphabets after the number. \n",
    "\n",
    "    - since match function only matches the first element in the string."
   ]
  },
  {
   "cell_type": "code",
   "execution_count": 8,
   "metadata": {},
   "outputs": [
    {
     "name": "stdout",
     "output_type": "stream",
     "text": [
      "<re.Match object; span=(0, 3), match='abc'>\n"
     ]
    }
   ],
   "source": [
    "input_str = \"abcaaabc221abbabc film Titanic was released in 1998\"  \n",
    "\n",
    "result = re.match(r\"[a]bc\", input_str)  \n",
    "\n",
    "print(result)"
   ]
  },
  {
   "cell_type": "markdown",
   "metadata": {},
   "source": [
    "**Using re.search(pat, str)**"
   ]
  },
  {
   "cell_type": "code",
   "execution_count": 10,
   "metadata": {},
   "outputs": [
    {
     "name": "stdout",
     "output_type": "stream",
     "text": [
      "<re.Match object; span=(9, 10), match='a'>\n"
     ]
    }
   ],
   "source": [
    "input_str = \" film Titabcnic was released in 1998\"  \n",
    "\n",
    "result = re.search(r\"[abc]\", input_str)  \n",
    "\n",
    "print(result)"
   ]
  },
  {
   "cell_type": "code",
   "execution_count": 17,
   "metadata": {},
   "outputs": [
    {
     "name": "stdout",
     "output_type": "stream",
     "text": [
      "<re.Match object; span=(12, 13), match='a'>\n"
     ]
    }
   ],
   "source": [
    "input_str = \"111 film Titanic was released in 1998\"  \n",
    "\n",
    "result = re.search(r\"[abc]\", input_str)  \n",
    "\n",
    "print(result)"
   ]
  },
  {
   "cell_type": "markdown",
   "metadata": {},
   "source": [
    "The `search()` method is similar to `match()`, but search() `doesn’t restrict` us to only finding matches at the `beginning` of the string"
   ]
  },
  {
   "cell_type": "code",
   "execution_count": 16,
   "metadata": {},
   "outputs": [
    {
     "name": "stdout",
     "output_type": "stream",
     "text": [
      "a\n"
     ]
    }
   ],
   "source": [
    "input_str = \"111 film Titanic was released in 1998\"  \n",
    "\n",
    "result = re.search(r\"[abc]\", input_str).group()\n",
    "\n",
    "print(result)"
   ]
  },
  {
   "cell_type": "code",
   "execution_count": 22,
   "metadata": {},
   "outputs": [],
   "source": [
    "re.search(r'\\w abc', 'kfkfkfkfl ;f;f;f')"
   ]
  },
  {
   "cell_type": "markdown",
   "metadata": {},
   "source": [
    "We can also specify a range of characters using - inside square brackets.\n",
    "\n",
    "- [a-e] is the same as [abcde].\n",
    "- [1-4] is the same as [1234].\n",
    "- [0-39] is the same as [01239]."
   ]
  },
  {
   "cell_type": "code",
   "execution_count": 18,
   "metadata": {},
   "outputs": [
    {
     "data": {
      "text/plain": [
       "'Number: C'"
      ]
     },
     "execution_count": 18,
     "metadata": {},
     "output_type": "execute_result"
    }
   ],
   "source": [
    "re.search(r'Number: [ABC]', 'Number: C Number: 5').group()"
   ]
  },
  {
   "cell_type": "markdown",
   "metadata": {},
   "source": [
    "You can complement (invert) the character set by using caret ^ symbol at the start of a square-bracket.\n",
    "\n",
    "- [^abc] means any character except a or b or c.\n",
    "- [^0-9] means any non-digit character."
   ]
  },
  {
   "cell_type": "code",
   "execution_count": 22,
   "metadata": {},
   "outputs": [
    {
     "data": {
      "text/plain": [
       "'Number: 0'"
      ]
     },
     "execution_count": 22,
     "metadata": {},
     "output_type": "execute_result"
    }
   ],
   "source": [
    "# Matches any character except 5\n",
    "re.search(r'Number: [^5]', 'Number: 0').group()"
   ]
  },
  {
   "cell_type": "markdown",
   "metadata": {},
   "source": [
    "**Using findall()**"
   ]
  },
  {
   "cell_type": "code",
   "execution_count": 11,
   "metadata": {},
   "outputs": [
    {
     "name": "stdout",
     "output_type": "stream",
     "text": [
      "['a', 'c', 'a', 'a']\n"
     ]
    }
   ],
   "source": [
    "input_str = \"111 film Titanic was released in 1998\"  \n",
    "\n",
    "result = re.findall(r\"[abc]\", input_str)\n",
    "\n",
    "print(result)"
   ]
  },
  {
   "cell_type": "markdown",
   "metadata": {},
   "source": [
    "-----------------------------------\n",
    "#### . Period\n",
    "------------------------------------\n",
    "\n",
    "A period matches any single character (except newline '\\n')."
   ]
  },
  {
   "cell_type": "code",
   "execution_count": 8,
   "metadata": {},
   "outputs": [
    {
     "data": {
      "image/png": "[encoded data removed]",
      "text/plain": [
       "<IPython.core.display.Image object>"
      ]
     },
     "execution_count": 8,
     "metadata": {
      "image/png": {
       "width": 800
      }
     },
     "output_type": "execute_result"
    }
   ],
   "source": [
    "Image(r'D:\\MYLEARN\\2-ANALYTICS-DataScience\\icons-images\\re-01.png', width=800)"
   ]
  },
  {
   "cell_type": "code",
   "execution_count": 12,
   "metadata": {},
   "outputs": [],
   "source": [
    "# Matches any character except 5\n",
    "re.search(r'..', 'a')"
   ]
  },
  {
   "cell_type": "code",
   "execution_count": 14,
   "metadata": {},
   "outputs": [
    {
     "data": {
      "text/plain": [
       "<re.Match object; span=(0, 2), match='ac'>"
      ]
     },
     "execution_count": 14,
     "metadata": {},
     "output_type": "execute_result"
    }
   ],
   "source": [
    "re.search(r'..', 'ac')"
   ]
  },
  {
   "cell_type": "code",
   "execution_count": 17,
   "metadata": {},
   "outputs": [
    {
     "data": {
      "text/plain": [
       "<re.Match object; span=(0, 2), match='ac'>"
      ]
     },
     "execution_count": 17,
     "metadata": {},
     "output_type": "execute_result"
    }
   ],
   "source": [
    "re.search(r'..', 'acd')"
   ]
  },
  {
   "cell_type": "code",
   "execution_count": 18,
   "metadata": {},
   "outputs": [
    {
     "data": {
      "text/plain": [
       "<re.Match object; span=(0, 2), match='ac'>"
      ]
     },
     "execution_count": 18,
     "metadata": {},
     "output_type": "execute_result"
    }
   ],
   "source": [
    "re.search(r'..', 'acde')"
   ]
  },
  {
   "cell_type": "code",
   "execution_count": 19,
   "metadata": {},
   "outputs": [
    {
     "data": {
      "text/plain": [
       "['ac', 'de']"
      ]
     },
     "execution_count": 19,
     "metadata": {},
     "output_type": "execute_result"
    }
   ],
   "source": [
    "re.findall(r'..', 'acde')"
   ]
  },
  {
   "cell_type": "code",
   "execution_count": 20,
   "metadata": {},
   "outputs": [
    {
     "data": {
      "text/plain": [
       "['ac', 'de', 'fg', 'ht']"
      ]
     },
     "execution_count": 20,
     "metadata": {},
     "output_type": "execute_result"
    }
   ],
   "source": [
    "re.findall(r'..', 'acdefght')"
   ]
  },
  {
   "cell_type": "markdown",
   "metadata": {},
   "source": [
    "--------------------------------------\n",
    "#### ^ - Caret\n",
    "-------------------------------------\n",
    "The caret symbol `^` is used to check `if a string starts` with a certain character."
   ]
  },
  {
   "cell_type": "code",
   "execution_count": 9,
   "metadata": {},
   "outputs": [
    {
     "data": {
      "image/png": "[encoded data removed]",
      "text/plain": [
       "<IPython.core.display.Image object>"
      ]
     },
     "execution_count": 9,
     "metadata": {
      "image/png": {
       "width": 800
      }
     },
     "output_type": "execute_result"
    }
   ],
   "source": [
    "Image(r'D:\\MYLEARN\\2-ANALYTICS-DataScience\\icons-images\\re-02.png', width=800)"
   ]
  },
  {
   "cell_type": "code",
   "execution_count": 21,
   "metadata": {},
   "outputs": [
    {
     "name": "stdout",
     "output_type": "stream",
     "text": [
      "<re.Match object; span=(0, 1), match='a'>\n",
      "<re.Match object; span=(0, 1), match='a'>\n",
      "None\n",
      "<re.Match object; span=(0, 2), match='ab'>\n",
      "None\n"
     ]
    }
   ],
   "source": [
    "print(re.search(r'^a', 'a'))\n",
    "print(re.search(r'^a', 'abc'))\n",
    "print(re.search(r'^a', 'bac'))\n",
    "print(re.search(r'^ab', 'abc'))\n",
    "print(re.search(r'^ab', 'acb'))"
   ]
  },
  {
   "cell_type": "markdown",
   "metadata": {},
   "source": [
    "-----------------------------------------\n",
    "#### - Dollar Symbol\n",
    "-----------------------------------------------------------\n",
    "The dollar symbol $ is used to check if a string ends with a certain character."
   ]
  },
  {
   "cell_type": "code",
   "execution_count": 10,
   "metadata": {},
   "outputs": [
    {
     "data": {
      "image/png": "[encoded data removed]",
      "text/plain": [
       "<IPython.core.display.Image object>"
      ]
     },
     "execution_count": 10,
     "metadata": {
      "image/png": {
       "width": 400
      }
     },
     "output_type": "execute_result"
    }
   ],
   "source": [
    "Image(r'D:\\MYLEARN\\2-ANALYTICS-DataScience\\icons-images\\re-03.png', width=400)"
   ]
  },
  {
   "cell_type": "code",
   "execution_count": 15,
   "metadata": {},
   "outputs": [
    {
     "name": "stdout",
     "output_type": "stream",
     "text": [
      "<re.Match object; span=(0, 1), match='a'>\n",
      "<re.Match object; span=(4, 5), match='a'>\n",
      "None\n"
     ]
    }
   ],
   "source": [
    "print(re.search(r'a$', 'a'))\n",
    "print(re.search(r'a$', 'tabla'))\n",
    "print(re.search(r'a$', 'cab'))"
   ]
  },
  {
   "cell_type": "markdown",
   "metadata": {},
   "source": [
    "------------------\n",
    "#### * - Star\n",
    "-----------------\n",
    "The star symbol * matches `zero or more occurrences` of the pattern left to it."
   ]
  },
  {
   "cell_type": "code",
   "execution_count": 11,
   "metadata": {},
   "outputs": [
    {
     "data": {
      "image/png": "[encoded data removed]",
      "text/plain": [
       "<IPython.core.display.Image object>"
      ]
     },
     "execution_count": 11,
     "metadata": {
      "image/png": {
       "width": 800
      }
     },
     "output_type": "execute_result"
    }
   ],
   "source": [
    "Image(r'D:\\MYLEARN\\2-ANALYTICS-DataScience\\icons-images\\re-04.png', width=800)"
   ]
  },
  {
   "cell_type": "code",
   "execution_count": 23,
   "metadata": {},
   "outputs": [
    {
     "name": "stdout",
     "output_type": "stream",
     "text": [
      "<re.Match object; span=(0, 2), match='mn'>\n",
      "<re.Match object; span=(0, 3), match='man'>\n",
      "<re.Match object; span=(0, 3), match='man'>\n",
      "<re.Match object; span=(0, 5), match='maaan'>\n",
      "None\n",
      "None\n",
      "<re.Match object; span=(2, 5), match='man'>\n"
     ]
    }
   ],
   "source": [
    "print(re.search(r'ma*n', 'mn'))\n",
    "print(re.search(r'ma*n', 'man'))\n",
    "print(re.search(r'ma*n', 'mann'))\n",
    "print(re.search(r'ma*n', 'maaan'))\n",
    "print(re.search(r'ma*n', 'main'))    # a is not followed by n\n",
    "print(re.search(r'ma*n', 'maine'))   # a is not followed by n\n",
    "print(re.search(r'ma*n', 'woman'))"
   ]
  },
  {
   "cell_type": "code",
   "execution_count": 70,
   "metadata": {},
   "outputs": [
    {
     "data": {
      "text/plain": [
       "<re.Match object; span=(0, 6), match='foobar'>"
      ]
     },
     "execution_count": 70,
     "metadata": {},
     "output_type": "execute_result"
    }
   ],
   "source": [
    "re.search('foo-*bar', 'foobar') # Zero dashes"
   ]
  },
  {
   "cell_type": "markdown",
   "metadata": {},
   "source": [
    " there are zero '-' characters between 'foo' and 'bar'."
   ]
  },
  {
   "cell_type": "code",
   "execution_count": 29,
   "metadata": {},
   "outputs": [
    {
     "data": {
      "text/plain": [
       "<re.Match object; span=(0, 7), match='foo-bar'>"
      ]
     },
     "execution_count": 29,
     "metadata": {},
     "output_type": "execute_result"
    }
   ],
   "source": [
    "re.search('foo-*bar', 'foo-bar') # One dash"
   ]
  },
  {
   "cell_type": "markdown",
   "metadata": {},
   "source": [
    "there’s one '-' characters between 'foo' and 'bar'."
   ]
  },
  {
   "cell_type": "code",
   "execution_count": 30,
   "metadata": {},
   "outputs": [
    {
     "data": {
      "text/plain": [
       "<re.Match object; span=(0, 8), match='foo--bar'>"
      ]
     },
     "execution_count": 30,
     "metadata": {},
     "output_type": "execute_result"
    }
   ],
   "source": [
    "re.search('foo-*bar', 'foo--bar') "
   ]
  },
  {
   "cell_type": "markdown",
   "metadata": {},
   "source": [
    "--------------------\n",
    "#### + - Plus\n",
    "-------------------------------------\n",
    "The plus symbol `+` matches one or more occurrences of the pattern left to it."
   ]
  },
  {
   "cell_type": "code",
   "execution_count": 12,
   "metadata": {},
   "outputs": [
    {
     "data": {
      "image/png": "[encoded data removed]",
      "text/plain": [
       "<IPython.core.display.Image object>"
      ]
     },
     "execution_count": 12,
     "metadata": {
      "image/png": {
       "width": 800
      }
     },
     "output_type": "execute_result"
    }
   ],
   "source": [
    "Image(r'D:\\MYLEARN\\2-ANALYTICS-DataScience\\icons-images\\re-05.png', width=800)"
   ]
  },
  {
   "cell_type": "code",
   "execution_count": 24,
   "metadata": {},
   "outputs": [
    {
     "name": "stdout",
     "output_type": "stream",
     "text": [
      "None\n",
      "<re.Match object; span=(0, 3), match='man'>\n",
      "<re.Match object; span=(0, 3), match='man'>\n",
      "<re.Match object; span=(0, 5), match='maaan'>\n",
      "None\n",
      "None\n",
      "<re.Match object; span=(2, 5), match='man'>\n"
     ]
    }
   ],
   "source": [
    "print(re.search(r'ma+n', 'mn'))\n",
    "print(re.search(r'ma+n', 'man'))\n",
    "print(re.search(r'ma+n', 'mann'))\n",
    "print(re.search(r'ma+n', 'maaan'))\n",
    "print(re.search(r'ma+n', 'main'))    # a is not followed by n\n",
    "print(re.search(r'ma+n', 'maine'))   # a is not followed by n\n",
    "print(re.search(r'ma+n', 'woman'))"
   ]
  },
  {
   "cell_type": "markdown",
   "metadata": {},
   "source": [
    "--------------------------\n",
    "#### ? - Question Mark\n",
    "------------------------------\n",
    "The question mark symbol `?` matches zero or one occurrence of the pattern left to it."
   ]
  },
  {
   "cell_type": "code",
   "execution_count": 13,
   "metadata": {},
   "outputs": [
    {
     "data": {
      "image/png": "[encoded data removed]",
      "text/plain": [
       "<IPython.core.display.Image object>"
      ]
     },
     "execution_count": 13,
     "metadata": {
      "image/png": {
       "width": 800
      }
     },
     "output_type": "execute_result"
    }
   ],
   "source": [
    "Image(r'D:\\MYLEARN\\2-ANALYTICS-DataScience\\icons-images\\re-06.png', width=800)"
   ]
  },
  {
   "cell_type": "code",
   "execution_count": 25,
   "metadata": {},
   "outputs": [
    {
     "name": "stdout",
     "output_type": "stream",
     "text": [
      "<re.Match object; span=(0, 2), match='mn'>\n",
      "<re.Match object; span=(0, 3), match='man'>\n",
      "<re.Match object; span=(0, 3), match='man'>\n",
      "None\n",
      "None\n",
      "None\n",
      "<re.Match object; span=(2, 5), match='man'>\n"
     ]
    }
   ],
   "source": [
    "print(re.search(r'ma?n', 'mn'))\n",
    "print(re.search(r'ma?n', 'man'))\n",
    "print(re.search(r'ma?n', 'mann'))\n",
    "print(re.search(r'ma?n', 'maaan'))   # more than 1 a\n",
    "print(re.search(r'ma?n', 'main'))    # a is not followed by n\n",
    "print(re.search(r'ma?n', 'maine'))   # a is not followed by n\n",
    "print(re.search(r'ma?n', 'woman'))"
   ]
  },
  {
   "cell_type": "markdown",
   "metadata": {},
   "source": [
    "-------\n",
    "#### {} - Braces\n",
    "---------------------------\n",
    "Consider this code: {n,m}. This means `at least n`, and `at most m` repetitions of the pattern left to it."
   ]
  },
  {
   "cell_type": "code",
   "execution_count": 14,
   "metadata": {},
   "outputs": [
    {
     "data": {
      "image/png": "[encoded data removed]",
      "text/plain": [
       "<IPython.core.display.Image object>"
      ]
     },
     "execution_count": 14,
     "metadata": {
      "image/png": {
       "width": 800
      }
     },
     "output_type": "execute_result"
    }
   ],
   "source": [
    "Image(r'D:\\MYLEARN\\2-ANALYTICS-DataScience\\icons-images\\re-07.png', width=800)"
   ]
  },
  {
   "cell_type": "code",
   "execution_count": 16,
   "metadata": {},
   "outputs": [
    {
     "name": "stdout",
     "output_type": "stream",
     "text": [
      "None\n",
      "<re.Match object; span=(5, 7), match='aa'>\n",
      "<re.Match object; span=(0, 2), match='aa'>\n",
      "<re.Match object; span=(0, 2), match='aa'>\n"
     ]
    }
   ],
   "source": [
    "print(re.search(r'a{2,3}', 'abc dat'))\n",
    "print(re.search(r'a{2,3}', 'abc daat'))\n",
    "print(re.search(r'a{2,3}', 'aabc daaat'))\n",
    "print(re.search(r'a{2,3}', 'aabc daaaat'))"
   ]
  },
  {
   "cell_type": "code",
   "execution_count": 27,
   "metadata": {},
   "outputs": [
    {
     "name": "stdout",
     "output_type": "stream",
     "text": [
      "['aa', 'aaa']\n",
      "['aa', 'aaa']\n"
     ]
    }
   ],
   "source": [
    "print(re.findall(r'a{2,3}', 'aabc daaat'))\n",
    "print(re.findall(r'a{2,3}', 'aabc daaaat'))"
   ]
  },
  {
   "cell_type": "markdown",
   "metadata": {},
   "source": [
    "Let's try one more example. This RegEx `[0-9]{2, 4}` matches at least 2 digits but not more than 4 digits"
   ]
  },
  {
   "cell_type": "code",
   "execution_count": 15,
   "metadata": {},
   "outputs": [
    {
     "data": {
      "image/png": "[encoded data removed]",
      "text/plain": [
       "<IPython.core.display.Image object>"
      ]
     },
     "execution_count": 15,
     "metadata": {
      "image/png": {
       "width": 800
      }
     },
     "output_type": "execute_result"
    }
   ],
   "source": [
    "Image(r'D:\\MYLEARN\\2-ANALYTICS-DataScience\\icons-images\\re-08.png', width=800)"
   ]
  },
  {
   "cell_type": "code",
   "execution_count": 87,
   "metadata": {},
   "outputs": [
    {
     "name": "stdout",
     "output_type": "stream",
     "text": [
      "['123']\n",
      "['12', '3456', '3412', '4567', '88']\n"
     ]
    }
   ],
   "source": [
    "print(re.findall(r'[0-9]{2,4}', 'ab123csde'))\n",
    "print(re.findall(r'[0-9]{2,4}', '12 and 3456 and 34127 also 456788'))"
   ]
  },
  {
   "cell_type": "markdown",
   "metadata": {},
   "source": [
    "**{m} - Matches exactly m repetitions of the preceding regex.**"
   ]
  },
  {
   "cell_type": "code",
   "execution_count": 120,
   "metadata": {},
   "outputs": [
    {
     "name": "stdout",
     "output_type": "stream",
     "text": [
      "None\n",
      "<re.Match object; span=(0, 5), match='x---x'>\n",
      "None\n"
     ]
    }
   ],
   "source": [
    "print(re.search('x-{3}x', 'x--x'))                # Two dashes\n",
    "print(re.search('x-{3}x', 'x---x'))               # Three dashes\n",
    "print(re.search('x-{3}x', 'x----x'))              # Four dashes"
   ]
  },
  {
   "cell_type": "markdown",
   "metadata": {},
   "source": [
    "- Here, x-{3}x matches 'x', followed by exactly three instances of the '-' character, followed by another 'x'. \n",
    "\n",
    "- The match fails when there are fewer or more than three dashes between the 'x' characters."
   ]
  },
  {
   "cell_type": "code",
   "execution_count": 121,
   "metadata": {},
   "outputs": [
    {
     "name": "stdout",
     "output_type": "stream",
     "text": [
      "1  x-x        None\n",
      "2  x--x       <re.Match object; span=(0, 4), match='x--x'>\n",
      "3  x---x      <re.Match object; span=(0, 5), match='x---x'>\n",
      "4  x----x     <re.Match object; span=(0, 6), match='x----x'>\n",
      "5  x-----x    None\n"
     ]
    }
   ],
   "source": [
    "for i in range(1, 6):\n",
    "...     s = f\"x{'-' * i}x\"\n",
    "...     print(f'{i}  {s:10}', re.search('x-{2,4}x', s))"
   ]
  },
  {
   "cell_type": "code",
   "execution_count": 122,
   "metadata": {},
   "outputs": [
    {
     "data": {
      "text/plain": [
       "<re.Match object; span=(0, 5), match='aaaaa'>"
      ]
     },
     "execution_count": 122,
     "metadata": {},
     "output_type": "execute_result"
    }
   ],
   "source": [
    "re.search('a{3,5}', 'aaaaaaaa')"
   ]
  },
  {
   "cell_type": "code",
   "execution_count": 123,
   "metadata": {},
   "outputs": [
    {
     "data": {
      "text/plain": [
       "<re.Match object; span=(0, 3), match='aaa'>"
      ]
     },
     "execution_count": 123,
     "metadata": {},
     "output_type": "execute_result"
    }
   ],
   "source": [
    "re.search('a{3,5}?', 'aaaaaaaa')"
   ]
  },
  {
   "cell_type": "markdown",
   "metadata": {},
   "source": [
    "In this case, a{3,5} produces the longest possible match, so it matches five 'a' characters. a{3,5}? produces the shortest match, so it matches three."
   ]
  },
  {
   "cell_type": "markdown",
   "metadata": {},
   "source": [
    "---------------------------\n",
    "#### | - Alternation\n",
    "------------------------------------------\n",
    "Vertical bar `|` is used for alternation (or operator)."
   ]
  },
  {
   "cell_type": "code",
   "execution_count": 16,
   "metadata": {},
   "outputs": [
    {
     "data": {
      "image/png": "[encoded data removed]",
      "text/plain": [
       "<IPython.core.display.Image object>"
      ]
     },
     "execution_count": 16,
     "metadata": {
      "image/png": {
       "width": 800
      }
     },
     "output_type": "execute_result"
    }
   ],
   "source": [
    "Image(r'D:\\MYLEARN\\2-ANALYTICS-DataScience\\icons-images\\re-09.png', width=800)"
   ]
  },
  {
   "cell_type": "code",
   "execution_count": 28,
   "metadata": {},
   "outputs": [
    {
     "name": "stdout",
     "output_type": "stream",
     "text": [
      "[]\n",
      "['a']\n",
      "['a', 'b', 'a']\n"
     ]
    }
   ],
   "source": [
    "print(re.findall(r'a|b', 'cde'))\n",
    "print(re.findall(r'a|b', 'ade'))\n",
    "print(re.findall(r'a|b', 'acdbea'))"
   ]
  },
  {
   "cell_type": "markdown",
   "metadata": {},
   "source": [
    "Here, a|b match any string that contains either a or b"
   ]
  },
  {
   "cell_type": "markdown",
   "metadata": {},
   "source": [
    "---------------------------\n",
    "#### () - Group\n",
    "-----------------------------\n",
    "Parentheses () is used to `group` sub-patterns. \n",
    "\n",
    "For example, (a|b|c)xz match any string that matches either a or b or c followed by xz"
   ]
  },
  {
   "cell_type": "code",
   "execution_count": 17,
   "metadata": {},
   "outputs": [
    {
     "data": {
      "image/png": "[encoded data removed]",
      "text/plain": [
       "<IPython.core.display.Image object>"
      ]
     },
     "execution_count": 17,
     "metadata": {
      "image/png": {
       "width": 800
      }
     },
     "output_type": "execute_result"
    }
   ],
   "source": [
    "Image(r'D:\\MYLEARN\\2-ANALYTICS-DataScience\\icons-images\\re-10.png', width=800)"
   ]
  },
  {
   "cell_type": "code",
   "execution_count": 91,
   "metadata": {},
   "outputs": [
    {
     "name": "stdout",
     "output_type": "stream",
     "text": [
      "[]\n",
      "['b']\n",
      "['a', 'b']\n"
     ]
    }
   ],
   "source": [
    "print(re.findall(r'(a|b|c)xz', 'ab xz'))\n",
    "print(re.findall(r'(a|b|c)xz', 'abxz'))\n",
    "print(re.findall(r'(a|b|c)xz', 'axz cabxz'))"
   ]
  },
  {
   "cell_type": "markdown",
   "metadata": {},
   "source": [
    "#### Grouping Constructs \n",
    "Grouping constructs break up a regex in Python into subexpressions or groups. This serves two purposes:\n",
    "\n",
    "- `Grouping`: A group represents a single syntactic entity. Additional metacharacters apply to the entire group as a unit.\n",
    "- `Capturing`: Some grouping constructs also capture the portion of the search string that matches the `subexpression` in the group. \n",
    "    - You can retrieve captured matches later through several different mechanisms.\n",
    "    \n",
    "- Here’s how grouping and capturing work.\n",
    "\n",
    "> `(regex)` - Defines a subexpression or group.\n",
    "\n",
    "- A `regex in parentheses` just matches the contents of the parentheses:"
   ]
  },
  {
   "cell_type": "code",
   "execution_count": 126,
   "metadata": {},
   "outputs": [
    {
     "name": "stdout",
     "output_type": "stream",
     "text": [
      "<re.Match object; span=(4, 7), match='bar'>\n",
      "<re.Match object; span=(4, 7), match='bar'>\n"
     ]
    }
   ],
   "source": [
    "print(re.search('(bar)', 'foo bar baz'))\n",
    "print(re.search('bar', 'foo bar baz'))"
   ]
  },
  {
   "cell_type": "markdown",
   "metadata": {},
   "source": [
    "As a regex, `(bar)` matches the string 'bar', the same as the regex `bar` would `without the parentheses`."
   ]
  },
  {
   "cell_type": "code",
   "execution_count": 125,
   "metadata": {},
   "outputs": [
    {
     "data": {
      "text/plain": [
       "['bar', 'bar']"
      ]
     },
     "execution_count": 125,
     "metadata": {},
     "output_type": "execute_result"
    }
   ],
   "source": [
    "re.findall('(bar)', 'foo bar baz ggg bar')"
   ]
  },
  {
   "cell_type": "markdown",
   "metadata": {},
   "source": [
    "- Treating a Group as a Unit\n",
    "    - A quantifier metacharacter that follows a group operates on the entire subexpression specified in the group as a single unit.\n",
    "\n",
    "    - For instance, the following example matches one or more occurrences of the string 'bar':"
   ]
  },
  {
   "cell_type": "code",
   "execution_count": 131,
   "metadata": {},
   "outputs": [
    {
     "name": "stdout",
     "output_type": "stream",
     "text": [
      "<re.Match object; span=(4, 7), match='bar'>\n",
      "<re.Match object; span=(4, 10), match='barbar'>\n",
      "<re.Match object; span=(4, 16), match='barbarbarbar'>\n"
     ]
    }
   ],
   "source": [
    "print(re.search('(bar)+', 'foo bar baz'))\n",
    "print(re.search('(bar)+', 'foo barbar baz'))\n",
    "print(re.search('(bar)+', 'foo barbarbarbar baz'))"
   ]
  },
  {
   "cell_type": "code",
   "execution_count": 134,
   "metadata": {},
   "outputs": [
    {
     "data": {
      "image/png": "[encoded data removed]",
      "text/plain": [
       "<IPython.core.display.Image object>"
      ]
     },
     "execution_count": 134,
     "metadata": {
      "image/png": {
       "width": 800
      }
     },
     "output_type": "execute_result"
    }
   ],
   "source": [
    "Image('re-21.png', width=800)"
   ]
  },
  {
   "cell_type": "markdown",
   "metadata": {},
   "source": [
    "- a more `complicated` example. \n",
    "\n",
    "    - The regex `(ba[rz]){2,4}(qux)?` matches 2 to 4 occurrences of either 'bar' or 'baz', optionally followed by 'qux':"
   ]
  },
  {
   "cell_type": "code",
   "execution_count": 136,
   "metadata": {},
   "outputs": [
    {
     "name": "stdout",
     "output_type": "stream",
     "text": [
      "<re.Match object; span=(0, 12), match='bazbarbazqux'>\n",
      "<re.Match object; span=(0, 6), match='barbar'>\n"
     ]
    }
   ],
   "source": [
    "print(re.search('(ba[rz]){2,4}(qux)?', 'bazbarbazqux'))\n",
    "print(re.search('(ba[rz]){2,4}(qux)?', 'barbar'))"
   ]
  },
  {
   "cell_type": "markdown",
   "metadata": {},
   "source": [
    "**nest grouping parentheses**"
   ]
  },
  {
   "cell_type": "code",
   "execution_count": 142,
   "metadata": {},
   "outputs": [
    {
     "name": "stdout",
     "output_type": "stream",
     "text": [
      "<re.Match object; span=(0, 9), match='foofoobar'>\n",
      "<re.Match object; span=(0, 12), match='foofoobarcow'>\n",
      "<re.Match object; span=(0, 9), match='foofoocow'>\n"
     ]
    }
   ],
   "source": [
    "print(re.search('(foo(bar)?)+(cow)?', 'foofoobar'))\n",
    "print(re.search('(foo(bar)?)+(cow)?', 'foofoobarcow'))\n",
    "print(re.search('(foo(bar)?)+(cow)?', 'foofoocow'))"
   ]
  },
  {
   "cell_type": "code",
   "execution_count": 18,
   "metadata": {},
   "outputs": [
    {
     "data": {
      "image/png": "[encoded data removed]",
      "text/plain": [
       "<IPython.core.display.Image object>"
      ]
     },
     "execution_count": 18,
     "metadata": {
      "image/png": {
       "width": 800
      }
     },
     "output_type": "execute_result"
    }
   ],
   "source": [
    "Image(r'D:\\MYLEARN\\2-ANALYTICS-DataScience\\icons-images\\re-22.png', width=800)"
   ]
  },
  {
   "cell_type": "markdown",
   "metadata": {},
   "source": [
    "-------------\n",
    "#### \\ - Backslash\n",
    "-------------\n",
    "Backlash \\ is used to escape various characters including all `metacharacters`. "
   ]
  },
  {
   "cell_type": "raw",
   "metadata": {},
   "source": [
    "For example,\n",
    "\n",
    "- \\$a match if a string contains $ followed by a. \n",
    "\n",
    "Here, $ is not interpreted by a RegEx engine in a special way."
   ]
  },
  {
   "cell_type": "markdown",
   "metadata": {},
   "source": [
    "---------\n",
    "## Special Sequences\n",
    "------------------------\n",
    "\n",
    "Special sequences make commonly used patterns easier to write."
   ]
  },
  {
   "cell_type": "markdown",
   "metadata": {},
   "source": [
    "-----------\n",
    "#### \\A - Matches if the specified characters are at the start of a string.\n",
    "-----------\n"
   ]
  },
  {
   "cell_type": "code",
   "execution_count": 19,
   "metadata": {},
   "outputs": [
    {
     "data": {
      "image/png": "[encoded data removed]",
      "text/plain": [
       "<IPython.core.display.Image object>"
      ]
     },
     "execution_count": 19,
     "metadata": {
      "image/png": {
       "width": 800
      }
     },
     "output_type": "execute_result"
    }
   ],
   "source": [
    "Image(r'D:\\MYLEARN\\2-ANALYTICS-DataScience\\icons-images\\re-11.png', width=800)"
   ]
  },
  {
   "cell_type": "code",
   "execution_count": 93,
   "metadata": {},
   "outputs": [
    {
     "name": "stdout",
     "output_type": "stream",
     "text": [
      "['the']\n",
      "[]\n"
     ]
    }
   ],
   "source": [
    "print(re.findall(r'\\Athe', 'the telegraph'))\n",
    "print(re.findall(r'\\Athe', 'In the sun'))"
   ]
  },
  {
   "cell_type": "markdown",
   "metadata": {},
   "source": [
    "-------------------------------------------\n",
    "#### \\b - Matches if the specified characters are at the beginning or end of a word.\n",
    "-------------------------------------------"
   ]
  },
  {
   "cell_type": "code",
   "execution_count": 20,
   "metadata": {},
   "outputs": [
    {
     "data": {
      "image/png": "[encoded data removed]",
      "text/plain": [
       "<IPython.core.display.Image object>"
      ]
     },
     "execution_count": 20,
     "metadata": {
      "image/png": {
       "width": 800
      }
     },
     "output_type": "execute_result"
    }
   ],
   "source": [
    "Image(r'D:\\MYLEARN\\2-ANALYTICS-DataScience\\icons-images\\re-12.png', width=800)"
   ]
  },
  {
   "cell_type": "code",
   "execution_count": 96,
   "metadata": {},
   "outputs": [
    {
     "name": "stdout",
     "output_type": "stream",
     "text": [
      "['foo']\n",
      "['foo']\n",
      "[]\n",
      "['foo']\n",
      "['foo']\n",
      "[]\n"
     ]
    }
   ],
   "source": [
    "print(re.findall(r'\\bfoo', 'football'))\n",
    "print(re.findall(r'\\bfoo', 'a football'))\n",
    "print(re.findall(r'\\bfoo', 'afootball'))\n",
    "\n",
    "print(re.findall(r'foo\\b', 'the foo'))\n",
    "print(re.findall(r'foo\\b', 'the afoo test'))\n",
    "print(re.findall(r'foo\\b', 'theafoottest'))"
   ]
  },
  {
   "cell_type": "markdown",
   "metadata": {},
   "source": [
    "-------\n",
    "#### \\B - Opposite of \\b. \n",
    "-----\n",
    "\n",
    "Matches if the specified characters are not at the beginning or end of a word."
   ]
  },
  {
   "cell_type": "code",
   "execution_count": 97,
   "metadata": {},
   "outputs": [
    {
     "data": {
      "image/png": "[encoded data removed]",
      "text/plain": [
       "<IPython.core.display.Image object>"
      ]
     },
     "execution_count": 97,
     "metadata": {
      "image/png": {
       "width": 800
      }
     },
     "output_type": "execute_result"
    }
   ],
   "source": [
    "Image('re-13.png', width=800)"
   ]
  },
  {
   "cell_type": "code",
   "execution_count": 98,
   "metadata": {},
   "outputs": [
    {
     "name": "stdout",
     "output_type": "stream",
     "text": [
      "[]\n",
      "[]\n",
      "['foo']\n",
      "[]\n",
      "[]\n",
      "['foo']\n"
     ]
    }
   ],
   "source": [
    "print(re.findall(r'\\Bfoo', 'football'))\n",
    "print(re.findall(r'\\Bfoo', 'a football'))\n",
    "print(re.findall(r'\\Bfoo', 'afootball'))\n",
    "\n",
    "print(re.findall(r'foo\\B', 'the foo'))\n",
    "print(re.findall(r'foo\\B', 'the afoo test'))\n",
    "print(re.findall(r'foo\\B', 'theafoottest'))"
   ]
  },
  {
   "cell_type": "markdown",
   "metadata": {},
   "source": [
    "---------\n",
    "#### \\d - Matches any decimal digit. Equivalent to [0-9]\n",
    "----------"
   ]
  },
  {
   "cell_type": "code",
   "execution_count": 21,
   "metadata": {},
   "outputs": [
    {
     "data": {
      "image/png": "[encoded data removed]",
      "text/plain": [
       "<IPython.core.display.Image object>"
      ]
     },
     "execution_count": 21,
     "metadata": {
      "image/png": {
       "width": 800
      }
     },
     "output_type": "execute_result"
    }
   ],
   "source": [
    "Image(r'D:\\MYLEARN\\2-ANALYTICS-DataScience\\icons-images\\re-14.png', width=800)"
   ]
  },
  {
   "cell_type": "code",
   "execution_count": 29,
   "metadata": {},
   "outputs": [
    {
     "name": "stdout",
     "output_type": "stream",
     "text": [
      "['1', '7', '6']\n",
      "[]\n"
     ]
    }
   ],
   "source": [
    "print(re.findall(r'\\d', '17abc6'))\n",
    "print(re.findall(r'\\d', 'Python Data Science'))"
   ]
  },
  {
   "cell_type": "code",
   "execution_count": 30,
   "metadata": {},
   "outputs": [
    {
     "name": "stdout",
     "output_type": "stream",
     "text": [
      "<re.Match object; span=(0, 9), match='foofoobar'>\n",
      "<re.Match object; span=(0, 12), match='foofoobar123'>\n",
      "<re.Match object; span=(0, 9), match='foofoo123'>\n"
     ]
    }
   ],
   "source": [
    "print(re.search('(foo(bar)?)+(\\d\\d\\d)?', 'foofoobar'))\n",
    "print(re.search('(foo(bar)?)+(\\d\\d\\d)?', 'foofoobar123'))\n",
    "print(re.search('(foo(bar)?)+(\\d\\d\\d)?', 'foofoo123'))"
   ]
  },
  {
   "cell_type": "markdown",
   "metadata": {},
   "source": [
    "- at least one occurrence of 'foo' `optionally` followed by 'bar', all `optionally` followed by 3 decimal digit characters."
   ]
  },
  {
   "cell_type": "markdown",
   "metadata": {},
   "source": [
    "-----------\n",
    "#### \\D - Matches any non-decimal digit. Equivalent to [^0-9]\n",
    "----------"
   ]
  },
  {
   "cell_type": "code",
   "execution_count": 22,
   "metadata": {},
   "outputs": [
    {
     "data": {
      "image/png": "[encoded data removed]",
      "text/plain": [
       "<IPython.core.display.Image object>"
      ]
     },
     "execution_count": 22,
     "metadata": {
      "image/png": {
       "width": 800
      }
     },
     "output_type": "execute_result"
    }
   ],
   "source": [
    "Image(r'D:\\MYLEARN\\2-ANALYTICS-DataScience\\icons-images\\re-15.png', width=800)"
   ]
  },
  {
   "cell_type": "code",
   "execution_count": 31,
   "metadata": {},
   "outputs": [
    {
     "name": "stdout",
     "output_type": "stream",
     "text": [
      "['a', 'b', '\"']\n",
      "[]\n"
     ]
    }
   ],
   "source": [
    "print(re.findall(r'\\D', '1ab34\"50'))\n",
    "print(re.findall(r'\\D', '1234'))"
   ]
  },
  {
   "cell_type": "markdown",
   "metadata": {},
   "source": [
    "-----------------------\n",
    "#### \\s - Matches where a string contains any whitespace character. .\n",
    "------------------\n",
    "Equivalent to [ \\t\\n\\r\\f\\v]"
   ]
  },
  {
   "cell_type": "code",
   "execution_count": 23,
   "metadata": {},
   "outputs": [
    {
     "data": {
      "image/png": "[encoded data removed]",
      "text/plain": [
       "<IPython.core.display.Image object>"
      ]
     },
     "execution_count": 23,
     "metadata": {
      "image/png": {
       "width": 800
      }
     },
     "output_type": "execute_result"
    }
   ],
   "source": [
    "Image(r'D:\\MYLEARN\\2-ANALYTICS-DataScience\\icons-images\\re-16.png', width=800)"
   ]
  },
  {
   "cell_type": "code",
   "execution_count": 105,
   "metadata": {},
   "outputs": [
    {
     "name": "stdout",
     "output_type": "stream",
     "text": [
      "[' ']\n",
      "[]\n"
     ]
    }
   ],
   "source": [
    "print(re.findall(r'\\s', 'Python RegEx'))\n",
    "print(re.findall(r'\\s', 'PythonRegEx'))"
   ]
  },
  {
   "cell_type": "code",
   "execution_count": null,
   "metadata": {},
   "outputs": [],
   "source": [
    "re.findall(r'\\s', 'Python \\t RegEx')"
   ]
  },
  {
   "cell_type": "code",
   "execution_count": null,
   "metadata": {},
   "outputs": [],
   "source": [
    "re.findall(r'\\s', ' Python \\t \\n RegEx    ')"
   ]
  },
  {
   "cell_type": "markdown",
   "metadata": {},
   "source": [
    "-------------\n",
    "#### \\S - Matches where a string contains any non-whitespace character. \n",
    "--------\n",
    "\n",
    "Equivalent to [^ \\t\\n\\r\\f\\v]"
   ]
  },
  {
   "cell_type": "code",
   "execution_count": 24,
   "metadata": {},
   "outputs": [
    {
     "data": {
      "image/png": "[encoded data removed]",
      "text/plain": [
       "<IPython.core.display.Image object>"
      ]
     },
     "execution_count": 24,
     "metadata": {
      "image/png": {
       "width": 800
      }
     },
     "output_type": "execute_result"
    }
   ],
   "source": [
    "Image(r'D:\\MYLEARN\\2-ANALYTICS-DataScience\\icons-images\\re-17.png', width=800)"
   ]
  },
  {
   "cell_type": "code",
   "execution_count": 108,
   "metadata": {},
   "outputs": [
    {
     "name": "stdout",
     "output_type": "stream",
     "text": [
      "['a', 'b', 'c']\n",
      "[]\n"
     ]
    }
   ],
   "source": [
    "print(re.findall(r'\\S', 'a b c'))\n",
    "print(re.findall(r'\\S', ''))"
   ]
  },
  {
   "cell_type": "markdown",
   "metadata": {},
   "source": [
    "----------\n",
    "#### \\w - Matches any alphanumeric character (digits and alphabets). \n",
    "--------\n",
    "\n",
    "Equivalent to [a-zA-Z0-9_]. By the way, underscore _ is also considered an alphanumeric character."
   ]
  },
  {
   "cell_type": "code",
   "execution_count": 109,
   "metadata": {},
   "outputs": [
    {
     "data": {
      "image/png": "[encoded data removed]",
      "text/plain": [
       "<IPython.core.display.Image object>"
      ]
     },
     "execution_count": 109,
     "metadata": {
      "image/png": {
       "width": 800
      }
     },
     "output_type": "execute_result"
    }
   ],
   "source": [
    "Image('re-18.png', width=800)"
   ]
  },
  {
   "cell_type": "code",
   "execution_count": 110,
   "metadata": {},
   "outputs": [
    {
     "name": "stdout",
     "output_type": "stream",
     "text": [
      "['1', '2', 'c']\n",
      "[]\n"
     ]
    }
   ],
   "source": [
    "print(re.findall(r'\\w', '12&\":;c\"'))\n",
    "print(re.findall(r'\\w', '&#&#&#&&#&#&'))"
   ]
  },
  {
   "cell_type": "markdown",
   "metadata": {},
   "source": [
    "**Capturing groups**\n",
    "\n",
    "`m.groups()` - Returns a tuple containing all the captured groups from a regex match."
   ]
  },
  {
   "cell_type": "code",
   "execution_count": 147,
   "metadata": {},
   "outputs": [
    {
     "data": {
      "text/plain": [
       "('foo', 'quux', 'baz')"
      ]
     },
     "execution_count": 147,
     "metadata": {},
     "output_type": "execute_result"
    }
   ],
   "source": [
    "m = re.search('(\\w+), (\\w+), (\\w+)', 'foo, quux, baz')\n",
    "m.groups()"
   ]
  },
  {
   "cell_type": "markdown",
   "metadata": {},
   "source": [
    "- Each of the three (\\w+) expressions matches a sequence of word characters. The full regex (\\w+),(\\w+),(\\w+) breaks the search string into three comma-separated tokens.\n",
    "\n",
    "- Because the `(\\w+)` expressions use `grouping` parentheses, the corresponding matching tokens are captured. To access the captured matches, you can use `.groups()`, which returns a `tuple` containing all the captured matches in order\n",
    "\n",
    "- Notice that the tuple contains the tokens but `not the commas` that appeared in the search string. \n",
    "\n",
    "    - That’s because the `word characters` that make up the tokens are `inside` the grouping `parentheses` but the `commas aren’t`. \n",
    "    - The `commas` that we see between the returned tokens are the standard delimiters used to `separate values in a tuple`.\n",
    "    \n",
    "- `m.group(<n>)` - Returns a string containing the <n>th captured match.\n",
    "\n",
    "    - With one argument, `.group()` returns a single captured match. \n",
    "    - Note that the arguments are `one-based`, not zero-based. \n",
    "        - m.group(1) refers to the first captured match, \n",
    "        - m.group(2) to the second, and so on:"
   ]
  },
  {
   "cell_type": "code",
   "execution_count": 149,
   "metadata": {},
   "outputs": [
    {
     "data": {
      "text/plain": [
       "('foo', 'quux')"
      ]
     },
     "execution_count": 149,
     "metadata": {},
     "output_type": "execute_result"
    }
   ],
   "source": [
    "m.group(1), m.group(2)"
   ]
  },
  {
   "cell_type": "markdown",
   "metadata": {},
   "source": [
    "`m.group(0)` has a special meaning:"
   ]
  },
  {
   "cell_type": "code",
   "execution_count": 150,
   "metadata": {},
   "outputs": [
    {
     "data": {
      "text/plain": [
       "'foo, quux, baz'"
      ]
     },
     "execution_count": 150,
     "metadata": {},
     "output_type": "execute_result"
    }
   ],
   "source": [
    "m.group(0)"
   ]
  },
  {
   "cell_type": "markdown",
   "metadata": {},
   "source": [
    "`m.group(0)` returns the entire match, and `m.group()` does the same."
   ]
  },
  {
   "cell_type": "code",
   "execution_count": 151,
   "metadata": {},
   "outputs": [
    {
     "data": {
      "text/plain": [
       "('baz', 'quux', 'foo')"
      ]
     },
     "execution_count": 151,
     "metadata": {},
     "output_type": "execute_result"
    }
   ],
   "source": [
    "m.group(3, 2, 1)"
   ]
  },
  {
   "cell_type": "markdown",
   "metadata": {},
   "source": [
    "**Backreferences**\n",
    "- `match a previously captured group` later within the same regex using a special metacharacter sequence called a `backreference`.\n",
    "\n",
    "- \\<n> - Matches the contents of a previously captured group.\n",
    "\n",
    "- Within a regex in Python, the sequence \\<n>, where <n> is an integer from 1 to 99, matches the contents of the <n>th captured group.\n",
    "    - Only the first 99 captured groups are accessible by `backreference`. "
   ]
  },
  {
   "cell_type": "code",
   "execution_count": 153,
   "metadata": {},
   "outputs": [
    {
     "data": {
      "text/plain": [
       "'foo'"
      ]
     },
     "execution_count": 153,
     "metadata": {},
     "output_type": "execute_result"
    }
   ],
   "source": [
    "m = re.search(r'(\\w+),\\1', 'foo,foo')\n",
    "m.group(1)"
   ]
  },
  {
   "cell_type": "markdown",
   "metadata": {},
   "source": [
    "- `(\\w+)` matches the first instance of the string `'foo'` and saves it as the `first captured group`. \n",
    "- The comma matches literally. \n",
    "- Then \\1 is a `backreference` to the first captured group and matches 'foo' again."
   ]
  },
  {
   "cell_type": "code",
   "execution_count": 154,
   "metadata": {},
   "outputs": [
    {
     "data": {
      "text/plain": [
       "'lux'"
      ]
     },
     "execution_count": 154,
     "metadata": {},
     "output_type": "execute_result"
    }
   ],
   "source": [
    "m = re.search(r'(\\w+),\\1', 'lux,lux')\n",
    "m.group(1)"
   ]
  },
  {
   "cell_type": "code",
   "execution_count": 159,
   "metadata": {},
   "outputs": [
    {
     "ename": "AttributeError",
     "evalue": "'NoneType' object has no attribute 'groups'",
     "output_type": "error",
     "traceback": [
      "\u001b[1;31m---------------------------------------------------------------------------\u001b[0m",
      "\u001b[1;31mAttributeError\u001b[0m                            Traceback (most recent call last)",
      "\u001b[1;32m<ipython-input-159-634634e71676>\u001b[0m in \u001b[0;36m<module>\u001b[1;34m\u001b[0m\n\u001b[0;32m      1\u001b[0m \u001b[0mm\u001b[0m \u001b[1;33m=\u001b[0m \u001b[0mre\u001b[0m\u001b[1;33m.\u001b[0m\u001b[0msearch\u001b[0m\u001b[1;33m(\u001b[0m\u001b[1;34mr'(\\w+),\\1'\u001b[0m\u001b[1;33m,\u001b[0m \u001b[1;34m'lux,cox'\u001b[0m\u001b[1;33m)\u001b[0m\u001b[1;33m\u001b[0m\u001b[1;33m\u001b[0m\u001b[0m\n\u001b[1;32m----> 2\u001b[1;33m \u001b[0mm\u001b[0m\u001b[1;33m.\u001b[0m\u001b[0mgroups\u001b[0m\u001b[1;33m(\u001b[0m\u001b[1;33m)\u001b[0m\u001b[1;33m\u001b[0m\u001b[1;33m\u001b[0m\u001b[0m\n\u001b[0m",
      "\u001b[1;31mAttributeError\u001b[0m: 'NoneType' object has no attribute 'groups'"
     ]
    }
   ],
   "source": [
    "m = re.search(r'(\\w+),\\1', 'lux,cox')\n",
    "m.groups()"
   ]
  },
  {
   "cell_type": "code",
   "execution_count": 160,
   "metadata": {},
   "outputs": [
    {
     "name": "stdout",
     "output_type": "stream",
     "text": [
      "None\n"
     ]
    }
   ],
   "source": [
    "print(m)"
   ]
  },
  {
   "cell_type": "markdown",
   "metadata": {},
   "source": [
    "doesn’t have a match because what comes before the comma isn’t the same as what comes after it, so the \\1 backreference doesn’t match."
   ]
  },
  {
   "cell_type": "code",
   "execution_count": 188,
   "metadata": {},
   "outputs": [
    {
     "data": {
      "text/plain": [
       "<re.Match object; span=(1, 7), match='rrrrrr'>"
      ]
     },
     "execution_count": 188,
     "metadata": {},
     "output_type": "execute_result"
    }
   ],
   "source": [
    "re.search(r'([a-zA-Z])\\1{3,}', 'grrrrrreat')"
   ]
  },
  {
   "cell_type": "code",
   "execution_count": 189,
   "metadata": {},
   "outputs": [],
   "source": [
    "regex = r\"([a-zA-Z0-9])\\1{2,}\""
   ]
  },
  {
   "cell_type": "code",
   "execution_count": 190,
   "metadata": {},
   "outputs": [
    {
     "data": {
      "text/plain": [
       "<re.Match object; span=(1, 7), match='wwwwww'>"
      ]
     },
     "execution_count": 190,
     "metadata": {},
     "output_type": "execute_result"
    }
   ],
   "source": [
    "re.search(regex, 'awwwwwwsome')"
   ]
  },
  {
   "cell_type": "markdown",
   "metadata": {},
   "source": [
    "------\n",
    "#### \\W - Matches any non-alphanumeric character. Equivalent to [^a-zA-Z0-9_]\n",
    "------\n",
    "\n"
   ]
  },
  {
   "cell_type": "code",
   "execution_count": 25,
   "metadata": {},
   "outputs": [
    {
     "data": {
      "image/png": "[encoded data removed]",
      "text/plain": [
       "<IPython.core.display.Image object>"
      ]
     },
     "execution_count": 25,
     "metadata": {
      "image/png": {
       "width": 800
      }
     },
     "output_type": "execute_result"
    }
   ],
   "source": [
    "Image(r'D:\\MYLEARN\\2-ANALYTICS-DataScience\\icons-images\\re-19.png', width=800)"
   ]
  },
  {
   "cell_type": "code",
   "execution_count": 115,
   "metadata": {},
   "outputs": [
    {
     "name": "stdout",
     "output_type": "stream",
     "text": [
      "['&', '\"', ':', ';', '\"']\n",
      "['&', '#', '&', '#', '&', '#', '&', '&', '#', '&', '#', '&']\n",
      "['%']\n",
      "[]\n"
     ]
    }
   ],
   "source": [
    "print(re.findall(r'\\W', '12&\":;c\"'))\n",
    "print(re.findall(r'\\W', '&#&#&#&&#&#&'))\n",
    "\n",
    "print(re.findall(r'\\W', '1a2%c'))\n",
    "print(re.findall(r'\\W', 'Python'))"
   ]
  },
  {
   "cell_type": "markdown",
   "metadata": {},
   "source": [
    "--------------------------------\n",
    "#### \\Z - Matches if the specified characters are at the end of a string.\n",
    "-----------------------"
   ]
  },
  {
   "cell_type": "code",
   "execution_count": 116,
   "metadata": {},
   "outputs": [
    {
     "data": {
      "image/png": "[encoded data removed]",
      "text/plain": [
       "<IPython.core.display.Image object>"
      ]
     },
     "execution_count": 116,
     "metadata": {
      "image/png": {
       "width": 800
      }
     },
     "output_type": "execute_result"
    }
   ],
   "source": [
    "Image('re-20.png', width=800)"
   ]
  },
  {
   "cell_type": "code",
   "execution_count": 117,
   "metadata": {},
   "outputs": [
    {
     "name": "stdout",
     "output_type": "stream",
     "text": [
      "['Python']\n",
      "[]\n",
      "[]\n"
     ]
    }
   ],
   "source": [
    "print(re.findall(r'Python\\Z', 'I like programming in Python'))\n",
    "print(re.findall(r'Python\\Z', 'I like Python Programs'))\n",
    "\n",
    "print(re.findall(r'Python\\Z', 'Python is fun'))"
   ]
  },
  {
   "cell_type": "markdown",
   "metadata": {},
   "source": [
    "---------------------------\n",
    "## Project - on regex\n",
    "-----------------------"
   ]
  },
  {
   "cell_type": "markdown",
   "metadata": {},
   "source": [
    "#### Validate Email Addresses\n",
    "\n",
    "**Problem**\n",
    "- You have a form on your website or a dialog box in your application that asks the user for an `email address`. \n",
    "\n",
    "- You want to use a `regular expression` to validate this email address before trying to send email to it. \n",
    "    - This reduces the number of emails returned to you as undeliverable.\n",
    "\n",
    "Suppose you want to find the email address inside the string 'xyz alice-b@google.com purple monkey'. \n",
    "\n",
    "- `\\w` (lowercase w) matches a \"word\" character: a letter or digit or underbar [a-zA-Z0-9_]. \n",
    "- `\\W` (upper case W) matches any non-word character.\n",
    "- `@` scan till you see this character\n",
    "- [w.] a set of characters to potentially match, so w is all alphanumeric characters, and the trailing period . adds to that set of characters.\n",
    "- + one or more of the previous set."
   ]
  },
  {
   "cell_type": "markdown",
   "metadata": {},
   "source": [
    "#### Solution - Option 1\n",
    "\n",
    "**Simple**\n",
    "\n",
    "- This first solution does a very simple check. \n",
    "\n",
    "- It only validates that the string contains an at sign (`@`) that is `preceded` and `followed` by `one or more nonwhitespace characters`."
   ]
  },
  {
   "cell_type": "code",
   "execution_count": 22,
   "metadata": {},
   "outputs": [
    {
     "data": {
      "text/plain": [
       "['support@openDBtech.com',\n",
       " 'bks@bks.com',\n",
       " 'bks_@bks.in',\n",
       " 'bks!@bks.com',\n",
       " 'ak*@ak.in',\n",
       " 'ak-00@in']"
      ]
     },
     "execution_count": 22,
     "metadata": {},
     "output_type": "execute_result"
    }
   ],
   "source": [
    "regex = r'\\S+@\\S+'\n",
    "text  = '''purple \n",
    "support@openDBtech.com \n",
    "monkey \n",
    "dishwasher \n",
    "bks@bks.com \n",
    "bks_@bks.in \n",
    "bks!@bks.com \n",
    "ak*@ak.in \n",
    "ak-00@in'''\n",
    "\n",
    "re.findall(regex, text)"
   ]
  },
  {
   "cell_type": "markdown",
   "metadata": {},
   "source": [
    "- ‹\\S› matches any character that is `not a whitespace character`.\n",
    "    - Equivalent to negated character class -> [^ \\t\\n\\r\\f\\v]\n",
    "        - Not a tab char\n",
    "        - Not a new line\n",
    "        - Not a carriage return\n",
    "        - Not a form feed\n",
    "        - Not a vertical whitespace\n",
    "    - Equivalent to \n",
    "        - A-Z\n",
    "        - a-z\n",
    "        - 0-9\n",
    "        - underscore\n",
    "        - All punctuations"
   ]
  },
  {
   "cell_type": "markdown",
   "metadata": {},
   "source": [
    "#### Solution - Option 2 \n",
    "\n",
    "**with restrictions on characters**\n",
    "\n",
    "- The `domain name`, the part after the `@` sign, is restricted to characters allowed in domain names. \n",
    "\n",
    "- Internationalized domain names are not allowed. \n",
    "\n",
    "- The local part, the part before the @ sign, is restricted to characters commonly used in email local parts, which is more restrictive than what most email clients and servers will accept:"
   ]
  },
  {
   "cell_type": "code",
   "execution_count": 30,
   "metadata": {},
   "outputs": [
    {
     "data": {
      "text/plain": [
       "['support@openDBtech.com',\n",
       " 'bks@bks.com',\n",
       " 'bks_@bks.in',\n",
       " 'ak-00@in',\n",
       " 'akash...in@in']"
      ]
     },
     "execution_count": 30,
     "metadata": {},
     "output_type": "execute_result"
    }
   ],
   "source": [
    "regex = r'[A-Z0-9+_.-]+@[A-Z0-9.-]+'\n",
    "text  = '''purple \n",
    "support@openDBtech.com \n",
    "monkey \n",
    "dishwasher \n",
    "bks@bks.com \n",
    "bks_@bks.in \n",
    "bks!@bks.com \n",
    "ak*@ak.in \n",
    "ak-00@in\n",
    "akash...in@in\n",
    "'''\n",
    "\n",
    "re.findall(regex, text, re.IGNORECASE)"
   ]
  },
  {
   "cell_type": "markdown",
   "metadata": {},
   "source": [
    "observe bks!@bks.com , ak*@ak.in are rejected"
   ]
  },
  {
   "cell_type": "markdown",
   "metadata": {},
   "source": [
    "#### Solution - Option 3 \n",
    "\n",
    "**with all valid local part characters**\n",
    "\n",
    "- This regular expression expands the previous one by allowing a larger set of rarely used characters in the local part. \n",
    "- Not all email software can handle all these characters, but we’ve included all the characters permitted by RFC 5322, which governs the email message format. \n",
    "- Among the permitted characters are some that present a security risk if passed directly from user input to an SQL statement, such as the single quote (') and the pipe character (|). \n",
    "- Be sure to escape sensitive characters when inserting the email address into a string passed to another program, in order to prevent security holes such as SQL injection attacks:"
   ]
  },
  {
   "cell_type": "code",
   "execution_count": 32,
   "metadata": {},
   "outputs": [
    {
     "data": {
      "text/plain": [
       "['support@openDBtech.com',\n",
       " 'bks@bks.com',\n",
       " 'bks_@bks.in',\n",
       " 'bks!@bks.com',\n",
       " 'ak*@ak.in',\n",
       " 'ak-00@in',\n",
       " 'akash...in@in',\n",
       " '.bharat@.india.com']"
      ]
     },
     "execution_count": 32,
     "metadata": {},
     "output_type": "execute_result"
    }
   ],
   "source": [
    "regex = r\"[A-Z0-9_!#$%'*+/=?`{|}~^.-]+@[A-Z0-9.-]+\"\n",
    "\n",
    "text  = '''purple \n",
    "support@openDBtech.com \n",
    "monkey \n",
    "dishwasher \n",
    "bks@bks.com \n",
    "bks_@bks.in \n",
    "bks!@bks.com \n",
    "ak*@ak.in \n",
    "ak-00@in\n",
    "akash...in@in\n",
    ".bharat@.india.com\n",
    "'''\n",
    "\n",
    "re.findall(regex, text, re.IGNORECASE)  "
   ]
  },
  {
   "cell_type": "markdown",
   "metadata": {},
   "source": [
    "#### Solution - Option 4 \n",
    "\n",
    "**No leading, trailing, or consecutive dots**\n",
    "\n",
    "- Both the local part and the domain name can contain one or more dots, but no two dots can appear right next to each other. \n",
    "\n",
    "- Furthermore, the first and last characters in the local part and in the domain name must not be dots:\n"
   ]
  },
  {
   "cell_type": "code",
   "execution_count": 34,
   "metadata": {},
   "outputs": [
    {
     "data": {
      "text/plain": [
       "['support@openDBtech.com',\n",
       " 'bks@bks.com',\n",
       " 'bks_@bks.in',\n",
       " 'bks!@bks.com',\n",
       " 'ak*@ak.in',\n",
       " 'ak-00@in',\n",
       " 'in@in']"
      ]
     },
     "execution_count": 34,
     "metadata": {},
     "output_type": "execute_result"
    }
   ],
   "source": [
    "regex = \"[A-Z0-9_!#$%&'*+/=?`{|}~^-]+(?:\\.[A-Z0-9_!#$%&'*+/=?`{|}~^-]+)*@[A-Z0-9-]+(?:\\.[A-Z0-9-]+)*\"\n",
    "\n",
    "text  = '''purple \n",
    "support@openDBtech.com \n",
    "monkey \n",
    "dishwasher \n",
    "bks@bks.com \n",
    "bks_@bks.in \n",
    "bks!@bks.com \n",
    "ak*@ak.in \n",
    "ak-00@in\n",
    "ak...ash...in@in\n",
    ".bharat@.india.com\n",
    "'''\n",
    "\n",
    "re.findall(regex, text, re.IGNORECASE)  "
   ]
  },
  {
   "cell_type": "markdown",
   "metadata": {},
   "source": [
    "the use of a group, `(?:[A-Z0-9-]+\\.)+` matches one or more letters, digits, and/or hyphens, followed by one literal dot. The plus sign repeats this group one or more times. The group must match at least once, but can match as many times as possible."
   ]
  },
  {
   "cell_type": "markdown",
   "metadata": {},
   "source": [
    "#### Solution - Option 5 \n",
    "\n",
    "**Top-level domain has two to six letters**\n",
    "\n",
    "- This regular expression adds to the previous versions by specifying that \n",
    "    - the domain name must include at least one dot, \n",
    "    - and that the part of the domain name after the last dot can only consist of letters. \n",
    "    - The top-level domain (.com in these examples) must consist of two to six letters. \n",
    "    - All country-code top-level domains (.us, .uk, etc.) have two letters. \n",
    "    - The generic top-level domains have between 3 (.com) and 6 letters (.museum):"
   ]
  },
  {
   "cell_type": "code",
   "execution_count": 37,
   "metadata": {},
   "outputs": [
    {
     "data": {
      "text/plain": [
       "['support@openDBtech.com',\n",
       " 'bks@bks.com',\n",
       " 'bks_@bks.in',\n",
       " 'bks!@bks.com',\n",
       " 'ak*@ak.in']"
      ]
     },
     "execution_count": 37,
     "metadata": {},
     "output_type": "execute_result"
    }
   ],
   "source": [
    "regex =\"[\\w!#$%&'*+/=?`{|}~^-]+(?:\\.[\\w!#$%&'*+/=?`{|}~^-]+)*@(?:[A-Z0-9-]+\\.)+[A-Z]{2,6}\"\n",
    "\n",
    "text  = '''purple \n",
    "support@openDBtech.com \n",
    "monkey \n",
    "dishwasher \n",
    "bks@bks.com \n",
    "bks_@bks.in \n",
    "bks!@bks.com \n",
    "ak*@ak.in \n",
    "ak-00@in\n",
    "ak...ash...in@in\n",
    ".bharat@.india.com\n",
    "dave_uk@unitedkingdom\n",
    "'''\n",
    "\n",
    "re.findall(regex, text, re.IGNORECASE) "
   ]
  },
  {
   "cell_type": "markdown",
   "metadata": {},
   "source": [
    "Observe longer than 6 chrs domain names are rejected"
   ]
  },
  {
   "cell_type": "markdown",
   "metadata": {},
   "source": [
    "--------------------------------\n",
    "## Technical info on regex\n",
    "------------------------------------"
   ]
  },
  {
   "cell_type": "markdown",
   "metadata": {},
   "source": [
    "## Literal Characters\n",
    "\n",
    "- The most basic regular expression consists of a __single literal__ character, such as $a$. \n",
    "- It matches the first occurrence of that character in the string. \n",
    "- If the string is __Jack is a boy__, it matches the __a__ after the __J__. \n",
    "- The fact that this __a__ is in the middle of the word does not matter to the regex engine. \n",
    "    - we can tell that to the regex engine by using __word boundaries__. \n",
    "\n",
    "- This regex can match the second __a__ too. It only does so when we tell the regex engine to start searching through the string after the first match.\n",
    "    \n",
    "Similarly, the regex __cat__ matches __cat__ in __About cats and dogs__. \n",
    "\n",
    "- This regular expression consists of a series of 3 literal characters. This is like saying to the regex engine: find a __c__, immediately followed by an __a__, immediately followed by a __t__.\n",
    "\n",
    "Note that regex engines are __case sensitive__ by default. unless we tell the regex engine to ignore differences in case."
   ]
  },
  {
   "cell_type": "markdown",
   "metadata": {},
   "source": [
    "## Special Characters\n",
    "\n",
    "- Because we want to do more than __simply search__ for literal pieces of text, we need to __reserve certain characters for special use__. \n",
    "\n",
    "- there are 12 characters with special meanings: \n",
    "\n",
    "    - the backslash \\\n",
    "    - the caret ^\n",
    "    - the dollar sign \n",
    "    - the period or dot .\n",
    "    - the vertical bar or pipe symbol |\n",
    "    - the question mark ?\n",
    "    - the asterisk or star *\n",
    "    - the plus sign +\n",
    "    - the opening parenthesis (\n",
    "    - the closing parenthesis )\n",
    "    - the opening square bracket [\n",
    "    - and the opening curly brace { \n",
    "    \n",
    "These special characters are often called “metacharacters”. Most of them are errors when used alone.\n",
    "\n",
    "- escape with \\ if we want to use the above as literal char. \n",
    "    - to match __1+1=2__, the correct regex is __1\\\\+1=2__. "
   ]
  },
  {
   "cell_type": "markdown",
   "metadata": {},
   "source": [
    "## How a Regex Engine Works Internally\n",
    "\n",
    "- When applying a __regex__ to a string, the engine starts at the first character of the string. It tries all possible permutations of the regular expression at the __first character__. \n",
    "\n",
    "- Only if all possibilities have been tried and found to __fail__, does the engine continue with the __second character__ in the text. \n",
    "\n",
    "- Again, it tries all possible permutations of the regex, in exactly the same order. \n",
    "\n",
    "- The result is that the regex engine returns the __leftmost match__.\n",
    "\n",
    "- When applying __cat__ to __He captured a catfish for his cat__., \n",
    "    - the engine tries to match the first token in the regex c to the __first character__ in the match __H__. \n",
    "    - This fails. \n",
    "    - There are no other possible permutations of this regex, because it merely consists of a sequence of literal characters.\n",
    "    - So the regex engine tries to match the __c__ with the __e__. This fails too, as does matching the __c__ with the space. \n",
    "    - Arriving at the 4th character in the string, __c__ matches __c__. \n",
    "    - The engine then tries to match the second token __a__ to the 5th character, __a__. This succeeds too. \n",
    "    - But then, __t__ fails to match __p__. \n",
    "    - At that point, the engine knows the regex __cannot__ be matched starting at the __4th characterv in the string. \n",
    "    - So it continues with the __5th__: a. \n",
    "    - Again, __c__ fails to match here and the engine carries on. \n",
    "    - At the 15th character in the string, __c__ again matches __c__. \n",
    "    - The engine then proceeds to attempt to match the remainder of the regex at character 15 and finds that __a__ matches __a__ and __t__ matches __t__.\n",
    "\n",
    "- The entire regular expression could be matched starting at character 15. \n",
    "- The engine is “eager” to report a match. It therefore reports the first 3 letters of catfish as a valid match. \n",
    "- The engine never proceeds beyond this point to see if there are any “better” matches. The first match is considered good enough.\n"
   ]
  },
  {
   "cell_type": "markdown",
   "metadata": {},
   "source": [
    "## Character Classes or Character Sets\n",
    "\n",
    "With a “character class”, also called “character set”, we can tell the regex engine to match only one out of several characters. \n",
    "\n",
    "Simply place the characters we want to match between __square brackets__. \n",
    "\n",
    "If we want to match an __a__ or an __e__, use __[ae]__. You could use this in __gr[ae]y__ to match either __gray__ or __grey__. "
   ]
  },
  {
   "cell_type": "code",
   "execution_count": 84,
   "metadata": {},
   "outputs": [
    {
     "data": {
      "text/plain": [
       "<re.Match object; span=(0, 4), match='grey'>"
      ]
     },
     "execution_count": 84,
     "metadata": {},
     "output_type": "execute_result"
    }
   ],
   "source": [
    "re.search(r'gr[ae]y', 'grey gray')"
   ]
  },
  {
   "cell_type": "markdown",
   "metadata": {},
   "source": [
    "A character class matches only a __single character__. \n",
    "\n",
    "__gr[ae]y__ does not match __graay__, __graey__ \n",
    "\n",
    "The order of the characters inside a character class does not matter. "
   ]
  },
  {
   "cell_type": "code",
   "execution_count": 85,
   "metadata": {},
   "outputs": [],
   "source": [
    "re.search(r'gr[ae]y', 'graey')   # No find"
   ]
  },
  {
   "cell_type": "code",
   "execution_count": 4,
   "metadata": {},
   "outputs": [],
   "source": [
    "re.search(r'gr[ae]y', 'greay')   # No find"
   ]
  },
  {
   "cell_type": "code",
   "execution_count": 5,
   "metadata": {},
   "outputs": [
    {
     "data": {
      "text/plain": [
       "<re.Match object; span=(0, 4), match='grey'>"
      ]
     },
     "execution_count": 5,
     "metadata": {},
     "output_type": "execute_result"
    }
   ],
   "source": [
    "re.search(r'gr[ae]y', 'greyy')   # find"
   ]
  },
  {
   "cell_type": "code",
   "execution_count": 6,
   "metadata": {},
   "outputs": [],
   "source": [
    "re.search(r'gr[ae]y', 'greey')   # No find"
   ]
  },
  {
   "cell_type": "code",
   "execution_count": 7,
   "metadata": {},
   "outputs": [],
   "source": [
    "re.search(r'gr[ae]y', 'graay')   # No find"
   ]
  },
  {
   "cell_type": "markdown",
   "metadata": {},
   "source": [
    "We can use a hyphen inside a character class to specify a range of characters. \n",
    "\n",
    "[0-9] matches a single digit between 0 and 9. We can use more than one range. [0-9a-fA-F] matches a __single__ hexadecimal digit, case insensitively. \n",
    "\n",
    "You can combine ranges and single characters. [0-9a-fxA-FX] matches a hexadecimal digit or the letter X. \n",
    "\n",
    "Again, the order of the characters and the ranges does not matter.\n",
    "\n",
    "> You can find a word, even if it is misspelled, "
   ]
  },
  {
   "cell_type": "code",
   "execution_count": 8,
   "metadata": {},
   "outputs": [
    {
     "data": {
      "text/plain": [
       "['bks3move']"
      ]
     },
     "execution_count": 8,
     "metadata": {},
     "output_type": "execute_result"
    }
   ],
   "source": [
    "re.findall(r'bks[0-9]move', 'bks3move bks303move')   # find"
   ]
  },
  {
   "cell_type": "code",
   "execution_count": 9,
   "metadata": {},
   "outputs": [
    {
     "data": {
      "text/plain": [
       "['popcornA', 'popcornA', 'popcorna']"
      ]
     },
     "execution_count": 9,
     "metadata": {},
     "output_type": "execute_result"
    }
   ],
   "source": [
    "re.findall(r'popcorn[0-9a-fA-F]', 'popcornA popcornAI popcorna') # find"
   ]
  },
  {
   "cell_type": "code",
   "execution_count": 10,
   "metadata": {},
   "outputs": [
    {
     "data": {
      "text/plain": [
       "<re.Match object; span=(0, 8), match='seperete'>"
      ]
     },
     "execution_count": 10,
     "metadata": {},
     "output_type": "execute_result"
    }
   ],
   "source": [
    "re.search(r'sep[ae]r[ae]te', 'seperete') #  find"
   ]
  },
  {
   "cell_type": "code",
   "execution_count": 11,
   "metadata": {},
   "outputs": [
    {
     "data": {
      "text/plain": [
       "<re.Match object; span=(0, 1), match='a'>"
      ]
     },
     "execution_count": 11,
     "metadata": {},
     "output_type": "execute_result"
    }
   ],
   "source": [
    "re.search(r'[abc]', 'ac')"
   ]
  },
  {
   "cell_type": "code",
   "execution_count": 12,
   "metadata": {},
   "outputs": [
    {
     "data": {
      "text/plain": [
       "<re.Match object; span=(0, 1), match='a'>"
      ]
     },
     "execution_count": 12,
     "metadata": {},
     "output_type": "execute_result"
    }
   ],
   "source": [
    "re.search(r'[abc]', 'ac cd')"
   ]
  },
  {
   "cell_type": "markdown",
   "metadata": {},
   "source": [
    "## Negated Character Classes\n",
    "\n",
    "Typing a __caret__ after the opening square bracket __negates__ the character class. \n",
    "\n",
    "The result is that the character class matches any character that is __not__ in the character class. \n",
    "\n",
    "Unlike the __dot__, __negated character classes__ also match (invisible) __line break__ characters. \n",
    "\n",
    "If you don’t want a negated character class to match line breaks, you need to include the line break characters in the class. \n",
    "\n",
    "[^0-9\\r\\n] matches any character that is not a digit or a line break."
   ]
  },
  {
   "cell_type": "code",
   "execution_count": 86,
   "metadata": {},
   "outputs": [
    {
     "data": {
      "text/plain": [
       "<re.Match object; span=(0, 1), match='p'>"
      ]
     },
     "execution_count": 86,
     "metadata": {},
     "output_type": "execute_result"
    }
   ],
   "source": [
    "re.search(r'[^0-9\\r\\n]', 'popc6666orn.ai') #  find"
   ]
  },
  {
   "cell_type": "code",
   "execution_count": 14,
   "metadata": {},
   "outputs": [],
   "source": [
    "re.search(r'q[^u]', 'iraq') #  no find"
   ]
  },
  {
   "cell_type": "code",
   "execution_count": 15,
   "metadata": {},
   "outputs": [
    {
     "data": {
      "text/plain": [
       "<re.Match object; span=(3, 5), match='qi'>"
      ]
     },
     "execution_count": 15,
     "metadata": {},
     "output_type": "execute_result"
    }
   ],
   "source": [
    "re.search(r'q[^u]', 'iraqi') #  find"
   ]
  },
  {
   "cell_type": "markdown",
   "metadata": {},
   "source": [
    "## Metacharacters Inside Character Classes\n",
    "\n",
    "- the only special characters or metacharacters inside a character class are the __closing bracket ]__, the __backslash \\__, the __caret ^__, and the __hyphen -__. \n",
    "\n",
    "The usual metacharacters are normal characters inside a character class, and do not need to be escaped by a backslash. \n",
    "\n",
    "To search for a star or plus, use __[+*]__\n",
    "\n",
    "To include a backslash as a character without any special meaning inside a character class, we have to escape it with another backslash. \n",
    "    __[\\\\\\x]__ matches a backslash or an x."
   ]
  },
  {
   "cell_type": "code",
   "execution_count": 16,
   "metadata": {},
   "outputs": [
    {
     "data": {
      "text/plain": [
       "<re.Match object; span=(0, 7), match='Hello !'>"
      ]
     },
     "execution_count": 16,
     "metadata": {},
     "output_type": "execute_result"
    }
   ],
   "source": [
    "re.search(r'Hello [@%&*$#!]', 'Hello !! Hello ##') "
   ]
  },
  {
   "cell_type": "code",
   "execution_count": 17,
   "metadata": {},
   "outputs": [
    {
     "data": {
      "text/plain": [
       "['Hello !', 'Hello #']"
      ]
     },
     "execution_count": 17,
     "metadata": {},
     "output_type": "execute_result"
    }
   ],
   "source": [
    "re.findall(r'Hello [@%&*$#!]', 'Hello !! Hello ##') "
   ]
  },
  {
   "cell_type": "code",
   "execution_count": 18,
   "metadata": {},
   "outputs": [
    {
     "data": {
      "text/plain": [
       "<re.Match object; span=(0, 7), match='Hello #'>"
      ]
     },
     "execution_count": 18,
     "metadata": {},
     "output_type": "execute_result"
    }
   ],
   "source": [
    "re.search(r'Hello [@%&*$#!]', 'Hello #') "
   ]
  },
  {
   "cell_type": "markdown",
   "metadata": {},
   "source": [
    "## Character Class Subtraction\n",
    "\n",
    "match any single character present in one list (the character class), but not present in another list (the subtracted class). \n",
    "\n",
    "The syntax for this is __[class-[subtract]]__.\n",
    "\n",
    "The character class __[a-z-[aeiuo]]__ matches a single letter that is not a vowel. \n",
    "\n",
    "In other words: it matches a single consonant. \n",
    "\n",
    "Without character class subtraction or intersection, the only way to do this would be to list all consonants: __[b-df-hj-np-tv-z]__."
   ]
  },
  {
   "cell_type": "code",
   "execution_count": 19,
   "metadata": {},
   "outputs": [
    {
     "data": {
      "text/plain": [
       "['o']"
      ]
     },
     "execution_count": 19,
     "metadata": {},
     "output_type": "execute_result"
    }
   ],
   "source": [
    "re.findall(r'[aeiou]', 'yyyy god ') "
   ]
  },
  {
   "cell_type": "code",
   "execution_count": 20,
   "metadata": {},
   "outputs": [
    {
     "data": {
      "text/plain": [
       "[]"
      ]
     },
     "execution_count": 20,
     "metadata": {},
     "output_type": "execute_result"
    }
   ],
   "source": [
    "re.findall(r'[a-z-[aeiou]]', 'yyyy god ') "
   ]
  },
  {
   "cell_type": "code",
   "execution_count": 21,
   "metadata": {},
   "outputs": [
    {
     "data": {
      "text/plain": [
       "[]"
      ]
     },
     "execution_count": 21,
     "metadata": {},
     "output_type": "execute_result"
    }
   ],
   "source": [
    "re.findall(r'[0-9-[0-1]]', '123 5647 36') \n"
   ]
  },
  {
   "cell_type": "markdown",
   "metadata": {},
   "source": [
    "## Start of String and End of String Anchors\n",
    "\n",
    "- They do not match any character at all. \n",
    "- they match a position before, after, or between characters. \n",
    "- They can be used to “anchor” the regex match at a certain position. \n",
    "- the caret ^ matches the position before the first character in the string. \n",
    "- Applying __^a__ to __abc__ matches a. \n",
    "- __^b__ does not match __abc__ at all, because the b cannot be matched right after the start of the string, matched by ^.\n",
    "\n",
    "Similarly, \\$ matches right after the last character in the string. __c\\$__ matches __c__ in __abc__"
   ]
  },
  {
   "cell_type": "code",
   "execution_count": 87,
   "metadata": {},
   "outputs": [
    {
     "data": {
      "text/plain": [
       "['Data']"
      ]
     },
     "execution_count": 87,
     "metadata": {},
     "output_type": "execute_result"
    }
   ],
   "source": [
    "re.findall(r'^Data', 'Data Science Data mining') "
   ]
  },
  {
   "cell_type": "code",
   "execution_count": 88,
   "metadata": {},
   "outputs": [
    {
     "data": {
      "text/plain": [
       "['mining']"
      ]
     },
     "execution_count": 88,
     "metadata": {},
     "output_type": "execute_result"
    }
   ],
   "source": [
    "re.findall(r'mining$', 'Data mining Data mining') "
   ]
  },
  {
   "cell_type": "markdown",
   "metadata": {},
   "source": [
    "#### what happens when we try to match ^4$ to 749\\n486\\n4"
   ]
  },
  {
   "cell_type": "code",
   "execution_count": 24,
   "metadata": {},
   "outputs": [
    {
     "data": {
      "text/plain": [
       "<re.Match object; span=(0, 1), match='4'>"
      ]
     },
     "execution_count": 24,
     "metadata": {},
     "output_type": "execute_result"
    }
   ],
   "source": [
    "re.search(r'^4$', '4') "
   ]
  },
  {
   "cell_type": "code",
   "execution_count": 25,
   "metadata": {},
   "outputs": [],
   "source": [
    "re.search(r'^4$', '\\n4') "
   ]
  },
  {
   "cell_type": "code",
   "execution_count": 26,
   "metadata": {},
   "outputs": [],
   "source": [
    "re.search(r'^4$', '749\\n486\\n4 ') "
   ]
  },
  {
   "cell_type": "markdown",
   "metadata": {},
   "source": [
    "## Word Boundaries\n",
    "\n",
    "- The metacharacter __\\b__ is an anchor like the caret and the dollar sign. It matches at a position that is called a “word boundary”. \n",
    "\n",
    "- This match is zero-length.\n",
    "\n",
    "There are 3 different positions that qualify as word boundaries:\n",
    "\n",
    "- Before the first character in the string, if the first character is a word character.\n",
    "- After the last character in the string, if the last character is a word character.\n",
    "- Between two characters in the string, where one is a word character and the other is not a word character.\n",
    "\n",
    "Simply put: __\\b__ allows you to perform a __“whole words only”__ search using a regular expression in the form of __\\bword\\b__. \n",
    "\n",
    "A “word character” is a character that can be used to form words. All characters that are not “word characters” are “non-word characters”.\n",
    "\n",
    "Since digits are considered to be word characters, __\\b4\\b__ can be used to match a 4 that is not part of a larger number. This regex does not match __44 sheets of a4__. \n",
    "\n",
    "So saying __“\\b matches before and after an alphanumeric sequence”__ is more exact than saying “before and after a word”.\n",
    "\n",
    "__\\B__ is the __negated__ version of __\\b__. \n",
    "\n",
    "__\\B__ matches at every position where __\\b__ does not. \n",
    "\n",
    "> Effectively, __\\B__ matches at any position between two word characters as well as at any position between two non-word characters."
   ]
  },
  {
   "cell_type": "code",
   "execution_count": 95,
   "metadata": {},
   "outputs": [
    {
     "data": {
      "text/plain": [
       "<re.Match object; span=(19, 24), match='great'>"
      ]
     },
     "execution_count": 95,
     "metadata": {},
     "output_type": "execute_result"
    }
   ],
   "source": [
    "re.search(r'\\bgreat\\b', 'hellopopcorn.ai is great place to work, hail popcorn.ai') "
   ]
  },
  {
   "cell_type": "code",
   "execution_count": 96,
   "metadata": {},
   "outputs": [
    {
     "data": {
      "text/plain": [
       "['popcorn.ai']"
      ]
     },
     "execution_count": 96,
     "metadata": {},
     "output_type": "execute_result"
    }
   ],
   "source": [
    "re.findall(r'\\bpopcorn.ai\\b', 'hellopopcorn.ai is great place to work, hail popcorn.ai') "
   ]
  },
  {
   "cell_type": "code",
   "execution_count": 94,
   "metadata": {},
   "outputs": [
    {
     "data": {
      "text/plain": [
       "['4']"
      ]
     },
     "execution_count": 94,
     "metadata": {},
     "output_type": "execute_result"
    }
   ],
   "source": [
    "re.findall(r'\\b4\\b', '4 44 sheets of a4') "
   ]
  },
  {
   "cell_type": "markdown",
   "metadata": {},
   "source": [
    "## Alternation with The Vertical Bar or Pipe Symbol\n",
    "\n",
    "You can use alternation to match a single regular expression out of several possible regular expressions.\n",
    "\n",
    "If you want to search for the literal text __cat__ or __dog__, separate both options with a vertical bar or pipe symbol: __cat|dog__. \n",
    "\n",
    "If you want more options, simply expand the list: __cat|dog|mouse|fish__.\n",
    "\n",
    "The alternation operator has the lowest precedence of all regex operators. That is, it tells the regex engine to match either everything to the left of the vertical bar, or everything to the right of the vertical bar. If you want to limit the reach of the alternation, you need to use parentheses for grouping. If we want to improve the first example to match whole words only, we would need to use \\b(cat|dog)\\b. This tells the regex engine to find a word boundary, then either cat or dog, and then another word boundary. If we had omitted the parentheses then the regex engine would have searched for a word boundary followed by cat, or, dog followed by a word boundary."
   ]
  },
  {
   "cell_type": "code",
   "execution_count": 30,
   "metadata": {},
   "outputs": [
    {
     "name": "stdout",
     "output_type": "stream",
     "text": [
      "['airways', 'airplane', 'bomber']\n"
     ]
    }
   ],
   "source": [
    "s = 'airways aircraft airplane bomber'\n",
    "result = re.findall(r'(airways|airplane|bomber)', s)\n",
    "print (result)"
   ]
  },
  {
   "cell_type": "code",
   "execution_count": 31,
   "metadata": {},
   "outputs": [
    {
     "name": "stdout",
     "output_type": "stream",
     "text": [
      "[('airways', 'ways'), ('airplane', 'plane'), ('bomber', '')]\n"
     ]
    }
   ],
   "source": [
    "result2 = re.findall(r'(air(ways|plane)|bomber)', s)\n",
    "print (result2)\n"
   ]
  },
  {
   "cell_type": "code",
   "execution_count": 32,
   "metadata": {},
   "outputs": [
    {
     "name": "stdout",
     "output_type": "stream",
     "text": [
      "['airways', 'airplane', 'bomber']\n"
     ]
    }
   ],
   "source": [
    "result3 = re.findall(r'(air(?:ways|plane)|bomber)', s)\n",
    "print (result3)"
   ]
  },
  {
   "cell_type": "code",
   "execution_count": 33,
   "metadata": {},
   "outputs": [
    {
     "name": "stdout",
     "output_type": "stream",
     "text": [
      "['airways', 'airplane', 'bomber']\n"
     ]
    }
   ],
   "source": [
    "result3 = re.findall(r'(air(?:ways|plane)|bomber)', s)\n",
    "print (result3)"
   ]
  },
  {
   "cell_type": "markdown",
   "metadata": {},
   "source": [
    "## Optional Items\n",
    "The __question mark__ makes the preceding token in the regular expression optional. __colou?r__ matches both __colour__ and __color__. \n",
    "\n",
    "The question mark is called a quantifier.\n",
    "\n",
    "You can make several tokens optional by grouping them together using __parentheses__, and placing the question mark after the closing parenthesis. E.g.: __Nov(ember)?__ matches __Nov__ and __November__.\n",
    "\n",
    "You can write a regular expression that matches many alternatives by including more than one question mark. __Feb(ruary)? 23(rd)?__ matches __February 23rd__, __February 23__, __Feb 23rd__ and __Feb 23__.\n",
    "\n",
    "You can also use __curly braces__ to make something optional. \n",
    "\n",
    "__colou{0,1}r__ is the same as __colou?r__. "
   ]
  },
  {
   "cell_type": "code",
   "execution_count": 34,
   "metadata": {},
   "outputs": [
    {
     "data": {
      "text/plain": [
       "[('February', 'ruary', '23rd', 'rd'),\n",
       " ('February', 'ruary', '23', ''),\n",
       " ('Feb', '', '23rd', 'rd'),\n",
       " ('Feb', '', '23', '')]"
      ]
     },
     "execution_count": 34,
     "metadata": {},
     "output_type": "execute_result"
    }
   ],
   "source": [
    "re.findall(r'(Feb(ruary)?) (23(rd)?)', 'February 23rd February 23 Feb 23rd Feb 23')"
   ]
  },
  {
   "cell_type": "code",
   "execution_count": 35,
   "metadata": {},
   "outputs": [
    {
     "data": {
      "text/plain": [
       "[('1111', ' ricochet robots'), ('2', ' settlers of catan'), ('3', ' acquire')]"
      ]
     },
     "execution_count": 35,
     "metadata": {},
     "output_type": "execute_result"
    }
   ],
   "source": [
    "text = \"\"\"\n",
    "1111. ricochet robots\n",
    "2. settlers of catan\n",
    "3. acquire\n",
    "\"\"\"\n",
    "re.findall(r'^(\\d+)\\.(.*)$', text, re.MULTILINE)"
   ]
  },
  {
   "cell_type": "markdown",
   "metadata": {},
   "source": [
    "## Repetition with Star and Plus\n",
    "\n",
    "The __asterisk__ or __sta__ tells the engine to attempt to match the preceding token __zero__ or __more__ times. \n",
    "\n",
    "The __plus__ tells the engine to attempt to match the preceding token __once__ or __more__. \n",
    "\n",
    "__<[A-Za-z][A-Za-z0-9]*>__ matches an HTML tag without any attributes. \n",
    "\n",
    "- The angle brackets are literals. \n",
    "- The first character class matches a letter. \n",
    "- The second character class matches a letter or digit. \n",
    "- The __star__ repeats the second character class. Because we used the __star__, it’s OK if the second character class matches nothing. \n",
    "\n",
    "So our regex will match a tag like <B>\n",
    "    \n",
    "When matching <HTML>, the first character class will match H. The star will cause the second character class to be repeated 3 times, matching T, M and L with each step.\n",
    "    \n",
    "- \\+ 1 or more occurrences of the pattern to its left, e.g. 'i+' = one or more i's\n",
    "    \n",
    "- \\* 0 or more occurrences of the pattern to its left\n",
    "    \n",
    "- \\? match 0 or 1 occurrences of the pattern to its left"
   ]
  },
  {
   "cell_type": "code",
   "execution_count": 36,
   "metadata": {},
   "outputs": [],
   "source": [
    "text = '''\n",
    "Data\n",
    "li\n",
    "I like Data\n",
    "data science with Python\n",
    "Python is great for data science\n",
    "science\n",
    "ldatadatadata\n",
    "aaa\n",
    "aa\n",
    "aaaa\n",
    "ab\n",
    "abc\n",
    "abcc\n",
    "'''"
   ]
  },
  {
   "cell_type": "code",
   "execution_count": 37,
   "metadata": {},
   "outputs": [
    {
     "data": {
      "text/plain": [
       "['li', 'lik']"
      ]
     },
     "execution_count": 37,
     "metadata": {},
     "output_type": "execute_result"
    }
   ],
   "source": [
    "re.findall(r'lik*', text, re.MULTILINE)"
   ]
  },
  {
   "cell_type": "code",
   "execution_count": 38,
   "metadata": {},
   "outputs": [
    {
     "data": {
      "text/plain": [
       "['aaa', 'aaaa']"
      ]
     },
     "execution_count": 38,
     "metadata": {},
     "output_type": "execute_result"
    }
   ],
   "source": [
    "re.findall(r'aaa+', text, re.MULTILINE)"
   ]
  },
  {
   "cell_type": "code",
   "execution_count": 39,
   "metadata": {},
   "outputs": [
    {
     "data": {
      "text/plain": [
       "['abc', 'abcc']"
      ]
     },
     "execution_count": 39,
     "metadata": {},
     "output_type": "execute_result"
    }
   ],
   "source": [
    "re.findall(r'abc+', text, re.MULTILINE)"
   ]
  },
  {
   "cell_type": "code",
   "execution_count": 40,
   "metadata": {},
   "outputs": [
    {
     "data": {
      "text/plain": [
       "'Cooookie'"
      ]
     },
     "execution_count": 40,
     "metadata": {},
     "output_type": "execute_result"
    }
   ],
   "source": [
    "re.search(r'Co+kie', 'Cooookie').group()"
   ]
  },
  {
   "cell_type": "code",
   "execution_count": 41,
   "metadata": {},
   "outputs": [
    {
     "data": {
      "text/plain": [
       "'Caokie'"
      ]
     },
     "execution_count": 41,
     "metadata": {},
     "output_type": "execute_result"
    }
   ],
   "source": [
    "# Checks for any occurrence of a or o or both in the given sequence\n",
    "re.search(r'Ca*o*kie', 'Caokie').group()"
   ]
  },
  {
   "cell_type": "code",
   "execution_count": 42,
   "metadata": {},
   "outputs": [
    {
     "data": {
      "text/plain": [
       "'Caokie'"
      ]
     },
     "execution_count": 42,
     "metadata": {},
     "output_type": "execute_result"
    }
   ],
   "source": [
    "# Checks for exactly zero or one occurrence of  a or o or both in the given sequence\n",
    "re.search(r'Ca?o?kie', 'Caokie').group()"
   ]
  },
  {
   "cell_type": "markdown",
   "metadata": {},
   "source": [
    "## Limiting Repetition\n",
    "\n",
    "The syntax is __{min,max}__, where __min__ is zero or a positive integer number indicating the minimum number of matches, and __max__ is an integer equal to or greater than __min__ indicating the maximum number of matches. \n",
    "\n",
    "If the comma is present but max is omitted, the maximum number of matches is infinite. \n",
    "\n",
    "So \n",
    "- __{0,1}__ is the same as __?__, \n",
    "- __{0,} is the same as __*__, \n",
    "- __{1,}__ is the same as __+__. \n",
    "\n",
    "You could use \n",
    "\n",
    "- __\\b[1-9][0-9]{3}\\b__ to match a number between 1000 and 9999. \n",
    "- __\\b[1-9][0-9]{2,4}\\b__ matches a number between 100 and 99999.\n",
    "\n"
   ]
  },
  {
   "cell_type": "code",
   "execution_count": 43,
   "metadata": {},
   "outputs": [
    {
     "data": {
      "text/plain": [
       "<re.Match object; span=(1, 10), match='heeeeeeee'>"
      ]
     },
     "execution_count": 43,
     "metadata": {},
     "output_type": "execute_result"
    }
   ],
   "source": [
    "s = \"sheeeeeeeeple\"\n",
    "re.search(r\"he+\", s)"
   ]
  },
  {
   "cell_type": "code",
   "execution_count": 44,
   "metadata": {},
   "outputs": [],
   "source": [
    "text = '''\n",
    "Data\n",
    "li\n",
    "I like Data\n",
    "data science with Python\n",
    "Python is great for data science\n",
    "science\n",
    "ldatadatadata\n",
    "aaa\n",
    "aa\n",
    "aaaa\n",
    "ab\n",
    "abc\n",
    "abcc\n",
    "abccc\n",
    "'''"
   ]
  },
  {
   "cell_type": "code",
   "execution_count": 45,
   "metadata": {},
   "outputs": [
    {
     "data": {
      "text/plain": [
       "['aa', 'aa', 'aa', 'aa']"
      ]
     },
     "execution_count": 45,
     "metadata": {},
     "output_type": "execute_result"
    }
   ],
   "source": [
    "re.findall(r'a{2}', text, re.MULTILINE)"
   ]
  },
  {
   "cell_type": "code",
   "execution_count": 46,
   "metadata": {},
   "outputs": [
    {
     "data": {
      "text/plain": [
       "['abcc', 'abcc']"
      ]
     },
     "execution_count": 46,
     "metadata": {},
     "output_type": "execute_result"
    }
   ],
   "source": [
    "re.findall(r'abc{2}', text, re.MULTILINE)"
   ]
  },
  {
   "cell_type": "code",
   "execution_count": 47,
   "metadata": {},
   "outputs": [
    {
     "data": {
      "text/plain": [
       "['aaa', 'aa', 'aaaa']"
      ]
     },
     "execution_count": 47,
     "metadata": {},
     "output_type": "execute_result"
    }
   ],
   "source": [
    "re.findall(r'a{2,5}', text, re.MULTILINE)"
   ]
  },
  {
   "cell_type": "code",
   "execution_count": 48,
   "metadata": {},
   "outputs": [
    {
     "data": {
      "text/plain": [
       "['aaaa']"
      ]
     },
     "execution_count": 48,
     "metadata": {},
     "output_type": "execute_result"
    }
   ],
   "source": [
    "re.findall(r'a{4,}', text, re.MULTILINE)"
   ]
  },
  {
   "cell_type": "code",
   "execution_count": 49,
   "metadata": {},
   "outputs": [],
   "source": [
    "text = '''\n",
    "wazzzzzup\n",
    "wazzzup\n",
    "wazup\n",
    "'''"
   ]
  },
  {
   "cell_type": "code",
   "execution_count": 50,
   "metadata": {},
   "outputs": [
    {
     "data": {
      "text/plain": [
       "['wazzzzz', 'wazzz']"
      ]
     },
     "execution_count": 50,
     "metadata": {},
     "output_type": "execute_result"
    }
   ],
   "source": [
    "re.findall(r'waz{3,5}', text, re.MULTILINE)"
   ]
  },
  {
   "cell_type": "markdown",
   "metadata": {},
   "source": [
    "## Use Parentheses for Grouping and Capturing\n",
    "\n",
    "By placing part of a regular expression inside round brackets or parentheses, you can group that part of the regular expression together. This allows you to apply a quantifier to the entire group or to restrict alternation to part of the regex.\n",
    "\n",
    "Only parentheses can be used for grouping."
   ]
  },
  {
   "cell_type": "code",
   "execution_count": 51,
   "metadata": {},
   "outputs": [],
   "source": [
    "text = '''\n",
    "abcabca\n",
    "'''"
   ]
  },
  {
   "cell_type": "code",
   "execution_count": 52,
   "metadata": {},
   "outputs": [
    {
     "data": {
      "text/plain": [
       "[]"
      ]
     },
     "execution_count": 52,
     "metadata": {},
     "output_type": "execute_result"
    }
   ],
   "source": [
    "re.findall(r'(abc){3}', text, re.MULTILINE)"
   ]
  },
  {
   "cell_type": "code",
   "execution_count": 53,
   "metadata": {},
   "outputs": [
    {
     "data": {
      "text/plain": [
       "['abc']"
      ]
     },
     "execution_count": 53,
     "metadata": {},
     "output_type": "execute_result"
    }
   ],
   "source": [
    "re.findall(r'(abc){2,4}', text, re.MULTILINE)"
   ]
  },
  {
   "cell_type": "code",
   "execution_count": 54,
   "metadata": {},
   "outputs": [
    {
     "data": {
      "text/plain": [
       "['abc']"
      ]
     },
     "execution_count": 54,
     "metadata": {},
     "output_type": "execute_result"
    }
   ],
   "source": [
    "re.findall(r'(abc){2,}', text, re.MULTILINE)"
   ]
  },
  {
   "cell_type": "code",
   "execution_count": 55,
   "metadata": {},
   "outputs": [
    {
     "data": {
      "text/plain": [
       "['abc']"
      ]
     },
     "execution_count": 55,
     "metadata": {},
     "output_type": "execute_result"
    }
   ],
   "source": [
    "re.findall(r'(abc){2}', text, re.MULTILINE)"
   ]
  },
  {
   "cell_type": "code",
   "execution_count": 56,
   "metadata": {},
   "outputs": [
    {
     "name": "stdout",
     "output_type": "stream",
     "text": [
      "bhupen@popcorn-ai.com\n",
      "bhupen\n",
      "popcorn-ai.com\n"
     ]
    }
   ],
   "source": [
    "email_address = 'Please contact us at: bhupen@popcorn-ai.com'\n",
    "\n",
    "match = re.search(r'([\\w\\.-]+)@([\\w\\.-]+)', email_address)\n",
    "\n",
    "if match:\n",
    "    print(match.group()) # The whole matched text\n",
    "    print(match.group(1)) # The username (group 1)\n",
    "    print(match.group(2)) # The host (group 2)"
   ]
  },
  {
   "cell_type": "code",
   "execution_count": 57,
   "metadata": {},
   "outputs": [
    {
     "name": "stdout",
     "output_type": "stream",
     "text": [
      "Raman\n",
      "Kumar\n",
      "080-2856-1733\n"
     ]
    },
    {
     "data": {
      "text/plain": [
       "'Raman, Kumar, 080-2856-1733'"
      ]
     },
     "execution_count": 57,
     "metadata": {},
     "output_type": "execute_result"
    }
   ],
   "source": [
    "contactInfo = 'Raman, Kumar, 080-2856-1733'\n",
    "\n",
    "match = re.search(r'(\\w+), (\\w+), ([\\d-]+)', contactInfo)\n",
    "#match = re.search(r'(\\w+), (\\w+): (\\S+)', contactInfo)\n",
    "\n",
    "print(match.group(1))\n",
    "print(match.group(2))\n",
    "print(match.group(3))\n",
    "match.group(0)"
   ]
  },
  {
   "cell_type": "markdown",
   "metadata": {},
   "source": [
    "The reason that the group numbering starts with group 1 is because group 0 is reserved to hold the entire match"
   ]
  },
  {
   "cell_type": "code",
   "execution_count": 58,
   "metadata": {},
   "outputs": [
    {
     "name": "stdout",
     "output_type": "stream",
     "text": [
      "support@popcorn-ai.com\n",
      "support\n",
      "popcorn-ai.com\n"
     ]
    }
   ],
   "source": [
    "input_str    = 'purple support@popcorn-ai.com monkey dishwasher'\n",
    "result       = re.search(r'([\\w.-]+)@([\\w.-]+)', input_str)\n",
    "\n",
    "if result:\n",
    "    print (result.group() ) \n",
    "    print (result.group(1) ) \n",
    "    print (result.group(2) ) "
   ]
  },
  {
   "cell_type": "code",
   "execution_count": 59,
   "metadata": {},
   "outputs": [
    {
     "name": "stdout",
     "output_type": "stream",
     "text": [
      "match: June 24\n",
      "match: August 9\n",
      "match: Dec 12\n"
     ]
    }
   ],
   "source": [
    "input_str    = 'June 24, August 9, Dec 12'\n",
    "\n",
    "matches = re.findall(r\"[a-zA-Z]+ \\d+\", input_str)\n",
    "\n",
    "for match in matches:\n",
    "    print(\"match: %s\" % (match))"
   ]
  },
  {
   "cell_type": "markdown",
   "metadata": {},
   "source": [
    "To capture the specific months of each date "
   ]
  },
  {
   "cell_type": "code",
   "execution_count": 60,
   "metadata": {},
   "outputs": [
    {
     "name": "stdout",
     "output_type": "stream",
     "text": [
      "match: June\n",
      "match: August\n",
      "match: Dec\n"
     ]
    }
   ],
   "source": [
    "input_str    = 'June 24, August 9, Dec 12'\n",
    "\n",
    "matches = re.findall(r\"([a-zA-Z]+) \\d+\", input_str)\n",
    "\n",
    "for match in matches:\n",
    "    print(\"match: %s\" % (match))"
   ]
  },
  {
   "cell_type": "markdown",
   "metadata": {},
   "source": [
    "#### Grouping by Name\n",
    "\n",
    "Sometimes, especially when a regular expression has a lot of groups, it is impractical to address each group by its number. "
   ]
  },
  {
   "cell_type": "code",
   "execution_count": 61,
   "metadata": {},
   "outputs": [
    {
     "name": "stdout",
     "output_type": "stream",
     "text": [
      "Raman\n",
      "Kumar\n",
      "080-2856-1733\n"
     ]
    },
    {
     "data": {
      "text/plain": [
       "'Raman, Kumar, 080-2856-1733'"
      ]
     },
     "execution_count": 61,
     "metadata": {},
     "output_type": "execute_result"
    }
   ],
   "source": [
    "contactInfo = 'Raman, Kumar, 080-2856-1733'\n",
    "\n",
    "match = re.search(r'(?P<last>\\w+), (?P<first>\\w+), (?P<phone>\\S+)', contactInfo)\n",
    "\n",
    "print(match.group('last'))\n",
    "print(match.group('first'))\n",
    "print(match.group('phone'))\n",
    "match.group(0)"
   ]
  },
  {
   "cell_type": "markdown",
   "metadata": {},
   "source": [
    "Grouping can be used with the findall() method too, even though it doesn’t return match objects. Instead, findall() will return a list of tuples, where the Nth element of each tuple corresponds to the Nth group of the regex pattern:\n",
    "\n",
    "_However, named grouping doesn’t work when using the findall() method._"
   ]
  },
  {
   "cell_type": "code",
   "execution_count": 207,
   "metadata": {},
   "outputs": [
    {
     "data": {
      "text/plain": [
       "[('Raman', 'Kumar', '080-2856-1733')]"
      ]
     },
     "execution_count": 207,
     "metadata": {},
     "output_type": "execute_result"
    }
   ],
   "source": [
    "contactInfo = 'Raman, Kumar, 080-2856-1733'\n",
    "\n",
    "re.findall(r'(\\w+), (\\w+), (\\S+)', contactInfo)"
   ]
  },
  {
   "cell_type": "markdown",
   "metadata": {},
   "source": [
    "## Using Backreferences To Match The Same Text Again"
   ]
  },
  {
   "cell_type": "code",
   "execution_count": 194,
   "metadata": {},
   "outputs": [],
   "source": [
    "text = '''\n",
    "grrrrrreat\n",
    "coooooooooooooooooool\n",
    "awwwwwwwwwwwwwwwwwwsommmmmmmmmmmmmmmme\n",
    "looooooooooooooooooooooooovvvvvvvvvvvvvvvve\n",
    "'''"
   ]
  },
  {
   "cell_type": "code",
   "execution_count": 197,
   "metadata": {},
   "outputs": [
    {
     "data": {
      "text/plain": [
       "<re.Match object; span=(1, 5), match='rrrr'>"
      ]
     },
     "execution_count": 197,
     "metadata": {},
     "output_type": "execute_result"
    }
   ],
   "source": [
    "re.search(r'([a-zA-Z])\\1{3}', 'grrrrrreat')"
   ]
  },
  {
   "cell_type": "markdown",
   "metadata": {},
   "source": [
    "## Ex - repeating chars"
   ]
  },
  {
   "cell_type": "markdown",
   "metadata": {},
   "source": [
    "Let’s say you want to match a tag like __!abc!__ or __!123!__"
   ]
  },
  {
   "cell_type": "code",
   "execution_count": 68,
   "metadata": {},
   "outputs": [
    {
     "data": {
      "text/plain": [
       "['abc', '123']"
      ]
     },
     "execution_count": 68,
     "metadata": {},
     "output_type": "execute_result"
    }
   ],
   "source": [
    "input_str = '!abc! is great guy. 123 is great too, !123! is just cool'\n",
    "\n",
    "re.findall(r\"!(abc|123)!\", input_str)"
   ]
  },
  {
   "cell_type": "markdown",
   "metadata": {},
   "source": [
    "Now let’s say that the tag can contain multiple sequences of __abc__ and __123__, like __!abc123!__ or __!123abcabc!__."
   ]
  },
  {
   "cell_type": "code",
   "execution_count": 82,
   "metadata": {},
   "outputs": [
    {
     "data": {
      "text/plain": [
       "['123', 'abc', 'abc']"
      ]
     },
     "execution_count": 82,
     "metadata": {},
     "output_type": "execute_result"
    }
   ],
   "source": [
    "input_str = '!abc123! is great guy. !123abc! is great too, !123abcabc! is just cool'\n",
    "\n",
    "re.findall(r\"!(abc|123)+!\", input_str)"
   ]
  },
  {
   "cell_type": "markdown",
   "metadata": {},
   "source": [
    "This regular expression will indeed match these tags. However, DOES NOT our requirement to capture the tag’s label into the __capturing__ group.\n",
    "\n",
    "- When this regex matches !abc123!, the capturing group stores only 123. \n",
    "- When it matches !123abcabc!, it only stores abc."
   ]
  },
  {
   "cell_type": "markdown",
   "metadata": {},
   "source": [
    "regex engine applies __!(abc|123)+!__ to __!abc123!__\n",
    "\n",
    "- First, ! matches !. \n",
    "\n",
    "- The engine then enters the __capturing__ group. \n",
    "\n",
    "- It makes note that __capturing__ group #1 was entered when the engine reached the position between the first and second character in the subject string. The first token in the group is __abc__, which matches __abc__. \n",
    "\n",
    "- A match is found, so the second alternative isn’t tried. (The engine does store a backtracking position, but this won’t be used in this example.) \n",
    "\n",
    "- The engine now leaves the __capturing__ group. It makes note that capturing group #1 was exited when the engine reached the position between the 4th and 5th characters in the string.\n",
    "\n",
    "- After having exited from the group, the engine notices the __plus__. The plus is __greedy__, so the group is tried again. The engine enters the group again, and takes note that capturing group #1 was entered between the 4th and 5th characters in the string. \n",
    "\n",
    "- It also makes note that since the __plus__ is not possessive, it may be backtracked. That is, if the group cannot be matched a second time, that’s fine. In this backtracking note, the regex engine also saves the entrance and exit positions of the group during the previous iteration of the group.\n",
    "\n",
    "__abc__ fails to match __123__, but __123__ succeeds. \n",
    "\n",
    "The group is exited again. The exit position between characters 7 and 8 is stored."
   ]
  },
  {
   "cell_type": "code",
   "execution_count": 83,
   "metadata": {},
   "outputs": [
    {
     "data": {
      "text/plain": [
       "[('abc123', '123'), ('123abc', 'abc'), ('123abcabc', 'abc')]"
      ]
     },
     "execution_count": 83,
     "metadata": {},
     "output_type": "execute_result"
    }
   ],
   "source": [
    "input_str = '!abc123! is great guy. !123abc! is great too, !123abcabc! is just cool'\n",
    "\n",
    "re.findall(r\"!((abc|123)+)!\", input_str)"
   ]
  },
  {
   "cell_type": "code",
   "execution_count": null,
   "metadata": {},
   "outputs": [],
   "source": []
  }
 ],
 "metadata": {
  "kernelspec": {
   "display_name": "Python 3 (ipykernel)",
   "language": "python",
   "name": "python3"
  },
  "language_info": {
   "codemirror_mode": {
    "name": "ipython",
    "version": 3
   },
   "file_extension": ".py",
   "mimetype": "text/x-python",
   "name": "python",
   "nbconvert_exporter": "python",
   "pygments_lexer": "ipython3",
   "version": "3.9.12"
  }
 },
 "nbformat": 4,
 "nbformat_minor": 4
}
