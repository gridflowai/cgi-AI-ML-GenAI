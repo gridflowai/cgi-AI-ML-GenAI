{
 "cells": [
  {
   "cell_type": "code",
   "execution_count": 1,
   "metadata": {},
   "outputs": [],
   "source": [
    "from IPython.display import Image"
   ]
  },
  {
   "cell_type": "code",
   "execution_count": 1,
   "metadata": {},
   "outputs": [],
   "source": [
    "import re"
   ]
  },
  {
   "cell_type": "markdown",
   "metadata": {},
   "source": [
    "---------------------------\n",
    "## Project - on regex\n",
    "-----------------------"
   ]
  },
  {
   "cell_type": "markdown",
   "metadata": {},
   "source": [
    "#### Validate Email Addresses\n",
    "\n",
    "**Problem**\n",
    "- You have a form on your website or a dialog box in your application that asks the user for an `email address`. \n",
    "\n",
    "- You want to use a `regular expression` to validate this email address before trying to send email to it. \n",
    "    - This reduces the number of emails returned to you as undeliverable.\n",
    "\n",
    "Suppose you want to find the email address inside the string 'xyz alice-b@google.com purple monkey'. \n",
    "\n",
    "- `\\w` (lowercase w) matches a \"word\" character: a letter or digit or underbar [a-zA-Z0-9_]. \n",
    "- `\\W` (upper case W) matches any non-word character.\n",
    "- `@` scan till you see this character\n",
    "- [w.] a set of characters to potentially match, so w is all alphanumeric characters, and the trailing period . adds to that set of characters.\n",
    "- + one or more of the previous set."
   ]
  },
  {
   "cell_type": "markdown",
   "metadata": {},
   "source": [
    "#### Solution - Option 1\n",
    "\n",
    "**Simple**\n",
    "\n",
    "- This first solution does a very simple check. \n",
    "\n",
    "- It only validates that the string contains an at sign (`@`) that is `preceded` and `followed` by `one or more nonwhitespace characters`."
   ]
  },
  {
   "cell_type": "code",
   "execution_count": 2,
   "metadata": {},
   "outputs": [
    {
     "data": {
      "text/plain": [
       "['support@openDBtech.com',\n",
       " 'bks@bks.com',\n",
       " 'bks_@bks.in',\n",
       " 'bks!@bks.com',\n",
       " 'ak*@ak.in',\n",
       " 'ak-00@in']"
      ]
     },
     "execution_count": 2,
     "metadata": {},
     "output_type": "execute_result"
    }
   ],
   "source": [
    "regex = r'\\S+@\\S+'\n",
    "text  = '''purple \n",
    "support@openDBtech.com \n",
    "monkey \n",
    "dishwasher \n",
    "bks@bks.com \n",
    "bks_@bks.in \n",
    "bks!@bks.com \n",
    "ak*@ak.in \n",
    "ak-00@in'''\n",
    "\n",
    "re.findall(regex, text)"
   ]
  },
  {
   "cell_type": "markdown",
   "metadata": {},
   "source": [
    "- ‹\\S› matches any character that is `not a whitespace character`.\n",
    "    - Equivalent to negated character class -> [^ \\t\\n\\r\\f\\v]\n",
    "        - Not a tab char\n",
    "        - Not a new line\n",
    "        - Not a carriage return\n",
    "        - Not a form feed\n",
    "        - Not a vertical whitespace\n",
    "    - Equivalent to \n",
    "        - A-Z\n",
    "        - a-z\n",
    "        - 0-9\n",
    "        - underscore\n",
    "        - All punctuations"
   ]
  },
  {
   "cell_type": "markdown",
   "metadata": {},
   "source": [
    "#### Solution - Option 2 \n",
    "\n",
    "**with restrictions on characters**\n",
    "\n",
    "- The `domain name`, the part after the `@` sign, is restricted to characters allowed in domain names. \n",
    "\n",
    "- Internationalized domain names are not allowed. \n",
    "\n",
    "- The local part, the part before the @ sign, is restricted to characters commonly used in email local parts, which is more restrictive than what most email clients and servers will accept:"
   ]
  },
  {
   "cell_type": "code",
   "execution_count": 3,
   "metadata": {},
   "outputs": [
    {
     "data": {
      "text/plain": [
       "['support@openDBtech.com',\n",
       " 'bks@bks.com',\n",
       " 'bks_@bks.in',\n",
       " 'ak-00@in',\n",
       " 'akash...in@in']"
      ]
     },
     "execution_count": 3,
     "metadata": {},
     "output_type": "execute_result"
    }
   ],
   "source": [
    "regex = r'[A-Z0-9+_.-]+@[A-Z0-9.-]+'\n",
    "text  = '''purple \n",
    "support@openDBtech.com \n",
    "monkey \n",
    "dishwasher \n",
    "bks@bks.com \n",
    "bks_@bks.in \n",
    "bks!@bks.com \n",
    "ak*@ak.in \n",
    "ak-00@in\n",
    "akash...in@in\n",
    "'''\n",
    "\n",
    "re.findall(regex, text, re.IGNORECASE)"
   ]
  },
  {
   "cell_type": "markdown",
   "metadata": {},
   "source": [
    "observe bks!@bks.com , ak*@ak.in are rejected"
   ]
  },
  {
   "cell_type": "markdown",
   "metadata": {},
   "source": [
    "#### Solution - Option 3 \n",
    "\n",
    "**with all valid local part characters**\n",
    "\n",
    "- This regular expression expands the previous one by allowing a larger set of rarely used characters in the local part. \n",
    "- Not all email software can handle all these characters, but we’ve included all the characters permitted by RFC 5322, which governs the email message format. \n",
    "- Among the permitted characters are some that present a security risk if passed directly from user input to an SQL statement, such as the single quote (') and the pipe character (|). \n",
    "- Be sure to escape sensitive characters when inserting the email address into a string passed to another program, in order to prevent security holes such as SQL injection attacks:"
   ]
  },
  {
   "cell_type": "code",
   "execution_count": 4,
   "metadata": {},
   "outputs": [
    {
     "data": {
      "text/plain": [
       "['support@openDBtech.com',\n",
       " 'bks@bks.com',\n",
       " 'bks_@bks.in',\n",
       " 'bks!@bks.com',\n",
       " 'ak*@ak.in',\n",
       " 'ak-00@in',\n",
       " 'akash...in@in',\n",
       " '.bharat@.india.com']"
      ]
     },
     "execution_count": 4,
     "metadata": {},
     "output_type": "execute_result"
    }
   ],
   "source": [
    "regex = r\"[A-Z0-9_!#$%'*+/=?`{|}~^.-]+@[A-Z0-9.-]+\"\n",
    "\n",
    "text  = '''purple \n",
    "support@openDBtech.com \n",
    "monkey \n",
    "dishwasher \n",
    "bks@bks.com \n",
    "bks_@bks.in \n",
    "bks!@bks.com \n",
    "ak*@ak.in \n",
    "ak-00@in\n",
    "akash...in@in\n",
    ".bharat@.india.com\n",
    "'''\n",
    "\n",
    "re.findall(regex, text, re.IGNORECASE)  "
   ]
  },
  {
   "cell_type": "markdown",
   "metadata": {},
   "source": [
    "#### Solution - Option 4 \n",
    "\n",
    "**No leading, trailing, or consecutive dots**\n",
    "\n",
    "- Both the local part and the domain name can contain one or more dots, but no two dots can appear right next to each other. \n",
    "\n",
    "- Furthermore, the first and last characters in the local part and in the domain name must not be dots:\n"
   ]
  },
  {
   "cell_type": "code",
   "execution_count": 5,
   "metadata": {},
   "outputs": [
    {
     "data": {
      "text/plain": [
       "['support@openDBtech.com',\n",
       " 'bks@bks.com',\n",
       " 'bks_@bks.in',\n",
       " 'bks!@bks.com',\n",
       " 'ak*@ak.in',\n",
       " 'ak-00@in',\n",
       " 'in@in']"
      ]
     },
     "execution_count": 5,
     "metadata": {},
     "output_type": "execute_result"
    }
   ],
   "source": [
    "regex = \"[A-Z0-9_!#$%&'*+/=?`{|}~^-]+(?:\\.[A-Z0-9_!#$%&'*+/=?`{|}~^-]+)*@[A-Z0-9-]+(?:\\.[A-Z0-9-]+)*\"\n",
    "\n",
    "text  = '''purple \n",
    "support@openDBtech.com \n",
    "monkey \n",
    "dishwasher \n",
    "bks@bks.com \n",
    "bks_@bks.in \n",
    "bks!@bks.com \n",
    "ak*@ak.in \n",
    "ak-00@in\n",
    "ak...ash...in@in\n",
    ".bharat@.india.com\n",
    "'''\n",
    "\n",
    "re.findall(regex, text, re.IGNORECASE)  "
   ]
  },
  {
   "cell_type": "markdown",
   "metadata": {},
   "source": [
    "the use of a group, `(?:[A-Z0-9-]+\\.)+` matches one or more letters, digits, and/or hyphens, followed by one literal dot. The plus sign repeats this group one or more times. The group must match at least once, but can match as many times as possible."
   ]
  },
  {
   "cell_type": "markdown",
   "metadata": {},
   "source": [
    "#### Solution - Option 5 \n",
    "\n",
    "**Top-level domain has two to six letters**\n",
    "\n",
    "- This regular expression adds to the previous versions by specifying that \n",
    "    - the domain name must include at least one dot, \n",
    "    - and that the part of the domain name after the last dot can only consist of letters. \n",
    "    - The top-level domain (.com in these examples) must consist of two to six letters. \n",
    "    - All country-code top-level domains (.us, .uk, etc.) have two letters. \n",
    "    - The generic top-level domains have between 3 (.com) and 6 letters (.museum):"
   ]
  },
  {
   "cell_type": "code",
   "execution_count": 6,
   "metadata": {},
   "outputs": [
    {
     "data": {
      "text/plain": [
       "['support@openDBtech.com',\n",
       " 'bks@bks.com',\n",
       " 'bks_@bks.in',\n",
       " 'bks!@bks.com',\n",
       " 'ak*@ak.in']"
      ]
     },
     "execution_count": 6,
     "metadata": {},
     "output_type": "execute_result"
    }
   ],
   "source": [
    "regex =\"[\\w!#$%&'*+/=?`{|}~^-]+(?:\\.[\\w!#$%&'*+/=?`{|}~^-]+)*@(?:[A-Z0-9-]+\\.)+[A-Z]{2,6}\"\n",
    "\n",
    "text  = '''purple \n",
    "support@openDBtech.com \n",
    "monkey \n",
    "dishwasher \n",
    "bks@bks.com \n",
    "bks_@bks.in \n",
    "bks!@bks.com \n",
    "ak*@ak.in \n",
    "ak-00@in\n",
    "ak...ash...in@in\n",
    ".bharat@.india.com\n",
    "dave_uk@unitedkingdom\n",
    "'''\n",
    "\n",
    "re.findall(regex, text, re.IGNORECASE) "
   ]
  },
  {
   "cell_type": "markdown",
   "metadata": {},
   "source": [
    "Observe longer than 6 chrs domain names are rejected"
   ]
  },
  {
   "cell_type": "code",
   "execution_count": null,
   "metadata": {},
   "outputs": [],
   "source": []
  }
 ],
 "metadata": {
  "kernelspec": {
   "display_name": "Python 3",
   "language": "python",
   "name": "python3"
  },
  "language_info": {
   "codemirror_mode": {
    "name": "ipython",
    "version": 3
   },
   "file_extension": ".py",
   "mimetype": "text/x-python",
   "name": "python",
   "nbconvert_exporter": "python",
   "pygments_lexer": "ipython3",
   "version": "3.8.5"
  }
 },
 "nbformat": 4,
 "nbformat_minor": 4
}
