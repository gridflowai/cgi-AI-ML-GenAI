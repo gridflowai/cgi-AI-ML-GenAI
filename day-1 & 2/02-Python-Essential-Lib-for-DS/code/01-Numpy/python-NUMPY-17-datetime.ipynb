{
 "cells": [
  {
   "cell_type": "code",
   "execution_count": 1,
   "metadata": {
    "tags": []
   },
   "outputs": [],
   "source": [
    "from IPython.display import Image"
   ]
  },
  {
   "cell_type": "markdown",
   "metadata": {},
   "source": [
    "--------------\n",
    "#### Datetime\n",
    "-----------------------\n"
   ]
  },
  {
   "cell_type": "markdown",
   "metadata": {},
   "source": [
    "#### Year"
   ]
  },
  {
   "cell_type": "code",
   "execution_count": 1,
   "metadata": {
    "tags": []
   },
   "outputs": [],
   "source": [
    "import numpy as np\n",
    "from datetime import datetime"
   ]
  },
  {
   "cell_type": "markdown",
   "metadata": {},
   "source": [
    "##### Example 1 -  specify time as a year"
   ]
  },
  {
   "cell_type": "code",
   "execution_count": 2,
   "metadata": {
    "tags": []
   },
   "outputs": [
    {
     "name": "stdout",
     "output_type": "stream",
     "text": [
      "2019\n"
     ]
    }
   ],
   "source": [
    "year=np.datetime64('2019')\n",
    "print(year)"
   ]
  },
  {
   "cell_type": "markdown",
   "metadata": {},
   "source": [
    "We can look at the datatype of `year`"
   ]
  },
  {
   "cell_type": "code",
   "execution_count": 4,
   "metadata": {
    "tags": []
   },
   "outputs": [
    {
     "name": "stdout",
     "output_type": "stream",
     "text": [
      "datetime64[Y]\n"
     ]
    }
   ],
   "source": [
    "print(year.dtype)"
   ]
  },
  {
   "cell_type": "markdown",
   "metadata": {},
   "source": [
    "##### Example 2 - Difference in years"
   ]
  },
  {
   "cell_type": "code",
   "execution_count": 5,
   "metadata": {
    "tags": []
   },
   "outputs": [
    {
     "name": "stdout",
     "output_type": "stream",
     "text": [
      "5 years\n"
     ]
    }
   ],
   "source": [
    "year1 = np.datetime64('2016')\n",
    "year2 = np.datetime64('2021')\n",
    "\n",
    "diffyear = year2 - year1\n",
    "\n",
    "print(diffyear)"
   ]
  },
  {
   "cell_type": "markdown",
   "metadata": {},
   "source": [
    "We can look at the datatype of `diffyear`"
   ]
  },
  {
   "cell_type": "code",
   "execution_count": 6,
   "metadata": {
    "tags": []
   },
   "outputs": [
    {
     "name": "stdout",
     "output_type": "stream",
     "text": [
      "timedelta64[Y]\n"
     ]
    }
   ],
   "source": [
    "print(diffyear.dtype)"
   ]
  },
  {
   "cell_type": "markdown",
   "metadata": {},
   "source": [
    "- We see that this `difference` in type has a different data type, `timedelta64`. \n",
    "\n",
    "- Both the `year` and the `difference between years` have the format in years. \n",
    "\n",
    "- The difference can be added to year2 to give a new variable year3"
   ]
  },
  {
   "cell_type": "code",
   "execution_count": 7,
   "metadata": {
    "tags": []
   },
   "outputs": [
    {
     "name": "stdout",
     "output_type": "stream",
     "text": [
      "2026\n"
     ]
    }
   ],
   "source": [
    "year3=year2 + diffyear\n",
    "print(year3)"
   ]
  },
  {
   "cell_type": "markdown",
   "metadata": {},
   "source": [
    "We can have a look at the datatype using:"
   ]
  },
  {
   "cell_type": "code",
   "execution_count": 8,
   "metadata": {
    "tags": []
   },
   "outputs": [
    {
     "name": "stdout",
     "output_type": "stream",
     "text": [
      "datetime64[Y]\n"
     ]
    }
   ],
   "source": [
    "print(year3.dtype)"
   ]
  },
  {
   "cell_type": "markdown",
   "metadata": {},
   "source": [
    "A timedelta64 variable can also directly be created for example:"
   ]
  },
  {
   "cell_type": "code",
   "execution_count": 9,
   "metadata": {
    "tags": []
   },
   "outputs": [],
   "source": [
    "duration=np.timedelta64(2)"
   ]
  },
  {
   "cell_type": "code",
   "execution_count": 10,
   "metadata": {
    "tags": []
   },
   "outputs": [
    {
     "name": "stdout",
     "output_type": "stream",
     "text": [
      "timedelta64\n"
     ]
    }
   ],
   "source": [
    "print(duration.dtype)"
   ]
  },
  {
   "cell_type": "code",
   "execution_count": 11,
   "metadata": {
    "tags": []
   },
   "outputs": [
    {
     "name": "stdout",
     "output_type": "stream",
     "text": [
      "2018\n",
      "datetime64[Y]\n"
     ]
    }
   ],
   "source": [
    "year4 = year1 + duration\n",
    "\n",
    "print(year4)\n",
    "print(year4.dtype)"
   ]
  },
  {
   "cell_type": "markdown",
   "metadata": {},
   "source": [
    "#### Year-Month"
   ]
  },
  {
   "cell_type": "markdown",
   "metadata": {},
   "source": [
    "- To get the months we use a dash `–` to separate the `year` and the `month`\n",
    "\n",
    "- other symbols such as / do not work in this case. \n",
    "\n",
    "- The month has to expressed as a 2 digit number. Using 1 opposed to 01 for January will throw up an error:"
   ]
  },
  {
   "cell_type": "code",
   "execution_count": 12,
   "metadata": {
    "tags": []
   },
   "outputs": [
    {
     "name": "stdout",
     "output_type": "stream",
     "text": [
      "2019-01\n"
     ]
    }
   ],
   "source": [
    "yearmonth = np.datetime64('2019-01')\n",
    "\n",
    "print(yearmonth)"
   ]
  },
  {
   "cell_type": "code",
   "execution_count": 13,
   "metadata": {
    "tags": []
   },
   "outputs": [
    {
     "name": "stdout",
     "output_type": "stream",
     "text": [
      "datetime64[M]\n"
     ]
    }
   ],
   "source": [
    "print(yearmonth.dtype)"
   ]
  },
  {
   "cell_type": "markdown",
   "metadata": {},
   "source": [
    "##### Example"
   ]
  },
  {
   "cell_type": "code",
   "execution_count": 14,
   "metadata": {
    "tags": []
   },
   "outputs": [
    {
     "name": "stdout",
     "output_type": "stream",
     "text": [
      "2017-03\n",
      "datetime64[M]\n",
      "2021-01\n",
      "datetime64[M]\n"
     ]
    }
   ],
   "source": [
    "yearmonth1 = np.datetime64('2017-03')\n",
    "print(yearmonth1)\n",
    "print(yearmonth1.dtype)\n",
    "\n",
    "yearmonth2 = np.datetime64('2021-01')\n",
    "print(yearmonth2)\n",
    "print(yearmonth2.dtype)"
   ]
  },
  {
   "cell_type": "code",
   "execution_count": 14,
   "metadata": {},
   "outputs": [
    {
     "name": "stdout",
     "output_type": "stream",
     "text": [
      "46 months\n",
      "timedelta64[M]\n"
     ]
    }
   ],
   "source": [
    "duration2 = yearmonth2 - yearmonth1\n",
    "print(duration2)\n",
    "print(duration2.dtype)"
   ]
  },
  {
   "cell_type": "markdown",
   "metadata": {},
   "source": [
    "we can define timedelta in terms of month"
   ]
  },
  {
   "cell_type": "code",
   "execution_count": 15,
   "metadata": {
    "tags": []
   },
   "outputs": [
    {
     "name": "stdout",
     "output_type": "stream",
     "text": [
      "2 months\n",
      "timedelta64[M]\n"
     ]
    }
   ],
   "source": [
    "duration3 = np.timedelta64(2,'M')\n",
    "\n",
    "print(duration3)\n",
    "print(duration3.dtype)"
   ]
  },
  {
   "cell_type": "markdown",
   "metadata": {},
   "source": [
    "define timedelta in another way (months)"
   ]
  },
  {
   "cell_type": "code",
   "execution_count": 16,
   "metadata": {
    "tags": []
   },
   "outputs": [
    {
     "name": "stdout",
     "output_type": "stream",
     "text": [
      "62 months\n",
      "timedelta64[M]\n"
     ]
    }
   ],
   "source": [
    "duration4 = np.timedelta64(2,'M') + np.timedelta64(5,'Y')\n",
    "\n",
    "print(duration4)\n",
    "print(duration4.dtype)"
   ]
  },
  {
   "cell_type": "markdown",
   "metadata": {},
   "source": [
    "#### Years-Months-Days (YYYY-MM-DD)"
   ]
  },
  {
   "cell_type": "code",
   "execution_count": 17,
   "metadata": {
    "tags": []
   },
   "outputs": [
    {
     "name": "stdout",
     "output_type": "stream",
     "text": [
      "1996-05-27\n",
      "datetime64[D]\n"
     ]
    }
   ],
   "source": [
    "yearmonthday1 = np.datetime64('1996-05-27')\n",
    "\n",
    "print(yearmonthday1)\n",
    "print(yearmonthday1.dtype)"
   ]
  },
  {
   "cell_type": "code",
   "execution_count": 18,
   "metadata": {
    "tags": []
   },
   "outputs": [
    {
     "name": "stdout",
     "output_type": "stream",
     "text": [
      "2001-05-04\n",
      "datetime64[D]\n"
     ]
    }
   ],
   "source": [
    "yearmonthday2 = np.datetime64('2001-05-04')\n",
    "\n",
    "print(yearmonthday2)\n",
    "print(yearmonthday2.dtype)"
   ]
  },
  {
   "cell_type": "code",
   "execution_count": 19,
   "metadata": {
    "tags": []
   },
   "outputs": [
    {
     "name": "stdout",
     "output_type": "stream",
     "text": [
      "1803 days\n",
      "timedelta64[D]\n"
     ]
    }
   ],
   "source": [
    "duration5 = yearmonthday2 - yearmonthday1\n",
    "\n",
    "print(duration5)\n",
    "print(duration5.dtype)"
   ]
  },
  {
   "cell_type": "markdown",
   "metadata": {},
   "source": [
    "#### Inconsistencies in Time Measurements\n",
    "\n",
    "Note if a duration is expressed in terms of [`months` and `days`] or [`years` and `days`] the following error message shows up:"
   ]
  },
  {
   "cell_type": "code",
   "execution_count": 20,
   "metadata": {
    "tags": []
   },
   "outputs": [
    {
     "ename": "TypeError",
     "evalue": "Cannot get a common metadata divisor for Numpy datetime metadata [M] and [D] because they have incompatible nonlinear base time units.",
     "output_type": "error",
     "traceback": [
      "\u001b[1;31m---------------------------------------------------------------------------\u001b[0m",
      "\u001b[1;31mTypeError\u001b[0m                                 Traceback (most recent call last)",
      "Cell \u001b[1;32mIn[20], line 1\u001b[0m\n\u001b[1;32m----> 1\u001b[0m duration5 \u001b[38;5;241m=\u001b[39m np\u001b[38;5;241m.\u001b[39mtimedelta64(\u001b[38;5;241m1\u001b[39m,\u001b[38;5;124m'\u001b[39m\u001b[38;5;124mY\u001b[39m\u001b[38;5;124m'\u001b[39m) \u001b[38;5;241m+\u001b[39m np\u001b[38;5;241m.\u001b[39mtimedelta64(\u001b[38;5;241m1\u001b[39m,\u001b[38;5;124m'\u001b[39m\u001b[38;5;124mM\u001b[39m\u001b[38;5;124m'\u001b[39m) \u001b[38;5;241m+\u001b[39m np\u001b[38;5;241m.\u001b[39mtimedelta64(\u001b[38;5;241m1\u001b[39m,\u001b[38;5;124m'\u001b[39m\u001b[38;5;124mD\u001b[39m\u001b[38;5;124m'\u001b[39m)\n",
      "\u001b[1;31mTypeError\u001b[0m: Cannot get a common metadata divisor for Numpy datetime metadata [M] and [D] because they have incompatible nonlinear base time units."
     ]
    }
   ],
   "source": [
    "duration5 = np.timedelta64(1,'Y') + np.timedelta64(1,'M') + np.timedelta64(1,'D')"
   ]
  },
  {
   "cell_type": "markdown",
   "metadata": {},
   "source": [
    "This is due to the inconsistency of the number of days in a month and the number of days in a year… . \n",
    "\n",
    "In other words the units years are (365±1 days) and months (30±2 days) don't have the same accuracy as the units days. "
   ]
  },
  {
   "cell_type": "markdown",
   "metadata": {},
   "source": [
    "#### Years-Months-Days-TimeHours (YYYY-MM-DDThh)\n",
    "\n",
    "- The date is separated from the time by using a `T`. i.e. in the format 'YYYY-MM-DDThh'"
   ]
  },
  {
   "cell_type": "code",
   "execution_count": 22,
   "metadata": {
    "tags": []
   },
   "outputs": [
    {
     "name": "stdout",
     "output_type": "stream",
     "text": [
      "1996-05-27T15\n",
      "datetime64[h]\n"
     ]
    }
   ],
   "source": [
    "yearmonthdayhour1 = np.datetime64('1996-05-27T15')\n",
    "\n",
    "print(yearmonthdayhour1)\n",
    "print(yearmonthdayhour1.dtype)"
   ]
  },
  {
   "cell_type": "code",
   "execution_count": 23,
   "metadata": {
    "tags": []
   },
   "outputs": [
    {
     "name": "stdout",
     "output_type": "stream",
     "text": [
      "2001-05-04T10\n",
      "datetime64[h]\n"
     ]
    }
   ],
   "source": [
    "yearmonthdayhour2 = np.datetime64('2001-05-04T10')\n",
    "\n",
    "print(yearmonthdayhour2)\n",
    "print(yearmonthdayhour2.dtype)"
   ]
  },
  {
   "cell_type": "code",
   "execution_count": 24,
   "metadata": {
    "tags": []
   },
   "outputs": [
    {
     "name": "stdout",
     "output_type": "stream",
     "text": [
      "43267 hours\n",
      "timedelta64[h]\n"
     ]
    }
   ],
   "source": [
    "duration7 = yearmonthdayhour2 - yearmonthdayhour1\n",
    "\n",
    "print(duration7)\n",
    "print(duration7.dtype)"
   ]
  },
  {
   "cell_type": "markdown",
   "metadata": {},
   "source": [
    "- Note that for `hours`, the dtype is `lower case h` opposed to the upper case `Y`, `M` and `D` for years, months and days. \n",
    "\n",
    "- This `distinction` using upper case for the date and lower case for the time is `deliberate` to distinguish `months` abbreviated `M` from `minutes` abbreviated `m`.\n",
    "\n",
    "- A duration can be expressed in terms of Days and Hours as a Day is exactly 24 Hours."
   ]
  },
  {
   "cell_type": "code",
   "execution_count": 25,
   "metadata": {
    "tags": []
   },
   "outputs": [
    {
     "name": "stdout",
     "output_type": "stream",
     "text": [
      "25 hours\n",
      "timedelta64[h]\n"
     ]
    }
   ],
   "source": [
    "duration8 = np.timedelta64(1,'D') + np.timedelta64(1,'h')\n",
    "\n",
    "print(duration8)\n",
    "print(duration8.dtype)"
   ]
  },
  {
   "cell_type": "code",
   "execution_count": 26,
   "metadata": {
    "tags": []
   },
   "outputs": [
    {
     "ename": "TypeError",
     "evalue": "Cannot get a common metadata divisor for Numpy datetime metadata [M] and [D] because they have incompatible nonlinear base time units.",
     "output_type": "error",
     "traceback": [
      "\u001b[1;31m---------------------------------------------------------------------------\u001b[0m",
      "\u001b[1;31mTypeError\u001b[0m                                 Traceback (most recent call last)",
      "Cell \u001b[1;32mIn[26], line 1\u001b[0m\n\u001b[1;32m----> 1\u001b[0m duration9 \u001b[38;5;241m=\u001b[39m np\u001b[38;5;241m.\u001b[39mtimedelta64(\u001b[38;5;241m1\u001b[39m,\u001b[38;5;124m'\u001b[39m\u001b[38;5;124mY\u001b[39m\u001b[38;5;124m'\u001b[39m) \u001b[38;5;241m+\u001b[39m np\u001b[38;5;241m.\u001b[39mtimedelta64(\u001b[38;5;241m1\u001b[39m,\u001b[38;5;124m'\u001b[39m\u001b[38;5;124mM\u001b[39m\u001b[38;5;124m'\u001b[39m) \u001b[38;5;241m+\u001b[39m np\u001b[38;5;241m.\u001b[39mtimedelta64(\u001b[38;5;241m1\u001b[39m,\u001b[38;5;124m'\u001b[39m\u001b[38;5;124mD\u001b[39m\u001b[38;5;124m'\u001b[39m) \u001b[38;5;241m+\u001b[39m np\u001b[38;5;241m.\u001b[39mtimedelta64(\u001b[38;5;241m1\u001b[39m,\u001b[38;5;124m'\u001b[39m\u001b[38;5;124mh\u001b[39m\u001b[38;5;124m'\u001b[39m)\n",
      "\u001b[1;31mTypeError\u001b[0m: Cannot get a common metadata divisor for Numpy datetime metadata [M] and [D] because they have incompatible nonlinear base time units."
     ]
    }
   ],
   "source": [
    "duration9 = np.timedelta64(1,'Y') + np.timedelta64(1,'M') + np.timedelta64(1,'D') + np.timedelta64(1,'h')"
   ]
  },
  {
   "cell_type": "markdown",
   "metadata": {},
   "source": [
    "#### Years-Months-Days-TimeHours:Minutes (YYYY-MM-DDThh:mm)\n",
    "\n",
    "- we use a : to split the hours `hh` and the minutes `mm`"
   ]
  },
  {
   "cell_type": "code",
   "execution_count": 26,
   "metadata": {},
   "outputs": [
    {
     "name": "stdout",
     "output_type": "stream",
     "text": [
      "1996-05-27T15:13\n",
      "datetime64[m]\n"
     ]
    }
   ],
   "source": [
    "yearmonthdayhourmin1 = np.datetime64('1996-05-27T15:13')\n",
    "\n",
    "print(yearmonthdayhourmin1)\n",
    "print(yearmonthdayhourmin1.dtype)"
   ]
  },
  {
   "cell_type": "code",
   "execution_count": 38,
   "metadata": {},
   "outputs": [
    {
     "name": "stdout",
     "output_type": "stream",
     "text": [
      "2001-05-04T10:30\n",
      "datetime64[m]\n"
     ]
    }
   ],
   "source": [
    "yearmonthdayhourmin2 = np.datetime64('2001-05-04T10:30')\n",
    "\n",
    "print(yearmonthdayhourmin2)\n",
    "print(yearmonthdayhourmin2.dtype)"
   ]
  },
  {
   "cell_type": "code",
   "execution_count": 40,
   "metadata": {},
   "outputs": [
    {
     "name": "stdout",
     "output_type": "stream",
     "text": [
      "2596037 minutes\n",
      "timedelta64[m]\n"
     ]
    }
   ],
   "source": [
    "duration9 = yearmonthdayhourmin2 - yearmonthdayhourmin1\n",
    "\n",
    "print(duration9)\n",
    "print(duration9.dtype)"
   ]
  },
  {
   "cell_type": "markdown",
   "metadata": {},
   "source": [
    "A duration of Days, hours and minutes can be created."
   ]
  },
  {
   "cell_type": "code",
   "execution_count": 41,
   "metadata": {},
   "outputs": [
    {
     "name": "stdout",
     "output_type": "stream",
     "text": [
      "1501 minutes\n",
      "timedelta64[m]\n"
     ]
    }
   ],
   "source": [
    "duration10 = np.timedelta64(1,'D') + np.timedelta64(1,'h') + np.timedelta64(1,'m')\n",
    "\n",
    "print(duration10)\n",
    "print(duration10.dtype)"
   ]
  },
  {
   "cell_type": "markdown",
   "metadata": {},
   "source": [
    "#### Years-Months-Days-TimeHours:Minutes:Seconds (YYYY-MM-DDThh:mm:ss)"
   ]
  },
  {
   "cell_type": "code",
   "execution_count": 42,
   "metadata": {},
   "outputs": [
    {
     "name": "stdout",
     "output_type": "stream",
     "text": [
      "2019-08-19T20:01:01\n",
      "datetime64[s]\n",
      "2019-08-19T20:05:02\n",
      "datetime64[s]\n",
      "-241 seconds\n",
      "timedelta64[s]\n"
     ]
    }
   ],
   "source": [
    "yearmonthdayhourminutesecond1 = np.datetime64('2019-08-19T20:01:01')\n",
    "print(yearmonthdayhourminutesecond1)\n",
    "print(yearmonthdayhourminutesecond1.dtype)\n",
    "\n",
    "yearmonthdayhourminutesecond2 = np.datetime64('2019-08-19T20:05:02')\n",
    "print(yearmonthdayhourminutesecond2)\n",
    "print(yearmonthdayhourminutesecond2.dtype)\n",
    "\n",
    "duration11 = yearmonthdayhourminutesecond1 - yearmonthdayhourminutesecond2\n",
    "print(duration11)\n",
    "print(duration11.dtype)"
   ]
  },
  {
   "cell_type": "markdown",
   "metadata": {},
   "source": [
    "A duration consisting of Days, hours, minutes and seconds can be created."
   ]
  },
  {
   "cell_type": "code",
   "execution_count": 43,
   "metadata": {},
   "outputs": [
    {
     "name": "stdout",
     "output_type": "stream",
     "text": [
      "90061 seconds\n",
      "timedelta64[s]\n"
     ]
    }
   ],
   "source": [
    "duration12 = np.timedelta64(1,'D') + np.timedelta64(1,'h') + np.timedelta64(1,'m') + np.timedelta64(1,'s')\n",
    "\n",
    "print(duration12)\n",
    "print(duration12.dtype)"
   ]
  },
  {
   "cell_type": "markdown",
   "metadata": {},
   "source": [
    "#### Date Times Specified to Units Below a Second"
   ]
  },
  {
   "cell_type": "code",
   "execution_count": 44,
   "metadata": {},
   "outputs": [
    {
     "name": "stdout",
     "output_type": "stream",
     "text": [
      "2019-08-19T20:01:01.001\n",
      "datetime64[ms]\n",
      "2019-08-19T20:05:02\n",
      "datetime64[s]\n",
      "-240999 milliseconds\n",
      "timedelta64[ms]\n"
     ]
    }
   ],
   "source": [
    "timetoms1 = np.datetime64('2019-08-19T20:01:01.001')\n",
    "print(timetoms1)\n",
    "print(timetoms1.dtype)\n",
    "\n",
    "timetoms2 = np.datetime64('2019-08-19T20:05:02')\n",
    "print(timetoms2)\n",
    "print(timetoms2.dtype)\n",
    "\n",
    "duration13 = timetoms1 - timetoms2\n",
    "print(duration13)\n",
    "print(duration13.dtype)"
   ]
  },
  {
   "cell_type": "markdown",
   "metadata": {},
   "source": [
    "|abbreviation\t|name\t        |time in s|\n",
    "|---------------|-------        |---------|\n",
    "|ms             |\tmillisecond\t|0.001|\n",
    "|us             |\tmicrosecond\t|0.000 001|\n",
    "|ns             |\tnanosecond\t|0.000 000 001|\n",
    "|ps             |\tpicosecond\t|0.000 000 000 001|\n",
    "|fs             |\tfemtosecond\t|0.000 000 000 000 001|\n",
    "|as             |\tattosecond\t|0.000 000 000 000 000 001|"
   ]
  },
  {
   "cell_type": "markdown",
   "metadata": {},
   "source": [
    "These abbreviations can be used within duration"
   ]
  },
  {
   "cell_type": "code",
   "execution_count": 45,
   "metadata": {},
   "outputs": [
    {
     "name": "stdout",
     "output_type": "stream",
     "text": [
      "90061001001 microseconds\n",
      "timedelta64[us]\n"
     ]
    }
   ],
   "source": [
    "duration14=np.timedelta64(1,'D') + np.timedelta64(1,'h') + np.timedelta64(1,'m') + np.timedelta64(1,'s') + np.timedelta64(1,'ms') + np.timedelta64(1,'us')\n",
    "print(duration14)\n",
    "print(duration14.dtype)"
   ]
  },
  {
   "cell_type": "markdown",
   "metadata": {},
   "source": [
    "#### Python datetime Classes\n",
    "\n",
    "- the 5 main object classes that are used in the `datetime` module. \n",
    "\n",
    "    - `datetime` – Allows us to manipulate times and dates together (month, day, year, hour, second, microsecond).\n",
    "    - `date` – Allows us to manipulate dates independent of time (month, day, year).\n",
    "    - `time` – Allows us to manipulate time independent of date (hour, minute, second, microsecond).\n",
    "    - `timedelta` — A `duration` of time used for manipulating dates and measuring.\n",
    "    - `tzinfo` — An abstract class for dealing with time zones.\n",
    "    "
   ]
  },
  {
   "cell_type": "code",
   "execution_count": 47,
   "metadata": {},
   "outputs": [],
   "source": [
    "# import datetime class from datetime module\n",
    "from datetime import datetime"
   ]
  },
  {
   "cell_type": "code",
   "execution_count": 51,
   "metadata": {},
   "outputs": [
    {
     "data": {
      "text/plain": [
       "datetime.datetime(2021, 1, 16, 20, 45, 10, 321159)"
      ]
     },
     "execution_count": 51,
     "metadata": {},
     "output_type": "execute_result"
    }
   ],
   "source": [
    "datetime.now()"
   ]
  },
  {
   "cell_type": "code",
   "execution_count": 54,
   "metadata": {},
   "outputs": [
    {
     "name": "stdout",
     "output_type": "stream",
     "text": [
      "2021-01-16 20:46:01.973797\n",
      "Type :-  <class 'datetime.datetime'>\n"
     ]
    }
   ],
   "source": [
    "# get current date\n",
    "datetime_object = datetime.now()\n",
    "\n",
    "print(datetime_object)\n",
    "print('Type :- ', type(datetime_object))"
   ]
  },
  {
   "cell_type": "markdown",
   "metadata": {},
   "source": [
    "- We can see from the results above that datetime_object is indeed a `datetime` object of the `datetime` class. \n",
    "\n",
    "- This includes the year, month, day, hour, minute, second, and microsecond."
   ]
  },
  {
   "cell_type": "markdown",
   "metadata": {},
   "source": [
    "#### Extract Year and Month from the Date\n",
    "- `date` objects are just like `datetime` without the `time` data, \n",
    "- `time` objects are just like `datetime` without the `date` data.\n",
    "\n",
    "- in most data sets, date and time information is stored in `string` format! \n",
    "\n",
    "- Also, we may not want all of this date and time data — if we’re doing something like a monthly sales analysis, breaking things down by microsecond isn’t going to be very useful.\n",
    "\n",
    "- So now, let’s start digging into a `common task in data science`: extracting only the elements that we actually want from a `string` using `datetime`."
   ]
  },
  {
   "cell_type": "markdown",
   "metadata": {},
   "source": [
    "#### Handling Date and Time Strings with `strptime()` and `strftime()`\n",
    "\n",
    "- `datetime` includes 2 methods, `strptime()` and `strftime()`, for converting objects from strings to datetime objects and vice versa. \n",
    "- `strptime()` can read `strings` with date and time information and convert them to `datetime objects`, \n",
    "- `strftime()` converts datetime objects back into strings."
   ]
  },
  {
   "cell_type": "code",
   "execution_count": 57,
   "metadata": {},
   "outputs": [
    {
     "name": "stdout",
     "output_type": "stream",
     "text": [
      "2001-05-04 00:00:00\n",
      "Type:  <class 'datetime.datetime'>\n"
     ]
    }
   ],
   "source": [
    "my_string = '2001-05-04'\n",
    "\n",
    "# Create date object in given time format yyyy-mm-dd\n",
    "my_date = datetime.strptime(my_string, \"%Y-%m-%d\")\n",
    "\n",
    "print(my_date)\n",
    "print('Type: ',type(my_date))"
   ]
  },
  {
   "cell_type": "markdown",
   "metadata": {},
   "source": [
    "You may also have noticed that a time of 00:00:00 has been added to the date. That’s because we created a datetime object, which must include a date and a time. 00:00:00 is the default time that will be assigned if no time is designated in the string we’re inputting."
   ]
  },
  {
   "cell_type": "markdown",
   "metadata": {},
   "source": [
    "|Directive |Meaning                                 | Example                           |\n",
    "|----------|-----------------                       | ----------------------------------| \n",
    "|%a        |Weekday as locale’s abbreviated name.   | Sun, Mon, …, Sat (en_US);\n",
    "|%A        |Weekday as locale’s full name.          | Sunday, Monday, …, Saturday (en_US);\n",
    "|%w        |Weekday as a decimal number, where 0 is Sunday and 6 is Saturday.| 0, 1, …, 6\n",
    "|%d        |Day of the month as a zero-padded decimal number.| 01, 02, …, 31\n",
    "|%b        |Month as locale’s abbreviated name.|Jan, Feb, …, Dec (en_US);\n",
    "|%B        |Month as locale’s full name.|January, February, …, December (en_US);\n",
    "|%m        |Month as a zero-padded decimal number.|01, 02, …, 12\n",
    "|%y        |Year without century as a zero-padded decimal number.|00, 01, …, 99\n",
    "|%Y        |Year with century as a decimal number.|1970, 1988, 2001, 2013\n",
    "|%H        |Hour (24-hour clock) as a zero-padded decimal number.|00, 01, …, 23\n",
    "|%I        |Hour (12-hour clock) as a zero-padded decimal number.|01, 02, …, 12\n",
    "|%p        |Locale’s equivalent of either AM or PM.|AM, PM (en_US);\n",
    "|%M        |Minute as a zero-padded decimal number.|00, 01, …, 59\n",
    "|%S        |Second as a zero-padded decimal number.|00, 01, …, 59\n",
    "|%f        |Microsecond as a decimal number, zero-padded on the left.|000000, 000001, …, 999999\n",
    "|%z        |UTC offset in the form +HHMM or -HHMM (empty string if the the object is naive).|(empty), +0000, -0400, +1030\n",
    "|%Z        |Time zone name (empty string if the object is naive).|(empty), UTC, EST, CST\n",
    "|%j        |Day of the year as a zero-padded decimal number.|001, 002, …, 366\n",
    "|%U        |Week number of the year (Sunday as the first day of the week) as a zero padded decimal number. All days in a new year preceding the first Sunday are considered to be in week 0.|00, 01, …, 53\n",
    "|%W        |Week number of the year (Monday as the first day of the week) as a decimal number. All days in a new year preceding the first Monday are considered to be in week 0.|00, 01, …, 53"
   ]
  },
  {
   "cell_type": "code",
   "execution_count": 59,
   "metadata": {},
   "outputs": [
    {
     "name": "stdout",
     "output_type": "stream",
     "text": [
      "Month:  5\n",
      "Year:  2001\n"
     ]
    }
   ],
   "source": [
    "print('Month: ', my_date.month) # To Get month from date\n",
    "print('Year: ',  my_date.year)  # To Get month from year"
   ]
  },
  {
   "cell_type": "markdown",
   "metadata": {},
   "source": [
    "##### Getting Day of the Month and Day of the Week from a Date"
   ]
  },
  {
   "cell_type": "code",
   "execution_count": 66,
   "metadata": {},
   "outputs": [
    {
     "name": "stdout",
     "output_type": "stream",
     "text": [
      "Day of Month: 4\n",
      "Day of Week (number):  4\n"
     ]
    }
   ],
   "source": [
    "print('Day of Month:', my_date.day)\n",
    "print('Day of Week (number): ', my_date.weekday())"
   ]
  },
  {
   "cell_type": "code",
   "execution_count": 67,
   "metadata": {},
   "outputs": [],
   "source": [
    "# import calendar module\n",
    "import calendar"
   ]
  },
  {
   "cell_type": "code",
   "execution_count": 68,
   "metadata": {},
   "outputs": [
    {
     "name": "stdout",
     "output_type": "stream",
     "text": [
      "Day of Week (name):  Friday\n"
     ]
    }
   ],
   "source": [
    "# to get name of day from date\n",
    "print('Day of Week (name): ', calendar.day_name[my_date.weekday()])"
   ]
  },
  {
   "cell_type": "code",
   "execution_count": 69,
   "metadata": {},
   "outputs": [
    {
     "name": "stdout",
     "output_type": "stream",
     "text": [
      "Day of Week (name):  Saturday\n"
     ]
    }
   ],
   "source": [
    "# get current date\n",
    "datetime_object = datetime.now()\n",
    "# to get name of day from date\n",
    "print('Day of Week (name): ', calendar.day_name[datetime_object.weekday()])"
   ]
  },
  {
   "cell_type": "markdown",
   "metadata": {},
   "source": [
    "But ..."
   ]
  },
  {
   "cell_type": "raw",
   "metadata": {},
   "source": [
    "0 is Sunday \n",
    "1 is Monday\n",
    "2 is Tuesday\n",
    "3 is wednesday\n",
    "4 is thursday\n",
    "5 is Friday\n",
    "and 6 is Saturday."
   ]
  },
  {
   "cell_type": "code",
   "execution_count": 70,
   "metadata": {},
   "outputs": [
    {
     "name": "stdout",
     "output_type": "stream",
     "text": [
      "0 - Monday\n",
      "1 - Tuesday\n",
      "2 - Wednesday\n",
      "3 - Thursday\n",
      "4 - Friday\n",
      "5 - Saturday\n",
      "6 - Sunday\n"
     ]
    }
   ],
   "source": [
    "j = 0\n",
    "for i in calendar.day_name:\n",
    "    print(j,'-',i)\n",
    "    j+=1"
   ]
  },
  {
   "cell_type": "markdown",
   "metadata": {},
   "source": [
    "##### Getting Hours and Minutes From a Python Datetime Object"
   ]
  },
  {
   "cell_type": "code",
   "execution_count": 71,
   "metadata": {},
   "outputs": [
    {
     "name": "stdout",
     "output_type": "stream",
     "text": [
      "Hour:  21\n",
      "Minute:  23\n"
     ]
    }
   ],
   "source": [
    "todays_date = datetime.now()\n",
    "\n",
    "# to get hour from datetime\n",
    "print('Hour: ', todays_date.hour)\n",
    "\n",
    "# to get minute from datetime\n",
    "print('Minute: ', todays_date.minute)"
   ]
  },
  {
   "cell_type": "markdown",
   "metadata": {},
   "source": [
    "##### Getting Week of the Year from a Datetime Object\n",
    "\n",
    "- We can get the year, week of the year, and day of the week from a datetime object with the `.isocalendar()` function.\n",
    "- Specifically, isocalendar() returns a tuple with \n",
    "    - ISO year, \n",
    "    - week number and \n",
    "    - weekday. \n",
    "- The ISO calendar is a widely-used standard calendar  \n",
    "- it works as a regular calendar, starting each week on Monday."
   ]
  },
  {
   "cell_type": "code",
   "execution_count": 72,
   "metadata": {},
   "outputs": [
    {
     "data": {
      "text/plain": [
       "(2021, 2, 6)"
      ]
     },
     "execution_count": 72,
     "metadata": {},
     "output_type": "execute_result"
    }
   ],
   "source": [
    "# Return a 3-tuple, (ISO year, ISO week number, ISO weekday).\n",
    "todays_date.isocalendar()"
   ]
  },
  {
   "cell_type": "markdown",
   "metadata": {},
   "source": [
    "Note that in the ISO calendar, the week starts counting from 1, so 5 represents : `Friday`."
   ]
  },
  {
   "cell_type": "code",
   "execution_count": null,
   "metadata": {},
   "outputs": [],
   "source": []
  }
 ],
 "metadata": {
  "kernelspec": {
   "display_name": "Python 3 (ipykernel)",
   "language": "python",
   "name": "python3"
  },
  "language_info": {
   "codemirror_mode": {
    "name": "ipython",
    "version": 3
   },
   "file_extension": ".py",
   "mimetype": "text/x-python",
   "name": "python",
   "nbconvert_exporter": "python",
   "pygments_lexer": "ipython3",
   "version": "3.11.3"
  }
 },
 "nbformat": 4,
 "nbformat_minor": 4
}
