{
 "cells": [
  {
   "cell_type": "markdown",
   "id": "748ad5a4-fa71-44a8-b61d-fb9877d4f7f1",
   "metadata": {},
   "source": [
    "---------------\n",
    "#### Hashing vect\n",
    "------------------"
   ]
  },
  {
   "cell_type": "markdown",
   "id": "1d176b03-e072-4e0e-a291-8a146bb0847c",
   "metadata": {},
   "source": [
    "#### Binary Representation:\n",
    "- Using the binary=True parameter in `HashingVectorizer`, the vectorizer will produce a binary output."
   ]
  },
  {
   "cell_type": "code",
   "execution_count": 1,
   "id": "c4962d5f-6ec3-490e-aeb2-4a16707c302f",
   "metadata": {
    "tags": []
   },
   "outputs": [],
   "source": [
    "from sklearn.feature_extraction.text import HashingVectorizer"
   ]
  },
  {
   "cell_type": "code",
   "execution_count": 2,
   "id": "f42a8006-10ee-49b0-be83-a245b785f6b9",
   "metadata": {
    "tags": []
   },
   "outputs": [],
   "source": [
    "text = [\"apple banana apple orange\"]"
   ]
  },
  {
   "cell_type": "code",
   "execution_count": 5,
   "id": "a4cf641c-9a39-4d5b-acfa-cca5257f8a0b",
   "metadata": {
    "tags": []
   },
   "outputs": [],
   "source": [
    "# Binary Representation\n",
    "binary_vectorizer = HashingVectorizer(n_features=5, binary=True, norm=None)\n",
    "binary_vector     = binary_vectorizer.transform(text)"
   ]
  },
  {
   "cell_type": "code",
   "execution_count": 6,
   "id": "434afa15-27b5-4d41-83ee-14fa78ed25f4",
   "metadata": {
    "tags": []
   },
   "outputs": [
    {
     "name": "stdout",
     "output_type": "stream",
     "text": [
      "Binary Vector:\n",
      "[[1. 0. 0. 0. 0.]]\n"
     ]
    }
   ],
   "source": [
    "print(\"Binary Vector:\")\n",
    "print(binary_vector.toarray())"
   ]
  },
  {
   "cell_type": "code",
   "execution_count": 7,
   "id": "a4502b6f-93d4-45c5-a3ef-89f017ed236a",
   "metadata": {
    "tags": []
   },
   "outputs": [
    {
     "name": "stdout",
     "output_type": "stream",
     "text": [
      "Binary Vector:\n",
      "[[1. 0. 0. 0. 0. 1. 0. 0. 0. 0. 1. 0. 0. 0. 0.]]\n"
     ]
    }
   ],
   "source": [
    "# Binary Representation\n",
    "binary_vectorizer = HashingVectorizer(n_features=15, binary=True, norm=None)\n",
    "binary_vector     = binary_vectorizer.transform(text)\n",
    "\n",
    "print(\"Binary Vector:\")\n",
    "print(binary_vector.toarray())"
   ]
  },
  {
   "cell_type": "markdown",
   "id": "bd87ab5c-5caa-4408-9f33-e66c36aabc67",
   "metadata": {},
   "source": [
    "#### Frequency-based Representation:\n",
    "- The default behavior of HashingVectorizer is frequency-based."
   ]
  },
  {
   "cell_type": "code",
   "execution_count": 8,
   "id": "c54d38bd-cce9-4c0f-a9bc-3d0b08f853ae",
   "metadata": {
    "tags": []
   },
   "outputs": [
    {
     "name": "stdout",
     "output_type": "stream",
     "text": [
      "\n",
      "Frequency Vector:\n",
      "[[ 2.  0.  0.  0.  0. -2.  0.  0.  0.  0.  0.  0.  0.  0.  0.  0.  0.  0.\n",
      "   0.  0.]]\n"
     ]
    }
   ],
   "source": [
    "# Frequency-based Representation with larger n_features\n",
    "freq_vectorizer = HashingVectorizer(n_features=20, binary=False, norm=None)\n",
    "freq_vector = freq_vectorizer.transform(text)\n",
    "\n",
    "print(\"\\nFrequency Vector:\")\n",
    "print(freq_vector.toarray())"
   ]
  },
  {
   "cell_type": "code",
   "execution_count": null,
   "id": "3a3fbe9b-5bf0-404f-899b-2bc8a11eb464",
   "metadata": {},
   "outputs": [],
   "source": []
  }
 ],
 "metadata": {
  "kernelspec": {
   "display_name": "Python 3 (ipykernel)",
   "language": "python",
   "name": "python3"
  },
  "language_info": {
   "codemirror_mode": {
    "name": "ipython",
    "version": 3
   },
   "file_extension": ".py",
   "mimetype": "text/x-python",
   "name": "python",
   "nbconvert_exporter": "python",
   "pygments_lexer": "ipython3",
   "version": "3.11.4"
  }
 },
 "nbformat": 4,
 "nbformat_minor": 5
}
