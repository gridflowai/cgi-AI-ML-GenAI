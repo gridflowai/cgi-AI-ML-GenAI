{
 "cells": [
  {
   "cell_type": "code",
   "execution_count": 303,
   "metadata": {},
   "outputs": [],
   "source": [
    "import pandas as pd\n",
    "import numpy as np\n",
    "\n",
    "# import plotting libraries\n",
    "import matplotlib.pyplot as plt\n",
    "%matplotlib inline \n",
    "\n",
    "import seaborn as sns\n",
    "sns.set(style=\"white\", color_codes=True)\n",
    "sns.set(font_scale=1.5)"
   ]
  },
  {
   "cell_type": "code",
   "execution_count": 304,
   "metadata": {},
   "outputs": [],
   "source": [
    "from sklearn.neighbors import KNeighborsClassifier\n",
    "\n",
    "from sklearn.linear_model import LogisticRegression\n",
    "from sklearn.naive_bayes import  MultinomialNB"
   ]
  },
  {
   "cell_type": "code",
   "execution_count": 305,
   "metadata": {},
   "outputs": [],
   "source": [
    "from sklearn.feature_extraction.text import CountVectorizer"
   ]
  },
  {
   "cell_type": "code",
   "execution_count": 306,
   "metadata": {},
   "outputs": [],
   "source": [
    "pd.set_option('max_colwidth', 400)"
   ]
  },
  {
   "cell_type": "code",
   "execution_count": 307,
   "metadata": {},
   "outputs": [],
   "source": [
    "sms = pd.read_csv(r'D:\\AI-DATASETS\\01-MISC\\sms.tsv', header=None, sep='\\t',names=['label', 'message'])"
   ]
  },
  {
   "cell_type": "code",
   "execution_count": 308,
   "metadata": {},
   "outputs": [
    {
     "data": {
      "text/html": [
       "<div>\n",
       "<style scoped>\n",
       "    .dataframe tbody tr th:only-of-type {\n",
       "        vertical-align: middle;\n",
       "    }\n",
       "\n",
       "    .dataframe tbody tr th {\n",
       "        vertical-align: top;\n",
       "    }\n",
       "\n",
       "    .dataframe thead th {\n",
       "        text-align: right;\n",
       "    }\n",
       "</style>\n",
       "<table border=\"1\" class=\"dataframe\">\n",
       "  <thead>\n",
       "    <tr style=\"text-align: right;\">\n",
       "      <th></th>\n",
       "      <th>label</th>\n",
       "      <th>message</th>\n",
       "    </tr>\n",
       "  </thead>\n",
       "  <tbody>\n",
       "    <tr>\n",
       "      <th>107</th>\n",
       "      <td>ham</td>\n",
       "      <td>Aight, I'll hit you up when I get some cash</td>\n",
       "    </tr>\n",
       "    <tr>\n",
       "      <th>4112</th>\n",
       "      <td>spam</td>\n",
       "      <td>URGENT! Your Mobile number has been awarded a &lt;UKP&gt;2000 prize GUARANTEED. Call 09061790125 from landline. Claim 3030. Valid 12hrs only 150ppm</td>\n",
       "    </tr>\n",
       "    <tr>\n",
       "      <th>966</th>\n",
       "      <td>ham</td>\n",
       "      <td>Or better still can you catch her and let ask her if she can sell  &amp;lt;#&amp;gt;  for me.</td>\n",
       "    </tr>\n",
       "    <tr>\n",
       "      <th>1789</th>\n",
       "      <td>ham</td>\n",
       "      <td>Arun can u transfr me d amt</td>\n",
       "    </tr>\n",
       "    <tr>\n",
       "      <th>2406</th>\n",
       "      <td>ham</td>\n",
       "      <td>I'm meeting Darren...</td>\n",
       "    </tr>\n",
       "    <tr>\n",
       "      <th>4255</th>\n",
       "      <td>ham</td>\n",
       "      <td>How about clothes, jewelry, and trips?</td>\n",
       "    </tr>\n",
       "    <tr>\n",
       "      <th>351</th>\n",
       "      <td>ham</td>\n",
       "      <td>Nah can't help you there, I've never had an iphone</td>\n",
       "    </tr>\n",
       "    <tr>\n",
       "      <th>806</th>\n",
       "      <td>ham</td>\n",
       "      <td>I dled 3d its very imp</td>\n",
       "    </tr>\n",
       "    <tr>\n",
       "      <th>1507</th>\n",
       "      <td>spam</td>\n",
       "      <td>Thanks for the Vote. Now sing along with the stars with Karaoke on your mobile. For a FREE link just reply with SING now.</td>\n",
       "    </tr>\n",
       "    <tr>\n",
       "      <th>221</th>\n",
       "      <td>ham</td>\n",
       "      <td>Ok no prob. Take ur time.</td>\n",
       "    </tr>\n",
       "  </tbody>\n",
       "</table>\n",
       "</div>"
      ],
      "text/plain": [
       "     label  \\\n",
       "107    ham   \n",
       "4112  spam   \n",
       "966    ham   \n",
       "1789   ham   \n",
       "2406   ham   \n",
       "4255   ham   \n",
       "351    ham   \n",
       "806    ham   \n",
       "1507  spam   \n",
       "221    ham   \n",
       "\n",
       "                                                                                                                                            message  \n",
       "107                                                                                                     Aight, I'll hit you up when I get some cash  \n",
       "4112  URGENT! Your Mobile number has been awarded a <UKP>2000 prize GUARANTEED. Call 09061790125 from landline. Claim 3030. Valid 12hrs only 150ppm  \n",
       "966                                                           Or better still can you catch her and let ask her if she can sell  &lt;#&gt;  for me.  \n",
       "1789                                                                                                                    Arun can u transfr me d amt  \n",
       "2406                                                                                                                          I'm meeting Darren...  \n",
       "4255                                                                                                         How about clothes, jewelry, and trips?  \n",
       "351                                                                                              Nah can't help you there, I've never had an iphone  \n",
       "806                                                                                                                          I dled 3d its very imp  \n",
       "1507                      Thanks for the Vote. Now sing along with the stars with Karaoke on your mobile. For a FREE link just reply with SING now.  \n",
       "221                                                                                                                       Ok no prob. Take ur time.  "
      ]
     },
     "execution_count": 308,
     "metadata": {},
     "output_type": "execute_result"
    }
   ],
   "source": [
    "sms.sample(10)"
   ]
  },
  {
   "cell_type": "code",
   "execution_count": 309,
   "metadata": {},
   "outputs": [
    {
     "data": {
      "text/plain": [
       "label\n",
       "ham     4825\n",
       "spam     747\n",
       "Name: count, dtype: int64"
      ]
     },
     "execution_count": 309,
     "metadata": {},
     "output_type": "execute_result"
    }
   ],
   "source": [
    "sms.label.value_counts()"
   ]
  },
  {
   "cell_type": "markdown",
   "metadata": {},
   "source": [
    "to see if there is class imbalance"
   ]
  },
  {
   "cell_type": "code",
   "execution_count": 310,
   "metadata": {},
   "outputs": [],
   "source": [
    "# convert label to a numerical variable\n",
    "sms['label_num'] = sms.label.map({'ham': 0, 'spam': 1})"
   ]
  },
  {
   "cell_type": "code",
   "execution_count": 311,
   "metadata": {},
   "outputs": [
    {
     "data": {
      "text/html": [
       "<div>\n",
       "<style scoped>\n",
       "    .dataframe tbody tr th:only-of-type {\n",
       "        vertical-align: middle;\n",
       "    }\n",
       "\n",
       "    .dataframe tbody tr th {\n",
       "        vertical-align: top;\n",
       "    }\n",
       "\n",
       "    .dataframe thead th {\n",
       "        text-align: right;\n",
       "    }\n",
       "</style>\n",
       "<table border=\"1\" class=\"dataframe\">\n",
       "  <thead>\n",
       "    <tr style=\"text-align: right;\">\n",
       "      <th></th>\n",
       "      <th>label</th>\n",
       "      <th>message</th>\n",
       "      <th>label_num</th>\n",
       "    </tr>\n",
       "  </thead>\n",
       "  <tbody>\n",
       "    <tr>\n",
       "      <th>0</th>\n",
       "      <td>ham</td>\n",
       "      <td>Go until jurong point, crazy.. Available only in bugis n great world la e buffet... Cine there got amore wat...</td>\n",
       "      <td>0</td>\n",
       "    </tr>\n",
       "    <tr>\n",
       "      <th>1</th>\n",
       "      <td>ham</td>\n",
       "      <td>Ok lar... Joking wif u oni...</td>\n",
       "      <td>0</td>\n",
       "    </tr>\n",
       "    <tr>\n",
       "      <th>2</th>\n",
       "      <td>spam</td>\n",
       "      <td>Free entry in 2 a wkly comp to win FA Cup final tkts 21st May 2005. Text FA to 87121 to receive entry question(std txt rate)T&amp;C's apply 08452810075over18's</td>\n",
       "      <td>1</td>\n",
       "    </tr>\n",
       "    <tr>\n",
       "      <th>3</th>\n",
       "      <td>ham</td>\n",
       "      <td>U dun say so early hor... U c already then say...</td>\n",
       "      <td>0</td>\n",
       "    </tr>\n",
       "    <tr>\n",
       "      <th>4</th>\n",
       "      <td>ham</td>\n",
       "      <td>Nah I don't think he goes to usf, he lives around here though</td>\n",
       "      <td>0</td>\n",
       "    </tr>\n",
       "    <tr>\n",
       "      <th>5</th>\n",
       "      <td>spam</td>\n",
       "      <td>FreeMsg Hey there darling it's been 3 week's now and no word back! I'd like some fun you up for it still? Tb ok! XxX std chgs to send, £1.50 to rcv</td>\n",
       "      <td>1</td>\n",
       "    </tr>\n",
       "    <tr>\n",
       "      <th>6</th>\n",
       "      <td>ham</td>\n",
       "      <td>Even my brother is not like to speak with me. They treat me like aids patent.</td>\n",
       "      <td>0</td>\n",
       "    </tr>\n",
       "    <tr>\n",
       "      <th>7</th>\n",
       "      <td>ham</td>\n",
       "      <td>As per your request 'Melle Melle (Oru Minnaminunginte Nurungu Vettam)' has been set as your callertune for all Callers. Press *9 to copy your friends Callertune</td>\n",
       "      <td>0</td>\n",
       "    </tr>\n",
       "    <tr>\n",
       "      <th>8</th>\n",
       "      <td>spam</td>\n",
       "      <td>WINNER!! As a valued network customer you have been selected to receivea £900 prize reward! To claim call 09061701461. Claim code KL341. Valid 12 hours only.</td>\n",
       "      <td>1</td>\n",
       "    </tr>\n",
       "    <tr>\n",
       "      <th>9</th>\n",
       "      <td>spam</td>\n",
       "      <td>Had your mobile 11 months or more? U R entitled to Update to the latest colour mobiles with camera for Free! Call The Mobile Update Co FREE on 08002986030</td>\n",
       "      <td>1</td>\n",
       "    </tr>\n",
       "  </tbody>\n",
       "</table>\n",
       "</div>"
      ],
      "text/plain": [
       "  label  \\\n",
       "0   ham   \n",
       "1   ham   \n",
       "2  spam   \n",
       "3   ham   \n",
       "4   ham   \n",
       "5  spam   \n",
       "6   ham   \n",
       "7   ham   \n",
       "8  spam   \n",
       "9  spam   \n",
       "\n",
       "                                                                                                                                                            message  \\\n",
       "0                                                   Go until jurong point, crazy.. Available only in bugis n great world la e buffet... Cine there got amore wat...   \n",
       "1                                                                                                                                     Ok lar... Joking wif u oni...   \n",
       "2       Free entry in 2 a wkly comp to win FA Cup final tkts 21st May 2005. Text FA to 87121 to receive entry question(std txt rate)T&C's apply 08452810075over18's   \n",
       "3                                                                                                                 U dun say so early hor... U c already then say...   \n",
       "4                                                                                                     Nah I don't think he goes to usf, he lives around here though   \n",
       "5               FreeMsg Hey there darling it's been 3 week's now and no word back! I'd like some fun you up for it still? Tb ok! XxX std chgs to send, £1.50 to rcv   \n",
       "6                                                                                     Even my brother is not like to speak with me. They treat me like aids patent.   \n",
       "7  As per your request 'Melle Melle (Oru Minnaminunginte Nurungu Vettam)' has been set as your callertune for all Callers. Press *9 to copy your friends Callertune   \n",
       "8     WINNER!! As a valued network customer you have been selected to receivea £900 prize reward! To claim call 09061701461. Claim code KL341. Valid 12 hours only.   \n",
       "9        Had your mobile 11 months or more? U R entitled to Update to the latest colour mobiles with camera for Free! Call The Mobile Update Co FREE on 08002986030   \n",
       "\n",
       "   label_num  \n",
       "0          0  \n",
       "1          0  \n",
       "2          1  \n",
       "3          0  \n",
       "4          0  \n",
       "5          1  \n",
       "6          0  \n",
       "7          0  \n",
       "8          1  \n",
       "9          1  "
      ]
     },
     "execution_count": 311,
     "metadata": {},
     "output_type": "execute_result"
    }
   ],
   "source": [
    "sms.head(10)"
   ]
  },
  {
   "cell_type": "code",
   "execution_count": 312,
   "metadata": {},
   "outputs": [],
   "source": [
    "X = sms.message\n",
    "y = sms.label_num"
   ]
  },
  {
   "cell_type": "code",
   "execution_count": 313,
   "metadata": {},
   "outputs": [],
   "source": [
    "from sklearn.model_selection import train_test_split"
   ]
  },
  {
   "cell_type": "code",
   "execution_count": 314,
   "metadata": {},
   "outputs": [],
   "source": [
    "# split X and y into training ans testing sets\n",
    "X_train, X_test, y_train, y_test = train_test_split(X, y, test_size=0.25, random_state=1) "
   ]
  },
  {
   "cell_type": "code",
   "execution_count": 315,
   "metadata": {},
   "outputs": [
    {
     "data": {
      "text/plain": [
       "((4179,), (1393,))"
      ]
     },
     "execution_count": 315,
     "metadata": {},
     "output_type": "execute_result"
    }
   ],
   "source": [
    "X_train.shape, X_test.shape"
   ]
  },
  {
   "cell_type": "code",
   "execution_count": 316,
   "metadata": {},
   "outputs": [],
   "source": [
    "vect = CountVectorizer()"
   ]
  },
  {
   "cell_type": "code",
   "execution_count": 317,
   "metadata": {},
   "outputs": [
    {
     "data": {
      "text/plain": [
       "CountVectorizer()"
      ]
     },
     "execution_count": 317,
     "metadata": {},
     "output_type": "execute_result"
    }
   ],
   "source": [
    "vect.fit(X_train, y_train)"
   ]
  },
  {
   "cell_type": "code",
   "execution_count": 318,
   "metadata": {},
   "outputs": [],
   "source": [
    "X_train_dtm = vect.transform(X_train)"
   ]
  },
  {
   "cell_type": "code",
   "execution_count": 319,
   "metadata": {},
   "outputs": [
    {
     "data": {
      "text/plain": [
       "(4179, 7456)"
      ]
     },
     "execution_count": 319,
     "metadata": {},
     "output_type": "execute_result"
    }
   ],
   "source": [
    "X_train_dtm.shape"
   ]
  },
  {
   "cell_type": "code",
   "execution_count": 320,
   "metadata": {},
   "outputs": [],
   "source": [
    "np.set_printoptions(linewidth=140, edgeitems=12)"
   ]
  },
  {
   "cell_type": "code",
   "execution_count": 321,
   "metadata": {},
   "outputs": [
    {
     "data": {
      "text/plain": [
       "array([[0, 0, 0, 0, 0, 0, 0, 0, 0, 0, 0, 0, ..., 0, 0, 0, 0, 0, 0, 0, 0, 0, 0, 0, 0],\n",
       "       [0, 0, 0, 0, 0, 0, 0, 0, 0, 0, 0, 0, ..., 0, 0, 0, 0, 0, 0, 0, 0, 0, 0, 0, 0],\n",
       "       [0, 0, 0, 0, 0, 0, 0, 0, 0, 0, 0, 0, ..., 0, 0, 0, 0, 0, 0, 0, 0, 0, 0, 0, 0],\n",
       "       [0, 0, 0, 0, 0, 1, 0, 0, 0, 0, 0, 0, ..., 0, 0, 0, 0, 0, 0, 0, 0, 0, 0, 0, 0],\n",
       "       [0, 0, 0, 0, 0, 0, 0, 0, 0, 0, 0, 0, ..., 0, 0, 0, 0, 0, 0, 0, 0, 0, 0, 0, 0],\n",
       "       [0, 0, 0, 0, 0, 0, 0, 0, 0, 0, 0, 0, ..., 0, 0, 0, 0, 0, 0, 0, 0, 0, 0, 0, 0],\n",
       "       [0, 0, 0, 0, 0, 0, 0, 0, 0, 0, 0, 0, ..., 0, 0, 0, 0, 0, 0, 0, 0, 0, 0, 0, 0],\n",
       "       [0, 0, 0, 0, 0, 0, 0, 0, 0, 0, 0, 0, ..., 0, 0, 0, 0, 0, 0, 0, 0, 0, 0, 0, 0],\n",
       "       [0, 0, 0, 0, 0, 0, 0, 0, 0, 0, 0, 0, ..., 0, 0, 0, 0, 0, 0, 0, 0, 0, 0, 0, 0],\n",
       "       [0, 0, 0, 0, 0, 0, 0, 0, 0, 0, 0, 0, ..., 0, 0, 0, 0, 0, 0, 0, 0, 0, 0, 0, 0],\n",
       "       [0, 0, 0, 0, 0, 0, 0, 0, 0, 0, 0, 0, ..., 0, 0, 0, 0, 0, 0, 0, 0, 0, 0, 0, 0],\n",
       "       [0, 0, 0, 0, 0, 0, 0, 0, 0, 0, 0, 0, ..., 0, 0, 0, 0, 0, 0, 0, 0, 0, 0, 0, 0],\n",
       "       ...,\n",
       "       [0, 0, 0, 0, 0, 0, 0, 0, 0, 0, 0, 0, ..., 0, 0, 0, 0, 0, 0, 0, 0, 0, 0, 0, 0],\n",
       "       [0, 0, 0, 0, 0, 0, 0, 0, 0, 0, 0, 0, ..., 0, 0, 0, 0, 0, 0, 0, 0, 0, 0, 0, 0],\n",
       "       [0, 0, 0, 0, 0, 0, 0, 0, 0, 0, 0, 0, ..., 0, 0, 0, 0, 0, 0, 0, 0, 0, 0, 0, 0],\n",
       "       [0, 0, 0, 0, 0, 0, 0, 0, 0, 0, 0, 0, ..., 0, 0, 0, 0, 0, 0, 0, 0, 0, 0, 0, 0],\n",
       "       [0, 0, 0, 0, 0, 0, 0, 0, 0, 0, 0, 0, ..., 0, 0, 0, 0, 0, 0, 0, 0, 0, 0, 0, 0],\n",
       "       [0, 0, 0, 0, 0, 0, 0, 0, 0, 0, 0, 0, ..., 0, 0, 0, 0, 0, 0, 0, 0, 0, 0, 0, 0],\n",
       "       [0, 0, 0, 0, 0, 0, 0, 0, 0, 0, 0, 0, ..., 0, 0, 0, 0, 0, 0, 0, 0, 0, 0, 0, 0],\n",
       "       [0, 0, 0, 0, 0, 0, 0, 0, 0, 0, 0, 0, ..., 0, 0, 0, 0, 0, 0, 0, 0, 0, 0, 0, 0],\n",
       "       [0, 0, 0, 0, 0, 0, 0, 0, 0, 0, 0, 0, ..., 0, 0, 0, 0, 0, 0, 0, 0, 0, 0, 0, 0],\n",
       "       [0, 0, 0, 0, 0, 0, 0, 0, 0, 0, 0, 0, ..., 0, 0, 0, 0, 0, 0, 0, 0, 0, 0, 0, 0],\n",
       "       [0, 0, 0, 0, 0, 0, 0, 0, 0, 0, 0, 0, ..., 0, 0, 0, 0, 0, 0, 0, 0, 0, 0, 0, 0],\n",
       "       [0, 0, 0, 0, 0, 0, 0, 0, 0, 0, 0, 0, ..., 0, 0, 0, 0, 0, 0, 0, 0, 0, 0, 0, 0]], dtype=int64)"
      ]
     },
     "execution_count": 321,
     "metadata": {},
     "output_type": "execute_result"
    }
   ],
   "source": [
    "X_train_dtm.toarray()"
   ]
  },
  {
   "cell_type": "markdown",
   "metadata": {},
   "source": [
    "#### Using KNN classifier"
   ]
  },
  {
   "cell_type": "code",
   "execution_count": 322,
   "metadata": {},
   "outputs": [
    {
     "data": {
      "text/plain": [
       "KNeighborsClassifier(n_neighbors=3, p=1)"
      ]
     },
     "execution_count": 322,
     "metadata": {},
     "output_type": "execute_result"
    }
   ],
   "source": [
    "knn = KNeighborsClassifier(n_neighbors=3,p=1, metric='minkowski')\n",
    "knn.fit(X_train_dtm, y_train)"
   ]
  },
  {
   "cell_type": "code",
   "execution_count": 323,
   "metadata": {},
   "outputs": [
    {
     "name": "stderr",
     "output_type": "stream",
     "text": [
      "D:\\Anaconda-16-FEB\\lib\\site-packages\\sklearn\\neighbors\\_classification.py:228: FutureWarning: Unlike other reduction functions (e.g. `skew`, `kurtosis`), the default behavior of `mode` typically preserves the axis it acts along. In SciPy 1.11.0, this behavior will change: the default value of `keepdims` will become False, the `axis` over which the statistic is taken will be eliminated, and the value None will no longer be accepted. Set `keepdims` to True or False to avoid this warning.\n",
      "  mode, _ = stats.mode(_y[neigh_ind, k], axis=1)\n"
     ]
    }
   ],
   "source": [
    "X_test_dtm = vect.transform(X_test)   \n",
    "\n",
    "y_pred     = knn.predict(X_test_dtm)"
   ]
  },
  {
   "cell_type": "code",
   "execution_count": 324,
   "metadata": {},
   "outputs": [],
   "source": [
    "from sklearn.metrics import accuracy_score\n",
    "from sklearn.metrics import confusion_matrix\n",
    "from sklearn.metrics import classification_report"
   ]
  },
  {
   "cell_type": "markdown",
   "metadata": {},
   "source": [
    "#### accuracy_score(y_test, y_pred)"
   ]
  },
  {
   "cell_type": "code",
   "execution_count": 325,
   "metadata": {},
   "outputs": [
    {
     "data": {
      "text/plain": [
       "array([[1208,    0],\n",
       "       [ 106,   79]], dtype=int64)"
      ]
     },
     "execution_count": 325,
     "metadata": {},
     "output_type": "execute_result"
    }
   ],
   "source": [
    "confusion_matrix(y_test, y_pred)"
   ]
  },
  {
   "cell_type": "code",
   "execution_count": 326,
   "metadata": {},
   "outputs": [
    {
     "name": "stdout",
     "output_type": "stream",
     "text": [
      "              precision    recall  f1-score   support\n",
      "\n",
      "           0       0.92      1.00      0.96      1208\n",
      "           1       1.00      0.43      0.60       185\n",
      "\n",
      "    accuracy                           0.92      1393\n",
      "   macro avg       0.96      0.71      0.78      1393\n",
      "weighted avg       0.93      0.92      0.91      1393\n",
      "\n"
     ]
    }
   ],
   "source": [
    "print(classification_report(y_test, y_pred))"
   ]
  },
  {
   "cell_type": "markdown",
   "metadata": {},
   "source": [
    "#### Try logistic regression"
   ]
  },
  {
   "cell_type": "code",
   "execution_count": 327,
   "metadata": {},
   "outputs": [
    {
     "data": {
      "text/plain": [
       "LogisticRegression()"
      ]
     },
     "execution_count": 327,
     "metadata": {},
     "output_type": "execute_result"
    }
   ],
   "source": [
    "model = LogisticRegression()\n",
    "\n",
    "model.fit(X_train_dtm, y_train)"
   ]
  },
  {
   "cell_type": "code",
   "execution_count": 328,
   "metadata": {},
   "outputs": [],
   "source": [
    "X_test_dtm = vect.transform(X_test)"
   ]
  },
  {
   "cell_type": "code",
   "execution_count": 329,
   "metadata": {},
   "outputs": [],
   "source": [
    "y_pred = model.predict(X_test_dtm)"
   ]
  },
  {
   "cell_type": "code",
   "execution_count": 330,
   "metadata": {},
   "outputs": [
    {
     "data": {
      "text/plain": [
       "0.9877961234745154"
      ]
     },
     "execution_count": 330,
     "metadata": {},
     "output_type": "execute_result"
    }
   ],
   "source": [
    "accuracy_score(y_test, y_pred)"
   ]
  },
  {
   "cell_type": "code",
   "execution_count": 331,
   "metadata": {},
   "outputs": [
    {
     "data": {
      "text/plain": [
       "array([[1207,    1],\n",
       "       [  16,  169]], dtype=int64)"
      ]
     },
     "execution_count": 331,
     "metadata": {},
     "output_type": "execute_result"
    }
   ],
   "source": [
    "confusion_matrix(y_test, y_pred)"
   ]
  },
  {
   "cell_type": "code",
   "execution_count": 332,
   "metadata": {},
   "outputs": [
    {
     "name": "stdout",
     "output_type": "stream",
     "text": [
      "              precision    recall  f1-score   support\n",
      "\n",
      "           0       0.99      1.00      0.99      1208\n",
      "           1       0.99      0.91      0.95       185\n",
      "\n",
      "    accuracy                           0.99      1393\n",
      "   macro avg       0.99      0.96      0.97      1393\n",
      "weighted avg       0.99      0.99      0.99      1393\n",
      "\n"
     ]
    }
   ],
   "source": [
    "print(classification_report(y_test, y_pred))"
   ]
  },
  {
   "cell_type": "markdown",
   "metadata": {},
   "source": [
    "#### try naive bayes algo"
   ]
  },
  {
   "cell_type": "code",
   "execution_count": 333,
   "metadata": {},
   "outputs": [],
   "source": [
    "from sklearn.naive_bayes import MultinomialNB"
   ]
  },
  {
   "cell_type": "code",
   "execution_count": 334,
   "metadata": {},
   "outputs": [],
   "source": [
    "nb = MultinomialNB()"
   ]
  },
  {
   "cell_type": "code",
   "execution_count": 335,
   "metadata": {},
   "outputs": [
    {
     "data": {
      "text/plain": [
       "MultinomialNB()"
      ]
     },
     "execution_count": 335,
     "metadata": {},
     "output_type": "execute_result"
    }
   ],
   "source": [
    "nb.fit(X_train_dtm, y_train)"
   ]
  },
  {
   "cell_type": "code",
   "execution_count": 336,
   "metadata": {},
   "outputs": [],
   "source": [
    "np.set_printoptions(edgeitems=10)"
   ]
  },
  {
   "cell_type": "code",
   "execution_count": 337,
   "metadata": {},
   "outputs": [
    {
     "data": {
      "text/plain": [
       "array([[0, 0, 0, 0, 0, 0, 0, 0, 0, 0, ..., 0, 0, 0, 0, 0, 0, 0, 0, 0, 0],\n",
       "       [0, 0, 0, 0, 0, 0, 0, 0, 0, 0, ..., 0, 0, 0, 0, 0, 0, 0, 0, 0, 0],\n",
       "       [0, 0, 0, 0, 0, 0, 0, 0, 0, 0, ..., 0, 0, 0, 0, 0, 0, 0, 0, 0, 0],\n",
       "       [0, 0, 0, 0, 0, 1, 0, 0, 0, 0, ..., 0, 0, 0, 0, 0, 0, 0, 0, 0, 0],\n",
       "       [0, 0, 0, 0, 0, 0, 0, 0, 0, 0, ..., 0, 0, 0, 0, 0, 0, 0, 0, 0, 0],\n",
       "       [0, 0, 0, 0, 0, 0, 0, 0, 0, 0, ..., 0, 0, 0, 0, 0, 0, 0, 0, 0, 0],\n",
       "       [0, 0, 0, 0, 0, 0, 0, 0, 0, 0, ..., 0, 0, 0, 0, 0, 0, 0, 0, 0, 0],\n",
       "       [0, 0, 0, 0, 0, 0, 0, 0, 0, 0, ..., 0, 0, 0, 0, 0, 0, 0, 0, 0, 0],\n",
       "       [0, 0, 0, 0, 0, 0, 0, 0, 0, 0, ..., 0, 0, 0, 0, 0, 0, 0, 0, 0, 0],\n",
       "       [0, 0, 0, 0, 0, 0, 0, 0, 0, 0, ..., 0, 0, 0, 0, 0, 0, 0, 0, 0, 0],\n",
       "       ...,\n",
       "       [0, 0, 0, 0, 0, 0, 0, 0, 0, 0, ..., 0, 0, 0, 0, 0, 0, 0, 0, 0, 0],\n",
       "       [0, 0, 0, 0, 0, 0, 0, 0, 0, 0, ..., 0, 0, 0, 0, 0, 0, 0, 0, 0, 0],\n",
       "       [0, 0, 0, 0, 0, 0, 0, 0, 0, 0, ..., 0, 0, 0, 0, 0, 0, 0, 0, 0, 0],\n",
       "       [0, 0, 0, 0, 0, 0, 0, 0, 0, 0, ..., 0, 0, 0, 0, 0, 0, 0, 0, 0, 0],\n",
       "       [0, 0, 0, 0, 0, 0, 0, 0, 0, 0, ..., 0, 0, 0, 0, 0, 0, 0, 0, 0, 0],\n",
       "       [0, 0, 0, 0, 0, 0, 0, 0, 0, 0, ..., 0, 0, 0, 0, 0, 0, 0, 0, 0, 0],\n",
       "       [0, 0, 0, 0, 0, 0, 0, 0, 0, 0, ..., 0, 0, 0, 0, 0, 0, 0, 0, 0, 0],\n",
       "       [0, 0, 0, 0, 0, 0, 0, 0, 0, 0, ..., 0, 0, 0, 0, 0, 0, 0, 0, 0, 0],\n",
       "       [0, 0, 0, 0, 0, 0, 0, 0, 0, 0, ..., 0, 0, 0, 0, 0, 0, 0, 0, 0, 0],\n",
       "       [0, 0, 0, 0, 0, 0, 0, 0, 0, 0, ..., 0, 0, 0, 0, 0, 0, 0, 0, 0, 0]], dtype=int64)"
      ]
     },
     "execution_count": 337,
     "metadata": {},
     "output_type": "execute_result"
    }
   ],
   "source": [
    "X_train_dtm.toarray()"
   ]
  },
  {
   "cell_type": "code",
   "execution_count": 338,
   "metadata": {},
   "outputs": [
    {
     "data": {
      "text/plain": [
       "(4179, 7456)"
      ]
     },
     "execution_count": 338,
     "metadata": {},
     "output_type": "execute_result"
    }
   ],
   "source": [
    "X_train_dtm.shape"
   ]
  },
  {
   "cell_type": "code",
   "execution_count": 339,
   "metadata": {},
   "outputs": [
    {
     "data": {
      "text/plain": [
       "0.9885139985642498"
      ]
     },
     "execution_count": 339,
     "metadata": {},
     "output_type": "execute_result"
    }
   ],
   "source": [
    "y_pred_class = nb.predict(X_test_dtm)\n",
    "\n",
    "accuracy_score(y_test, y_pred_class)"
   ]
  },
  {
   "cell_type": "code",
   "execution_count": 340,
   "metadata": {},
   "outputs": [
    {
     "data": {
      "text/plain": [
       "array([[1203,    5],\n",
       "       [  11,  174]], dtype=int64)"
      ]
     },
     "execution_count": 340,
     "metadata": {},
     "output_type": "execute_result"
    }
   ],
   "source": [
    "confusion_matrix(y_test, y_pred_class)"
   ]
  },
  {
   "cell_type": "raw",
   "metadata": {},
   "source": [
    "array([[1207,    1],\n",
    "       [  16,  169]], dtype=int64)"
   ]
  },
  {
   "cell_type": "code",
   "execution_count": 341,
   "metadata": {},
   "outputs": [],
   "source": [
    "pd.set_option('display.width', 1000)\n",
    "pd.set_option('display.max_colwidth', 140)  # or 199"
   ]
  },
  {
   "cell_type": "code",
   "execution_count": 342,
   "metadata": {},
   "outputs": [
    {
     "data": {
      "text/html": [
       "<div>\n",
       "<style scoped>\n",
       "    .dataframe tbody tr th:only-of-type {\n",
       "        vertical-align: middle;\n",
       "    }\n",
       "\n",
       "    .dataframe tbody tr th {\n",
       "        vertical-align: top;\n",
       "    }\n",
       "\n",
       "    .dataframe thead th {\n",
       "        text-align: right;\n",
       "    }\n",
       "</style>\n",
       "<table border=\"1\" class=\"dataframe\">\n",
       "  <thead>\n",
       "    <tr style=\"text-align: right;\">\n",
       "      <th></th>\n",
       "      <th>label</th>\n",
       "      <th>message</th>\n",
       "      <th>label_num</th>\n",
       "    </tr>\n",
       "  </thead>\n",
       "  <tbody>\n",
       "    <tr>\n",
       "      <th>414</th>\n",
       "      <td>ham</td>\n",
       "      <td>Bring home some Wendy =D</td>\n",
       "      <td>0</td>\n",
       "    </tr>\n",
       "    <tr>\n",
       "      <th>4831</th>\n",
       "      <td>ham</td>\n",
       "      <td>The word \"Checkmate\" in chess comes from the Persian phrase \"Shah Maat\" which means; \"the king is dead..\" Goodmorning.. Have a good day..:)</td>\n",
       "      <td>0</td>\n",
       "    </tr>\n",
       "    <tr>\n",
       "      <th>50</th>\n",
       "      <td>ham</td>\n",
       "      <td>What you thinked about me. First time you saw me in class.</td>\n",
       "      <td>0</td>\n",
       "    </tr>\n",
       "    <tr>\n",
       "      <th>3707</th>\n",
       "      <td>ham</td>\n",
       "      <td>Reading gud habit.. Nan bari hudgi yorge pataistha ertini kano:-)</td>\n",
       "      <td>0</td>\n",
       "    </tr>\n",
       "    <tr>\n",
       "      <th>1174</th>\n",
       "      <td>ham</td>\n",
       "      <td>Ü dun need to pick ur gf?</td>\n",
       "      <td>0</td>\n",
       "    </tr>\n",
       "    <tr>\n",
       "      <th>4938</th>\n",
       "      <td>ham</td>\n",
       "      <td>G wants to know where the fuck you are</td>\n",
       "      <td>0</td>\n",
       "    </tr>\n",
       "    <tr>\n",
       "      <th>1639</th>\n",
       "      <td>ham</td>\n",
       "      <td>Great comedy..cant stop laughing da:)</td>\n",
       "      <td>0</td>\n",
       "    </tr>\n",
       "    <tr>\n",
       "      <th>3205</th>\n",
       "      <td>ham</td>\n",
       "      <td>She's good. How are you. Where r u working now</td>\n",
       "      <td>0</td>\n",
       "    </tr>\n",
       "    <tr>\n",
       "      <th>559</th>\n",
       "      <td>ham</td>\n",
       "      <td>Hi Princess! Thank you for the pics. You are very pretty. How are you?</td>\n",
       "      <td>0</td>\n",
       "    </tr>\n",
       "    <tr>\n",
       "      <th>87</th>\n",
       "      <td>ham</td>\n",
       "      <td>Yes I started to send requests to make it but pain came back so I'm back in bed. Double coins at the factory too. I gotta cash in all my...</td>\n",
       "      <td>0</td>\n",
       "    </tr>\n",
       "    <tr>\n",
       "      <th>3230</th>\n",
       "      <td>spam</td>\n",
       "      <td>Ur cash-balance is currently 500 pounds - to maximize ur cash-in now send COLLECT to 83600 only 150p/msg. CC: 08718720201 PO BOX 114/14 ...</td>\n",
       "      <td>1</td>\n",
       "    </tr>\n",
       "    <tr>\n",
       "      <th>2653</th>\n",
       "      <td>ham</td>\n",
       "      <td>No need for the drug anymore.</td>\n",
       "      <td>0</td>\n",
       "    </tr>\n",
       "    <tr>\n",
       "      <th>4254</th>\n",
       "      <td>ham</td>\n",
       "      <td>Juz now havent woke up so a bit blur blur... Can? Dad went out liao... I cant cum now oso...</td>\n",
       "      <td>0</td>\n",
       "    </tr>\n",
       "    <tr>\n",
       "      <th>70</th>\n",
       "      <td>ham</td>\n",
       "      <td>Wah lucky man... Then can save money... Hee...</td>\n",
       "      <td>0</td>\n",
       "    </tr>\n",
       "    <tr>\n",
       "      <th>2489</th>\n",
       "      <td>ham</td>\n",
       "      <td>Aiyah e rain like quite big leh. If drizzling i can at least run home.</td>\n",
       "      <td>0</td>\n",
       "    </tr>\n",
       "    <tr>\n",
       "      <th>2823</th>\n",
       "      <td>spam</td>\n",
       "      <td>ROMCAPspam Everyone around should be responding well to your presence since you are so warm and outgoing. You are bringing in a real bre...</td>\n",
       "      <td>1</td>\n",
       "    </tr>\n",
       "    <tr>\n",
       "      <th>2820</th>\n",
       "      <td>ham</td>\n",
       "      <td>Don't forget who owns you and who's private property you are ... And be my good boy always .. *passionate kiss*</td>\n",
       "      <td>0</td>\n",
       "    </tr>\n",
       "    <tr>\n",
       "      <th>3203</th>\n",
       "      <td>ham</td>\n",
       "      <td>Okay lor... Wah... like that def they wont let us go... Haha... What did they say in the terms and conditions?</td>\n",
       "      <td>0</td>\n",
       "    </tr>\n",
       "    <tr>\n",
       "      <th>4511</th>\n",
       "      <td>ham</td>\n",
       "      <td>This weekend is fine (an excuse not to do too much decorating)</td>\n",
       "      <td>0</td>\n",
       "    </tr>\n",
       "    <tr>\n",
       "      <th>21</th>\n",
       "      <td>ham</td>\n",
       "      <td>I‘m going to try for 2 months ha ha only joking</td>\n",
       "      <td>0</td>\n",
       "    </tr>\n",
       "  </tbody>\n",
       "</table>\n",
       "</div>"
      ],
      "text/plain": [
       "     label                                                                                                                                      message  label_num\n",
       "414    ham                                                                                                                     Bring home some Wendy =D          0\n",
       "4831   ham  The word \"Checkmate\" in chess comes from the Persian phrase \"Shah Maat\" which means; \"the king is dead..\" Goodmorning.. Have a good day..:)          0\n",
       "50     ham                                                                                   What you thinked about me. First time you saw me in class.          0\n",
       "3707   ham                                                                            Reading gud habit.. Nan bari hudgi yorge pataistha ertini kano:-)          0\n",
       "1174   ham                                                                                                                    Ü dun need to pick ur gf?          0\n",
       "4938   ham                                                                                                       G wants to know where the fuck you are          0\n",
       "1639   ham                                                                                                        Great comedy..cant stop laughing da:)          0\n",
       "3205   ham                                                                                               She's good. How are you. Where r u working now          0\n",
       "559    ham                                                                       Hi Princess! Thank you for the pics. You are very pretty. How are you?          0\n",
       "87     ham  Yes I started to send requests to make it but pain came back so I'm back in bed. Double coins at the factory too. I gotta cash in all my...          0\n",
       "3230  spam  Ur cash-balance is currently 500 pounds - to maximize ur cash-in now send COLLECT to 83600 only 150p/msg. CC: 08718720201 PO BOX 114/14 ...          1\n",
       "2653   ham                                                                                                                No need for the drug anymore.          0\n",
       "4254   ham                                                 Juz now havent woke up so a bit blur blur... Can? Dad went out liao... I cant cum now oso...          0\n",
       "70     ham                                                                                               Wah lucky man... Then can save money... Hee...          0\n",
       "2489   ham                                                                       Aiyah e rain like quite big leh. If drizzling i can at least run home.          0\n",
       "2823  spam  ROMCAPspam Everyone around should be responding well to your presence since you are so warm and outgoing. You are bringing in a real bre...          1\n",
       "2820   ham                              Don't forget who owns you and who's private property you are ... And be my good boy always .. *passionate kiss*          0\n",
       "3203   ham                               Okay lor... Wah... like that def they wont let us go... Haha... What did they say in the terms and conditions?          0\n",
       "4511   ham                                                                               This weekend is fine (an excuse not to do too much decorating)          0\n",
       "21     ham                                                                                              I‘m going to try for 2 months ha ha only joking          0"
      ]
     },
     "execution_count": 342,
     "metadata": {},
     "output_type": "execute_result"
    }
   ],
   "source": [
    "sms.sample(20)"
   ]
  },
  {
   "cell_type": "markdown",
   "metadata": {},
   "source": [
    "#### try some vectorizer settings"
   ]
  },
  {
   "cell_type": "code",
   "execution_count": 343,
   "metadata": {},
   "outputs": [],
   "source": [
    "# vectorizer tuning\n",
    "import nltk\n",
    "from nltk.corpus import stopwords\n",
    "from string import punctuation\n",
    "\n",
    "# Stemmer\n",
    "from nltk.stem import PorterStemmer\n",
    "porter = PorterStemmer()\n",
    "\n",
    "# lemmatizing\n",
    "from nltk.stem import WordNetLemmatizer\n",
    "wnl = WordNetLemmatizer()"
   ]
  },
  {
   "cell_type": "code",
   "execution_count": 344,
   "metadata": {},
   "outputs": [],
   "source": [
    "# Stopwords from stopwords-json\n",
    "# https://raw.githubusercontent.com/6/stopwords-json/master/dist/en.json\n",
    "\n",
    "stopwords_json = {\"en\":[\"a\",\"a's\",\"able\",\"about\",\"above\",\"according\",\"accordingly\",\"across\",\"actually\",\"after\",\"afterwards\",\"again\",\"against\",\"ain't\",\"all\",\"allow\",\"allows\",\"almost\",\"alone\",\"along\",\"already\",\"also\",\"although\",\"always\",\"am\",\"among\",\"amongst\",\"an\",\"and\",\"another\",\"any\",\"anybody\",\"anyhow\",\"anyone\",\"anything\",\"anyway\",\"anyways\",\"anywhere\",\"apart\",\"appear\",\"appreciate\",\"appropriate\",\"are\",\"aren't\",\"around\",\"as\",\"aside\",\"ask\",\"asking\",\"associated\",\"at\",\"available\",\"away\",\"awfully\",\"b\",\"be\",\"became\",\"because\",\"become\",\"becomes\",\"becoming\",\"been\",\"before\",\"beforehand\",\"behind\",\"being\",\"believe\",\"below\",\"beside\",\"besides\",\"best\",\"better\",\"between\",\"beyond\",\"both\",\"brief\",\"but\",\"by\",\"c\",\"c'mon\",\"c's\",\"came\",\"can\",\"can't\",\"cannot\",\"cant\",\"cause\",\"causes\",\"certain\",\"certainly\",\"changes\",\"clearly\",\"co\",\"com\",\"come\",\"comes\",\"concerning\",\"consequently\",\"consider\",\"considering\",\"contain\",\"containing\",\"contains\",\"corresponding\",\"could\",\"couldn't\",\"course\",\"currently\",\"d\",\"definitely\",\"described\",\"despite\",\"did\",\"didn't\",\"different\",\"do\",\"does\",\"doesn't\",\"doing\",\"don't\",\"done\",\"down\",\"downwards\",\"during\",\"e\",\"each\",\"edu\",\"eg\",\"eight\",\"either\",\"else\",\"elsewhere\",\"enough\",\"entirely\",\"especially\",\"et\",\"etc\",\"even\",\"ever\",\"every\",\"everybody\",\"everyone\",\"everything\",\"everywhere\",\"ex\",\"exactly\",\"example\",\"except\",\"f\",\"far\",\"few\",\"fifth\",\"first\",\"five\",\"followed\",\"following\",\"follows\",\"for\",\"former\",\"formerly\",\"forth\",\"four\",\"from\",\"further\",\"furthermore\",\"g\",\"get\",\"gets\",\"getting\",\"given\",\"gives\",\"go\",\"goes\",\"going\",\"gone\",\"got\",\"gotten\",\"greetings\",\"h\",\"had\",\"hadn't\",\"happens\",\"hardly\",\"has\",\"hasn't\",\"have\",\"haven't\",\"having\",\"he\",\"he's\",\"hello\",\"help\",\"hence\",\"her\",\"here\",\"here's\",\"hereafter\",\"hereby\",\"herein\",\"hereupon\",\"hers\",\"herself\",\"hi\",\"him\",\"himself\",\"his\",\"hither\",\"hopefully\",\"how\",\"howbeit\",\"however\",\"i\",\"i'd\",\"i'll\",\"i'm\",\"i've\",\"ie\",\"if\",\"ignored\",\"immediate\",\"in\",\"inasmuch\",\"inc\",\"indeed\",\"indicate\",\"indicated\",\"indicates\",\"inner\",\"insofar\",\"instead\",\"into\",\"inward\",\"is\",\"isn't\",\"it\",\"it'd\",\"it'll\",\"it's\",\"its\",\"itself\",\"j\",\"just\",\"k\",\"keep\",\"keeps\",\"kept\",\"know\",\"known\",\"knows\",\"l\",\"last\",\"lately\",\"later\",\"latter\",\"latterly\",\"least\",\"less\",\"lest\",\"let\",\"let's\",\"like\",\"liked\",\"likely\",\"little\",\"look\",\"looking\",\"looks\",\"ltd\",\"m\",\"mainly\",\"many\",\"may\",\"maybe\",\"me\",\"mean\",\"meanwhile\",\"merely\",\"might\",\"more\",\"moreover\",\"most\",\"mostly\",\"much\",\"must\",\"my\",\"myself\",\"n\",\"name\",\"namely\",\"nd\",\"near\",\"nearly\",\"necessary\",\"need\",\"needs\",\"neither\",\"never\",\"nevertheless\",\"new\",\"next\",\"nine\",\"no\",\"nobody\",\"non\",\"none\",\"noone\",\"nor\",\"normally\",\"not\",\"nothing\",\"novel\",\"now\",\"nowhere\",\"o\",\"obviously\",\"of\",\"off\",\"often\",\"oh\",\"ok\",\"okay\",\"old\",\"on\",\"once\",\"one\",\"ones\",\"only\",\"onto\",\"or\",\"other\",\"others\",\"otherwise\",\"ought\",\"our\",\"ours\",\"ourselves\",\"out\",\"outside\",\"over\",\"overall\",\"own\",\"p\",\"particular\",\"particularly\",\"per\",\"perhaps\",\"placed\",\"please\",\"plus\",\"possible\",\"presumably\",\"probably\",\"provides\",\"q\",\"que\",\"quite\",\"qv\",\"r\",\"rather\",\"rd\",\"re\",\"really\",\"reasonably\",\"regarding\",\"regardless\",\"regards\",\"relatively\",\"respectively\",\"right\",\"s\",\"said\",\"same\",\"saw\",\"say\",\"saying\",\"says\",\"second\",\"secondly\",\"see\",\"seeing\",\"seem\",\"seemed\",\"seeming\",\"seems\",\"seen\",\"self\",\"selves\",\"sensible\",\"sent\",\"serious\",\"seriously\",\"seven\",\"several\",\"shall\",\"she\",\"should\",\"shouldn't\",\"since\",\"six\",\"so\",\"some\",\"somebody\",\"somehow\",\"someone\",\"something\",\"sometime\",\"sometimes\",\"somewhat\",\"somewhere\",\"soon\",\"sorry\",\"specified\",\"specify\",\"specifying\",\"still\",\"sub\",\"such\",\"sup\",\"sure\",\"t\",\"t's\",\"take\",\"taken\",\"tell\",\"tends\",\"th\",\"than\",\"thank\",\"thanks\",\"thanx\",\"that\",\"that's\",\"thats\",\"the\",\"their\",\"theirs\",\"them\",\"themselves\",\"then\",\"thence\",\"there\",\"there's\",\"thereafter\",\"thereby\",\"therefore\",\"therein\",\"theres\",\"thereupon\",\"these\",\"they\",\"they'd\",\"they'll\",\"they're\",\"they've\",\"think\",\"third\",\"this\",\"thorough\",\"thoroughly\",\"those\",\"though\",\"three\",\"through\",\"throughout\",\"thru\",\"thus\",\"to\",\"together\",\"too\",\"took\",\"toward\",\"towards\",\"tried\",\"tries\",\"truly\",\"try\",\"trying\",\"twice\",\"two\",\"u\",\"un\",\"under\",\"unfortunately\",\"unless\",\"unlikely\",\"until\",\"unto\",\"up\",\"upon\",\"us\",\"use\",\"used\",\"useful\",\"uses\",\"using\",\"usually\",\"uucp\",\"v\",\"value\",\"various\",\"very\",\"via\",\"viz\",\"vs\",\"w\",\"want\",\"wants\",\"was\",\"wasn't\",\"way\",\"we\",\"we'd\",\"we'll\",\"we're\",\"we've\",\"welcome\",\"well\",\"went\",\"were\",\"weren't\",\"what\",\"what's\",\"whatever\",\"when\",\"whence\",\"whenever\",\"where\",\"where's\",\"whereafter\",\"whereas\",\"whereby\",\"wherein\",\"whereupon\",\"wherever\",\"whether\",\"which\",\"while\",\"whither\",\"who\",\"who's\",\"whoever\",\"whole\",\"whom\",\"whose\",\"why\",\"will\",\"willing\",\"wish\",\"with\",\"within\",\"without\",\"won't\",\"wonder\",\"would\",\"wouldn't\",\"x\",\"y\",\"yes\",\"yet\",\"you\",\"you'd\",\"you'll\",\"you're\",\"you've\",\"your\",\"yours\",\"yourself\",\"yourselves\",\"z\",\"zero\"]}"
   ]
  },
  {
   "cell_type": "code",
   "execution_count": 345,
   "metadata": {},
   "outputs": [],
   "source": [
    "stopwords_json_en = set(stopwords_json['en'])\n",
    "stopwords_nltk_en = set(stopwords.words('english'))\n",
    "stopwords_punct   = set(punctuation)"
   ]
  },
  {
   "cell_type": "code",
   "execution_count": 346,
   "metadata": {},
   "outputs": [],
   "source": [
    "# Combine the stopwords. Its a lot longer so I'm not printing it out...\n",
    "stoplist_combined = set.union(stopwords_json_en, stopwords_nltk_en, stopwords_punct)"
   ]
  },
  {
   "cell_type": "code",
   "execution_count": 347,
   "metadata": {},
   "outputs": [],
   "source": [
    "from sklearn.feature_extraction.text import TfidfVectorizer"
   ]
  },
  {
   "cell_type": "code",
   "execution_count": 348,
   "metadata": {},
   "outputs": [],
   "source": [
    "vect = CountVectorizer(stop_words    = stoplist_combined, \n",
    "                       token_pattern = '(?u)\\\\b[a-zA-Z]{3,}\\\\b')"
   ]
  },
  {
   "cell_type": "code",
   "execution_count": 349,
   "metadata": {},
   "outputs": [
    {
     "data": {
      "text/plain": [
       "CountVectorizer(stop_words={'!', '\"', '#', '$', '%', '&', \"'\", '(', ')', '*',\n",
       "                            '+', ',', '-', '.', '/', ':', ';', '<', '=', '>',\n",
       "                            '?', '@', '[', '\\\\', ']', '^', '_', '`', 'a', \"a's\", ...},\n",
       "                token_pattern='(?u)\\\\b[a-zA-Z]{3,}\\\\b')"
      ]
     },
     "execution_count": 349,
     "metadata": {},
     "output_type": "execute_result"
    }
   ],
   "source": [
    "vect"
   ]
  },
  {
   "cell_type": "code",
   "execution_count": 350,
   "metadata": {},
   "outputs": [
    {
     "name": "stderr",
     "output_type": "stream",
     "text": [
      "D:\\Anaconda-16-FEB\\lib\\site-packages\\sklearn\\feature_extraction\\text.py:396: UserWarning: Your stop_words may be inconsistent with your preprocessing. Tokenizing the stop words generated tokens ['mon'] not in stop_words.\n",
      "  warnings.warn(\n"
     ]
    }
   ],
   "source": [
    "vect.fit(X_train)                     # create the fitted vocabulary\n",
    "X_train_dtm = vect.transform(X_train) # create the document-term matrix"
   ]
  },
  {
   "cell_type": "code",
   "execution_count": 351,
   "metadata": {},
   "outputs": [
    {
     "data": {
      "text/plain": [
       "(4179, 5943)"
      ]
     },
     "execution_count": 351,
     "metadata": {},
     "output_type": "execute_result"
    }
   ],
   "source": [
    "# Number of rows = number of training samples,\n",
    "# number of columns = features\n",
    "X_train_dtm.shape"
   ]
  },
  {
   "cell_type": "code",
   "execution_count": 352,
   "metadata": {},
   "outputs": [
    {
     "data": {
      "text/plain": [
       "<1393x5943 sparse matrix of type '<class 'numpy.int64'>'\n",
       "\twith 7238 stored elements in Compressed Sparse Row format>"
      ]
     },
     "execution_count": 352,
     "metadata": {},
     "output_type": "execute_result"
    }
   ],
   "source": [
    "X_test_dtm = vect.transform(X_test)\n",
    "X_test_dtm"
   ]
  },
  {
   "cell_type": "code",
   "execution_count": 353,
   "metadata": {},
   "outputs": [
    {
     "data": {
      "text/plain": [
       "0.9806173725771715"
      ]
     },
     "execution_count": 353,
     "metadata": {},
     "output_type": "execute_result"
    }
   ],
   "source": [
    "nb = MultinomialNB()\n",
    "nb.fit(X_train_dtm, y_train)\n",
    "\n",
    "y_pred_class = nb.predict(X_test_dtm)\n",
    "accuracy_score(y_test, y_pred_class)"
   ]
  },
  {
   "cell_type": "code",
   "execution_count": 354,
   "metadata": {},
   "outputs": [
    {
     "data": {
      "text/plain": [
       "array(['aah', 'aaniye', 'aaooooright', 'aathi', 'abbey', 'abdomen', 'abeg', 'abel', 'aberdeen', 'abi', ..., 'zealand', 'zebra', 'zed',\n",
       "       'zeros', 'zhong', 'zindgi', 'zoe', 'zoom', 'zouk', 'zyada'], dtype=object)"
      ]
     },
     "execution_count": 354,
     "metadata": {},
     "output_type": "execute_result"
    }
   ],
   "source": [
    "# Get the feature names (tokens)\n",
    "feature_names = vect.get_feature_names_out()\n",
    "feature_names"
   ]
  },
  {
   "cell_type": "markdown",
   "metadata": {},
   "source": [
    "#### use NB as pre-processing"
   ]
  },
  {
   "cell_type": "code",
   "execution_count": 355,
   "metadata": {},
   "outputs": [
    {
     "data": {
      "text/plain": [
       "(2, 5943)"
      ]
     },
     "execution_count": 355,
     "metadata": {},
     "output_type": "execute_result"
    }
   ],
   "source": [
    "# Get the log probabilities of each feature given a class\n",
    "log_prob = nb.feature_log_prob_\n",
    "log_prob.shape"
   ]
  },
  {
   "cell_type": "code",
   "execution_count": 356,
   "metadata": {},
   "outputs": [
    {
     "data": {
      "text/plain": [
       "array([[ -8.74201533,  -9.43516251,  -9.43516251,  -8.18239955,  -9.43516251,  -9.43516251,  -9.43516251,  -9.43516251, -10.12830969,\n",
       "         -9.43516251, ...,  -9.43516251, -10.12830969, -10.12830969,  -9.43516251,  -9.43516251,  -9.02969741,  -9.43516251,  -9.43516251,\n",
       "        -10.12830969,  -9.43516251],\n",
       "       [ -9.41897924,  -9.41897924,  -9.41897924,  -9.41897924,  -9.41897924,  -9.41897924,  -9.41897924,  -9.41897924,  -8.72583206,\n",
       "         -9.41897924, ...,  -9.41897924,  -8.72583206,  -7.47306909,  -9.41897924,  -9.41897924,  -9.41897924,  -8.72583206,  -9.41897924,\n",
       "         -8.72583206,  -9.41897924]])"
      ]
     },
     "execution_count": 356,
     "metadata": {},
     "output_type": "execute_result"
    }
   ],
   "source": [
    "log_prob"
   ]
  },
  {
   "cell_type": "code",
   "execution_count": 357,
   "metadata": {},
   "outputs": [],
   "source": [
    "# Convert to DataFrame for easier manipulation\n",
    "tokens_df = pd.DataFrame(log_prob.T, index=feature_names, columns=nb.classes_)"
   ]
  },
  {
   "cell_type": "code",
   "execution_count": 358,
   "metadata": {},
   "outputs": [
    {
     "data": {
      "text/html": [
       "<div>\n",
       "<style scoped>\n",
       "    .dataframe tbody tr th:only-of-type {\n",
       "        vertical-align: middle;\n",
       "    }\n",
       "\n",
       "    .dataframe tbody tr th {\n",
       "        vertical-align: top;\n",
       "    }\n",
       "\n",
       "    .dataframe thead th {\n",
       "        text-align: right;\n",
       "    }\n",
       "</style>\n",
       "<table border=\"1\" class=\"dataframe\">\n",
       "  <thead>\n",
       "    <tr style=\"text-align: right;\">\n",
       "      <th></th>\n",
       "      <th>0</th>\n",
       "      <th>1</th>\n",
       "    </tr>\n",
       "  </thead>\n",
       "  <tbody>\n",
       "    <tr>\n",
       "      <th>aah</th>\n",
       "      <td>-8.742015</td>\n",
       "      <td>-9.418979</td>\n",
       "    </tr>\n",
       "    <tr>\n",
       "      <th>aaniye</th>\n",
       "      <td>-9.435163</td>\n",
       "      <td>-9.418979</td>\n",
       "    </tr>\n",
       "    <tr>\n",
       "      <th>aaooooright</th>\n",
       "      <td>-9.435163</td>\n",
       "      <td>-9.418979</td>\n",
       "    </tr>\n",
       "    <tr>\n",
       "      <th>aathi</th>\n",
       "      <td>-8.182400</td>\n",
       "      <td>-9.418979</td>\n",
       "    </tr>\n",
       "    <tr>\n",
       "      <th>abbey</th>\n",
       "      <td>-9.435163</td>\n",
       "      <td>-9.418979</td>\n",
       "    </tr>\n",
       "    <tr>\n",
       "      <th>...</th>\n",
       "      <td>...</td>\n",
       "      <td>...</td>\n",
       "    </tr>\n",
       "    <tr>\n",
       "      <th>zindgi</th>\n",
       "      <td>-9.029697</td>\n",
       "      <td>-9.418979</td>\n",
       "    </tr>\n",
       "    <tr>\n",
       "      <th>zoe</th>\n",
       "      <td>-9.435163</td>\n",
       "      <td>-8.725832</td>\n",
       "    </tr>\n",
       "    <tr>\n",
       "      <th>zoom</th>\n",
       "      <td>-9.435163</td>\n",
       "      <td>-9.418979</td>\n",
       "    </tr>\n",
       "    <tr>\n",
       "      <th>zouk</th>\n",
       "      <td>-10.128310</td>\n",
       "      <td>-8.725832</td>\n",
       "    </tr>\n",
       "    <tr>\n",
       "      <th>zyada</th>\n",
       "      <td>-9.435163</td>\n",
       "      <td>-9.418979</td>\n",
       "    </tr>\n",
       "  </tbody>\n",
       "</table>\n",
       "<p>5943 rows × 2 columns</p>\n",
       "</div>"
      ],
      "text/plain": [
       "                     0         1\n",
       "aah          -8.742015 -9.418979\n",
       "aaniye       -9.435163 -9.418979\n",
       "aaooooright  -9.435163 -9.418979\n",
       "aathi        -8.182400 -9.418979\n",
       "abbey        -9.435163 -9.418979\n",
       "...                ...       ...\n",
       "zindgi       -9.029697 -9.418979\n",
       "zoe          -9.435163 -8.725832\n",
       "zoom         -9.435163 -9.418979\n",
       "zouk        -10.128310 -8.725832\n",
       "zyada        -9.435163 -9.418979\n",
       "\n",
       "[5943 rows x 2 columns]"
      ]
     },
     "execution_count": 358,
     "metadata": {},
     "output_type": "execute_result"
    }
   ],
   "source": [
    "tokens_df"
   ]
  },
  {
   "cell_type": "code",
   "execution_count": 359,
   "metadata": {},
   "outputs": [],
   "source": [
    "# Get the top tokens for each class\n",
    "top_ham_tokens  = pd.DataFrame(tokens_df[0].sort_values(ascending=False)).head(10)\n",
    "top_spam_tokens = pd.DataFrame(tokens_df[1].sort_values(ascending=False)).head(10)\n",
    "\n",
    "top_ham_tokens['prob']  = np.exp(top_ham_tokens[0])\n",
    "top_spam_tokens['prob'] = np.exp(top_spam_tokens[1])"
   ]
  },
  {
   "cell_type": "code",
   "execution_count": 360,
   "metadata": {},
   "outputs": [
    {
     "data": {
      "text/html": [
       "<div>\n",
       "<style scoped>\n",
       "    .dataframe tbody tr th:only-of-type {\n",
       "        vertical-align: middle;\n",
       "    }\n",
       "\n",
       "    .dataframe tbody tr th {\n",
       "        vertical-align: top;\n",
       "    }\n",
       "\n",
       "    .dataframe thead th {\n",
       "        text-align: right;\n",
       "    }\n",
       "</style>\n",
       "<table border=\"1\" class=\"dataframe\">\n",
       "  <thead>\n",
       "    <tr style=\"text-align: right;\">\n",
       "      <th></th>\n",
       "      <th>0</th>\n",
       "      <th>prob</th>\n",
       "    </tr>\n",
       "  </thead>\n",
       "  <tbody>\n",
       "    <tr>\n",
       "      <th>good</th>\n",
       "      <td>-4.952160</td>\n",
       "      <td>0.007068</td>\n",
       "    </tr>\n",
       "    <tr>\n",
       "      <th>call</th>\n",
       "      <td>-4.975018</td>\n",
       "      <td>0.006908</td>\n",
       "    </tr>\n",
       "    <tr>\n",
       "      <th>day</th>\n",
       "      <td>-5.053136</td>\n",
       "      <td>0.006389</td>\n",
       "    </tr>\n",
       "    <tr>\n",
       "      <th>time</th>\n",
       "      <td>-5.078454</td>\n",
       "      <td>0.006230</td>\n",
       "    </tr>\n",
       "    <tr>\n",
       "      <th>love</th>\n",
       "      <td>-5.097872</td>\n",
       "      <td>0.006110</td>\n",
       "    </tr>\n",
       "    <tr>\n",
       "      <th>lor</th>\n",
       "      <td>-5.349186</td>\n",
       "      <td>0.004752</td>\n",
       "    </tr>\n",
       "    <tr>\n",
       "      <th>home</th>\n",
       "      <td>-5.366136</td>\n",
       "      <td>0.004672</td>\n",
       "    </tr>\n",
       "    <tr>\n",
       "      <th>today</th>\n",
       "      <td>-5.400922</td>\n",
       "      <td>0.004512</td>\n",
       "    </tr>\n",
       "    <tr>\n",
       "      <th>dont</th>\n",
       "      <td>-5.464871</td>\n",
       "      <td>0.004233</td>\n",
       "    </tr>\n",
       "    <tr>\n",
       "      <th>back</th>\n",
       "      <td>-5.533190</td>\n",
       "      <td>0.003953</td>\n",
       "    </tr>\n",
       "  </tbody>\n",
       "</table>\n",
       "</div>"
      ],
      "text/plain": [
       "              0      prob\n",
       "good  -4.952160  0.007068\n",
       "call  -4.975018  0.006908\n",
       "day   -5.053136  0.006389\n",
       "time  -5.078454  0.006230\n",
       "love  -5.097872  0.006110\n",
       "lor   -5.349186  0.004752\n",
       "home  -5.366136  0.004672\n",
       "today -5.400922  0.004512\n",
       "dont  -5.464871  0.004233\n",
       "back  -5.533190  0.003953"
      ]
     },
     "execution_count": 360,
     "metadata": {},
     "output_type": "execute_result"
    }
   ],
   "source": [
    "top_ham_tokens"
   ]
  },
  {
   "cell_type": "code",
   "execution_count": 362,
   "metadata": {},
   "outputs": [],
   "source": [
    "tokens_df.columns = ['ham', 'spam']"
   ]
  },
  {
   "cell_type": "code",
   "execution_count": 363,
   "metadata": {},
   "outputs": [],
   "source": [
    "# Sort tokens based on their log probabilities for each class\n",
    "# top_ham_tokens  = tokens_df[['ham']].sort_values(by='ham', ascending=False).rename(columns={'ham': 'ham_log_prob'})\n",
    "# top_spam_tokens = tokens_df[['spam']].sort_values(by='spam', ascending=False).rename(columns={'spam': 'spam_log_prob'})\n",
    "\n",
    "top_ham_tokens  = tokens_df[['ham']].rename(columns={'ham': 'ham_log_prob'})\n",
    "top_spam_tokens = tokens_df[['spam']].rename(columns={'spam': 'spam_log_prob'})\n",
    "\n",
    "# Combine the two dataframes based on tokens\n",
    "combined_tokens = pd.merge(top_ham_tokens, \n",
    "                           top_spam_tokens, \n",
    "                           left_index=True, \n",
    "                           right_index=True, \n",
    "                           how='inner')\n",
    "\n",
    "# Calculate the spam-factor for each token\n",
    "combined_tokens['spam_factor'] = np.exp(combined_tokens['spam_log_prob']) / np.exp(combined_tokens['ham_log_prob'])\n",
    "\n",
    "# Optionally, you can sort the combined dataframe based on the contribution\n",
    "combined_tokens = combined_tokens.sort_values(by='spam_factor', ascending=False)"
   ]
  },
  {
   "cell_type": "code",
   "execution_count": 364,
   "metadata": {},
   "outputs": [
    {
     "data": {
      "text/html": [
       "<div>\n",
       "<style scoped>\n",
       "    .dataframe tbody tr th:only-of-type {\n",
       "        vertical-align: middle;\n",
       "    }\n",
       "\n",
       "    .dataframe tbody tr th {\n",
       "        vertical-align: top;\n",
       "    }\n",
       "\n",
       "    .dataframe thead th {\n",
       "        text-align: right;\n",
       "    }\n",
       "</style>\n",
       "<table border=\"1\" class=\"dataframe\">\n",
       "  <thead>\n",
       "    <tr style=\"text-align: right;\">\n",
       "      <th></th>\n",
       "      <th>ham_log_prob</th>\n",
       "      <th>spam_log_prob</th>\n",
       "      <th>spam_factor</th>\n",
       "    </tr>\n",
       "  </thead>\n",
       "  <tbody>\n",
       "    <tr>\n",
       "      <th>claim</th>\n",
       "      <td>-10.128310</td>\n",
       "      <td>-4.930343</td>\n",
       "      <td>180.904058</td>\n",
       "    </tr>\n",
       "    <tr>\n",
       "      <th>prize</th>\n",
       "      <td>-10.128310</td>\n",
       "      <td>-5.088246</td>\n",
       "      <td>154.479870</td>\n",
       "    </tr>\n",
       "    <tr>\n",
       "      <th>tone</th>\n",
       "      <td>-10.128310</td>\n",
       "      <td>-5.547778</td>\n",
       "      <td>97.566234</td>\n",
       "    </tr>\n",
       "    <tr>\n",
       "      <th>guaranteed</th>\n",
       "      <td>-10.128310</td>\n",
       "      <td>-5.657779</td>\n",
       "      <td>87.403084</td>\n",
       "    </tr>\n",
       "    <tr>\n",
       "      <th>www</th>\n",
       "      <td>-9.435163</td>\n",
       "      <td>-5.128520</td>\n",
       "      <td>74.190990</td>\n",
       "    </tr>\n",
       "    <tr>\n",
       "      <th>...</th>\n",
       "      <td>...</td>\n",
       "      <td>...</td>\n",
       "      <td>...</td>\n",
       "    </tr>\n",
       "    <tr>\n",
       "      <th>amp</th>\n",
       "      <td>-6.120977</td>\n",
       "      <td>-9.418979</td>\n",
       "      <td>0.036957</td>\n",
       "    </tr>\n",
       "    <tr>\n",
       "      <th>morning</th>\n",
       "      <td>-6.017436</td>\n",
       "      <td>-9.418979</td>\n",
       "      <td>0.033322</td>\n",
       "    </tr>\n",
       "    <tr>\n",
       "      <th>yeah</th>\n",
       "      <td>-5.969427</td>\n",
       "      <td>-9.418979</td>\n",
       "      <td>0.031760</td>\n",
       "    </tr>\n",
       "    <tr>\n",
       "      <th>lol</th>\n",
       "      <td>-5.969427</td>\n",
       "      <td>-9.418979</td>\n",
       "      <td>0.031760</td>\n",
       "    </tr>\n",
       "    <tr>\n",
       "      <th>lor</th>\n",
       "      <td>-5.349186</td>\n",
       "      <td>-9.418979</td>\n",
       "      <td>0.017081</td>\n",
       "    </tr>\n",
       "  </tbody>\n",
       "</table>\n",
       "<p>5943 rows × 3 columns</p>\n",
       "</div>"
      ],
      "text/plain": [
       "            ham_log_prob  spam_log_prob  spam_factor\n",
       "claim         -10.128310      -4.930343   180.904058\n",
       "prize         -10.128310      -5.088246   154.479870\n",
       "tone          -10.128310      -5.547778    97.566234\n",
       "guaranteed    -10.128310      -5.657779    87.403084\n",
       "www            -9.435163      -5.128520    74.190990\n",
       "...                  ...            ...          ...\n",
       "amp            -6.120977      -9.418979     0.036957\n",
       "morning        -6.017436      -9.418979     0.033322\n",
       "yeah           -5.969427      -9.418979     0.031760\n",
       "lol            -5.969427      -9.418979     0.031760\n",
       "lor            -5.349186      -9.418979     0.017081\n",
       "\n",
       "[5943 rows x 3 columns]"
      ]
     },
     "execution_count": 364,
     "metadata": {},
     "output_type": "execute_result"
    }
   ],
   "source": [
    "combined_tokens"
   ]
  },
  {
   "cell_type": "markdown",
   "metadata": {},
   "source": [
    "#### considering useful bi-grams and n-grams"
   ]
  },
  {
   "cell_type": "code",
   "execution_count": 365,
   "metadata": {},
   "outputs": [],
   "source": [
    "ngram_vectorizer = CountVectorizer(\n",
    "                                   # stop_words    = stoplist_combined, \n",
    "                                   token_pattern = '(?u)\\\\b[a-zA-Z]{3,}\\\\b',\n",
    "                                   ngram_range   = (1, 3))"
   ]
  },
  {
   "cell_type": "code",
   "execution_count": 366,
   "metadata": {},
   "outputs": [],
   "source": [
    "X_ngrams      = ngram_vectorizer.fit_transform(X_train)\n",
    "feature_names = ngram_vectorizer.get_feature_names_out()"
   ]
  },
  {
   "cell_type": "code",
   "execution_count": 367,
   "metadata": {},
   "outputs": [],
   "source": [
    "from sklearn.feature_selection import chi2"
   ]
  },
  {
   "cell_type": "code",
   "execution_count": 368,
   "metadata": {},
   "outputs": [],
   "source": [
    "# Calculate chi-square scores and p-values for all n-grams\n",
    "chi2_scores, p_values = chi2(X_ngrams, y_train)"
   ]
  },
  {
   "cell_type": "code",
   "execution_count": 369,
   "metadata": {},
   "outputs": [],
   "source": [
    "# Create a DataFrame with tokens, scores, and p-values\n",
    "chi2_df = pd.DataFrame({'token': feature_names, 'score': chi2_scores, 'p_value': p_values})"
   ]
  },
  {
   "cell_type": "markdown",
   "metadata": {},
   "source": [
    "`Higher Scores`: A higher chi-square score indicates that the feature is more strongly associated with the class labels. In other words, the feature occurs more frequently in one class compared to the other, suggesting it might be a good predictor for that class.\n",
    "\n",
    "`Lower Scores`: A lower chi-square score indicates a weaker association, meaning the feature does not show a significant difference in occurrence between the classes."
   ]
  },
  {
   "cell_type": "code",
   "execution_count": 370,
   "metadata": {},
   "outputs": [],
   "source": [
    "# Sort the DataFrame by scores in descending order\n",
    "chi2_df = chi2_df.sort_values(by='score', ascending=False)"
   ]
  },
  {
   "cell_type": "code",
   "execution_count": 371,
   "metadata": {},
   "outputs": [
    {
     "data": {
      "text/html": [
       "<div>\n",
       "<style scoped>\n",
       "    .dataframe tbody tr th:only-of-type {\n",
       "        vertical-align: middle;\n",
       "    }\n",
       "\n",
       "    .dataframe tbody tr th {\n",
       "        vertical-align: top;\n",
       "    }\n",
       "\n",
       "    .dataframe thead th {\n",
       "        text-align: right;\n",
       "    }\n",
       "</style>\n",
       "<table border=\"1\" class=\"dataframe\">\n",
       "  <thead>\n",
       "    <tr style=\"text-align: right;\">\n",
       "      <th></th>\n",
       "      <th>token</th>\n",
       "      <th>score</th>\n",
       "      <th>p_value</th>\n",
       "    </tr>\n",
       "  </thead>\n",
       "  <tbody>\n",
       "    <tr>\n",
       "      <th>7972</th>\n",
       "      <td>call</td>\n",
       "      <td>866.895663</td>\n",
       "      <td>1.543319e-190</td>\n",
       "    </tr>\n",
       "    <tr>\n",
       "      <th>18769</th>\n",
       "      <td>free</td>\n",
       "      <td>722.963161</td>\n",
       "      <td>3.036180e-159</td>\n",
       "    </tr>\n",
       "    <tr>\n",
       "      <th>56289</th>\n",
       "      <td>txt</td>\n",
       "      <td>635.462794</td>\n",
       "      <td>3.241320e-140</td>\n",
       "    </tr>\n",
       "    <tr>\n",
       "      <th>10172</th>\n",
       "      <td>claim</td>\n",
       "      <td>566.362989</td>\n",
       "      <td>3.471112e-125</td>\n",
       "    </tr>\n",
       "    <tr>\n",
       "      <th>33465</th>\n",
       "      <td>mobile</td>\n",
       "      <td>510.340650</td>\n",
       "      <td>5.346862e-113</td>\n",
       "    </tr>\n",
       "    <tr>\n",
       "      <th>41131</th>\n",
       "      <td>prize</td>\n",
       "      <td>482.695730</td>\n",
       "      <td>5.535570e-107</td>\n",
       "    </tr>\n",
       "    <tr>\n",
       "      <th>62638</th>\n",
       "      <td>www</td>\n",
       "      <td>455.069647</td>\n",
       "      <td>5.686352e-101</td>\n",
       "    </tr>\n",
       "    <tr>\n",
       "      <th>48601</th>\n",
       "      <td>stop</td>\n",
       "      <td>441.964833</td>\n",
       "      <td>4.044129e-98</td>\n",
       "    </tr>\n",
       "    <tr>\n",
       "      <th>50366</th>\n",
       "      <td>text</td>\n",
       "      <td>363.173912</td>\n",
       "      <td>5.734321e-81</td>\n",
       "    </tr>\n",
       "    <tr>\n",
       "      <th>42781</th>\n",
       "      <td>reply</td>\n",
       "      <td>351.532338</td>\n",
       "      <td>1.965411e-78</td>\n",
       "    </tr>\n",
       "    <tr>\n",
       "      <th>55334</th>\n",
       "      <td>tone</td>\n",
       "      <td>302.489324</td>\n",
       "      <td>9.450154e-68</td>\n",
       "    </tr>\n",
       "    <tr>\n",
       "      <th>64887</th>\n",
       "      <td>your</td>\n",
       "      <td>284.422202</td>\n",
       "      <td>8.164850e-64</td>\n",
       "    </tr>\n",
       "    <tr>\n",
       "      <th>23643</th>\n",
       "      <td>have won</td>\n",
       "      <td>283.181495</td>\n",
       "      <td>1.521623e-63</td>\n",
       "    </tr>\n",
       "    <tr>\n",
       "      <th>35852</th>\n",
       "      <td>nokia</td>\n",
       "      <td>279.897438</td>\n",
       "      <td>7.905807e-63</td>\n",
       "    </tr>\n",
       "    <tr>\n",
       "      <th>9300</th>\n",
       "      <td>cash</td>\n",
       "      <td>277.374879</td>\n",
       "      <td>2.803270e-62</td>\n",
       "    </tr>\n",
       "    <tr>\n",
       "      <th>22187</th>\n",
       "      <td>guaranteed</td>\n",
       "      <td>270.309609</td>\n",
       "      <td>9.714748e-61</td>\n",
       "    </tr>\n",
       "    <tr>\n",
       "      <th>61872</th>\n",
       "      <td>won</td>\n",
       "      <td>266.365306</td>\n",
       "      <td>7.032254e-60</td>\n",
       "    </tr>\n",
       "    <tr>\n",
       "      <th>56874</th>\n",
       "      <td>urgent</td>\n",
       "      <td>264.440051</td>\n",
       "      <td>1.848085e-59</td>\n",
       "    </tr>\n",
       "    <tr>\n",
       "      <th>8123</th>\n",
       "      <td>call now</td>\n",
       "      <td>245.926484</td>\n",
       "      <td>2.006927e-55</td>\n",
       "    </tr>\n",
       "    <tr>\n",
       "      <th>8054</th>\n",
       "      <td>call from</td>\n",
       "      <td>241.384057</td>\n",
       "      <td>1.963011e-54</td>\n",
       "    </tr>\n",
       "  </tbody>\n",
       "</table>\n",
       "</div>"
      ],
      "text/plain": [
       "            token       score        p_value\n",
       "7972         call  866.895663  1.543319e-190\n",
       "18769        free  722.963161  3.036180e-159\n",
       "56289         txt  635.462794  3.241320e-140\n",
       "10172       claim  566.362989  3.471112e-125\n",
       "33465      mobile  510.340650  5.346862e-113\n",
       "41131       prize  482.695730  5.535570e-107\n",
       "62638         www  455.069647  5.686352e-101\n",
       "48601        stop  441.964833   4.044129e-98\n",
       "50366        text  363.173912   5.734321e-81\n",
       "42781       reply  351.532338   1.965411e-78\n",
       "55334        tone  302.489324   9.450154e-68\n",
       "64887        your  284.422202   8.164850e-64\n",
       "23643    have won  283.181495   1.521623e-63\n",
       "35852       nokia  279.897438   7.905807e-63\n",
       "9300         cash  277.374879   2.803270e-62\n",
       "22187  guaranteed  270.309609   9.714748e-61\n",
       "61872         won  266.365306   7.032254e-60\n",
       "56874      urgent  264.440051   1.848085e-59\n",
       "8123     call now  245.926484   2.006927e-55\n",
       "8054    call from  241.384057   1.963011e-54"
      ]
     },
     "execution_count": 371,
     "metadata": {},
     "output_type": "execute_result"
    }
   ],
   "source": [
    "chi2_df.head(20)"
   ]
  },
  {
   "cell_type": "code",
   "execution_count": 372,
   "metadata": {},
   "outputs": [
    {
     "data": {
      "text/html": [
       "<div>\n",
       "<style scoped>\n",
       "    .dataframe tbody tr th:only-of-type {\n",
       "        vertical-align: middle;\n",
       "    }\n",
       "\n",
       "    .dataframe tbody tr th {\n",
       "        vertical-align: top;\n",
       "    }\n",
       "\n",
       "    .dataframe thead th {\n",
       "        text-align: right;\n",
       "    }\n",
       "</style>\n",
       "<table border=\"1\" class=\"dataframe\">\n",
       "  <thead>\n",
       "    <tr style=\"text-align: right;\">\n",
       "      <th></th>\n",
       "      <th>token</th>\n",
       "      <th>score</th>\n",
       "      <th>p_value</th>\n",
       "    </tr>\n",
       "  </thead>\n",
       "  <tbody>\n",
       "    <tr>\n",
       "      <th>23643</th>\n",
       "      <td>have won</td>\n",
       "      <td>283.181495</td>\n",
       "      <td>1.521623e-63</td>\n",
       "    </tr>\n",
       "    <tr>\n",
       "      <th>8123</th>\n",
       "      <td>call now</td>\n",
       "      <td>245.926484</td>\n",
       "      <td>2.006927e-55</td>\n",
       "    </tr>\n",
       "    <tr>\n",
       "      <th>8054</th>\n",
       "      <td>call from</td>\n",
       "      <td>241.384057</td>\n",
       "      <td>1.963011e-54</td>\n",
       "    </tr>\n",
       "    <tr>\n",
       "      <th>65201</th>\n",
       "      <td>your mobile</td>\n",
       "      <td>231.693950</td>\n",
       "      <td>2.546397e-52</td>\n",
       "    </tr>\n",
       "    <tr>\n",
       "      <th>63933</th>\n",
       "      <td>you have</td>\n",
       "      <td>197.092347</td>\n",
       "      <td>9.002635e-45</td>\n",
       "    </tr>\n",
       "    <tr>\n",
       "      <th>40229</th>\n",
       "      <td>please call</td>\n",
       "      <td>158.309418</td>\n",
       "      <td>2.648695e-36</td>\n",
       "    </tr>\n",
       "    <tr>\n",
       "      <th>22191</th>\n",
       "      <td>guaranteed call</td>\n",
       "      <td>141.590747</td>\n",
       "      <td>1.194999e-32</td>\n",
       "    </tr>\n",
       "    <tr>\n",
       "      <th>41150</th>\n",
       "      <td>prize guaranteed</td>\n",
       "      <td>135.154804</td>\n",
       "      <td>3.054046e-31</td>\n",
       "    </tr>\n",
       "    <tr>\n",
       "      <th>28781</th>\n",
       "      <td>land line</td>\n",
       "      <td>109.411032</td>\n",
       "      <td>1.318935e-25</td>\n",
       "    </tr>\n",
       "    <tr>\n",
       "      <th>19419</th>\n",
       "      <td>from land</td>\n",
       "      <td>109.411032</td>\n",
       "      <td>1.318935e-25</td>\n",
       "    </tr>\n",
       "    <tr>\n",
       "      <th>44936</th>\n",
       "      <td>send stop</td>\n",
       "      <td>109.411032</td>\n",
       "      <td>1.318935e-25</td>\n",
       "    </tr>\n",
       "    <tr>\n",
       "      <th>41134</th>\n",
       "      <td>prize claim</td>\n",
       "      <td>102.975089</td>\n",
       "      <td>3.393891e-24</td>\n",
       "    </tr>\n",
       "    <tr>\n",
       "      <th>34854</th>\n",
       "      <td>national rate</td>\n",
       "      <td>102.975089</td>\n",
       "      <td>3.393891e-24</td>\n",
       "    </tr>\n",
       "    <tr>\n",
       "      <th>19421</th>\n",
       "      <td>from landline</td>\n",
       "      <td>100.693353</td>\n",
       "      <td>1.073853e-23</td>\n",
       "    </tr>\n",
       "    <tr>\n",
       "      <th>44777</th>\n",
       "      <td>selected receive</td>\n",
       "      <td>96.539146</td>\n",
       "      <td>8.749666e-23</td>\n",
       "    </tr>\n",
       "    <tr>\n",
       "      <th>57137</th>\n",
       "      <td>valid only</td>\n",
       "      <td>96.539146</td>\n",
       "      <td>8.749666e-23</td>\n",
       "    </tr>\n",
       "    <tr>\n",
       "      <th>4633</th>\n",
       "      <td>await collection</td>\n",
       "      <td>96.539146</td>\n",
       "      <td>8.749666e-23</td>\n",
       "    </tr>\n",
       "    <tr>\n",
       "      <th>30122</th>\n",
       "      <td>line claim</td>\n",
       "      <td>90.103203</td>\n",
       "      <td>2.260555e-21</td>\n",
       "    </tr>\n",
       "    <tr>\n",
       "      <th>56115</th>\n",
       "      <td>trying contact</td>\n",
       "      <td>90.103203</td>\n",
       "      <td>2.260555e-21</td>\n",
       "    </tr>\n",
       "    <tr>\n",
       "      <th>38048</th>\n",
       "      <td>opt out</td>\n",
       "      <td>90.103203</td>\n",
       "      <td>2.260555e-21</td>\n",
       "    </tr>\n",
       "    <tr>\n",
       "      <th>14864</th>\n",
       "      <td>draw shows</td>\n",
       "      <td>90.103203</td>\n",
       "      <td>2.260555e-21</td>\n",
       "    </tr>\n",
       "    <tr>\n",
       "      <th>61911</th>\n",
       "      <td>won prize</td>\n",
       "      <td>83.667260</td>\n",
       "      <td>5.854686e-20</td>\n",
       "    </tr>\n",
       "    <tr>\n",
       "      <th>376</th>\n",
       "      <td>account statement</td>\n",
       "      <td>83.667260</td>\n",
       "      <td>5.854686e-20</td>\n",
       "    </tr>\n",
       "    <tr>\n",
       "      <th>48241</th>\n",
       "      <td>statement for</td>\n",
       "      <td>83.667260</td>\n",
       "      <td>5.854686e-20</td>\n",
       "    </tr>\n",
       "    <tr>\n",
       "      <th>46099</th>\n",
       "      <td>shows that</td>\n",
       "      <td>83.667260</td>\n",
       "      <td>5.854686e-20</td>\n",
       "    </tr>\n",
       "    <tr>\n",
       "      <th>41125</th>\n",
       "      <td>private your</td>\n",
       "      <td>83.667260</td>\n",
       "      <td>5.854686e-20</td>\n",
       "    </tr>\n",
       "    <tr>\n",
       "      <th>8021</th>\n",
       "      <td>call claim</td>\n",
       "      <td>83.667260</td>\n",
       "      <td>5.854686e-20</td>\n",
       "    </tr>\n",
       "    <tr>\n",
       "      <th>9343</th>\n",
       "      <td>cash prize</td>\n",
       "      <td>83.667260</td>\n",
       "      <td>5.854686e-20</td>\n",
       "    </tr>\n",
       "    <tr>\n",
       "      <th>11317</th>\n",
       "      <td>contact you</td>\n",
       "      <td>82.240014</td>\n",
       "      <td>1.205250e-19</td>\n",
       "    </tr>\n",
       "    <tr>\n",
       "      <th>18137</th>\n",
       "      <td>for free</td>\n",
       "      <td>82.240014</td>\n",
       "      <td>1.205250e-19</td>\n",
       "    </tr>\n",
       "    <tr>\n",
       "      <th>52672</th>\n",
       "      <td>the word</td>\n",
       "      <td>82.240014</td>\n",
       "      <td>1.205250e-19</td>\n",
       "    </tr>\n",
       "    <tr>\n",
       "      <th>10472</th>\n",
       "      <td>code expires</td>\n",
       "      <td>77.231317</td>\n",
       "      <td>1.520632e-18</td>\n",
       "    </tr>\n",
       "    <tr>\n",
       "      <th>42786</th>\n",
       "      <td>reply call</td>\n",
       "      <td>77.231317</td>\n",
       "      <td>1.520632e-18</td>\n",
       "    </tr>\n",
       "    <tr>\n",
       "      <th>56903</th>\n",
       "      <td>urgent your</td>\n",
       "      <td>77.231317</td>\n",
       "      <td>1.520632e-18</td>\n",
       "    </tr>\n",
       "    <tr>\n",
       "      <th>10575</th>\n",
       "      <td>collection sae</td>\n",
       "      <td>77.231317</td>\n",
       "      <td>1.520632e-18</td>\n",
       "    </tr>\n",
       "    <tr>\n",
       "      <th>26103</th>\n",
       "      <td>identifier code</td>\n",
       "      <td>77.231317</td>\n",
       "      <td>1.520632e-18</td>\n",
       "    </tr>\n",
       "    <tr>\n",
       "      <th>9590</th>\n",
       "      <td>chance win</td>\n",
       "      <td>77.231317</td>\n",
       "      <td>1.520632e-18</td>\n",
       "    </tr>\n",
       "    <tr>\n",
       "      <th>8077</th>\n",
       "      <td>call identifier</td>\n",
       "      <td>77.231317</td>\n",
       "      <td>1.520632e-18</td>\n",
       "    </tr>\n",
       "    <tr>\n",
       "      <th>27611</th>\n",
       "      <td>just call</td>\n",
       "      <td>75.844982</td>\n",
       "      <td>3.068311e-18</td>\n",
       "    </tr>\n",
       "    <tr>\n",
       "      <th>3842</th>\n",
       "      <td>are trying</td>\n",
       "      <td>75.844982</td>\n",
       "      <td>3.068311e-18</td>\n",
       "    </tr>\n",
       "    <tr>\n",
       "      <th>38656</th>\n",
       "      <td>out who</td>\n",
       "      <td>75.844982</td>\n",
       "      <td>3.068311e-18</td>\n",
       "    </tr>\n",
       "    <tr>\n",
       "      <th>12197</th>\n",
       "      <td>customer service</td>\n",
       "      <td>75.379147</td>\n",
       "      <td>3.884712e-18</td>\n",
       "    </tr>\n",
       "    <tr>\n",
       "      <th>16346</th>\n",
       "      <td>every week</td>\n",
       "      <td>75.379147</td>\n",
       "      <td>3.884712e-18</td>\n",
       "    </tr>\n",
       "    <tr>\n",
       "      <th>10215</th>\n",
       "      <td>claim valid</td>\n",
       "      <td>70.795374</td>\n",
       "      <td>3.962652e-17</td>\n",
       "    </tr>\n",
       "    <tr>\n",
       "      <th>18378</th>\n",
       "      <td>for shows</td>\n",
       "      <td>70.795374</td>\n",
       "      <td>3.962652e-17</td>\n",
       "    </tr>\n",
       "    <tr>\n",
       "      <th>24982</th>\n",
       "      <td>holiday cash</td>\n",
       "      <td>70.795374</td>\n",
       "      <td>3.962652e-17</td>\n",
       "    </tr>\n",
       "    <tr>\n",
       "      <th>22195</th>\n",
       "      <td>guaranteed cash</td>\n",
       "      <td>70.795374</td>\n",
       "      <td>3.962652e-17</td>\n",
       "    </tr>\n",
       "    <tr>\n",
       "      <th>61898</th>\n",
       "      <td>won guaranteed</td>\n",
       "      <td>70.795374</td>\n",
       "      <td>3.962652e-17</td>\n",
       "    </tr>\n",
       "    <tr>\n",
       "      <th>22541</th>\n",
       "      <td>had your</td>\n",
       "      <td>69.456244</td>\n",
       "      <td>7.812865e-17</td>\n",
       "    </tr>\n",
       "    <tr>\n",
       "      <th>18537</th>\n",
       "      <td>for your</td>\n",
       "      <td>67.548730</td>\n",
       "      <td>2.055436e-16</td>\n",
       "    </tr>\n",
       "  </tbody>\n",
       "</table>\n",
       "</div>"
      ],
      "text/plain": [
       "                   token       score       p_value\n",
       "23643           have won  283.181495  1.521623e-63\n",
       "8123            call now  245.926484  2.006927e-55\n",
       "8054           call from  241.384057  1.963011e-54\n",
       "65201        your mobile  231.693950  2.546397e-52\n",
       "63933           you have  197.092347  9.002635e-45\n",
       "40229        please call  158.309418  2.648695e-36\n",
       "22191    guaranteed call  141.590747  1.194999e-32\n",
       "41150   prize guaranteed  135.154804  3.054046e-31\n",
       "28781          land line  109.411032  1.318935e-25\n",
       "19419          from land  109.411032  1.318935e-25\n",
       "44936          send stop  109.411032  1.318935e-25\n",
       "41134        prize claim  102.975089  3.393891e-24\n",
       "34854      national rate  102.975089  3.393891e-24\n",
       "19421      from landline  100.693353  1.073853e-23\n",
       "44777   selected receive   96.539146  8.749666e-23\n",
       "57137         valid only   96.539146  8.749666e-23\n",
       "4633    await collection   96.539146  8.749666e-23\n",
       "30122         line claim   90.103203  2.260555e-21\n",
       "56115     trying contact   90.103203  2.260555e-21\n",
       "38048            opt out   90.103203  2.260555e-21\n",
       "14864         draw shows   90.103203  2.260555e-21\n",
       "61911          won prize   83.667260  5.854686e-20\n",
       "376    account statement   83.667260  5.854686e-20\n",
       "48241      statement for   83.667260  5.854686e-20\n",
       "46099         shows that   83.667260  5.854686e-20\n",
       "41125       private your   83.667260  5.854686e-20\n",
       "8021          call claim   83.667260  5.854686e-20\n",
       "9343          cash prize   83.667260  5.854686e-20\n",
       "11317        contact you   82.240014  1.205250e-19\n",
       "18137           for free   82.240014  1.205250e-19\n",
       "52672           the word   82.240014  1.205250e-19\n",
       "10472       code expires   77.231317  1.520632e-18\n",
       "42786         reply call   77.231317  1.520632e-18\n",
       "56903        urgent your   77.231317  1.520632e-18\n",
       "10575     collection sae   77.231317  1.520632e-18\n",
       "26103    identifier code   77.231317  1.520632e-18\n",
       "9590          chance win   77.231317  1.520632e-18\n",
       "8077     call identifier   77.231317  1.520632e-18\n",
       "27611          just call   75.844982  3.068311e-18\n",
       "3842          are trying   75.844982  3.068311e-18\n",
       "38656            out who   75.844982  3.068311e-18\n",
       "12197   customer service   75.379147  3.884712e-18\n",
       "16346         every week   75.379147  3.884712e-18\n",
       "10215        claim valid   70.795374  3.962652e-17\n",
       "18378          for shows   70.795374  3.962652e-17\n",
       "24982       holiday cash   70.795374  3.962652e-17\n",
       "22195    guaranteed cash   70.795374  3.962652e-17\n",
       "61898     won guaranteed   70.795374  3.962652e-17\n",
       "22541           had your   69.456244  7.812865e-17\n",
       "18537           for your   67.548730  2.055436e-16"
      ]
     },
     "execution_count": 372,
     "metadata": {},
     "output_type": "execute_result"
    }
   ],
   "source": [
    "# Filter to include only ngrams\n",
    "ngrams_df = chi2_df[chi2_df['token'].str.split().str.len() == 2]\n",
    "\n",
    "# Sort the DataFrame by scores in descending order\n",
    "ngrams_df = ngrams_df.sort_values(by='score', ascending=False)\n",
    "\n",
    "ngrams_df.head(50)"
   ]
  },
  {
   "cell_type": "code",
   "execution_count": 373,
   "metadata": {},
   "outputs": [],
   "source": [
    "# Initialize columns for counts\n",
    "ngrams_df['count_in_spam'] = 0\n",
    "ngrams_df['count_in_ham']  = 0"
   ]
  },
  {
   "cell_type": "code",
   "execution_count": 374,
   "metadata": {},
   "outputs": [],
   "source": [
    "# Function to count occurrences of token in the review column using 'in'\n",
    "def count_token_occurrences(token, reviews):\n",
    "    token_lower = token.lower()\n",
    "    return sum(token_lower in review.lower() for review in reviews)"
   ]
  },
  {
   "cell_type": "code",
   "execution_count": 375,
   "metadata": {},
   "outputs": [
    {
     "name": "stdout",
     "output_type": "stream",
     "text": [
      "Wall time: 3min 22s\n"
     ]
    }
   ],
   "source": [
    "%%time\n",
    "\n",
    "# Loop through each n-gram\n",
    "for index, row in ngrams_df.iterrows():\n",
    "    token = row['token']\n",
    "    \n",
    "    # Count occurrences in spam reviews\n",
    "    spam_reviews = sms[sms['label'] == 'spam']['message']\n",
    "    ham_reviews  = sms[sms['label'] == 'ham']['message']\n",
    "    \n",
    "    ngrams_df.at[index, 'count_in_spam'] = count_token_occurrences(token, spam_reviews)\n",
    "    ngrams_df.at[index, 'count_in_ham']  = count_token_occurrences(token, ham_reviews)"
   ]
  },
  {
   "cell_type": "code",
   "execution_count": 376,
   "metadata": {},
   "outputs": [
    {
     "data": {
      "text/html": [
       "<div>\n",
       "<style scoped>\n",
       "    .dataframe tbody tr th:only-of-type {\n",
       "        vertical-align: middle;\n",
       "    }\n",
       "\n",
       "    .dataframe tbody tr th {\n",
       "        vertical-align: top;\n",
       "    }\n",
       "\n",
       "    .dataframe thead th {\n",
       "        text-align: right;\n",
       "    }\n",
       "</style>\n",
       "<table border=\"1\" class=\"dataframe\">\n",
       "  <thead>\n",
       "    <tr style=\"text-align: right;\">\n",
       "      <th></th>\n",
       "      <th>token</th>\n",
       "      <th>score</th>\n",
       "      <th>p_value</th>\n",
       "      <th>count_in_spam</th>\n",
       "      <th>count_in_ham</th>\n",
       "    </tr>\n",
       "  </thead>\n",
       "  <tbody>\n",
       "    <tr>\n",
       "      <th>23643</th>\n",
       "      <td>have won</td>\n",
       "      <td>283.181495</td>\n",
       "      <td>1.521623e-63</td>\n",
       "      <td>54</td>\n",
       "      <td>0</td>\n",
       "    </tr>\n",
       "    <tr>\n",
       "      <th>8123</th>\n",
       "      <td>call now</td>\n",
       "      <td>245.926484</td>\n",
       "      <td>2.006927e-55</td>\n",
       "      <td>19</td>\n",
       "      <td>3</td>\n",
       "    </tr>\n",
       "    <tr>\n",
       "      <th>8054</th>\n",
       "      <td>call from</td>\n",
       "      <td>241.384057</td>\n",
       "      <td>1.963011e-54</td>\n",
       "      <td>13</td>\n",
       "      <td>3</td>\n",
       "    </tr>\n",
       "    <tr>\n",
       "      <th>65201</th>\n",
       "      <td>your mobile</td>\n",
       "      <td>231.693950</td>\n",
       "      <td>2.546397e-52</td>\n",
       "      <td>50</td>\n",
       "      <td>0</td>\n",
       "    </tr>\n",
       "    <tr>\n",
       "      <th>63933</th>\n",
       "      <td>you have</td>\n",
       "      <td>197.092347</td>\n",
       "      <td>9.002635e-45</td>\n",
       "      <td>71</td>\n",
       "      <td>45</td>\n",
       "    </tr>\n",
       "    <tr>\n",
       "      <th>40229</th>\n",
       "      <td>please call</td>\n",
       "      <td>158.309418</td>\n",
       "      <td>2.648695e-36</td>\n",
       "      <td>46</td>\n",
       "      <td>9</td>\n",
       "    </tr>\n",
       "    <tr>\n",
       "      <th>22191</th>\n",
       "      <td>guaranteed call</td>\n",
       "      <td>141.590747</td>\n",
       "      <td>1.194999e-32</td>\n",
       "      <td>5</td>\n",
       "      <td>0</td>\n",
       "    </tr>\n",
       "    <tr>\n",
       "      <th>41150</th>\n",
       "      <td>prize guaranteed</td>\n",
       "      <td>135.154804</td>\n",
       "      <td>3.054046e-31</td>\n",
       "      <td>22</td>\n",
       "      <td>0</td>\n",
       "    </tr>\n",
       "    <tr>\n",
       "      <th>28781</th>\n",
       "      <td>land line</td>\n",
       "      <td>109.411032</td>\n",
       "      <td>1.318935e-25</td>\n",
       "      <td>18</td>\n",
       "      <td>0</td>\n",
       "    </tr>\n",
       "    <tr>\n",
       "      <th>19419</th>\n",
       "      <td>from land</td>\n",
       "      <td>109.411032</td>\n",
       "      <td>1.318935e-25</td>\n",
       "      <td>35</td>\n",
       "      <td>0</td>\n",
       "    </tr>\n",
       "    <tr>\n",
       "      <th>44936</th>\n",
       "      <td>send stop</td>\n",
       "      <td>109.411032</td>\n",
       "      <td>1.318935e-25</td>\n",
       "      <td>21</td>\n",
       "      <td>0</td>\n",
       "    </tr>\n",
       "    <tr>\n",
       "      <th>41134</th>\n",
       "      <td>prize claim</td>\n",
       "      <td>102.975089</td>\n",
       "      <td>3.393891e-24</td>\n",
       "      <td>0</td>\n",
       "      <td>0</td>\n",
       "    </tr>\n",
       "    <tr>\n",
       "      <th>34854</th>\n",
       "      <td>national rate</td>\n",
       "      <td>102.975089</td>\n",
       "      <td>3.393891e-24</td>\n",
       "      <td>10</td>\n",
       "      <td>0</td>\n",
       "    </tr>\n",
       "    <tr>\n",
       "      <th>19421</th>\n",
       "      <td>from landline</td>\n",
       "      <td>100.693353</td>\n",
       "      <td>1.073853e-23</td>\n",
       "      <td>19</td>\n",
       "      <td>0</td>\n",
       "    </tr>\n",
       "    <tr>\n",
       "      <th>44777</th>\n",
       "      <td>selected receive</td>\n",
       "      <td>96.539146</td>\n",
       "      <td>8.749666e-23</td>\n",
       "      <td>0</td>\n",
       "      <td>0</td>\n",
       "    </tr>\n",
       "    <tr>\n",
       "      <th>57137</th>\n",
       "      <td>valid only</td>\n",
       "      <td>96.539146</td>\n",
       "      <td>8.749666e-23</td>\n",
       "      <td>0</td>\n",
       "      <td>0</td>\n",
       "    </tr>\n",
       "    <tr>\n",
       "      <th>4633</th>\n",
       "      <td>await collection</td>\n",
       "      <td>96.539146</td>\n",
       "      <td>8.749666e-23</td>\n",
       "      <td>19</td>\n",
       "      <td>0</td>\n",
       "    </tr>\n",
       "    <tr>\n",
       "      <th>30122</th>\n",
       "      <td>line claim</td>\n",
       "      <td>90.103203</td>\n",
       "      <td>2.260555e-21</td>\n",
       "      <td>0</td>\n",
       "      <td>0</td>\n",
       "    </tr>\n",
       "    <tr>\n",
       "      <th>56115</th>\n",
       "      <td>trying contact</td>\n",
       "      <td>90.103203</td>\n",
       "      <td>2.260555e-21</td>\n",
       "      <td>0</td>\n",
       "      <td>0</td>\n",
       "    </tr>\n",
       "    <tr>\n",
       "      <th>38048</th>\n",
       "      <td>opt out</td>\n",
       "      <td>90.103203</td>\n",
       "      <td>2.260555e-21</td>\n",
       "      <td>12</td>\n",
       "      <td>0</td>\n",
       "    </tr>\n",
       "    <tr>\n",
       "      <th>14864</th>\n",
       "      <td>draw shows</td>\n",
       "      <td>90.103203</td>\n",
       "      <td>2.260555e-21</td>\n",
       "      <td>15</td>\n",
       "      <td>0</td>\n",
       "    </tr>\n",
       "    <tr>\n",
       "      <th>61911</th>\n",
       "      <td>won prize</td>\n",
       "      <td>83.667260</td>\n",
       "      <td>5.854686e-20</td>\n",
       "      <td>0</td>\n",
       "      <td>0</td>\n",
       "    </tr>\n",
       "    <tr>\n",
       "      <th>376</th>\n",
       "      <td>account statement</td>\n",
       "      <td>83.667260</td>\n",
       "      <td>5.854686e-20</td>\n",
       "      <td>16</td>\n",
       "      <td>0</td>\n",
       "    </tr>\n",
       "    <tr>\n",
       "      <th>48241</th>\n",
       "      <td>statement for</td>\n",
       "      <td>83.667260</td>\n",
       "      <td>5.854686e-20</td>\n",
       "      <td>16</td>\n",
       "      <td>0</td>\n",
       "    </tr>\n",
       "    <tr>\n",
       "      <th>46099</th>\n",
       "      <td>shows that</td>\n",
       "      <td>83.667260</td>\n",
       "      <td>5.854686e-20</td>\n",
       "      <td>14</td>\n",
       "      <td>0</td>\n",
       "    </tr>\n",
       "    <tr>\n",
       "      <th>41125</th>\n",
       "      <td>private your</td>\n",
       "      <td>83.667260</td>\n",
       "      <td>5.854686e-20</td>\n",
       "      <td>0</td>\n",
       "      <td>0</td>\n",
       "    </tr>\n",
       "    <tr>\n",
       "      <th>8021</th>\n",
       "      <td>call claim</td>\n",
       "      <td>83.667260</td>\n",
       "      <td>5.854686e-20</td>\n",
       "      <td>2</td>\n",
       "      <td>0</td>\n",
       "    </tr>\n",
       "    <tr>\n",
       "      <th>9343</th>\n",
       "      <td>cash prize</td>\n",
       "      <td>83.667260</td>\n",
       "      <td>5.854686e-20</td>\n",
       "      <td>1</td>\n",
       "      <td>0</td>\n",
       "    </tr>\n",
       "    <tr>\n",
       "      <th>11317</th>\n",
       "      <td>contact you</td>\n",
       "      <td>82.240014</td>\n",
       "      <td>1.205250e-19</td>\n",
       "      <td>20</td>\n",
       "      <td>1</td>\n",
       "    </tr>\n",
       "    <tr>\n",
       "      <th>18137</th>\n",
       "      <td>for free</td>\n",
       "      <td>82.240014</td>\n",
       "      <td>1.205250e-19</td>\n",
       "      <td>16</td>\n",
       "      <td>1</td>\n",
       "    </tr>\n",
       "    <tr>\n",
       "      <th>52672</th>\n",
       "      <td>the word</td>\n",
       "      <td>82.240014</td>\n",
       "      <td>1.205250e-19</td>\n",
       "      <td>16</td>\n",
       "      <td>1</td>\n",
       "    </tr>\n",
       "    <tr>\n",
       "      <th>10472</th>\n",
       "      <td>code expires</td>\n",
       "      <td>77.231317</td>\n",
       "      <td>1.520632e-18</td>\n",
       "      <td>0</td>\n",
       "      <td>0</td>\n",
       "    </tr>\n",
       "    <tr>\n",
       "      <th>42786</th>\n",
       "      <td>reply call</td>\n",
       "      <td>77.231317</td>\n",
       "      <td>1.520632e-18</td>\n",
       "      <td>0</td>\n",
       "      <td>0</td>\n",
       "    </tr>\n",
       "    <tr>\n",
       "      <th>56903</th>\n",
       "      <td>urgent your</td>\n",
       "      <td>77.231317</td>\n",
       "      <td>1.520632e-18</td>\n",
       "      <td>0</td>\n",
       "      <td>0</td>\n",
       "    </tr>\n",
       "    <tr>\n",
       "      <th>10575</th>\n",
       "      <td>collection sae</td>\n",
       "      <td>77.231317</td>\n",
       "      <td>1.520632e-18</td>\n",
       "      <td>8</td>\n",
       "      <td>0</td>\n",
       "    </tr>\n",
       "    <tr>\n",
       "      <th>26103</th>\n",
       "      <td>identifier code</td>\n",
       "      <td>77.231317</td>\n",
       "      <td>1.520632e-18</td>\n",
       "      <td>16</td>\n",
       "      <td>0</td>\n",
       "    </tr>\n",
       "    <tr>\n",
       "      <th>9590</th>\n",
       "      <td>chance win</td>\n",
       "      <td>77.231317</td>\n",
       "      <td>1.520632e-18</td>\n",
       "      <td>0</td>\n",
       "      <td>0</td>\n",
       "    </tr>\n",
       "    <tr>\n",
       "      <th>8077</th>\n",
       "      <td>call identifier</td>\n",
       "      <td>77.231317</td>\n",
       "      <td>1.520632e-18</td>\n",
       "      <td>0</td>\n",
       "      <td>0</td>\n",
       "    </tr>\n",
       "    <tr>\n",
       "      <th>27611</th>\n",
       "      <td>just call</td>\n",
       "      <td>75.844982</td>\n",
       "      <td>3.068311e-18</td>\n",
       "      <td>15</td>\n",
       "      <td>2</td>\n",
       "    </tr>\n",
       "    <tr>\n",
       "      <th>3842</th>\n",
       "      <td>are trying</td>\n",
       "      <td>75.844982</td>\n",
       "      <td>3.068311e-18</td>\n",
       "      <td>14</td>\n",
       "      <td>2</td>\n",
       "    </tr>\n",
       "    <tr>\n",
       "      <th>38656</th>\n",
       "      <td>out who</td>\n",
       "      <td>75.844982</td>\n",
       "      <td>3.068311e-18</td>\n",
       "      <td>18</td>\n",
       "      <td>3</td>\n",
       "    </tr>\n",
       "    <tr>\n",
       "      <th>12197</th>\n",
       "      <td>customer service</td>\n",
       "      <td>75.379147</td>\n",
       "      <td>3.884712e-18</td>\n",
       "      <td>27</td>\n",
       "      <td>2</td>\n",
       "    </tr>\n",
       "    <tr>\n",
       "      <th>16346</th>\n",
       "      <td>every week</td>\n",
       "      <td>75.379147</td>\n",
       "      <td>3.884712e-18</td>\n",
       "      <td>19</td>\n",
       "      <td>1</td>\n",
       "    </tr>\n",
       "    <tr>\n",
       "      <th>10215</th>\n",
       "      <td>claim valid</td>\n",
       "      <td>70.795374</td>\n",
       "      <td>3.962652e-17</td>\n",
       "      <td>0</td>\n",
       "      <td>0</td>\n",
       "    </tr>\n",
       "    <tr>\n",
       "      <th>18378</th>\n",
       "      <td>for shows</td>\n",
       "      <td>70.795374</td>\n",
       "      <td>3.962652e-17</td>\n",
       "      <td>6</td>\n",
       "      <td>0</td>\n",
       "    </tr>\n",
       "    <tr>\n",
       "      <th>24982</th>\n",
       "      <td>holiday cash</td>\n",
       "      <td>70.795374</td>\n",
       "      <td>3.962652e-17</td>\n",
       "      <td>0</td>\n",
       "      <td>0</td>\n",
       "    </tr>\n",
       "    <tr>\n",
       "      <th>22195</th>\n",
       "      <td>guaranteed cash</td>\n",
       "      <td>70.795374</td>\n",
       "      <td>3.962652e-17</td>\n",
       "      <td>0</td>\n",
       "      <td>0</td>\n",
       "    </tr>\n",
       "    <tr>\n",
       "      <th>61898</th>\n",
       "      <td>won guaranteed</td>\n",
       "      <td>70.795374</td>\n",
       "      <td>3.962652e-17</td>\n",
       "      <td>0</td>\n",
       "      <td>0</td>\n",
       "    </tr>\n",
       "    <tr>\n",
       "      <th>22541</th>\n",
       "      <td>had your</td>\n",
       "      <td>69.456244</td>\n",
       "      <td>7.812865e-17</td>\n",
       "      <td>15</td>\n",
       "      <td>1</td>\n",
       "    </tr>\n",
       "    <tr>\n",
       "      <th>18537</th>\n",
       "      <td>for your</td>\n",
       "      <td>67.548730</td>\n",
       "      <td>2.055436e-16</td>\n",
       "      <td>23</td>\n",
       "      <td>18</td>\n",
       "    </tr>\n",
       "  </tbody>\n",
       "</table>\n",
       "</div>"
      ],
      "text/plain": [
       "                   token       score       p_value  count_in_spam  count_in_ham\n",
       "23643           have won  283.181495  1.521623e-63             54             0\n",
       "8123            call now  245.926484  2.006927e-55             19             3\n",
       "8054           call from  241.384057  1.963011e-54             13             3\n",
       "65201        your mobile  231.693950  2.546397e-52             50             0\n",
       "63933           you have  197.092347  9.002635e-45             71            45\n",
       "40229        please call  158.309418  2.648695e-36             46             9\n",
       "22191    guaranteed call  141.590747  1.194999e-32              5             0\n",
       "41150   prize guaranteed  135.154804  3.054046e-31             22             0\n",
       "28781          land line  109.411032  1.318935e-25             18             0\n",
       "19419          from land  109.411032  1.318935e-25             35             0\n",
       "44936          send stop  109.411032  1.318935e-25             21             0\n",
       "41134        prize claim  102.975089  3.393891e-24              0             0\n",
       "34854      national rate  102.975089  3.393891e-24             10             0\n",
       "19421      from landline  100.693353  1.073853e-23             19             0\n",
       "44777   selected receive   96.539146  8.749666e-23              0             0\n",
       "57137         valid only   96.539146  8.749666e-23              0             0\n",
       "4633    await collection   96.539146  8.749666e-23             19             0\n",
       "30122         line claim   90.103203  2.260555e-21              0             0\n",
       "56115     trying contact   90.103203  2.260555e-21              0             0\n",
       "38048            opt out   90.103203  2.260555e-21             12             0\n",
       "14864         draw shows   90.103203  2.260555e-21             15             0\n",
       "61911          won prize   83.667260  5.854686e-20              0             0\n",
       "376    account statement   83.667260  5.854686e-20             16             0\n",
       "48241      statement for   83.667260  5.854686e-20             16             0\n",
       "46099         shows that   83.667260  5.854686e-20             14             0\n",
       "41125       private your   83.667260  5.854686e-20              0             0\n",
       "8021          call claim   83.667260  5.854686e-20              2             0\n",
       "9343          cash prize   83.667260  5.854686e-20              1             0\n",
       "11317        contact you   82.240014  1.205250e-19             20             1\n",
       "18137           for free   82.240014  1.205250e-19             16             1\n",
       "52672           the word   82.240014  1.205250e-19             16             1\n",
       "10472       code expires   77.231317  1.520632e-18              0             0\n",
       "42786         reply call   77.231317  1.520632e-18              0             0\n",
       "56903        urgent your   77.231317  1.520632e-18              0             0\n",
       "10575     collection sae   77.231317  1.520632e-18              8             0\n",
       "26103    identifier code   77.231317  1.520632e-18             16             0\n",
       "9590          chance win   77.231317  1.520632e-18              0             0\n",
       "8077     call identifier   77.231317  1.520632e-18              0             0\n",
       "27611          just call   75.844982  3.068311e-18             15             2\n",
       "3842          are trying   75.844982  3.068311e-18             14             2\n",
       "38656            out who   75.844982  3.068311e-18             18             3\n",
       "12197   customer service   75.379147  3.884712e-18             27             2\n",
       "16346         every week   75.379147  3.884712e-18             19             1\n",
       "10215        claim valid   70.795374  3.962652e-17              0             0\n",
       "18378          for shows   70.795374  3.962652e-17              6             0\n",
       "24982       holiday cash   70.795374  3.962652e-17              0             0\n",
       "22195    guaranteed cash   70.795374  3.962652e-17              0             0\n",
       "61898     won guaranteed   70.795374  3.962652e-17              0             0\n",
       "22541           had your   69.456244  7.812865e-17             15             1\n",
       "18537           for your   67.548730  2.055436e-16             23            18"
      ]
     },
     "execution_count": 376,
     "metadata": {},
     "output_type": "execute_result"
    }
   ],
   "source": [
    "ngrams_df[ngrams_df.p_value < 0.05].head(50)"
   ]
  },
  {
   "cell_type": "code",
   "execution_count": 165,
   "metadata": {},
   "outputs": [
    {
     "data": {
      "text/html": [
       "<div>\n",
       "<style scoped>\n",
       "    .dataframe tbody tr th:only-of-type {\n",
       "        vertical-align: middle;\n",
       "    }\n",
       "\n",
       "    .dataframe tbody tr th {\n",
       "        vertical-align: top;\n",
       "    }\n",
       "\n",
       "    .dataframe thead th {\n",
       "        text-align: right;\n",
       "    }\n",
       "</style>\n",
       "<table border=\"1\" class=\"dataframe\">\n",
       "  <thead>\n",
       "    <tr style=\"text-align: right;\">\n",
       "      <th></th>\n",
       "      <th>token</th>\n",
       "      <th>score</th>\n",
       "      <th>p_value</th>\n",
       "      <th>count_in_spam</th>\n",
       "      <th>count_in_ham</th>\n",
       "    </tr>\n",
       "  </thead>\n",
       "  <tbody>\n",
       "    <tr>\n",
       "      <th>63928</th>\n",
       "      <td>you hav</td>\n",
       "      <td>0.310755</td>\n",
       "      <td>5.772174e-01</td>\n",
       "      <td>72.0</td>\n",
       "      <td>48.0</td>\n",
       "    </tr>\n",
       "    <tr>\n",
       "      <th>63933</th>\n",
       "      <td>you have</td>\n",
       "      <td>197.092347</td>\n",
       "      <td>9.002635e-45</td>\n",
       "      <td>71.0</td>\n",
       "      <td>45.0</td>\n",
       "    </tr>\n",
       "    <tr>\n",
       "      <th>65197</th>\n",
       "      <td>your mob</td>\n",
       "      <td>38.615658</td>\n",
       "      <td>5.160327e-10</td>\n",
       "      <td>56.0</td>\n",
       "      <td>0.0</td>\n",
       "    </tr>\n",
       "    <tr>\n",
       "      <th>23643</th>\n",
       "      <td>have won</td>\n",
       "      <td>283.181495</td>\n",
       "      <td>1.521623e-63</td>\n",
       "      <td>54.0</td>\n",
       "      <td>0.0</td>\n",
       "    </tr>\n",
       "    <tr>\n",
       "      <th>65201</th>\n",
       "      <td>your mobile</td>\n",
       "      <td>231.693950</td>\n",
       "      <td>2.546397e-52</td>\n",
       "      <td>50.0</td>\n",
       "      <td>0.0</td>\n",
       "    </tr>\n",
       "    <tr>\n",
       "      <th>...</th>\n",
       "      <td>...</td>\n",
       "      <td>...</td>\n",
       "      <td>...</td>\n",
       "      <td>...</td>\n",
       "      <td>...</td>\n",
       "    </tr>\n",
       "    <tr>\n",
       "      <th>42842</th>\n",
       "      <td>reply stop</td>\n",
       "      <td>64.359431</td>\n",
       "      <td>1.036710e-15</td>\n",
       "      <td>11.0</td>\n",
       "      <td>0.0</td>\n",
       "    </tr>\n",
       "    <tr>\n",
       "      <th>2703</th>\n",
       "      <td>and tell</td>\n",
       "      <td>25.829599</td>\n",
       "      <td>3.729255e-07</td>\n",
       "      <td>11.0</td>\n",
       "      <td>7.0</td>\n",
       "    </tr>\n",
       "    <tr>\n",
       "      <th>6561</th>\n",
       "      <td>bonus caller</td>\n",
       "      <td>32.179715</td>\n",
       "      <td>1.405505e-08</td>\n",
       "      <td>11.0</td>\n",
       "      <td>0.0</td>\n",
       "    </tr>\n",
       "    <tr>\n",
       "      <th>41045</th>\n",
       "      <td>price line</td>\n",
       "      <td>32.179715</td>\n",
       "      <td>1.405505e-08</td>\n",
       "      <td>11.0</td>\n",
       "      <td>0.0</td>\n",
       "    </tr>\n",
       "    <tr>\n",
       "      <th>20401</th>\n",
       "      <td>get txtin</td>\n",
       "      <td>12.871886</td>\n",
       "      <td>3.335553e-04</td>\n",
       "      <td>11.0</td>\n",
       "      <td>0.0</td>\n",
       "    </tr>\n",
       "  </tbody>\n",
       "</table>\n",
       "<p>87 rows × 5 columns</p>\n",
       "</div>"
      ],
      "text/plain": [
       "              token       score       p_value  count_in_spam  count_in_ham\n",
       "63928       you hav    0.310755  5.772174e-01           72.0          48.0\n",
       "63933      you have  197.092347  9.002635e-45           71.0          45.0\n",
       "65197      your mob   38.615658  5.160327e-10           56.0           0.0\n",
       "23643      have won  283.181495  1.521623e-63           54.0           0.0\n",
       "65201   your mobile  231.693950  2.546397e-52           50.0           0.0\n",
       "...             ...         ...           ...            ...           ...\n",
       "42842    reply stop   64.359431  1.036710e-15           11.0           0.0\n",
       "2703       and tell   25.829599  3.729255e-07           11.0           7.0\n",
       "6561   bonus caller   32.179715  1.405505e-08           11.0           0.0\n",
       "41045    price line   32.179715  1.405505e-08           11.0           0.0\n",
       "20401     get txtin   12.871886  3.335553e-04           11.0           0.0\n",
       "\n",
       "[87 rows x 5 columns]"
      ]
     },
     "execution_count": 165,
     "metadata": {},
     "output_type": "execute_result"
    }
   ],
   "source": [
    "ngrams_df[ngrams_df.count_in_spam>10].sort_values(['count_in_spam'], ascending=[False])"
   ]
  },
  {
   "cell_type": "code",
   "execution_count": 377,
   "metadata": {},
   "outputs": [],
   "source": [
    "# Bigrams to add as features\n",
    "bigrams_to_add = list(ngrams_df[ngrams_df.count_in_spam>10].sort_values(['count_in_spam'], ascending=[False])['token'].values)"
   ]
  },
  {
   "cell_type": "code",
   "execution_count": 170,
   "metadata": {},
   "outputs": [
    {
     "data": {
      "text/plain": [
       "['you hav',\n",
       " 'you have',\n",
       " 'your mob',\n",
       " 'have won',\n",
       " 'your mobile',\n",
       " 'please call',\n",
       " 'for you',\n",
       " 'from land',\n",
       " 'you are',\n",
       " 'find out',\n",
       " 'customer service',\n",
       " 'for your',\n",
       " 'prize guaranteed',\n",
       " 'call mobile',\n",
       " 'send stop',\n",
       " 'all mobile',\n",
       " 'contact you',\n",
       " 'every week',\n",
       " 'call now',\n",
       " 'from landline',\n",
       " 'await collection',\n",
       " 'per min',\n",
       " 'land line',\n",
       " 'out who',\n",
       " 'the late',\n",
       " 'the latest',\n",
       " 'for free',\n",
       " 'account statement',\n",
       " 'statement for',\n",
       " 'identifier code',\n",
       " 'all free',\n",
       " 'the word',\n",
       " 'free entry',\n",
       " 'ave been',\n",
       " 'this week',\n",
       " 'had you',\n",
       " 'dating service',\n",
       " 'txt stop',\n",
       " 'draw shows',\n",
       " 'had your',\n",
       " 'just call',\n",
       " 'just txt',\n",
       " 'have been',\n",
       " 'free text',\n",
       " 'call free',\n",
       " 'waiting for',\n",
       " 'that you',\n",
       " 'are trying',\n",
       " 'shows that',\n",
       " 'hows that',\n",
       " 'the new',\n",
       " 'has been',\n",
       " 'get txt',\n",
       " 'call from',\n",
       " 'camera phone',\n",
       " 'gift voucher',\n",
       " 'your phone',\n",
       " 'double mins',\n",
       " 'claim code',\n",
       " 'half price',\n",
       " 'txt nok',\n",
       " 'caller prize',\n",
       " 'our dating',\n",
       " 'nokia tone',\n",
       " 'collect your',\n",
       " 'opt out',\n",
       " 'our free',\n",
       " 'new nokia',\n",
       " 'claim call',\n",
       " 'our customer',\n",
       " 'get you',\n",
       " 'you want',\n",
       " 'call our',\n",
       " 'are selected',\n",
       " 'all our',\n",
       " 'line rental',\n",
       " 'video phone',\n",
       " 'won the',\n",
       " 'time any',\n",
       " 'new video',\n",
       " 'any network',\n",
       " 'mobile number',\n",
       " 'reply stop',\n",
       " 'and tell',\n",
       " 'bonus caller',\n",
       " 'price line',\n",
       " 'get txtin']"
      ]
     },
     "execution_count": 170,
     "metadata": {},
     "output_type": "execute_result"
    }
   ],
   "source": [
    "bigrams_to_add"
   ]
  },
  {
   "cell_type": "code",
   "execution_count": 273,
   "metadata": {},
   "outputs": [],
   "source": [
    "# Function to add bigrams explicitly to the review text\n",
    "def add_bigram_feature(review, bigrams):\n",
    "    review_lower    = review.lower()\n",
    "    modified_review = review_lower\n",
    "    \n",
    "    for bigram in bigrams:\n",
    "        bigram_underscore = bigram.replace(\" \", \":\")\n",
    "        if bigram in review_lower:\n",
    "            modified_review += f\" {bigram_underscore}\"\n",
    "    return modified_review"
   ]
  },
  {
   "cell_type": "code",
   "execution_count": 274,
   "metadata": {},
   "outputs": [],
   "source": [
    "# Apply the function to add bigrams as features\n",
    "sms['modified_review'] = sms['message'].apply(add_bigram_feature, bigrams=bigrams_to_add)"
   ]
  },
  {
   "cell_type": "code",
   "execution_count": 275,
   "metadata": {},
   "outputs": [],
   "source": [
    "pd.set_option('display.max_columns', None)\n",
    "pd.set_option('display.max_colwidth', 400) \n",
    "pd.set_option('display.width', None)  "
   ]
  },
  {
   "cell_type": "code",
   "execution_count": 279,
   "metadata": {},
   "outputs": [
    {
     "data": {
      "text/html": [
       "<div>\n",
       "<style scoped>\n",
       "    .dataframe tbody tr th:only-of-type {\n",
       "        vertical-align: middle;\n",
       "    }\n",
       "\n",
       "    .dataframe tbody tr th {\n",
       "        vertical-align: top;\n",
       "    }\n",
       "\n",
       "    .dataframe thead th {\n",
       "        text-align: right;\n",
       "    }\n",
       "</style>\n",
       "<table border=\"1\" class=\"dataframe\">\n",
       "  <thead>\n",
       "    <tr style=\"text-align: right;\">\n",
       "      <th></th>\n",
       "      <th>label</th>\n",
       "      <th>message</th>\n",
       "      <th>label_num</th>\n",
       "      <th>modified_review</th>\n",
       "    </tr>\n",
       "  </thead>\n",
       "  <tbody>\n",
       "    <tr>\n",
       "      <th>1768</th>\n",
       "      <td>ham</td>\n",
       "      <td>K, want us to come by now?</td>\n",
       "      <td>0</td>\n",
       "      <td>k, want us to come by now?</td>\n",
       "    </tr>\n",
       "    <tr>\n",
       "      <th>3085</th>\n",
       "      <td>ham</td>\n",
       "      <td>Ok lor. I ned 2 go toa payoh 4 a while 2 return smth u wan 2 send me there or wat?</td>\n",
       "      <td>0</td>\n",
       "      <td>ok lor. i ned 2 go toa payoh 4 a while 2 return smth u wan 2 send me there or wat?</td>\n",
       "    </tr>\n",
       "    <tr>\n",
       "      <th>3360</th>\n",
       "      <td>spam</td>\n",
       "      <td>Sorry I missed your call let's talk when you have the time. I'm on 07090201529</td>\n",
       "      <td>1</td>\n",
       "      <td>sorry i missed your call let's talk when you have the time. i'm on 07090201529 you:hav you:have</td>\n",
       "    </tr>\n",
       "    <tr>\n",
       "      <th>3255</th>\n",
       "      <td>ham</td>\n",
       "      <td>I can make lasagna for you... vodka...</td>\n",
       "      <td>0</td>\n",
       "      <td>i can make lasagna for you... vodka... for:you</td>\n",
       "    </tr>\n",
       "    <tr>\n",
       "      <th>4379</th>\n",
       "      <td>ham</td>\n",
       "      <td>Doing nothing, then u not having dinner w us?</td>\n",
       "      <td>0</td>\n",
       "      <td>doing nothing, then u not having dinner w us?</td>\n",
       "    </tr>\n",
       "  </tbody>\n",
       "</table>\n",
       "</div>"
      ],
      "text/plain": [
       "     label  \\\n",
       "1768   ham   \n",
       "3085   ham   \n",
       "3360  spam   \n",
       "3255   ham   \n",
       "4379   ham   \n",
       "\n",
       "                                                                                 message  \\\n",
       "1768                                                          K, want us to come by now?   \n",
       "3085  Ok lor. I ned 2 go toa payoh 4 a while 2 return smth u wan 2 send me there or wat?   \n",
       "3360      Sorry I missed your call let's talk when you have the time. I'm on 07090201529   \n",
       "3255                                              I can make lasagna for you... vodka...   \n",
       "4379                                       Doing nothing, then u not having dinner w us?   \n",
       "\n",
       "      label_num  \\\n",
       "1768          0   \n",
       "3085          0   \n",
       "3360          1   \n",
       "3255          0   \n",
       "4379          0   \n",
       "\n",
       "                                                                                      modified_review  \n",
       "1768                                                                       k, want us to come by now?  \n",
       "3085               ok lor. i ned 2 go toa payoh 4 a while 2 return smth u wan 2 send me there or wat?  \n",
       "3360  sorry i missed your call let's talk when you have the time. i'm on 07090201529 you:hav you:have  \n",
       "3255                                                   i can make lasagna for you... vodka... for:you  \n",
       "4379                                                    doing nothing, then u not having dinner w us?  "
      ]
     },
     "execution_count": 279,
     "metadata": {},
     "output_type": "execute_result"
    }
   ],
   "source": [
    "sms.sample(5)"
   ]
  },
  {
   "cell_type": "markdown",
   "metadata": {},
   "source": [
    "#### Build NB with the new data"
   ]
  },
  {
   "cell_type": "code",
   "execution_count": 280,
   "metadata": {},
   "outputs": [],
   "source": [
    "vect = CountVectorizer(\n",
    "                       stop_words    = stoplist_combined, \n",
    "                       token_pattern = '(?u)\\\\b[a-zA-Z:]{3,}\\\\b',\n",
    "                       ngram_range   = (1, 1)\n",
    ")"
   ]
  },
  {
   "cell_type": "code",
   "execution_count": 281,
   "metadata": {},
   "outputs": [],
   "source": [
    "X = sms.modified_review\n",
    "y = sms.label_num"
   ]
  },
  {
   "cell_type": "code",
   "execution_count": 282,
   "metadata": {},
   "outputs": [],
   "source": [
    "# split X and y into training ans testing sets\n",
    "X_train, X_test, y_train, y_test = train_test_split(X, y, test_size=0.25, random_state=1) "
   ]
  },
  {
   "cell_type": "code",
   "execution_count": 283,
   "metadata": {},
   "outputs": [
    {
     "data": {
      "text/plain": [
       "((4179,), (1393,))"
      ]
     },
     "execution_count": 283,
     "metadata": {},
     "output_type": "execute_result"
    }
   ],
   "source": [
    "X_train.shape, X_test.shape"
   ]
  },
  {
   "cell_type": "code",
   "execution_count": 284,
   "metadata": {},
   "outputs": [
    {
     "name": "stderr",
     "output_type": "stream",
     "text": [
      "D:\\Anaconda-16-FEB\\lib\\site-packages\\sklearn\\feature_extraction\\text.py:396: UserWarning: Your stop_words may be inconsistent with your preprocessing. Tokenizing the stop words generated tokens ['mon'] not in stop_words.\n",
      "  warnings.warn(\n"
     ]
    }
   ],
   "source": [
    "vect.fit(X_train)\n",
    "feature_names = vect.get_feature_names_out()"
   ]
  },
  {
   "cell_type": "code",
   "execution_count": 285,
   "metadata": {},
   "outputs": [
    {
     "data": {
      "text/plain": [
       "array(['aah', 'aaniye', 'aaooooright', 'aathi', 'abbey', 'abdomen', 'abeg', 'abel', 'aberdeen', 'abi', ..., 'zealand', 'zebra', 'zed',\n",
       "       'zeros', 'zhong', 'zindgi', 'zoe', 'zoom', 'zouk', 'zyada'], dtype=object)"
      ]
     },
     "execution_count": 285,
     "metadata": {},
     "output_type": "execute_result"
    }
   ],
   "source": [
    "feature_names"
   ]
  },
  {
   "cell_type": "code",
   "execution_count": 286,
   "metadata": {},
   "outputs": [],
   "source": [
    "X_train_dtm = vect.transform(X_train) # create the document-term matrix"
   ]
  },
  {
   "cell_type": "code",
   "execution_count": 287,
   "metadata": {},
   "outputs": [
    {
     "data": {
      "text/plain": [
       "(4179, 6048)"
      ]
     },
     "execution_count": 287,
     "metadata": {},
     "output_type": "execute_result"
    }
   ],
   "source": [
    "X_train_dtm.shape"
   ]
  },
  {
   "cell_type": "code",
   "execution_count": 288,
   "metadata": {},
   "outputs": [],
   "source": [
    "X_test_dtm = vect.transform(X_test)"
   ]
  },
  {
   "cell_type": "code",
   "execution_count": 289,
   "metadata": {},
   "outputs": [
    {
     "data": {
      "text/plain": [
       "MultinomialNB()"
      ]
     },
     "execution_count": 289,
     "metadata": {},
     "output_type": "execute_result"
    }
   ],
   "source": [
    "nb = MultinomialNB()\n",
    "nb.fit(X_train_dtm, y_train)"
   ]
  },
  {
   "cell_type": "code",
   "execution_count": 290,
   "metadata": {},
   "outputs": [
    {
     "name": "stdout",
     "output_type": "stream",
     "text": [
      "Accuracy :  0.9791816223977028\n"
     ]
    }
   ],
   "source": [
    "y_pred_class = nb.predict(X_test_dtm)\n",
    "\n",
    "print('Accuracy : ', accuracy_score(y_test, y_pred_class))"
   ]
  },
  {
   "cell_type": "markdown",
   "metadata": {},
   "source": [
    "#### handling contractions and expansions "
   ]
  },
  {
   "cell_type": "code",
   "execution_count": 378,
   "metadata": {},
   "outputs": [
    {
     "name": "stdout",
     "output_type": "stream",
     "text": [
      "Requirement already satisfied: contractions in d:\\anaconda-16-feb\\lib\\site-packages (0.1.73)Note: you may need to restart the kernel to use updated packages.\n",
      "\n",
      "Requirement already satisfied: textsearch>=0.0.21 in d:\\anaconda-16-feb\\lib\\site-packages (from contractions) (0.0.24)\n",
      "Requirement already satisfied: anyascii in d:\\anaconda-16-feb\\lib\\site-packages (from textsearch>=0.0.21->contractions) (0.3.2)\n",
      "Requirement already satisfied: pyahocorasick in d:\\anaconda-16-feb\\lib\\site-packages (from textsearch>=0.0.21->contractions) (2.1.0)\n"
     ]
    },
    {
     "name": "stderr",
     "output_type": "stream",
     "text": [
      "WARNING: Ignoring invalid distribution -rotobuf (c:\\users\\bhupe\\appdata\\roaming\\python\\python39\\site-packages)\n",
      "WARNING: Ignoring invalid distribution -treamlit (d:\\anaconda-16-feb\\lib\\site-packages)\n",
      "WARNING: Ignoring invalid distribution - (d:\\anaconda-16-feb\\lib\\site-packages)\n",
      "WARNING: Ignoring invalid distribution -rotobuf (c:\\users\\bhupe\\appdata\\roaming\\python\\python39\\site-packages)\n",
      "WARNING: Ignoring invalid distribution -treamlit (d:\\anaconda-16-feb\\lib\\site-packages)\n",
      "WARNING: Ignoring invalid distribution - (d:\\anaconda-16-feb\\lib\\site-packages)\n",
      "WARNING: Ignoring invalid distribution -rotobuf (c:\\users\\bhupe\\appdata\\roaming\\python\\python39\\site-packages)\n",
      "WARNING: Ignoring invalid distribution -treamlit (d:\\anaconda-16-feb\\lib\\site-packages)\n",
      "WARNING: Ignoring invalid distribution - (d:\\anaconda-16-feb\\lib\\site-packages)\n",
      "WARNING: Ignoring invalid distribution -rotobuf (c:\\users\\bhupe\\appdata\\roaming\\python\\python39\\site-packages)\n",
      "WARNING: Ignoring invalid distribution -treamlit (d:\\anaconda-16-feb\\lib\\site-packages)\n",
      "WARNING: Ignoring invalid distribution - (d:\\anaconda-16-feb\\lib\\site-packages)\n",
      "WARNING: Ignoring invalid distribution -rotobuf (c:\\users\\bhupe\\appdata\\roaming\\python\\python39\\site-packages)\n",
      "WARNING: Ignoring invalid distribution -treamlit (d:\\anaconda-16-feb\\lib\\site-packages)\n",
      "WARNING: Ignoring invalid distribution - (d:\\anaconda-16-feb\\lib\\site-packages)\n",
      "WARNING: Ignoring invalid distribution -rotobuf (c:\\users\\bhupe\\appdata\\roaming\\python\\python39\\site-packages)\n",
      "WARNING: Ignoring invalid distribution -treamlit (d:\\anaconda-16-feb\\lib\\site-packages)\n",
      "WARNING: Ignoring invalid distribution - (d:\\anaconda-16-feb\\lib\\site-packages)\n"
     ]
    }
   ],
   "source": [
    "pip install contractions"
   ]
  },
  {
   "cell_type": "code",
   "execution_count": 387,
   "metadata": {},
   "outputs": [
    {
     "name": "stdout",
     "output_type": "stream",
     "text": [
      "I have not  the code\n"
     ]
    }
   ],
   "source": [
    "import contractions\n",
    "\n",
    "text = \"I haven't  the code\"\n",
    "expanded_text = contractions.fix(text)\n",
    "\n",
    "print(expanded_text)"
   ]
  },
  {
   "cell_type": "code",
   "execution_count": 382,
   "metadata": {},
   "outputs": [
    {
     "name": "stdout",
     "output_type": "stream",
     "text": [
      "Original Text:\n",
      "I can't believe it's already 2024! We're going to have so much fun.\n",
      "\n",
      "Expanded Text:\n",
      "I cannot believe it is already 2024! We are going to have so much fun.\n"
     ]
    }
   ],
   "source": [
    "# Function to expand contractions in a text\n",
    "def expand_contractions(text):\n",
    "    return contractions.fix(text)\n",
    "\n",
    "# Sample text with contractions\n",
    "sample_text = \"I can't believe it's already 2024! We're going to have so much fun.\"\n",
    "\n",
    "# Expanding contractions\n",
    "expanded_text = expand_contractions(sample_text)\n",
    "\n",
    "print(\"Original Text:\")\n",
    "print(sample_text)\n",
    "print(\"\\nExpanded Text:\")\n",
    "print(expanded_text)"
   ]
  },
  {
   "cell_type": "code",
   "execution_count": null,
   "metadata": {},
   "outputs": [],
   "source": []
  }
 ],
 "metadata": {
  "kernelspec": {
   "display_name": "Python 3 (ipykernel)",
   "language": "python",
   "name": "python3"
  },
  "language_info": {
   "codemirror_mode": {
    "name": "ipython",
    "version": 3
   },
   "file_extension": ".py",
   "mimetype": "text/x-python",
   "name": "python",
   "nbconvert_exporter": "python",
   "pygments_lexer": "ipython3",
   "version": "3.9.13"
  }
 },
 "nbformat": 4,
 "nbformat_minor": 4
}
