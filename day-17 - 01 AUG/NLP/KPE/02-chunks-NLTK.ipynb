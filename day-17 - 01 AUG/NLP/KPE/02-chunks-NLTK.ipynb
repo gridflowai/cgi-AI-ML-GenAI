{
 "cells": [
  {
   "cell_type": "code",
   "execution_count": 2,
   "metadata": {},
   "outputs": [],
   "source": [
    "from IPython.display import Image"
   ]
  },
  {
   "cell_type": "markdown",
   "metadata": {},
   "source": [
    "------------------------------\n",
    "#### What is Chunking & Chinking (UnChunking) in NLP?\n",
    "-------------------------------\n",
    "\n",
    "- tokenize text to words\n",
    "- words to POS\n",
    "\n",
    "- But just doing this `does not give us enough meaningful information` about the sentence. \n",
    "\n",
    "    - E.g. Instead of just simple tokens which may not represent the actual meaning of the text, its advisable to use phrases such as `New Delhi` as a single word instead of `New` and `Delhi` separate words.\n",
    "\n",
    "- `Chunking` can help us here\n",
    "    - is a process of breaking down a text into phrases such as \n",
    "        - Noun Phrases, \n",
    "        - Verb Phrases, \n",
    "        - Adjective Phrases, \n",
    "        - Adverb phrases, and \n",
    "        - Preposition Phrases.\n",
    "\n",
    "- Chunks are made up of words and the kinds of words are defined using the part-of-speech tags. \n",
    "\n",
    "    - Chunking works on top of POS tagging, it uses pos-tags as input and provides chunks as output. \n",
    "\n",
    "- Similar to POS tags, there are a standard set of `Chunk tags` like `Noun Phrase` (NP), `Verb Phrase` (VP), etc. "
   ]
  },
  {
   "cell_type": "code",
   "execution_count": 3,
   "metadata": {},
   "outputs": [
    {
     "data": {
      "image/png": "[encoded data removed]",
      "text/plain": [
       "<IPython.core.display.Image object>"
      ]
     },
     "execution_count": 3,
     "metadata": {
      "image/png": {
       "width": 600
      }
     },
     "output_type": "execute_result"
    }
   ],
   "source": [
    "Image(r'D:\\MYLEARN\\2-ANALYTICS-DataScience\\icons-images\\nlp-chunk-00.PNG', width=600)"
   ]
  },
  {
   "cell_type": "markdown",
   "metadata": {},
   "source": [
    "Source ... https://www.nltk.org/book/ch07.html \n",
    "\n",
    "- `Segmentation` and `Labeling` at both the `Token` and `Chunk` Levels\n",
    "\n",
    "- The smaller boxes show the `word-level` tokenization and part-of-speech tagging, \n",
    "- while the large boxes show `higher-level chunking`. \n",
    "\n",
    "- Each of these `larger boxes` is called a `chunk`. \n",
    "\n",
    "- Like tokenization, which omits whitespace, chunking usually selects a subset of the tokens. \n",
    "- Also like tokenization, the `pieces` produced by a chunker `do not overlap` in the source text."
   ]
  },
  {
   "cell_type": "markdown",
   "metadata": {},
   "source": [
    "There are 5 major categories of phrases:\n",
    "\n",
    "| Type of phrase| Description |\n",
    "| --------------| ----------- |\n",
    "| Noun phrase (NP) | These are phrases where a noun acts as the head word. Noun phrases act as a subject or object to a verb.|\n",
    "| Verb phrase (VP) | These phrases are lexical units that have a verb acting as the head word. Usually, there are two forms of verb phrases. One form has the verb components as well as other entities such as nouns, adjectives, or adverbs as parts of the object.|\n",
    "| Adjective phrase (ADJP) | These are phrases with an adjective as the head word. Their main role is to describe or qualify nouns and pronouns in a sentence, and they will be either placed before or after the noun or pronoun.|\n",
    "| Adverb phrase (ADVP) | These phrases act like adverbs since the adverb acts as the head word in the phrase. Adverb phrases are used as modifiers for nouns, verbs, or adverbs themselves by providing further details that describe or qualify them.|\n",
    "| Prepositional phrase (PP) | These phrases usually contain a preposition as the head word and other lexical components like nouns, pronouns, and so on. These act like an adjective or adverb describing other words or phrases.|"
   ]
  },
  {
   "cell_type": "markdown",
   "metadata": {},
   "source": [
    "#### chinking\n",
    "\n",
    "- One can even define a pattern or words that can’t be a part of chunk and such words are known as __chinks__. \n",
    "\n",
    "- chinking is the process of `excluding`."
   ]
  },
  {
   "cell_type": "markdown",
   "metadata": {},
   "source": [
    "#### Noun Phrase Chunking or NP-chunking\n",
    "\n",
    "> \"the market for system-management software for digital's hardware is fragmented enough thata giant such as Computer Associates should do well there.\"\n",
    "\n",
    "- [ The/DT market/NN ] for/IN [ system-management/NN software/NN ] for/IN [ Digital/NNP ] [ 's/POS hardware/NN ] is/VBZ fragmented/JJ enough/RB that/IN [ a/DT giant/NN ] such/JJ as/IN [ Computer/NNP Associates/NNPS ] should/MD do/VB well/RB there/RB ./.\n",
    "\n",
    "- As we can see, `NP-chunks` are often `smaller` pieces than `complete noun phrases`. \n",
    "\n",
    "    - For example, `the market for system-management software for Digital's hardware` is a single noun phrase (containing two nested noun phrases), but it is captured in NP-chunks by the simpler chunk `the market`. \n",
    "    \n",
    "    - One of the motivations for this difference is that NP-chunks are defined so as not to contain other NP-chunks. \n",
    "    \n",
    "    - Consequently, any prepositional phrases or subordinate clauses that modify a nominal will not be included in the corresponding NP-chunk, since they almost certainly contain further noun phrases.\n",
    "\n",
    "- In order to create an NP-chunker, we will first define a `chunk grammar`, consisting of rules that indicate how sentences should be chunked. \n",
    "\n",
    "    - This rule says that an NP chunk should be formed whenever the chunker finds \n",
    "        - an optional determiner (`DT`) followed by any number of adjectives (`JJ`) and then a noun (`NN`). "
   ]
  },
  {
   "cell_type": "code",
   "execution_count": 4,
   "metadata": {},
   "outputs": [],
   "source": [
    "import nltk\n",
    "from nltk.tokenize import sent_tokenize, word_tokenize"
   ]
  },
  {
   "cell_type": "markdown",
   "metadata": {},
   "source": [
    "#### Defining Chunk patterns\n",
    "\n",
    "- `Chunk patterns` are normal `regular expressions` which are modified and designed to match the `part-of-speech` tag designed to match sequences of part-of-speech tags. \n",
    "\n",
    "- Angle brackets are used to specify an indiviual tag for example – to match a noun tag. One can define multiple tags in the same way."
   ]
  },
  {
   "cell_type": "code",
   "execution_count": 5,
   "metadata": {},
   "outputs": [
    {
     "name": "stdout",
     "output_type": "stream",
     "text": [
      "NN: noun, common, singular or mass\n",
      "    common-carrier cabbage knuckle-duster Casino afghan shed thermostat\n",
      "    investment slide humour falloff slick wind hyena override subhumanity\n",
      "    machinist ...\n"
     ]
    }
   ],
   "source": [
    "nltk.help.upenn_tagset(\"NN\")"
   ]
  },
  {
   "cell_type": "markdown",
   "metadata": {},
   "source": [
    "We will consider __Noun Phrase__ Chunking and we search for chunks corresponding to an individual noun phrase. \n",
    "\n",
    "In order to create __NP chunk__, we define the chunk grammar using POS tags. \n",
    "\n",
    "We will define this using a single regular expression rule.\n",
    "\n",
    "The rule states that whenever the chunk finds \n",
    "- an optional determiner (DT) followed by \n",
    "- any number of adjectives (JJ) and then \n",
    "- a noun (NN) then \n",
    "\n",
    "the Noun Phrase(NP) chunk should be formed."
   ]
  },
  {
   "cell_type": "code",
   "execution_count": 6,
   "metadata": {},
   "outputs": [],
   "source": [
    "# Step 1\n",
    "parser = nltk.chunk.RegexpParser('''\n",
    "                            NP: {<DT>? <JJ>* <NN>*} # NP\n",
    "                            P: {<IN>}               # Preposition\n",
    "                            V: {<V.*>}              # Verb\n",
    "                            PP: {<P> <NP>}          # PP -> P NP\n",
    "                            VP: {<V> <NP|PP>*}      # VP -> V (NP|PP)*\n",
    "                            ''')"
   ]
  },
  {
   "cell_type": "code",
   "execution_count": 7,
   "metadata": {},
   "outputs": [],
   "source": [
    "# example\n",
    "grammar = \"\"\"\n",
    "\tNP:   {<PRP>?<JJ.*>*<NN.*>+}\n",
    "\tCP:   {<JJR|JJS>}\n",
    "\tVERB: {<VB.*>}\n",
    "\tTHAN: {<IN>}\n",
    "\tCOMP: {<DT>?<NP><RB>?<VERB><DT>?<CP><THAN><DT>?<NP>}\n",
    "\t\"\"\""
   ]
  },
  {
   "cell_type": "code",
   "execution_count": 8,
   "metadata": {},
   "outputs": [],
   "source": [
    "# Step 2\n",
    "chunker = nltk.chunk.RegexpParser(grammar)"
   ]
  },
  {
   "cell_type": "markdown",
   "metadata": {},
   "source": [
    "#### Typical process of chunk extraction"
   ]
  },
  {
   "cell_type": "code",
   "execution_count": 9,
   "metadata": {},
   "outputs": [
    {
     "data": {
      "image/png": "[encoded data removed]",
      "text/plain": [
       "<IPython.core.display.Image object>"
      ]
     },
     "execution_count": 9,
     "metadata": {
      "image/png": {
       "width": 600
      }
     },
     "output_type": "execute_result"
    }
   ],
   "source": [
    "Image(r'D:\\MYLEARN\\2-ANALYTICS-DataScience\\icons-images\\IE-chunking-00.PNG', width=600)"
   ]
  },
  {
   "cell_type": "markdown",
   "metadata": {},
   "source": [
    "sample text"
   ]
  },
  {
   "cell_type": "code",
   "execution_count": 10,
   "metadata": {},
   "outputs": [],
   "source": [
    "text = \"the little yellow dog barked at the large silly cat\""
   ]
  },
  {
   "cell_type": "code",
   "execution_count": 11,
   "metadata": {},
   "outputs": [
    {
     "data": {
      "text/plain": [
       "['the little yellow dog barked at the large silly cat']"
      ]
     },
     "execution_count": 11,
     "metadata": {},
     "output_type": "execute_result"
    }
   ],
   "source": [
    "sentences = nltk.sent_tokenize(text) \n",
    "sentences"
   ]
  },
  {
   "cell_type": "code",
   "execution_count": 12,
   "metadata": {},
   "outputs": [
    {
     "data": {
      "text/plain": [
       "[['the',\n",
       "  'little',\n",
       "  'yellow',\n",
       "  'dog',\n",
       "  'barked',\n",
       "  'at',\n",
       "  'the',\n",
       "  'large',\n",
       "  'silly',\n",
       "  'cat']]"
      ]
     },
     "execution_count": 12,
     "metadata": {},
     "output_type": "execute_result"
    }
   ],
   "source": [
    "sent_tokens = [nltk.word_tokenize(sent) for sent in sentences]\n",
    "sent_tokens"
   ]
  },
  {
   "cell_type": "code",
   "execution_count": 13,
   "metadata": {},
   "outputs": [
    {
     "data": {
      "text/plain": [
       "[[('the', 'DT'),\n",
       "  ('little', 'JJ'),\n",
       "  ('yellow', 'JJ'),\n",
       "  ('dog', 'NN'),\n",
       "  ('barked', 'VBD'),\n",
       "  ('at', 'IN'),\n",
       "  ('the', 'DT'),\n",
       "  ('large', 'JJ'),\n",
       "  ('silly', 'JJ'),\n",
       "  ('cat', 'NN')]]"
      ]
     },
     "execution_count": 13,
     "metadata": {},
     "output_type": "execute_result"
    }
   ],
   "source": [
    "token_pos = [nltk.pos_tag(sent) for sent in sent_tokens]\n",
    "token_pos"
   ]
  },
  {
   "cell_type": "code",
   "execution_count": 14,
   "metadata": {},
   "outputs": [],
   "source": [
    "# Define your grammar using regular expressions\n",
    "grammar = ('''\n",
    "            Noun chunks ... : {<DT>?<JJ>*<NN.*>}               # NP\n",
    "            ''')"
   ]
  },
  {
   "cell_type": "code",
   "execution_count": 15,
   "metadata": {},
   "outputs": [
    {
     "name": "stdout",
     "output_type": "stream",
     "text": [
      "(S\n",
      "  (Noun chunks ... the/DT little/JJ yellow/JJ dog/NN)\n",
      "  barked/VBD\n",
      "  at/IN\n",
      "  (Noun chunks ... the/DT large/JJ silly/JJ cat/NN))\n"
     ]
    }
   ],
   "source": [
    "cp     = nltk.RegexpParser(grammar)\n",
    "result = cp.parse(token_pos[0])\n",
    "\n",
    "print (result)"
   ]
  },
  {
   "cell_type": "code",
   "execution_count": 16,
   "metadata": {},
   "outputs": [],
   "source": [
    "result.draw()"
   ]
  },
  {
   "cell_type": "markdown",
   "metadata": {},
   "source": [
    "another example ...extract `NOUN` or `VERB` chunks ..."
   ]
  },
  {
   "cell_type": "code",
   "execution_count": 17,
   "metadata": {},
   "outputs": [
    {
     "name": "stdout",
     "output_type": "stream",
     "text": [
      "(S\n",
      "  This/DT\n",
      "  will/MD\n",
      "  (Noun OR VERB chunks ... be/VB chunked/VBN)\n",
      "  ./.\n",
      "  This/DT\n",
      "  (Noun OR VERB chunks ... is/VBZ)\n",
      "  for/IN\n",
      "  (Noun OR VERB chunks ... Test/NNP)\n",
      "  ./.\n",
      "  (Noun OR VERB chunks ... World/NNP is/VBZ)\n",
      "  awesome/JJ\n",
      "  ./.\n",
      "  (Noun OR VERB chunks ... Hello/NNP world/NN)\n",
      "  ./.)\n"
     ]
    }
   ],
   "source": [
    "# POS tagging\n",
    "sent = \"This will be chunked. This is for Test. World is awesome. Hello world.\"\n",
    "\n",
    "#print(nltk.pos_tag(word_tokenize(sent)))\n",
    "\n",
    "# creating a regular expression for chunking verbs and nouns\n",
    "chunkRule = r\"\"\"Noun OR VERB chunks ... : {<NN.?>*<NNS.?>*<NNP.?>*<NNPS.?>*<VB.?>*<VBD.?>*<VBG.?>*<VBN.?>*<VBP.?>*<VBZ.?>*}\"\"\"\n",
    "\n",
    "My_parser = nltk.RegexpParser(chunkRule)\n",
    "chunked = My_parser.parse(nltk.pos_tag(word_tokenize(sent)))\n",
    "\n",
    "print(chunked)"
   ]
  },
  {
   "cell_type": "markdown",
   "metadata": {},
   "source": [
    "only extract `noun` chunks ..."
   ]
  },
  {
   "cell_type": "code",
   "execution_count": 19,
   "metadata": {},
   "outputs": [
    {
     "name": "stdout",
     "output_type": "stream",
     "text": [
      "(S\n",
      "  This/DT\n",
      "  will/MD\n",
      "  be/VB\n",
      "  chunked/VBN\n",
      "  ./.\n",
      "  This/DT\n",
      "  is/VBZ\n",
      "  for/IN\n",
      "  (Found chunk... Test/NNP)\n",
      "  ./.\n",
      "  (Found chunk... World/NNP)\n",
      "  is/VBZ\n",
      "  awesome/JJ\n",
      "  ./.\n",
      "  (Found chunk... Hello/NNP world/NN)\n",
      "  ./.)\n"
     ]
    }
   ],
   "source": [
    "# POS tagging\n",
    "sent = \"This will be chunked. This is for Test. World is awesome. Hello world.\"\n",
    "\n",
    "#print(nltk.pos_tag(word_tokenize(sent)))\n",
    "\n",
    "# creating a regular expression for chunking verbs and nouns\n",
    "chunkRule = r\"\"\"Found chunk... : {<NN.?>*<NNS.?>*<NNP.?>*<NNPS.?>*}\"\"\"\n",
    "\n",
    "My_parser = nltk.RegexpParser(chunkRule)\n",
    "chunked = My_parser.parse(nltk.pos_tag(word_tokenize(sent)))\n",
    "\n",
    "print(chunked)"
   ]
  },
  {
   "cell_type": "markdown",
   "metadata": {},
   "source": [
    "only extract `verb` chunks ... "
   ]
  },
  {
   "cell_type": "code",
   "execution_count": 20,
   "metadata": {},
   "outputs": [
    {
     "name": "stdout",
     "output_type": "stream",
     "text": [
      "(S\n",
      "  This/DT\n",
      "  will/MD\n",
      "  (VERB chunks ... be/VB chunked/VBN)\n",
      "  ./.\n",
      "  This/DT\n",
      "  (VERB chunks ... is/VBZ)\n",
      "  for/IN\n",
      "  Test/NNP\n",
      "  ./.\n",
      "  World/NNP\n",
      "  (VERB chunks ... is/VBZ)\n",
      "  awesome/JJ\n",
      "  ./.\n",
      "  Hello/NNP\n",
      "  world/NN\n",
      "  ./.)\n"
     ]
    }
   ],
   "source": [
    "# POS tagging\n",
    "sent = \"This will be chunked. This is for Test. World is awesome. Hello world.\"\n",
    "\n",
    "#print(nltk.pos_tag(word_tokenize(sent)))\n",
    "\n",
    "# creating a regular expression for chunking verbs and nouns\n",
    "chunkRule = r\"\"\"VERB chunks ... : {<VB.?>*<VBD.?>*<VBG.?>*<VBN.?>*<VBP.?>*<VBZ.?>*}\"\"\"\n",
    "\n",
    "My_parser = nltk.RegexpParser(chunkRule)\n",
    "chunked   = My_parser.parse(nltk.pos_tag(word_tokenize(sent)))\n",
    "\n",
    "print(chunked)"
   ]
  },
  {
   "cell_type": "code",
   "execution_count": 155,
   "metadata": {},
   "outputs": [],
   "source": [
    "# draw the tree\n",
    "chunked.draw()"
   ]
  },
  {
   "cell_type": "markdown",
   "metadata": {},
   "source": [
    "another example ... we will be chunking all the tags and excluding nouns."
   ]
  },
  {
   "cell_type": "code",
   "execution_count": 21,
   "metadata": {},
   "outputs": [
    {
     "name": "stdout",
     "output_type": "stream",
     "text": [
      "[('This', 'DT'), ('will', 'MD'), ('be', 'VB'), ('the', 'DT'), ('day', 'NN'), ('that', 'IN'), ('I', 'PRP'), ('will', 'MD'), ('chink', 'VB'), ('all', 'PDT'), ('the', 'DT'), ('nouns', 'NNS'), ('.', '.'), ('Everything', 'NN'), ('will', 'MD'), ('be', 'VB'), ('there', 'RB'), ('.', '.'), ('Except', 'IN'), ('nouns', 'NNS')]\n",
      "(S\n",
      "  (Chunk ... This/DT will/MD be/VB the/DT)\n",
      "  day/NN\n",
      "  (Chunk ... that/IN I/PRP will/MD chink/VB all/PDT the/DT)\n",
      "  nouns/NNS\n",
      "  (Chunk ... ./.)\n",
      "  Everything/NN\n",
      "  (Chunk ... will/MD be/VB there/RB ./. Except/IN)\n",
      "  nouns/NNS)\n"
     ]
    }
   ],
   "source": [
    "sent = \"This will be the day that I will chink all the nouns. Everything will be there. Except nouns\"\n",
    "\n",
    "print(nltk.pos_tag(word_tokenize(sent)))\n",
    "\n",
    "# first chunk everything and chink only nouns\n",
    "chunkRule = r\"\"\"Chunk ... : {<.*>+}\n",
    "                            }<NN.?|NNS|NNP|NNPS>+{\"\"\"\n",
    "\n",
    "MyParser = nltk.RegexpParser(chunkRule)\n",
    "chunked = MyParser.parse(nltk.pos_tag(word_tokenize(sent)))\n",
    "\n",
    "#chunked.draw()\n",
    "print(chunked)"
   ]
  },
  {
   "cell_type": "code",
   "execution_count": 22,
   "metadata": {},
   "outputs": [
    {
     "name": "stdout",
     "output_type": "stream",
     "text": [
      "[('Google', 'NN'), ('is', 'VBZ'), ('buying', 'VBG'), ('Microsoft', 'NNP')]\n",
      "(S Google/NN (Chunk ... is/VBZ buying/VBG) Microsoft/NNP)\n"
     ]
    }
   ],
   "source": [
    "sent = \"Google is buying Microsoft\"\n",
    "\n",
    "print(nltk.pos_tag(word_tokenize(sent)))\n",
    "\n",
    "# first chunk everything and chink only nouns\n",
    "chunkRule = r\"\"\"Chunk ... : {<.*>+}\n",
    "                            }<NN.?|NNS|NNP|NNPS>+{\"\"\"\n",
    "\n",
    "MyParser = nltk.RegexpParser(chunkRule)\n",
    "chunked = MyParser.parse(nltk.pos_tag(word_tokenize(sent)))\n",
    "\n",
    "#chunked.draw()\n",
    "print(chunked)"
   ]
  },
  {
   "cell_type": "markdown",
   "metadata": {},
   "source": [
    "Another example ..."
   ]
  },
  {
   "cell_type": "code",
   "execution_count": 24,
   "metadata": {},
   "outputs": [
    {
     "name": "stdout",
     "output_type": "stream",
     "text": [
      "(S\n",
      "  the/DT\n",
      "  little/JJ\n",
      "  yellow/JJ\n",
      "  dog/NN\n",
      "  barked/VBD\n",
      "  at/IN\n",
      "  the/DT\n",
      "  large/JJ\n",
      "  silly/JJ\n",
      "  cat/NN)\n"
     ]
    }
   ],
   "source": [
    "PATTERN = r\"\"\"\n",
    "            NP: {<NN><NN>+}\n",
    "                {<ADJ><NN>+}\n",
    "            \"\"\"\n",
    "\n",
    "cp = nltk.RegexpParser(PATTERN)\n",
    "print(cp.parse(token_pos[0]))"
   ]
  },
  {
   "cell_type": "markdown",
   "metadata": {},
   "source": [
    "another example .. with `chinking` or `UnChunk`"
   ]
  },
  {
   "cell_type": "code",
   "execution_count": 25,
   "metadata": {},
   "outputs": [],
   "source": [
    "from nltk.tree import Tree\n",
    "from nltk.chunk.regexp import ChunkString, ChunkRule, UnChunkRule"
   ]
  },
  {
   "cell_type": "code",
   "execution_count": 26,
   "metadata": {},
   "outputs": [
    {
     "name": "stdout",
     "output_type": "stream",
     "text": [
      "(S the/DT book/NN has/VBZ many/JJ chapters/NNS)\n",
      "Chunk String :   <DT>  <NN>  <VBZ>  <JJ>  <NNS> \n",
      "Applied ChunkRule :  {<DT>  <NN>} <VBZ>  <JJ>  <NNS> \n",
      "Applied UnChunkRule :  {<DT>  <NN>} <VBZ>  <JJ>  <NNS> \n"
     ]
    }
   ],
   "source": [
    "text      = \"the book has many chapters\"\n",
    "\n",
    "sentences   = nltk.sent_tokenize(text) \n",
    "sent_tokens = [nltk.word_tokenize(sent) for sent in sentences]\n",
    "token_pos   = [nltk.pos_tag(sent) for sent in sent_tokens]\n",
    "\n",
    "tree = Tree('S', token_pos[0])\n",
    "\n",
    "print(tree)\n",
    "\n",
    "# Initializing ChunkString()\n",
    "chunk_string = ChunkString(tree)\n",
    "print (\"Chunk String : \", chunk_string)\n",
    "\n",
    "# Initializing ChunkRule\n",
    "#chunk_rule = ChunkRule('<DT><NN.*><.*>*<NN.*>', 'chunk determiners and nouns')\n",
    "chunk_rule = ChunkRule('<DT>?<JJ>*<NN>', 'chunk determiners and nouns')\n",
    "chunk_rule.apply(chunk_string)\n",
    "print (\"Applied ChunkRule : \", chunk_string)\n",
    "\n",
    "# Another ChinkRule\n",
    "unchunk_rule = UnChunkRule('<VB.*>', 'chink verbs')\n",
    "unchunk_rule.apply(chunk_string)\n",
    "print (\"Applied UnChunkRule : \", chunk_string)\n",
    "\n",
    "# print (\"Applied ChinkRule : \", chunk_string, \"\\n\")\n",
    "# # Back to chunk sub-tree\n",
    "# print(chunk_string.to_chunkstruct())"
   ]
  },
  {
   "cell_type": "markdown",
   "metadata": {},
   "source": [
    "#### Example - simple chunk grammar consisting of 2 rules. \n",
    "\n",
    "- The first rule matches an optional determiner or possessive pronoun, zero or more adjectives, then a noun. \n",
    "- The second rule matches one or more proper nouns. "
   ]
  },
  {
   "cell_type": "code",
   "execution_count": 27,
   "metadata": {},
   "outputs": [
    {
     "name": "stdout",
     "output_type": "stream",
     "text": [
      "(S\n",
      "  (NP Rapunzel/NNP)\n",
      "  let/VBD\n",
      "  down/RP\n",
      "  (NP her/PP$ long/JJ golden/JJ hair/NN))\n"
     ]
    }
   ],
   "source": [
    "grammar = r\"\"\"\n",
    "          NP: {<DT|PP\\$>?<JJ>*<NN>}   # chunk determiner/possessive, adjectives and nouns\n",
    "              {<NNP>+}                # chunk sequences of proper nouns\n",
    "        \"\"\"\n",
    "cp = nltk.RegexpParser(grammar)\n",
    "\n",
    "sentence = [(\"Rapunzel\", \"NNP\"), (\"let\", \"VBD\"), (\"down\", \"RP\"), \n",
    "            (\"her\", \"PP$\"), (\"long\", \"JJ\"), (\"golden\", \"JJ\"), (\"hair\", \"NN\")]\n",
    "\n",
    "print (cp.parse(sentence))"
   ]
  },
  {
   "cell_type": "markdown",
   "metadata": {},
   "source": [
    "#### Example\n",
    "\n",
    "If a tag pattern matches at overlapping locations, the leftmost match takes precedence. For example, if we apply a rule that matches two consecutive nouns to a text containing three consecutive nouns, then only the first two nouns will be chunked:"
   ]
  },
  {
   "cell_type": "code",
   "execution_count": 28,
   "metadata": {},
   "outputs": [
    {
     "name": "stdout",
     "output_type": "stream",
     "text": [
      "(S (NP money/NN market/NN) fund/NN)\n"
     ]
    }
   ],
   "source": [
    "nouns   = [(\"money\", \"NN\"), (\"market\", \"NN\"), (\"fund\", \"NN\")]\n",
    "grammar = \"NP: {<NN><NN>}  # Chunk two consecutive nouns\"\n",
    "\n",
    "cp = nltk.RegexpParser(grammar)\n",
    "print (cp.parse(nouns))"
   ]
  },
  {
   "cell_type": "code",
   "execution_count": 29,
   "metadata": {},
   "outputs": [
    {
     "name": "stdout",
     "output_type": "stream",
     "text": [
      "(S (NP money/NN market/NN fund/NN))\n"
     ]
    }
   ],
   "source": [
    "nouns   = [(\"money\", \"NN\"), (\"market\", \"NN\"), (\"fund\", \"NN\")]\n",
    "grammar = \"NP: {<NN>+}  # All nouns\"\n",
    "\n",
    "cp = nltk.RegexpParser(grammar)\n",
    "\n",
    "print (cp.parse(nouns))"
   ]
  },
  {
   "cell_type": "markdown",
   "metadata": {},
   "source": [
    "#### 2. Using chunk patterns"
   ]
  },
  {
   "cell_type": "code",
   "execution_count": 30,
   "metadata": {},
   "outputs": [
    {
     "name": "stdout",
     "output_type": "stream",
     "text": [
      "(S\n",
      "  This/DT\n",
      "  will/MD\n",
      "  (chunk be/VB chunked/VBN)\n",
      "  ./.\n",
      "  This/DT\n",
      "  (chunk is/VBZ)\n",
      "  for/IN\n",
      "  (chunk Test/NNP)\n",
      "  ./.\n",
      "  (chunk World/NNP is/VBZ)\n",
      "  awesome/JJ\n",
      "  ./.\n",
      "  (chunk Hello/NNP world/NN)\n",
      "  ./.)\n"
     ]
    }
   ],
   "source": [
    "# POS tagging\n",
    "sent = \"This will be chunked. This is for Test. World is awesome. Hello world.\"\n",
    "\n",
    "# creating a regular expression for chunking verbs and nouns\n",
    "chunkRule = r\"\"\"chunk: {<NN.?>*<NNS.?>*<NNP.?>*<NNPS.?>*<VB.?>*<VBD.?>*<VBG.?>*<VBN.?>*<VBP.?>*<VBZ.?>*}\"\"\"\n",
    "\n",
    "My_parser = nltk.RegexpParser(chunkRule)\n",
    "chunked   = My_parser.parse(nltk.pos_tag(word_tokenize(sent)))\n",
    "\n",
    "print(chunked)"
   ]
  },
  {
   "cell_type": "code",
   "execution_count": 74,
   "metadata": {},
   "outputs": [],
   "source": [
    "# draw the tree\n",
    "chunked.draw()"
   ]
  },
  {
   "cell_type": "markdown",
   "metadata": {},
   "source": [
    "#### Ex"
   ]
  },
  {
   "cell_type": "code",
   "execution_count": 31,
   "metadata": {},
   "outputs": [],
   "source": [
    "from nltk.chunk import *\n",
    "from nltk.chunk.util import *\n",
    "from nltk.chunk.regexp import *\n",
    "from nltk import Tree"
   ]
  },
  {
   "cell_type": "code",
   "execution_count": 32,
   "metadata": {},
   "outputs": [],
   "source": [
    "from nltk import Tree"
   ]
  },
  {
   "cell_type": "code",
   "execution_count": 33,
   "metadata": {},
   "outputs": [],
   "source": [
    "tagged_text = \"[ The/DT cat/NN ] sat/VBD on/IN [ the/DT mat/NN ] [ the/DT dog/NN ] chewed/VBD ./.\""
   ]
  },
  {
   "cell_type": "code",
   "execution_count": 34,
   "metadata": {},
   "outputs": [],
   "source": [
    "gold_chunked_text = tagstr2tree(tagged_text)"
   ]
  },
  {
   "cell_type": "code",
   "execution_count": 35,
   "metadata": {},
   "outputs": [
    {
     "name": "stdout",
     "output_type": "stream",
     "text": [
      "(S\n",
      "  (NP The/DT cat/NN)\n",
      "  sat/VBD\n",
      "  on/IN\n",
      "  (NP the/DT mat/NN)\n",
      "  (NP the/DT dog/NN)\n",
      "  chewed/VBD\n",
      "  ./.)\n"
     ]
    }
   ],
   "source": [
    "print(gold_chunked_text)"
   ]
  },
  {
   "cell_type": "markdown",
   "metadata": {},
   "source": [
    "#### using NLTK ne_chunks"
   ]
  },
  {
   "cell_type": "code",
   "execution_count": 36,
   "metadata": {},
   "outputs": [],
   "source": [
    "from nltk import ne_chunk, pos_tag, word_tokenize\n",
    "from nltk.tree import Tree"
   ]
  },
  {
   "cell_type": "code",
   "execution_count": 37,
   "metadata": {},
   "outputs": [],
   "source": [
    "def get_continuous_chunks(text):\n",
    "    chunked          = ne_chunk(pos_tag(word_tokenize(text)))\n",
    "    \n",
    "    continuous_chunk = []\n",
    "    current_chunk    = []\n",
    "    \n",
    "    for i in chunked:\n",
    "        if type(i) == Tree:\n",
    "            current_chunk.append(\" \".join([token for token, pos in i.leaves()]))\n",
    "        if current_chunk:\n",
    "            named_entity = \" \".join(current_chunk)\n",
    "        if named_entity not in continuous_chunk:\n",
    "            continuous_chunk.append(named_entity)\n",
    "            current_chunk = []\n",
    "        else:\n",
    "            continue\n",
    "            \n",
    "    return continuous_chunk"
   ]
  },
  {
   "cell_type": "code",
   "execution_count": 38,
   "metadata": {},
   "outputs": [],
   "source": [
    "my_sent = '''WASHINGTON -- In the wake of a string of abuses by New York police officers in the 1990s, \\\n",
    "            Loretta E. Lynch, the top federal prosecutor in Brooklyn, spoke forcefully about the pain \\ \n",
    "            of a broken trust that African-Americans felt and said the responsibility for repairing \\ \n",
    "            generations of miscommunication and mistrust fell to law enforcement.'''"
   ]
  },
  {
   "cell_type": "code",
   "execution_count": 39,
   "metadata": {},
   "outputs": [],
   "source": [
    "text = '''Coronavirus disease (COVID-19) is an infectious disease caused by a newly discovered coronavirus.\n",
    "Most people infected with the COVID-19 virus will experience mild to moderate respiratory illness and recover \n",
    "without requiring special treatment.  Older people, and those with underlying medical problems like cardiovascular \n",
    "disease, diabetes, chronic respiratory disease, and cancer are more likely to develop serious illness.\n",
    "The best way to prevent and slow down transmission is be well informed about the COVID-19 virus, the disease \n",
    "it causes and how it spreads. Protect yourself and others from infection by washing your hands or using an \n",
    "alcohol based rub frequently and not touching your face. \n",
    "The COVID-19 virus spreads primarily through droplets of saliva or discharge from the nose when an infected \n",
    "person coughs or sneezes, so it’s important that you also practice respiratory etiquette (for example, by coughing \n",
    "into a flexed elbow).\n",
    "At this time, there are no specific vaccines or treatments for COVID-19. However, there are many ongoing clinical \n",
    "trials evaluating potential treatments. WHO will continue to provide updated information as soon as clinical \n",
    "findings become available.'''"
   ]
  },
  {
   "cell_type": "code",
   "execution_count": 40,
   "metadata": {},
   "outputs": [
    {
     "data": {
      "text/plain": [
       "['Coronavirus']"
      ]
     },
     "execution_count": 40,
     "metadata": {},
     "output_type": "execute_result"
    }
   ],
   "source": [
    "get_continuous_chunks(text)"
   ]
  },
  {
   "cell_type": "code",
   "execution_count": 41,
   "metadata": {},
   "outputs": [
    {
     "data": {
      "text/plain": [
       "['WASHINGTON', 'New York', 'Loretta E. Lynch', 'Brooklyn']"
      ]
     },
     "execution_count": 41,
     "metadata": {},
     "output_type": "execute_result"
    }
   ],
   "source": [
    "get_continuous_chunks(my_sent)"
   ]
  },
  {
   "cell_type": "markdown",
   "metadata": {},
   "source": [
    "#### using text blob"
   ]
  },
  {
   "cell_type": "code",
   "execution_count": 42,
   "metadata": {},
   "outputs": [],
   "source": [
    "from textblob import TextBlob"
   ]
  },
  {
   "cell_type": "code",
   "execution_count": 43,
   "metadata": {},
   "outputs": [
    {
     "name": "stdout",
     "output_type": "stream",
     "text": [
      "Wall time: 4.52 s\n"
     ]
    },
    {
     "data": {
      "text/plain": [
       "WordList(['coronavirus', 'covid-19', 'infectious disease', 'covid-19', 'experience mild', 'moderate respiratory illness', 'special treatment', 'older', 'medical problems', 'cardiovascular disease', 'chronic respiratory disease', 'serious illness', 'covid-19', 'protect', 'covid-19', 'person coughs', '’ s', 'practice respiratory etiquette', 'specific vaccines', 'covid-19', 'clinical trials', 'potential treatments', 'who', 'clinical findings'])"
      ]
     },
     "execution_count": 43,
     "metadata": {},
     "output_type": "execute_result"
    }
   ],
   "source": [
    "%%time\n",
    "blob = TextBlob(text)\n",
    "blob.noun_phrases"
   ]
  },
  {
   "cell_type": "markdown",
   "metadata": {},
   "source": [
    "#### Ex - same example using nltk pos"
   ]
  },
  {
   "cell_type": "code",
   "execution_count": 44,
   "metadata": {},
   "outputs": [],
   "source": [
    "# function to test if something is a noun\n",
    "is_noun = lambda pos: pos[:2] == 'NN'"
   ]
  },
  {
   "cell_type": "code",
   "execution_count": 45,
   "metadata": {},
   "outputs": [
    {
     "name": "stdout",
     "output_type": "stream",
     "text": [
      "['Coronavirus', 'disease', 'COVID-19', 'disease', 'coronavirus', 'people', 'COVID-19', 'virus', 'mild', 'respiratory', 'illness', 'treatment', 'people', 'problems', 'disease', 'respiratory', 'disease', 'cancer', 'illness', 'way', 'transmission', 'COVID-19', 'virus', 'disease', 'others', 'infection', 'hands', 'alcohol', 'rub', 'face', 'virus', 'spreads', 'droplets', 'saliva', 'discharge', 'nose', 'person', 'coughs', 'sneezes', 'practice', 'respiratory', 'etiquette', 'example', 'elbow', 'time', 'vaccines', 'treatments', 'COVID-19', 'trials', 'treatments', 'information', 'findings']\n",
      "Wall time: 18 ms\n"
     ]
    }
   ],
   "source": [
    "%%time\n",
    "tokenized = nltk.word_tokenize(text)\n",
    "nouns = [word for (word, pos) in nltk.pos_tag(tokenized) if is_noun(pos)] \n",
    "\n",
    "print (nouns)"
   ]
  },
  {
   "cell_type": "markdown",
   "metadata": {},
   "source": [
    "## Chinking\n",
    "\n",
    "Sometimes it is easier to define what we want to exclude from a chunk. We can define a chink to be a sequence of tokens that is not included in a chunk. In the following example, __barked/VBD at/IN__ is a chink:\n",
    "\n",
    "__[ the/DT little/JJ yellow/JJ dog/NN ] barked/VBD at/IN [ the/DT cat/NN ]__\n",
    "\n",
    "Chinking is the process of removing a sequence of tokens from a chunk. If the matching sequence of tokens spans an entire chunk, then the whole chunk is removed; if the sequence of tokens appears in the middle of the chunk, these tokens are removed, leaving two chunks where there was only one before. If the sequence is at the periphery of the chunk, these tokens are removed, and a smaller chunk remains. \n",
    "\n",
    "|                | Entire chunk           | Middle of a chunk        |End of a chunk            |\n",
    "|----------------|----------------        |------------------------  |------------------------  |\n",
    "|Input\t         |[a/DT little/JJ dog/NN] |[a/DT little/JJ dog/NN]   |[a/DT little/JJ dog/NN]   |\n",
    "|Operation       |Chink \"DT JJ NN\"        |Chink \"JJ\"                |Chink \"NN\"                |\n",
    "|Pattern\t     |}DT JJ NN{              |\t}JJ{                     |\t}NN{                    |\n",
    "|Output\t         |a/DT little/JJ dog/NN   |\t[a/DT] little/JJ [dog/NN]|\t[a/DT little/JJ] dog/NN |"
   ]
  },
  {
   "cell_type": "code",
   "execution_count": 95,
   "metadata": {},
   "outputs": [],
   "source": [
    "grammar = r\"\"\"\n",
    "  NP:\n",
    "    {<.*>+}          # Chunk everything\n",
    "    }<VBD|IN>+{      # Chink sequences of VBD and IN\n",
    "  \"\"\"\n",
    "sentence = [(\"the\", \"DT\"), (\"little\", \"JJ\"), (\"yellow\", \"JJ\"),\n",
    "       (\"dog\", \"NN\"), (\"barked\", \"VBD\"), (\"at\", \"IN\"),  (\"the\", \"DT\"), (\"cat\", \"NN\")]\n",
    "cp = nltk.RegexpParser(grammar)"
   ]
  },
  {
   "cell_type": "code",
   "execution_count": 96,
   "metadata": {},
   "outputs": [
    {
     "name": "stdout",
     "output_type": "stream",
     "text": [
      "(S\n",
      "  (NP the/DT little/JJ yellow/JJ dog/NN)\n",
      "  barked/VBD\n",
      "  at/IN\n",
      "  (NP the/DT cat/NN))\n"
     ]
    }
   ],
   "source": [
    "print (cp.parse(sentence))"
   ]
  },
  {
   "cell_type": "markdown",
   "metadata": {},
   "source": [
    "## Representing Chunks: Tags vs Trees\n",
    "\n",
    "__chunk__ structures can be represented using either __tags__ or __trees__. \n",
    "\n",
    "The most widespread file representation uses __IOB__ tags. \n",
    "\n",
    "In this scheme, each token is tagged with one of 3 special __chunk tags__, \n",
    "- I (inside), \n",
    "- O (outside), or \n",
    "- B (begin). \n",
    "\n",
    "- A token is tagged as __B if it marks the beginning of a chunk__. \n",
    "- Subsequent tokens within the chunk are tagged I. \n",
    "- All other tokens are tagged O.\n",
    "\n",
    "The B and I tags are suffixed with the chunk type, e.g. B-NP, I-NP. \n",
    "\n",
    "Of course, it is not necessary to specify a chunk type for tokens that appear outside a chunk, so these are just labeled O"
   ]
  },
  {
   "cell_type": "code",
   "execution_count": 102,
   "metadata": {},
   "outputs": [],
   "source": [
    "from nltk import word_tokenize, pos_tag, ne_chunk\n",
    "from nltk import conlltags2tree, tree2conlltags"
   ]
  },
  {
   "cell_type": "code",
   "execution_count": 103,
   "metadata": {},
   "outputs": [],
   "source": [
    "tree = ne_chunk(pos_tag(word_tokenize(\"New York is my favorite city\")))"
   ]
  },
  {
   "cell_type": "code",
   "execution_count": 104,
   "metadata": {},
   "outputs": [
    {
     "name": "stdout",
     "output_type": "stream",
     "text": [
      "(S (GPE New/NNP York/NNP) is/VBZ my/PRP$ favorite/JJ city/NN)\n"
     ]
    }
   ],
   "source": [
    "print (tree)"
   ]
  },
  {
   "cell_type": "code",
   "execution_count": 105,
   "metadata": {},
   "outputs": [
    {
     "name": "stdout",
     "output_type": "stream",
     "text": [
      "[('New', 'NNP', 'B-GPE'), ('York', 'NNP', 'I-GPE'), ('is', 'VBZ', 'O'), ('my', 'PRP$', 'O'), ('favorite', 'JJ', 'O'), ('city', 'NN', 'O')]\n"
     ]
    }
   ],
   "source": [
    "iob_tags = tree2conlltags(tree)\n",
    "print (iob_tags)"
   ]
  },
  {
   "cell_type": "code",
   "execution_count": 106,
   "metadata": {},
   "outputs": [
    {
     "name": "stdout",
     "output_type": "stream",
     "text": [
      "(S (GPE New/NNP York/NNP) is/VBZ my/PRP$ favorite/JJ city/NN)\n"
     ]
    }
   ],
   "source": [
    "tree = conlltags2tree(iob_tags)\n",
    "print (tree)"
   ]
  },
  {
   "cell_type": "code",
   "execution_count": null,
   "metadata": {},
   "outputs": [],
   "source": []
  },
  {
   "cell_type": "code",
   "execution_count": null,
   "metadata": {},
   "outputs": [],
   "source": []
  },
  {
   "cell_type": "markdown",
   "metadata": {},
   "source": [
    "_____________________________________________________________"
   ]
  },
  {
   "cell_type": "code",
   "execution_count": 4,
   "metadata": {},
   "outputs": [],
   "source": []
  },
  {
   "cell_type": "code",
   "execution_count": null,
   "metadata": {},
   "outputs": [],
   "source": []
  },
  {
   "cell_type": "code",
   "execution_count": null,
   "metadata": {},
   "outputs": [],
   "source": []
  }
 ],
 "metadata": {
  "kernelspec": {
   "display_name": "Python 3",
   "language": "python",
   "name": "python3"
  },
  "language_info": {
   "codemirror_mode": {
    "name": "ipython",
    "version": 3
   },
   "file_extension": ".py",
   "mimetype": "text/x-python",
   "name": "python",
   "nbconvert_exporter": "python",
   "pygments_lexer": "ipython3",
   "version": "3.8.8"
  },
  "latex_envs": {
   "LaTeX_envs_menu_present": true,
   "autoclose": false,
   "autocomplete": true,
   "bibliofile": "biblio.bib",
   "cite_by": "apalike",
   "current_citInitial": 1,
   "eqLabelWithNumbers": true,
   "eqNumInitial": 1,
   "hotkeys": {
    "equation": "Ctrl-E",
    "itemize": "Ctrl-I"
   },
   "labels_anchors": false,
   "latex_user_defs": false,
   "report_style_numbering": false,
   "user_envs_cfg": false
  },
  "toc": {
   "base_numbering": 1,
   "nav_menu": {},
   "number_sections": true,
   "sideBar": true,
   "skip_h1_title": false,
   "title_cell": "Table of Contents",
   "title_sidebar": "Contents",
   "toc_cell": false,
   "toc_position": {},
   "toc_section_display": true,
   "toc_window_display": false
  }
 },
 "nbformat": 4,
 "nbformat_minor": 4
}
