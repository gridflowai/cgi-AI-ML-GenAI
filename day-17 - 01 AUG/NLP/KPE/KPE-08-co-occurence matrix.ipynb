{
 "cells": [
  {
   "cell_type": "markdown",
   "metadata": {},
   "source": [
    "#### Co-Occurrence Matrix with a fixed context window\n",
    "\n",
    "- Similar words tend to occur together and will have a similar context for example — Apple is a fruit. Mango is a fruit.\n",
    "- Apple and mango tend to have a similar context i.e fruit.\n",
    "\n",
    "- `Co-occurrence` — For a given corpus, the co-occurrence of a pair of words say w1 and w2 is the number of times they have appeared together in a Context Window.\n",
    "\n",
    "- `Context Window` — Context window is specified by a number and the direction.\n",
    "\n",
    "#### How to form the Co-occurrence matrix:\n",
    "- The matrix A stores co-occurrences of words.\n",
    "- In this method, we count the number of times each word appears inside a window of a particular size around the word of interest.\n",
    "- Calculate this count for all the words in the corpus."
   ]
  },
  {
   "cell_type": "code",
   "execution_count": 1,
   "metadata": {},
   "outputs": [],
   "source": [
    "import numpy as np\n",
    "import nltk\n",
    "from nltk import bigrams\n",
    "import itertools\n",
    "import pandas as pd"
   ]
  },
  {
   "cell_type": "code",
   "execution_count": 9,
   "metadata": {},
   "outputs": [],
   "source": [
    "def generate_co_occurrence_matrix(corpus):\n",
    "    vocab = set(corpus)\n",
    "    vocab = list(vocab)\n",
    "    \n",
    "    vocab_index = {word: i for i, word in enumerate(vocab)}\n",
    " \n",
    "    # Create bigrams from all words in corpus\n",
    "    bi_grams = list(bigrams(corpus))\n",
    " \n",
    "    # Frequency distribution of bigrams ((word1, word2), num_occurrences)\n",
    "    bigram_freq = nltk.FreqDist(bi_grams).most_common(len(bi_grams))\n",
    " \n",
    "    # Initialise co-occurrence matrix\n",
    "    # co_occurrence_matrix[current][previous]\n",
    "    co_occurrence_matrix = np.zeros((len(vocab), len(vocab)))\n",
    " \n",
    "    # Loop through the bigrams taking the current and previous word,\n",
    "    # and the number of occurrences of the bigram.\n",
    "    for bigram in bigram_freq:\n",
    "        current  = bigram[0][1]\n",
    "        previous = bigram[0][0]\n",
    "        \n",
    "        count        = bigram[1]\n",
    "        pos_current  = vocab_index[current]\n",
    "        pos_previous = vocab_index[previous]\n",
    "        \n",
    "        co_occurrence_matrix[pos_current][pos_previous] = count\n",
    "        \n",
    "    co_occurrence_matrix = np.matrix(co_occurrence_matrix)\n",
    " \n",
    "    # return the matrix and the index\n",
    "    return co_occurrence_matrix, vocab_index"
   ]
  },
  {
   "cell_type": "code",
   "execution_count": 10,
   "metadata": {},
   "outputs": [],
   "source": [
    "text_data = [['Where', 'Python', 'is', 'used'],\n",
    "             ['What', 'is', 'Python', 'used', 'in'],\n",
    "             ['Why', 'Python', 'is', 'best'],\n",
    "             ['What', 'companies', 'use', 'Python']]"
   ]
  },
  {
   "cell_type": "code",
   "execution_count": 11,
   "metadata": {},
   "outputs": [],
   "source": [
    "# Create one list using many lists\n",
    "data = list(itertools.chain.from_iterable(text_data))"
   ]
  },
  {
   "cell_type": "code",
   "execution_count": 12,
   "metadata": {},
   "outputs": [
    {
     "name": "stdout",
     "output_type": "stream",
     "text": [
      "['Where', 'Python', 'is', 'used', 'What', 'is', 'Python', 'used', 'in', 'Why', 'Python', 'is', 'best', 'What', 'companies', 'use', 'Python']\n"
     ]
    }
   ],
   "source": [
    "print(data)"
   ]
  },
  {
   "cell_type": "code",
   "execution_count": 13,
   "metadata": {},
   "outputs": [],
   "source": [
    "matrix, vocab_index = generate_co_occurrence_matrix(data)"
   ]
  },
  {
   "cell_type": "code",
   "execution_count": 14,
   "metadata": {},
   "outputs": [
    {
     "data": {
      "text/html": [
       "<div>\n",
       "<style scoped>\n",
       "    .dataframe tbody tr th:only-of-type {\n",
       "        vertical-align: middle;\n",
       "    }\n",
       "\n",
       "    .dataframe tbody tr th {\n",
       "        vertical-align: top;\n",
       "    }\n",
       "\n",
       "    .dataframe thead th {\n",
       "        text-align: right;\n",
       "    }\n",
       "</style>\n",
       "<table border=\"1\" class=\"dataframe\">\n",
       "  <thead>\n",
       "    <tr style=\"text-align: right;\">\n",
       "      <th></th>\n",
       "      <th>Where</th>\n",
       "      <th>used</th>\n",
       "      <th>companies</th>\n",
       "      <th>best</th>\n",
       "      <th>What</th>\n",
       "      <th>use</th>\n",
       "      <th>in</th>\n",
       "      <th>is</th>\n",
       "      <th>Why</th>\n",
       "      <th>Python</th>\n",
       "    </tr>\n",
       "  </thead>\n",
       "  <tbody>\n",
       "    <tr>\n",
       "      <th>Where</th>\n",
       "      <td>0.0</td>\n",
       "      <td>0.0</td>\n",
       "      <td>0.0</td>\n",
       "      <td>0.0</td>\n",
       "      <td>0.0</td>\n",
       "      <td>0.0</td>\n",
       "      <td>0.0</td>\n",
       "      <td>0.0</td>\n",
       "      <td>0.0</td>\n",
       "      <td>0.0</td>\n",
       "    </tr>\n",
       "    <tr>\n",
       "      <th>used</th>\n",
       "      <td>0.0</td>\n",
       "      <td>0.0</td>\n",
       "      <td>0.0</td>\n",
       "      <td>0.0</td>\n",
       "      <td>0.0</td>\n",
       "      <td>0.0</td>\n",
       "      <td>0.0</td>\n",
       "      <td>1.0</td>\n",
       "      <td>0.0</td>\n",
       "      <td>1.0</td>\n",
       "    </tr>\n",
       "    <tr>\n",
       "      <th>companies</th>\n",
       "      <td>0.0</td>\n",
       "      <td>0.0</td>\n",
       "      <td>0.0</td>\n",
       "      <td>0.0</td>\n",
       "      <td>1.0</td>\n",
       "      <td>0.0</td>\n",
       "      <td>0.0</td>\n",
       "      <td>0.0</td>\n",
       "      <td>0.0</td>\n",
       "      <td>0.0</td>\n",
       "    </tr>\n",
       "    <tr>\n",
       "      <th>best</th>\n",
       "      <td>0.0</td>\n",
       "      <td>0.0</td>\n",
       "      <td>0.0</td>\n",
       "      <td>0.0</td>\n",
       "      <td>0.0</td>\n",
       "      <td>0.0</td>\n",
       "      <td>0.0</td>\n",
       "      <td>1.0</td>\n",
       "      <td>0.0</td>\n",
       "      <td>0.0</td>\n",
       "    </tr>\n",
       "    <tr>\n",
       "      <th>What</th>\n",
       "      <td>0.0</td>\n",
       "      <td>1.0</td>\n",
       "      <td>0.0</td>\n",
       "      <td>1.0</td>\n",
       "      <td>0.0</td>\n",
       "      <td>0.0</td>\n",
       "      <td>0.0</td>\n",
       "      <td>0.0</td>\n",
       "      <td>0.0</td>\n",
       "      <td>0.0</td>\n",
       "    </tr>\n",
       "    <tr>\n",
       "      <th>use</th>\n",
       "      <td>0.0</td>\n",
       "      <td>0.0</td>\n",
       "      <td>1.0</td>\n",
       "      <td>0.0</td>\n",
       "      <td>0.0</td>\n",
       "      <td>0.0</td>\n",
       "      <td>0.0</td>\n",
       "      <td>0.0</td>\n",
       "      <td>0.0</td>\n",
       "      <td>0.0</td>\n",
       "    </tr>\n",
       "    <tr>\n",
       "      <th>in</th>\n",
       "      <td>0.0</td>\n",
       "      <td>1.0</td>\n",
       "      <td>0.0</td>\n",
       "      <td>0.0</td>\n",
       "      <td>0.0</td>\n",
       "      <td>0.0</td>\n",
       "      <td>0.0</td>\n",
       "      <td>0.0</td>\n",
       "      <td>0.0</td>\n",
       "      <td>0.0</td>\n",
       "    </tr>\n",
       "    <tr>\n",
       "      <th>is</th>\n",
       "      <td>0.0</td>\n",
       "      <td>0.0</td>\n",
       "      <td>0.0</td>\n",
       "      <td>0.0</td>\n",
       "      <td>1.0</td>\n",
       "      <td>0.0</td>\n",
       "      <td>0.0</td>\n",
       "      <td>0.0</td>\n",
       "      <td>0.0</td>\n",
       "      <td>2.0</td>\n",
       "    </tr>\n",
       "    <tr>\n",
       "      <th>Why</th>\n",
       "      <td>0.0</td>\n",
       "      <td>0.0</td>\n",
       "      <td>0.0</td>\n",
       "      <td>0.0</td>\n",
       "      <td>0.0</td>\n",
       "      <td>0.0</td>\n",
       "      <td>1.0</td>\n",
       "      <td>0.0</td>\n",
       "      <td>0.0</td>\n",
       "      <td>0.0</td>\n",
       "    </tr>\n",
       "    <tr>\n",
       "      <th>Python</th>\n",
       "      <td>1.0</td>\n",
       "      <td>0.0</td>\n",
       "      <td>0.0</td>\n",
       "      <td>0.0</td>\n",
       "      <td>0.0</td>\n",
       "      <td>1.0</td>\n",
       "      <td>0.0</td>\n",
       "      <td>1.0</td>\n",
       "      <td>1.0</td>\n",
       "      <td>0.0</td>\n",
       "    </tr>\n",
       "  </tbody>\n",
       "</table>\n",
       "</div>"
      ],
      "text/plain": [
       "           Where  used  companies  best  What  use   in   is  Why  Python\n",
       "Where        0.0   0.0        0.0   0.0   0.0  0.0  0.0  0.0  0.0     0.0\n",
       "used         0.0   0.0        0.0   0.0   0.0  0.0  0.0  1.0  0.0     1.0\n",
       "companies    0.0   0.0        0.0   0.0   1.0  0.0  0.0  0.0  0.0     0.0\n",
       "best         0.0   0.0        0.0   0.0   0.0  0.0  0.0  1.0  0.0     0.0\n",
       "What         0.0   1.0        0.0   1.0   0.0  0.0  0.0  0.0  0.0     0.0\n",
       "use          0.0   0.0        1.0   0.0   0.0  0.0  0.0  0.0  0.0     0.0\n",
       "in           0.0   1.0        0.0   0.0   0.0  0.0  0.0  0.0  0.0     0.0\n",
       "is           0.0   0.0        0.0   0.0   1.0  0.0  0.0  0.0  0.0     2.0\n",
       "Why          0.0   0.0        0.0   0.0   0.0  0.0  1.0  0.0  0.0     0.0\n",
       "Python       1.0   0.0        0.0   0.0   0.0  1.0  0.0  1.0  1.0     0.0"
      ]
     },
     "execution_count": 14,
     "metadata": {},
     "output_type": "execute_result"
    }
   ],
   "source": [
    "data_matrix = pd.DataFrame(matrix, \n",
    "                           index  = vocab_index,\n",
    "                           columns= vocab_index)\n",
    "data_matrix"
   ]
  },
  {
   "cell_type": "markdown",
   "metadata": {},
   "source": [
    "## Example\n",
    "\n",
    "sent 1 : Data Science is part of AI\n",
    "\n",
    "Sent 2 : Machine learning is part of AI\n",
    "\n",
    "There are 3 parts to creating a co-occurrence matrix. \n",
    "- Matrix of unique words\n",
    "- Focus word\n",
    "- Window length"
   ]
  },
  {
   "cell_type": "code",
   "execution_count": 15,
   "metadata": {},
   "outputs": [],
   "source": [
    "import pandas as pd\n",
    "from sklearn.feature_extraction.text import CountVectorizer\n",
    "import numpy as np\n",
    "import matplotlib.pyplot as plt\n",
    "from matplotlib.pyplot import figure\n",
    "import seaborn as sns"
   ]
  },
  {
   "cell_type": "code",
   "execution_count": 16,
   "metadata": {},
   "outputs": [],
   "source": [
    "doc = ['Data Science is part of AI',\n",
    "       'Machine learning is part of AI'\n",
    "      ]"
   ]
  },
  {
   "cell_type": "markdown",
   "metadata": {},
   "source": [
    "- Default token_pattern considers only words which have 2 or more alphanumerics as a token.\n",
    "- Default token_pattern ignores single character words like I, a etc.\n",
    "- Making token_pattern=r\"(?u)\\b\\w+\\b\" will make words with 1 or more alphanumerics as a token"
   ]
  },
  {
   "cell_type": "code",
   "execution_count": 17,
   "metadata": {},
   "outputs": [],
   "source": [
    "vect = CountVectorizer(stop_words=None, token_pattern=r\"(?u)\\b\\w+\\b\")\n",
    "X = vect.fit_transform(doc)"
   ]
  },
  {
   "cell_type": "code",
   "execution_count": 18,
   "metadata": {},
   "outputs": [
    {
     "name": "stdout",
     "output_type": "stream",
     "text": [
      "Set of unique words in the document is given by: \n",
      "['ai', 'data', 'is', 'learning', 'machine', 'of', 'part', 'science']\n"
     ]
    },
    {
     "name": "stderr",
     "output_type": "stream",
     "text": [
      "D:\\Anaconda-16-FEB\\lib\\site-packages\\sklearn\\utils\\deprecation.py:87: FutureWarning: Function get_feature_names is deprecated; get_feature_names is deprecated in 1.0 and will be removed in 1.2. Please use get_feature_names_out instead.\n",
      "  warnings.warn(msg, category=FutureWarning)\n"
     ]
    }
   ],
   "source": [
    "print(\"Set of unique words in the document is given by: \\n{}\".format(vect.get_feature_names()))"
   ]
  },
  {
   "cell_type": "code",
   "execution_count": 19,
   "metadata": {},
   "outputs": [
    {
     "data": {
      "text/plain": [
       "array([[0., 0., 0., 0., 0., 0., 0., 0.],\n",
       "       [0., 0., 0., 0., 0., 0., 0., 0.],\n",
       "       [0., 0., 0., 0., 0., 0., 0., 0.],\n",
       "       [0., 0., 0., 0., 0., 0., 0., 0.],\n",
       "       [0., 0., 0., 0., 0., 0., 0., 0.],\n",
       "       [0., 0., 0., 0., 0., 0., 0., 0.],\n",
       "       [0., 0., 0., 0., 0., 0., 0., 0.],\n",
       "       [0., 0., 0., 0., 0., 0., 0., 0.]])"
      ]
     },
     "execution_count": 19,
     "metadata": {},
     "output_type": "execute_result"
    }
   ],
   "source": [
    "# Create a co-occurrence matrix of unique words and initialize them to zero\n",
    "uniq_wrds = vect.get_feature_names()\n",
    "\n",
    "n = len(uniq_wrds)\n",
    "\n",
    "co_mat = np.zeros((n,n))\n",
    "co_mat"
   ]
  },
  {
   "cell_type": "code",
   "execution_count": 20,
   "metadata": {},
   "outputs": [],
   "source": [
    "window_len = 2"
   ]
  },
  {
   "cell_type": "code",
   "execution_count": 21,
   "metadata": {},
   "outputs": [],
   "source": [
    "def update_co_mat(x):   \n",
    "    # Get all the words in the sentence and store it in an array wrd_lst\n",
    "    wrd_list = x.split(' ')\n",
    "    \n",
    "    # Consider each word as a focus word\n",
    "    for focus_wrd_indx, focus_wrd in enumerate(wrd_list):\n",
    "        focus_wrd = focus_wrd.lower()\n",
    "        \n",
    "        # Get the indices of all the context words for the given focus word\n",
    "        for contxt_wrd_indx in range((max(0,focus_wrd_indx - window_len)), (min(len(wrd_list),focus_wrd_indx + window_len +1))):                        \n",
    "            \n",
    "            # If context words are in the unique words list\n",
    "            if wrd_list[contxt_wrd_indx] in uniq_wrds:\n",
    "                \n",
    "                # To identify the row number, get the index of the focus_wrd in the uniq_wrds list\n",
    "                co_mat_row_indx = uniq_wrds.index(focus_wrd)\n",
    "                \n",
    "                # To identify the column number, get the index of the context words in the uniq_wrds list\n",
    "                co_mat_col_indx = uniq_wrds.index(wrd_list[contxt_wrd_indx])\n",
    "                                \n",
    "                # Update the respective columns of the corresponding focus word row\n",
    "                co_mat[co_mat_row_indx][co_mat_col_indx] += 1"
   ]
  },
  {
   "cell_type": "code",
   "execution_count": 22,
   "metadata": {},
   "outputs": [
    {
     "name": "stdout",
     "output_type": "stream",
     "text": [
      "\n",
      "Co-occurrence Matrix: \n",
      "[[0. 0. 0. 0. 0. 2. 2. 0.]\n",
      " [0. 0. 1. 0. 0. 0. 0. 0.]\n",
      " [0. 0. 2. 1. 0. 2. 2. 0.]\n",
      " [0. 0. 1. 1. 0. 0. 1. 0.]\n",
      " [0. 0. 1. 1. 0. 0. 0. 0.]\n",
      " [0. 0. 2. 0. 0. 2. 2. 0.]\n",
      " [0. 0. 2. 1. 0. 2. 2. 0.]\n",
      " [0. 0. 1. 0. 0. 0. 1. 0.]]\n"
     ]
    }
   ],
   "source": [
    "for sentence in doc:\n",
    "    update_co_mat(sentence)\n",
    "print()\n",
    "print(\"Co-occurrence Matrix: \")\n",
    "print(co_mat)"
   ]
  },
  {
   "cell_type": "code",
   "execution_count": 23,
   "metadata": {},
   "outputs": [
    {
     "data": {
      "image/png": "[encoded data removed]",
      "text/plain": [
       "<Figure size 1000x600 with 2 Axes>"
      ]
     },
     "metadata": {},
     "output_type": "display_data"
    }
   ],
   "source": [
    "figure(figsize=(10, 6))\n",
    "\n",
    "df_cm1 = pd.DataFrame(co_mat, index=uniq_wrds, columns=uniq_wrds)\n",
    "\n",
    "cf_hm1 = sns.heatmap(df_cm1, \n",
    "                     annot=True, \n",
    "                     xticklabels=uniq_wrds, \n",
    "                     yticklabels=uniq_wrds, \n",
    "                     linewidths=.5, \n",
    "                     linecolor='black', \n",
    "                     cmap=\"Blues\")\n",
    "\n",
    "plt.yticks(rotation=0)\n",
    "plt.title('Co-occurrence Matrix');"
   ]
  },
  {
   "cell_type": "code",
   "execution_count": 41,
   "metadata": {},
   "outputs": [
    {
     "data": {
      "text/plain": [
       "['Data Science is part of AI', 'Machine learning is part of AI']"
      ]
     },
     "execution_count": 41,
     "metadata": {},
     "output_type": "execute_result"
    }
   ],
   "source": [
    "doc"
   ]
  },
  {
   "cell_type": "markdown",
   "metadata": {},
   "source": [
    "#### Problem \n",
    "— For a huge corpus, this co-occurrence matrix could become really complex (high-dimension).\n",
    "\n",
    "#### Solution \n",
    "— `Singular value decomposition(SVD)` and `principal component analysis(PCA)` are two eigenvalue methods used to reduce a high-dimensional dataset into fewer dimensions while retaining important information."
   ]
  },
  {
   "cell_type": "markdown",
   "metadata": {},
   "source": [
    "#### Singular values of a matrix\n",
    "Let A be an m*m matrix. The product Aᵀ A is a symmetric matrix."
   ]
  },
  {
   "cell_type": "code",
   "execution_count": 48,
   "metadata": {},
   "outputs": [],
   "source": [
    "import numpy as np\n",
    "import re"
   ]
  },
  {
   "cell_type": "code",
   "execution_count": 49,
   "metadata": {},
   "outputs": [],
   "source": [
    "location = r'D:\\MYLEARN\\DATASETS\\dorian.txt'"
   ]
  },
  {
   "cell_type": "code",
   "execution_count": 50,
   "metadata": {},
   "outputs": [],
   "source": [
    "book = open(location,'r')"
   ]
  },
  {
   "cell_type": "code",
   "execution_count": 51,
   "metadata": {},
   "outputs": [],
   "source": [
    "book_string = book.read().lower()"
   ]
  },
  {
   "cell_type": "code",
   "execution_count": 52,
   "metadata": {},
   "outputs": [
    {
     "data": {
      "text/plain": [
       "433690"
      ]
     },
     "execution_count": 52,
     "metadata": {},
     "output_type": "execute_result"
    }
   ],
   "source": [
    "len(book_string)"
   ]
  },
  {
   "cell_type": "code",
   "execution_count": 53,
   "metadata": {},
   "outputs": [
    {
     "data": {
      "text/plain": [
       "\"the picture of dorian gray\\n\\nby\\n\\noscar wilde\\n\\n\\n\\n\\nthe preface\\n\\nthe artist is the creator of beautiful things.  to reveal art and\\nconceal the artist is art's aim.  the critic is he who can translate\\ninto another manner or a new material his impression of beautiful\\nthings.\\n\\nthe highest as the lowest form of criticism is a mode of autobiography.\\nthose who find ugly meanings in beautiful things are corrupt without\\nbeing charming.  this is a fault.\\n\\nthose who find beautiful meanings in beautiful things\""
      ]
     },
     "execution_count": 53,
     "metadata": {},
     "output_type": "execute_result"
    }
   ],
   "source": [
    "book_string[:500]"
   ]
  },
  {
   "cell_type": "code",
   "execution_count": 54,
   "metadata": {},
   "outputs": [],
   "source": [
    "def sentence_to_wordlist(raw):\n",
    "    clean = re.sub(\"[^a-zA-Z]\",\" \",raw)\n",
    "    words = clean.split()\n",
    "    return words"
   ]
  },
  {
   "cell_type": "code",
   "execution_count": 55,
   "metadata": {},
   "outputs": [],
   "source": [
    "list_of_words = sentence_to_wordlist(book_string)"
   ]
  },
  {
   "cell_type": "code",
   "execution_count": 56,
   "metadata": {},
   "outputs": [
    {
     "data": {
      "text/plain": [
       "80393"
      ]
     },
     "execution_count": 56,
     "metadata": {},
     "output_type": "execute_result"
    }
   ],
   "source": [
    "len(list_of_words)"
   ]
  },
  {
   "cell_type": "markdown",
   "metadata": {},
   "source": [
    "unique words "
   ]
  },
  {
   "cell_type": "code",
   "execution_count": 57,
   "metadata": {},
   "outputs": [],
   "source": [
    "list_of_words = list(set(list_of_words))"
   ]
  },
  {
   "cell_type": "code",
   "execution_count": 58,
   "metadata": {},
   "outputs": [
    {
     "data": {
      "text/plain": [
       "6798"
      ]
     },
     "execution_count": 58,
     "metadata": {},
     "output_type": "execute_result"
    }
   ],
   "source": [
    "len(list_of_words)"
   ]
  },
  {
   "cell_type": "code",
   "execution_count": 59,
   "metadata": {},
   "outputs": [
    {
     "data": {
      "text/plain": [
       "['gazed',\n",
       " 'inmost',\n",
       " 'hall',\n",
       " 'sway',\n",
       " 'enthralled',\n",
       " 'shelves',\n",
       " 'rebuked',\n",
       " 'isabella',\n",
       " 'agree',\n",
       " 'blows']"
      ]
     },
     "execution_count": 59,
     "metadata": {},
     "output_type": "execute_result"
    }
   ],
   "source": [
    "list_of_words[:10]"
   ]
  },
  {
   "cell_type": "code",
   "execution_count": 60,
   "metadata": {},
   "outputs": [],
   "source": [
    "from nltk.tokenize import sent_tokenize\n",
    "list_of_sentences = sent_tokenize(book_string)"
   ]
  },
  {
   "cell_type": "code",
   "execution_count": 61,
   "metadata": {},
   "outputs": [
    {
     "data": {
      "text/plain": [
       "6494"
      ]
     },
     "execution_count": 61,
     "metadata": {},
     "output_type": "execute_result"
    }
   ],
   "source": [
    "len(list_of_sentences)"
   ]
  },
  {
   "cell_type": "code",
   "execution_count": 63,
   "metadata": {},
   "outputs": [],
   "source": [
    "sent_lengths = [len(sent) for sent in list_of_sentences]"
   ]
  },
  {
   "cell_type": "code",
   "execution_count": 73,
   "metadata": {},
   "outputs": [
    {
     "data": {
      "text/plain": [
       "(3, 2541, 64.87203572528487)"
      ]
     },
     "execution_count": 73,
     "metadata": {},
     "output_type": "execute_result"
    }
   ],
   "source": [
    "min(sent_lengths), max(sent_lengths), np.mean(sent_lengths)"
   ]
  },
  {
   "cell_type": "code",
   "execution_count": 71,
   "metadata": {},
   "outputs": [
    {
     "data": {
      "image/png": "[encoded data removed]",
      "text/plain": [
       "<Figure size 1296x432 with 1 Axes>"
      ]
     },
     "metadata": {
      "needs_background": "light"
     },
     "output_type": "display_data"
    }
   ],
   "source": [
    "plt.figure(figsize=(18, 6))\n",
    "plt.hist(sent_lengths, bins=1000);"
   ]
  },
  {
   "cell_type": "code",
   "execution_count": 75,
   "metadata": {},
   "outputs": [
    {
     "data": {
      "text/plain": [
       "['the artist\\ncan express everything.',\n",
       " 'thought and language are to the artist\\ninstruments of an art.',\n",
       " 'vice and virtue are to the artist materials for\\nan art.',\n",
       " 'from the point of view of form, the type of all the arts is\\nthe art of the musician.',\n",
       " \"from the point of view of feeling, the\\nactor's craft is the type.\",\n",
       " 'all art is at once surface and symbol.',\n",
       " 'those who go beneath the surface do so at their peril.',\n",
       " 'those who read\\nthe symbol do so at their peril.',\n",
       " 'it is the spectator, and not life,\\nthat art really mirrors.',\n",
       " 'diversity of opinion about a work of art\\nshows that the work is new, complex, and vital.']"
      ]
     },
     "execution_count": 75,
     "metadata": {},
     "output_type": "execute_result"
    }
   ],
   "source": [
    "list_of_sentences[20:30]"
   ]
  },
  {
   "cell_type": "markdown",
   "metadata": {},
   "source": [
    "#### create our co-occurrence matrix"
   ]
  },
  {
   "cell_type": "code",
   "execution_count": 77,
   "metadata": {},
   "outputs": [],
   "source": [
    "cooc = np.zeros((len(list_of_words), len(list_of_words)), np.float64)"
   ]
  },
  {
   "cell_type": "code",
   "execution_count": 78,
   "metadata": {},
   "outputs": [],
   "source": [
    "def process_sentence(sentence):\n",
    "    words_in_sentence = sentence_to_wordlist(sentence)\n",
    "    list_of_indeces   = [list_of_words.index(word) for word in words_in_sentence]\n",
    "    \n",
    "    for index1 in list_of_indeces:\n",
    "        for index2 in list_of_indeces:\n",
    "            if index1 != index2:\n",
    "                cooc[index1, index2] +=1"
   ]
  },
  {
   "cell_type": "code",
   "execution_count": 79,
   "metadata": {},
   "outputs": [
    {
     "name": "stdout",
     "output_type": "stream",
     "text": [
      "Wall time: 7.77 s\n"
     ]
    }
   ],
   "source": [
    "%%time\n",
    "for sentence in list_of_sentences:\n",
    "    process_sentence(sentence)"
   ]
  },
  {
   "cell_type": "code",
   "execution_count": 83,
   "metadata": {},
   "outputs": [
    {
     "data": {
      "text/plain": [
       "(6798, 6798)"
      ]
     },
     "execution_count": 83,
     "metadata": {},
     "output_type": "execute_result"
    }
   ],
   "source": [
    "cooc.shape"
   ]
  },
  {
   "cell_type": "code",
   "execution_count": 81,
   "metadata": {},
   "outputs": [],
   "source": [
    "from numpy.linalg import norm\n",
    "\n",
    "def cos_dis(u,v):\n",
    "    dist = 1.0 - np.dot(u, v) / (norm(u) * norm(v))\n",
    "    return dist"
   ]
  },
  {
   "cell_type": "markdown",
   "metadata": {},
   "source": [
    "List the words in increasing order of distance, selecting the top 5 words."
   ]
  },
  {
   "cell_type": "code",
   "execution_count": 87,
   "metadata": {},
   "outputs": [
    {
     "name": "stderr",
     "output_type": "stream",
     "text": [
      "D:\\ANACONDA\\lib\\site-packages\\ipykernel_launcher.py:4: RuntimeWarning: invalid value encountered in double_scalars\n",
      "  after removing the cwd from sys.path.\n"
     ]
    },
    {
     "data": {
      "text/plain": [
       "['mantelshelf', 'still', 'saw', 'window', 'at']"
      ]
     },
     "execution_count": 87,
     "metadata": {},
     "output_type": "execute_result"
    }
   ],
   "source": [
    "sorted_list = sorted(list_of_words, key = lambda word: cos_dis(cooc[15,:],  cooc[list_of_words.index(word),:]))\n",
    "sorted_list[:5]"
   ]
  },
  {
   "cell_type": "markdown",
   "metadata": {},
   "source": [
    "#### SVD\n",
    "Let’s try the same in a lower dimensional space. Warning: this may take a while."
   ]
  },
  {
   "cell_type": "code",
   "execution_count": 88,
   "metadata": {},
   "outputs": [],
   "source": [
    "from numpy.linalg import svd\n",
    "U,S,V = svd(cooc)"
   ]
  },
  {
   "cell_type": "markdown",
   "metadata": {},
   "source": [
    "let’s look at the first 40 eigenvalues."
   ]
  },
  {
   "cell_type": "code",
   "execution_count": 90,
   "metadata": {},
   "outputs": [
    {
     "data": {
      "text/plain": [
       "[<matplotlib.lines.Line2D at 0x221d444d888>]"
      ]
     },
     "execution_count": 90,
     "metadata": {},
     "output_type": "execute_result"
    },
    {
     "data": {
      "image/png": "[encoded data removed]",
      "text/plain": [
       "<Figure size 720x360 with 1 Axes>"
      ]
     },
     "metadata": {
      "needs_background": "light"
     },
     "output_type": "display_data"
    }
   ],
   "source": [
    "import matplotlib.pyplot as plt\n",
    "plt.figure(figsize = (10,5))\n",
    "plt.plot(S[:40])\n"
   ]
  },
  {
   "cell_type": "markdown",
   "metadata": {},
   "source": [
    "So, let’s reduce from a 7122 dimensional space to a 40 dimensional space. \n",
    "\n",
    "Now the vector associated to the word ‘dead’ (the 16th word) is:"
   ]
  },
  {
   "cell_type": "code",
   "execution_count": 91,
   "metadata": {},
   "outputs": [
    {
     "data": {
      "text/plain": [
       "array([-0.00087474, -0.00101185, -0.00037585,  0.00108591, -0.00010285,\n",
       "        0.00151967, -0.00179088, -0.00038896, -0.00075055,  0.00036015,\n",
       "       -0.00434299,  0.00469412, -0.00225849, -0.00186195,  0.00243258,\n",
       "       -0.00317881,  0.0013976 ,  0.00317467,  0.00114518, -0.00353434,\n",
       "        0.00448211,  0.00366357, -0.00026611,  0.00044957, -0.00307638,\n",
       "        0.00373712, -0.00087078, -0.00222879, -0.00444588, -0.00048811,\n",
       "       -0.0001573 ,  0.00015633, -0.00403972,  0.00510009,  0.00269403,\n",
       "        0.00293509, -0.00113639, -0.00301723,  0.00820139, -0.00272365])"
      ]
     },
     "execution_count": 91,
     "metadata": {},
     "output_type": "execute_result"
    }
   ],
   "source": [
    "emb = U[:,:40]\n",
    "emb[15, :] # the 16th word `dead`"
   ]
  },
  {
   "cell_type": "code",
   "execution_count": 92,
   "metadata": {},
   "outputs": [
    {
     "data": {
      "text/plain": [
       "0.8934989078810573"
      ]
     },
     "execution_count": 92,
     "metadata": {},
     "output_type": "execute_result"
    }
   ],
   "source": [
    "cos_dis(emb[15,:], emb[list_of_words.index('wedding'),:])"
   ]
  },
  {
   "cell_type": "code",
   "execution_count": 94,
   "metadata": {},
   "outputs": [
    {
     "name": "stderr",
     "output_type": "stream",
     "text": [
      "D:\\ANACONDA\\lib\\site-packages\\ipykernel_launcher.py:4: RuntimeWarning: divide by zero encountered in double_scalars\n",
      "  after removing the cwd from sys.path.\n"
     ]
    },
    {
     "data": {
      "text/plain": [
       "['mantelshelf', 'arabian', 'bezoar', 'deer', 'plague']"
      ]
     },
     "execution_count": 94,
     "metadata": {},
     "output_type": "execute_result"
    }
   ],
   "source": [
    "sorted(list_of_words, key = lambda word: cos_dis(emb[15,:],emb[list_of_words.index(word),:]))[:5]"
   ]
  },
  {
   "cell_type": "code",
   "execution_count": null,
   "metadata": {},
   "outputs": [],
   "source": []
  }
 ],
 "metadata": {
  "kernelspec": {
   "display_name": "Python 3 (ipykernel)",
   "language": "python",
   "name": "python3"
  },
  "language_info": {
   "codemirror_mode": {
    "name": "ipython",
    "version": 3
   },
   "file_extension": ".py",
   "mimetype": "text/x-python",
   "name": "python",
   "nbconvert_exporter": "python",
   "pygments_lexer": "ipython3",
   "version": "3.9.13"
  }
 },
 "nbformat": 4,
 "nbformat_minor": 4
}
