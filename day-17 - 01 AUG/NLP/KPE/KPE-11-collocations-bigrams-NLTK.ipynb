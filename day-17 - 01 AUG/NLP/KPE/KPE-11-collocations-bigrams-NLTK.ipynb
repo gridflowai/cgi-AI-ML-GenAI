{
 "cells": [
  {
   "cell_type": "markdown",
   "metadata": {},
   "source": [
    "--------------------------------\n",
    "#### Collocations and Bigrams\n",
    "--------------------------\n",
    "\n",
    "A collocation is a sequence of words that occur together unusually often. Thus __red wine__ is a collocation, whereas __the wine__ is not. \n",
    "\n",
    "A characteristic of collocations is that they are resistant to substitution with words that have similar senses; for example, __maroon wine__ sounds definitely odd.\n",
    "\n",
    "To get a handle on collocations, we start off by extracting from a text a list of word pairs, also known as __bigrams__. \n",
    "\n",
    "> `collocations` are essentially just `frequent bigrams` \n",
    "\n",
    "    - frequent -> useful"
   ]
  },
  {
   "cell_type": "markdown",
   "metadata": {},
   "source": [
    "#### Data : hotel reviews ... https://www.kaggle.com/datafiniti/hotel-reviews/data"
   ]
  },
  {
   "cell_type": "code",
   "execution_count": 1,
   "metadata": {},
   "outputs": [],
   "source": [
    "import numpy as np\n",
    "import pandas as pd\n",
    "import re\n",
    "import nltk\n",
    "from nltk.corpus import stopwords\n",
    "import spacy\n",
    "import string\n"
   ]
  },
  {
   "cell_type": "code",
   "execution_count": 2,
   "metadata": {},
   "outputs": [],
   "source": [
    "location = r'D:\\AI-DATASETS\\02-MISC-large\\Datafiniti_Hotel_Reviews.csv'"
   ]
  },
  {
   "cell_type": "code",
   "execution_count": 3,
   "metadata": {},
   "outputs": [],
   "source": [
    "reviews = pd.read_csv(location)"
   ]
  },
  {
   "cell_type": "code",
   "execution_count": 4,
   "metadata": {},
   "outputs": [
    {
     "data": {
      "text/html": [
       "<div>\n",
       "<style scoped>\n",
       "    .dataframe tbody tr th:only-of-type {\n",
       "        vertical-align: middle;\n",
       "    }\n",
       "\n",
       "    .dataframe tbody tr th {\n",
       "        vertical-align: top;\n",
       "    }\n",
       "\n",
       "    .dataframe thead th {\n",
       "        text-align: right;\n",
       "    }\n",
       "</style>\n",
       "<table border=\"1\" class=\"dataframe\">\n",
       "  <thead>\n",
       "    <tr style=\"text-align: right;\">\n",
       "      <th></th>\n",
       "      <th>id</th>\n",
       "      <th>dateAdded</th>\n",
       "      <th>dateUpdated</th>\n",
       "      <th>address</th>\n",
       "      <th>categories</th>\n",
       "      <th>primaryCategories</th>\n",
       "      <th>city</th>\n",
       "      <th>country</th>\n",
       "      <th>keys</th>\n",
       "      <th>latitude</th>\n",
       "      <th>...</th>\n",
       "      <th>reviews.dateSeen</th>\n",
       "      <th>reviews.rating</th>\n",
       "      <th>reviews.sourceURLs</th>\n",
       "      <th>reviews.text</th>\n",
       "      <th>reviews.title</th>\n",
       "      <th>reviews.userCity</th>\n",
       "      <th>reviews.userProvince</th>\n",
       "      <th>reviews.username</th>\n",
       "      <th>sourceURLs</th>\n",
       "      <th>websites</th>\n",
       "    </tr>\n",
       "  </thead>\n",
       "  <tbody>\n",
       "    <tr>\n",
       "      <th>4566</th>\n",
       "      <td>AVweUb3O_7pvs4fzB8oA</td>\n",
       "      <td>2015-10-20T00:54:43Z</td>\n",
       "      <td>2018-04-17T10:16:56Z</td>\n",
       "      <td>810 S US Highway 1</td>\n",
       "      <td>Hotels,Hotels and motels,Hotel and motel mgmt....</td>\n",
       "      <td>Accommodation &amp; Food Services</td>\n",
       "      <td>Jupiter</td>\n",
       "      <td>US</td>\n",
       "      <td>us/fl/jupiter/810sushighway1/1433548600</td>\n",
       "      <td>26.926880</td>\n",
       "      <td>...</td>\n",
       "      <td>2016-05-12T00:00:00Z</td>\n",
       "      <td>5.0</td>\n",
       "      <td>https://www.tripadvisor.com/Hotel_Review-g3433...</td>\n",
       "      <td>This hotel staff goes out of their way to make...</td>\n",
       "      <td>Quality staff and treatment</td>\n",
       "      <td>utica</td>\n",
       "      <td>mi</td>\n",
       "      <td>Denise A</td>\n",
       "      <td>https://www.yellowpages.com/jupiter-fl/mip/bes...</td>\n",
       "      <td>https://www.bestwestern.com/en_US/book/hotel-d...</td>\n",
       "    </tr>\n",
       "    <tr>\n",
       "      <th>840</th>\n",
       "      <td>AV-TGwK3IxWefVJwr5IJ</td>\n",
       "      <td>2017-11-06T20:51:11Z</td>\n",
       "      <td>2018-09-04T21:27:39Z</td>\n",
       "      <td>20 West Kinzie Street</td>\n",
       "      <td>Hotels,Hotel</td>\n",
       "      <td>Accommodation &amp; Food Services</td>\n",
       "      <td>Chicago</td>\n",
       "      <td>US</td>\n",
       "      <td>us/il/chicago/20westkinziestreet/153270062</td>\n",
       "      <td>41.889408</td>\n",
       "      <td>...</td>\n",
       "      <td>2018-03-27T00:00:00Z</td>\n",
       "      <td>4.4</td>\n",
       "      <td>https://www.booking.com/reviews/us/hotel/amalf...</td>\n",
       "      <td>Bad: The breakfast was just some muffins and w...</td>\n",
       "      <td>If you are looking for a comfortable place to ...</td>\n",
       "      <td>NaN</td>\n",
       "      <td>NaN</td>\n",
       "      <td>James</td>\n",
       "      <td>https://www.booking.com/reviews/us/hotel/amalf...</td>\n",
       "      <td>http://www.kinziehotel.com/</td>\n",
       "    </tr>\n",
       "    <tr>\n",
       "      <th>2215</th>\n",
       "      <td>AVwdMsswkufWRAb53Vy0</td>\n",
       "      <td>2017-04-10T07:43:42Z</td>\n",
       "      <td>2018-06-29T19:35:18Z</td>\n",
       "      <td>3730 Las Vegas Blvd S</td>\n",
       "      <td>Hotels,Casinos,Resorts,Resort,Casino,Hotel</td>\n",
       "      <td>Accommodation &amp; Food Services</td>\n",
       "      <td>Las Vegas</td>\n",
       "      <td>US</td>\n",
       "      <td>us/nv/lasvegas/3730lasvegasblvds/-1699935985</td>\n",
       "      <td>36.107741</td>\n",
       "      <td>...</td>\n",
       "      <td>2016-07-12T00:00:00Z,2016-07-27T00:00:00Z,2016...</td>\n",
       "      <td>5.0</td>\n",
       "      <td>https://www.tripadvisor.com/Hotel_Review-g4596...</td>\n",
       "      <td>This was my third time at Aria Resort and it d...</td>\n",
       "      <td>Great comtemporary hotel</td>\n",
       "      <td>Birmingham</td>\n",
       "      <td>NaN</td>\n",
       "      <td>mini1978</td>\n",
       "      <td>https://www.tripadvisor.com/Hotel_Review-g4596...</td>\n",
       "      <td>http://www.arialasvegas.com</td>\n",
       "    </tr>\n",
       "    <tr>\n",
       "      <th>1785</th>\n",
       "      <td>AV1eT4k_RxPSIh2RZ5gv</td>\n",
       "      <td>2017-07-20T04:44:17Z</td>\n",
       "      <td>2018-08-27T16:47:44Z</td>\n",
       "      <td>101 N Broad St</td>\n",
       "      <td>Hotels,Hotels and motels,Bar and grill restaur...</td>\n",
       "      <td>Accommodation &amp; Food Services</td>\n",
       "      <td>Philadelphia</td>\n",
       "      <td>US</td>\n",
       "      <td>us/pa/philadelphia/101nbroadst/1243750363</td>\n",
       "      <td>39.954650</td>\n",
       "      <td>...</td>\n",
       "      <td>2018-08-26T00:00:00Z</td>\n",
       "      <td>5.0</td>\n",
       "      <td>https://www.tripadvisor.com/Hotel_Review-g6079...</td>\n",
       "      <td>Everything was great, staff is wonderful, Mish...</td>\n",
       "      <td>Our New Favorite Hotel In Phili</td>\n",
       "      <td>Brick</td>\n",
       "      <td>NaN</td>\n",
       "      <td>michmlot</td>\n",
       "      <td>https://www.tripadvisor.com/Hotel_Review-g6079...</td>\n",
       "      <td>http://www.aloftphiladelphiadowntown.com/?SWAQ...</td>\n",
       "    </tr>\n",
       "    <tr>\n",
       "      <th>1448</th>\n",
       "      <td>AVwctAJvkufWRAb5yHGn</td>\n",
       "      <td>2016-06-04T21:31:59Z</td>\n",
       "      <td>2018-08-27T16:55:23Z</td>\n",
       "      <td>1100 N Central Ave</td>\n",
       "      <td>Hotels,Lodging,Hotels Motels,Motels,Hotel</td>\n",
       "      <td>Accommodation &amp; Food Services</td>\n",
       "      <td>Phoenix</td>\n",
       "      <td>US</td>\n",
       "      <td>us/az/phoenix/1100ncentralave/857837242</td>\n",
       "      <td>33.460000</td>\n",
       "      <td>...</td>\n",
       "      <td>2018-08-26T00:00:00Z</td>\n",
       "      <td>3.0</td>\n",
       "      <td>https://www.tripadvisor.com/Hotel_Review-g3131...</td>\n",
       "      <td>As Christian I found this hotel inappropriate ...</td>\n",
       "      <td>Interesting boutique hotel</td>\n",
       "      <td>Lafayette</td>\n",
       "      <td>Louisiana</td>\n",
       "      <td>Delia V</td>\n",
       "      <td>https://www.tripadvisor.com/Hotel_Review-g3131...</td>\n",
       "      <td>http://www.foundrehotels.com</td>\n",
       "    </tr>\n",
       "  </tbody>\n",
       "</table>\n",
       "<p>5 rows × 25 columns</p>\n",
       "</div>"
      ],
      "text/plain": [
       "                        id             dateAdded           dateUpdated  \\\n",
       "4566  AVweUb3O_7pvs4fzB8oA  2015-10-20T00:54:43Z  2018-04-17T10:16:56Z   \n",
       "840   AV-TGwK3IxWefVJwr5IJ  2017-11-06T20:51:11Z  2018-09-04T21:27:39Z   \n",
       "2215  AVwdMsswkufWRAb53Vy0  2017-04-10T07:43:42Z  2018-06-29T19:35:18Z   \n",
       "1785  AV1eT4k_RxPSIh2RZ5gv  2017-07-20T04:44:17Z  2018-08-27T16:47:44Z   \n",
       "1448  AVwctAJvkufWRAb5yHGn  2016-06-04T21:31:59Z  2018-08-27T16:55:23Z   \n",
       "\n",
       "                    address  \\\n",
       "4566     810 S US Highway 1   \n",
       "840   20 West Kinzie Street   \n",
       "2215  3730 Las Vegas Blvd S   \n",
       "1785         101 N Broad St   \n",
       "1448     1100 N Central Ave   \n",
       "\n",
       "                                             categories  \\\n",
       "4566  Hotels,Hotels and motels,Hotel and motel mgmt....   \n",
       "840                                        Hotels,Hotel   \n",
       "2215         Hotels,Casinos,Resorts,Resort,Casino,Hotel   \n",
       "1785  Hotels,Hotels and motels,Bar and grill restaur...   \n",
       "1448          Hotels,Lodging,Hotels Motels,Motels,Hotel   \n",
       "\n",
       "                  primaryCategories          city country  \\\n",
       "4566  Accommodation & Food Services       Jupiter      US   \n",
       "840   Accommodation & Food Services       Chicago      US   \n",
       "2215  Accommodation & Food Services     Las Vegas      US   \n",
       "1785  Accommodation & Food Services  Philadelphia      US   \n",
       "1448  Accommodation & Food Services       Phoenix      US   \n",
       "\n",
       "                                              keys   latitude  ...  \\\n",
       "4566       us/fl/jupiter/810sushighway1/1433548600  26.926880  ...   \n",
       "840     us/il/chicago/20westkinziestreet/153270062  41.889408  ...   \n",
       "2215  us/nv/lasvegas/3730lasvegasblvds/-1699935985  36.107741  ...   \n",
       "1785     us/pa/philadelphia/101nbroadst/1243750363  39.954650  ...   \n",
       "1448       us/az/phoenix/1100ncentralave/857837242  33.460000  ...   \n",
       "\n",
       "                                       reviews.dateSeen reviews.rating  \\\n",
       "4566                               2016-05-12T00:00:00Z            5.0   \n",
       "840                                2018-03-27T00:00:00Z            4.4   \n",
       "2215  2016-07-12T00:00:00Z,2016-07-27T00:00:00Z,2016...            5.0   \n",
       "1785                               2018-08-26T00:00:00Z            5.0   \n",
       "1448                               2018-08-26T00:00:00Z            3.0   \n",
       "\n",
       "                                     reviews.sourceURLs  \\\n",
       "4566  https://www.tripadvisor.com/Hotel_Review-g3433...   \n",
       "840   https://www.booking.com/reviews/us/hotel/amalf...   \n",
       "2215  https://www.tripadvisor.com/Hotel_Review-g4596...   \n",
       "1785  https://www.tripadvisor.com/Hotel_Review-g6079...   \n",
       "1448  https://www.tripadvisor.com/Hotel_Review-g3131...   \n",
       "\n",
       "                                           reviews.text  \\\n",
       "4566  This hotel staff goes out of their way to make...   \n",
       "840   Bad: The breakfast was just some muffins and w...   \n",
       "2215  This was my third time at Aria Resort and it d...   \n",
       "1785  Everything was great, staff is wonderful, Mish...   \n",
       "1448  As Christian I found this hotel inappropriate ...   \n",
       "\n",
       "                                          reviews.title reviews.userCity  \\\n",
       "4566                        Quality staff and treatment            utica   \n",
       "840   If you are looking for a comfortable place to ...              NaN   \n",
       "2215                           Great comtemporary hotel       Birmingham   \n",
       "1785                    Our New Favorite Hotel In Phili            Brick   \n",
       "1448                         Interesting boutique hotel        Lafayette   \n",
       "\n",
       "      reviews.userProvince reviews.username  \\\n",
       "4566                    mi         Denise A   \n",
       "840                    NaN            James   \n",
       "2215                   NaN         mini1978   \n",
       "1785                   NaN         michmlot   \n",
       "1448             Louisiana          Delia V   \n",
       "\n",
       "                                             sourceURLs  \\\n",
       "4566  https://www.yellowpages.com/jupiter-fl/mip/bes...   \n",
       "840   https://www.booking.com/reviews/us/hotel/amalf...   \n",
       "2215  https://www.tripadvisor.com/Hotel_Review-g4596...   \n",
       "1785  https://www.tripadvisor.com/Hotel_Review-g6079...   \n",
       "1448  https://www.tripadvisor.com/Hotel_Review-g3131...   \n",
       "\n",
       "                                               websites  \n",
       "4566  https://www.bestwestern.com/en_US/book/hotel-d...  \n",
       "840                         http://www.kinziehotel.com/  \n",
       "2215                        http://www.arialasvegas.com  \n",
       "1785  http://www.aloftphiladelphiadowntown.com/?SWAQ...  \n",
       "1448                       http://www.foundrehotels.com  \n",
       "\n",
       "[5 rows x 25 columns]"
      ]
     },
     "execution_count": 4,
     "metadata": {},
     "output_type": "execute_result"
    }
   ],
   "source": [
    "reviews.sample(5)"
   ]
  },
  {
   "cell_type": "markdown",
   "metadata": {},
   "source": [
    "#### take only the text column"
   ]
  },
  {
   "cell_type": "code",
   "execution_count": 5,
   "metadata": {},
   "outputs": [],
   "source": [
    "comments = reviews['reviews.text']"
   ]
  },
  {
   "cell_type": "code",
   "execution_count": 6,
   "metadata": {},
   "outputs": [
    {
     "data": {
      "text/plain": [
       "dtype('O')"
      ]
     },
     "execution_count": 6,
     "metadata": {},
     "output_type": "execute_result"
    }
   ],
   "source": [
    "comments.dtype"
   ]
  },
  {
   "cell_type": "code",
   "execution_count": 7,
   "metadata": {},
   "outputs": [],
   "source": [
    "pd.set_option('max_colwidth', 200)"
   ]
  },
  {
   "cell_type": "code",
   "execution_count": 8,
   "metadata": {},
   "outputs": [
    {
     "data": {
      "text/plain": [
       "55                                                                                                        I stayed here with some friends for a convention. It was a good room and the free breakfast was nice.\n",
       "305     Bad: Room and bed were tiny - not even a queen bed. Bed took up most of the room. Breakfast was coffee and a bunch of cold bagels. Bathroom was also tiny. Not worth the exhorbitant price at all. G...\n",
       "3784                                                                                                                                           Bad: Noise, small room, exposed nails in carpet. Good: Locations\n",
       "7340                                                                                                                                     If u want an historic sight with all the amenities, this is your pkace\n",
       "1243    This place is ideally located with theaters, supermarkets, fast food, fine restaurants, all near by. The architecture is really beautiful and it is brand new. It provides easy access to downtown N...\n",
       "Name: reviews.text, dtype: object"
      ]
     },
     "execution_count": 8,
     "metadata": {},
     "output_type": "execute_result"
    }
   ],
   "source": [
    "comments.sample(5)"
   ]
  },
  {
   "cell_type": "markdown",
   "metadata": {},
   "source": [
    "#### 1. Preprocessing"
   ]
  },
  {
   "cell_type": "code",
   "execution_count": 9,
   "metadata": {},
   "outputs": [],
   "source": [
    "# function to remove non-ascii characters\n",
    "def removeNonAscii(s): \n",
    "    return \"\".join(i for i in s if ord(i)<128)"
   ]
  },
  {
   "cell_type": "code",
   "execution_count": 10,
   "metadata": {},
   "outputs": [],
   "source": [
    "comments = comments.astype('str')"
   ]
  },
  {
   "cell_type": "code",
   "execution_count": 11,
   "metadata": {},
   "outputs": [],
   "source": [
    "# remove non-ascii characters\n",
    "comments = comments.map(lambda x: removeNonAscii(x))"
   ]
  },
  {
   "cell_type": "code",
   "execution_count": 12,
   "metadata": {},
   "outputs": [],
   "source": [
    "# get stop words of all languages\n",
    "STOPWORDS_DICT = {lang: set(nltk.corpus.stopwords.words(lang)) for lang in nltk.corpus.stopwords.fileids()}"
   ]
  },
  {
   "cell_type": "code",
   "execution_count": 13,
   "metadata": {},
   "outputs": [],
   "source": [
    "# function to detect language based on # of stop words for particular language\n",
    "def get_language(text):\n",
    "    words = set(nltk.wordpunct_tokenize(text.lower()))\n",
    "    \n",
    "    lang  = max(((lang, len(words & stopwords)) for lang, stopwords in STOPWORDS_DICT.items()), key = lambda x: x[1])[0]\n",
    "    \n",
    "    if lang == 'english':\n",
    "        return True\n",
    "    else:\n",
    "        return False"
   ]
  },
  {
   "cell_type": "code",
   "execution_count": 15,
   "metadata": {},
   "outputs": [],
   "source": [
    "# filter for only english comments\n",
    "eng_comments = comments[comments.apply(get_language)]"
   ]
  },
  {
   "cell_type": "code",
   "execution_count": 20,
   "metadata": {},
   "outputs": [
    {
     "name": "stderr",
     "output_type": "stream",
     "text": [
      "C:\\Users\\bhupe\\AppData\\Local\\Temp\\ipykernel_30832\\3652881321.py:1: FutureWarning: Passing a negative integer is deprecated in version 1.0 and will not be supported in future version. Instead, use None to not limit the column width.\n",
      "  pd.set_option('display.max_colwidth', -1)\n"
     ]
    }
   ],
   "source": [
    "pd.set_option('display.max_colwidth', -1)"
   ]
  },
  {
   "cell_type": "code",
   "execution_count": 21,
   "metadata": {},
   "outputs": [
    {
     "data": {
      "text/plain": [
       "30    heat in room did not work properly, tv remote was broken excessive noise                                                                                \n",
       "33    It was a great stay                                                                                                                                     \n",
       "39    was too quick, but very nice area                                                                                                                       \n",
       "44    Convenient and comfortable. Staff is great, breakfast and WiFi is a bonus.                                                                              \n",
       "52    Our room was a bit small. There was no microwave in the room. Location was more for couples than for family. The room itself And service were excellent.\n",
       "Name: reviews.text, dtype: object"
      ]
     },
     "execution_count": 21,
     "metadata": {},
     "output_type": "execute_result"
    }
   ],
   "source": [
    "eng_comments.head()"
   ]
  },
  {
   "cell_type": "code",
   "execution_count": 22,
   "metadata": {},
   "outputs": [],
   "source": [
    "#drop duplicates\n",
    "eng_comments.drop_duplicates(inplace=True)"
   ]
  },
  {
   "cell_type": "code",
   "execution_count": 62,
   "metadata": {},
   "outputs": [],
   "source": [
    "#!python -m spacy download en\n",
    "#!python -m spacy download en_core_web_sm"
   ]
  },
  {
   "cell_type": "code",
   "execution_count": 23,
   "metadata": {},
   "outputs": [],
   "source": [
    "#load spacy\n",
    "nlp = spacy.load(\"en_core_web_sm\")"
   ]
  },
  {
   "cell_type": "code",
   "execution_count": 24,
   "metadata": {},
   "outputs": [],
   "source": [
    "# function to clean and lemmatize comments\n",
    "def clean_comments(text):\n",
    "    \n",
    "    # remove punctuations\n",
    "    regex   = re.compile('[' + re.escape(string.punctuation) + '\\\\r\\\\t\\\\n]')\n",
    "    \n",
    "    nopunct = regex.sub(\" \", str(text))\n",
    "    \n",
    "    # use spacy to lemmatize comments\n",
    "    doc   = nlp(nopunct, disable=['parser','ner'])\n",
    "    \n",
    "    lemma = [token.lemma_ for token in doc]\n",
    "    \n",
    "    return lemma"
   ]
  },
  {
   "cell_type": "code",
   "execution_count": 25,
   "metadata": {},
   "outputs": [
    {
     "name": "stdout",
     "output_type": "stream",
     "text": [
      "Wall time: 2.5 s\n"
     ]
    }
   ],
   "source": [
    "%%time\n",
    "# apply function to clean and lemmatize comments\n",
    "lemmatized = eng_comments.map(clean_comments)"
   ]
  },
  {
   "cell_type": "code",
   "execution_count": 26,
   "metadata": {},
   "outputs": [
    {
     "name": "stdout",
     "output_type": "stream",
     "text": [
      "Wall time: 2.21 ms\n"
     ]
    }
   ],
   "source": [
    "%%time\n",
    "# make sure to lowercase everything\n",
    "lemmatized = lemmatized.map(lambda x: [word.lower() for word in x])"
   ]
  },
  {
   "cell_type": "code",
   "execution_count": 27,
   "metadata": {},
   "outputs": [
    {
     "data": {
      "text/plain": [
       "30     [heat, in, room, do, not, work, properly,  , tv, remote, be, break, excessive, noise]                                                                                                        \n",
       "33     [it, be, a, great, stay]                                                                                                                                                                     \n",
       "39     [be, too, quick,  , but, very, nice, area]                                                                                                                                                   \n",
       "44     [convenient, and, comfortable,  , staff, be, great,  , breakfast, and, wifi, be, a, bonus]                                                                                                   \n",
       "52     [our, room, be, a, bit, small,  , there, be, no, microwave, in, the, room,  , location, be, more, for, couple, than, for, family,  , the, room, itself, and, service, be, excellent]         \n",
       "53     [this, hotel, be, a, peach,  , the, staff, be, friendly,  , the, hot, breakfast, filling, and, the, room, be, immaculate,  , this, should, be, a, poster, child, for, how, to, run, a, hotel]\n",
       "106    [great, location,  , extremely, comfortable, bed, and, pillow,  , wonderful, friendly, staff]                                                                                                \n",
       "108    [the, breakfast, at, 17, buck, be, a, bit, of, disgrace,  , it, be, a, particular, building]                                                                                                 \n",
       "Name: reviews.text, dtype: object"
      ]
     },
     "execution_count": 27,
     "metadata": {},
     "output_type": "execute_result"
    }
   ],
   "source": [
    "lemmatized.head(8)"
   ]
  },
  {
   "cell_type": "markdown",
   "metadata": {},
   "source": [
    "-------------------------------------------------\n",
    "#### bigrams and trigrams\n",
    "-------------------------------------------------"
   ]
  },
  {
   "cell_type": "code",
   "execution_count": 28,
   "metadata": {},
   "outputs": [
    {
     "data": {
      "text/plain": [
       "pandas.core.series.Series"
      ]
     },
     "execution_count": 28,
     "metadata": {},
     "output_type": "execute_result"
    }
   ],
   "source": [
    "type(lemmatized)"
   ]
  },
  {
   "cell_type": "code",
   "execution_count": 29,
   "metadata": {},
   "outputs": [
    {
     "data": {
      "text/html": [
       "<div>\n",
       "<style scoped>\n",
       "    .dataframe tbody tr th:only-of-type {\n",
       "        vertical-align: middle;\n",
       "    }\n",
       "\n",
       "    .dataframe tbody tr th {\n",
       "        vertical-align: top;\n",
       "    }\n",
       "\n",
       "    .dataframe thead th {\n",
       "        text-align: right;\n",
       "    }\n",
       "</style>\n",
       "<table border=\"1\" class=\"dataframe\">\n",
       "  <thead>\n",
       "    <tr style=\"text-align: right;\">\n",
       "      <th></th>\n",
       "      <th>reviews.text</th>\n",
       "    </tr>\n",
       "  </thead>\n",
       "  <tbody>\n",
       "    <tr>\n",
       "      <th>30</th>\n",
       "      <td>[heat, in, room, do, not, work, properly,  , tv, remote, be, break, excessive, noise]</td>\n",
       "    </tr>\n",
       "    <tr>\n",
       "      <th>33</th>\n",
       "      <td>[it, be, a, great, stay]</td>\n",
       "    </tr>\n",
       "    <tr>\n",
       "      <th>39</th>\n",
       "      <td>[be, too, quick,  , but, very, nice, area]</td>\n",
       "    </tr>\n",
       "    <tr>\n",
       "      <th>44</th>\n",
       "      <td>[convenient, and, comfortable,  , staff, be, great,  , breakfast, and, wifi, be, a, bonus]</td>\n",
       "    </tr>\n",
       "    <tr>\n",
       "      <th>52</th>\n",
       "      <td>[our, room, be, a, bit, small,  , there, be, no, microwave, in, the, room,  , location, be, more, for, couple, than, for, family,  , the, room, itself, and, service, be, excellent]</td>\n",
       "    </tr>\n",
       "    <tr>\n",
       "      <th>...</th>\n",
       "      <td>...</td>\n",
       "    </tr>\n",
       "    <tr>\n",
       "      <th>9836</th>\n",
       "      <td>[not, luxury,  , but, not, dirty, and, a, place, to, rest, head,  , can, t, complain,  , great, price, for, a, room]</td>\n",
       "    </tr>\n",
       "    <tr>\n",
       "      <th>9902</th>\n",
       "      <td>[the, room, be, very, clean, and, the, staff, at, the, front, desk, be, wonderful, helpful,  , nice, to, have, a, hot, breakfast, option, too]</td>\n",
       "    </tr>\n",
       "    <tr>\n",
       "      <th>9920</th>\n",
       "      <td>[it, be, great, for, the, night,  , very, nice, and, very, quiet,  , very, helpful, person, at, front, desk]</td>\n",
       "    </tr>\n",
       "    <tr>\n",
       "      <th>9939</th>\n",
       "      <td>[a, stop, for, lunch, be, fine,  ]</td>\n",
       "    </tr>\n",
       "    <tr>\n",
       "      <th>9987</th>\n",
       "      <td>[very, nice, hotel]</td>\n",
       "    </tr>\n",
       "  </tbody>\n",
       "</table>\n",
       "<p>466 rows × 1 columns</p>\n",
       "</div>"
      ],
      "text/plain": [
       "                                                                                                                                                                              reviews.text\n",
       "30    [heat, in, room, do, not, work, properly,  , tv, remote, be, break, excessive, noise]                                                                                               \n",
       "33    [it, be, a, great, stay]                                                                                                                                                            \n",
       "39    [be, too, quick,  , but, very, nice, area]                                                                                                                                          \n",
       "44    [convenient, and, comfortable,  , staff, be, great,  , breakfast, and, wifi, be, a, bonus]                                                                                          \n",
       "52    [our, room, be, a, bit, small,  , there, be, no, microwave, in, the, room,  , location, be, more, for, couple, than, for, family,  , the, room, itself, and, service, be, excellent]\n",
       "...                                                                                                                                                                                    ...\n",
       "9836  [not, luxury,  , but, not, dirty, and, a, place, to, rest, head,  , can, t, complain,  , great, price, for, a, room]                                                                \n",
       "9902  [the, room, be, very, clean, and, the, staff, at, the, front, desk, be, wonderful, helpful,  , nice, to, have, a, hot, breakfast, option, too]                                      \n",
       "9920  [it, be, great, for, the, night,  , very, nice, and, very, quiet,  , very, helpful, person, at, front, desk]                                                                        \n",
       "9939  [a, stop, for, lunch, be, fine,  ]                                                                                                                                                  \n",
       "9987  [very, nice, hotel]                                                                                                                                                                 \n",
       "\n",
       "[466 rows x 1 columns]"
      ]
     },
     "execution_count": 29,
     "metadata": {},
     "output_type": "execute_result"
    }
   ],
   "source": [
    "pd.DataFrame(lemmatized)"
   ]
  },
  {
   "cell_type": "code",
   "execution_count": 30,
   "metadata": {},
   "outputs": [],
   "source": [
    "# turn all comments' tokens into one single list\n",
    "unlist_comments = [item for items in lemmatized for item in items]"
   ]
  },
  {
   "cell_type": "code",
   "execution_count": 31,
   "metadata": {},
   "outputs": [
    {
     "data": {
      "text/plain": [
       "10233"
      ]
     },
     "execution_count": 31,
     "metadata": {},
     "output_type": "execute_result"
    }
   ],
   "source": [
    "len(unlist_comments)"
   ]
  },
  {
   "cell_type": "code",
   "execution_count": 32,
   "metadata": {},
   "outputs": [
    {
     "data": {
      "text/plain": [
       "['heat',\n",
       " 'in',\n",
       " 'room',\n",
       " 'do',\n",
       " 'not',\n",
       " 'work',\n",
       " 'properly',\n",
       " ' ',\n",
       " 'tv',\n",
       " 'remote',\n",
       " 'be',\n",
       " 'break',\n",
       " 'excessive',\n",
       " 'noise',\n",
       " 'it',\n",
       " 'be',\n",
       " 'a',\n",
       " 'great',\n",
       " 'stay',\n",
       " 'be',\n",
       " 'too',\n",
       " 'quick',\n",
       " ' ',\n",
       " 'but',\n",
       " 'very',\n",
       " 'nice',\n",
       " 'area',\n",
       " 'convenient',\n",
       " 'and',\n",
       " 'comfortable']"
      ]
     },
     "execution_count": 32,
     "metadata": {},
     "output_type": "execute_result"
    }
   ],
   "source": [
    "unlist_comments[:30]"
   ]
  },
  {
   "cell_type": "markdown",
   "metadata": {},
   "source": [
    "#### 2. FINDERS - Initialize NLTK's Bigrams/Trigrams Finder\n",
    "\n",
    "#### `nltk.BigramCollocationFinder`"
   ]
  },
  {
   "cell_type": "markdown",
   "metadata": {},
   "source": [
    "A tool for the finding and ranking of bigram collocations or other association measures. It is often useful to use from_words() rather than constructing an instance directly.\n",
    "\n",
    "The collocations package provides collocation finders which by default consider all ngrams in a text as candidate collocations:"
   ]
  },
  {
   "cell_type": "markdown",
   "metadata": {},
   "source": [
    "Finders - example"
   ]
  },
  {
   "cell_type": "code",
   "execution_count": 33,
   "metadata": {},
   "outputs": [
    {
     "data": {
      "text/plain": [
       "['I',\n",
       " 'do',\n",
       " 'not',\n",
       " 'like',\n",
       " 'green',\n",
       " 'eggs',\n",
       " 'and',\n",
       " 'ham',\n",
       " ',',\n",
       " 'I',\n",
       " 'do',\n",
       " 'not',\n",
       " 'like',\n",
       " 'them',\n",
       " 'Sam',\n",
       " 'I',\n",
       " 'am',\n",
       " '!']"
      ]
     },
     "execution_count": 33,
     "metadata": {},
     "output_type": "execute_result"
    }
   ],
   "source": [
    "text = \"I do not like green eggs and ham, I do not like them Sam I am!\"\n",
    "tokens = nltk.wordpunct_tokenize(text)\n",
    "\n",
    "tokens"
   ]
  },
  {
   "cell_type": "code",
   "execution_count": 34,
   "metadata": {},
   "outputs": [],
   "source": [
    "finder     = nltk.collocations.BigramCollocationFinder.from_words(tokens)\n",
    "\n",
    "items_dict = finder.ngram_fd.items()"
   ]
  },
  {
   "cell_type": "code",
   "execution_count": 35,
   "metadata": {},
   "outputs": [
    {
     "data": {
      "text/plain": [
       "nltk.collocations.BigramCollocationFinder"
      ]
     },
     "execution_count": 35,
     "metadata": {},
     "output_type": "execute_result"
    }
   ],
   "source": [
    "type(finder)"
   ]
  },
  {
   "cell_type": "code",
   "execution_count": 36,
   "metadata": {},
   "outputs": [
    {
     "data": {
      "text/plain": [
       "14"
      ]
     },
     "execution_count": 36,
     "metadata": {},
     "output_type": "execute_result"
    }
   ],
   "source": [
    "len(items_dict)"
   ]
  },
  {
   "cell_type": "raw",
   "metadata": {},
   "source": [
    "text = \"I do not like green eggs and ham, I do not like them Sam I am!\""
   ]
  },
  {
   "cell_type": "code",
   "execution_count": 37,
   "metadata": {},
   "outputs": [
    {
     "data": {
      "text/plain": [
       "dict_items([(('I', 'do'), 2), (('do', 'not'), 2), (('not', 'like'), 2), (('like', 'green'), 1), (('green', 'eggs'), 1), (('eggs', 'and'), 1), (('and', 'ham'), 1), (('ham', ','), 1), ((',', 'I'), 1), (('like', 'them'), 1), (('them', 'Sam'), 1), (('Sam', 'I'), 1), (('I', 'am'), 1), (('am', '!'), 1)])"
      ]
     },
     "execution_count": 37,
     "metadata": {},
     "output_type": "execute_result"
    }
   ],
   "source": [
    "items_dict"
   ]
  },
  {
   "cell_type": "code",
   "execution_count": 38,
   "metadata": {},
   "outputs": [],
   "source": [
    "bigram_measures  = nltk.collocations.BigramAssocMeasures()\n",
    "trigram_measures = nltk.collocations.TrigramAssocMeasures()"
   ]
  },
  {
   "cell_type": "code",
   "execution_count": 39,
   "metadata": {},
   "outputs": [
    {
     "data": {
      "text/plain": [
       "[(('I', 'do'), 0.1111111111111111),\n",
       " (('do', 'not'), 0.1111111111111111),\n",
       " (('not', 'like'), 0.1111111111111111),\n",
       " ((',', 'I'), 0.05555555555555555),\n",
       " (('I', 'am'), 0.05555555555555555),\n",
       " (('Sam', 'I'), 0.05555555555555555),\n",
       " (('am', '!'), 0.05555555555555555),\n",
       " (('and', 'ham'), 0.05555555555555555),\n",
       " (('eggs', 'and'), 0.05555555555555555),\n",
       " (('green', 'eggs'), 0.05555555555555555),\n",
       " (('ham', ','), 0.05555555555555555),\n",
       " (('like', 'green'), 0.05555555555555555),\n",
       " (('like', 'them'), 0.05555555555555555),\n",
       " (('them', 'Sam'), 0.05555555555555555)]"
      ]
     },
     "execution_count": 39,
     "metadata": {},
     "output_type": "execute_result"
    }
   ],
   "source": [
    "scored = finder.score_ngrams(bigram_measures.raw_freq)\n",
    "scored"
   ]
  },
  {
   "cell_type": "code",
   "execution_count": 40,
   "metadata": {},
   "outputs": [
    {
     "data": {
      "text/plain": [
       "[(',', 'I'),\n",
       " ('I', 'am'),\n",
       " ('I', 'do'),\n",
       " ('Sam', 'I'),\n",
       " ('am', '!'),\n",
       " ('and', 'ham'),\n",
       " ('do', 'not'),\n",
       " ('eggs', 'and'),\n",
       " ('green', 'eggs'),\n",
       " ('ham', ','),\n",
       " ('like', 'green'),\n",
       " ('like', 'them'),\n",
       " ('not', 'like'),\n",
       " ('them', 'Sam')]"
      ]
     },
     "execution_count": 40,
     "metadata": {},
     "output_type": "execute_result"
    }
   ],
   "source": [
    "sorted(bigram for bigram, score in scored)"
   ]
  },
  {
   "cell_type": "markdown",
   "metadata": {},
   "source": [
    "... back to the main code"
   ]
  },
  {
   "cell_type": "code",
   "execution_count": 41,
   "metadata": {},
   "outputs": [
    {
     "name": "stdout",
     "output_type": "stream",
     "text": [
      "Wall time: 65.8 ms\n"
     ]
    }
   ],
   "source": [
    "%%time\n",
    "bigramFinder  = nltk.collocations.BigramCollocationFinder.from_words(unlist_comments)\n",
    "trigramFinder = nltk.collocations.TrigramCollocationFinder.from_words(unlist_comments)"
   ]
  },
  {
   "cell_type": "markdown",
   "metadata": {},
   "source": [
    "1. Counting Frequencies of Adjacent Words\n",
    "\n",
    "    - Main idea: simply order by frequency\n",
    "\n",
    "    - Issues: too sensitive to very frequent pairs and pronouns/articles/prepositions come up often\n",
    "\n",
    "    - Solution: filter for only adjectives and nouns"
   ]
  },
  {
   "cell_type": "markdown",
   "metadata": {},
   "source": [
    "#### bigrams"
   ]
  },
  {
   "cell_type": "code",
   "execution_count": 42,
   "metadata": {},
   "outputs": [],
   "source": [
    "bigram_freq = bigramFinder.ngram_fd.items()"
   ]
  },
  {
   "cell_type": "code",
   "execution_count": 43,
   "metadata": {},
   "outputs": [
    {
     "data": {
      "text/plain": [
       "dict_items"
      ]
     },
     "execution_count": 43,
     "metadata": {},
     "output_type": "execute_result"
    }
   ],
   "source": [
    "type(bigram_freq)"
   ]
  },
  {
   "cell_type": "code",
   "execution_count": 44,
   "metadata": {},
   "outputs": [
    {
     "data": {
      "text/plain": [
       "5356"
      ]
     },
     "execution_count": 44,
     "metadata": {},
     "output_type": "execute_result"
    }
   ],
   "source": [
    "len(bigram_freq)"
   ]
  },
  {
   "cell_type": "code",
   "execution_count": 45,
   "metadata": {},
   "outputs": [
    {
     "data": {
      "text/plain": [
       "[(('heat', 'in'), 1),\n",
       " (('in', 'room'), 2),\n",
       " (('room', 'do'), 1),\n",
       " (('do', 'not'), 11),\n",
       " (('not', 'work'), 3),\n",
       " (('work', 'properly'), 2),\n",
       " (('properly', ' '), 2),\n",
       " ((' ', 'tv'), 4),\n",
       " (('tv', 'remote'), 1),\n",
       " (('remote', 'be'), 1),\n",
       " (('be', 'break'), 3),\n",
       " (('break', 'excessive'), 1),\n",
       " (('excessive', 'noise'), 1),\n",
       " (('noise', 'it'), 1),\n",
       " (('it', 'be'), 44)]"
      ]
     },
     "execution_count": 45,
     "metadata": {},
     "output_type": "execute_result"
    }
   ],
   "source": [
    "list(bigram_freq)[:15]"
   ]
  },
  {
   "cell_type": "code",
   "execution_count": 46,
   "metadata": {},
   "outputs": [],
   "source": [
    "bigramFreqTable = pd.DataFrame(list(bigram_freq), columns=['bigram','freq']).sort_values(by='freq', ascending=False)"
   ]
  },
  {
   "cell_type": "code",
   "execution_count": 47,
   "metadata": {},
   "outputs": [
    {
     "data": {
      "text/html": [
       "<div>\n",
       "<style scoped>\n",
       "    .dataframe tbody tr th:only-of-type {\n",
       "        vertical-align: middle;\n",
       "    }\n",
       "\n",
       "    .dataframe tbody tr th {\n",
       "        vertical-align: top;\n",
       "    }\n",
       "\n",
       "    .dataframe thead th {\n",
       "        text-align: right;\n",
       "    }\n",
       "</style>\n",
       "<table border=\"1\" class=\"dataframe\">\n",
       "  <thead>\n",
       "    <tr style=\"text-align: right;\">\n",
       "      <th></th>\n",
       "      <th>bigram</th>\n",
       "      <th>freq</th>\n",
       "    </tr>\n",
       "  </thead>\n",
       "  <tbody>\n",
       "    <tr>\n",
       "      <th>0</th>\n",
       "      <td>( , the)</td>\n",
       "      <td>137</td>\n",
       "    </tr>\n",
       "    <tr>\n",
       "      <th>1</th>\n",
       "      <td>(be, very)</td>\n",
       "      <td>110</td>\n",
       "    </tr>\n",
       "    <tr>\n",
       "      <th>2</th>\n",
       "      <td>(staff, be)</td>\n",
       "      <td>84</td>\n",
       "    </tr>\n",
       "    <tr>\n",
       "      <th>3</th>\n",
       "      <td>(room, be)</td>\n",
       "      <td>75</td>\n",
       "    </tr>\n",
       "    <tr>\n",
       "      <th>4</th>\n",
       "      <td>(and, the)</td>\n",
       "      <td>63</td>\n",
       "    </tr>\n",
       "    <tr>\n",
       "      <th>5</th>\n",
       "      <td>(be, a)</td>\n",
       "      <td>61</td>\n",
       "    </tr>\n",
       "    <tr>\n",
       "      <th>6</th>\n",
       "      <td>(the, staff)</td>\n",
       "      <td>55</td>\n",
       "    </tr>\n",
       "    <tr>\n",
       "      <th>7</th>\n",
       "      <td>(the, room)</td>\n",
       "      <td>51</td>\n",
       "    </tr>\n",
       "    <tr>\n",
       "      <th>8</th>\n",
       "      <td>(the, hotel)</td>\n",
       "      <td>48</td>\n",
       "    </tr>\n",
       "    <tr>\n",
       "      <th>9</th>\n",
       "      <td>(hotel, be)</td>\n",
       "      <td>47</td>\n",
       "    </tr>\n",
       "  </tbody>\n",
       "</table>\n",
       "</div>"
      ],
      "text/plain": [
       "         bigram  freq\n",
       "0  ( , the)      137 \n",
       "1  (be, very)    110 \n",
       "2  (staff, be)   84  \n",
       "3  (room, be)    75  \n",
       "4  (and, the)    63  \n",
       "5  (be, a)       61  \n",
       "6  (the, staff)  55  \n",
       "7  (the, room)   51  \n",
       "8  (the, hotel)  48  \n",
       "9  (hotel, be)   47  "
      ]
     },
     "execution_count": 47,
     "metadata": {},
     "output_type": "execute_result"
    }
   ],
   "source": [
    "bigramFreqTable.head(10).reset_index(drop=True)"
   ]
  },
  {
   "cell_type": "code",
   "execution_count": 48,
   "metadata": {},
   "outputs": [
    {
     "data": {
      "text/html": [
       "<div>\n",
       "<style scoped>\n",
       "    .dataframe tbody tr th:only-of-type {\n",
       "        vertical-align: middle;\n",
       "    }\n",
       "\n",
       "    .dataframe tbody tr th {\n",
       "        vertical-align: top;\n",
       "    }\n",
       "\n",
       "    .dataframe thead th {\n",
       "        text-align: right;\n",
       "    }\n",
       "</style>\n",
       "<table border=\"1\" class=\"dataframe\">\n",
       "  <thead>\n",
       "    <tr style=\"text-align: right;\">\n",
       "      <th></th>\n",
       "      <th>bigram</th>\n",
       "      <th>freq</th>\n",
       "    </tr>\n",
       "  </thead>\n",
       "  <tbody>\n",
       "    <tr>\n",
       "      <th>3387</th>\n",
       "      <td>(nice, motel)</td>\n",
       "      <td>1</td>\n",
       "    </tr>\n",
       "    <tr>\n",
       "      <th>5241</th>\n",
       "      <td>(at, be)</td>\n",
       "      <td>1</td>\n",
       "    </tr>\n",
       "    <tr>\n",
       "      <th>971</th>\n",
       "      <td>(provide, shampoo)</td>\n",
       "      <td>1</td>\n",
       "    </tr>\n",
       "    <tr>\n",
       "      <th>1491</th>\n",
       "      <td>(minor, flaw)</td>\n",
       "      <td>1</td>\n",
       "    </tr>\n",
       "    <tr>\n",
       "      <th>2903</th>\n",
       "      <td>( , only)</td>\n",
       "      <td>1</td>\n",
       "    </tr>\n",
       "    <tr>\n",
       "      <th>4403</th>\n",
       "      <td>(nice, location)</td>\n",
       "      <td>2</td>\n",
       "    </tr>\n",
       "    <tr>\n",
       "      <th>2191</th>\n",
       "      <td>(of, which)</td>\n",
       "      <td>1</td>\n",
       "    </tr>\n",
       "    <tr>\n",
       "      <th>2928</th>\n",
       "      <td>(call, in)</td>\n",
       "      <td>1</td>\n",
       "    </tr>\n",
       "    <tr>\n",
       "      <th>3247</th>\n",
       "      <td>(staff, road)</td>\n",
       "      <td>1</td>\n",
       "    </tr>\n",
       "    <tr>\n",
       "      <th>3761</th>\n",
       "      <td>(days,  )</td>\n",
       "      <td>1</td>\n",
       "    </tr>\n",
       "  </tbody>\n",
       "</table>\n",
       "</div>"
      ],
      "text/plain": [
       "                  bigram  freq\n",
       "3387  (nice, motel)       1   \n",
       "5241  (at, be)            1   \n",
       "971   (provide, shampoo)  1   \n",
       "1491  (minor, flaw)       1   \n",
       "2903  ( , only)           1   \n",
       "4403  (nice, location)    2   \n",
       "2191  (of, which)         1   \n",
       "2928  (call, in)          1   \n",
       "3247  (staff, road)       1   \n",
       "3761  (days,  )           1   "
      ]
     },
     "execution_count": 48,
     "metadata": {},
     "output_type": "execute_result"
    }
   ],
   "source": [
    "bigramFreqTable.sample(10)"
   ]
  },
  {
   "cell_type": "code",
   "execution_count": 49,
   "metadata": {},
   "outputs": [],
   "source": [
    "# get english stopwords\n",
    "en_stopwords = set(stopwords.words('english'))"
   ]
  },
  {
   "cell_type": "code",
   "execution_count": 50,
   "metadata": {},
   "outputs": [],
   "source": [
    "# function to filter for ADJ/NN bigrams\n",
    "def rightTypes(ngram):\n",
    "    if '-pron-' in ngram or '' in ngram or ' ' in ngram or 't' in ngram:\n",
    "        return False\n",
    "    \n",
    "    for word in ngram:\n",
    "        if word in en_stopwords:\n",
    "            return False\n",
    "        \n",
    "    acceptable_types = ('JJ', 'JJR', 'JJS', 'NN', 'NNS', 'NNP', 'NNPS')\n",
    "    second_type      = ('NN', 'NNS', 'NNP', 'NNPS')\n",
    "    \n",
    "    tags = nltk.pos_tag(ngram)\n",
    "    \n",
    "    if tags[0][1] in acceptable_types and tags[1][1] in second_type:\n",
    "        return True\n",
    "    else:\n",
    "        return False"
   ]
  },
  {
   "cell_type": "markdown",
   "metadata": {},
   "source": [
    "[('Sukanya', 'NNP'), (',', ','), ('Rajib', 'NNP'), ('Naba', 'NNP'), ('good', 'JJ'), ('friends', 'NNS'), ('.', '.')]\n",
    "[('Sukanya', 'NNP'), ('getting', 'VBG'), ('married', 'VBN'), ('next', 'JJ'), ('year', 'NN'), ('.', '.')]\n",
    "[('Marriage', 'NN'), ('big', 'JJ'), ('step', 'NN'), ('one', 'CD'), ('’', 'NN'), ('life.\\\\', 'VBZ'), ('It', 'PRP'), ('exciting', 'VBG'), ('frightening', 'VBG'), ('.', '.')]\n",
    "[('But', 'CC'), ('friendship', 'NN'), ('sacred', 'VBD'), ('bond', 'NN'), ('people', 'NNS'), ('.', '.')]\n",
    "[('\\\\', 'VB'), ('It', 'PRP'), ('special', 'JJ'), ('kind', 'NN'), ('love', 'VB'), ('us', 'PRP'), ('.', '.')]\n",
    "[('Many', 'JJ'), ('must', 'MD'), ('tried', 'VB'), ('searching', 'VBG'), ('friend', 'NN'), ('never', 'RB'), ('found', 'VBD'), ('right', 'JJ'), ('one', 'CD'), ('.', '.')]"
   ]
  },
  {
   "cell_type": "code",
   "execution_count": 51,
   "metadata": {},
   "outputs": [
    {
     "name": "stdout",
     "output_type": "stream",
     "text": [
      "Wall time: 971 ms\n"
     ]
    }
   ],
   "source": [
    "%%time\n",
    "# filter bigrams\n",
    "filtered_bi = bigramFreqTable[bigramFreqTable.bigram.map(lambda x: rightTypes(x))]"
   ]
  },
  {
   "cell_type": "code",
   "execution_count": 52,
   "metadata": {},
   "outputs": [
    {
     "data": {
      "text/html": [
       "<div>\n",
       "<style scoped>\n",
       "    .dataframe tbody tr th:only-of-type {\n",
       "        vertical-align: middle;\n",
       "    }\n",
       "\n",
       "    .dataframe tbody tr th {\n",
       "        vertical-align: top;\n",
       "    }\n",
       "\n",
       "    .dataframe thead th {\n",
       "        text-align: right;\n",
       "    }\n",
       "</style>\n",
       "<table border=\"1\" class=\"dataframe\">\n",
       "  <thead>\n",
       "    <tr style=\"text-align: right;\">\n",
       "      <th></th>\n",
       "      <th>bigram</th>\n",
       "      <th>freq</th>\n",
       "    </tr>\n",
       "  </thead>\n",
       "  <tbody>\n",
       "    <tr>\n",
       "      <th>105</th>\n",
       "      <td>(friendly, staff)</td>\n",
       "      <td>27</td>\n",
       "    </tr>\n",
       "    <tr>\n",
       "      <th>95</th>\n",
       "      <td>(great, location)</td>\n",
       "      <td>16</td>\n",
       "    </tr>\n",
       "    <tr>\n",
       "      <th>305</th>\n",
       "      <td>(front, desk)</td>\n",
       "      <td>14</td>\n",
       "    </tr>\n",
       "    <tr>\n",
       "      <th>17</th>\n",
       "      <td>(great, stay)</td>\n",
       "      <td>14</td>\n",
       "    </tr>\n",
       "    <tr>\n",
       "      <th>1042</th>\n",
       "      <td>(great, place)</td>\n",
       "      <td>13</td>\n",
       "    </tr>\n",
       "    <tr>\n",
       "      <th>148</th>\n",
       "      <td>(clean, room)</td>\n",
       "      <td>12</td>\n",
       "    </tr>\n",
       "    <tr>\n",
       "      <th>1139</th>\n",
       "      <td>(nice, hotel)</td>\n",
       "      <td>10</td>\n",
       "    </tr>\n",
       "    <tr>\n",
       "      <th>99</th>\n",
       "      <td>(comfortable, bed)</td>\n",
       "      <td>9</td>\n",
       "    </tr>\n",
       "    <tr>\n",
       "      <th>393</th>\n",
       "      <td>(helpful, staff)</td>\n",
       "      <td>9</td>\n",
       "    </tr>\n",
       "    <tr>\n",
       "      <th>1656</th>\n",
       "      <td>(great, breakfast)</td>\n",
       "      <td>8</td>\n",
       "    </tr>\n",
       "    <tr>\n",
       "      <th>389</th>\n",
       "      <td>(great, hotel)</td>\n",
       "      <td>8</td>\n",
       "    </tr>\n",
       "    <tr>\n",
       "      <th>2162</th>\n",
       "      <td>(great, value)</td>\n",
       "      <td>7</td>\n",
       "    </tr>\n",
       "    <tr>\n",
       "      <th>952</th>\n",
       "      <td>(great, time)</td>\n",
       "      <td>7</td>\n",
       "    </tr>\n",
       "    <tr>\n",
       "      <th>1458</th>\n",
       "      <td>(nice, room)</td>\n",
       "      <td>7</td>\n",
       "    </tr>\n",
       "    <tr>\n",
       "      <th>1540</th>\n",
       "      <td>(comfortable, room)</td>\n",
       "      <td>6</td>\n",
       "    </tr>\n",
       "    <tr>\n",
       "      <th>348</th>\n",
       "      <td>(complimentary, breakfast)</td>\n",
       "      <td>6</td>\n",
       "    </tr>\n",
       "    <tr>\n",
       "      <th>1835</th>\n",
       "      <td>(hotel, staff)</td>\n",
       "      <td>6</td>\n",
       "    </tr>\n",
       "    <tr>\n",
       "      <th>2529</th>\n",
       "      <td>(great, room)</td>\n",
       "      <td>6</td>\n",
       "    </tr>\n",
       "    <tr>\n",
       "      <th>673</th>\n",
       "      <td>(free, breakfast)</td>\n",
       "      <td>6</td>\n",
       "    </tr>\n",
       "    <tr>\n",
       "      <th>1328</th>\n",
       "      <td>(easy, access)</td>\n",
       "      <td>6</td>\n",
       "    </tr>\n",
       "    <tr>\n",
       "      <th>1623</th>\n",
       "      <td>(pool, area)</td>\n",
       "      <td>5</td>\n",
       "    </tr>\n",
       "    <tr>\n",
       "      <th>143</th>\n",
       "      <td>(customer, service)</td>\n",
       "      <td>5</td>\n",
       "    </tr>\n",
       "    <tr>\n",
       "      <th>1779</th>\n",
       "      <td>(clean, hotel)</td>\n",
       "      <td>5</td>\n",
       "    </tr>\n",
       "    <tr>\n",
       "      <th>452</th>\n",
       "      <td>(walk, distance)</td>\n",
       "      <td>5</td>\n",
       "    </tr>\n",
       "    <tr>\n",
       "      <th>479</th>\n",
       "      <td>(hot, tub)</td>\n",
       "      <td>5</td>\n",
       "    </tr>\n",
       "    <tr>\n",
       "      <th>1337</th>\n",
       "      <td>(desk, clerk)</td>\n",
       "      <td>4</td>\n",
       "    </tr>\n",
       "    <tr>\n",
       "      <th>1343</th>\n",
       "      <td>(nice, place)</td>\n",
       "      <td>4</td>\n",
       "    </tr>\n",
       "    <tr>\n",
       "      <th>646</th>\n",
       "      <td>(shuttle, service)</td>\n",
       "      <td>4</td>\n",
       "    </tr>\n",
       "    <tr>\n",
       "      <th>1736</th>\n",
       "      <td>(quiet, room)</td>\n",
       "      <td>4</td>\n",
       "    </tr>\n",
       "    <tr>\n",
       "      <th>290</th>\n",
       "      <td>(beautiful, hotel)</td>\n",
       "      <td>4</td>\n",
       "    </tr>\n",
       "  </tbody>\n",
       "</table>\n",
       "</div>"
      ],
      "text/plain": [
       "                          bigram  freq\n",
       "105   (friendly, staff)           27  \n",
       "95    (great, location)           16  \n",
       "305   (front, desk)               14  \n",
       "17    (great, stay)               14  \n",
       "1042  (great, place)              13  \n",
       "148   (clean, room)               12  \n",
       "1139  (nice, hotel)               10  \n",
       "99    (comfortable, bed)          9   \n",
       "393   (helpful, staff)            9   \n",
       "1656  (great, breakfast)          8   \n",
       "389   (great, hotel)              8   \n",
       "2162  (great, value)              7   \n",
       "952   (great, time)               7   \n",
       "1458  (nice, room)                7   \n",
       "1540  (comfortable, room)         6   \n",
       "348   (complimentary, breakfast)  6   \n",
       "1835  (hotel, staff)              6   \n",
       "2529  (great, room)               6   \n",
       "673   (free, breakfast)           6   \n",
       "1328  (easy, access)              6   \n",
       "1623  (pool, area)                5   \n",
       "143   (customer, service)         5   \n",
       "1779  (clean, hotel)              5   \n",
       "452   (walk, distance)            5   \n",
       "479   (hot, tub)                  5   \n",
       "1337  (desk, clerk)               4   \n",
       "1343  (nice, place)               4   \n",
       "646   (shuttle, service)          4   \n",
       "1736  (quiet, room)               4   \n",
       "290   (beautiful, hotel)          4   "
      ]
     },
     "execution_count": 52,
     "metadata": {},
     "output_type": "execute_result"
    }
   ],
   "source": [
    "filtered_bi[:30]"
   ]
  },
  {
   "cell_type": "markdown",
   "metadata": {},
   "source": [
    "#### Trigrams"
   ]
  },
  {
   "cell_type": "code",
   "execution_count": 53,
   "metadata": {},
   "outputs": [],
   "source": [
    "trigram_freq = trigramFinder.ngram_fd.items()"
   ]
  },
  {
   "cell_type": "code",
   "execution_count": 54,
   "metadata": {},
   "outputs": [
    {
     "data": {
      "text/plain": [
       "8288"
      ]
     },
     "execution_count": 54,
     "metadata": {},
     "output_type": "execute_result"
    }
   ],
   "source": [
    "len(trigram_freq)"
   ]
  },
  {
   "cell_type": "code",
   "execution_count": 55,
   "metadata": {},
   "outputs": [
    {
     "data": {
      "text/plain": [
       "[(('heat', 'in', 'room'), 1),\n",
       " (('in', 'room', 'do'), 1),\n",
       " (('room', 'do', 'not'), 1),\n",
       " (('do', 'not', 'work'), 3),\n",
       " (('not', 'work', 'properly'), 2),\n",
       " (('work', 'properly', ' '), 2),\n",
       " (('properly', ' ', 'tv'), 1),\n",
       " ((' ', 'tv', 'remote'), 1),\n",
       " (('tv', 'remote', 'be'), 1),\n",
       " (('remote', 'be', 'break'), 1)]"
      ]
     },
     "execution_count": 55,
     "metadata": {},
     "output_type": "execute_result"
    }
   ],
   "source": [
    "list(trigram_freq)[:10]"
   ]
  },
  {
   "cell_type": "code",
   "execution_count": 56,
   "metadata": {},
   "outputs": [],
   "source": [
    "trigramFreqTable = pd.DataFrame(list(trigram_freq), columns=['trigram','freq']).sort_values(by='freq', ascending=False)"
   ]
  },
  {
   "cell_type": "code",
   "execution_count": 57,
   "metadata": {},
   "outputs": [
    {
     "data": {
      "text/html": [
       "<div>\n",
       "<style scoped>\n",
       "    .dataframe tbody tr th:only-of-type {\n",
       "        vertical-align: middle;\n",
       "    }\n",
       "\n",
       "    .dataframe tbody tr th {\n",
       "        vertical-align: top;\n",
       "    }\n",
       "\n",
       "    .dataframe thead th {\n",
       "        text-align: right;\n",
       "    }\n",
       "</style>\n",
       "<table border=\"1\" class=\"dataframe\">\n",
       "  <thead>\n",
       "    <tr style=\"text-align: right;\">\n",
       "      <th></th>\n",
       "      <th>trigram</th>\n",
       "      <th>freq</th>\n",
       "    </tr>\n",
       "  </thead>\n",
       "  <tbody>\n",
       "    <tr>\n",
       "      <th>0</th>\n",
       "      <td>(the, staff, be)</td>\n",
       "      <td>46</td>\n",
       "    </tr>\n",
       "    <tr>\n",
       "      <th>1</th>\n",
       "      <td>(the, room, be)</td>\n",
       "      <td>39</td>\n",
       "    </tr>\n",
       "    <tr>\n",
       "      <th>2</th>\n",
       "      <td>(staff, be, very)</td>\n",
       "      <td>29</td>\n",
       "    </tr>\n",
       "    <tr>\n",
       "      <th>3</th>\n",
       "      <td>(the, hotel, be)</td>\n",
       "      <td>26</td>\n",
       "    </tr>\n",
       "    <tr>\n",
       "      <th>4</th>\n",
       "      <td>( , the, staff)</td>\n",
       "      <td>25</td>\n",
       "    </tr>\n",
       "    <tr>\n",
       "      <th>5</th>\n",
       "      <td>( , staff, be)</td>\n",
       "      <td>22</td>\n",
       "    </tr>\n",
       "    <tr>\n",
       "      <th>6</th>\n",
       "      <td>( , it, be)</td>\n",
       "      <td>21</td>\n",
       "    </tr>\n",
       "    <tr>\n",
       "      <th>7</th>\n",
       "      <td>( , the, room)</td>\n",
       "      <td>20</td>\n",
       "    </tr>\n",
       "    <tr>\n",
       "      <th>8</th>\n",
       "      <td>(the, bed, be)</td>\n",
       "      <td>20</td>\n",
       "    </tr>\n",
       "    <tr>\n",
       "      <th>9</th>\n",
       "      <td>(room, be, very)</td>\n",
       "      <td>19</td>\n",
       "    </tr>\n",
       "  </tbody>\n",
       "</table>\n",
       "</div>"
      ],
      "text/plain": [
       "             trigram  freq\n",
       "0  (the, staff, be)   46  \n",
       "1  (the, room, be)    39  \n",
       "2  (staff, be, very)  29  \n",
       "3  (the, hotel, be)   26  \n",
       "4  ( , the, staff)    25  \n",
       "5  ( , staff, be)     22  \n",
       "6  ( , it, be)        21  \n",
       "7  ( , the, room)     20  \n",
       "8  (the, bed, be)     20  \n",
       "9  (room, be, very)   19  "
      ]
     },
     "execution_count": 57,
     "metadata": {},
     "output_type": "execute_result"
    }
   ],
   "source": [
    "trigramFreqTable.head(10).reset_index(drop=True)"
   ]
  },
  {
   "cell_type": "markdown",
   "metadata": {},
   "source": [
    "-- bigrams\n",
    "-- proverbs ??\n",
    "-- idioms ??\n",
    "-- removing ambiguities\n",
    "-- river bank"
   ]
  },
  {
   "cell_type": "code",
   "execution_count": 58,
   "metadata": {},
   "outputs": [
    {
     "data": {
      "text/html": [
       "<div>\n",
       "<style scoped>\n",
       "    .dataframe tbody tr th:only-of-type {\n",
       "        vertical-align: middle;\n",
       "    }\n",
       "\n",
       "    .dataframe tbody tr th {\n",
       "        vertical-align: top;\n",
       "    }\n",
       "\n",
       "    .dataframe thead th {\n",
       "        text-align: right;\n",
       "    }\n",
       "</style>\n",
       "<table border=\"1\" class=\"dataframe\">\n",
       "  <thead>\n",
       "    <tr style=\"text-align: right;\">\n",
       "      <th></th>\n",
       "      <th>trigram</th>\n",
       "      <th>freq</th>\n",
       "    </tr>\n",
       "  </thead>\n",
       "  <tbody>\n",
       "    <tr>\n",
       "      <th>4497</th>\n",
       "      <td>(a, thin, rug)</td>\n",
       "      <td>1</td>\n",
       "    </tr>\n",
       "    <tr>\n",
       "      <th>1025</th>\n",
       "      <td>(town, for, 24)</td>\n",
       "      <td>1</td>\n",
       "    </tr>\n",
       "    <tr>\n",
       "      <th>7026</th>\n",
       "      <td>(pm, as, check)</td>\n",
       "      <td>1</td>\n",
       "    </tr>\n",
       "    <tr>\n",
       "      <th>1694</th>\n",
       "      <td>(for, our, madison)</td>\n",
       "      <td>1</td>\n",
       "    </tr>\n",
       "    <tr>\n",
       "      <th>4460</th>\n",
       "      <td>(purpose,    , room)</td>\n",
       "      <td>1</td>\n",
       "    </tr>\n",
       "    <tr>\n",
       "      <th>4441</th>\n",
       "      <td>( , enjoy, my)</td>\n",
       "      <td>1</td>\n",
       "    </tr>\n",
       "    <tr>\n",
       "      <th>1444</th>\n",
       "      <td>(importantly, it, be)</td>\n",
       "      <td>1</td>\n",
       "    </tr>\n",
       "    <tr>\n",
       "      <th>5599</th>\n",
       "      <td>(make, an, error)</td>\n",
       "      <td>1</td>\n",
       "    </tr>\n",
       "    <tr>\n",
       "      <th>7190</th>\n",
       "      <td>(coffee,  , o)</td>\n",
       "      <td>1</td>\n",
       "    </tr>\n",
       "    <tr>\n",
       "      <th>5163</th>\n",
       "      <td>(king, size, bed)</td>\n",
       "      <td>1</td>\n",
       "    </tr>\n",
       "  </tbody>\n",
       "</table>\n",
       "</div>"
      ],
      "text/plain": [
       "                    trigram  freq\n",
       "4497  (a, thin, rug)         1   \n",
       "1025  (town, for, 24)        1   \n",
       "7026  (pm, as, check)        1   \n",
       "1694  (for, our, madison)    1   \n",
       "4460  (purpose,    , room)   1   \n",
       "4441  ( , enjoy, my)         1   \n",
       "1444  (importantly, it, be)  1   \n",
       "5599  (make, an, error)      1   \n",
       "7190  (coffee,  , o)         1   \n",
       "5163  (king, size, bed)      1   "
      ]
     },
     "execution_count": 58,
     "metadata": {},
     "output_type": "execute_result"
    }
   ],
   "source": [
    "trigramFreqTable.sample(10)"
   ]
  },
  {
   "cell_type": "code",
   "execution_count": 59,
   "metadata": {},
   "outputs": [],
   "source": [
    "def rightTypesTri(ngram):\n",
    "    \n",
    "    if '-pron-' in ngram or '' in ngram or ' 'in ngram or '  ' in ngram or 't' in ngram:\n",
    "        return False\n",
    "    \n",
    "    for word in ngram:\n",
    "        if word in en_stopwords:\n",
    "            return False\n",
    "        \n",
    "    first_type = ('JJ', 'JJR', 'JJS', 'NN', 'NNS', 'NNP', 'NNPS')\n",
    "    third_type = ('JJ', 'JJR', 'JJS', 'NN', 'NNS', 'NNP', 'NNPS')\n",
    "    \n",
    "    tags = nltk.pos_tag(ngram)\n",
    "    \n",
    "    if tags[0][1] in first_type and tags[2][1] in third_type:\n",
    "        return True\n",
    "    else:\n",
    "        return False"
   ]
  },
  {
   "cell_type": "code",
   "execution_count": 60,
   "metadata": {},
   "outputs": [],
   "source": [
    "filtered_tri = trigramFreqTable[trigramFreqTable.trigram.map(lambda x: rightTypesTri(x))]"
   ]
  },
  {
   "cell_type": "code",
   "execution_count": 61,
   "metadata": {},
   "outputs": [
    {
     "data": {
      "text/html": [
       "<div>\n",
       "<style scoped>\n",
       "    .dataframe tbody tr th:only-of-type {\n",
       "        vertical-align: middle;\n",
       "    }\n",
       "\n",
       "    .dataframe tbody tr th {\n",
       "        vertical-align: top;\n",
       "    }\n",
       "\n",
       "    .dataframe thead th {\n",
       "        text-align: right;\n",
       "    }\n",
       "</style>\n",
       "<table border=\"1\" class=\"dataframe\">\n",
       "  <thead>\n",
       "    <tr style=\"text-align: right;\">\n",
       "      <th></th>\n",
       "      <th>trigram</th>\n",
       "      <th>freq</th>\n",
       "    </tr>\n",
       "  </thead>\n",
       "  <tbody>\n",
       "    <tr>\n",
       "      <th>155</th>\n",
       "      <td>(great, customer, service)</td>\n",
       "      <td>3</td>\n",
       "    </tr>\n",
       "    <tr>\n",
       "      <th>2903</th>\n",
       "      <td>(front, desk, staff)</td>\n",
       "      <td>2</td>\n",
       "    </tr>\n",
       "    <tr>\n",
       "      <th>779</th>\n",
       "      <td>(free, shuttle, service)</td>\n",
       "      <td>2</td>\n",
       "    </tr>\n",
       "    <tr>\n",
       "      <th>3937</th>\n",
       "      <td>(clean, spacious, room)</td>\n",
       "      <td>2</td>\n",
       "    </tr>\n",
       "    <tr>\n",
       "      <th>5455</th>\n",
       "      <td>(flat, screen, tv)</td>\n",
       "      <td>2</td>\n",
       "    </tr>\n",
       "    <tr>\n",
       "      <th>7048</th>\n",
       "      <td>(ocean, face, room)</td>\n",
       "      <td>2</td>\n",
       "    </tr>\n",
       "    <tr>\n",
       "      <th>1908</th>\n",
       "      <td>(nice, friendly, staff)</td>\n",
       "      <td>2</td>\n",
       "    </tr>\n",
       "    <tr>\n",
       "      <th>1343</th>\n",
       "      <td>(room, smell, musty)</td>\n",
       "      <td>2</td>\n",
       "    </tr>\n",
       "    <tr>\n",
       "      <th>6150</th>\n",
       "      <td>(great, staff, hotel)</td>\n",
       "      <td>1</td>\n",
       "    </tr>\n",
       "    <tr>\n",
       "      <th>6133</th>\n",
       "      <td>(front, desk, clerk)</td>\n",
       "      <td>1</td>\n",
       "    </tr>\n",
       "  </tbody>\n",
       "</table>\n",
       "</div>"
      ],
      "text/plain": [
       "                         trigram  freq\n",
       "155   (great, customer, service)  3   \n",
       "2903  (front, desk, staff)        2   \n",
       "779   (free, shuttle, service)    2   \n",
       "3937  (clean, spacious, room)     2   \n",
       "5455  (flat, screen, tv)          2   \n",
       "7048  (ocean, face, room)         2   \n",
       "1908  (nice, friendly, staff)     2   \n",
       "1343  (room, smell, musty)        2   \n",
       "6150  (great, staff, hotel)       1   \n",
       "6133  (front, desk, clerk)        1   "
      ]
     },
     "execution_count": 61,
     "metadata": {},
     "output_type": "execute_result"
    }
   ],
   "source": [
    "filtered_tri[:10]"
   ]
  },
  {
   "cell_type": "code",
   "execution_count": 62,
   "metadata": {},
   "outputs": [],
   "source": [
    "freq_bi  = filtered_bi[:20].bigram.values\n",
    "freq_tri = filtered_tri[:20].trigram.values"
   ]
  },
  {
   "cell_type": "code",
   "execution_count": 63,
   "metadata": {},
   "outputs": [
    {
     "data": {
      "text/plain": [
       "array([('friendly', 'staff'), ('great', 'location'), ('front', 'desk'),\n",
       "       ('great', 'stay'), ('great', 'place'), ('clean', 'room'),\n",
       "       ('nice', 'hotel'), ('comfortable', 'bed'), ('helpful', 'staff'),\n",
       "       ('great', 'breakfast'), ('great', 'hotel'), ('great', 'value'),\n",
       "       ('great', 'time'), ('nice', 'room'), ('comfortable', 'room'),\n",
       "       ('complimentary', 'breakfast'), ('hotel', 'staff'),\n",
       "       ('great', 'room'), ('free', 'breakfast'), ('easy', 'access')],\n",
       "      dtype=object)"
      ]
     },
     "execution_count": 63,
     "metadata": {},
     "output_type": "execute_result"
    }
   ],
   "source": [
    "freq_bi"
   ]
  },
  {
   "cell_type": "code",
   "execution_count": 64,
   "metadata": {},
   "outputs": [
    {
     "data": {
      "text/plain": [
       "array([('great', 'customer', 'service'), ('front', 'desk', 'staff'),\n",
       "       ('free', 'shuttle', 'service'), ('clean', 'spacious', 'room'),\n",
       "       ('flat', 'screen', 'tv'), ('ocean', 'face', 'room'),\n",
       "       ('nice', 'friendly', 'staff'), ('room', 'smell', 'musty'),\n",
       "       ('great', 'staff', 'hotel'), ('front', 'desk', 'clerk'),\n",
       "       ('repairs', 'need', 'nice'), ('need', 'nice', 'place'),\n",
       "       ('site', 'parking', 'check'), ('motel', 'highly', 'quiet'),\n",
       "       ('low', 'price', 'compare'), ('cracker', 'pre', 'dinner'),\n",
       "       ('offer', 'free', 'apple'),\n",
       "       ('downtown', 'public', 'transportation'),\n",
       "       ('time', 'downtown', 'public'), ('great', 'time', 'downtown')],\n",
       "      dtype=object)"
      ]
     },
     "execution_count": 64,
     "metadata": {},
     "output_type": "execute_result"
    }
   ],
   "source": [
    "freq_tri"
   ]
  },
  {
   "attachments": {
    "PMI-tri.png": {
     "image/png": "[encoded data removed]"
    },
    "PMI.png": {
     "image/png": "[encoded data removed]"
    }
   },
   "cell_type": "markdown",
   "metadata": {},
   "source": [
    "### 3. PMI - Pointwise Mutual Information\n",
    "\n",
    "For bigrams\n",
    "\n",
    "![PMI.png](attachment:PMI.png)\n",
    "\n",
    "For trigrams\n",
    "\n",
    "![PMI-tri.png](attachment:PMI-tri.png)\n",
    "\n",
    "The main intuition is that it measures how much more likely the words co-occur than if they were independent. \n",
    "\n",
    "However, it is very sensitive to rare combination of words. \n",
    "\n",
    "For example, if a random bigram ‘abc xyz’ appears, and neither ‘abc’ nor ‘xyz’ appeared anywhere else in the text, ‘abc xyz’ will be identified as highly significant bigram when it could just be a random misspelling or a phrase too rare to generalize as a bigram. \n",
    "\n",
    "Therefore, this method is often used with a frequency filter."
   ]
  },
  {
   "cell_type": "code",
   "execution_count": 65,
   "metadata": {},
   "outputs": [],
   "source": [
    "bigram_measures  = nltk.collocations.BigramAssocMeasures()\n",
    "trigram_measures = nltk.collocations.TrigramAssocMeasures()"
   ]
  },
  {
   "cell_type": "markdown",
   "metadata": {},
   "source": [
    "Ex..."
   ]
  },
  {
   "cell_type": "code",
   "execution_count": 66,
   "metadata": {},
   "outputs": [],
   "source": [
    "finder = nltk.collocations.BigramCollocationFinder.from_words(nltk.corpus.genesis.words('english-web.txt'))"
   ]
  },
  {
   "cell_type": "code",
   "execution_count": 67,
   "metadata": {},
   "outputs": [
    {
     "data": {
      "text/plain": [
       "[('Allon', 'Bacuth'),\n",
       " ('Ashteroth', 'Karnaim'),\n",
       " ('Ben', 'Ammi'),\n",
       " ('En', 'Mishpat'),\n",
       " ('Jegar', 'Sahadutha'),\n",
       " ('Salt', 'Sea'),\n",
       " ('Whoever', 'sheds'),\n",
       " ('appoint', 'overseers'),\n",
       " ('aromatic', 'resin'),\n",
       " ('cutting', 'instrument'),\n",
       " ('direct', 'descendants'),\n",
       " ('droves', 'apart'),\n",
       " ('during', 'mating'),\n",
       " ('falls', 'backward'),\n",
       " ('fig', 'leaves'),\n",
       " ('flaming', 'torch'),\n",
       " ('fresh', 'poplar'),\n",
       " ('fully', 'pay'),\n",
       " ('fury', 'turns'),\n",
       " ('hearts', 'failed'),\n",
       " ('hot', 'springs'),\n",
       " ('interpretations', 'belong'),\n",
       " ('leaf', 'plucked'),\n",
       " ('months', 'later'),\n",
       " ('olive', 'leaf'),\n",
       " ('ravenous', 'wolf'),\n",
       " ('remaining', 'silent'),\n",
       " ('rider', 'falls'),\n",
       " ('royal', 'dainties'),\n",
       " ('sandal', 'strap'),\n",
       " ('seek', 'occasion'),\n",
       " ('sewed', 'fig'),\n",
       " ('solemnly', 'warned'),\n",
       " ('sweet', 'savor'),\n",
       " ('Baal', 'Hanan'),\n",
       " ('Bethlehem', ').\"'),\n",
       " ('Kiriath', 'Arba'),\n",
       " ('Like', 'Nimrod'),\n",
       " ('Shaveh', 'Kiriathaim'),\n",
       " ('ancient', 'hills'),\n",
       " ('baked', 'unleavened'),\n",
       " ('binding', 'sheaves'),\n",
       " ('bitter', 'cry'),\n",
       " ('break', 'loose'),\n",
       " ('burial', 'site'),\n",
       " ('burst', 'open'),\n",
       " ('certainly', 'guilty'),\n",
       " ('choice', 'fruits'),\n",
       " ('current', 'merchants'),\n",
       " ('doing', 'forced')]"
      ]
     },
     "execution_count": 67,
     "metadata": {},
     "output_type": "execute_result"
    }
   ],
   "source": [
    "finder.nbest(bigram_measures.pmi, 50) "
   ]
  },
  {
   "cell_type": "markdown",
   "metadata": {},
   "source": [
    "While these words are highly collocated, the expressions are also very infrequent. herefore it is useful to apply filters, such as ignoring all bigrams which occur less than n times in the corpus:"
   ]
  },
  {
   "cell_type": "code",
   "execution_count": 68,
   "metadata": {},
   "outputs": [],
   "source": [
    "bigramFinder.apply_freq_filter(20)"
   ]
  },
  {
   "cell_type": "code",
   "execution_count": 69,
   "metadata": {},
   "outputs": [
    {
     "data": {
      "text/plain": [
       "[('Allon', 'Bacuth'),\n",
       " ('Ashteroth', 'Karnaim'),\n",
       " ('Ben', 'Ammi'),\n",
       " ('En', 'Mishpat'),\n",
       " ('Jegar', 'Sahadutha'),\n",
       " ('Salt', 'Sea'),\n",
       " ('Whoever', 'sheds'),\n",
       " ('appoint', 'overseers'),\n",
       " ('aromatic', 'resin'),\n",
       " ('cutting', 'instrument')]"
      ]
     },
     "execution_count": 69,
     "metadata": {},
     "output_type": "execute_result"
    }
   ],
   "source": [
    "finder.nbest(bigram_measures.pmi, 10)"
   ]
  },
  {
   "cell_type": "markdown",
   "metadata": {},
   "source": [
    "... back to the main code"
   ]
  },
  {
   "cell_type": "code",
   "execution_count": 70,
   "metadata": {},
   "outputs": [],
   "source": [
    "bigramFinder.apply_freq_filter(20)"
   ]
  },
  {
   "cell_type": "code",
   "execution_count": 71,
   "metadata": {},
   "outputs": [],
   "source": [
    "bigramPMITable = pd.DataFrame(list(bigramFinder.score_ngrams(bigram_measures.pmi)), columns=['bigram','PMI']).sort_values(by='PMI', ascending=False)"
   ]
  },
  {
   "cell_type": "code",
   "execution_count": 72,
   "metadata": {},
   "outputs": [
    {
     "data": {
      "text/html": [
       "<div>\n",
       "<style scoped>\n",
       "    .dataframe tbody tr th:only-of-type {\n",
       "        vertical-align: middle;\n",
       "    }\n",
       "\n",
       "    .dataframe tbody tr th {\n",
       "        vertical-align: top;\n",
       "    }\n",
       "\n",
       "    .dataframe thead th {\n",
       "        text-align: right;\n",
       "    }\n",
       "</style>\n",
       "<table border=\"1\" class=\"dataframe\">\n",
       "  <thead>\n",
       "    <tr style=\"text-align: right;\">\n",
       "      <th></th>\n",
       "      <th>bigram</th>\n",
       "      <th>PMI</th>\n",
       "    </tr>\n",
       "  </thead>\n",
       "  <tbody>\n",
       "    <tr>\n",
       "      <th>0</th>\n",
       "      <td>(check, in)</td>\n",
       "      <td>5.855278</td>\n",
       "    </tr>\n",
       "    <tr>\n",
       "      <th>1</th>\n",
       "      <td>(close, to)</td>\n",
       "      <td>5.266494</td>\n",
       "    </tr>\n",
       "    <tr>\n",
       "      <th>2</th>\n",
       "      <td>(place, to)</td>\n",
       "      <td>4.804214</td>\n",
       "    </tr>\n",
       "    <tr>\n",
       "      <th>3</th>\n",
       "      <td>(this, hotel)</td>\n",
       "      <td>4.649958</td>\n",
       "    </tr>\n",
       "    <tr>\n",
       "      <th>4</th>\n",
       "      <td>(friendly, staff)</td>\n",
       "      <td>4.210482</td>\n",
       "    </tr>\n",
       "    <tr>\n",
       "      <th>5</th>\n",
       "      <td>(i, have)</td>\n",
       "      <td>4.017617</td>\n",
       "    </tr>\n",
       "    <tr>\n",
       "      <th>6</th>\n",
       "      <td>(have, a)</td>\n",
       "      <td>3.877998</td>\n",
       "    </tr>\n",
       "    <tr>\n",
       "      <th>7</th>\n",
       "      <td>(very, comfortable)</td>\n",
       "      <td>3.779761</td>\n",
       "    </tr>\n",
       "    <tr>\n",
       "      <th>8</th>\n",
       "      <td>(very, nice)</td>\n",
       "      <td>3.677186</td>\n",
       "    </tr>\n",
       "    <tr>\n",
       "      <th>9</th>\n",
       "      <td>(very, clean)</td>\n",
       "      <td>3.511013</td>\n",
       "    </tr>\n",
       "  </tbody>\n",
       "</table>\n",
       "</div>"
      ],
      "text/plain": [
       "                bigram       PMI\n",
       "0  (check, in)          5.855278\n",
       "1  (close, to)          5.266494\n",
       "2  (place, to)          4.804214\n",
       "3  (this, hotel)        4.649958\n",
       "4  (friendly, staff)    4.210482\n",
       "5  (i, have)            4.017617\n",
       "6  (have, a)            3.877998\n",
       "7  (very, comfortable)  3.779761\n",
       "8  (very, nice)         3.677186\n",
       "9  (very, clean)        3.511013"
      ]
     },
     "execution_count": 72,
     "metadata": {},
     "output_type": "execute_result"
    }
   ],
   "source": [
    "bigramPMITable[:10]"
   ]
  },
  {
   "cell_type": "markdown",
   "metadata": {},
   "source": [
    "for trigrams "
   ]
  },
  {
   "cell_type": "code",
   "execution_count": 73,
   "metadata": {},
   "outputs": [],
   "source": [
    "trigramFinder.apply_freq_filter(20)"
   ]
  },
  {
   "cell_type": "code",
   "execution_count": 74,
   "metadata": {},
   "outputs": [],
   "source": [
    "trigramPMITable = pd.DataFrame(list(trigramFinder.score_ngrams(trigram_measures.pmi)), columns=['trigram','PMI']).sort_values(by='PMI', ascending=False)"
   ]
  },
  {
   "cell_type": "code",
   "execution_count": 75,
   "metadata": {},
   "outputs": [
    {
     "data": {
      "text/html": [
       "<div>\n",
       "<style scoped>\n",
       "    .dataframe tbody tr th:only-of-type {\n",
       "        vertical-align: middle;\n",
       "    }\n",
       "\n",
       "    .dataframe tbody tr th {\n",
       "        vertical-align: top;\n",
       "    }\n",
       "\n",
       "    .dataframe thead th {\n",
       "        text-align: right;\n",
       "    }\n",
       "</style>\n",
       "<table border=\"1\" class=\"dataframe\">\n",
       "  <thead>\n",
       "    <tr style=\"text-align: right;\">\n",
       "      <th></th>\n",
       "      <th>trigram</th>\n",
       "      <th>PMI</th>\n",
       "    </tr>\n",
       "  </thead>\n",
       "  <tbody>\n",
       "    <tr>\n",
       "      <th>0</th>\n",
       "      <td>(staff, be, very)</td>\n",
       "      <td>6.964406</td>\n",
       "    </tr>\n",
       "    <tr>\n",
       "      <th>1</th>\n",
       "      <td>(the, bed, be)</td>\n",
       "      <td>6.936204</td>\n",
       "    </tr>\n",
       "    <tr>\n",
       "      <th>2</th>\n",
       "      <td>(the, staff, be)</td>\n",
       "      <td>6.424142</td>\n",
       "    </tr>\n",
       "    <tr>\n",
       "      <th>3</th>\n",
       "      <td>(the, room, be)</td>\n",
       "      <td>6.084103</td>\n",
       "    </tr>\n",
       "    <tr>\n",
       "      <th>4</th>\n",
       "      <td>(the, hotel, be)</td>\n",
       "      <td>5.682448</td>\n",
       "    </tr>\n",
       "    <tr>\n",
       "      <th>5</th>\n",
       "      <td>( , it, be)</td>\n",
       "      <td>5.294036</td>\n",
       "    </tr>\n",
       "    <tr>\n",
       "      <th>6</th>\n",
       "      <td>( , the, staff)</td>\n",
       "      <td>4.940304</td>\n",
       "    </tr>\n",
       "    <tr>\n",
       "      <th>7</th>\n",
       "      <td>( , staff, be)</td>\n",
       "      <td>4.573454</td>\n",
       "    </tr>\n",
       "    <tr>\n",
       "      <th>8</th>\n",
       "      <td>( , the, room)</td>\n",
       "      <td>4.516497</td>\n",
       "    </tr>\n",
       "  </tbody>\n",
       "</table>\n",
       "</div>"
      ],
      "text/plain": [
       "             trigram       PMI\n",
       "0  (staff, be, very)  6.964406\n",
       "1  (the, bed, be)     6.936204\n",
       "2  (the, staff, be)   6.424142\n",
       "3  (the, room, be)    6.084103\n",
       "4  (the, hotel, be)   5.682448\n",
       "5  ( , it, be)        5.294036\n",
       "6  ( , the, staff)    4.940304\n",
       "7  ( , staff, be)     4.573454\n",
       "8  ( , the, room)     4.516497"
      ]
     },
     "execution_count": 75,
     "metadata": {},
     "output_type": "execute_result"
    }
   ],
   "source": [
    "trigramPMITable[:10]"
   ]
  },
  {
   "cell_type": "code",
   "execution_count": 76,
   "metadata": {},
   "outputs": [],
   "source": [
    "pmi_bi  = bigramPMITable[:20].bigram.values\n",
    "pmi_tri = trigramPMITable[:20].trigram.values"
   ]
  },
  {
   "cell_type": "markdown",
   "metadata": {},
   "source": [
    "### 4. Hypothesis Testing\n",
    "\n",
    "#### 4a. t-test:\n",
    "Consider if we have a corpus with N words, and __social__ and __media__ have word counts C(social) and C(media) respectively. \n",
    "\n",
    "Assuming null hypothesis with social and media being independent:\n",
    "\n",
    "$$ H_0: \\text {'social media' occurs with probability}:  \n",
    " \\sigma = p(social) * p(media) = \\frac{C(social)}{N} * \\frac{C(media)}{N}$$\n",
    "\n",
    "$$ H_a : \\text {'social media' does not occur with probability } \\sigma$$\n",
    "\n",
    "\n",
    "However, the same problem occurs where pairs with prepositions, pronouns, articles etc. come up as most significant. Therefore, we need to apply the same filters from 1."
   ]
  },
  {
   "cell_type": "code",
   "execution_count": 112,
   "metadata": {},
   "outputs": [],
   "source": [
    "bigramTtable = pd.DataFrame(list(bigramFinder.score_ngrams(bigram_measures.student_t)), columns=['bigram','t']).sort_values(by='t', ascending=False)"
   ]
  },
  {
   "cell_type": "code",
   "execution_count": 113,
   "metadata": {},
   "outputs": [
    {
     "data": {
      "text/html": [
       "<div>\n",
       "<style scoped>\n",
       "    .dataframe tbody tr th:only-of-type {\n",
       "        vertical-align: middle;\n",
       "    }\n",
       "\n",
       "    .dataframe tbody tr th {\n",
       "        vertical-align: top;\n",
       "    }\n",
       "\n",
       "    .dataframe thead th {\n",
       "        text-align: right;\n",
       "    }\n",
       "</style>\n",
       "<table border=\"1\" class=\"dataframe\">\n",
       "  <thead>\n",
       "    <tr style=\"text-align: right;\">\n",
       "      <th></th>\n",
       "      <th>bigram</th>\n",
       "      <th>t</th>\n",
       "    </tr>\n",
       "  </thead>\n",
       "  <tbody>\n",
       "    <tr>\n",
       "      <th>0</th>\n",
       "      <td>( , -pron-)</td>\n",
       "      <td>71.185085</td>\n",
       "    </tr>\n",
       "    <tr>\n",
       "      <th>1</th>\n",
       "      <td>( , the)</td>\n",
       "      <td>59.235948</td>\n",
       "    </tr>\n",
       "    <tr>\n",
       "      <th>2</th>\n",
       "      <td>(-pron-, be)</td>\n",
       "      <td>54.243457</td>\n",
       "    </tr>\n",
       "    <tr>\n",
       "      <th>3</th>\n",
       "      <td>(   , more)</td>\n",
       "      <td>49.915807</td>\n",
       "    </tr>\n",
       "    <tr>\n",
       "      <th>4</th>\n",
       "      <td>(be, very)</td>\n",
       "      <td>48.264385</td>\n",
       "    </tr>\n",
       "  </tbody>\n",
       "</table>\n",
       "</div>"
      ],
      "text/plain": [
       "         bigram          t\n",
       "0   ( , -pron-)  71.185085\n",
       "1      ( , the)  59.235948\n",
       "2  (-pron-, be)  54.243457\n",
       "3   (   , more)  49.915807\n",
       "4    (be, very)  48.264385"
      ]
     },
     "execution_count": 113,
     "metadata": {},
     "output_type": "execute_result"
    }
   ],
   "source": [
    "bigramTtable.head()"
   ]
  },
  {
   "cell_type": "code",
   "execution_count": 114,
   "metadata": {},
   "outputs": [],
   "source": [
    "filteredT_bi = bigramTtable[bigramTtable.bigram.map(lambda x: rightTypes(x))]"
   ]
  },
  {
   "cell_type": "code",
   "execution_count": 115,
   "metadata": {},
   "outputs": [
    {
     "data": {
      "text/html": [
       "<div>\n",
       "<style scoped>\n",
       "    .dataframe tbody tr th:only-of-type {\n",
       "        vertical-align: middle;\n",
       "    }\n",
       "\n",
       "    .dataframe tbody tr th {\n",
       "        vertical-align: top;\n",
       "    }\n",
       "\n",
       "    .dataframe thead th {\n",
       "        text-align: right;\n",
       "    }\n",
       "</style>\n",
       "<table border=\"1\" class=\"dataframe\">\n",
       "  <thead>\n",
       "    <tr style=\"text-align: right;\">\n",
       "      <th></th>\n",
       "      <th>bigram</th>\n",
       "      <th>t</th>\n",
       "    </tr>\n",
       "  </thead>\n",
       "  <tbody>\n",
       "    <tr>\n",
       "      <th>25</th>\n",
       "      <td>(front, desk)</td>\n",
       "      <td>30.635724</td>\n",
       "    </tr>\n",
       "    <tr>\n",
       "      <th>97</th>\n",
       "      <td>(friendly, staff)</td>\n",
       "      <td>17.794989</td>\n",
       "    </tr>\n",
       "    <tr>\n",
       "      <th>99</th>\n",
       "      <td>(great, location)</td>\n",
       "      <td>17.699336</td>\n",
       "    </tr>\n",
       "    <tr>\n",
       "      <th>103</th>\n",
       "      <td>(walk, distance)</td>\n",
       "      <td>17.543390</td>\n",
       "    </tr>\n",
       "    <tr>\n",
       "      <th>175</th>\n",
       "      <td>(free, breakfast)</td>\n",
       "      <td>13.800066</td>\n",
       "    </tr>\n",
       "    <tr>\n",
       "      <th>176</th>\n",
       "      <td>(customer, service)</td>\n",
       "      <td>13.775283</td>\n",
       "    </tr>\n",
       "    <tr>\n",
       "      <th>193</th>\n",
       "      <td>(continental, breakfast)</td>\n",
       "      <td>13.350849</td>\n",
       "    </tr>\n",
       "    <tr>\n",
       "      <th>202</th>\n",
       "      <td>(desk, staff)</td>\n",
       "      <td>13.194821</td>\n",
       "    </tr>\n",
       "    <tr>\n",
       "      <th>219</th>\n",
       "      <td>(comfortable, bed)</td>\n",
       "      <td>12.831863</td>\n",
       "    </tr>\n",
       "    <tr>\n",
       "      <th>235</th>\n",
       "      <td>(next, door)</td>\n",
       "      <td>12.509709</td>\n",
       "    </tr>\n",
       "  </tbody>\n",
       "</table>\n",
       "</div>"
      ],
      "text/plain": [
       "                       bigram          t\n",
       "25              (front, desk)  30.635724\n",
       "97          (friendly, staff)  17.794989\n",
       "99          (great, location)  17.699336\n",
       "103          (walk, distance)  17.543390\n",
       "175         (free, breakfast)  13.800066\n",
       "176       (customer, service)  13.775283\n",
       "193  (continental, breakfast)  13.350849\n",
       "202             (desk, staff)  13.194821\n",
       "219        (comfortable, bed)  12.831863\n",
       "235              (next, door)  12.509709"
      ]
     },
     "execution_count": 115,
     "metadata": {},
     "output_type": "execute_result"
    }
   ],
   "source": [
    "filteredT_bi[:10]"
   ]
  },
  {
   "cell_type": "markdown",
   "metadata": {},
   "source": [
    "trigrams .."
   ]
  },
  {
   "cell_type": "code",
   "execution_count": 116,
   "metadata": {},
   "outputs": [],
   "source": [
    "trigramTtable = pd.DataFrame(list(trigramFinder.score_ngrams(trigram_measures.student_t)), columns=['trigram','t']).sort_values(by='t', ascending=False)"
   ]
  },
  {
   "cell_type": "code",
   "execution_count": 117,
   "metadata": {},
   "outputs": [
    {
     "data": {
      "text/html": [
       "<div>\n",
       "<style scoped>\n",
       "    .dataframe tbody tr th:only-of-type {\n",
       "        vertical-align: middle;\n",
       "    }\n",
       "\n",
       "    .dataframe tbody tr th {\n",
       "        vertical-align: top;\n",
       "    }\n",
       "\n",
       "    .dataframe thead th {\n",
       "        text-align: right;\n",
       "    }\n",
       "</style>\n",
       "<table border=\"1\" class=\"dataframe\">\n",
       "  <thead>\n",
       "    <tr style=\"text-align: right;\">\n",
       "      <th></th>\n",
       "      <th>trigram</th>\n",
       "      <th>t</th>\n",
       "    </tr>\n",
       "  </thead>\n",
       "  <tbody>\n",
       "    <tr>\n",
       "      <th>0</th>\n",
       "      <td>( , -pron-, be)</td>\n",
       "      <td>46.630959</td>\n",
       "    </tr>\n",
       "    <tr>\n",
       "      <th>1</th>\n",
       "      <td>(the, room, be)</td>\n",
       "      <td>39.865469</td>\n",
       "    </tr>\n",
       "    <tr>\n",
       "      <th>2</th>\n",
       "      <td>( , the, room)</td>\n",
       "      <td>35.982368</td>\n",
       "    </tr>\n",
       "    <tr>\n",
       "      <th>3</th>\n",
       "      <td>(the, staff, be)</td>\n",
       "      <td>32.644025</td>\n",
       "    </tr>\n",
       "    <tr>\n",
       "      <th>4</th>\n",
       "      <td>( , -pron-, have)</td>\n",
       "      <td>31.156469</td>\n",
       "    </tr>\n",
       "  </tbody>\n",
       "</table>\n",
       "</div>"
      ],
      "text/plain": [
       "             trigram          t\n",
       "0    ( , -pron-, be)  46.630959\n",
       "1    (the, room, be)  39.865469\n",
       "2     ( , the, room)  35.982368\n",
       "3   (the, staff, be)  32.644025\n",
       "4  ( , -pron-, have)  31.156469"
      ]
     },
     "execution_count": 117,
     "metadata": {},
     "output_type": "execute_result"
    }
   ],
   "source": [
    "trigramTtable.head()"
   ]
  },
  {
   "cell_type": "code",
   "execution_count": 119,
   "metadata": {},
   "outputs": [],
   "source": [
    "filteredT_tri = trigramTtable[trigramTtable.trigram.map(lambda x: rightTypesTri(x))]"
   ]
  },
  {
   "cell_type": "code",
   "execution_count": 120,
   "metadata": {},
   "outputs": [
    {
     "data": {
      "text/html": [
       "<div>\n",
       "<style scoped>\n",
       "    .dataframe tbody tr th:only-of-type {\n",
       "        vertical-align: middle;\n",
       "    }\n",
       "\n",
       "    .dataframe tbody tr th {\n",
       "        vertical-align: top;\n",
       "    }\n",
       "\n",
       "    .dataframe thead th {\n",
       "        text-align: right;\n",
       "    }\n",
       "</style>\n",
       "<table border=\"1\" class=\"dataframe\">\n",
       "  <thead>\n",
       "    <tr style=\"text-align: right;\">\n",
       "      <th></th>\n",
       "      <th>trigram</th>\n",
       "      <th>t</th>\n",
       "    </tr>\n",
       "  </thead>\n",
       "  <tbody>\n",
       "    <tr>\n",
       "      <th>134</th>\n",
       "      <td>(front, desk, staff)</td>\n",
       "      <td>12.726861</td>\n",
       "    </tr>\n",
       "    <tr>\n",
       "      <th>877</th>\n",
       "      <td>(non, smoking, room)</td>\n",
       "      <td>6.324501</td>\n",
       "    </tr>\n",
       "    <tr>\n",
       "      <th>946</th>\n",
       "      <td>(front, desk, clerk)</td>\n",
       "      <td>6.164333</td>\n",
       "    </tr>\n",
       "    <tr>\n",
       "      <th>974</th>\n",
       "      <td>(regis, new, york)</td>\n",
       "      <td>6.082761</td>\n",
       "    </tr>\n",
       "    <tr>\n",
       "      <th>1227</th>\n",
       "      <td>(holiday, inn, express)</td>\n",
       "      <td>5.656853</td>\n",
       "    </tr>\n",
       "    <tr>\n",
       "      <th>1352</th>\n",
       "      <td>(suites, anaheim, maingate)</td>\n",
       "      <td>5.477225</td>\n",
       "    </tr>\n",
       "    <tr>\n",
       "      <th>1417</th>\n",
       "      <td>(hilton, garden, inn)</td>\n",
       "      <td>5.385163</td>\n",
       "    </tr>\n",
       "    <tr>\n",
       "      <th>1471</th>\n",
       "      <td>(flat, screen, tv)</td>\n",
       "      <td>5.291502</td>\n",
       "    </tr>\n",
       "    <tr>\n",
       "      <th>1536</th>\n",
       "      <td>(maingate, near, angel)</td>\n",
       "      <td>5.196152</td>\n",
       "    </tr>\n",
       "    <tr>\n",
       "      <th>1786</th>\n",
       "      <td>(octavia, margineanhotel, manager)</td>\n",
       "      <td>4.898979</td>\n",
       "    </tr>\n",
       "  </tbody>\n",
       "</table>\n",
       "</div>"
      ],
      "text/plain": [
       "                                 trigram          t\n",
       "134                 (front, desk, staff)  12.726861\n",
       "877                 (non, smoking, room)   6.324501\n",
       "946                 (front, desk, clerk)   6.164333\n",
       "974                   (regis, new, york)   6.082761\n",
       "1227             (holiday, inn, express)   5.656853\n",
       "1352         (suites, anaheim, maingate)   5.477225\n",
       "1417               (hilton, garden, inn)   5.385163\n",
       "1471                  (flat, screen, tv)   5.291502\n",
       "1536             (maingate, near, angel)   5.196152\n",
       "1786  (octavia, margineanhotel, manager)   4.898979"
      ]
     },
     "execution_count": 120,
     "metadata": {},
     "output_type": "execute_result"
    }
   ],
   "source": [
    "filteredT_tri.head(10)"
   ]
  },
  {
   "cell_type": "code",
   "execution_count": 121,
   "metadata": {},
   "outputs": [],
   "source": [
    "t_bi  = filteredT_bi[:20].bigram.values\n",
    "t_tri = filteredT_tri[:20].trigram.values"
   ]
  },
  {
   "attachments": {
    "chi1-bigrams.png": {
     "image/png": "[encoded data removed]"
    }
   },
   "cell_type": "markdown",
   "metadata": {},
   "source": [
    "Results are similar to the frequency count technique from 1.:\n",
    "\n",
    "\n",
    "__T-test__ has been criticized as it assumes normal distribution. Therefore, we will also look into the __chi-square test__.\n",
    "\n",
    "#### 4.b chi-square test\n",
    "\n",
    "![chi1-bigrams.png](attachment:chi1-bigrams.png)"
   ]
  },
  {
   "cell_type": "code",
   "execution_count": 122,
   "metadata": {},
   "outputs": [],
   "source": [
    "bigramChiTable = pd.DataFrame(list(bigramFinder.score_ngrams(bigram_measures.chi_sq)), columns=['bigram','chi-sq']).sort_values(by='chi-sq', ascending=False)"
   ]
  },
  {
   "cell_type": "code",
   "execution_count": 123,
   "metadata": {},
   "outputs": [
    {
     "data": {
      "text/html": [
       "<div>\n",
       "<style scoped>\n",
       "    .dataframe tbody tr th:only-of-type {\n",
       "        vertical-align: middle;\n",
       "    }\n",
       "\n",
       "    .dataframe tbody tr th {\n",
       "        vertical-align: top;\n",
       "    }\n",
       "\n",
       "    .dataframe thead th {\n",
       "        text-align: right;\n",
       "    }\n",
       "</style>\n",
       "<table border=\"1\" class=\"dataframe\">\n",
       "  <thead>\n",
       "    <tr style=\"text-align: right;\">\n",
       "      <th></th>\n",
       "      <th>bigram</th>\n",
       "      <th>chi-sq</th>\n",
       "    </tr>\n",
       "  </thead>\n",
       "  <tbody>\n",
       "    <tr>\n",
       "      <th>0</th>\n",
       "      <td>(honua, kai)</td>\n",
       "      <td>622565.484761</td>\n",
       "    </tr>\n",
       "    <tr>\n",
       "      <th>1</th>\n",
       "      <td>(dixie, krauss)</td>\n",
       "      <td>602481.818058</td>\n",
       "    </tr>\n",
       "    <tr>\n",
       "      <th>2</th>\n",
       "      <td>(wi, fi)</td>\n",
       "      <td>581387.084749</td>\n",
       "    </tr>\n",
       "    <tr>\n",
       "      <th>3</th>\n",
       "      <td>(octavia, margineanhotel)</td>\n",
       "      <td>513078.193352</td>\n",
       "    </tr>\n",
       "    <tr>\n",
       "      <th>4</th>\n",
       "      <td>(sarah, junge)</td>\n",
       "      <td>479904.310161</td>\n",
       "    </tr>\n",
       "    <tr>\n",
       "      <th>5</th>\n",
       "      <td>(santa, monica)</td>\n",
       "      <td>441815.333132</td>\n",
       "    </tr>\n",
       "    <tr>\n",
       "      <th>6</th>\n",
       "      <td>(front, desk)</td>\n",
       "      <td>398548.850501</td>\n",
       "    </tr>\n",
       "    <tr>\n",
       "      <th>7</th>\n",
       "      <td>(   , more)</td>\n",
       "      <td>358049.212633</td>\n",
       "    </tr>\n",
       "    <tr>\n",
       "      <th>8</th>\n",
       "      <td>(french, quarter)</td>\n",
       "      <td>328903.509018</td>\n",
       "    </tr>\n",
       "    <tr>\n",
       "      <th>9</th>\n",
       "      <td>(las, vegas)</td>\n",
       "      <td>311625.093298</td>\n",
       "    </tr>\n",
       "    <tr>\n",
       "      <th>10</th>\n",
       "      <td>(flat, screen)</td>\n",
       "      <td>271162.906135</td>\n",
       "    </tr>\n",
       "    <tr>\n",
       "      <th>11</th>\n",
       "      <td>(san, francisco)</td>\n",
       "      <td>260472.657316</td>\n",
       "    </tr>\n",
       "    <tr>\n",
       "      <th>12</th>\n",
       "      <td>(angel, stadium)</td>\n",
       "      <td>256011.981603</td>\n",
       "    </tr>\n",
       "    <tr>\n",
       "      <th>13</th>\n",
       "      <td>(anaheim, maingate)</td>\n",
       "      <td>248506.124151</td>\n",
       "    </tr>\n",
       "    <tr>\n",
       "      <th>14</th>\n",
       "      <td>(didn, t)</td>\n",
       "      <td>204357.947670</td>\n",
       "    </tr>\n",
       "    <tr>\n",
       "      <th>15</th>\n",
       "      <td>(inner, harbor)</td>\n",
       "      <td>194198.448796</td>\n",
       "    </tr>\n",
       "    <tr>\n",
       "      <th>16</th>\n",
       "      <td>(fire, pit)</td>\n",
       "      <td>184111.846439</td>\n",
       "    </tr>\n",
       "    <tr>\n",
       "      <th>17</th>\n",
       "      <td>(credit, card)</td>\n",
       "      <td>176184.938486</td>\n",
       "    </tr>\n",
       "    <tr>\n",
       "      <th>18</th>\n",
       "      <td>(pleasantly, surprised)</td>\n",
       "      <td>170385.057074</td>\n",
       "    </tr>\n",
       "    <tr>\n",
       "      <th>19</th>\n",
       "      <td>(air, conditioning)</td>\n",
       "      <td>165641.996576</td>\n",
       "    </tr>\n",
       "  </tbody>\n",
       "</table>\n",
       "</div>"
      ],
      "text/plain": [
       "                       bigram         chi-sq\n",
       "0                (honua, kai)  622565.484761\n",
       "1             (dixie, krauss)  602481.818058\n",
       "2                    (wi, fi)  581387.084749\n",
       "3   (octavia, margineanhotel)  513078.193352\n",
       "4              (sarah, junge)  479904.310161\n",
       "5             (santa, monica)  441815.333132\n",
       "6               (front, desk)  398548.850501\n",
       "7                 (   , more)  358049.212633\n",
       "8           (french, quarter)  328903.509018\n",
       "9                (las, vegas)  311625.093298\n",
       "10             (flat, screen)  271162.906135\n",
       "11           (san, francisco)  260472.657316\n",
       "12           (angel, stadium)  256011.981603\n",
       "13        (anaheim, maingate)  248506.124151\n",
       "14                  (didn, t)  204357.947670\n",
       "15            (inner, harbor)  194198.448796\n",
       "16                (fire, pit)  184111.846439\n",
       "17             (credit, card)  176184.938486\n",
       "18    (pleasantly, surprised)  170385.057074\n",
       "19        (air, conditioning)  165641.996576"
      ]
     },
     "execution_count": 123,
     "metadata": {},
     "output_type": "execute_result"
    }
   ],
   "source": [
    "bigramChiTable.head(20)"
   ]
  },
  {
   "cell_type": "code",
   "execution_count": 124,
   "metadata": {},
   "outputs": [],
   "source": [
    "trigramChiTable = pd.DataFrame(list(trigramFinder.score_ngrams(trigram_measures.chi_sq)), columns=['trigram','chi-sq']).sort_values(by='chi-sq', ascending=False)"
   ]
  },
  {
   "cell_type": "code",
   "execution_count": 125,
   "metadata": {},
   "outputs": [
    {
     "data": {
      "text/html": [
       "<div>\n",
       "<style scoped>\n",
       "    .dataframe tbody tr th:only-of-type {\n",
       "        vertical-align: middle;\n",
       "    }\n",
       "\n",
       "    .dataframe tbody tr th {\n",
       "        vertical-align: top;\n",
       "    }\n",
       "\n",
       "    .dataframe thead th {\n",
       "        text-align: right;\n",
       "    }\n",
       "</style>\n",
       "<table border=\"1\" class=\"dataframe\">\n",
       "  <thead>\n",
       "    <tr style=\"text-align: right;\">\n",
       "      <th></th>\n",
       "      <th>trigram</th>\n",
       "      <th>chi-sq</th>\n",
       "    </tr>\n",
       "  </thead>\n",
       "  <tbody>\n",
       "    <tr>\n",
       "      <th>0</th>\n",
       "      <td>(octavia, margineanhotel, manager)</td>\n",
       "      <td>9.019561e+08</td>\n",
       "    </tr>\n",
       "    <tr>\n",
       "      <th>1</th>\n",
       "      <td>(suites, anaheim, maingate)</td>\n",
       "      <td>7.843127e+08</td>\n",
       "    </tr>\n",
       "    <tr>\n",
       "      <th>2</th>\n",
       "      <td>(towneplace, suites, anaheim)</td>\n",
       "      <td>7.436453e+08</td>\n",
       "    </tr>\n",
       "    <tr>\n",
       "      <th>3</th>\n",
       "      <td>(maingate, near, angel)</td>\n",
       "      <td>7.175558e+08</td>\n",
       "    </tr>\n",
       "    <tr>\n",
       "      <th>4</th>\n",
       "      <td>(near, angel, stadium)</td>\n",
       "      <td>3.335081e+08</td>\n",
       "    </tr>\n",
       "    <tr>\n",
       "      <th>5</th>\n",
       "      <td>(anaheim, maingate, near)</td>\n",
       "      <td>3.318720e+08</td>\n",
       "    </tr>\n",
       "    <tr>\n",
       "      <th>6</th>\n",
       "      <td>(flat, screen, tv)</td>\n",
       "      <td>2.931878e+08</td>\n",
       "    </tr>\n",
       "    <tr>\n",
       "      <th>7</th>\n",
       "      <td>(holiday, inn, express)</td>\n",
       "      <td>1.207276e+08</td>\n",
       "    </tr>\n",
       "    <tr>\n",
       "      <th>8</th>\n",
       "      <td>(regis, new, york)</td>\n",
       "      <td>1.181343e+08</td>\n",
       "    </tr>\n",
       "    <tr>\n",
       "      <th>9</th>\n",
       "      <td>(within, walk, distance)</td>\n",
       "      <td>1.004502e+08</td>\n",
       "    </tr>\n",
       "    <tr>\n",
       "      <th>10</th>\n",
       "      <td>(hilton, garden, inn)</td>\n",
       "      <td>7.977088e+07</td>\n",
       "    </tr>\n",
       "    <tr>\n",
       "      <th>11</th>\n",
       "      <td>(new, york, city)</td>\n",
       "      <td>8.977393e+06</td>\n",
       "    </tr>\n",
       "    <tr>\n",
       "      <th>12</th>\n",
       "      <td>(hampton, inn, suites)</td>\n",
       "      <td>7.113100e+06</td>\n",
       "    </tr>\n",
       "    <tr>\n",
       "      <th>13</th>\n",
       "      <td>(dixie, krauss,  )</td>\n",
       "      <td>6.831478e+06</td>\n",
       "    </tr>\n",
       "    <tr>\n",
       "      <th>14</th>\n",
       "      <td>(look, forward, to)</td>\n",
       "      <td>4.753229e+06</td>\n",
       "    </tr>\n",
       "    <tr>\n",
       "      <th>15</th>\n",
       "      <td>(non, smoking, room)</td>\n",
       "      <td>4.695831e+06</td>\n",
       "    </tr>\n",
       "    <tr>\n",
       "      <th>16</th>\n",
       "      <td>( , octavia, margineanhotel)</td>\n",
       "      <td>4.463027e+06</td>\n",
       "    </tr>\n",
       "    <tr>\n",
       "      <th>17</th>\n",
       "      <td>(would, highly, recommend)</td>\n",
       "      <td>3.873674e+06</td>\n",
       "    </tr>\n",
       "    <tr>\n",
       "      <th>18</th>\n",
       "      <td>(above, and, beyond)</td>\n",
       "      <td>3.828482e+06</td>\n",
       "    </tr>\n",
       "    <tr>\n",
       "      <th>19</th>\n",
       "      <td>(the, front, desk)</td>\n",
       "      <td>3.729043e+06</td>\n",
       "    </tr>\n",
       "  </tbody>\n",
       "</table>\n",
       "</div>"
      ],
      "text/plain": [
       "                               trigram        chi-sq\n",
       "0   (octavia, margineanhotel, manager)  9.019561e+08\n",
       "1          (suites, anaheim, maingate)  7.843127e+08\n",
       "2        (towneplace, suites, anaheim)  7.436453e+08\n",
       "3              (maingate, near, angel)  7.175558e+08\n",
       "4               (near, angel, stadium)  3.335081e+08\n",
       "5            (anaheim, maingate, near)  3.318720e+08\n",
       "6                   (flat, screen, tv)  2.931878e+08\n",
       "7              (holiday, inn, express)  1.207276e+08\n",
       "8                   (regis, new, york)  1.181343e+08\n",
       "9             (within, walk, distance)  1.004502e+08\n",
       "10               (hilton, garden, inn)  7.977088e+07\n",
       "11                   (new, york, city)  8.977393e+06\n",
       "12              (hampton, inn, suites)  7.113100e+06\n",
       "13                  (dixie, krauss,  )  6.831478e+06\n",
       "14                 (look, forward, to)  4.753229e+06\n",
       "15                (non, smoking, room)  4.695831e+06\n",
       "16        ( , octavia, margineanhotel)  4.463027e+06\n",
       "17          (would, highly, recommend)  3.873674e+06\n",
       "18                (above, and, beyond)  3.828482e+06\n",
       "19                  (the, front, desk)  3.729043e+06"
      ]
     },
     "execution_count": 125,
     "metadata": {},
     "output_type": "execute_result"
    }
   ],
   "source": [
    "trigramChiTable.head(20)"
   ]
  },
  {
   "cell_type": "code",
   "execution_count": 126,
   "metadata": {},
   "outputs": [],
   "source": [
    "chi_bi  = bigramChiTable[:20].bigram.values\n",
    "chi_tri = trigramChiTable[:20].trigram.values"
   ]
  },
  {
   "cell_type": "markdown",
   "metadata": {},
   "source": [
    "### 5. Likelihood"
   ]
  },
  {
   "cell_type": "code",
   "execution_count": 127,
   "metadata": {},
   "outputs": [],
   "source": [
    "bigramLikTable = pd.DataFrame(list(bigramFinder.score_ngrams(bigram_measures.likelihood_ratio)), columns=['bigram','likelihood ratio']).sort_values(by='likelihood ratio', ascending=False)"
   ]
  },
  {
   "cell_type": "code",
   "execution_count": 128,
   "metadata": {},
   "outputs": [
    {
     "data": {
      "text/html": [
       "<div>\n",
       "<style scoped>\n",
       "    .dataframe tbody tr th:only-of-type {\n",
       "        vertical-align: middle;\n",
       "    }\n",
       "\n",
       "    .dataframe tbody tr th {\n",
       "        vertical-align: top;\n",
       "    }\n",
       "\n",
       "    .dataframe thead th {\n",
       "        text-align: right;\n",
       "    }\n",
       "</style>\n",
       "<table border=\"1\" class=\"dataframe\">\n",
       "  <thead>\n",
       "    <tr style=\"text-align: right;\">\n",
       "      <th></th>\n",
       "      <th>bigram</th>\n",
       "      <th>likelihood ratio</th>\n",
       "    </tr>\n",
       "  </thead>\n",
       "  <tbody>\n",
       "    <tr>\n",
       "      <th>0</th>\n",
       "      <td>(   , more)</td>\n",
       "      <td>25296.925424</td>\n",
       "    </tr>\n",
       "    <tr>\n",
       "      <th>1</th>\n",
       "      <td>( , -pron-)</td>\n",
       "      <td>12466.405901</td>\n",
       "    </tr>\n",
       "    <tr>\n",
       "      <th>2</th>\n",
       "      <td>(front, desk)</td>\n",
       "      <td>11666.065410</td>\n",
       "    </tr>\n",
       "    <tr>\n",
       "      <th>3</th>\n",
       "      <td>(be, very)</td>\n",
       "      <td>9569.426639</td>\n",
       "    </tr>\n",
       "    <tr>\n",
       "      <th>4</th>\n",
       "      <td>(this, hotel)</td>\n",
       "      <td>8388.943058</td>\n",
       "    </tr>\n",
       "  </tbody>\n",
       "</table>\n",
       "</div>"
      ],
      "text/plain": [
       "          bigram  likelihood ratio\n",
       "0    (   , more)      25296.925424\n",
       "1    ( , -pron-)      12466.405901\n",
       "2  (front, desk)      11666.065410\n",
       "3     (be, very)       9569.426639\n",
       "4  (this, hotel)       8388.943058"
      ]
     },
     "execution_count": 128,
     "metadata": {},
     "output_type": "execute_result"
    }
   ],
   "source": [
    "bigramLikTable.head()"
   ]
  },
  {
   "cell_type": "code",
   "execution_count": 135,
   "metadata": {},
   "outputs": [],
   "source": [
    "filteredLik_bi = bigramLikTable[bigramLikTable.bigram.map(lambda x: rightTypes(x))]"
   ]
  },
  {
   "cell_type": "code",
   "execution_count": 136,
   "metadata": {},
   "outputs": [
    {
     "data": {
      "text/html": [
       "<div>\n",
       "<style scoped>\n",
       "    .dataframe tbody tr th:only-of-type {\n",
       "        vertical-align: middle;\n",
       "    }\n",
       "\n",
       "    .dataframe tbody tr th {\n",
       "        vertical-align: top;\n",
       "    }\n",
       "\n",
       "    .dataframe thead th {\n",
       "        text-align: right;\n",
       "    }\n",
       "</style>\n",
       "<table border=\"1\" class=\"dataframe\">\n",
       "  <thead>\n",
       "    <tr style=\"text-align: right;\">\n",
       "      <th></th>\n",
       "      <th>bigram</th>\n",
       "      <th>likelihood ratio</th>\n",
       "    </tr>\n",
       "  </thead>\n",
       "  <tbody>\n",
       "    <tr>\n",
       "      <th>2</th>\n",
       "      <td>(front, desk)</td>\n",
       "      <td>11666.065410</td>\n",
       "    </tr>\n",
       "    <tr>\n",
       "      <th>36</th>\n",
       "      <td>(walk, distance)</td>\n",
       "      <td>3698.515035</td>\n",
       "    </tr>\n",
       "    <tr>\n",
       "      <th>78</th>\n",
       "      <td>(customer, service)</td>\n",
       "      <td>2006.851211</td>\n",
       "    </tr>\n",
       "    <tr>\n",
       "      <th>90</th>\n",
       "      <td>(continental, breakfast)</td>\n",
       "      <td>1840.679638</td>\n",
       "    </tr>\n",
       "    <tr>\n",
       "      <th>95</th>\n",
       "      <td>(great, location)</td>\n",
       "      <td>1748.968721</td>\n",
       "    </tr>\n",
       "    <tr>\n",
       "      <th>97</th>\n",
       "      <td>(hampton, inn)</td>\n",
       "      <td>1685.491348</td>\n",
       "    </tr>\n",
       "    <tr>\n",
       "      <th>98</th>\n",
       "      <td>(friendly, staff)</td>\n",
       "      <td>1664.990646</td>\n",
       "    </tr>\n",
       "    <tr>\n",
       "      <th>113</th>\n",
       "      <td>(next, door)</td>\n",
       "      <td>1450.548649</td>\n",
       "    </tr>\n",
       "    <tr>\n",
       "      <th>117</th>\n",
       "      <td>(hot, tub)</td>\n",
       "      <td>1424.714472</td>\n",
       "    </tr>\n",
       "    <tr>\n",
       "      <th>130</th>\n",
       "      <td>(free, breakfast)</td>\n",
       "      <td>1236.519922</td>\n",
       "    </tr>\n",
       "  </tbody>\n",
       "</table>\n",
       "</div>"
      ],
      "text/plain": [
       "                       bigram  likelihood ratio\n",
       "2               (front, desk)      11666.065410\n",
       "36           (walk, distance)       3698.515035\n",
       "78        (customer, service)       2006.851211\n",
       "90   (continental, breakfast)       1840.679638\n",
       "95          (great, location)       1748.968721\n",
       "97             (hampton, inn)       1685.491348\n",
       "98          (friendly, staff)       1664.990646\n",
       "113              (next, door)       1450.548649\n",
       "117                (hot, tub)       1424.714472\n",
       "130         (free, breakfast)       1236.519922"
      ]
     },
     "execution_count": 136,
     "metadata": {},
     "output_type": "execute_result"
    }
   ],
   "source": [
    "filteredLik_bi.head(10)"
   ]
  },
  {
   "cell_type": "code",
   "execution_count": 137,
   "metadata": {},
   "outputs": [],
   "source": [
    "trigramLikTable = pd.DataFrame(list(trigramFinder.score_ngrams(trigram_measures.likelihood_ratio)), columns=['trigram','likelihood ratio']).sort_values(by='likelihood ratio', ascending=False)"
   ]
  },
  {
   "cell_type": "code",
   "execution_count": 138,
   "metadata": {},
   "outputs": [
    {
     "data": {
      "text/html": [
       "<div>\n",
       "<style scoped>\n",
       "    .dataframe tbody tr th:only-of-type {\n",
       "        vertical-align: middle;\n",
       "    }\n",
       "\n",
       "    .dataframe tbody tr th {\n",
       "        vertical-align: top;\n",
       "    }\n",
       "\n",
       "    .dataframe thead th {\n",
       "        text-align: right;\n",
       "    }\n",
       "</style>\n",
       "<table border=\"1\" class=\"dataframe\">\n",
       "  <thead>\n",
       "    <tr style=\"text-align: right;\">\n",
       "      <th></th>\n",
       "      <th>trigram</th>\n",
       "      <th>likelihood ratio</th>\n",
       "    </tr>\n",
       "  </thead>\n",
       "  <tbody>\n",
       "    <tr>\n",
       "      <th>0</th>\n",
       "      <td>(   , more, -pron-)</td>\n",
       "      <td>40713.011611</td>\n",
       "    </tr>\n",
       "    <tr>\n",
       "      <th>1</th>\n",
       "      <td>(   , more, this)</td>\n",
       "      <td>39398.742101</td>\n",
       "    </tr>\n",
       "    <tr>\n",
       "      <th>2</th>\n",
       "      <td>(the,    , more)</td>\n",
       "      <td>38216.809065</td>\n",
       "    </tr>\n",
       "    <tr>\n",
       "      <th>3</th>\n",
       "      <td>(   , more, the)</td>\n",
       "      <td>38070.532234</td>\n",
       "    </tr>\n",
       "    <tr>\n",
       "      <th>4</th>\n",
       "      <td>(   , more, great)</td>\n",
       "      <td>38067.043680</td>\n",
       "    </tr>\n",
       "  </tbody>\n",
       "</table>\n",
       "</div>"
      ],
      "text/plain": [
       "               trigram  likelihood ratio\n",
       "0  (   , more, -pron-)      40713.011611\n",
       "1    (   , more, this)      39398.742101\n",
       "2     (the,    , more)      38216.809065\n",
       "3     (   , more, the)      38070.532234\n",
       "4   (   , more, great)      38067.043680"
      ]
     },
     "execution_count": 138,
     "metadata": {},
     "output_type": "execute_result"
    }
   ],
   "source": [
    "trigramLikTable.head()"
   ]
  },
  {
   "cell_type": "code",
   "execution_count": 139,
   "metadata": {},
   "outputs": [],
   "source": [
    "filteredLik_tri = trigramLikTable[trigramLikTable.trigram.map(lambda x: rightTypesTri(x))]"
   ]
  },
  {
   "cell_type": "code",
   "execution_count": 140,
   "metadata": {},
   "outputs": [
    {
     "data": {
      "text/html": [
       "<div>\n",
       "<style scoped>\n",
       "    .dataframe tbody tr th:only-of-type {\n",
       "        vertical-align: middle;\n",
       "    }\n",
       "\n",
       "    .dataframe tbody tr th {\n",
       "        vertical-align: top;\n",
       "    }\n",
       "\n",
       "    .dataframe thead th {\n",
       "        text-align: right;\n",
       "    }\n",
       "</style>\n",
       "<table border=\"1\" class=\"dataframe\">\n",
       "  <thead>\n",
       "    <tr style=\"text-align: right;\">\n",
       "      <th></th>\n",
       "      <th>trigram</th>\n",
       "      <th>likelihood ratio</th>\n",
       "    </tr>\n",
       "  </thead>\n",
       "  <tbody>\n",
       "    <tr>\n",
       "      <th>191</th>\n",
       "      <td>(front, desk, staff)</td>\n",
       "      <td>18855.469483</td>\n",
       "    </tr>\n",
       "    <tr>\n",
       "      <th>236</th>\n",
       "      <td>(front, desk, clerk)</td>\n",
       "      <td>18642.747008</td>\n",
       "    </tr>\n",
       "    <tr>\n",
       "      <th>1511</th>\n",
       "      <td>(restaurant, within, walk)</td>\n",
       "      <td>3067.992341</td>\n",
       "    </tr>\n",
       "    <tr>\n",
       "      <th>1537</th>\n",
       "      <td>(hampton, inn, suites)</td>\n",
       "      <td>2981.740068</td>\n",
       "    </tr>\n",
       "    <tr>\n",
       "      <th>1672</th>\n",
       "      <td>(regis, new, york)</td>\n",
       "      <td>2570.347514</td>\n",
       "    </tr>\n",
       "    <tr>\n",
       "      <th>1853</th>\n",
       "      <td>(new, york, city)</td>\n",
       "      <td>2042.711403</td>\n",
       "    </tr>\n",
       "    <tr>\n",
       "      <th>1868</th>\n",
       "      <td>(non, smoking, room)</td>\n",
       "      <td>2012.895181</td>\n",
       "    </tr>\n",
       "    <tr>\n",
       "      <th>1980</th>\n",
       "      <td>(holiday, inn, express)</td>\n",
       "      <td>1778.090714</td>\n",
       "    </tr>\n",
       "    <tr>\n",
       "      <th>2048</th>\n",
       "      <td>(flat, screen, tv)</td>\n",
       "      <td>1647.289357</td>\n",
       "    </tr>\n",
       "    <tr>\n",
       "      <th>2074</th>\n",
       "      <td>(suites, anaheim, maingate)</td>\n",
       "      <td>1587.522148</td>\n",
       "    </tr>\n",
       "    <tr>\n",
       "      <th>2194</th>\n",
       "      <td>(maingate, near, angel)</td>\n",
       "      <td>1408.566319</td>\n",
       "    </tr>\n",
       "    <tr>\n",
       "      <th>2265</th>\n",
       "      <td>(octavia, margineanhotel, manager)</td>\n",
       "      <td>1298.926606</td>\n",
       "    </tr>\n",
       "    <tr>\n",
       "      <th>2272</th>\n",
       "      <td>(hilton, garden, inn)</td>\n",
       "      <td>1293.127002</td>\n",
       "    </tr>\n",
       "    <tr>\n",
       "      <th>2710</th>\n",
       "      <td>(good, night, sleep)</td>\n",
       "      <td>502.717245</td>\n",
       "    </tr>\n",
       "  </tbody>\n",
       "</table>\n",
       "</div>"
      ],
      "text/plain": [
       "                                 trigram  likelihood ratio\n",
       "191                 (front, desk, staff)      18855.469483\n",
       "236                 (front, desk, clerk)      18642.747008\n",
       "1511          (restaurant, within, walk)       3067.992341\n",
       "1537              (hampton, inn, suites)       2981.740068\n",
       "1672                  (regis, new, york)       2570.347514\n",
       "1853                   (new, york, city)       2042.711403\n",
       "1868                (non, smoking, room)       2012.895181\n",
       "1980             (holiday, inn, express)       1778.090714\n",
       "2048                  (flat, screen, tv)       1647.289357\n",
       "2074         (suites, anaheim, maingate)       1587.522148\n",
       "2194             (maingate, near, angel)       1408.566319\n",
       "2265  (octavia, margineanhotel, manager)       1298.926606\n",
       "2272               (hilton, garden, inn)       1293.127002\n",
       "2710                (good, night, sleep)        502.717245"
      ]
     },
     "execution_count": 140,
     "metadata": {},
     "output_type": "execute_result"
    }
   ],
   "source": [
    "filteredLik_tri.head(20)"
   ]
  },
  {
   "cell_type": "code",
   "execution_count": 141,
   "metadata": {},
   "outputs": [],
   "source": [
    "lik_bi  = filteredLik_bi[:20].bigram.values\n",
    "lik_tri = filteredLik_tri[:20].trigram.values"
   ]
  },
  {
   "cell_type": "markdown",
   "metadata": {},
   "source": [
    "### Bigram Comparison"
   ]
  },
  {
   "cell_type": "code",
   "execution_count": 142,
   "metadata": {},
   "outputs": [],
   "source": [
    "bigramsCompare = pd.DataFrame([freq_bi, pmi_bi, t_bi, chi_bi, lik_bi]).T"
   ]
  },
  {
   "cell_type": "code",
   "execution_count": 143,
   "metadata": {},
   "outputs": [
    {
     "data": {
      "text/html": [
       "<div>\n",
       "<style scoped>\n",
       "    .dataframe tbody tr th:only-of-type {\n",
       "        vertical-align: middle;\n",
       "    }\n",
       "\n",
       "    .dataframe tbody tr th {\n",
       "        vertical-align: top;\n",
       "    }\n",
       "\n",
       "    .dataframe thead th {\n",
       "        text-align: right;\n",
       "    }\n",
       "</style>\n",
       "<table border=\"1\" class=\"dataframe\">\n",
       "  <thead>\n",
       "    <tr style=\"text-align: right;\">\n",
       "      <th></th>\n",
       "      <th>0</th>\n",
       "      <th>1</th>\n",
       "      <th>2</th>\n",
       "      <th>3</th>\n",
       "      <th>4</th>\n",
       "    </tr>\n",
       "  </thead>\n",
       "  <tbody>\n",
       "    <tr>\n",
       "      <th>0</th>\n",
       "      <td>(front, desk)</td>\n",
       "      <td>(sarah, junge)</td>\n",
       "      <td>(front, desk)</td>\n",
       "      <td>(honua, kai)</td>\n",
       "      <td>(front, desk)</td>\n",
       "    </tr>\n",
       "    <tr>\n",
       "      <th>1</th>\n",
       "      <td>(friendly, staff)</td>\n",
       "      <td>(santa, monica)</td>\n",
       "      <td>(friendly, staff)</td>\n",
       "      <td>(dixie, krauss)</td>\n",
       "      <td>(walk, distance)</td>\n",
       "    </tr>\n",
       "    <tr>\n",
       "      <th>2</th>\n",
       "      <td>(great, location)</td>\n",
       "      <td>(octavia, margineanhotel)</td>\n",
       "      <td>(great, location)</td>\n",
       "      <td>(wi, fi)</td>\n",
       "      <td>(customer, service)</td>\n",
       "    </tr>\n",
       "    <tr>\n",
       "      <th>3</th>\n",
       "      <td>(walk, distance)</td>\n",
       "      <td>(dixie, krauss)</td>\n",
       "      <td>(walk, distance)</td>\n",
       "      <td>(octavia, margineanhotel)</td>\n",
       "      <td>(continental, breakfast)</td>\n",
       "    </tr>\n",
       "    <tr>\n",
       "      <th>4</th>\n",
       "      <td>(clean, room)</td>\n",
       "      <td>(honua, kai)</td>\n",
       "      <td>(free, breakfast)</td>\n",
       "      <td>(sarah, junge)</td>\n",
       "      <td>(great, location)</td>\n",
       "    </tr>\n",
       "  </tbody>\n",
       "</table>\n",
       "</div>"
      ],
      "text/plain": [
       "                   0                          1                  2  \\\n",
       "0      (front, desk)             (sarah, junge)      (front, desk)   \n",
       "1  (friendly, staff)            (santa, monica)  (friendly, staff)   \n",
       "2  (great, location)  (octavia, margineanhotel)  (great, location)   \n",
       "3   (walk, distance)            (dixie, krauss)   (walk, distance)   \n",
       "4      (clean, room)               (honua, kai)  (free, breakfast)   \n",
       "\n",
       "                           3                         4  \n",
       "0               (honua, kai)             (front, desk)  \n",
       "1            (dixie, krauss)          (walk, distance)  \n",
       "2                   (wi, fi)       (customer, service)  \n",
       "3  (octavia, margineanhotel)  (continental, breakfast)  \n",
       "4             (sarah, junge)         (great, location)  "
      ]
     },
     "execution_count": 143,
     "metadata": {},
     "output_type": "execute_result"
    }
   ],
   "source": [
    "bigramsCompare.head()"
   ]
  },
  {
   "cell_type": "code",
   "execution_count": 144,
   "metadata": {},
   "outputs": [],
   "source": [
    "bigramsCompare.columns = ['Frequency With Filter', 'PMI', 'T-test With Filter', 'Chi-Sq Test', 'Likeihood Ratio Test With Filter']"
   ]
  },
  {
   "cell_type": "code",
   "execution_count": 145,
   "metadata": {},
   "outputs": [
    {
     "data": {
      "text/html": [
       "<div>\n",
       "<style scoped>\n",
       "    .dataframe tbody tr th:only-of-type {\n",
       "        vertical-align: middle;\n",
       "    }\n",
       "\n",
       "    .dataframe tbody tr th {\n",
       "        vertical-align: top;\n",
       "    }\n",
       "\n",
       "    .dataframe thead th {\n",
       "        text-align: right;\n",
       "    }\n",
       "</style>\n",
       "<table border=\"1\" class=\"dataframe\">\n",
       "  <thead>\n",
       "    <tr style=\"text-align: right;\">\n",
       "      <th></th>\n",
       "      <th>Frequency With Filter</th>\n",
       "      <th>PMI</th>\n",
       "      <th>T-test With Filter</th>\n",
       "      <th>Chi-Sq Test</th>\n",
       "      <th>Likeihood Ratio Test With Filter</th>\n",
       "    </tr>\n",
       "  </thead>\n",
       "  <tbody>\n",
       "    <tr>\n",
       "      <th>0</th>\n",
       "      <td>(front, desk)</td>\n",
       "      <td>(sarah, junge)</td>\n",
       "      <td>(front, desk)</td>\n",
       "      <td>(honua, kai)</td>\n",
       "      <td>(front, desk)</td>\n",
       "    </tr>\n",
       "    <tr>\n",
       "      <th>1</th>\n",
       "      <td>(friendly, staff)</td>\n",
       "      <td>(santa, monica)</td>\n",
       "      <td>(friendly, staff)</td>\n",
       "      <td>(dixie, krauss)</td>\n",
       "      <td>(walk, distance)</td>\n",
       "    </tr>\n",
       "    <tr>\n",
       "      <th>2</th>\n",
       "      <td>(great, location)</td>\n",
       "      <td>(octavia, margineanhotel)</td>\n",
       "      <td>(great, location)</td>\n",
       "      <td>(wi, fi)</td>\n",
       "      <td>(customer, service)</td>\n",
       "    </tr>\n",
       "    <tr>\n",
       "      <th>3</th>\n",
       "      <td>(walk, distance)</td>\n",
       "      <td>(dixie, krauss)</td>\n",
       "      <td>(walk, distance)</td>\n",
       "      <td>(octavia, margineanhotel)</td>\n",
       "      <td>(continental, breakfast)</td>\n",
       "    </tr>\n",
       "    <tr>\n",
       "      <th>4</th>\n",
       "      <td>(clean, room)</td>\n",
       "      <td>(honua, kai)</td>\n",
       "      <td>(free, breakfast)</td>\n",
       "      <td>(sarah, junge)</td>\n",
       "      <td>(great, location)</td>\n",
       "    </tr>\n",
       "    <tr>\n",
       "      <th>5</th>\n",
       "      <td>(free, breakfast)</td>\n",
       "      <td>(san, francisco)</td>\n",
       "      <td>(customer, service)</td>\n",
       "      <td>(santa, monica)</td>\n",
       "      <td>(hampton, inn)</td>\n",
       "    </tr>\n",
       "    <tr>\n",
       "      <th>6</th>\n",
       "      <td>(customer, service)</td>\n",
       "      <td>(wi, fi)</td>\n",
       "      <td>(continental, breakfast)</td>\n",
       "      <td>(front, desk)</td>\n",
       "      <td>(friendly, staff)</td>\n",
       "    </tr>\n",
       "    <tr>\n",
       "      <th>7</th>\n",
       "      <td>(desk, staff)</td>\n",
       "      <td>(angel, stadium)</td>\n",
       "      <td>(desk, staff)</td>\n",
       "      <td>(   , more)</td>\n",
       "      <td>(next, door)</td>\n",
       "    </tr>\n",
       "    <tr>\n",
       "      <th>8</th>\n",
       "      <td>(hotel, staff)</td>\n",
       "      <td>(anaheim, maingate)</td>\n",
       "      <td>(comfortable, bed)</td>\n",
       "      <td>(french, quarter)</td>\n",
       "      <td>(hot, tub)</td>\n",
       "    </tr>\n",
       "    <tr>\n",
       "      <th>9</th>\n",
       "      <td>(continental, breakfast)</td>\n",
       "      <td>(fire, pit)</td>\n",
       "      <td>(next, door)</td>\n",
       "      <td>(las, vegas)</td>\n",
       "      <td>(free, breakfast)</td>\n",
       "    </tr>\n",
       "    <tr>\n",
       "      <th>10</th>\n",
       "      <td>(comfortable, bed)</td>\n",
       "      <td>(french, quarter)</td>\n",
       "      <td>(clean, room)</td>\n",
       "      <td>(flat, screen)</td>\n",
       "      <td>(parking, lot)</td>\n",
       "    </tr>\n",
       "    <tr>\n",
       "      <th>11</th>\n",
       "      <td>(nice, hotel)</td>\n",
       "      <td>(flat, screen)</td>\n",
       "      <td>(parking, lot)</td>\n",
       "      <td>(san, francisco)</td>\n",
       "      <td>(wi, fi)</td>\n",
       "    </tr>\n",
       "    <tr>\n",
       "      <th>12</th>\n",
       "      <td>(next, door)</td>\n",
       "      <td>(inner, harbor)</td>\n",
       "      <td>(great, place)</td>\n",
       "      <td>(angel, stadium)</td>\n",
       "      <td>(new, york)</td>\n",
       "    </tr>\n",
       "    <tr>\n",
       "      <th>13</th>\n",
       "      <td>(great, place)</td>\n",
       "      <td>(las, vegas)</td>\n",
       "      <td>(hampton, inn)</td>\n",
       "      <td>(anaheim, maingate)</td>\n",
       "      <td>(las, vegas)</td>\n",
       "    </tr>\n",
       "    <tr>\n",
       "      <th>14</th>\n",
       "      <td>(parking, lot)</td>\n",
       "      <td>(pleasantly, surprised)</td>\n",
       "      <td>(next, time)</td>\n",
       "      <td>(didn, t)</td>\n",
       "      <td>(good, western)</td>\n",
       "    </tr>\n",
       "    <tr>\n",
       "      <th>15</th>\n",
       "      <td>(hampton, inn)</td>\n",
       "      <td>(scramble, egg)</td>\n",
       "      <td>(hot, tub)</td>\n",
       "      <td>(inner, harbor)</td>\n",
       "      <td>(comfortable, bed)</td>\n",
       "    </tr>\n",
       "    <tr>\n",
       "      <th>16</th>\n",
       "      <td>(good, location)</td>\n",
       "      <td>(hair, dryer)</td>\n",
       "      <td>(pool, area)</td>\n",
       "      <td>(fire, pit)</td>\n",
       "      <td>(space, needle)</td>\n",
       "    </tr>\n",
       "    <tr>\n",
       "      <th>17</th>\n",
       "      <td>(next, time)</td>\n",
       "      <td>(grocery, store)</td>\n",
       "      <td>(good, western)</td>\n",
       "      <td>(credit, card)</td>\n",
       "      <td>(credit, card)</td>\n",
       "    </tr>\n",
       "    <tr>\n",
       "      <th>18</th>\n",
       "      <td>(pool, area)</td>\n",
       "      <td>(hotels, com)</td>\n",
       "      <td>(good, location)</td>\n",
       "      <td>(pleasantly, surprised)</td>\n",
       "      <td>(air, conditioning)</td>\n",
       "    </tr>\n",
       "    <tr>\n",
       "      <th>19</th>\n",
       "      <td>(hot, tub)</td>\n",
       "      <td>(golf, course)</td>\n",
       "      <td>(hotel, staff)</td>\n",
       "      <td>(air, conditioning)</td>\n",
       "      <td>(desk, staff)</td>\n",
       "    </tr>\n",
       "  </tbody>\n",
       "</table>\n",
       "</div>"
      ],
      "text/plain": [
       "       Frequency With Filter                        PMI  \\\n",
       "0              (front, desk)             (sarah, junge)   \n",
       "1          (friendly, staff)            (santa, monica)   \n",
       "2          (great, location)  (octavia, margineanhotel)   \n",
       "3           (walk, distance)            (dixie, krauss)   \n",
       "4              (clean, room)               (honua, kai)   \n",
       "5          (free, breakfast)           (san, francisco)   \n",
       "6        (customer, service)                   (wi, fi)   \n",
       "7              (desk, staff)           (angel, stadium)   \n",
       "8             (hotel, staff)        (anaheim, maingate)   \n",
       "9   (continental, breakfast)                (fire, pit)   \n",
       "10        (comfortable, bed)          (french, quarter)   \n",
       "11             (nice, hotel)             (flat, screen)   \n",
       "12              (next, door)            (inner, harbor)   \n",
       "13            (great, place)               (las, vegas)   \n",
       "14            (parking, lot)    (pleasantly, surprised)   \n",
       "15            (hampton, inn)            (scramble, egg)   \n",
       "16          (good, location)              (hair, dryer)   \n",
       "17              (next, time)           (grocery, store)   \n",
       "18              (pool, area)              (hotels, com)   \n",
       "19                (hot, tub)             (golf, course)   \n",
       "\n",
       "          T-test With Filter                Chi-Sq Test  \\\n",
       "0              (front, desk)               (honua, kai)   \n",
       "1          (friendly, staff)            (dixie, krauss)   \n",
       "2          (great, location)                   (wi, fi)   \n",
       "3           (walk, distance)  (octavia, margineanhotel)   \n",
       "4          (free, breakfast)             (sarah, junge)   \n",
       "5        (customer, service)            (santa, monica)   \n",
       "6   (continental, breakfast)              (front, desk)   \n",
       "7              (desk, staff)                (   , more)   \n",
       "8         (comfortable, bed)          (french, quarter)   \n",
       "9               (next, door)               (las, vegas)   \n",
       "10             (clean, room)             (flat, screen)   \n",
       "11            (parking, lot)           (san, francisco)   \n",
       "12            (great, place)           (angel, stadium)   \n",
       "13            (hampton, inn)        (anaheim, maingate)   \n",
       "14              (next, time)                  (didn, t)   \n",
       "15                (hot, tub)            (inner, harbor)   \n",
       "16              (pool, area)                (fire, pit)   \n",
       "17           (good, western)             (credit, card)   \n",
       "18          (good, location)    (pleasantly, surprised)   \n",
       "19            (hotel, staff)        (air, conditioning)   \n",
       "\n",
       "   Likeihood Ratio Test With Filter  \n",
       "0                     (front, desk)  \n",
       "1                  (walk, distance)  \n",
       "2               (customer, service)  \n",
       "3          (continental, breakfast)  \n",
       "4                 (great, location)  \n",
       "5                    (hampton, inn)  \n",
       "6                 (friendly, staff)  \n",
       "7                      (next, door)  \n",
       "8                        (hot, tub)  \n",
       "9                 (free, breakfast)  \n",
       "10                   (parking, lot)  \n",
       "11                         (wi, fi)  \n",
       "12                      (new, york)  \n",
       "13                     (las, vegas)  \n",
       "14                  (good, western)  \n",
       "15               (comfortable, bed)  \n",
       "16                  (space, needle)  \n",
       "17                   (credit, card)  \n",
       "18              (air, conditioning)  \n",
       "19                    (desk, staff)  "
      ]
     },
     "execution_count": 145,
     "metadata": {},
     "output_type": "execute_result"
    }
   ],
   "source": [
    "bigramsCompare"
   ]
  },
  {
   "cell_type": "markdown",
   "metadata": {},
   "source": [
    "### Trigram Comparison"
   ]
  },
  {
   "cell_type": "code",
   "execution_count": 146,
   "metadata": {},
   "outputs": [],
   "source": [
    "trigramsCompare = pd.DataFrame([freq_tri, pmi_tri, t_tri, chi_tri, lik_tri]).T"
   ]
  },
  {
   "cell_type": "code",
   "execution_count": 147,
   "metadata": {},
   "outputs": [],
   "source": [
    "trigramsCompare.columns = ['Frequency With Filter', 'PMI', 'T-test With Filter', 'Chi-Sq Test', 'Likeihood Ratio Test With Filter']"
   ]
  },
  {
   "cell_type": "code",
   "execution_count": 148,
   "metadata": {},
   "outputs": [
    {
     "data": {
      "text/html": [
       "<div>\n",
       "<style scoped>\n",
       "    .dataframe tbody tr th:only-of-type {\n",
       "        vertical-align: middle;\n",
       "    }\n",
       "\n",
       "    .dataframe tbody tr th {\n",
       "        vertical-align: top;\n",
       "    }\n",
       "\n",
       "    .dataframe thead th {\n",
       "        text-align: right;\n",
       "    }\n",
       "</style>\n",
       "<table border=\"1\" class=\"dataframe\">\n",
       "  <thead>\n",
       "    <tr style=\"text-align: right;\">\n",
       "      <th></th>\n",
       "      <th>Frequency With Filter</th>\n",
       "      <th>PMI</th>\n",
       "      <th>T-test With Filter</th>\n",
       "      <th>Chi-Sq Test</th>\n",
       "      <th>Likeihood Ratio Test With Filter</th>\n",
       "    </tr>\n",
       "  </thead>\n",
       "  <tbody>\n",
       "    <tr>\n",
       "      <th>0</th>\n",
       "      <td>(front, desk, staff)</td>\n",
       "      <td>(octavia, margineanhotel, manager)</td>\n",
       "      <td>(front, desk, staff)</td>\n",
       "      <td>(octavia, margineanhotel, manager)</td>\n",
       "      <td>(front, desk, staff)</td>\n",
       "    </tr>\n",
       "    <tr>\n",
       "      <th>1</th>\n",
       "      <td>(non, smoking, room)</td>\n",
       "      <td>(maingate, near, angel)</td>\n",
       "      <td>(non, smoking, room)</td>\n",
       "      <td>(suites, anaheim, maingate)</td>\n",
       "      <td>(front, desk, clerk)</td>\n",
       "    </tr>\n",
       "    <tr>\n",
       "      <th>2</th>\n",
       "      <td>(front, desk, clerk)</td>\n",
       "      <td>(suites, anaheim, maingate)</td>\n",
       "      <td>(front, desk, clerk)</td>\n",
       "      <td>(towneplace, suites, anaheim)</td>\n",
       "      <td>(restaurant, within, walk)</td>\n",
       "    </tr>\n",
       "    <tr>\n",
       "      <th>3</th>\n",
       "      <td>(regis, new, york)</td>\n",
       "      <td>(towneplace, suites, anaheim)</td>\n",
       "      <td>(regis, new, york)</td>\n",
       "      <td>(maingate, near, angel)</td>\n",
       "      <td>(hampton, inn, suites)</td>\n",
       "    </tr>\n",
       "    <tr>\n",
       "      <th>4</th>\n",
       "      <td>(holiday, inn, express)</td>\n",
       "      <td>(near, angel, stadium)</td>\n",
       "      <td>(holiday, inn, express)</td>\n",
       "      <td>(near, angel, stadium)</td>\n",
       "      <td>(regis, new, york)</td>\n",
       "    </tr>\n",
       "    <tr>\n",
       "      <th>5</th>\n",
       "      <td>(suites, anaheim, maingate)</td>\n",
       "      <td>(anaheim, maingate, near)</td>\n",
       "      <td>(suites, anaheim, maingate)</td>\n",
       "      <td>(anaheim, maingate, near)</td>\n",
       "      <td>(new, york, city)</td>\n",
       "    </tr>\n",
       "    <tr>\n",
       "      <th>6</th>\n",
       "      <td>(hilton, garden, inn)</td>\n",
       "      <td>(flat, screen, tv)</td>\n",
       "      <td>(hilton, garden, inn)</td>\n",
       "      <td>(flat, screen, tv)</td>\n",
       "      <td>(non, smoking, room)</td>\n",
       "    </tr>\n",
       "    <tr>\n",
       "      <th>7</th>\n",
       "      <td>(flat, screen, tv)</td>\n",
       "      <td>(holiday, inn, express)</td>\n",
       "      <td>(flat, screen, tv)</td>\n",
       "      <td>(holiday, inn, express)</td>\n",
       "      <td>(holiday, inn, express)</td>\n",
       "    </tr>\n",
       "    <tr>\n",
       "      <th>8</th>\n",
       "      <td>(maingate, near, angel)</td>\n",
       "      <td>(regis, new, york)</td>\n",
       "      <td>(maingate, near, angel)</td>\n",
       "      <td>(regis, new, york)</td>\n",
       "      <td>(flat, screen, tv)</td>\n",
       "    </tr>\n",
       "    <tr>\n",
       "      <th>9</th>\n",
       "      <td>(octavia, margineanhotel, manager)</td>\n",
       "      <td>(hilton, garden, inn)</td>\n",
       "      <td>(octavia, margineanhotel, manager)</td>\n",
       "      <td>(within, walk, distance)</td>\n",
       "      <td>(suites, anaheim, maingate)</td>\n",
       "    </tr>\n",
       "    <tr>\n",
       "      <th>10</th>\n",
       "      <td>(good, night, sleep)</td>\n",
       "      <td>(within, walk, distance)</td>\n",
       "      <td>(hampton, inn, suites)</td>\n",
       "      <td>(hilton, garden, inn)</td>\n",
       "      <td>(maingate, near, angel)</td>\n",
       "    </tr>\n",
       "    <tr>\n",
       "      <th>11</th>\n",
       "      <td>(hampton, inn, suites)</td>\n",
       "      <td>(new, york, city)</td>\n",
       "      <td>(good, night, sleep)</td>\n",
       "      <td>(new, york, city)</td>\n",
       "      <td>(octavia, margineanhotel, manager)</td>\n",
       "    </tr>\n",
       "    <tr>\n",
       "      <th>12</th>\n",
       "      <td>(new, york, city)</td>\n",
       "      <td>(hampton, inn, suites)</td>\n",
       "      <td>(new, york, city)</td>\n",
       "      <td>(hampton, inn, suites)</td>\n",
       "      <td>(hilton, garden, inn)</td>\n",
       "    </tr>\n",
       "    <tr>\n",
       "      <th>13</th>\n",
       "      <td>(restaurant, within, walk)</td>\n",
       "      <td>(dixie, krauss,  )</td>\n",
       "      <td>(restaurant, within, walk)</td>\n",
       "      <td>(dixie, krauss,  )</td>\n",
       "      <td>(good, night, sleep)</td>\n",
       "    </tr>\n",
       "    <tr>\n",
       "      <th>14</th>\n",
       "      <td>(first, time, stay)</td>\n",
       "      <td>( , octavia, margineanhotel)</td>\n",
       "      <td>None</td>\n",
       "      <td>(look, forward, to)</td>\n",
       "      <td>None</td>\n",
       "    </tr>\n",
       "    <tr>\n",
       "      <th>15</th>\n",
       "      <td>(front, desk, people)</td>\n",
       "      <td>(attention, to, detail)</td>\n",
       "      <td>None</td>\n",
       "      <td>(non, smoking, room)</td>\n",
       "      <td>None</td>\n",
       "    </tr>\n",
       "    <tr>\n",
       "      <th>16</th>\n",
       "      <td>(excellent, customer, service)</td>\n",
       "      <td>(non, smoking, room)</td>\n",
       "      <td>None</td>\n",
       "      <td>( , octavia, margineanhotel)</td>\n",
       "      <td>None</td>\n",
       "    </tr>\n",
       "    <tr>\n",
       "      <th>17</th>\n",
       "      <td>(front, desk, person)</td>\n",
       "      <td>(king, size, bed)</td>\n",
       "      <td>None</td>\n",
       "      <td>(would, highly, recommend)</td>\n",
       "      <td>None</td>\n",
       "    </tr>\n",
       "    <tr>\n",
       "      <th>18</th>\n",
       "      <td>(great, customer, service)</td>\n",
       "      <td>(the, french, quarter)</td>\n",
       "      <td>None</td>\n",
       "      <td>(above, and, beyond)</td>\n",
       "      <td>None</td>\n",
       "    </tr>\n",
       "    <tr>\n",
       "      <th>19</th>\n",
       "      <td>(air, conditioning, unit)</td>\n",
       "      <td>(front, desk, clerk)</td>\n",
       "      <td>None</td>\n",
       "      <td>(the, front, desk)</td>\n",
       "      <td>None</td>\n",
       "    </tr>\n",
       "  </tbody>\n",
       "</table>\n",
       "</div>"
      ],
      "text/plain": [
       "                 Frequency With Filter                                 PMI  \\\n",
       "0                 (front, desk, staff)  (octavia, margineanhotel, manager)   \n",
       "1                 (non, smoking, room)             (maingate, near, angel)   \n",
       "2                 (front, desk, clerk)         (suites, anaheim, maingate)   \n",
       "3                   (regis, new, york)       (towneplace, suites, anaheim)   \n",
       "4              (holiday, inn, express)              (near, angel, stadium)   \n",
       "5          (suites, anaheim, maingate)           (anaheim, maingate, near)   \n",
       "6                (hilton, garden, inn)                  (flat, screen, tv)   \n",
       "7                   (flat, screen, tv)             (holiday, inn, express)   \n",
       "8              (maingate, near, angel)                  (regis, new, york)   \n",
       "9   (octavia, margineanhotel, manager)               (hilton, garden, inn)   \n",
       "10                (good, night, sleep)            (within, walk, distance)   \n",
       "11              (hampton, inn, suites)                   (new, york, city)   \n",
       "12                   (new, york, city)              (hampton, inn, suites)   \n",
       "13          (restaurant, within, walk)                  (dixie, krauss,  )   \n",
       "14                 (first, time, stay)        ( , octavia, margineanhotel)   \n",
       "15               (front, desk, people)             (attention, to, detail)   \n",
       "16      (excellent, customer, service)                (non, smoking, room)   \n",
       "17               (front, desk, person)                   (king, size, bed)   \n",
       "18          (great, customer, service)              (the, french, quarter)   \n",
       "19           (air, conditioning, unit)                (front, desk, clerk)   \n",
       "\n",
       "                    T-test With Filter                         Chi-Sq Test  \\\n",
       "0                 (front, desk, staff)  (octavia, margineanhotel, manager)   \n",
       "1                 (non, smoking, room)         (suites, anaheim, maingate)   \n",
       "2                 (front, desk, clerk)       (towneplace, suites, anaheim)   \n",
       "3                   (regis, new, york)             (maingate, near, angel)   \n",
       "4              (holiday, inn, express)              (near, angel, stadium)   \n",
       "5          (suites, anaheim, maingate)           (anaheim, maingate, near)   \n",
       "6                (hilton, garden, inn)                  (flat, screen, tv)   \n",
       "7                   (flat, screen, tv)             (holiday, inn, express)   \n",
       "8              (maingate, near, angel)                  (regis, new, york)   \n",
       "9   (octavia, margineanhotel, manager)            (within, walk, distance)   \n",
       "10              (hampton, inn, suites)               (hilton, garden, inn)   \n",
       "11                (good, night, sleep)                   (new, york, city)   \n",
       "12                   (new, york, city)              (hampton, inn, suites)   \n",
       "13          (restaurant, within, walk)                  (dixie, krauss,  )   \n",
       "14                                None                 (look, forward, to)   \n",
       "15                                None                (non, smoking, room)   \n",
       "16                                None        ( , octavia, margineanhotel)   \n",
       "17                                None          (would, highly, recommend)   \n",
       "18                                None                (above, and, beyond)   \n",
       "19                                None                  (the, front, desk)   \n",
       "\n",
       "      Likeihood Ratio Test With Filter  \n",
       "0                 (front, desk, staff)  \n",
       "1                 (front, desk, clerk)  \n",
       "2           (restaurant, within, walk)  \n",
       "3               (hampton, inn, suites)  \n",
       "4                   (regis, new, york)  \n",
       "5                    (new, york, city)  \n",
       "6                 (non, smoking, room)  \n",
       "7              (holiday, inn, express)  \n",
       "8                   (flat, screen, tv)  \n",
       "9          (suites, anaheim, maingate)  \n",
       "10             (maingate, near, angel)  \n",
       "11  (octavia, margineanhotel, manager)  \n",
       "12               (hilton, garden, inn)  \n",
       "13                (good, night, sleep)  \n",
       "14                                None  \n",
       "15                                None  \n",
       "16                                None  \n",
       "17                                None  \n",
       "18                                None  \n",
       "19                                None  "
      ]
     },
     "execution_count": 148,
     "metadata": {},
     "output_type": "execute_result"
    }
   ],
   "source": [
    "trigramsCompare"
   ]
  },
  {
   "cell_type": "code",
   "execution_count": null,
   "metadata": {},
   "outputs": [],
   "source": []
  }
 ],
 "metadata": {
  "kernelspec": {
   "display_name": "Python 3 (ipykernel)",
   "language": "python",
   "name": "python3"
  },
  "language_info": {
   "codemirror_mode": {
    "name": "ipython",
    "version": 3
   },
   "file_extension": ".py",
   "mimetype": "text/x-python",
   "name": "python",
   "nbconvert_exporter": "python",
   "pygments_lexer": "ipython3",
   "version": "3.9.13"
  }
 },
 "nbformat": 4,
 "nbformat_minor": 4
}
