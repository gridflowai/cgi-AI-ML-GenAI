{
 "cells": [
  {
   "cell_type": "markdown",
   "id": "a356ab60-1500-4e60-a317-28bb4e456505",
   "metadata": {},
   "source": [
    "--------------------\n",
    "#### meaningful bigrams, \n",
    "\n",
    "- a combination of preprocessing and filtering is generally used\n",
    "-------------------------"
   ]
  },
  {
   "cell_type": "markdown",
   "id": "4a66c864-71ad-41e4-9285-e1a84a46385b",
   "metadata": {},
   "source": [
    "#### Simple Example"
   ]
  },
  {
   "cell_type": "code",
   "execution_count": 28,
   "id": "f91392bf-9af5-43cc-8043-30b0d6c165a1",
   "metadata": {},
   "outputs": [],
   "source": [
    "import nltk\n",
    "from nltk.tokenize import word_tokenize\n",
    "from nltk.collocations import BigramCollocationFinder, BigramAssocMeasures"
   ]
  },
  {
   "cell_type": "code",
   "execution_count": 54,
   "id": "b6ab1950-3bbb-4a0f-a26e-e964e0d3e81a",
   "metadata": {},
   "outputs": [],
   "source": [
    "# Sample text\n",
    "text = '''Collocations are fundamental linguistic phenomena playing a crucial role in natural language understanding and processing. \n",
    "In essence, collocations represent the tendency of certain words or phrases to co-occur frequently within a language. \n",
    "Understanding collocations is essential for various language-related tasks including language learning, translation, information retrieval, \n",
    "and natural language processing (NLP).\n",
    "At its core, a collocation is a pairing or grouping of words that appear together in a text more often than would be expected by \n",
    "chance alone. These word combinations often exhibit semantic or syntactic cohesion, reflecting the regular patterns of \n",
    "language usage by native speakers. Collocations encompass a wide range of linguistic constructions including verb-noun pairs \n",
    "such as \"make a decision,\" adjective-noun pairs like \"heavy rain,\" adverb-adjective pairs such as \"extremely happy,\" \n",
    "and noun-preposition combinations like \"interest in.\"\n",
    "Collocations can be categorized based on various criteria such as lexical composition, grammatical structure, and semantic relationship. \n",
    "Lexical collocations involve words with specific lexical meanings that frequently co-occur together, while grammatical collocations focus on syntactic patterns and word order. Semantic collocations are based on the meaning and semantic relationship between words, reflecting concepts or ideas expressed in the text.\n",
    "The identification and analysis of collocations are crucial for several reasons:\n",
    "Semantic Understanding: Collocations provide insights into the meaning and usage of words within a language. \n",
    "By examining which words tend to occur together, we can infer semantic relationships and contextual nuances.\n",
    "Language Proficiency: Knowledge of collocations is essential for language learners to achieve fluency and naturalness in their \n",
    "speech or writing. Understanding which words commonly co-occur helps learners produce more idiomatic and native-like expressions.\n",
    "Text Processing: In NLP tasks such as information retrieval, text summarization, and sentiment analysis, recognizing and extracting \n",
    "collocations can improve the accuracy and relevance of results. Collocations help capture the underlying structure and semantics of text data.\n",
    "Translation and Localization: Collocations pose challenges for translators due to their culture-specific and idiomatic nature. \n",
    "Translating collocations accurately requires knowledge of both source and target languages, as well as an understanding of the \n",
    "cultural context.\n",
    "Several methods and techniques are employed to identify and extract collocations from text corpora. \n",
    "These include frequency-based approaches, statistical measures such as Pointwise Mutual Information (PMI) and chi-squared tests, \n",
    "as well as machine learning algorithms. Collocation extraction tools and libraries, such as NLTK (Natural Language Toolkit), \n",
    "Gensim, and spaCy, provide functionalities for detecting and analyzing collocations in text data.\n",
    "In summary, collocations are essential linguistic constructs that reflect the regularities and patterns of language usage. \n",
    "Understanding collocations enhances language proficiency, facilitates text processing tasks, and contributes to the broader \n",
    "field of natural language understanding. By studying collocations, linguists and language practitioners gain valuable insights \n",
    "into the structure, semantics, and cultural aspects of language.'''"
   ]
  },
  {
   "cell_type": "code",
   "execution_count": 55,
   "id": "c569f57c-1d09-42f2-b7e6-3a12deffaf56",
   "metadata": {},
   "outputs": [],
   "source": [
    "# Characters to strip off\n",
    "characters_to_remove = [',', ';', '\"', '(', ')', '.']\n",
    "\n",
    "# Remove specified characters\n",
    "for char in characters_to_remove:\n",
    "    text = text.replace(char, '')"
   ]
  },
  {
   "cell_type": "code",
   "execution_count": 56,
   "id": "452d2162-2f05-466c-bd91-9e9e8d814041",
   "metadata": {},
   "outputs": [],
   "source": [
    "# Tokenize the text\n",
    "tokens = word_tokenize(text)"
   ]
  },
  {
   "cell_type": "code",
   "execution_count": 57,
   "id": "a12ef029-956c-4748-a8d5-1c9e1177d67c",
   "metadata": {},
   "outputs": [],
   "source": [
    "# Create a BigramCollocationFinder\n",
    "finder = BigramCollocationFinder.from_words(tokens)"
   ]
  },
  {
   "cell_type": "code",
   "execution_count": 58,
   "id": "64533af8-54ef-4b54-97b0-ac01e3607a02",
   "metadata": {},
   "outputs": [],
   "source": [
    "# Score collocations using frequency\n",
    "bigram_measures     = BigramAssocMeasures()\n",
    "scored_collocations = finder.score_ngrams(bigram_measures.raw_freq)"
   ]
  },
  {
   "cell_type": "code",
   "execution_count": 59,
   "id": "d0f0eaea-2c07-43fc-95a1-e86ac42b2976",
   "metadata": {},
   "outputs": [
    {
     "name": "stdout",
     "output_type": "stream",
     "text": [
      "(('such', 'as'), 0.013215859030837005)\n",
      "(('collocations', 'are'), 0.006607929515418502)\n",
      "(('natural', 'language'), 0.006607929515418502)\n",
      "(('of', 'language'), 0.006607929515418502)\n",
      "((':', 'Collocations'), 0.004405286343612335)\n",
      "(('Understanding', 'collocations'), 0.004405286343612335)\n",
      "(('a', 'language'), 0.004405286343612335)\n",
      "(('and', 'semantic'), 0.004405286343612335)\n",
      "(('as', 'well'), 0.004405286343612335)\n",
      "(('based', 'on'), 0.004405286343612335)\n",
      "(('collocations', 'is'), 0.004405286343612335)\n",
      "(('essential', 'for'), 0.004405286343612335)\n",
      "(('information', 'retrieval'), 0.004405286343612335)\n",
      "(('insights', 'into'), 0.004405286343612335)\n",
      "(('into', 'the'), 0.004405286343612335)\n"
     ]
    }
   ],
   "source": [
    "# Print the top 5 collocations\n",
    "for collocation in scored_collocations[:15]:\n",
    "    print(collocation)"
   ]
  },
  {
   "cell_type": "markdown",
   "id": "a11e798c-5521-43e0-8c56-b4d75f266886",
   "metadata": {},
   "source": [
    "**Useful preprocessing**"
   ]
  },
  {
   "cell_type": "markdown",
   "id": "ef967aad-203a-48a0-b7be-37a265238d9c",
   "metadata": {},
   "source": [
    "`Remove Stopwords`: Often, stopwords like \"and\", \"the\", \"is\", etc., form very frequent bigrams that aren't useful.\n",
    "\n",
    "`Use Meaningful POS Tags`: Consider keeping bigrams where the words are nouns, adjectives, verbs, etc., and filter out bigrams where both words are prepositions, for instance.\n",
    "\n",
    "`Frequency Filtering`: Remove bigrams that appear only once (or below a certain threshold).\n",
    "\n",
    "`Collocation Finders`: nltk provides BigramCollocationFinder (and the corresponding trigram version) that can be used to detect bigrams that occur more frequently than would be expected based on individual word frequencies."
   ]
  },
  {
   "cell_type": "markdown",
   "id": "0a6b7fe8-4195-498f-b93e-d27164eecebc",
   "metadata": {},
   "source": [
    "#### Using brown dataset"
   ]
  },
  {
   "cell_type": "code",
   "execution_count": 60,
   "id": "83d149ef-4dff-4267-8cf0-1f3fe3843aa2",
   "metadata": {
    "tags": []
   },
   "outputs": [],
   "source": [
    "import nltk\n",
    "from nltk.corpus import brown, stopwords\n",
    "\n",
    "from nltk.collocations import BigramCollocationFinder\n",
    "from nltk.metrics import BigramAssocMeasures"
   ]
  },
  {
   "cell_type": "code",
   "execution_count": 61,
   "id": "9adba808-590e-449b-886f-1aec33695eb2",
   "metadata": {
    "tags": []
   },
   "outputs": [
    {
     "name": "stderr",
     "output_type": "stream",
     "text": [
      "[nltk_data] Downloading package brown to\n",
      "[nltk_data]     C:\\Users\\bhupe\\AppData\\Roaming\\nltk_data...\n",
      "[nltk_data]   Package brown is already up-to-date!\n",
      "[nltk_data] Downloading package stopwords to\n",
      "[nltk_data]     C:\\Users\\bhupe\\AppData\\Roaming\\nltk_data...\n",
      "[nltk_data]   Package stopwords is already up-to-date!\n",
      "[nltk_data] Downloading package averaged_perceptron_tagger to\n",
      "[nltk_data]     C:\\Users\\bhupe\\AppData\\Roaming\\nltk_data...\n",
      "[nltk_data]   Package averaged_perceptron_tagger is already up-to-\n",
      "[nltk_data]       date!\n"
     ]
    },
    {
     "data": {
      "text/plain": [
       "True"
      ]
     },
     "execution_count": 61,
     "metadata": {},
     "output_type": "execute_result"
    }
   ],
   "source": [
    "nltk.download('brown')\n",
    "nltk.download('stopwords')\n",
    "nltk.download('averaged_perceptron_tagger')"
   ]
  },
  {
   "cell_type": "code",
   "execution_count": 62,
   "id": "ec745f3b-0079-41aa-943c-6a8c8748e343",
   "metadata": {
    "tags": []
   },
   "outputs": [],
   "source": [
    "# 1. Remove stopwords and non-alpha words\n",
    "stopwords_set  = set(stopwords.words('english'))\n",
    "filtered_words = [word for word in brown.words(categories='news') if word not in stopwords_set and word.isalpha()]"
   ]
  },
  {
   "cell_type": "code",
   "execution_count": 63,
   "id": "b94e121a-41bb-4747-87f1-8490a1c01a4a",
   "metadata": {},
   "outputs": [
    {
     "data": {
      "text/plain": [
       "49600"
      ]
     },
     "execution_count": 63,
     "metadata": {},
     "output_type": "execute_result"
    }
   ],
   "source": [
    "len(filtered_words)"
   ]
  },
  {
   "cell_type": "code",
   "execution_count": 64,
   "id": "49d786d3-3125-44bc-91f3-7e70275fba97",
   "metadata": {},
   "outputs": [
    {
     "name": "stdout",
     "output_type": "stream",
     "text": [
      "['The', 'Fulton', 'County', 'Grand', 'Jury', 'said', 'Friday', 'investigation', 'recent', 'primary', 'election', 'produced', 'evidence', 'irregularities', 'took', 'place', 'The', 'jury', 'said', 'presentments', 'City', 'Executive', 'Committee', 'charge', 'election', 'deserves', 'praise', 'thanks', 'City', 'Atlanta', 'manner', 'election', 'conducted', 'The', 'term', 'jury', 'charged', 'Fulton', 'Superior', 'Court', 'Judge', 'Durwood', 'Pye', 'investigate', 'reports', 'possible', 'irregularities', 'primary', 'Ivan', 'Allen', 'Only', 'relative', 'handful', 'reports', 'received', 'jury', 'said', 'considering', 'widespread', 'interest', 'election', 'number', 'voters', 'size', 'city', 'The', 'jury', 'said', 'find', 'many', 'registration', 'election', 'laws', 'outmoded', 'inadequate', 'often', 'ambiguous', 'It', 'recommended', 'Fulton', 'legislators', 'act', 'laws', 'studied', 'revised', 'end', 'modernizing', 'improving', 'The', 'grand', 'jury', 'commented', 'number', 'topics', 'among', 'Atlanta', 'Fulton', 'County', 'purchasing', 'departments']\n"
     ]
    }
   ],
   "source": [
    "print(filtered_words[:100])"
   ]
  },
  {
   "cell_type": "code",
   "execution_count": 65,
   "id": "e8fc56f4-926a-46ce-b531-1413b8f5e621",
   "metadata": {
    "tags": []
   },
   "outputs": [],
   "source": [
    "# 2. Use POS tags to filter for nouns and adjectives\n",
    "allowed_postags = ['NN', 'JJ', 'VB']\n",
    "tagged_words    = nltk.pos_tag(filtered_words)\n",
    "filtered_words  = [word for word, pos in tagged_words if pos in allowed_postags]"
   ]
  },
  {
   "cell_type": "code",
   "execution_count": 66,
   "id": "2c1cea35-2acd-4067-89a1-71c55b566115",
   "metadata": {},
   "outputs": [
    {
     "name": "stdout",
     "output_type": "stream",
     "text": [
      "['investigation', 'recent', 'primary', 'election', 'evidence', 'place', 'jury', 'charge', 'election', 'praise', 'manner', 'election', 'term', 'jury', 'investigate', 'possible', 'primary', 'relative', 'handful', 'jury', 'widespread', 'interest', 'election', 'number', 'size', 'city', 'jury', 'many', 'registration', 'election', 'inadequate', 'ambiguous', 'revised', 'end', 'grand', 'jury', 'number', 'purchasing', 'inure', 'interest', 'jury', 'efficiency', 'reduce', 'cost', 'administration', 'jury', 'lacking', 'clerical', 'city', 'city', 'take', 'remedy', 'problem', 'automobile', 'title', 'law', 'outgoing', 'jury', 'next', 'provide', 'effective', 'date', 'orderly', 'implementation', 'law', 'effected', 'grand', 'jury', 'swipe', 'federal', 'child', 'welfare', 'major', 'general', 'assistance', 'program', 'jury', 'distribute', 'welfare', 'state', 'exception', 'none', 'money', 'realize', 'proportionate', 'distribution', 'disable', 'program', 'populous', 'future', 'receive', 'portion', 'available', 'place', 'disproportionate', 'burden', 'jury', 'court', 'fire', 'appointment']\n"
     ]
    }
   ],
   "source": [
    "print(filtered_words[:100])"
   ]
  },
  {
   "cell_type": "code",
   "execution_count": 22,
   "id": "373ab05a-71df-4434-a3f2-523899ab0f7d",
   "metadata": {
    "tags": []
   },
   "outputs": [],
   "source": [
    "# 3. Find Bigram Collocations\n",
    "bigram_measures = BigramAssocMeasures()\n",
    "finder          = BigramCollocationFinder.from_words(filtered_words)\n",
    "\n",
    "finder.apply_freq_filter(min_freq=5)  # Keep only bigrams that appear 5+ times"
   ]
  },
  {
   "cell_type": "code",
   "execution_count": 67,
   "id": "d3a8df62-0520-4f97-b3b7-7fc5ccf764d9",
   "metadata": {
    "tags": []
   },
   "outputs": [
    {
     "data": {
      "text/plain": [
       "[('At', 'its'),\n",
       " ('Collocation', 'extraction'),\n",
       " ('Information', 'PMI'),\n",
       " ('Mutual', 'Information'),\n",
       " ('NLTK', 'Natural'),\n",
       " ('Pointwise', 'Mutual'),\n",
       " ('Several', 'methods'),\n",
       " ('Text', 'Processing'),\n",
       " ('The', 'identification'),\n",
       " ('Toolkit', 'Gensim'),\n",
       " ('accurately', 'requires'),\n",
       " ('achieve', 'fluency'),\n",
       " ('algorithms', 'Collocation'),\n",
       " ('approaches', 'statistical'),\n",
       " ('both', 'source'),\n",
       " ('broader', 'field'),\n",
       " ('chance', 'alone'),\n",
       " ('chi-squared', 'tests'),\n",
       " ('context', 'Several'),\n",
       " ('contextual', 'nuances')]"
      ]
     },
     "execution_count": 67,
     "metadata": {},
     "output_type": "execute_result"
    }
   ],
   "source": [
    "# Top 10 bigrams using Pointwise Mutual Information\n",
    "top_bigrams = finder.nbest(score_fn=bigram_measures.pmi, n=20)\n",
    "top_bigrams"
   ]
  },
  {
   "cell_type": "code",
   "execution_count": null,
   "id": "013fb291-2a42-492a-8dc0-701753a6981b",
   "metadata": {},
   "outputs": [],
   "source": []
  }
 ],
 "metadata": {
  "kernelspec": {
   "display_name": "Python 3 (ipykernel)",
   "language": "python",
   "name": "python3"
  },
  "language_info": {
   "codemirror_mode": {
    "name": "ipython",
    "version": 3
   },
   "file_extension": ".py",
   "mimetype": "text/x-python",
   "name": "python",
   "nbconvert_exporter": "python",
   "pygments_lexer": "ipython3",
   "version": "3.9.13"
  }
 },
 "nbformat": 4,
 "nbformat_minor": 5
}
