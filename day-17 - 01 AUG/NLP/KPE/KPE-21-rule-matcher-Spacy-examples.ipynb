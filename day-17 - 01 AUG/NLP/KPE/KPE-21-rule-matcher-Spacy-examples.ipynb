{
 "cells": [
  {
   "cell_type": "markdown",
   "metadata": {},
   "source": [
    "-------------------------\n",
    "#### Verb Phrase Detection\n",
    "- A `verb phrase` is a syntactic unit composed of at least one verb. \n",
    "- This verb can be followed by other chunks, such as noun phrases. \n",
    "- Verb phrases are useful for understanding the actions that nouns are involved in.\n",
    "-------------------------------"
   ]
  },
  {
   "cell_type": "markdown",
   "metadata": {},
   "source": [
    "#### Using textacy"
   ]
  },
  {
   "cell_type": "code",
   "execution_count": 3,
   "metadata": {},
   "outputs": [],
   "source": [
    "#!pip install textacy"
   ]
  },
  {
   "cell_type": "code",
   "execution_count": 2,
   "metadata": {},
   "outputs": [],
   "source": [
    "import textacy"
   ]
  },
  {
   "cell_type": "code",
   "execution_count": 86,
   "metadata": {},
   "outputs": [],
   "source": [
    "text = 'The author is writing a new book. I am going to market'"
   ]
  },
  {
   "cell_type": "code",
   "execution_count": 87,
   "metadata": {},
   "outputs": [],
   "source": [
    "#pattern = r'(<VERB>?<ADV>*<VERB>+)'\n",
    "#pattern = r'<VERB>?<ADV>*<VERB>+'\n",
    "#pattern = r'<VERB>*<ADV>*<PART>*<VERB>+<PART>*'\n",
    "\n",
    "pattern = [{'POS': 'VERB', 'OP': '?'},\n",
    "           {'POS': 'ADV',  'OP': '*'},\n",
    "           {'POS': 'VERB', 'OP': '+'}]"
   ]
  },
  {
   "cell_type": "code",
   "execution_count": 88,
   "metadata": {},
   "outputs": [],
   "source": [
    "text_doc = textacy.make_spacy_doc(text, lang='en_core_web_md')"
   ]
  },
  {
   "cell_type": "code",
   "execution_count": 89,
   "metadata": {},
   "outputs": [],
   "source": [
    "verb_lists = textacy.extract.matches.token_matches(text_doc, pattern)"
   ]
  },
  {
   "cell_type": "code",
   "execution_count": 90,
   "metadata": {},
   "outputs": [
    {
     "data": {
      "text/plain": [
       "[writing, going, market]"
      ]
     },
     "execution_count": 90,
     "metadata": {},
     "output_type": "execute_result"
    }
   ],
   "source": [
    "list(verb_lists)"
   ]
  },
  {
   "cell_type": "code",
   "execution_count": 92,
   "metadata": {},
   "outputs": [
    {
     "name": "stdout",
     "output_type": "stream",
     "text": [
      "The author\n",
      "a new book\n",
      "I\n"
     ]
    }
   ],
   "source": [
    "# Extract Noun Phrase to explain what nouns are involved\n",
    "for chunk in text_doc.noun_chunks:\n",
    "    print (chunk)"
   ]
  },
  {
   "cell_type": "markdown",
   "metadata": {},
   "source": [
    "#### using spacy"
   ]
  },
  {
   "cell_type": "code",
   "execution_count": 3,
   "metadata": {},
   "outputs": [],
   "source": [
    "import spacy   \n",
    "from spacy.matcher import Matcher"
   ]
  },
  {
   "cell_type": "code",
   "execution_count": 5,
   "metadata": {},
   "outputs": [],
   "source": [
    "nlp = spacy.load('en_core_web_sm')  # download model first"
   ]
  },
  {
   "cell_type": "code",
   "execution_count": 5,
   "metadata": {},
   "outputs": [],
   "source": [
    "sentence = 'The author was staring pensively as she wrote' "
   ]
  },
  {
   "cell_type": "markdown",
   "metadata": {},
   "source": [
    "|OP\t|DESCRIPTION |\n",
    "|---|------------|\n",
    "|!\t|Negate the pattern, by requiring it to match exactly 0 times.|\n",
    "|?\t|Make the pattern `optional`, by allowing it to match 0 or 1 times.\n",
    "|+\t|Require the pattern to match 1 or more times.|\n",
    "|*\t|Allow the pattern to match zero or more times.|"
   ]
  },
  {
   "cell_type": "code",
   "execution_count": 28,
   "metadata": {},
   "outputs": [],
   "source": [
    "verb_phrase_rules = {\n",
    "                    \"verb_phrases\": [\n",
    "                        {'POS': 'VERB', 'OP': '?'},\n",
    "                        {'POS': 'ADV',  'OP': '*'},\n",
    "                        {'OP': '*'},                 # additional wildcard - match any text in between\n",
    "                        {'POS': 'VERB', 'OP': '+'}\n",
    "                    ]\n",
    "\n",
    "}"
   ]
  },
  {
   "cell_type": "code",
   "execution_count": 29,
   "metadata": {},
   "outputs": [],
   "source": [
    "# instantiate a Matcher instance\n",
    "matcher = Matcher(nlp.vocab) "
   ]
  },
  {
   "cell_type": "code",
   "execution_count": 30,
   "metadata": {},
   "outputs": [],
   "source": [
    "for rule_name, rule_tags in verb_phrase_rules.items(): # register rules in matcher\n",
    "    matcher.add(rule_name, [rule_tags])"
   ]
  },
  {
   "cell_type": "code",
   "execution_count": 31,
   "metadata": {},
   "outputs": [],
   "source": [
    "# Process some text\n",
    "doc = nlp('The author was staring pensively as she wrote')"
   ]
  },
  {
   "cell_type": "code",
   "execution_count": 33,
   "metadata": {},
   "outputs": [],
   "source": [
    "# Call the matcher on the doc\n",
    "matches = matcher(doc)"
   ]
  },
  {
   "cell_type": "code",
   "execution_count": 34,
   "metadata": {},
   "outputs": [
    {
     "name": "stdout",
     "output_type": "stream",
     "text": [
      "The author was staring\n",
      "author was staring\n",
      "was staring\n",
      "staring\n",
      "The author was staring pensively as she wrote\n",
      "author was staring pensively as she wrote\n",
      "was staring pensively as she wrote\n",
      "staring pensively as she wrote\n",
      "pensively as she wrote\n",
      "as she wrote\n",
      "she wrote\n",
      "wrote\n"
     ]
    }
   ],
   "source": [
    "for match_id, start, end in matches:\n",
    "    print(doc[start:end])"
   ]
  },
  {
   "cell_type": "code",
   "execution_count": 27,
   "metadata": {},
   "outputs": [
    {
     "data": {
      "text/plain": [
       "[The author was staring,\n",
       " author was staring,\n",
       " was staring,\n",
       " staring,\n",
       " The author was staring pensively as she wrote,\n",
       " author was staring pensively as she wrote,\n",
       " was staring pensively as she wrote,\n",
       " staring pensively as she wrote,\n",
       " pensively as she wrote,\n",
       " as she wrote,\n",
       " she wrote,\n",
       " wrote]"
      ]
     },
     "execution_count": 27,
     "metadata": {},
     "output_type": "execute_result"
    }
   ],
   "source": [
    "spans = [doc[start:end] for _, start, end in matches] \n",
    "spans"
   ]
  },
  {
   "cell_type": "code",
   "execution_count": 35,
   "metadata": {},
   "outputs": [
    {
     "name": "stdout",
     "output_type": "stream",
     "text": [
      "staring\n",
      "wrote\n"
     ]
    }
   ],
   "source": [
    "verb_phrase_rules = {\n",
    "                    \"verb_phrases\": [\n",
    "                        {'POS': 'VERB', 'OP': '?'},\n",
    "                        {'POS': 'ADV',  'OP': '*'},\n",
    "                        {'POS': 'VERB', 'OP': '+'}\n",
    "                    ]\n",
    "\n",
    "}\n",
    "\n",
    "# instantiate a Matcher instance\n",
    "matcher = Matcher(nlp.vocab) \n",
    "\n",
    "for rule_name, rule_tags in verb_phrase_rules.items(): # register rules in matcher\n",
    "    matcher.add(rule_name, [rule_tags])\n",
    "\n",
    "# Process some text\n",
    "doc = nlp('The author was staring pensively as she wrote')\n",
    "\n",
    "# Call the matcher on the doc\n",
    "matches = matcher(doc)\n",
    "\n",
    "for match_id, start, end in matches:\n",
    "    print(doc[start:end])"
   ]
  },
  {
   "cell_type": "markdown",
   "metadata": {},
   "source": [
    "- find phrases starting with the word `Alice` followed by a `verb`."
   ]
  },
  {
   "cell_type": "code",
   "execution_count": 43,
   "metadata": {},
   "outputs": [],
   "source": [
    "location = r'S:\\AI-DATASETS\\alice.txt'"
   ]
  },
  {
   "cell_type": "code",
   "execution_count": 44,
   "metadata": {},
   "outputs": [],
   "source": [
    "#reading the data\n",
    "data = open(location, encoding = 'cp850').read()"
   ]
  },
  {
   "cell_type": "code",
   "execution_count": 57,
   "metadata": {},
   "outputs": [
    {
     "name": "stdout",
     "output_type": "stream",
     "text": [
      "Matches: ['Alice', 'Alice', 'Alice', 'Alice', 'Alice', 'Alice', 'Alice', 'Alice', 'Alice', 'Alice', 'Alice', 'Alice', 'Alice', 'Alice', 'Alice', 'Alice', 'Alice,', 'Alice', 'Alice', 'Alice,', 'Alice,)', 'Alice', 'Alice', 'Alice', 'Alice;', 'Alice', 'Alice', 'Alice!', 'Alice', 'Alice', 'Alice,', 'Alice', 'Alice,', 'Alice', 'Alice', 'Alice (', 'Alice', 'Alice,', 'Alice', 'Alice!', 'Alice', 'Alice,', 'Alice', 'Alice', 'Alice', 'Alice,', 'Alice', 'Alice,', 'Alice', 'Alice,', 'Alice', 'Alice', 'Alice,', 'Alice', 'Alice,', 'Alice', 'Alice', 'Alice;', 'Alice', 'Alice', 'Alice', 'Alice', 'Alice', 'Alice', 'Alice,', 'Alice', 'Alice', 'Alice', 'Alice', 'Alice', 'Alice', 'Alice', 'Alice', 'Alice', 'Alice', 'Alice;', 'Alice', 'Alice', 'Alice', 'Alice.', 'Alice', 'Alice', 'Alice', 'Alice,', 'Alice', 'Alice,', 'Alice', 'Alice,', 'Alice', 'Alice', 'Alice', 'Alice,', 'Alice', 'Alice.', 'Alice', 'Alice', 'Alice', 'Alice', 'Alice', 'Alice', 'Alice', 'Alice,', 'Alice', 'Alice', 'Alice', 'Alice!', 'Alice', 'Alice', 'Alice,', 'Alice', 'Alice,', 'Alice', 'Alice,', 'Alice', 'Alice', 'Alice', 'Alice,', 'Alice', 'Alice', 'Alice.', 'Alice', 'Alice', 'Alice,', 'Alice,)', 'Alice', 'Alice', 'Alice', 'Alice', 'Alice;', 'Alice', 'Alice', 'Alice', 'Alice', 'Alice,', 'Alice', 'Alice', 'Alice,', 'Alice', 'Alice', 'Alice,', 'Alice', 'Alice', 'Alice', 'Alice', 'Alice,', 'Alice', 'Alice', 'Alice;', 'Alice', 'Alice;', 'Alice', 'Alice', 'Alice', 'Alice', 'Alice,', 'Alice', 'Alice', 'Alice;', 'Alice', 'Alice', 'Alice', 'Alice,', 'Alice', 'Alice', 'Alice', 'Alice:', 'Alice', 'Alice', 'Alice', 'Alice', 'Alice', 'Alice', 'Alice.', 'Alice', 'Alice', 'Alice.', 'Alice', 'Alice', 'Alice,', 'Alice', 'Alice.', 'Alice', 'Alice,', 'Alice', 'Alice,', 'Alice', 'Alice,', 'Alice', 'Alice', 'Alice', 'Alice,', 'Alice', 'Alice', 'Alice', 'Alice', 'Alice,', 'Alice', 'Alice', 'Alice', 'Alice', 'Alice.', 'Alice', 'Alice', 'Alice', 'Alice,', 'Alice', 'Alice', 'Alice', 'Alice', 'Alice,', 'Alice', 'Alice,', 'Alice', 'Alice', 'Alice', 'Alice,', 'Alice', 'Alice', 'Alice.', 'Alice', 'Alice,', 'Alice', 'Alice;', 'Alice', 'Alice', 'Alice', 'Alice,', 'Alice', 'Alice', 'Alice.', 'Alice', 'Alice,', 'Alice', 'Alice.', 'Alice', 'Alice', 'Alice', 'Alice', 'Alice.', 'Alice', 'Alice', 'Alice.', 'Alice', 'Alice.', 'Alice', 'Alice,', 'Alice', 'Alice', 'Alice', 'Alice', 'Alice;', 'Alice', 'Alice;', 'Alice', 'Alice;', 'Alice', 'Alice', 'Alice', 'Alice', 'Alice', 'Alice;', 'Alice', 'Alice', 'Alice', 'Alice.', 'Alice', 'Alice.', 'Alice', 'Alice', 'Alice', 'Alice:', 'Alice', 'Alice', 'Alice', 'Alice', 'Alice', 'Alice', 'Alice', 'Alice', 'Alice.', 'Alice', 'Alice', 'Alice', 'Alice', 'Alice.', 'Alice', 'Alice.', 'Alice', 'Alice.', 'Alice', 'Alice', 'Alice,', 'Alice', 'Alice.', 'Alice', 'Alice,', 'Alice', 'Alice', 'Alice', 'Alice,', 'Alice', 'Alice', 'Alice.', 'Alice', 'Alice', 'Alice', 'Alice', 'Alice,', 'Alice', 'Alice', 'Alice', 'Alice', 'Alice', 'Alice,', 'Alice', 'Alice.', 'Alice', 'Alice', 'Alice,', 'Alice', 'Alice', 'Alice', 'Alice', 'Alice,', 'Alice', 'Alice,', 'Alice', 'Alice', 'Alice', 'Alice', 'Alice,', 'Alice', 'Alice,', 'Alice', 'Alice,', 'Alice', 'Alice', 'Alice,', 'Alice', 'Alice,', 'Alice', 'Alice', 'Alice,', 'Alice', 'Alice,', 'Alice', 'Alice.', 'Alice', 'Alice', 'Alice:', 'Alice', 'Alice.', 'Alice', 'Alice:', 'Alice', 'Alice', 'Alice', 'Alice', 'Alice', 'Alice', 'Alice', 'Alice', 'Alice', 'Alice:', 'Alice', 'Alice,', 'Alice', 'Alice:', 'Alice', 'Alice', 'Alice.', 'Alice', 'Alice', 'Alice', 'Alice', 'Alice,', 'Alice', 'Alice', 'Alice', 'Alice', 'Alice', 'Alice', 'Alice', 'Alice', 'Alice', 'Alice', 'Alice.', 'Alice', 'Alice', 'Alice,', 'Alice', 'Alice', 'Alice.', 'Alice', 'Alice.', 'Alice', 'Alice', 'Alice', 'Alice;', 'Alice', 'Alice', 'Alice,', 'Alice', 'Alice,', 'Alice', 'Alice.', 'Alice', 'Alice.', 'Alice', 'Alice', 'Alice', 'Alice', 'Alice.', 'Alice', 'Alice.', 'Alice', 'Alice,', 'Alice', 'Alice', 'Alice', 'Alice', 'Alice', 'Alice,', 'Alice', 'Alice.', 'Alice', 'Alice', 'Alice;', 'Alice', 'Alice,', 'Alice', 'Alice', 'Alice;', 'Alice', 'Alice.', 'Alice', 'Alice', 'Alice', 'Alice', 'Alice.', 'Alice', 'Alice,', 'Alice', 'Alice.', 'Alice', 'Alice,', 'Alice', 'Alice', 'Alice,', 'Alice', 'Alice', 'Alice.', 'Alice', 'Alice.', 'Alice', 'Alice', 'Alice.', 'Alice', 'Alice,', 'Alice', 'Alice,', 'Alice', 'Alice,', 'Alice', 'Alice', 'Alice,', 'Alice', 'Alice.', 'Alice', 'Alice', 'Alice', 'Alice', 'Alice,', 'Alice', 'Alice', 'Alice.', 'Alice', 'Alice', 'Alice', 'Alice.', 'Alice', 'Alice;', 'Alice', 'Alice', 'Alice', 'Alice', 'Alice', 'Alice', 'Alice', 'Alice', 'Alice', 'Alice', 'Alice,', 'Alice', 'Alice', 'Alice', 'Alice', 'Alice.', 'Alice', 'Alice', 'Alice', 'Alice', 'Alice', 'Alice.', 'Alice', 'Alice.', 'Alice', 'Alice', 'Alice', 'Alice,', 'Alice', 'Alice', 'Alice', 'Alice.', 'Alice', 'Alice.', 'Alice', 'Alice.', 'Alice', 'Alice', 'Alice.', 'Alice', 'Alice.', 'Alice', 'Alice:', 'Alice', 'Alice.', 'Alice', 'Alice.', 'Alice', 'Alice,', 'Alice, (', 'Alice', 'Alice.', 'Alice', 'Alice', 'Alice.', 'Alice', 'Alice,', 'Alice, (', 'Alice', 'Alice', 'Alice,', 'Alice', 'Alice', 'Alice']\n"
     ]
    }
   ],
   "source": [
    "phrase_rules = {\n",
    "                    \"phrases\": [\n",
    "                        {\"TEXT\": \"Alice\"},\n",
    "                        {\"IS_PUNCT\": True, \"OP\": \"*\"}\n",
    "                    ]\n",
    "\n",
    "}\n",
    "\n",
    "# instantiate a Matcher instance\n",
    "matcher = Matcher(nlp.vocab) \n",
    "\n",
    "# Add the pattern to the matcher\n",
    "for rule_name, rule_tags in phrase_rules.items(): # register rules in matcher\n",
    "    matcher.add(rule_name, [rule_tags])\n",
    "\n",
    "doc = nlp(data)\n",
    "\n",
    "# Use the matcher on the doc\n",
    "matches = matcher(doc)\n",
    "print(\"Matches:\", [doc[start:end].text for match_id, start, end in matches])"
   ]
  },
  {
   "cell_type": "markdown",
   "metadata": {},
   "source": [
    "- Example: Match all words starting with `a` followed by parts of speech that start with `V` (VERB etc)"
   ]
  },
  {
   "cell_type": "code",
   "execution_count": 58,
   "metadata": {},
   "outputs": [
    {
     "name": "stdout",
     "output_type": "stream",
     "text": [
      "Matches: ['are located', 'all seemed', 'and looked', 'and burning', 'about stopping', 'and make', 'and noticed', 'all think', 'and went', 'and saying', 'away went', 'all round', 'all locked', 'all made', 'and found', 'and looked', 'and wander', 'and round', 'and finding', 'and cried', 'and found', 'and said', 'and hurried', 'and began', 'all round', 'and reaching', 'and skurried', 'almost think', 'and say', 'and began', 'and live', 'and have', 'and saying', 'and say', 'and went', 'and found', 'avoid shrinking', 'and seemed', 'and seemed', 'a soothing', 'and washing', 'and beg', 'and making', 'and swam', 'and listen', 'all sat', 'anxiously fixed', 'and offer', 'and left', 'and asking', 'and pulled', 'and handed', 'all crowded', 'all looked', 'and took', 'and had', 'and condemn', 'attending!ÔÇØ said', 'and looking', 'and finish', 'all joined', 'and walked', 'as look', 'all moved', 'again heard', 'and looking', 'and fetch', 'and hurried', 'and get', 'and put', 'and had', 'and growing', 'arm curled', 'and said', 'always growing', 'almost wish', 'and stopped', 'and had', 'and tried', 'attempt proved', 'and get', 'after waiting', 'and made', 'and take', 'and made', 'and waited', 'and scrambling', 'and waited', 'about it!ÔÇØ', 'and shouted', 'all turning', 'and found', 'all made', 'a coaxing', 'and rushed', 'and made', 'and tumbled', 'and expecting', 'and barking', 'and ran', 'and fanned', 'and see', 'and peeped', 'arms folded', 'and taking', 'and said', 'and came', 'all?ÔÇØ said', 'and said', 'and began', 'and began', 'and shook', 'and crawled', 'arms round', 'and broke', 'and nibbled', 'and managed', 'again!ÔÇØ repeated', 'and added', 'and untwist', 'and growing', 'and began', 'and wondering', 'and crept', 'and knocked', 'and sneezing', 'and broke', 'all?ÔÇØ said', 'and began', 'and went', 'and howling', 'and grinning', 'and went', 'always grinned', 'and thought', 'and seemed', 'and giving', 'and get', 'a frying', 'and held', 'and kept', 'and straightening', 'and left', 'and looked', 'and felt', 'all know', 'and wags', 'and wag', 'and vanished', 'and vanished', 'and vanishing', 'and ending', 'and raised', 'almost wish', 'and talking', 'all crowded', 'all round', 'and holding', 'added looking', 'and looked', 'and looked', 'and said', 'about wasting', 'and began', 'and went', 'and bawled', 'are put', 'and weÔÇÖve', 'always took', 'after thinking', 'again took', 'all move', 'and rubbing', 'and went', 'and walked', 'again!ÔÇØ said', 'and began', 'and unlocking', 'and said', 'all have', 'anxiously looking', 'all shaped', 'and walked', 'and went', 'and waited', 'all stopped', 'and looked', 'and smiled', 'after glaring', 'and said', 'and began', 'are gone', 'and looked', 'and whispered', 'and furrows', 'and look', 'always getting', 'and walking', 'all played', 'and fighting', 'and went', 'and wondering', 'and began', 'all quarrel', 'and passed', 'and see', 'already heard', 'and brought', 'are gone', 'and went', 'all talking', 'and looked', 'all spoke', 'and thought', 'always pepper', 'arm round', 'and mustard', 'arms folded', 'and shouting', 'arches left', 'and said', 'all pardoned', 'and see', 'and rubbed', 'and said', 'and looked', 'and Writhing', 'and said', 'and drew', 'and tried', 'and punching', 'and retire', 'again!ÔÇØ yelled', 'and looked', 'and waving', 'are waiting', 'and join', 'and throw', 'and gave', 'and join', 'all wash', 'and shut', 'and shoes_,ÔÇØ', 'and considered', 'and told', 'and opened', 'all coming', 'and said', 'all came', 'and repeat', 'and repeat', 'and make', 'and began', 'and turns', 'as follows', 'and longed', 'all come', 'and marked', 'as follows', 'all finished', 'and fork', 'and began', 'again!ÔÇØ cried', 'and ran', 'age knew', 'all writing', 'and looked', 'and got', 'after hunting', 'accusation!ÔÇØ said', 'and read', 'as follows', 'and called', 'and began', 'and fidgeted', 'and leave', 'and crossed', 'and went', 'after folding', 'and frowning', 'accidentally upset', 'and put', 'and saw', 'and put', 'and handed', 'and making', 'and went', 'and read', 'and shut', 'and added', 'all looked', 'all brightened', 'all returned', 'all wrote', 'and looking', 'all returned', 'are!ÔÇØ said', 'and found', 'and said', 'and ran', 'and thinking', 'always get', 'and make', 'and find', 'all associated', 'and distribute', 'and distributing', 'a registered', 'and printed', 'and given', 'and accept', 'and return', 'as set', 'a registered', 'and help', 'are located', 'are removed', 'are located', 'also govern', 'are located', 'and distributed', 'as set', 'and distribute', 'as specified', 'already use', 'and sent', 'address specified', 'and discontinue', 'and reported', 'are set', 'as set', 'and hold', 'and ensuring', 'and granted', 'and keep', 'against accepting', 'alone swamp', 'are accepted', 'are confirmed']\n"
     ]
    }
   ],
   "source": [
    "phrase_rules = {\n",
    "                    \"phrases\": [\n",
    "                        {\"TEXT\": {\"REGEX\": \"^a\"}}, # case-sensitive, text\n",
    "                        {\"POS\":  \"VERB\"}\n",
    "                    ]\n",
    "\n",
    "}\n",
    "\n",
    "# instantiate a Matcher instance\n",
    "matcher = Matcher(nlp.vocab) \n",
    "\n",
    "# Add the pattern to the matcher\n",
    "for rule_name, rule_tags in phrase_rules.items(): # register rules in matcher\n",
    "    matcher.add(rule_name, [rule_tags])\n",
    "\n",
    "doc = nlp(data)\n",
    "\n",
    "# Use the matcher on the doc\n",
    "matches = matcher(doc)\n",
    "print(\"Matches:\", [doc[start:end].text for match_id, start, end in matches])"
   ]
  },
  {
   "cell_type": "markdown",
   "metadata": {},
   "source": [
    "- Here's an example of a more complex pattern using lexical attributes.\n",
    "- We're looking for five tokens:\n",
    "    - A token consisting of only digits.\n",
    "    - Three case-insensitive tokens for \"fifa\", \"world\" and \"cup\".\n",
    "    - And a token that consists of punctuation."
   ]
  },
  {
   "cell_type": "code",
   "execution_count": 59,
   "metadata": {},
   "outputs": [
    {
     "name": "stdout",
     "output_type": "stream",
     "text": [
      "Matches: ['2022 FIFA world cup!']\n"
     ]
    }
   ],
   "source": [
    "phrase_rules = {\n",
    "                    \"phrase\": [\n",
    "                         {\"IS_DIGIT\": True},\n",
    "                         {\"LOWER\": \"fifa\"},\n",
    "                         {\"LOWER\": \"world\"},\n",
    "                         {\"LOWER\": \"cup\"},\n",
    "                         {\"IS_PUNCT\": True}\n",
    "                    ]\n",
    "}\n",
    "\n",
    "# instantiate a Matcher instance\n",
    "matcher = Matcher(nlp.vocab) \n",
    "\n",
    "# Add the pattern to the matcher\n",
    "for rule_name, rule_tags in phrase_rules.items(): # register rules in matcher\n",
    "    matcher.add(rule_name, [rule_tags])\n",
    "\n",
    "doc = nlp('2022 FIFA world cup! was won by France')\n",
    "\n",
    "# Use the matcher on the doc\n",
    "matches = matcher(doc)\n",
    "print(\"Matches:\", [doc[start:end].text for match_id, start, end in matches])"
   ]
  },
  {
   "cell_type": "markdown",
   "metadata": {},
   "source": [
    "Use of LEMMA\n",
    "\n",
    "In this example, we're looking for two tokens:\n",
    "\n",
    "A verb with the lemma \"love\", followed by a noun.\n",
    "\n",
    "This pattern will match \"loved dogs\" and \"love cats\"."
   ]
  },
  {
   "cell_type": "code",
   "execution_count": 60,
   "metadata": {},
   "outputs": [
    {
     "name": "stdout",
     "output_type": "stream",
     "text": [
      "Matches: ['loved dogs', 'love cats', 'loving cows']\n"
     ]
    }
   ],
   "source": [
    "phrase_rules = {\n",
    "                    \"phrase\": [\n",
    "                         {\"LEMMA\": \"love\", \"POS\": \"VERB\"},\n",
    "                         {\"POS\": \"NOUN\"}\n",
    "                    ]\n",
    "\n",
    "}\n",
    "\n",
    "# instantiate a Matcher instance\n",
    "matcher = Matcher(nlp.vocab) \n",
    "\n",
    "# Add the pattern to the matcher\n",
    "for rule_name, rule_tags in verb_phrase_rules.items(): # register rules in matcher\n",
    "    matcher.add(rule_name, [rule_tags])\n",
    "\n",
    "doc = nlp('I loved dogs, would love cats the loving cows')\n",
    "\n",
    "# Use the matcher on the doc\n",
    "matches = matcher(doc)\n",
    "print(\"Matches:\", [doc[start:end].text for match_id, start, end in matches])"
   ]
  },
  {
   "cell_type": "markdown",
   "metadata": {},
   "source": [
    "- Example - \n",
    "    - match with LEMMA = 'buy'\n",
    "    - followed by 0 or 1 DET\n",
    "    - followed by a NOUN"
   ]
  },
  {
   "cell_type": "code",
   "execution_count": 68,
   "metadata": {},
   "outputs": [
    {
     "name": "stdout",
     "output_type": "stream",
     "text": [
      "Matches: ['bought a smartphone', 'buying apps', 'bought an elephant']\n"
     ]
    }
   ],
   "source": [
    "phrase_rules = {\n",
    "                    \"phrase\": [\n",
    "                         {\"LEMMA\": \"buy\", \"POS\": \"VERB\"},\n",
    "                         {\"POS\": \"DET\",   \"OP\": \"?\"},  # optional: match 0 or 1 times\n",
    "                         {\"POS\": \"NOUN\"}\n",
    "                    ]\n",
    "\n",
    "}\n",
    "\n",
    "# instantiate a Matcher instance\n",
    "matcher = Matcher(nlp.vocab) \n",
    "\n",
    "# Add the pattern to the matcher\n",
    "for rule_name, rule_tags in phrase_rules.items(): # register rules in matcher\n",
    "    matcher.add(rule_name, [rule_tags])\n",
    "\n",
    "doc = nlp(\"I bought a smartphone. Now I'm buying apps. bought an elephant\")\n",
    "\n",
    "# Use the matcher on the doc\n",
    "matches = matcher(doc)\n",
    "print(\"Matches:\", [doc[start:end].text for match_id, start, end in matches])"
   ]
  },
  {
   "cell_type": "markdown",
   "metadata": {},
   "source": [
    "- Write one pattern that only matches mentions of full iOS versions: \"iOS 7\", \"iOS 11\" and \"iOS 10\"."
   ]
  },
  {
   "cell_type": "code",
   "execution_count": 6,
   "metadata": {},
   "outputs": [
    {
     "name": "stdout",
     "output_type": "stream",
     "text": [
      "Matches: ['iOS 7', 'iOS 11', 'iOS 10']\n"
     ]
    }
   ],
   "source": [
    "phrase_rules = {\n",
    "                    \"phrase\": [\n",
    "                         {\"LOWER\": 'ios'}, \n",
    "                         {\"IS_DIGIT\": True}\n",
    "                    ]\n",
    "}\n",
    "\n",
    "# instantiate a Matcher instance\n",
    "matcher = Matcher(nlp.vocab) \n",
    "\n",
    "# Add the pattern to the matcher\n",
    "for rule_name, rule_tags in phrase_rules.items(): # register rules in matcher\n",
    "    matcher.add(rule_name, [rule_tags])\n",
    "\n",
    "doc = nlp(\"After making the iOS update you won't notice a radical system-wide \"\n",
    "    \"redesign: nothing like the aesthetic upheaval we got with iOS 7. Most of \"\n",
    "    \"iOS 11's furniture remains the same as in iOS 10. But you will discover \"\n",
    "    \"some tweaks once you delve a little deeper ios6.\")\n",
    "\n",
    "# Use the matcher on the doc\n",
    "matches = matcher(doc)\n",
    "print(\"Matches:\", [doc[start:end].text for match_id, start, end in matches])"
   ]
  },
  {
   "cell_type": "markdown",
   "metadata": {},
   "source": [
    "#### Reuseability\n",
    "\n",
    "- use of `IN` attribute when creating a pattern"
   ]
  },
  {
   "cell_type": "code",
   "execution_count": 9,
   "metadata": {},
   "outputs": [
    {
     "name": "stdout",
     "output_type": "stream",
     "text": [
      "Matches: ['loves pizza', 'eat pizza']\n"
     ]
    }
   ],
   "source": [
    "phrase_rules = {\n",
    "                    \"phrase\": [\n",
    "                         {'TEXT': {'IN': ['loves', 'love', 'digs', 'devours', 'eat']}}, \n",
    "                         {'TEXT': 'pizza'}\n",
    "                    ]\n",
    "}\n",
    "\n",
    "# instantiate a Matcher instance\n",
    "matcher = Matcher(nlp.vocab) \n",
    "\n",
    "# Add the pattern to the matcher\n",
    "for rule_name, rule_tags in phrase_rules.items(): # register rules in matcher\n",
    "    matcher.add(rule_name, [rule_tags])\n",
    "\n",
    "doc = nlp(\"The world is a great place because pizza. \\\n",
    "           think everyone loves pizza, except people who don\\'t \\\n",
    "            I eat pizza\")\n",
    "\n",
    "# Use the matcher on the doc\n",
    "matches = matcher(doc)\n",
    "print(\"Matches:\", [doc[start:end].text for match_id, start, end in matches])"
   ]
  },
  {
   "cell_type": "markdown",
   "metadata": {},
   "source": [
    "- variations on the word"
   ]
  },
  {
   "cell_type": "code",
   "execution_count": 10,
   "metadata": {},
   "outputs": [],
   "source": [
    "order_prefixes = ['buy', 'get', 'order', 'orders', 'ordering', 'procure', 'procuring', 'purchase', \n",
    "'purchases']"
   ]
  },
  {
   "cell_type": "code",
   "execution_count": 13,
   "metadata": {},
   "outputs": [
    {
     "name": "stdout",
     "output_type": "stream",
     "text": [
      "Matches: ['ordering from Amazon', 'procuring from Amazon']\n"
     ]
    }
   ],
   "source": [
    "phrase_rules = {\n",
    "                    \"phrase\": [\n",
    "                         {'TEXT': {'IN': order_prefixes}}, \n",
    "                         {'TEXT': 'from'}, \n",
    "                         {'TEXT': 'Amazon'}\n",
    "                    ]\n",
    "}\n",
    "\n",
    "# instantiate a Matcher instance\n",
    "matcher = Matcher(nlp.vocab) \n",
    "\n",
    "# Add the pattern to the matcher\n",
    "for rule_name, rule_tags in phrase_rules.items(): # register rules in matcher\n",
    "    matcher.add(rule_name, [rule_tags])\n",
    "\n",
    "doc = nlp(\"I love ordering from Amazon. It\\'s like procuring from Amazon is a part of me.\")\n",
    "\n",
    "# Use the matcher on the doc\n",
    "matches = matcher(doc)\n",
    "print(\"Matches:\", [doc[start:end].text for match_id, start, end in matches])"
   ]
  },
  {
   "cell_type": "code",
   "execution_count": 27,
   "metadata": {},
   "outputs": [],
   "source": [
    "countries = [nlp.make_doc(text) for text in ['Canada', 'United States', 'Mexico']]\n",
    "days =      [nlp.make_doc(text) for text in ['Monday', 'Tuesday', 'Wednesday', 'Thursday',\n",
    "                                             'Friday', 'Saturday', 'Sunday']]\n",
    "\n",
    "countries = ['Canada', 'United States', 'Mexico']\n",
    "days      = ['Monday', 'Tuesday', 'Wednesday', 'Thursday',\n",
    "                                             'Friday', 'Saturday', 'Sunday']"
   ]
  },
  {
   "cell_type": "code",
   "execution_count": 28,
   "metadata": {},
   "outputs": [
    {
     "name": "stdout",
     "output_type": "stream",
     "text": [
      "Matches: ['Monday', 'Canada']\n"
     ]
    }
   ],
   "source": [
    "# instantiate a Matcher instance\n",
    "matcher = Matcher(nlp.vocab) \n",
    "\n",
    "phrase_rules = {\n",
    "                    \"countries_list\": [\n",
    "                         {'TEXT': {'IN': countries}}, \n",
    "                    ],\n",
    "                    \"days_list\": [\n",
    "                         {'TEXT': {'IN': days}}, \n",
    "                    ],\n",
    "\n",
    "}\n",
    "\n",
    "# Add the pattern to the matcher\n",
    "for rule_name, rule_tags in phrase_rules.items(): # register rules in matcher\n",
    "    matcher.add(rule_name, [rule_tags])\n",
    "\n",
    "text = 'On Monday I travelled to Canada.'\n",
    "doc = nlp(text)\n",
    "matches = matcher(doc)\n",
    "print(\"Matches:\", [doc[start:end].text for match_id, start, end in matches])"
   ]
  },
  {
   "cell_type": "code",
   "execution_count": 31,
   "metadata": {},
   "outputs": [],
   "source": [
    "from IPython.display import Image"
   ]
  },
  {
   "cell_type": "code",
   "execution_count": 36,
   "metadata": {},
   "outputs": [
    {
     "data": {
      "image/png": "[encoded data removed]",
      "text/plain": [
       "<IPython.core.display.Image object>"
      ]
     },
     "execution_count": 36,
     "metadata": {
      "image/png": {
       "width": 600
      }
     },
     "output_type": "execute_result"
    }
   ],
   "source": [
    "Image(r'S:\\AI-icons-images\\parsing-phrases-01.png', width=600)"
   ]
  },
  {
   "cell_type": "markdown",
   "metadata": {},
   "source": [
    "`Phrase structure grammar`"
   ]
  },
  {
   "cell_type": "code",
   "execution_count": 35,
   "metadata": {},
   "outputs": [
    {
     "data": {
      "image/png": "[encoded data removed]",
      "text/plain": [
       "<IPython.core.display.Image object>"
      ]
     },
     "execution_count": 35,
     "metadata": {
      "image/png": {
       "width": 300
      }
     },
     "output_type": "execute_result"
    }
   ],
   "source": [
    "Image(r'S:\\AI-icons-images\\parsing-phrases-00.png', width=300)"
   ]
  },
  {
   "cell_type": "markdown",
   "metadata": {},
   "source": [
    "`Extract Noun phrases`"
   ]
  },
  {
   "cell_type": "code",
   "execution_count": 39,
   "metadata": {},
   "outputs": [
    {
     "name": "stdout",
     "output_type": "stream",
     "text": [
      "Matches: ['A friendly cop', 'friendly cop', 'cop', 'the kids', 'the kids across', 'kids', 'kids across', 'the town', 'town']\n"
     ]
    }
   ],
   "source": [
    "phrase_rules = {\n",
    "                    \"noun_phrase\": [\n",
    "                         {'POS': 'DET'   , 'OP': '?'}, \n",
    "                         {'POS': 'ADJ'   , 'OP': '?'}, \n",
    "                         {'POS': 'NOUN'}, \n",
    "                         {'POS': 'ADP'   , 'OP': '?'}\n",
    "                    ]\n",
    "}\n",
    "\n",
    "# instantiate a Matcher instance\n",
    "matcher = Matcher(nlp.vocab) \n",
    "\n",
    "# Add the pattern to the matcher\n",
    "for rule_name, rule_tags in phrase_rules.items(): # register rules in matcher\n",
    "    matcher.add(rule_name, [rule_tags])\n",
    "\n",
    "doc = nlp(\"A friendly cop drove the kids across the town\")\n",
    "\n",
    "# Use the matcher on the doc\n",
    "matches = matcher(doc)\n",
    "print(\"Matches:\", [doc[start:end].text for match_id, start, end in matches])"
   ]
  },
  {
   "cell_type": "code",
   "execution_count": null,
   "metadata": {},
   "outputs": [],
   "source": []
  }
 ],
 "metadata": {
  "kernelspec": {
   "display_name": "Python 3 (ipykernel)",
   "language": "python",
   "name": "python3"
  },
  "language_info": {
   "codemirror_mode": {
    "name": "ipython",
    "version": 3
   },
   "file_extension": ".py",
   "mimetype": "text/x-python",
   "name": "python",
   "nbconvert_exporter": "python",
   "pygments_lexer": "ipython3",
   "version": "3.9.12"
  },
  "vscode": {
   "interpreter": {
    "hash": "e4cce46d6be9934fbd27f9ca0432556941ea5bdf741d4f4d64c6cd7f8dfa8fba"
   }
  }
 },
 "nbformat": 4,
 "nbformat_minor": 4
}
