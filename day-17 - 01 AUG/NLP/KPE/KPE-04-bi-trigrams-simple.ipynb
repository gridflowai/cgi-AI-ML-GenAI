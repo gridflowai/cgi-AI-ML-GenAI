{
 "cells": [
  {
   "cell_type": "markdown",
   "id": "c4c45950-c35c-4008-98e4-e8f5bc27af6c",
   "metadata": {},
   "source": [
    "--------------------------\n",
    "#### Bigrams and trigrams \n",
    "- are fundamental concepts in natural language processing. \n",
    "- A bigram is a sequence of two adjacent elements (words, letters, or symbols) from a string of tokens, while a trigram is a sequence of three. \n",
    "- These sequences are often used in NLP tasks like text generation, spell check, and others.\n",
    "-------------------"
   ]
  },
  {
   "cell_type": "code",
   "execution_count": 1,
   "id": "0086f34d-9e2f-4aff-add2-c6f58009c2cd",
   "metadata": {
    "tags": []
   },
   "outputs": [],
   "source": [
    "import nltk\n",
    "from nltk import bigrams\n",
    "from nltk.corpus import brown"
   ]
  },
  {
   "cell_type": "code",
   "execution_count": 2,
   "id": "f57a9d79-f8e5-4272-818a-37a6f1496652",
   "metadata": {
    "tags": []
   },
   "outputs": [
    {
     "name": "stderr",
     "output_type": "stream",
     "text": [
      "[nltk_data] Downloading package brown to\n",
      "[nltk_data]     C:\\Users\\bhupe\\AppData\\Roaming\\nltk_data...\n",
      "[nltk_data]   Package brown is already up-to-date!\n"
     ]
    },
    {
     "data": {
      "text/plain": [
       "True"
      ]
     },
     "execution_count": 2,
     "metadata": {},
     "output_type": "execute_result"
    }
   ],
   "source": [
    "nltk.download('brown')"
   ]
  },
  {
   "cell_type": "code",
   "execution_count": 3,
   "id": "89d0dfcc-ed49-451e-9cf3-6f5be1929f3b",
   "metadata": {
    "tags": []
   },
   "outputs": [
    {
     "data": {
      "text/plain": [
       "[('The', 'Fulton'),\n",
       " ('Fulton', 'County'),\n",
       " ('County', 'Grand'),\n",
       " ('Grand', 'Jury'),\n",
       " ('Jury', 'said'),\n",
       " ('said', 'Friday'),\n",
       " ('Friday', 'an'),\n",
       " ('an', 'investigation'),\n",
       " ('investigation', 'of'),\n",
       " ('of', \"Atlanta's\"),\n",
       " (\"Atlanta's\", 'recent'),\n",
       " ('recent', 'primary'),\n",
       " ('primary', 'election'),\n",
       " ('election', 'produced'),\n",
       " ('produced', '``'),\n",
       " ('``', 'no'),\n",
       " ('no', 'evidence'),\n",
       " ('evidence', \"''\"),\n",
       " (\"''\", 'that')]"
      ]
     },
     "execution_count": 3,
     "metadata": {},
     "output_type": "execute_result"
    }
   ],
   "source": [
    "# bigrams\n",
    "text = brown.words(categories='news')[:20]  # first 100 words\n",
    "list(bigrams(text))"
   ]
  },
  {
   "cell_type": "code",
   "execution_count": 4,
   "id": "fe62e290-e03f-4fc9-b145-e33dd20d9d6c",
   "metadata": {
    "tags": []
   },
   "outputs": [],
   "source": [
    "from nltk import trigrams"
   ]
  },
  {
   "cell_type": "code",
   "execution_count": 5,
   "id": "a5595637-44a7-4c77-ab11-da286168422d",
   "metadata": {
    "tags": []
   },
   "outputs": [
    {
     "data": {
      "text/plain": [
       "[('The', 'Fulton', 'County'),\n",
       " ('Fulton', 'County', 'Grand'),\n",
       " ('County', 'Grand', 'Jury'),\n",
       " ('Grand', 'Jury', 'said'),\n",
       " ('Jury', 'said', 'Friday'),\n",
       " ('said', 'Friday', 'an'),\n",
       " ('Friday', 'an', 'investigation'),\n",
       " ('an', 'investigation', 'of'),\n",
       " ('investigation', 'of', \"Atlanta's\"),\n",
       " ('of', \"Atlanta's\", 'recent'),\n",
       " (\"Atlanta's\", 'recent', 'primary'),\n",
       " ('recent', 'primary', 'election'),\n",
       " ('primary', 'election', 'produced'),\n",
       " ('election', 'produced', '``'),\n",
       " ('produced', '``', 'no'),\n",
       " ('``', 'no', 'evidence'),\n",
       " ('no', 'evidence', \"''\"),\n",
       " ('evidence', \"''\", 'that')]"
      ]
     },
     "execution_count": 5,
     "metadata": {},
     "output_type": "execute_result"
    }
   ],
   "source": [
    "list(trigrams(text))"
   ]
  },
  {
   "cell_type": "markdown",
   "id": "3f79aa8c-9115-465d-aac5-01de421b18bd",
   "metadata": {},
   "source": [
    "#### Frequency Distribution of Bigrams:"
   ]
  },
  {
   "cell_type": "code",
   "execution_count": 6,
   "id": "20357dfb-cf56-43d3-826c-613a4ad1ac9d",
   "metadata": {
    "tags": []
   },
   "outputs": [],
   "source": [
    "from nltk.probability import FreqDist"
   ]
  },
  {
   "cell_type": "code",
   "execution_count": 7,
   "id": "9012c6d7-b3ca-41d4-b46a-d2de4559f5d0",
   "metadata": {
    "tags": []
   },
   "outputs": [],
   "source": [
    "text = brown.words(categories='news')"
   ]
  },
  {
   "cell_type": "code",
   "execution_count": 8,
   "id": "80756ef2-91c3-43c0-89ee-b1681d6aaf60",
   "metadata": {
    "tags": []
   },
   "outputs": [
    {
     "data": {
      "text/plain": [
       "[(('of', 'the'), 844),\n",
       " (('.', 'The'), 659),\n",
       " (('in', 'the'), 549),\n",
       " ((',', 'and'), 373),\n",
       " ((',', 'the'), 364),\n",
       " ((\"''\", '.'), 293),\n",
       " (('to', 'the'), 273),\n",
       " (('on', 'the'), 239),\n",
       " (('.', '``'), 237),\n",
       " (('for', 'the'), 217),\n",
       " ((\"''\", ','), 198),\n",
       " (('at', 'the'), 179),\n",
       " (('.', 'He'), 173),\n",
       " (('will', 'be'), 157),\n",
       " ((';', ';'), 157)]"
      ]
     },
     "execution_count": 8,
     "metadata": {},
     "output_type": "execute_result"
    }
   ],
   "source": [
    "bigram_freq = FreqDist(bigrams(text))\n",
    "bigram_freq.most_common(15)  # top 15 bigrams"
   ]
  },
  {
   "cell_type": "code",
   "execution_count": null,
   "id": "d954caeb-8f14-4405-9a28-2be58b0f4849",
   "metadata": {},
   "outputs": [],
   "source": []
  }
 ],
 "metadata": {
  "kernelspec": {
   "display_name": "Python 3 (ipykernel)",
   "language": "python",
   "name": "python3"
  },
  "language_info": {
   "codemirror_mode": {
    "name": "ipython",
    "version": 3
   },
   "file_extension": ".py",
   "mimetype": "text/x-python",
   "name": "python",
   "nbconvert_exporter": "python",
   "pygments_lexer": "ipython3",
   "version": "3.9.13"
  }
 },
 "nbformat": 4,
 "nbformat_minor": 5
}
