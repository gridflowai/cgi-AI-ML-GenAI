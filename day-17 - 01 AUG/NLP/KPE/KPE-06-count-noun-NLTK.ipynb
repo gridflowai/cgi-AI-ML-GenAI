{
 "cells": [
  {
   "cell_type": "markdown",
   "id": "b55764b5-f506-44cb-afe9-2574852ee084",
   "metadata": {},
   "source": [
    "-----------------\n",
    "#### counting nouns - plural and singular nouns\n",
    "--------------------"
   ]
  },
  {
   "cell_type": "code",
   "execution_count": 1,
   "id": "425d5bf4-7b7f-4167-9925-45b85cd9d2ce",
   "metadata": {},
   "outputs": [
    {
     "name": "stdout",
     "output_type": "stream",
     "text": [
      "Collecting prettytable\n",
      "  Downloading prettytable-3.10.0-py3-none-any.whl (28 kB)\n",
      "Requirement already satisfied: wcwidth in d:\\anaconda-16-feb\\lib\\site-packages (from prettytable) (0.2.5)\n",
      "Installing collected packages: prettytable\n",
      "Successfully installed prettytable-3.10.0\n"
     ]
    }
   ],
   "source": [
    "!pip install prettytable"
   ]
  },
  {
   "cell_type": "code",
   "execution_count": 2,
   "id": "3a187635-b459-4e25-a4b9-8559fecd4379",
   "metadata": {},
   "outputs": [],
   "source": [
    "import spacy\n",
    "from prettytable import PrettyTable\n",
    "import nltk"
   ]
  },
  {
   "cell_type": "code",
   "execution_count": 4,
   "id": "3ed21418-4276-43aa-b37d-36da25e9cf28",
   "metadata": {},
   "outputs": [],
   "source": [
    "nlp = spacy.load('en_core_web_sm')"
   ]
  },
  {
   "cell_type": "code",
   "execution_count": 5,
   "id": "6d0fecf7-4a93-4ae8-8bda-30fb548912dc",
   "metadata": {},
   "outputs": [],
   "source": [
    "location = r'D:\\AI-DATASETS\\01-MISC\\Sherlock-Holmes.txt'"
   ]
  },
  {
   "cell_type": "code",
   "execution_count": 6,
   "id": "30242e81-cb36-43ea-be9c-c7196059512f",
   "metadata": {},
   "outputs": [],
   "source": [
    "file = open(location, \"r\", encoding=\"utf-8\")\n",
    "\n",
    "text = file.read()"
   ]
  },
  {
   "cell_type": "code",
   "execution_count": 7,
   "id": "6522a1bf-4ceb-41ff-89e0-90382ffbf7b2",
   "metadata": {},
   "outputs": [
    {
     "data": {
      "text/plain": [
       "\"ADVENTURE I. A SCANDAL IN BOHEMIA\\n\\nI.\\n\\nTo Sherlock Holmes she is always THE woman. I have seldom heard\\nhim mention her under any other name. In his eyes she eclipses\\nand predominates the whole of her sex. It was not that he felt\\nany emotion akin to love for Irene Adler. All emotions, and that\\none particularly, were abhorrent to his cold, precise but\\nadmirably balanced mind. He was, I take it, the most perfect\\nreasoning and observing machine that the world has seen, but as a\\nlover he would have placed himself in a false position. He never\\nspoke of the softer passions, save with a gibe and a sneer. They\\nwere admirable things for the observer--excellent for drawing the\\nveil from men's motives and actions. But for the trained reasoner\\nto admit such intrusions into his own delicate and finely\\nadjusted temperament was to introduce a distracting factor which\\nmight throw a doubt upon all his mental results. Grit in a\\nsensitive instrument, or a crack in one of his own high-power\\nlenses, would n\""
      ]
     },
     "execution_count": 7,
     "metadata": {},
     "output_type": "execute_result"
    }
   ],
   "source": [
    "text[:1000]"
   ]
  },
  {
   "cell_type": "markdown",
   "id": "260f78b7-92d7-4b00-8afd-070e94dca02d",
   "metadata": {},
   "source": [
    "Remove newlines for better readability"
   ]
  },
  {
   "cell_type": "code",
   "execution_count": 8,
   "id": "70677dbf-d8f4-4e89-9026-2f0e41102d32",
   "metadata": {},
   "outputs": [],
   "source": [
    "text = text.replace(\"\\n\", \" \")"
   ]
  },
  {
   "cell_type": "code",
   "execution_count": 9,
   "id": "88aac952-6795-4a31-91de-7133cc47ad97",
   "metadata": {},
   "outputs": [
    {
     "data": {
      "text/plain": [
       "\"ADVENTURE I. A SCANDAL IN BOHEMIA  I.  To Sherlock Holmes she is always THE woman. I have seldom heard him mention her under any other name. In his eyes she eclipses and predominates the whole of her sex. It was not that he felt any emotion akin to love for Irene Adler. All emotions, and that one particularly, were abhorrent to his cold, precise but admirably balanced mind. He was, I take it, the most perfect reasoning and observing machine that the world has seen, but as a lover he would have placed himself in a false position. He never spoke of the softer passions, save with a gibe and a sneer. They were admirable things for the observer--excellent for drawing the veil from men's motives and actions. But for the trained reasoner to admit such intrusions into his own delicate and finely adjusted temperament was to introduce a distracting factor which might throw a doubt upon all his mental results. Grit in a sensitive instrument, or a crack in one of his own high-power lenses, would n\""
      ]
     },
     "execution_count": 9,
     "metadata": {},
     "output_type": "execute_result"
    }
   ],
   "source": [
    "text[:1000]"
   ]
  },
  {
   "cell_type": "markdown",
   "id": "76089ace-ffdf-4f26-91ad-2e40b90266d0",
   "metadata": {},
   "source": [
    "#### pos tagging"
   ]
  },
  {
   "cell_type": "code",
   "execution_count": 10,
   "id": "ebaecc54-382c-4f30-a228-05bdddc221b4",
   "metadata": {},
   "outputs": [],
   "source": [
    "words = nltk.tokenize.word_tokenize(text)"
   ]
  },
  {
   "cell_type": "code",
   "execution_count": 11,
   "id": "206aed8e-3fe2-41d0-9e63-2d61eda065b5",
   "metadata": {},
   "outputs": [
    {
     "data": {
      "text/plain": [
       "125682"
      ]
     },
     "execution_count": 11,
     "metadata": {},
     "output_type": "execute_result"
    }
   ],
   "source": [
    "len(words)"
   ]
  },
  {
   "cell_type": "code",
   "execution_count": 17,
   "id": "e8d7509a-1274-45ad-9cb0-6f8d631c8c22",
   "metadata": {},
   "outputs": [],
   "source": [
    "words_with_pos = nltk.pos_tag(words)"
   ]
  },
  {
   "cell_type": "code",
   "execution_count": 18,
   "id": "c17a424e-ebdd-4f3a-8edf-f1e53288a1a7",
   "metadata": {},
   "outputs": [
    {
     "data": {
      "text/plain": [
       "[('ADVENTURE', 'NNP'),\n",
       " ('I', 'PRP'),\n",
       " ('.', '.'),\n",
       " ('A', 'DT'),\n",
       " ('SCANDAL', 'NNP'),\n",
       " ('IN', 'NNP'),\n",
       " ('BOHEMIA', 'NNP'),\n",
       " ('I', 'PRP'),\n",
       " ('.', '.'),\n",
       " ('To', 'TO')]"
      ]
     },
     "execution_count": 18,
     "metadata": {},
     "output_type": "execute_result"
    }
   ],
   "source": [
    "words_with_pos[:10]"
   ]
  },
  {
   "cell_type": "markdown",
   "id": "e9124232-103f-40e9-9de3-b86696dcd459",
   "metadata": {},
   "source": [
    "get only nouns"
   ]
  },
  {
   "cell_type": "code",
   "execution_count": 19,
   "id": "59223de4-ce70-4e67-b964-e3c235b3413e",
   "metadata": {},
   "outputs": [],
   "source": [
    "noun_set = [\"NN\", \"NNS\"]\n",
    "\n",
    "nouns    = [word for word in words_with_pos if word[1] in noun_set]"
   ]
  },
  {
   "cell_type": "code",
   "execution_count": 20,
   "id": "344461c2-3ad8-4ba5-90dc-683c2f1e16ce",
   "metadata": {},
   "outputs": [
    {
     "data": {
      "text/plain": [
       "17257"
      ]
     },
     "execution_count": 20,
     "metadata": {},
     "output_type": "execute_result"
    }
   ],
   "source": [
    "len(nouns)"
   ]
  },
  {
   "cell_type": "markdown",
   "id": "5b4a8c00-c403-47bf-b2dc-382d485cf2b4",
   "metadata": {},
   "source": [
    "To determine whether a noun is singular or plural, we have two options. The first option is to use the NLTK tags, where NN indicates a singular noun and NNS indicates a plural noun. "
   ]
  },
  {
   "cell_type": "code",
   "execution_count": 16,
   "id": "b658744a-eeda-43fe-8ea5-b4b02ca2dd2c",
   "metadata": {},
   "outputs": [],
   "source": [
    "def is_plural_nltk(noun_info):\n",
    "    pos = noun_info[1]\n",
    "    if (pos == \"NNS\"):\n",
    "        return True\n",
    "    else:\n",
    "        return False"
   ]
  },
  {
   "cell_type": "code",
   "execution_count": null,
   "id": "fe391b83-cda0-4503-bc0b-937010dc7ef1",
   "metadata": {},
   "outputs": [],
   "source": []
  }
 ],
 "metadata": {
  "kernelspec": {
   "display_name": "Python 3 (ipykernel)",
   "language": "python",
   "name": "python3"
  },
  "language_info": {
   "codemirror_mode": {
    "name": "ipython",
    "version": 3
   },
   "file_extension": ".py",
   "mimetype": "text/x-python",
   "name": "python",
   "nbconvert_exporter": "python",
   "pygments_lexer": "ipython3",
   "version": "3.9.13"
  }
 },
 "nbformat": 4,
 "nbformat_minor": 5
}
