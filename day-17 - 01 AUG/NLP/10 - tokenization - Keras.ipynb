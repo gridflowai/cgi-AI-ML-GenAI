{
 "cells": [
  {
   "cell_type": "markdown",
   "metadata": {},
   "source": [
    "------------------------------\n",
    "#### Text preprocessing with keras\n",
    "----------------------------\n",
    "1. Keras text_to_word_sequence.\n",
    "2. Keras hasing_trick.\n",
    "3. Encoding with one_hot in Keras.\n",
    "4. Keras Tokenizer."
   ]
  },
  {
   "cell_type": "markdown",
   "metadata": {},
   "source": [
    "#### text_to_word_sequence\n",
    "Keras provides the text_to_word_sequence() function to convert text into token of words. \n",
    "\n",
    "While preprocessing text, this may well be the very first step that can be taken before moving further.\n",
    "\n",
    "- text_to_word_sequence() splits the text based on white spaces. \n",
    "- It also filters out different punctuation marks and coverts all the characters to lower cases. \n",
    "- The default list of punctuation marks that it removes is \n",
    "- ! ” # $ % & ( ) * + , - . / : ; < = > ? @ [ \\ ] ^_ { | } ~ \\t \\n. \n",
    "- One function providing so many functionalities is really great."
   ]
  },
  {
   "cell_type": "code",
   "execution_count": 29,
   "metadata": {},
   "outputs": [],
   "source": [
    "from keras.preprocessing.text import text_to_word_sequence"
   ]
  },
  {
   "cell_type": "code",
   "execution_count": 32,
   "metadata": {},
   "outputs": [],
   "source": [
    "# define the text \n",
    "text = \"Text to Word @DXC all-good St. Xavier can't Sequence Function works really well ! @ # % ^ &\""
   ]
  },
  {
   "cell_type": "code",
   "execution_count": 35,
   "metadata": {},
   "outputs": [
    {
     "data": {
      "text/plain": [
       "['text',\n",
       " 'to',\n",
       " 'word',\n",
       " '@dxc',\n",
       " 'all-good',\n",
       " 'st.',\n",
       " 'xavier',\n",
       " \"can't\",\n",
       " 'sequence',\n",
       " 'function',\n",
       " 'works',\n",
       " 'really',\n",
       " 'well',\n",
       " '!',\n",
       " '@',\n",
       " '#',\n",
       " '%',\n",
       " '^',\n",
       " '&']"
      ]
     },
     "execution_count": 35,
     "metadata": {},
     "output_type": "execute_result"
    }
   ],
   "source": [
    "# tokenizing the text \n",
    "text_to_word_sequence(text, filters='<=>')"
   ]
  },
  {
   "cell_type": "markdown",
   "metadata": {},
   "source": [
    "#### hashing_trick\n",
    "Keras hashing_trick() function converts a text to a sequence of indexes in a fixed size hashing space.\n",
    "\n",
    "This function is useful because as we know, deep learning models do not take text inputs. So, converting the text into a list with text_to_word_sequence() is only the first step. \n",
    "\n",
    "With hashing_trick() function, we can get back a list of word indexes."
   ]
  },
  {
   "cell_type": "code",
   "execution_count": 36,
   "metadata": {},
   "outputs": [],
   "source": [
    "from keras.preprocessing.text import hashing_trick"
   ]
  },
  {
   "cell_type": "code",
   "execution_count": 37,
   "metadata": {},
   "outputs": [],
   "source": [
    "# define the text \n",
    "text = 'An example for keras hashing trick function'"
   ]
  },
  {
   "cell_type": "code",
   "execution_count": null,
   "metadata": {},
   "outputs": [
    {
     "data": {
      "text/plain": [
       "['an', 'example', 'for', 'keras', 'hashing', 'trick', 'function']"
      ]
     },
     "execution_count": 38,
     "metadata": {},
     "output_type": "execute_result"
    }
   ],
   "source": [
    "# tokenizing the text \n",
    "tokens = text_to_word_sequence(text)\n",
    "tokens"
   ]
  },
  {
   "cell_type": "code",
   "execution_count": 40,
   "metadata": {},
   "outputs": [
    {
     "name": "stdout",
     "output_type": "stream",
     "text": [
      "[6890, 3294, 4261, 1351, 7882, 5735, 8623]\n"
     ]
    }
   ],
   "source": [
    "length     = 10000      #len(tokens)\n",
    "final_text = hashing_trick(text, length)\n",
    "\n",
    "print(final_text)"
   ]
  },
  {
   "cell_type": "markdown",
   "metadata": {},
   "source": [
    "We can see that some of the words have been assigned the same index. This may be due to possible collisions by the hashing function. "
   ]
  },
  {
   "cell_type": "markdown",
   "metadata": {},
   "source": [
    "#### Encoding with one_hot in Keras\n",
    "It is very common to encode text data to integer data when working with deep learning models.\n",
    "\n",
    "The __one_hot()__ function in Keras allows us to do that with ease. \n",
    "\n",
    "The function takes takes 2 mandatory arguments as inputs. \n",
    "\n",
    "The first one is the text/file and the second one is the size of the vocabulary."
   ]
  },
  {
   "cell_type": "code",
   "execution_count": 41,
   "metadata": {},
   "outputs": [],
   "source": [
    "from keras.preprocessing.text import one_hot"
   ]
  },
  {
   "cell_type": "code",
   "execution_count": 42,
   "metadata": {},
   "outputs": [],
   "source": [
    "#define the text\n",
    "text = 'One hot encoding in Keras'"
   ]
  },
  {
   "cell_type": "code",
   "execution_count": 43,
   "metadata": {},
   "outputs": [],
   "source": [
    "#tokenize the text\n",
    "tokens = text_to_word_sequence(text)\n",
    "length = len(tokens)"
   ]
  },
  {
   "cell_type": "code",
   "execution_count": 44,
   "metadata": {},
   "outputs": [
    {
     "name": "stdout",
     "output_type": "stream",
     "text": [
      "[2, 3, 1, 3, 1]\n"
     ]
    }
   ],
   "source": [
    "one_hot = one_hot(text, length)\n",
    "print(one_hot)"
   ]
  },
  {
   "cell_type": "markdown",
   "metadata": {},
   "source": [
    "This function hashes the text using the python hash function. Also, by default it filters the text by !”#$%&()*+,-./:;<=>?@[\\]^_{|}~\\t\\n. The default filter includes basic punctuation, tabs and newlines."
   ]
  },
  {
   "cell_type": "markdown",
   "metadata": {},
   "source": [
    "#### Keras Tokenizer"
   ]
  },
  {
   "cell_type": "code",
   "execution_count": 45,
   "metadata": {},
   "outputs": [],
   "source": [
    "from keras.preprocessing.text import Tokenizer"
   ]
  },
  {
   "cell_type": "code",
   "execution_count": 51,
   "metadata": {},
   "outputs": [],
   "source": [
    "# define the text\n",
    "text = ['You are learning a lot lot', \n",
    "        'That is a good thing',\n",
    "        'This will help you a lot']"
   ]
  },
  {
   "cell_type": "code",
   "execution_count": 52,
   "metadata": {},
   "outputs": [],
   "source": [
    "# creating tokenizer\n",
    "tokenizer = Tokenizer()"
   ]
  },
  {
   "cell_type": "code",
   "execution_count": 53,
   "metadata": {},
   "outputs": [],
   "source": [
    "# fit the tokenizer on the document\n",
    "tokenizer.fit_on_texts(text)"
   ]
  },
  {
   "cell_type": "code",
   "execution_count": 54,
   "metadata": {},
   "outputs": [
    {
     "name": "stdout",
     "output_type": "stream",
     "text": [
      "OrderedDict([('you', 2), ('are', 1), ('learning', 1), ('a', 3), ('lot', 3), ('that', 1), ('is', 1), ('good', 1), ('thing', 1), ('this', 1), ('will', 1), ('help', 1)]) \n",
      "\n",
      "defaultdict(<class 'int'>, {'lot': 2, 'are': 1, 'you': 2, 'a': 3, 'learning': 1, 'is': 1, 'that': 1, 'good': 1, 'thing': 1, 'help': 1, 'this': 1, 'will': 1}) \n",
      "\n",
      "{'a': 1, 'lot': 2, 'you': 3, 'are': 4, 'learning': 5, 'that': 6, 'is': 7, 'good': 8, 'thing': 9, 'this': 10, 'will': 11, 'help': 12} \n",
      "\n",
      "3\n"
     ]
    }
   ],
   "source": [
    "# print the attributes for the text and encode the doucment\n",
    "print(tokenizer.word_counts,'\\n')\n",
    "print(tokenizer.word_docs,'\\n')\n",
    "print(tokenizer.word_index,'\\n')\n",
    "print(tokenizer.document_count)"
   ]
  },
  {
   "cell_type": "code",
   "execution_count": 58,
   "metadata": {},
   "outputs": [
    {
     "name": "stdout",
     "output_type": "stream",
     "text": [
      "[[0. 1. 2. 1. 1. 1. 0. 0. 0. 0. 0. 0. 0.]\n",
      " [0. 1. 0. 0. 0. 0. 1. 1. 1. 1. 0. 0. 0.]\n",
      " [0. 1. 1. 1. 0. 0. 0. 0. 0. 0. 1. 1. 1.]]\n"
     ]
    }
   ],
   "source": [
    "encoded_text = tokenizer.texts_to_matrix(text, mode='count')\n",
    "print(encoded_text)"
   ]
  },
  {
   "cell_type": "code",
   "execution_count": 56,
   "metadata": {},
   "outputs": [],
   "source": [
    "# define the text\n",
    "# text = ['You are learning a lot lot', \n",
    "#         'That is a good thing',\n",
    "#         'This will help you a lot']"
   ]
  },
  {
   "cell_type": "code",
   "execution_count": 19,
   "metadata": {},
   "outputs": [
    {
     "data": {
      "text/plain": [
       "[[3, 4, 5, 1, 2, 2], [6, 7, 1, 8, 9], [10, 11, 12, 3, 1, 2]]"
      ]
     },
     "execution_count": 19,
     "metadata": {},
     "output_type": "execute_result"
    }
   ],
   "source": [
    "tokenizer.texts_to_sequences(text)"
   ]
  },
  {
   "cell_type": "code",
   "execution_count": 20,
   "metadata": {},
   "outputs": [],
   "source": [
    "import tensorflow as tf\n",
    "from tensorflow import keras\n",
    "from tensorflow.keras.preprocessing.text import Tokenizer"
   ]
  },
  {
   "cell_type": "code",
   "execution_count": 21,
   "metadata": {},
   "outputs": [],
   "source": [
    "sentences = [\n",
    "'Life is so beautiful',\n",
    "'Hope keeps us going',\n",
    "'Let us celebrate life!'\n",
    "]"
   ]
  },
  {
   "cell_type": "code",
   "execution_count": 22,
   "metadata": {},
   "outputs": [],
   "source": [
    "tokenizer = Tokenizer()\n",
    "tokenizer.fit_on_texts(sentences)"
   ]
  },
  {
   "cell_type": "code",
   "execution_count": 23,
   "metadata": {},
   "outputs": [
    {
     "data": {
      "text/plain": [
       "{'life': 1,\n",
       " 'us': 2,\n",
       " 'is': 3,\n",
       " 'so': 4,\n",
       " 'beautiful': 5,\n",
       " 'hope': 6,\n",
       " 'keeps': 7,\n",
       " 'going': 8,\n",
       " 'let': 9,\n",
       " 'celebrate': 10}"
      ]
     },
     "execution_count": 23,
     "metadata": {},
     "output_type": "execute_result"
    }
   ],
   "source": [
    "tokenizer.word_index"
   ]
  },
  {
   "cell_type": "code",
   "execution_count": 24,
   "metadata": {},
   "outputs": [],
   "source": [
    "test_data = [\n",
    "'Our life is to celebrate',\n",
    "'Hoping for the best!',\n",
    "'Let peace prevail everywhere'\n",
    "]"
   ]
  },
  {
   "cell_type": "code",
   "execution_count": 25,
   "metadata": {},
   "outputs": [
    {
     "data": {
      "text/plain": [
       "[[1, 3, 4, 5], [6, 7, 2, 8], [9, 2, 10, 1]]"
      ]
     },
     "execution_count": 25,
     "metadata": {},
     "output_type": "execute_result"
    }
   ],
   "source": [
    "sequences = tokenizer.texts_to_sequences(sentences)\n",
    "sequences"
   ]
  },
  {
   "cell_type": "code",
   "execution_count": 26,
   "metadata": {},
   "outputs": [],
   "source": [
    "from tensorflow.keras.preprocessing.sequence import pad_sequences"
   ]
  },
  {
   "cell_type": "code",
   "execution_count": 28,
   "metadata": {},
   "outputs": [
    {
     "name": "stdout",
     "output_type": "stream",
     "text": [
      "\n",
      "Padded Sequences:\n",
      "[[ 0  0  0  0  0  0  0  0  0  0  0  1  3  4  5]\n",
      " [ 0  0  0  0  0  0  0  0  0  0  0  6  7  2  8]\n",
      " [ 0  0  0  0  0  0  0  0  0  0  0  9  2 10  1]]\n"
     ]
    }
   ],
   "source": [
    "padded = pad_sequences(sequences,maxlen=15)\n",
    "print(\"\\nPadded Sequences:\")\n",
    "print(padded)"
   ]
  },
  {
   "cell_type": "code",
   "execution_count": null,
   "metadata": {},
   "outputs": [],
   "source": []
  }
 ],
 "metadata": {
  "kernelspec": {
   "display_name": "Python 3 (ipykernel)",
   "language": "python",
   "name": "python3"
  },
  "language_info": {
   "codemirror_mode": {
    "name": "ipython",
    "version": 3
   },
   "file_extension": ".py",
   "mimetype": "text/x-python",
   "name": "python",
   "nbconvert_exporter": "python",
   "pygments_lexer": "ipython3",
   "version": "3.9.13"
  }
 },
 "nbformat": 4,
 "nbformat_minor": 4
}
