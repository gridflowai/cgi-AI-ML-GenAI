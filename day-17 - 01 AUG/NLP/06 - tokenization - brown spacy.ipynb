{
 "cells": [
  {
   "cell_type": "markdown",
   "id": "6758521c-24ea-485c-bf62-8cf2f95d2708",
   "metadata": {},
   "source": [
    "--------------------\n",
    "#### perform text analysis \n",
    "- on the Brown Corpus using spaCy\n",
    "----------------------------------"
   ]
  },
  {
   "cell_type": "code",
   "execution_count": 1,
   "id": "95eac011-a70e-4114-a291-9665616460f4",
   "metadata": {},
   "outputs": [],
   "source": [
    "import spacy\n",
    "from collections import Counter\n",
    "import matplotlib.pyplot as plt\n",
    "from nltk.corpus import brown"
   ]
  },
  {
   "cell_type": "code",
   "execution_count": 14,
   "id": "f138287b-57e1-4bdb-be75-a5edc9924986",
   "metadata": {},
   "outputs": [],
   "source": [
    "# Load spaCy English language model\n",
    "nlp = spacy.load(\"en_core_web_sm\")\n"
   ]
  },
  {
   "cell_type": "code",
   "execution_count": 15,
   "id": "b5dd381f-75e0-40ef-85e8-5f2e05c94825",
   "metadata": {},
   "outputs": [],
   "source": [
    "# Load the Brown Corpus by document\n",
    "brown_documents = brown.sents(categories=brown.categories())"
   ]
  },
  {
   "cell_type": "code",
   "execution_count": 16,
   "id": "f8268147-6880-42f8-b596-da9e8616993f",
   "metadata": {},
   "outputs": [
    {
     "data": {
      "text/plain": [
       "57340"
      ]
     },
     "execution_count": 16,
     "metadata": {},
     "output_type": "execute_result"
    }
   ],
   "source": [
    "len(brown_documents)"
   ]
  },
  {
   "cell_type": "code",
   "execution_count": 18,
   "id": "06b7cafe-1393-44ed-9be7-f7469938e1f6",
   "metadata": {},
   "outputs": [],
   "source": [
    "# Tokenize each document using spaCy\n",
    "all_tokens = []\n",
    "for doc in brown_documents[:1000]:\n",
    "    text = ' '.join(doc)\n",
    "    doc_tokens = nlp(text)\n",
    "    all_tokens.extend(doc_tokens)"
   ]
  },
  {
   "cell_type": "code",
   "execution_count": 19,
   "id": "baabac24-5ae0-44eb-9c6f-1c2c7ad8e1d1",
   "metadata": {},
   "outputs": [
    {
     "data": {
      "text/plain": [
       "22784"
      ]
     },
     "execution_count": 19,
     "metadata": {},
     "output_type": "execute_result"
    }
   ],
   "source": [
    "# Total number of words\n",
    "total_words = len(all_tokens)\n",
    "total_words"
   ]
  },
  {
   "cell_type": "code",
   "execution_count": 21,
   "id": "2268e50f-4651-45c4-9fbf-6bdbbf532e92",
   "metadata": {},
   "outputs": [
    {
     "data": {
      "text/plain": [
       "4481"
      ]
     },
     "execution_count": 21,
     "metadata": {},
     "output_type": "execute_result"
    }
   ],
   "source": [
    "# Total number of unique words\n",
    "unique_words = set(token.text for token in all_tokens)\n",
    "len(unique_words)"
   ]
  },
  {
   "cell_type": "code",
   "execution_count": 22,
   "id": "53d1f132-c789-45c3-b228-91e8899a4984",
   "metadata": {},
   "outputs": [
    {
     "data": {
      "image/png": "[encoded data removed]",
      "text/plain": [
       "<Figure size 640x480 with 1 Axes>"
      ]
     },
     "metadata": {},
     "output_type": "display_data"
    }
   ],
   "source": [
    "# Histogram of word length\n",
    "word_lengths = [len(token.text) for token in all_tokens]\n",
    "plt.hist(word_lengths, bins=range(1, max(word_lengths) + 1), alpha=0.7)\n",
    "plt.xlabel('Word Length')\n",
    "plt.ylabel('Frequency')\n",
    "plt.title('Histogram of Word Length')\n",
    "plt.grid(True)\n",
    "plt.show()"
   ]
  },
  {
   "cell_type": "code",
   "execution_count": 23,
   "id": "05d40d78-8e03-44f7-93d6-80f759892f95",
   "metadata": {},
   "outputs": [
    {
     "name": "stdout",
     "output_type": "stream",
     "text": [
      "Top 50 frequent words:\n",
      "the: 1569\n",
      "of: 676\n",
      "to: 550\n",
      "a: 442\n",
      "in: 441\n",
      "and: 378\n",
      "for: 268\n",
      "that: 211\n",
      "he: 177\n",
      "is: 171\n",
      "on: 165\n",
      "said: 164\n",
      "be: 153\n",
      "by: 144\n",
      "was: 139\n",
      "would: 133\n",
      "it: 121\n",
      "as: 114\n",
      "with: 102\n",
      "has: 100\n",
      "will: 97\n",
      "his: 89\n",
      "state: 86\n",
      "at: 84\n",
      "an: 81\n",
      "not: 81\n",
      "this: 75\n",
      "been: 66\n",
      "which: 65\n",
      "from: 65\n",
      "who: 61\n",
      "city: 58\n",
      "are: 58\n",
      "have: 58\n",
      "but: 57\n",
      "year: 57\n",
      "president: 54\n",
      "administration: 52\n",
      "more: 52\n",
      "one: 49\n",
      "new: 48\n",
      "they: 46\n",
      "had: 45\n",
      "or: 45\n",
      "there: 45\n",
      "some: 43\n",
      "its: 40\n",
      "last: 40\n",
      "committee: 39\n",
      "bill: 39\n"
     ]
    }
   ],
   "source": [
    "# Display top-50 frequent words\n",
    "word_freq = Counter(token.text.lower() for token in all_tokens if token.is_alpha)\n",
    "top_50_freq = word_freq.most_common(50)\n",
    "print(\"Top 50 frequent words:\")\n",
    "for word, freq in top_50_freq:\n",
    "    print(f\"{word}: {freq}\")"
   ]
  },
  {
   "cell_type": "code",
   "execution_count": 24,
   "id": "9bad8cb9-0630-4208-9728-0590ddcd9f02",
   "metadata": {},
   "outputs": [
    {
     "name": "stdout",
     "output_type": "stream",
     "text": [
      "\n",
      "Bottom 50 least frequent words:\n",
      "illinois: 1\n",
      "light: 1\n",
      "immigrant: 1\n",
      "born: 1\n",
      "babies: 1\n",
      "upwards: 1\n",
      "talking: 1\n",
      "loses: 1\n",
      "contact: 1\n",
      "surveys: 1\n",
      "stressed: 1\n",
      "missions: 1\n",
      "opening: 1\n",
      "forthcoming: 1\n",
      "nominating: 1\n",
      "springfield: 1\n",
      "consecutive: 1\n",
      "reelected: 1\n",
      "super: 1\n",
      "exaltation: 1\n",
      "resurrection: 1\n",
      "bodily: 1\n",
      "substitutionary: 1\n",
      "miracles: 1\n",
      "sinless: 1\n",
      "jesus: 1\n",
      "lord: 1\n",
      "diety: 1\n",
      "conduct: 1\n",
      "authoritative: 1\n",
      "infallible: 1\n",
      "revelation: 1\n",
      "inspired: 1\n",
      "verbally: 1\n",
      "testament: 1\n",
      "scriptures: 1\n",
      "reads: 1\n",
      "clarification: 1\n",
      "editing: 1\n",
      "truths: 1\n",
      "compromise: 1\n",
      "fundamentalism: 1\n",
      "bulwark: 1\n",
      "dependence: 1\n",
      "trends: 1\n",
      "strengthen: 1\n",
      "coliseum: 1\n",
      "grasp: 1\n",
      "stronger: 1\n",
      "heitschmidt: 1\n"
     ]
    }
   ],
   "source": [
    "# Display bottom-50 least frequent words\n",
    "bottom_50_freq = word_freq.most_common()[-50:][::-1]\n",
    "print(\"\\nBottom 50 least frequent words:\")\n",
    "for word, freq in bottom_50_freq:\n",
    "    print(f\"{word}: {freq}\")"
   ]
  },
  {
   "cell_type": "code",
   "execution_count": null,
   "id": "95ec8571-4d92-4d38-b5ad-70313cce339c",
   "metadata": {},
   "outputs": [],
   "source": []
  }
 ],
 "metadata": {
  "kernelspec": {
   "display_name": "Python 3 (ipykernel)",
   "language": "python",
   "name": "python3"
  },
  "language_info": {
   "codemirror_mode": {
    "name": "ipython",
    "version": 3
   },
   "file_extension": ".py",
   "mimetype": "text/x-python",
   "name": "python",
   "nbconvert_exporter": "python",
   "pygments_lexer": "ipython3",
   "version": "3.9.13"
  }
 },
 "nbformat": 4,
 "nbformat_minor": 5
}
