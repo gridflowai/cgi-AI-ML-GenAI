{
 "cells": [
  {
   "cell_type": "code",
   "execution_count": 1,
   "id": "55a6d27c-aa91-4da9-8fd8-e3b884a88d39",
   "metadata": {},
   "outputs": [
    {
     "name": "stderr",
     "output_type": "stream",
     "text": [
      "D:\\Anaconda-16-FEB\\lib\\site-packages\\pandas\\core\\computation\\expressions.py:21: UserWarning: Pandas requires version '2.8.4' or newer of 'numexpr' (version '2.8.3' currently installed).\n",
      "  from pandas.core.computation.check import NUMEXPR_INSTALLED\n",
      "D:\\Anaconda-16-FEB\\lib\\site-packages\\pandas\\core\\arrays\\masked.py:60: UserWarning: Pandas requires version '1.3.6' or newer of 'bottleneck' (version '1.3.5' currently installed).\n",
      "  from pandas.core import (\n"
     ]
    }
   ],
   "source": [
    "import keras\n",
    "from keras.models import Sequential\n",
    "from keras.layers import Dense\n",
    "from keras.optimizers import Adam\n",
    "from keras.callbacks import LearningRateScheduler\n",
    "import numpy as np"
   ]
  },
  {
   "cell_type": "code",
   "execution_count": 2,
   "id": "b171735e-cebb-4791-8a2c-805b4b4a0f0c",
   "metadata": {},
   "outputs": [],
   "source": [
    "# Define the learning rate warm-up function\n",
    "def warmup_schedule(epoch, initial_lr=0.0001, target_lr=0.01, warmup_epochs=5):\n",
    "    if epoch < warmup_epochs:\n",
    "        # Linearly increase the learning rate\n",
    "        lr = initial_lr + (target_lr - initial_lr) * (epoch / warmup_epochs)\n",
    "    else:\n",
    "        # After warm-up, return the target learning rate or use another scheduling strategy\n",
    "        lr = target_lr\n",
    "    return lr"
   ]
  },
  {
   "cell_type": "code",
   "execution_count": 3,
   "id": "552f8d4e-45e4-421f-aceb-27754c617ed3",
   "metadata": {},
   "outputs": [],
   "source": [
    "# Create a simple model\n",
    "model = Sequential([\n",
    "    Dense(64, activation='relu', input_shape=(784,)),\n",
    "    Dense(64, activation='relu'),\n",
    "    Dense(10, activation='softmax')\n",
    "])"
   ]
  },
  {
   "cell_type": "code",
   "execution_count": 4,
   "id": "f0e74aac-2877-430c-84b6-b8e07dc6244d",
   "metadata": {},
   "outputs": [],
   "source": [
    "# Compile the model\n",
    "model.compile(optimizer=Adam(), loss='categorical_crossentropy', metrics=['accuracy'])"
   ]
  },
  {
   "cell_type": "code",
   "execution_count": 5,
   "id": "37fc6e11-ce08-44e3-b821-ed4281ad32d0",
   "metadata": {},
   "outputs": [],
   "source": [
    "# Generate dummy data\n",
    "X_train = np.random.rand(60000, 784)\n",
    "y_train = keras.utils.to_categorical(np.random.randint(10, size=(60000, 1)), num_classes=10)\n",
    "X_val = np.random.rand(10000, 784)\n",
    "y_val = keras.utils.to_categorical(np.random.randint(10, size=(10000, 1)), num_classes=10)"
   ]
  },
  {
   "cell_type": "code",
   "execution_count": 6,
   "id": "33d778d8-5083-4619-91b3-3130e9f0ae3b",
   "metadata": {},
   "outputs": [],
   "source": [
    "# Set up the learning rate scheduler callback\n",
    "lr_scheduler = LearningRateScheduler(lambda epoch: warmup_schedule(epoch, initial_lr=0.0001, target_lr=0.01, warmup_epochs=5))"
   ]
  },
  {
   "cell_type": "code",
   "execution_count": null,
   "id": "dd6b1151-0645-4919-9e75-284286a8249b",
   "metadata": {},
   "outputs": [],
   "source": [
    "# Train the model with the learning rate scheduler\n",
    "model.fit(X_train, y_train, epochs=5, validation_data=(X_val, y_val), callbacks=[lr_scheduler])"
   ]
  },
  {
   "cell_type": "code",
   "execution_count": null,
   "id": "18844ef3-cc37-4726-881d-8204a5af641c",
   "metadata": {},
   "outputs": [],
   "source": []
  },
  {
   "cell_type": "code",
   "execution_count": null,
   "id": "7c5f12a5-16b5-4b6c-a772-1a3c64f2b4d2",
   "metadata": {},
   "outputs": [],
   "source": []
  }
 ],
 "metadata": {
  "kernelspec": {
   "display_name": "Python 3 (ipykernel)",
   "language": "python",
   "name": "python3"
  },
  "language_info": {
   "codemirror_mode": {
    "name": "ipython",
    "version": 3
   },
   "file_extension": ".py",
   "mimetype": "text/x-python",
   "name": "python",
   "nbconvert_exporter": "python",
   "pygments_lexer": "ipython3",
   "version": "3.9.13"
  }
 },
 "nbformat": 4,
 "nbformat_minor": 5
}
