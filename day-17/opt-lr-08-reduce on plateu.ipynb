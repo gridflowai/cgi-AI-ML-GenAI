{
 "cells": [
  {
   "cell_type": "code",
   "execution_count": 1,
   "id": "ba6d027b-52b0-4bd8-be1c-1d9e491694ef",
   "metadata": {},
   "outputs": [
    {
     "name": "stderr",
     "output_type": "stream",
     "text": [
      "D:\\Anaconda-16-FEB\\lib\\site-packages\\pandas\\core\\computation\\expressions.py:21: UserWarning: Pandas requires version '2.8.4' or newer of 'numexpr' (version '2.8.3' currently installed).\n",
      "  from pandas.core.computation.check import NUMEXPR_INSTALLED\n",
      "D:\\Anaconda-16-FEB\\lib\\site-packages\\pandas\\core\\arrays\\masked.py:60: UserWarning: Pandas requires version '1.3.6' or newer of 'bottleneck' (version '1.3.5' currently installed).\n",
      "  from pandas.core import (\n"
     ]
    }
   ],
   "source": [
    "import keras\n",
    "from keras.models import Sequential\n",
    "from keras.layers import Dense\n",
    "from keras.optimizers import Adam\n",
    "\n",
    "from keras.callbacks import ReduceLROnPlateau\n",
    "\n",
    "import numpy as np"
   ]
  },
  {
   "cell_type": "code",
   "execution_count": 2,
   "id": "aae239cf-7563-41da-be56-c27d063458e4",
   "metadata": {},
   "outputs": [],
   "source": [
    "# Create a simple model\n",
    "model = Sequential([\n",
    "    Dense(64, activation='relu', input_shape=(784,)),\n",
    "    Dense(64, activation='relu'),\n",
    "    Dense(10, activation='softmax')\n",
    "])"
   ]
  },
  {
   "cell_type": "code",
   "execution_count": 3,
   "id": "aa1d16a9-9d41-427f-aabc-0b616d009a34",
   "metadata": {},
   "outputs": [],
   "source": [
    "# Compile the model\n",
    "model.compile(optimizer=Adam(), \n",
    "              loss='categorical_crossentropy', \n",
    "              metrics=['accuracy'])"
   ]
  },
  {
   "cell_type": "code",
   "execution_count": 4,
   "id": "e40e8b83-8320-4ec3-b082-66f9ef19bb05",
   "metadata": {},
   "outputs": [],
   "source": [
    "# Generate dummy data\n",
    "X_train = np.random.rand(60000, 784)\n",
    "y_train = keras.utils.to_categorical(np.random.randint(10, size=(60000, 1)), num_classes=10)\n",
    "X_val = np.random.rand(10000, 784)\n",
    "y_val = keras.utils.to_categorical(np.random.randint(10, size=(10000, 1)), num_classes=10)"
   ]
  },
  {
   "cell_type": "code",
   "execution_count": 5,
   "id": "83b4dbe9-c3b5-4784-bff4-aade08ded7ae",
   "metadata": {},
   "outputs": [],
   "source": [
    "# Set up the ReduceLROnPlateau callback\n",
    "reduce_lr = ReduceLROnPlateau(\n",
    "    monitor='val_loss',    # Metric to monitor\n",
    "    factor=0.2,            # Factor by which the learning rate will be reduced\n",
    "    patience=5,            # Number of epochs with no improvement after which learning rate will be reduced\n",
    "    min_lr=0.001           # Minimum learning rate\n",
    ")"
   ]
  },
  {
   "cell_type": "code",
   "execution_count": null,
   "id": "d5c276a0-a0cd-4f8a-b4c6-63f216a2f187",
   "metadata": {},
   "outputs": [],
   "source": [
    "# Train the model with the ReduceLROnPlateau callback\n",
    "model.fit(\n",
    "    X_train, y_train,\n",
    "    epochs=50,\n",
    "    validation_data=(X_val, y_val),\n",
    "    callbacks=[reduce_lr]\n",
    ")"
   ]
  },
  {
   "cell_type": "code",
   "execution_count": 6,
   "id": "1e9d228c-5394-4cf3-b7fc-248ddc477884",
   "metadata": {},
   "outputs": [],
   "source": [
    "from keras.callbacks import ReduceLROnPlateau, EarlyStopping"
   ]
  },
  {
   "cell_type": "code",
   "execution_count": 7,
   "id": "9a2efe77-bde1-446a-b9af-fb7d265327ea",
   "metadata": {},
   "outputs": [],
   "source": [
    "# Create a simple model\n",
    "model = Sequential([\n",
    "    Dense(64, activation='relu', input_shape=(784,)),\n",
    "    Dense(64, activation='relu'),\n",
    "    Dense(10, activation='softmax')\n",
    "])"
   ]
  },
  {
   "cell_type": "code",
   "execution_count": 8,
   "id": "7a0719b1-e654-4bc3-9eb1-2d5f659abbdb",
   "metadata": {},
   "outputs": [],
   "source": [
    "\n",
    "# Compile the model\n",
    "model.compile(optimizer=Adam(), loss='categorical_crossentropy', metrics=['accuracy'])"
   ]
  },
  {
   "cell_type": "code",
   "execution_count": 9,
   "id": "e50b58a1-c6ea-417d-8502-3fe4e4a444f7",
   "metadata": {},
   "outputs": [],
   "source": [
    "# Generate dummy data\n",
    "X_train = np.random.rand(60000, 784)\n",
    "y_train = keras.utils.to_categorical(np.random.randint(10, size=(60000, 1)), num_classes=10)\n",
    "X_val = np.random.rand(10000, 784)\n",
    "y_val = keras.utils.to_categorical(np.random.randint(10, size=(10000, 1)), num_classes=10)"
   ]
  },
  {
   "cell_type": "code",
   "execution_count": 10,
   "id": "82ed2c86-893b-4406-9d7a-7809bba434b0",
   "metadata": {},
   "outputs": [],
   "source": [
    "# Set up the ReduceLROnPlateau callback\n",
    "reduce_lr = ReduceLROnPlateau(\n",
    "    monitor='val_loss',\n",
    "    factor=0.5,            # Reduce learning rate by half\n",
    "    patience=3,           # Wait for 3 epochs without improvement before reducing LR\n",
    "    min_lr=0.0001         # Minimum learning rate to prevent too small values\n",
    ")\n",
    "\n",
    "# Set up the EarlyStopping callback\n",
    "early_stopping = EarlyStopping(\n",
    "    monitor='val_loss',\n",
    "    patience=10,          # Wait for 10 epochs without improvement before stopping\n",
    "    restore_best_weights=True  # Restore the best weights when stopping\n",
    ")"
   ]
  },
  {
   "cell_type": "code",
   "execution_count": null,
   "id": "6828da1f-f6f2-4b6e-8029-02646e6c8a32",
   "metadata": {},
   "outputs": [],
   "source": [
    "# Train the model with both callbacks\n",
    "model.fit(\n",
    "    X_train, y_train,\n",
    "    epochs=50,\n",
    "    validation_data=(X_val, y_val),\n",
    "    callbacks=[reduce_lr, early_stopping]\n",
    ")"
   ]
  },
  {
   "cell_type": "code",
   "execution_count": null,
   "id": "797571de-fe39-4799-bb0c-f98b76992ea3",
   "metadata": {},
   "outputs": [],
   "source": []
  },
  {
   "cell_type": "code",
   "execution_count": null,
   "id": "0363430e-6937-4d11-9076-ab82c925b57a",
   "metadata": {},
   "outputs": [],
   "source": []
  }
 ],
 "metadata": {
  "kernelspec": {
   "display_name": "Python 3 (ipykernel)",
   "language": "python",
   "name": "python3"
  },
  "language_info": {
   "codemirror_mode": {
    "name": "ipython",
    "version": 3
   },
   "file_extension": ".py",
   "mimetype": "text/x-python",
   "name": "python",
   "nbconvert_exporter": "python",
   "pygments_lexer": "ipython3",
   "version": "3.9.13"
  }
 },
 "nbformat": 4,
 "nbformat_minor": 5
}
